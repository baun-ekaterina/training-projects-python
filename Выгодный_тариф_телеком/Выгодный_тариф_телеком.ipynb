{
 "cells": [
  {
   "cell_type": "markdown",
   "metadata": {},
   "source": [
    "# Определение перспективного тарифа для телеком-компании"
   ]
  },
  {
   "cell_type": "markdown",
   "metadata": {
    "toc": true
   },
   "source": [
    "<h1>Содержание<span class=\"tocSkip\"></span></h1>\n",
    "<div class=\"toc\"><ul class=\"toc-item\"><li><span><a href=\"#Изучение-данных,-предобработка\" data-toc-modified-id=\"Изучение-данных,-предобработка-1\"><span class=\"toc-item-num\">1&nbsp;&nbsp;</span>Изучение данных, предобработка</a></span><ul class=\"toc-item\"><li><span><a href=\"#Данные-о-пользователях\" data-toc-modified-id=\"Данные-о-пользователях-1.1\"><span class=\"toc-item-num\">1.1&nbsp;&nbsp;</span>Данные о пользователях</a></span></li><li><span><a href=\"#Данные-о-звонках-пользователей\" data-toc-modified-id=\"Данные-о-звонках-пользователей-1.2\"><span class=\"toc-item-num\">1.2&nbsp;&nbsp;</span>Данные о звонках пользователей</a></span></li><li><span><a href=\"#Данные-о-сообщениях-пользователей\" data-toc-modified-id=\"Данные-о-сообщениях-пользователей-1.3\"><span class=\"toc-item-num\">1.3&nbsp;&nbsp;</span>Данные о сообщениях пользователей</a></span></li><li><span><a href=\"#Данные-об-интернет-сессиях-пользователей\" data-toc-modified-id=\"Данные-об-интернет-сессиях-пользователей-1.4\"><span class=\"toc-item-num\">1.4&nbsp;&nbsp;</span>Данные об интернет-сессиях пользователей</a></span></li><li><span><a href=\"#Информация-о-применяемых-тарифах\" data-toc-modified-id=\"Информация-о-применяемых-тарифах-1.5\"><span class=\"toc-item-num\">1.5&nbsp;&nbsp;</span>Информация о применяемых тарифах</a></span></li><li><span><a href=\"#Вывод-по-блоку-&quot;Изучение-данных,-предобработка&quot;\" data-toc-modified-id=\"Вывод-по-блоку-&quot;Изучение-данных,-предобработка&quot;-1.6\"><span class=\"toc-item-num\">1.6&nbsp;&nbsp;</span>Вывод по блоку \"Изучение данных, предобработка\"</a></span></li></ul></li><li><span><a href=\"#Проверка-данных-на-наличие-ошибок-и-аномалий\" data-toc-modified-id=\"Проверка-данных-на-наличие-ошибок-и-аномалий-2\"><span class=\"toc-item-num\">2&nbsp;&nbsp;</span>Проверка данных на наличие ошибок и аномалий</a></span><ul class=\"toc-item\"><li><span><a href=\"#Проверка-числовых-данных\" data-toc-modified-id=\"Проверка-числовых-данных-2.1\"><span class=\"toc-item-num\">2.1&nbsp;&nbsp;</span>Проверка числовых данных</a></span></li><li><span><a href=\"#Проверка-дат\" data-toc-modified-id=\"Проверка-дат-2.2\"><span class=\"toc-item-num\">2.2&nbsp;&nbsp;</span>Проверка дат</a></span></li><li><span><a href=\"#Вывод-по-блоку-&quot;Проверка-данных-на-наличие-ошибок-и-аномалий&quot;\" data-toc-modified-id=\"Вывод-по-блоку-&quot;Проверка-данных-на-наличие-ошибок-и-аномалий&quot;-2.3\"><span class=\"toc-item-num\">2.3&nbsp;&nbsp;</span>Вывод по блоку \"Проверка данных на наличие ошибок и аномалий\"</a></span></li></ul></li><li><span><a href=\"#Формирование-итоговой-таблицы,-расчет-выручки\" data-toc-modified-id=\"Формирование-итоговой-таблицы,-расчет-выручки-3\"><span class=\"toc-item-num\">3&nbsp;&nbsp;</span>Формирование итоговой таблицы, расчет выручки</a></span><ul class=\"toc-item\"><li><span><a href=\"#Использование-услуг-каждым-пользователем-по-месяцам\" data-toc-modified-id=\"Использование-услуг-каждым-пользователем-по-месяцам-3.1\"><span class=\"toc-item-num\">3.1&nbsp;&nbsp;</span>Использование услуг каждым пользователем по месяцам</a></span></li><li><span><a href=\"#Формирование-итоговой-таблицы\" data-toc-modified-id=\"Формирование-итоговой-таблицы-3.2\"><span class=\"toc-item-num\">3.2&nbsp;&nbsp;</span>Формирование итоговой таблицы</a></span></li><li><span><a href=\"#Расчет-выручки-по-каждому-пользователю-по-месяцам\" data-toc-modified-id=\"Расчет-выручки-по-каждому-пользователю-по-месяцам-3.3\"><span class=\"toc-item-num\">3.3&nbsp;&nbsp;</span>Расчет выручки по каждому пользователю по месяцам</a></span></li><li><span><a href=\"#Вывод-по-блоку-&quot;Формирование-итоговой-таблицы,-расчет-выручки&quot;\" data-toc-modified-id=\"Вывод-по-блоку-&quot;Формирование-итоговой-таблицы,-расчет-выручки&quot;-3.4\"><span class=\"toc-item-num\">3.4&nbsp;&nbsp;</span>Вывод по блоку \"Формирование итоговой таблицы, расчет выручки\"</a></span></li></ul></li><li><span><a href=\"#Исследовательский-анализ-данных\" data-toc-modified-id=\"Исследовательский-анализ-данных-4\"><span class=\"toc-item-num\">4&nbsp;&nbsp;</span>Исследовательский анализ данных</a></span><ul class=\"toc-item\"><li><span><a href=\"#Динамика-длительности-звонков-(расхода-минут)\" data-toc-modified-id=\"Динамика-длительности-звонков-(расхода-минут)-4.1\"><span class=\"toc-item-num\">4.1&nbsp;&nbsp;</span>Динамика длительности звонков (расхода минут)</a></span></li><li><span><a href=\"#Динамика-количества-отправленных-сообщений\" data-toc-modified-id=\"Динамика-количества-отправленных-сообщений-4.2\"><span class=\"toc-item-num\">4.2&nbsp;&nbsp;</span>Динамика количества отправленных сообщений</a></span></li><li><span><a href=\"#Динамика-объема-израсходованного-интернет-трафика\" data-toc-modified-id=\"Динамика-объема-израсходованного-интернет-трафика-4.3\"><span class=\"toc-item-num\">4.3&nbsp;&nbsp;</span>Динамика объема израсходованного интернет-трафика</a></span></li><li><span><a href=\"#Динамика-полученных-доходов-от-использования-тарифов\" data-toc-modified-id=\"Динамика-полученных-доходов-от-использования-тарифов-4.4\"><span class=\"toc-item-num\">4.4&nbsp;&nbsp;</span>Динамика полученных доходов от использования тарифов</a></span></li><li><span><a href=\"#Вывод-по-блоку-&quot;Исследовательский-анализ-данных&quot;\" data-toc-modified-id=\"Вывод-по-блоку-&quot;Исследовательский-анализ-данных&quot;-4.5\"><span class=\"toc-item-num\">4.5&nbsp;&nbsp;</span>Вывод по блоку \"Исследовательский анализ данных\"</a></span></li></ul></li><li><span><a href=\"#Проверка-гипотез\" data-toc-modified-id=\"Проверка-гипотез-5\"><span class=\"toc-item-num\">5&nbsp;&nbsp;</span>Проверка гипотез</a></span><ul class=\"toc-item\"><li><span><a href=\"#Сравнение-средней-выручки-от-пользователей-тарифов-Smart-и-Ultra\" data-toc-modified-id=\"Сравнение-средней-выручки-от-пользователей-тарифов-Smart-и-Ultra-5.1\"><span class=\"toc-item-num\">5.1&nbsp;&nbsp;</span>Сравнение средней выручки от пользователей тарифов Smart и Ultra</a></span></li><li><span><a href=\"#Сравнение-средней-выручки-от-пользователей-из-Москвы-с-выручкой-от-пользователей-других-регионов\" data-toc-modified-id=\"Сравнение-средней-выручки-от-пользователей-из-Москвы-с-выручкой-от-пользователей-других-регионов-5.2\"><span class=\"toc-item-num\">5.2&nbsp;&nbsp;</span>Сравнение средней выручки от пользователей из Москвы с выручкой от пользователей других регионов</a></span></li><li><span><a href=\"#Вывод-по-блоку-&quot;Проверка-гипотез&quot;\" data-toc-modified-id=\"Вывод-по-блоку-&quot;Проверка-гипотез&quot;-5.3\"><span class=\"toc-item-num\">5.3&nbsp;&nbsp;</span>Вывод по блоку \"Проверка гипотез\"</a></span></li></ul></li><li><span><a href=\"#Общий-вывод\" data-toc-modified-id=\"Общий-вывод-6\"><span class=\"toc-item-num\">6&nbsp;&nbsp;</span>Общий вывод</a></span></li></ul></div>"
   ]
  },
  {
   "cell_type": "markdown",
   "metadata": {},
   "source": [
    "## Изучение данных, предобработка"
   ]
  },
  {
   "cell_type": "code",
   "execution_count": 1,
   "metadata": {},
   "outputs": [],
   "source": [
    "# импорт библиотек\n",
    "import pandas as pd\n",
    "import numpy as np\n",
    "import matplotlib.pyplot as plt\n",
    "import seaborn as sns\n",
    "from datetime import date, timedelta\n",
    "from scipy import stats as st\n",
    "\n",
    "# убрать предупреждения Pandas\n",
    "import warnings\n",
    "warnings.filterwarnings('ignore')\n",
    "\n",
    "# выводить на экран все столбцы таблиц\n",
    "pd.set_option('display.max_columns', None)"
   ]
  },
  {
   "cell_type": "code",
   "execution_count": 2,
   "metadata": {},
   "outputs": [],
   "source": [
    "# загрузка датасетов (полный путь не приводится, т.к. датасеты не размещены в открытом доступе)\n",
    "df_users = pd.read_csv(path1)\n",
    "df_calls = pd.read_csv(path2)\n",
    "df_messages = pd.read_csv(path3)\n",
    "df_internet = pd.read_csv(path4)\n",
    "df_tariffs = pd.read_csv(path5)"
   ]
  },
  {
   "cell_type": "markdown",
   "metadata": {},
   "source": [
    "Каждый из пяти предложенных датасетов будем изучать по одному сценарию:\n",
    "1. получение фрагмента данных из таблицы\n",
    "2. получение общей информации о таблице, типах данных в столбцах, поиск пропусков\n",
    "3. получение имен столбцов для проверки на соответствие \"змеиному_регистру\"\n",
    "4. подсчет количества полных дубликатов строк\n",
    "5. описание полученных результатов, дополнительные расчеты при необходимости\n",
    "5. устранение пропусков при необходимости\n",
    "6. изменение типов данных при необходимости"
   ]
  },
  {
   "cell_type": "markdown",
   "metadata": {},
   "source": [
    "Создадим функцию для вывода общей информации о таблице:"
   ]
  },
  {
   "cell_type": "code",
   "execution_count": 3,
   "metadata": {},
   "outputs": [],
   "source": [
    "def dataset_info(dataset_name):\n",
    "    print('Фрагмент таблицы')\n",
    "    display(dataset_name.head()) # получение первых 5 строк таблицы\n",
    "    print('')\n",
    "    print('Общая информация о таблице:')\n",
    "    print(dataset_name.info()) # вывод общей информации о таблице\n",
    "    print('')\n",
    "    print('Наименования колонок таблицы:')\n",
    "    print(dataset_name.columns) # вывод наименований колонок\n",
    "    print('')\n",
    "    print(f'Количество дубликатов строк: {dataset_name.duplicated().sum()}')"
   ]
  },
  {
   "cell_type": "markdown",
   "metadata": {},
   "source": [
    "Дополнительно создадим функцию для изменения типа данных в колонке на datetime:"
   ]
  },
  {
   "cell_type": "code",
   "execution_count": 4,
   "metadata": {},
   "outputs": [],
   "source": [
    "def change_type_to_date(df, column):\n",
    "    df[column] = pd.to_datetime(df[column], format='%Y-%m-%d')    "
   ]
  },
  {
   "cell_type": "markdown",
   "metadata": {},
   "source": [
    "Приступим к изучению данных:"
   ]
  },
  {
   "cell_type": "markdown",
   "metadata": {},
   "source": [
    "### Данные о пользователях"
   ]
  },
  {
   "cell_type": "markdown",
   "metadata": {},
   "source": [
    "Документация к данным в таблице \"users\":\n",
    "* `user_id` — уникальный идентификатор пользователя\n",
    "* `first_name` — имя пользователя\n",
    "* `last_name` — фамилия пользователя\n",
    "* `age` — возраст пользователя (годы)\n",
    "* `reg_date` — дата подключения тарифа (день, месяц, год)\n",
    "* `churn_date` — дата прекращения пользования тарифом (если значение пропущено, то тариф ещё действовал на момент выгрузки данных)\n",
    "* `city` — город проживания пользователя\n",
    "* `tarif` — название тарифного плана"
   ]
  },
  {
   "cell_type": "code",
   "execution_count": 5,
   "metadata": {},
   "outputs": [
    {
     "name": "stdout",
     "output_type": "stream",
     "text": [
      "Фрагмент таблицы\n"
     ]
    },
    {
     "data": {
      "text/html": [
       "<div>\n",
       "<style scoped>\n",
       "    .dataframe tbody tr th:only-of-type {\n",
       "        vertical-align: middle;\n",
       "    }\n",
       "\n",
       "    .dataframe tbody tr th {\n",
       "        vertical-align: top;\n",
       "    }\n",
       "\n",
       "    .dataframe thead th {\n",
       "        text-align: right;\n",
       "    }\n",
       "</style>\n",
       "<table border=\"1\" class=\"dataframe\">\n",
       "  <thead>\n",
       "    <tr style=\"text-align: right;\">\n",
       "      <th></th>\n",
       "      <th>user_id</th>\n",
       "      <th>age</th>\n",
       "      <th>churn_date</th>\n",
       "      <th>city</th>\n",
       "      <th>first_name</th>\n",
       "      <th>last_name</th>\n",
       "      <th>reg_date</th>\n",
       "      <th>tariff</th>\n",
       "    </tr>\n",
       "  </thead>\n",
       "  <tbody>\n",
       "    <tr>\n",
       "      <th>0</th>\n",
       "      <td>1000</td>\n",
       "      <td>52</td>\n",
       "      <td>NaN</td>\n",
       "      <td>Краснодар</td>\n",
       "      <td>Рафаил</td>\n",
       "      <td>Верещагин</td>\n",
       "      <td>2018-05-25</td>\n",
       "      <td>ultra</td>\n",
       "    </tr>\n",
       "    <tr>\n",
       "      <th>1</th>\n",
       "      <td>1001</td>\n",
       "      <td>41</td>\n",
       "      <td>NaN</td>\n",
       "      <td>Москва</td>\n",
       "      <td>Иван</td>\n",
       "      <td>Ежов</td>\n",
       "      <td>2018-11-01</td>\n",
       "      <td>smart</td>\n",
       "    </tr>\n",
       "    <tr>\n",
       "      <th>2</th>\n",
       "      <td>1002</td>\n",
       "      <td>59</td>\n",
       "      <td>NaN</td>\n",
       "      <td>Стерлитамак</td>\n",
       "      <td>Евгений</td>\n",
       "      <td>Абрамович</td>\n",
       "      <td>2018-06-17</td>\n",
       "      <td>smart</td>\n",
       "    </tr>\n",
       "    <tr>\n",
       "      <th>3</th>\n",
       "      <td>1003</td>\n",
       "      <td>23</td>\n",
       "      <td>NaN</td>\n",
       "      <td>Москва</td>\n",
       "      <td>Белла</td>\n",
       "      <td>Белякова</td>\n",
       "      <td>2018-08-17</td>\n",
       "      <td>ultra</td>\n",
       "    </tr>\n",
       "    <tr>\n",
       "      <th>4</th>\n",
       "      <td>1004</td>\n",
       "      <td>68</td>\n",
       "      <td>NaN</td>\n",
       "      <td>Новокузнецк</td>\n",
       "      <td>Татьяна</td>\n",
       "      <td>Авдеенко</td>\n",
       "      <td>2018-05-14</td>\n",
       "      <td>ultra</td>\n",
       "    </tr>\n",
       "  </tbody>\n",
       "</table>\n",
       "</div>"
      ],
      "text/plain": [
       "   user_id  age churn_date         city first_name  last_name    reg_date  \\\n",
       "0     1000   52        NaN    Краснодар     Рафаил  Верещагин  2018-05-25   \n",
       "1     1001   41        NaN       Москва       Иван       Ежов  2018-11-01   \n",
       "2     1002   59        NaN  Стерлитамак    Евгений  Абрамович  2018-06-17   \n",
       "3     1003   23        NaN       Москва      Белла   Белякова  2018-08-17   \n",
       "4     1004   68        NaN  Новокузнецк    Татьяна   Авдеенко  2018-05-14   \n",
       "\n",
       "  tariff  \n",
       "0  ultra  \n",
       "1  smart  \n",
       "2  smart  \n",
       "3  ultra  \n",
       "4  ultra  "
      ]
     },
     "metadata": {},
     "output_type": "display_data"
    },
    {
     "name": "stdout",
     "output_type": "stream",
     "text": [
      "\n",
      "Общая информация о таблице:\n",
      "<class 'pandas.core.frame.DataFrame'>\n",
      "RangeIndex: 500 entries, 0 to 499\n",
      "Data columns (total 8 columns):\n",
      " #   Column      Non-Null Count  Dtype \n",
      "---  ------      --------------  ----- \n",
      " 0   user_id     500 non-null    int64 \n",
      " 1   age         500 non-null    int64 \n",
      " 2   churn_date  38 non-null     object\n",
      " 3   city        500 non-null    object\n",
      " 4   first_name  500 non-null    object\n",
      " 5   last_name   500 non-null    object\n",
      " 6   reg_date    500 non-null    object\n",
      " 7   tariff      500 non-null    object\n",
      "dtypes: int64(2), object(6)\n",
      "memory usage: 31.4+ KB\n",
      "None\n",
      "\n",
      "Наименования колонок таблицы:\n",
      "Index(['user_id', 'age', 'churn_date', 'city', 'first_name', 'last_name',\n",
      "       'reg_date', 'tariff'],\n",
      "      dtype='object')\n",
      "\n",
      "Количество дубликатов строк: 0\n"
     ]
    }
   ],
   "source": [
    "# вызов функции для отображения общей информации о таблице\n",
    "dataset_info(df_users)"
   ]
  },
  {
   "cell_type": "markdown",
   "metadata": {},
   "source": [
    "Таблица `users` состоит из 500 строк и 8 столбцов. В двух столбцах содержатся целочисленные данные, остальные столбцы типа object, при этом два их них отображают дату и будет логичнее их перевести в формат datetime.\n",
    "\n",
    "Наименования колонок датасета соответствуют \"змеиному_регистру\" и не требуют изменений.\n",
    "\n",
    "Полных дубликатов строк в исходной таблице нет."
   ]
  },
  {
   "cell_type": "markdown",
   "metadata": {},
   "source": [
    "<a id='intro1'></a>\n",
    "Пропуски наблюдаются только в столбце `churn_date`, содержащем информацию о дате прекращения пользования тарифом. Вероятно, они связаны с тем, что большая часть клиентов на момент выгрузки продолжали обслуживаться в рамках выбранного тарифа. Пропуски не требуют заполнения."
   ]
  },
  {
   "cell_type": "markdown",
   "metadata": {},
   "source": [
    "Посчитаем количество уникальных значений в отдельных столбцах таблицы:"
   ]
  },
  {
   "cell_type": "code",
   "execution_count": 6,
   "metadata": {},
   "outputs": [
    {
     "data": {
      "text/plain": [
       "user_id    500\n",
       "tariff       2\n",
       "dtype: int64"
      ]
     },
     "execution_count": 6,
     "metadata": {},
     "output_type": "execute_result"
    }
   ],
   "source": [
    "# подсчет уникальных значений в отдельных столбцах\n",
    "df_users[['user_id', 'tariff']].nunique()"
   ]
  },
  {
   "cell_type": "markdown",
   "metadata": {},
   "source": [
    "Столбец `user_id` содержит 500 уникальных значений, что соответствует длине датафрейма, значит пользователи внутри таблицы не повторяются. Столбец `tariff` содержит 2 уникальных значения, что соответствует описанию проекта. По остальным столбцам вычислять количество уникальных значений нецелесообразно."
   ]
  },
  {
   "cell_type": "markdown",
   "metadata": {},
   "source": [
    "Также хочется узнать, в каком количестве в базе присутствуют клиенты, подключенные к разным тарифным планам:"
   ]
  },
  {
   "cell_type": "code",
   "execution_count": 7,
   "metadata": {},
   "outputs": [
    {
     "data": {
      "text/plain": [
       "tariff\n",
       "smart    351\n",
       "ultra    149\n",
       "Name: user_id, dtype: int64"
      ]
     },
     "execution_count": 7,
     "metadata": {},
     "output_type": "execute_result"
    }
   ],
   "source": [
    "df_users.groupby('tariff')['user_id'].count()"
   ]
  },
  {
   "cell_type": "markdown",
   "metadata": {},
   "source": [
    "Таким образом, пользователей тарифа Smart в 2,3 раза больше, чем пользователей тарифа Ultra, что соответствует реальности: тариф Ultra в 3,5 раза дороже и рассчитан на клиентов, которые не хотят себя ограничивать в объемах звонков/сообщаний/трафика."
   ]
  },
  {
   "cell_type": "markdown",
   "metadata": {},
   "source": [
    "Дополнительно хочется проверить данные в столбце с городом клиента: если необходимо будет осуществлять сегментацию клиентов по городам, то в столбце не должно быть неявных дубликатов. В данном случае, несложно проверить названия городов визуально через вывод уникальных значений:"
   ]
  },
  {
   "cell_type": "code",
   "execution_count": 8,
   "metadata": {
    "scrolled": true
   },
   "outputs": [
    {
     "data": {
      "text/plain": [
       "['Архангельск',\n",
       " 'Астрахань',\n",
       " 'Балашиха',\n",
       " 'Барнаул',\n",
       " 'Белгород',\n",
       " 'Брянск',\n",
       " 'Владивосток',\n",
       " 'Владикавказ',\n",
       " 'Владимир',\n",
       " 'Волгоград',\n",
       " 'Волжский',\n",
       " 'Вологда',\n",
       " 'Воронеж',\n",
       " 'Грозный',\n",
       " 'Екатеринбург',\n",
       " 'Иваново',\n",
       " 'Ижевск',\n",
       " 'Иркутск',\n",
       " 'Казань',\n",
       " 'Калининград',\n",
       " 'Калуга',\n",
       " 'Кемерово',\n",
       " 'Киров',\n",
       " 'Кострома',\n",
       " 'Краснодар',\n",
       " 'Красноярск',\n",
       " 'Курган',\n",
       " 'Курск',\n",
       " 'Липецк',\n",
       " 'Магнитогорск',\n",
       " 'Махачкала',\n",
       " 'Москва',\n",
       " 'Мурманск',\n",
       " 'Набережные Челны',\n",
       " 'Нижневартовск',\n",
       " 'Нижний Новгород',\n",
       " 'Нижний Тагил',\n",
       " 'Новокузнецк',\n",
       " 'Новороссийск',\n",
       " 'Новосибирск',\n",
       " 'Омск',\n",
       " 'Оренбург',\n",
       " 'Орёл',\n",
       " 'Пенза',\n",
       " 'Пермь',\n",
       " 'Петрозаводск',\n",
       " 'Подольск',\n",
       " 'Ростов-на-Дону',\n",
       " 'Рязань',\n",
       " 'Самара',\n",
       " 'Санкт-Петербург',\n",
       " 'Саранск',\n",
       " 'Саратов',\n",
       " 'Севастополь',\n",
       " 'Смоленск',\n",
       " 'Сочи',\n",
       " 'Ставрополь',\n",
       " 'Стерлитамак',\n",
       " 'Сургут',\n",
       " 'Тамбов',\n",
       " 'Тверь',\n",
       " 'Тольятти',\n",
       " 'Томск',\n",
       " 'Тула',\n",
       " 'Тюмень',\n",
       " 'Улан-Удэ',\n",
       " 'Ульяновск',\n",
       " 'Уфа',\n",
       " 'Хабаровск',\n",
       " 'Химки',\n",
       " 'Чебоксары',\n",
       " 'Челябинск',\n",
       " 'Череповец',\n",
       " 'Чита',\n",
       " 'Якутск',\n",
       " 'Ярославль']"
      ]
     },
     "execution_count": 8,
     "metadata": {},
     "output_type": "execute_result"
    }
   ],
   "source": [
    "# вывод списка уникальных значений столбца\n",
    "sorted(df_users['city'].unique())"
   ]
  },
  {
   "cell_type": "markdown",
   "metadata": {},
   "source": [
    "Визуальный контроль не выявил дубликатов в названиях городов."
   ]
  },
  {
   "cell_type": "markdown",
   "metadata": {},
   "source": [
    "Осуществим изменение типов данных для столбцов с датами:"
   ]
  },
  {
   "cell_type": "code",
   "execution_count": 9,
   "metadata": {},
   "outputs": [
    {
     "data": {
      "text/plain": [
       "user_id                int64\n",
       "age                    int64\n",
       "churn_date    datetime64[ns]\n",
       "city                  object\n",
       "first_name            object\n",
       "last_name             object\n",
       "reg_date      datetime64[ns]\n",
       "tariff                object\n",
       "dtype: object"
      ]
     },
     "execution_count": 9,
     "metadata": {},
     "output_type": "execute_result"
    }
   ],
   "source": [
    "# вызов функции для изменения типа данных\n",
    "change_type_to_date(df_users, 'churn_date')\n",
    "change_type_to_date(df_users, 'reg_date')\n",
    "\n",
    "# контроль изменения типа данных\n",
    "df_users.dtypes"
   ]
  },
  {
   "cell_type": "markdown",
   "metadata": {},
   "source": [
    "### Данные о звонках пользователей"
   ]
  },
  {
   "cell_type": "markdown",
   "metadata": {},
   "source": [
    "Документация к данным в таблице \"calls\":\n",
    "* `id` — уникальный номер звонка\n",
    "* `call_date` — дата звонка\n",
    "* `duration` — длительность звонка в минутах\n",
    "* `user_id` — идентификатор пользователя, сделавшего звонок"
   ]
  },
  {
   "cell_type": "code",
   "execution_count": 10,
   "metadata": {},
   "outputs": [
    {
     "name": "stdout",
     "output_type": "stream",
     "text": [
      "Фрагмент таблицы\n"
     ]
    },
    {
     "data": {
      "text/html": [
       "<div>\n",
       "<style scoped>\n",
       "    .dataframe tbody tr th:only-of-type {\n",
       "        vertical-align: middle;\n",
       "    }\n",
       "\n",
       "    .dataframe tbody tr th {\n",
       "        vertical-align: top;\n",
       "    }\n",
       "\n",
       "    .dataframe thead th {\n",
       "        text-align: right;\n",
       "    }\n",
       "</style>\n",
       "<table border=\"1\" class=\"dataframe\">\n",
       "  <thead>\n",
       "    <tr style=\"text-align: right;\">\n",
       "      <th></th>\n",
       "      <th>id</th>\n",
       "      <th>call_date</th>\n",
       "      <th>duration</th>\n",
       "      <th>user_id</th>\n",
       "    </tr>\n",
       "  </thead>\n",
       "  <tbody>\n",
       "    <tr>\n",
       "      <th>0</th>\n",
       "      <td>1000_0</td>\n",
       "      <td>2018-07-25</td>\n",
       "      <td>0.00</td>\n",
       "      <td>1000</td>\n",
       "    </tr>\n",
       "    <tr>\n",
       "      <th>1</th>\n",
       "      <td>1000_1</td>\n",
       "      <td>2018-08-17</td>\n",
       "      <td>0.00</td>\n",
       "      <td>1000</td>\n",
       "    </tr>\n",
       "    <tr>\n",
       "      <th>2</th>\n",
       "      <td>1000_2</td>\n",
       "      <td>2018-06-11</td>\n",
       "      <td>2.85</td>\n",
       "      <td>1000</td>\n",
       "    </tr>\n",
       "    <tr>\n",
       "      <th>3</th>\n",
       "      <td>1000_3</td>\n",
       "      <td>2018-09-21</td>\n",
       "      <td>13.80</td>\n",
       "      <td>1000</td>\n",
       "    </tr>\n",
       "    <tr>\n",
       "      <th>4</th>\n",
       "      <td>1000_4</td>\n",
       "      <td>2018-12-15</td>\n",
       "      <td>5.18</td>\n",
       "      <td>1000</td>\n",
       "    </tr>\n",
       "  </tbody>\n",
       "</table>\n",
       "</div>"
      ],
      "text/plain": [
       "       id   call_date  duration  user_id\n",
       "0  1000_0  2018-07-25      0.00     1000\n",
       "1  1000_1  2018-08-17      0.00     1000\n",
       "2  1000_2  2018-06-11      2.85     1000\n",
       "3  1000_3  2018-09-21     13.80     1000\n",
       "4  1000_4  2018-12-15      5.18     1000"
      ]
     },
     "metadata": {},
     "output_type": "display_data"
    },
    {
     "name": "stdout",
     "output_type": "stream",
     "text": [
      "\n",
      "Общая информация о таблице:\n",
      "<class 'pandas.core.frame.DataFrame'>\n",
      "RangeIndex: 202607 entries, 0 to 202606\n",
      "Data columns (total 4 columns):\n",
      " #   Column     Non-Null Count   Dtype  \n",
      "---  ------     --------------   -----  \n",
      " 0   id         202607 non-null  object \n",
      " 1   call_date  202607 non-null  object \n",
      " 2   duration   202607 non-null  float64\n",
      " 3   user_id    202607 non-null  int64  \n",
      "dtypes: float64(1), int64(1), object(2)\n",
      "memory usage: 6.2+ MB\n",
      "None\n",
      "\n",
      "Наименования колонок таблицы:\n",
      "Index(['id', 'call_date', 'duration', 'user_id'], dtype='object')\n",
      "\n",
      "Количество дубликатов строк: 0\n"
     ]
    }
   ],
   "source": [
    "# вызов функции для отображения общей информации о таблице\n",
    "dataset_info(df_calls)"
   ]
  },
  {
   "cell_type": "markdown",
   "metadata": {},
   "source": [
    "Таблица `calls` состоит из 202607 строк и 4 столбцов. В двух столбцах содержатся данные типа object, еще два столбца - числовые. Требуется перевести столбец, отображающий дату, в формат datetime.\n",
    "\n",
    "Наименования колонок датасета соответствуют \"змеиному_регистру\" и не требуют изменений.\n",
    "\n",
    "Пропусков данных и полных дубликатов строк не обнаружено."
   ]
  },
  {
   "cell_type": "markdown",
   "metadata": {},
   "source": [
    "Изменим тип данных в столбце с датами звонков:"
   ]
  },
  {
   "cell_type": "code",
   "execution_count": 11,
   "metadata": {
    "scrolled": true
   },
   "outputs": [
    {
     "data": {
      "text/plain": [
       "id                   object\n",
       "call_date    datetime64[ns]\n",
       "duration            float64\n",
       "user_id               int64\n",
       "dtype: object"
      ]
     },
     "execution_count": 11,
     "metadata": {},
     "output_type": "execute_result"
    }
   ],
   "source": [
    "# вызов функции для изменения типа данных\n",
    "change_type_to_date(df_calls, 'call_date')\n",
    "\n",
    "# контроль изменения типа данных\n",
    "df_calls.dtypes"
   ]
  },
  {
   "cell_type": "markdown",
   "metadata": {},
   "source": [
    "### Данные о сообщениях пользователей"
   ]
  },
  {
   "cell_type": "markdown",
   "metadata": {},
   "source": [
    "Документация к данным в таблице \"messages\":\n",
    "* `id` — уникальный номер сообщения\n",
    "* `message_date` — дата сообщения\n",
    "* `user_id` — идентификатор пользователя, отправившего сообщения"
   ]
  },
  {
   "cell_type": "code",
   "execution_count": 12,
   "metadata": {},
   "outputs": [
    {
     "name": "stdout",
     "output_type": "stream",
     "text": [
      "Фрагмент таблицы\n"
     ]
    },
    {
     "data": {
      "text/html": [
       "<div>\n",
       "<style scoped>\n",
       "    .dataframe tbody tr th:only-of-type {\n",
       "        vertical-align: middle;\n",
       "    }\n",
       "\n",
       "    .dataframe tbody tr th {\n",
       "        vertical-align: top;\n",
       "    }\n",
       "\n",
       "    .dataframe thead th {\n",
       "        text-align: right;\n",
       "    }\n",
       "</style>\n",
       "<table border=\"1\" class=\"dataframe\">\n",
       "  <thead>\n",
       "    <tr style=\"text-align: right;\">\n",
       "      <th></th>\n",
       "      <th>id</th>\n",
       "      <th>message_date</th>\n",
       "      <th>user_id</th>\n",
       "    </tr>\n",
       "  </thead>\n",
       "  <tbody>\n",
       "    <tr>\n",
       "      <th>0</th>\n",
       "      <td>1000_0</td>\n",
       "      <td>2018-06-27</td>\n",
       "      <td>1000</td>\n",
       "    </tr>\n",
       "    <tr>\n",
       "      <th>1</th>\n",
       "      <td>1000_1</td>\n",
       "      <td>2018-10-08</td>\n",
       "      <td>1000</td>\n",
       "    </tr>\n",
       "    <tr>\n",
       "      <th>2</th>\n",
       "      <td>1000_2</td>\n",
       "      <td>2018-08-04</td>\n",
       "      <td>1000</td>\n",
       "    </tr>\n",
       "    <tr>\n",
       "      <th>3</th>\n",
       "      <td>1000_3</td>\n",
       "      <td>2018-06-16</td>\n",
       "      <td>1000</td>\n",
       "    </tr>\n",
       "    <tr>\n",
       "      <th>4</th>\n",
       "      <td>1000_4</td>\n",
       "      <td>2018-12-05</td>\n",
       "      <td>1000</td>\n",
       "    </tr>\n",
       "  </tbody>\n",
       "</table>\n",
       "</div>"
      ],
      "text/plain": [
       "       id message_date  user_id\n",
       "0  1000_0   2018-06-27     1000\n",
       "1  1000_1   2018-10-08     1000\n",
       "2  1000_2   2018-08-04     1000\n",
       "3  1000_3   2018-06-16     1000\n",
       "4  1000_4   2018-12-05     1000"
      ]
     },
     "metadata": {},
     "output_type": "display_data"
    },
    {
     "name": "stdout",
     "output_type": "stream",
     "text": [
      "\n",
      "Общая информация о таблице:\n",
      "<class 'pandas.core.frame.DataFrame'>\n",
      "RangeIndex: 123036 entries, 0 to 123035\n",
      "Data columns (total 3 columns):\n",
      " #   Column        Non-Null Count   Dtype \n",
      "---  ------        --------------   ----- \n",
      " 0   id            123036 non-null  object\n",
      " 1   message_date  123036 non-null  object\n",
      " 2   user_id       123036 non-null  int64 \n",
      "dtypes: int64(1), object(2)\n",
      "memory usage: 2.8+ MB\n",
      "None\n",
      "\n",
      "Наименования колонок таблицы:\n",
      "Index(['id', 'message_date', 'user_id'], dtype='object')\n",
      "\n",
      "Количество дубликатов строк: 0\n"
     ]
    }
   ],
   "source": [
    "# вызов функции для отображения общей информации о таблице\n",
    "dataset_info(df_messages)"
   ]
  },
  {
   "cell_type": "markdown",
   "metadata": {},
   "source": [
    "Таблица `messages` состоит из 123036 строк и 3 столбцов. В двух столбцах содержатся данные типа object, один столбец целочисленный. Требуется перевести столбец, отображающий дату, в формат datetime.\n",
    "\n",
    "Наименования колонок датасета соответствуют \"змеиному_регистру\" и не требуют изменений.\n",
    "\n",
    "Пропусков данных и полных дубликатов строк не обнаружено."
   ]
  },
  {
   "cell_type": "markdown",
   "metadata": {},
   "source": [
    "Осуществим изменение типов данных для столбца с датами:"
   ]
  },
  {
   "cell_type": "code",
   "execution_count": 13,
   "metadata": {},
   "outputs": [
    {
     "data": {
      "text/plain": [
       "id                      object\n",
       "message_date    datetime64[ns]\n",
       "user_id                  int64\n",
       "dtype: object"
      ]
     },
     "execution_count": 13,
     "metadata": {},
     "output_type": "execute_result"
    }
   ],
   "source": [
    "# вызов функции для изменения типа данных\n",
    "change_type_to_date(df_messages, 'message_date')\n",
    "\n",
    "# контроль изменения типа данных\n",
    "df_messages.dtypes"
   ]
  },
  {
   "cell_type": "markdown",
   "metadata": {},
   "source": [
    "### Данные об интернет-сессиях пользователей"
   ]
  },
  {
   "cell_type": "markdown",
   "metadata": {},
   "source": [
    "Документация к данным в таблице \"internet\":\n",
    "* `id` — уникальный номер сессии\n",
    "* `mb_used` - объем потраченного за сессию интернет-трафика (в мегабайтах)\n",
    "* `session_date` — дата интернет-сессии\n",
    "* `user_id` — идентификатор пользователя"
   ]
  },
  {
   "cell_type": "code",
   "execution_count": 14,
   "metadata": {},
   "outputs": [
    {
     "name": "stdout",
     "output_type": "stream",
     "text": [
      "Фрагмент таблицы\n"
     ]
    },
    {
     "data": {
      "text/html": [
       "<div>\n",
       "<style scoped>\n",
       "    .dataframe tbody tr th:only-of-type {\n",
       "        vertical-align: middle;\n",
       "    }\n",
       "\n",
       "    .dataframe tbody tr th {\n",
       "        vertical-align: top;\n",
       "    }\n",
       "\n",
       "    .dataframe thead th {\n",
       "        text-align: right;\n",
       "    }\n",
       "</style>\n",
       "<table border=\"1\" class=\"dataframe\">\n",
       "  <thead>\n",
       "    <tr style=\"text-align: right;\">\n",
       "      <th></th>\n",
       "      <th>id</th>\n",
       "      <th>mb_used</th>\n",
       "      <th>session_date</th>\n",
       "      <th>user_id</th>\n",
       "    </tr>\n",
       "  </thead>\n",
       "  <tbody>\n",
       "    <tr>\n",
       "      <th>0</th>\n",
       "      <td>1000_0</td>\n",
       "      <td>112.95</td>\n",
       "      <td>2018-11-25</td>\n",
       "      <td>1000</td>\n",
       "    </tr>\n",
       "    <tr>\n",
       "      <th>1</th>\n",
       "      <td>1000_1</td>\n",
       "      <td>1052.81</td>\n",
       "      <td>2018-09-07</td>\n",
       "      <td>1000</td>\n",
       "    </tr>\n",
       "    <tr>\n",
       "      <th>2</th>\n",
       "      <td>1000_2</td>\n",
       "      <td>1197.26</td>\n",
       "      <td>2018-06-25</td>\n",
       "      <td>1000</td>\n",
       "    </tr>\n",
       "    <tr>\n",
       "      <th>3</th>\n",
       "      <td>1000_3</td>\n",
       "      <td>550.27</td>\n",
       "      <td>2018-08-22</td>\n",
       "      <td>1000</td>\n",
       "    </tr>\n",
       "    <tr>\n",
       "      <th>4</th>\n",
       "      <td>1000_4</td>\n",
       "      <td>302.56</td>\n",
       "      <td>2018-09-24</td>\n",
       "      <td>1000</td>\n",
       "    </tr>\n",
       "  </tbody>\n",
       "</table>\n",
       "</div>"
      ],
      "text/plain": [
       "       id  mb_used session_date  user_id\n",
       "0  1000_0   112.95   2018-11-25     1000\n",
       "1  1000_1  1052.81   2018-09-07     1000\n",
       "2  1000_2  1197.26   2018-06-25     1000\n",
       "3  1000_3   550.27   2018-08-22     1000\n",
       "4  1000_4   302.56   2018-09-24     1000"
      ]
     },
     "metadata": {},
     "output_type": "display_data"
    },
    {
     "name": "stdout",
     "output_type": "stream",
     "text": [
      "\n",
      "Общая информация о таблице:\n",
      "<class 'pandas.core.frame.DataFrame'>\n",
      "Int64Index: 149396 entries, 0 to 149395\n",
      "Data columns (total 4 columns):\n",
      " #   Column        Non-Null Count   Dtype  \n",
      "---  ------        --------------   -----  \n",
      " 0   id            149396 non-null  object \n",
      " 1   mb_used       149396 non-null  float64\n",
      " 2   session_date  149396 non-null  object \n",
      " 3   user_id       149396 non-null  int64  \n",
      "dtypes: float64(1), int64(1), object(2)\n",
      "memory usage: 5.7+ MB\n",
      "None\n",
      "\n",
      "Наименования колонок таблицы:\n",
      "Index(['id', 'mb_used', 'session_date', 'user_id'], dtype='object')\n",
      "\n",
      "Количество дубликатов строк: 0\n"
     ]
    }
   ],
   "source": [
    "# вызов функции для отображения общей информации о таблице\n",
    "dataset_info(df_internet)"
   ]
  },
  {
   "cell_type": "markdown",
   "metadata": {},
   "source": [
    "Таблица `internet` состоит из 149396 строк и 5 столбцов (в исходном датасете присутствовал побочный столбец с индексами строк, который был отброшен при загрузке таблицы в pandas). В двух столбцах содержатся данные типа object, три столбца содержат числовые данные. Требуется перевести столбец, отображающий дату, в формат datetime.\n",
    "\n",
    "Наименования колонок датасета соответствуют \"змеиному_регистру\" и не требуют изменений.\n",
    "\n",
    "Пропусков данных и полных дубликатов строк не обнаружено."
   ]
  },
  {
   "cell_type": "markdown",
   "metadata": {},
   "source": [
    "Осуществим изменение типов данных для столбца с датами:"
   ]
  },
  {
   "cell_type": "code",
   "execution_count": 15,
   "metadata": {},
   "outputs": [
    {
     "data": {
      "text/plain": [
       "id                      object\n",
       "mb_used                float64\n",
       "session_date    datetime64[ns]\n",
       "user_id                  int64\n",
       "dtype: object"
      ]
     },
     "execution_count": 15,
     "metadata": {},
     "output_type": "execute_result"
    }
   ],
   "source": [
    "# вызов функции для изменения типа данных\n",
    "change_type_to_date(df_internet, 'session_date')\n",
    "\n",
    "# контроль изменения типа данных\n",
    "df_internet.dtypes"
   ]
  },
  {
   "cell_type": "markdown",
   "metadata": {},
   "source": [
    "### Информация о применяемых тарифах"
   ]
  },
  {
   "cell_type": "markdown",
   "metadata": {},
   "source": [
    "Документация к данным в таблице \"tariffs\":\n",
    "* `tariff_name` — название тарифа\n",
    "* `rub_monthly_fee` — ежемесячная абонентская плата в рублях\n",
    "* `minutes_included` — количество минут разговора в месяц, включённых в абонентскую плату\n",
    "* `messages_included` — количество сообщений в месяц, включённых в абонентскую плату\n",
    "* `mb_per_month_included` — объём интернет-трафика, включённого в абонентскую плату (в мегабайтах)\n",
    "* `rub_per_minute` — стоимость минуты разговора сверх тарифного пакета (например, если в тарифе 100 минут разговора в месяц, то со 101 минуты будет взиматься плата)\n",
    "* `rub_per_message` — стоимость отправки сообщения сверх тарифного пакета\n",
    "* `rub_per_gb` — стоимость дополнительного гигабайта интернет-трафика сверх тарифного пакета (1 гигабайт = 1024 мегабайта)"
   ]
  },
  {
   "cell_type": "code",
   "execution_count": 16,
   "metadata": {},
   "outputs": [
    {
     "name": "stdout",
     "output_type": "stream",
     "text": [
      "Фрагмент таблицы\n"
     ]
    },
    {
     "data": {
      "text/html": [
       "<div>\n",
       "<style scoped>\n",
       "    .dataframe tbody tr th:only-of-type {\n",
       "        vertical-align: middle;\n",
       "    }\n",
       "\n",
       "    .dataframe tbody tr th {\n",
       "        vertical-align: top;\n",
       "    }\n",
       "\n",
       "    .dataframe thead th {\n",
       "        text-align: right;\n",
       "    }\n",
       "</style>\n",
       "<table border=\"1\" class=\"dataframe\">\n",
       "  <thead>\n",
       "    <tr style=\"text-align: right;\">\n",
       "      <th></th>\n",
       "      <th>messages_included</th>\n",
       "      <th>mb_per_month_included</th>\n",
       "      <th>minutes_included</th>\n",
       "      <th>rub_monthly_fee</th>\n",
       "      <th>rub_per_gb</th>\n",
       "      <th>rub_per_message</th>\n",
       "      <th>rub_per_minute</th>\n",
       "      <th>tariff_name</th>\n",
       "    </tr>\n",
       "  </thead>\n",
       "  <tbody>\n",
       "    <tr>\n",
       "      <th>0</th>\n",
       "      <td>50</td>\n",
       "      <td>15360</td>\n",
       "      <td>500</td>\n",
       "      <td>550</td>\n",
       "      <td>200</td>\n",
       "      <td>3</td>\n",
       "      <td>3</td>\n",
       "      <td>smart</td>\n",
       "    </tr>\n",
       "    <tr>\n",
       "      <th>1</th>\n",
       "      <td>1000</td>\n",
       "      <td>30720</td>\n",
       "      <td>3000</td>\n",
       "      <td>1950</td>\n",
       "      <td>150</td>\n",
       "      <td>1</td>\n",
       "      <td>1</td>\n",
       "      <td>ultra</td>\n",
       "    </tr>\n",
       "  </tbody>\n",
       "</table>\n",
       "</div>"
      ],
      "text/plain": [
       "   messages_included  mb_per_month_included  minutes_included  \\\n",
       "0                 50                  15360               500   \n",
       "1               1000                  30720              3000   \n",
       "\n",
       "   rub_monthly_fee  rub_per_gb  rub_per_message  rub_per_minute tariff_name  \n",
       "0              550         200                3               3       smart  \n",
       "1             1950         150                1               1       ultra  "
      ]
     },
     "metadata": {},
     "output_type": "display_data"
    },
    {
     "name": "stdout",
     "output_type": "stream",
     "text": [
      "\n",
      "Общая информация о таблице:\n",
      "<class 'pandas.core.frame.DataFrame'>\n",
      "RangeIndex: 2 entries, 0 to 1\n",
      "Data columns (total 8 columns):\n",
      " #   Column                 Non-Null Count  Dtype \n",
      "---  ------                 --------------  ----- \n",
      " 0   messages_included      2 non-null      int64 \n",
      " 1   mb_per_month_included  2 non-null      int64 \n",
      " 2   minutes_included       2 non-null      int64 \n",
      " 3   rub_monthly_fee        2 non-null      int64 \n",
      " 4   rub_per_gb             2 non-null      int64 \n",
      " 5   rub_per_message        2 non-null      int64 \n",
      " 6   rub_per_minute         2 non-null      int64 \n",
      " 7   tariff_name            2 non-null      object\n",
      "dtypes: int64(7), object(1)\n",
      "memory usage: 256.0+ bytes\n",
      "None\n",
      "\n",
      "Наименования колонок таблицы:\n",
      "Index(['messages_included', 'mb_per_month_included', 'minutes_included',\n",
      "       'rub_monthly_fee', 'rub_per_gb', 'rub_per_message', 'rub_per_minute',\n",
      "       'tariff_name'],\n",
      "      dtype='object')\n",
      "\n",
      "Количество дубликатов строк: 0\n"
     ]
    }
   ],
   "source": [
    "# вызов функции для отображения общей информации о таблице\n",
    "dataset_info(df_tariffs)"
   ]
  },
  {
   "cell_type": "markdown",
   "metadata": {},
   "source": [
    "Таблица `tariffs` состоит из 2 строк и 8 столбцов и задает параметры двух действующих тарифных планов. За исключением столбца с названием тарифа, все остальные параметры выражены целыми числами. Изменение типов данных в таблице не требуется.\n",
    "\n",
    "Наименования колонок датасета соответствуют \"змеиному_регистру\".\n",
    "\n",
    "Пропусков данных не обнаружено."
   ]
  },
  {
   "cell_type": "markdown",
   "metadata": {},
   "source": [
    "Для удобства дальнейшей работы (будущее объединение таблиц) изменим название столбца `tariff_name` в соответствии с тем названием `tariff`, которым столбце назван в таблице пользователей:"
   ]
  },
  {
   "cell_type": "code",
   "execution_count": 17,
   "metadata": {},
   "outputs": [],
   "source": [
    "df_tariffs = df_tariffs.rename(columns={'tariff_name': 'tariff'})"
   ]
  },
  {
   "cell_type": "markdown",
   "metadata": {},
   "source": [
    "Также есть следующее описание тарифов, которые предложены клиентам:\n",
    "\n",
    "***Тариф «Смарт»***\n",
    "1. Ежемесячная плата: 550 рублей\n",
    "2. Включено 500 минут разговора, 50 сообщений и 15 Гб интернет-трафика\n",
    "3. Стоимость услуг сверх тарифного пакета:\n",
    "    * минута разговора: 3 рубля\n",
    "    * сообщение: 3 рубля\n",
    "    * 1 Гб интернет-трафика: 200 рублей\n",
    "\n",
    "***Тариф «Ультра»***\n",
    "1. Ежемесячная плата: 1950 рублей\n",
    "2. Включено 3000 минут разговора, 1000 сообщений и 30 Гб интернет-трафика\n",
    "3. Стоимость услуг сверх тарифного пакета:\n",
    "    * минута разговора: 1 рубль\n",
    "    * сообщение: 1 рубль\n",
    "    * 1 Гб интернет-трафика: 150 рублей"
   ]
  },
  {
   "cell_type": "markdown",
   "metadata": {},
   "source": [
    "### Вывод по блоку \"Изучение данных, предобработка\""
   ]
  },
  {
   "cell_type": "markdown",
   "metadata": {},
   "source": [
    "Загружена и изучена общая информация по 500 пользователям \"Мегалайна\":\n",
    "* информация о пользователях: имя, возраст, город, выбранный тариф, дата подключения/отключения;\n",
    "* информация о совершенных пользователями звонках, отправленных сообщениях, использованном интернет-трафике за анализируемый период.\n",
    "\n",
    "Также загружена и изучена информация о действующих параметрах предлагаемых компанией тарифных планов \"Смарт\" и \"Ультра\".\n",
    "\n",
    "В первичных данных, отображающих какие-либо даты (например, дата совершения звонка), осуществлено изменение типа данных на datetime для дальнейшего удобства их использования.\n",
    "\n",
    "В столбце с информацией о дате отключения тарифа, обнаружены пропуски: их присутствие в таблице логично и объясняется тем, что клиент на момент выгрузки продолжает использовать тариф. Пропуски не требуют заполнения."
   ]
  },
  {
   "cell_type": "markdown",
   "metadata": {},
   "source": [
    "## Проверка данных на наличие ошибок и аномалий"
   ]
  },
  {
   "cell_type": "markdown",
   "metadata": {},
   "source": [
    "В каждом датасете целесообразно проверить числовые данные и даты на наличие аномалий. Проверку будем осуществлять с помощью построения гистограмм и вывода дополнительных показателей при необходимости."
   ]
  },
  {
   "cell_type": "markdown",
   "metadata": {},
   "source": [
    "### Проверка числовых данных"
   ]
  },
  {
   "cell_type": "markdown",
   "metadata": {},
   "source": [
    "Проверим данные в следующих колонках:\n",
    "* возраст клиента `age` в df_users,\n",
    "* длительность звонка (минуты) `duration` в df_calls,\n",
    "* объем трафика за одну интернет-сессию (Мб)`mb_used` в df_internet"
   ]
  },
  {
   "cell_type": "markdown",
   "metadata": {},
   "source": [
    "Построим гистограммы:"
   ]
  },
  {
   "cell_type": "code",
   "execution_count": 18,
   "metadata": {
    "scrolled": true
   },
   "outputs": [
    {
     "data": {
      "image/png": "[encoded data removed]",
      "text/plain": [
       "<Figure size 1080x288 with 3 Axes>"
      ]
     },
     "metadata": {
      "needs_background": "light"
     },
     "output_type": "display_data"
    }
   ],
   "source": [
    "# создаем фигуру\n",
    "fig = plt.figure(figsize=(15,4))\n",
    "\n",
    "# создаем доп.списки с данными, подписями осей и заголовками\n",
    "data = [df_users['age'], df_calls['duration'], df_internet['mb_used']]\n",
    "xlabels = ['Возраст клиента', 'Длительность звонка (мин)', 'Объем трафика за сессию (Мб)']\n",
    "ylabels = ['Кол-во клиентов', 'Кол-во звонков', 'Кол-во сессий']\n",
    "title = ['Распределение клиентов по возрасту', 'Распределение звонков по длительности',\n",
    "         'Распределение интернет-сессий по объему трафика']\n",
    "\n",
    "# в цикле создаем 3 области для построения и передаем в них графики с соответствующими подписями\n",
    "for i in range(3):\n",
    "    axi = fig.add_subplot(1,3,i+1)\n",
    "    axi.hist(data[i], bins=50)\n",
    "    axi.set_xlabel(xlabels[i])\n",
    "    axi.set_ylabel(ylabels[i])\n",
    "    axi.set_title(f'{title[i]} \\n \\\n",
    "                    минимум: {data[i].min()} \\n \\\n",
    "                    максимум: {data[i].max()} \\n')\n",
    "    \n",
    "\n",
    "fig.tight_layout()\n",
    "\n",
    "plt.show()"
   ]
  },
  {
   "cell_type": "markdown",
   "metadata": {},
   "source": [
    "**Описание данных о возрасте клиента:**"
   ]
  },
  {
   "cell_type": "code",
   "execution_count": 19,
   "metadata": {},
   "outputs": [
    {
     "data": {
      "text/plain": [
       "46.588"
      ]
     },
     "execution_count": 19,
     "metadata": {},
     "output_type": "execute_result"
    }
   ],
   "source": [
    "# расчет среднего значения по столбцу\n",
    "df_users['age'].mean()"
   ]
  },
  {
   "cell_type": "markdown",
   "metadata": {},
   "source": [
    "В датасете присутствуют клиенты разных возрастов от 18 до 75 лет, средний возраст 46 лет. Аномалий в данных не выявлено."
   ]
  },
  {
   "cell_type": "markdown",
   "metadata": {},
   "source": [
    "**Описание данных о длительности звонков:**"
   ]
  },
  {
   "cell_type": "markdown",
   "metadata": {},
   "source": [
    "Выведем количество звонков с нулевой длительностью (пропущенные звонки):"
   ]
  },
  {
   "cell_type": "code",
   "execution_count": 20,
   "metadata": {},
   "outputs": [
    {
     "data": {
      "text/plain": [
       "39613"
      ]
     },
     "execution_count": 20,
     "metadata": {},
     "output_type": "execute_result"
    }
   ],
   "source": [
    "# подсчет кол-ва нулевых значений в столбце\n",
    "df_calls[df_calls['duration'] == 0]['id'].count()"
   ]
  },
  {
   "cell_type": "markdown",
   "metadata": {},
   "source": [
    "Отсечём пропущенные звонки и выведем среднюю и медианную длительность звонков: "
   ]
  },
  {
   "cell_type": "code",
   "execution_count": 21,
   "metadata": {},
   "outputs": [
    {
     "data": {
      "text/plain": [
       "mean    8.397794\n",
       "50%     7.740000\n",
       "Name: duration, dtype: float64"
      ]
     },
     "execution_count": 21,
     "metadata": {},
     "output_type": "execute_result"
    }
   ],
   "source": [
    "# отбор ненулевых значений в столбце с выводом среднего и медианы\n",
    "df_calls[df_calls['duration'] != 0]['duration'].describe()[['mean', '50%']]"
   ]
  },
  {
   "cell_type": "markdown",
   "metadata": {},
   "source": [
    "Распределение длительности звонков имеет длинный правый \"хвост\": максимальная длительность звонка 38 минут, что вполне допустимо. При этом в датасете присутствует почти 40 тысяч звонков с нулевой длительностью, что не является ошибкой и обозначает пропущенные звонки. Если отсечь звонки с нулевой длительностью, то медианное значение длительности составит 7.7 минут, среднее 8.4 минуты (смещено вправо за счет присутствия больших значений). Аномалий в данных не выявлено."
   ]
  },
  {
   "cell_type": "markdown",
   "metadata": {},
   "source": [
    "**Описание данных об объеме потраченного за интернет-сессию трафика:**"
   ]
  },
  {
   "cell_type": "markdown",
   "metadata": {},
   "source": [
    "Выведем количество несостоявшихся интернет-сессий:"
   ]
  },
  {
   "cell_type": "code",
   "execution_count": 22,
   "metadata": {},
   "outputs": [
    {
     "data": {
      "text/plain": [
       "19598"
      ]
     },
     "execution_count": 22,
     "metadata": {},
     "output_type": "execute_result"
    }
   ],
   "source": [
    "# подсчет кол-ва нулевых значений в столбце\n",
    "df_internet[df_internet['mb_used'] == 0]['mb_used'].count()"
   ]
  },
  {
   "cell_type": "markdown",
   "metadata": {},
   "source": [
    "Отсечём несостоявшиеся сессии и выведем средний и медианный объем затрачиваемого на 1 сессию трафика: "
   ]
  },
  {
   "cell_type": "code",
   "execution_count": 23,
   "metadata": {},
   "outputs": [
    {
     "data": {
      "text/plain": [
       "mean    426.08721\n",
       "50%     400.54000\n",
       "Name: mb_used, dtype: float64"
      ]
     },
     "execution_count": 23,
     "metadata": {},
     "output_type": "execute_result"
    }
   ],
   "source": [
    "# отбор ненулевых значений в столбце с выводом среднего и медианы\n",
    "df_internet[df_internet['mb_used'] != 0]['mb_used'].describe()[['mean', '50%']]"
   ]
  },
  {
   "cell_type": "markdown",
   "metadata": {},
   "source": [
    "Распределение объема трафика за одну сессию имеет длинный правый \"хвост\": максимальный объем трафика составляет 1725 Мб или 1.7 Гб, что вполне допустимо (клиенты могут смотреть/скачивать видео). При этом в датасете присутствует почти 20 тысяч сессий с нулевым объемом трафика, что не является ошибкой и обозначает несостоявшиеся или прерванные сессии. Если отсечь сессии с нулевым объемом трафика, то медианное значение объема составит 400 Мб, среднее 426 Мб (смещено вправо за счет присутствия больших значений). Аномалий в данных не выявлено."
   ]
  },
  {
   "cell_type": "markdown",
   "metadata": {},
   "source": [
    "### Проверка дат"
   ]
  },
  {
   "cell_type": "markdown",
   "metadata": {},
   "source": [
    "По условиям ТЗ исследования проводятся на данных за 2018 год, поэтому необходимо проверить, что в таблицах нет лишней информации, и все клиенты были подключены к тарифам до 01.01.2019г."
   ]
  },
  {
   "cell_type": "markdown",
   "metadata": {},
   "source": [
    "Проверим данные в следующих колонках:\n",
    "* даты подключения тарифа `reg_date` в df_users,\n",
    "* даты звонков `call_date` в df_calls,\n",
    "* даты отправки сообщений `message_date` в df_messages,\n",
    "* даты интернет-сессий `session_date` в df_internet"
   ]
  },
  {
   "cell_type": "markdown",
   "metadata": {},
   "source": [
    "Построим гистограммы:"
   ]
  },
  {
   "cell_type": "code",
   "execution_count": 24,
   "metadata": {},
   "outputs": [
    {
     "data": {
      "image/png": "[encoded data removed]",
      "text/plain": [
       "<Figure size 1080x504 with 4 Axes>"
      ]
     },
     "metadata": {
      "needs_background": "light"
     },
     "output_type": "display_data"
    }
   ],
   "source": [
    "# создаем фигуру\n",
    "fig = plt.figure(figsize=(15,7))\n",
    "\n",
    "# создаем доп.списки с данными, подписями осей и заголовками\n",
    "data = [df_users['reg_date'], df_calls['call_date'], df_messages['message_date'], df_internet['session_date']]\n",
    "ylabels = ['Кол-во клиентов', 'Кол-во звонков', 'Кол-во сообщений', 'Кол-во сессий']\n",
    "title = ['Распределение клиентов по дате подключения тарифа', 'Распределение звонков по датам совершения',\n",
    "         'Распределение сообщений по датам отправки', 'Распределение интернет-сессий по датам совершения']\n",
    "\n",
    "# в цикле создаем 4 области для построения и передаем в них графики с соответствующими подписями\n",
    "for i in range(4):\n",
    "    axi = fig.add_subplot(2,2,i+1)\n",
    "    axi.hist(data[i], bins=12)\n",
    "    axi.set_ylabel(ylabels[i])\n",
    "    axi.set_title(f'{title[i]} \\n \\\n",
    "                    начальная дата: {data[i].min().date()} \\n \\\n",
    "                    конечная дата: {data[i].max().date()} \\n \\\n",
    "                    уникальных значений: {data[i].nunique()}')\n",
    "    \n",
    "\n",
    "fig.tight_layout()\n",
    "\n",
    "plt.show()"
   ]
  },
  {
   "cell_type": "markdown",
   "metadata": {},
   "source": [
    "Клиенты почти равномерно подключали тариф в течение 2018 года, при этом более всего выделяются апрель и август: возможно, в эти месяцы проводились маркетинговые кампании по привлечению клиентов. Аномалий в данных не выявлено.\n",
    "\n",
    "Клиенты совершали звонки, отправляли сообщения и использовали мобильный интернет ежедневно в течение 2018 года.  Форма распределения количества этих действий по датам совершения отражает факт равномерного подключения пользователей к тарифам в течение года: количество звонков/сообщений/сессий постоянно растет, т.к. пользователей становится больше. Аномалий в данных не выявлено.\n",
    "\n",
    "Необходимо отметить, что среди дат отправки сообщений (364 уникальных значения) нет даты '01.01.2018'. Причины отсутствия данных за 01.01.2018 могут быть разными: технический сбой отправки сообщений в эту дату, ошибка выгрузки данных, реальное отсутствие отправленных сообщений. При этом потеря данных по отправленным сообщениям (если это реальная потеря) минимальна: сообщения могли отправлять только 2 пользователя, которые были подключены день-в-день, т.е. 01.01.2018 (подтверждение ниже). Поэтому оставляем все как есть."
   ]
  },
  {
   "cell_type": "markdown",
   "metadata": {},
   "source": [
    "Расчет количества клиентов, подключеных к тарифам 01.01.2018:"
   ]
  },
  {
   "cell_type": "code",
   "execution_count": 25,
   "metadata": {},
   "outputs": [
    {
     "data": {
      "text/plain": [
       "2"
      ]
     },
     "execution_count": 25,
     "metadata": {},
     "output_type": "execute_result"
    }
   ],
   "source": [
    "# фильтрация данных с расчетом кол-ва оставшихся значений\n",
    "df_users.query('reg_date == \"2018-01-01\"')['user_id'].count()"
   ]
  },
  {
   "cell_type": "markdown",
   "metadata": {},
   "source": [
    "Дополнительно хочется проверить, что совершение звонков/отправка сообщений/использование мобильного интернета по каждому пользователю начинаются не ранее даты подключения. Формируем предположение: клиент мог в течение рассматриваемого года переключиться с одного тарифа на другой, при этом данные по звонкам/сообщениям/трафику выводятся за весь год целиком. Осуществим проверку этого предположения в несколько этапов:\n",
    "* группировка таблиц со звонками/сообщениями/трафиком по id клиента с расчетом минимальной даты совершения;\n",
    "* слияние строк из трех таблиц в одну таблицу;\n",
    "* группировка общей таблицы по id клиента с расчетом минимальной даты совершения;\n",
    "* слияние с фрагментом клиентской таблицы для добавления столбца с датой подключения;\n",
    "* логическое сравнение двух дат."
   ]
  },
  {
   "cell_type": "code",
   "execution_count": 26,
   "metadata": {},
   "outputs": [
    {
     "data": {
      "text/html": [
       "<div>\n",
       "<style scoped>\n",
       "    .dataframe tbody tr th:only-of-type {\n",
       "        vertical-align: middle;\n",
       "    }\n",
       "\n",
       "    .dataframe tbody tr th {\n",
       "        vertical-align: top;\n",
       "    }\n",
       "\n",
       "    .dataframe thead th {\n",
       "        text-align: right;\n",
       "    }\n",
       "</style>\n",
       "<table border=\"1\" class=\"dataframe\">\n",
       "  <thead>\n",
       "    <tr style=\"text-align: right;\">\n",
       "      <th></th>\n",
       "      <th>user_id</th>\n",
       "      <th>date</th>\n",
       "      <th>reg_date</th>\n",
       "    </tr>\n",
       "  </thead>\n",
       "  <tbody>\n",
       "    <tr>\n",
       "      <th>0</th>\n",
       "      <td>1000</td>\n",
       "      <td>2018-05-25</td>\n",
       "      <td>2018-05-25</td>\n",
       "    </tr>\n",
       "    <tr>\n",
       "      <th>1</th>\n",
       "      <td>1001</td>\n",
       "      <td>2018-11-01</td>\n",
       "      <td>2018-11-01</td>\n",
       "    </tr>\n",
       "    <tr>\n",
       "      <th>2</th>\n",
       "      <td>1002</td>\n",
       "      <td>2018-06-17</td>\n",
       "      <td>2018-06-17</td>\n",
       "    </tr>\n",
       "    <tr>\n",
       "      <th>3</th>\n",
       "      <td>1003</td>\n",
       "      <td>2018-08-17</td>\n",
       "      <td>2018-08-17</td>\n",
       "    </tr>\n",
       "    <tr>\n",
       "      <th>4</th>\n",
       "      <td>1004</td>\n",
       "      <td>2018-05-14</td>\n",
       "      <td>2018-05-14</td>\n",
       "    </tr>\n",
       "  </tbody>\n",
       "</table>\n",
       "</div>"
      ],
      "text/plain": [
       "   user_id       date   reg_date\n",
       "0     1000 2018-05-25 2018-05-25\n",
       "1     1001 2018-11-01 2018-11-01\n",
       "2     1002 2018-06-17 2018-06-17\n",
       "3     1003 2018-08-17 2018-08-17\n",
       "4     1004 2018-05-14 2018-05-14"
      ]
     },
     "execution_count": 26,
     "metadata": {},
     "output_type": "execute_result"
    }
   ],
   "source": [
    "# группировка таблиц по id клиента с расчетом минимальной даты совершения\n",
    "df1 = df_calls.groupby('user_id')['call_date'].min().reset_index().rename(columns={'call_date': 'date'})\n",
    "df2 = df_messages.groupby('user_id')['message_date'].min().reset_index().rename(columns={'message_date': 'date'})\n",
    "df3 = df_internet.groupby('user_id')['session_date'].min().reset_index().rename(columns={'session_date': 'date'})\n",
    "\n",
    "# слияние строк из трех таблиц в одну таблицу\n",
    "df_123 = pd.concat([df1, df2, df3], ignore_index=True)\n",
    "\n",
    "# объединение таблиц\n",
    "df_4 = df_123.groupby('user_id')['date'].min().reset_index()\\\n",
    "            .merge(df_users[['user_id', 'reg_date']], on='user_id', how='left')\n",
    "\n",
    "# контроль результата\n",
    "df_4.head()"
   ]
  },
  {
   "cell_type": "code",
   "execution_count": 27,
   "metadata": {},
   "outputs": [
    {
     "data": {
      "text/plain": [
       "True"
      ]
     },
     "execution_count": 27,
     "metadata": {},
     "output_type": "execute_result"
    }
   ],
   "source": [
    "# подсчет строк, удовлетворяющих условию, и сравнение с общей длиной таблицы\n",
    "sum(df_4['date'] >= df_4['reg_date']) == len(df_4)"
   ]
  },
  {
   "cell_type": "markdown",
   "metadata": {},
   "source": [
    "Все строки таблицы удовлетворяют заданному условию, т.е. совершение звонков/отправка сообщений/использование мобильного интернета по каждому пользователю начинаются не ранее даты подключения к тарифу."
   ]
  },
  {
   "cell_type": "markdown",
   "metadata": {},
   "source": [
    "### Вывод по блоку \"Проверка данных на наличие ошибок и аномалий\""
   ]
  },
  {
   "cell_type": "markdown",
   "metadata": {},
   "source": [
    "В таблицах проверены числовые данные о возрасте клиента, длительности звонков, объеме трафика за одну интернет-сессию: ошибок и аномалий не выявлено.\n",
    "\n",
    "Также проверены даты подключения клиента к тарифу, совершения звонков, отправки сообщений, использования трафика: все даты находятся в диапазоне от 01.01.2018 до 31.12.2018, совершение звонков/отправка сообщений/использование мобильного интернета по каждому пользователю начинаются не ранее даты подключения к тарифу. Аномалий не выявлено.\n",
    "\n",
    "Отсутствуют данные об отправленных сообщениях за 01.01.2018 г., что может быть как реальностью, так и техническими ошибками - необходимо задать вопросы техническим специалистам, осуществляющим сбор/выгрузку данных. "
   ]
  },
  {
   "cell_type": "markdown",
   "metadata": {},
   "source": [
    "## Формирование итоговой таблицы, расчет выручки"
   ]
  },
  {
   "cell_type": "markdown",
   "metadata": {},
   "source": [
    "### Использование услуг каждым пользователем по месяцам"
   ]
  },
  {
   "cell_type": "markdown",
   "metadata": {},
   "source": [
    "Перед формированием итоговой таблицы необходимо учесть следующие знания о методах округления исходных данных, которые применяются при расчете выручки с каждого пользователя:\n",
    "\n",
    "*«Мегалайн» всегда округляет секунды до минут. Каждый звонок округляется отдельно: даже если он длился всего 1 секунду, будет засчитан как 1 минута.*"
   ]
  },
  {
   "cell_type": "markdown",
   "metadata": {},
   "source": [
    "Округлим длительность звонков в большую сторону до ближайшего целого:"
   ]
  },
  {
   "cell_type": "code",
   "execution_count": 28,
   "metadata": {},
   "outputs": [],
   "source": [
    "# округление значений в большую сторону до ближайшего целого\n",
    "df_calls['duration'] = np.ceil(df_calls['duration'])"
   ]
  },
  {
   "cell_type": "markdown",
   "metadata": {},
   "source": [
    "Далее в каждой из трех таблиц с данными о звонках/сообщениях/интернет-трафику создадим столбец, отражающий месяц совершения действия. Этим столбцам присвоим одинаковые названия для будущего слияния таблиц:"
   ]
  },
  {
   "cell_type": "code",
   "execution_count": 29,
   "metadata": {},
   "outputs": [],
   "source": [
    "# добавление новых столбцов в таблицы\n",
    "df_calls['month'] = df_calls['call_date'].dt.month\n",
    "df_messages['month'] = df_messages['message_date'].dt.month\n",
    "df_internet['month'] = df_internet['session_date'].dt.month"
   ]
  },
  {
   "cell_type": "markdown",
   "metadata": {},
   "source": [
    "Создадим дополнительные датафреймы по звонкам/сообщениям/интернет-трафику, которые будут представлять из себя попарную группировку данных по каждому пользователю и каждому месяцу:"
   ]
  },
  {
   "cell_type": "code",
   "execution_count": 30,
   "metadata": {},
   "outputs": [],
   "source": [
    "# группировка данных таблицы по парам \"пользователь-месяц\"\n",
    "df_calls_grouped = df_calls.groupby(['user_id', 'month']) \\\n",
    "                            .agg({'id': 'count', 'duration': 'sum'}) \\\n",
    "                            .reset_index() \\\n",
    "                            .rename(columns={'id': 'calls'})\n",
    "\n",
    "\n",
    "df_messages_grouped = df_messages.groupby(['user_id', 'month']) \\\n",
    "                                .agg({'id': 'count'}) \\\n",
    "                                .reset_index() \\\n",
    "                                .rename(columns={'id': 'messages'})\n",
    "\n",
    "df_internet_grouped = df_internet.groupby(['user_id', 'month']) \\\n",
    "                                .agg({'mb_used': 'sum'}) \\\n",
    "                                .reset_index()"
   ]
  },
  {
   "cell_type": "markdown",
   "metadata": {},
   "source": [
    "Проведем контроль данных в новых таблицах: общее кол-во/сумма по звонкам, сообщениям, трафику в сгруппированных таблицах не должна отличаться от этих же данных в исходных таблицах:"
   ]
  },
  {
   "cell_type": "code",
   "execution_count": 31,
   "metadata": {},
   "outputs": [
    {
     "name": "stdout",
     "output_type": "stream",
     "text": [
      "True\n",
      "True\n",
      "True\n",
      "True\n"
     ]
    }
   ],
   "source": [
    "# сравнение итогов в двух таблицах:\n",
    "print(df_calls_grouped['calls'].sum().round() == df_calls['id'].count().round())\n",
    "print(df_calls_grouped['duration'].sum().round() == df_calls['duration'].sum().round())\n",
    "print(df_messages_grouped['messages'].sum().round() == df_messages['id'].count().round())\n",
    "print(df_internet_grouped['mb_used'].sum().round() == df_internet['mb_used'].sum().round())"
   ]
  },
  {
   "cell_type": "markdown",
   "metadata": {},
   "source": [
    "Контроль пройден успешно."
   ]
  },
  {
   "cell_type": "markdown",
   "metadata": {},
   "source": [
    "Выведем фрагменты получившихся сгруппированных таблиц для визуального контроля:"
   ]
  },
  {
   "cell_type": "code",
   "execution_count": 32,
   "metadata": {},
   "outputs": [
    {
     "name": "stdout",
     "output_type": "stream",
     "text": [
      "Кол-во совершенных звонков и израсходованных минут по каждому пользователю по месяцам:\n"
     ]
    },
    {
     "data": {
      "text/html": [
       "<div>\n",
       "<style scoped>\n",
       "    .dataframe tbody tr th:only-of-type {\n",
       "        vertical-align: middle;\n",
       "    }\n",
       "\n",
       "    .dataframe tbody tr th {\n",
       "        vertical-align: top;\n",
       "    }\n",
       "\n",
       "    .dataframe thead th {\n",
       "        text-align: right;\n",
       "    }\n",
       "</style>\n",
       "<table border=\"1\" class=\"dataframe\">\n",
       "  <thead>\n",
       "    <tr style=\"text-align: right;\">\n",
       "      <th></th>\n",
       "      <th>user_id</th>\n",
       "      <th>month</th>\n",
       "      <th>calls</th>\n",
       "      <th>duration</th>\n",
       "    </tr>\n",
       "  </thead>\n",
       "  <tbody>\n",
       "    <tr>\n",
       "      <th>3169</th>\n",
       "      <td>1498</td>\n",
       "      <td>10</td>\n",
       "      <td>41</td>\n",
       "      <td>247.0</td>\n",
       "    </tr>\n",
       "    <tr>\n",
       "      <th>3170</th>\n",
       "      <td>1499</td>\n",
       "      <td>9</td>\n",
       "      <td>9</td>\n",
       "      <td>70.0</td>\n",
       "    </tr>\n",
       "    <tr>\n",
       "      <th>3171</th>\n",
       "      <td>1499</td>\n",
       "      <td>10</td>\n",
       "      <td>68</td>\n",
       "      <td>449.0</td>\n",
       "    </tr>\n",
       "    <tr>\n",
       "      <th>3172</th>\n",
       "      <td>1499</td>\n",
       "      <td>11</td>\n",
       "      <td>74</td>\n",
       "      <td>612.0</td>\n",
       "    </tr>\n",
       "    <tr>\n",
       "      <th>3173</th>\n",
       "      <td>1499</td>\n",
       "      <td>12</td>\n",
       "      <td>69</td>\n",
       "      <td>492.0</td>\n",
       "    </tr>\n",
       "  </tbody>\n",
       "</table>\n",
       "</div>"
      ],
      "text/plain": [
       "      user_id  month  calls  duration\n",
       "3169     1498     10     41     247.0\n",
       "3170     1499      9      9      70.0\n",
       "3171     1499     10     68     449.0\n",
       "3172     1499     11     74     612.0\n",
       "3173     1499     12     69     492.0"
      ]
     },
     "execution_count": 32,
     "metadata": {},
     "output_type": "execute_result"
    }
   ],
   "source": [
    "print('Кол-во совершенных звонков и израсходованных минут по каждому пользователю по месяцам:')\n",
    "df_calls_grouped.tail()"
   ]
  },
  {
   "cell_type": "code",
   "execution_count": 33,
   "metadata": {},
   "outputs": [
    {
     "name": "stdout",
     "output_type": "stream",
     "text": [
      "Кол-во отправленных сообщений по каждому пользователю по месяцам:\n"
     ]
    },
    {
     "data": {
      "text/html": [
       "<div>\n",
       "<style scoped>\n",
       "    .dataframe tbody tr th:only-of-type {\n",
       "        vertical-align: middle;\n",
       "    }\n",
       "\n",
       "    .dataframe tbody tr th {\n",
       "        vertical-align: top;\n",
       "    }\n",
       "\n",
       "    .dataframe thead th {\n",
       "        text-align: right;\n",
       "    }\n",
       "</style>\n",
       "<table border=\"1\" class=\"dataframe\">\n",
       "  <thead>\n",
       "    <tr style=\"text-align: right;\">\n",
       "      <th></th>\n",
       "      <th>user_id</th>\n",
       "      <th>month</th>\n",
       "      <th>messages</th>\n",
       "    </tr>\n",
       "  </thead>\n",
       "  <tbody>\n",
       "    <tr>\n",
       "      <th>2712</th>\n",
       "      <td>1498</td>\n",
       "      <td>10</td>\n",
       "      <td>42</td>\n",
       "    </tr>\n",
       "    <tr>\n",
       "      <th>2713</th>\n",
       "      <td>1499</td>\n",
       "      <td>9</td>\n",
       "      <td>11</td>\n",
       "    </tr>\n",
       "    <tr>\n",
       "      <th>2714</th>\n",
       "      <td>1499</td>\n",
       "      <td>10</td>\n",
       "      <td>48</td>\n",
       "    </tr>\n",
       "    <tr>\n",
       "      <th>2715</th>\n",
       "      <td>1499</td>\n",
       "      <td>11</td>\n",
       "      <td>59</td>\n",
       "    </tr>\n",
       "    <tr>\n",
       "      <th>2716</th>\n",
       "      <td>1499</td>\n",
       "      <td>12</td>\n",
       "      <td>66</td>\n",
       "    </tr>\n",
       "  </tbody>\n",
       "</table>\n",
       "</div>"
      ],
      "text/plain": [
       "      user_id  month  messages\n",
       "2712     1498     10        42\n",
       "2713     1499      9        11\n",
       "2714     1499     10        48\n",
       "2715     1499     11        59\n",
       "2716     1499     12        66"
      ]
     },
     "execution_count": 33,
     "metadata": {},
     "output_type": "execute_result"
    }
   ],
   "source": [
    "print('Кол-во отправленных сообщений по каждому пользователю по месяцам:')\n",
    "df_messages_grouped.tail()"
   ]
  },
  {
   "cell_type": "code",
   "execution_count": 34,
   "metadata": {},
   "outputs": [
    {
     "name": "stdout",
     "output_type": "stream",
     "text": [
      "Объем израсходованного интернет-трафика по каждому пользователю по месяцам:\n"
     ]
    },
    {
     "data": {
      "text/html": [
       "<div>\n",
       "<style scoped>\n",
       "    .dataframe tbody tr th:only-of-type {\n",
       "        vertical-align: middle;\n",
       "    }\n",
       "\n",
       "    .dataframe tbody tr th {\n",
       "        vertical-align: top;\n",
       "    }\n",
       "\n",
       "    .dataframe thead th {\n",
       "        text-align: right;\n",
       "    }\n",
       "</style>\n",
       "<table border=\"1\" class=\"dataframe\">\n",
       "  <thead>\n",
       "    <tr style=\"text-align: right;\">\n",
       "      <th></th>\n",
       "      <th>user_id</th>\n",
       "      <th>month</th>\n",
       "      <th>mb_used</th>\n",
       "    </tr>\n",
       "  </thead>\n",
       "  <tbody>\n",
       "    <tr>\n",
       "      <th>3198</th>\n",
       "      <td>1498</td>\n",
       "      <td>10</td>\n",
       "      <td>20579.36</td>\n",
       "    </tr>\n",
       "    <tr>\n",
       "      <th>3199</th>\n",
       "      <td>1499</td>\n",
       "      <td>9</td>\n",
       "      <td>1845.75</td>\n",
       "    </tr>\n",
       "    <tr>\n",
       "      <th>3200</th>\n",
       "      <td>1499</td>\n",
       "      <td>10</td>\n",
       "      <td>17788.51</td>\n",
       "    </tr>\n",
       "    <tr>\n",
       "      <th>3201</th>\n",
       "      <td>1499</td>\n",
       "      <td>11</td>\n",
       "      <td>17963.31</td>\n",
       "    </tr>\n",
       "    <tr>\n",
       "      <th>3202</th>\n",
       "      <td>1499</td>\n",
       "      <td>12</td>\n",
       "      <td>13055.58</td>\n",
       "    </tr>\n",
       "  </tbody>\n",
       "</table>\n",
       "</div>"
      ],
      "text/plain": [
       "      user_id  month   mb_used\n",
       "3198     1498     10  20579.36\n",
       "3199     1499      9   1845.75\n",
       "3200     1499     10  17788.51\n",
       "3201     1499     11  17963.31\n",
       "3202     1499     12  13055.58"
      ]
     },
     "execution_count": 34,
     "metadata": {},
     "output_type": "execute_result"
    }
   ],
   "source": [
    "print('Объем израсходованного интернет-трафика по каждому пользователю по месяцам:')\n",
    "df_internet_grouped.tail()"
   ]
  },
  {
   "cell_type": "markdown",
   "metadata": {},
   "source": [
    "Таким образом сгруппированные датафреймы отображают для каждого пользователя помесячную статистику израсходованных объемов услуг."
   ]
  },
  {
   "cell_type": "markdown",
   "metadata": {},
   "source": [
    "### Формирование итоговой таблицы"
   ]
  },
  {
   "cell_type": "markdown",
   "metadata": {},
   "source": [
    "Для расчета ежемесячной выручки с каждого пользователя требуется объединение таблицы пользователей с таблицей по условиям тарифов и с данными сгруппированных помесячно таблиц по объемам использованных услуг. Вычислим минимальную длину такой таблицы для последконтроля:"
   ]
  },
  {
   "cell_type": "code",
   "execution_count": 35,
   "metadata": {},
   "outputs": [
    {
     "data": {
      "text/plain": [
       "3203"
      ]
     },
     "execution_count": 35,
     "metadata": {},
     "output_type": "execute_result"
    }
   ],
   "source": [
    "# поиск максимума среди набора чисел\n",
    "max(len(df_calls_grouped), len(df_messages_grouped), len(df_internet_grouped))"
   ]
  },
  {
   "cell_type": "markdown",
   "metadata": {},
   "source": [
    "Таким образом, минимальная длина итоговой таблицы должна быть не менее 3203 строк. К ней могут добавиться строки по пользователям, которые за указанный период не совершали никаких действий (звонки/сообщения/трафик), а также по пользователям, у которых в сгруппированных таблицах по использованным услугам разный набор пар \"user_id - month\"."
   ]
  },
  {
   "cell_type": "markdown",
   "metadata": {},
   "source": [
    "Произведем последовательное объединение таблиц:"
   ]
  },
  {
   "cell_type": "code",
   "execution_count": 36,
   "metadata": {},
   "outputs": [],
   "source": [
    "# последовательное объединение таблиц с сохранением результата в новый датафрейм\n",
    "df_main = df_calls_grouped.merge(df_messages_grouped, on=['user_id', 'month'], how='outer') \\\n",
    "                            .merge(df_internet_grouped, on=['user_id', 'month'], how='outer') \\\n",
    "                            .merge(df_users, on='user_id', how='right') \\\n",
    "                            .merge(df_tariffs, on='tariff', how='left')"
   ]
  },
  {
   "cell_type": "markdown",
   "metadata": {},
   "source": [
    "Выведем фрагемент итоговой таблицы для визуального контроля:"
   ]
  },
  {
   "cell_type": "code",
   "execution_count": 37,
   "metadata": {},
   "outputs": [
    {
     "data": {
      "text/html": [
       "<div>\n",
       "<style scoped>\n",
       "    .dataframe tbody tr th:only-of-type {\n",
       "        vertical-align: middle;\n",
       "    }\n",
       "\n",
       "    .dataframe tbody tr th {\n",
       "        vertical-align: top;\n",
       "    }\n",
       "\n",
       "    .dataframe thead th {\n",
       "        text-align: right;\n",
       "    }\n",
       "</style>\n",
       "<table border=\"1\" class=\"dataframe\">\n",
       "  <thead>\n",
       "    <tr style=\"text-align: right;\">\n",
       "      <th></th>\n",
       "      <th>user_id</th>\n",
       "      <th>month</th>\n",
       "      <th>calls</th>\n",
       "      <th>duration</th>\n",
       "      <th>messages</th>\n",
       "      <th>mb_used</th>\n",
       "      <th>age</th>\n",
       "      <th>churn_date</th>\n",
       "      <th>city</th>\n",
       "      <th>first_name</th>\n",
       "      <th>last_name</th>\n",
       "      <th>reg_date</th>\n",
       "      <th>tariff</th>\n",
       "      <th>messages_included</th>\n",
       "      <th>mb_per_month_included</th>\n",
       "      <th>minutes_included</th>\n",
       "      <th>rub_monthly_fee</th>\n",
       "      <th>rub_per_gb</th>\n",
       "      <th>rub_per_message</th>\n",
       "      <th>rub_per_minute</th>\n",
       "    </tr>\n",
       "  </thead>\n",
       "  <tbody>\n",
       "    <tr>\n",
       "      <th>2649</th>\n",
       "      <td>1412</td>\n",
       "      <td>12.0</td>\n",
       "      <td>106.0</td>\n",
       "      <td>757.0</td>\n",
       "      <td>55.0</td>\n",
       "      <td>32050.42</td>\n",
       "      <td>63</td>\n",
       "      <td>NaT</td>\n",
       "      <td>Волгоград</td>\n",
       "      <td>Геодар</td>\n",
       "      <td>Афонин</td>\n",
       "      <td>2018-06-05</td>\n",
       "      <td>ultra</td>\n",
       "      <td>1000</td>\n",
       "      <td>30720</td>\n",
       "      <td>3000</td>\n",
       "      <td>1950</td>\n",
       "      <td>150</td>\n",
       "      <td>1</td>\n",
       "      <td>1</td>\n",
       "    </tr>\n",
       "    <tr>\n",
       "      <th>2729</th>\n",
       "      <td>1425</td>\n",
       "      <td>3.0</td>\n",
       "      <td>104.0</td>\n",
       "      <td>722.0</td>\n",
       "      <td>91.0</td>\n",
       "      <td>8003.84</td>\n",
       "      <td>51</td>\n",
       "      <td>NaT</td>\n",
       "      <td>Пермь</td>\n",
       "      <td>Вадим</td>\n",
       "      <td>Фомин</td>\n",
       "      <td>2018-02-27</td>\n",
       "      <td>smart</td>\n",
       "      <td>50</td>\n",
       "      <td>15360</td>\n",
       "      <td>500</td>\n",
       "      <td>550</td>\n",
       "      <td>200</td>\n",
       "      <td>3</td>\n",
       "      <td>3</td>\n",
       "    </tr>\n",
       "    <tr>\n",
       "      <th>1241</th>\n",
       "      <td>1193</td>\n",
       "      <td>4.0</td>\n",
       "      <td>76.0</td>\n",
       "      <td>551.0</td>\n",
       "      <td>20.0</td>\n",
       "      <td>12272.80</td>\n",
       "      <td>55</td>\n",
       "      <td>NaT</td>\n",
       "      <td>Тамбов</td>\n",
       "      <td>Арсен</td>\n",
       "      <td>Безруков</td>\n",
       "      <td>2018-01-01</td>\n",
       "      <td>smart</td>\n",
       "      <td>50</td>\n",
       "      <td>15360</td>\n",
       "      <td>500</td>\n",
       "      <td>550</td>\n",
       "      <td>200</td>\n",
       "      <td>3</td>\n",
       "      <td>3</td>\n",
       "    </tr>\n",
       "    <tr>\n",
       "      <th>2199</th>\n",
       "      <td>1346</td>\n",
       "      <td>9.0</td>\n",
       "      <td>134.0</td>\n",
       "      <td>982.0</td>\n",
       "      <td>56.0</td>\n",
       "      <td>2921.57</td>\n",
       "      <td>69</td>\n",
       "      <td>NaT</td>\n",
       "      <td>Саратов</td>\n",
       "      <td>Адам</td>\n",
       "      <td>Антропов</td>\n",
       "      <td>2018-07-03</td>\n",
       "      <td>ultra</td>\n",
       "      <td>1000</td>\n",
       "      <td>30720</td>\n",
       "      <td>3000</td>\n",
       "      <td>1950</td>\n",
       "      <td>150</td>\n",
       "      <td>1</td>\n",
       "      <td>1</td>\n",
       "    </tr>\n",
       "    <tr>\n",
       "      <th>2252</th>\n",
       "      <td>1357</td>\n",
       "      <td>9.0</td>\n",
       "      <td>42.0</td>\n",
       "      <td>342.0</td>\n",
       "      <td>48.0</td>\n",
       "      <td>14566.16</td>\n",
       "      <td>37</td>\n",
       "      <td>NaT</td>\n",
       "      <td>Томск</td>\n",
       "      <td>Касьян</td>\n",
       "      <td>Ермилов</td>\n",
       "      <td>2018-09-02</td>\n",
       "      <td>smart</td>\n",
       "      <td>50</td>\n",
       "      <td>15360</td>\n",
       "      <td>500</td>\n",
       "      <td>550</td>\n",
       "      <td>200</td>\n",
       "      <td>3</td>\n",
       "      <td>3</td>\n",
       "    </tr>\n",
       "  </tbody>\n",
       "</table>\n",
       "</div>"
      ],
      "text/plain": [
       "      user_id  month  calls  duration  messages   mb_used  age churn_date  \\\n",
       "2649     1412   12.0  106.0     757.0      55.0  32050.42   63        NaT   \n",
       "2729     1425    3.0  104.0     722.0      91.0   8003.84   51        NaT   \n",
       "1241     1193    4.0   76.0     551.0      20.0  12272.80   55        NaT   \n",
       "2199     1346    9.0  134.0     982.0      56.0   2921.57   69        NaT   \n",
       "2252     1357    9.0   42.0     342.0      48.0  14566.16   37        NaT   \n",
       "\n",
       "           city first_name last_name   reg_date tariff  messages_included  \\\n",
       "2649  Волгоград     Геодар    Афонин 2018-06-05  ultra               1000   \n",
       "2729      Пермь      Вадим     Фомин 2018-02-27  smart                 50   \n",
       "1241     Тамбов      Арсен  Безруков 2018-01-01  smart                 50   \n",
       "2199    Саратов       Адам  Антропов 2018-07-03  ultra               1000   \n",
       "2252      Томск     Касьян   Ермилов 2018-09-02  smart                 50   \n",
       "\n",
       "      mb_per_month_included  minutes_included  rub_monthly_fee  rub_per_gb  \\\n",
       "2649                  30720              3000             1950         150   \n",
       "2729                  15360               500              550         200   \n",
       "1241                  15360               500              550         200   \n",
       "2199                  30720              3000             1950         150   \n",
       "2252                  15360               500              550         200   \n",
       "\n",
       "      rub_per_message  rub_per_minute  \n",
       "2649                1               1  \n",
       "2729                3               3  \n",
       "1241                3               3  \n",
       "2199                1               1  \n",
       "2252                3               3  "
      ]
     },
     "execution_count": 37,
     "metadata": {},
     "output_type": "execute_result"
    }
   ],
   "source": [
    "df_main.sample(5)"
   ]
  },
  {
   "cell_type": "markdown",
   "metadata": {},
   "source": [
    "Проверим длину итоговой таблицы и количество отдельных уникальных значений:"
   ]
  },
  {
   "cell_type": "code",
   "execution_count": 38,
   "metadata": {},
   "outputs": [
    {
     "name": "stdout",
     "output_type": "stream",
     "text": [
      "Длина таблицы: 3216 строк\n",
      "Уникальных пользователей в таблице: 500\n",
      "Уникальных месяцев в таблице: 12\n"
     ]
    }
   ],
   "source": [
    "print(f\"Длина таблицы: {len(df_main)} строк\")\n",
    "print(f\"Уникальных пользователей в таблице: {df_main['user_id'].nunique()}\")\n",
    "print(f\"Уникальных месяцев в таблице: {df_main['month'].nunique()}\")"
   ]
  },
  {
   "cell_type": "markdown",
   "metadata": {},
   "source": [
    "Проведем контроль данных в объединенной таблице: общее кол-во/сумма по звонкам, сообщениям, трафику не должна отличаться от этих же данных в исходных таблицах:"
   ]
  },
  {
   "cell_type": "code",
   "execution_count": 39,
   "metadata": {},
   "outputs": [
    {
     "name": "stdout",
     "output_type": "stream",
     "text": [
      "True\n",
      "True\n",
      "True\n",
      "True\n"
     ]
    }
   ],
   "source": [
    "# попарное сравнение итогов в разных таблицах:\n",
    "print(df_calls_grouped['calls'].sum().round() == df_main['calls'].sum().round())\n",
    "print(df_calls_grouped['duration'].sum().round() == df_main['duration'].sum().round())\n",
    "print(df_messages_grouped['messages'].sum().round() == df_main['messages'].sum().round())\n",
    "print(df_internet_grouped['mb_used'].sum().round() == df_main['mb_used'].sum().round())"
   ]
  },
  {
   "cell_type": "markdown",
   "metadata": {},
   "source": [
    "Таким образом, объединение таблиц произведено корректно, данные по использованию услуг каждым из 500 уникальных пользователей перенесены в помесячной детализации."
   ]
  },
  {
   "cell_type": "markdown",
   "metadata": {},
   "source": [
    "После объединения таблиц появились пропущенные значения в отдельных столбцах: посмотрим на их количество, заодно осуществим контроль по всем остальным столбцам:"
   ]
  },
  {
   "cell_type": "code",
   "execution_count": 40,
   "metadata": {},
   "outputs": [
    {
     "data": {
      "text/plain": [
       "user_id                     0\n",
       "month                       2\n",
       "calls                      42\n",
       "duration                   42\n",
       "messages                  499\n",
       "mb_used                    13\n",
       "age                         0\n",
       "churn_date               3027\n",
       "city                        0\n",
       "first_name                  0\n",
       "last_name                   0\n",
       "reg_date                    0\n",
       "tariff                      0\n",
       "messages_included           0\n",
       "mb_per_month_included       0\n",
       "minutes_included            0\n",
       "rub_monthly_fee             0\n",
       "rub_per_gb                  0\n",
       "rub_per_message             0\n",
       "rub_per_minute              0\n",
       "dtype: int64"
      ]
     },
     "execution_count": 40,
     "metadata": {},
     "output_type": "execute_result"
    }
   ],
   "source": [
    "# вывод количества пропущенных значений\n",
    "df_main.isna().sum()"
   ]
  },
  {
   "cell_type": "markdown",
   "metadata": {},
   "source": [
    "Пропуски в столбце `month` появились в результате того, что 2 из 500 пользователей в течение года ни разу не пользовались не совершили ни одного \"действия\". Посмотрим на них детальнее:"
   ]
  },
  {
   "cell_type": "code",
   "execution_count": 41,
   "metadata": {},
   "outputs": [
    {
     "data": {
      "text/html": [
       "<div>\n",
       "<style scoped>\n",
       "    .dataframe tbody tr th:only-of-type {\n",
       "        vertical-align: middle;\n",
       "    }\n",
       "\n",
       "    .dataframe tbody tr th {\n",
       "        vertical-align: top;\n",
       "    }\n",
       "\n",
       "    .dataframe thead th {\n",
       "        text-align: right;\n",
       "    }\n",
       "</style>\n",
       "<table border=\"1\" class=\"dataframe\">\n",
       "  <thead>\n",
       "    <tr style=\"text-align: right;\">\n",
       "      <th></th>\n",
       "      <th>user_id</th>\n",
       "      <th>month</th>\n",
       "      <th>calls</th>\n",
       "      <th>duration</th>\n",
       "      <th>messages</th>\n",
       "      <th>mb_used</th>\n",
       "      <th>age</th>\n",
       "      <th>churn_date</th>\n",
       "      <th>city</th>\n",
       "      <th>first_name</th>\n",
       "      <th>last_name</th>\n",
       "      <th>reg_date</th>\n",
       "      <th>tariff</th>\n",
       "      <th>messages_included</th>\n",
       "      <th>mb_per_month_included</th>\n",
       "      <th>minutes_included</th>\n",
       "      <th>rub_monthly_fee</th>\n",
       "      <th>rub_per_gb</th>\n",
       "      <th>rub_per_message</th>\n",
       "      <th>rub_per_minute</th>\n",
       "    </tr>\n",
       "  </thead>\n",
       "  <tbody>\n",
       "    <tr>\n",
       "      <th>827</th>\n",
       "      <td>1128</td>\n",
       "      <td>NaN</td>\n",
       "      <td>NaN</td>\n",
       "      <td>NaN</td>\n",
       "      <td>NaN</td>\n",
       "      <td>NaN</td>\n",
       "      <td>51</td>\n",
       "      <td>2018-12-23</td>\n",
       "      <td>Волжский</td>\n",
       "      <td>Ксения</td>\n",
       "      <td>Агаева</td>\n",
       "      <td>2018-12-15</td>\n",
       "      <td>ultra</td>\n",
       "      <td>1000</td>\n",
       "      <td>30720</td>\n",
       "      <td>3000</td>\n",
       "      <td>1950</td>\n",
       "      <td>150</td>\n",
       "      <td>1</td>\n",
       "      <td>1</td>\n",
       "    </tr>\n",
       "    <tr>\n",
       "      <th>2335</th>\n",
       "      <td>1371</td>\n",
       "      <td>NaN</td>\n",
       "      <td>NaN</td>\n",
       "      <td>NaN</td>\n",
       "      <td>NaN</td>\n",
       "      <td>NaN</td>\n",
       "      <td>50</td>\n",
       "      <td>2018-12-30</td>\n",
       "      <td>Омск</td>\n",
       "      <td>Ириней</td>\n",
       "      <td>Трофимов</td>\n",
       "      <td>2018-12-25</td>\n",
       "      <td>smart</td>\n",
       "      <td>50</td>\n",
       "      <td>15360</td>\n",
       "      <td>500</td>\n",
       "      <td>550</td>\n",
       "      <td>200</td>\n",
       "      <td>3</td>\n",
       "      <td>3</td>\n",
       "    </tr>\n",
       "  </tbody>\n",
       "</table>\n",
       "</div>"
      ],
      "text/plain": [
       "      user_id  month  calls  duration  messages  mb_used  age churn_date  \\\n",
       "827      1128    NaN    NaN       NaN       NaN      NaN   51 2018-12-23   \n",
       "2335     1371    NaN    NaN       NaN       NaN      NaN   50 2018-12-30   \n",
       "\n",
       "          city first_name last_name   reg_date tariff  messages_included  \\\n",
       "827   Волжский     Ксения    Агаева 2018-12-15  ultra               1000   \n",
       "2335      Омск     Ириней  Трофимов 2018-12-25  smart                 50   \n",
       "\n",
       "      mb_per_month_included  minutes_included  rub_monthly_fee  rub_per_gb  \\\n",
       "827                   30720              3000             1950         150   \n",
       "2335                  15360               500              550         200   \n",
       "\n",
       "      rub_per_message  rub_per_minute  \n",
       "827                 1               1  \n",
       "2335                3               3  "
      ]
     },
     "execution_count": 41,
     "metadata": {},
     "output_type": "execute_result"
    }
   ],
   "source": [
    "# логическая индексация по нескольким условиям с выводом отфильтрованной таблицы\n",
    "df_main.loc[df_main['calls'].isna() & \\\n",
    "            df_main['duration'].isna() & \\\n",
    "            df_main['messages'].isna() & \n",
    "            df_main['mb_used'].isna()]"
   ]
  },
  {
   "cell_type": "markdown",
   "metadata": {},
   "source": [
    "Оба пользователя подключились к тарифу в декабре 2018 года и отключились от него через несколько дней. Поскольку у нас нет информации о порядке взимания абонентской платы, можно лишь предположить варианты:\n",
    "* если впервые абонентская плата взимается при подключении, то оба пользователя должны принести компании минимальный доход в размере одной ежемесячной платы или в размере, пропорциональном кол-ву дней подключения;\n",
    "* если у компании действует бесплатный пробный период при подключении или существуют прочие условия, приводящие к отсутствию взимания платы, то эти клиенты дохода компании не принесли.\n",
    "\n",
    "Если бы у этих пользователей был хотя бы 1 полный месяц использования тарифа, то можно было бы по ним рассчитать выручку в размере 1 абонентской платы. Но в связи с недостаточностью информации и в целях \"не завышения\" общей выручки, отбросим эти строки:"
   ]
  },
  {
   "cell_type": "code",
   "execution_count": 42,
   "metadata": {},
   "outputs": [],
   "source": [
    "# удаление строк таблицы с пропусками в столбце 'month'\n",
    "df_main = df_main.dropna(subset=['month'])"
   ]
  },
  {
   "cell_type": "markdown",
   "metadata": {},
   "source": [
    "Пропуски в столбцах `calls_number`, `calls_duration`, `messages_number`, `gb_used` появились из-за того, что пользователь мог в течение месяца пользоваться не всем набором услуг одновременно: например, только звонить, но не отправлять сообщения и не пользоваться трафиком и т.д. Для будущих расчетов средних значений по всем пользователям такие пропуски логично заменить на нулевые значения (будет означать, например: пользователь отправил 0 сообщений в месяце N):"
   ]
  },
  {
   "cell_type": "code",
   "execution_count": 43,
   "metadata": {},
   "outputs": [],
   "source": [
    "# замена пропущенных значений на 0\n",
    "df_main[['calls', 'duration', 'messages', 'mb_used']] = df_main[['calls', 'duration', 'messages', 'mb_used']].fillna(0)"
   ]
  },
  {
   "cell_type": "markdown",
   "metadata": {},
   "source": [
    "Пропуски в столбце `churn_date` с датой прекращения пользования тарифом объяснены [ранее](#intro1) и не требуют устранения."
   ]
  },
  {
   "cell_type": "markdown",
   "metadata": {},
   "source": [
    "Дополнительно хочется проверить, присутствуют ли в таблице пользователи, которые не совершали никаких действий в течение одного или нескольких месяцев с момента подключения: для них может исказиться расчет выручки за эти месяцы \"бездействия\", поскольку строк в таблице не будет (не было звонков/сообщений/трафика), но при этом абонентская плата начисляться могла (хотя это нам тоже неизвестно).\n",
    "\n",
    "Напишем функцию для расчета количества месяцев использования тарифа исходя из даты подключения до конца года или до момента прекращения пользования тарифом:"
   ]
  },
  {
   "cell_type": "code",
   "execution_count": 44,
   "metadata": {},
   "outputs": [],
   "source": [
    "# функция одной строки для расчета кол-ва месяцев\n",
    "def month_number(row): # на вход передаем строку датафрейма\n",
    "    if not pd.isna(row['churn_date']): # если есть дата отключения,\n",
    "        # то считаем месяцы между датами отключения и подключения (включительно)\n",
    "        month_number = row['churn_date'].month - row['reg_date'].month + 1 \n",
    "    else:\n",
    "        # иначе считаем кол-во месяцев до конца года с даты подключения (включительно)\n",
    "        month_number = 12 - row['reg_date'].month + 1 \n",
    "    \n",
    "    # возвращаем кол-во месяцев\n",
    "    return month_number"
   ]
  },
  {
   "cell_type": "markdown",
   "metadata": {},
   "source": [
    "Сформируем и объединим между собой дополнительные таблицы и применим функцию для расчета месяцев использования тарифа: "
   ]
  },
  {
   "cell_type": "code",
   "execution_count": 45,
   "metadata": {},
   "outputs": [
    {
     "data": {
      "text/html": [
       "<div>\n",
       "<style scoped>\n",
       "    .dataframe tbody tr th:only-of-type {\n",
       "        vertical-align: middle;\n",
       "    }\n",
       "\n",
       "    .dataframe tbody tr th {\n",
       "        vertical-align: top;\n",
       "    }\n",
       "\n",
       "    .dataframe thead th {\n",
       "        text-align: right;\n",
       "    }\n",
       "</style>\n",
       "<table border=\"1\" class=\"dataframe\">\n",
       "  <thead>\n",
       "    <tr style=\"text-align: right;\">\n",
       "      <th></th>\n",
       "      <th>user_id</th>\n",
       "      <th>reg_date</th>\n",
       "      <th>churn_date</th>\n",
       "      <th>month_x</th>\n",
       "      <th>month_y</th>\n",
       "    </tr>\n",
       "  </thead>\n",
       "  <tbody>\n",
       "    <tr>\n",
       "      <th>0</th>\n",
       "      <td>1000</td>\n",
       "      <td>2018-05-25</td>\n",
       "      <td>NaT</td>\n",
       "      <td>8</td>\n",
       "      <td>8</td>\n",
       "    </tr>\n",
       "    <tr>\n",
       "      <th>1</th>\n",
       "      <td>1001</td>\n",
       "      <td>2018-11-01</td>\n",
       "      <td>NaT</td>\n",
       "      <td>2</td>\n",
       "      <td>2</td>\n",
       "    </tr>\n",
       "    <tr>\n",
       "      <th>2</th>\n",
       "      <td>1002</td>\n",
       "      <td>2018-06-17</td>\n",
       "      <td>NaT</td>\n",
       "      <td>7</td>\n",
       "      <td>7</td>\n",
       "    </tr>\n",
       "    <tr>\n",
       "      <th>3</th>\n",
       "      <td>1003</td>\n",
       "      <td>2018-08-17</td>\n",
       "      <td>NaT</td>\n",
       "      <td>5</td>\n",
       "      <td>5</td>\n",
       "    </tr>\n",
       "    <tr>\n",
       "      <th>4</th>\n",
       "      <td>1004</td>\n",
       "      <td>2018-05-14</td>\n",
       "      <td>NaT</td>\n",
       "      <td>8</td>\n",
       "      <td>8</td>\n",
       "    </tr>\n",
       "  </tbody>\n",
       "</table>\n",
       "</div>"
      ],
      "text/plain": [
       "   user_id   reg_date churn_date  month_x  month_y\n",
       "0     1000 2018-05-25        NaT        8        8\n",
       "1     1001 2018-11-01        NaT        2        2\n",
       "2     1002 2018-06-17        NaT        7        7\n",
       "3     1003 2018-08-17        NaT        5        5\n",
       "4     1004 2018-05-14        NaT        8        8"
      ]
     },
     "execution_count": 45,
     "metadata": {},
     "output_type": "execute_result"
    }
   ],
   "source": [
    "# таблица по каждому пользователю с датами подключения и отключения на основе исходной таблицы по клиентам\n",
    "df1 = df_users[['user_id', 'reg_date', 'churn_date']]\n",
    "\n",
    "# применение функции одной строки для всей таблицы и сохранение результата в новом столбце\n",
    "df1['month'] = df1.apply(month_number, axis=1)\n",
    "\n",
    "# таблица по каждому пользователю с кол-вом месяцев, в которых была хоть какая-то активность, на основе итоговой таблицы\n",
    "df2 = df_main.groupby('user_id')['month'].count().reset_index()\n",
    "\n",
    "# объединение двух таблиц\n",
    "df12 = df1.merge(df2, on='user_id', how='inner')\n",
    "\n",
    "# вывод фрагмента результирующей таблицы\n",
    "df12.head()"
   ]
  },
  {
   "cell_type": "markdown",
   "metadata": {},
   "source": [
    "Проверим равенство значений в двух столбцах таблицы и сравним с общей длиной таблицы:"
   ]
  },
  {
   "cell_type": "code",
   "execution_count": 46,
   "metadata": {},
   "outputs": [
    {
     "data": {
      "text/plain": [
       "True"
      ]
     },
     "execution_count": 46,
     "metadata": {},
     "output_type": "execute_result"
    }
   ],
   "source": [
    "# проверка выражения на истинность\n",
    "sum(df12['month_x'] == df12['month_y']) == len(df12)"
   ]
  },
  {
   "cell_type": "markdown",
   "metadata": {},
   "source": [
    "Видим, что кол-во строк, значения в столбцах `month` у которых равны друг другу, равно общей длине датафрейма. Таким образом, среди наших пользователей нет тех, кто периодически не пользовался услугами связи в течение периода действия тарифа, т.е. расход выручки искажен не будет."
   ]
  },
  {
   "cell_type": "markdown",
   "metadata": {},
   "source": [
    "После объединения таблиц данные в столбце `month` представлены в формате float, что не совсем логично. Исправим это:"
   ]
  },
  {
   "cell_type": "code",
   "execution_count": 47,
   "metadata": {
    "scrolled": true
   },
   "outputs": [],
   "source": [
    "df_main['month'] = df_main['month'].astype('int')"
   ]
  },
  {
   "cell_type": "markdown",
   "metadata": {},
   "source": [
    "### Расчет выручки по каждому пользователю по месяцам"
   ]
  },
  {
   "cell_type": "markdown",
   "metadata": {},
   "source": [
    "Перед расчетом выручки необходимо учесть следующие знания о методах округления исходных данных, которые применяются при расчете выручки с каждого пользователя:\n",
    "\n",
    "*«Мегалайн» всегда округляет мегабайты — до гигабайт. Для веб-трафика отдельные сессии не считаются. Вместо этого общая сумма за месяц округляется в бо́льшую сторону. Если абонент использует 1025 мегабайт в этом месяце, с него возьмут плату за 2 гигабайта.*"
   ]
  },
  {
   "cell_type": "markdown",
   "metadata": {},
   "source": [
    "Изменим в итоговой таблице столбец с трафиком в мегабайтах, на гигабайты с округлением значения в большую сторону до ближайшего целого:"
   ]
  },
  {
   "cell_type": "code",
   "execution_count": 48,
   "metadata": {},
   "outputs": [],
   "source": [
    "# добавление нового столбца на базе имеющегося с округлением значений в большую сторону до ближайшего целого\n",
    "df_main['mb_used'] = np.ceil(df_main['mb_used'] / 1024)\n",
    "df_main = df_main.rename(columns={'mb_used': 'gb_used'})"
   ]
  },
  {
   "cell_type": "markdown",
   "metadata": {},
   "source": [
    "Создадим функцию для одной строки, c помощью которой рассчитаем ежемесячную выручку по клиенту:"
   ]
  },
  {
   "cell_type": "code",
   "execution_count": 49,
   "metadata": {},
   "outputs": [],
   "source": [
    "def monthly_income_calculator(row): # в функцию передается строка таблицы\n",
    "    \n",
    "    # расчет доходов от \"перелимитов\" по услугам\n",
    "    add_minutes = (row['duration'] - row['minutes_included']) * row['rub_per_minute']\n",
    "    add_messages = (row['messages'] - row['messages_included']) * row['rub_per_message']\n",
    "    add_traffic = (row['gb_used'] - (row['mb_per_month_included'] / 1024)) * row['rub_per_gb']\n",
    "    \n",
    "    # счетчик выручки\n",
    "    monthly_income = 0\n",
    "    \n",
    "    # каждая из трех переменных с доходами от \"перелимитов\" сравнивается с нулем:\n",
    "    for i in [add_minutes, add_messages, add_traffic]:\n",
    "        if i > 0: # если оказывается больше нуля,\n",
    "            monthly_income += i # то счетчик прирастает на значение дохода от \"перелимита\"\n",
    "    \n",
    "    # к накопленному доходу добавляется ежемесячная плата\n",
    "    monthly_income += row['rub_monthly_fee']\n",
    "    \n",
    "    # возвращается значение дохода\n",
    "    return monthly_income"
   ]
  },
  {
   "cell_type": "markdown",
   "metadata": {},
   "source": [
    "Осуществляем расчет выручки по каждому клиенту помесячно:"
   ]
  },
  {
   "cell_type": "code",
   "execution_count": 50,
   "metadata": {},
   "outputs": [],
   "source": [
    "# создание нового столбца через применение функции к каждой строке\n",
    "df_main.insert(8, 'monthly_income', df_main.apply(monthly_income_calculator, axis=1))"
   ]
  },
  {
   "cell_type": "markdown",
   "metadata": {},
   "source": [
    "Выведем фрагемент итоговой таблицы для визуального контроля:"
   ]
  },
  {
   "cell_type": "code",
   "execution_count": 51,
   "metadata": {
    "scrolled": true
   },
   "outputs": [
    {
     "data": {
      "text/html": [
       "<div>\n",
       "<style scoped>\n",
       "    .dataframe tbody tr th:only-of-type {\n",
       "        vertical-align: middle;\n",
       "    }\n",
       "\n",
       "    .dataframe tbody tr th {\n",
       "        vertical-align: top;\n",
       "    }\n",
       "\n",
       "    .dataframe thead th {\n",
       "        text-align: right;\n",
       "    }\n",
       "</style>\n",
       "<table border=\"1\" class=\"dataframe\">\n",
       "  <thead>\n",
       "    <tr style=\"text-align: right;\">\n",
       "      <th></th>\n",
       "      <th>user_id</th>\n",
       "      <th>month</th>\n",
       "      <th>calls</th>\n",
       "      <th>duration</th>\n",
       "      <th>messages</th>\n",
       "      <th>gb_used</th>\n",
       "      <th>age</th>\n",
       "      <th>churn_date</th>\n",
       "      <th>monthly_income</th>\n",
       "      <th>city</th>\n",
       "      <th>first_name</th>\n",
       "      <th>last_name</th>\n",
       "      <th>reg_date</th>\n",
       "      <th>tariff</th>\n",
       "      <th>messages_included</th>\n",
       "      <th>mb_per_month_included</th>\n",
       "      <th>minutes_included</th>\n",
       "      <th>rub_monthly_fee</th>\n",
       "      <th>rub_per_gb</th>\n",
       "      <th>rub_per_message</th>\n",
       "      <th>rub_per_minute</th>\n",
       "    </tr>\n",
       "  </thead>\n",
       "  <tbody>\n",
       "    <tr>\n",
       "      <th>663</th>\n",
       "      <td>1104</td>\n",
       "      <td>9</td>\n",
       "      <td>55.0</td>\n",
       "      <td>451.0</td>\n",
       "      <td>85.0</td>\n",
       "      <td>16.0</td>\n",
       "      <td>60</td>\n",
       "      <td>NaT</td>\n",
       "      <td>1950.0</td>\n",
       "      <td>Нижний Тагил</td>\n",
       "      <td>Габриэль</td>\n",
       "      <td>Поляков</td>\n",
       "      <td>2018-02-21</td>\n",
       "      <td>ultra</td>\n",
       "      <td>1000</td>\n",
       "      <td>30720</td>\n",
       "      <td>3000</td>\n",
       "      <td>1950</td>\n",
       "      <td>150</td>\n",
       "      <td>1</td>\n",
       "      <td>1</td>\n",
       "    </tr>\n",
       "    <tr>\n",
       "      <th>1928</th>\n",
       "      <td>1303</td>\n",
       "      <td>7</td>\n",
       "      <td>16.0</td>\n",
       "      <td>101.0</td>\n",
       "      <td>7.0</td>\n",
       "      <td>3.0</td>\n",
       "      <td>36</td>\n",
       "      <td>NaT</td>\n",
       "      <td>1950.0</td>\n",
       "      <td>Смоленск</td>\n",
       "      <td>Алевтина</td>\n",
       "      <td>Абакшина</td>\n",
       "      <td>2018-07-25</td>\n",
       "      <td>ultra</td>\n",
       "      <td>1000</td>\n",
       "      <td>30720</td>\n",
       "      <td>3000</td>\n",
       "      <td>1950</td>\n",
       "      <td>150</td>\n",
       "      <td>1</td>\n",
       "      <td>1</td>\n",
       "    </tr>\n",
       "    <tr>\n",
       "      <th>2462</th>\n",
       "      <td>1385</td>\n",
       "      <td>4</td>\n",
       "      <td>54.0</td>\n",
       "      <td>348.0</td>\n",
       "      <td>96.0</td>\n",
       "      <td>29.0</td>\n",
       "      <td>26</td>\n",
       "      <td>NaT</td>\n",
       "      <td>1950.0</td>\n",
       "      <td>Москва</td>\n",
       "      <td>Алиса</td>\n",
       "      <td>Дубинина</td>\n",
       "      <td>2018-01-13</td>\n",
       "      <td>ultra</td>\n",
       "      <td>1000</td>\n",
       "      <td>30720</td>\n",
       "      <td>3000</td>\n",
       "      <td>1950</td>\n",
       "      <td>150</td>\n",
       "      <td>1</td>\n",
       "      <td>1</td>\n",
       "    </tr>\n",
       "    <tr>\n",
       "      <th>1097</th>\n",
       "      <td>1173</td>\n",
       "      <td>9</td>\n",
       "      <td>74.0</td>\n",
       "      <td>484.0</td>\n",
       "      <td>18.0</td>\n",
       "      <td>16.0</td>\n",
       "      <td>46</td>\n",
       "      <td>NaT</td>\n",
       "      <td>750.0</td>\n",
       "      <td>Красноярск</td>\n",
       "      <td>Агафья</td>\n",
       "      <td>Григорьева</td>\n",
       "      <td>2018-06-21</td>\n",
       "      <td>smart</td>\n",
       "      <td>50</td>\n",
       "      <td>15360</td>\n",
       "      <td>500</td>\n",
       "      <td>550</td>\n",
       "      <td>200</td>\n",
       "      <td>3</td>\n",
       "      <td>3</td>\n",
       "    </tr>\n",
       "    <tr>\n",
       "      <th>2688</th>\n",
       "      <td>1419</td>\n",
       "      <td>10</td>\n",
       "      <td>69.0</td>\n",
       "      <td>465.0</td>\n",
       "      <td>41.0</td>\n",
       "      <td>11.0</td>\n",
       "      <td>19</td>\n",
       "      <td>NaT</td>\n",
       "      <td>550.0</td>\n",
       "      <td>Новороссийск</td>\n",
       "      <td>Эльмира</td>\n",
       "      <td>Яшина</td>\n",
       "      <td>2018-07-19</td>\n",
       "      <td>smart</td>\n",
       "      <td>50</td>\n",
       "      <td>15360</td>\n",
       "      <td>500</td>\n",
       "      <td>550</td>\n",
       "      <td>200</td>\n",
       "      <td>3</td>\n",
       "      <td>3</td>\n",
       "    </tr>\n",
       "  </tbody>\n",
       "</table>\n",
       "</div>"
      ],
      "text/plain": [
       "      user_id  month  calls  duration  messages  gb_used  age churn_date  \\\n",
       "663      1104      9   55.0     451.0      85.0     16.0   60        NaT   \n",
       "1928     1303      7   16.0     101.0       7.0      3.0   36        NaT   \n",
       "2462     1385      4   54.0     348.0      96.0     29.0   26        NaT   \n",
       "1097     1173      9   74.0     484.0      18.0     16.0   46        NaT   \n",
       "2688     1419     10   69.0     465.0      41.0     11.0   19        NaT   \n",
       "\n",
       "      monthly_income          city first_name   last_name   reg_date tariff  \\\n",
       "663           1950.0  Нижний Тагил   Габриэль     Поляков 2018-02-21  ultra   \n",
       "1928          1950.0      Смоленск   Алевтина    Абакшина 2018-07-25  ultra   \n",
       "2462          1950.0        Москва      Алиса    Дубинина 2018-01-13  ultra   \n",
       "1097           750.0    Красноярск     Агафья  Григорьева 2018-06-21  smart   \n",
       "2688           550.0  Новороссийск    Эльмира       Яшина 2018-07-19  smart   \n",
       "\n",
       "      messages_included  mb_per_month_included  minutes_included  \\\n",
       "663                1000                  30720              3000   \n",
       "1928               1000                  30720              3000   \n",
       "2462               1000                  30720              3000   \n",
       "1097                 50                  15360               500   \n",
       "2688                 50                  15360               500   \n",
       "\n",
       "      rub_monthly_fee  rub_per_gb  rub_per_message  rub_per_minute  \n",
       "663              1950         150                1               1  \n",
       "1928             1950         150                1               1  \n",
       "2462             1950         150                1               1  \n",
       "1097              550         200                3               3  \n",
       "2688              550         200                3               3  "
      ]
     },
     "execution_count": 51,
     "metadata": {},
     "output_type": "execute_result"
    }
   ],
   "source": [
    "df_main.sample(5)"
   ]
  },
  {
   "cell_type": "markdown",
   "metadata": {},
   "source": [
    "### Вывод по блоку \"Формирование итоговой таблицы, расчет выручки\""
   ]
  },
  {
   "cell_type": "markdown",
   "metadata": {},
   "source": [
    "Создана итоговая таблица данных, из которой можно получить следующую информация *по каждому пользователю по месяцам*:\n",
    "* количество сделанных звонков и израсходованных минут;\n",
    "* количество отправленных сообщений;\n",
    "* объем израсходованного интернет-трафика;\n",
    "* выручка, включающая в себя фиксированную ежемесячную плату и стоимость дополнительных услуг при выходе пользователя за границы объемов услуг тарифного пакета."
   ]
  },
  {
   "cell_type": "markdown",
   "metadata": {},
   "source": [
    "## Исследовательский анализ данных"
   ]
  },
  {
   "cell_type": "markdown",
   "metadata": {},
   "source": [
    "Составим портреты клиентов-пользователей тарифов. Исследование потребления пользователями различных услуг оператора будем проводить по следующему плану:\n",
    "\n",
    "* В нашей основной таблице находятся ежемесячные показатели по расходу услуг (звонки, сообщения, трафик) пользователей каждого тарифа. На ее основе можно построить гистограмму распределения каждого из показателей, вычислить основные статистические показатели, после чего провести сравнительный анализ по тарифам;\n",
    "* Чтобы показать динамику среднемесячного показателя на 1 пользователя разных тарифов, необходимо сделать группировку основной таблицы по тарифам и месяцам, и внутри этой группировки рассчитать средние значения показателя. Для описания динамики удобно будет вывести столбчатую диаграмму, описать динамику и провести сравнительный анализ по тарифам."
   ]
  },
  {
   "cell_type": "markdown",
   "metadata": {},
   "source": [
    "Создадим несколько функций, которыми будем пользоваться при построении графиков:"
   ]
  },
  {
   "cell_type": "code",
   "execution_count": 52,
   "metadata": {},
   "outputs": [],
   "source": [
    "def build_hist(data, value, value_name, title, ax):\n",
    "    ax = sns.histplot(x=value, data=data, bins=50, element='step', hue='tariff', alpha=0.7, ax=ax)\n",
    "    ax.set_xlabel(value_name)\n",
    "    ax.set_ylabel('Частотность')\n",
    "    ax.set_title(title)"
   ]
  },
  {
   "cell_type": "code",
   "execution_count": 53,
   "metadata": {},
   "outputs": [],
   "source": [
    "# функция для построения \n",
    "def build_bar(data, value, value_name, title, ax):\n",
    "    ax = sns.barplot(x='month', y=value, data=data, ci=None, hue='tariff', ax=ax)\n",
    "    ax.set_xlabel('Месяц')\n",
    "    ax.set_ylabel(value_name)\n",
    "    ax.set_title(title)"
   ]
  },
  {
   "cell_type": "markdown",
   "metadata": {},
   "source": [
    "### Динамика длительности звонков (расхода минут)"
   ]
  },
  {
   "cell_type": "code",
   "execution_count": 54,
   "metadata": {},
   "outputs": [
    {
     "data": {
      "text/html": [
       "<div>\n",
       "<style scoped>\n",
       "    .dataframe tbody tr th:only-of-type {\n",
       "        vertical-align: middle;\n",
       "    }\n",
       "\n",
       "    .dataframe tbody tr th {\n",
       "        vertical-align: top;\n",
       "    }\n",
       "\n",
       "    .dataframe thead th {\n",
       "        text-align: right;\n",
       "    }\n",
       "</style>\n",
       "<table border=\"1\" class=\"dataframe\">\n",
       "  <thead>\n",
       "    <tr style=\"text-align: right;\">\n",
       "      <th></th>\n",
       "      <th>tariff</th>\n",
       "      <th>month</th>\n",
       "      <th>avg_duration</th>\n",
       "    </tr>\n",
       "  </thead>\n",
       "  <tbody>\n",
       "    <tr>\n",
       "      <th>12</th>\n",
       "      <td>ultra</td>\n",
       "      <td>1</td>\n",
       "      <td>428.0</td>\n",
       "    </tr>\n",
       "    <tr>\n",
       "      <th>13</th>\n",
       "      <td>ultra</td>\n",
       "      <td>2</td>\n",
       "      <td>297.0</td>\n",
       "    </tr>\n",
       "    <tr>\n",
       "      <th>22</th>\n",
       "      <td>ultra</td>\n",
       "      <td>11</td>\n",
       "      <td>541.0</td>\n",
       "    </tr>\n",
       "    <tr>\n",
       "      <th>21</th>\n",
       "      <td>ultra</td>\n",
       "      <td>10</td>\n",
       "      <td>558.0</td>\n",
       "    </tr>\n",
       "    <tr>\n",
       "      <th>20</th>\n",
       "      <td>ultra</td>\n",
       "      <td>9</td>\n",
       "      <td>539.0</td>\n",
       "    </tr>\n",
       "  </tbody>\n",
       "</table>\n",
       "</div>"
      ],
      "text/plain": [
       "   tariff  month  avg_duration\n",
       "12  ultra      1         428.0\n",
       "13  ultra      2         297.0\n",
       "22  ultra     11         541.0\n",
       "21  ultra     10         558.0\n",
       "20  ultra      9         539.0"
      ]
     },
     "execution_count": 54,
     "metadata": {},
     "output_type": "execute_result"
    }
   ],
   "source": [
    "# создание сводной таблицы\n",
    "df_duration_grouped = df_main.pivot_table(index=['tariff', 'month'], # для каждого тарифа и месяца\n",
    "                                          # считаем среднее, дисперсию и станд.отклонение для длительности\n",
    "                                          values='duration',\n",
    "                                          aggfunc=np.mean) \\\n",
    "                            .round(0) \\\n",
    "                            .reset_index() \\\n",
    "                            .sort_values(by='tariff', ascending=False)\n",
    "\n",
    "df_duration_grouped = df_duration_grouped.rename(columns={'duration': 'avg_duration'})\n",
    "\n",
    "df_duration_grouped.head()"
   ]
  },
  {
   "cell_type": "code",
   "execution_count": 55,
   "metadata": {},
   "outputs": [
    {
     "data": {
      "image/png": "[encoded data removed]",
      "text/plain": [
       "<Figure size 1152x360 with 2 Axes>"
      ]
     },
     "metadata": {
      "needs_background": "light"
     },
     "output_type": "display_data"
    }
   ],
   "source": [
    "# создаем фигуру\n",
    "fig = plt.figure(figsize=(16,5))\n",
    "\n",
    "ax0 = fig.add_subplot(1,2,1)\n",
    "ax1 = fig.add_subplot(1,2,2)\n",
    "\n",
    "build_hist(df_main, 'duration', 'Израсходовано минут за месяц', 'Гистограмма распределения ежемесячного расхода минут', ax0)\n",
    "build_bar(df_duration_grouped, 'avg_duration', 'Среднемесячный расход минут', 'Динамика среднемесячного расхода минут', ax1)\n",
    " \n",
    "fig.tight_layout()\n",
    "plt.show()"
   ]
  },
  {
   "cell_type": "code",
   "execution_count": 56,
   "metadata": {},
   "outputs": [
    {
     "data": {
      "text/html": [
       "<div>\n",
       "<style scoped>\n",
       "    .dataframe tbody tr th:only-of-type {\n",
       "        vertical-align: middle;\n",
       "    }\n",
       "\n",
       "    .dataframe tbody tr th {\n",
       "        vertical-align: top;\n",
       "    }\n",
       "\n",
       "    .dataframe thead tr th {\n",
       "        text-align: left;\n",
       "    }\n",
       "\n",
       "    .dataframe thead tr:last-of-type th {\n",
       "        text-align: right;\n",
       "    }\n",
       "</style>\n",
       "<table border=\"1\" class=\"dataframe\">\n",
       "  <thead>\n",
       "    <tr>\n",
       "      <th></th>\n",
       "      <th>mean</th>\n",
       "      <th>median</th>\n",
       "      <th>amax</th>\n",
       "      <th>var</th>\n",
       "      <th>std</th>\n",
       "    </tr>\n",
       "    <tr>\n",
       "      <th></th>\n",
       "      <th>duration</th>\n",
       "      <th>duration</th>\n",
       "      <th>duration</th>\n",
       "      <th>duration</th>\n",
       "      <th>duration</th>\n",
       "    </tr>\n",
       "    <tr>\n",
       "      <th>tariff</th>\n",
       "      <th></th>\n",
       "      <th></th>\n",
       "      <th></th>\n",
       "      <th></th>\n",
       "      <th></th>\n",
       "    </tr>\n",
       "  </thead>\n",
       "  <tbody>\n",
       "    <tr>\n",
       "      <th>smart</th>\n",
       "      <td>418.0</td>\n",
       "      <td>422.0</td>\n",
       "      <td>1435.0</td>\n",
       "      <td>36219.0</td>\n",
       "      <td>190.0</td>\n",
       "    </tr>\n",
       "    <tr>\n",
       "      <th>ultra</th>\n",
       "      <td>527.0</td>\n",
       "      <td>518.0</td>\n",
       "      <td>1673.0</td>\n",
       "      <td>100874.0</td>\n",
       "      <td>318.0</td>\n",
       "    </tr>\n",
       "  </tbody>\n",
       "</table>\n",
       "</div>"
      ],
      "text/plain": [
       "           mean   median     amax       var      std\n",
       "       duration duration duration  duration duration\n",
       "tariff                                              \n",
       "smart     418.0    422.0   1435.0   36219.0    190.0\n",
       "ultra     527.0    518.0   1673.0  100874.0    318.0"
      ]
     },
     "execution_count": 56,
     "metadata": {},
     "output_type": "execute_result"
    }
   ],
   "source": [
    "# группируем основную таблицу по тарифам\n",
    "# для каждого тарифа считаем статистические показатели для ежемесячного расхода минут\n",
    "df_main.pivot_table(index=['tariff'], values='duration', aggfunc=[np.mean, np.median, np.max, np.var, np.std]).round(0)"
   ]
  },
  {
   "cell_type": "markdown",
   "metadata": {},
   "source": [
    "Сделаем выводы о длительности звонков (расходе минут) по клиентам разных тарифных планов:\n",
    "\n",
    "1) На основании имеющегося набора данных видим, что средний ежемесячный расход минут у Smart-клиентов в 418 минут в месяц почти на 100 минут меньше аналогичного показателя по Ultra-клиентам в 527 минут в месяц. Распределение ежемесячной длительности звонков владельцев тарифа Smart по сравнению с аналогичным показателем у клиентов тарифа Ultra выглядит более \"кучным\" вокруг своего среднего значения. По большей части владельцы Smart, вероятно, стараются вписаться в предоставленный лимит в 500 минут в месяц, тогда как Ultra-клиенты пользуются своим 3000-минутным лимитом более свободно. Это подтверждают и величины дисперсии и стандартного отклонения ежемесячной длительности разговоров: разброс данных вокруг среднего значения у Ultra-клиентов намного шире: 318 минут против 190 минут по Smart-клиентам.\n",
    "\n",
    "2) Медианное количество минут по Smart-клиентам в 422 минуты в месяц близкое к лимиту пакета в 500 минут означает, что примерно в половине случаев клиенты выходят за рамки пакета, что приносит дополнительный доход компании. При этом ни один из Ultra-клиентов ни разу не вышел за лимиты пакета по длительности звонков: максимальное значение около 1650 минут за месяц, т.е. дополнительный доход от минут сверх пакета по Ultra-клиентам компания не получает.\n",
    "\n",
    "3) В течение года наблюдается увеличение средней длительности звонков по клиентам-владельцам обоих тарифов. Smart-клиенты, в среднем, увеличили количество используемых минут более чем в два раза в декабре по сравнению с январем с 200 до 450 минут в месяц, тогда как по Ultra-клиентам такая динамика выглядит чуть поскромнее: с 420 до 600 минут."
   ]
  },
  {
   "cell_type": "markdown",
   "metadata": {},
   "source": [
    "### Динамика количества отправленных сообщений"
   ]
  },
  {
   "cell_type": "code",
   "execution_count": 57,
   "metadata": {},
   "outputs": [
    {
     "data": {
      "text/html": [
       "<div>\n",
       "<style scoped>\n",
       "    .dataframe tbody tr th:only-of-type {\n",
       "        vertical-align: middle;\n",
       "    }\n",
       "\n",
       "    .dataframe tbody tr th {\n",
       "        vertical-align: top;\n",
       "    }\n",
       "\n",
       "    .dataframe thead th {\n",
       "        text-align: right;\n",
       "    }\n",
       "</style>\n",
       "<table border=\"1\" class=\"dataframe\">\n",
       "  <thead>\n",
       "    <tr style=\"text-align: right;\">\n",
       "      <th></th>\n",
       "      <th>tariff</th>\n",
       "      <th>month</th>\n",
       "      <th>avg_messages</th>\n",
       "    </tr>\n",
       "  </thead>\n",
       "  <tbody>\n",
       "    <tr>\n",
       "      <th>12</th>\n",
       "      <td>ultra</td>\n",
       "      <td>1</td>\n",
       "      <td>34.0</td>\n",
       "    </tr>\n",
       "    <tr>\n",
       "      <th>13</th>\n",
       "      <td>ultra</td>\n",
       "      <td>2</td>\n",
       "      <td>22.0</td>\n",
       "    </tr>\n",
       "    <tr>\n",
       "      <th>22</th>\n",
       "      <td>ultra</td>\n",
       "      <td>11</td>\n",
       "      <td>56.0</td>\n",
       "    </tr>\n",
       "    <tr>\n",
       "      <th>21</th>\n",
       "      <td>ultra</td>\n",
       "      <td>10</td>\n",
       "      <td>58.0</td>\n",
       "    </tr>\n",
       "    <tr>\n",
       "      <th>20</th>\n",
       "      <td>ultra</td>\n",
       "      <td>9</td>\n",
       "      <td>52.0</td>\n",
       "    </tr>\n",
       "  </tbody>\n",
       "</table>\n",
       "</div>"
      ],
      "text/plain": [
       "   tariff  month  avg_messages\n",
       "12  ultra      1          34.0\n",
       "13  ultra      2          22.0\n",
       "22  ultra     11          56.0\n",
       "21  ultra     10          58.0\n",
       "20  ultra      9          52.0"
      ]
     },
     "execution_count": 57,
     "metadata": {},
     "output_type": "execute_result"
    }
   ],
   "source": [
    "# создание сводной таблицы\n",
    "df_messages_grouped = df_main.pivot_table(index=['tariff', 'month'], # для каждого тарифа и месяца\n",
    "                                          # считаем среднее, дисперсию и станд.отклонение для кол-ва сообщений\n",
    "                                          values='messages',\n",
    "                                          aggfunc=np.mean) \\\n",
    "                            .round(0) \\\n",
    "                            .reset_index() \\\n",
    "                            .sort_values(by='tariff', ascending=False)\n",
    "\n",
    "df_messages_grouped = df_messages_grouped.rename(columns={'messages': 'avg_messages'})\n",
    "\n",
    "df_messages_grouped.head()"
   ]
  },
  {
   "cell_type": "code",
   "execution_count": 58,
   "metadata": {},
   "outputs": [
    {
     "data": {
      "image/png": "[encoded data removed]",
      "text/plain": [
       "<Figure size 1152x360 with 2 Axes>"
      ]
     },
     "metadata": {
      "needs_background": "light"
     },
     "output_type": "display_data"
    }
   ],
   "source": [
    "# создаем фигуру\n",
    "fig = plt.figure(figsize=(16,5))\n",
    "\n",
    "ax0 = fig.add_subplot(1,2,1)\n",
    "ax1 = fig.add_subplot(1,2,2)\n",
    "\n",
    "build_hist(df_main, 'messages', 'Отправлено сообщений за месяц', 'Гистограмма распределения ежемесячного расхода сообщений', ax0)\n",
    "build_bar(df_messages_grouped, 'avg_messages', 'Среднемесячный расход сообщений', 'Динамика среднемесячного расхода сообщений', ax1)\n",
    " \n",
    "fig.tight_layout()\n",
    "plt.show()"
   ]
  },
  {
   "cell_type": "code",
   "execution_count": 59,
   "metadata": {},
   "outputs": [
    {
     "data": {
      "text/html": [
       "<div>\n",
       "<style scoped>\n",
       "    .dataframe tbody tr th:only-of-type {\n",
       "        vertical-align: middle;\n",
       "    }\n",
       "\n",
       "    .dataframe tbody tr th {\n",
       "        vertical-align: top;\n",
       "    }\n",
       "\n",
       "    .dataframe thead tr th {\n",
       "        text-align: left;\n",
       "    }\n",
       "\n",
       "    .dataframe thead tr:last-of-type th {\n",
       "        text-align: right;\n",
       "    }\n",
       "</style>\n",
       "<table border=\"1\" class=\"dataframe\">\n",
       "  <thead>\n",
       "    <tr>\n",
       "      <th></th>\n",
       "      <th>mean</th>\n",
       "      <th>median</th>\n",
       "      <th>amax</th>\n",
       "      <th>var</th>\n",
       "      <th>std</th>\n",
       "    </tr>\n",
       "    <tr>\n",
       "      <th></th>\n",
       "      <th>messages</th>\n",
       "      <th>messages</th>\n",
       "      <th>messages</th>\n",
       "      <th>messages</th>\n",
       "      <th>messages</th>\n",
       "    </tr>\n",
       "    <tr>\n",
       "      <th>tariff</th>\n",
       "      <th></th>\n",
       "      <th></th>\n",
       "      <th></th>\n",
       "      <th></th>\n",
       "      <th></th>\n",
       "    </tr>\n",
       "  </thead>\n",
       "  <tbody>\n",
       "    <tr>\n",
       "      <th>smart</th>\n",
       "      <td>33.0</td>\n",
       "      <td>28.0</td>\n",
       "      <td>143.0</td>\n",
       "      <td>797.0</td>\n",
       "      <td>28.0</td>\n",
       "    </tr>\n",
       "    <tr>\n",
       "      <th>ultra</th>\n",
       "      <td>49.0</td>\n",
       "      <td>38.0</td>\n",
       "      <td>224.0</td>\n",
       "      <td>2285.0</td>\n",
       "      <td>48.0</td>\n",
       "    </tr>\n",
       "  </tbody>\n",
       "</table>\n",
       "</div>"
      ],
      "text/plain": [
       "           mean   median     amax      var      std\n",
       "       messages messages messages messages messages\n",
       "tariff                                             \n",
       "smart      33.0     28.0    143.0    797.0     28.0\n",
       "ultra      49.0     38.0    224.0   2285.0     48.0"
      ]
     },
     "execution_count": 59,
     "metadata": {},
     "output_type": "execute_result"
    }
   ],
   "source": [
    "# группируем основную таблицу по тарифам\n",
    "# для каждого тарифа считаем статистические показатели для ежемесячного расхода сообщений\n",
    "df_main.pivot_table(index=['tariff'], values='messages', aggfunc=[np.mean, np.median, np.max, np.var, np.std]).round(0)"
   ]
  },
  {
   "cell_type": "markdown",
   "metadata": {},
   "source": [
    "**Сделаем выводы о количестве отправленный сообщений по клиентам разных тарифных планов:**\n",
    "\n",
    "1) На основании имеющегося набора данных видим, что средний ежемесячный расход сообщений у Smart-клиентов в 33 сообщения в месяц меньше аналогичного показателя по Ultra-клиентам в 49 сообщений в месяц. При этом бОльшая часть распределения по Smart-клиентам находится до значения 50 сообщений, т.е. бОльшая часть клиентов стараются вписаться в ежемесячный лимит, но все же часть клиентов за него выходит и приносит тем самым доп.доход компании. Распределение ежемесячного количества сообщений по Ultra-клиентам более равномерное, что подтверждают и бОльшие величины дисперсии и стандартного отклонения: здесь, как и в случае с минутами, эти клиенты свободно пользуются услугой, и ни один из них за рассматриваемый период не вышел за лимит в 1000 сообщений (нет доп.дохода для компании).\n",
    "\n",
    "2) В течение года наблюдается увеличение среднего количества отправленных сообщений по владельцам Ultra, тогда как средний владелец Smart стабильно отправляет примерно 30 сообщений в месяц."
   ]
  },
  {
   "cell_type": "markdown",
   "metadata": {},
   "source": [
    "### Динамика объема израсходованного интернет-трафика"
   ]
  },
  {
   "cell_type": "code",
   "execution_count": 60,
   "metadata": {},
   "outputs": [
    {
     "data": {
      "text/html": [
       "<div>\n",
       "<style scoped>\n",
       "    .dataframe tbody tr th:only-of-type {\n",
       "        vertical-align: middle;\n",
       "    }\n",
       "\n",
       "    .dataframe tbody tr th {\n",
       "        vertical-align: top;\n",
       "    }\n",
       "\n",
       "    .dataframe thead th {\n",
       "        text-align: right;\n",
       "    }\n",
       "</style>\n",
       "<table border=\"1\" class=\"dataframe\">\n",
       "  <thead>\n",
       "    <tr style=\"text-align: right;\">\n",
       "      <th></th>\n",
       "      <th>tariff</th>\n",
       "      <th>month</th>\n",
       "      <th>avg_gb_used</th>\n",
       "    </tr>\n",
       "  </thead>\n",
       "  <tbody>\n",
       "    <tr>\n",
       "      <th>12</th>\n",
       "      <td>ultra</td>\n",
       "      <td>1</td>\n",
       "      <td>13.0</td>\n",
       "    </tr>\n",
       "    <tr>\n",
       "      <th>13</th>\n",
       "      <td>ultra</td>\n",
       "      <td>2</td>\n",
       "      <td>12.0</td>\n",
       "    </tr>\n",
       "    <tr>\n",
       "      <th>22</th>\n",
       "      <td>ultra</td>\n",
       "      <td>11</td>\n",
       "      <td>20.0</td>\n",
       "    </tr>\n",
       "    <tr>\n",
       "      <th>21</th>\n",
       "      <td>ultra</td>\n",
       "      <td>10</td>\n",
       "      <td>20.0</td>\n",
       "    </tr>\n",
       "    <tr>\n",
       "      <th>20</th>\n",
       "      <td>ultra</td>\n",
       "      <td>9</td>\n",
       "      <td>19.0</td>\n",
       "    </tr>\n",
       "  </tbody>\n",
       "</table>\n",
       "</div>"
      ],
      "text/plain": [
       "   tariff  month  avg_gb_used\n",
       "12  ultra      1         13.0\n",
       "13  ultra      2         12.0\n",
       "22  ultra     11         20.0\n",
       "21  ultra     10         20.0\n",
       "20  ultra      9         19.0"
      ]
     },
     "execution_count": 60,
     "metadata": {},
     "output_type": "execute_result"
    }
   ],
   "source": [
    "# создание сводной таблицы\n",
    "df_internet_grouped = df_main.pivot_table(index=['tariff', 'month'], # для каждого тарифа и месяца\n",
    "                                          # считаем среднее, дисперсию и станд.отклонение для кол-ва сообщений\n",
    "                                          values='gb_used',\n",
    "                                          aggfunc=np.mean) \\\n",
    "                            .round(0) \\\n",
    "                            .reset_index() \\\n",
    "                            .sort_values(by='tariff', ascending=False)\n",
    "\n",
    "df_internet_grouped = df_internet_grouped.rename(columns={'gb_used': 'avg_gb_used'})\n",
    "\n",
    "df_internet_grouped.head()"
   ]
  },
  {
   "cell_type": "code",
   "execution_count": 61,
   "metadata": {},
   "outputs": [
    {
     "data": {
      "image/png": "[encoded data removed]",
      "text/plain": [
       "<Figure size 1152x360 with 2 Axes>"
      ]
     },
     "metadata": {
      "needs_background": "light"
     },
     "output_type": "display_data"
    }
   ],
   "source": [
    "# создаем фигуру\n",
    "fig = plt.figure(figsize=(16,5))\n",
    "\n",
    "ax0 = fig.add_subplot(1,2,1)\n",
    "ax1 = fig.add_subplot(1,2,2)\n",
    "\n",
    "build_hist(df_main, 'gb_used', 'Израсходовано Гб за месяц', 'Гистограмма распределения ежемесячного расхода трафика', ax0)\n",
    "build_bar(df_internet_grouped, 'avg_gb_used', 'Среднемесячный расход трафика (Гб)', 'Динамика среднемесячного расхода трафика', ax1)\n",
    " \n",
    "fig.tight_layout()\n",
    "plt.show()"
   ]
  },
  {
   "cell_type": "code",
   "execution_count": 62,
   "metadata": {},
   "outputs": [
    {
     "data": {
      "text/html": [
       "<div>\n",
       "<style scoped>\n",
       "    .dataframe tbody tr th:only-of-type {\n",
       "        vertical-align: middle;\n",
       "    }\n",
       "\n",
       "    .dataframe tbody tr th {\n",
       "        vertical-align: top;\n",
       "    }\n",
       "\n",
       "    .dataframe thead tr th {\n",
       "        text-align: left;\n",
       "    }\n",
       "\n",
       "    .dataframe thead tr:last-of-type th {\n",
       "        text-align: right;\n",
       "    }\n",
       "</style>\n",
       "<table border=\"1\" class=\"dataframe\">\n",
       "  <thead>\n",
       "    <tr>\n",
       "      <th></th>\n",
       "      <th>mean</th>\n",
       "      <th>median</th>\n",
       "      <th>amax</th>\n",
       "      <th>var</th>\n",
       "      <th>std</th>\n",
       "    </tr>\n",
       "    <tr>\n",
       "      <th></th>\n",
       "      <th>gb_used</th>\n",
       "      <th>gb_used</th>\n",
       "      <th>gb_used</th>\n",
       "      <th>gb_used</th>\n",
       "      <th>gb_used</th>\n",
       "    </tr>\n",
       "    <tr>\n",
       "      <th>tariff</th>\n",
       "      <th></th>\n",
       "      <th></th>\n",
       "      <th></th>\n",
       "      <th></th>\n",
       "      <th></th>\n",
       "    </tr>\n",
       "  </thead>\n",
       "  <tbody>\n",
       "    <tr>\n",
       "      <th>smart</th>\n",
       "      <td>16.0</td>\n",
       "      <td>17.0</td>\n",
       "      <td>38.0</td>\n",
       "      <td>33.0</td>\n",
       "      <td>6.0</td>\n",
       "    </tr>\n",
       "    <tr>\n",
       "      <th>ultra</th>\n",
       "      <td>19.0</td>\n",
       "      <td>19.0</td>\n",
       "      <td>49.0</td>\n",
       "      <td>97.0</td>\n",
       "      <td>10.0</td>\n",
       "    </tr>\n",
       "  </tbody>\n",
       "</table>\n",
       "</div>"
      ],
      "text/plain": [
       "          mean  median    amax     var     std\n",
       "       gb_used gb_used gb_used gb_used gb_used\n",
       "tariff                                        \n",
       "smart     16.0    17.0    38.0    33.0     6.0\n",
       "ultra     19.0    19.0    49.0    97.0    10.0"
      ]
     },
     "execution_count": 62,
     "metadata": {},
     "output_type": "execute_result"
    }
   ],
   "source": [
    "# группируем основную таблицу по тарифам\n",
    "# для каждого тарифа считаем статистические показатели для ежемесячного расхода трафика\n",
    "df_main.pivot_table(index=['tariff'], values='gb_used', aggfunc=[np.mean, np.median, np.max, np.var, np.std]).round(0)"
   ]
  },
  {
   "cell_type": "markdown",
   "metadata": {},
   "source": [
    "**Сделаем выводы об объеме используемого трафика по клиентам разных тарифных планов:**\n",
    "\n",
    "1) На основании имеющегося набора данных видим, что средний ежемесячный расход трафика у Smart-клиентов в 16 Гб в месяц меньше аналогичного показателя по Ultra-клиентам в 19 Гб в месяц. При этом бОльшая часть распределения по Smart-клиентам находится правее значения 15 Гб, т.е. бОльшая часть клиентов выходят за рамки лимита по пакету и приносят этим доп.доход компании Распределение ежемесячного количества сообщений по Ultra-клиентам более равномерное, что подтверждают и бОльшие величины дисперсии и стандартного отклонения: здесь, как и в случае с минутами/сообщениями, клиенты свободно пользуются услугой, при этом часть клиентов все же выходит за лимит в 30 Гб и приносит компании доп.доход.\n",
    "\n",
    "2) В течение года наблюдается увеличение среднего трафика по обеим группам клиентов, при этом в 8 из 12 месяцев \"средний\" клиент тарифа Smart не вписывается в ежемесячный лимит, тогда как \"средний\" клиент Ultra, наоборот, не расходует до конца свой лимит трафика."
   ]
  },
  {
   "cell_type": "markdown",
   "metadata": {},
   "source": [
    "### Динамика полученных доходов от использования тарифов"
   ]
  },
  {
   "cell_type": "code",
   "execution_count": 63,
   "metadata": {},
   "outputs": [
    {
     "data": {
      "text/html": [
       "<div>\n",
       "<style scoped>\n",
       "    .dataframe tbody tr th:only-of-type {\n",
       "        vertical-align: middle;\n",
       "    }\n",
       "\n",
       "    .dataframe tbody tr th {\n",
       "        vertical-align: top;\n",
       "    }\n",
       "\n",
       "    .dataframe thead th {\n",
       "        text-align: right;\n",
       "    }\n",
       "</style>\n",
       "<table border=\"1\" class=\"dataframe\">\n",
       "  <thead>\n",
       "    <tr style=\"text-align: right;\">\n",
       "      <th></th>\n",
       "      <th>tariff</th>\n",
       "      <th>month</th>\n",
       "      <th>avg_monthly_income</th>\n",
       "    </tr>\n",
       "  </thead>\n",
       "  <tbody>\n",
       "    <tr>\n",
       "      <th>12</th>\n",
       "      <td>ultra</td>\n",
       "      <td>1</td>\n",
       "      <td>1950.0</td>\n",
       "    </tr>\n",
       "    <tr>\n",
       "      <th>13</th>\n",
       "      <td>ultra</td>\n",
       "      <td>2</td>\n",
       "      <td>1975.0</td>\n",
       "    </tr>\n",
       "    <tr>\n",
       "      <th>22</th>\n",
       "      <td>ultra</td>\n",
       "      <td>11</td>\n",
       "      <td>2092.0</td>\n",
       "    </tr>\n",
       "    <tr>\n",
       "      <th>21</th>\n",
       "      <td>ultra</td>\n",
       "      <td>10</td>\n",
       "      <td>2066.0</td>\n",
       "    </tr>\n",
       "    <tr>\n",
       "      <th>20</th>\n",
       "      <td>ultra</td>\n",
       "      <td>9</td>\n",
       "      <td>2024.0</td>\n",
       "    </tr>\n",
       "  </tbody>\n",
       "</table>\n",
       "</div>"
      ],
      "text/plain": [
       "   tariff  month  avg_monthly_income\n",
       "12  ultra      1              1950.0\n",
       "13  ultra      2              1975.0\n",
       "22  ultra     11              2092.0\n",
       "21  ultra     10              2066.0\n",
       "20  ultra      9              2024.0"
      ]
     },
     "execution_count": 63,
     "metadata": {},
     "output_type": "execute_result"
    }
   ],
   "source": [
    "# создание сводной таблицы\n",
    "df_income_grouped = df_main.pivot_table(index=['tariff', 'month'], # для каждого тарифа и месяца\n",
    "                                          # считаем среднее, дисперсию и станд.отклонение для кол-ва сообщений\n",
    "                                          values='monthly_income',\n",
    "                                          aggfunc=np.mean) \\\n",
    "                            .round(0) \\\n",
    "                            .reset_index() \\\n",
    "                            .sort_values(by='tariff', ascending=False)\n",
    "\n",
    "df_income_grouped = df_income_grouped.rename(columns={'monthly_income': 'avg_monthly_income'})\n",
    "\n",
    "df_income_grouped.head()"
   ]
  },
  {
   "cell_type": "code",
   "execution_count": 64,
   "metadata": {},
   "outputs": [
    {
     "data": {
      "image/png": "[encoded data removed]",
      "text/plain": [
       "<Figure size 1152x360 with 2 Axes>"
      ]
     },
     "metadata": {
      "needs_background": "light"
     },
     "output_type": "display_data"
    }
   ],
   "source": [
    "# создаем фигуру\n",
    "fig = plt.figure(figsize=(16,5))\n",
    "\n",
    "ax0 = fig.add_subplot(1,2,1)\n",
    "ax1 = fig.add_subplot(1,2,2)\n",
    "\n",
    "build_hist(df_main, 'monthly_income', 'Выручка за месяц', 'Гистограмма распределения ежемесячной выручки', ax0)\n",
    "build_bar(df_income_grouped, 'avg_monthly_income', 'Среднемесячная выручка', 'Динамика среднемесячной выручки', ax1)\n",
    " \n",
    "fig.tight_layout()\n",
    "plt.show()"
   ]
  },
  {
   "cell_type": "code",
   "execution_count": 65,
   "metadata": {},
   "outputs": [
    {
     "data": {
      "text/html": [
       "<div>\n",
       "<style scoped>\n",
       "    .dataframe tbody tr th:only-of-type {\n",
       "        vertical-align: middle;\n",
       "    }\n",
       "\n",
       "    .dataframe tbody tr th {\n",
       "        vertical-align: top;\n",
       "    }\n",
       "\n",
       "    .dataframe thead tr th {\n",
       "        text-align: left;\n",
       "    }\n",
       "\n",
       "    .dataframe thead tr:last-of-type th {\n",
       "        text-align: right;\n",
       "    }\n",
       "</style>\n",
       "<table border=\"1\" class=\"dataframe\">\n",
       "  <thead>\n",
       "    <tr>\n",
       "      <th></th>\n",
       "      <th>mean</th>\n",
       "      <th>median</th>\n",
       "      <th>amax</th>\n",
       "      <th>var</th>\n",
       "      <th>std</th>\n",
       "    </tr>\n",
       "    <tr>\n",
       "      <th></th>\n",
       "      <th>monthly_income</th>\n",
       "      <th>monthly_income</th>\n",
       "      <th>monthly_income</th>\n",
       "      <th>monthly_income</th>\n",
       "      <th>monthly_income</th>\n",
       "    </tr>\n",
       "    <tr>\n",
       "      <th>tariff</th>\n",
       "      <th></th>\n",
       "      <th></th>\n",
       "      <th></th>\n",
       "      <th></th>\n",
       "      <th></th>\n",
       "    </tr>\n",
       "  </thead>\n",
       "  <tbody>\n",
       "    <tr>\n",
       "      <th>smart</th>\n",
       "      <td>1290.0</td>\n",
       "      <td>1023.0</td>\n",
       "      <td>6770.0</td>\n",
       "      <td>669786.0</td>\n",
       "      <td>818.0</td>\n",
       "    </tr>\n",
       "    <tr>\n",
       "      <th>ultra</th>\n",
       "      <td>2070.0</td>\n",
       "      <td>1950.0</td>\n",
       "      <td>4800.0</td>\n",
       "      <td>141517.0</td>\n",
       "      <td>376.0</td>\n",
       "    </tr>\n",
       "  </tbody>\n",
       "</table>\n",
       "</div>"
      ],
      "text/plain": [
       "                 mean         median           amax            var  \\\n",
       "       monthly_income monthly_income monthly_income monthly_income   \n",
       "tariff                                                               \n",
       "smart          1290.0         1023.0         6770.0       669786.0   \n",
       "ultra          2070.0         1950.0         4800.0       141517.0   \n",
       "\n",
       "                  std  \n",
       "       monthly_income  \n",
       "tariff                 \n",
       "smart           818.0  \n",
       "ultra           376.0  "
      ]
     },
     "execution_count": 65,
     "metadata": {},
     "output_type": "execute_result"
    }
   ],
   "source": [
    "# группируем основную таблицу по тарифам\n",
    "# для каждого тарифа считаем статистические показатели для ежемесячной выручки\n",
    "df_main.pivot_table(index=['tariff'], values='monthly_income', aggfunc=[np.mean, np.median, np.max, np.var, np.std]).round(0)"
   ]
  },
  {
   "cell_type": "markdown",
   "metadata": {},
   "source": [
    "Дополнительно рассчитаем полученные за 2018 год совокупные доходы по разным видам тарифов и кол-во уникальных пользователей тарифов:"
   ]
  },
  {
   "cell_type": "code",
   "execution_count": 66,
   "metadata": {},
   "outputs": [
    {
     "data": {
      "text/html": [
       "<div>\n",
       "<style scoped>\n",
       "    .dataframe tbody tr th:only-of-type {\n",
       "        vertical-align: middle;\n",
       "    }\n",
       "\n",
       "    .dataframe tbody tr th {\n",
       "        vertical-align: top;\n",
       "    }\n",
       "\n",
       "    .dataframe thead th {\n",
       "        text-align: right;\n",
       "    }\n",
       "</style>\n",
       "<table border=\"1\" class=\"dataframe\">\n",
       "  <thead>\n",
       "    <tr style=\"text-align: right;\">\n",
       "      <th></th>\n",
       "      <th>total_income</th>\n",
       "      <th>users</th>\n",
       "    </tr>\n",
       "    <tr>\n",
       "      <th>tariff</th>\n",
       "      <th></th>\n",
       "      <th></th>\n",
       "    </tr>\n",
       "  </thead>\n",
       "  <tbody>\n",
       "    <tr>\n",
       "      <th>smart</th>\n",
       "      <td>2875351.0</td>\n",
       "      <td>350</td>\n",
       "    </tr>\n",
       "    <tr>\n",
       "      <th>ultra</th>\n",
       "      <td>2039100.0</td>\n",
       "      <td>148</td>\n",
       "    </tr>\n",
       "  </tbody>\n",
       "</table>\n",
       "</div>"
      ],
      "text/plain": [
       "        total_income  users\n",
       "tariff                     \n",
       "smart      2875351.0    350\n",
       "ultra      2039100.0    148"
      ]
     },
     "execution_count": 66,
     "metadata": {},
     "output_type": "execute_result"
    }
   ],
   "source": [
    "df_main.groupby('tariff') \\\n",
    "        .agg({'monthly_income': 'sum', 'user_id': 'nunique'}) \\\n",
    "        .rename(columns={'monthly_income': 'total_income', 'user_id': 'users'}) \\\n",
    "        .round(0) "
   ]
  },
  {
   "cell_type": "markdown",
   "metadata": {},
   "source": [
    "**Сделаем выводы об объемах полученных доходов от клиентов разных тарифных планов:**\n",
    "\n",
    "1) На основании имеющегося набора данных видим, что пиковые значения гистограмм распределения выручки по клиентам обоих тарифов находятся на величине абонентской платы, при этом сами распределения имеют длинные правые \"хвосты\", показывающие, что часть клиентов выходят за рамки ежемесячных лимит по своим пакетам и приносят компании дополнительный доход.\n",
    "\n",
    "2) Средняя и медианная выручки по Smart-клиентам почти в 2 раза превышают стоимость тарифного плана: это означает, что тарифный план Smart \"живет\" за счет платы клиентов за перелимит услуг. При этом средняя выручка по клиентам Ultra незначительно отличается от стоимости пакета, и ее обеспечивает (с учетом выводов предыдущих блоков) часть клиентов, которым не хватает интернет-трафика. Медианная же выручка по Ultra-клиентам совпадает со стоимостью пакета.\n",
    "\n",
    "3) Интересно отметить, что максимальное значение ежемесячного дохода в 6770 руб. обеспечил владелец тарифа Smart, которому, вероятно, сильно не хватило всех услуг в рамках пакета.\n",
    "\n",
    "4) Среднемесячные доходы по тарифу Smart постоянно растут от января до декабря примерно с 700 до 1600 руб. в месяц, и нет ни одного месяца, когда бы \"средний\" Smart-клиент четко вписался в стоимость пакета. Среднемесячные доходы по Ultra-клиентам остаются стабильными и близки к стоимости тарифного плана.\n",
    "\n",
    "3) В целом по итогам 2018 года пользователей тарифа Smart было 350 человек, что почти в 2.5 раза больше, чем пользователей тарифа Ultra: распределение пользователей между тарифами 70% на 30%, и это логично, поскольку привлечь клиентов на более дешевый тариф намного проще. При этом 70% пользователей тарифа Smart принесли компании 2,9 млн.руб. или 60% совокупного дохода, тогда как 30% владельцев тарифа Ultra принесли компании 2 млн.руб. или 40% совокупного дохода. Таким образом, тариф Ultra более выгоден компании в части совокупного дохода, но более сложен в плане привлечения клиентов. Тариф Smart легче продать клиенту, при этом по нему можно получать дополнительный доход от \"перелимита\" услуг по пакету."
   ]
  },
  {
   "cell_type": "markdown",
   "metadata": {},
   "source": [
    "### Вывод по блоку \"Исследовательский анализ данных\""
   ]
  },
  {
   "cell_type": "markdown",
   "metadata": {},
   "source": [
    "После анализа поведения двух групп клиентов - пользователей тарифов Smart и Ultra - можно сделать следующие выводы:\n",
    "\n",
    "1) Тариф Smart ориентирован на клиентов со стабильными ежемесячными потребностями в использовании того или иного вида трафика (звонки/сообщения/интернет-трафик), которым важно платить небольшую цену за пакет услуг. При этом около половины клиентов не вписываются в рамки пакета по минутам и сообщениям, и бОльшая часть клиентов перерасходует интернет-трафик, за счет чего компания получает дополнительный доход, и средний размер выручки за 2018 год с 1 клиента в два раза превышает стоимость тарифного плана. Для компании тариф Smart принес за 2018 год 60% совокупного дохода, он выгоден с точки зрения простоты привлечения клиентов и возможности получения дополнительного дохода от услуг сверх пакета.\n",
    "\n",
    "2) Тариф Ultra предназначен для клиентов, не ограничивающих себя в использовании всех видов трафика, и это как ежемесячной динамикой расходования различных услуг, так и более \"широкой\" формой гистограмм распределения. Взамен такой свободы клиенты готовы платить большую цену за пакет услуг, при этом сверх пакета в среднем не расходуя ни минут, ни сообщений, Лишь небольшая часть клиентов выходит за лимиты ежемесячного трафика, что приносит компании доход свер абонентской платы. Для компании тариф Ultra принес за год 40% совокупного дохода, он выгоден с точки зрения изначально высокой абонентской платы, но при этом представляет сложность в привлечении большого количества клиентов."
   ]
  },
  {
   "cell_type": "markdown",
   "metadata": {},
   "source": [
    "## Проверка гипотез"
   ]
  },
  {
   "cell_type": "markdown",
   "metadata": {},
   "source": [
    "### Сравнение средней выручки от пользователей тарифов Smart и Ultra"
   ]
  },
  {
   "cell_type": "markdown",
   "metadata": {},
   "source": [
    "Посмотрим на среднюю выручку по всей базе клиентов в разбивке по видам тарифов:"
   ]
  },
  {
   "cell_type": "code",
   "execution_count": 84,
   "metadata": {
    "scrolled": true
   },
   "outputs": [
    {
     "data": {
      "text/html": [
       "<div>\n",
       "<style scoped>\n",
       "    .dataframe tbody tr th:only-of-type {\n",
       "        vertical-align: middle;\n",
       "    }\n",
       "\n",
       "    .dataframe tbody tr th {\n",
       "        vertical-align: top;\n",
       "    }\n",
       "\n",
       "    .dataframe thead tr th {\n",
       "        text-align: left;\n",
       "    }\n",
       "\n",
       "    .dataframe thead tr:last-of-type th {\n",
       "        text-align: right;\n",
       "    }\n",
       "</style>\n",
       "<table border=\"1\" class=\"dataframe\">\n",
       "  <thead>\n",
       "    <tr>\n",
       "      <th></th>\n",
       "      <th colspan=\"2\" halign=\"left\">monthly_income</th>\n",
       "      <th>user_id</th>\n",
       "    </tr>\n",
       "    <tr>\n",
       "      <th></th>\n",
       "      <th>mean</th>\n",
       "      <th>var</th>\n",
       "      <th>count</th>\n",
       "    </tr>\n",
       "    <tr>\n",
       "      <th>tariff</th>\n",
       "      <th></th>\n",
       "      <th></th>\n",
       "      <th></th>\n",
       "    </tr>\n",
       "  </thead>\n",
       "  <tbody>\n",
       "    <tr>\n",
       "      <th>smart</th>\n",
       "      <td>1290.0</td>\n",
       "      <td>669786.0</td>\n",
       "      <td>2229</td>\n",
       "    </tr>\n",
       "    <tr>\n",
       "      <th>ultra</th>\n",
       "      <td>2070.0</td>\n",
       "      <td>141517.0</td>\n",
       "      <td>985</td>\n",
       "    </tr>\n",
       "  </tbody>\n",
       "</table>\n",
       "</div>"
      ],
      "text/plain": [
       "       monthly_income           user_id\n",
       "                 mean       var   count\n",
       "tariff                                 \n",
       "smart          1290.0  669786.0    2229\n",
       "ultra          2070.0  141517.0     985"
      ]
     },
     "execution_count": 84,
     "metadata": {},
     "output_type": "execute_result"
    }
   ],
   "source": [
    "df_main.groupby('tariff') \\\n",
    "        .agg({'monthly_income': ['mean', np.var], 'user_id': 'count'}) \\\n",
    "        .round(0)        "
   ]
  },
  {
   "cell_type": "markdown",
   "metadata": {},
   "source": [
    "Видим, что средняя выручка по разным тарифам различается в 1,6 раз и составляет 1290 руб/мес. для Smart-клиентов и 2070 руб/мес. для Ultra-клиентов. При этом размеры выборок неодинаковы и отражают тот факт, что Smart-клиентов в базе намного больше, чем Ultra-клиентов. Также значительно различаются между собой выборочные дисперсии."
   ]
  },
  {
   "cell_type": "markdown",
   "metadata": {},
   "source": [
    "Сформулируем гипотезы для проверки принимая во внимание то, что нулевая гипотеза должна содержать условие равенства:\n",
    "\n",
    "**H0:** Средние доходы, приносимые пользователями тарифов Smart и Ultra, одинаковы.\n",
    "\n",
    "**H1:** Средние доходы, приносимые пользователями тарифов Smart и Ultra, не равны между собой."
   ]
  },
  {
   "cell_type": "markdown",
   "metadata": {},
   "source": [
    "При проверке гипотезы о равенстве средних двух генеральных совокупностей необходимо учесть факты того, что выборки отличаются по размеру и диперсии выборок неодинаковы. Осуществим проверку гипотезы с помощью t-теста Стьюдента для двух независимых выборок с передачей в качестве атрибута условия о неравенстве дисперсий выборок:"
   ]
  },
  {
   "cell_type": "code",
   "execution_count": 85,
   "metadata": {},
   "outputs": [
    {
     "name": "stdout",
     "output_type": "stream",
     "text": [
      "p-значение: 4.2606313931076085e-250\n",
      "Отвергаем нулевую гипотезу\n"
     ]
    }
   ],
   "source": [
    "sample_1 = df_main.query('tariff == \"smart\"')['monthly_income'] # выборка 1\n",
    "sample_2 = df_main.query('tariff == \"ultra\"')['monthly_income'] # выборка 2\n",
    "\n",
    "alpha=.05 # уровень статистической значимости\n",
    "\n",
    "# проводим ttest для проверки гипотезы о равенстве средних двух ген.совокупностей\n",
    "results = st.ttest_ind(sample_1, sample_2, equal_var=False)\n",
    "\n",
    "print('p-значение:', results.pvalue)\n",
    "\n",
    "if results.pvalue < alpha:\n",
    "    print('Отвергаем нулевую гипотезу')\n",
    "else:\n",
    "    print('Не получилось отвергнуть нулевую гипотезу')"
   ]
  },
  {
   "cell_type": "markdown",
   "metadata": {},
   "source": [
    "**Вывод**\n",
    "\n",
    "Доказана несостоятельность нулевой гипотезы о равенстве средних двух генеральных совокупностей. Это означает, что клиенты разных тарифных планов, в среднем, не приносят одинаковый доход компании."
   ]
  },
  {
   "cell_type": "markdown",
   "metadata": {},
   "source": [
    "### Сравнение средней выручки от пользователей из Москвы с выручкой от пользователей других регионов"
   ]
  },
  {
   "cell_type": "markdown",
   "metadata": {},
   "source": [
    "Создадим в таблице новый столбец, который будет определять принадлежность пользователя региону: \"Москва\" или \"другие\":"
   ]
  },
  {
   "cell_type": "code",
   "execution_count": 86,
   "metadata": {},
   "outputs": [],
   "source": [
    "# фуекция для определения региона\n",
    "def region(city):\n",
    "    if city == 'Москва':\n",
    "        region = 'Москва'\n",
    "    else:\n",
    "        region = 'другие'\n",
    "    \n",
    "    return region\n",
    "\n",
    "# создание нового столбца через применение функции к существующему столбцу\n",
    "df_main['region'] = df_main['city'].apply(region)"
   ]
  },
  {
   "cell_type": "markdown",
   "metadata": {},
   "source": [
    "Посмотрим на среднюю выручку по всей базе клиентов в разбивке по регионам:"
   ]
  },
  {
   "cell_type": "code",
   "execution_count": 87,
   "metadata": {
    "scrolled": true
   },
   "outputs": [
    {
     "data": {
      "text/html": [
       "<div>\n",
       "<style scoped>\n",
       "    .dataframe tbody tr th:only-of-type {\n",
       "        vertical-align: middle;\n",
       "    }\n",
       "\n",
       "    .dataframe tbody tr th {\n",
       "        vertical-align: top;\n",
       "    }\n",
       "\n",
       "    .dataframe thead tr th {\n",
       "        text-align: left;\n",
       "    }\n",
       "\n",
       "    .dataframe thead tr:last-of-type th {\n",
       "        text-align: right;\n",
       "    }\n",
       "</style>\n",
       "<table border=\"1\" class=\"dataframe\">\n",
       "  <thead>\n",
       "    <tr>\n",
       "      <th></th>\n",
       "      <th colspan=\"2\" halign=\"left\">monthly_income</th>\n",
       "      <th>user_id</th>\n",
       "    </tr>\n",
       "    <tr>\n",
       "      <th></th>\n",
       "      <th>mean</th>\n",
       "      <th>var</th>\n",
       "      <th>count</th>\n",
       "    </tr>\n",
       "    <tr>\n",
       "      <th>region</th>\n",
       "      <th></th>\n",
       "      <th></th>\n",
       "      <th></th>\n",
       "    </tr>\n",
       "  </thead>\n",
       "  <tbody>\n",
       "    <tr>\n",
       "      <th>Москва</th>\n",
       "      <td>1547.0</td>\n",
       "      <td>565636.0</td>\n",
       "      <td>611</td>\n",
       "    </tr>\n",
       "    <tr>\n",
       "      <th>другие</th>\n",
       "      <td>1525.0</td>\n",
       "      <td>654138.0</td>\n",
       "      <td>2603</td>\n",
       "    </tr>\n",
       "  </tbody>\n",
       "</table>\n",
       "</div>"
      ],
      "text/plain": [
       "       monthly_income           user_id\n",
       "                 mean       var   count\n",
       "region                                 \n",
       "Москва         1547.0  565636.0     611\n",
       "другие         1525.0  654138.0    2603"
      ]
     },
     "execution_count": 87,
     "metadata": {},
     "output_type": "execute_result"
    }
   ],
   "source": [
    "df_main.groupby('region') \\\n",
    "        .agg({'monthly_income': ['mean', np.var], 'user_id': 'count'}) \\\n",
    "        .round(0)"
   ]
  },
  {
   "cell_type": "markdown",
   "metadata": {},
   "source": [
    "Видим, что средняя выручка по регионам почти не отличается, при этом размеры выборок неодинаковы и отражают тот факт, что клиентов из Москвы в базе намного меньше остальных. Также различаются между собой выборочные дисперсии."
   ]
  },
  {
   "cell_type": "markdown",
   "metadata": {},
   "source": [
    "Сформулируем гипотезы для проверки принимая во внимание то, что нулевая гипотеза должна содержать условие равенства:\n",
    "\n",
    "**H0:** Средние доходы, приносимые пользователями из Москвы и пользователями из других регионов, одинаковы.\n",
    "\n",
    "**H1:** Средние доходы, приносимые пользователями из Москвы и пользователями из других регионов, не равны между собой."
   ]
  },
  {
   "cell_type": "markdown",
   "metadata": {},
   "source": [
    "При проверке гипотезы о равенстве средних двух генеральных совокупностей необходимо учесть факты того, что выборки отличаются по размеру и диперсии выборок неодинаковы. Осуществим проверку гипотезы с помощью t-теста Стьюдента для двух независимых выборок с передачей в качестве атрибута условия о неравенстве дисперсий выборок:"
   ]
  },
  {
   "cell_type": "code",
   "execution_count": 88,
   "metadata": {},
   "outputs": [
    {
     "name": "stdout",
     "output_type": "stream",
     "text": [
      "p-значение: 0.5257376663729298\n",
      "Не получилось отвергнуть нулевую гипотезу\n"
     ]
    }
   ],
   "source": [
    "sample_1 = df_main.query('region == \"Москва\"')['monthly_income'] # выборка 1\n",
    "sample_2 = df_main.query('region == \"другие\"')['monthly_income'] # выборка 2\n",
    "\n",
    "alpha=.05 # уровень статистической значимости\n",
    "\n",
    "# проводим ttest для проверки гипотезы о равенстве средних двух ген.совокупностей\n",
    "results = st.ttest_ind(sample_1, sample_2, equal_var=False)\n",
    "\n",
    "print('p-значение:', results.pvalue)\n",
    "\n",
    "if results.pvalue < alpha:\n",
    "    print('Отвергаем нулевую гипотезу')\n",
    "else:\n",
    "    print('Не получилось отвергнуть нулевую гипотезу')"
   ]
  },
  {
   "cell_type": "markdown",
   "metadata": {},
   "source": [
    "**Вывод**\n",
    "\n",
    "Доказана состоятельность нулевой гипотезы о равенстве средних двух генеральных совокупностей. Это означает, что в среднем клиенты из Москвы и клиенты других регионов приносят компании одинаковый доход (вообще, это логично: стоимость тарифных планов одинакова для всех территорий)."
   ]
  },
  {
   "cell_type": "markdown",
   "metadata": {},
   "source": [
    "### Вывод по блоку \"Проверка гипотез\""
   ]
  },
  {
   "cell_type": "markdown",
   "metadata": {},
   "source": [
    "Гипотеза о равенстве среднего дохода, приносимого клиентами с разными тарифными планами отвергнута.\n",
    "\n",
    "Гипотеза о равенстве среднего дохода, приносимого клиентами из разных регионов (Москва и остальные) не отвергнута."
   ]
  },
  {
   "cell_type": "markdown",
   "metadata": {},
   "source": [
    "## Общий вывод"
   ]
  },
  {
   "cell_type": "markdown",
   "metadata": {},
   "source": [
    "Для решения задачи по определению перспективного тарифа для телеком-компании изучена общая информация по 500 пользователям \"Мегалайна\": кто они, откуда, каким тарифом пользуются, сколько совершают звонков, отправляют сообщений, расходуют интернет-трафика за 2018 год.\n",
    "\n",
    "Основные выводы этапа предобработки и подготовки данных к анализу:\n",
    "* в первичных данных, отображающих какие-либо даты (например, дата совершения звонка), осуществлено изменение типа данных на datetime для дальнейшего удобства их использования;\n",
    "* обнаружены и описаны причины появления пропусков данных;\n",
    "* проверены числовые данные о возрасте клиента, длительности звонков, объеме трафика за одну интернет-сессию: ошибок и аномалий не выявлено;\n",
    "* проверены даты подключения клиента к тарифу, совершения звонков, отправки сообщений, использования трафика: все даты находятся в диапазоне от 01.01.2018 до 31.12.2018, совершение звонков/отправка сообщений/использование мобильного интернета по каждому пользователю начинаются не ранее даты подключения к тарифу. Отсутствуют данные об отправленных сообщениях за 01.01.2018 г., что может быть как реальностью, так и техническими ошибками - необходимо задать вопросы техническим специалистам, осуществляющим сбор/выгрузку данных;\n",
    "* создана итоговая таблица данных, из которой можно получить следующую информация по каждому пользователю по месяцам:\n",
    "    - количество сделанных звонков и израсходованных минут;\n",
    "    - количество отправленных сообщений;\n",
    "    - объем израсходованного интернет-трафика;\n",
    "    - выручка, включающая в себя фиксированную ежемесячную плату и стоимость дополнительных услуг при выходе пользователя за границы объемов услуг тарифного пакета.\n",
    "\n",
    "Основные выводы этапа исследовательского анализа данных:\n",
    "* тарифом Smart пользуются 70% клиентов компании; он ориентирован на клиентов со стабильными ежемесячными потребностями в использовании того или иного вида трафика (звонки/сообщения/интернет-трафик), которым важно платить небольшую цену за пакет услуг. Для компании тариф Smart принес за год 60% совокупного дохода, он выгоден с точки зрения простоты привлечения клиентов и возможности получения дополнительного дохода от услуг сверх пакета: дополнительные услуги в среднем приносят компании до половину дохода по этому тарифу.\n",
    "* тарифом Ultra пользуются 30% клиентов компании; он предназначен для клиентов, не ограничивающих себя в использовании всех видов трафика. Для компании тариф Ultra принес за год 40% совокупного дохода, он выгоден с точки зрения изначально высокой абонентской платы, в среднем не рассчитан на получение дополнительного дохода от услуг сверх пакета, но при этом представляет сложность в привлечении большого количества клиентов.\n",
    "\n",
    "Основные вывода этапа проверки гипотез:\n",
    "* в среднем, клиенты разных тарифных планов не приносят одинаковый доход компании;\n",
    "* в среднем, клиенты из Москвы и клиенты из других регионов приносят компании одинаковый доход.\n",
    "\n",
    "Описанные тезисы могут помочь компании в решении задачи по определению перспективного тарифа и/или ввода новых условий тарификации, направленных на увеличение совокупного дохода."
   ]
  }
 ],
 "metadata": {
  "ExecuteTimeLog": [
   {
    "duration": 1320,
    "start_time": "2022-03-17T09:46:39.808Z"
   },
   {
    "duration": 20,
    "start_time": "2022-03-17T09:48:03.570Z"
   },
   {
    "duration": 23,
    "start_time": "2022-03-17T09:48:11.510Z"
   },
   {
    "duration": 18,
    "start_time": "2022-03-17T09:48:22.367Z"
   },
   {
    "duration": 6,
    "start_time": "2022-03-17T09:48:30.211Z"
   },
   {
    "duration": 9,
    "start_time": "2022-03-17T09:48:50.718Z"
   },
   {
    "duration": 11,
    "start_time": "2022-03-17T09:49:19.598Z"
   },
   {
    "duration": 9,
    "start_time": "2022-03-17T09:49:50.082Z"
   },
   {
    "duration": 10,
    "start_time": "2022-03-17T09:50:29.861Z"
   },
   {
    "duration": 22,
    "start_time": "2022-03-17T09:50:50.529Z"
   },
   {
    "duration": 199,
    "start_time": "2022-03-17T09:51:38.072Z"
   },
   {
    "duration": 22,
    "start_time": "2022-03-17T09:51:46.123Z"
   },
   {
    "duration": 36,
    "start_time": "2022-03-17T09:52:00.315Z"
   },
   {
    "duration": 5,
    "start_time": "2022-03-17T09:52:08.807Z"
   },
   {
    "duration": 6,
    "start_time": "2022-03-17T09:52:29.405Z"
   },
   {
    "duration": 185,
    "start_time": "2022-03-17T09:52:55.817Z"
   },
   {
    "duration": 55,
    "start_time": "2022-03-17T09:53:14.772Z"
   },
   {
    "duration": 147,
    "start_time": "2022-03-17T09:54:05.673Z"
   },
   {
    "duration": 16,
    "start_time": "2022-03-17T09:54:14.721Z"
   },
   {
    "duration": 35,
    "start_time": "2022-03-17T09:54:22.108Z"
   },
   {
    "duration": 6,
    "start_time": "2022-03-17T09:54:29.686Z"
   },
   {
    "duration": 10,
    "start_time": "2022-03-17T09:55:30.798Z"
   },
   {
    "duration": 74,
    "start_time": "2022-03-17T09:55:50.445Z"
   },
   {
    "duration": 37,
    "start_time": "2022-03-17T09:56:21.785Z"
   },
   {
    "duration": 11,
    "start_time": "2022-03-17T09:57:38.810Z"
   },
   {
    "duration": 173,
    "start_time": "2022-03-17T10:07:12.896Z"
   },
   {
    "duration": 19,
    "start_time": "2022-03-17T10:07:20.907Z"
   },
   {
    "duration": 29,
    "start_time": "2022-03-17T10:07:28.382Z"
   },
   {
    "duration": 6,
    "start_time": "2022-03-17T10:07:36.275Z"
   },
   {
    "duration": 326,
    "start_time": "2022-03-17T10:07:45.372Z"
   },
   {
    "duration": 9,
    "start_time": "2022-03-17T10:07:57.381Z"
   },
   {
    "duration": 116,
    "start_time": "2022-03-17T10:08:15.269Z"
   },
   {
    "duration": 495,
    "start_time": "2022-03-17T10:08:22.749Z"
   },
   {
    "duration": 460,
    "start_time": "2022-03-17T10:08:49.869Z"
   },
   {
    "duration": 13,
    "start_time": "2022-03-17T10:10:08.306Z"
   },
   {
    "duration": 38,
    "start_time": "2022-03-17T10:10:27.251Z"
   },
   {
    "duration": 12,
    "start_time": "2022-03-17T10:11:06.234Z"
   },
   {
    "duration": 11,
    "start_time": "2022-03-17T10:11:13.489Z"
   },
   {
    "duration": 19,
    "start_time": "2022-03-17T10:11:21.321Z"
   },
   {
    "duration": 7,
    "start_time": "2022-03-17T10:11:29.225Z"
   },
   {
    "duration": 367,
    "start_time": "2022-03-17T10:11:37.034Z"
   },
   {
    "duration": 1530,
    "start_time": "2022-03-17T10:13:22.174Z"
   },
   {
    "duration": 7,
    "start_time": "2022-03-17T10:13:54.937Z"
   },
   {
    "duration": 20,
    "start_time": "2022-03-17T10:14:20.608Z"
   },
   {
    "duration": 40,
    "start_time": "2022-03-17T10:14:29.558Z"
   },
   {
    "duration": 13,
    "start_time": "2022-03-17T10:14:56.754Z"
   },
   {
    "duration": 29,
    "start_time": "2022-03-17T10:15:05.304Z"
   },
   {
    "duration": 208,
    "start_time": "2022-03-17T10:16:10.632Z"
   },
   {
    "duration": 1595,
    "start_time": "2022-03-17T10:16:29.416Z"
   },
   {
    "duration": 1348,
    "start_time": "2022-03-17T10:16:39.257Z"
   },
   {
    "duration": 11,
    "start_time": "2022-03-17T10:17:36.659Z"
   },
   {
    "duration": 64,
    "start_time": "2022-03-17T10:17:54.291Z"
   },
   {
    "duration": 9,
    "start_time": "2022-03-17T10:18:01.867Z"
   },
   {
    "duration": 131,
    "start_time": "2022-03-17T10:41:37.051Z"
   },
   {
    "duration": 10,
    "start_time": "2022-03-17T10:41:43.409Z"
   },
   {
    "duration": 5,
    "start_time": "2022-03-17T10:41:52.594Z"
   },
   {
    "duration": 5,
    "start_time": "2022-03-17T10:46:59.159Z"
   },
   {
    "duration": 389,
    "start_time": "2022-03-17T10:50:54.082Z"
   },
   {
    "duration": 7,
    "start_time": "2022-03-17T10:52:32.457Z"
   },
   {
    "duration": 394,
    "start_time": "2022-03-17T10:53:16.820Z"
   },
   {
    "duration": 11,
    "start_time": "2022-03-17T10:54:02.837Z"
   },
   {
    "duration": 6,
    "start_time": "2022-03-17T10:54:16.315Z"
   },
   {
    "duration": 279,
    "start_time": "2022-03-17T10:54:26.575Z"
   },
   {
    "duration": 426,
    "start_time": "2022-03-17T10:54:48.041Z"
   },
   {
    "duration": 369,
    "start_time": "2022-03-17T10:55:15.651Z"
   },
   {
    "duration": 406,
    "start_time": "2022-03-17T10:55:29.299Z"
   },
   {
    "duration": 310,
    "start_time": "2022-03-17T10:55:52.246Z"
   },
   {
    "duration": 304,
    "start_time": "2022-03-17T10:56:51.703Z"
   },
   {
    "duration": 5,
    "start_time": "2022-03-17T11:04:12.376Z"
   },
   {
    "duration": 26,
    "start_time": "2022-03-17T11:05:20.034Z"
   },
   {
    "duration": 28,
    "start_time": "2022-03-17T11:06:12.388Z"
   },
   {
    "duration": 534,
    "start_time": "2022-03-17T11:41:08.418Z"
   },
   {
    "duration": 5,
    "start_time": "2022-03-17T11:44:40.391Z"
   },
   {
    "duration": 32,
    "start_time": "2022-03-17T11:44:51.809Z"
   },
   {
    "duration": 5,
    "start_time": "2022-03-17T11:45:09.991Z"
   },
   {
    "duration": 30,
    "start_time": "2022-03-17T11:45:10.801Z"
   },
   {
    "duration": 5,
    "start_time": "2022-03-17T11:46:13.550Z"
   },
   {
    "duration": 29,
    "start_time": "2022-03-17T11:46:14.449Z"
   },
   {
    "duration": 6,
    "start_time": "2022-03-17T11:47:26.563Z"
   },
   {
    "duration": 30,
    "start_time": "2022-03-17T11:47:33.066Z"
   },
   {
    "duration": 331,
    "start_time": "2022-03-17T11:49:07.302Z"
   },
   {
    "duration": 29,
    "start_time": "2022-03-17T11:49:08.861Z"
   },
   {
    "duration": 6,
    "start_time": "2022-03-17T11:49:17.589Z"
   },
   {
    "duration": 35,
    "start_time": "2022-03-17T11:49:18.341Z"
   },
   {
    "duration": 5,
    "start_time": "2022-03-17T11:49:32.037Z"
   },
   {
    "duration": 34,
    "start_time": "2022-03-17T11:49:32.774Z"
   },
   {
    "duration": 35,
    "start_time": "2022-03-17T11:56:57.361Z"
   },
   {
    "duration": 5,
    "start_time": "2022-03-17T12:05:20.306Z"
   },
   {
    "duration": 7,
    "start_time": "2022-03-17T12:06:30.188Z"
   },
   {
    "duration": 9,
    "start_time": "2022-03-17T12:06:48.443Z"
   },
   {
    "duration": 16,
    "start_time": "2022-03-17T12:07:07.868Z"
   },
   {
    "duration": 15,
    "start_time": "2022-03-17T12:07:09.772Z"
   },
   {
    "duration": 957,
    "start_time": "2022-03-17T12:07:20.748Z"
   },
   {
    "duration": 526,
    "start_time": "2022-03-17T12:07:21.708Z"
   },
   {
    "duration": 5,
    "start_time": "2022-03-17T12:07:22.236Z"
   },
   {
    "duration": 31,
    "start_time": "2022-03-17T12:07:22.244Z"
   },
   {
    "duration": 74,
    "start_time": "2022-03-17T12:07:22.277Z"
   },
   {
    "duration": 13,
    "start_time": "2022-03-17T12:07:22.353Z"
   },
   {
    "duration": 26,
    "start_time": "2022-03-17T12:07:22.368Z"
   },
   {
    "duration": 36,
    "start_time": "2022-03-17T12:07:22.396Z"
   },
   {
    "duration": 21,
    "start_time": "2022-03-17T12:07:22.434Z"
   },
   {
    "duration": 226,
    "start_time": "2022-03-17T12:07:22.461Z"
   },
   {
    "duration": 22,
    "start_time": "2022-03-17T12:07:22.690Z"
   },
   {
    "duration": 34,
    "start_time": "2022-03-17T12:07:22.715Z"
   },
   {
    "duration": 32,
    "start_time": "2022-03-17T12:07:22.752Z"
   },
   {
    "duration": 31,
    "start_time": "2022-03-17T12:07:22.787Z"
   },
   {
    "duration": 172,
    "start_time": "2022-03-17T12:07:22.820Z"
   },
   {
    "duration": 53,
    "start_time": "2022-03-17T12:07:22.994Z"
   },
   {
    "duration": 145,
    "start_time": "2022-03-17T12:07:23.050Z"
   },
   {
    "duration": 14,
    "start_time": "2022-03-17T12:07:23.198Z"
   },
   {
    "duration": 28,
    "start_time": "2022-03-17T12:07:23.214Z"
   },
   {
    "duration": 38,
    "start_time": "2022-03-17T12:07:23.245Z"
   },
   {
    "duration": 9,
    "start_time": "2022-03-17T12:07:23.286Z"
   },
   {
    "duration": 87,
    "start_time": "2022-03-17T12:07:23.297Z"
   },
   {
    "duration": 32,
    "start_time": "2022-03-17T12:07:23.386Z"
   },
   {
    "duration": 225,
    "start_time": "2022-03-17T12:07:23.420Z"
   },
   {
    "duration": 17,
    "start_time": "2022-03-17T12:07:23.648Z"
   },
   {
    "duration": 32,
    "start_time": "2022-03-17T12:07:23.683Z"
   },
   {
    "duration": 6,
    "start_time": "2022-03-17T12:07:23.717Z"
   },
   {
    "duration": 36,
    "start_time": "2022-03-17T12:07:23.729Z"
   },
   {
    "duration": 124,
    "start_time": "2022-03-17T12:07:23.767Z"
   },
   {
    "duration": 15,
    "start_time": "2022-03-17T12:07:23.894Z"
   },
   {
    "duration": 79,
    "start_time": "2022-03-17T12:07:23.911Z"
   },
   {
    "duration": 13,
    "start_time": "2022-03-17T12:07:23.994Z"
   },
   {
    "duration": 31,
    "start_time": "2022-03-17T12:07:24.010Z"
   },
   {
    "duration": 35,
    "start_time": "2022-03-17T12:07:24.044Z"
   },
   {
    "duration": 10,
    "start_time": "2022-03-17T12:07:24.081Z"
   },
   {
    "duration": 1589,
    "start_time": "2022-03-17T12:07:24.093Z"
   },
   {
    "duration": 6,
    "start_time": "2022-03-17T12:07:25.684Z"
   },
   {
    "duration": 30,
    "start_time": "2022-03-17T12:07:25.692Z"
   },
   {
    "duration": 39,
    "start_time": "2022-03-17T12:07:25.724Z"
   },
   {
    "duration": 12,
    "start_time": "2022-03-17T12:07:25.782Z"
   },
   {
    "duration": 28,
    "start_time": "2022-03-17T12:07:25.798Z"
   },
   {
    "duration": 1915,
    "start_time": "2022-03-17T12:07:25.828Z"
   },
   {
    "duration": 14,
    "start_time": "2022-03-17T12:07:27.746Z"
   },
   {
    "duration": 76,
    "start_time": "2022-03-17T12:07:27.763Z"
   },
   {
    "duration": 8,
    "start_time": "2022-03-17T12:07:27.842Z"
   },
   {
    "duration": 32,
    "start_time": "2022-03-17T12:07:27.852Z"
   },
   {
    "duration": 7,
    "start_time": "2022-03-17T12:07:27.886Z"
   },
   {
    "duration": 132,
    "start_time": "2022-03-17T12:07:27.895Z"
   },
   {
    "duration": 12,
    "start_time": "2022-03-17T12:08:41.170Z"
   },
   {
    "duration": 10,
    "start_time": "2022-03-17T12:10:05.955Z"
   },
   {
    "duration": 12,
    "start_time": "2022-03-17T12:10:53.003Z"
   },
   {
    "duration": 10,
    "start_time": "2022-03-17T12:10:59.664Z"
   },
   {
    "duration": 5,
    "start_time": "2022-03-17T12:11:04.558Z"
   },
   {
    "duration": 552,
    "start_time": "2022-03-17T12:11:06.369Z"
   },
   {
    "duration": 5,
    "start_time": "2022-03-17T12:11:08.739Z"
   },
   {
    "duration": 5,
    "start_time": "2022-03-17T12:11:10.299Z"
   },
   {
    "duration": 34,
    "start_time": "2022-03-17T12:11:11.646Z"
   },
   {
    "duration": 19,
    "start_time": "2022-03-17T12:11:15.410Z"
   },
   {
    "duration": 9,
    "start_time": "2022-03-17T12:11:16.714Z"
   },
   {
    "duration": 12,
    "start_time": "2022-03-17T12:11:19.620Z"
   },
   {
    "duration": 191,
    "start_time": "2022-03-17T12:11:22.859Z"
   },
   {
    "duration": 49,
    "start_time": "2022-03-17T12:13:10.763Z"
   },
   {
    "duration": 50,
    "start_time": "2022-03-17T15:48:13.772Z"
   },
   {
    "duration": 860,
    "start_time": "2022-03-17T15:48:28.380Z"
   },
   {
    "duration": 478,
    "start_time": "2022-03-17T15:48:30.073Z"
   },
   {
    "duration": 4,
    "start_time": "2022-03-17T15:48:32.776Z"
   },
   {
    "duration": 3,
    "start_time": "2022-03-17T15:48:34.496Z"
   },
   {
    "duration": 29,
    "start_time": "2022-03-17T15:48:37.543Z"
   },
   {
    "duration": 8,
    "start_time": "2022-03-17T15:48:43.396Z"
   },
   {
    "duration": 5,
    "start_time": "2022-03-17T15:48:45.723Z"
   },
   {
    "duration": 9,
    "start_time": "2022-03-17T15:48:49.149Z"
   },
   {
    "duration": 147,
    "start_time": "2022-03-17T15:48:53.480Z"
   },
   {
    "duration": 141,
    "start_time": "2022-03-17T15:48:58.953Z"
   },
   {
    "duration": 7,
    "start_time": "2022-03-17T15:49:03.067Z"
   },
   {
    "duration": 36,
    "start_time": "2022-03-17T15:49:05.073Z"
   },
   {
    "duration": 73,
    "start_time": "2022-03-17T15:49:07.731Z"
   },
   {
    "duration": 7,
    "start_time": "2022-03-17T15:49:40.322Z"
   },
   {
    "duration": 35,
    "start_time": "2022-03-17T15:51:14.444Z"
   },
   {
    "duration": 108,
    "start_time": "2022-03-17T15:51:40.556Z"
   },
   {
    "duration": 31,
    "start_time": "2022-03-17T15:52:53.238Z"
   },
   {
    "duration": 10,
    "start_time": "2022-03-17T15:52:56.456Z"
   },
   {
    "duration": 8,
    "start_time": "2022-03-17T15:53:00.232Z"
   },
   {
    "duration": 934,
    "start_time": "2022-03-17T15:53:26.117Z"
   },
   {
    "duration": 9,
    "start_time": "2022-03-17T15:53:59.514Z"
   },
   {
    "duration": 5,
    "start_time": "2022-03-17T15:54:42.403Z"
   },
   {
    "duration": 32,
    "start_time": "2022-03-17T15:54:45.985Z"
   },
   {
    "duration": 4,
    "start_time": "2022-03-17T15:54:52.146Z"
   },
   {
    "duration": 24,
    "start_time": "2022-03-17T15:54:54.648Z"
   },
   {
    "duration": 137,
    "start_time": "2022-03-17T15:55:01.369Z"
   },
   {
    "duration": 66,
    "start_time": "2022-03-17T15:55:07.044Z"
   },
   {
    "duration": 59,
    "start_time": "2022-03-17T15:55:17.051Z"
   },
   {
    "duration": 20,
    "start_time": "2022-03-17T15:55:35.305Z"
   },
   {
    "duration": 13,
    "start_time": "2022-03-17T16:10:21.247Z"
   },
   {
    "duration": 4,
    "start_time": "2022-03-17T16:13:46.273Z"
   },
   {
    "duration": 14,
    "start_time": "2022-03-17T16:13:52.337Z"
   },
   {
    "duration": 18,
    "start_time": "2022-03-17T16:14:19.992Z"
   },
   {
    "duration": 15,
    "start_time": "2022-03-17T16:14:35.001Z"
   },
   {
    "duration": 18,
    "start_time": "2022-03-17T16:14:46.083Z"
   },
   {
    "duration": 4,
    "start_time": "2022-03-17T16:15:00.937Z"
   },
   {
    "duration": 14,
    "start_time": "2022-03-17T16:15:05.613Z"
   },
   {
    "duration": 704,
    "start_time": "2022-03-17T16:15:23.545Z"
   },
   {
    "duration": 455,
    "start_time": "2022-03-17T16:15:24.251Z"
   },
   {
    "duration": 4,
    "start_time": "2022-03-17T16:15:24.708Z"
   },
   {
    "duration": 11,
    "start_time": "2022-03-17T16:15:24.713Z"
   },
   {
    "duration": 34,
    "start_time": "2022-03-17T16:15:24.726Z"
   },
   {
    "duration": 8,
    "start_time": "2022-03-17T16:15:24.761Z"
   },
   {
    "duration": 9,
    "start_time": "2022-03-17T16:15:24.771Z"
   },
   {
    "duration": 11,
    "start_time": "2022-03-17T16:15:24.782Z"
   },
   {
    "duration": 186,
    "start_time": "2022-03-17T16:15:24.795Z"
   },
   {
    "duration": 7,
    "start_time": "2022-03-17T16:15:24.983Z"
   },
   {
    "duration": 41,
    "start_time": "2022-03-17T16:15:24.991Z"
   },
   {
    "duration": 79,
    "start_time": "2022-03-17T16:15:25.034Z"
   },
   {
    "duration": 6,
    "start_time": "2022-03-17T16:15:25.115Z"
   },
   {
    "duration": 23,
    "start_time": "2022-03-17T16:15:25.131Z"
   },
   {
    "duration": 112,
    "start_time": "2022-03-17T16:15:25.156Z"
   },
   {
    "duration": 6,
    "start_time": "2022-03-17T16:15:25.270Z"
   },
   {
    "duration": 9,
    "start_time": "2022-03-17T16:15:25.278Z"
   },
   {
    "duration": 32,
    "start_time": "2022-03-17T16:15:25.289Z"
   },
   {
    "duration": 20,
    "start_time": "2022-03-17T16:15:25.332Z"
   },
   {
    "duration": 904,
    "start_time": "2022-03-17T16:15:25.354Z"
   },
   {
    "duration": 5,
    "start_time": "2022-03-17T16:15:26.260Z"
   },
   {
    "duration": 18,
    "start_time": "2022-03-17T16:15:26.267Z"
   },
   {
    "duration": 49,
    "start_time": "2022-03-17T16:15:26.287Z"
   },
   {
    "duration": 8,
    "start_time": "2022-03-17T16:15:26.337Z"
   },
   {
    "duration": 26,
    "start_time": "2022-03-17T16:15:26.347Z"
   },
   {
    "duration": 1018,
    "start_time": "2022-03-17T16:15:26.375Z"
   },
   {
    "duration": 9,
    "start_time": "2022-03-17T16:15:27.395Z"
   },
   {
    "duration": 46,
    "start_time": "2022-03-17T16:15:27.406Z"
   },
   {
    "duration": 4,
    "start_time": "2022-03-17T16:15:27.454Z"
   },
   {
    "duration": 14,
    "start_time": "2022-03-17T16:15:27.460Z"
   },
   {
    "duration": 13,
    "start_time": "2022-03-17T16:15:27.476Z"
   },
   {
    "duration": 5,
    "start_time": "2022-03-17T16:16:37.483Z"
   },
   {
    "duration": 82,
    "start_time": "2022-03-17T16:42:50.429Z"
   },
   {
    "duration": 4,
    "start_time": "2022-03-17T16:42:56.606Z"
   },
   {
    "duration": 8,
    "start_time": "2022-03-17T16:43:20.172Z"
   },
   {
    "duration": 8,
    "start_time": "2022-03-17T16:43:24.134Z"
   },
   {
    "duration": 10,
    "start_time": "2022-03-17T16:43:47.671Z"
   },
   {
    "duration": 8,
    "start_time": "2022-03-17T16:44:00.628Z"
   },
   {
    "duration": 4,
    "start_time": "2022-03-17T16:44:13.982Z"
   },
   {
    "duration": 8,
    "start_time": "2022-03-17T16:46:09.440Z"
   },
   {
    "duration": 8,
    "start_time": "2022-03-17T16:46:47.658Z"
   },
   {
    "duration": 13,
    "start_time": "2022-03-17T16:47:30.942Z"
   },
   {
    "duration": 13,
    "start_time": "2022-03-17T16:48:27.640Z"
   },
   {
    "duration": 12,
    "start_time": "2022-03-17T16:48:32.724Z"
   },
   {
    "duration": 12,
    "start_time": "2022-03-17T16:49:15.988Z"
   },
   {
    "duration": 3085,
    "start_time": "2022-03-17T16:49:51.227Z"
   },
   {
    "duration": 3072,
    "start_time": "2022-03-17T16:50:04.342Z"
   },
   {
    "duration": 13,
    "start_time": "2022-03-17T16:50:26.767Z"
   },
   {
    "duration": 7,
    "start_time": "2022-03-17T16:50:54.303Z"
   },
   {
    "duration": 11,
    "start_time": "2022-03-17T16:51:00.719Z"
   },
   {
    "duration": 27,
    "start_time": "2022-03-17T16:55:41.736Z"
   },
   {
    "duration": 15,
    "start_time": "2022-03-17T16:55:49.238Z"
   },
   {
    "duration": 12,
    "start_time": "2022-03-17T16:57:09.391Z"
   },
   {
    "duration": 23,
    "start_time": "2022-03-17T16:57:23.319Z"
   },
   {
    "duration": 23,
    "start_time": "2022-03-17T16:57:35.417Z"
   },
   {
    "duration": 54,
    "start_time": "2022-03-17T17:00:27.983Z"
   },
   {
    "duration": 16,
    "start_time": "2022-03-17T17:05:21.177Z"
   },
   {
    "duration": 12,
    "start_time": "2022-03-17T17:07:18.731Z"
   },
   {
    "duration": 29,
    "start_time": "2022-03-17T17:08:38.991Z"
   },
   {
    "duration": 10,
    "start_time": "2022-03-17T17:08:44.653Z"
   },
   {
    "duration": 40,
    "start_time": "2022-03-17T17:10:27.540Z"
   },
   {
    "duration": 17,
    "start_time": "2022-03-17T17:10:32.848Z"
   },
   {
    "duration": 167,
    "start_time": "2022-03-17T17:11:00.292Z"
   },
   {
    "duration": 40,
    "start_time": "2022-03-17T17:11:07.734Z"
   },
   {
    "duration": 196,
    "start_time": "2022-03-17T17:13:15.004Z"
   },
   {
    "duration": 154,
    "start_time": "2022-03-17T17:14:59.502Z"
   },
   {
    "duration": 12,
    "start_time": "2022-03-17T17:15:14.584Z"
   },
   {
    "duration": 41,
    "start_time": "2022-03-17T17:15:21.239Z"
   },
   {
    "duration": 42,
    "start_time": "2022-03-17T17:15:48.790Z"
   },
   {
    "duration": 12,
    "start_time": "2022-03-17T17:15:54.406Z"
   },
   {
    "duration": 43,
    "start_time": "2022-03-17T17:17:02.320Z"
   },
   {
    "duration": 12,
    "start_time": "2022-03-17T17:17:08.459Z"
   },
   {
    "duration": 5,
    "start_time": "2022-03-17T17:20:39.483Z"
   },
   {
    "duration": 16,
    "start_time": "2022-03-17T17:20:47.091Z"
   },
   {
    "duration": 49,
    "start_time": "2022-03-17T17:21:22.591Z"
   },
   {
    "duration": 12,
    "start_time": "2022-03-17T17:21:28.068Z"
   },
   {
    "duration": 50,
    "start_time": "2022-03-17T17:21:39.653Z"
   },
   {
    "duration": 11,
    "start_time": "2022-03-17T17:21:41.448Z"
   },
   {
    "duration": 52,
    "start_time": "2022-03-17T17:21:47.448Z"
   },
   {
    "duration": 12,
    "start_time": "2022-03-17T17:21:48.004Z"
   },
   {
    "duration": 861,
    "start_time": "2022-03-18T04:40:12.122Z"
   },
   {
    "duration": 375,
    "start_time": "2022-03-18T04:40:12.985Z"
   },
   {
    "duration": 3,
    "start_time": "2022-03-18T04:40:13.362Z"
   },
   {
    "duration": 5,
    "start_time": "2022-03-18T04:40:13.367Z"
   },
   {
    "duration": 26,
    "start_time": "2022-03-18T04:40:13.374Z"
   },
   {
    "duration": 7,
    "start_time": "2022-03-18T04:40:13.402Z"
   },
   {
    "duration": 4,
    "start_time": "2022-03-18T04:40:13.412Z"
   },
   {
    "duration": 12,
    "start_time": "2022-03-18T04:40:13.418Z"
   },
   {
    "duration": 171,
    "start_time": "2022-03-18T04:40:13.432Z"
   },
   {
    "duration": 7,
    "start_time": "2022-03-18T04:40:13.605Z"
   },
   {
    "duration": 54,
    "start_time": "2022-03-18T04:40:13.614Z"
   },
   {
    "duration": 65,
    "start_time": "2022-03-18T04:40:13.670Z"
   },
   {
    "duration": 30,
    "start_time": "2022-03-18T04:40:13.737Z"
   },
   {
    "duration": 23,
    "start_time": "2022-03-18T04:40:13.771Z"
   },
   {
    "duration": 121,
    "start_time": "2022-03-18T04:40:13.796Z"
   },
   {
    "duration": 7,
    "start_time": "2022-03-18T04:40:13.919Z"
   },
   {
    "duration": 10,
    "start_time": "2022-03-18T04:40:13.928Z"
   },
   {
    "duration": 48,
    "start_time": "2022-03-18T04:40:13.939Z"
   },
   {
    "duration": 18,
    "start_time": "2022-03-18T04:40:13.989Z"
   },
   {
    "duration": 715,
    "start_time": "2022-03-18T04:40:14.009Z"
   },
   {
    "duration": 4,
    "start_time": "2022-03-18T04:40:14.726Z"
   },
   {
    "duration": 23,
    "start_time": "2022-03-18T04:40:14.731Z"
   },
   {
    "duration": 31,
    "start_time": "2022-03-18T04:40:14.756Z"
   },
   {
    "duration": 8,
    "start_time": "2022-03-18T04:40:14.789Z"
   },
   {
    "duration": 26,
    "start_time": "2022-03-18T04:40:14.799Z"
   },
   {
    "duration": 882,
    "start_time": "2022-03-18T04:40:14.827Z"
   },
   {
    "duration": 9,
    "start_time": "2022-03-18T04:40:15.711Z"
   },
   {
    "duration": 48,
    "start_time": "2022-03-18T04:40:15.722Z"
   },
   {
    "duration": 5,
    "start_time": "2022-03-18T04:40:15.772Z"
   },
   {
    "duration": 7,
    "start_time": "2022-03-18T04:40:15.778Z"
   },
   {
    "duration": 5,
    "start_time": "2022-03-18T04:40:15.786Z"
   },
   {
    "duration": 74,
    "start_time": "2022-03-18T04:40:15.792Z"
   },
   {
    "duration": 52,
    "start_time": "2022-03-18T04:40:15.868Z"
   },
   {
    "duration": 10,
    "start_time": "2022-03-18T04:40:15.921Z"
   },
   {
    "duration": 129,
    "start_time": "2022-03-18T04:52:53.404Z"
   },
   {
    "duration": 7,
    "start_time": "2022-03-18T04:56:28.549Z"
   },
   {
    "duration": 7,
    "start_time": "2022-03-18T04:56:36.667Z"
   },
   {
    "duration": 28,
    "start_time": "2022-03-18T04:57:31.843Z"
   },
   {
    "duration": 5,
    "start_time": "2022-03-18T05:01:04.360Z"
   },
   {
    "duration": 55,
    "start_time": "2022-03-18T05:02:29.778Z"
   },
   {
    "duration": 635,
    "start_time": "2022-03-18T05:02:44.700Z"
   },
   {
    "duration": 379,
    "start_time": "2022-03-18T05:02:45.337Z"
   },
   {
    "duration": 4,
    "start_time": "2022-03-18T05:02:45.718Z"
   },
   {
    "duration": 5,
    "start_time": "2022-03-18T05:02:45.724Z"
   },
   {
    "duration": 36,
    "start_time": "2022-03-18T05:02:45.732Z"
   },
   {
    "duration": 9,
    "start_time": "2022-03-18T05:02:45.770Z"
   },
   {
    "duration": 5,
    "start_time": "2022-03-18T05:02:45.781Z"
   },
   {
    "duration": 9,
    "start_time": "2022-03-18T05:02:45.788Z"
   },
   {
    "duration": 178,
    "start_time": "2022-03-18T05:02:45.799Z"
   },
   {
    "duration": 7,
    "start_time": "2022-03-18T05:02:45.979Z"
   },
   {
    "duration": 36,
    "start_time": "2022-03-18T05:02:45.988Z"
   },
   {
    "duration": 91,
    "start_time": "2022-03-18T05:02:46.026Z"
   },
   {
    "duration": 6,
    "start_time": "2022-03-18T05:02:46.120Z"
   },
   {
    "duration": 43,
    "start_time": "2022-03-18T05:02:46.129Z"
   },
   {
    "duration": 107,
    "start_time": "2022-03-18T05:02:46.173Z"
   },
   {
    "duration": 6,
    "start_time": "2022-03-18T05:02:46.282Z"
   },
   {
    "duration": 12,
    "start_time": "2022-03-18T05:02:46.289Z"
   },
   {
    "duration": 27,
    "start_time": "2022-03-18T05:02:46.303Z"
   },
   {
    "duration": 40,
    "start_time": "2022-03-18T05:02:46.331Z"
   },
   {
    "duration": 771,
    "start_time": "2022-03-18T05:02:46.372Z"
   },
   {
    "duration": 4,
    "start_time": "2022-03-18T05:02:47.145Z"
   },
   {
    "duration": 42,
    "start_time": "2022-03-18T05:02:47.150Z"
   },
   {
    "duration": 26,
    "start_time": "2022-03-18T05:02:47.193Z"
   },
   {
    "duration": 9,
    "start_time": "2022-03-18T05:02:47.221Z"
   },
   {
    "duration": 41,
    "start_time": "2022-03-18T05:02:47.231Z"
   },
   {
    "duration": 898,
    "start_time": "2022-03-18T05:02:47.274Z"
   },
   {
    "duration": 7,
    "start_time": "2022-03-18T05:02:48.174Z"
   },
   {
    "duration": 44,
    "start_time": "2022-03-18T05:02:48.182Z"
   },
   {
    "duration": 5,
    "start_time": "2022-03-18T05:02:48.228Z"
   },
   {
    "duration": 38,
    "start_time": "2022-03-18T05:02:48.234Z"
   },
   {
    "duration": 80,
    "start_time": "2022-03-18T05:02:48.274Z"
   },
   {
    "duration": 51,
    "start_time": "2022-03-18T05:02:48.356Z"
   },
   {
    "duration": 11,
    "start_time": "2022-03-18T05:02:48.408Z"
   },
   {
    "duration": 50,
    "start_time": "2022-03-18T05:03:16.548Z"
   },
   {
    "duration": 2358,
    "start_time": "2022-03-18T05:24:18.976Z"
   },
   {
    "duration": 13,
    "start_time": "2022-03-18T05:24:37.478Z"
   },
   {
    "duration": 46,
    "start_time": "2022-03-18T05:24:42.717Z"
   },
   {
    "duration": 644,
    "start_time": "2022-03-18T05:24:55.519Z"
   },
   {
    "duration": 541,
    "start_time": "2022-03-18T05:24:56.165Z"
   },
   {
    "duration": 4,
    "start_time": "2022-03-18T05:24:56.708Z"
   },
   {
    "duration": 5,
    "start_time": "2022-03-18T05:24:56.713Z"
   },
   {
    "duration": 24,
    "start_time": "2022-03-18T05:24:56.720Z"
   },
   {
    "duration": 18,
    "start_time": "2022-03-18T05:24:56.745Z"
   },
   {
    "duration": 5,
    "start_time": "2022-03-18T05:24:56.765Z"
   },
   {
    "duration": 9,
    "start_time": "2022-03-18T05:24:56.772Z"
   },
   {
    "duration": 143,
    "start_time": "2022-03-18T05:24:56.782Z"
   },
   {
    "duration": 7,
    "start_time": "2022-03-18T05:24:56.927Z"
   },
   {
    "duration": 48,
    "start_time": "2022-03-18T05:24:56.935Z"
   },
   {
    "duration": 64,
    "start_time": "2022-03-18T05:24:56.985Z"
   },
   {
    "duration": 17,
    "start_time": "2022-03-18T05:24:57.050Z"
   },
   {
    "duration": 21,
    "start_time": "2022-03-18T05:24:57.071Z"
   },
   {
    "duration": 116,
    "start_time": "2022-03-18T05:24:57.093Z"
   },
   {
    "duration": 5,
    "start_time": "2022-03-18T05:24:57.211Z"
   },
   {
    "duration": 9,
    "start_time": "2022-03-18T05:24:57.218Z"
   },
   {
    "duration": 43,
    "start_time": "2022-03-18T05:24:57.228Z"
   },
   {
    "duration": 16,
    "start_time": "2022-03-18T05:24:57.273Z"
   },
   {
    "duration": 696,
    "start_time": "2022-03-18T05:24:57.291Z"
   },
   {
    "duration": 4,
    "start_time": "2022-03-18T05:24:57.989Z"
   },
   {
    "duration": 19,
    "start_time": "2022-03-18T05:24:57.994Z"
   },
   {
    "duration": 24,
    "start_time": "2022-03-18T05:24:58.015Z"
   },
   {
    "duration": 26,
    "start_time": "2022-03-18T05:24:58.040Z"
   },
   {
    "duration": 19,
    "start_time": "2022-03-18T05:24:58.068Z"
   },
   {
    "duration": 899,
    "start_time": "2022-03-18T05:24:58.089Z"
   },
   {
    "duration": 8,
    "start_time": "2022-03-18T05:24:58.990Z"
   },
   {
    "duration": 35,
    "start_time": "2022-03-18T05:24:58.999Z"
   },
   {
    "duration": 4,
    "start_time": "2022-03-18T05:24:59.036Z"
   },
   {
    "duration": 23,
    "start_time": "2022-03-18T05:24:59.042Z"
   },
   {
    "duration": 50,
    "start_time": "2022-03-18T05:24:59.067Z"
   },
   {
    "duration": 62,
    "start_time": "2022-03-18T05:24:59.119Z"
   },
   {
    "duration": 4,
    "start_time": "2022-03-18T05:24:59.183Z"
   },
   {
    "duration": 14,
    "start_time": "2022-03-18T05:24:59.188Z"
   },
   {
    "duration": 53,
    "start_time": "2022-03-18T05:26:01.828Z"
   },
   {
    "duration": 51,
    "start_time": "2022-03-18T05:26:56.100Z"
   },
   {
    "duration": 4,
    "start_time": "2022-03-18T05:27:14.997Z"
   },
   {
    "duration": 662,
    "start_time": "2022-03-18T05:27:43.150Z"
   },
   {
    "duration": 366,
    "start_time": "2022-03-18T05:27:43.814Z"
   },
   {
    "duration": 3,
    "start_time": "2022-03-18T05:27:44.182Z"
   },
   {
    "duration": 8,
    "start_time": "2022-03-18T05:27:44.187Z"
   },
   {
    "duration": 27,
    "start_time": "2022-03-18T05:27:44.196Z"
   },
   {
    "duration": 7,
    "start_time": "2022-03-18T05:27:44.224Z"
   },
   {
    "duration": 5,
    "start_time": "2022-03-18T05:27:44.233Z"
   },
   {
    "duration": 26,
    "start_time": "2022-03-18T05:27:44.240Z"
   },
   {
    "duration": 138,
    "start_time": "2022-03-18T05:27:44.268Z"
   },
   {
    "duration": 7,
    "start_time": "2022-03-18T05:27:44.409Z"
   },
   {
    "duration": 49,
    "start_time": "2022-03-18T05:27:44.417Z"
   },
   {
    "duration": 66,
    "start_time": "2022-03-18T05:27:44.467Z"
   },
   {
    "duration": 6,
    "start_time": "2022-03-18T05:27:44.535Z"
   },
   {
    "duration": 22,
    "start_time": "2022-03-18T05:27:44.563Z"
   },
   {
    "duration": 109,
    "start_time": "2022-03-18T05:27:44.587Z"
   },
   {
    "duration": 6,
    "start_time": "2022-03-18T05:27:44.697Z"
   },
   {
    "duration": 9,
    "start_time": "2022-03-18T05:27:44.705Z"
   },
   {
    "duration": 49,
    "start_time": "2022-03-18T05:27:44.715Z"
   },
   {
    "duration": 18,
    "start_time": "2022-03-18T05:27:44.765Z"
   },
   {
    "duration": 704,
    "start_time": "2022-03-18T05:27:44.785Z"
   },
   {
    "duration": 4,
    "start_time": "2022-03-18T05:27:45.491Z"
   },
   {
    "duration": 23,
    "start_time": "2022-03-18T05:27:45.497Z"
   },
   {
    "duration": 25,
    "start_time": "2022-03-18T05:27:45.522Z"
   },
   {
    "duration": 21,
    "start_time": "2022-03-18T05:27:45.549Z"
   },
   {
    "duration": 19,
    "start_time": "2022-03-18T05:27:45.572Z"
   },
   {
    "duration": 884,
    "start_time": "2022-03-18T05:27:45.593Z"
   },
   {
    "duration": 7,
    "start_time": "2022-03-18T05:27:46.479Z"
   },
   {
    "duration": 34,
    "start_time": "2022-03-18T05:27:46.489Z"
   },
   {
    "duration": 5,
    "start_time": "2022-03-18T05:27:46.524Z"
   },
   {
    "duration": 32,
    "start_time": "2022-03-18T05:27:46.531Z"
   },
   {
    "duration": 50,
    "start_time": "2022-03-18T05:27:46.565Z"
   },
   {
    "duration": 68,
    "start_time": "2022-03-18T05:27:46.616Z"
   },
   {
    "duration": 4,
    "start_time": "2022-03-18T05:27:46.686Z"
   },
   {
    "duration": 13,
    "start_time": "2022-03-18T05:27:46.691Z"
   },
   {
    "duration": 202,
    "start_time": "2022-03-18T05:28:19.282Z"
   },
   {
    "duration": 70,
    "start_time": "2022-03-18T05:28:34.858Z"
   },
   {
    "duration": 9,
    "start_time": "2022-03-18T05:28:51.570Z"
   },
   {
    "duration": 13,
    "start_time": "2022-03-18T05:29:17.843Z"
   },
   {
    "duration": 12,
    "start_time": "2022-03-18T05:29:20.596Z"
   },
   {
    "duration": 683,
    "start_time": "2022-03-18T05:29:42.327Z"
   },
   {
    "duration": 354,
    "start_time": "2022-03-18T05:29:43.012Z"
   },
   {
    "duration": 4,
    "start_time": "2022-03-18T05:29:43.368Z"
   },
   {
    "duration": 8,
    "start_time": "2022-03-18T05:29:43.373Z"
   },
   {
    "duration": 25,
    "start_time": "2022-03-18T05:29:43.383Z"
   },
   {
    "duration": 7,
    "start_time": "2022-03-18T05:29:43.410Z"
   },
   {
    "duration": 6,
    "start_time": "2022-03-18T05:29:43.418Z"
   },
   {
    "duration": 10,
    "start_time": "2022-03-18T05:29:43.426Z"
   },
   {
    "duration": 151,
    "start_time": "2022-03-18T05:29:43.438Z"
   },
   {
    "duration": 6,
    "start_time": "2022-03-18T05:29:43.591Z"
   },
   {
    "duration": 32,
    "start_time": "2022-03-18T05:29:43.599Z"
   },
   {
    "duration": 84,
    "start_time": "2022-03-18T05:29:43.633Z"
   },
   {
    "duration": 6,
    "start_time": "2022-03-18T05:29:43.719Z"
   },
   {
    "duration": 43,
    "start_time": "2022-03-18T05:29:43.728Z"
   },
   {
    "duration": 112,
    "start_time": "2022-03-18T05:29:43.773Z"
   },
   {
    "duration": 7,
    "start_time": "2022-03-18T05:29:43.887Z"
   },
   {
    "duration": 9,
    "start_time": "2022-03-18T05:29:43.896Z"
   },
   {
    "duration": 27,
    "start_time": "2022-03-18T05:29:43.907Z"
   },
   {
    "duration": 45,
    "start_time": "2022-03-18T05:29:43.935Z"
   },
   {
    "duration": 726,
    "start_time": "2022-03-18T05:29:43.981Z"
   },
   {
    "duration": 4,
    "start_time": "2022-03-18T05:29:44.708Z"
   },
   {
    "duration": 16,
    "start_time": "2022-03-18T05:29:44.714Z"
   },
   {
    "duration": 41,
    "start_time": "2022-03-18T05:29:44.732Z"
   },
   {
    "duration": 8,
    "start_time": "2022-03-18T05:29:44.774Z"
   },
   {
    "duration": 18,
    "start_time": "2022-03-18T05:29:44.783Z"
   },
   {
    "duration": 878,
    "start_time": "2022-03-18T05:29:44.803Z"
   },
   {
    "duration": 9,
    "start_time": "2022-03-18T05:29:45.683Z"
   },
   {
    "duration": 30,
    "start_time": "2022-03-18T05:29:45.693Z"
   },
   {
    "duration": 5,
    "start_time": "2022-03-18T05:29:45.725Z"
   },
   {
    "duration": 33,
    "start_time": "2022-03-18T05:29:45.732Z"
   },
   {
    "duration": 48,
    "start_time": "2022-03-18T05:29:45.767Z"
   },
   {
    "duration": 66,
    "start_time": "2022-03-18T05:29:45.817Z"
   },
   {
    "duration": 12,
    "start_time": "2022-03-18T05:29:45.885Z"
   },
   {
    "duration": 11,
    "start_time": "2022-03-18T05:29:45.899Z"
   },
   {
    "duration": 4,
    "start_time": "2022-03-18T05:29:57.871Z"
   },
   {
    "duration": 11,
    "start_time": "2022-03-18T05:29:58.879Z"
   },
   {
    "duration": 117,
    "start_time": "2022-03-18T05:32:06.810Z"
   },
   {
    "duration": 56,
    "start_time": "2022-03-18T05:32:10.314Z"
   },
   {
    "duration": 2534,
    "start_time": "2022-03-18T05:32:39.947Z"
   },
   {
    "duration": 0,
    "start_time": "2022-03-18T05:32:42.482Z"
   },
   {
    "duration": 633,
    "start_time": "2022-03-18T05:32:52.387Z"
   },
   {
    "duration": 366,
    "start_time": "2022-03-18T05:32:53.022Z"
   },
   {
    "duration": 3,
    "start_time": "2022-03-18T05:32:53.390Z"
   },
   {
    "duration": 8,
    "start_time": "2022-03-18T05:32:53.395Z"
   },
   {
    "duration": 27,
    "start_time": "2022-03-18T05:32:53.405Z"
   },
   {
    "duration": 8,
    "start_time": "2022-03-18T05:32:53.433Z"
   },
   {
    "duration": 5,
    "start_time": "2022-03-18T05:32:53.443Z"
   },
   {
    "duration": 8,
    "start_time": "2022-03-18T05:32:53.462Z"
   },
   {
    "duration": 147,
    "start_time": "2022-03-18T05:32:53.472Z"
   },
   {
    "duration": 8,
    "start_time": "2022-03-18T05:32:53.621Z"
   },
   {
    "duration": 55,
    "start_time": "2022-03-18T05:32:53.630Z"
   },
   {
    "duration": 78,
    "start_time": "2022-03-18T05:32:53.688Z"
   },
   {
    "duration": 6,
    "start_time": "2022-03-18T05:32:53.768Z"
   },
   {
    "duration": 23,
    "start_time": "2022-03-18T05:32:53.778Z"
   },
   {
    "duration": 131,
    "start_time": "2022-03-18T05:32:53.803Z"
   },
   {
    "duration": 8,
    "start_time": "2022-03-18T05:32:53.936Z"
   },
   {
    "duration": 25,
    "start_time": "2022-03-18T05:32:53.945Z"
   },
   {
    "duration": 29,
    "start_time": "2022-03-18T05:32:53.972Z"
   },
   {
    "duration": 19,
    "start_time": "2022-03-18T05:32:54.003Z"
   },
   {
    "duration": 698,
    "start_time": "2022-03-18T05:32:54.024Z"
   },
   {
    "duration": 4,
    "start_time": "2022-03-18T05:32:54.724Z"
   },
   {
    "duration": 16,
    "start_time": "2022-03-18T05:32:54.730Z"
   },
   {
    "duration": 40,
    "start_time": "2022-03-18T05:32:54.748Z"
   },
   {
    "duration": 9,
    "start_time": "2022-03-18T05:32:54.790Z"
   },
   {
    "duration": 19,
    "start_time": "2022-03-18T05:32:54.800Z"
   },
   {
    "duration": 892,
    "start_time": "2022-03-18T05:32:54.820Z"
   },
   {
    "duration": 7,
    "start_time": "2022-03-18T05:32:55.714Z"
   },
   {
    "duration": 41,
    "start_time": "2022-03-18T05:32:55.723Z"
   },
   {
    "duration": 5,
    "start_time": "2022-03-18T05:32:55.765Z"
   },
   {
    "duration": 5,
    "start_time": "2022-03-18T05:32:55.771Z"
   },
   {
    "duration": 48,
    "start_time": "2022-03-18T05:32:55.777Z"
   },
   {
    "duration": 73,
    "start_time": "2022-03-18T05:32:55.827Z"
   },
   {
    "duration": 2521,
    "start_time": "2022-03-18T05:32:55.902Z"
   },
   {
    "duration": 0,
    "start_time": "2022-03-18T05:32:58.425Z"
   },
   {
    "duration": 6,
    "start_time": "2022-03-18T05:33:10.620Z"
   },
   {
    "duration": 9,
    "start_time": "2022-03-18T05:33:12.036Z"
   },
   {
    "duration": 8,
    "start_time": "2022-03-18T05:35:21.552Z"
   },
   {
    "duration": 7,
    "start_time": "2022-03-18T05:35:35.695Z"
   },
   {
    "duration": 7,
    "start_time": "2022-03-18T05:35:46.416Z"
   },
   {
    "duration": 10,
    "start_time": "2022-03-18T05:36:05.080Z"
   },
   {
    "duration": 7,
    "start_time": "2022-03-18T05:36:13.263Z"
   },
   {
    "duration": 8,
    "start_time": "2022-03-18T05:36:36.712Z"
   },
   {
    "duration": 66,
    "start_time": "2022-03-18T05:37:48.411Z"
   },
   {
    "duration": 8,
    "start_time": "2022-03-18T05:38:03.075Z"
   },
   {
    "duration": 2292,
    "start_time": "2022-03-18T05:40:47.702Z"
   },
   {
    "duration": 62,
    "start_time": "2022-03-18T05:40:51.606Z"
   },
   {
    "duration": 6,
    "start_time": "2022-03-18T05:40:53.006Z"
   },
   {
    "duration": 8,
    "start_time": "2022-03-18T05:40:55.335Z"
   },
   {
    "duration": 7,
    "start_time": "2022-03-18T05:41:12.503Z"
   },
   {
    "duration": 8,
    "start_time": "2022-03-18T05:41:28.409Z"
   },
   {
    "duration": 10,
    "start_time": "2022-03-18T05:43:23.858Z"
   },
   {
    "duration": 8,
    "start_time": "2022-03-18T05:43:43.970Z"
   },
   {
    "duration": 8,
    "start_time": "2022-03-18T05:44:09.347Z"
   },
   {
    "duration": 8,
    "start_time": "2022-03-18T05:44:37.404Z"
   },
   {
    "duration": 8,
    "start_time": "2022-03-18T05:44:43.380Z"
   },
   {
    "duration": 8,
    "start_time": "2022-03-18T05:44:55.355Z"
   },
   {
    "duration": 7,
    "start_time": "2022-03-18T05:45:04.204Z"
   },
   {
    "duration": 5,
    "start_time": "2022-03-18T06:02:34.123Z"
   },
   {
    "duration": 4,
    "start_time": "2022-03-18T06:02:47.131Z"
   },
   {
    "duration": 4,
    "start_time": "2022-03-18T06:03:00.355Z"
   },
   {
    "duration": 11,
    "start_time": "2022-03-18T06:07:14.178Z"
   },
   {
    "duration": 12,
    "start_time": "2022-03-18T06:07:23.860Z"
   },
   {
    "duration": 19,
    "start_time": "2022-03-18T06:08:34.659Z"
   },
   {
    "duration": 2474,
    "start_time": "2022-03-18T06:10:30.494Z"
   },
   {
    "duration": 2434,
    "start_time": "2022-03-18T06:12:37.377Z"
   },
   {
    "duration": 631,
    "start_time": "2022-03-18T06:13:32.902Z"
   },
   {
    "duration": 370,
    "start_time": "2022-03-18T06:13:33.535Z"
   },
   {
    "duration": 4,
    "start_time": "2022-03-18T06:13:33.907Z"
   },
   {
    "duration": 5,
    "start_time": "2022-03-18T06:13:33.912Z"
   },
   {
    "duration": 25,
    "start_time": "2022-03-18T06:13:33.920Z"
   },
   {
    "duration": 6,
    "start_time": "2022-03-18T06:13:33.947Z"
   },
   {
    "duration": 5,
    "start_time": "2022-03-18T06:13:33.963Z"
   },
   {
    "duration": 11,
    "start_time": "2022-03-18T06:13:33.969Z"
   },
   {
    "duration": 147,
    "start_time": "2022-03-18T06:13:33.981Z"
   },
   {
    "duration": 7,
    "start_time": "2022-03-18T06:13:34.129Z"
   },
   {
    "duration": 45,
    "start_time": "2022-03-18T06:13:34.137Z"
   },
   {
    "duration": 82,
    "start_time": "2022-03-18T06:13:34.184Z"
   },
   {
    "duration": 7,
    "start_time": "2022-03-18T06:13:34.267Z"
   },
   {
    "duration": 23,
    "start_time": "2022-03-18T06:13:34.277Z"
   },
   {
    "duration": 123,
    "start_time": "2022-03-18T06:13:34.301Z"
   },
   {
    "duration": 6,
    "start_time": "2022-03-18T06:13:34.426Z"
   },
   {
    "duration": 29,
    "start_time": "2022-03-18T06:13:34.433Z"
   },
   {
    "duration": 29,
    "start_time": "2022-03-18T06:13:34.464Z"
   },
   {
    "duration": 19,
    "start_time": "2022-03-18T06:13:34.494Z"
   },
   {
    "duration": 692,
    "start_time": "2022-03-18T06:13:34.515Z"
   },
   {
    "duration": 4,
    "start_time": "2022-03-18T06:13:35.209Z"
   },
   {
    "duration": 20,
    "start_time": "2022-03-18T06:13:35.214Z"
   },
   {
    "duration": 36,
    "start_time": "2022-03-18T06:13:35.236Z"
   },
   {
    "duration": 8,
    "start_time": "2022-03-18T06:13:35.274Z"
   },
   {
    "duration": 19,
    "start_time": "2022-03-18T06:13:35.284Z"
   },
   {
    "duration": 904,
    "start_time": "2022-03-18T06:13:35.305Z"
   },
   {
    "duration": 8,
    "start_time": "2022-03-18T06:13:36.211Z"
   },
   {
    "duration": 47,
    "start_time": "2022-03-18T06:13:36.221Z"
   },
   {
    "duration": 4,
    "start_time": "2022-03-18T06:13:36.269Z"
   },
   {
    "duration": 6,
    "start_time": "2022-03-18T06:13:36.275Z"
   },
   {
    "duration": 50,
    "start_time": "2022-03-18T06:13:36.283Z"
   },
   {
    "duration": 75,
    "start_time": "2022-03-18T06:13:36.334Z"
   },
   {
    "duration": 19,
    "start_time": "2022-03-18T06:13:36.411Z"
   },
   {
    "duration": 5,
    "start_time": "2022-03-18T06:13:36.432Z"
   },
   {
    "duration": 27,
    "start_time": "2022-03-18T06:13:36.438Z"
   },
   {
    "duration": 8,
    "start_time": "2022-03-18T06:13:36.467Z"
   },
   {
    "duration": 16,
    "start_time": "2022-03-18T06:13:36.476Z"
   },
   {
    "duration": 8,
    "start_time": "2022-03-18T06:13:36.493Z"
   },
   {
    "duration": 6,
    "start_time": "2022-03-18T06:13:36.502Z"
   },
   {
    "duration": 7,
    "start_time": "2022-03-18T06:13:36.509Z"
   },
   {
    "duration": 2730,
    "start_time": "2022-03-18T06:14:35.959Z"
   },
   {
    "duration": 5,
    "start_time": "2022-03-18T06:14:50.436Z"
   },
   {
    "duration": 788,
    "start_time": "2022-03-18T06:14:58.937Z"
   },
   {
    "duration": 422,
    "start_time": "2022-03-18T06:14:59.727Z"
   },
   {
    "duration": 5,
    "start_time": "2022-03-18T06:15:00.150Z"
   },
   {
    "duration": 8,
    "start_time": "2022-03-18T06:15:00.156Z"
   },
   {
    "duration": 36,
    "start_time": "2022-03-18T06:15:00.166Z"
   },
   {
    "duration": 9,
    "start_time": "2022-03-18T06:15:00.203Z"
   },
   {
    "duration": 14,
    "start_time": "2022-03-18T06:15:00.213Z"
   },
   {
    "duration": 14,
    "start_time": "2022-03-18T06:15:00.229Z"
   },
   {
    "duration": 157,
    "start_time": "2022-03-18T06:15:00.245Z"
   },
   {
    "duration": 8,
    "start_time": "2022-03-18T06:15:00.404Z"
   },
   {
    "duration": 60,
    "start_time": "2022-03-18T06:15:00.414Z"
   },
   {
    "duration": 67,
    "start_time": "2022-03-18T06:15:00.476Z"
   },
   {
    "duration": 22,
    "start_time": "2022-03-18T06:15:00.545Z"
   },
   {
    "duration": 31,
    "start_time": "2022-03-18T06:15:00.570Z"
   },
   {
    "duration": 105,
    "start_time": "2022-03-18T06:15:00.603Z"
   },
   {
    "duration": 7,
    "start_time": "2022-03-18T06:15:00.710Z"
   },
   {
    "duration": 18,
    "start_time": "2022-03-18T06:15:00.718Z"
   },
   {
    "duration": 45,
    "start_time": "2022-03-18T06:15:00.737Z"
   },
   {
    "duration": 18,
    "start_time": "2022-03-18T06:15:00.784Z"
   },
   {
    "duration": 709,
    "start_time": "2022-03-18T06:15:00.804Z"
   },
   {
    "duration": 5,
    "start_time": "2022-03-18T06:15:01.516Z"
   },
   {
    "duration": 25,
    "start_time": "2022-03-18T06:15:01.523Z"
   },
   {
    "duration": 29,
    "start_time": "2022-03-18T06:15:01.562Z"
   },
   {
    "duration": 9,
    "start_time": "2022-03-18T06:15:01.593Z"
   },
   {
    "duration": 25,
    "start_time": "2022-03-18T06:15:01.603Z"
   },
   {
    "duration": 936,
    "start_time": "2022-03-18T06:15:01.630Z"
   },
   {
    "duration": 8,
    "start_time": "2022-03-18T06:15:02.568Z"
   },
   {
    "duration": 36,
    "start_time": "2022-03-18T06:15:02.577Z"
   },
   {
    "duration": 5,
    "start_time": "2022-03-18T06:15:02.614Z"
   },
   {
    "duration": 12,
    "start_time": "2022-03-18T06:15:02.620Z"
   },
   {
    "duration": 66,
    "start_time": "2022-03-18T06:15:02.633Z"
   },
   {
    "duration": 68,
    "start_time": "2022-03-18T06:15:02.700Z"
   },
   {
    "duration": 20,
    "start_time": "2022-03-18T06:15:02.769Z"
   },
   {
    "duration": 14,
    "start_time": "2022-03-18T06:15:02.791Z"
   },
   {
    "duration": 15,
    "start_time": "2022-03-18T06:15:02.807Z"
   },
   {
    "duration": 14,
    "start_time": "2022-03-18T06:15:02.823Z"
   },
   {
    "duration": 11,
    "start_time": "2022-03-18T06:15:02.839Z"
   },
   {
    "duration": 11,
    "start_time": "2022-03-18T06:15:02.852Z"
   },
   {
    "duration": 14,
    "start_time": "2022-03-18T06:15:02.865Z"
   },
   {
    "duration": 6,
    "start_time": "2022-03-18T06:15:02.881Z"
   },
   {
    "duration": 6,
    "start_time": "2022-03-18T06:15:02.891Z"
   },
   {
    "duration": 6,
    "start_time": "2022-03-18T06:15:02.899Z"
   },
   {
    "duration": 2800,
    "start_time": "2022-03-18T06:16:05.386Z"
   },
   {
    "duration": 5,
    "start_time": "2022-03-18T06:16:10.492Z"
   },
   {
    "duration": 777,
    "start_time": "2022-03-18T06:16:32.437Z"
   },
   {
    "duration": 523,
    "start_time": "2022-03-18T06:16:33.217Z"
   },
   {
    "duration": 4,
    "start_time": "2022-03-18T06:16:33.742Z"
   },
   {
    "duration": 5,
    "start_time": "2022-03-18T06:16:33.748Z"
   },
   {
    "duration": 29,
    "start_time": "2022-03-18T06:16:33.755Z"
   },
   {
    "duration": 8,
    "start_time": "2022-03-18T06:16:33.785Z"
   },
   {
    "duration": 6,
    "start_time": "2022-03-18T06:16:33.794Z"
   },
   {
    "duration": 9,
    "start_time": "2022-03-18T06:16:33.802Z"
   },
   {
    "duration": 214,
    "start_time": "2022-03-18T06:16:33.813Z"
   },
   {
    "duration": 9,
    "start_time": "2022-03-18T06:16:34.029Z"
   },
   {
    "duration": 65,
    "start_time": "2022-03-18T06:16:34.039Z"
   },
   {
    "duration": 119,
    "start_time": "2022-03-18T06:16:34.105Z"
   },
   {
    "duration": 7,
    "start_time": "2022-03-18T06:16:34.226Z"
   },
   {
    "duration": 41,
    "start_time": "2022-03-18T06:16:34.237Z"
   },
   {
    "duration": 154,
    "start_time": "2022-03-18T06:16:34.280Z"
   },
   {
    "duration": 8,
    "start_time": "2022-03-18T06:16:34.436Z"
   },
   {
    "duration": 25,
    "start_time": "2022-03-18T06:16:34.446Z"
   },
   {
    "duration": 41,
    "start_time": "2022-03-18T06:16:34.473Z"
   },
   {
    "duration": 19,
    "start_time": "2022-03-18T06:16:34.516Z"
   },
   {
    "duration": 670,
    "start_time": "2022-03-18T06:16:34.562Z"
   },
   {
    "duration": 4,
    "start_time": "2022-03-18T06:16:35.234Z"
   },
   {
    "duration": 26,
    "start_time": "2022-03-18T06:16:35.239Z"
   },
   {
    "duration": 28,
    "start_time": "2022-03-18T06:16:35.266Z"
   },
   {
    "duration": 9,
    "start_time": "2022-03-18T06:16:35.296Z"
   },
   {
    "duration": 20,
    "start_time": "2022-03-18T06:16:35.307Z"
   },
   {
    "duration": 939,
    "start_time": "2022-03-18T06:16:35.329Z"
   },
   {
    "duration": 8,
    "start_time": "2022-03-18T06:16:36.269Z"
   },
   {
    "duration": 33,
    "start_time": "2022-03-18T06:16:36.279Z"
   },
   {
    "duration": 4,
    "start_time": "2022-03-18T06:16:36.314Z"
   },
   {
    "duration": 15,
    "start_time": "2022-03-18T06:16:36.319Z"
   },
   {
    "duration": 72,
    "start_time": "2022-03-18T06:16:36.335Z"
   },
   {
    "duration": 69,
    "start_time": "2022-03-18T06:16:36.409Z"
   },
   {
    "duration": 20,
    "start_time": "2022-03-18T06:16:36.479Z"
   },
   {
    "duration": 4,
    "start_time": "2022-03-18T06:16:36.501Z"
   },
   {
    "duration": 8,
    "start_time": "2022-03-18T06:16:36.507Z"
   },
   {
    "duration": 6,
    "start_time": "2022-03-18T06:16:36.516Z"
   },
   {
    "duration": 10,
    "start_time": "2022-03-18T06:16:36.523Z"
   },
   {
    "duration": 35,
    "start_time": "2022-03-18T06:16:36.535Z"
   },
   {
    "duration": 10,
    "start_time": "2022-03-18T06:16:36.572Z"
   },
   {
    "duration": 8,
    "start_time": "2022-03-18T06:16:36.584Z"
   },
   {
    "duration": 4,
    "start_time": "2022-03-18T06:16:36.596Z"
   },
   {
    "duration": 7,
    "start_time": "2022-03-18T06:16:36.601Z"
   },
   {
    "duration": 68,
    "start_time": "2022-03-18T06:24:30.161Z"
   },
   {
    "duration": 4,
    "start_time": "2022-03-18T06:24:37.186Z"
   },
   {
    "duration": 7,
    "start_time": "2022-03-18T06:24:50.258Z"
   },
   {
    "duration": 4,
    "start_time": "2022-03-18T06:24:56.596Z"
   },
   {
    "duration": 4,
    "start_time": "2022-03-18T06:27:20.999Z"
   },
   {
    "duration": 3,
    "start_time": "2022-03-18T06:35:51.824Z"
   },
   {
    "duration": 8,
    "start_time": "2022-03-18T06:42:14.345Z"
   },
   {
    "duration": 20,
    "start_time": "2022-03-18T06:42:19.649Z"
   },
   {
    "duration": 16,
    "start_time": "2022-03-18T06:43:45.203Z"
   },
   {
    "duration": 608,
    "start_time": "2022-03-18T06:43:55.605Z"
   },
   {
    "duration": 362,
    "start_time": "2022-03-18T06:43:56.216Z"
   },
   {
    "duration": 4,
    "start_time": "2022-03-18T06:43:56.579Z"
   },
   {
    "duration": 7,
    "start_time": "2022-03-18T06:43:56.584Z"
   },
   {
    "duration": 25,
    "start_time": "2022-03-18T06:43:56.592Z"
   },
   {
    "duration": 7,
    "start_time": "2022-03-18T06:43:56.619Z"
   },
   {
    "duration": 6,
    "start_time": "2022-03-18T06:43:56.627Z"
   },
   {
    "duration": 32,
    "start_time": "2022-03-18T06:43:56.634Z"
   },
   {
    "duration": 141,
    "start_time": "2022-03-18T06:43:56.667Z"
   },
   {
    "duration": 8,
    "start_time": "2022-03-18T06:43:56.811Z"
   },
   {
    "duration": 49,
    "start_time": "2022-03-18T06:43:56.820Z"
   },
   {
    "duration": 64,
    "start_time": "2022-03-18T06:43:56.870Z"
   },
   {
    "duration": 6,
    "start_time": "2022-03-18T06:43:56.935Z"
   },
   {
    "duration": 40,
    "start_time": "2022-03-18T06:43:56.942Z"
   },
   {
    "duration": 104,
    "start_time": "2022-03-18T06:43:56.984Z"
   },
   {
    "duration": 5,
    "start_time": "2022-03-18T06:43:57.090Z"
   },
   {
    "duration": 9,
    "start_time": "2022-03-18T06:43:57.097Z"
   },
   {
    "duration": 26,
    "start_time": "2022-03-18T06:43:57.107Z"
   },
   {
    "duration": 42,
    "start_time": "2022-03-18T06:43:57.135Z"
   },
   {
    "duration": 664,
    "start_time": "2022-03-18T06:43:57.179Z"
   },
   {
    "duration": 5,
    "start_time": "2022-03-18T06:43:57.844Z"
   },
   {
    "duration": 14,
    "start_time": "2022-03-18T06:43:57.862Z"
   },
   {
    "duration": 23,
    "start_time": "2022-03-18T06:43:57.878Z"
   },
   {
    "duration": 7,
    "start_time": "2022-03-18T06:43:57.903Z"
   },
   {
    "duration": 18,
    "start_time": "2022-03-18T06:43:57.912Z"
   },
   {
    "duration": 902,
    "start_time": "2022-03-18T06:43:57.931Z"
   },
   {
    "duration": 9,
    "start_time": "2022-03-18T06:43:58.835Z"
   },
   {
    "duration": 42,
    "start_time": "2022-03-18T06:43:58.847Z"
   },
   {
    "duration": 4,
    "start_time": "2022-03-18T06:43:58.891Z"
   },
   {
    "duration": 7,
    "start_time": "2022-03-18T06:43:58.896Z"
   },
   {
    "duration": 67,
    "start_time": "2022-03-18T06:43:58.904Z"
   },
   {
    "duration": 60,
    "start_time": "2022-03-18T06:43:58.973Z"
   },
   {
    "duration": 33,
    "start_time": "2022-03-18T06:43:59.034Z"
   },
   {
    "duration": 6,
    "start_time": "2022-03-18T06:43:59.069Z"
   },
   {
    "duration": 9,
    "start_time": "2022-03-18T06:43:59.077Z"
   },
   {
    "duration": 8,
    "start_time": "2022-03-18T06:43:59.088Z"
   },
   {
    "duration": 9,
    "start_time": "2022-03-18T06:43:59.098Z"
   },
   {
    "duration": 7,
    "start_time": "2022-03-18T06:43:59.108Z"
   },
   {
    "duration": 108,
    "start_time": "2022-03-18T06:43:59.116Z"
   },
   {
    "duration": 0,
    "start_time": "2022-03-18T06:43:59.225Z"
   },
   {
    "duration": 4,
    "start_time": "2022-03-18T06:51:48.613Z"
   },
   {
    "duration": 17,
    "start_time": "2022-03-18T07:06:38.437Z"
   },
   {
    "duration": 14,
    "start_time": "2022-03-18T07:07:43.544Z"
   },
   {
    "duration": 3,
    "start_time": "2022-03-18T07:07:55.218Z"
   },
   {
    "duration": 16,
    "start_time": "2022-03-18T07:07:56.360Z"
   },
   {
    "duration": 7,
    "start_time": "2022-03-18T07:08:26.254Z"
   },
   {
    "duration": 22,
    "start_time": "2022-03-18T07:08:28.640Z"
   },
   {
    "duration": 10,
    "start_time": "2022-03-18T07:12:40.938Z"
   },
   {
    "duration": 23,
    "start_time": "2022-03-18T07:12:41.590Z"
   },
   {
    "duration": 17,
    "start_time": "2022-03-18T07:13:12.011Z"
   },
   {
    "duration": 26,
    "start_time": "2022-03-18T07:13:12.585Z"
   },
   {
    "duration": 18,
    "start_time": "2022-03-18T07:15:56.634Z"
   },
   {
    "duration": 29,
    "start_time": "2022-03-18T07:15:57.459Z"
   },
   {
    "duration": 16,
    "start_time": "2022-03-18T07:18:31.453Z"
   },
   {
    "duration": 28,
    "start_time": "2022-03-18T07:18:32.142Z"
   },
   {
    "duration": 24,
    "start_time": "2022-03-18T07:19:08.023Z"
   },
   {
    "duration": 32,
    "start_time": "2022-03-18T07:19:08.502Z"
   },
   {
    "duration": 48,
    "start_time": "2022-03-18T07:28:31.820Z"
   },
   {
    "duration": 761,
    "start_time": "2022-03-18T07:28:43.301Z"
   },
   {
    "duration": 448,
    "start_time": "2022-03-18T07:28:44.065Z"
   },
   {
    "duration": 4,
    "start_time": "2022-03-18T07:28:44.515Z"
   },
   {
    "duration": 11,
    "start_time": "2022-03-18T07:28:44.521Z"
   },
   {
    "duration": 28,
    "start_time": "2022-03-18T07:28:44.533Z"
   },
   {
    "duration": 14,
    "start_time": "2022-03-18T07:28:44.562Z"
   },
   {
    "duration": 21,
    "start_time": "2022-03-18T07:28:44.578Z"
   },
   {
    "duration": 11,
    "start_time": "2022-03-18T07:28:44.601Z"
   },
   {
    "duration": 174,
    "start_time": "2022-03-18T07:28:44.614Z"
   },
   {
    "duration": 8,
    "start_time": "2022-03-18T07:28:44.792Z"
   },
   {
    "duration": 42,
    "start_time": "2022-03-18T07:28:44.801Z"
   },
   {
    "duration": 101,
    "start_time": "2022-03-18T07:28:44.845Z"
   },
   {
    "duration": 16,
    "start_time": "2022-03-18T07:28:44.948Z"
   },
   {
    "duration": 31,
    "start_time": "2022-03-18T07:28:44.968Z"
   },
   {
    "duration": 145,
    "start_time": "2022-03-18T07:28:45.001Z"
   },
   {
    "duration": 17,
    "start_time": "2022-03-18T07:28:45.148Z"
   },
   {
    "duration": 14,
    "start_time": "2022-03-18T07:28:45.167Z"
   },
   {
    "duration": 32,
    "start_time": "2022-03-18T07:28:45.183Z"
   },
   {
    "duration": 19,
    "start_time": "2022-03-18T07:28:45.217Z"
   },
   {
    "duration": 759,
    "start_time": "2022-03-18T07:28:45.262Z"
   },
   {
    "duration": 5,
    "start_time": "2022-03-18T07:28:46.022Z"
   },
   {
    "duration": 19,
    "start_time": "2022-03-18T07:28:46.029Z"
   },
   {
    "duration": 45,
    "start_time": "2022-03-18T07:28:46.050Z"
   },
   {
    "duration": 8,
    "start_time": "2022-03-18T07:28:46.096Z"
   },
   {
    "duration": 19,
    "start_time": "2022-03-18T07:28:46.106Z"
   },
   {
    "duration": 954,
    "start_time": "2022-03-18T07:28:46.127Z"
   },
   {
    "duration": 10,
    "start_time": "2022-03-18T07:28:47.083Z"
   },
   {
    "duration": 31,
    "start_time": "2022-03-18T07:28:47.096Z"
   },
   {
    "duration": 4,
    "start_time": "2022-03-18T07:28:47.128Z"
   },
   {
    "duration": 32,
    "start_time": "2022-03-18T07:28:47.134Z"
   },
   {
    "duration": 51,
    "start_time": "2022-03-18T07:28:47.168Z"
   },
   {
    "duration": 81,
    "start_time": "2022-03-18T07:28:47.221Z"
   },
   {
    "duration": 20,
    "start_time": "2022-03-18T07:28:47.303Z"
   },
   {
    "duration": 6,
    "start_time": "2022-03-18T07:28:47.325Z"
   },
   {
    "duration": 9,
    "start_time": "2022-03-18T07:28:47.332Z"
   },
   {
    "duration": 7,
    "start_time": "2022-03-18T07:28:47.363Z"
   },
   {
    "duration": 10,
    "start_time": "2022-03-18T07:28:47.372Z"
   },
   {
    "duration": 7,
    "start_time": "2022-03-18T07:28:47.384Z"
   },
   {
    "duration": 6,
    "start_time": "2022-03-18T07:28:47.392Z"
   },
   {
    "duration": 26,
    "start_time": "2022-03-18T07:28:47.400Z"
   },
   {
    "duration": 50,
    "start_time": "2022-03-18T07:28:47.428Z"
   },
   {
    "duration": 1486,
    "start_time": "2022-03-18T07:28:47.479Z"
   },
   {
    "duration": 133,
    "start_time": "2022-03-18T07:28:48.967Z"
   },
   {
    "duration": 21,
    "start_time": "2022-03-18T07:29:33.483Z"
   },
   {
    "duration": 40,
    "start_time": "2022-03-18T07:30:10.527Z"
   },
   {
    "duration": 19,
    "start_time": "2022-03-18T07:30:11.500Z"
   },
   {
    "duration": 8,
    "start_time": "2022-03-18T07:30:21.312Z"
   },
   {
    "duration": 14,
    "start_time": "2022-03-18T07:30:22.504Z"
   },
   {
    "duration": 135,
    "start_time": "2022-03-18T07:30:51.763Z"
   },
   {
    "duration": 11,
    "start_time": "2022-03-18T07:30:56.824Z"
   },
   {
    "duration": 15,
    "start_time": "2022-03-18T07:30:57.692Z"
   },
   {
    "duration": 17,
    "start_time": "2022-03-18T07:31:37.973Z"
   },
   {
    "duration": 24,
    "start_time": "2022-03-18T07:31:38.538Z"
   },
   {
    "duration": 95,
    "start_time": "2022-03-18T07:31:56.340Z"
   },
   {
    "duration": 21,
    "start_time": "2022-03-18T07:32:07.955Z"
   },
   {
    "duration": 6,
    "start_time": "2022-03-18T07:32:35.212Z"
   },
   {
    "duration": 5,
    "start_time": "2022-03-18T07:34:10.606Z"
   },
   {
    "duration": 712,
    "start_time": "2022-03-18T07:36:52.029Z"
   },
   {
    "duration": 390,
    "start_time": "2022-03-18T07:36:52.743Z"
   },
   {
    "duration": 4,
    "start_time": "2022-03-18T07:36:53.135Z"
   },
   {
    "duration": 10,
    "start_time": "2022-03-18T07:36:53.141Z"
   },
   {
    "duration": 29,
    "start_time": "2022-03-18T07:36:53.153Z"
   },
   {
    "duration": 8,
    "start_time": "2022-03-18T07:36:53.184Z"
   },
   {
    "duration": 5,
    "start_time": "2022-03-18T07:36:53.194Z"
   },
   {
    "duration": 12,
    "start_time": "2022-03-18T07:36:53.201Z"
   },
   {
    "duration": 179,
    "start_time": "2022-03-18T07:36:53.215Z"
   },
   {
    "duration": 8,
    "start_time": "2022-03-18T07:36:53.396Z"
   },
   {
    "duration": 35,
    "start_time": "2022-03-18T07:36:53.406Z"
   },
   {
    "duration": 75,
    "start_time": "2022-03-18T07:36:53.464Z"
   },
   {
    "duration": 21,
    "start_time": "2022-03-18T07:36:53.542Z"
   },
   {
    "duration": 24,
    "start_time": "2022-03-18T07:36:53.568Z"
   },
   {
    "duration": 126,
    "start_time": "2022-03-18T07:36:53.594Z"
   },
   {
    "duration": 8,
    "start_time": "2022-03-18T07:36:53.722Z"
   },
   {
    "duration": 32,
    "start_time": "2022-03-18T07:36:53.732Z"
   },
   {
    "duration": 29,
    "start_time": "2022-03-18T07:36:53.766Z"
   },
   {
    "duration": 21,
    "start_time": "2022-03-18T07:36:53.797Z"
   },
   {
    "duration": 713,
    "start_time": "2022-03-18T07:36:53.820Z"
   },
   {
    "duration": 5,
    "start_time": "2022-03-18T07:36:54.535Z"
   },
   {
    "duration": 29,
    "start_time": "2022-03-18T07:36:54.542Z"
   },
   {
    "duration": 28,
    "start_time": "2022-03-18T07:36:54.573Z"
   },
   {
    "duration": 8,
    "start_time": "2022-03-18T07:36:54.604Z"
   },
   {
    "duration": 50,
    "start_time": "2022-03-18T07:36:54.614Z"
   },
   {
    "duration": 960,
    "start_time": "2022-03-18T07:36:54.666Z"
   },
   {
    "duration": 8,
    "start_time": "2022-03-18T07:36:55.628Z"
   },
   {
    "duration": 47,
    "start_time": "2022-03-18T07:36:55.638Z"
   },
   {
    "duration": 5,
    "start_time": "2022-03-18T07:36:55.686Z"
   },
   {
    "duration": 7,
    "start_time": "2022-03-18T07:36:55.693Z"
   },
   {
    "duration": 71,
    "start_time": "2022-03-18T07:36:55.702Z"
   },
   {
    "duration": 65,
    "start_time": "2022-03-18T07:36:55.775Z"
   },
   {
    "duration": 34,
    "start_time": "2022-03-18T07:36:55.842Z"
   },
   {
    "duration": 9,
    "start_time": "2022-03-18T07:36:55.877Z"
   },
   {
    "duration": 16,
    "start_time": "2022-03-18T07:36:55.887Z"
   },
   {
    "duration": 10,
    "start_time": "2022-03-18T07:36:55.905Z"
   },
   {
    "duration": 14,
    "start_time": "2022-03-18T07:36:55.917Z"
   },
   {
    "duration": 11,
    "start_time": "2022-03-18T07:36:55.933Z"
   },
   {
    "duration": 21,
    "start_time": "2022-03-18T07:36:55.945Z"
   },
   {
    "duration": 25,
    "start_time": "2022-03-18T07:36:55.968Z"
   },
   {
    "duration": 5,
    "start_time": "2022-03-18T07:36:55.999Z"
   },
   {
    "duration": 142,
    "start_time": "2022-03-18T07:47:16.907Z"
   },
   {
    "duration": 73,
    "start_time": "2022-03-18T07:47:40.451Z"
   },
   {
    "duration": 4,
    "start_time": "2022-03-18T07:47:48.699Z"
   },
   {
    "duration": 6,
    "start_time": "2022-03-18T08:42:14.174Z"
   },
   {
    "duration": 33,
    "start_time": "2022-03-18T08:42:50.539Z"
   },
   {
    "duration": 34,
    "start_time": "2022-03-18T08:43:39.607Z"
   },
   {
    "duration": 5,
    "start_time": "2022-03-18T08:43:50.670Z"
   },
   {
    "duration": 34,
    "start_time": "2022-03-18T08:44:56.668Z"
   },
   {
    "duration": 137,
    "start_time": "2022-03-18T08:46:28.984Z"
   },
   {
    "duration": 7,
    "start_time": "2022-03-18T08:46:39.358Z"
   },
   {
    "duration": 8,
    "start_time": "2022-03-18T08:46:45.688Z"
   },
   {
    "duration": 10,
    "start_time": "2022-03-18T08:47:48.868Z"
   },
   {
    "duration": 8,
    "start_time": "2022-03-18T08:48:27.883Z"
   },
   {
    "duration": 18,
    "start_time": "2022-03-18T08:48:54.734Z"
   },
   {
    "duration": 14,
    "start_time": "2022-03-18T08:49:14.065Z"
   },
   {
    "duration": 22,
    "start_time": "2022-03-18T08:50:47.410Z"
   },
   {
    "duration": 5,
    "start_time": "2022-03-18T08:50:48.974Z"
   },
   {
    "duration": 7,
    "start_time": "2022-03-18T08:50:51.077Z"
   },
   {
    "duration": 6,
    "start_time": "2022-03-18T08:50:56.496Z"
   },
   {
    "duration": 34,
    "start_time": "2022-03-18T08:50:57.120Z"
   },
   {
    "duration": 640,
    "start_time": "2022-03-18T08:51:07.285Z"
   },
   {
    "duration": 400,
    "start_time": "2022-03-18T08:51:07.927Z"
   },
   {
    "duration": 4,
    "start_time": "2022-03-18T08:51:08.328Z"
   },
   {
    "duration": 23,
    "start_time": "2022-03-18T08:51:08.334Z"
   },
   {
    "duration": 40,
    "start_time": "2022-03-18T08:51:08.359Z"
   },
   {
    "duration": 8,
    "start_time": "2022-03-18T08:51:08.400Z"
   },
   {
    "duration": 25,
    "start_time": "2022-03-18T08:51:08.409Z"
   },
   {
    "duration": 17,
    "start_time": "2022-03-18T08:51:08.436Z"
   },
   {
    "duration": 174,
    "start_time": "2022-03-18T08:51:08.455Z"
   },
   {
    "duration": 7,
    "start_time": "2022-03-18T08:51:08.633Z"
   },
   {
    "duration": 48,
    "start_time": "2022-03-18T08:51:08.642Z"
   },
   {
    "duration": 88,
    "start_time": "2022-03-18T08:51:08.691Z"
   },
   {
    "duration": 7,
    "start_time": "2022-03-18T08:51:08.781Z"
   },
   {
    "duration": 40,
    "start_time": "2022-03-18T08:51:08.790Z"
   },
   {
    "duration": 106,
    "start_time": "2022-03-18T08:51:08.832Z"
   },
   {
    "duration": 7,
    "start_time": "2022-03-18T08:51:08.940Z"
   },
   {
    "duration": 22,
    "start_time": "2022-03-18T08:51:08.948Z"
   },
   {
    "duration": 35,
    "start_time": "2022-03-18T08:51:08.972Z"
   },
   {
    "duration": 18,
    "start_time": "2022-03-18T08:51:09.008Z"
   },
   {
    "duration": 788,
    "start_time": "2022-03-18T08:51:09.027Z"
   },
   {
    "duration": 5,
    "start_time": "2022-03-18T08:51:09.817Z"
   },
   {
    "duration": 27,
    "start_time": "2022-03-18T08:51:09.823Z"
   },
   {
    "duration": 30,
    "start_time": "2022-03-18T08:51:09.852Z"
   },
   {
    "duration": 7,
    "start_time": "2022-03-18T08:51:09.884Z"
   },
   {
    "duration": 20,
    "start_time": "2022-03-18T08:51:09.893Z"
   },
   {
    "duration": 1032,
    "start_time": "2022-03-18T08:51:09.914Z"
   },
   {
    "duration": 16,
    "start_time": "2022-03-18T08:51:10.948Z"
   },
   {
    "duration": 31,
    "start_time": "2022-03-18T08:51:10.967Z"
   },
   {
    "duration": 5,
    "start_time": "2022-03-18T08:51:11.000Z"
   },
   {
    "duration": 17,
    "start_time": "2022-03-18T08:51:11.008Z"
   },
   {
    "duration": 69,
    "start_time": "2022-03-18T08:51:11.027Z"
   },
   {
    "duration": 97,
    "start_time": "2022-03-18T08:51:11.098Z"
   },
   {
    "duration": 23,
    "start_time": "2022-03-18T08:51:11.197Z"
   },
   {
    "duration": 8,
    "start_time": "2022-03-18T08:51:11.221Z"
   },
   {
    "duration": 35,
    "start_time": "2022-03-18T08:51:11.230Z"
   },
   {
    "duration": 13,
    "start_time": "2022-03-18T08:51:11.266Z"
   },
   {
    "duration": 29,
    "start_time": "2022-03-18T08:51:11.280Z"
   },
   {
    "duration": 25,
    "start_time": "2022-03-18T08:51:11.311Z"
   },
   {
    "duration": 39,
    "start_time": "2022-03-18T08:51:11.338Z"
   },
   {
    "duration": 6,
    "start_time": "2022-03-18T08:51:11.378Z"
   },
   {
    "duration": 13,
    "start_time": "2022-03-18T08:51:11.385Z"
   },
   {
    "duration": 46,
    "start_time": "2022-03-18T08:51:11.399Z"
   },
   {
    "duration": 19,
    "start_time": "2022-03-18T08:51:11.446Z"
   },
   {
    "duration": 17,
    "start_time": "2022-03-18T08:51:11.467Z"
   },
   {
    "duration": 38,
    "start_time": "2022-03-18T08:51:11.485Z"
   },
   {
    "duration": 19,
    "start_time": "2022-03-18T08:51:11.524Z"
   },
   {
    "duration": 84,
    "start_time": "2022-03-18T08:51:44.871Z"
   },
   {
    "duration": 18,
    "start_time": "2022-03-18T08:52:26.440Z"
   },
   {
    "duration": 13,
    "start_time": "2022-03-18T08:54:06.496Z"
   },
   {
    "duration": 15,
    "start_time": "2022-03-18T08:54:12.850Z"
   },
   {
    "duration": 17,
    "start_time": "2022-03-18T08:57:02.174Z"
   },
   {
    "duration": 25,
    "start_time": "2022-03-18T08:57:02.846Z"
   },
   {
    "duration": 5,
    "start_time": "2022-03-18T08:57:27.895Z"
   },
   {
    "duration": 23,
    "start_time": "2022-03-18T08:58:22.632Z"
   },
   {
    "duration": 6,
    "start_time": "2022-03-18T08:58:25.279Z"
   },
   {
    "duration": 7,
    "start_time": "2022-03-18T08:58:27.064Z"
   },
   {
    "duration": 22,
    "start_time": "2022-03-18T08:59:40.322Z"
   },
   {
    "duration": 5,
    "start_time": "2022-03-18T08:59:41.850Z"
   },
   {
    "duration": 7,
    "start_time": "2022-03-18T08:59:47.913Z"
   },
   {
    "duration": 23,
    "start_time": "2022-03-18T09:00:25.995Z"
   },
   {
    "duration": 647,
    "start_time": "2022-03-18T09:00:32.808Z"
   },
   {
    "duration": 378,
    "start_time": "2022-03-18T09:00:33.457Z"
   },
   {
    "duration": 4,
    "start_time": "2022-03-18T09:00:33.837Z"
   },
   {
    "duration": 11,
    "start_time": "2022-03-18T09:00:33.842Z"
   },
   {
    "duration": 28,
    "start_time": "2022-03-18T09:00:33.854Z"
   },
   {
    "duration": 8,
    "start_time": "2022-03-18T09:00:33.884Z"
   },
   {
    "duration": 5,
    "start_time": "2022-03-18T09:00:33.893Z"
   },
   {
    "duration": 10,
    "start_time": "2022-03-18T09:00:33.899Z"
   },
   {
    "duration": 164,
    "start_time": "2022-03-18T09:00:33.911Z"
   },
   {
    "duration": 7,
    "start_time": "2022-03-18T09:00:34.078Z"
   },
   {
    "duration": 50,
    "start_time": "2022-03-18T09:00:34.087Z"
   },
   {
    "duration": 110,
    "start_time": "2022-03-18T09:00:34.139Z"
   },
   {
    "duration": 15,
    "start_time": "2022-03-18T09:00:34.250Z"
   },
   {
    "duration": 26,
    "start_time": "2022-03-18T09:00:34.267Z"
   },
   {
    "duration": 118,
    "start_time": "2022-03-18T09:00:34.295Z"
   },
   {
    "duration": 8,
    "start_time": "2022-03-18T09:00:34.415Z"
   },
   {
    "duration": 42,
    "start_time": "2022-03-18T09:00:34.425Z"
   },
   {
    "duration": 30,
    "start_time": "2022-03-18T09:00:34.469Z"
   },
   {
    "duration": 19,
    "start_time": "2022-03-18T09:00:34.501Z"
   },
   {
    "duration": 735,
    "start_time": "2022-03-18T09:00:34.522Z"
   },
   {
    "duration": 4,
    "start_time": "2022-03-18T09:00:35.263Z"
   },
   {
    "duration": 20,
    "start_time": "2022-03-18T09:00:35.268Z"
   },
   {
    "duration": 26,
    "start_time": "2022-03-18T09:00:35.289Z"
   },
   {
    "duration": 7,
    "start_time": "2022-03-18T09:00:35.317Z"
   },
   {
    "duration": 44,
    "start_time": "2022-03-18T09:00:35.325Z"
   },
   {
    "duration": 964,
    "start_time": "2022-03-18T09:00:35.371Z"
   },
   {
    "duration": 8,
    "start_time": "2022-03-18T09:00:36.337Z"
   },
   {
    "duration": 30,
    "start_time": "2022-03-18T09:00:36.362Z"
   },
   {
    "duration": 5,
    "start_time": "2022-03-18T09:00:36.394Z"
   },
   {
    "duration": 11,
    "start_time": "2022-03-18T09:00:36.401Z"
   },
   {
    "duration": 74,
    "start_time": "2022-03-18T09:00:36.414Z"
   },
   {
    "duration": 64,
    "start_time": "2022-03-18T09:00:36.490Z"
   },
   {
    "duration": 23,
    "start_time": "2022-03-18T09:00:36.563Z"
   },
   {
    "duration": 8,
    "start_time": "2022-03-18T09:00:36.588Z"
   },
   {
    "duration": 14,
    "start_time": "2022-03-18T09:00:36.597Z"
   },
   {
    "duration": 7,
    "start_time": "2022-03-18T09:00:36.613Z"
   },
   {
    "duration": 24,
    "start_time": "2022-03-18T09:00:36.622Z"
   },
   {
    "duration": 11,
    "start_time": "2022-03-18T09:00:36.664Z"
   },
   {
    "duration": 24,
    "start_time": "2022-03-18T09:00:36.677Z"
   },
   {
    "duration": 29,
    "start_time": "2022-03-18T09:00:36.703Z"
   },
   {
    "duration": 6,
    "start_time": "2022-03-18T09:00:36.734Z"
   },
   {
    "duration": 39,
    "start_time": "2022-03-18T09:00:36.742Z"
   },
   {
    "duration": 6,
    "start_time": "2022-03-18T09:00:36.783Z"
   },
   {
    "duration": 9,
    "start_time": "2022-03-18T09:00:36.791Z"
   },
   {
    "duration": 39,
    "start_time": "2022-03-18T09:00:36.802Z"
   },
   {
    "duration": 29,
    "start_time": "2022-03-18T09:00:36.843Z"
   },
   {
    "duration": 10,
    "start_time": "2022-03-18T09:00:36.874Z"
   },
   {
    "duration": 14,
    "start_time": "2022-03-18T09:00:36.886Z"
   },
   {
    "duration": 15,
    "start_time": "2022-03-18T09:00:36.902Z"
   },
   {
    "duration": 6,
    "start_time": "2022-03-18T09:01:26.030Z"
   },
   {
    "duration": 31,
    "start_time": "2022-03-18T09:01:35.046Z"
   },
   {
    "duration": 32,
    "start_time": "2022-03-18T09:02:14.424Z"
   },
   {
    "duration": 7,
    "start_time": "2022-03-18T09:03:24.144Z"
   },
   {
    "duration": 5,
    "start_time": "2022-03-18T09:03:31.609Z"
   },
   {
    "duration": 3,
    "start_time": "2022-03-18T09:12:54.607Z"
   },
   {
    "duration": 73,
    "start_time": "2022-03-18T09:15:52.963Z"
   },
   {
    "duration": 4,
    "start_time": "2022-03-18T09:17:00.014Z"
   },
   {
    "duration": 407,
    "start_time": "2022-03-18T09:17:00.021Z"
   },
   {
    "duration": 4,
    "start_time": "2022-03-18T09:17:00.431Z"
   },
   {
    "duration": 17,
    "start_time": "2022-03-18T09:17:00.437Z"
   },
   {
    "duration": 34,
    "start_time": "2022-03-18T09:17:00.457Z"
   },
   {
    "duration": 17,
    "start_time": "2022-03-18T09:17:00.494Z"
   },
   {
    "duration": 14,
    "start_time": "2022-03-18T09:17:00.513Z"
   },
   {
    "duration": 20,
    "start_time": "2022-03-18T09:17:00.529Z"
   },
   {
    "duration": 168,
    "start_time": "2022-03-18T09:17:00.552Z"
   },
   {
    "duration": 6,
    "start_time": "2022-03-18T09:17:00.722Z"
   },
   {
    "duration": 60,
    "start_time": "2022-03-18T09:17:00.731Z"
   },
   {
    "duration": 82,
    "start_time": "2022-03-18T09:17:00.793Z"
   },
   {
    "duration": 5,
    "start_time": "2022-03-18T09:17:00.877Z"
   },
   {
    "duration": 32,
    "start_time": "2022-03-18T09:17:00.884Z"
   },
   {
    "duration": 120,
    "start_time": "2022-03-18T09:17:00.918Z"
   },
   {
    "duration": 7,
    "start_time": "2022-03-18T09:17:01.040Z"
   },
   {
    "duration": 12,
    "start_time": "2022-03-18T09:17:01.064Z"
   },
   {
    "duration": 49,
    "start_time": "2022-03-18T09:17:01.079Z"
   },
   {
    "duration": 21,
    "start_time": "2022-03-18T09:17:01.130Z"
   },
   {
    "duration": 742,
    "start_time": "2022-03-18T09:17:01.153Z"
   },
   {
    "duration": 4,
    "start_time": "2022-03-18T09:17:01.898Z"
   },
   {
    "duration": 22,
    "start_time": "2022-03-18T09:17:01.904Z"
   },
   {
    "duration": 47,
    "start_time": "2022-03-18T09:17:01.929Z"
   },
   {
    "duration": 10,
    "start_time": "2022-03-18T09:17:01.978Z"
   },
   {
    "duration": 22,
    "start_time": "2022-03-18T09:17:01.991Z"
   },
   {
    "duration": 1237,
    "start_time": "2022-03-18T09:17:02.015Z"
   },
   {
    "duration": 16,
    "start_time": "2022-03-18T09:17:03.254Z"
   },
   {
    "duration": 49,
    "start_time": "2022-03-18T09:17:03.272Z"
   },
   {
    "duration": 6,
    "start_time": "2022-03-18T09:17:03.326Z"
   },
   {
    "duration": 10,
    "start_time": "2022-03-18T09:17:03.334Z"
   },
   {
    "duration": 78,
    "start_time": "2022-03-18T09:17:03.346Z"
   },
   {
    "duration": 101,
    "start_time": "2022-03-18T09:17:03.426Z"
   },
   {
    "duration": 39,
    "start_time": "2022-03-18T09:17:03.529Z"
   },
   {
    "duration": 6,
    "start_time": "2022-03-18T09:17:03.570Z"
   },
   {
    "duration": 10,
    "start_time": "2022-03-18T09:17:03.578Z"
   },
   {
    "duration": 11,
    "start_time": "2022-03-18T09:17:03.590Z"
   },
   {
    "duration": 11,
    "start_time": "2022-03-18T09:17:03.603Z"
   },
   {
    "duration": 14,
    "start_time": "2022-03-18T09:17:03.615Z"
   },
   {
    "duration": 48,
    "start_time": "2022-03-18T09:17:03.631Z"
   },
   {
    "duration": 6,
    "start_time": "2022-03-18T09:17:03.681Z"
   },
   {
    "duration": 12,
    "start_time": "2022-03-18T09:31:31.457Z"
   },
   {
    "duration": 21,
    "start_time": "2022-03-18T09:31:36.330Z"
   },
   {
    "duration": 5,
    "start_time": "2022-03-18T09:31:37.464Z"
   },
   {
    "duration": 2475,
    "start_time": "2022-03-18T09:31:38.912Z"
   },
   {
    "duration": 7,
    "start_time": "2022-03-18T09:32:08.537Z"
   },
   {
    "duration": 8,
    "start_time": "2022-03-18T09:33:19.571Z"
   },
   {
    "duration": 5,
    "start_time": "2022-03-18T09:36:54.935Z"
   },
   {
    "duration": 7,
    "start_time": "2022-03-18T09:37:24.150Z"
   },
   {
    "duration": 10,
    "start_time": "2022-03-18T09:58:45.092Z"
   },
   {
    "duration": 28,
    "start_time": "2022-03-18T09:59:11.003Z"
   },
   {
    "duration": 25,
    "start_time": "2022-03-18T10:11:38.910Z"
   },
   {
    "duration": 8,
    "start_time": "2022-03-18T10:11:44.493Z"
   },
   {
    "duration": 6,
    "start_time": "2022-03-18T10:12:58.576Z"
   },
   {
    "duration": 6,
    "start_time": "2022-03-18T10:15:53.082Z"
   },
   {
    "duration": 7,
    "start_time": "2022-03-18T10:15:59.853Z"
   },
   {
    "duration": 6,
    "start_time": "2022-03-18T10:16:41.565Z"
   },
   {
    "duration": 8,
    "start_time": "2022-03-18T10:36:20.750Z"
   },
   {
    "duration": 7,
    "start_time": "2022-03-18T10:36:32.690Z"
   },
   {
    "duration": 166,
    "start_time": "2022-03-18T10:36:50.439Z"
   },
   {
    "duration": 14,
    "start_time": "2022-03-18T10:36:58.354Z"
   },
   {
    "duration": 29,
    "start_time": "2022-03-18T10:37:07.488Z"
   },
   {
    "duration": 9,
    "start_time": "2022-03-18T10:37:27.267Z"
   },
   {
    "duration": 7,
    "start_time": "2022-03-18T10:37:48.296Z"
   },
   {
    "duration": 8,
    "start_time": "2022-03-18T10:37:52.531Z"
   },
   {
    "duration": 7,
    "start_time": "2022-03-18T10:38:58.084Z"
   },
   {
    "duration": 17,
    "start_time": "2022-03-18T10:50:10.982Z"
   },
   {
    "duration": 18,
    "start_time": "2022-03-18T10:50:24.696Z"
   },
   {
    "duration": 6,
    "start_time": "2022-03-18T10:53:50.649Z"
   },
   {
    "duration": 2616,
    "start_time": "2022-03-18T10:54:41.095Z"
   },
   {
    "duration": 10,
    "start_time": "2022-03-18T10:54:49.311Z"
   },
   {
    "duration": 4,
    "start_time": "2022-03-18T11:27:25.917Z"
   },
   {
    "duration": 6,
    "start_time": "2022-03-18T11:27:37.379Z"
   },
   {
    "duration": 6,
    "start_time": "2022-03-18T11:28:09.202Z"
   },
   {
    "duration": 7,
    "start_time": "2022-03-18T11:28:10.011Z"
   },
   {
    "duration": 661,
    "start_time": "2022-03-18T11:28:26.374Z"
   },
   {
    "duration": 403,
    "start_time": "2022-03-18T11:28:27.037Z"
   },
   {
    "duration": 3,
    "start_time": "2022-03-18T11:28:27.442Z"
   },
   {
    "duration": 10,
    "start_time": "2022-03-18T11:28:27.448Z"
   },
   {
    "duration": 26,
    "start_time": "2022-03-18T11:28:27.462Z"
   },
   {
    "duration": 8,
    "start_time": "2022-03-18T11:28:27.489Z"
   },
   {
    "duration": 8,
    "start_time": "2022-03-18T11:28:27.498Z"
   },
   {
    "duration": 12,
    "start_time": "2022-03-18T11:28:27.507Z"
   },
   {
    "duration": 177,
    "start_time": "2022-03-18T11:28:27.521Z"
   },
   {
    "duration": 35,
    "start_time": "2022-03-18T11:28:27.701Z"
   },
   {
    "duration": 85,
    "start_time": "2022-03-18T11:28:27.737Z"
   },
   {
    "duration": 42,
    "start_time": "2022-03-18T11:28:27.824Z"
   },
   {
    "duration": 112,
    "start_time": "2022-03-18T11:28:27.867Z"
   },
   {
    "duration": 10,
    "start_time": "2022-03-18T11:28:27.981Z"
   },
   {
    "duration": 35,
    "start_time": "2022-03-18T11:28:27.992Z"
   },
   {
    "duration": 38,
    "start_time": "2022-03-18T11:28:28.028Z"
   },
   {
    "duration": 683,
    "start_time": "2022-03-18T11:28:28.068Z"
   },
   {
    "duration": 5,
    "start_time": "2022-03-18T11:28:28.752Z"
   },
   {
    "duration": 22,
    "start_time": "2022-03-18T11:28:28.758Z"
   },
   {
    "duration": 29,
    "start_time": "2022-03-18T11:28:28.781Z"
   },
   {
    "duration": 8,
    "start_time": "2022-03-18T11:28:28.811Z"
   },
   {
    "duration": 46,
    "start_time": "2022-03-18T11:28:28.821Z"
   },
   {
    "duration": 926,
    "start_time": "2022-03-18T11:28:28.869Z"
   },
   {
    "duration": 12,
    "start_time": "2022-03-18T11:28:29.796Z"
   },
   {
    "duration": 35,
    "start_time": "2022-03-18T11:28:29.810Z"
   },
   {
    "duration": 16,
    "start_time": "2022-03-18T11:28:29.847Z"
   },
   {
    "duration": 4,
    "start_time": "2022-03-18T11:28:29.865Z"
   },
   {
    "duration": 55,
    "start_time": "2022-03-18T11:28:29.872Z"
   },
   {
    "duration": 81,
    "start_time": "2022-03-18T11:28:29.929Z"
   },
   {
    "duration": 23,
    "start_time": "2022-03-18T11:28:30.012Z"
   },
   {
    "duration": 6,
    "start_time": "2022-03-18T11:28:30.037Z"
   },
   {
    "duration": 26,
    "start_time": "2022-03-18T11:28:30.045Z"
   },
   {
    "duration": 24,
    "start_time": "2022-03-18T11:28:30.072Z"
   },
   {
    "duration": 26,
    "start_time": "2022-03-18T11:28:30.098Z"
   },
   {
    "duration": 40,
    "start_time": "2022-03-18T11:28:30.125Z"
   },
   {
    "duration": 36,
    "start_time": "2022-03-18T11:28:30.167Z"
   },
   {
    "duration": 5,
    "start_time": "2022-03-18T11:28:30.205Z"
   },
   {
    "duration": 23,
    "start_time": "2022-03-18T11:28:30.211Z"
   },
   {
    "duration": 14,
    "start_time": "2022-03-18T11:28:30.235Z"
   },
   {
    "duration": 7,
    "start_time": "2022-03-18T11:28:43.104Z"
   },
   {
    "duration": 8,
    "start_time": "2022-03-18T11:28:44.696Z"
   },
   {
    "duration": 75,
    "start_time": "2022-03-18T11:32:36.308Z"
   },
   {
    "duration": 6,
    "start_time": "2022-03-18T11:32:42.137Z"
   },
   {
    "duration": 28,
    "start_time": "2022-03-18T11:32:53.229Z"
   },
   {
    "duration": 6,
    "start_time": "2022-03-18T11:33:33.798Z"
   },
   {
    "duration": 27,
    "start_time": "2022-03-18T11:33:41.734Z"
   },
   {
    "duration": 5,
    "start_time": "2022-03-18T11:48:35.058Z"
   },
   {
    "duration": 11,
    "start_time": "2022-03-18T11:48:41.362Z"
   },
   {
    "duration": 142,
    "start_time": "2022-03-18T11:49:05.307Z"
   },
   {
    "duration": 6,
    "start_time": "2022-03-18T11:50:55.190Z"
   },
   {
    "duration": 143,
    "start_time": "2022-03-18T11:57:59.137Z"
   },
   {
    "duration": 3,
    "start_time": "2022-03-18T11:58:51.223Z"
   },
   {
    "duration": 17,
    "start_time": "2022-03-18T12:00:05.817Z"
   },
   {
    "duration": 4,
    "start_time": "2022-03-18T12:00:09.689Z"
   },
   {
    "duration": 17,
    "start_time": "2022-03-18T12:00:10.450Z"
   },
   {
    "duration": 3,
    "start_time": "2022-03-18T12:00:25.794Z"
   },
   {
    "duration": 25,
    "start_time": "2022-03-18T12:00:26.499Z"
   },
   {
    "duration": 5,
    "start_time": "2022-03-18T12:01:27.020Z"
   },
   {
    "duration": 9,
    "start_time": "2022-03-18T12:01:40.284Z"
   },
   {
    "duration": 5,
    "start_time": "2022-03-18T12:01:48.595Z"
   },
   {
    "duration": 12,
    "start_time": "2022-03-18T12:04:08.623Z"
   },
   {
    "duration": 280,
    "start_time": "2022-03-18T12:04:37.104Z"
   },
   {
    "duration": 17,
    "start_time": "2022-03-18T12:04:38.122Z"
   },
   {
    "duration": 4,
    "start_time": "2022-03-18T12:04:44.880Z"
   },
   {
    "duration": 16,
    "start_time": "2022-03-18T12:04:46.856Z"
   },
   {
    "duration": 17,
    "start_time": "2022-03-18T12:07:43.291Z"
   },
   {
    "duration": 16,
    "start_time": "2022-03-18T12:08:04.629Z"
   },
   {
    "duration": 6,
    "start_time": "2022-03-18T12:09:19.638Z"
   },
   {
    "duration": 8,
    "start_time": "2022-03-18T12:09:27.719Z"
   },
   {
    "duration": 9,
    "start_time": "2022-03-18T12:09:39.158Z"
   },
   {
    "duration": 3,
    "start_time": "2022-03-18T12:11:24.129Z"
   },
   {
    "duration": 22,
    "start_time": "2022-03-18T12:11:27.337Z"
   },
   {
    "duration": 4,
    "start_time": "2022-03-18T12:12:11.185Z"
   },
   {
    "duration": 17,
    "start_time": "2022-03-18T12:12:12.066Z"
   },
   {
    "duration": 4,
    "start_time": "2022-03-18T12:22:09.831Z"
   },
   {
    "duration": 4,
    "start_time": "2022-03-18T12:22:15.975Z"
   },
   {
    "duration": 3,
    "start_time": "2022-03-18T12:23:07.127Z"
   },
   {
    "duration": 23,
    "start_time": "2022-03-18T12:23:10.289Z"
   },
   {
    "duration": 4,
    "start_time": "2022-03-18T12:23:24.096Z"
   },
   {
    "duration": 17,
    "start_time": "2022-03-18T12:23:26.505Z"
   },
   {
    "duration": 12,
    "start_time": "2022-03-18T12:23:48.405Z"
   },
   {
    "duration": 7,
    "start_time": "2022-03-18T12:24:25.075Z"
   },
   {
    "duration": 3,
    "start_time": "2022-03-18T12:25:40.204Z"
   },
   {
    "duration": 18,
    "start_time": "2022-03-18T12:25:41.477Z"
   },
   {
    "duration": 6,
    "start_time": "2022-03-18T12:29:17.249Z"
   },
   {
    "duration": 693,
    "start_time": "2022-03-18T13:32:29.259Z"
   },
   {
    "duration": 397,
    "start_time": "2022-03-18T13:32:29.954Z"
   },
   {
    "duration": 3,
    "start_time": "2022-03-18T13:32:30.354Z"
   },
   {
    "duration": 34,
    "start_time": "2022-03-18T13:32:30.358Z"
   },
   {
    "duration": 47,
    "start_time": "2022-03-18T13:32:30.394Z"
   },
   {
    "duration": 8,
    "start_time": "2022-03-18T13:32:30.442Z"
   },
   {
    "duration": 10,
    "start_time": "2022-03-18T13:32:30.452Z"
   },
   {
    "duration": 24,
    "start_time": "2022-03-18T13:32:30.463Z"
   },
   {
    "duration": 156,
    "start_time": "2022-03-18T13:32:30.489Z"
   },
   {
    "duration": 43,
    "start_time": "2022-03-18T13:32:30.647Z"
   },
   {
    "duration": 83,
    "start_time": "2022-03-18T13:32:30.692Z"
   },
   {
    "duration": 22,
    "start_time": "2022-03-18T13:32:30.777Z"
   },
   {
    "duration": 117,
    "start_time": "2022-03-18T13:32:30.800Z"
   },
   {
    "duration": 10,
    "start_time": "2022-03-18T13:32:30.922Z"
   },
   {
    "duration": 43,
    "start_time": "2022-03-18T13:32:30.934Z"
   },
   {
    "duration": 17,
    "start_time": "2022-03-18T13:32:30.979Z"
   },
   {
    "duration": 728,
    "start_time": "2022-03-18T13:32:30.998Z"
   },
   {
    "duration": 4,
    "start_time": "2022-03-18T13:32:31.728Z"
   },
   {
    "duration": 29,
    "start_time": "2022-03-18T13:32:31.734Z"
   },
   {
    "duration": 29,
    "start_time": "2022-03-18T13:32:31.765Z"
   },
   {
    "duration": 8,
    "start_time": "2022-03-18T13:32:31.796Z"
   },
   {
    "duration": 28,
    "start_time": "2022-03-18T13:32:31.806Z"
   },
   {
    "duration": 925,
    "start_time": "2022-03-18T13:32:31.836Z"
   },
   {
    "duration": 8,
    "start_time": "2022-03-18T13:32:32.763Z"
   },
   {
    "duration": 31,
    "start_time": "2022-03-18T13:32:32.772Z"
   },
   {
    "duration": 4,
    "start_time": "2022-03-18T13:32:32.805Z"
   },
   {
    "duration": 8,
    "start_time": "2022-03-18T13:32:32.811Z"
   },
   {
    "duration": 70,
    "start_time": "2022-03-18T13:32:32.820Z"
   },
   {
    "duration": 57,
    "start_time": "2022-03-18T13:32:32.892Z"
   },
   {
    "duration": 28,
    "start_time": "2022-03-18T13:32:32.951Z"
   },
   {
    "duration": 6,
    "start_time": "2022-03-18T13:32:32.980Z"
   },
   {
    "duration": 10,
    "start_time": "2022-03-18T13:32:32.988Z"
   },
   {
    "duration": 8,
    "start_time": "2022-03-18T13:32:33.000Z"
   },
   {
    "duration": 9,
    "start_time": "2022-03-18T13:32:33.010Z"
   },
   {
    "duration": 44,
    "start_time": "2022-03-18T13:32:33.020Z"
   },
   {
    "duration": 21,
    "start_time": "2022-03-18T13:32:33.065Z"
   },
   {
    "duration": 5,
    "start_time": "2022-03-18T13:32:33.087Z"
   },
   {
    "duration": 7,
    "start_time": "2022-03-18T13:32:33.094Z"
   },
   {
    "duration": 8,
    "start_time": "2022-03-18T13:32:33.102Z"
   },
   {
    "duration": 5,
    "start_time": "2022-03-18T13:32:33.112Z"
   },
   {
    "duration": 44,
    "start_time": "2022-03-18T13:32:33.120Z"
   },
   {
    "duration": 5,
    "start_time": "2022-03-18T13:32:33.166Z"
   },
   {
    "duration": 28,
    "start_time": "2022-03-18T13:32:33.173Z"
   },
   {
    "duration": 139,
    "start_time": "2022-03-18T13:33:09.141Z"
   },
   {
    "duration": 4,
    "start_time": "2022-03-18T13:33:15.637Z"
   },
   {
    "duration": 81,
    "start_time": "2022-03-18T13:33:18.078Z"
   },
   {
    "duration": 3,
    "start_time": "2022-03-18T13:35:23.609Z"
   },
   {
    "duration": 18,
    "start_time": "2022-03-18T13:35:26.129Z"
   },
   {
    "duration": 4,
    "start_time": "2022-03-18T13:35:32.448Z"
   },
   {
    "duration": 19,
    "start_time": "2022-03-18T13:35:32.920Z"
   },
   {
    "duration": 7,
    "start_time": "2022-03-18T13:35:55.857Z"
   },
   {
    "duration": 8,
    "start_time": "2022-03-18T13:36:05.281Z"
   },
   {
    "duration": 7,
    "start_time": "2022-03-18T13:36:21.254Z"
   },
   {
    "duration": 7,
    "start_time": "2022-03-18T13:37:03.315Z"
   },
   {
    "duration": 9,
    "start_time": "2022-03-18T13:37:12.178Z"
   },
   {
    "duration": 9,
    "start_time": "2022-03-18T13:37:55.139Z"
   },
   {
    "duration": 8,
    "start_time": "2022-03-18T13:41:23.577Z"
   },
   {
    "duration": 5,
    "start_time": "2022-03-18T13:41:27.680Z"
   },
   {
    "duration": 8,
    "start_time": "2022-03-18T13:41:37.026Z"
   },
   {
    "duration": 4,
    "start_time": "2022-03-18T13:41:40.377Z"
   },
   {
    "duration": 4,
    "start_time": "2022-03-18T13:41:57.697Z"
   },
   {
    "duration": 19,
    "start_time": "2022-03-18T13:41:58.393Z"
   },
   {
    "duration": 11,
    "start_time": "2022-03-18T13:42:00.392Z"
   },
   {
    "duration": 30,
    "start_time": "2022-03-18T13:51:14.062Z"
   },
   {
    "duration": 8,
    "start_time": "2022-03-18T13:52:56.942Z"
   },
   {
    "duration": 18,
    "start_time": "2022-03-18T13:52:59.775Z"
   },
   {
    "duration": 15,
    "start_time": "2022-03-18T13:53:01.216Z"
   },
   {
    "duration": 29,
    "start_time": "2022-03-18T13:53:19.568Z"
   },
   {
    "duration": 5,
    "start_time": "2022-03-18T13:53:49.633Z"
   },
   {
    "duration": 5,
    "start_time": "2022-03-18T13:53:59.939Z"
   },
   {
    "duration": 27,
    "start_time": "2022-03-18T13:54:31.562Z"
   },
   {
    "duration": 4,
    "start_time": "2022-03-18T13:54:33.377Z"
   },
   {
    "duration": 5,
    "start_time": "2022-03-18T13:54:34.065Z"
   },
   {
    "duration": 7,
    "start_time": "2022-03-18T13:54:40.234Z"
   },
   {
    "duration": 5,
    "start_time": "2022-03-18T13:54:49.810Z"
   },
   {
    "duration": 139,
    "start_time": "2022-03-18T13:55:00.706Z"
   },
   {
    "duration": 5,
    "start_time": "2022-03-18T13:55:06.578Z"
   },
   {
    "duration": 33,
    "start_time": "2022-03-18T13:56:01.260Z"
   },
   {
    "duration": 693,
    "start_time": "2022-03-18T13:56:48.032Z"
   },
   {
    "duration": 387,
    "start_time": "2022-03-18T13:56:48.728Z"
   },
   {
    "duration": 4,
    "start_time": "2022-03-18T13:56:49.116Z"
   },
   {
    "duration": 5,
    "start_time": "2022-03-18T13:56:49.122Z"
   },
   {
    "duration": 27,
    "start_time": "2022-03-18T13:56:49.128Z"
   },
   {
    "duration": 10,
    "start_time": "2022-03-18T13:56:49.157Z"
   },
   {
    "duration": 6,
    "start_time": "2022-03-18T13:56:49.169Z"
   },
   {
    "duration": 13,
    "start_time": "2022-03-18T13:56:49.176Z"
   },
   {
    "duration": 153,
    "start_time": "2022-03-18T13:56:49.191Z"
   },
   {
    "duration": 41,
    "start_time": "2022-03-18T13:56:49.347Z"
   },
   {
    "duration": 91,
    "start_time": "2022-03-18T13:56:49.390Z"
   },
   {
    "duration": 23,
    "start_time": "2022-03-18T13:56:49.484Z"
   },
   {
    "duration": 118,
    "start_time": "2022-03-18T13:56:49.509Z"
   },
   {
    "duration": 10,
    "start_time": "2022-03-18T13:56:49.629Z"
   },
   {
    "duration": 40,
    "start_time": "2022-03-18T13:56:49.640Z"
   },
   {
    "duration": 18,
    "start_time": "2022-03-18T13:56:49.682Z"
   },
   {
    "duration": 715,
    "start_time": "2022-03-18T13:56:49.702Z"
   },
   {
    "duration": 4,
    "start_time": "2022-03-18T13:56:50.419Z"
   },
   {
    "duration": 27,
    "start_time": "2022-03-18T13:56:50.424Z"
   },
   {
    "duration": 35,
    "start_time": "2022-03-18T13:56:50.452Z"
   },
   {
    "duration": 8,
    "start_time": "2022-03-18T13:56:50.489Z"
   },
   {
    "duration": 23,
    "start_time": "2022-03-18T13:56:50.499Z"
   },
   {
    "duration": 915,
    "start_time": "2022-03-18T13:56:50.524Z"
   },
   {
    "duration": 8,
    "start_time": "2022-03-18T13:56:51.441Z"
   },
   {
    "duration": 29,
    "start_time": "2022-03-18T13:56:51.462Z"
   },
   {
    "duration": 4,
    "start_time": "2022-03-18T13:56:51.493Z"
   },
   {
    "duration": 9,
    "start_time": "2022-03-18T13:56:51.499Z"
   },
   {
    "duration": 69,
    "start_time": "2022-03-18T13:56:51.511Z"
   },
   {
    "duration": 61,
    "start_time": "2022-03-18T13:56:51.581Z"
   },
   {
    "duration": 28,
    "start_time": "2022-03-18T13:56:51.644Z"
   },
   {
    "duration": 6,
    "start_time": "2022-03-18T13:56:51.674Z"
   },
   {
    "duration": 12,
    "start_time": "2022-03-18T13:56:51.681Z"
   },
   {
    "duration": 9,
    "start_time": "2022-03-18T13:56:51.695Z"
   },
   {
    "duration": 10,
    "start_time": "2022-03-18T13:56:51.705Z"
   },
   {
    "duration": 10,
    "start_time": "2022-03-18T13:56:51.717Z"
   },
   {
    "duration": 51,
    "start_time": "2022-03-18T13:56:51.728Z"
   },
   {
    "duration": 5,
    "start_time": "2022-03-18T13:56:51.781Z"
   },
   {
    "duration": 8,
    "start_time": "2022-03-18T13:56:51.788Z"
   },
   {
    "duration": 8,
    "start_time": "2022-03-18T13:56:51.797Z"
   },
   {
    "duration": 7,
    "start_time": "2022-03-18T13:56:51.807Z"
   },
   {
    "duration": 11,
    "start_time": "2022-03-18T13:56:51.815Z"
   },
   {
    "duration": 9,
    "start_time": "2022-03-18T13:56:51.864Z"
   },
   {
    "duration": 6,
    "start_time": "2022-03-18T13:56:51.874Z"
   },
   {
    "duration": 34,
    "start_time": "2022-03-18T13:56:51.881Z"
   },
   {
    "duration": 5,
    "start_time": "2022-03-18T13:56:51.916Z"
   },
   {
    "duration": 735,
    "start_time": "2022-03-18T13:58:06.331Z"
   },
   {
    "duration": 740,
    "start_time": "2022-03-18T13:59:57.172Z"
   },
   {
    "duration": 386,
    "start_time": "2022-03-18T13:59:57.914Z"
   },
   {
    "duration": 4,
    "start_time": "2022-03-18T13:59:58.302Z"
   },
   {
    "duration": 8,
    "start_time": "2022-03-18T13:59:58.307Z"
   },
   {
    "duration": 33,
    "start_time": "2022-03-18T13:59:58.316Z"
   },
   {
    "duration": 11,
    "start_time": "2022-03-18T13:59:58.351Z"
   },
   {
    "duration": 7,
    "start_time": "2022-03-18T13:59:58.364Z"
   },
   {
    "duration": 12,
    "start_time": "2022-03-18T13:59:58.373Z"
   },
   {
    "duration": 152,
    "start_time": "2022-03-18T13:59:58.386Z"
   },
   {
    "duration": 41,
    "start_time": "2022-03-18T13:59:58.541Z"
   },
   {
    "duration": 80,
    "start_time": "2022-03-18T13:59:58.583Z"
   },
   {
    "duration": 24,
    "start_time": "2022-03-18T13:59:58.665Z"
   },
   {
    "duration": 113,
    "start_time": "2022-03-18T13:59:58.691Z"
   },
   {
    "duration": 10,
    "start_time": "2022-03-18T13:59:58.805Z"
   },
   {
    "duration": 46,
    "start_time": "2022-03-18T13:59:58.816Z"
   },
   {
    "duration": 18,
    "start_time": "2022-03-18T13:59:58.864Z"
   },
   {
    "duration": 711,
    "start_time": "2022-03-18T13:59:58.884Z"
   },
   {
    "duration": 4,
    "start_time": "2022-03-18T13:59:59.597Z"
   },
   {
    "duration": 17,
    "start_time": "2022-03-18T13:59:59.603Z"
   },
   {
    "duration": 43,
    "start_time": "2022-03-18T13:59:59.621Z"
   },
   {
    "duration": 8,
    "start_time": "2022-03-18T13:59:59.665Z"
   },
   {
    "duration": 19,
    "start_time": "2022-03-18T13:59:59.675Z"
   },
   {
    "duration": 943,
    "start_time": "2022-03-18T13:59:59.696Z"
   },
   {
    "duration": 8,
    "start_time": "2022-03-18T14:00:00.642Z"
   },
   {
    "duration": 30,
    "start_time": "2022-03-18T14:00:00.663Z"
   },
   {
    "duration": 4,
    "start_time": "2022-03-18T14:00:00.695Z"
   },
   {
    "duration": 7,
    "start_time": "2022-03-18T14:00:00.701Z"
   },
   {
    "duration": 70,
    "start_time": "2022-03-18T14:00:00.712Z"
   },
   {
    "duration": 68,
    "start_time": "2022-03-18T14:00:00.784Z"
   },
   {
    "duration": 23,
    "start_time": "2022-03-18T14:00:00.862Z"
   },
   {
    "duration": 10,
    "start_time": "2022-03-18T14:00:00.886Z"
   },
   {
    "duration": 14,
    "start_time": "2022-03-18T14:00:00.898Z"
   },
   {
    "duration": 12,
    "start_time": "2022-03-18T14:00:00.914Z"
   },
   {
    "duration": 29,
    "start_time": "2022-03-18T14:00:00.928Z"
   },
   {
    "duration": 49,
    "start_time": "2022-03-18T14:00:00.963Z"
   },
   {
    "duration": 43,
    "start_time": "2022-03-18T14:00:01.014Z"
   },
   {
    "duration": 9,
    "start_time": "2022-03-18T14:00:01.059Z"
   },
   {
    "duration": 25,
    "start_time": "2022-03-18T14:00:01.070Z"
   },
   {
    "duration": 20,
    "start_time": "2022-03-18T14:00:01.097Z"
   },
   {
    "duration": 33,
    "start_time": "2022-03-18T14:00:01.119Z"
   },
   {
    "duration": 6,
    "start_time": "2022-03-18T14:00:01.154Z"
   },
   {
    "duration": 39,
    "start_time": "2022-03-18T14:00:01.161Z"
   },
   {
    "duration": 22,
    "start_time": "2022-03-18T14:00:01.202Z"
   },
   {
    "duration": 42,
    "start_time": "2022-03-18T14:00:01.226Z"
   },
   {
    "duration": 4,
    "start_time": "2022-03-18T14:00:01.271Z"
   },
   {
    "duration": 5,
    "start_time": "2022-03-18T14:00:32.094Z"
   },
   {
    "duration": 24,
    "start_time": "2022-03-18T16:33:34.449Z"
   },
   {
    "duration": 134,
    "start_time": "2022-03-18T16:34:55.401Z"
   },
   {
    "duration": 26,
    "start_time": "2022-03-18T16:53:00.254Z"
   },
   {
    "duration": 17,
    "start_time": "2022-03-18T16:53:05.390Z"
   },
   {
    "duration": 6,
    "start_time": "2022-03-18T17:06:01.928Z"
   },
   {
    "duration": 60,
    "start_time": "2022-03-18T17:07:58.994Z"
   },
   {
    "duration": 690,
    "start_time": "2022-03-18T17:09:07.931Z"
   },
   {
    "duration": 382,
    "start_time": "2022-03-18T17:09:08.623Z"
   },
   {
    "duration": 4,
    "start_time": "2022-03-18T17:09:09.007Z"
   },
   {
    "duration": 33,
    "start_time": "2022-03-18T17:09:09.012Z"
   },
   {
    "duration": 51,
    "start_time": "2022-03-18T17:09:09.047Z"
   },
   {
    "duration": 8,
    "start_time": "2022-03-18T17:09:09.100Z"
   },
   {
    "duration": 33,
    "start_time": "2022-03-18T17:09:09.110Z"
   },
   {
    "duration": 31,
    "start_time": "2022-03-18T17:09:09.144Z"
   },
   {
    "duration": 155,
    "start_time": "2022-03-18T17:09:09.177Z"
   },
   {
    "duration": 42,
    "start_time": "2022-03-18T17:09:09.334Z"
   },
   {
    "duration": 67,
    "start_time": "2022-03-18T17:09:09.378Z"
   },
   {
    "duration": 22,
    "start_time": "2022-03-18T17:09:09.463Z"
   },
   {
    "duration": 113,
    "start_time": "2022-03-18T17:09:09.487Z"
   },
   {
    "duration": 9,
    "start_time": "2022-03-18T17:09:09.603Z"
   },
   {
    "duration": 39,
    "start_time": "2022-03-18T17:09:09.613Z"
   },
   {
    "duration": 21,
    "start_time": "2022-03-18T17:09:09.654Z"
   },
   {
    "duration": 729,
    "start_time": "2022-03-18T17:09:09.677Z"
   },
   {
    "duration": 5,
    "start_time": "2022-03-18T17:09:10.408Z"
   },
   {
    "duration": 20,
    "start_time": "2022-03-18T17:09:10.415Z"
   },
   {
    "duration": 45,
    "start_time": "2022-03-18T17:09:10.437Z"
   },
   {
    "duration": 8,
    "start_time": "2022-03-18T17:09:10.484Z"
   },
   {
    "duration": 21,
    "start_time": "2022-03-18T17:09:10.494Z"
   },
   {
    "duration": 925,
    "start_time": "2022-03-18T17:09:10.516Z"
   },
   {
    "duration": 8,
    "start_time": "2022-03-18T17:09:11.443Z"
   },
   {
    "duration": 39,
    "start_time": "2022-03-18T17:09:11.452Z"
   },
   {
    "duration": 4,
    "start_time": "2022-03-18T17:09:11.493Z"
   },
   {
    "duration": 6,
    "start_time": "2022-03-18T17:09:11.499Z"
   },
   {
    "duration": 75,
    "start_time": "2022-03-18T17:09:11.506Z"
   },
   {
    "duration": 63,
    "start_time": "2022-03-18T17:09:11.582Z"
   },
   {
    "duration": 27,
    "start_time": "2022-03-18T17:09:11.646Z"
   },
   {
    "duration": 9,
    "start_time": "2022-03-18T17:09:11.675Z"
   },
   {
    "duration": 16,
    "start_time": "2022-03-18T17:09:11.685Z"
   },
   {
    "duration": 12,
    "start_time": "2022-03-18T17:09:11.702Z"
   },
   {
    "duration": 4,
    "start_time": "2022-03-18T17:09:11.716Z"
   },
   {
    "duration": 45,
    "start_time": "2022-03-18T17:09:11.722Z"
   },
   {
    "duration": 6,
    "start_time": "2022-03-18T17:09:11.769Z"
   },
   {
    "duration": 2428,
    "start_time": "2022-03-18T17:09:11.776Z"
   },
   {
    "duration": 0,
    "start_time": "2022-03-18T17:09:14.206Z"
   },
   {
    "duration": 0,
    "start_time": "2022-03-18T17:09:14.207Z"
   },
   {
    "duration": 0,
    "start_time": "2022-03-18T17:09:14.208Z"
   },
   {
    "duration": 0,
    "start_time": "2022-03-18T17:09:14.209Z"
   },
   {
    "duration": 0,
    "start_time": "2022-03-18T17:09:14.210Z"
   },
   {
    "duration": 0,
    "start_time": "2022-03-18T17:09:14.211Z"
   },
   {
    "duration": 0,
    "start_time": "2022-03-18T17:09:14.212Z"
   },
   {
    "duration": 0,
    "start_time": "2022-03-18T17:09:14.213Z"
   },
   {
    "duration": 0,
    "start_time": "2022-03-18T17:09:14.215Z"
   },
   {
    "duration": 7,
    "start_time": "2022-03-18T17:13:32.002Z"
   },
   {
    "duration": 9,
    "start_time": "2022-03-18T17:13:39.770Z"
   },
   {
    "duration": 2625,
    "start_time": "2022-03-18T17:13:44.954Z"
   },
   {
    "duration": 19,
    "start_time": "2022-03-18T17:13:51.483Z"
   },
   {
    "duration": 5,
    "start_time": "2022-03-18T17:13:59.179Z"
   },
   {
    "duration": 5,
    "start_time": "2022-03-18T17:14:08.683Z"
   },
   {
    "duration": 3,
    "start_time": "2022-03-18T17:14:14.403Z"
   },
   {
    "duration": 25,
    "start_time": "2022-03-18T17:14:18.579Z"
   },
   {
    "duration": 5,
    "start_time": "2022-03-18T17:14:22.570Z"
   },
   {
    "duration": 18,
    "start_time": "2022-03-18T17:14:47.701Z"
   },
   {
    "duration": 4,
    "start_time": "2022-03-18T17:20:15.307Z"
   },
   {
    "duration": 4,
    "start_time": "2022-03-18T17:20:19.446Z"
   },
   {
    "duration": 4,
    "start_time": "2022-03-18T17:20:32.732Z"
   },
   {
    "duration": 4,
    "start_time": "2022-03-18T17:20:45.767Z"
   },
   {
    "duration": 138,
    "start_time": "2022-03-18T17:33:40.829Z"
   },
   {
    "duration": 2722,
    "start_time": "2022-03-18T17:33:46.741Z"
   },
   {
    "duration": 6,
    "start_time": "2022-03-18T17:34:07.039Z"
   },
   {
    "duration": 26,
    "start_time": "2022-03-18T17:34:09.485Z"
   },
   {
    "duration": 14,
    "start_time": "2022-03-18T17:34:21.657Z"
   },
   {
    "duration": 4,
    "start_time": "2022-03-18T17:35:14.503Z"
   },
   {
    "duration": 3,
    "start_time": "2022-03-18T18:59:20.370Z"
   },
   {
    "duration": 380,
    "start_time": "2022-03-18T18:59:20.375Z"
   },
   {
    "duration": 4,
    "start_time": "2022-03-18T18:59:20.757Z"
   },
   {
    "duration": 5,
    "start_time": "2022-03-18T18:59:20.763Z"
   },
   {
    "duration": 24,
    "start_time": "2022-03-18T18:59:20.770Z"
   },
   {
    "duration": 7,
    "start_time": "2022-03-18T18:59:20.795Z"
   },
   {
    "duration": 6,
    "start_time": "2022-03-18T18:59:20.804Z"
   },
   {
    "duration": 9,
    "start_time": "2022-03-18T18:59:20.812Z"
   },
   {
    "duration": 164,
    "start_time": "2022-03-18T18:59:20.824Z"
   },
   {
    "duration": 35,
    "start_time": "2022-03-18T18:59:20.989Z"
   },
   {
    "duration": 86,
    "start_time": "2022-03-18T18:59:21.026Z"
   },
   {
    "duration": 22,
    "start_time": "2022-03-18T18:59:21.114Z"
   },
   {
    "duration": 100,
    "start_time": "2022-03-18T18:59:21.137Z"
   },
   {
    "duration": 23,
    "start_time": "2022-03-18T18:59:21.239Z"
   },
   {
    "duration": 27,
    "start_time": "2022-03-18T18:59:21.264Z"
   },
   {
    "duration": 18,
    "start_time": "2022-03-18T18:59:21.292Z"
   },
   {
    "duration": 690,
    "start_time": "2022-03-18T18:59:21.311Z"
   },
   {
    "duration": 5,
    "start_time": "2022-03-18T18:59:22.003Z"
   },
   {
    "duration": 19,
    "start_time": "2022-03-18T18:59:22.009Z"
   },
   {
    "duration": 42,
    "start_time": "2022-03-18T18:59:22.029Z"
   },
   {
    "duration": 8,
    "start_time": "2022-03-18T18:59:22.073Z"
   },
   {
    "duration": 22,
    "start_time": "2022-03-18T18:59:22.083Z"
   },
   {
    "duration": 896,
    "start_time": "2022-03-18T18:59:22.107Z"
   },
   {
    "duration": 8,
    "start_time": "2022-03-18T18:59:23.006Z"
   },
   {
    "duration": 32,
    "start_time": "2022-03-18T18:59:23.016Z"
   },
   {
    "duration": 4,
    "start_time": "2022-03-18T18:59:23.063Z"
   },
   {
    "duration": 6,
    "start_time": "2022-03-18T18:59:23.068Z"
   },
   {
    "duration": 50,
    "start_time": "2022-03-18T18:59:23.075Z"
   },
   {
    "duration": 77,
    "start_time": "2022-03-18T18:59:23.126Z"
   },
   {
    "duration": 19,
    "start_time": "2022-03-18T18:59:23.205Z"
   },
   {
    "duration": 9,
    "start_time": "2022-03-18T18:59:23.225Z"
   },
   {
    "duration": 30,
    "start_time": "2022-03-18T18:59:23.235Z"
   },
   {
    "duration": 8,
    "start_time": "2022-03-18T18:59:23.267Z"
   },
   {
    "duration": 4,
    "start_time": "2022-03-18T18:59:23.277Z"
   },
   {
    "duration": 22,
    "start_time": "2022-03-18T18:59:23.282Z"
   },
   {
    "duration": 5,
    "start_time": "2022-03-18T18:59:23.306Z"
   },
   {
    "duration": 11,
    "start_time": "2022-03-18T18:59:23.313Z"
   },
   {
    "duration": 38,
    "start_time": "2022-03-18T18:59:23.326Z"
   },
   {
    "duration": 17,
    "start_time": "2022-03-18T18:59:23.366Z"
   },
   {
    "duration": 6,
    "start_time": "2022-03-18T18:59:23.385Z"
   },
   {
    "duration": 19,
    "start_time": "2022-03-18T18:59:23.392Z"
   },
   {
    "duration": 20,
    "start_time": "2022-03-18T18:59:23.413Z"
   },
   {
    "duration": 33,
    "start_time": "2022-03-18T18:59:23.435Z"
   },
   {
    "duration": 31,
    "start_time": "2022-03-18T18:59:23.470Z"
   },
   {
    "duration": 7,
    "start_time": "2022-03-18T18:59:23.503Z"
   },
   {
    "duration": 19,
    "start_time": "2022-03-18T18:59:23.511Z"
   },
   {
    "duration": 6,
    "start_time": "2022-03-18T18:59:23.532Z"
   },
   {
    "duration": 5,
    "start_time": "2022-03-18T18:59:23.540Z"
   },
   {
    "duration": 9,
    "start_time": "2022-03-18T18:59:23.547Z"
   },
   {
    "duration": 6,
    "start_time": "2022-03-18T19:00:01.958Z"
   },
   {
    "duration": 5,
    "start_time": "2022-03-18T19:00:15.888Z"
   },
   {
    "duration": 5,
    "start_time": "2022-03-18T19:00:30.689Z"
   },
   {
    "duration": 5,
    "start_time": "2022-03-18T19:00:39.984Z"
   },
   {
    "duration": 4,
    "start_time": "2022-03-18T19:07:52.713Z"
   },
   {
    "duration": 107,
    "start_time": "2022-03-18T19:07:54.305Z"
   },
   {
    "duration": 21,
    "start_time": "2022-03-18T19:08:01.546Z"
   },
   {
    "duration": 179,
    "start_time": "2022-03-18T19:08:52.532Z"
   },
   {
    "duration": 18,
    "start_time": "2022-03-18T19:08:57.051Z"
   },
   {
    "duration": 727,
    "start_time": "2022-03-18T19:09:09.567Z"
   },
   {
    "duration": 405,
    "start_time": "2022-03-18T19:09:10.297Z"
   },
   {
    "duration": 3,
    "start_time": "2022-03-18T19:09:10.704Z"
   },
   {
    "duration": 10,
    "start_time": "2022-03-18T19:09:10.709Z"
   },
   {
    "duration": 31,
    "start_time": "2022-03-18T19:09:10.722Z"
   },
   {
    "duration": 15,
    "start_time": "2022-03-18T19:09:10.755Z"
   },
   {
    "duration": 6,
    "start_time": "2022-03-18T19:09:10.772Z"
   },
   {
    "duration": 11,
    "start_time": "2022-03-18T19:09:10.779Z"
   },
   {
    "duration": 159,
    "start_time": "2022-03-18T19:09:10.791Z"
   },
   {
    "duration": 33,
    "start_time": "2022-03-18T19:09:10.962Z"
   },
   {
    "duration": 102,
    "start_time": "2022-03-18T19:09:10.997Z"
   },
   {
    "duration": 24,
    "start_time": "2022-03-18T19:09:11.101Z"
   },
   {
    "duration": 120,
    "start_time": "2022-03-18T19:09:11.127Z"
   },
   {
    "duration": 23,
    "start_time": "2022-03-18T19:09:11.249Z"
   },
   {
    "duration": 30,
    "start_time": "2022-03-18T19:09:11.274Z"
   },
   {
    "duration": 17,
    "start_time": "2022-03-18T19:09:11.306Z"
   },
   {
    "duration": 750,
    "start_time": "2022-03-18T19:09:11.325Z"
   },
   {
    "duration": 5,
    "start_time": "2022-03-18T19:09:12.078Z"
   },
   {
    "duration": 17,
    "start_time": "2022-03-18T19:09:12.085Z"
   },
   {
    "duration": 27,
    "start_time": "2022-03-18T19:09:12.104Z"
   },
   {
    "duration": 33,
    "start_time": "2022-03-18T19:09:12.133Z"
   },
   {
    "duration": 19,
    "start_time": "2022-03-18T19:09:12.168Z"
   },
   {
    "duration": 963,
    "start_time": "2022-03-18T19:09:12.188Z"
   },
   {
    "duration": 8,
    "start_time": "2022-03-18T19:09:13.153Z"
   },
   {
    "duration": 39,
    "start_time": "2022-03-18T19:09:13.163Z"
   },
   {
    "duration": 5,
    "start_time": "2022-03-18T19:09:13.204Z"
   },
   {
    "duration": 7,
    "start_time": "2022-03-18T19:09:13.210Z"
   },
   {
    "duration": 49,
    "start_time": "2022-03-18T19:09:13.221Z"
   },
   {
    "duration": 62,
    "start_time": "2022-03-18T19:09:13.272Z"
   },
   {
    "duration": 20,
    "start_time": "2022-03-18T19:09:13.336Z"
   },
   {
    "duration": 9,
    "start_time": "2022-03-18T19:09:13.363Z"
   },
   {
    "duration": 13,
    "start_time": "2022-03-18T19:09:13.374Z"
   },
   {
    "duration": 8,
    "start_time": "2022-03-18T19:09:13.388Z"
   },
   {
    "duration": 5,
    "start_time": "2022-03-18T19:09:13.397Z"
   },
   {
    "duration": 26,
    "start_time": "2022-03-18T19:09:13.404Z"
   },
   {
    "duration": 4,
    "start_time": "2022-03-18T19:09:13.432Z"
   },
   {
    "duration": 13,
    "start_time": "2022-03-18T19:09:13.438Z"
   },
   {
    "duration": 13,
    "start_time": "2022-03-18T19:09:13.453Z"
   },
   {
    "duration": 21,
    "start_time": "2022-03-18T19:09:13.467Z"
   },
   {
    "duration": 10,
    "start_time": "2022-03-18T19:09:13.490Z"
   },
   {
    "duration": 8,
    "start_time": "2022-03-18T19:09:13.502Z"
   },
   {
    "duration": 9,
    "start_time": "2022-03-18T19:09:13.512Z"
   },
   {
    "duration": 27,
    "start_time": "2022-03-18T19:09:13.523Z"
   },
   {
    "duration": 6,
    "start_time": "2022-03-18T19:09:13.552Z"
   },
   {
    "duration": 24,
    "start_time": "2022-03-18T19:09:13.563Z"
   },
   {
    "duration": 33,
    "start_time": "2022-03-18T19:09:13.589Z"
   },
   {
    "duration": 4,
    "start_time": "2022-03-18T19:09:13.624Z"
   },
   {
    "duration": 142,
    "start_time": "2022-03-18T19:09:13.630Z"
   },
   {
    "duration": 18,
    "start_time": "2022-03-18T19:09:13.774Z"
   },
   {
    "duration": 4,
    "start_time": "2022-03-18T19:09:40.826Z"
   },
   {
    "duration": 28,
    "start_time": "2022-03-18T19:11:50.285Z"
   },
   {
    "duration": 7,
    "start_time": "2022-03-18T19:12:19.192Z"
   },
   {
    "duration": 6,
    "start_time": "2022-03-18T19:12:27.442Z"
   },
   {
    "duration": 53,
    "start_time": "2022-03-18T19:13:38.272Z"
   },
   {
    "duration": 11,
    "start_time": "2022-03-18T19:15:26.546Z"
   },
   {
    "duration": 12,
    "start_time": "2022-03-18T19:15:41.194Z"
   },
   {
    "duration": 33,
    "start_time": "2022-03-18T19:16:40.275Z"
   },
   {
    "duration": 12,
    "start_time": "2022-03-18T19:17:29.332Z"
   },
   {
    "duration": 53,
    "start_time": "2022-03-18T19:18:13.583Z"
   },
   {
    "duration": 11,
    "start_time": "2022-03-18T19:18:40.635Z"
   },
   {
    "duration": 30,
    "start_time": "2022-03-18T19:19:14.578Z"
   },
   {
    "duration": 34,
    "start_time": "2022-03-18T19:19:34.028Z"
   },
   {
    "duration": 31,
    "start_time": "2022-03-18T19:20:47.936Z"
   },
   {
    "duration": 21,
    "start_time": "2022-03-18T19:24:49.350Z"
   },
   {
    "duration": 140,
    "start_time": "2022-03-18T19:36:23.246Z"
   },
   {
    "duration": 19,
    "start_time": "2022-03-18T19:37:07.095Z"
   },
   {
    "duration": 1057,
    "start_time": "2022-03-19T10:48:13.498Z"
   },
   {
    "duration": 471,
    "start_time": "2022-03-19T10:48:14.558Z"
   },
   {
    "duration": 5,
    "start_time": "2022-03-19T10:48:15.031Z"
   },
   {
    "duration": 8,
    "start_time": "2022-03-19T10:48:15.038Z"
   },
   {
    "duration": 53,
    "start_time": "2022-03-19T10:48:15.050Z"
   },
   {
    "duration": 11,
    "start_time": "2022-03-19T10:48:15.105Z"
   },
   {
    "duration": 14,
    "start_time": "2022-03-19T10:48:15.118Z"
   },
   {
    "duration": 19,
    "start_time": "2022-03-19T10:48:15.134Z"
   },
   {
    "duration": 221,
    "start_time": "2022-03-19T10:48:15.155Z"
   },
   {
    "duration": 47,
    "start_time": "2022-03-19T10:48:15.383Z"
   },
   {
    "duration": 113,
    "start_time": "2022-03-19T10:48:15.432Z"
   },
   {
    "duration": 46,
    "start_time": "2022-03-19T10:48:15.548Z"
   },
   {
    "duration": 165,
    "start_time": "2022-03-19T10:48:15.596Z"
   },
   {
    "duration": 21,
    "start_time": "2022-03-19T10:48:15.767Z"
   },
   {
    "duration": 39,
    "start_time": "2022-03-19T10:48:15.791Z"
   },
   {
    "duration": 59,
    "start_time": "2022-03-19T10:48:15.833Z"
   },
   {
    "duration": 1137,
    "start_time": "2022-03-19T10:48:15.895Z"
   },
   {
    "duration": 7,
    "start_time": "2022-03-19T10:48:17.035Z"
   },
   {
    "duration": 38,
    "start_time": "2022-03-19T10:48:17.046Z"
   },
   {
    "duration": 32,
    "start_time": "2022-03-19T10:48:17.087Z"
   },
   {
    "duration": 10,
    "start_time": "2022-03-19T10:48:17.121Z"
   },
   {
    "duration": 60,
    "start_time": "2022-03-19T10:48:17.134Z"
   },
   {
    "duration": 1390,
    "start_time": "2022-03-19T10:48:17.196Z"
   },
   {
    "duration": 11,
    "start_time": "2022-03-19T10:48:18.588Z"
   },
   {
    "duration": 43,
    "start_time": "2022-03-19T10:48:18.602Z"
   },
   {
    "duration": 6,
    "start_time": "2022-03-19T10:48:18.647Z"
   },
   {
    "duration": 9,
    "start_time": "2022-03-19T10:48:18.683Z"
   },
   {
    "duration": 67,
    "start_time": "2022-03-19T10:48:18.695Z"
   },
   {
    "duration": 83,
    "start_time": "2022-03-19T10:48:18.782Z"
   },
   {
    "duration": 40,
    "start_time": "2022-03-19T10:48:18.867Z"
   },
   {
    "duration": 15,
    "start_time": "2022-03-19T10:48:18.910Z"
   },
   {
    "duration": 17,
    "start_time": "2022-03-19T10:48:18.927Z"
   },
   {
    "duration": 43,
    "start_time": "2022-03-19T10:48:18.947Z"
   },
   {
    "duration": 6,
    "start_time": "2022-03-19T10:48:18.992Z"
   },
   {
    "duration": 37,
    "start_time": "2022-03-19T10:48:19.001Z"
   },
   {
    "duration": 43,
    "start_time": "2022-03-19T10:48:19.040Z"
   },
   {
    "duration": 11,
    "start_time": "2022-03-19T10:48:19.086Z"
   },
   {
    "duration": 13,
    "start_time": "2022-03-19T10:48:19.099Z"
   },
   {
    "duration": 29,
    "start_time": "2022-03-19T10:48:19.115Z"
   },
   {
    "duration": 39,
    "start_time": "2022-03-19T10:48:19.146Z"
   },
   {
    "duration": 7,
    "start_time": "2022-03-19T10:48:19.192Z"
   },
   {
    "duration": 9,
    "start_time": "2022-03-19T10:48:19.201Z"
   },
   {
    "duration": 40,
    "start_time": "2022-03-19T10:48:19.212Z"
   },
   {
    "duration": 6,
    "start_time": "2022-03-19T10:48:19.283Z"
   },
   {
    "duration": 8,
    "start_time": "2022-03-19T10:48:19.292Z"
   },
   {
    "duration": 7,
    "start_time": "2022-03-19T10:48:19.302Z"
   },
   {
    "duration": 212,
    "start_time": "2022-03-19T10:48:19.311Z"
   },
   {
    "duration": 31,
    "start_time": "2022-03-19T10:48:19.526Z"
   },
   {
    "duration": 920,
    "start_time": "2022-03-19T10:51:47.093Z"
   },
   {
    "duration": 489,
    "start_time": "2022-03-19T10:51:48.016Z"
   },
   {
    "duration": 5,
    "start_time": "2022-03-19T10:51:48.508Z"
   },
   {
    "duration": 7,
    "start_time": "2022-03-19T10:51:48.515Z"
   },
   {
    "duration": 58,
    "start_time": "2022-03-19T10:51:48.525Z"
   },
   {
    "duration": 11,
    "start_time": "2022-03-19T10:51:48.586Z"
   },
   {
    "duration": 7,
    "start_time": "2022-03-19T10:51:48.599Z"
   },
   {
    "duration": 15,
    "start_time": "2022-03-19T10:51:48.609Z"
   },
   {
    "duration": 218,
    "start_time": "2022-03-19T10:51:48.627Z"
   },
   {
    "duration": 59,
    "start_time": "2022-03-19T10:51:48.847Z"
   },
   {
    "duration": 111,
    "start_time": "2022-03-19T10:51:48.908Z"
   },
   {
    "duration": 33,
    "start_time": "2022-03-19T10:51:49.021Z"
   },
   {
    "duration": 190,
    "start_time": "2022-03-19T10:51:49.057Z"
   },
   {
    "duration": 13,
    "start_time": "2022-03-19T10:51:49.252Z"
   },
   {
    "duration": 47,
    "start_time": "2022-03-19T10:51:49.267Z"
   },
   {
    "duration": 28,
    "start_time": "2022-03-19T10:51:49.316Z"
   },
   {
    "duration": 1173,
    "start_time": "2022-03-19T10:51:49.347Z"
   },
   {
    "duration": 7,
    "start_time": "2022-03-19T10:51:50.523Z"
   },
   {
    "duration": 19,
    "start_time": "2022-03-19T10:51:50.533Z"
   },
   {
    "duration": 58,
    "start_time": "2022-03-19T10:51:50.554Z"
   },
   {
    "duration": 13,
    "start_time": "2022-03-19T10:51:50.615Z"
   },
   {
    "duration": 27,
    "start_time": "2022-03-19T10:51:50.630Z"
   },
   {
    "duration": 1409,
    "start_time": "2022-03-19T10:51:50.683Z"
   },
   {
    "duration": 11,
    "start_time": "2022-03-19T10:51:52.095Z"
   },
   {
    "duration": 77,
    "start_time": "2022-03-19T10:51:52.109Z"
   },
   {
    "duration": 7,
    "start_time": "2022-03-19T10:51:52.189Z"
   },
   {
    "duration": 17,
    "start_time": "2022-03-19T10:51:52.198Z"
   },
   {
    "duration": 82,
    "start_time": "2022-03-19T10:51:52.218Z"
   },
   {
    "duration": 100,
    "start_time": "2022-03-19T10:51:52.303Z"
   },
   {
    "duration": 32,
    "start_time": "2022-03-19T10:51:52.405Z"
   },
   {
    "duration": 19,
    "start_time": "2022-03-19T10:51:52.440Z"
   },
   {
    "duration": 12,
    "start_time": "2022-03-19T10:51:52.483Z"
   },
   {
    "duration": 15,
    "start_time": "2022-03-19T10:51:52.497Z"
   },
   {
    "duration": 8,
    "start_time": "2022-03-19T10:51:52.515Z"
   },
   {
    "duration": 81,
    "start_time": "2022-03-19T10:51:52.525Z"
   },
   {
    "duration": 8,
    "start_time": "2022-03-19T10:51:52.609Z"
   },
   {
    "duration": 11,
    "start_time": "2022-03-19T10:51:52.619Z"
   },
   {
    "duration": 13,
    "start_time": "2022-03-19T10:51:52.632Z"
   },
   {
    "duration": 58,
    "start_time": "2022-03-19T10:51:52.647Z"
   },
   {
    "duration": 8,
    "start_time": "2022-03-19T10:51:52.707Z"
   },
   {
    "duration": 8,
    "start_time": "2022-03-19T10:51:52.720Z"
   },
   {
    "duration": 7,
    "start_time": "2022-03-19T10:51:52.730Z"
   },
   {
    "duration": 78,
    "start_time": "2022-03-19T10:51:52.739Z"
   },
   {
    "duration": 6,
    "start_time": "2022-03-19T10:51:52.819Z"
   },
   {
    "duration": 8,
    "start_time": "2022-03-19T10:51:52.829Z"
   },
   {
    "duration": 8,
    "start_time": "2022-03-19T10:51:52.840Z"
   },
   {
    "duration": 223,
    "start_time": "2022-03-19T10:51:52.851Z"
   },
   {
    "duration": 35,
    "start_time": "2022-03-19T10:51:53.077Z"
   },
   {
    "duration": 4,
    "start_time": "2022-03-19T11:16:54.381Z"
   },
   {
    "duration": 45,
    "start_time": "2022-03-19T11:17:57.521Z"
   },
   {
    "duration": 34,
    "start_time": "2022-03-19T11:21:19.723Z"
   },
   {
    "duration": 46,
    "start_time": "2022-03-19T11:22:07.103Z"
   },
   {
    "duration": 42,
    "start_time": "2022-03-19T11:22:22.279Z"
   },
   {
    "duration": 171,
    "start_time": "2022-03-19T11:23:49.848Z"
   },
   {
    "duration": 159,
    "start_time": "2022-03-19T11:24:07.895Z"
   },
   {
    "duration": 24,
    "start_time": "2022-03-19T11:24:13.713Z"
   },
   {
    "duration": 37,
    "start_time": "2022-03-19T11:24:24.561Z"
   },
   {
    "duration": 29,
    "start_time": "2022-03-19T11:24:39.949Z"
   },
   {
    "duration": 325,
    "start_time": "2022-03-19T11:24:49.801Z"
   },
   {
    "duration": 228,
    "start_time": "2022-03-19T11:25:00.026Z"
   },
   {
    "duration": 152,
    "start_time": "2022-03-19T11:26:02.683Z"
   },
   {
    "duration": 24,
    "start_time": "2022-03-19T11:26:12.058Z"
   },
   {
    "duration": 22,
    "start_time": "2022-03-19T11:27:02.909Z"
   },
   {
    "duration": 27,
    "start_time": "2022-03-19T11:27:03.550Z"
   },
   {
    "duration": 18,
    "start_time": "2022-03-19T11:42:16.210Z"
   },
   {
    "duration": 6,
    "start_time": "2022-03-19T11:43:29.395Z"
   },
   {
    "duration": 5,
    "start_time": "2022-03-19T11:43:43.363Z"
   },
   {
    "duration": 2699,
    "start_time": "2022-03-19T11:43:49.195Z"
   },
   {
    "duration": 1917,
    "start_time": "2022-03-19T11:44:05.307Z"
   },
   {
    "duration": 2513,
    "start_time": "2022-03-19T11:44:37.260Z"
   },
   {
    "duration": 70,
    "start_time": "2022-03-19T11:44:58.172Z"
   },
   {
    "duration": 70,
    "start_time": "2022-03-19T11:45:06.694Z"
   },
   {
    "duration": 681,
    "start_time": "2022-03-19T11:45:44.983Z"
   },
   {
    "duration": 68,
    "start_time": "2022-03-19T11:46:00.613Z"
   },
   {
    "duration": 9,
    "start_time": "2022-03-19T11:46:24.487Z"
   },
   {
    "duration": 9,
    "start_time": "2022-03-19T11:46:36.846Z"
   },
   {
    "duration": 60,
    "start_time": "2022-03-19T11:46:52.777Z"
   },
   {
    "duration": 4,
    "start_time": "2022-03-19T11:47:19.520Z"
   },
   {
    "duration": 23,
    "start_time": "2022-03-19T11:48:20.137Z"
   },
   {
    "duration": 22,
    "start_time": "2022-03-19T11:48:20.729Z"
   },
   {
    "duration": 17,
    "start_time": "2022-03-19T11:48:38.875Z"
   },
   {
    "duration": 19,
    "start_time": "2022-03-19T11:48:44.897Z"
   },
   {
    "duration": 21,
    "start_time": "2022-03-19T11:49:04.218Z"
   },
   {
    "duration": 19,
    "start_time": "2022-03-19T11:49:07.574Z"
   },
   {
    "duration": 24,
    "start_time": "2022-03-19T11:50:42.070Z"
   },
   {
    "duration": 18,
    "start_time": "2022-03-19T11:50:43.875Z"
   },
   {
    "duration": 22,
    "start_time": "2022-03-19T11:51:06.258Z"
   },
   {
    "duration": 17,
    "start_time": "2022-03-19T11:51:16.908Z"
   },
   {
    "duration": 831,
    "start_time": "2022-03-21T07:41:05.456Z"
   },
   {
    "duration": 374,
    "start_time": "2022-03-21T07:41:06.289Z"
   },
   {
    "duration": 5,
    "start_time": "2022-03-21T07:41:06.664Z"
   },
   {
    "duration": 4,
    "start_time": "2022-03-21T07:41:06.671Z"
   },
   {
    "duration": 28,
    "start_time": "2022-03-21T07:41:06.677Z"
   },
   {
    "duration": 8,
    "start_time": "2022-03-21T07:41:06.707Z"
   },
   {
    "duration": 6,
    "start_time": "2022-03-21T07:41:06.717Z"
   },
   {
    "duration": 46,
    "start_time": "2022-03-21T07:41:06.724Z"
   },
   {
    "duration": 137,
    "start_time": "2022-03-21T07:41:06.771Z"
   },
   {
    "duration": 34,
    "start_time": "2022-03-21T07:41:06.911Z"
   },
   {
    "duration": 81,
    "start_time": "2022-03-21T07:41:06.947Z"
   },
   {
    "duration": 46,
    "start_time": "2022-03-21T07:41:07.030Z"
   },
   {
    "duration": 113,
    "start_time": "2022-03-21T07:41:07.077Z"
   },
   {
    "duration": 8,
    "start_time": "2022-03-21T07:41:07.194Z"
   },
   {
    "duration": 30,
    "start_time": "2022-03-21T07:41:07.204Z"
   },
   {
    "duration": 34,
    "start_time": "2022-03-21T07:41:07.236Z"
   },
   {
    "duration": 764,
    "start_time": "2022-03-21T07:41:07.272Z"
   },
   {
    "duration": 4,
    "start_time": "2022-03-21T07:41:08.038Z"
   },
   {
    "duration": 27,
    "start_time": "2022-03-21T07:41:08.044Z"
   },
   {
    "duration": 30,
    "start_time": "2022-03-21T07:41:08.072Z"
   },
   {
    "duration": 9,
    "start_time": "2022-03-21T07:41:08.103Z"
   },
   {
    "duration": 20,
    "start_time": "2022-03-21T07:41:08.113Z"
   },
   {
    "duration": 935,
    "start_time": "2022-03-21T07:41:08.135Z"
   },
   {
    "duration": 8,
    "start_time": "2022-03-21T07:41:09.072Z"
   },
   {
    "duration": 29,
    "start_time": "2022-03-21T07:41:09.082Z"
   },
   {
    "duration": 5,
    "start_time": "2022-03-21T07:41:09.113Z"
   },
   {
    "duration": 8,
    "start_time": "2022-03-21T07:41:09.120Z"
   },
   {
    "duration": 81,
    "start_time": "2022-03-21T07:41:09.129Z"
   },
   {
    "duration": 73,
    "start_time": "2022-03-21T07:41:09.212Z"
   },
   {
    "duration": 21,
    "start_time": "2022-03-21T07:41:09.287Z"
   },
   {
    "duration": 9,
    "start_time": "2022-03-21T07:41:09.310Z"
   },
   {
    "duration": 9,
    "start_time": "2022-03-21T07:41:09.320Z"
   },
   {
    "duration": 34,
    "start_time": "2022-03-21T07:41:09.330Z"
   },
   {
    "duration": 4,
    "start_time": "2022-03-21T07:41:09.365Z"
   },
   {
    "duration": 22,
    "start_time": "2022-03-21T07:41:09.371Z"
   },
   {
    "duration": 6,
    "start_time": "2022-03-21T07:41:09.395Z"
   },
   {
    "duration": 7,
    "start_time": "2022-03-21T07:41:09.403Z"
   },
   {
    "duration": 9,
    "start_time": "2022-03-21T07:41:09.412Z"
   },
   {
    "duration": 59,
    "start_time": "2022-03-21T07:41:09.422Z"
   },
   {
    "duration": 6,
    "start_time": "2022-03-21T07:41:09.483Z"
   },
   {
    "duration": 6,
    "start_time": "2022-03-21T07:41:09.493Z"
   },
   {
    "duration": 5,
    "start_time": "2022-03-21T07:41:09.501Z"
   },
   {
    "duration": 24,
    "start_time": "2022-03-21T07:41:09.507Z"
   },
   {
    "duration": 5,
    "start_time": "2022-03-21T07:41:09.563Z"
   },
   {
    "duration": 10,
    "start_time": "2022-03-21T07:41:09.570Z"
   },
   {
    "duration": 6,
    "start_time": "2022-03-21T07:41:09.581Z"
   },
   {
    "duration": 131,
    "start_time": "2022-03-21T07:41:09.589Z"
   },
   {
    "duration": 22,
    "start_time": "2022-03-21T07:41:09.721Z"
   },
   {
    "duration": 45,
    "start_time": "2022-03-21T07:41:09.745Z"
   },
   {
    "duration": 15,
    "start_time": "2022-03-21T07:41:09.792Z"
   },
   {
    "duration": 10,
    "start_time": "2022-03-21T07:41:09.809Z"
   },
   {
    "duration": 13,
    "start_time": "2022-03-21T07:41:09.821Z"
   },
   {
    "duration": 32,
    "start_time": "2022-03-21T07:41:09.836Z"
   },
   {
    "duration": 12,
    "start_time": "2022-03-21T07:41:09.870Z"
   },
   {
    "duration": 16,
    "start_time": "2022-03-21T07:41:09.884Z"
   },
   {
    "duration": 11,
    "start_time": "2022-03-21T07:41:09.902Z"
   },
   {
    "duration": 14,
    "start_time": "2022-03-21T07:41:34.248Z"
   },
   {
    "duration": 10,
    "start_time": "2022-03-21T07:41:36.080Z"
   },
   {
    "duration": 14,
    "start_time": "2022-03-21T07:42:23.049Z"
   },
   {
    "duration": 10,
    "start_time": "2022-03-21T07:42:24.241Z"
   },
   {
    "duration": 15,
    "start_time": "2022-03-21T07:42:34.433Z"
   },
   {
    "duration": 10,
    "start_time": "2022-03-21T07:42:35.865Z"
   },
   {
    "duration": 70,
    "start_time": "2022-03-21T07:53:07.613Z"
   },
   {
    "duration": 390,
    "start_time": "2022-03-21T07:53:28.295Z"
   },
   {
    "duration": 197,
    "start_time": "2022-03-21T07:53:34.361Z"
   },
   {
    "duration": 11,
    "start_time": "2022-03-21T07:54:14.369Z"
   },
   {
    "duration": 9,
    "start_time": "2022-03-21T07:54:14.920Z"
   },
   {
    "duration": 662,
    "start_time": "2022-03-21T07:54:37.282Z"
   },
   {
    "duration": 0,
    "start_time": "2022-03-21T07:54:37.946Z"
   },
   {
    "duration": 12,
    "start_time": "2022-03-21T07:55:40.443Z"
   },
   {
    "duration": 9,
    "start_time": "2022-03-21T07:55:42.634Z"
   },
   {
    "duration": 10,
    "start_time": "2022-03-21T07:56:09.104Z"
   },
   {
    "duration": 21,
    "start_time": "2022-03-21T07:56:57.716Z"
   },
   {
    "duration": 16,
    "start_time": "2022-03-21T07:57:01.443Z"
   },
   {
    "duration": 11,
    "start_time": "2022-03-21T07:57:36.781Z"
   },
   {
    "duration": 280,
    "start_time": "2022-03-21T07:57:41.185Z"
   },
   {
    "duration": 4,
    "start_time": "2022-03-21T07:58:45.190Z"
   },
   {
    "duration": 13,
    "start_time": "2022-03-21T07:58:51.010Z"
   },
   {
    "duration": 4,
    "start_time": "2022-03-21T08:00:00.850Z"
   },
   {
    "duration": 298,
    "start_time": "2022-03-21T08:07:28.378Z"
   },
   {
    "duration": 13,
    "start_time": "2022-03-21T08:07:36.802Z"
   },
   {
    "duration": 4,
    "start_time": "2022-03-21T08:08:09.531Z"
   },
   {
    "duration": 4,
    "start_time": "2022-03-21T08:08:11.302Z"
   },
   {
    "duration": 14,
    "start_time": "2022-03-21T08:08:14.842Z"
   },
   {
    "duration": 11,
    "start_time": "2022-03-21T08:10:09.003Z"
   },
   {
    "duration": 20,
    "start_time": "2022-03-21T08:12:07.508Z"
   },
   {
    "duration": 14,
    "start_time": "2022-03-21T08:12:27.068Z"
   },
   {
    "duration": 1208,
    "start_time": "2022-03-21T08:12:40.526Z"
   },
   {
    "duration": 371,
    "start_time": "2022-03-21T08:12:41.736Z"
   },
   {
    "duration": 4,
    "start_time": "2022-03-21T08:12:42.109Z"
   },
   {
    "duration": 5,
    "start_time": "2022-03-21T08:12:42.115Z"
   },
   {
    "duration": 31,
    "start_time": "2022-03-21T08:12:42.122Z"
   },
   {
    "duration": 14,
    "start_time": "2022-03-21T08:12:42.154Z"
   },
   {
    "duration": 5,
    "start_time": "2022-03-21T08:12:42.169Z"
   },
   {
    "duration": 10,
    "start_time": "2022-03-21T08:12:42.176Z"
   },
   {
    "duration": 165,
    "start_time": "2022-03-21T08:12:42.188Z"
   },
   {
    "duration": 43,
    "start_time": "2022-03-21T08:12:42.355Z"
   },
   {
    "duration": 97,
    "start_time": "2022-03-21T08:12:42.400Z"
   },
   {
    "duration": 25,
    "start_time": "2022-03-21T08:12:42.499Z"
   },
   {
    "duration": 116,
    "start_time": "2022-03-21T08:12:42.526Z"
   },
   {
    "duration": 26,
    "start_time": "2022-03-21T08:12:42.645Z"
   },
   {
    "duration": 33,
    "start_time": "2022-03-21T08:12:42.673Z"
   },
   {
    "duration": 18,
    "start_time": "2022-03-21T08:12:42.707Z"
   },
   {
    "duration": 696,
    "start_time": "2022-03-21T08:12:42.726Z"
   },
   {
    "duration": 5,
    "start_time": "2022-03-21T08:12:43.423Z"
   },
   {
    "duration": 18,
    "start_time": "2022-03-21T08:12:43.430Z"
   },
   {
    "duration": 41,
    "start_time": "2022-03-21T08:12:43.449Z"
   },
   {
    "duration": 9,
    "start_time": "2022-03-21T08:12:43.492Z"
   },
   {
    "duration": 20,
    "start_time": "2022-03-21T08:12:43.503Z"
   },
   {
    "duration": 986,
    "start_time": "2022-03-21T08:12:43.524Z"
   },
   {
    "duration": 10,
    "start_time": "2022-03-21T08:12:44.513Z"
   },
   {
    "duration": 44,
    "start_time": "2022-03-21T08:12:44.525Z"
   },
   {
    "duration": 5,
    "start_time": "2022-03-21T08:12:44.571Z"
   },
   {
    "duration": 6,
    "start_time": "2022-03-21T08:12:44.578Z"
   },
   {
    "duration": 55,
    "start_time": "2022-03-21T08:12:44.586Z"
   },
   {
    "duration": 87,
    "start_time": "2022-03-21T08:12:44.643Z"
   },
   {
    "duration": 34,
    "start_time": "2022-03-21T08:12:44.732Z"
   },
   {
    "duration": 10,
    "start_time": "2022-03-21T08:12:44.768Z"
   },
   {
    "duration": 12,
    "start_time": "2022-03-21T08:12:44.780Z"
   },
   {
    "duration": 17,
    "start_time": "2022-03-21T08:12:44.793Z"
   },
   {
    "duration": 10,
    "start_time": "2022-03-21T08:12:44.813Z"
   },
   {
    "duration": 42,
    "start_time": "2022-03-21T08:12:44.825Z"
   },
   {
    "duration": 14,
    "start_time": "2022-03-21T08:12:44.869Z"
   },
   {
    "duration": 4,
    "start_time": "2022-03-21T08:12:44.885Z"
   },
   {
    "duration": 7,
    "start_time": "2022-03-21T08:12:44.891Z"
   },
   {
    "duration": 9,
    "start_time": "2022-03-21T08:12:44.899Z"
   },
   {
    "duration": 19,
    "start_time": "2022-03-21T08:12:44.910Z"
   },
   {
    "duration": 6,
    "start_time": "2022-03-21T08:12:44.962Z"
   },
   {
    "duration": 7,
    "start_time": "2022-03-21T08:12:44.970Z"
   },
   {
    "duration": 5,
    "start_time": "2022-03-21T08:12:44.979Z"
   },
   {
    "duration": 27,
    "start_time": "2022-03-21T08:12:44.986Z"
   },
   {
    "duration": 7,
    "start_time": "2022-03-21T08:12:45.015Z"
   },
   {
    "duration": 13,
    "start_time": "2022-03-21T08:12:45.024Z"
   },
   {
    "duration": 24,
    "start_time": "2022-03-21T08:12:45.039Z"
   },
   {
    "duration": 124,
    "start_time": "2022-03-21T08:12:45.065Z"
   },
   {
    "duration": 21,
    "start_time": "2022-03-21T08:12:45.191Z"
   },
   {
    "duration": 8,
    "start_time": "2022-03-21T08:12:45.214Z"
   },
   {
    "duration": 42,
    "start_time": "2022-03-21T08:12:45.224Z"
   },
   {
    "duration": 16,
    "start_time": "2022-03-21T08:12:45.268Z"
   },
   {
    "duration": 9,
    "start_time": "2022-03-21T08:12:45.286Z"
   },
   {
    "duration": 5,
    "start_time": "2022-03-21T08:12:45.297Z"
   },
   {
    "duration": 222,
    "start_time": "2022-03-21T08:12:45.303Z"
   },
   {
    "duration": 2,
    "start_time": "2022-03-21T08:12:45.527Z"
   },
   {
    "duration": 19,
    "start_time": "2022-03-21T08:12:45.530Z"
   },
   {
    "duration": 19,
    "start_time": "2022-03-21T08:12:45.550Z"
   },
   {
    "duration": 17,
    "start_time": "2022-03-21T08:12:45.571Z"
   },
   {
    "duration": 8,
    "start_time": "2022-03-21T08:12:45.590Z"
   },
   {
    "duration": 18,
    "start_time": "2022-03-21T08:12:59.936Z"
   },
   {
    "duration": 3,
    "start_time": "2022-03-21T08:15:12.236Z"
   },
   {
    "duration": 19,
    "start_time": "2022-03-21T08:16:26.244Z"
   },
   {
    "duration": 144,
    "start_time": "2022-03-21T08:24:43.351Z"
   },
   {
    "duration": 299,
    "start_time": "2022-03-21T08:24:54.464Z"
   },
   {
    "duration": 195,
    "start_time": "2022-03-21T08:27:44.279Z"
   },
   {
    "duration": 193,
    "start_time": "2022-03-21T08:29:17.406Z"
   },
   {
    "duration": 237,
    "start_time": "2022-03-21T08:30:03.181Z"
   },
   {
    "duration": 198,
    "start_time": "2022-03-21T08:30:21.487Z"
   },
   {
    "duration": 161,
    "start_time": "2022-03-21T08:30:22.610Z"
   },
   {
    "duration": 192,
    "start_time": "2022-03-21T08:30:36.243Z"
   },
   {
    "duration": 154,
    "start_time": "2022-03-21T08:31:14.521Z"
   },
   {
    "duration": 152,
    "start_time": "2022-03-21T08:31:44.546Z"
   },
   {
    "duration": 146,
    "start_time": "2022-03-21T08:31:49.736Z"
   },
   {
    "duration": 156,
    "start_time": "2022-03-21T08:31:54.745Z"
   },
   {
    "duration": 241,
    "start_time": "2022-03-21T08:32:00.713Z"
   },
   {
    "duration": 151,
    "start_time": "2022-03-21T08:36:36.784Z"
   },
   {
    "duration": 155,
    "start_time": "2022-03-21T08:36:53.382Z"
   },
   {
    "duration": 130,
    "start_time": "2022-03-21T08:37:12.978Z"
   },
   {
    "duration": 130,
    "start_time": "2022-03-21T08:38:48.955Z"
   },
   {
    "duration": 149,
    "start_time": "2022-03-21T08:39:10.020Z"
   },
   {
    "duration": 138,
    "start_time": "2022-03-21T08:39:55.651Z"
   },
   {
    "duration": 146,
    "start_time": "2022-03-21T08:45:09.499Z"
   },
   {
    "duration": 139,
    "start_time": "2022-03-21T08:45:24.275Z"
   },
   {
    "duration": 141,
    "start_time": "2022-03-21T08:45:43.419Z"
   },
   {
    "duration": 130,
    "start_time": "2022-03-21T08:46:01.699Z"
   },
   {
    "duration": 142,
    "start_time": "2022-03-21T08:46:05.995Z"
   },
   {
    "duration": 164,
    "start_time": "2022-03-21T08:46:48.558Z"
   },
   {
    "duration": 233,
    "start_time": "2022-03-21T08:47:15.540Z"
   },
   {
    "duration": 141,
    "start_time": "2022-03-21T08:47:31.687Z"
   },
   {
    "duration": 135,
    "start_time": "2022-03-21T08:48:04.367Z"
   },
   {
    "duration": 178,
    "start_time": "2022-03-21T08:48:16.887Z"
   },
   {
    "duration": 159,
    "start_time": "2022-03-21T08:48:33.375Z"
   },
   {
    "duration": 148,
    "start_time": "2022-03-21T08:48:51.991Z"
   },
   {
    "duration": 191,
    "start_time": "2022-03-21T08:50:31.322Z"
   },
   {
    "duration": 16,
    "start_time": "2022-03-21T08:52:45.300Z"
   },
   {
    "duration": 13,
    "start_time": "2022-03-21T08:54:23.618Z"
   },
   {
    "duration": 196,
    "start_time": "2022-03-21T08:54:39.699Z"
   },
   {
    "duration": 13,
    "start_time": "2022-03-21T09:00:55.243Z"
   },
   {
    "duration": 186,
    "start_time": "2022-03-21T09:01:06.335Z"
   },
   {
    "duration": 3,
    "start_time": "2022-03-21T09:03:58.957Z"
   },
   {
    "duration": 182,
    "start_time": "2022-03-21T09:04:26.478Z"
   },
   {
    "duration": 4,
    "start_time": "2022-03-21T09:05:51.057Z"
   },
   {
    "duration": 213,
    "start_time": "2022-03-21T09:05:53.538Z"
   },
   {
    "duration": 4,
    "start_time": "2022-03-21T09:07:01.743Z"
   },
   {
    "duration": 12,
    "start_time": "2022-03-21T09:07:03.519Z"
   },
   {
    "duration": 288,
    "start_time": "2022-03-21T09:07:04.088Z"
   },
   {
    "duration": 3,
    "start_time": "2022-03-21T09:07:20.904Z"
   },
   {
    "duration": 13,
    "start_time": "2022-03-21T09:07:21.933Z"
   },
   {
    "duration": 193,
    "start_time": "2022-03-21T09:07:22.355Z"
   },
   {
    "duration": 209,
    "start_time": "2022-03-21T09:07:30.864Z"
   },
   {
    "duration": 203,
    "start_time": "2022-03-21T09:07:33.763Z"
   },
   {
    "duration": 198,
    "start_time": "2022-03-21T09:07:38.592Z"
   },
   {
    "duration": 4,
    "start_time": "2022-03-21T09:07:58.780Z"
   },
   {
    "duration": 206,
    "start_time": "2022-03-21T09:08:02.737Z"
   },
   {
    "duration": 194,
    "start_time": "2022-03-21T09:08:21.772Z"
   },
   {
    "duration": 9,
    "start_time": "2022-03-21T09:10:36.085Z"
   },
   {
    "duration": 3,
    "start_time": "2022-03-21T09:10:39.325Z"
   },
   {
    "duration": 11,
    "start_time": "2022-03-21T09:10:40.188Z"
   },
   {
    "duration": 210,
    "start_time": "2022-03-21T09:10:40.868Z"
   },
   {
    "duration": 3,
    "start_time": "2022-03-21T09:10:57.238Z"
   },
   {
    "duration": 13,
    "start_time": "2022-03-21T09:10:58.180Z"
   },
   {
    "duration": 198,
    "start_time": "2022-03-21T09:10:59.687Z"
   },
   {
    "duration": 4,
    "start_time": "2022-03-21T09:11:35.172Z"
   },
   {
    "duration": 202,
    "start_time": "2022-03-21T09:11:37.735Z"
   },
   {
    "duration": 4,
    "start_time": "2022-03-21T09:14:32.898Z"
   },
   {
    "duration": 212,
    "start_time": "2022-03-21T09:14:35.098Z"
   },
   {
    "duration": 3,
    "start_time": "2022-03-21T09:14:40.628Z"
   },
   {
    "duration": 304,
    "start_time": "2022-03-21T09:14:42.802Z"
   },
   {
    "duration": 213,
    "start_time": "2022-03-21T09:15:21.595Z"
   },
   {
    "duration": 150,
    "start_time": "2022-03-21T09:15:26.804Z"
   },
   {
    "duration": 11,
    "start_time": "2022-03-21T09:15:28.158Z"
   },
   {
    "duration": 203,
    "start_time": "2022-03-21T09:15:28.638Z"
   },
   {
    "duration": 4,
    "start_time": "2022-03-21T09:15:40.091Z"
   },
   {
    "duration": 188,
    "start_time": "2022-03-21T09:15:42.043Z"
   },
   {
    "duration": 3,
    "start_time": "2022-03-21T09:15:48.405Z"
   },
   {
    "duration": 13,
    "start_time": "2022-03-21T09:15:52.167Z"
   },
   {
    "duration": 179,
    "start_time": "2022-03-21T09:15:52.686Z"
   },
   {
    "duration": 4,
    "start_time": "2022-03-21T09:17:00.606Z"
   },
   {
    "duration": 189,
    "start_time": "2022-03-21T09:17:18.717Z"
   },
   {
    "duration": 17,
    "start_time": "2022-03-21T09:24:45.624Z"
   },
   {
    "duration": 4,
    "start_time": "2022-03-21T09:33:41.585Z"
   },
   {
    "duration": 181,
    "start_time": "2022-03-21T09:34:02.967Z"
   },
   {
    "duration": 139,
    "start_time": "2022-03-21T09:34:12.492Z"
   },
   {
    "duration": 187,
    "start_time": "2022-03-21T09:34:21.957Z"
   },
   {
    "duration": 19,
    "start_time": "2022-03-21T09:34:29.466Z"
   },
   {
    "duration": 37,
    "start_time": "2022-03-21T09:44:18.091Z"
   },
   {
    "duration": 33,
    "start_time": "2022-03-21T09:48:27.033Z"
   },
   {
    "duration": 38,
    "start_time": "2022-03-21T09:48:49.488Z"
   },
   {
    "duration": 36,
    "start_time": "2022-03-21T09:49:04.073Z"
   },
   {
    "duration": 4,
    "start_time": "2022-03-21T09:49:29.664Z"
   },
   {
    "duration": 142,
    "start_time": "2022-03-21T09:53:11.388Z"
   },
   {
    "duration": 134,
    "start_time": "2022-03-21T09:53:42.996Z"
   },
   {
    "duration": 142,
    "start_time": "2022-03-21T09:54:38.569Z"
   },
   {
    "duration": 145,
    "start_time": "2022-03-21T09:55:41.332Z"
   },
   {
    "duration": 37,
    "start_time": "2022-03-21T09:56:26.710Z"
   },
   {
    "duration": 4,
    "start_time": "2022-03-21T09:56:30.558Z"
   },
   {
    "duration": 35,
    "start_time": "2022-03-21T09:57:57.919Z"
   },
   {
    "duration": 39,
    "start_time": "2022-03-21T09:58:02.013Z"
   },
   {
    "duration": 33,
    "start_time": "2022-03-21T10:03:52.976Z"
   },
   {
    "duration": 35,
    "start_time": "2022-03-21T10:04:03.391Z"
   },
   {
    "duration": 4,
    "start_time": "2022-03-21T10:40:32.435Z"
   },
   {
    "duration": 1151,
    "start_time": "2022-03-21T10:40:41.694Z"
   },
   {
    "duration": 374,
    "start_time": "2022-03-21T10:40:42.847Z"
   },
   {
    "duration": 4,
    "start_time": "2022-03-21T10:40:43.222Z"
   },
   {
    "duration": 23,
    "start_time": "2022-03-21T10:40:43.228Z"
   },
   {
    "duration": 50,
    "start_time": "2022-03-21T10:40:43.252Z"
   },
   {
    "duration": 8,
    "start_time": "2022-03-21T10:40:43.303Z"
   },
   {
    "duration": 13,
    "start_time": "2022-03-21T10:40:43.313Z"
   },
   {
    "duration": 27,
    "start_time": "2022-03-21T10:40:43.327Z"
   },
   {
    "duration": 134,
    "start_time": "2022-03-21T10:40:43.355Z"
   },
   {
    "duration": 33,
    "start_time": "2022-03-21T10:40:43.492Z"
   },
   {
    "duration": 88,
    "start_time": "2022-03-21T10:40:43.527Z"
   },
   {
    "duration": 24,
    "start_time": "2022-03-21T10:40:43.617Z"
   },
   {
    "duration": 127,
    "start_time": "2022-03-21T10:40:43.643Z"
   },
   {
    "duration": 9,
    "start_time": "2022-03-21T10:40:43.771Z"
   },
   {
    "duration": 28,
    "start_time": "2022-03-21T10:41:19.123Z"
   },
   {
    "duration": 18,
    "start_time": "2022-03-21T10:41:22.769Z"
   },
   {
    "duration": 704,
    "start_time": "2022-03-21T10:41:27.385Z"
   },
   {
    "duration": 5,
    "start_time": "2022-03-21T10:41:43.162Z"
   },
   {
    "duration": 17,
    "start_time": "2022-03-21T10:41:46.431Z"
   },
   {
    "duration": 26,
    "start_time": "2022-03-21T10:41:49.385Z"
   },
   {
    "duration": 9,
    "start_time": "2022-03-21T10:41:56.934Z"
   },
   {
    "duration": 20,
    "start_time": "2022-03-21T10:41:58.839Z"
   },
   {
    "duration": 828,
    "start_time": "2022-03-21T10:42:32.356Z"
   },
   {
    "duration": 8,
    "start_time": "2022-03-21T10:42:40.358Z"
   },
   {
    "duration": 30,
    "start_time": "2022-03-21T10:43:03.493Z"
   },
   {
    "duration": 5,
    "start_time": "2022-03-21T10:43:30.860Z"
   },
   {
    "duration": 4,
    "start_time": "2022-03-21T10:44:36.414Z"
   },
   {
    "duration": 53,
    "start_time": "2022-03-21T10:44:44.518Z"
   },
   {
    "duration": 60,
    "start_time": "2022-03-21T10:45:11.718Z"
   },
   {
    "duration": 20,
    "start_time": "2022-03-21T10:45:24.657Z"
   },
   {
    "duration": 8,
    "start_time": "2022-03-21T10:45:27.972Z"
   },
   {
    "duration": 7,
    "start_time": "2022-03-21T10:45:29.612Z"
   },
   {
    "duration": 9,
    "start_time": "2022-03-21T10:45:29.838Z"
   },
   {
    "duration": 4,
    "start_time": "2022-03-21T10:45:46.964Z"
   },
   {
    "duration": 21,
    "start_time": "2022-03-21T10:46:03.800Z"
   },
   {
    "duration": 20,
    "start_time": "2022-03-21T10:46:05.036Z"
   },
   {
    "duration": 103,
    "start_time": "2022-03-21T10:46:20.969Z"
   },
   {
    "duration": 5,
    "start_time": "2022-03-21T10:46:40.565Z"
   },
   {
    "duration": 7,
    "start_time": "2022-03-21T10:47:36.760Z"
   },
   {
    "duration": 20,
    "start_time": "2022-03-21T10:47:45.032Z"
   },
   {
    "duration": 10,
    "start_time": "2022-03-21T10:48:29.081Z"
   },
   {
    "duration": 2611,
    "start_time": "2022-03-21T10:48:35.137Z"
   },
   {
    "duration": 2535,
    "start_time": "2022-03-21T10:48:44.098Z"
   },
   {
    "duration": 18,
    "start_time": "2022-03-21T10:48:48.979Z"
   },
   {
    "duration": 6,
    "start_time": "2022-03-21T10:48:56.076Z"
   },
   {
    "duration": 5,
    "start_time": "2022-03-21T10:49:21.349Z"
   },
   {
    "duration": 3,
    "start_time": "2022-03-21T10:49:41.489Z"
   },
   {
    "duration": 27,
    "start_time": "2022-03-21T10:49:42.979Z"
   },
   {
    "duration": 5,
    "start_time": "2022-03-21T10:49:48.897Z"
   },
   {
    "duration": 4,
    "start_time": "2022-03-21T10:50:00.234Z"
   },
   {
    "duration": 4,
    "start_time": "2022-03-21T10:52:12.446Z"
   },
   {
    "duration": 5,
    "start_time": "2022-03-21T10:52:16.157Z"
   },
   {
    "duration": 27,
    "start_time": "2022-03-21T10:52:54.902Z"
   },
   {
    "duration": 11,
    "start_time": "2022-03-21T10:54:06.147Z"
   },
   {
    "duration": 12,
    "start_time": "2022-03-21T10:54:10.089Z"
   },
   {
    "duration": 6,
    "start_time": "2022-03-21T10:54:19.456Z"
   },
   {
    "duration": 13,
    "start_time": "2022-03-21T10:54:24.871Z"
   },
   {
    "duration": 5,
    "start_time": "2022-03-21T10:54:43.756Z"
   },
   {
    "duration": 29,
    "start_time": "2022-03-21T10:54:45.101Z"
   },
   {
    "duration": 1165,
    "start_time": "2022-03-21T10:55:01.187Z"
   },
   {
    "duration": 383,
    "start_time": "2022-03-21T10:55:02.354Z"
   },
   {
    "duration": 4,
    "start_time": "2022-03-21T10:55:02.738Z"
   },
   {
    "duration": 8,
    "start_time": "2022-03-21T10:55:02.743Z"
   },
   {
    "duration": 27,
    "start_time": "2022-03-21T10:55:02.753Z"
   },
   {
    "duration": 8,
    "start_time": "2022-03-21T10:55:02.782Z"
   },
   {
    "duration": 6,
    "start_time": "2022-03-21T10:55:02.791Z"
   },
   {
    "duration": 12,
    "start_time": "2022-03-21T10:55:02.798Z"
   },
   {
    "duration": 173,
    "start_time": "2022-03-21T10:55:02.812Z"
   },
   {
    "duration": 37,
    "start_time": "2022-03-21T10:55:02.987Z"
   },
   {
    "duration": 89,
    "start_time": "2022-03-21T10:55:03.026Z"
   },
   {
    "duration": 22,
    "start_time": "2022-03-21T10:55:03.117Z"
   },
   {
    "duration": 106,
    "start_time": "2022-03-21T10:55:03.141Z"
   },
   {
    "duration": 10,
    "start_time": "2022-03-21T10:55:03.262Z"
   },
   {
    "duration": 31,
    "start_time": "2022-03-21T10:55:03.274Z"
   },
   {
    "duration": 16,
    "start_time": "2022-03-21T10:55:03.307Z"
   },
   {
    "duration": 679,
    "start_time": "2022-03-21T10:55:03.325Z"
   },
   {
    "duration": 5,
    "start_time": "2022-03-21T10:55:04.005Z"
   },
   {
    "duration": 18,
    "start_time": "2022-03-21T10:55:04.011Z"
   },
   {
    "duration": 39,
    "start_time": "2022-03-21T10:55:04.031Z"
   },
   {
    "duration": 8,
    "start_time": "2022-03-21T10:55:04.072Z"
   },
   {
    "duration": 19,
    "start_time": "2022-03-21T10:55:04.081Z"
   },
   {
    "duration": 800,
    "start_time": "2022-03-21T10:55:04.102Z"
   },
   {
    "duration": 7,
    "start_time": "2022-03-21T10:55:04.904Z"
   },
   {
    "duration": 29,
    "start_time": "2022-03-21T10:55:04.912Z"
   },
   {
    "duration": 3,
    "start_time": "2022-03-21T10:55:04.943Z"
   },
   {
    "duration": 22,
    "start_time": "2022-03-21T10:55:04.948Z"
   },
   {
    "duration": 52,
    "start_time": "2022-03-21T10:55:04.971Z"
   },
   {
    "duration": 77,
    "start_time": "2022-03-21T10:55:05.025Z"
   },
   {
    "duration": 20,
    "start_time": "2022-03-21T10:55:05.103Z"
   },
   {
    "duration": 8,
    "start_time": "2022-03-21T10:55:05.125Z"
   },
   {
    "duration": 29,
    "start_time": "2022-03-21T10:55:05.134Z"
   },
   {
    "duration": 17,
    "start_time": "2022-03-21T10:55:05.164Z"
   },
   {
    "duration": 15,
    "start_time": "2022-03-21T10:55:05.182Z"
   },
   {
    "duration": 29,
    "start_time": "2022-03-21T10:55:05.198Z"
   },
   {
    "duration": 30,
    "start_time": "2022-03-21T10:55:05.229Z"
   },
   {
    "duration": 15,
    "start_time": "2022-03-21T10:55:05.261Z"
   },
   {
    "duration": 6,
    "start_time": "2022-03-21T10:55:05.278Z"
   },
   {
    "duration": 15,
    "start_time": "2022-03-21T10:55:05.286Z"
   },
   {
    "duration": 21,
    "start_time": "2022-03-21T10:55:05.303Z"
   },
   {
    "duration": 11,
    "start_time": "2022-03-21T10:55:05.329Z"
   },
   {
    "duration": 16,
    "start_time": "2022-03-21T10:55:05.341Z"
   },
   {
    "duration": 20,
    "start_time": "2022-03-21T10:55:05.359Z"
   },
   {
    "duration": 38,
    "start_time": "2022-03-21T10:55:05.381Z"
   },
   {
    "duration": 7,
    "start_time": "2022-03-21T10:55:05.421Z"
   },
   {
    "duration": 17,
    "start_time": "2022-03-21T10:55:05.430Z"
   },
   {
    "duration": 2583,
    "start_time": "2022-03-21T10:55:05.449Z"
   },
   {
    "duration": 6,
    "start_time": "2022-03-21T10:56:21.407Z"
   },
   {
    "duration": 27,
    "start_time": "2022-03-21T10:56:22.791Z"
   },
   {
    "duration": 133,
    "start_time": "2022-03-21T10:59:15.372Z"
   },
   {
    "duration": 8,
    "start_time": "2022-03-21T10:59:24.944Z"
   },
   {
    "duration": 4,
    "start_time": "2022-03-21T10:59:33.843Z"
   },
   {
    "duration": 21,
    "start_time": "2022-03-21T11:00:05.389Z"
   },
   {
    "duration": 19,
    "start_time": "2022-03-21T11:00:06.620Z"
   },
   {
    "duration": 5,
    "start_time": "2022-03-21T11:00:46.700Z"
   },
   {
    "duration": 26,
    "start_time": "2022-03-21T11:00:47.195Z"
   },
   {
    "duration": 16,
    "start_time": "2022-03-21T11:00:53.749Z"
   },
   {
    "duration": 1216,
    "start_time": "2022-03-21T11:01:19.739Z"
   },
   {
    "duration": 399,
    "start_time": "2022-03-21T11:01:20.958Z"
   },
   {
    "duration": 4,
    "start_time": "2022-03-21T11:01:21.359Z"
   },
   {
    "duration": 7,
    "start_time": "2022-03-21T11:01:21.365Z"
   },
   {
    "duration": 31,
    "start_time": "2022-03-21T11:01:21.374Z"
   },
   {
    "duration": 8,
    "start_time": "2022-03-21T11:01:21.407Z"
   },
   {
    "duration": 12,
    "start_time": "2022-03-21T11:01:21.417Z"
   },
   {
    "duration": 34,
    "start_time": "2022-03-21T11:01:21.430Z"
   },
   {
    "duration": 158,
    "start_time": "2022-03-21T11:01:21.465Z"
   },
   {
    "duration": 42,
    "start_time": "2022-03-21T11:01:21.626Z"
   },
   {
    "duration": 68,
    "start_time": "2022-03-21T11:01:21.669Z"
   },
   {
    "duration": 40,
    "start_time": "2022-03-21T11:01:21.739Z"
   },
   {
    "duration": 120,
    "start_time": "2022-03-21T11:01:21.781Z"
   },
   {
    "duration": 9,
    "start_time": "2022-03-21T11:01:21.903Z"
   },
   {
    "duration": 31,
    "start_time": "2022-03-21T11:01:21.913Z"
   },
   {
    "duration": 31,
    "start_time": "2022-03-21T11:01:21.945Z"
   },
   {
    "duration": 4,
    "start_time": "2022-03-21T11:01:21.977Z"
   },
   {
    "duration": 715,
    "start_time": "2022-03-21T11:01:21.983Z"
   },
   {
    "duration": 5,
    "start_time": "2022-03-21T11:01:22.700Z"
   },
   {
    "duration": 19,
    "start_time": "2022-03-21T11:01:22.707Z"
   },
   {
    "duration": 39,
    "start_time": "2022-03-21T11:01:22.727Z"
   },
   {
    "duration": 8,
    "start_time": "2022-03-21T11:01:22.767Z"
   },
   {
    "duration": 18,
    "start_time": "2022-03-21T11:01:22.777Z"
   },
   {
    "duration": 836,
    "start_time": "2022-03-21T11:01:22.797Z"
   },
   {
    "duration": 8,
    "start_time": "2022-03-21T11:01:23.635Z"
   },
   {
    "duration": 41,
    "start_time": "2022-03-21T11:01:23.645Z"
   },
   {
    "duration": 5,
    "start_time": "2022-03-21T11:01:23.687Z"
   },
   {
    "duration": 4,
    "start_time": "2022-03-21T11:01:23.696Z"
   },
   {
    "duration": 73,
    "start_time": "2022-03-21T11:01:23.701Z"
   },
   {
    "duration": 62,
    "start_time": "2022-03-21T11:01:23.775Z"
   },
   {
    "duration": 28,
    "start_time": "2022-03-21T11:01:23.839Z"
   },
   {
    "duration": 15,
    "start_time": "2022-03-21T11:01:23.869Z"
   },
   {
    "duration": 10,
    "start_time": "2022-03-21T11:01:23.886Z"
   },
   {
    "duration": 8,
    "start_time": "2022-03-21T11:01:23.898Z"
   },
   {
    "duration": 5,
    "start_time": "2022-03-21T11:01:23.908Z"
   },
   {
    "duration": 51,
    "start_time": "2022-03-21T11:01:23.914Z"
   },
   {
    "duration": 19,
    "start_time": "2022-03-21T11:01:23.967Z"
   },
   {
    "duration": 5,
    "start_time": "2022-03-21T11:01:23.988Z"
   },
   {
    "duration": 9,
    "start_time": "2022-03-21T11:01:23.994Z"
   },
   {
    "duration": 13,
    "start_time": "2022-03-21T11:01:24.004Z"
   },
   {
    "duration": 19,
    "start_time": "2022-03-21T11:01:24.019Z"
   },
   {
    "duration": 5,
    "start_time": "2022-03-21T11:01:24.063Z"
   },
   {
    "duration": 7,
    "start_time": "2022-03-21T11:01:24.070Z"
   },
   {
    "duration": 5,
    "start_time": "2022-03-21T11:01:24.079Z"
   },
   {
    "duration": 30,
    "start_time": "2022-03-21T11:01:24.085Z"
   },
   {
    "duration": 4,
    "start_time": "2022-03-21T11:01:24.116Z"
   },
   {
    "duration": 6,
    "start_time": "2022-03-21T11:01:24.122Z"
   },
   {
    "duration": 7,
    "start_time": "2022-03-21T11:01:24.129Z"
   },
   {
    "duration": 27,
    "start_time": "2022-03-21T11:01:26.768Z"
   },
   {
    "duration": 5,
    "start_time": "2022-03-21T11:02:00.547Z"
   },
   {
    "duration": 4,
    "start_time": "2022-03-21T11:02:52.341Z"
   },
   {
    "duration": 111,
    "start_time": "2022-03-21T11:03:01.208Z"
   },
   {
    "duration": 19,
    "start_time": "2022-03-21T11:03:02.384Z"
   },
   {
    "duration": 7,
    "start_time": "2022-03-21T11:03:21.185Z"
   },
   {
    "duration": 4,
    "start_time": "2022-03-21T11:03:25.642Z"
   },
   {
    "duration": 5,
    "start_time": "2022-03-21T11:04:06.210Z"
   },
   {
    "duration": 6,
    "start_time": "2022-03-21T11:04:12.133Z"
   },
   {
    "duration": 4,
    "start_time": "2022-03-21T11:05:00.215Z"
   },
   {
    "duration": 36,
    "start_time": "2022-03-21T11:05:09.328Z"
   },
   {
    "duration": 162,
    "start_time": "2022-03-21T11:08:36.818Z"
   },
   {
    "duration": 33,
    "start_time": "2022-03-21T11:09:15.418Z"
   },
   {
    "duration": 33,
    "start_time": "2022-03-21T11:10:28.009Z"
   },
   {
    "duration": 94,
    "start_time": "2022-03-21T11:13:15.867Z"
   },
   {
    "duration": 4,
    "start_time": "2022-03-21T11:14:19.696Z"
   },
   {
    "duration": 16,
    "start_time": "2022-03-21T11:14:21.795Z"
   },
   {
    "duration": 4,
    "start_time": "2022-03-21T11:14:32.641Z"
   },
   {
    "duration": 34,
    "start_time": "2022-03-21T11:15:38.195Z"
   },
   {
    "duration": 35,
    "start_time": "2022-03-21T11:15:51.206Z"
   },
   {
    "duration": 17,
    "start_time": "2022-03-21T11:16:52.292Z"
   },
   {
    "duration": 1214,
    "start_time": "2022-03-21T11:17:30.837Z"
   },
   {
    "duration": 381,
    "start_time": "2022-03-21T11:17:32.054Z"
   },
   {
    "duration": 5,
    "start_time": "2022-03-21T11:17:32.438Z"
   },
   {
    "duration": 23,
    "start_time": "2022-03-21T11:17:32.445Z"
   },
   {
    "duration": 51,
    "start_time": "2022-03-21T11:17:32.471Z"
   },
   {
    "duration": 9,
    "start_time": "2022-03-21T11:17:32.524Z"
   },
   {
    "duration": 19,
    "start_time": "2022-03-21T11:17:32.534Z"
   },
   {
    "duration": 41,
    "start_time": "2022-03-21T11:17:32.555Z"
   },
   {
    "duration": 191,
    "start_time": "2022-03-21T11:17:32.598Z"
   },
   {
    "duration": 37,
    "start_time": "2022-03-21T11:17:32.791Z"
   },
   {
    "duration": 101,
    "start_time": "2022-03-21T11:17:32.830Z"
   },
   {
    "duration": 44,
    "start_time": "2022-03-21T11:17:32.933Z"
   },
   {
    "duration": 148,
    "start_time": "2022-03-21T11:17:32.979Z"
   },
   {
    "duration": 13,
    "start_time": "2022-03-21T11:17:33.132Z"
   },
   {
    "duration": 60,
    "start_time": "2022-03-21T11:17:33.148Z"
   },
   {
    "duration": 28,
    "start_time": "2022-03-21T11:17:33.210Z"
   },
   {
    "duration": 4,
    "start_time": "2022-03-21T11:17:33.240Z"
   },
   {
    "duration": 1118,
    "start_time": "2022-03-21T11:17:33.262Z"
   },
   {
    "duration": 6,
    "start_time": "2022-03-21T11:17:34.383Z"
   },
   {
    "duration": 23,
    "start_time": "2022-03-21T11:17:34.391Z"
   },
   {
    "duration": 48,
    "start_time": "2022-03-21T11:17:34.416Z"
   },
   {
    "duration": 9,
    "start_time": "2022-03-21T11:17:34.466Z"
   },
   {
    "duration": 26,
    "start_time": "2022-03-21T11:17:34.477Z"
   },
   {
    "duration": 1332,
    "start_time": "2022-03-21T11:17:34.505Z"
   },
   {
    "duration": 11,
    "start_time": "2022-03-21T11:17:35.839Z"
   },
   {
    "duration": 36,
    "start_time": "2022-03-21T11:17:35.862Z"
   },
   {
    "duration": 5,
    "start_time": "2022-03-21T11:17:35.900Z"
   },
   {
    "duration": 28,
    "start_time": "2022-03-21T11:17:35.906Z"
   },
   {
    "duration": 53,
    "start_time": "2022-03-21T11:17:35.936Z"
   },
   {
    "duration": 72,
    "start_time": "2022-03-21T11:17:35.991Z"
   },
   {
    "duration": 23,
    "start_time": "2022-03-21T11:17:36.065Z"
   },
   {
    "duration": 16,
    "start_time": "2022-03-21T11:17:36.090Z"
   },
   {
    "duration": 15,
    "start_time": "2022-03-21T11:17:36.108Z"
   },
   {
    "duration": 14,
    "start_time": "2022-03-21T11:17:36.125Z"
   },
   {
    "duration": 24,
    "start_time": "2022-03-21T11:17:36.140Z"
   },
   {
    "duration": 39,
    "start_time": "2022-03-21T11:17:36.166Z"
   },
   {
    "duration": 18,
    "start_time": "2022-03-21T11:17:36.208Z"
   },
   {
    "duration": 7,
    "start_time": "2022-03-21T11:17:36.228Z"
   },
   {
    "duration": 29,
    "start_time": "2022-03-21T11:17:36.237Z"
   },
   {
    "duration": 14,
    "start_time": "2022-03-21T11:17:36.268Z"
   },
   {
    "duration": 36,
    "start_time": "2022-03-21T11:17:36.286Z"
   },
   {
    "duration": 8,
    "start_time": "2022-03-21T11:17:36.324Z"
   },
   {
    "duration": 11,
    "start_time": "2022-03-21T11:17:36.334Z"
   },
   {
    "duration": 24,
    "start_time": "2022-03-21T11:17:36.346Z"
   },
   {
    "duration": 50,
    "start_time": "2022-03-21T11:17:36.372Z"
   },
   {
    "duration": 15,
    "start_time": "2022-03-21T11:17:36.425Z"
   },
   {
    "duration": 11,
    "start_time": "2022-03-21T11:17:36.442Z"
   },
   {
    "duration": 22,
    "start_time": "2022-03-21T11:17:36.455Z"
   },
   {
    "duration": 13,
    "start_time": "2022-03-21T11:17:36.479Z"
   },
   {
    "duration": 213,
    "start_time": "2022-03-21T11:17:36.495Z"
   },
   {
    "duration": 30,
    "start_time": "2022-03-21T11:17:36.710Z"
   },
   {
    "duration": 21,
    "start_time": "2022-03-21T11:17:36.742Z"
   },
   {
    "duration": 58,
    "start_time": "2022-03-21T11:17:36.766Z"
   },
   {
    "duration": 210,
    "start_time": "2022-03-21T11:17:51.862Z"
   },
   {
    "duration": 292,
    "start_time": "2022-03-21T11:19:31.496Z"
   },
   {
    "duration": 223,
    "start_time": "2022-03-21T11:20:39.825Z"
   },
   {
    "duration": 197,
    "start_time": "2022-03-21T11:20:59.122Z"
   },
   {
    "duration": 93,
    "start_time": "2022-03-21T11:23:35.927Z"
   },
   {
    "duration": 17,
    "start_time": "2022-03-21T11:23:46.654Z"
   },
   {
    "duration": 166,
    "start_time": "2022-03-21T11:24:06.991Z"
   },
   {
    "duration": 173,
    "start_time": "2022-03-21T11:24:42.407Z"
   },
   {
    "duration": 165,
    "start_time": "2022-03-21T11:25:06.407Z"
   },
   {
    "duration": 160,
    "start_time": "2022-03-21T11:25:36.088Z"
   },
   {
    "duration": 165,
    "start_time": "2022-03-21T11:26:13.820Z"
   },
   {
    "duration": 161,
    "start_time": "2022-03-21T11:26:23.077Z"
   },
   {
    "duration": 182,
    "start_time": "2022-03-21T11:26:29.066Z"
   },
   {
    "duration": 156,
    "start_time": "2022-03-21T11:27:17.582Z"
   },
   {
    "duration": 280,
    "start_time": "2022-03-21T11:27:22.335Z"
   },
   {
    "duration": 194,
    "start_time": "2022-03-21T11:27:39.150Z"
   },
   {
    "duration": 177,
    "start_time": "2022-03-21T11:27:43.427Z"
   },
   {
    "duration": 219,
    "start_time": "2022-03-21T11:28:28.508Z"
   },
   {
    "duration": 207,
    "start_time": "2022-03-21T11:28:35.540Z"
   },
   {
    "duration": 207,
    "start_time": "2022-03-21T11:28:53.678Z"
   },
   {
    "duration": 155,
    "start_time": "2022-03-21T11:30:08.120Z"
   },
   {
    "duration": 4,
    "start_time": "2022-03-21T11:33:38.073Z"
   },
   {
    "duration": 3,
    "start_time": "2022-03-21T11:36:48.474Z"
   },
   {
    "duration": 176,
    "start_time": "2022-03-21T11:37:41.344Z"
   },
   {
    "duration": 175,
    "start_time": "2022-03-21T11:37:57.801Z"
   },
   {
    "duration": 202,
    "start_time": "2022-03-21T11:38:35.155Z"
   },
   {
    "duration": 178,
    "start_time": "2022-03-21T11:39:06.037Z"
   },
   {
    "duration": 191,
    "start_time": "2022-03-21T11:42:23.910Z"
   },
   {
    "duration": 292,
    "start_time": "2022-03-21T11:42:29.126Z"
   },
   {
    "duration": 176,
    "start_time": "2022-03-21T11:42:34.210Z"
   },
   {
    "duration": 210,
    "start_time": "2022-03-21T11:43:26.925Z"
   },
   {
    "duration": 200,
    "start_time": "2022-03-21T11:43:32.344Z"
   },
   {
    "duration": 167,
    "start_time": "2022-03-21T11:44:12.825Z"
   },
   {
    "duration": 173,
    "start_time": "2022-03-21T11:45:20.035Z"
   },
   {
    "duration": 162,
    "start_time": "2022-03-21T11:45:32.499Z"
   },
   {
    "duration": 177,
    "start_time": "2022-03-21T11:45:49.308Z"
   },
   {
    "duration": 177,
    "start_time": "2022-03-21T11:45:53.683Z"
   },
   {
    "duration": 3,
    "start_time": "2022-03-21T11:46:36.652Z"
   },
   {
    "duration": 203,
    "start_time": "2022-03-21T11:46:39.228Z"
   },
   {
    "duration": 4,
    "start_time": "2022-03-21T11:46:45.485Z"
   },
   {
    "duration": 194,
    "start_time": "2022-03-21T11:46:48.516Z"
   },
   {
    "duration": 3,
    "start_time": "2022-03-21T11:47:01.253Z"
   },
   {
    "duration": 300,
    "start_time": "2022-03-21T11:47:03.620Z"
   },
   {
    "duration": 204,
    "start_time": "2022-03-21T11:47:23.422Z"
   },
   {
    "duration": 4,
    "start_time": "2022-03-21T11:47:32.387Z"
   },
   {
    "duration": 169,
    "start_time": "2022-03-21T11:47:43.863Z"
   },
   {
    "duration": 4,
    "start_time": "2022-03-21T11:47:52.406Z"
   },
   {
    "duration": 177,
    "start_time": "2022-03-21T11:47:54.881Z"
   },
   {
    "duration": 4,
    "start_time": "2022-03-21T11:48:07.814Z"
   },
   {
    "duration": 181,
    "start_time": "2022-03-21T11:48:10.025Z"
   },
   {
    "duration": 199,
    "start_time": "2022-03-21T11:48:17.021Z"
   },
   {
    "duration": 4,
    "start_time": "2022-03-21T11:48:28.131Z"
   },
   {
    "duration": 182,
    "start_time": "2022-03-21T11:48:30.394Z"
   },
   {
    "duration": 198,
    "start_time": "2022-03-21T11:48:38.088Z"
   },
   {
    "duration": 189,
    "start_time": "2022-03-21T11:48:52.112Z"
   },
   {
    "duration": 193,
    "start_time": "2022-03-21T11:49:07.192Z"
   },
   {
    "duration": 183,
    "start_time": "2022-03-21T11:49:19.545Z"
   },
   {
    "duration": 198,
    "start_time": "2022-03-21T11:49:58.499Z"
   },
   {
    "duration": 145,
    "start_time": "2022-03-21T11:52:38.393Z"
   },
   {
    "duration": 309,
    "start_time": "2022-03-21T11:58:19.188Z"
   },
   {
    "duration": 198,
    "start_time": "2022-03-21T11:59:20.226Z"
   },
   {
    "duration": 106,
    "start_time": "2022-03-21T12:11:22.269Z"
   },
   {
    "duration": 250,
    "start_time": "2022-03-21T12:11:36.319Z"
   },
   {
    "duration": 4,
    "start_time": "2022-03-21T12:12:32.670Z"
   },
   {
    "duration": 4,
    "start_time": "2022-03-21T12:12:33.353Z"
   },
   {
    "duration": 249,
    "start_time": "2022-03-21T12:12:35.115Z"
   },
   {
    "duration": 94,
    "start_time": "2022-03-21T12:23:36.907Z"
   },
   {
    "duration": 633,
    "start_time": "2022-03-21T12:23:48.169Z"
   },
   {
    "duration": 5,
    "start_time": "2022-03-21T12:25:31.457Z"
   },
   {
    "duration": 4,
    "start_time": "2022-03-21T12:25:39.552Z"
   },
   {
    "duration": 996,
    "start_time": "2022-03-21T12:27:00.539Z"
   },
   {
    "duration": 865,
    "start_time": "2022-03-21T12:27:57.452Z"
   },
   {
    "duration": 4,
    "start_time": "2022-03-21T12:28:32.124Z"
   },
   {
    "duration": 4,
    "start_time": "2022-03-21T12:29:10.725Z"
   },
   {
    "duration": 1171,
    "start_time": "2022-03-21T12:29:19.205Z"
   },
   {
    "duration": 167,
    "start_time": "2022-03-21T12:30:02.847Z"
   },
   {
    "duration": 1022,
    "start_time": "2022-03-21T12:30:05.992Z"
   },
   {
    "duration": 1511,
    "start_time": "2022-03-21T12:31:34.001Z"
   },
   {
    "duration": 1697,
    "start_time": "2022-03-21T12:32:47.900Z"
   },
   {
    "duration": 1770,
    "start_time": "2022-03-21T14:22:06.024Z"
   },
   {
    "duration": 420,
    "start_time": "2022-03-21T14:25:23.893Z"
   },
   {
    "duration": 423,
    "start_time": "2022-03-21T14:26:23.483Z"
   },
   {
    "duration": 4,
    "start_time": "2022-03-21T14:26:27.099Z"
   },
   {
    "duration": 845,
    "start_time": "2022-03-21T14:26:29.058Z"
   },
   {
    "duration": 4,
    "start_time": "2022-03-21T14:28:57.118Z"
   },
   {
    "duration": 4,
    "start_time": "2022-03-21T14:28:58.824Z"
   },
   {
    "duration": 755,
    "start_time": "2022-03-21T14:28:59.599Z"
   },
   {
    "duration": 732,
    "start_time": "2022-03-21T14:29:32.760Z"
   },
   {
    "duration": 3,
    "start_time": "2022-03-21T14:30:41.120Z"
   },
   {
    "duration": 5,
    "start_time": "2022-03-21T14:31:20.787Z"
   },
   {
    "duration": 5,
    "start_time": "2022-03-21T14:31:29.339Z"
   },
   {
    "duration": 4,
    "start_time": "2022-03-21T14:31:41.184Z"
   },
   {
    "duration": 583,
    "start_time": "2022-03-21T14:33:34.207Z"
   },
   {
    "duration": 976,
    "start_time": "2022-03-21T14:36:08.080Z"
   },
   {
    "duration": 797,
    "start_time": "2022-03-21T14:36:22.913Z"
   },
   {
    "duration": 4,
    "start_time": "2022-03-21T14:38:15.802Z"
   },
   {
    "duration": 94,
    "start_time": "2022-03-21T14:38:18.786Z"
   },
   {
    "duration": 149,
    "start_time": "2022-03-21T14:39:00.767Z"
   },
   {
    "duration": 4,
    "start_time": "2022-03-21T14:43:58.390Z"
   },
   {
    "duration": 3,
    "start_time": "2022-03-21T14:44:07.514Z"
   },
   {
    "duration": 761,
    "start_time": "2022-03-21T14:45:13.907Z"
   },
   {
    "duration": 936,
    "start_time": "2022-03-21T14:45:27.139Z"
   },
   {
    "duration": 711,
    "start_time": "2022-03-21T14:46:49.954Z"
   },
   {
    "duration": 798,
    "start_time": "2022-03-21T14:47:14.637Z"
   },
   {
    "duration": 1034,
    "start_time": "2022-03-21T14:47:32.414Z"
   },
   {
    "duration": 1022,
    "start_time": "2022-03-21T14:47:45.767Z"
   },
   {
    "duration": 1198,
    "start_time": "2022-03-21T14:49:17.996Z"
   },
   {
    "duration": 1443,
    "start_time": "2022-03-21T14:50:20.307Z"
   },
   {
    "duration": 1301,
    "start_time": "2022-03-21T14:51:18.124Z"
   },
   {
    "duration": 4,
    "start_time": "2022-03-21T14:52:03.897Z"
   },
   {
    "duration": 4,
    "start_time": "2022-03-21T14:52:11.238Z"
   },
   {
    "duration": 1379,
    "start_time": "2022-03-21T14:52:36.134Z"
   },
   {
    "duration": 4,
    "start_time": "2022-03-21T14:53:16.072Z"
   },
   {
    "duration": 1532,
    "start_time": "2022-03-21T14:53:18.375Z"
   },
   {
    "duration": 4,
    "start_time": "2022-03-21T14:53:48.071Z"
   },
   {
    "duration": 1379,
    "start_time": "2022-03-21T14:53:50.795Z"
   },
   {
    "duration": 1703,
    "start_time": "2022-03-21T14:54:26.568Z"
   },
   {
    "duration": 1519,
    "start_time": "2022-03-21T14:54:44.136Z"
   },
   {
    "duration": 4,
    "start_time": "2022-03-21T14:56:43.611Z"
   },
   {
    "duration": 4,
    "start_time": "2022-03-21T14:56:47.066Z"
   },
   {
    "duration": 1635,
    "start_time": "2022-03-21T14:58:35.614Z"
   },
   {
    "duration": 4,
    "start_time": "2022-03-21T14:58:50.293Z"
   },
   {
    "duration": 1659,
    "start_time": "2022-03-21T14:58:53.677Z"
   },
   {
    "duration": 788,
    "start_time": "2022-03-21T15:01:25.512Z"
   },
   {
    "duration": 775,
    "start_time": "2022-03-21T15:01:51.196Z"
   },
   {
    "duration": 1708,
    "start_time": "2022-03-21T15:02:10.105Z"
   },
   {
    "duration": 973,
    "start_time": "2022-03-21T15:03:00.802Z"
   },
   {
    "duration": 1677,
    "start_time": "2022-03-21T15:04:03.420Z"
   },
   {
    "duration": 153,
    "start_time": "2022-03-21T15:20:47.987Z"
   },
   {
    "duration": 621,
    "start_time": "2022-03-21T15:20:52.717Z"
   },
   {
    "duration": 677,
    "start_time": "2022-03-21T15:21:53.748Z"
   },
   {
    "duration": 873,
    "start_time": "2022-03-21T15:22:28.565Z"
   },
   {
    "duration": 793,
    "start_time": "2022-03-21T15:23:31.160Z"
   },
   {
    "duration": 399,
    "start_time": "2022-03-21T15:23:52.773Z"
   },
   {
    "duration": 570,
    "start_time": "2022-03-21T15:24:03.589Z"
   },
   {
    "duration": 1271,
    "start_time": "2022-03-21T15:33:05.934Z"
   },
   {
    "duration": 1517,
    "start_time": "2022-03-21T15:33:35.751Z"
   },
   {
    "duration": 1559,
    "start_time": "2022-03-21T15:35:24.733Z"
   },
   {
    "duration": 867,
    "start_time": "2022-03-21T15:44:34.270Z"
   },
   {
    "duration": 1217,
    "start_time": "2022-03-21T15:45:32.624Z"
   },
   {
    "duration": 383,
    "start_time": "2022-03-21T15:45:33.843Z"
   },
   {
    "duration": 3,
    "start_time": "2022-03-21T15:45:34.228Z"
   },
   {
    "duration": 7,
    "start_time": "2022-03-21T15:45:34.234Z"
   },
   {
    "duration": 27,
    "start_time": "2022-03-21T15:45:34.242Z"
   },
   {
    "duration": 7,
    "start_time": "2022-03-21T15:45:34.271Z"
   },
   {
    "duration": 9,
    "start_time": "2022-03-21T15:45:34.280Z"
   },
   {
    "duration": 11,
    "start_time": "2022-03-21T15:45:34.291Z"
   },
   {
    "duration": 161,
    "start_time": "2022-03-21T15:45:34.304Z"
   },
   {
    "duration": 34,
    "start_time": "2022-03-21T15:45:34.469Z"
   },
   {
    "duration": 88,
    "start_time": "2022-03-21T15:45:34.505Z"
   },
   {
    "duration": 24,
    "start_time": "2022-03-21T15:45:34.595Z"
   },
   {
    "duration": 120,
    "start_time": "2022-03-21T15:45:34.621Z"
   },
   {
    "duration": 9,
    "start_time": "2022-03-21T15:45:34.743Z"
   },
   {
    "duration": 28,
    "start_time": "2022-03-21T15:45:34.763Z"
   },
   {
    "duration": 18,
    "start_time": "2022-03-21T15:45:34.792Z"
   },
   {
    "duration": 3,
    "start_time": "2022-03-21T15:45:34.811Z"
   },
   {
    "duration": 686,
    "start_time": "2022-03-21T15:45:34.816Z"
   },
   {
    "duration": 4,
    "start_time": "2022-03-21T15:45:35.503Z"
   },
   {
    "duration": 18,
    "start_time": "2022-03-21T15:45:35.508Z"
   },
   {
    "duration": 39,
    "start_time": "2022-03-21T15:45:35.528Z"
   },
   {
    "duration": 8,
    "start_time": "2022-03-21T15:45:35.569Z"
   },
   {
    "duration": 19,
    "start_time": "2022-03-21T15:45:35.578Z"
   },
   {
    "duration": 903,
    "start_time": "2022-03-21T15:45:35.598Z"
   },
   {
    "duration": 8,
    "start_time": "2022-03-21T15:45:36.503Z"
   },
   {
    "duration": 39,
    "start_time": "2022-03-21T15:45:36.513Z"
   },
   {
    "duration": 11,
    "start_time": "2022-03-21T15:45:36.553Z"
   },
   {
    "duration": 5,
    "start_time": "2022-03-21T15:45:36.568Z"
   },
   {
    "duration": 52,
    "start_time": "2022-03-21T15:45:36.574Z"
   },
   {
    "duration": 83,
    "start_time": "2022-03-21T15:45:36.627Z"
   },
   {
    "duration": 21,
    "start_time": "2022-03-21T15:45:36.712Z"
   },
   {
    "duration": 9,
    "start_time": "2022-03-21T15:45:36.734Z"
   },
   {
    "duration": 23,
    "start_time": "2022-03-21T15:45:36.745Z"
   },
   {
    "duration": 11,
    "start_time": "2022-03-21T15:45:36.770Z"
   },
   {
    "duration": 7,
    "start_time": "2022-03-21T15:45:36.783Z"
   },
   {
    "duration": 24,
    "start_time": "2022-03-21T15:45:36.791Z"
   },
   {
    "duration": 19,
    "start_time": "2022-03-21T15:45:36.816Z"
   },
   {
    "duration": 30,
    "start_time": "2022-03-21T15:45:36.836Z"
   },
   {
    "duration": 8,
    "start_time": "2022-03-21T15:45:36.868Z"
   },
   {
    "duration": 8,
    "start_time": "2022-03-21T15:45:36.878Z"
   },
   {
    "duration": 17,
    "start_time": "2022-03-21T15:45:36.887Z"
   },
   {
    "duration": 6,
    "start_time": "2022-03-21T15:45:36.906Z"
   },
   {
    "duration": 8,
    "start_time": "2022-03-21T15:45:36.914Z"
   },
   {
    "duration": 40,
    "start_time": "2022-03-21T15:45:36.923Z"
   },
   {
    "duration": 40,
    "start_time": "2022-03-21T15:45:36.965Z"
   },
   {
    "duration": 5,
    "start_time": "2022-03-21T15:45:37.007Z"
   },
   {
    "duration": 7,
    "start_time": "2022-03-21T15:45:37.013Z"
   },
   {
    "duration": 6,
    "start_time": "2022-03-21T15:45:37.022Z"
   },
   {
    "duration": 7,
    "start_time": "2022-03-21T15:45:37.030Z"
   },
   {
    "duration": 125,
    "start_time": "2022-03-21T15:45:37.038Z"
   },
   {
    "duration": 18,
    "start_time": "2022-03-21T15:45:37.164Z"
   },
   {
    "duration": 9,
    "start_time": "2022-03-21T15:45:37.183Z"
   },
   {
    "duration": 11,
    "start_time": "2022-03-21T15:45:37.193Z"
   },
   {
    "duration": 37,
    "start_time": "2022-03-21T15:45:37.206Z"
   },
   {
    "duration": 2078,
    "start_time": "2022-03-21T15:45:37.245Z"
   },
   {
    "duration": 8,
    "start_time": "2022-03-21T15:49:43.898Z"
   },
   {
    "duration": 95,
    "start_time": "2022-03-21T15:50:30.084Z"
   },
   {
    "duration": 8,
    "start_time": "2022-03-21T15:50:42.260Z"
   },
   {
    "duration": 742,
    "start_time": "2022-03-21T15:52:50.067Z"
   },
   {
    "duration": 1505,
    "start_time": "2022-03-21T15:57:40.929Z"
   },
   {
    "duration": 15,
    "start_time": "2022-03-21T16:00:04.188Z"
   },
   {
    "duration": 4,
    "start_time": "2022-03-21T16:16:18.374Z"
   },
   {
    "duration": 2455,
    "start_time": "2022-03-21T16:16:20.899Z"
   },
   {
    "duration": 4,
    "start_time": "2022-03-21T16:16:44.359Z"
   },
   {
    "duration": 1471,
    "start_time": "2022-03-21T16:16:46.995Z"
   },
   {
    "duration": 144,
    "start_time": "2022-03-21T16:17:33.221Z"
   },
   {
    "duration": 33,
    "start_time": "2022-03-21T16:17:50.666Z"
   },
   {
    "duration": 1595,
    "start_time": "2022-03-21T16:17:54.136Z"
   },
   {
    "duration": 36,
    "start_time": "2022-03-21T16:18:32.180Z"
   },
   {
    "duration": 1610,
    "start_time": "2022-03-21T16:18:35.393Z"
   },
   {
    "duration": 3,
    "start_time": "2022-03-21T16:18:48.165Z"
   },
   {
    "duration": 1504,
    "start_time": "2022-03-21T16:18:50.426Z"
   },
   {
    "duration": 4,
    "start_time": "2022-03-21T16:30:41.202Z"
   },
   {
    "duration": 1765,
    "start_time": "2022-03-21T16:30:43.634Z"
   },
   {
    "duration": 4,
    "start_time": "2022-03-21T16:31:08.609Z"
   },
   {
    "duration": 1589,
    "start_time": "2022-03-21T16:31:12.258Z"
   },
   {
    "duration": 5,
    "start_time": "2022-03-21T16:40:54.290Z"
   },
   {
    "duration": 2196,
    "start_time": "2022-03-21T16:40:56.927Z"
   },
   {
    "duration": 4,
    "start_time": "2022-03-21T16:49:51.413Z"
   },
   {
    "duration": 319,
    "start_time": "2022-03-21T16:49:53.909Z"
   },
   {
    "duration": 4,
    "start_time": "2022-03-21T16:50:18.086Z"
   },
   {
    "duration": 1605,
    "start_time": "2022-03-21T16:50:20.535Z"
   },
   {
    "duration": 1399,
    "start_time": "2022-03-22T04:47:38.717Z"
   },
   {
    "duration": 424,
    "start_time": "2022-03-22T04:47:40.119Z"
   },
   {
    "duration": 4,
    "start_time": "2022-03-22T04:47:40.545Z"
   },
   {
    "duration": 6,
    "start_time": "2022-03-22T04:47:40.551Z"
   },
   {
    "duration": 29,
    "start_time": "2022-03-22T04:47:40.560Z"
   },
   {
    "duration": 9,
    "start_time": "2022-03-22T04:47:40.602Z"
   },
   {
    "duration": 7,
    "start_time": "2022-03-22T04:47:40.613Z"
   },
   {
    "duration": 13,
    "start_time": "2022-03-22T04:47:40.622Z"
   },
   {
    "duration": 196,
    "start_time": "2022-03-22T04:47:40.637Z"
   },
   {
    "duration": 38,
    "start_time": "2022-03-22T04:47:40.836Z"
   },
   {
    "duration": 97,
    "start_time": "2022-03-22T04:47:40.876Z"
   },
   {
    "duration": 48,
    "start_time": "2022-03-22T04:47:40.975Z"
   },
   {
    "duration": 119,
    "start_time": "2022-03-22T04:47:41.025Z"
   },
   {
    "duration": 11,
    "start_time": "2022-03-22T04:47:41.147Z"
   },
   {
    "duration": 53,
    "start_time": "2022-03-22T04:47:41.159Z"
   },
   {
    "duration": 20,
    "start_time": "2022-03-22T04:47:41.213Z"
   },
   {
    "duration": 4,
    "start_time": "2022-03-22T04:47:41.235Z"
   },
   {
    "duration": 785,
    "start_time": "2022-03-22T04:47:41.241Z"
   },
   {
    "duration": 4,
    "start_time": "2022-03-22T04:47:42.029Z"
   },
   {
    "duration": 18,
    "start_time": "2022-03-22T04:47:42.036Z"
   },
   {
    "duration": 51,
    "start_time": "2022-03-22T04:47:42.056Z"
   },
   {
    "duration": 10,
    "start_time": "2022-03-22T04:47:42.109Z"
   },
   {
    "duration": 20,
    "start_time": "2022-03-22T04:47:42.121Z"
   },
   {
    "duration": 930,
    "start_time": "2022-03-22T04:47:42.143Z"
   },
   {
    "duration": 8,
    "start_time": "2022-03-22T04:47:43.076Z"
   },
   {
    "duration": 33,
    "start_time": "2022-03-22T04:47:43.102Z"
   },
   {
    "duration": 5,
    "start_time": "2022-03-22T04:47:43.137Z"
   },
   {
    "duration": 7,
    "start_time": "2022-03-22T04:47:43.144Z"
   },
   {
    "duration": 77,
    "start_time": "2022-03-22T04:47:43.154Z"
   },
   {
    "duration": 78,
    "start_time": "2022-03-22T04:47:43.233Z"
   },
   {
    "duration": 22,
    "start_time": "2022-03-22T04:47:43.314Z"
   },
   {
    "duration": 9,
    "start_time": "2022-03-22T04:47:43.338Z"
   },
   {
    "duration": 8,
    "start_time": "2022-03-22T04:47:43.349Z"
   },
   {
    "duration": 42,
    "start_time": "2022-03-22T04:47:43.358Z"
   },
   {
    "duration": 5,
    "start_time": "2022-03-22T04:47:43.402Z"
   },
   {
    "duration": 28,
    "start_time": "2022-03-22T04:47:43.408Z"
   },
   {
    "duration": 20,
    "start_time": "2022-03-22T04:47:43.438Z"
   },
   {
    "duration": 6,
    "start_time": "2022-03-22T04:47:43.460Z"
   },
   {
    "duration": 10,
    "start_time": "2022-03-22T04:47:43.500Z"
   },
   {
    "duration": 10,
    "start_time": "2022-03-22T04:47:43.512Z"
   },
   {
    "duration": 25,
    "start_time": "2022-03-22T04:47:43.527Z"
   },
   {
    "duration": 8,
    "start_time": "2022-03-22T04:47:43.554Z"
   },
   {
    "duration": 10,
    "start_time": "2022-03-22T04:47:43.565Z"
   },
   {
    "duration": 26,
    "start_time": "2022-03-22T04:47:43.577Z"
   },
   {
    "duration": 30,
    "start_time": "2022-03-22T04:47:43.605Z"
   },
   {
    "duration": 7,
    "start_time": "2022-03-22T04:47:43.637Z"
   },
   {
    "duration": 12,
    "start_time": "2022-03-22T04:47:43.647Z"
   },
   {
    "duration": 15,
    "start_time": "2022-03-22T04:47:43.661Z"
   },
   {
    "duration": 28,
    "start_time": "2022-03-22T04:47:43.678Z"
   },
   {
    "duration": 129,
    "start_time": "2022-03-22T04:47:43.708Z"
   },
   {
    "duration": 19,
    "start_time": "2022-03-22T04:47:43.839Z"
   },
   {
    "duration": 13,
    "start_time": "2022-03-22T04:47:43.860Z"
   },
   {
    "duration": 18,
    "start_time": "2022-03-22T04:47:43.875Z"
   },
   {
    "duration": 50,
    "start_time": "2022-03-22T04:47:43.895Z"
   },
   {
    "duration": 1683,
    "start_time": "2022-03-22T04:47:43.947Z"
   },
   {
    "duration": 19,
    "start_time": "2022-03-22T04:47:45.632Z"
   },
   {
    "duration": 42,
    "start_time": "2022-03-22T04:52:50.412Z"
   },
   {
    "duration": 98,
    "start_time": "2022-03-22T05:02:40.966Z"
   },
   {
    "duration": 9,
    "start_time": "2022-03-22T05:02:47.255Z"
   },
   {
    "duration": 14,
    "start_time": "2022-03-22T05:02:50.533Z"
   },
   {
    "duration": 2017,
    "start_time": "2022-03-22T05:02:58.611Z"
   },
   {
    "duration": 38,
    "start_time": "2022-03-22T05:03:17.610Z"
   },
   {
    "duration": 9,
    "start_time": "2022-03-22T05:04:32.082Z"
   },
   {
    "duration": 41,
    "start_time": "2022-03-22T05:09:31.994Z"
   },
   {
    "duration": 5,
    "start_time": "2022-03-22T05:29:42.402Z"
   },
   {
    "duration": 12,
    "start_time": "2022-03-22T05:29:52.000Z"
   },
   {
    "duration": 13,
    "start_time": "2022-03-22T05:31:07.855Z"
   },
   {
    "duration": 35,
    "start_time": "2022-03-22T05:58:44.858Z"
   },
   {
    "duration": 36,
    "start_time": "2022-03-22T05:59:08.558Z"
   },
   {
    "duration": 38,
    "start_time": "2022-03-22T05:59:32.860Z"
   },
   {
    "duration": 11,
    "start_time": "2022-03-22T06:03:01.145Z"
   },
   {
    "duration": 1575,
    "start_time": "2022-03-22T06:05:49.534Z"
   },
   {
    "duration": 14,
    "start_time": "2022-03-22T06:06:20.330Z"
   },
   {
    "duration": 39,
    "start_time": "2022-03-22T06:33:30.866Z"
   },
   {
    "duration": 39,
    "start_time": "2022-03-22T06:33:56.455Z"
   },
   {
    "duration": 1627,
    "start_time": "2022-03-22T06:36:25.077Z"
   },
   {
    "duration": 13,
    "start_time": "2022-03-22T06:37:27.966Z"
   },
   {
    "duration": 42,
    "start_time": "2022-03-22T06:44:36.879Z"
   },
   {
    "duration": 37,
    "start_time": "2022-03-22T06:45:15.360Z"
   },
   {
    "duration": 157,
    "start_time": "2022-03-22T06:47:07.388Z"
   },
   {
    "duration": 39,
    "start_time": "2022-03-22T06:47:12.180Z"
   },
   {
    "duration": 3,
    "start_time": "2022-03-22T08:11:18.703Z"
   },
   {
    "duration": 37,
    "start_time": "2022-03-22T08:16:17.934Z"
   },
   {
    "duration": 39,
    "start_time": "2022-03-22T08:17:12.340Z"
   },
   {
    "duration": 10,
    "start_time": "2022-03-22T08:17:26.685Z"
   },
   {
    "duration": 15,
    "start_time": "2022-03-22T08:17:36.901Z"
   },
   {
    "duration": 9,
    "start_time": "2022-03-22T08:17:42.286Z"
   },
   {
    "duration": 10,
    "start_time": "2022-03-22T08:17:52.852Z"
   },
   {
    "duration": 161,
    "start_time": "2022-03-22T08:19:05.471Z"
   },
   {
    "duration": 209,
    "start_time": "2022-03-22T08:19:18.200Z"
   },
   {
    "duration": 192,
    "start_time": "2022-03-22T08:19:37.959Z"
   },
   {
    "duration": 167,
    "start_time": "2022-03-22T08:20:13.066Z"
   },
   {
    "duration": 12,
    "start_time": "2022-03-22T08:20:36.576Z"
   },
   {
    "duration": 238,
    "start_time": "2022-03-22T08:20:47.232Z"
   },
   {
    "duration": 1258,
    "start_time": "2022-03-22T08:23:31.716Z"
   },
   {
    "duration": 21,
    "start_time": "2022-03-22T08:23:55.695Z"
   },
   {
    "duration": 170,
    "start_time": "2022-03-22T08:24:14.151Z"
   },
   {
    "duration": 18,
    "start_time": "2022-03-22T08:24:46.047Z"
   },
   {
    "duration": 18,
    "start_time": "2022-03-22T08:25:10.062Z"
   },
   {
    "duration": 17,
    "start_time": "2022-03-22T08:25:19.754Z"
   },
   {
    "duration": 302,
    "start_time": "2022-03-22T08:26:00.339Z"
   },
   {
    "duration": 162,
    "start_time": "2022-03-22T08:26:09.695Z"
   },
   {
    "duration": 5,
    "start_time": "2022-03-22T08:30:29.782Z"
   },
   {
    "duration": 224,
    "start_time": "2022-03-22T08:31:12.841Z"
   },
   {
    "duration": 14,
    "start_time": "2022-03-22T08:34:41.887Z"
   },
   {
    "duration": 8,
    "start_time": "2022-03-22T08:35:28.917Z"
   },
   {
    "duration": 13,
    "start_time": "2022-03-22T08:39:49.819Z"
   },
   {
    "duration": 13,
    "start_time": "2022-03-22T08:40:35.002Z"
   },
   {
    "duration": 14,
    "start_time": "2022-03-22T08:46:06.642Z"
   },
   {
    "duration": 349,
    "start_time": "2022-03-22T08:48:14.796Z"
   },
   {
    "duration": 15,
    "start_time": "2022-03-22T08:48:18.069Z"
   },
   {
    "duration": 7,
    "start_time": "2022-03-22T08:51:28.483Z"
   },
   {
    "duration": 22,
    "start_time": "2022-03-22T08:59:40.400Z"
   },
   {
    "duration": 303,
    "start_time": "2022-03-22T08:59:57.937Z"
   },
   {
    "duration": 18,
    "start_time": "2022-03-22T09:00:27.109Z"
   },
   {
    "duration": 20,
    "start_time": "2022-03-22T09:01:15.226Z"
   },
   {
    "duration": 18,
    "start_time": "2022-03-22T09:01:27.527Z"
   },
   {
    "duration": 13,
    "start_time": "2022-03-22T09:03:36.511Z"
   },
   {
    "duration": 11,
    "start_time": "2022-03-22T09:03:43.635Z"
   },
   {
    "duration": 4,
    "start_time": "2022-03-22T09:03:49.124Z"
   },
   {
    "duration": 13,
    "start_time": "2022-03-22T09:07:59.914Z"
   },
   {
    "duration": 12,
    "start_time": "2022-03-22T09:08:25.943Z"
   },
   {
    "duration": 12,
    "start_time": "2022-03-22T09:11:25.227Z"
   },
   {
    "duration": 11,
    "start_time": "2022-03-22T09:20:27.776Z"
   },
   {
    "duration": 12,
    "start_time": "2022-03-22T09:20:39.322Z"
   },
   {
    "duration": 13,
    "start_time": "2022-03-22T09:21:00.802Z"
   },
   {
    "duration": 3,
    "start_time": "2022-03-22T10:05:39.007Z"
   },
   {
    "duration": 21,
    "start_time": "2022-03-22T10:07:15.432Z"
   },
   {
    "duration": 21,
    "start_time": "2022-03-22T10:08:54.203Z"
   },
   {
    "duration": 31,
    "start_time": "2022-03-22T10:09:52.779Z"
   },
   {
    "duration": 242,
    "start_time": "2022-03-22T10:11:06.766Z"
   },
   {
    "duration": 1283,
    "start_time": "2022-03-22T10:11:10.109Z"
   },
   {
    "duration": 21,
    "start_time": "2022-03-22T10:11:40.167Z"
   },
   {
    "duration": 21,
    "start_time": "2022-03-22T10:12:12.059Z"
   },
   {
    "duration": 221,
    "start_time": "2022-03-22T10:12:26.346Z"
   },
   {
    "duration": 16,
    "start_time": "2022-03-22T10:12:29.614Z"
   },
   {
    "duration": 239,
    "start_time": "2022-03-22T10:13:29.059Z"
   },
   {
    "duration": 25,
    "start_time": "2022-03-22T10:13:35.035Z"
   },
   {
    "duration": 27,
    "start_time": "2022-03-22T10:13:57.336Z"
   },
   {
    "duration": 302,
    "start_time": "2022-03-22T10:14:28.209Z"
   },
   {
    "duration": 23,
    "start_time": "2022-03-22T10:14:41.737Z"
   },
   {
    "duration": 5,
    "start_time": "2022-03-22T10:18:09.878Z"
   },
   {
    "duration": 32,
    "start_time": "2022-03-22T10:18:17.566Z"
   },
   {
    "duration": 33,
    "start_time": "2022-03-22T10:18:41.838Z"
   },
   {
    "duration": 5,
    "start_time": "2022-03-22T10:20:50.034Z"
   },
   {
    "duration": 18,
    "start_time": "2022-03-22T10:21:07.850Z"
   },
   {
    "duration": 13,
    "start_time": "2022-03-22T10:25:13.076Z"
   },
   {
    "duration": 35,
    "start_time": "2022-03-22T10:32:43.849Z"
   },
   {
    "duration": 21,
    "start_time": "2022-03-22T10:33:08.398Z"
   },
   {
    "duration": 8,
    "start_time": "2022-03-22T10:33:16.275Z"
   },
   {
    "duration": 8,
    "start_time": "2022-03-22T10:33:36.258Z"
   },
   {
    "duration": 15,
    "start_time": "2022-03-22T10:34:14.763Z"
   },
   {
    "duration": 12,
    "start_time": "2022-03-22T10:34:36.619Z"
   },
   {
    "duration": 300,
    "start_time": "2022-03-22T11:02:27.147Z"
   },
   {
    "duration": 22,
    "start_time": "2022-03-22T11:02:36.041Z"
   },
   {
    "duration": 21,
    "start_time": "2022-03-22T11:03:04.643Z"
   },
   {
    "duration": 8,
    "start_time": "2022-03-22T11:04:10.155Z"
   },
   {
    "duration": 4,
    "start_time": "2022-03-22T11:04:13.602Z"
   },
   {
    "duration": 20,
    "start_time": "2022-03-22T11:04:14.373Z"
   },
   {
    "duration": 8,
    "start_time": "2022-03-22T11:04:15.188Z"
   },
   {
    "duration": 685,
    "start_time": "2022-03-22T11:04:42.403Z"
   },
   {
    "duration": 324,
    "start_time": "2022-03-22T11:05:00.711Z"
   },
   {
    "duration": 12,
    "start_time": "2022-03-22T11:23:18.789Z"
   },
   {
    "duration": 13,
    "start_time": "2022-03-22T11:23:27.247Z"
   },
   {
    "duration": 12,
    "start_time": "2022-03-22T11:23:33.037Z"
   },
   {
    "duration": 261,
    "start_time": "2022-03-22T11:23:42.597Z"
   },
   {
    "duration": 12,
    "start_time": "2022-03-22T11:23:45.205Z"
   },
   {
    "duration": 14,
    "start_time": "2022-03-22T11:24:05.565Z"
   },
   {
    "duration": 12,
    "start_time": "2022-03-22T11:24:12.630Z"
   },
   {
    "duration": 39,
    "start_time": "2022-03-22T11:36:38.430Z"
   },
   {
    "duration": 37,
    "start_time": "2022-03-22T11:36:53.826Z"
   },
   {
    "duration": 1785,
    "start_time": "2022-03-22T11:41:52.189Z"
   },
   {
    "duration": 21,
    "start_time": "2022-03-22T11:42:28.106Z"
   },
   {
    "duration": 441,
    "start_time": "2022-03-22T11:47:09.991Z"
   },
   {
    "duration": 43,
    "start_time": "2022-03-22T11:47:12.613Z"
   },
   {
    "duration": 41,
    "start_time": "2022-03-22T12:01:14.602Z"
   },
   {
    "duration": 14,
    "start_time": "2022-03-22T12:09:25.606Z"
   },
   {
    "duration": 13,
    "start_time": "2022-03-22T12:09:53.982Z"
   },
   {
    "duration": 1738,
    "start_time": "2022-03-22T12:40:33.171Z"
   },
   {
    "duration": 431,
    "start_time": "2022-03-22T12:40:34.911Z"
   },
   {
    "duration": 6,
    "start_time": "2022-03-22T12:40:35.344Z"
   },
   {
    "duration": 13,
    "start_time": "2022-03-22T12:40:35.352Z"
   },
   {
    "duration": 39,
    "start_time": "2022-03-22T12:40:35.369Z"
   },
   {
    "duration": 9,
    "start_time": "2022-03-22T12:40:35.409Z"
   },
   {
    "duration": 6,
    "start_time": "2022-03-22T12:40:35.419Z"
   },
   {
    "duration": 10,
    "start_time": "2022-03-22T12:40:35.427Z"
   },
   {
    "duration": 15,
    "start_time": "2022-03-22T12:40:35.438Z"
   },
   {
    "duration": 183,
    "start_time": "2022-03-22T12:40:35.455Z"
   },
   {
    "duration": 38,
    "start_time": "2022-03-22T12:40:35.640Z"
   },
   {
    "duration": 77,
    "start_time": "2022-03-22T12:40:35.702Z"
   },
   {
    "duration": 38,
    "start_time": "2022-03-22T12:40:35.781Z"
   },
   {
    "duration": 133,
    "start_time": "2022-03-22T12:40:35.821Z"
   },
   {
    "duration": 13,
    "start_time": "2022-03-22T12:40:35.956Z"
   },
   {
    "duration": 48,
    "start_time": "2022-03-22T12:40:35.971Z"
   },
   {
    "duration": 21,
    "start_time": "2022-03-22T12:40:36.021Z"
   },
   {
    "duration": 4,
    "start_time": "2022-03-22T12:40:36.043Z"
   },
   {
    "duration": 756,
    "start_time": "2022-03-22T12:40:36.049Z"
   },
   {
    "duration": 5,
    "start_time": "2022-03-22T12:40:36.806Z"
   },
   {
    "duration": 20,
    "start_time": "2022-03-22T12:40:36.813Z"
   },
   {
    "duration": 31,
    "start_time": "2022-03-22T12:40:36.834Z"
   },
   {
    "duration": 38,
    "start_time": "2022-03-22T12:40:36.867Z"
   },
   {
    "duration": 21,
    "start_time": "2022-03-22T12:40:36.907Z"
   },
   {
    "duration": 933,
    "start_time": "2022-03-22T12:40:36.930Z"
   },
   {
    "duration": 9,
    "start_time": "2022-03-22T12:40:37.865Z"
   },
   {
    "duration": 52,
    "start_time": "2022-03-22T12:40:37.876Z"
   },
   {
    "duration": 4,
    "start_time": "2022-03-22T12:40:37.931Z"
   },
   {
    "duration": 10,
    "start_time": "2022-03-22T12:40:37.937Z"
   },
   {
    "duration": 82,
    "start_time": "2022-03-22T12:40:37.949Z"
   },
   {
    "duration": 80,
    "start_time": "2022-03-22T12:40:38.033Z"
   },
   {
    "duration": 22,
    "start_time": "2022-03-22T12:40:38.115Z"
   },
   {
    "duration": 10,
    "start_time": "2022-03-22T12:40:38.139Z"
   },
   {
    "duration": 14,
    "start_time": "2022-03-22T12:40:38.150Z"
   },
   {
    "duration": 44,
    "start_time": "2022-03-22T12:40:38.167Z"
   },
   {
    "duration": 7,
    "start_time": "2022-03-22T12:40:38.213Z"
   },
   {
    "duration": 26,
    "start_time": "2022-03-22T12:40:38.222Z"
   },
   {
    "duration": 22,
    "start_time": "2022-03-22T12:40:38.250Z"
   },
   {
    "duration": 6,
    "start_time": "2022-03-22T12:40:38.302Z"
   },
   {
    "duration": 15,
    "start_time": "2022-03-22T12:40:38.310Z"
   },
   {
    "duration": 8,
    "start_time": "2022-03-22T12:40:38.327Z"
   },
   {
    "duration": 21,
    "start_time": "2022-03-22T12:40:38.336Z"
   },
   {
    "duration": 9,
    "start_time": "2022-03-22T12:40:38.358Z"
   },
   {
    "duration": 34,
    "start_time": "2022-03-22T12:40:38.369Z"
   },
   {
    "duration": 7,
    "start_time": "2022-03-22T12:40:38.405Z"
   },
   {
    "duration": 34,
    "start_time": "2022-03-22T12:40:38.414Z"
   },
   {
    "duration": 5,
    "start_time": "2022-03-22T12:40:38.449Z"
   },
   {
    "duration": 11,
    "start_time": "2022-03-22T12:40:38.456Z"
   },
   {
    "duration": 10,
    "start_time": "2022-03-22T12:40:38.469Z"
   },
   {
    "duration": 22,
    "start_time": "2022-03-22T12:40:38.481Z"
   },
   {
    "duration": 133,
    "start_time": "2022-03-22T12:40:38.505Z"
   },
   {
    "duration": 19,
    "start_time": "2022-03-22T12:40:38.639Z"
   },
   {
    "duration": 9,
    "start_time": "2022-03-22T12:40:38.660Z"
   },
   {
    "duration": 10,
    "start_time": "2022-03-22T12:40:38.671Z"
   },
   {
    "duration": 56,
    "start_time": "2022-03-22T12:40:38.683Z"
   },
   {
    "duration": 1833,
    "start_time": "2022-03-22T12:40:38.741Z"
   },
   {
    "duration": 16,
    "start_time": "2022-03-22T12:40:40.577Z"
   },
   {
    "duration": 42,
    "start_time": "2022-03-22T12:40:40.595Z"
   },
   {
    "duration": 1651,
    "start_time": "2022-03-22T12:40:40.639Z"
   },
   {
    "duration": 21,
    "start_time": "2022-03-22T12:40:42.292Z"
   },
   {
    "duration": 40,
    "start_time": "2022-03-22T12:40:42.316Z"
   },
   {
    "duration": 1698,
    "start_time": "2022-03-22T12:40:42.358Z"
   },
   {
    "duration": 14,
    "start_time": "2022-03-22T12:40:44.058Z"
   },
   {
    "duration": 55,
    "start_time": "2022-03-22T12:40:44.074Z"
   },
   {
    "duration": 1820,
    "start_time": "2022-03-22T12:40:44.131Z"
   },
   {
    "duration": 16,
    "start_time": "2022-03-22T12:40:45.953Z"
   },
   {
    "duration": 34,
    "start_time": "2022-03-22T12:40:45.972Z"
   },
   {
    "duration": 20,
    "start_time": "2022-03-22T12:40:46.008Z"
   },
   {
    "duration": 20,
    "start_time": "2022-03-22T12:40:46.030Z"
   },
   {
    "duration": 7,
    "start_time": "2022-03-22T12:40:46.053Z"
   },
   {
    "duration": 48,
    "start_time": "2022-03-22T12:40:46.062Z"
   },
   {
    "duration": 14,
    "start_time": "2022-03-22T12:40:46.112Z"
   },
   {
    "duration": 4,
    "start_time": "2022-03-22T12:40:46.128Z"
   },
   {
    "duration": 27,
    "start_time": "2022-03-22T12:40:46.134Z"
   },
   {
    "duration": 8,
    "start_time": "2022-03-22T12:40:46.164Z"
   },
   {
    "duration": 38,
    "start_time": "2022-03-22T12:40:46.174Z"
   },
   {
    "duration": 16,
    "start_time": "2022-03-22T12:40:46.214Z"
   },
   {
    "duration": 1409,
    "start_time": "2022-03-22T14:09:30.304Z"
   },
   {
    "duration": 417,
    "start_time": "2022-03-22T14:09:31.715Z"
   },
   {
    "duration": 4,
    "start_time": "2022-03-22T14:09:32.134Z"
   },
   {
    "duration": 20,
    "start_time": "2022-03-22T14:09:32.140Z"
   },
   {
    "duration": 38,
    "start_time": "2022-03-22T14:09:32.163Z"
   },
   {
    "duration": 8,
    "start_time": "2022-03-22T14:09:32.203Z"
   },
   {
    "duration": 10,
    "start_time": "2022-03-22T14:09:32.213Z"
   },
   {
    "duration": 16,
    "start_time": "2022-03-22T14:09:32.225Z"
   },
   {
    "duration": 21,
    "start_time": "2022-03-22T14:09:32.243Z"
   },
   {
    "duration": 167,
    "start_time": "2022-03-22T14:09:32.266Z"
   },
   {
    "duration": 37,
    "start_time": "2022-03-22T14:09:32.435Z"
   },
   {
    "duration": 93,
    "start_time": "2022-03-22T14:09:32.474Z"
   },
   {
    "duration": 41,
    "start_time": "2022-03-22T14:09:32.569Z"
   },
   {
    "duration": 125,
    "start_time": "2022-03-22T14:09:32.613Z"
   },
   {
    "duration": 10,
    "start_time": "2022-03-22T14:09:32.740Z"
   },
   {
    "duration": 53,
    "start_time": "2022-03-22T14:09:32.753Z"
   },
   {
    "duration": 24,
    "start_time": "2022-03-22T14:09:32.808Z"
   },
   {
    "duration": 4,
    "start_time": "2022-03-22T14:09:32.835Z"
   },
   {
    "duration": 754,
    "start_time": "2022-03-22T14:09:32.841Z"
   },
   {
    "duration": 5,
    "start_time": "2022-03-22T14:09:33.600Z"
   },
   {
    "duration": 22,
    "start_time": "2022-03-22T14:09:33.607Z"
   },
   {
    "duration": 31,
    "start_time": "2022-03-22T14:09:33.630Z"
   },
   {
    "duration": 9,
    "start_time": "2022-03-22T14:09:33.663Z"
   },
   {
    "duration": 22,
    "start_time": "2022-03-22T14:09:33.701Z"
   },
   {
    "duration": 908,
    "start_time": "2022-03-22T14:09:33.725Z"
   },
   {
    "duration": 9,
    "start_time": "2022-03-22T14:09:34.635Z"
   },
   {
    "duration": 35,
    "start_time": "2022-03-22T14:09:34.646Z"
   },
   {
    "duration": 22,
    "start_time": "2022-03-22T14:09:34.683Z"
   },
   {
    "duration": 8,
    "start_time": "2022-03-22T14:09:34.707Z"
   },
   {
    "duration": 57,
    "start_time": "2022-03-22T14:09:34.716Z"
   },
   {
    "duration": 85,
    "start_time": "2022-03-22T14:09:34.775Z"
   },
   {
    "duration": 23,
    "start_time": "2022-03-22T14:09:34.862Z"
   },
   {
    "duration": 10,
    "start_time": "2022-03-22T14:09:34.901Z"
   },
   {
    "duration": 15,
    "start_time": "2022-03-22T14:09:34.913Z"
   },
   {
    "duration": 12,
    "start_time": "2022-03-22T14:09:34.930Z"
   },
   {
    "duration": 10,
    "start_time": "2022-03-22T14:09:34.944Z"
   },
   {
    "duration": 50,
    "start_time": "2022-03-22T14:09:34.956Z"
   },
   {
    "duration": 19,
    "start_time": "2022-03-22T14:09:35.008Z"
   },
   {
    "duration": 6,
    "start_time": "2022-03-22T14:09:35.030Z"
   },
   {
    "duration": 16,
    "start_time": "2022-03-22T14:09:35.038Z"
   },
   {
    "duration": 9,
    "start_time": "2022-03-22T14:09:35.060Z"
   },
   {
    "duration": 48,
    "start_time": "2022-03-22T14:09:35.071Z"
   },
   {
    "duration": 9,
    "start_time": "2022-03-22T14:09:35.122Z"
   },
   {
    "duration": 9,
    "start_time": "2022-03-22T14:09:35.134Z"
   },
   {
    "duration": 6,
    "start_time": "2022-03-22T14:09:35.145Z"
   },
   {
    "duration": 49,
    "start_time": "2022-03-22T14:09:35.153Z"
   },
   {
    "duration": 5,
    "start_time": "2022-03-22T14:09:35.204Z"
   },
   {
    "duration": 13,
    "start_time": "2022-03-22T14:09:35.211Z"
   },
   {
    "duration": 10,
    "start_time": "2022-03-22T14:09:35.226Z"
   },
   {
    "duration": 19,
    "start_time": "2022-03-22T14:09:35.238Z"
   },
   {
    "duration": 125,
    "start_time": "2022-03-22T14:09:35.260Z"
   },
   {
    "duration": 24,
    "start_time": "2022-03-22T14:09:35.387Z"
   },
   {
    "duration": 4,
    "start_time": "2022-03-22T14:09:35.413Z"
   },
   {
    "duration": 8,
    "start_time": "2022-03-22T14:09:35.419Z"
   },
   {
    "duration": 47,
    "start_time": "2022-03-22T14:09:35.428Z"
   },
   {
    "duration": 1762,
    "start_time": "2022-03-22T14:09:35.476Z"
   },
   {
    "duration": 15,
    "start_time": "2022-03-22T14:09:37.240Z"
   },
   {
    "duration": 38,
    "start_time": "2022-03-22T14:09:37.257Z"
   },
   {
    "duration": 1550,
    "start_time": "2022-03-22T14:09:37.297Z"
   },
   {
    "duration": 15,
    "start_time": "2022-03-22T14:09:38.849Z"
   },
   {
    "duration": 56,
    "start_time": "2022-03-22T14:09:38.866Z"
   },
   {
    "duration": 1692,
    "start_time": "2022-03-22T14:09:38.924Z"
   },
   {
    "duration": 15,
    "start_time": "2022-03-22T14:09:40.618Z"
   },
   {
    "duration": 44,
    "start_time": "2022-03-22T14:09:40.635Z"
   },
   {
    "duration": 1762,
    "start_time": "2022-03-22T14:09:40.700Z"
   },
   {
    "duration": 15,
    "start_time": "2022-03-22T14:09:42.464Z"
   },
   {
    "duration": 29,
    "start_time": "2022-03-22T14:09:42.481Z"
   },
   {
    "duration": 17,
    "start_time": "2022-03-22T14:09:42.512Z"
   },
   {
    "duration": 13,
    "start_time": "2022-03-22T14:09:42.531Z"
   },
   {
    "duration": 9,
    "start_time": "2022-03-22T14:09:42.546Z"
   },
   {
    "duration": 44,
    "start_time": "2022-03-22T14:09:42.557Z"
   },
   {
    "duration": 14,
    "start_time": "2022-03-22T14:09:42.603Z"
   },
   {
    "duration": 4,
    "start_time": "2022-03-22T14:09:42.619Z"
   },
   {
    "duration": 26,
    "start_time": "2022-03-22T14:09:42.625Z"
   },
   {
    "duration": 7,
    "start_time": "2022-03-22T14:09:42.653Z"
   },
   {
    "duration": 40,
    "start_time": "2022-03-22T14:09:42.662Z"
   },
   {
    "duration": 13,
    "start_time": "2022-03-22T14:09:42.703Z"
   },
   {
    "duration": 3,
    "start_time": "2022-03-22T14:14:33.338Z"
   },
   {
    "duration": 15,
    "start_time": "2022-03-22T14:14:54.101Z"
   },
   {
    "duration": 21,
    "start_time": "2022-03-22T14:15:07.775Z"
   },
   {
    "duration": 16,
    "start_time": "2022-03-22T14:15:17.460Z"
   },
   {
    "duration": 17,
    "start_time": "2022-03-22T14:16:01.085Z"
   },
   {
    "duration": 1700,
    "start_time": "2022-03-22T14:16:09.623Z"
   },
   {
    "duration": 434,
    "start_time": "2022-03-22T14:16:11.325Z"
   },
   {
    "duration": 5,
    "start_time": "2022-03-22T14:16:11.760Z"
   },
   {
    "duration": 7,
    "start_time": "2022-03-22T14:16:11.766Z"
   },
   {
    "duration": 32,
    "start_time": "2022-03-22T14:16:11.775Z"
   },
   {
    "duration": 8,
    "start_time": "2022-03-22T14:16:11.810Z"
   },
   {
    "duration": 10,
    "start_time": "2022-03-22T14:16:11.820Z"
   },
   {
    "duration": 7,
    "start_time": "2022-03-22T14:16:11.832Z"
   },
   {
    "duration": 14,
    "start_time": "2022-03-22T14:16:11.842Z"
   },
   {
    "duration": 183,
    "start_time": "2022-03-22T14:16:11.858Z"
   },
   {
    "duration": 32,
    "start_time": "2022-03-22T14:16:12.043Z"
   },
   {
    "duration": 93,
    "start_time": "2022-03-22T14:16:12.076Z"
   },
   {
    "duration": 39,
    "start_time": "2022-03-22T14:16:12.171Z"
   },
   {
    "duration": 129,
    "start_time": "2022-03-22T14:16:12.214Z"
   },
   {
    "duration": 10,
    "start_time": "2022-03-22T14:16:12.345Z"
   },
   {
    "duration": 46,
    "start_time": "2022-03-22T14:16:12.356Z"
   },
   {
    "duration": 18,
    "start_time": "2022-03-22T14:16:12.405Z"
   },
   {
    "duration": 3,
    "start_time": "2022-03-22T14:16:12.425Z"
   },
   {
    "duration": 785,
    "start_time": "2022-03-22T14:16:12.429Z"
   },
   {
    "duration": 5,
    "start_time": "2022-03-22T14:16:13.216Z"
   },
   {
    "duration": 21,
    "start_time": "2022-03-22T14:16:13.223Z"
   },
   {
    "duration": 56,
    "start_time": "2022-03-22T14:16:13.246Z"
   },
   {
    "duration": 11,
    "start_time": "2022-03-22T14:16:13.304Z"
   },
   {
    "duration": 22,
    "start_time": "2022-03-22T14:16:13.317Z"
   },
   {
    "duration": 3873,
    "start_time": "2022-03-22T14:16:13.341Z"
   },
   {
    "duration": 0,
    "start_time": "2022-03-22T14:16:17.216Z"
   },
   {
    "duration": 0,
    "start_time": "2022-03-22T14:16:17.218Z"
   },
   {
    "duration": 0,
    "start_time": "2022-03-22T14:16:17.219Z"
   },
   {
    "duration": 0,
    "start_time": "2022-03-22T14:16:17.220Z"
   },
   {
    "duration": 1,
    "start_time": "2022-03-22T14:16:17.221Z"
   },
   {
    "duration": 1,
    "start_time": "2022-03-22T14:16:17.222Z"
   },
   {
    "duration": 0,
    "start_time": "2022-03-22T14:16:17.223Z"
   },
   {
    "duration": 0,
    "start_time": "2022-03-22T14:16:17.225Z"
   },
   {
    "duration": 0,
    "start_time": "2022-03-22T14:16:17.226Z"
   },
   {
    "duration": 0,
    "start_time": "2022-03-22T14:16:17.227Z"
   },
   {
    "duration": 0,
    "start_time": "2022-03-22T14:16:17.318Z"
   },
   {
    "duration": 0,
    "start_time": "2022-03-22T14:16:17.320Z"
   },
   {
    "duration": 0,
    "start_time": "2022-03-22T14:16:17.321Z"
   },
   {
    "duration": 0,
    "start_time": "2022-03-22T14:16:17.322Z"
   },
   {
    "duration": 0,
    "start_time": "2022-03-22T14:16:17.323Z"
   },
   {
    "duration": 0,
    "start_time": "2022-03-22T14:16:17.324Z"
   },
   {
    "duration": 0,
    "start_time": "2022-03-22T14:16:17.325Z"
   },
   {
    "duration": 0,
    "start_time": "2022-03-22T14:16:17.326Z"
   },
   {
    "duration": 0,
    "start_time": "2022-03-22T14:16:17.327Z"
   },
   {
    "duration": 0,
    "start_time": "2022-03-22T14:16:17.329Z"
   },
   {
    "duration": 0,
    "start_time": "2022-03-22T14:16:17.330Z"
   },
   {
    "duration": 0,
    "start_time": "2022-03-22T14:16:17.331Z"
   },
   {
    "duration": 0,
    "start_time": "2022-03-22T14:16:17.332Z"
   },
   {
    "duration": 0,
    "start_time": "2022-03-22T14:16:17.333Z"
   },
   {
    "duration": 0,
    "start_time": "2022-03-22T14:16:17.334Z"
   },
   {
    "duration": 0,
    "start_time": "2022-03-22T14:16:17.335Z"
   },
   {
    "duration": 0,
    "start_time": "2022-03-22T14:16:17.336Z"
   },
   {
    "duration": 0,
    "start_time": "2022-03-22T14:16:17.337Z"
   },
   {
    "duration": 0,
    "start_time": "2022-03-22T14:16:17.338Z"
   },
   {
    "duration": 0,
    "start_time": "2022-03-22T14:16:17.340Z"
   },
   {
    "duration": 0,
    "start_time": "2022-03-22T14:16:17.341Z"
   },
   {
    "duration": 0,
    "start_time": "2022-03-22T14:16:17.342Z"
   },
   {
    "duration": 0,
    "start_time": "2022-03-22T14:16:17.343Z"
   },
   {
    "duration": 0,
    "start_time": "2022-03-22T14:16:17.345Z"
   },
   {
    "duration": 0,
    "start_time": "2022-03-22T14:16:17.346Z"
   },
   {
    "duration": 0,
    "start_time": "2022-03-22T14:16:17.346Z"
   },
   {
    "duration": 0,
    "start_time": "2022-03-22T14:16:17.347Z"
   },
   {
    "duration": 0,
    "start_time": "2022-03-22T14:16:17.348Z"
   },
   {
    "duration": 0,
    "start_time": "2022-03-22T14:16:17.350Z"
   },
   {
    "duration": 0,
    "start_time": "2022-03-22T14:16:17.351Z"
   },
   {
    "duration": 0,
    "start_time": "2022-03-22T14:16:17.352Z"
   },
   {
    "duration": 0,
    "start_time": "2022-03-22T14:16:17.353Z"
   },
   {
    "duration": 0,
    "start_time": "2022-03-22T14:16:17.354Z"
   },
   {
    "duration": 0,
    "start_time": "2022-03-22T14:16:17.355Z"
   },
   {
    "duration": 0,
    "start_time": "2022-03-22T14:16:17.356Z"
   },
   {
    "duration": 0,
    "start_time": "2022-03-22T14:16:17.357Z"
   },
   {
    "duration": 0,
    "start_time": "2022-03-22T14:16:17.358Z"
   },
   {
    "duration": 0,
    "start_time": "2022-03-22T14:16:17.360Z"
   },
   {
    "duration": 0,
    "start_time": "2022-03-22T14:16:17.361Z"
   },
   {
    "duration": 0,
    "start_time": "2022-03-22T14:16:17.363Z"
   },
   {
    "duration": 0,
    "start_time": "2022-03-22T14:16:17.364Z"
   },
   {
    "duration": 0,
    "start_time": "2022-03-22T14:16:17.365Z"
   },
   {
    "duration": 3,
    "start_time": "2022-03-22T14:18:03.758Z"
   },
   {
    "duration": 9,
    "start_time": "2022-03-22T14:18:21.270Z"
   },
   {
    "duration": 57,
    "start_time": "2022-03-22T14:18:30.382Z"
   },
   {
    "duration": 22,
    "start_time": "2022-03-22T14:18:38.664Z"
   },
   {
    "duration": 28,
    "start_time": "2022-03-22T14:18:47.134Z"
   },
   {
    "duration": 1301,
    "start_time": "2022-03-22T14:18:54.200Z"
   },
   {
    "duration": 416,
    "start_time": "2022-03-22T14:18:55.504Z"
   },
   {
    "duration": 4,
    "start_time": "2022-03-22T14:18:55.922Z"
   },
   {
    "duration": 18,
    "start_time": "2022-03-22T14:18:55.928Z"
   },
   {
    "duration": 33,
    "start_time": "2022-03-22T14:18:55.949Z"
   },
   {
    "duration": 8,
    "start_time": "2022-03-22T14:18:55.984Z"
   },
   {
    "duration": 8,
    "start_time": "2022-03-22T14:18:56.002Z"
   },
   {
    "duration": 13,
    "start_time": "2022-03-22T14:18:56.012Z"
   },
   {
    "duration": 12,
    "start_time": "2022-03-22T14:18:56.027Z"
   },
   {
    "duration": 179,
    "start_time": "2022-03-22T14:18:56.040Z"
   },
   {
    "duration": 36,
    "start_time": "2022-03-22T14:18:56.221Z"
   },
   {
    "duration": 98,
    "start_time": "2022-03-22T14:18:56.259Z"
   },
   {
    "duration": 25,
    "start_time": "2022-03-22T14:18:56.359Z"
   },
   {
    "duration": 124,
    "start_time": "2022-03-22T14:18:56.400Z"
   },
   {
    "duration": 10,
    "start_time": "2022-03-22T14:18:56.526Z"
   },
   {
    "duration": 35,
    "start_time": "2022-03-22T14:18:56.538Z"
   },
   {
    "duration": 39,
    "start_time": "2022-03-22T14:18:56.575Z"
   },
   {
    "duration": 4,
    "start_time": "2022-03-22T14:18:56.615Z"
   },
   {
    "duration": 764,
    "start_time": "2022-03-22T14:18:56.621Z"
   },
   {
    "duration": 5,
    "start_time": "2022-03-22T14:18:57.387Z"
   },
   {
    "duration": 18,
    "start_time": "2022-03-22T14:18:57.401Z"
   },
   {
    "duration": 29,
    "start_time": "2022-03-22T14:18:57.421Z"
   },
   {
    "duration": 9,
    "start_time": "2022-03-22T14:18:57.452Z"
   },
   {
    "duration": 56,
    "start_time": "2022-03-22T14:18:57.463Z"
   },
   {
    "duration": 927,
    "start_time": "2022-03-22T14:18:57.521Z"
   },
   {
    "duration": 9,
    "start_time": "2022-03-22T14:18:58.450Z"
   },
   {
    "duration": 53,
    "start_time": "2022-03-22T14:18:58.461Z"
   },
   {
    "duration": 5,
    "start_time": "2022-03-22T14:18:58.516Z"
   },
   {
    "duration": 9,
    "start_time": "2022-03-22T14:18:58.523Z"
   },
   {
    "duration": 76,
    "start_time": "2022-03-22T14:18:58.533Z"
   },
   {
    "duration": 68,
    "start_time": "2022-03-22T14:18:58.611Z"
   },
   {
    "duration": 36,
    "start_time": "2022-03-22T14:18:58.681Z"
   },
   {
    "duration": 10,
    "start_time": "2022-03-22T14:18:58.719Z"
   },
   {
    "duration": 11,
    "start_time": "2022-03-22T14:18:58.732Z"
   },
   {
    "duration": 14,
    "start_time": "2022-03-22T14:18:58.744Z"
   },
   {
    "duration": 42,
    "start_time": "2022-03-22T14:18:58.760Z"
   },
   {
    "duration": 23,
    "start_time": "2022-03-22T14:18:58.804Z"
   },
   {
    "duration": 20,
    "start_time": "2022-03-22T14:18:58.829Z"
   },
   {
    "duration": 6,
    "start_time": "2022-03-22T14:18:58.850Z"
   },
   {
    "duration": 9,
    "start_time": "2022-03-22T14:18:58.857Z"
   },
   {
    "duration": 8,
    "start_time": "2022-03-22T14:18:58.900Z"
   },
   {
    "duration": 21,
    "start_time": "2022-03-22T14:18:58.910Z"
   },
   {
    "duration": 13,
    "start_time": "2022-03-22T14:18:58.932Z"
   },
   {
    "duration": 10,
    "start_time": "2022-03-22T14:18:58.947Z"
   },
   {
    "duration": 6,
    "start_time": "2022-03-22T14:18:58.959Z"
   },
   {
    "duration": 48,
    "start_time": "2022-03-22T14:18:58.967Z"
   },
   {
    "duration": 5,
    "start_time": "2022-03-22T14:18:59.017Z"
   },
   {
    "duration": 8,
    "start_time": "2022-03-22T14:18:59.024Z"
   },
   {
    "duration": 7,
    "start_time": "2022-03-22T14:18:59.034Z"
   },
   {
    "duration": 20,
    "start_time": "2022-03-22T14:18:59.043Z"
   },
   {
    "duration": 128,
    "start_time": "2022-03-22T14:18:59.065Z"
   },
   {
    "duration": 24,
    "start_time": "2022-03-22T14:18:59.195Z"
   },
   {
    "duration": 4,
    "start_time": "2022-03-22T14:18:59.221Z"
   },
   {
    "duration": 7,
    "start_time": "2022-03-22T14:18:59.227Z"
   },
   {
    "duration": 46,
    "start_time": "2022-03-22T14:18:59.236Z"
   },
   {
    "duration": 1866,
    "start_time": "2022-03-22T14:18:59.300Z"
   },
   {
    "duration": 14,
    "start_time": "2022-03-22T14:19:01.168Z"
   },
   {
    "duration": 48,
    "start_time": "2022-03-22T14:19:01.184Z"
   },
   {
    "duration": 1678,
    "start_time": "2022-03-22T14:19:01.234Z"
   },
   {
    "duration": 17,
    "start_time": "2022-03-22T14:19:02.915Z"
   },
   {
    "duration": 43,
    "start_time": "2022-03-22T14:19:02.934Z"
   },
   {
    "duration": 1722,
    "start_time": "2022-03-22T14:19:02.979Z"
   },
   {
    "duration": 15,
    "start_time": "2022-03-22T14:19:04.703Z"
   },
   {
    "duration": 50,
    "start_time": "2022-03-22T14:19:04.720Z"
   },
   {
    "duration": 1756,
    "start_time": "2022-03-22T14:19:04.772Z"
   },
   {
    "duration": 15,
    "start_time": "2022-03-22T14:19:06.530Z"
   },
   {
    "duration": 25,
    "start_time": "2022-03-22T14:19:06.547Z"
   },
   {
    "duration": 34,
    "start_time": "2022-03-22T14:19:06.574Z"
   },
   {
    "duration": 14,
    "start_time": "2022-03-22T14:19:06.609Z"
   },
   {
    "duration": 16,
    "start_time": "2022-03-22T14:19:06.625Z"
   },
   {
    "duration": 22,
    "start_time": "2022-03-22T14:19:06.643Z"
   },
   {
    "duration": 13,
    "start_time": "2022-03-22T14:19:06.667Z"
   },
   {
    "duration": 4,
    "start_time": "2022-03-22T14:19:06.702Z"
   },
   {
    "duration": 31,
    "start_time": "2022-03-22T14:19:06.708Z"
   },
   {
    "duration": 7,
    "start_time": "2022-03-22T14:19:06.741Z"
   },
   {
    "duration": 18,
    "start_time": "2022-03-22T14:19:06.750Z"
   },
   {
    "duration": 33,
    "start_time": "2022-03-22T14:19:06.770Z"
   },
   {
    "duration": 1630,
    "start_time": "2022-03-22T14:32:26.820Z"
   },
   {
    "duration": 1745,
    "start_time": "2022-03-22T14:32:45.395Z"
   },
   {
    "duration": 1657,
    "start_time": "2022-03-22T14:35:03.310Z"
   },
   {
    "duration": 1699,
    "start_time": "2022-03-22T14:38:29.283Z"
   },
   {
    "duration": 1864,
    "start_time": "2022-03-22T14:39:11.205Z"
   },
   {
    "duration": 1694,
    "start_time": "2022-03-22T14:39:27.164Z"
   },
   {
    "duration": 1658,
    "start_time": "2022-03-22T14:39:56.261Z"
   },
   {
    "duration": 305,
    "start_time": "2022-03-22T14:42:36.112Z"
   },
   {
    "duration": 20,
    "start_time": "2022-03-22T14:42:39.906Z"
   },
   {
    "duration": 1362,
    "start_time": "2022-03-22T14:53:31.961Z"
   },
   {
    "duration": 444,
    "start_time": "2022-03-22T14:53:33.325Z"
   },
   {
    "duration": 5,
    "start_time": "2022-03-22T14:53:33.771Z"
   },
   {
    "duration": 18,
    "start_time": "2022-03-22T14:53:33.779Z"
   },
   {
    "duration": 36,
    "start_time": "2022-03-22T14:53:33.799Z"
   },
   {
    "duration": 9,
    "start_time": "2022-03-22T14:53:33.837Z"
   },
   {
    "duration": 15,
    "start_time": "2022-03-22T14:53:33.847Z"
   },
   {
    "duration": 14,
    "start_time": "2022-03-22T14:53:33.864Z"
   },
   {
    "duration": 29,
    "start_time": "2022-03-22T14:53:33.879Z"
   },
   {
    "duration": 162,
    "start_time": "2022-03-22T14:53:33.911Z"
   },
   {
    "duration": 50,
    "start_time": "2022-03-22T14:53:34.075Z"
   },
   {
    "duration": 91,
    "start_time": "2022-03-22T14:53:34.126Z"
   },
   {
    "duration": 26,
    "start_time": "2022-03-22T14:53:34.219Z"
   },
   {
    "duration": 135,
    "start_time": "2022-03-22T14:53:34.246Z"
   },
   {
    "duration": 19,
    "start_time": "2022-03-22T14:53:34.383Z"
   },
   {
    "duration": 36,
    "start_time": "2022-03-22T14:53:34.403Z"
   },
   {
    "duration": 20,
    "start_time": "2022-03-22T14:53:34.441Z"
   },
   {
    "duration": 8,
    "start_time": "2022-03-22T14:53:34.463Z"
   },
   {
    "duration": 774,
    "start_time": "2022-03-22T14:53:34.473Z"
   },
   {
    "duration": 4,
    "start_time": "2022-03-22T14:53:35.249Z"
   },
   {
    "duration": 57,
    "start_time": "2022-03-22T14:53:35.255Z"
   },
   {
    "duration": 30,
    "start_time": "2022-03-22T14:53:35.314Z"
   },
   {
    "duration": 9,
    "start_time": "2022-03-22T14:53:35.346Z"
   },
   {
    "duration": 48,
    "start_time": "2022-03-22T14:53:35.357Z"
   },
   {
    "duration": 886,
    "start_time": "2022-03-22T14:53:35.407Z"
   },
   {
    "duration": 14,
    "start_time": "2022-03-22T14:53:36.295Z"
   },
   {
    "duration": 36,
    "start_time": "2022-03-22T14:53:36.311Z"
   },
   {
    "duration": 5,
    "start_time": "2022-03-22T14:53:36.352Z"
   },
   {
    "duration": 13,
    "start_time": "2022-03-22T14:53:36.359Z"
   },
   {
    "duration": 79,
    "start_time": "2022-03-22T14:53:36.374Z"
   },
   {
    "duration": 79,
    "start_time": "2022-03-22T14:53:36.455Z"
   },
   {
    "duration": 24,
    "start_time": "2022-03-22T14:53:36.536Z"
   },
   {
    "duration": 9,
    "start_time": "2022-03-22T14:53:36.562Z"
   },
   {
    "duration": 33,
    "start_time": "2022-03-22T14:53:36.573Z"
   },
   {
    "duration": 16,
    "start_time": "2022-03-22T14:53:36.608Z"
   },
   {
    "duration": 10,
    "start_time": "2022-03-22T14:53:36.626Z"
   },
   {
    "duration": 27,
    "start_time": "2022-03-22T14:53:36.638Z"
   },
   {
    "duration": 41,
    "start_time": "2022-03-22T14:53:36.667Z"
   },
   {
    "duration": 6,
    "start_time": "2022-03-22T14:53:36.711Z"
   },
   {
    "duration": 8,
    "start_time": "2022-03-22T14:53:36.719Z"
   },
   {
    "duration": 10,
    "start_time": "2022-03-22T14:53:36.729Z"
   },
   {
    "duration": 18,
    "start_time": "2022-03-22T14:53:36.741Z"
   },
   {
    "duration": 42,
    "start_time": "2022-03-22T14:53:36.761Z"
   },
   {
    "duration": 6,
    "start_time": "2022-03-22T14:53:36.805Z"
   },
   {
    "duration": 7,
    "start_time": "2022-03-22T14:53:36.813Z"
   },
   {
    "duration": 32,
    "start_time": "2022-03-22T14:53:36.822Z"
   },
   {
    "duration": 13,
    "start_time": "2022-03-22T14:53:36.855Z"
   },
   {
    "duration": 9,
    "start_time": "2022-03-22T14:53:36.870Z"
   },
   {
    "duration": 22,
    "start_time": "2022-03-22T14:53:36.881Z"
   },
   {
    "duration": 11,
    "start_time": "2022-03-22T14:53:36.905Z"
   },
   {
    "duration": 125,
    "start_time": "2022-03-22T14:53:36.918Z"
   },
   {
    "duration": 20,
    "start_time": "2022-03-22T14:53:37.045Z"
   },
   {
    "duration": 4,
    "start_time": "2022-03-22T14:53:37.067Z"
   },
   {
    "duration": 9,
    "start_time": "2022-03-22T14:53:37.073Z"
   },
   {
    "duration": 41,
    "start_time": "2022-03-22T14:53:37.101Z"
   },
   {
    "duration": 1761,
    "start_time": "2022-03-22T14:53:37.144Z"
   },
   {
    "duration": 14,
    "start_time": "2022-03-22T14:53:38.907Z"
   },
   {
    "duration": 41,
    "start_time": "2022-03-22T14:53:38.923Z"
   },
   {
    "duration": 1673,
    "start_time": "2022-03-22T14:53:38.966Z"
   },
   {
    "duration": 16,
    "start_time": "2022-03-22T14:53:40.641Z"
   },
   {
    "duration": 62,
    "start_time": "2022-03-22T14:53:40.659Z"
   },
   {
    "duration": 1720,
    "start_time": "2022-03-22T14:53:40.723Z"
   },
   {
    "duration": 13,
    "start_time": "2022-03-22T14:53:42.445Z"
   },
   {
    "duration": 62,
    "start_time": "2022-03-22T14:53:42.460Z"
   },
   {
    "duration": 1749,
    "start_time": "2022-03-22T14:53:42.524Z"
   },
   {
    "duration": 26,
    "start_time": "2022-03-22T14:53:44.275Z"
   },
   {
    "duration": 24,
    "start_time": "2022-03-22T14:53:44.303Z"
   },
   {
    "duration": 18,
    "start_time": "2022-03-22T14:53:44.329Z"
   },
   {
    "duration": 13,
    "start_time": "2022-03-22T14:53:44.349Z"
   },
   {
    "duration": 22,
    "start_time": "2022-03-22T14:53:44.364Z"
   },
   {
    "duration": 27,
    "start_time": "2022-03-22T14:53:44.388Z"
   },
   {
    "duration": 15,
    "start_time": "2022-03-22T14:53:44.417Z"
   },
   {
    "duration": 4,
    "start_time": "2022-03-22T14:53:44.435Z"
   },
   {
    "duration": 26,
    "start_time": "2022-03-22T14:53:44.441Z"
   },
   {
    "duration": 36,
    "start_time": "2022-03-22T14:53:44.469Z"
   },
   {
    "duration": 22,
    "start_time": "2022-03-22T14:53:44.507Z"
   },
   {
    "duration": 11,
    "start_time": "2022-03-22T14:53:44.532Z"
   },
   {
    "duration": 1501,
    "start_time": "2022-04-02T16:34:33.460Z"
   },
   {
    "duration": 458,
    "start_time": "2022-04-02T16:34:34.963Z"
   },
   {
    "duration": 6,
    "start_time": "2022-04-02T16:34:35.424Z"
   },
   {
    "duration": 5,
    "start_time": "2022-04-02T16:34:35.434Z"
   },
   {
    "duration": 65,
    "start_time": "2022-04-02T16:34:35.442Z"
   },
   {
    "duration": 11,
    "start_time": "2022-04-02T16:34:35.510Z"
   },
   {
    "duration": 11,
    "start_time": "2022-04-02T16:34:35.523Z"
   },
   {
    "duration": 47,
    "start_time": "2022-04-02T16:34:35.537Z"
   },
   {
    "duration": 16,
    "start_time": "2022-04-02T16:34:35.587Z"
   },
   {
    "duration": 233,
    "start_time": "2022-04-02T16:34:35.607Z"
   },
   {
    "duration": 60,
    "start_time": "2022-04-02T16:34:35.842Z"
   },
   {
    "duration": 113,
    "start_time": "2022-04-02T16:34:35.904Z"
   },
   {
    "duration": 35,
    "start_time": "2022-04-02T16:34:36.019Z"
   },
   {
    "duration": 167,
    "start_time": "2022-04-02T16:34:36.056Z"
   },
   {
    "duration": 12,
    "start_time": "2022-04-02T16:34:36.225Z"
   },
   {
    "duration": 60,
    "start_time": "2022-04-02T16:34:36.239Z"
   },
   {
    "duration": 27,
    "start_time": "2022-04-02T16:34:36.301Z"
   },
   {
    "duration": 4,
    "start_time": "2022-04-02T16:34:36.330Z"
   },
   {
    "duration": 1018,
    "start_time": "2022-04-02T16:34:36.336Z"
   },
   {
    "duration": 6,
    "start_time": "2022-04-02T16:34:37.356Z"
   },
   {
    "duration": 32,
    "start_time": "2022-04-02T16:34:37.364Z"
   },
   {
    "duration": 31,
    "start_time": "2022-04-02T16:34:37.398Z"
   },
   {
    "duration": 51,
    "start_time": "2022-04-02T16:34:37.433Z"
   },
   {
    "duration": 28,
    "start_time": "2022-04-02T16:34:37.487Z"
   },
   {
    "duration": 1275,
    "start_time": "2022-04-02T16:34:37.518Z"
   },
   {
    "duration": 13,
    "start_time": "2022-04-02T16:34:38.796Z"
   },
   {
    "duration": 75,
    "start_time": "2022-04-02T16:34:38.811Z"
   },
   {
    "duration": 6,
    "start_time": "2022-04-02T16:34:38.893Z"
   },
   {
    "duration": 8,
    "start_time": "2022-04-02T16:34:38.901Z"
   },
   {
    "duration": 93,
    "start_time": "2022-04-02T16:34:38.911Z"
   },
   {
    "duration": 87,
    "start_time": "2022-04-02T16:34:39.006Z"
   },
   {
    "duration": 24,
    "start_time": "2022-04-02T16:34:39.095Z"
   },
   {
    "duration": 12,
    "start_time": "2022-04-02T16:34:39.121Z"
   },
   {
    "duration": 50,
    "start_time": "2022-04-02T16:34:39.135Z"
   },
   {
    "duration": 15,
    "start_time": "2022-04-02T16:34:39.187Z"
   },
   {
    "duration": 8,
    "start_time": "2022-04-02T16:34:39.204Z"
   },
   {
    "duration": 68,
    "start_time": "2022-04-02T16:34:39.214Z"
   },
   {
    "duration": 27,
    "start_time": "2022-04-02T16:34:39.285Z"
   },
   {
    "duration": 8,
    "start_time": "2022-04-02T16:34:39.314Z"
   },
   {
    "duration": 57,
    "start_time": "2022-04-02T16:34:39.325Z"
   },
   {
    "duration": 12,
    "start_time": "2022-04-02T16:34:39.385Z"
   },
   {
    "duration": 25,
    "start_time": "2022-04-02T16:34:39.399Z"
   },
   {
    "duration": 9,
    "start_time": "2022-04-02T16:34:39.426Z"
   },
   {
    "duration": 47,
    "start_time": "2022-04-02T16:34:39.437Z"
   },
   {
    "duration": 5,
    "start_time": "2022-04-02T16:34:39.486Z"
   },
   {
    "duration": 37,
    "start_time": "2022-04-02T16:34:39.494Z"
   },
   {
    "duration": 6,
    "start_time": "2022-04-02T16:34:39.534Z"
   },
   {
    "duration": 5,
    "start_time": "2022-04-02T16:34:39.582Z"
   },
   {
    "duration": 12,
    "start_time": "2022-04-02T16:34:39.589Z"
   },
   {
    "duration": 9,
    "start_time": "2022-04-02T16:34:39.603Z"
   },
   {
    "duration": 198,
    "start_time": "2022-04-02T16:34:39.615Z"
   },
   {
    "duration": 27,
    "start_time": "2022-04-02T16:34:39.816Z"
   },
   {
    "duration": 5,
    "start_time": "2022-04-02T16:34:39.845Z"
   },
   {
    "duration": 30,
    "start_time": "2022-04-02T16:34:39.852Z"
   },
   {
    "duration": 60,
    "start_time": "2022-04-02T16:34:39.884Z"
   },
   {
    "duration": 2377,
    "start_time": "2022-04-02T16:34:39.947Z"
   },
   {
    "duration": 18,
    "start_time": "2022-04-02T16:34:42.326Z"
   },
   {
    "duration": 76,
    "start_time": "2022-04-02T16:34:42.347Z"
   },
   {
    "duration": 2368,
    "start_time": "2022-04-02T16:34:42.425Z"
   },
   {
    "duration": 18,
    "start_time": "2022-04-02T16:34:44.795Z"
   },
   {
    "duration": 82,
    "start_time": "2022-04-02T16:34:44.815Z"
   },
   {
    "duration": 2262,
    "start_time": "2022-04-02T16:34:44.899Z"
   },
   {
    "duration": 33,
    "start_time": "2022-04-02T16:34:47.164Z"
   },
   {
    "duration": 87,
    "start_time": "2022-04-02T16:34:47.200Z"
   },
   {
    "duration": 2427,
    "start_time": "2022-04-02T16:34:47.289Z"
   },
   {
    "duration": 18,
    "start_time": "2022-04-02T16:34:49.718Z"
   },
   {
    "duration": 45,
    "start_time": "2022-04-02T16:34:49.739Z"
   },
   {
    "duration": 23,
    "start_time": "2022-04-02T16:34:49.787Z"
   },
   {
    "duration": 15,
    "start_time": "2022-04-02T16:34:49.812Z"
   },
   {
    "duration": 7,
    "start_time": "2022-04-02T16:34:49.830Z"
   },
   {
    "duration": 66,
    "start_time": "2022-04-02T16:34:49.839Z"
   },
   {
    "duration": 18,
    "start_time": "2022-04-02T16:34:49.907Z"
   },
   {
    "duration": 5,
    "start_time": "2022-04-02T16:34:49.927Z"
   },
   {
    "duration": 65,
    "start_time": "2022-04-02T16:34:49.934Z"
   },
   {
    "duration": 9,
    "start_time": "2022-04-02T16:34:50.001Z"
   },
   {
    "duration": 27,
    "start_time": "2022-04-02T16:34:50.012Z"
   },
   {
    "duration": 50,
    "start_time": "2022-04-02T16:34:50.041Z"
   },
   {
    "duration": 54,
    "start_time": "2022-04-02T17:03:35.385Z"
   },
   {
    "duration": 26,
    "start_time": "2022-04-02T17:04:41.899Z"
   },
   {
    "duration": 1474,
    "start_time": "2022-04-02T17:13:18.788Z"
   },
   {
    "duration": 468,
    "start_time": "2022-04-02T17:13:20.265Z"
   },
   {
    "duration": 5,
    "start_time": "2022-04-02T17:13:20.736Z"
   },
   {
    "duration": 9,
    "start_time": "2022-04-02T17:13:20.744Z"
   },
   {
    "duration": 53,
    "start_time": "2022-04-02T17:13:20.756Z"
   },
   {
    "duration": 14,
    "start_time": "2022-04-02T17:13:20.812Z"
   },
   {
    "duration": 57,
    "start_time": "2022-04-02T17:13:20.829Z"
   },
   {
    "duration": 11,
    "start_time": "2022-04-02T17:13:20.888Z"
   },
   {
    "duration": 15,
    "start_time": "2022-04-02T17:13:20.901Z"
   },
   {
    "duration": 268,
    "start_time": "2022-04-02T17:13:20.920Z"
   },
   {
    "duration": 47,
    "start_time": "2022-04-02T17:13:21.191Z"
   },
   {
    "duration": 100,
    "start_time": "2022-04-02T17:13:21.240Z"
   },
   {
    "duration": 30,
    "start_time": "2022-04-02T17:13:21.342Z"
   },
   {
    "duration": 153,
    "start_time": "2022-04-02T17:13:21.375Z"
   },
   {
    "duration": 11,
    "start_time": "2022-04-02T17:13:21.531Z"
   },
   {
    "duration": 49,
    "start_time": "2022-04-02T17:13:21.544Z"
   },
   {
    "duration": 27,
    "start_time": "2022-04-02T17:13:21.595Z"
   },
   {
    "duration": 4,
    "start_time": "2022-04-02T17:13:21.624Z"
   },
   {
    "duration": 1344,
    "start_time": "2022-04-02T17:13:21.630Z"
   },
   {
    "duration": 10,
    "start_time": "2022-04-02T17:13:22.977Z"
   },
   {
    "duration": 21,
    "start_time": "2022-04-02T17:13:22.990Z"
   },
   {
    "duration": 72,
    "start_time": "2022-04-02T17:13:23.014Z"
   },
   {
    "duration": 13,
    "start_time": "2022-04-02T17:13:23.090Z"
   },
   {
    "duration": 25,
    "start_time": "2022-04-02T17:13:23.106Z"
   },
   {
    "duration": 1359,
    "start_time": "2022-04-02T17:13:23.134Z"
   },
   {
    "duration": 11,
    "start_time": "2022-04-02T17:13:24.496Z"
   },
   {
    "duration": 42,
    "start_time": "2022-04-02T17:13:24.509Z"
   },
   {
    "duration": 6,
    "start_time": "2022-04-02T17:13:24.586Z"
   },
   {
    "duration": 11,
    "start_time": "2022-04-02T17:13:24.594Z"
   },
   {
    "duration": 91,
    "start_time": "2022-04-02T17:13:24.607Z"
   },
   {
    "duration": 85,
    "start_time": "2022-04-02T17:13:24.701Z"
   },
   {
    "duration": 26,
    "start_time": "2022-04-02T17:13:24.788Z"
   },
   {
    "duration": 12,
    "start_time": "2022-04-02T17:13:24.816Z"
   },
   {
    "duration": 54,
    "start_time": "2022-04-02T17:13:24.830Z"
   },
   {
    "duration": 14,
    "start_time": "2022-04-02T17:13:24.887Z"
   },
   {
    "duration": 5,
    "start_time": "2022-04-02T17:13:24.903Z"
   },
   {
    "duration": 31,
    "start_time": "2022-04-02T17:13:24.910Z"
   },
   {
    "duration": 63,
    "start_time": "2022-04-02T17:13:24.943Z"
   },
   {
    "duration": 7,
    "start_time": "2022-04-02T17:13:25.008Z"
   },
   {
    "duration": 15,
    "start_time": "2022-04-02T17:13:25.017Z"
   },
   {
    "duration": 54,
    "start_time": "2022-04-02T17:13:25.034Z"
   },
   {
    "duration": 24,
    "start_time": "2022-04-02T17:13:25.090Z"
   },
   {
    "duration": 11,
    "start_time": "2022-04-02T17:13:25.116Z"
   },
   {
    "duration": 15,
    "start_time": "2022-04-02T17:13:25.130Z"
   },
   {
    "duration": 35,
    "start_time": "2022-04-02T17:13:25.147Z"
   },
   {
    "duration": 39,
    "start_time": "2022-04-02T17:13:25.184Z"
   },
   {
    "duration": 7,
    "start_time": "2022-04-02T17:13:25.226Z"
   },
   {
    "duration": 5,
    "start_time": "2022-04-02T17:13:25.235Z"
   },
   {
    "duration": 42,
    "start_time": "2022-04-02T17:13:25.242Z"
   },
   {
    "duration": 11,
    "start_time": "2022-04-02T17:13:25.287Z"
   },
   {
    "duration": 207,
    "start_time": "2022-04-02T17:13:25.301Z"
   },
   {
    "duration": 26,
    "start_time": "2022-04-02T17:13:25.510Z"
   },
   {
    "duration": 5,
    "start_time": "2022-04-02T17:13:25.538Z"
   },
   {
    "duration": 37,
    "start_time": "2022-04-02T17:13:25.545Z"
   },
   {
    "duration": 51,
    "start_time": "2022-04-02T17:13:25.584Z"
   },
   {
    "duration": 2364,
    "start_time": "2022-04-02T17:13:25.637Z"
   },
   {
    "duration": 19,
    "start_time": "2022-04-02T17:13:28.003Z"
   },
   {
    "duration": 82,
    "start_time": "2022-04-02T17:13:28.024Z"
   },
   {
    "duration": 2236,
    "start_time": "2022-04-02T17:13:28.108Z"
   },
   {
    "duration": 45,
    "start_time": "2022-04-02T17:13:30.347Z"
   },
   {
    "duration": 54,
    "start_time": "2022-04-02T17:13:30.395Z"
   },
   {
    "duration": 2652,
    "start_time": "2022-04-02T17:13:30.452Z"
   },
   {
    "duration": 19,
    "start_time": "2022-04-02T17:13:33.106Z"
   },
   {
    "duration": 80,
    "start_time": "2022-04-02T17:13:33.128Z"
   },
   {
    "duration": 2239,
    "start_time": "2022-04-02T17:13:33.210Z"
   },
   {
    "duration": 33,
    "start_time": "2022-04-02T17:13:35.451Z"
   },
   {
    "duration": 17,
    "start_time": "2022-04-02T17:13:35.486Z"
   },
   {
    "duration": 25,
    "start_time": "2022-04-02T17:13:35.504Z"
   },
   {
    "duration": 51,
    "start_time": "2022-04-02T17:13:35.531Z"
   },
   {
    "duration": 7,
    "start_time": "2022-04-02T17:13:35.584Z"
   },
   {
    "duration": 26,
    "start_time": "2022-04-02T17:13:35.593Z"
   },
   {
    "duration": 15,
    "start_time": "2022-04-02T17:13:35.622Z"
   },
   {
    "duration": 46,
    "start_time": "2022-04-02T17:13:35.639Z"
   },
   {
    "duration": 27,
    "start_time": "2022-04-02T17:13:35.687Z"
   },
   {
    "duration": 9,
    "start_time": "2022-04-02T17:13:35.716Z"
   },
   {
    "duration": 56,
    "start_time": "2022-04-02T17:13:35.727Z"
   },
   {
    "duration": 15,
    "start_time": "2022-04-02T17:13:35.785Z"
   },
   {
    "duration": 1394,
    "start_time": "2022-04-03T03:43:14.055Z"
   },
   {
    "duration": 420,
    "start_time": "2022-04-03T03:43:17.761Z"
   },
   {
    "duration": 4,
    "start_time": "2022-04-03T03:43:29.546Z"
   },
   {
    "duration": 3,
    "start_time": "2022-04-03T03:43:32.458Z"
   },
   {
    "duration": 28,
    "start_time": "2022-04-03T03:43:37.569Z"
   },
   {
    "duration": 9,
    "start_time": "2022-04-03T03:43:42.170Z"
   },
   {
    "duration": 7,
    "start_time": "2022-04-03T03:43:43.794Z"
   },
   {
    "duration": 6,
    "start_time": "2022-04-03T03:43:46.340Z"
   },
   {
    "duration": 9,
    "start_time": "2022-04-03T03:43:48.442Z"
   },
   {
    "duration": 160,
    "start_time": "2022-04-03T03:43:51.796Z"
   },
   {
    "duration": 38,
    "start_time": "2022-04-03T03:43:59.354Z"
   },
   {
    "duration": 81,
    "start_time": "2022-04-03T03:44:02.686Z"
   },
   {
    "duration": 24,
    "start_time": "2022-04-03T03:44:05.658Z"
   },
   {
    "duration": 78,
    "start_time": "2022-04-03T03:44:10.137Z"
   },
   {
    "duration": 1333,
    "start_time": "2022-04-03T05:16:40.715Z"
   },
   {
    "duration": 468,
    "start_time": "2022-04-03T05:16:42.050Z"
   },
   {
    "duration": 4,
    "start_time": "2022-04-03T05:16:42.520Z"
   },
   {
    "duration": 13,
    "start_time": "2022-04-03T05:16:42.527Z"
   },
   {
    "duration": 31,
    "start_time": "2022-04-03T05:16:42.542Z"
   },
   {
    "duration": 10,
    "start_time": "2022-04-03T05:16:42.574Z"
   },
   {
    "duration": 11,
    "start_time": "2022-04-03T05:16:42.603Z"
   },
   {
    "duration": 10,
    "start_time": "2022-04-03T05:16:42.617Z"
   },
   {
    "duration": 11,
    "start_time": "2022-04-03T05:16:42.629Z"
   },
   {
    "duration": 194,
    "start_time": "2022-04-03T05:16:42.643Z"
   },
   {
    "duration": 39,
    "start_time": "2022-04-03T05:16:42.840Z"
   },
   {
    "duration": 103,
    "start_time": "2022-04-03T05:16:42.881Z"
   },
   {
    "duration": 47,
    "start_time": "2022-04-03T05:16:42.986Z"
   },
   {
    "duration": 108,
    "start_time": "2022-04-03T05:16:43.035Z"
   },
   {
    "duration": 30,
    "start_time": "2022-04-03T05:16:43.145Z"
   },
   {
    "duration": 42,
    "start_time": "2022-04-03T05:16:43.177Z"
   },
   {
    "duration": 5,
    "start_time": "2022-04-03T05:16:43.221Z"
   },
   {
    "duration": 766,
    "start_time": "2022-04-03T05:16:43.228Z"
   },
   {
    "duration": 7,
    "start_time": "2022-04-03T05:16:44.000Z"
   },
   {
    "duration": 35,
    "start_time": "2022-04-03T05:16:44.010Z"
   },
   {
    "duration": 27,
    "start_time": "2022-04-03T05:16:44.047Z"
   },
   {
    "duration": 9,
    "start_time": "2022-04-03T05:16:44.075Z"
   },
   {
    "duration": 38,
    "start_time": "2022-04-03T05:16:44.086Z"
   },
   {
    "duration": 931,
    "start_time": "2022-04-03T05:16:44.127Z"
   },
   {
    "duration": 9,
    "start_time": "2022-04-03T05:16:45.060Z"
   },
   {
    "duration": 56,
    "start_time": "2022-04-03T05:16:45.071Z"
   },
   {
    "duration": 6,
    "start_time": "2022-04-03T05:16:45.128Z"
   },
   {
    "duration": 5,
    "start_time": "2022-04-03T05:16:45.138Z"
   },
   {
    "duration": 84,
    "start_time": "2022-04-03T05:16:45.145Z"
   },
   {
    "duration": 69,
    "start_time": "2022-04-03T05:16:45.232Z"
   },
   {
    "duration": 28,
    "start_time": "2022-04-03T05:16:45.305Z"
   },
   {
    "duration": 10,
    "start_time": "2022-04-03T05:16:45.335Z"
   },
   {
    "duration": 12,
    "start_time": "2022-04-03T05:16:45.347Z"
   },
   {
    "duration": 43,
    "start_time": "2022-04-03T05:16:45.361Z"
   },
   {
    "duration": 12,
    "start_time": "2022-04-03T05:16:45.407Z"
   },
   {
    "duration": 27,
    "start_time": "2022-04-03T05:16:45.421Z"
   },
   {
    "duration": 21,
    "start_time": "2022-04-03T05:16:45.450Z"
   },
   {
    "duration": 33,
    "start_time": "2022-04-03T05:16:45.474Z"
   },
   {
    "duration": 15,
    "start_time": "2022-04-03T05:16:45.509Z"
   },
   {
    "duration": 9,
    "start_time": "2022-04-03T05:16:45.526Z"
   },
   {
    "duration": 19,
    "start_time": "2022-04-03T05:16:45.537Z"
   },
   {
    "duration": 9,
    "start_time": "2022-04-03T05:16:45.558Z"
   },
   {
    "duration": 33,
    "start_time": "2022-04-03T05:16:45.569Z"
   },
   {
    "duration": 37,
    "start_time": "2022-04-03T05:16:45.612Z"
   },
   {
    "duration": 30,
    "start_time": "2022-04-03T05:16:45.651Z"
   },
   {
    "duration": 5,
    "start_time": "2022-04-03T05:16:45.683Z"
   },
   {
    "duration": 8,
    "start_time": "2022-04-03T05:16:45.689Z"
   },
   {
    "duration": 17,
    "start_time": "2022-04-03T05:16:45.699Z"
   },
   {
    "duration": 9,
    "start_time": "2022-04-03T05:16:45.718Z"
   },
   {
    "duration": 125,
    "start_time": "2022-04-03T05:16:45.729Z"
   },
   {
    "duration": 19,
    "start_time": "2022-04-03T05:16:45.856Z"
   },
   {
    "duration": 6,
    "start_time": "2022-04-03T05:16:45.877Z"
   },
   {
    "duration": 16,
    "start_time": "2022-04-03T05:16:45.885Z"
   },
   {
    "duration": 48,
    "start_time": "2022-04-03T05:16:45.904Z"
   },
   {
    "duration": 1801,
    "start_time": "2022-04-03T05:16:45.953Z"
   },
   {
    "duration": 13,
    "start_time": "2022-04-03T05:16:47.756Z"
   },
   {
    "duration": 47,
    "start_time": "2022-04-03T05:16:47.771Z"
   },
   {
    "duration": 1600,
    "start_time": "2022-04-03T05:16:47.820Z"
   },
   {
    "duration": 15,
    "start_time": "2022-04-03T05:16:49.421Z"
   },
   {
    "duration": 37,
    "start_time": "2022-04-03T05:16:49.438Z"
   },
   {
    "duration": 1677,
    "start_time": "2022-04-03T05:16:49.477Z"
   },
   {
    "duration": 13,
    "start_time": "2022-04-03T05:16:51.156Z"
   },
   {
    "duration": 62,
    "start_time": "2022-04-03T05:16:51.171Z"
   },
   {
    "duration": 1760,
    "start_time": "2022-04-03T05:16:51.235Z"
   },
   {
    "duration": 20,
    "start_time": "2022-04-03T05:16:53.003Z"
   },
   {
    "duration": 24,
    "start_time": "2022-04-03T05:16:53.025Z"
   },
   {
    "duration": 18,
    "start_time": "2022-04-03T05:16:53.051Z"
   },
   {
    "duration": 39,
    "start_time": "2022-04-03T05:16:53.071Z"
   },
   {
    "duration": 9,
    "start_time": "2022-04-03T05:16:53.113Z"
   },
   {
    "duration": 22,
    "start_time": "2022-04-03T05:16:53.125Z"
   },
   {
    "duration": 15,
    "start_time": "2022-04-03T05:16:53.149Z"
   },
   {
    "duration": 36,
    "start_time": "2022-04-03T05:16:53.166Z"
   },
   {
    "duration": 32,
    "start_time": "2022-04-03T05:16:53.205Z"
   },
   {
    "duration": 9,
    "start_time": "2022-04-03T05:16:53.239Z"
   },
   {
    "duration": 14,
    "start_time": "2022-04-03T05:16:53.250Z"
   },
   {
    "duration": 35,
    "start_time": "2022-04-03T05:16:53.267Z"
   },
   {
    "duration": 4,
    "start_time": "2022-04-03T06:52:14.905Z"
   },
   {
    "duration": 102,
    "start_time": "2022-04-03T06:54:59.633Z"
   },
   {
    "duration": 13,
    "start_time": "2022-04-03T06:55:16.861Z"
   },
   {
    "duration": 4,
    "start_time": "2022-04-03T06:55:21.643Z"
   },
   {
    "duration": 208,
    "start_time": "2022-04-03T06:55:22.098Z"
   },
   {
    "duration": 4,
    "start_time": "2022-04-03T06:56:08.252Z"
   },
   {
    "duration": 174,
    "start_time": "2022-04-03T06:56:08.633Z"
   },
   {
    "duration": 5,
    "start_time": "2022-04-03T06:56:21.007Z"
   },
   {
    "duration": 193,
    "start_time": "2022-04-03T06:56:22.348Z"
   },
   {
    "duration": 182,
    "start_time": "2022-04-03T06:59:42.184Z"
   },
   {
    "duration": 173,
    "start_time": "2022-04-03T07:01:31.977Z"
   },
   {
    "duration": 176,
    "start_time": "2022-04-03T07:04:11.734Z"
   },
   {
    "duration": 4,
    "start_time": "2022-04-03T07:05:23.103Z"
   },
   {
    "duration": 179,
    "start_time": "2022-04-03T07:05:26.816Z"
   },
   {
    "duration": 287,
    "start_time": "2022-04-03T07:05:32.364Z"
   },
   {
    "duration": 173,
    "start_time": "2022-04-03T07:05:54.477Z"
   },
   {
    "duration": 185,
    "start_time": "2022-04-03T07:06:14.605Z"
   },
   {
    "duration": 175,
    "start_time": "2022-04-03T07:06:26.560Z"
   },
   {
    "duration": 183,
    "start_time": "2022-04-03T07:06:40.465Z"
   },
   {
    "duration": 9,
    "start_time": "2022-04-03T07:07:48.124Z"
   },
   {
    "duration": 3,
    "start_time": "2022-04-03T07:07:51.476Z"
   },
   {
    "duration": 189,
    "start_time": "2022-04-03T07:07:52.035Z"
   },
   {
    "duration": 188,
    "start_time": "2022-04-03T07:08:15.149Z"
   },
   {
    "duration": 176,
    "start_time": "2022-04-03T07:08:55.078Z"
   },
   {
    "duration": 173,
    "start_time": "2022-04-03T07:09:30.675Z"
   },
   {
    "duration": 185,
    "start_time": "2022-04-03T07:09:56.901Z"
   },
   {
    "duration": 172,
    "start_time": "2022-04-03T07:09:58.046Z"
   },
   {
    "duration": 174,
    "start_time": "2022-04-03T07:09:59.391Z"
   },
   {
    "duration": 6,
    "start_time": "2022-04-03T14:42:35.952Z"
   },
   {
    "duration": 4,
    "start_time": "2022-04-03T14:42:44.197Z"
   },
   {
    "duration": 20,
    "start_time": "2022-04-03T14:43:27.393Z"
   },
   {
    "duration": 888,
    "start_time": "2022-04-03T14:43:35.476Z"
   },
   {
    "duration": 60,
    "start_time": "2022-04-03T14:43:53.761Z"
   },
   {
    "duration": 23,
    "start_time": "2022-04-03T14:44:32.689Z"
   },
   {
    "duration": 604,
    "start_time": "2022-04-03T14:44:41.429Z"
   },
   {
    "duration": 44,
    "start_time": "2022-04-03T14:44:54.812Z"
   },
   {
    "duration": 23,
    "start_time": "2022-04-03T14:47:09.989Z"
   },
   {
    "duration": 579,
    "start_time": "2022-04-03T14:48:23.100Z"
   },
   {
    "duration": 67,
    "start_time": "2022-04-03T14:49:10.683Z"
   },
   {
    "duration": 22,
    "start_time": "2022-04-03T14:59:09.457Z"
   },
   {
    "duration": 617,
    "start_time": "2022-04-03T15:00:29.979Z"
   },
   {
    "duration": 45,
    "start_time": "2022-04-03T15:01:13.780Z"
   },
   {
    "duration": 41,
    "start_time": "2022-04-03T15:01:22.234Z"
   },
   {
    "duration": 44,
    "start_time": "2022-04-03T15:01:34.949Z"
   },
   {
    "duration": 41,
    "start_time": "2022-04-03T15:01:43.346Z"
   },
   {
    "duration": 14,
    "start_time": "2022-04-03T15:02:35.379Z"
   },
   {
    "duration": 1361,
    "start_time": "2022-04-03T15:45:52.377Z"
   },
   {
    "duration": 462,
    "start_time": "2022-04-03T15:45:53.741Z"
   },
   {
    "duration": 5,
    "start_time": "2022-04-03T15:45:54.206Z"
   },
   {
    "duration": 11,
    "start_time": "2022-04-03T15:45:54.214Z"
   },
   {
    "duration": 27,
    "start_time": "2022-04-03T15:45:54.229Z"
   },
   {
    "duration": 7,
    "start_time": "2022-04-03T15:45:54.258Z"
   },
   {
    "duration": 7,
    "start_time": "2022-04-03T15:45:54.267Z"
   },
   {
    "duration": 5,
    "start_time": "2022-04-03T15:45:54.301Z"
   },
   {
    "duration": 11,
    "start_time": "2022-04-03T15:45:54.308Z"
   },
   {
    "duration": 179,
    "start_time": "2022-04-03T15:45:54.322Z"
   },
   {
    "duration": 38,
    "start_time": "2022-04-03T15:45:54.503Z"
   },
   {
    "duration": 105,
    "start_time": "2022-04-03T15:45:54.543Z"
   },
   {
    "duration": 26,
    "start_time": "2022-04-03T15:45:54.650Z"
   },
   {
    "duration": 96,
    "start_time": "2022-04-03T15:45:54.678Z"
   },
   {
    "duration": 48,
    "start_time": "2022-04-03T15:45:54.776Z"
   },
   {
    "duration": 21,
    "start_time": "2022-04-03T15:45:54.825Z"
   },
   {
    "duration": 4,
    "start_time": "2022-04-03T15:45:54.847Z"
   },
   {
    "duration": 752,
    "start_time": "2022-04-03T15:45:54.853Z"
   },
   {
    "duration": 5,
    "start_time": "2022-04-03T15:45:55.607Z"
   },
   {
    "duration": 22,
    "start_time": "2022-04-03T15:45:55.613Z"
   },
   {
    "duration": 28,
    "start_time": "2022-04-03T15:45:55.637Z"
   },
   {
    "duration": 38,
    "start_time": "2022-04-03T15:45:55.666Z"
   },
   {
    "duration": 21,
    "start_time": "2022-04-03T15:45:55.705Z"
   },
   {
    "duration": 929,
    "start_time": "2022-04-03T15:45:55.728Z"
   },
   {
    "duration": 8,
    "start_time": "2022-04-03T15:45:56.659Z"
   },
   {
    "duration": 54,
    "start_time": "2022-04-03T15:45:56.669Z"
   },
   {
    "duration": 6,
    "start_time": "2022-04-03T15:45:56.724Z"
   },
   {
    "duration": 8,
    "start_time": "2022-04-03T15:45:56.735Z"
   },
   {
    "duration": 74,
    "start_time": "2022-04-03T15:45:56.745Z"
   },
   {
    "duration": 63,
    "start_time": "2022-04-03T15:45:56.821Z"
   },
   {
    "duration": 31,
    "start_time": "2022-04-03T15:45:56.886Z"
   },
   {
    "duration": 10,
    "start_time": "2022-04-03T15:45:56.918Z"
   },
   {
    "duration": 11,
    "start_time": "2022-04-03T15:45:56.929Z"
   },
   {
    "duration": 11,
    "start_time": "2022-04-03T15:45:56.941Z"
   },
   {
    "duration": 5,
    "start_time": "2022-04-03T15:45:56.954Z"
   },
   {
    "duration": 59,
    "start_time": "2022-04-03T15:45:56.961Z"
   },
   {
    "duration": 19,
    "start_time": "2022-04-03T15:45:57.022Z"
   },
   {
    "duration": 5,
    "start_time": "2022-04-03T15:45:57.043Z"
   },
   {
    "duration": 13,
    "start_time": "2022-04-03T15:45:57.049Z"
   },
   {
    "duration": 38,
    "start_time": "2022-04-03T15:45:57.064Z"
   },
   {
    "duration": 18,
    "start_time": "2022-04-03T15:45:57.104Z"
   },
   {
    "duration": 12,
    "start_time": "2022-04-03T15:45:57.123Z"
   },
   {
    "duration": 9,
    "start_time": "2022-04-03T15:45:57.137Z"
   },
   {
    "duration": 4,
    "start_time": "2022-04-03T15:45:57.148Z"
   },
   {
    "duration": 49,
    "start_time": "2022-04-03T15:45:57.154Z"
   },
   {
    "duration": 5,
    "start_time": "2022-04-03T15:45:57.205Z"
   },
   {
    "duration": 10,
    "start_time": "2022-04-03T15:45:57.211Z"
   },
   {
    "duration": 9,
    "start_time": "2022-04-03T15:45:57.224Z"
   },
   {
    "duration": 15,
    "start_time": "2022-04-03T15:45:57.234Z"
   },
   {
    "duration": 131,
    "start_time": "2022-04-03T15:45:57.251Z"
   },
   {
    "duration": 24,
    "start_time": "2022-04-03T15:45:57.384Z"
   },
   {
    "duration": 8,
    "start_time": "2022-04-03T15:45:57.410Z"
   },
   {
    "duration": 7,
    "start_time": "2022-04-03T15:45:57.419Z"
   },
   {
    "duration": 24,
    "start_time": "2022-04-03T15:45:57.428Z"
   },
   {
    "duration": 733,
    "start_time": "2022-04-03T15:45:57.453Z"
   },
   {
    "duration": 46,
    "start_time": "2022-04-03T15:45:58.187Z"
   },
   {
    "duration": 22,
    "start_time": "2022-04-03T15:45:58.235Z"
   },
   {
    "duration": 610,
    "start_time": "2022-04-03T15:45:58.259Z"
   },
   {
    "duration": 56,
    "start_time": "2022-04-03T15:45:58.872Z"
   },
   {
    "duration": 21,
    "start_time": "2022-04-03T15:45:58.930Z"
   },
   {
    "duration": 606,
    "start_time": "2022-04-03T15:45:58.953Z"
   },
   {
    "duration": 51,
    "start_time": "2022-04-03T15:45:59.561Z"
   },
   {
    "duration": 22,
    "start_time": "2022-04-03T15:45:59.614Z"
   },
   {
    "duration": 655,
    "start_time": "2022-04-03T15:45:59.639Z"
   },
   {
    "duration": 49,
    "start_time": "2022-04-03T15:46:00.300Z"
   },
   {
    "duration": 14,
    "start_time": "2022-04-03T15:46:00.351Z"
   },
   {
    "duration": 4,
    "start_time": "2022-04-03T15:46:00.368Z"
   },
   {
    "duration": 22,
    "start_time": "2022-04-03T15:46:00.401Z"
   },
   {
    "duration": 44,
    "start_time": "2022-04-03T15:46:00.425Z"
   },
   {
    "duration": 1670,
    "start_time": "2022-04-03T15:46:00.472Z"
   },
   {
    "duration": 5,
    "start_time": "2022-04-03T15:46:02.145Z"
   },
   {
    "duration": 1787,
    "start_time": "2022-04-03T15:46:02.153Z"
   },
   {
    "duration": 15,
    "start_time": "2022-04-03T15:46:03.942Z"
   },
   {
    "duration": 62,
    "start_time": "2022-04-03T15:46:03.959Z"
   },
   {
    "duration": 1732,
    "start_time": "2022-04-03T15:46:04.023Z"
   },
   {
    "duration": 14,
    "start_time": "2022-04-03T15:46:05.758Z"
   },
   {
    "duration": 54,
    "start_time": "2022-04-03T15:46:05.774Z"
   },
   {
    "duration": 1814,
    "start_time": "2022-04-03T15:46:05.830Z"
   },
   {
    "duration": 14,
    "start_time": "2022-04-03T15:46:07.646Z"
   },
   {
    "duration": 54,
    "start_time": "2022-04-03T15:46:07.662Z"
   },
   {
    "duration": 1599,
    "start_time": "2022-04-03T15:46:07.718Z"
   },
   {
    "duration": 14,
    "start_time": "2022-04-03T15:46:09.324Z"
   },
   {
    "duration": 18,
    "start_time": "2022-04-03T15:46:09.340Z"
   },
   {
    "duration": 52,
    "start_time": "2022-04-03T15:46:09.360Z"
   },
   {
    "duration": 15,
    "start_time": "2022-04-03T15:46:09.414Z"
   },
   {
    "duration": 7,
    "start_time": "2022-04-03T15:46:09.431Z"
   },
   {
    "duration": 33,
    "start_time": "2022-04-03T15:46:09.440Z"
   },
   {
    "duration": 34,
    "start_time": "2022-04-03T15:46:09.475Z"
   },
   {
    "duration": 5,
    "start_time": "2022-04-03T15:46:09.511Z"
   },
   {
    "duration": 25,
    "start_time": "2022-04-03T15:46:09.518Z"
   },
   {
    "duration": 9,
    "start_time": "2022-04-03T15:46:09.546Z"
   },
   {
    "duration": 20,
    "start_time": "2022-04-03T15:46:09.557Z"
   },
   {
    "duration": 17,
    "start_time": "2022-04-03T15:46:09.601Z"
   },
   {
    "duration": 1288,
    "start_time": "2022-04-04T11:24:31.940Z"
   },
   {
    "duration": 431,
    "start_time": "2022-04-04T11:24:33.230Z"
   },
   {
    "duration": 4,
    "start_time": "2022-04-04T11:24:33.663Z"
   },
   {
    "duration": 6,
    "start_time": "2022-04-04T11:24:33.670Z"
   },
   {
    "duration": 39,
    "start_time": "2022-04-04T11:24:33.678Z"
   },
   {
    "duration": 9,
    "start_time": "2022-04-04T11:24:33.719Z"
   },
   {
    "duration": 7,
    "start_time": "2022-04-04T11:24:33.730Z"
   },
   {
    "duration": 8,
    "start_time": "2022-04-04T11:24:33.739Z"
   },
   {
    "duration": 14,
    "start_time": "2022-04-04T11:24:33.749Z"
   },
   {
    "duration": 187,
    "start_time": "2022-04-04T11:24:33.766Z"
   },
   {
    "duration": 51,
    "start_time": "2022-04-04T11:24:33.955Z"
   },
   {
    "duration": 112,
    "start_time": "2022-04-04T11:24:34.008Z"
   },
   {
    "duration": 38,
    "start_time": "2022-04-04T11:24:34.123Z"
   },
   {
    "duration": 105,
    "start_time": "2022-04-04T11:24:34.163Z"
   },
   {
    "duration": 43,
    "start_time": "2022-04-04T11:24:34.270Z"
   },
   {
    "duration": 20,
    "start_time": "2022-04-04T11:24:34.315Z"
   },
   {
    "duration": 6,
    "start_time": "2022-04-04T11:24:34.337Z"
   },
   {
    "duration": 1031,
    "start_time": "2022-04-04T11:24:34.345Z"
   },
   {
    "duration": 6,
    "start_time": "2022-04-04T11:24:35.378Z"
   },
   {
    "duration": 29,
    "start_time": "2022-04-04T11:24:35.386Z"
   },
   {
    "duration": 27,
    "start_time": "2022-04-04T11:24:35.416Z"
   },
   {
    "duration": 8,
    "start_time": "2022-04-04T11:24:35.445Z"
   },
   {
    "duration": 47,
    "start_time": "2022-04-04T11:24:35.455Z"
   },
   {
    "duration": 919,
    "start_time": "2022-04-04T11:24:35.505Z"
   },
   {
    "duration": 9,
    "start_time": "2022-04-04T11:24:36.426Z"
   },
   {
    "duration": 45,
    "start_time": "2022-04-04T11:24:36.437Z"
   },
   {
    "duration": 19,
    "start_time": "2022-04-04T11:24:36.484Z"
   },
   {
    "duration": 39,
    "start_time": "2022-04-04T11:24:36.509Z"
   },
   {
    "duration": 76,
    "start_time": "2022-04-04T11:24:36.550Z"
   },
   {
    "duration": 76,
    "start_time": "2022-04-04T11:24:36.629Z"
   },
   {
    "duration": 37,
    "start_time": "2022-04-04T11:24:36.707Z"
   },
   {
    "duration": 12,
    "start_time": "2022-04-04T11:24:36.746Z"
   },
   {
    "duration": 12,
    "start_time": "2022-04-04T11:24:36.760Z"
   },
   {
    "duration": 13,
    "start_time": "2022-04-04T11:24:36.801Z"
   },
   {
    "duration": 9,
    "start_time": "2022-04-04T11:24:36.817Z"
   },
   {
    "duration": 39,
    "start_time": "2022-04-04T11:24:36.828Z"
   },
   {
    "duration": 32,
    "start_time": "2022-04-04T11:24:36.869Z"
   },
   {
    "duration": 7,
    "start_time": "2022-04-04T11:24:36.903Z"
   },
   {
    "duration": 9,
    "start_time": "2022-04-04T11:24:36.913Z"
   },
   {
    "duration": 10,
    "start_time": "2022-04-04T11:24:36.924Z"
   },
   {
    "duration": 17,
    "start_time": "2022-04-04T11:24:36.935Z"
   },
   {
    "duration": 8,
    "start_time": "2022-04-04T11:24:36.954Z"
   },
   {
    "duration": 43,
    "start_time": "2022-04-04T11:24:36.964Z"
   },
   {
    "duration": 9,
    "start_time": "2022-04-04T11:24:37.009Z"
   },
   {
    "duration": 42,
    "start_time": "2022-04-04T11:24:37.021Z"
   },
   {
    "duration": 6,
    "start_time": "2022-04-04T11:24:37.065Z"
   },
   {
    "duration": 29,
    "start_time": "2022-04-04T11:24:37.073Z"
   },
   {
    "duration": 6,
    "start_time": "2022-04-04T11:24:37.105Z"
   },
   {
    "duration": 20,
    "start_time": "2022-04-04T11:24:37.113Z"
   },
   {
    "duration": 188,
    "start_time": "2022-04-04T11:24:37.136Z"
   },
   {
    "duration": 24,
    "start_time": "2022-04-04T11:24:37.327Z"
   },
   {
    "duration": 5,
    "start_time": "2022-04-04T11:24:37.353Z"
   },
   {
    "duration": 5,
    "start_time": "2022-04-04T11:24:37.360Z"
   },
   {
    "duration": 49,
    "start_time": "2022-04-04T11:24:37.368Z"
   },
   {
    "duration": 909,
    "start_time": "2022-04-04T11:24:37.419Z"
   },
   {
    "duration": 40,
    "start_time": "2022-04-04T11:24:38.330Z"
   },
   {
    "duration": 40,
    "start_time": "2022-04-04T11:24:38.372Z"
   },
   {
    "duration": 555,
    "start_time": "2022-04-04T11:24:38.414Z"
   },
   {
    "duration": 51,
    "start_time": "2022-04-04T11:24:38.971Z"
   },
   {
    "duration": 23,
    "start_time": "2022-04-04T11:24:39.024Z"
   },
   {
    "duration": 623,
    "start_time": "2022-04-04T11:24:39.050Z"
   },
   {
    "duration": 50,
    "start_time": "2022-04-04T11:24:39.676Z"
   },
   {
    "duration": 20,
    "start_time": "2022-04-04T11:24:39.729Z"
   },
   {
    "duration": 658,
    "start_time": "2022-04-04T11:24:39.750Z"
   },
   {
    "duration": 42,
    "start_time": "2022-04-04T11:24:40.410Z"
   },
   {
    "duration": 13,
    "start_time": "2022-04-04T11:24:40.454Z"
   },
   {
    "duration": 32,
    "start_time": "2022-04-04T11:24:40.469Z"
   },
   {
    "duration": 12,
    "start_time": "2022-04-04T11:24:40.503Z"
   },
   {
    "duration": 40,
    "start_time": "2022-04-04T11:24:40.517Z"
   },
   {
    "duration": 1644,
    "start_time": "2022-04-04T11:24:40.558Z"
   },
   {
    "duration": 5,
    "start_time": "2022-04-04T11:24:42.204Z"
   },
   {
    "duration": 2413,
    "start_time": "2022-04-04T11:24:42.211Z"
   },
   {
    "duration": 15,
    "start_time": "2022-04-04T11:24:44.625Z"
   },
   {
    "duration": 39,
    "start_time": "2022-04-04T11:24:44.642Z"
   },
   {
    "duration": 1585,
    "start_time": "2022-04-04T11:24:44.682Z"
   },
   {
    "duration": 15,
    "start_time": "2022-04-04T11:24:46.270Z"
   },
   {
    "duration": 52,
    "start_time": "2022-04-04T11:24:46.287Z"
   },
   {
    "duration": 1793,
    "start_time": "2022-04-04T11:24:46.340Z"
   },
   {
    "duration": 16,
    "start_time": "2022-04-04T11:24:48.135Z"
   },
   {
    "duration": 59,
    "start_time": "2022-04-04T11:24:48.153Z"
   },
   {
    "duration": 1587,
    "start_time": "2022-04-04T11:24:48.214Z"
   },
   {
    "duration": 14,
    "start_time": "2022-04-04T11:24:49.808Z"
   },
   {
    "duration": 15,
    "start_time": "2022-04-04T11:24:49.824Z"
   },
   {
    "duration": 20,
    "start_time": "2022-04-04T11:24:49.841Z"
   },
   {
    "duration": 46,
    "start_time": "2022-04-04T11:24:49.863Z"
   },
   {
    "duration": 17,
    "start_time": "2022-04-04T11:24:49.911Z"
   },
   {
    "duration": 22,
    "start_time": "2022-04-04T11:24:49.930Z"
   },
   {
    "duration": 13,
    "start_time": "2022-04-04T11:24:49.954Z"
   },
   {
    "duration": 4,
    "start_time": "2022-04-04T11:24:49.969Z"
   },
   {
    "duration": 40,
    "start_time": "2022-04-04T11:24:49.975Z"
   },
   {
    "duration": 7,
    "start_time": "2022-04-04T11:24:50.017Z"
   },
   {
    "duration": 25,
    "start_time": "2022-04-04T11:24:50.026Z"
   },
   {
    "duration": 14,
    "start_time": "2022-04-04T11:24:50.053Z"
   }
  ],
  "kernelspec": {
   "display_name": "Python 3 (ipykernel)",
   "language": "python",
   "name": "python3"
  },
  "language_info": {
   "codemirror_mode": {
    "name": "ipython",
    "version": 3
   },
   "file_extension": ".py",
   "mimetype": "text/x-python",
   "name": "python",
   "nbconvert_exporter": "python",
   "pygments_lexer": "ipython3",
   "version": "3.9.7"
  },
  "toc": {
   "base_numbering": 1,
   "nav_menu": {},
   "number_sections": true,
   "sideBar": true,
   "skip_h1_title": true,
   "title_cell": "Содержание",
   "title_sidebar": "Contents",
   "toc_cell": true,
   "toc_position": {
    "height": "calc(100% - 180px)",
    "left": "10px",
    "top": "150px",
    "width": "497.865px"
   },
   "toc_section_display": true,
   "toc_window_display": false
  }
 },
 "nbformat": 4,
 "nbformat_minor": 2
}
