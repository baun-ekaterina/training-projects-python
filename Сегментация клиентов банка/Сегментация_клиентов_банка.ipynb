{
 "cells": [
  {
   "cell_type": "markdown",
   "id": "6a9e8c96",
   "metadata": {},
   "source": [
    "# Сегментация клиентов банка по потреблению"
   ]
  },
  {
   "cell_type": "markdown",
   "id": "d2bb7f37",
   "metadata": {
    "toc": true
   },
   "source": [
    "<h1>Содержание<span class=\"tocSkip\"></span></h1>\n",
    "<div class=\"toc\"><ul class=\"toc-item\"><li><span><a href=\"#Обзор-данных\" data-toc-modified-id=\"Обзор-данных-1\"><span class=\"toc-item-num\">1&nbsp;&nbsp;</span>Обзор данных</a></span></li><li><span><a href=\"#Предобработка-данных\" data-toc-modified-id=\"Предобработка-данных-2\"><span class=\"toc-item-num\">2&nbsp;&nbsp;</span>Предобработка данных</a></span></li><li><span><a href=\"#Исследовательский-анализ-данных\" data-toc-modified-id=\"Исследовательский-анализ-данных-3\"><span class=\"toc-item-num\">3&nbsp;&nbsp;</span>Исследовательский анализ данных</a></span><ul class=\"toc-item\"><li><span><a href=\"#Анализ-статистических-показателей\" data-toc-modified-id=\"Анализ-статистических-показателей-3.1\"><span class=\"toc-item-num\">3.1&nbsp;&nbsp;</span>Анализ статистических показателей</a></span></li><li><span><a href=\"#Визуализация-распределений-числовых-признаков.-Выбросы-и-аномалии\" data-toc-modified-id=\"Визуализация-распределений-числовых-признаков.-Выбросы-и-аномалии-3.2\"><span class=\"toc-item-num\">3.2&nbsp;&nbsp;</span>Визуализация распределений числовых признаков. Выбросы и аномалии</a></span></li><li><span><a href=\"#Портреты-уходящих-и-лояльных-клиентов\" data-toc-modified-id=\"Портреты-уходящих-и-лояльных-клиентов-3.3\"><span class=\"toc-item-num\">3.3&nbsp;&nbsp;</span>Портреты уходящих и лояльных клиентов</a></span></li><li><span><a href=\"#Анализ-влияния-признаков-на-целевой-показатель-оттока\" data-toc-modified-id=\"Анализ-влияния-признаков-на-целевой-показатель-оттока-3.4\"><span class=\"toc-item-num\">3.4&nbsp;&nbsp;</span>Анализ влияния признаков на целевой показатель оттока</a></span></li><li><span><a href=\"#Выделение-стратегически-важных-признаков\" data-toc-modified-id=\"Выделение-стратегически-важных-признаков-3.5\"><span class=\"toc-item-num\">3.5&nbsp;&nbsp;</span>Выделение стратегически важных признаков</a></span></li></ul></li><li><span><a href=\"#Сегментация-пользователей-по-потреблению\" data-toc-modified-id=\"Сегментация-пользователей-по-потреблению-4\"><span class=\"toc-item-num\">4&nbsp;&nbsp;</span>Сегментация пользователей по потреблению</a></span><ul class=\"toc-item\"><li><span><a href=\"#Сегментация-клиентов-по-количеству-продуктов\" data-toc-modified-id=\"Сегментация-клиентов-по-количеству-продуктов-4.1\"><span class=\"toc-item-num\">4.1&nbsp;&nbsp;</span>Сегментация клиентов по количеству продуктов</a></span></li><li><span><a href=\"#Дополнительная-сегментация-клиентов-с-1-продуктом\" data-toc-modified-id=\"Дополнительная-сегментация-клиентов-с-1-продуктом-4.2\"><span class=\"toc-item-num\">4.2&nbsp;&nbsp;</span>Дополнительная сегментация клиентов с 1 продуктом</a></span><ul class=\"toc-item\"><li><span><a href=\"#Целевые-клиенты-с-1-продуктом\" data-toc-modified-id=\"Целевые-клиенты-с-1-продуктом-4.2.1\"><span class=\"toc-item-num\">4.2.1&nbsp;&nbsp;</span>Целевые клиенты с 1 продуктом</a></span></li></ul></li><li><span><a href=\"#Итоговая-сегментация-клиентов\" data-toc-modified-id=\"Итоговая-сегментация-клиентов-4.3\"><span class=\"toc-item-num\">4.3&nbsp;&nbsp;</span>Итоговая сегментация клиентов</a></span></li></ul></li><li><span><a href=\"#Проверка-статистических-гипотез\" data-toc-modified-id=\"Проверка-статистических-гипотез-5\"><span class=\"toc-item-num\">5&nbsp;&nbsp;</span>Проверка статистических гипотез</a></span><ul class=\"toc-item\"><li><span><a href=\"#Сравнение-дохода-между-клиентами-с-1-и-2-продуктами\" data-toc-modified-id=\"Сравнение-дохода-между-клиентами-с-1-и-2-продуктами-5.1\"><span class=\"toc-item-num\">5.1&nbsp;&nbsp;</span>Сравнение дохода между клиентами с 1 и 2 продуктами</a></span></li><li><span><a href=\"#Сравнение-уровня-оттока-между-клиентами-банка-разного-возраста\" data-toc-modified-id=\"Сравнение-уровня-оттока-между-клиентами-банка-разного-возраста-5.2\"><span class=\"toc-item-num\">5.2&nbsp;&nbsp;</span>Сравнение уровня оттока между клиентами банка разного возраста</a></span></li></ul></li><li><span><a href=\"#Общие-выводы-и-рекомендации\" data-toc-modified-id=\"Общие-выводы-и-рекомендации-6\"><span class=\"toc-item-num\">6&nbsp;&nbsp;</span>Общие выводы и рекомендации</a></span></li></ul></div>"
   ]
  },
  {
   "cell_type": "markdown",
   "id": "e802d930",
   "metadata": {},
   "source": [
    "Загрузим все необходимые для работы библиотеки и методы:"
   ]
  },
  {
   "cell_type": "code",
   "execution_count": 1,
   "id": "eb3ac03e",
   "metadata": {},
   "outputs": [],
   "source": [
    "import pandas as pd\n",
    "import numpy as np\n",
    "import matplotlib.pyplot as plt\n",
    "import seaborn as sns\n",
    "\n",
    "from scipy.stats import mannwhitneyu\n",
    "from statsmodels.stats.proportion import proportions_ztest\n",
    "\n",
    "# установка параметров отображения для графиков\n",
    "custom_params = {'axes.spines.right': False, 'axes.spines.top': False}\n",
    "sns.set_theme(style='whitegrid', rc=custom_params)\n",
    "\n",
    "# сброс ограничений на число столбцов выводимой таблицы\n",
    "pd.set_option('display.max_columns', None)\n",
    "\n",
    "# убрать предупреждения Pandas\n",
    "import warnings\n",
    "warnings.filterwarnings('ignore')"
   ]
  },
  {
   "cell_type": "markdown",
   "id": "f6cb95b2",
   "metadata": {},
   "source": [
    "## Обзор данных"
   ]
  },
  {
   "cell_type": "markdown",
   "id": "175ae110",
   "metadata": {},
   "source": [
    "Загрузим датасет и посмотрим на фрагмент данных из него, выведем общую информацию о таблице:"
   ]
  },
  {
   "cell_type": "code",
   "execution_count": 2,
   "id": "07189467",
   "metadata": {},
   "outputs": [
    {
     "data": {
      "text/html": [
       "<div>\n",
       "<style scoped>\n",
       "    .dataframe tbody tr th:only-of-type {\n",
       "        vertical-align: middle;\n",
       "    }\n",
       "\n",
       "    .dataframe tbody tr th {\n",
       "        vertical-align: top;\n",
       "    }\n",
       "\n",
       "    .dataframe thead th {\n",
       "        text-align: right;\n",
       "    }\n",
       "</style>\n",
       "<table border=\"1\" class=\"dataframe\">\n",
       "  <thead>\n",
       "    <tr style=\"text-align: right;\">\n",
       "      <th></th>\n",
       "      <th>userid</th>\n",
       "      <th>score</th>\n",
       "      <th>city</th>\n",
       "      <th>gender</th>\n",
       "      <th>age</th>\n",
       "      <th>equity</th>\n",
       "      <th>balance</th>\n",
       "      <th>products</th>\n",
       "      <th>credit_card</th>\n",
       "      <th>last_activity</th>\n",
       "      <th>salary</th>\n",
       "      <th>churn</th>\n",
       "    </tr>\n",
       "  </thead>\n",
       "  <tbody>\n",
       "    <tr>\n",
       "      <th>0</th>\n",
       "      <td>258835</td>\n",
       "      <td>673</td>\n",
       "      <td>Ростов</td>\n",
       "      <td>Ж</td>\n",
       "      <td>32</td>\n",
       "      <td>0</td>\n",
       "      <td>467428.54</td>\n",
       "      <td>1</td>\n",
       "      <td>0</td>\n",
       "      <td>1</td>\n",
       "      <td>81011.65</td>\n",
       "      <td>True</td>\n",
       "    </tr>\n",
       "    <tr>\n",
       "      <th>1</th>\n",
       "      <td>96660</td>\n",
       "      <td>691</td>\n",
       "      <td>Ростов</td>\n",
       "      <td>Ж</td>\n",
       "      <td>31</td>\n",
       "      <td>3</td>\n",
       "      <td>65548.60</td>\n",
       "      <td>1</td>\n",
       "      <td>0</td>\n",
       "      <td>1</td>\n",
       "      <td>57005.02</td>\n",
       "      <td>True</td>\n",
       "    </tr>\n",
       "    <tr>\n",
       "      <th>2</th>\n",
       "      <td>99838</td>\n",
       "      <td>679</td>\n",
       "      <td>Ростов</td>\n",
       "      <td>Ж</td>\n",
       "      <td>30</td>\n",
       "      <td>1</td>\n",
       "      <td>686979.40</td>\n",
       "      <td>1</td>\n",
       "      <td>1</td>\n",
       "      <td>1</td>\n",
       "      <td>149687.98</td>\n",
       "      <td>True</td>\n",
       "    </tr>\n",
       "    <tr>\n",
       "      <th>3</th>\n",
       "      <td>216099</td>\n",
       "      <td>717</td>\n",
       "      <td>Рыбинск</td>\n",
       "      <td>Ж</td>\n",
       "      <td>25</td>\n",
       "      <td>2</td>\n",
       "      <td>1292171.92</td>\n",
       "      <td>1</td>\n",
       "      <td>0</td>\n",
       "      <td>1</td>\n",
       "      <td>19502.68</td>\n",
       "      <td>True</td>\n",
       "    </tr>\n",
       "    <tr>\n",
       "      <th>4</th>\n",
       "      <td>120240</td>\n",
       "      <td>744</td>\n",
       "      <td>Рыбинск</td>\n",
       "      <td>Ж</td>\n",
       "      <td>37</td>\n",
       "      <td>1</td>\n",
       "      <td>1390927.97</td>\n",
       "      <td>1</td>\n",
       "      <td>0</td>\n",
       "      <td>1</td>\n",
       "      <td>36861.24</td>\n",
       "      <td>True</td>\n",
       "    </tr>\n",
       "  </tbody>\n",
       "</table>\n",
       "</div>"
      ],
      "text/plain": [
       "   userid  score     city gender  age  equity     balance  products  \\\n",
       "0  258835    673   Ростов      Ж   32       0   467428.54         1   \n",
       "1   96660    691   Ростов      Ж   31       3    65548.60         1   \n",
       "2   99838    679   Ростов      Ж   30       1   686979.40         1   \n",
       "3  216099    717  Рыбинск      Ж   25       2  1292171.92         1   \n",
       "4  120240    744  Рыбинск      Ж   37       1  1390927.97         1   \n",
       "\n",
       "   credit_card  last_activity     salary  churn  \n",
       "0            0              1   81011.65   True  \n",
       "1            0              1   57005.02   True  \n",
       "2            1              1  149687.98   True  \n",
       "3            0              1   19502.68   True  \n",
       "4            0              1   36861.24   True  "
      ]
     },
     "metadata": {},
     "output_type": "display_data"
    },
    {
     "name": "stdout",
     "output_type": "stream",
     "text": [
      "****************************************************************************************************\n",
      "<class 'pandas.core.frame.DataFrame'>\n",
      "Int64Index: 10000 entries, 0 to 9999\n",
      "Data columns (total 12 columns):\n",
      " #   Column         Non-Null Count  Dtype  \n",
      "---  ------         --------------  -----  \n",
      " 0   userid         10000 non-null  int64  \n",
      " 1   score          10000 non-null  int64  \n",
      " 2   city           10000 non-null  object \n",
      " 3   gender         10000 non-null  object \n",
      " 4   age            10000 non-null  int64  \n",
      " 5   equity         10000 non-null  int64  \n",
      " 6   balance        7706 non-null   float64\n",
      " 7   products       10000 non-null  int64  \n",
      " 8   credit_card    10000 non-null  int64  \n",
      " 9   last_activity  10000 non-null  int64  \n",
      " 10  salary         10000 non-null  float64\n",
      " 11  churn          10000 non-null  bool   \n",
      "dtypes: bool(1), float64(2), int64(7), object(2)\n",
      "memory usage: 947.3+ KB\n",
      "None\n",
      "****************************************************************************************************\n",
      "Количество уникальных значений по столбцам:\n",
      "userid: 10000\n",
      "score: 551\n",
      "city: 3 ['Ростов' 'Рыбинск' 'Ярославль']\n",
      "gender: 2 ['Ж' 'М']\n",
      "age: 68\n",
      "equity: 10\n",
      "balance: 7706\n",
      "products: 5\n",
      "credit_card: 2 [0 1]\n",
      "last_activity: 2 [1 0]\n",
      "salary: 9999\n",
      "churn: 2 [ True False]\n"
     ]
    }
   ],
   "source": [
    "df = pd.read_csv(path)\n",
    "\n",
    "display(df.head())\n",
    "print('*' * 100)\n",
    "print(df.info())\n",
    "print('*' * 100)\n",
    "print('Количество уникальных значений по столбцам:')\n",
    "for col in df.columns:\n",
    "    if df[col].nunique()<=3:\n",
    "        print(f'{col}: {df[col].nunique()} {df[col].unique()}')\n",
    "    else:\n",
    "        print(f'{col}: {df[col].nunique()}')"
   ]
  },
  {
   "cell_type": "markdown",
   "id": "464a4c7d",
   "metadata": {},
   "source": [
    "В нашем распоряжении таблица из 10000 строк и 12 колонок, которые включают в себя следующие данные:\n",
    "* `userid` — идентификатор пользователя (все уникальные),\n",
    "* `score` — баллы кредитного скоринга,\n",
    "* `city` — город (3 разных наименования),\n",
    "* `gender` — пол,\n",
    "* `age` — возраст,\n",
    "* `equity` — приблизительная оценка собственности клиента,\n",
    "* `balance` — баланс на счёте,\n",
    "* `products` — количество продуктов, которыми пользуется клиент,\n",
    "* `credit_card` — есть ли кредитная карта,\n",
    "* `last_activity` — был ли клиент активен последнее время,\n",
    "* `salary` — заработная плата клиента,\n",
    "* `churn` — уходит или нет."
   ]
  },
  {
   "cell_type": "markdown",
   "id": "0a2d4eee",
   "metadata": {},
   "source": [
    "**Вывод**\n",
    "\n",
    "Обзор данных осуществлен. На шаге предобработки будем приводить наименования колонки с идентификатором пользователя в \"змеиный регистр\", менять тип данных у столбца с оттоком. В столбце с балансом на счёте определяются пропущенные значения, с которыми надо разобраться. В целом, предоставленных данных достаточно для выполнения целей проекта."
   ]
  },
  {
   "cell_type": "markdown",
   "id": "96803cf7",
   "metadata": {},
   "source": [
    "## Предобработка данных"
   ]
  },
  {
   "cell_type": "markdown",
   "id": "f1a552c6",
   "metadata": {},
   "source": [
    "Подготовим таблицу к дальнейшей работе: сначала формальные изменения и проверки:"
   ]
  },
  {
   "cell_type": "code",
   "execution_count": 3,
   "id": "d5a412fc",
   "metadata": {},
   "outputs": [
    {
     "name": "stdout",
     "output_type": "stream",
     "text": [
      "Количество дубликатов строк: 0\n",
      "Пропусков в столбце 'balance': 2294 шт.\n",
      "Пропусков в столбце 'balance': 23%\n"
     ]
    }
   ],
   "source": [
    "# меняем название колонки\n",
    "df = df.rename(columns={'userid': 'user_id'})\n",
    "\n",
    "# меняем тип данных с bool на int\n",
    "df['churn'] = df['churn'].apply(lambda x: 1 if x else 0)\n",
    "\n",
    "# проверка дубликатов\n",
    "print(f'Количество дубликатов строк: {df.duplicated().sum()}')\n",
    "\n",
    "# проверка пропусков в столбце 'balance'\n",
    "print(f\"Пропусков в столбце 'balance': {df.balance.isna().sum()} шт.\")\n",
    "print(f\"Пропусков в столбце 'balance': {round(df.balance.isna().sum() / len(df) * 100)}%\")"
   ]
  },
  {
   "cell_type": "markdown",
   "id": "0b4fbf0b",
   "metadata": {},
   "source": [
    "Пропущенных значений баланса средств много, попробуем разобраться в причинах их возникновения. Сначала посмотрим, какое минимальное значение баланса мы имеем:"
   ]
  },
  {
   "cell_type": "code",
   "execution_count": 4,
   "id": "9a2a41f5",
   "metadata": {},
   "outputs": [
    {
     "data": {
      "text/plain": [
       "219.76"
      ]
     },
     "execution_count": 4,
     "metadata": {},
     "output_type": "execute_result"
    }
   ],
   "source": [
    "df['balance'].min()"
   ]
  },
  {
   "cell_type": "markdown",
   "id": "fea96704",
   "metadata": {},
   "source": [
    "Нулей нет вообще, и это странно, поскольку есть куча банковских продуктов, которые допускают нулевой баланс: текущий счет, вклад \"до востробования\" и пр. При этом современные модели банковского обслуживания основаны именно на обязательном открытии любому новому клиенту текущего счета + часто с выдачей карты, через которую клиент взаимодействует с банком. Скорее всего, NaN в датасете - это и есть 0."
   ]
  },
  {
   "cell_type": "markdown",
   "id": "8e0eb82f",
   "metadata": {},
   "source": [
    "Выделим целевые строки с пропусками, объединим по отдельным признакам и посмотрим на число пропусков в группах: "
   ]
  },
  {
   "cell_type": "code",
   "execution_count": 5,
   "id": "f0d4b327",
   "metadata": {},
   "outputs": [
    {
     "data": {
      "text/html": [
       "<div>\n",
       "<style scoped>\n",
       "    .dataframe tbody tr th:only-of-type {\n",
       "        vertical-align: middle;\n",
       "    }\n",
       "\n",
       "    .dataframe tbody tr th {\n",
       "        vertical-align: top;\n",
       "    }\n",
       "\n",
       "    .dataframe thead th {\n",
       "        text-align: right;\n",
       "    }\n",
       "</style>\n",
       "<table border=\"1\" class=\"dataframe\">\n",
       "  <thead>\n",
       "    <tr style=\"text-align: right;\">\n",
       "      <th></th>\n",
       "      <th>city</th>\n",
       "      <th>user_id</th>\n",
       "    </tr>\n",
       "  </thead>\n",
       "  <tbody>\n",
       "    <tr>\n",
       "      <th>0</th>\n",
       "      <td>Ростов</td>\n",
       "      <td>239</td>\n",
       "    </tr>\n",
       "    <tr>\n",
       "      <th>1</th>\n",
       "      <td>Рыбинск</td>\n",
       "      <td>577</td>\n",
       "    </tr>\n",
       "    <tr>\n",
       "      <th>2</th>\n",
       "      <td>Ярославль</td>\n",
       "      <td>1478</td>\n",
       "    </tr>\n",
       "  </tbody>\n",
       "</table>\n",
       "</div>"
      ],
      "text/plain": [
       "        city  user_id\n",
       "0     Ростов      239\n",
       "1    Рыбинск      577\n",
       "2  Ярославль     1478"
      ]
     },
     "metadata": {},
     "output_type": "display_data"
    },
    {
     "data": {
      "text/html": [
       "<div>\n",
       "<style scoped>\n",
       "    .dataframe tbody tr th:only-of-type {\n",
       "        vertical-align: middle;\n",
       "    }\n",
       "\n",
       "    .dataframe tbody tr th {\n",
       "        vertical-align: top;\n",
       "    }\n",
       "\n",
       "    .dataframe thead th {\n",
       "        text-align: right;\n",
       "    }\n",
       "</style>\n",
       "<table border=\"1\" class=\"dataframe\">\n",
       "  <thead>\n",
       "    <tr style=\"text-align: right;\">\n",
       "      <th></th>\n",
       "      <th>gender</th>\n",
       "      <th>user_id</th>\n",
       "    </tr>\n",
       "  </thead>\n",
       "  <tbody>\n",
       "    <tr>\n",
       "      <th>0</th>\n",
       "      <td>Ж</td>\n",
       "      <td>1011</td>\n",
       "    </tr>\n",
       "    <tr>\n",
       "      <th>1</th>\n",
       "      <td>М</td>\n",
       "      <td>1283</td>\n",
       "    </tr>\n",
       "  </tbody>\n",
       "</table>\n",
       "</div>"
      ],
      "text/plain": [
       "  gender  user_id\n",
       "0      Ж     1011\n",
       "1      М     1283"
      ]
     },
     "metadata": {},
     "output_type": "display_data"
    },
    {
     "data": {
      "text/html": [
       "<div>\n",
       "<style scoped>\n",
       "    .dataframe tbody tr th:only-of-type {\n",
       "        vertical-align: middle;\n",
       "    }\n",
       "\n",
       "    .dataframe tbody tr th {\n",
       "        vertical-align: top;\n",
       "    }\n",
       "\n",
       "    .dataframe thead th {\n",
       "        text-align: right;\n",
       "    }\n",
       "</style>\n",
       "<table border=\"1\" class=\"dataframe\">\n",
       "  <thead>\n",
       "    <tr style=\"text-align: right;\">\n",
       "      <th></th>\n",
       "      <th>products</th>\n",
       "      <th>user_id</th>\n",
       "    </tr>\n",
       "  </thead>\n",
       "  <tbody>\n",
       "    <tr>\n",
       "      <th>0</th>\n",
       "      <td>1</td>\n",
       "      <td>2280</td>\n",
       "    </tr>\n",
       "    <tr>\n",
       "      <th>1</th>\n",
       "      <td>2</td>\n",
       "      <td>14</td>\n",
       "    </tr>\n",
       "  </tbody>\n",
       "</table>\n",
       "</div>"
      ],
      "text/plain": [
       "   products  user_id\n",
       "0         1     2280\n",
       "1         2       14"
      ]
     },
     "metadata": {},
     "output_type": "display_data"
    },
    {
     "data": {
      "text/html": [
       "<div>\n",
       "<style scoped>\n",
       "    .dataframe tbody tr th:only-of-type {\n",
       "        vertical-align: middle;\n",
       "    }\n",
       "\n",
       "    .dataframe tbody tr th {\n",
       "        vertical-align: top;\n",
       "    }\n",
       "\n",
       "    .dataframe thead th {\n",
       "        text-align: right;\n",
       "    }\n",
       "</style>\n",
       "<table border=\"1\" class=\"dataframe\">\n",
       "  <thead>\n",
       "    <tr style=\"text-align: right;\">\n",
       "      <th></th>\n",
       "      <th>credit_card</th>\n",
       "      <th>user_id</th>\n",
       "    </tr>\n",
       "  </thead>\n",
       "  <tbody>\n",
       "    <tr>\n",
       "      <th>0</th>\n",
       "      <td>0</td>\n",
       "      <td>8</td>\n",
       "    </tr>\n",
       "    <tr>\n",
       "      <th>1</th>\n",
       "      <td>1</td>\n",
       "      <td>2286</td>\n",
       "    </tr>\n",
       "  </tbody>\n",
       "</table>\n",
       "</div>"
      ],
      "text/plain": [
       "   credit_card  user_id\n",
       "0            0        8\n",
       "1            1     2286"
      ]
     },
     "metadata": {},
     "output_type": "display_data"
    },
    {
     "data": {
      "text/html": [
       "<div>\n",
       "<style scoped>\n",
       "    .dataframe tbody tr th:only-of-type {\n",
       "        vertical-align: middle;\n",
       "    }\n",
       "\n",
       "    .dataframe tbody tr th {\n",
       "        vertical-align: top;\n",
       "    }\n",
       "\n",
       "    .dataframe thead th {\n",
       "        text-align: right;\n",
       "    }\n",
       "</style>\n",
       "<table border=\"1\" class=\"dataframe\">\n",
       "  <thead>\n",
       "    <tr style=\"text-align: right;\">\n",
       "      <th></th>\n",
       "      <th>last_activity</th>\n",
       "      <th>user_id</th>\n",
       "    </tr>\n",
       "  </thead>\n",
       "  <tbody>\n",
       "    <tr>\n",
       "      <th>0</th>\n",
       "      <td>0</td>\n",
       "      <td>1051</td>\n",
       "    </tr>\n",
       "    <tr>\n",
       "      <th>1</th>\n",
       "      <td>1</td>\n",
       "      <td>1243</td>\n",
       "    </tr>\n",
       "  </tbody>\n",
       "</table>\n",
       "</div>"
      ],
      "text/plain": [
       "   last_activity  user_id\n",
       "0              0     1051\n",
       "1              1     1243"
      ]
     },
     "metadata": {},
     "output_type": "display_data"
    },
    {
     "data": {
      "text/html": [
       "<div>\n",
       "<style scoped>\n",
       "    .dataframe tbody tr th:only-of-type {\n",
       "        vertical-align: middle;\n",
       "    }\n",
       "\n",
       "    .dataframe tbody tr th {\n",
       "        vertical-align: top;\n",
       "    }\n",
       "\n",
       "    .dataframe thead th {\n",
       "        text-align: right;\n",
       "    }\n",
       "</style>\n",
       "<table border=\"1\" class=\"dataframe\">\n",
       "  <thead>\n",
       "    <tr style=\"text-align: right;\">\n",
       "      <th></th>\n",
       "      <th>churn</th>\n",
       "      <th>user_id</th>\n",
       "    </tr>\n",
       "  </thead>\n",
       "  <tbody>\n",
       "    <tr>\n",
       "      <th>0</th>\n",
       "      <td>0</td>\n",
       "      <td>2294</td>\n",
       "    </tr>\n",
       "  </tbody>\n",
       "</table>\n",
       "</div>"
      ],
      "text/plain": [
       "   churn  user_id\n",
       "0      0     2294"
      ]
     },
     "metadata": {},
     "output_type": "display_data"
    }
   ],
   "source": [
    "# смотрим пропуски по группам значений категориальных признаков\n",
    "for element in  ['city', 'gender', 'products', 'credit_card', 'last_activity', 'churn']:\n",
    "    display(df.loc[df['balance'].isna()].groupby(element)['user_id'].count().reset_index())"
   ]
  },
  {
   "cell_type": "markdown",
   "id": "7e0dd581",
   "metadata": {},
   "source": [
    "Видим, что пропуски в балансе наблюдаются у клиентов, которые продолжают обслуживаться в банке, при этом почти все из них имеют кредитную карту, и почти для всех эта карта является единственным продуктом.\n",
    "\n",
    "Далее мы будем изучать портрет среднестатистического клиента, и если NaN оставить, то это будет не любой клиент, а условно клиент-вкладчик. NaNы отбросятся, и средняя сумма баланса посчитается только по тем, у кого этот баланс есть. А это уже не среднестатистический клиент. В общем, я принимаю решение заменить все NaN-ы на нули и впоследствии это нулевое значение трактовать как \"этот клиент не имеет никакого депозитного продукта\":"
   ]
  },
  {
   "cell_type": "code",
   "execution_count": 6,
   "id": "76ce618e",
   "metadata": {},
   "outputs": [
    {
     "name": "stdout",
     "output_type": "stream",
     "text": [
      "Осталось пропусков в столбце 'balance': 0 шт.\n"
     ]
    }
   ],
   "source": [
    "# фильтруем таблицу и меняем значения в целевом столбце\n",
    "df.loc[df['balance'].isna(), 'balance'] = 0\n",
    "\n",
    "print(f\"Осталось пропусков в столбце 'balance': {df.balance.isna().sum()} шт.\")"
   ]
  },
  {
   "cell_type": "markdown",
   "id": "a15cc325",
   "metadata": {},
   "source": [
    "Методом one-hot произведем перекодировку значений в столбцах с категориальными переменными (пол и город), сохранив при этом оригинальные столбцы (для построения графиков будет проще использовать оригинальные названия столбцов, а для вывода статистических показателей, построения профилей клиентов, расчета корреляций - перекодированные):"
   ]
  },
  {
   "cell_type": "code",
   "execution_count": 7,
   "id": "2a6c98e0",
   "metadata": {},
   "outputs": [],
   "source": [
    "# делаем копии столбцов для сохранения в них оригинальных значений\n",
    "df['gender_origin'] = df['gender']\n",
    "df['city_origin'] = df['city']\n",
    "\n",
    "# производим перекодировку выбранных столбцов\n",
    "df = pd.get_dummies(df, columns=['city','gender'])"
   ]
  },
  {
   "cell_type": "markdown",
   "id": "42b7fcf0",
   "metadata": {},
   "source": [
    "**Вывод**\n",
    "\n",
    "Произведены незначительные изменения в датасете для удобства дальнейшей работы. Заполнены пропущенные значения. Произведена перекодировка категориальных признаков. Данные готовы к исследовательскому анализу."
   ]
  },
  {
   "cell_type": "markdown",
   "id": "fcbc9b89",
   "metadata": {},
   "source": [
    "## Исследовательский анализ данных"
   ]
  },
  {
   "cell_type": "markdown",
   "id": "6a67d1be",
   "metadata": {},
   "source": [
    "### Анализ статистических показателей"
   ]
  },
  {
   "cell_type": "markdown",
   "id": "bcb8e7f7",
   "metadata": {},
   "source": [
    "Изучим статистические показатели по всем числовым столбцам:"
   ]
  },
  {
   "cell_type": "code",
   "execution_count": 8,
   "id": "659464e6",
   "metadata": {},
   "outputs": [
    {
     "data": {
      "text/html": [
       "<style  type=\"text/css\" >\n",
       "</style><table id=\"T_1542b_\" ><thead>    <tr>        <th class=\"blank level0\" ></th>        <th class=\"col_heading level0 col0\" >count</th>        <th class=\"col_heading level0 col1\" >mean</th>        <th class=\"col_heading level0 col2\" >std</th>        <th class=\"col_heading level0 col3\" >min</th>        <th class=\"col_heading level0 col4\" >25%</th>        <th class=\"col_heading level0 col5\" >50%</th>        <th class=\"col_heading level0 col6\" >75%</th>        <th class=\"col_heading level0 col7\" >max</th>    </tr></thead><tbody>\n",
       "                <tr>\n",
       "                        <th id=\"T_1542b_level0_row0\" class=\"row_heading level0 row0\" >score</th>\n",
       "                        <td id=\"T_1542b_row0_col0\" class=\"data row0 col0\" >10000.00</td>\n",
       "                        <td id=\"T_1542b_row0_col1\" class=\"data row0 col1\" >603.58</td>\n",
       "                        <td id=\"T_1542b_row0_col2\" class=\"data row0 col2\" >132.18</td>\n",
       "                        <td id=\"T_1542b_row0_col3\" class=\"data row0 col3\" >300.00</td>\n",
       "                        <td id=\"T_1542b_row0_col4\" class=\"data row0 col4\" >506.00</td>\n",
       "                        <td id=\"T_1542b_row0_col5\" class=\"data row0 col5\" >610.00</td>\n",
       "                        <td id=\"T_1542b_row0_col6\" class=\"data row0 col6\" >713.00</td>\n",
       "                        <td id=\"T_1542b_row0_col7\" class=\"data row0 col7\" >850.00</td>\n",
       "            </tr>\n",
       "            <tr>\n",
       "                        <th id=\"T_1542b_level0_row1\" class=\"row_heading level0 row1\" >age</th>\n",
       "                        <td id=\"T_1542b_row1_col0\" class=\"data row1 col0\" >10000.00</td>\n",
       "                        <td id=\"T_1542b_row1_col1\" class=\"data row1 col1\" >42.84</td>\n",
       "                        <td id=\"T_1542b_row1_col2\" class=\"data row1 col2\" >12.13</td>\n",
       "                        <td id=\"T_1542b_row1_col3\" class=\"data row1 col3\" >18.00</td>\n",
       "                        <td id=\"T_1542b_row1_col4\" class=\"data row1 col4\" >34.00</td>\n",
       "                        <td id=\"T_1542b_row1_col5\" class=\"data row1 col5\" >40.00</td>\n",
       "                        <td id=\"T_1542b_row1_col6\" class=\"data row1 col6\" >51.00</td>\n",
       "                        <td id=\"T_1542b_row1_col7\" class=\"data row1 col7\" >86.00</td>\n",
       "            </tr>\n",
       "            <tr>\n",
       "                        <th id=\"T_1542b_level0_row2\" class=\"row_heading level0 row2\" >equity</th>\n",
       "                        <td id=\"T_1542b_row2_col0\" class=\"data row2 col0\" >10000.00</td>\n",
       "                        <td id=\"T_1542b_row2_col1\" class=\"data row2 col1\" >1.75</td>\n",
       "                        <td id=\"T_1542b_row2_col2\" class=\"data row2 col2\" >1.71</td>\n",
       "                        <td id=\"T_1542b_row2_col3\" class=\"data row2 col3\" >0.00</td>\n",
       "                        <td id=\"T_1542b_row2_col4\" class=\"data row2 col4\" >0.00</td>\n",
       "                        <td id=\"T_1542b_row2_col5\" class=\"data row2 col5\" >1.00</td>\n",
       "                        <td id=\"T_1542b_row2_col6\" class=\"data row2 col6\" >3.00</td>\n",
       "                        <td id=\"T_1542b_row2_col7\" class=\"data row2 col7\" >9.00</td>\n",
       "            </tr>\n",
       "            <tr>\n",
       "                        <th id=\"T_1542b_level0_row3\" class=\"row_heading level0 row3\" >balance</th>\n",
       "                        <td id=\"T_1542b_row3_col0\" class=\"data row3 col0\" >10000.00</td>\n",
       "                        <td id=\"T_1542b_row3_col1\" class=\"data row3 col1\" >600787.69</td>\n",
       "                        <td id=\"T_1542b_row3_col2\" class=\"data row3 col2\" >1874688.83</td>\n",
       "                        <td id=\"T_1542b_row3_col3\" class=\"data row3 col3\" >0.00</td>\n",
       "                        <td id=\"T_1542b_row3_col4\" class=\"data row3 col4\" >25047.03</td>\n",
       "                        <td id=\"T_1542b_row3_col5\" class=\"data row3 col5\" >268677.72</td>\n",
       "                        <td id=\"T_1542b_row3_col6\" class=\"data row3 col6\" >771976.43</td>\n",
       "                        <td id=\"T_1542b_row3_col7\" class=\"data row3 col7\" >126385904.82</td>\n",
       "            </tr>\n",
       "            <tr>\n",
       "                        <th id=\"T_1542b_level0_row4\" class=\"row_heading level0 row4\" >products</th>\n",
       "                        <td id=\"T_1542b_row4_col0\" class=\"data row4 col0\" >10000.00</td>\n",
       "                        <td id=\"T_1542b_row4_col1\" class=\"data row4 col1\" >1.12</td>\n",
       "                        <td id=\"T_1542b_row4_col2\" class=\"data row4 col2\" >0.41</td>\n",
       "                        <td id=\"T_1542b_row4_col3\" class=\"data row4 col3\" >0.00</td>\n",
       "                        <td id=\"T_1542b_row4_col4\" class=\"data row4 col4\" >1.00</td>\n",
       "                        <td id=\"T_1542b_row4_col5\" class=\"data row4 col5\" >1.00</td>\n",
       "                        <td id=\"T_1542b_row4_col6\" class=\"data row4 col6\" >1.00</td>\n",
       "                        <td id=\"T_1542b_row4_col7\" class=\"data row4 col7\" >4.00</td>\n",
       "            </tr>\n",
       "            <tr>\n",
       "                        <th id=\"T_1542b_level0_row5\" class=\"row_heading level0 row5\" >credit_card</th>\n",
       "                        <td id=\"T_1542b_row5_col0\" class=\"data row5 col0\" >10000.00</td>\n",
       "                        <td id=\"T_1542b_row5_col1\" class=\"data row5 col1\" >0.84</td>\n",
       "                        <td id=\"T_1542b_row5_col2\" class=\"data row5 col2\" >0.36</td>\n",
       "                        <td id=\"T_1542b_row5_col3\" class=\"data row5 col3\" >0.00</td>\n",
       "                        <td id=\"T_1542b_row5_col4\" class=\"data row5 col4\" >1.00</td>\n",
       "                        <td id=\"T_1542b_row5_col5\" class=\"data row5 col5\" >1.00</td>\n",
       "                        <td id=\"T_1542b_row5_col6\" class=\"data row5 col6\" >1.00</td>\n",
       "                        <td id=\"T_1542b_row5_col7\" class=\"data row5 col7\" >1.00</td>\n",
       "            </tr>\n",
       "            <tr>\n",
       "                        <th id=\"T_1542b_level0_row6\" class=\"row_heading level0 row6\" >last_activity</th>\n",
       "                        <td id=\"T_1542b_row6_col0\" class=\"data row6 col0\" >10000.00</td>\n",
       "                        <td id=\"T_1542b_row6_col1\" class=\"data row6 col1\" >0.50</td>\n",
       "                        <td id=\"T_1542b_row6_col2\" class=\"data row6 col2\" >0.50</td>\n",
       "                        <td id=\"T_1542b_row6_col3\" class=\"data row6 col3\" >0.00</td>\n",
       "                        <td id=\"T_1542b_row6_col4\" class=\"data row6 col4\" >0.00</td>\n",
       "                        <td id=\"T_1542b_row6_col5\" class=\"data row6 col5\" >0.00</td>\n",
       "                        <td id=\"T_1542b_row6_col6\" class=\"data row6 col6\" >1.00</td>\n",
       "                        <td id=\"T_1542b_row6_col7\" class=\"data row6 col7\" >1.00</td>\n",
       "            </tr>\n",
       "            <tr>\n",
       "                        <th id=\"T_1542b_level0_row7\" class=\"row_heading level0 row7\" >salary</th>\n",
       "                        <td id=\"T_1542b_row7_col0\" class=\"data row7 col0\" >10000.00</td>\n",
       "                        <td id=\"T_1542b_row7_col1\" class=\"data row7 col1\" >95468.12</td>\n",
       "                        <td id=\"T_1542b_row7_col2\" class=\"data row7 col2\" >132573.68</td>\n",
       "                        <td id=\"T_1542b_row7_col3\" class=\"data row7 col3\" >380.84</td>\n",
       "                        <td id=\"T_1542b_row7_col4\" class=\"data row7 col4\" >31449.29</td>\n",
       "                        <td id=\"T_1542b_row7_col5\" class=\"data row7 col5\" >63440.57</td>\n",
       "                        <td id=\"T_1542b_row7_col6\" class=\"data row7 col6\" >108795.85</td>\n",
       "                        <td id=\"T_1542b_row7_col7\" class=\"data row7 col7\" >1378131.45</td>\n",
       "            </tr>\n",
       "            <tr>\n",
       "                        <th id=\"T_1542b_level0_row8\" class=\"row_heading level0 row8\" >churn</th>\n",
       "                        <td id=\"T_1542b_row8_col0\" class=\"data row8 col0\" >10000.00</td>\n",
       "                        <td id=\"T_1542b_row8_col1\" class=\"data row8 col1\" >0.14</td>\n",
       "                        <td id=\"T_1542b_row8_col2\" class=\"data row8 col2\" >0.35</td>\n",
       "                        <td id=\"T_1542b_row8_col3\" class=\"data row8 col3\" >0.00</td>\n",
       "                        <td id=\"T_1542b_row8_col4\" class=\"data row8 col4\" >0.00</td>\n",
       "                        <td id=\"T_1542b_row8_col5\" class=\"data row8 col5\" >0.00</td>\n",
       "                        <td id=\"T_1542b_row8_col6\" class=\"data row8 col6\" >0.00</td>\n",
       "                        <td id=\"T_1542b_row8_col7\" class=\"data row8 col7\" >1.00</td>\n",
       "            </tr>\n",
       "            <tr>\n",
       "                        <th id=\"T_1542b_level0_row9\" class=\"row_heading level0 row9\" >city_Ростов</th>\n",
       "                        <td id=\"T_1542b_row9_col0\" class=\"data row9 col0\" >10000.00</td>\n",
       "                        <td id=\"T_1542b_row9_col1\" class=\"data row9 col1\" >0.14</td>\n",
       "                        <td id=\"T_1542b_row9_col2\" class=\"data row9 col2\" >0.35</td>\n",
       "                        <td id=\"T_1542b_row9_col3\" class=\"data row9 col3\" >0.00</td>\n",
       "                        <td id=\"T_1542b_row9_col4\" class=\"data row9 col4\" >0.00</td>\n",
       "                        <td id=\"T_1542b_row9_col5\" class=\"data row9 col5\" >0.00</td>\n",
       "                        <td id=\"T_1542b_row9_col6\" class=\"data row9 col6\" >0.00</td>\n",
       "                        <td id=\"T_1542b_row9_col7\" class=\"data row9 col7\" >1.00</td>\n",
       "            </tr>\n",
       "            <tr>\n",
       "                        <th id=\"T_1542b_level0_row10\" class=\"row_heading level0 row10\" >city_Рыбинск</th>\n",
       "                        <td id=\"T_1542b_row10_col0\" class=\"data row10 col0\" >10000.00</td>\n",
       "                        <td id=\"T_1542b_row10_col1\" class=\"data row10 col1\" >0.27</td>\n",
       "                        <td id=\"T_1542b_row10_col2\" class=\"data row10 col2\" >0.44</td>\n",
       "                        <td id=\"T_1542b_row10_col3\" class=\"data row10 col3\" >0.00</td>\n",
       "                        <td id=\"T_1542b_row10_col4\" class=\"data row10 col4\" >0.00</td>\n",
       "                        <td id=\"T_1542b_row10_col5\" class=\"data row10 col5\" >0.00</td>\n",
       "                        <td id=\"T_1542b_row10_col6\" class=\"data row10 col6\" >1.00</td>\n",
       "                        <td id=\"T_1542b_row10_col7\" class=\"data row10 col7\" >1.00</td>\n",
       "            </tr>\n",
       "            <tr>\n",
       "                        <th id=\"T_1542b_level0_row11\" class=\"row_heading level0 row11\" >city_Ярославль</th>\n",
       "                        <td id=\"T_1542b_row11_col0\" class=\"data row11 col0\" >10000.00</td>\n",
       "                        <td id=\"T_1542b_row11_col1\" class=\"data row11 col1\" >0.59</td>\n",
       "                        <td id=\"T_1542b_row11_col2\" class=\"data row11 col2\" >0.49</td>\n",
       "                        <td id=\"T_1542b_row11_col3\" class=\"data row11 col3\" >0.00</td>\n",
       "                        <td id=\"T_1542b_row11_col4\" class=\"data row11 col4\" >0.00</td>\n",
       "                        <td id=\"T_1542b_row11_col5\" class=\"data row11 col5\" >1.00</td>\n",
       "                        <td id=\"T_1542b_row11_col6\" class=\"data row11 col6\" >1.00</td>\n",
       "                        <td id=\"T_1542b_row11_col7\" class=\"data row11 col7\" >1.00</td>\n",
       "            </tr>\n",
       "            <tr>\n",
       "                        <th id=\"T_1542b_level0_row12\" class=\"row_heading level0 row12\" >gender_Ж</th>\n",
       "                        <td id=\"T_1542b_row12_col0\" class=\"data row12 col0\" >10000.00</td>\n",
       "                        <td id=\"T_1542b_row12_col1\" class=\"data row12 col1\" >0.50</td>\n",
       "                        <td id=\"T_1542b_row12_col2\" class=\"data row12 col2\" >0.50</td>\n",
       "                        <td id=\"T_1542b_row12_col3\" class=\"data row12 col3\" >0.00</td>\n",
       "                        <td id=\"T_1542b_row12_col4\" class=\"data row12 col4\" >0.00</td>\n",
       "                        <td id=\"T_1542b_row12_col5\" class=\"data row12 col5\" >0.00</td>\n",
       "                        <td id=\"T_1542b_row12_col6\" class=\"data row12 col6\" >1.00</td>\n",
       "                        <td id=\"T_1542b_row12_col7\" class=\"data row12 col7\" >1.00</td>\n",
       "            </tr>\n",
       "            <tr>\n",
       "                        <th id=\"T_1542b_level0_row13\" class=\"row_heading level0 row13\" >gender_М</th>\n",
       "                        <td id=\"T_1542b_row13_col0\" class=\"data row13 col0\" >10000.00</td>\n",
       "                        <td id=\"T_1542b_row13_col1\" class=\"data row13 col1\" >0.50</td>\n",
       "                        <td id=\"T_1542b_row13_col2\" class=\"data row13 col2\" >0.50</td>\n",
       "                        <td id=\"T_1542b_row13_col3\" class=\"data row13 col3\" >0.00</td>\n",
       "                        <td id=\"T_1542b_row13_col4\" class=\"data row13 col4\" >0.00</td>\n",
       "                        <td id=\"T_1542b_row13_col5\" class=\"data row13 col5\" >1.00</td>\n",
       "                        <td id=\"T_1542b_row13_col6\" class=\"data row13 col6\" >1.00</td>\n",
       "                        <td id=\"T_1542b_row13_col7\" class=\"data row13 col7\" >1.00</td>\n",
       "            </tr>\n",
       "    </tbody></table>"
      ],
      "text/plain": [
       "<pandas.io.formats.style.Styler at 0x2c1ad4428b0>"
      ]
     },
     "execution_count": 8,
     "metadata": {},
     "output_type": "execute_result"
    }
   ],
   "source": [
    "# выводим статистические показатели\n",
    "df.drop(columns=['user_id']).describe().T.style.format('{:.2f}')"
   ]
  },
  {
   "cell_type": "markdown",
   "id": "fa1fbc3a",
   "metadata": {},
   "source": [
    "Анализ данной таблицы:\n",
    "* по столбцам с числовыми признаками можно понять, что медианные значения меньше средних, значит распределения имеют длинный правый хвост (есть клиенты с очень высокими значениями показателей). Подробнее опишем числовые признаки после визуализации их распределений\n",
    "* по столбцам с бинарными признаками можно понять, что:\n",
    "    * мужчин и женщин в датасете примерно поровну\n",
    "    * активных и неактивных клиентов также примерно поровну\n",
    "    * кредитную карту имеют 84% клиентов\n",
    "    * 59% клиентов из Ярославля, 27% - из Рыбинска и 14% - из Ростова\n",
    "    * среднее кол-во продуктов у клиента 1.12, при этом медиана 1. Дополнительно надо исследовать строки, где продуктов 0.\n",
    "    * **14% клиентов уходят в отток** - целевой показатель нашего исследования\n",
    "\n",
    "Общее наблюдение: у переменных довольно разные по величине стандартные отклонения. Это говорит о том, что если будем применять методы машинного обучения, то будет лучше их стандартизировать перед обучением."
   ]
  },
  {
   "cell_type": "markdown",
   "id": "d20c6042",
   "metadata": {},
   "source": [
    "### Визуализация распределений числовых признаков. Выбросы и аномалии"
   ]
  },
  {
   "cell_type": "markdown",
   "id": "3d3a352e",
   "metadata": {},
   "source": [
    "На предыдущем этапе заметили, что в датасете есть строки с нулевым количеством продуктов, что очень нелогично. Посмотрим детальнее:"
   ]
  },
  {
   "cell_type": "code",
   "execution_count": 9,
   "id": "4ce838c4",
   "metadata": {
    "scrolled": true
   },
   "outputs": [
    {
     "data": {
      "text/html": [
       "<div>\n",
       "<style scoped>\n",
       "    .dataframe tbody tr th:only-of-type {\n",
       "        vertical-align: middle;\n",
       "    }\n",
       "\n",
       "    .dataframe tbody tr th {\n",
       "        vertical-align: top;\n",
       "    }\n",
       "\n",
       "    .dataframe thead th {\n",
       "        text-align: right;\n",
       "    }\n",
       "</style>\n",
       "<table border=\"1\" class=\"dataframe\">\n",
       "  <thead>\n",
       "    <tr style=\"text-align: right;\">\n",
       "      <th></th>\n",
       "      <th>user_id</th>\n",
       "      <th>score</th>\n",
       "      <th>age</th>\n",
       "      <th>equity</th>\n",
       "      <th>balance</th>\n",
       "      <th>products</th>\n",
       "      <th>credit_card</th>\n",
       "      <th>last_activity</th>\n",
       "      <th>salary</th>\n",
       "      <th>churn</th>\n",
       "      <th>gender_origin</th>\n",
       "      <th>city_origin</th>\n",
       "      <th>city_Ростов</th>\n",
       "      <th>city_Рыбинск</th>\n",
       "      <th>city_Ярославль</th>\n",
       "      <th>gender_Ж</th>\n",
       "      <th>gender_М</th>\n",
       "    </tr>\n",
       "  </thead>\n",
       "  <tbody>\n",
       "    <tr>\n",
       "      <th>408</th>\n",
       "      <td>261907</td>\n",
       "      <td>620</td>\n",
       "      <td>79</td>\n",
       "      <td>3</td>\n",
       "      <td>594470.42</td>\n",
       "      <td>0</td>\n",
       "      <td>0</td>\n",
       "      <td>0</td>\n",
       "      <td>25063.96</td>\n",
       "      <td>1</td>\n",
       "      <td>Ж</td>\n",
       "      <td>Рыбинск</td>\n",
       "      <td>0</td>\n",
       "      <td>1</td>\n",
       "      <td>0</td>\n",
       "      <td>1</td>\n",
       "      <td>0</td>\n",
       "    </tr>\n",
       "  </tbody>\n",
       "</table>\n",
       "</div>"
      ],
      "text/plain": [
       "     user_id  score  age  equity    balance  products  credit_card  \\\n",
       "408   261907    620   79       3  594470.42         0            0   \n",
       "\n",
       "     last_activity    salary  churn gender_origin city_origin  city_Ростов  \\\n",
       "408              0  25063.96      1             Ж     Рыбинск            0   \n",
       "\n",
       "     city_Рыбинск  city_Ярославль  gender_Ж  gender_М  \n",
       "408             1               0         1         0  "
      ]
     },
     "execution_count": 9,
     "metadata": {},
     "output_type": "execute_result"
    }
   ],
   "source": [
    "# фильтрация через логическую индексацию\n",
    "df.loc[df['products'] == 0]"
   ]
  },
  {
   "cell_type": "markdown",
   "id": "98d48740",
   "metadata": {},
   "source": [
    "Это всего 1 клиент, который заявил о намерении уйти, при этом имеет положительный остаток средств на счете, т.е. как минимум у него есть 1 продукт (депозит/текущий счет). Заменим число продуктов на единицу:"
   ]
  },
  {
   "cell_type": "code",
   "execution_count": 10,
   "id": "1fc82456",
   "metadata": {},
   "outputs": [],
   "source": [
    "df.loc[df['products'] == 0, 'products'] = 1"
   ]
  },
  {
   "cell_type": "markdown",
   "id": "d23a82ab",
   "metadata": {},
   "source": [
    "Далее проверим остальные числовые признаки. Напишем функцию для вывода гистограммы и боксплота, а также функцию, которая рассчитает границы распределения (\"усы\" боксплота) и даст ориентиры для отсечения выбросов:"
   ]
  },
  {
   "cell_type": "code",
   "execution_count": 11,
   "id": "962fcdc9",
   "metadata": {},
   "outputs": [],
   "source": [
    "def build_picture(data, column, xlim, bins='auto'):\n",
    "    '''\n",
    "    Функция для отрисовки гистограммы распределения и диаграммы размаха.\n",
    "    Принимает на вход датафрейм, название колонки с целевой переменной\n",
    "    и значение правой границы (по оси X).\n",
    "    '''\n",
    "    fig = plt.figure(figsize=(13, 3)) # размер графика\n",
    "    \n",
    "    ax1 = fig.add_subplot(1,2,1) # положение графика внутри области для рисования\n",
    "    ax2 = fig.add_subplot(1,2,2)\n",
    "    \n",
    "    ax1.set_title(f'Гистограмма для {column}') # заголовок графика\n",
    "    ax2.set_title(f'Боксплот для {column}')\n",
    "\n",
    "    sns.histplot(x=column, data=data, bins=bins, kde=True, color='#0066CC', ax=ax1) # построение гистограммы\n",
    "    sns.boxplot(x=column, data=data, color='#0066CC', ax=ax2) # построение боксплота\n",
    "    \n",
    "    ax1.set_xlim(0, xlim) # ограничение вывода по оси X\n",
    "    ax2.set_xlim(0, xlim)\n",
    "    \n",
    "    fig.tight_layout() # устранение наложения графиков\n",
    "    plt.show()\n",
    "\n",
    "    \n",
    "def whiskers(data, column):\n",
    "    '''\n",
    "    Функция для расчета границ диаграммы размаха (усов боксплота).\n",
    "    Принимает на вход датафрейма и название колонки с целевой переменной.\n",
    "    '''\n",
    "    left_whisker = max(\n",
    "        data[column].min(),\n",
    "        data[column].quantile(0.25) - 1.5 * (data[column].quantile(0.75) - data[column].quantile(0.25))\n",
    "    )\n",
    "    \n",
    "    right_whisker = min(\n",
    "        data[column].max(),\n",
    "        data[column].quantile(0.75) + 1.5 * (data[column].quantile(0.75) - data[column].quantile(0.25))\n",
    "    )\n",
    "    \n",
    "    loss_left = round(100 - len(data.query(f\"{column} >= {left_whisker}\")) / len(data) * 100, 1)\n",
    "    loss_right = round(100 - len(data.query(f\"{column} <= {right_whisker}\")) / len(data) * 100, 1)\n",
    "    \n",
    "    print(f\"Границы распределения для {column}: {left_whisker, right_whisker}\")\n",
    "    print(f\"Потеря данных при отсечении по левой границе: {loss_left}%\")\n",
    "    print(f\"Потеря данных при отсечении по правой границе: {loss_right}%\")"
   ]
  },
  {
   "cell_type": "markdown",
   "id": "30e6c746",
   "metadata": {},
   "source": [
    "Последовательно выведем и опишем распределения отдельных числовых признаков (не будем трогать число объектов в собственности, поскольку анализ минимумов и максимумов не показал каких-то аномальных значений):"
   ]
  },
  {
   "cell_type": "code",
   "execution_count": 12,
   "id": "73831b67",
   "metadata": {},
   "outputs": [
    {
     "data": {
      "image/png": "[encoded data removed]",
      "text/plain": [
       "<Figure size 936x216 with 2 Axes>"
      ]
     },
     "metadata": {},
     "output_type": "display_data"
    },
    {
     "name": "stdout",
     "output_type": "stream",
     "text": [
      "Границы распределения для balance: (0.0, 1892370.5224999997)\n",
      "Потеря данных при отсечении по левой границе: 0.0%\n",
      "Потеря данных при отсечении по правой границе: 5.0%\n"
     ]
    }
   ],
   "source": [
    "build_picture(df, 'balance', 2000000)\n",
    "whiskers(df, 'balance')"
   ]
  },
  {
   "cell_type": "markdown",
   "id": "e6e10a29",
   "metadata": {},
   "source": [
    "Распределение данных по остатку собственных средств имеет положительную ассиметрию за счет присутствия очень больших значений, при этом наблюдается много нулевых остатков, которые мы ввели при заполнении NaN. Я бы сказала, что распределение похоже на экспененциальное (логично для этой величины), но kde нарисовал прямую. Если отсечем выбросы по границам распределения, то потеряем 5% данных, немало."
   ]
  },
  {
   "cell_type": "code",
   "execution_count": 13,
   "id": "d2d42e6e",
   "metadata": {},
   "outputs": [
    {
     "data": {
      "image/png": "[encoded data removed]",
      "text/plain": [
       "<Figure size 936x216 with 2 Axes>"
      ]
     },
     "metadata": {},
     "output_type": "display_data"
    },
    {
     "name": "stdout",
     "output_type": "stream",
     "text": [
      "Границы распределения для salary: (380.84, 224815.68625)\n",
      "Потеря данных при отсечении по левой границе: 0.0%\n",
      "Потеря данных при отсечении по правой границе: 5.8%\n"
     ]
    }
   ],
   "source": [
    "build_picture(df, 'salary', 250000)\n",
    "whiskers(df, 'salary')"
   ]
  },
  {
   "cell_type": "markdown",
   "id": "c234132a",
   "metadata": {},
   "source": [
    "Распределение данных по зарплате также имеет положительную ассиметрию за счет присутствия очень больших значений. Распределение похоже на логарифмическое, логично для этой величины. Если отсечем выбросы по границам распределения, то потеряем почти 6% данных, немало."
   ]
  },
  {
   "cell_type": "code",
   "execution_count": 14,
   "id": "52c99b47",
   "metadata": {},
   "outputs": [
    {
     "data": {
      "image/png": "[encoded data removed]",
      "text/plain": [
       "<Figure size 936x216 with 2 Axes>"
      ]
     },
     "metadata": {},
     "output_type": "display_data"
    },
    {
     "name": "stdout",
     "output_type": "stream",
     "text": [
      "Границы распределения для age: (18, 76.5)\n",
      "Потеря данных при отсечении по левой границе: 0.0%\n",
      "Потеря данных при отсечении по правой границе: 0.4%\n"
     ]
    }
   ],
   "source": [
    "build_picture(df, 'age', 100, df['age'].max())\n",
    "whiskers(df, 'age')"
   ]
  },
  {
   "cell_type": "markdown",
   "id": "bab5ebfa",
   "metadata": {},
   "source": [
    "Распределение данных по возрасту напоминает нормальное с положительной ассиметрией - в нашем банке преобладают \"зрелые\" клиенты, что логично. Отсечение выбросов по рекомендованным границам не приведет к большой потере данных."
   ]
  },
  {
   "cell_type": "markdown",
   "id": "1fa939a3",
   "metadata": {},
   "source": [
    "При возникновении необходимости отсечь выбросы сможем ориентироваться на рассчитанные пороги для признаков, пока оставим все как есть."
   ]
  },
  {
   "cell_type": "markdown",
   "id": "6e14a140",
   "metadata": {},
   "source": [
    "### Портреты уходящих и лояльных клиентов"
   ]
  },
  {
   "cell_type": "markdown",
   "id": "744916a1",
   "metadata": {},
   "source": [
    "Теперь попробуем составить среднестатистические портреты уходящих и лояльных клиентов (в описании показателей буду применять термин \"средний\", хотя по некоторым показателем будет медиана, но сразу ориентируюсь на непогруженного слушателя будущей презентации):"
   ]
  },
  {
   "cell_type": "code",
   "execution_count": 15,
   "id": "a41e6200",
   "metadata": {},
   "outputs": [
    {
     "data": {
      "text/html": [
       "<style  type=\"text/css\" >\n",
       "</style><table id=\"T_6a209_\" ><thead>    <tr>        <th class=\"index_name level0\" >churn</th>        <th class=\"col_heading level0 col0\" >0</th>        <th class=\"col_heading level0 col1\" >1</th>    </tr></thead><tbody>\n",
       "                <tr>\n",
       "                        <th id=\"T_6a209_level0_row0\" class=\"row_heading level0 row0\" >user_id</th>\n",
       "                        <td id=\"T_6a209_row0_col0\" class=\"data row0 col0\" >8563.00</td>\n",
       "                        <td id=\"T_6a209_row0_col1\" class=\"data row0 col1\" >1437.00</td>\n",
       "            </tr>\n",
       "            <tr>\n",
       "                        <th id=\"T_6a209_level0_row1\" class=\"row_heading level0 row1\" >age</th>\n",
       "                        <td id=\"T_6a209_row1_col0\" class=\"data row1 col0\" >41.00</td>\n",
       "                        <td id=\"T_6a209_row1_col1\" class=\"data row1 col1\" >37.00</td>\n",
       "            </tr>\n",
       "            <tr>\n",
       "                        <th id=\"T_6a209_level0_row2\" class=\"row_heading level0 row2\" >gender_М</th>\n",
       "                        <td id=\"T_6a209_row2_col0\" class=\"data row2 col0\" >0.48</td>\n",
       "                        <td id=\"T_6a209_row2_col1\" class=\"data row2 col1\" >0.61</td>\n",
       "            </tr>\n",
       "            <tr>\n",
       "                        <th id=\"T_6a209_level0_row3\" class=\"row_heading level0 row3\" >gender_Ж</th>\n",
       "                        <td id=\"T_6a209_row3_col0\" class=\"data row3 col0\" >0.52</td>\n",
       "                        <td id=\"T_6a209_row3_col1\" class=\"data row3 col1\" >0.39</td>\n",
       "            </tr>\n",
       "            <tr>\n",
       "                        <th id=\"T_6a209_level0_row4\" class=\"row_heading level0 row4\" >city_Ярославль</th>\n",
       "                        <td id=\"T_6a209_row4_col0\" class=\"data row4 col0\" >0.58</td>\n",
       "                        <td id=\"T_6a209_row4_col1\" class=\"data row4 col1\" >0.65</td>\n",
       "            </tr>\n",
       "            <tr>\n",
       "                        <th id=\"T_6a209_level0_row5\" class=\"row_heading level0 row5\" >city_Рыбинск</th>\n",
       "                        <td id=\"T_6a209_row5_col0\" class=\"data row5 col0\" >0.28</td>\n",
       "                        <td id=\"T_6a209_row5_col1\" class=\"data row5 col1\" >0.21</td>\n",
       "            </tr>\n",
       "            <tr>\n",
       "                        <th id=\"T_6a209_level0_row6\" class=\"row_heading level0 row6\" >city_Ростов</th>\n",
       "                        <td id=\"T_6a209_row6_col0\" class=\"data row6 col0\" >0.14</td>\n",
       "                        <td id=\"T_6a209_row6_col1\" class=\"data row6 col1\" >0.14</td>\n",
       "            </tr>\n",
       "            <tr>\n",
       "                        <th id=\"T_6a209_level0_row7\" class=\"row_heading level0 row7\" >salary</th>\n",
       "                        <td id=\"T_6a209_row7_col0\" class=\"data row7 col0\" >60043.72</td>\n",
       "                        <td id=\"T_6a209_row7_col1\" class=\"data row7 col1\" >82117.28</td>\n",
       "            </tr>\n",
       "            <tr>\n",
       "                        <th id=\"T_6a209_level0_row8\" class=\"row_heading level0 row8\" >equity</th>\n",
       "                        <td id=\"T_6a209_row8_col0\" class=\"data row8 col0\" >1.00</td>\n",
       "                        <td id=\"T_6a209_row8_col1\" class=\"data row8 col1\" >3.00</td>\n",
       "            </tr>\n",
       "            <tr>\n",
       "                        <th id=\"T_6a209_level0_row9\" class=\"row_heading level0 row9\" >score</th>\n",
       "                        <td id=\"T_6a209_row9_col0\" class=\"data row9 col0\" >581.00</td>\n",
       "                        <td id=\"T_6a209_row9_col1\" class=\"data row9 col1\" >726.00</td>\n",
       "            </tr>\n",
       "            <tr>\n",
       "                        <th id=\"T_6a209_level0_row10\" class=\"row_heading level0 row10\" >products</th>\n",
       "                        <td id=\"T_6a209_row10_col0\" class=\"data row10 col0\" >1.06</td>\n",
       "                        <td id=\"T_6a209_row10_col1\" class=\"data row10 col1\" >1.44</td>\n",
       "            </tr>\n",
       "            <tr>\n",
       "                        <th id=\"T_6a209_level0_row11\" class=\"row_heading level0 row11\" >credit_card</th>\n",
       "                        <td id=\"T_6a209_row11_col0\" class=\"data row11 col0\" >0.89</td>\n",
       "                        <td id=\"T_6a209_row11_col1\" class=\"data row11 col1\" >0.54</td>\n",
       "            </tr>\n",
       "            <tr>\n",
       "                        <th id=\"T_6a209_level0_row12\" class=\"row_heading level0 row12\" >balance</th>\n",
       "                        <td id=\"T_6a209_row12_col0\" class=\"data row12 col0\" >207137.25</td>\n",
       "                        <td id=\"T_6a209_row12_col1\" class=\"data row12 col1\" >995244.91</td>\n",
       "            </tr>\n",
       "            <tr>\n",
       "                        <th id=\"T_6a209_level0_row13\" class=\"row_heading level0 row13\" >last_activity</th>\n",
       "                        <td id=\"T_6a209_row13_col0\" class=\"data row13 col0\" >0.44</td>\n",
       "                        <td id=\"T_6a209_row13_col1\" class=\"data row13 col1\" >0.85</td>\n",
       "            </tr>\n",
       "    </tbody></table>"
      ],
      "text/plain": [
       "<pandas.io.formats.style.Styler at 0x2c1c3d0f610>"
      ]
     },
     "execution_count": 15,
     "metadata": {},
     "output_type": "execute_result"
    }
   ],
   "source": [
    "df.groupby('churn') \\\n",
    "  .agg({'user_id': 'count',\n",
    "        'age': 'median',\n",
    "        'gender_М': 'mean',\n",
    "        'gender_Ж': 'mean',\n",
    "        'city_Ярославль': 'mean',\n",
    "        'city_Рыбинск': 'mean',\n",
    "        'city_Ростов': 'mean',\n",
    "        'salary': 'median',\n",
    "        'equity': 'median',\n",
    "        'score': 'median',\n",
    "        'products': 'mean',\n",
    "        'credit_card': 'mean',\n",
    "        'balance': 'median',\n",
    "        'last_activity': 'mean'        \n",
    "  }).T.style.format('{:.2f}')"
   ]
  },
  {
   "cell_type": "markdown",
   "id": "24afe588",
   "metadata": {},
   "source": [
    "**Лояльные клиенты:**\n",
    "\n",
    "* наибольший по численности сегмент - около 86% базы\n",
    "* средний возраст 41 год\n",
    "* мужчин - 48%, женщин - 52%\n",
    "* город проживания: Ярославль - 58%, Рыбинск - 28%, Ростов - 14%\n",
    "* средняя заработная плана 60 тыс. руб.\n",
    "* в собственности, в среднем, 1 объект\n",
    "* оцениваются невысоким баллом кредитного скоринга, средний балл 581 (для получения кредита желательно получить более 600)\n",
    "* имеют в среднем 1.06 продукта\n",
    "* 89% имеют кредитную карту\n",
    "* средний остаток собственных средств около 207 тыс.руб.\n",
    "* 44% проявляют активность в последнее время\n",
    "\n",
    "**Уходящие клиенты:**\n",
    "\n",
    "* сегмент составляет около 14% базы\n",
    "* средний возраст 37 лет\n",
    "* мужчин - 61%, женщин - 39%, пропорция сдвинута в пользу мужчин\n",
    "* город проживания: Ярославль - 65%, Рыбинск - 21%, Ростов - 14%, пропорция сдвинута в пользу Ярославля\n",
    "* средняя заработная плана 82 тыс. руб.\n",
    "* в собственности, в среднем, 3 объекта\n",
    "* оцениваются высоким баллом кредитного скоринга, средний балл 726\n",
    "* имеют в среднем 1.44 продукта\n",
    "* 54% имеют кредитную карту\n",
    "* средний остаток собственных средств около 995 тыс.руб.\n",
    "* 85% проявляют активность в последнее время, на 41 п.п. более активны\n",
    "\n",
    "Таким образом, уходящие клиенты более молоды, более состоятельны, имеют больше шансов получить кредит, при этом реже являются владельцами кредитных карт банка, в среднем имеют больше продуктов, остаток их собственных средств почти в 5 раз выше, чем у лояльных, и они намного активнее взаимодействуют с банком. Пропорция сдвинута в пользу мужчин, и в пользу клиентов из Ярославля."
   ]
  },
  {
   "cell_type": "markdown",
   "id": "dbb4bf99",
   "metadata": {},
   "source": [
    "### Анализ влияния признаков на целевой показатель оттока"
   ]
  },
  {
   "cell_type": "markdown",
   "id": "2d838066",
   "metadata": {},
   "source": [
    "Нам необходимо понять стратегически важные признаки, наиболее сильно влияющие на отток. Для начала выведем коэффициенты корреляции признаков датасета с целевым показателем оттока:"
   ]
  },
  {
   "cell_type": "code",
   "execution_count": 16,
   "id": "cef9b691",
   "metadata": {},
   "outputs": [
    {
     "data": {
      "image/png": "[encoded data removed]",
      "text/plain": [
       "<Figure size 360x360 with 2 Axes>"
      ]
     },
     "metadata": {},
     "output_type": "display_data"
    }
   ],
   "source": [
    "# строим тепловую карту, берем из нее только столбец с целевой переменной оттока\n",
    "fig = plt.figure(figsize=(5, 5))\n",
    "sns.heatmap(\n",
    "    df.drop(columns='user_id').corr().loc[:, ['churn']].drop('churn'),\n",
    "    vmin= -1, vmax=1,\n",
    "    fmt='.0%',\n",
    "    annot=True,\n",
    "    cmap='vlag'\n",
    ")\n",
    "plt.show()"
   ]
  },
  {
   "cell_type": "markdown",
   "id": "01418c91",
   "metadata": {},
   "source": [
    "Видим, что значимой корреляции не наблюдается ни по одному признаку, наиболее высокие коэффициенты у оттока с баллами кредитного скоринга, наличием кредитной карты, количеством продуктов, активностью клиента, оценкой собственности и остатком собственных средств.\n",
    "\n",
    "Визуализируем влияние признаков на отток: применять будем гистограммы с нормированием значений различные по виду для разных типов данных."
   ]
  },
  {
   "cell_type": "code",
   "execution_count": 17,
   "id": "34ca4040",
   "metadata": {},
   "outputs": [],
   "source": [
    "# создаем вспомогательную функцию для построения гистограмм\n",
    "def build_hist_norm(data, column, bins='auto'):\n",
    "    '''\n",
    "    Функция для построения нормированных гистограмм для непрерывных переменных.\n",
    "    Выводит два распределения в зависимости от значения целевой переменной оттока.\n",
    "    На вход принимает датасет, название колонки со значениями признака и число корзин\n",
    "    '''\n",
    "    plt.figure(figsize=(15, 5))\n",
    "    sns.histplot(x=column,\n",
    "                 data=data,\n",
    "                 bins=bins,\n",
    "                 hue='churn',\n",
    "                 stat='probability',\n",
    "                 common_norm=False,\n",
    "                 palette = ['#0066CC', '#990000']\n",
    "                )\n",
    "    plt.title(f'Распределение значений {column}')\n",
    "    plt.legend(['churn', 'not_churn'])\n",
    "    plt.show()"
   ]
  },
  {
   "cell_type": "markdown",
   "id": "9d11ba08",
   "metadata": {},
   "source": [
    "Сначала посмотрим распределения непрерывных и дискретных признаков, имеющих большое количество уникальных значений. Будем выводить каждый график отдельно (не циклом) для удобства его изучения. Графики будут достаточно крупными, чтобы иметь возможность сразу же настроить категоризацию данных:"
   ]
  },
  {
   "cell_type": "markdown",
   "id": "450e0710",
   "metadata": {},
   "source": [
    "**SCORE**"
   ]
  },
  {
   "cell_type": "code",
   "execution_count": 18,
   "id": "2e8955fa",
   "metadata": {},
   "outputs": [
    {
     "data": {
      "image/png": "[encoded data removed]",
      "text/plain": [
       "<Figure size 1080x360 with 1 Axes>"
      ]
     },
     "metadata": {},
     "output_type": "display_data"
    }
   ],
   "source": [
    "# построение нормализованных гистограмм для score\n",
    "build_hist_norm(df, 'score', bins=range(df['score'].min(), df['score'].max()+10, 10))"
   ]
  },
  {
   "cell_type": "markdown",
   "id": "892e5429",
   "metadata": {},
   "source": [
    "Видим, что при кредитном рейтинге более 640 баллов доля уходящих клиентов начинает стабильно превышать долю лояльных. Делаем категоризацию значений в поле `score`:"
   ]
  },
  {
   "cell_type": "code",
   "execution_count": 19,
   "id": "6f2b0969",
   "metadata": {},
   "outputs": [],
   "source": [
    "# создаем новый столбец с категориями числового признака\n",
    "df['score_category'] = df['score'].apply(lambda x: 'до 640 баллов' if x < 640 else 'от 640 баллов')"
   ]
  },
  {
   "cell_type": "markdown",
   "id": "7e51839f",
   "metadata": {},
   "source": [
    "**BALANCE**"
   ]
  },
  {
   "cell_type": "markdown",
   "id": "5908edf9",
   "metadata": {},
   "source": [
    "В этом столбце меняли NaN-ы на нули, из них сделаю отдельную категорию, а для ненулевых посмотрю гистограммы:"
   ]
  },
  {
   "cell_type": "code",
   "execution_count": 20,
   "id": "9bad99f2",
   "metadata": {},
   "outputs": [
    {
     "data": {
      "image/png": "[encoded data removed]",
      "text/plain": [
       "<Figure size 1080x360 with 1 Axes>"
      ]
     },
     "metadata": {},
     "output_type": "display_data"
    }
   ],
   "source": [
    "# построение нормализованных гистограмм для balance\n",
    "build_hist_norm(df.loc[(df['balance'] <= 1000000) & (df['balance'] > 0)], 'balance', 50)"
   ]
  },
  {
   "cell_type": "markdown",
   "id": "b4d36faa",
   "metadata": {},
   "source": [
    "С остатка от 360 тыс.руб. начинается стабильное превышение доли уходящих клиентов, категоризацию ненулевых значений в поле `balance` можно сделать более понятной по границе 350 тыс.руб."
   ]
  },
  {
   "cell_type": "code",
   "execution_count": 21,
   "id": "85af77d7",
   "metadata": {},
   "outputs": [],
   "source": [
    "# создаем новый столбец с категориями числового признака\n",
    "def balance_category (balance):\n",
    "    '''\n",
    "    Функция для категоризации баланса средств.\n",
    "    Принимает на вход значение баланса, возвращает его категорию\n",
    "    '''\n",
    "    if balance == 0:\n",
    "        balance_category = 'нет собств.средств'\n",
    "    elif balance < 350000:\n",
    "        balance_category = 'до 350 тыс.'\n",
    "    else:\n",
    "        balance_category = '350 тыс. и более'\n",
    "    \n",
    "    return balance_category\n",
    "\n",
    "df['balance_category'] = df['balance'].apply(balance_category)"
   ]
  },
  {
   "cell_type": "markdown",
   "id": "40f06587",
   "metadata": {},
   "source": [
    "**AGE**"
   ]
  },
  {
   "cell_type": "code",
   "execution_count": 22,
   "id": "84a09b1f",
   "metadata": {},
   "outputs": [
    {
     "data": {
      "image/png": "[encoded data removed]",
      "text/plain": [
       "<Figure size 1080x360 with 1 Axes>"
      ]
     },
     "metadata": {},
     "output_type": "display_data"
    }
   ],
   "source": [
    "# построение нормализованных гистограмм для age\n",
    "build_hist_norm(df, 'age', df['age'].nunique())"
   ]
  },
  {
   "cell_type": "markdown",
   "id": "a4595f5e",
   "metadata": {},
   "source": [
    "Видим следующие высокооточные диапазоны: 25-38 лет и 52-59 лет. Для более удобного использования категоризации клиентов на практике лучше выбрать более понятные диапазоны, например, группировки по десяткам лет:"
   ]
  },
  {
   "cell_type": "code",
   "execution_count": 23,
   "id": "2b9899e5",
   "metadata": {},
   "outputs": [],
   "source": [
    "# создаем новый столбец с категориями числового признака\n",
    "def age_category (age):\n",
    "    '''\n",
    "    Функция для категоризации возраста.\n",
    "    Принимает на вход значение возраста, возвращает его категорию\n",
    "    '''\n",
    "    if age < 30:\n",
    "        age_category = 'до 30 лет'\n",
    "    elif age < 40:\n",
    "        age_category = '30-39 лет'\n",
    "    elif age < 50:\n",
    "        age_category = '40-49 лет'\n",
    "    elif age < 60:\n",
    "        age_category = '50-59 лет'\n",
    "    else:\n",
    "        age_category = 'от 60 лет'\n",
    "    \n",
    "    return age_category\n",
    "\n",
    "df['age_category'] = df['age'].apply(age_category)"
   ]
  },
  {
   "cell_type": "markdown",
   "id": "2a5cacf2",
   "metadata": {},
   "source": [
    "**SALARY**"
   ]
  },
  {
   "cell_type": "code",
   "execution_count": 24,
   "id": "715d852c",
   "metadata": {},
   "outputs": [
    {
     "data": {
      "image/png": "[encoded data removed]",
      "text/plain": [
       "<Figure size 1080x360 with 1 Axes>"
      ]
     },
     "metadata": {},
     "output_type": "display_data"
    }
   ],
   "source": [
    "# построение нормализованных гистограмм для salary\n",
    "build_hist_norm(df.loc[df['salary'] <= 200000], 'salary', 40)"
   ]
  },
  {
   "cell_type": "markdown",
   "id": "379c4ea6",
   "metadata": {},
   "source": [
    "Категоризацию значений в поле `salary` можно сделать по границе 45 тыс.руб., когда начинается стабильное превышение доли уходящих клиентов:"
   ]
  },
  {
   "cell_type": "code",
   "execution_count": 25,
   "id": "df10d71c",
   "metadata": {},
   "outputs": [],
   "source": [
    "# создаем новый столбец с категориями числового признака\n",
    "df['salary_category'] = df['salary'].apply(lambda x: 'до 45 тыс.' if x < 45000 else '45 тыс. и выше')"
   ]
  },
  {
   "cell_type": "markdown",
   "id": "def3627e",
   "metadata": {},
   "source": [
    "**EQUITY**"
   ]
  },
  {
   "cell_type": "code",
   "execution_count": 26,
   "id": "c081ea45",
   "metadata": {},
   "outputs": [
    {
     "data": {
      "image/png": "[encoded data removed]",
      "text/plain": [
       "<Figure size 1080x360 with 1 Axes>"
      ]
     },
     "metadata": {},
     "output_type": "display_data"
    }
   ],
   "source": [
    "# построение нормализованных гистограмм для equity\n",
    "build_hist_norm(df, 'equity', df['equity'].nunique())"
   ]
  },
  {
   "cell_type": "markdown",
   "id": "c36d2b95",
   "metadata": {},
   "source": [
    "Категоризацию значений в поле `equity` можно сделать по границе 2 объекта, когда начинается стабильное превышение доли уходящих клиентов:"
   ]
  },
  {
   "cell_type": "code",
   "execution_count": 27,
   "id": "eb596f7e",
   "metadata": {},
   "outputs": [],
   "source": [
    "# создаем новый столбец с категориями числового признака\n",
    "df['equity_category'] = df['equity'].apply(lambda x: 'до 2 объектов' if x < 2 else '2 объекта и больше')"
   ]
  },
  {
   "cell_type": "markdown",
   "id": "2e69731b",
   "metadata": {},
   "source": [
    "Теперь посмотрим и опишем распределения остальных признаков. Дополнительные категории в них выделять не надо, поэтому можно все графики построить вместе и сделать их более компактными. Кроме этого, добавим к этим графикам категоризированные ранее числовые признаки, чтобы иметь полную картину:"
   ]
  },
  {
   "cell_type": "code",
   "execution_count": 28,
   "id": "3a74f6e5",
   "metadata": {},
   "outputs": [
    {
     "data": {
      "image/png": "[encoded data removed]",
      "text/plain": [
       "<Figure size 1080x720 with 10 Axes>"
      ]
     },
     "metadata": {},
     "output_type": "display_data"
    }
   ],
   "source": [
    "#создание списка признаков для цикла\n",
    "tmp_list = ['products', 'credit_card', 'last_activity', 'gender_origin', 'city_origin',\n",
    "            'score_category', 'balance_category', 'age_category',\n",
    "            'salary_category', 'equity_category']\n",
    "\n",
    "#строим графики\n",
    "fig = plt.figure(figsize=(15,10))\n",
    "\n",
    "for i in range(len(tmp_list)):\n",
    "    axi = fig.add_subplot(4,3,i+1)\n",
    "    sns.histplot(x=tmp_list[i],\n",
    "                 data=df,\n",
    "                 bins=df[tmp_list[i]].nunique(),\n",
    "                 hue='churn',\n",
    "                 stat='probability',\n",
    "                 common_norm=False,\n",
    "                 palette = ['#0066CC', '#990000'],\n",
    "                 discrete=True,\n",
    "                 shrink=.8,\n",
    "                 ax=axi\n",
    "                )\n",
    "    plt.title(f'Распределение значений {tmp_list[i]}')\n",
    "    plt.xticks(df[tmp_list[i]].unique())\n",
    "    plt.legend(['churn', 'not_churn'])\n",
    "    plt.grid(visible=False)\n",
    "    \n",
    "fig.tight_layout()\n",
    "plt.show()"
   ]
  },
  {
   "cell_type": "markdown",
   "id": "eb56a601",
   "metadata": {},
   "source": [
    "Выводы из этих графиков:\n",
    "\n",
    "* Клиенты с 3 и 4 продуктами полностью уходят, при в сегменте клиентов с 2 продуктами оттока нет вообще\n",
    "* Клиенты, не имеющие кредитную карту - более отточный сегмент.\n",
    "* Клиенты, активно взаимодействующие с банком - более отточный сегмент.\n",
    "* Мужчины более склонны к уходу, чем женщины.\n",
    "* Клиенты из Ярославля более склонны к уходу, чем клиенты из Рыбинска и Ростова.\n",
    "* Клиенты с хорошим кредитным рейтингом от 640 баллов - более отточный сегмент.\n",
    "* Клиенты с остатком собственных средств от 360 тыс.руб. - более отточный сегмент.\n",
    "* Есть несколько категорий возраста клиентов, которые более подвержены оттоку: до 30 лет, от 30 до 39 лет и 50-59 лет.\n",
    "* Клиенты с зарплатой от 45 тыс.руб. - более отточный сегмент.\n",
    "* Клиенты, обладающие 2 и более объектами в собственности более склонны к оттоку."
   ]
  },
  {
   "cell_type": "markdown",
   "id": "b41df771",
   "metadata": {},
   "source": [
    "Теперь посмотрим на количество клиентов в каждом из промежуточных сегментов (внутри одного признака) и долю уходящих клиентов в них:"
   ]
  },
  {
   "cell_type": "code",
   "execution_count": 29,
   "id": "6a3439bc",
   "metadata": {},
   "outputs": [
    {
     "data": {
      "text/html": [
       "<style  type=\"text/css\" >\n",
       "#T_e6933_row0_col0,#T_e6933_row0_col1,#T_e6933_row2_col2,#T_e6933_row3_col2{\n",
       "            background-color:  #BF3030;\n",
       "        }</style><table id=\"T_e6933_\" ><thead>    <tr>        <th class=\"blank level0\" ></th>        <th class=\"col_heading level0 col0\" >count</th>        <th class=\"col_heading level0 col1\" >count_ratio</th>        <th class=\"col_heading level0 col2\" >avg_churn</th>    </tr>    <tr>        <th class=\"index_name level0\" >products</th>        <th class=\"blank\" ></th>        <th class=\"blank\" ></th>        <th class=\"blank\" ></th>    </tr></thead><tbody>\n",
       "                <tr>\n",
       "                        <th id=\"T_e6933_level0_row0\" class=\"row_heading level0 row0\" >1</th>\n",
       "                        <td id=\"T_e6933_row0_col0\" class=\"data row0 col0\" >9162</td>\n",
       "                        <td id=\"T_e6933_row0_col1\" class=\"data row0 col1\" >92%</td>\n",
       "                        <td id=\"T_e6933_row0_col2\" class=\"data row0 col2\" >12.3%</td>\n",
       "            </tr>\n",
       "            <tr>\n",
       "                        <th id=\"T_e6933_level0_row1\" class=\"row_heading level0 row1\" >2</th>\n",
       "                        <td id=\"T_e6933_row1_col0\" class=\"data row1 col0\" >524</td>\n",
       "                        <td id=\"T_e6933_row1_col1\" class=\"data row1 col1\" >5%</td>\n",
       "                        <td id=\"T_e6933_row1_col2\" class=\"data row1 col2\" >0.0%</td>\n",
       "            </tr>\n",
       "            <tr>\n",
       "                        <th id=\"T_e6933_level0_row2\" class=\"row_heading level0 row2\" >3</th>\n",
       "                        <td id=\"T_e6933_row2_col0\" class=\"data row2 col0\" >306</td>\n",
       "                        <td id=\"T_e6933_row2_col1\" class=\"data row2 col1\" >3%</td>\n",
       "                        <td id=\"T_e6933_row2_col2\" class=\"data row2 col2\" >100.0%</td>\n",
       "            </tr>\n",
       "            <tr>\n",
       "                        <th id=\"T_e6933_level0_row3\" class=\"row_heading level0 row3\" >4</th>\n",
       "                        <td id=\"T_e6933_row3_col0\" class=\"data row3 col0\" >8</td>\n",
       "                        <td id=\"T_e6933_row3_col1\" class=\"data row3 col1\" >0%</td>\n",
       "                        <td id=\"T_e6933_row3_col2\" class=\"data row3 col2\" >100.0%</td>\n",
       "            </tr>\n",
       "    </tbody></table>"
      ],
      "text/plain": [
       "<pandas.io.formats.style.Styler at 0x2c1c2b38f70>"
      ]
     },
     "metadata": {},
     "output_type": "display_data"
    },
    {
     "data": {
      "text/html": [
       "<style  type=\"text/css\" >\n",
       "#T_8360b_row0_col2,#T_8360b_row1_col0,#T_8360b_row1_col1{\n",
       "            background-color:  #BF3030;\n",
       "        }</style><table id=\"T_8360b_\" ><thead>    <tr>        <th class=\"blank level0\" ></th>        <th class=\"col_heading level0 col0\" >count</th>        <th class=\"col_heading level0 col1\" >count_ratio</th>        <th class=\"col_heading level0 col2\" >avg_churn</th>    </tr>    <tr>        <th class=\"index_name level0\" >credit_card</th>        <th class=\"blank\" ></th>        <th class=\"blank\" ></th>        <th class=\"blank\" ></th>    </tr></thead><tbody>\n",
       "                <tr>\n",
       "                        <th id=\"T_8360b_level0_row0\" class=\"row_heading level0 row0\" >0</th>\n",
       "                        <td id=\"T_8360b_row0_col0\" class=\"data row0 col0\" >1577</td>\n",
       "                        <td id=\"T_8360b_row0_col1\" class=\"data row0 col1\" >16%</td>\n",
       "                        <td id=\"T_8360b_row0_col2\" class=\"data row0 col2\" >42.0%</td>\n",
       "            </tr>\n",
       "            <tr>\n",
       "                        <th id=\"T_8360b_level0_row1\" class=\"row_heading level0 row1\" >1</th>\n",
       "                        <td id=\"T_8360b_row1_col0\" class=\"data row1 col0\" >8423</td>\n",
       "                        <td id=\"T_8360b_row1_col1\" class=\"data row1 col1\" >84%</td>\n",
       "                        <td id=\"T_8360b_row1_col2\" class=\"data row1 col2\" >9.2%</td>\n",
       "            </tr>\n",
       "    </tbody></table>"
      ],
      "text/plain": [
       "<pandas.io.formats.style.Styler at 0x2c1c2b51bb0>"
      ]
     },
     "metadata": {},
     "output_type": "display_data"
    },
    {
     "data": {
      "text/html": [
       "<style  type=\"text/css\" >\n",
       "#T_25e2f_row0_col0,#T_25e2f_row0_col1,#T_25e2f_row1_col2{\n",
       "            background-color:  #BF3030;\n",
       "        }</style><table id=\"T_25e2f_\" ><thead>    <tr>        <th class=\"blank level0\" ></th>        <th class=\"col_heading level0 col0\" >count</th>        <th class=\"col_heading level0 col1\" >count_ratio</th>        <th class=\"col_heading level0 col2\" >avg_churn</th>    </tr>    <tr>        <th class=\"index_name level0\" >last_activity</th>        <th class=\"blank\" ></th>        <th class=\"blank\" ></th>        <th class=\"blank\" ></th>    </tr></thead><tbody>\n",
       "                <tr>\n",
       "                        <th id=\"T_25e2f_level0_row0\" class=\"row_heading level0 row0\" >0</th>\n",
       "                        <td id=\"T_25e2f_row0_col0\" class=\"data row0 col0\" >5002</td>\n",
       "                        <td id=\"T_25e2f_row0_col1\" class=\"data row0 col1\" >50%</td>\n",
       "                        <td id=\"T_25e2f_row0_col2\" class=\"data row0 col2\" >4.3%</td>\n",
       "            </tr>\n",
       "            <tr>\n",
       "                        <th id=\"T_25e2f_level0_row1\" class=\"row_heading level0 row1\" >1</th>\n",
       "                        <td id=\"T_25e2f_row1_col0\" class=\"data row1 col0\" >4998</td>\n",
       "                        <td id=\"T_25e2f_row1_col1\" class=\"data row1 col1\" >50%</td>\n",
       "                        <td id=\"T_25e2f_row1_col2\" class=\"data row1 col2\" >24.4%</td>\n",
       "            </tr>\n",
       "    </tbody></table>"
      ],
      "text/plain": [
       "<pandas.io.formats.style.Styler at 0x2c1c2bc59a0>"
      ]
     },
     "metadata": {},
     "output_type": "display_data"
    },
    {
     "data": {
      "text/html": [
       "<style  type=\"text/css\" >\n",
       "#T_64b67_row1_col0,#T_64b67_row1_col1,#T_64b67_row1_col2{\n",
       "            background-color:  #BF3030;\n",
       "        }</style><table id=\"T_64b67_\" ><thead>    <tr>        <th class=\"blank level0\" ></th>        <th class=\"col_heading level0 col0\" >count</th>        <th class=\"col_heading level0 col1\" >count_ratio</th>        <th class=\"col_heading level0 col2\" >avg_churn</th>    </tr>    <tr>        <th class=\"index_name level0\" >gender_origin</th>        <th class=\"blank\" ></th>        <th class=\"blank\" ></th>        <th class=\"blank\" ></th>    </tr></thead><tbody>\n",
       "                <tr>\n",
       "                        <th id=\"T_64b67_level0_row0\" class=\"row_heading level0 row0\" >Ж</th>\n",
       "                        <td id=\"T_64b67_row0_col0\" class=\"data row0 col0\" >4992</td>\n",
       "                        <td id=\"T_64b67_row0_col1\" class=\"data row0 col1\" >50%</td>\n",
       "                        <td id=\"T_64b67_row0_col2\" class=\"data row0 col2\" >11.3%</td>\n",
       "            </tr>\n",
       "            <tr>\n",
       "                        <th id=\"T_64b67_level0_row1\" class=\"row_heading level0 row1\" >М</th>\n",
       "                        <td id=\"T_64b67_row1_col0\" class=\"data row1 col0\" >5008</td>\n",
       "                        <td id=\"T_64b67_row1_col1\" class=\"data row1 col1\" >50%</td>\n",
       "                        <td id=\"T_64b67_row1_col2\" class=\"data row1 col2\" >17.4%</td>\n",
       "            </tr>\n",
       "    </tbody></table>"
      ],
      "text/plain": [
       "<pandas.io.formats.style.Styler at 0x2c1c3a92850>"
      ]
     },
     "metadata": {},
     "output_type": "display_data"
    },
    {
     "data": {
      "text/html": [
       "<style  type=\"text/css\" >\n",
       "#T_19e54_row2_col0,#T_19e54_row2_col1,#T_19e54_row2_col2{\n",
       "            background-color:  #BF3030;\n",
       "        }</style><table id=\"T_19e54_\" ><thead>    <tr>        <th class=\"blank level0\" ></th>        <th class=\"col_heading level0 col0\" >count</th>        <th class=\"col_heading level0 col1\" >count_ratio</th>        <th class=\"col_heading level0 col2\" >avg_churn</th>    </tr>    <tr>        <th class=\"index_name level0\" >city_origin</th>        <th class=\"blank\" ></th>        <th class=\"blank\" ></th>        <th class=\"blank\" ></th>    </tr></thead><tbody>\n",
       "                <tr>\n",
       "                        <th id=\"T_19e54_level0_row0\" class=\"row_heading level0 row0\" >Ростов</th>\n",
       "                        <td id=\"T_19e54_row0_col0\" class=\"data row0 col0\" >1431</td>\n",
       "                        <td id=\"T_19e54_row0_col1\" class=\"data row0 col1\" >14%</td>\n",
       "                        <td id=\"T_19e54_row0_col2\" class=\"data row0 col2\" >14.0%</td>\n",
       "            </tr>\n",
       "            <tr>\n",
       "                        <th id=\"T_19e54_level0_row1\" class=\"row_heading level0 row1\" >Рыбинск</th>\n",
       "                        <td id=\"T_19e54_row1_col0\" class=\"data row1 col0\" >2663</td>\n",
       "                        <td id=\"T_19e54_row1_col1\" class=\"data row1 col1\" >27%</td>\n",
       "                        <td id=\"T_19e54_row1_col2\" class=\"data row1 col2\" >11.2%</td>\n",
       "            </tr>\n",
       "            <tr>\n",
       "                        <th id=\"T_19e54_level0_row2\" class=\"row_heading level0 row2\" >Ярославль</th>\n",
       "                        <td id=\"T_19e54_row2_col0\" class=\"data row2 col0\" >5906</td>\n",
       "                        <td id=\"T_19e54_row2_col1\" class=\"data row2 col1\" >59%</td>\n",
       "                        <td id=\"T_19e54_row2_col2\" class=\"data row2 col2\" >15.9%</td>\n",
       "            </tr>\n",
       "    </tbody></table>"
      ],
      "text/plain": [
       "<pandas.io.formats.style.Styler at 0x2c1c2bc5fa0>"
      ]
     },
     "metadata": {},
     "output_type": "display_data"
    },
    {
     "data": {
      "text/html": [
       "<style  type=\"text/css\" >\n",
       "#T_e1f61_row0_col0,#T_e1f61_row0_col1,#T_e1f61_row1_col2{\n",
       "            background-color:  #BF3030;\n",
       "        }</style><table id=\"T_e1f61_\" ><thead>    <tr>        <th class=\"blank level0\" ></th>        <th class=\"col_heading level0 col0\" >count</th>        <th class=\"col_heading level0 col1\" >count_ratio</th>        <th class=\"col_heading level0 col2\" >avg_churn</th>    </tr>    <tr>        <th class=\"index_name level0\" >score_category</th>        <th class=\"blank\" ></th>        <th class=\"blank\" ></th>        <th class=\"blank\" ></th>    </tr></thead><tbody>\n",
       "                <tr>\n",
       "                        <th id=\"T_e1f61_level0_row0\" class=\"row_heading level0 row0\" >до 640 баллов</th>\n",
       "                        <td id=\"T_e1f61_row0_col0\" class=\"data row0 col0\" >5749</td>\n",
       "                        <td id=\"T_e1f61_row0_col1\" class=\"data row0 col1\" >57%</td>\n",
       "                        <td id=\"T_e1f61_row0_col2\" class=\"data row0 col2\" >0.8%</td>\n",
       "            </tr>\n",
       "            <tr>\n",
       "                        <th id=\"T_e1f61_level0_row1\" class=\"row_heading level0 row1\" >от 640 баллов</th>\n",
       "                        <td id=\"T_e1f61_row1_col0\" class=\"data row1 col0\" >4251</td>\n",
       "                        <td id=\"T_e1f61_row1_col1\" class=\"data row1 col1\" >43%</td>\n",
       "                        <td id=\"T_e1f61_row1_col2\" class=\"data row1 col2\" >32.7%</td>\n",
       "            </tr>\n",
       "    </tbody></table>"
      ],
      "text/plain": [
       "<pandas.io.formats.style.Styler at 0x2c1c2b51e80>"
      ]
     },
     "metadata": {},
     "output_type": "display_data"
    },
    {
     "data": {
      "text/html": [
       "<style  type=\"text/css\" >\n",
       "#T_a34fe_row0_col0,#T_a34fe_row0_col1,#T_a34fe_row0_col2{\n",
       "            background-color:  #BF3030;\n",
       "        }</style><table id=\"T_a34fe_\" ><thead>    <tr>        <th class=\"blank level0\" ></th>        <th class=\"col_heading level0 col0\" >count</th>        <th class=\"col_heading level0 col1\" >count_ratio</th>        <th class=\"col_heading level0 col2\" >avg_churn</th>    </tr>    <tr>        <th class=\"index_name level0\" >balance_category</th>        <th class=\"blank\" ></th>        <th class=\"blank\" ></th>        <th class=\"blank\" ></th>    </tr></thead><tbody>\n",
       "                <tr>\n",
       "                        <th id=\"T_a34fe_level0_row0\" class=\"row_heading level0 row0\" >350 тыс. и более</th>\n",
       "                        <td id=\"T_a34fe_row0_col0\" class=\"data row0 col0\" >4312</td>\n",
       "                        <td id=\"T_a34fe_row0_col1\" class=\"data row0 col1\" >43%</td>\n",
       "                        <td id=\"T_a34fe_row0_col2\" class=\"data row0 col2\" >26.6%</td>\n",
       "            </tr>\n",
       "            <tr>\n",
       "                        <th id=\"T_a34fe_level0_row1\" class=\"row_heading level0 row1\" >до 350 тыс.</th>\n",
       "                        <td id=\"T_a34fe_row1_col0\" class=\"data row1 col0\" >3394</td>\n",
       "                        <td id=\"T_a34fe_row1_col1\" class=\"data row1 col1\" >34%</td>\n",
       "                        <td id=\"T_a34fe_row1_col2\" class=\"data row1 col2\" >8.6%</td>\n",
       "            </tr>\n",
       "            <tr>\n",
       "                        <th id=\"T_a34fe_level0_row2\" class=\"row_heading level0 row2\" >нет собств.средств</th>\n",
       "                        <td id=\"T_a34fe_row2_col0\" class=\"data row2 col0\" >2294</td>\n",
       "                        <td id=\"T_a34fe_row2_col1\" class=\"data row2 col1\" >23%</td>\n",
       "                        <td id=\"T_a34fe_row2_col2\" class=\"data row2 col2\" >0.0%</td>\n",
       "            </tr>\n",
       "    </tbody></table>"
      ],
      "text/plain": [
       "<pandas.io.formats.style.Styler at 0x2c1c3a92610>"
      ]
     },
     "metadata": {},
     "output_type": "display_data"
    },
    {
     "data": {
      "text/html": [
       "<style  type=\"text/css\" >\n",
       "#T_989b8_row0_col0,#T_989b8_row0_col1,#T_989b8_row3_col2{\n",
       "            background-color:  #BF3030;\n",
       "        }</style><table id=\"T_989b8_\" ><thead>    <tr>        <th class=\"blank level0\" ></th>        <th class=\"col_heading level0 col0\" >count</th>        <th class=\"col_heading level0 col1\" >count_ratio</th>        <th class=\"col_heading level0 col2\" >avg_churn</th>    </tr>    <tr>        <th class=\"index_name level0\" >age_category</th>        <th class=\"blank\" ></th>        <th class=\"blank\" ></th>        <th class=\"blank\" ></th>    </tr></thead><tbody>\n",
       "                <tr>\n",
       "                        <th id=\"T_989b8_level0_row0\" class=\"row_heading level0 row0\" >30-39 лет</th>\n",
       "                        <td id=\"T_989b8_row0_col0\" class=\"data row0 col0\" >3700</td>\n",
       "                        <td id=\"T_989b8_row0_col1\" class=\"data row0 col1\" >37%</td>\n",
       "                        <td id=\"T_989b8_row0_col2\" class=\"data row0 col2\" >17.3%</td>\n",
       "            </tr>\n",
       "            <tr>\n",
       "                        <th id=\"T_989b8_level0_row1\" class=\"row_heading level0 row1\" >40-49 лет</th>\n",
       "                        <td id=\"T_989b8_row1_col0\" class=\"data row1 col0\" >2409</td>\n",
       "                        <td id=\"T_989b8_row1_col1\" class=\"data row1 col1\" >24%</td>\n",
       "                        <td id=\"T_989b8_row1_col2\" class=\"data row1 col2\" >10.4%</td>\n",
       "            </tr>\n",
       "            <tr>\n",
       "                        <th id=\"T_989b8_level0_row2\" class=\"row_heading level0 row2\" >50-59 лет</th>\n",
       "                        <td id=\"T_989b8_row2_col0\" class=\"data row2 col0\" >1605</td>\n",
       "                        <td id=\"T_989b8_row2_col1\" class=\"data row2 col1\" >16%</td>\n",
       "                        <td id=\"T_989b8_row2_col2\" class=\"data row2 col2\" >17.1%</td>\n",
       "            </tr>\n",
       "            <tr>\n",
       "                        <th id=\"T_989b8_level0_row3\" class=\"row_heading level0 row3\" >до 30 лет</th>\n",
       "                        <td id=\"T_989b8_row3_col0\" class=\"data row3 col0\" >1082</td>\n",
       "                        <td id=\"T_989b8_row3_col1\" class=\"data row3 col1\" >11%</td>\n",
       "                        <td id=\"T_989b8_row3_col2\" class=\"data row3 col2\" >22.4%</td>\n",
       "            </tr>\n",
       "            <tr>\n",
       "                        <th id=\"T_989b8_level0_row4\" class=\"row_heading level0 row4\" >от 60 лет</th>\n",
       "                        <td id=\"T_989b8_row4_col0\" class=\"data row4 col0\" >1204</td>\n",
       "                        <td id=\"T_989b8_row4_col1\" class=\"data row4 col1\" >12%</td>\n",
       "                        <td id=\"T_989b8_row4_col2\" class=\"data row4 col2\" >2.7%</td>\n",
       "            </tr>\n",
       "    </tbody></table>"
      ],
      "text/plain": [
       "<pandas.io.formats.style.Styler at 0x2c1c2b51070>"
      ]
     },
     "metadata": {},
     "output_type": "display_data"
    },
    {
     "data": {
      "text/html": [
       "<style  type=\"text/css\" >\n",
       "#T_af4e8_row0_col0,#T_af4e8_row0_col1,#T_af4e8_row0_col2{\n",
       "            background-color:  #BF3030;\n",
       "        }</style><table id=\"T_af4e8_\" ><thead>    <tr>        <th class=\"blank level0\" ></th>        <th class=\"col_heading level0 col0\" >count</th>        <th class=\"col_heading level0 col1\" >count_ratio</th>        <th class=\"col_heading level0 col2\" >avg_churn</th>    </tr>    <tr>        <th class=\"index_name level0\" >salary_category</th>        <th class=\"blank\" ></th>        <th class=\"blank\" ></th>        <th class=\"blank\" ></th>    </tr></thead><tbody>\n",
       "                <tr>\n",
       "                        <th id=\"T_af4e8_level0_row0\" class=\"row_heading level0 row0\" >45 тыс. и выше</th>\n",
       "                        <td id=\"T_af4e8_row0_col0\" class=\"data row0 col0\" >6306</td>\n",
       "                        <td id=\"T_af4e8_row0_col1\" class=\"data row0 col1\" >63%</td>\n",
       "                        <td id=\"T_af4e8_row0_col2\" class=\"data row0 col2\" >17.3%</td>\n",
       "            </tr>\n",
       "            <tr>\n",
       "                        <th id=\"T_af4e8_level0_row1\" class=\"row_heading level0 row1\" >до 45 тыс.</th>\n",
       "                        <td id=\"T_af4e8_row1_col0\" class=\"data row1 col0\" >3694</td>\n",
       "                        <td id=\"T_af4e8_row1_col1\" class=\"data row1 col1\" >37%</td>\n",
       "                        <td id=\"T_af4e8_row1_col2\" class=\"data row1 col2\" >9.3%</td>\n",
       "            </tr>\n",
       "    </tbody></table>"
      ],
      "text/plain": [
       "<pandas.io.formats.style.Styler at 0x2c1c2bc5fa0>"
      ]
     },
     "metadata": {},
     "output_type": "display_data"
    },
    {
     "data": {
      "text/html": [
       "<style  type=\"text/css\" >\n",
       "#T_ef123_row0_col2,#T_ef123_row1_col0,#T_ef123_row1_col1{\n",
       "            background-color:  #BF3030;\n",
       "        }</style><table id=\"T_ef123_\" ><thead>    <tr>        <th class=\"blank level0\" ></th>        <th class=\"col_heading level0 col0\" >count</th>        <th class=\"col_heading level0 col1\" >count_ratio</th>        <th class=\"col_heading level0 col2\" >avg_churn</th>    </tr>    <tr>        <th class=\"index_name level0\" >equity_category</th>        <th class=\"blank\" ></th>        <th class=\"blank\" ></th>        <th class=\"blank\" ></th>    </tr></thead><tbody>\n",
       "                <tr>\n",
       "                        <th id=\"T_ef123_level0_row0\" class=\"row_heading level0 row0\" >2 объекта и больше</th>\n",
       "                        <td id=\"T_ef123_row0_col0\" class=\"data row0 col0\" >4911</td>\n",
       "                        <td id=\"T_ef123_row0_col1\" class=\"data row0 col1\" >49%</td>\n",
       "                        <td id=\"T_ef123_row0_col2\" class=\"data row0 col2\" >21.4%</td>\n",
       "            </tr>\n",
       "            <tr>\n",
       "                        <th id=\"T_ef123_level0_row1\" class=\"row_heading level0 row1\" >до 2 объектов</th>\n",
       "                        <td id=\"T_ef123_row1_col0\" class=\"data row1 col0\" >5089</td>\n",
       "                        <td id=\"T_ef123_row1_col1\" class=\"data row1 col1\" >51%</td>\n",
       "                        <td id=\"T_ef123_row1_col2\" class=\"data row1 col2\" >7.6%</td>\n",
       "            </tr>\n",
       "    </tbody></table>"
      ],
      "text/plain": [
       "<pandas.io.formats.style.Styler at 0x2c1c3a82790>"
      ]
     },
     "metadata": {},
     "output_type": "display_data"
    }
   ],
   "source": [
    "# смотрим средние оттоки по сегментам, основанным только на одном признаке\n",
    "for element in tmp_list:\n",
    "    tmp = df.groupby(element).agg({'churn': ['count', 'mean']})\n",
    "    tmp.columns = ['count', 'avg_churn']\n",
    "    tmp.insert(1, 'count_ratio', tmp['count'] / tmp['count'].sum())\n",
    "    display(tmp.style.format({'avg_churn':'{:.1%}', 'count_ratio':'{:.0%}'}) \\\n",
    "                     .highlight_max(color='#BF3030')\n",
    "           )"
   ]
  },
  {
   "cell_type": "markdown",
   "id": "b34134a1",
   "metadata": {},
   "source": [
    "### Выделение стратегически важных признаков"
   ]
  },
  {
   "cell_type": "markdown",
   "id": "4eeb8742",
   "metadata": {},
   "source": [
    "Для будущей сегментации клиентов необходимо определить стратегически важные признаки, влияющие на отток:\n",
    "* **количество продуктов** - стратегический признак: костяк базы составляют клиенты с 1 продуктом, клиенты с 2 продуктами не уходят вообще, а с 3-4 продуктами уходят полностью;\n",
    "* **наличие кредитной карты** - статегический признак: наличие кредитной карты с загруженным лимитом позволяет \"привязать\" клиента к банку как минимум до момента возврата израсходованных кредитных средств;\n",
    "* **баллы кредитного скоринга** - стратегический признак. Клиенту с высоким баллом и хорошей кредитной историей намного проще перекредитоваться на более выгодных условиях;\n",
    "* **баланс собственных средств** - стратегический признак: наблюдаем отток клиентов с остатками более 350 тысяч;\n",
    "* **возраст клиента** - стратегический признак: способы удержания для молодых и зрелых людей могут сильно различаться в зависимости от ценности для клиента предлагаемого продукта/услуги;\n",
    "* активность клиента - с одной стороны, сегмент активных клиентов более высокоотточный, и с активными клиентами банку проще взаимодействовать в части реализации инициатив и продажи дополнительных продуктов. С другой стороны, активность сама собой не зарождается: она идет от продукта, который клиент купил. Поэтому пока не вносим активность в список стратегических признаков;\n",
    "* зарплату и количество объектов в собственности пока оставляем за кадром. Они могут пригодится как маркеры \"состоятельности\" клиента, но напрямую на них повлиять мы не можем. Кроме того, мы уже выбрали в качестве стратегического показателя баллы кредитного скоринга, через который в том числе отражается и зарплата, и собственность;\n",
    "* пол клиента тоже пока оставляем за кадром, не сильно большая разница в оттоке. Кроме того, в современном обществе история про гендерное неравенство при разработке конкретных мероприятий может прозвучать возмутительно;\n",
    "* сильно большой разницы в оттоках по разным городам не видно, поэтому город тоже не рассматриваем. Кроме того, разворачивать маркетинговую кампанию в разных городах с разными условиями, либо делать разные настройки продуктов в зависимости от города технически сложно и нецелесообразно."
   ]
  },
  {
   "cell_type": "markdown",
   "id": "43ccd8ba",
   "metadata": {},
   "source": [
    "## Сегментация пользователей по потреблению"
   ]
  },
  {
   "cell_type": "markdown",
   "id": "c5e35dce",
   "metadata": {},
   "source": [
    "### Сегментация клиентов по количеству продуктов"
   ]
  },
  {
   "cell_type": "markdown",
   "id": "bae233b0",
   "metadata": {},
   "source": [
    "Посмотрим на различия средних/медианных показателей по группам клиентов, которые владеют разным количеством продуктов (города проживания брать не будем - непоказательный параметр, т.к. основной бизнес у банка в Ярославле, и этот город будет преобладать в каждом сегменте):"
   ]
  },
  {
   "cell_type": "code",
   "execution_count": 30,
   "id": "be6e0f03",
   "metadata": {},
   "outputs": [
    {
     "data": {
      "text/html": [
       "<style  type=\"text/css\" >\n",
       "</style><table id=\"T_52b0d_\" ><thead>    <tr>        <th class=\"index_name level0\" >products</th>        <th class=\"col_heading level0 col0\" >1</th>        <th class=\"col_heading level0 col1\" >2</th>        <th class=\"col_heading level0 col2\" >3</th>        <th class=\"col_heading level0 col3\" >4</th>    </tr></thead><tbody>\n",
       "                <tr>\n",
       "                        <th id=\"T_52b0d_level0_row0\" class=\"row_heading level0 row0\" >user_id</th>\n",
       "                        <td id=\"T_52b0d_row0_col0\" class=\"data row0 col0\" >9162.00</td>\n",
       "                        <td id=\"T_52b0d_row0_col1\" class=\"data row0 col1\" >524.00</td>\n",
       "                        <td id=\"T_52b0d_row0_col2\" class=\"data row0 col2\" >306.00</td>\n",
       "                        <td id=\"T_52b0d_row0_col3\" class=\"data row0 col3\" >8.00</td>\n",
       "            </tr>\n",
       "            <tr>\n",
       "                        <th id=\"T_52b0d_level0_row1\" class=\"row_heading level0 row1\" >churn</th>\n",
       "                        <td id=\"T_52b0d_row1_col0\" class=\"data row1 col0\" >0.12</td>\n",
       "                        <td id=\"T_52b0d_row1_col1\" class=\"data row1 col1\" >0.00</td>\n",
       "                        <td id=\"T_52b0d_row1_col2\" class=\"data row1 col2\" >1.00</td>\n",
       "                        <td id=\"T_52b0d_row1_col3\" class=\"data row1 col3\" >1.00</td>\n",
       "            </tr>\n",
       "            <tr>\n",
       "                        <th id=\"T_52b0d_level0_row2\" class=\"row_heading level0 row2\" >age</th>\n",
       "                        <td id=\"T_52b0d_row2_col0\" class=\"data row2 col0\" >40.00</td>\n",
       "                        <td id=\"T_52b0d_row2_col1\" class=\"data row2 col1\" >43.00</td>\n",
       "                        <td id=\"T_52b0d_row2_col2\" class=\"data row2 col2\" >39.00</td>\n",
       "                        <td id=\"T_52b0d_row2_col3\" class=\"data row2 col3\" >38.50</td>\n",
       "            </tr>\n",
       "            <tr>\n",
       "                        <th id=\"T_52b0d_level0_row3\" class=\"row_heading level0 row3\" >gender_М</th>\n",
       "                        <td id=\"T_52b0d_row3_col0\" class=\"data row3 col0\" >0.50</td>\n",
       "                        <td id=\"T_52b0d_row3_col1\" class=\"data row3 col1\" >0.45</td>\n",
       "                        <td id=\"T_52b0d_row3_col2\" class=\"data row3 col2\" >0.65</td>\n",
       "                        <td id=\"T_52b0d_row3_col3\" class=\"data row3 col3\" >0.62</td>\n",
       "            </tr>\n",
       "            <tr>\n",
       "                        <th id=\"T_52b0d_level0_row4\" class=\"row_heading level0 row4\" >gender_Ж</th>\n",
       "                        <td id=\"T_52b0d_row4_col0\" class=\"data row4 col0\" >0.50</td>\n",
       "                        <td id=\"T_52b0d_row4_col1\" class=\"data row4 col1\" >0.55</td>\n",
       "                        <td id=\"T_52b0d_row4_col2\" class=\"data row4 col2\" >0.35</td>\n",
       "                        <td id=\"T_52b0d_row4_col3\" class=\"data row4 col3\" >0.38</td>\n",
       "            </tr>\n",
       "            <tr>\n",
       "                        <th id=\"T_52b0d_level0_row5\" class=\"row_heading level0 row5\" >salary</th>\n",
       "                        <td id=\"T_52b0d_row5_col0\" class=\"data row5 col0\" >64482.48</td>\n",
       "                        <td id=\"T_52b0d_row5_col1\" class=\"data row5 col1\" >31107.55</td>\n",
       "                        <td id=\"T_52b0d_row5_col2\" class=\"data row5 col2\" >93367.95</td>\n",
       "                        <td id=\"T_52b0d_row5_col3\" class=\"data row5 col3\" >108395.92</td>\n",
       "            </tr>\n",
       "            <tr>\n",
       "                        <th id=\"T_52b0d_level0_row6\" class=\"row_heading level0 row6\" >equity</th>\n",
       "                        <td id=\"T_52b0d_row6_col0\" class=\"data row6 col0\" >1.00</td>\n",
       "                        <td id=\"T_52b0d_row6_col1\" class=\"data row6 col1\" >2.00</td>\n",
       "                        <td id=\"T_52b0d_row6_col2\" class=\"data row6 col2\" >3.00</td>\n",
       "                        <td id=\"T_52b0d_row6_col3\" class=\"data row6 col3\" >3.50</td>\n",
       "            </tr>\n",
       "            <tr>\n",
       "                        <th id=\"T_52b0d_level0_row7\" class=\"row_heading level0 row7\" >score</th>\n",
       "                        <td id=\"T_52b0d_row7_col0\" class=\"data row7 col0\" >608.00</td>\n",
       "                        <td id=\"T_52b0d_row7_col1\" class=\"data row7 col1\" >576.50</td>\n",
       "                        <td id=\"T_52b0d_row7_col2\" class=\"data row7 col2\" >734.50</td>\n",
       "                        <td id=\"T_52b0d_row7_col3\" class=\"data row7 col3\" >719.00</td>\n",
       "            </tr>\n",
       "            <tr>\n",
       "                        <th id=\"T_52b0d_level0_row8\" class=\"row_heading level0 row8\" >credit_card</th>\n",
       "                        <td id=\"T_52b0d_row8_col0\" class=\"data row8 col0\" >0.83</td>\n",
       "                        <td id=\"T_52b0d_row8_col1\" class=\"data row8 col1\" >0.90</td>\n",
       "                        <td id=\"T_52b0d_row8_col2\" class=\"data row8 col2\" >0.97</td>\n",
       "                        <td id=\"T_52b0d_row8_col3\" class=\"data row8 col3\" >1.00</td>\n",
       "            </tr>\n",
       "            <tr>\n",
       "                        <th id=\"T_52b0d_level0_row9\" class=\"row_heading level0 row9\" >balance</th>\n",
       "                        <td id=\"T_52b0d_row9_col0\" class=\"data row9 col0\" >244735.20</td>\n",
       "                        <td id=\"T_52b0d_row9_col1\" class=\"data row9 col1\" >553743.08</td>\n",
       "                        <td id=\"T_52b0d_row9_col2\" class=\"data row9 col2\" >1310174.38</td>\n",
       "                        <td id=\"T_52b0d_row9_col3\" class=\"data row9 col3\" >1228741.79</td>\n",
       "            </tr>\n",
       "            <tr>\n",
       "                        <th id=\"T_52b0d_level0_row10\" class=\"row_heading level0 row10\" >last_activity</th>\n",
       "                        <td id=\"T_52b0d_row10_col0\" class=\"data row10 col0\" >0.51</td>\n",
       "                        <td id=\"T_52b0d_row10_col1\" class=\"data row10 col1\" >0.28</td>\n",
       "                        <td id=\"T_52b0d_row10_col2\" class=\"data row10 col2\" >0.67</td>\n",
       "                        <td id=\"T_52b0d_row10_col3\" class=\"data row10 col3\" >0.75</td>\n",
       "            </tr>\n",
       "    </tbody></table>"
      ],
      "text/plain": [
       "<pandas.io.formats.style.Styler at 0x2c1c0972250>"
      ]
     },
     "execution_count": 30,
     "metadata": {},
     "output_type": "execute_result"
    }
   ],
   "source": [
    "df.groupby('products') \\\n",
    "  .agg({'user_id': 'count',\n",
    "        'churn': 'mean',\n",
    "        'age': 'median',\n",
    "        'gender_М': 'mean',\n",
    "        'gender_Ж': 'mean',\n",
    "        'salary': 'median',\n",
    "        'equity': 'median',\n",
    "        'score': 'median',\n",
    "        'credit_card': 'mean',\n",
    "        'balance': 'median',\n",
    "        'last_activity': 'mean'        \n",
    "  }).T.style.format('{:.2f}')"
   ]
  },
  {
   "cell_type": "markdown",
   "id": "26599f3c",
   "metadata": {},
   "source": [
    "Составим типичные портреты пользователей по количеству продуктов (в описании буду применять термин \"средний\", хотя по некоторым показателем будет медиана, но сразу ориентируюсь на непогруженного слушателя будущей презентации):\n",
    "\n",
    "**Клиенты с 3-4 продуктами:**\n",
    "* наименьший по численности сегмент (около 3% от базы)\n",
    "* все клиенты уходят в отток\n",
    "* средний возраст около 39 лет\n",
    "* мужчин в 1.5 раза больше, чем женщин\n",
    "* средняя заработная плата 93 - 108 тыс.руб.\n",
    "* в собственности, в среднем, 3-4 объекта\n",
    "* оцениваются максимальным среди остальным средним баллом кредитного скоринга\n",
    "* почти все являются владельцами кредитных карт\n",
    "* средний остаток собственных средств на счете 1.2 - 1.3 млн.руб.\n",
    "* в последнее время были наиболее активны\n",
    "\n",
    "**Клиенты с 2 продуктами:**\n",
    "* небольшой по численности сегмент (около 5% от базы)\n",
    "* ни один из клиентов не уходит в отток\n",
    "* средний возраст 43 года\n",
    "* мужчин на 5 п.п. меньше, чем женщин\n",
    "* средняя зарплата 31 тыс.руб.\n",
    "* в собственности, в среднем, 2 объекта\n",
    "* наименьший среди остальный групп средний скоринговый баллом 576 (для одобрения кредита лучше всего получить более 600)\n",
    "* 90% являются пользователями кредитных карт\n",
    "* средний остаток собственных средств на счете 553 тыс.руб.\n",
    "* сегмент наименее активен\n",
    "\n",
    "**Клиенты с 1 продуктом:**\n",
    "* наибольший по численности сегмент, костяк всей базы (около 92% от базы)\n",
    "* 12% клиентов уходит в отток\n",
    "* средний возраст 40 лет\n",
    "* мужчин и женщин поровну\n",
    "* средняя зарплата 64 тыс.руб.\n",
    "* в собственности, в среднем, 1 объект\n",
    "* половина клиентов оценивается скоринговым баллом более 608 (приемлемый для получения кредита)\n",
    "* 83% являются пользователями кредитных карт\n",
    "* средний остаток собственных средств на счете 245 тыс.руб.\n",
    "* клиенты делятся 50/50 между активными и неактивными"
   ]
  },
  {
   "cell_type": "markdown",
   "id": "2adf234d",
   "metadata": {},
   "source": [
    "Описание всех сегментов клиентов и предположения о причинах их лояльности/нелояльности к банку приведем ниже после дополнительной сегментации клиентов с 1 продуктом."
   ]
  },
  {
   "cell_type": "markdown",
   "id": "8cece6df",
   "metadata": {},
   "source": [
    "### Дополнительная сегментация клиентов с 1 продуктом"
   ]
  },
  {
   "cell_type": "markdown",
   "id": "bc6b8509",
   "metadata": {},
   "source": [
    "Рассмотрим сегмент клиентов с 1 продуктом. Мы уже знаем как минимум 3 признака, которыми можно описать низкоотточные сегменты:\n",
    "* скоринговый балл ниже 640 баллов - доля оттока 1%\n",
    "* нет собственных средств - доля оттока 0%\n",
    "* возраст от 60 лет - доля оттока 3%.\n",
    "\n",
    "Таким образом, если мы возьмем клиентов, которые будут обладать одновременно каждым их трех признаков высокого оттока (\"наиболее отточные из отточных\"), то получим датафрейм, содержащий основную часть уходящих клиентов, а также остающихся клиентов со схожими признаками. Это и будут наши **целевые клиенты с 1 продуктом**, на которых необходимо в первую очередь направить усилия по сдерживанию оттока и удержанию. Оставшиеся клиенты в группе клиентов с 1 продуктом будут являться низкоотточным сегментом, назовем их **нецелевые клиенты с 1 продуктом**."
   ]
  },
  {
   "cell_type": "code",
   "execution_count": 31,
   "id": "96858da2",
   "metadata": {},
   "outputs": [
    {
     "name": "stdout",
     "output_type": "stream",
     "text": [
      "Количество клиентов c 1 продуктом: 9162\n",
      "\t из них 'отточные': 1123 или 12%\n",
      "\n",
      "Количество целевых клиентов c 1 продуктом: 3334\n",
      "\t из них 'отточные': 1096 или 33%\n",
      "\n",
      "Количество нецелевых клиентов c 1 продуктом: 5828\n",
      "\t из них 'отточные': 27 или 0%\n"
     ]
    }
   ],
   "source": [
    "# создаем датафрейм с показателями целевых клиентов с 1 продуктов\n",
    "df_new = df.query(\"products==1 and score>=640 and balance>0 and age<60\")\n",
    "\n",
    "# общее кол-во клиентов с 1 продуктом, кол-во и доля уходящих\n",
    "total = len(df.query('products==1'))\n",
    "ch_total = df.query('products==1 and churn==1')['user_id'].count()\n",
    "ch_total_r = df.query('products==1')['churn'].mean()\n",
    "# общее кол-во целевых клиентов с 1 продуктом, кол-во и доля уходящих\n",
    "target = len(df_new)\n",
    "ch_target = df_new.query('churn==1')['user_id'].count()\n",
    "ch_target_r = df_new['churn'].mean()\n",
    "                  \n",
    "print(f\"Количество клиентов c 1 продуктом: {total}\")\n",
    "print(f\"\\t из них 'отточные': {ch_total} или {ch_total_r:.0%}\")\n",
    "\n",
    "print(f\"\\nКоличество целевых клиентов c 1 продуктом: {target}\")\n",
    "print(f\"\\t из них 'отточные': {ch_target} или {ch_target_r:.0%}\")\n",
    "                  \n",
    "print(f\"\\nКоличество нецелевых клиентов c 1 продуктом: {total - target}\")\n",
    "print(f\"\\t из них 'отточные': {ch_total - ch_target} или \\\n",
    "{(ch_total - ch_target)/(total - target):.0%}\")"
   ]
  },
  {
   "cell_type": "markdown",
   "id": "13bad818",
   "metadata": {},
   "source": [
    "*Можно было бы в виде сводной таблицы показать ветвления группы клиентов с 1 продуктом по использованным в фильтре стратегическим признакам score, balance и age, но эта таблица будет слишком длинная и многострочная, поэтому здесь я пошла более компактным путем, а вот дальше уже буду \"навешивать\" доп.признаки в виде таблиц*"
   ]
  },
  {
   "cell_type": "markdown",
   "id": "61024e92",
   "metadata": {},
   "source": [
    "Нецелевые клиенты с 1 продуктом, также как и клиенты с 2 продуктами пока остаются вне рамок будущих мероприятий, направленных на повышение активности. Однако при опеределенных условиях на них также можно будет распространить отдельные нововведения в превентивных целях. Об этом напишу позднее в блоке рекомендаций. Приступаем к итоговому анализу целевых клиентов с 1 продуктом."
   ]
  },
  {
   "cell_type": "markdown",
   "id": "52faf525",
   "metadata": {},
   "source": [
    "#### Целевые клиенты с 1 продуктом"
   ]
  },
  {
   "cell_type": "markdown",
   "id": "b221fe66",
   "metadata": {},
   "source": [
    "Логика анализа этой группы клиентов будет такой:\n",
    "* чтобы понять тип используемого продукта, следующее ветвление проведем по признаку наличия кредитной карты\n",
    "* далее будем проверять влияние на отток стратегических признаков (баланс и возраст по оставшимся категориям), после чего получим несколько дополнительных сегментов клиентов, по которым и сформируем рекомендации для маркетологов"
   ]
  },
  {
   "cell_type": "markdown",
   "id": "5afcc021",
   "metadata": {},
   "source": [
    "Поделим всех клиентов на 2 группы по признаку наличия кредитной карты:"
   ]
  },
  {
   "cell_type": "code",
   "execution_count": 32,
   "id": "857e0f88",
   "metadata": {},
   "outputs": [
    {
     "data": {
      "text/html": [
       "<style  type=\"text/css\" >\n",
       "#T_e762b_row0_col1,#T_e762b_row0_col2,#T_e762b_row1_col0{\n",
       "            background-color:  #BF3030;\n",
       "        }</style><table id=\"T_e762b_\" ><thead>    <tr>        <th class=\"blank level0\" ></th>        <th class=\"col_heading level0 col0\" colspan=\"3\">churn</th>    </tr>    <tr>        <th class=\"blank level1\" ></th>        <th class=\"col_heading level1 col0\" >count</th>        <th class=\"col_heading level1 col1\" >sum</th>        <th class=\"col_heading level1 col2\" >mean</th>    </tr>    <tr>        <th class=\"index_name level0\" >credit_card</th>        <th class=\"blank\" ></th>        <th class=\"blank\" ></th>        <th class=\"blank\" ></th>    </tr></thead><tbody>\n",
       "                <tr>\n",
       "                        <th id=\"T_e762b_level0_row0\" class=\"row_heading level0 row0\" >0</th>\n",
       "                        <td id=\"T_e762b_row0_col0\" class=\"data row0 col0\" >944</td>\n",
       "                        <td id=\"T_e762b_row0_col1\" class=\"data row0 col1\" >628</td>\n",
       "                        <td id=\"T_e762b_row0_col2\" class=\"data row0 col2\" >67%</td>\n",
       "            </tr>\n",
       "            <tr>\n",
       "                        <th id=\"T_e762b_level0_row1\" class=\"row_heading level0 row1\" >1</th>\n",
       "                        <td id=\"T_e762b_row1_col0\" class=\"data row1 col0\" >2390</td>\n",
       "                        <td id=\"T_e762b_row1_col1\" class=\"data row1 col1\" >468</td>\n",
       "                        <td id=\"T_e762b_row1_col2\" class=\"data row1 col2\" >20%</td>\n",
       "            </tr>\n",
       "    </tbody></table>"
      ],
      "text/plain": [
       "<pandas.io.formats.style.Styler at 0x2c1c3a92550>"
      ]
     },
     "execution_count": 32,
     "metadata": {},
     "output_type": "execute_result"
    }
   ],
   "source": [
    "df_new.groupby('credit_card') \\\n",
    "      .agg({'churn': ['count', 'sum', 'mean']}) \\\n",
    "      .style.format({('churn', 'mean'):'{:.0%}'}).highlight_max(color='#BF3030')"
   ]
  },
  {
   "cell_type": "markdown",
   "id": "97292893",
   "metadata": {},
   "source": [
    "Видим, что клиенты примерно в пропорции 1:2 разделились на группы, при этом (как и на этапе EDA) понятно, что доля оттока у держателей кредитных карт будет выше. Можно предположить, что неудовлетворенность держателей кредитных карт и их склонность к оттоку ниже, потому что сам продукт лучше, чем депозит/дебетовая карта у клиентов другой группы, но, скорее всего, это просто связано с наличием кредитных обязательств (клиент не сможет уйти, не погасив кредит)."
   ]
  },
  {
   "cell_type": "markdown",
   "id": "73344ccc",
   "metadata": {},
   "source": [
    "Далее будем отдельно анализировать держателей и не-держателей кредитных карт отдельно. Будем строить однотипные сводные таблицы, для этого немного автоматизируем процесс:"
   ]
  },
  {
   "cell_type": "code",
   "execution_count": 33,
   "id": "169c75b5",
   "metadata": {},
   "outputs": [],
   "source": [
    "# создание пользовательской функции\n",
    "\n",
    "def build_table(condition, groups):\n",
    "    '''\n",
    "    Функция строит сводные таблицы по целевому датафрейму,\n",
    "    отфильтрованному по заданному условию и в заданной группировке.\n",
    "    На вход принимает условие фильтрации и поле/список полей для группировки.\n",
    "    '''\n",
    "    tmp = df_new.query(condition) \\\n",
    "             .groupby(groups) \\\n",
    "             .agg({'churn': ['count', 'sum', 'mean']}) \\\n",
    "             .style \\\n",
    "             .format({('churn', 'mean'):'{:.0%}'}) \\\n",
    "             .highlight_max(color='#BF3030')\n",
    "    return tmp"
   ]
  },
  {
   "cell_type": "markdown",
   "id": "753574f4",
   "metadata": {},
   "source": [
    "**Держатели кредитных карт**"
   ]
  },
  {
   "cell_type": "markdown",
   "id": "8b43aa48",
   "metadata": {},
   "source": [
    "Возьмем группу клиентов, уже имеющих кредитную карту, и посмотрим на них с точки зрения баланса собственных средств (держим в уме, что средний отток в группе владельцев кредитных карт 20%):"
   ]
  },
  {
   "cell_type": "code",
   "execution_count": 34,
   "id": "956096e9",
   "metadata": {},
   "outputs": [
    {
     "data": {
      "text/html": [
       "<style  type=\"text/css\" >\n",
       "#T_141af_row0_col0,#T_141af_row0_col1,#T_141af_row0_col2{\n",
       "            background-color:  #BF3030;\n",
       "        }</style><table id=\"T_141af_\" ><thead>    <tr>        <th class=\"blank level0\" ></th>        <th class=\"col_heading level0 col0\" colspan=\"3\">churn</th>    </tr>    <tr>        <th class=\"blank level1\" ></th>        <th class=\"col_heading level1 col0\" >count</th>        <th class=\"col_heading level1 col1\" >sum</th>        <th class=\"col_heading level1 col2\" >mean</th>    </tr>    <tr>        <th class=\"index_name level0\" >balance_category</th>        <th class=\"blank\" ></th>        <th class=\"blank\" ></th>        <th class=\"blank\" ></th>    </tr></thead><tbody>\n",
       "                <tr>\n",
       "                        <th id=\"T_141af_level0_row0\" class=\"row_heading level0 row0\" >350 тыс. и более</th>\n",
       "                        <td id=\"T_141af_row0_col0\" class=\"data row0 col0\" >1396</td>\n",
       "                        <td id=\"T_141af_row0_col1\" class=\"data row0 col1\" >339</td>\n",
       "                        <td id=\"T_141af_row0_col2\" class=\"data row0 col2\" >24%</td>\n",
       "            </tr>\n",
       "            <tr>\n",
       "                        <th id=\"T_141af_level0_row1\" class=\"row_heading level0 row1\" >до 350 тыс.</th>\n",
       "                        <td id=\"T_141af_row1_col0\" class=\"data row1 col0\" >994</td>\n",
       "                        <td id=\"T_141af_row1_col1\" class=\"data row1 col1\" >129</td>\n",
       "                        <td id=\"T_141af_row1_col2\" class=\"data row1 col2\" >13%</td>\n",
       "            </tr>\n",
       "    </tbody></table>"
      ],
      "text/plain": [
       "<pandas.io.formats.style.Styler at 0x2c1c29f1eb0>"
      ]
     },
     "execution_count": 34,
     "metadata": {},
     "output_type": "execute_result"
    }
   ],
   "source": [
    "build_table('credit_card == 1', 'balance_category')"
   ]
  },
  {
   "cell_type": "markdown",
   "id": "b554901f",
   "metadata": {},
   "source": [
    "Доля оттока клиентов-держателей кредитных карт с большими остатками собственных средств почти в два раза выше. Этот факт можно объяснить, как минимум, двумя причинами:\n",
    "* если клиент нацелен на большие траты остатков, то его могут не устраивать присутствующие лимиты/комиссии на снятие собственных средств с кредитной карты, а также непривлекательные условия безналичных операций, например, отсутствие кэшбэка\n",
    "* если клиент нацелен на сбережения остающихся свободных средств, то не видит привлекательности в действующих условиях вкладов в нашем банке (видел бы - открыл бы второй продукт)"
   ]
  },
  {
   "cell_type": "markdown",
   "id": "3c381249",
   "metadata": {},
   "source": [
    "Теперь посмотрим на клиентов, имеющих кредитную карту, с точки зрения возраста (держим в уме, что средний отток в группе владельцев кредитных карт 20%):"
   ]
  },
  {
   "cell_type": "code",
   "execution_count": 35,
   "id": "96c3e797",
   "metadata": {},
   "outputs": [
    {
     "data": {
      "text/html": [
       "<style  type=\"text/css\" >\n",
       "#T_64751_row0_col0,#T_64751_row0_col1,#T_64751_row3_col2{\n",
       "            background-color:  #BF3030;\n",
       "        }</style><table id=\"T_64751_\" ><thead>    <tr>        <th class=\"blank level0\" ></th>        <th class=\"col_heading level0 col0\" colspan=\"3\">churn</th>    </tr>    <tr>        <th class=\"blank level1\" ></th>        <th class=\"col_heading level1 col0\" >count</th>        <th class=\"col_heading level1 col1\" >sum</th>        <th class=\"col_heading level1 col2\" >mean</th>    </tr>    <tr>        <th class=\"index_name level0\" >age_category</th>        <th class=\"blank\" ></th>        <th class=\"blank\" ></th>        <th class=\"blank\" ></th>    </tr></thead><tbody>\n",
       "                <tr>\n",
       "                        <th id=\"T_64751_level0_row0\" class=\"row_heading level0 row0\" >30-39 лет</th>\n",
       "                        <td id=\"T_64751_row0_col0\" class=\"data row0 col0\" >1032</td>\n",
       "                        <td id=\"T_64751_row0_col1\" class=\"data row0 col1\" >237</td>\n",
       "                        <td id=\"T_64751_row0_col2\" class=\"data row0 col2\" >23%</td>\n",
       "            </tr>\n",
       "            <tr>\n",
       "                        <th id=\"T_64751_level0_row1\" class=\"row_heading level0 row1\" >40-49 лет</th>\n",
       "                        <td id=\"T_64751_row1_col0\" class=\"data row1 col0\" >618</td>\n",
       "                        <td id=\"T_64751_row1_col1\" class=\"data row1 col1\" >55</td>\n",
       "                        <td id=\"T_64751_row1_col2\" class=\"data row1 col2\" >9%</td>\n",
       "            </tr>\n",
       "            <tr>\n",
       "                        <th id=\"T_64751_level0_row2\" class=\"row_heading level0 row2\" >50-59 лет</th>\n",
       "                        <td id=\"T_64751_row2_col0\" class=\"data row2 col0\" >419</td>\n",
       "                        <td id=\"T_64751_row2_col1\" class=\"data row2 col1\" >68</td>\n",
       "                        <td id=\"T_64751_row2_col2\" class=\"data row2 col2\" >16%</td>\n",
       "            </tr>\n",
       "            <tr>\n",
       "                        <th id=\"T_64751_level0_row3\" class=\"row_heading level0 row3\" >до 30 лет</th>\n",
       "                        <td id=\"T_64751_row3_col0\" class=\"data row3 col0\" >321</td>\n",
       "                        <td id=\"T_64751_row3_col1\" class=\"data row3 col1\" >108</td>\n",
       "                        <td id=\"T_64751_row3_col2\" class=\"data row3 col2\" >34%</td>\n",
       "            </tr>\n",
       "    </tbody></table>"
      ],
      "text/plain": [
       "<pandas.io.formats.style.Styler at 0x2c1c2b08760>"
      ]
     },
     "execution_count": 35,
     "metadata": {},
     "output_type": "execute_result"
    }
   ],
   "source": [
    "build_table('credit_card == 1', 'age_category')"
   ]
  },
  {
   "cell_type": "markdown",
   "id": "b81160c9",
   "metadata": {},
   "source": [
    "Из детализации оттоков по возрастным категориям видим следующее:\n",
    "* максимальную неудовлетворенность видим в группе клиентов до 30 лет. Этот сегмент клиентов больше ориентирован на траты, чем на сбережения, поэтому для них нужны привлекательный кэшбэк и свободное распоряжение остатками собственных средств\n",
    "* в группе клиентов 30-39 лет показатель оттока тоже выше среднего по группе. В этом возрасте актуальны как выгодные сбережения, так и привлекательные условия расходования средств\n",
    "* клиентам 50-59 лет, готовящимся к пенсии, больше важны выгодные условия накоплений. Хотя с учетом смещения возраста появления детей, части зрелых клиентов могут быть важны траты на высшее образование детей."
   ]
  },
  {
   "cell_type": "markdown",
   "id": "a4b85c47",
   "metadata": {},
   "source": [
    "В заключении посмотрим на клиентов, имеющих кредитную карту, через комбинацию баланса и возраста (держим в уме, что средний отток в группе владельцев кредитных карт 20%):"
   ]
  },
  {
   "cell_type": "code",
   "execution_count": 36,
   "id": "bcb9decd",
   "metadata": {},
   "outputs": [
    {
     "data": {
      "text/html": [
       "<style  type=\"text/css\" >\n",
       "#T_d4a09_row0_col0,#T_d4a09_row0_col1,#T_d4a09_row3_col2{\n",
       "            background-color:  #BF3030;\n",
       "        }</style><table id=\"T_d4a09_\" ><thead>    <tr>        <th class=\"blank\" ></th>        <th class=\"blank level0\" ></th>        <th class=\"col_heading level0 col0\" colspan=\"3\">churn</th>    </tr>    <tr>        <th class=\"blank\" ></th>        <th class=\"blank level1\" ></th>        <th class=\"col_heading level1 col0\" >count</th>        <th class=\"col_heading level1 col1\" >sum</th>        <th class=\"col_heading level1 col2\" >mean</th>    </tr>    <tr>        <th class=\"index_name level0\" >balance_category</th>        <th class=\"index_name level1\" >age_category</th>        <th class=\"blank\" ></th>        <th class=\"blank\" ></th>        <th class=\"blank\" ></th>    </tr></thead><tbody>\n",
       "                <tr>\n",
       "                        <th id=\"T_d4a09_level0_row0\" class=\"row_heading level0 row0\" rowspan=\"4\">350 тыс. и более</th>\n",
       "                        <th id=\"T_d4a09_level1_row0\" class=\"row_heading level1 row0\" >30-39 лет</th>\n",
       "                        <td id=\"T_d4a09_row0_col0\" class=\"data row0 col0\" >618</td>\n",
       "                        <td id=\"T_d4a09_row0_col1\" class=\"data row0 col1\" >174</td>\n",
       "                        <td id=\"T_d4a09_row0_col2\" class=\"data row0 col2\" >28%</td>\n",
       "            </tr>\n",
       "            <tr>\n",
       "                                <th id=\"T_d4a09_level1_row1\" class=\"row_heading level1 row1\" >40-49 лет</th>\n",
       "                        <td id=\"T_d4a09_row1_col0\" class=\"data row1 col0\" >353</td>\n",
       "                        <td id=\"T_d4a09_row1_col1\" class=\"data row1 col1\" >41</td>\n",
       "                        <td id=\"T_d4a09_row1_col2\" class=\"data row1 col2\" >12%</td>\n",
       "            </tr>\n",
       "            <tr>\n",
       "                                <th id=\"T_d4a09_level1_row2\" class=\"row_heading level1 row2\" >50-59 лет</th>\n",
       "                        <td id=\"T_d4a09_row2_col0\" class=\"data row2 col0\" >256</td>\n",
       "                        <td id=\"T_d4a09_row2_col1\" class=\"data row2 col1\" >55</td>\n",
       "                        <td id=\"T_d4a09_row2_col2\" class=\"data row2 col2\" >21%</td>\n",
       "            </tr>\n",
       "            <tr>\n",
       "                                <th id=\"T_d4a09_level1_row3\" class=\"row_heading level1 row3\" >до 30 лет</th>\n",
       "                        <td id=\"T_d4a09_row3_col0\" class=\"data row3 col0\" >169</td>\n",
       "                        <td id=\"T_d4a09_row3_col1\" class=\"data row3 col1\" >69</td>\n",
       "                        <td id=\"T_d4a09_row3_col2\" class=\"data row3 col2\" >41%</td>\n",
       "            </tr>\n",
       "            <tr>\n",
       "                        <th id=\"T_d4a09_level0_row4\" class=\"row_heading level0 row4\" rowspan=\"4\">до 350 тыс.</th>\n",
       "                        <th id=\"T_d4a09_level1_row4\" class=\"row_heading level1 row4\" >30-39 лет</th>\n",
       "                        <td id=\"T_d4a09_row4_col0\" class=\"data row4 col0\" >414</td>\n",
       "                        <td id=\"T_d4a09_row4_col1\" class=\"data row4 col1\" >63</td>\n",
       "                        <td id=\"T_d4a09_row4_col2\" class=\"data row4 col2\" >15%</td>\n",
       "            </tr>\n",
       "            <tr>\n",
       "                                <th id=\"T_d4a09_level1_row5\" class=\"row_heading level1 row5\" >40-49 лет</th>\n",
       "                        <td id=\"T_d4a09_row5_col0\" class=\"data row5 col0\" >265</td>\n",
       "                        <td id=\"T_d4a09_row5_col1\" class=\"data row5 col1\" >14</td>\n",
       "                        <td id=\"T_d4a09_row5_col2\" class=\"data row5 col2\" >5%</td>\n",
       "            </tr>\n",
       "            <tr>\n",
       "                                <th id=\"T_d4a09_level1_row6\" class=\"row_heading level1 row6\" >50-59 лет</th>\n",
       "                        <td id=\"T_d4a09_row6_col0\" class=\"data row6 col0\" >163</td>\n",
       "                        <td id=\"T_d4a09_row6_col1\" class=\"data row6 col1\" >13</td>\n",
       "                        <td id=\"T_d4a09_row6_col2\" class=\"data row6 col2\" >8%</td>\n",
       "            </tr>\n",
       "            <tr>\n",
       "                                <th id=\"T_d4a09_level1_row7\" class=\"row_heading level1 row7\" >до 30 лет</th>\n",
       "                        <td id=\"T_d4a09_row7_col0\" class=\"data row7 col0\" >152</td>\n",
       "                        <td id=\"T_d4a09_row7_col1\" class=\"data row7 col1\" >39</td>\n",
       "                        <td id=\"T_d4a09_row7_col2\" class=\"data row7 col2\" >26%</td>\n",
       "            </tr>\n",
       "    </tbody></table>"
      ],
      "text/plain": [
       "<pandas.io.formats.style.Styler at 0x2c1c2b51be0>"
      ]
     },
     "execution_count": 36,
     "metadata": {},
     "output_type": "execute_result"
    }
   ],
   "source": [
    "build_table('credit_card == 1', ['balance_category', 'age_category'])"
   ]
  },
  {
   "cell_type": "markdown",
   "id": "cf66cbb1",
   "metadata": {},
   "source": [
    "**Итоговые выводы по держателям кредитных карт следующие**:\n",
    "* клиенты до 30 лет демонстрируют максимальную склонность к оттоку, причем это не зависит от размера остатка собственных средств. Однако по численности клиентов эта возрастная группа самая небольшая. Поэтому ориентировать маркетинговые мероприятия только на них (повышать привлекательность условий расходования) нецелесообразно\n",
    "* следующая группа с оттоком выше среднего - это клиенты 30-39 лет с большими остатками. Это самая многочисленная группа для проработки, однако с точки зрения их мотива к уходу (невыгодно тратить или нет привлекательных вкладов) определенности нет, значит мероприятия по возвращению/удержанию должны быть очень разнообразны\n",
    "* также отток выше среднего наблюдаем у клиентов 50-59 лет с большими остатками, которых, вероятно, не устраивают условия вкладов, но численность сегмента также мала, чтобы концентрироваться только на них\n",
    "\n",
    "Внутри сегмента держателей кредитных карт остановимся на выделении подсегментов клиентов в зависимости от баланса собственных средств, дополнительно дробить по возрастным категориям не будем."
   ]
  },
  {
   "cell_type": "markdown",
   "id": "e74056f2",
   "metadata": {},
   "source": [
    "**Клиенты не-владельцы кредитных карт**"
   ]
  },
  {
   "cell_type": "markdown",
   "id": "1bb558fd",
   "metadata": {},
   "source": [
    "По той же логике проанализируем клиентов с 1 продуктом, которым может являться как вклад, так и любой текущий счет (в т.ч. с картой в рамках зарплатного проекта). Держим в уме, что средний отток в группе не-владельцев кредитных карт 67%, основная часть нелояльных клиентов находится здесь, но, возможно, ее дальнейшее дробление будет нецелесообразным."
   ]
  },
  {
   "cell_type": "markdown",
   "id": "8e2634d4",
   "metadata": {},
   "source": [
    "Смотрим на клиентов с точки зрения баланса собственных средств:"
   ]
  },
  {
   "cell_type": "code",
   "execution_count": 37,
   "id": "b2b076a5",
   "metadata": {},
   "outputs": [
    {
     "data": {
      "text/html": [
       "<style  type=\"text/css\" >\n",
       "#T_fe454_row0_col0,#T_fe454_row0_col1,#T_fe454_row0_col2{\n",
       "            background-color:  #BF3030;\n",
       "        }</style><table id=\"T_fe454_\" ><thead>    <tr>        <th class=\"blank level0\" ></th>        <th class=\"col_heading level0 col0\" colspan=\"3\">churn</th>    </tr>    <tr>        <th class=\"blank level1\" ></th>        <th class=\"col_heading level1 col0\" >count</th>        <th class=\"col_heading level1 col1\" >sum</th>        <th class=\"col_heading level1 col2\" >mean</th>    </tr>    <tr>        <th class=\"index_name level0\" >balance_category</th>        <th class=\"blank\" ></th>        <th class=\"blank\" ></th>        <th class=\"blank\" ></th>    </tr></thead><tbody>\n",
       "                <tr>\n",
       "                        <th id=\"T_fe454_level0_row0\" class=\"row_heading level0 row0\" >350 тыс. и более</th>\n",
       "                        <td id=\"T_fe454_row0_col0\" class=\"data row0 col0\" >739</td>\n",
       "                        <td id=\"T_fe454_row0_col1\" class=\"data row0 col1\" >523</td>\n",
       "                        <td id=\"T_fe454_row0_col2\" class=\"data row0 col2\" >71%</td>\n",
       "            </tr>\n",
       "            <tr>\n",
       "                        <th id=\"T_fe454_level0_row1\" class=\"row_heading level0 row1\" >до 350 тыс.</th>\n",
       "                        <td id=\"T_fe454_row1_col0\" class=\"data row1 col0\" >205</td>\n",
       "                        <td id=\"T_fe454_row1_col1\" class=\"data row1 col1\" >105</td>\n",
       "                        <td id=\"T_fe454_row1_col2\" class=\"data row1 col2\" >51%</td>\n",
       "            </tr>\n",
       "    </tbody></table>"
      ],
      "text/plain": [
       "<pandas.io.formats.style.Styler at 0x2c1c3a92400>"
      ]
     },
     "execution_count": 37,
     "metadata": {},
     "output_type": "execute_result"
    }
   ],
   "source": [
    "build_table('credit_card == 0', 'balance_category')"
   ]
  },
  {
   "cell_type": "markdown",
   "id": "f507fa33",
   "metadata": {},
   "source": [
    "Видим, что сильнее неудовлетворены клиенты с крупными остатками:\n",
    "* если это клиенты-вкладчики, значит их не устраивают условия вкладов, и они ищут более выгодные условия размещения\n",
    "* если это клиенты с текущим счетом/дебетовой картой, то их могут не устраивать условия траты (лимиты снятия, отсутствие кэшбека)\n",
    "\n",
    "При этом численность группы \"до 350 тыс.руб.\" слишком мала, чтобы оставлять ее в стороне от основной группы."
   ]
  },
  {
   "cell_type": "markdown",
   "id": "3e36d9fc",
   "metadata": {},
   "source": [
    "Теперь смотрим на эту группу клиентов в точки зрения возрастных категорий (держим в уме, что средний отток в группе 67%):"
   ]
  },
  {
   "cell_type": "code",
   "execution_count": 38,
   "id": "dfe1fb35",
   "metadata": {},
   "outputs": [
    {
     "data": {
      "text/html": [
       "<style  type=\"text/css\" >\n",
       "#T_16ae1_row0_col0,#T_16ae1_row0_col1,#T_16ae1_row3_col2{\n",
       "            background-color:  #BF3030;\n",
       "        }</style><table id=\"T_16ae1_\" ><thead>    <tr>        <th class=\"blank level0\" ></th>        <th class=\"col_heading level0 col0\" colspan=\"3\">churn</th>    </tr>    <tr>        <th class=\"blank level1\" ></th>        <th class=\"col_heading level1 col0\" >count</th>        <th class=\"col_heading level1 col1\" >sum</th>        <th class=\"col_heading level1 col2\" >mean</th>    </tr>    <tr>        <th class=\"index_name level0\" >age_category</th>        <th class=\"blank\" ></th>        <th class=\"blank\" ></th>        <th class=\"blank\" ></th>    </tr></thead><tbody>\n",
       "                <tr>\n",
       "                        <th id=\"T_16ae1_level0_row0\" class=\"row_heading level0 row0\" >30-39 лет</th>\n",
       "                        <td id=\"T_16ae1_row0_col0\" class=\"data row0 col0\" >387</td>\n",
       "                        <td id=\"T_16ae1_row0_col1\" class=\"data row0 col1\" >261</td>\n",
       "                        <td id=\"T_16ae1_row0_col2\" class=\"data row0 col2\" >67%</td>\n",
       "            </tr>\n",
       "            <tr>\n",
       "                        <th id=\"T_16ae1_level0_row1\" class=\"row_heading level0 row1\" >40-49 лет</th>\n",
       "                        <td id=\"T_16ae1_row1_col0\" class=\"data row1 col0\" >203</td>\n",
       "                        <td id=\"T_16ae1_row1_col1\" class=\"data row1 col1\" >111</td>\n",
       "                        <td id=\"T_16ae1_row1_col2\" class=\"data row1 col2\" >55%</td>\n",
       "            </tr>\n",
       "            <tr>\n",
       "                        <th id=\"T_16ae1_level0_row2\" class=\"row_heading level0 row2\" >50-59 лет</th>\n",
       "                        <td id=\"T_16ae1_row2_col0\" class=\"data row2 col0\" >216</td>\n",
       "                        <td id=\"T_16ae1_row2_col1\" class=\"data row2 col1\" >149</td>\n",
       "                        <td id=\"T_16ae1_row2_col2\" class=\"data row2 col2\" >69%</td>\n",
       "            </tr>\n",
       "            <tr>\n",
       "                        <th id=\"T_16ae1_level0_row3\" class=\"row_heading level0 row3\" >до 30 лет</th>\n",
       "                        <td id=\"T_16ae1_row3_col0\" class=\"data row3 col0\" >138</td>\n",
       "                        <td id=\"T_16ae1_row3_col1\" class=\"data row3 col1\" >107</td>\n",
       "                        <td id=\"T_16ae1_row3_col2\" class=\"data row3 col2\" >78%</td>\n",
       "            </tr>\n",
       "    </tbody></table>"
      ],
      "text/plain": [
       "<pandas.io.formats.style.Styler at 0x2c1c2b51e50>"
      ]
     },
     "execution_count": 38,
     "metadata": {},
     "output_type": "execute_result"
    }
   ],
   "source": [
    "build_table('credit_card == 0', 'age_category')"
   ]
  },
  {
   "cell_type": "markdown",
   "id": "b8933009",
   "metadata": {},
   "source": [
    "Здесь отток выше среднего показывают клиенты до 30 лет и 50-59 лет, но в целом численность каждого сегмента по возрасту слишком мала, чтобы его рассматривать отдельно, значит маркетингу придется подумать над универсальным предложением."
   ]
  },
  {
   "cell_type": "markdown",
   "id": "17f2c09c",
   "metadata": {},
   "source": [
    "Взгляд на клиентов в единовременной агрегации баланса-возраста приведет к еще более сильному дроблению сегментов, этого делать не будем."
   ]
  },
  {
   "cell_type": "markdown",
   "id": "c3eff138",
   "metadata": {},
   "source": [
    "**Итоговые выводы по не-держателям кредитных карт следующие**:\n",
    "* клиентов-вкладчиков могут не устраивать текущие условия размещения собственных средств\n",
    "* клиентов с текущим счетом (дебетовой картой) - текущие условия расходования средств\n",
    "* в силу небольшого общего количества клиентов в сегменте нецелесообразно дробить его на дополнительные группы"
   ]
  },
  {
   "cell_type": "markdown",
   "id": "0500b1ca",
   "metadata": {},
   "source": [
    "### Итоговая сегментация клиентов"
   ]
  },
  {
   "cell_type": "markdown",
   "id": "a2436b7e",
   "metadata": {},
   "source": [
    "На основании описанной логики выделения сегментов промаркируем клиентов в нашей таблице и посмотрим на их среднестатистические показатели:"
   ]
  },
  {
   "cell_type": "code",
   "execution_count": 39,
   "id": "b7efecc3",
   "metadata": {},
   "outputs": [
    {
     "name": "stdout",
     "output_type": "stream",
     "text": [
      "Столбец с сегментом успешно добавлен!\n"
     ]
    }
   ],
   "source": [
    "def segment_definition(row):\n",
    "    '''\n",
    "    Функция для определения сегмента клиента.\n",
    "    Принимает на вход строку датафрейма.\n",
    "    '''\n",
    "    if row['products'] == 3 or row['products'] == 4:\n",
    "        segment = '1) Премиальные клиенты'\n",
    "    elif row['products'] == 2:\n",
    "        segment = '2) Вкладчики с кредитной картой'\n",
    "    elif (\n",
    "        row['score'] >= 640 and\n",
    "        row['balance'] > 0 and\n",
    "        row['age'] < 60 and \n",
    "        row['credit_card'] == 1 and\n",
    "        row['balance'] >= 350000\n",
    "    ):\n",
    "        segment = '3) Состоятельные владельцы кредитной карты'\n",
    "    elif (\n",
    "        row['score'] >= 640 and\n",
    "        row['balance'] > 0 and\n",
    "        row['age'] < 60 and \n",
    "        row['credit_card'] == 1 and\n",
    "        row['balance'] < 350000\n",
    "    ):\n",
    "        segment = '4) Обеспеченные владельцы кредитной карты'\n",
    "    elif (\n",
    "        row['score'] >= 640 and\n",
    "        row['balance'] > 0 and\n",
    "        row['age'] < 60 and \n",
    "        row['credit_card'] == 0\n",
    "    ):\n",
    "        segment = '6) Вкладчики'\n",
    "    else:\n",
    "        segment = '5) Классические владельцы кредитной карты'\n",
    "    \n",
    "    return segment\n",
    "\n",
    "# добавляем столбец с сегментом в основную таблицу\n",
    "df['segment'] = df.apply(segment_definition, axis=1)\n",
    "\n",
    "if df['segment'].isna().sum() == 0:\n",
    "    print('Столбец с сегментом успешно добавлен!')\n",
    "else:\n",
    "    print('Остались пропущенные значения')"
   ]
  },
  {
   "cell_type": "markdown",
   "id": "a2039e34",
   "metadata": {},
   "source": [
    "Выведем статистические показатели и опишем портреты типовых клиентов (все сегменты клиентов с 1 продуктом + сюда же продублируем описание клиентов с 2 и 3-4 продуктами):"
   ]
  },
  {
   "cell_type": "code",
   "execution_count": 40,
   "id": "9d2b1155",
   "metadata": {},
   "outputs": [
    {
     "data": {
      "text/html": [
       "<style  type=\"text/css\" >\n",
       "</style><table id=\"T_75b23_\" ><thead>    <tr>        <th class=\"index_name level0\" >segment</th>        <th class=\"col_heading level0 col0\" >1) Премиальные клиенты</th>        <th class=\"col_heading level0 col1\" >2) Вкладчики с кредитной картой</th>        <th class=\"col_heading level0 col2\" >3) Состоятельные владельцы кредитной карты</th>        <th class=\"col_heading level0 col3\" >4) Обеспеченные владельцы кредитной карты</th>        <th class=\"col_heading level0 col4\" >5) Классические владельцы кредитной карты</th>        <th class=\"col_heading level0 col5\" >6) Вкладчики</th>    </tr></thead><tbody>\n",
       "                <tr>\n",
       "                        <th id=\"T_75b23_level0_row0\" class=\"row_heading level0 row0\" >user_id</th>\n",
       "                        <td id=\"T_75b23_row0_col0\" class=\"data row0 col0\" >314.00</td>\n",
       "                        <td id=\"T_75b23_row0_col1\" class=\"data row0 col1\" >524.00</td>\n",
       "                        <td id=\"T_75b23_row0_col2\" class=\"data row0 col2\" >1396.00</td>\n",
       "                        <td id=\"T_75b23_row0_col3\" class=\"data row0 col3\" >994.00</td>\n",
       "                        <td id=\"T_75b23_row0_col4\" class=\"data row0 col4\" >5828.00</td>\n",
       "                        <td id=\"T_75b23_row0_col5\" class=\"data row0 col5\" >944.00</td>\n",
       "            </tr>\n",
       "            <tr>\n",
       "                        <th id=\"T_75b23_level0_row1\" class=\"row_heading level0 row1\" >products</th>\n",
       "                        <td id=\"T_75b23_row1_col0\" class=\"data row1 col0\" >3.03</td>\n",
       "                        <td id=\"T_75b23_row1_col1\" class=\"data row1 col1\" >2.00</td>\n",
       "                        <td id=\"T_75b23_row1_col2\" class=\"data row1 col2\" >1.00</td>\n",
       "                        <td id=\"T_75b23_row1_col3\" class=\"data row1 col3\" >1.00</td>\n",
       "                        <td id=\"T_75b23_row1_col4\" class=\"data row1 col4\" >1.00</td>\n",
       "                        <td id=\"T_75b23_row1_col5\" class=\"data row1 col5\" >1.00</td>\n",
       "            </tr>\n",
       "            <tr>\n",
       "                        <th id=\"T_75b23_level0_row2\" class=\"row_heading level0 row2\" >churn</th>\n",
       "                        <td id=\"T_75b23_row2_col0\" class=\"data row2 col0\" >1.00</td>\n",
       "                        <td id=\"T_75b23_row2_col1\" class=\"data row2 col1\" >0.00</td>\n",
       "                        <td id=\"T_75b23_row2_col2\" class=\"data row2 col2\" >0.24</td>\n",
       "                        <td id=\"T_75b23_row2_col3\" class=\"data row2 col3\" >0.13</td>\n",
       "                        <td id=\"T_75b23_row2_col4\" class=\"data row2 col4\" >0.00</td>\n",
       "                        <td id=\"T_75b23_row2_col5\" class=\"data row2 col5\" >0.67</td>\n",
       "            </tr>\n",
       "            <tr>\n",
       "                        <th id=\"T_75b23_level0_row3\" class=\"row_heading level0 row3\" >age</th>\n",
       "                        <td id=\"T_75b23_row3_col0\" class=\"data row3 col0\" >39.00</td>\n",
       "                        <td id=\"T_75b23_row3_col1\" class=\"data row3 col1\" >43.00</td>\n",
       "                        <td id=\"T_75b23_row3_col2\" class=\"data row3 col2\" >38.00</td>\n",
       "                        <td id=\"T_75b23_row3_col3\" class=\"data row3 col3\" >38.00</td>\n",
       "                        <td id=\"T_75b23_row3_col4\" class=\"data row3 col4\" >42.00</td>\n",
       "                        <td id=\"T_75b23_row3_col5\" class=\"data row3 col5\" >38.00</td>\n",
       "            </tr>\n",
       "            <tr>\n",
       "                        <th id=\"T_75b23_level0_row4\" class=\"row_heading level0 row4\" >gender_М</th>\n",
       "                        <td id=\"T_75b23_row4_col0\" class=\"data row4 col0\" >0.65</td>\n",
       "                        <td id=\"T_75b23_row4_col1\" class=\"data row4 col1\" >0.45</td>\n",
       "                        <td id=\"T_75b23_row4_col2\" class=\"data row4 col2\" >0.55</td>\n",
       "                        <td id=\"T_75b23_row4_col3\" class=\"data row4 col3\" >0.50</td>\n",
       "                        <td id=\"T_75b23_row4_col4\" class=\"data row4 col4\" >0.50</td>\n",
       "                        <td id=\"T_75b23_row4_col5\" class=\"data row4 col5\" >0.42</td>\n",
       "            </tr>\n",
       "            <tr>\n",
       "                        <th id=\"T_75b23_level0_row5\" class=\"row_heading level0 row5\" >gender_Ж</th>\n",
       "                        <td id=\"T_75b23_row5_col0\" class=\"data row5 col0\" >0.35</td>\n",
       "                        <td id=\"T_75b23_row5_col1\" class=\"data row5 col1\" >0.55</td>\n",
       "                        <td id=\"T_75b23_row5_col2\" class=\"data row5 col2\" >0.45</td>\n",
       "                        <td id=\"T_75b23_row5_col3\" class=\"data row5 col3\" >0.50</td>\n",
       "                        <td id=\"T_75b23_row5_col4\" class=\"data row5 col4\" >0.50</td>\n",
       "                        <td id=\"T_75b23_row5_col5\" class=\"data row5 col5\" >0.58</td>\n",
       "            </tr>\n",
       "            <tr>\n",
       "                        <th id=\"T_75b23_level0_row6\" class=\"row_heading level0 row6\" >salary</th>\n",
       "                        <td id=\"T_75b23_row6_col0\" class=\"data row6 col0\" >94347.50</td>\n",
       "                        <td id=\"T_75b23_row6_col1\" class=\"data row6 col1\" >31107.55</td>\n",
       "                        <td id=\"T_75b23_row6_col2\" class=\"data row6 col2\" >62503.43</td>\n",
       "                        <td id=\"T_75b23_row6_col3\" class=\"data row6 col3\" >30931.42</td>\n",
       "                        <td id=\"T_75b23_row6_col4\" class=\"data row6 col4\" >68841.71</td>\n",
       "                        <td id=\"T_75b23_row6_col5\" class=\"data row6 col5\" >77832.18</td>\n",
       "            </tr>\n",
       "            <tr>\n",
       "                        <th id=\"T_75b23_level0_row7\" class=\"row_heading level0 row7\" >equity</th>\n",
       "                        <td id=\"T_75b23_row7_col0\" class=\"data row7 col0\" >3.00</td>\n",
       "                        <td id=\"T_75b23_row7_col1\" class=\"data row7 col1\" >2.00</td>\n",
       "                        <td id=\"T_75b23_row7_col2\" class=\"data row7 col2\" >2.00</td>\n",
       "                        <td id=\"T_75b23_row7_col3\" class=\"data row7 col3\" >2.00</td>\n",
       "                        <td id=\"T_75b23_row7_col4\" class=\"data row7 col4\" >1.00</td>\n",
       "                        <td id=\"T_75b23_row7_col5\" class=\"data row7 col5\" >2.00</td>\n",
       "            </tr>\n",
       "            <tr>\n",
       "                        <th id=\"T_75b23_level0_row8\" class=\"row_heading level0 row8\" >score</th>\n",
       "                        <td id=\"T_75b23_row8_col0\" class=\"data row8 col0\" >733.50</td>\n",
       "                        <td id=\"T_75b23_row8_col1\" class=\"data row8 col1\" >576.50</td>\n",
       "                        <td id=\"T_75b23_row8_col2\" class=\"data row8 col2\" >732.00</td>\n",
       "                        <td id=\"T_75b23_row8_col3\" class=\"data row8 col3\" >711.00</td>\n",
       "                        <td id=\"T_75b23_row8_col4\" class=\"data row8 col4\" >532.00</td>\n",
       "                        <td id=\"T_75b23_row8_col5\" class=\"data row8 col5\" >733.00</td>\n",
       "            </tr>\n",
       "            <tr>\n",
       "                        <th id=\"T_75b23_level0_row9\" class=\"row_heading level0 row9\" >credit_card</th>\n",
       "                        <td id=\"T_75b23_row9_col0\" class=\"data row9 col0\" >0.97</td>\n",
       "                        <td id=\"T_75b23_row9_col1\" class=\"data row9 col1\" >0.90</td>\n",
       "                        <td id=\"T_75b23_row9_col2\" class=\"data row9 col2\" >1.00</td>\n",
       "                        <td id=\"T_75b23_row9_col3\" class=\"data row9 col3\" >1.00</td>\n",
       "                        <td id=\"T_75b23_row9_col4\" class=\"data row9 col4\" >0.90</td>\n",
       "                        <td id=\"T_75b23_row9_col5\" class=\"data row9 col5\" >0.00</td>\n",
       "            </tr>\n",
       "            <tr>\n",
       "                        <th id=\"T_75b23_level0_row10\" class=\"row_heading level0 row10\" >balance</th>\n",
       "                        <td id=\"T_75b23_row10_col0\" class=\"data row10 col0\" >1301960.96</td>\n",
       "                        <td id=\"T_75b23_row10_col1\" class=\"data row10 col1\" >553743.08</td>\n",
       "                        <td id=\"T_75b23_row10_col2\" class=\"data row10 col2\" >782507.82</td>\n",
       "                        <td id=\"T_75b23_row10_col3\" class=\"data row10 col3\" >193433.42</td>\n",
       "                        <td id=\"T_75b23_row10_col4\" class=\"data row10 col4\" >86946.85</td>\n",
       "                        <td id=\"T_75b23_row10_col5\" class=\"data row10 col5\" >969081.56</td>\n",
       "            </tr>\n",
       "            <tr>\n",
       "                        <th id=\"T_75b23_level0_row11\" class=\"row_heading level0 row11\" >last_activity</th>\n",
       "                        <td id=\"T_75b23_row11_col0\" class=\"data row11 col0\" >0.67</td>\n",
       "                        <td id=\"T_75b23_row11_col1\" class=\"data row11 col1\" >0.28</td>\n",
       "                        <td id=\"T_75b23_row11_col2\" class=\"data row11 col2\" >0.41</td>\n",
       "                        <td id=\"T_75b23_row11_col3\" class=\"data row11 col3\" >0.36</td>\n",
       "                        <td id=\"T_75b23_row11_col4\" class=\"data row11 col4\" >0.55</td>\n",
       "                        <td id=\"T_75b23_row11_col5\" class=\"data row11 col5\" >0.56</td>\n",
       "            </tr>\n",
       "    </tbody></table>"
      ],
      "text/plain": [
       "<pandas.io.formats.style.Styler at 0x2c1c3a4e880>"
      ]
     },
     "execution_count": 40,
     "metadata": {},
     "output_type": "execute_result"
    }
   ],
   "source": [
    "df.groupby('segment') \\\n",
    "  .agg({'user_id': 'count',\n",
    "        'products': 'mean',\n",
    "        'churn': 'mean',\n",
    "        'age': 'median',\n",
    "        'gender_М': 'mean',\n",
    "        'gender_Ж': 'mean',\n",
    "        'salary': 'median',\n",
    "        'equity': 'median',\n",
    "        'score': 'median',\n",
    "        'credit_card': 'mean',\n",
    "        'balance': 'median',\n",
    "        'last_activity': 'mean'        \n",
    "  }).T.style.format('{:.2f}')"
   ]
  },
  {
   "cell_type": "markdown",
   "id": "b10b7d2a",
   "metadata": {},
   "source": [
    "Итак, получили следующую сегментацию клиентов по потреблению:\n",
    "\n",
    "**Премиальные клиенты - высокоотточный сегмент**\n",
    "* наименьший по численности сегмент (около 3% от базы)\n",
    "* имеют 3-4 продукта\n",
    "* все клиенты уходят в отток\n",
    "* средний возраст около 39 лет\n",
    "* мужчин в 1.5 раза больше, чем женщин\n",
    "* средняя заработная плата 93 - 108 тыс.руб.\n",
    "* в собственности, в среднем, 3 - 3.5 объекта\n",
    "* оцениваются максимальным среди остальным средним баллом кредитного скоринга\n",
    "* почти все являются владельцами кредитных карт\n",
    "* средний остаток собственных средств на счете 1.2 - 1.3 млн.руб.\n",
    "* в последнее время были наиболее активны\n",
    "\n",
    "**Вкладчики с кредитной картой - лояльный сегмент**\n",
    "* небольшой по численности сегмент (около 5% от базы)\n",
    "* имеют два продукта\n",
    "* ни один из клиентов не уходит в отток\n",
    "* средний возраст 43 года\n",
    "* мужчин на 5 п.п. меньше, чем женщин\n",
    "* средняя зарплата 31 тыс.руб.\n",
    "* в собственности, в среднем, 2 объекта\n",
    "* наименьший среди остальный групп средний скоринговый балл 576\n",
    "* 90% являются пользователями кредитных карт\n",
    "* средний остаток собственных средств на счете 553 тыс.руб.\n",
    "* сегмент наименее активен\n",
    "\n",
    "**Состоятельные владельцы кредитной карты - высокооточный сегмент**\n",
    "* сегмент размером около 14% от базы\n",
    "* 24% клиентов уходит в отток\n",
    "* средний возраст 38 лет\n",
    "* 55% мужчин и 45%\n",
    "* средняя зарплата 62 тыс.руб.\n",
    "* в собственности, в среднем, 2 объекта\n",
    "* в среднем, имеют высокий скоринговый балл 732\n",
    "* все являются пользователями кредитных карт\n",
    "* средний остаток собственных средств на счете 782 тыс.руб.\n",
    "* 41% из них были активны в последнее время\n",
    "\n",
    "**Обеспеченные владельцы кредитных карт - сегмент в зоне риска**\n",
    "* сегмент размером около 10% от базы\n",
    "* 13% клиентов уходит в отток\n",
    "* средний возраст 38 лет\n",
    "* мужчин и женщин поровну\n",
    "* средняя зарплата 31 тыс.руб.\n",
    "* в собственности, в среднем, 2 объекта\n",
    "* в среднем, имеют высокий скоринговый балл 711\n",
    "* все являются пользователями кредитных карт\n",
    "* средний остаток собственных средств на счете 193 тыс.руб.\n",
    "* 36% из них были активны в последнее время\n",
    "\n",
    "**Классические владельцы кредитных карт - лояльный сегмент**\n",
    "* самый большой сегмент размером около 58% от базы\n",
    "* клиенты лояльны к банку\n",
    "* средний возраст 42 года\n",
    "* мужчин и женщин поровну\n",
    "* средняя зарплата 69 тыс.руб.\n",
    "* в собственности, в среднем, 1 объект\n",
    "* в среднем, имеют невысокий скоринговый балл 532\n",
    "* 90% имеют кредитную карту\n",
    "* средний остаток собственных средств на счете 87 тыс.руб.\n",
    "* 55% из них были активны в последнее время\n",
    "\n",
    "**Вкладчики - высокоотточный сегмент**\n",
    "* сегмент размером около 10% от базы\n",
    "* 67% клиентов уходит в отток\n",
    "* средний возраст 38 лет\n",
    "* 42% мужчин и 58%\n",
    "* средняя зарплата 78 тыс.руб.\n",
    "* в собственности, в среднем, 2 объекта\n",
    "* в среднем, имеют высокий скоринговый балл 733\n",
    "* не имеют кредитных карт\n",
    "* средний остаток собственных средств на счете 969 тыс.руб.\n",
    "* 56% из них были активны в последнее время"
   ]
  },
  {
   "cell_type": "markdown",
   "id": "ad271cf9",
   "metadata": {},
   "source": [
    "Поясним названия сегментов и дадим общее описание каждого из них с предположением причин лояльности/нелояльности.\n",
    "\n",
    "Сначала анализируем сегменты без оттока - на их основе можно предположить, что удерживает клиентов, и чем могут быть недовольны другие сегменты:\n",
    "* **Вкладчики с кредитной картой - лояльный сегмент** - такое название дано сегменту клиентов с 2 продуктами - это низкодоходный сегмент, нацеленный на сбережение и экономные траты. Это не клиенты зарплатного проекта, поскольку их активность слишком мала (зарплату расходуем каждый месяц), поэтому будем считать, что у всех клиентов есть вклад (причем на достойную сумму) и почти у всех кредитная карта. Судя по низкой активности клиентов, вклад пополняется довольно редко (с учетом невысоких доходов), и кредитная карта используется тоже редко. Однако такая схема использования продуктов показывает образец разумного поведения клиентов, который также выгоден и самому банку: можно иногда пользоваться кредитными средствами, а имеющиеся сбережения на вкладе помогут частично покрыть процентные расходы при выходе за рамки льготного периода (хотя, чаще всего, клиенты стараются закрыть долг до окончания льготного периода, чтобы потом снова в него зайти). Половина клиентов сегмента имеет невысокий скоринговый балл, поэтому и не будет стремиться сменить условия на более выгодные. В части условий вкладов этих клиентов тоже все устраивает (как вкладчиков, по привычке выбирающих Сбербанк), поэтому по ним не определить, что не так с нашими продуктами, однако саму схему \"вклад+кредитная карта\" надо точно брать на вооружение!\n",
    "* **Классические владельцы кредитных карт - лояльный сегмент** - такое название надо сегменту из-за того, что это клиенты с 1 продуктом, 90% из которых имеют кредитную карту. У этих клиентов хорошие доходы, но на их преумножение в нашем банке они не сильно настроены, поскольку средний остаток собственных средств немногим больше размера одной зарплаты (вероятно, имеют вклады в других банках). В сегменте 58% всех клиентов банка и почти нулевой отток, а это значит что условия по кредитной карты являются привлекательными для клиентов - берем на вооружение!\n",
    "\n",
    "Далее опишем остальные сегменты в порядке убывания доли оттока:\n",
    "* **Премиальные клиенты - высокоотточный сегмент** - клиентов с 3-4 продуктами, с учетом показателей их финансового состояния можно считать именно премиальными для этого банка, и все они хотят уйти со всеми своими продуктами. Борьба за состоятельных клеинтов в любой сфере очень серьезная, однако здесь можно сказать коллегам продактам и маркетологам: \"Ребята, вы конкретно накосячили!\". Этих клиентов совсем немного, и уполномоченным сотрудникам банка не составит труда обзвонить значительную часть их них, т.к. эта группа клиентов очень красноречиво сможет прояснить причину своей неудовлетворенности. Таким образом, возможно, получится выявить продукт, разочаровывающий клиентов, либо иные причины (например, некомфортные условия обслуживания, навязчивость в продажах и пр.). Мероприятия по предотвращению оттока и удержанию этих клиентов должны носить индивидуальный характер.\n",
    "* **Вкладчики - высокоотточный сегмент** - 10% общей базы, клиенты с 1 продуктом, в отток уходят 67% из них - и это основная масса всех \"недовольных\". Клиенты состоятельные, имеют хорошие накопления, заинтересованы в их преумножении - просто лакомый кусок для конкурентов, и терять его нельзя. Однозначный вывод: наши вклады очень плохи! При этом, вероятнее всего, изменения в линейке вкладов произошли совсем недавно, иначе эти клиенты к нам бы просто не пришли.\n",
    "* **Состоятельные владельцы кредитной карты - высокооточный сегмент** - 14% клиентской базы, имеют кредитную карту с большим остатком собственных средств. Здесь можно было бы сказать, что отток в сегменте происходит опять же по причине отсутствия привлекательных вкладов, однако средний остаток в 782 тыс.руб. за день у клиента не образуется. Отток в сегменте 24%, т.е. три четверти клиентов условия по кредитной карте устраивают. Можно предположить два сценария: либо эти клиенты решили заняться накоплением денег и не нашли для себя привлекательных условий в нашем банке (помним, что вклады плохие), либо эту четверть клиентов стали напрягать текущие условия обслуживания по кредитным картам. Возможно, есть проблемы с расходованием больших сумм собственных средств (лимиты/комиссии) и/или нет привлекательного кэшбека.\n",
    "* **Обеспеченные владельцы кредитных карт - сегмент в зоне риска** - около 10 процентов клиентской базы. Имеют кредитнкую карту с достойным остаком собственных средств. Отток 13% в сегменте соответствует среднему оттоку по банку, но поскольку будем принимать меры к снижению оттока, то и этот сегмент окажется высокоотточным. Здесь опять же можно предположить две возможные причины к уходу: перестали устраивать текущие условия по кредитной карте, а если появилось желание начать копить, то нет выгодных вкладов."
   ]
  },
  {
   "cell_type": "markdown",
   "id": "9d3b5ccd",
   "metadata": {},
   "source": [
    "Портреты клиентов описаны. С учетом полных данных о конкретных (а не предполагаемых) типах продуктам, динамике поступлений/расходований средств, величины лимитов по кредитной карте они помогут разработать маркетинговые мероприятия по сокращению оттока и удержанию клиентов.\n",
    "\n",
    "Попробуем визуализировать отдельные показатели по сегментации клиентов:"
   ]
  },
  {
   "cell_type": "code",
   "execution_count": 41,
   "id": "77d99b70",
   "metadata": {},
   "outputs": [
    {
     "data": {
      "text/html": [
       "<style  type=\"text/css\" >\n",
       "</style><table id=\"T_8c8e6_\" ><thead>    <tr>        <th class=\"blank level0\" ></th>        <th class=\"col_heading level0 col0\" >segment</th>        <th class=\"col_heading level0 col1\" >count</th>        <th class=\"col_heading level0 col2\" >count_ratio</th>    </tr></thead><tbody>\n",
       "                <tr>\n",
       "                        <th id=\"T_8c8e6_level0_row0\" class=\"row_heading level0 row0\" >0</th>\n",
       "                        <td id=\"T_8c8e6_row0_col0\" class=\"data row0 col0\" >5) Классические владельцы кредитной карты</td>\n",
       "                        <td id=\"T_8c8e6_row0_col1\" class=\"data row0 col1\" >5828</td>\n",
       "                        <td id=\"T_8c8e6_row0_col2\" class=\"data row0 col2\" >58.3%</td>\n",
       "            </tr>\n",
       "            <tr>\n",
       "                        <th id=\"T_8c8e6_level0_row1\" class=\"row_heading level0 row1\" >1</th>\n",
       "                        <td id=\"T_8c8e6_row1_col0\" class=\"data row1 col0\" >3) Состоятельные владельцы кредитной карты</td>\n",
       "                        <td id=\"T_8c8e6_row1_col1\" class=\"data row1 col1\" >1396</td>\n",
       "                        <td id=\"T_8c8e6_row1_col2\" class=\"data row1 col2\" >14.0%</td>\n",
       "            </tr>\n",
       "            <tr>\n",
       "                        <th id=\"T_8c8e6_level0_row2\" class=\"row_heading level0 row2\" >2</th>\n",
       "                        <td id=\"T_8c8e6_row2_col0\" class=\"data row2 col0\" >4) Обеспеченные владельцы кредитной карты</td>\n",
       "                        <td id=\"T_8c8e6_row2_col1\" class=\"data row2 col1\" >994</td>\n",
       "                        <td id=\"T_8c8e6_row2_col2\" class=\"data row2 col2\" >9.9%</td>\n",
       "            </tr>\n",
       "            <tr>\n",
       "                        <th id=\"T_8c8e6_level0_row3\" class=\"row_heading level0 row3\" >3</th>\n",
       "                        <td id=\"T_8c8e6_row3_col0\" class=\"data row3 col0\" >6) Вкладчики</td>\n",
       "                        <td id=\"T_8c8e6_row3_col1\" class=\"data row3 col1\" >944</td>\n",
       "                        <td id=\"T_8c8e6_row3_col2\" class=\"data row3 col2\" >9.4%</td>\n",
       "            </tr>\n",
       "            <tr>\n",
       "                        <th id=\"T_8c8e6_level0_row4\" class=\"row_heading level0 row4\" >4</th>\n",
       "                        <td id=\"T_8c8e6_row4_col0\" class=\"data row4 col0\" >2) Вкладчики с кредитной картой</td>\n",
       "                        <td id=\"T_8c8e6_row4_col1\" class=\"data row4 col1\" >524</td>\n",
       "                        <td id=\"T_8c8e6_row4_col2\" class=\"data row4 col2\" >5.2%</td>\n",
       "            </tr>\n",
       "            <tr>\n",
       "                        <th id=\"T_8c8e6_level0_row5\" class=\"row_heading level0 row5\" >5</th>\n",
       "                        <td id=\"T_8c8e6_row5_col0\" class=\"data row5 col0\" >1) Премиальные клиенты</td>\n",
       "                        <td id=\"T_8c8e6_row5_col1\" class=\"data row5 col1\" >314</td>\n",
       "                        <td id=\"T_8c8e6_row5_col2\" class=\"data row5 col2\" >3.1%</td>\n",
       "            </tr>\n",
       "    </tbody></table>"
      ],
      "text/plain": [
       "<pandas.io.formats.style.Styler at 0x2c1c2cad8e0>"
      ]
     },
     "metadata": {},
     "output_type": "display_data"
    },
    {
     "data": {
      "image/png": "[encoded data removed]",
      "text/plain": [
       "<Figure size 720x360 with 1 Axes>"
      ]
     },
     "metadata": {},
     "output_type": "display_data"
    }
   ],
   "source": [
    "# распределение клиентов по сегментам (таблица + график)\n",
    "segment_pivot = (\n",
    "    df.groupby('segment')\n",
    "      .agg({'user_id': 'count'})\n",
    "      .sort_values(by='user_id', ascending=False)\n",
    "      .reset_index()\n",
    "      .rename(columns={'user_id': 'count'})\n",
    ")\n",
    "\n",
    "segment_pivot['count_ratio'] = segment_pivot['count'] / segment_pivot['count'].sum()\n",
    "\n",
    "display(segment_pivot.style.format({'count_ratio': '{:.1%}'}))\n",
    "\n",
    "plt.figure(figsize=(10,5))\n",
    "\n",
    "sns.barplot(\n",
    "    y='segment',\n",
    "    x='count',\n",
    "    data=segment_pivot,\n",
    "    palette=['#808080','#0066CC','#0066CC','#0066CC','#808080','#0066CC']\n",
    ")\n",
    "\n",
    "plt.xlabel('количество клиентов')\n",
    "plt.ylabel('')\n",
    "plt.title('Распределение клиентов по сегментам')\n",
    "\n",
    "for x,y,z in zip(segment_pivot['count_ratio'], range(len(segment_pivot)), segment_pivot['count']):\n",
    "    label = '{:.1%}'.format(x)\n",
    "    plt.annotate(label, # текст метки\n",
    "                 (z,y), # координаты метки\n",
    "                 textcoords=\"offset points\", # позиция текста метки\n",
    "                 xytext=(10,0), # расстояние между текстом и точкой координат метки\n",
    "                 va='center') # выравнивание метки\n",
    "\n",
    "plt.show()"
   ]
  },
  {
   "cell_type": "code",
   "execution_count": 42,
   "id": "51e625ed",
   "metadata": {},
   "outputs": [
    {
     "data": {
      "text/html": [
       "<div>\n",
       "<style scoped>\n",
       "    .dataframe tbody tr th:only-of-type {\n",
       "        vertical-align: middle;\n",
       "    }\n",
       "\n",
       "    .dataframe tbody tr th {\n",
       "        vertical-align: top;\n",
       "    }\n",
       "\n",
       "    .dataframe thead th {\n",
       "        text-align: right;\n",
       "    }\n",
       "</style>\n",
       "<table border=\"1\" class=\"dataframe\">\n",
       "  <thead>\n",
       "    <tr style=\"text-align: right;\">\n",
       "      <th>segment</th>\n",
       "      <th>1) Премиальные клиенты</th>\n",
       "      <th>2) Вкладчики с кредитной картой</th>\n",
       "      <th>3) Состоятельные владельцы кредитной карты</th>\n",
       "      <th>4) Обеспеченные владельцы кредитной карты</th>\n",
       "      <th>5) Классические владельцы кредитной карты</th>\n",
       "      <th>6) Вкладчики</th>\n",
       "    </tr>\n",
       "    <tr>\n",
       "      <th>churn</th>\n",
       "      <th></th>\n",
       "      <th></th>\n",
       "      <th></th>\n",
       "      <th></th>\n",
       "      <th></th>\n",
       "      <th></th>\n",
       "    </tr>\n",
       "  </thead>\n",
       "  <tbody>\n",
       "    <tr>\n",
       "      <th>0</th>\n",
       "      <td>0</td>\n",
       "      <td>524</td>\n",
       "      <td>1057</td>\n",
       "      <td>865</td>\n",
       "      <td>5801</td>\n",
       "      <td>316</td>\n",
       "    </tr>\n",
       "    <tr>\n",
       "      <th>1</th>\n",
       "      <td>314</td>\n",
       "      <td>0</td>\n",
       "      <td>339</td>\n",
       "      <td>129</td>\n",
       "      <td>27</td>\n",
       "      <td>628</td>\n",
       "    </tr>\n",
       "  </tbody>\n",
       "</table>\n",
       "</div>"
      ],
      "text/plain": [
       "segment  1) Премиальные клиенты  2) Вкладчики с кредитной картой  \\\n",
       "churn                                                              \n",
       "0                             0                              524   \n",
       "1                           314                                0   \n",
       "\n",
       "segment  3) Состоятельные владельцы кредитной карты  \\\n",
       "churn                                                 \n",
       "0                                              1057   \n",
       "1                                               339   \n",
       "\n",
       "segment  4) Обеспеченные владельцы кредитной карты  \\\n",
       "churn                                                \n",
       "0                                              865   \n",
       "1                                              129   \n",
       "\n",
       "segment  5) Классические владельцы кредитной карты  6) Вкладчики  \n",
       "churn                                                             \n",
       "0                                             5801           316  \n",
       "1                                               27           628  "
      ]
     },
     "metadata": {},
     "output_type": "display_data"
    },
    {
     "data": {
      "image/png": "[encoded data removed]",
      "text/plain": [
       "<Figure size 1080x720 with 6 Axes>"
      ]
     },
     "metadata": {},
     "output_type": "display_data"
    }
   ],
   "source": [
    "# доли оттока по сегментам\n",
    "segment_pivot_1 = (\n",
    "    df.pivot_table(\n",
    "        index='churn',\n",
    "        columns='segment',\n",
    "        values='user_id',\n",
    "        aggfunc='count',\n",
    "        fill_value=0\n",
    "    )\n",
    ")\n",
    "\n",
    "display(segment_pivot_1)\n",
    "\n",
    "#строим графики\n",
    "fig = plt.figure(figsize=(15,10))\n",
    "\n",
    "for i in range(len(segment_pivot_1.columns)):\n",
    "    axi = fig.add_subplot(2,3,i+1)\n",
    "    plt.pie(\n",
    "        x=segment_pivot_1.iloc[:,i],\n",
    "        colors=('#0066CC', '#990000'),\n",
    "        autopct='%1.0f%%',\n",
    "        pctdistance=1.1,\n",
    "        startangle=90,\n",
    "        explode=(0, 0.05)\n",
    "    )\n",
    "    plt.title(f'Доля оттока в сегменте \\n{segment_pivot_1.columns[i]}')\n",
    "    plt.legend(['лояльные', 'уходящие'])\n",
    "    \n",
    "fig.tight_layout()\n",
    "plt.show()"
   ]
  },
  {
   "cell_type": "code",
   "execution_count": 43,
   "id": "d8ce27d9",
   "metadata": {},
   "outputs": [
    {
     "data": {
      "text/html": [
       "<style  type=\"text/css\" >\n",
       "</style><table id=\"T_89ab2_\" ><thead>    <tr>        <th class=\"blank level0\" ></th>        <th class=\"col_heading level0 col0\" >segment</th>        <th class=\"col_heading level0 col1\" >churn</th>        <th class=\"col_heading level0 col2\" >churn_ratio</th>    </tr></thead><tbody>\n",
       "                <tr>\n",
       "                        <th id=\"T_89ab2_level0_row0\" class=\"row_heading level0 row0\" >0</th>\n",
       "                        <td id=\"T_89ab2_row0_col0\" class=\"data row0 col0\" >6) Вкладчики</td>\n",
       "                        <td id=\"T_89ab2_row0_col1\" class=\"data row0 col1\" >628</td>\n",
       "                        <td id=\"T_89ab2_row0_col2\" class=\"data row0 col2\" >43.7%</td>\n",
       "            </tr>\n",
       "            <tr>\n",
       "                        <th id=\"T_89ab2_level0_row1\" class=\"row_heading level0 row1\" >1</th>\n",
       "                        <td id=\"T_89ab2_row1_col0\" class=\"data row1 col0\" >3) Состоятельные владельцы кредитной карты</td>\n",
       "                        <td id=\"T_89ab2_row1_col1\" class=\"data row1 col1\" >339</td>\n",
       "                        <td id=\"T_89ab2_row1_col2\" class=\"data row1 col2\" >23.6%</td>\n",
       "            </tr>\n",
       "            <tr>\n",
       "                        <th id=\"T_89ab2_level0_row2\" class=\"row_heading level0 row2\" >2</th>\n",
       "                        <td id=\"T_89ab2_row2_col0\" class=\"data row2 col0\" >1) Премиальные клиенты</td>\n",
       "                        <td id=\"T_89ab2_row2_col1\" class=\"data row2 col1\" >314</td>\n",
       "                        <td id=\"T_89ab2_row2_col2\" class=\"data row2 col2\" >21.9%</td>\n",
       "            </tr>\n",
       "            <tr>\n",
       "                        <th id=\"T_89ab2_level0_row3\" class=\"row_heading level0 row3\" >3</th>\n",
       "                        <td id=\"T_89ab2_row3_col0\" class=\"data row3 col0\" >4) Обеспеченные владельцы кредитной карты</td>\n",
       "                        <td id=\"T_89ab2_row3_col1\" class=\"data row3 col1\" >129</td>\n",
       "                        <td id=\"T_89ab2_row3_col2\" class=\"data row3 col2\" >9.0%</td>\n",
       "            </tr>\n",
       "            <tr>\n",
       "                        <th id=\"T_89ab2_level0_row4\" class=\"row_heading level0 row4\" >4</th>\n",
       "                        <td id=\"T_89ab2_row4_col0\" class=\"data row4 col0\" >5) Классические владельцы кредитной карты</td>\n",
       "                        <td id=\"T_89ab2_row4_col1\" class=\"data row4 col1\" >27</td>\n",
       "                        <td id=\"T_89ab2_row4_col2\" class=\"data row4 col2\" >1.9%</td>\n",
       "            </tr>\n",
       "    </tbody></table>"
      ],
      "text/plain": [
       "<pandas.io.formats.style.Styler at 0x2c1c2ac9e50>"
      ]
     },
     "metadata": {},
     "output_type": "display_data"
    },
    {
     "data": {
      "image/png": "[encoded data removed]",
      "text/plain": [
       "<Figure size 720x360 with 1 Axes>"
      ]
     },
     "metadata": {},
     "output_type": "display_data"
    }
   ],
   "source": [
    "# сегменты клиентов, формирующие отток\n",
    "\n",
    "segment_pivot_2 = (\n",
    "    df.query('churn == 1')\n",
    "      .groupby('segment')\n",
    "      .agg({'user_id': 'count'})\n",
    "      .sort_values(by='user_id', ascending=False)\n",
    "      .reset_index()\n",
    "      .rename(columns={'user_id': 'churn'})\n",
    ")\n",
    "\n",
    "segment_pivot_2['churn_ratio'] = segment_pivot_2['churn'] / segment_pivot_2['churn'].sum()\n",
    "\n",
    "display(segment_pivot_2.style.format({'churn_ratio': '{:.1%}'}))\n",
    "\n",
    "plt.figure(figsize=(10,5))\n",
    "\n",
    "sns.barplot(\n",
    "    y='segment',\n",
    "    x='churn',\n",
    "    data=segment_pivot_2,\n",
    "    color='#0066CC'\n",
    ")\n",
    "\n",
    "plt.xlabel('количество клиентов')\n",
    "plt.ylabel('')\n",
    "plt.title('Распределение уходящих клиентов по сегментам')\n",
    "\n",
    "for x,y,z in zip(segment_pivot_2['churn_ratio'], range(len(segment_pivot_2)), segment_pivot_2['churn']):\n",
    "    label = '{:.1%}'.format(x)\n",
    "    plt.annotate(label, # текст метки\n",
    "                 (z,y), # координаты метки\n",
    "                 textcoords=\"offset points\", # позиция текста метки\n",
    "                 xytext=(10,0), # расстояние между текстом и точкой координат метки\n",
    "                 va='center') # выравнивание метки\n",
    "\n",
    "plt.show()"
   ]
  },
  {
   "cell_type": "markdown",
   "id": "cb678ab1",
   "metadata": {},
   "source": [
    "## Проверка статистических гипотез"
   ]
  },
  {
   "cell_type": "markdown",
   "id": "879f2b86",
   "metadata": {},
   "source": [
    "### Сравнение дохода между клиентами с 1 и 2 продуктами"
   ]
  },
  {
   "cell_type": "markdown",
   "id": "e40e6ad1",
   "metadata": {},
   "source": [
    "Есть предположение, что у клиентов с одним и двумя продуктами различаются доходы. Посмотрим на средние и медианные доходы по группам клиентов:"
   ]
  },
  {
   "cell_type": "code",
   "execution_count": 44,
   "id": "e39d6e41",
   "metadata": {},
   "outputs": [
    {
     "data": {
      "text/html": [
       "<style  type=\"text/css\" >\n",
       "</style><table id=\"T_3ac70_\" ><thead>    <tr>        <th class=\"blank level0\" ></th>        <th class=\"col_heading level0 col0\" >user_id</th>        <th class=\"col_heading level0 col1\" colspan=\"2\">salary</th>    </tr>    <tr>        <th class=\"blank level1\" ></th>        <th class=\"col_heading level1 col0\" >count</th>        <th class=\"col_heading level1 col1\" >mean</th>        <th class=\"col_heading level1 col2\" >var</th>    </tr>    <tr>        <th class=\"index_name level0\" >products</th>        <th class=\"blank\" ></th>        <th class=\"blank\" ></th>        <th class=\"blank\" ></th>    </tr></thead><tbody>\n",
       "                <tr>\n",
       "                        <th id=\"T_3ac70_level0_row0\" class=\"row_heading level0 row0\" >1</th>\n",
       "                        <td id=\"T_3ac70_row0_col0\" class=\"data row0 col0\" >9162</td>\n",
       "                        <td id=\"T_3ac70_row0_col1\" class=\"data row0 col1\" >96864</td>\n",
       "                        <td id=\"T_3ac70_row0_col2\" class=\"data row0 col2\" >18125145325</td>\n",
       "            </tr>\n",
       "            <tr>\n",
       "                        <th id=\"T_3ac70_level0_row1\" class=\"row_heading level0 row1\" >2</th>\n",
       "                        <td id=\"T_3ac70_row1_col0\" class=\"data row1 col0\" >524</td>\n",
       "                        <td id=\"T_3ac70_row1_col1\" class=\"data row1 col1\" >52955</td>\n",
       "                        <td id=\"T_3ac70_row1_col2\" class=\"data row1 col2\" >5326301299</td>\n",
       "            </tr>\n",
       "    </tbody></table>"
      ],
      "text/plain": [
       "<pandas.io.formats.style.Styler at 0x2c1c30dc8e0>"
      ]
     },
     "execution_count": 44,
     "metadata": {},
     "output_type": "execute_result"
    }
   ],
   "source": [
    "# строим сводную таблицу для оценки размера выборок,\n",
    "# средних значений зарплаты, ее дисперсий по двум группам клиентов\n",
    "df.query('products == 1 or products == 2') \\\n",
    "  .groupby('products') \\\n",
    "  .agg({'user_id': 'count', 'salary': [np.mean, np.var]}) \\\n",
    "  .style.format('{:.0f}')"
   ]
  },
  {
   "cell_type": "markdown",
   "id": "7ce1de29",
   "metadata": {},
   "source": [
    "Видим, что средние доходы по группам клиентов сильно отличаются друг от друга: доход клиентов с 1 продуктом почти в 2 раза выше, чем у клиентов с 1 продуктом. Выборочные дисперсии также сильно отличаются, как и размеры выборок. Кроме этого в выборке клиентов с 2 продуктами всего 524 клиента, а в данных о заработной плате присутствуют выбросы. Слишком много фактов не в пользу T-теста, поэтому гипотезу о равенстве средних будем проверять критерием Манна-Уитни: он хорошо работает на выборках небольших объемов и устойчив к выбросам и может применяться к разным типам распределений переменной (у нас распределение зарплаты, как мы помним, отличается от нормального и имеет очень длинный правый хвост). Тест будем применять в вариации для независимых выборок, и он будет двусторонний, т.к. нет условия об оценке отклонения дохода в конкретную сторону."
   ]
  },
  {
   "cell_type": "markdown",
   "id": "07f43c55",
   "metadata": {},
   "source": [
    "Сформулируем гипотезы для проверки принимая во внимание то, что нулевая гипотеза должна содержать условие равенства:\n",
    "\n",
    "**H0:** Средние доходы клиентов с 1 продуктом и клиентов с 2 продуктами одинаковы.\n",
    "\n",
    "**H1:** Средние доходы клиентов с 1 продуктом и клиентов с 2 продуктами различаются."
   ]
  },
  {
   "cell_type": "code",
   "execution_count": 45,
   "id": "63569cdb",
   "metadata": {},
   "outputs": [
    {
     "name": "stdout",
     "output_type": "stream",
     "text": [
      "p-значение: 0.000\n",
      "Отвергаем нулевую гипотезу: между показателями есть значимая разница\n"
     ]
    }
   ],
   "source": [
    "# проверка гипотезы о равенстве средних\n",
    "# двусторонним тестом Манна-Уитни для независимых выборок\n",
    "\n",
    "# сохраняем выборки с размером зарплаты в отдельных переменных по группам клиентов\n",
    "salary_1_product = df.query('products == 1')['salary']\n",
    "salary_2_product = df.query('products == 2')['salary']\n",
    "\n",
    "# задаем уровень статистической значимости\n",
    "alpha = .05 \n",
    "\n",
    "# запускаем тест и сохраняем результаты\n",
    "stat, p_value = mannwhitneyu(salary_1_product, salary_2_product, alternative='two-sided')\n",
    "\n",
    "print('p-значение:', '{:0.3f}'.format(p_value))\n",
    "\n",
    "if p_value < alpha:\n",
    "    print('Отвергаем нулевую гипотезу: между показателями есть значимая разница')\n",
    "else:\n",
    "    print('Не получилось отвергнуть нулевую гипотезу: нет оснований считать показатели разными')"
   ]
  },
  {
   "cell_type": "markdown",
   "id": "202c267b",
   "metadata": {},
   "source": [
    "**Вывод**\n",
    "\n",
    "На имеющихся данных на уровне значимости 5% есть основания отвергнуть нулевую гипотезу в пользу альтернативной. Это означает, что в среднем доходы клиентов с 1 и 2 продуктами различаются.\n",
    "\n",
    "*P.S. А в чем смысл проверки такой гипотезы? Какую она пользу несет? На реальных данных, в принципе, невооруженным глазом было видно, что доходы клиентов с 1 продуктом больше...*"
   ]
  },
  {
   "cell_type": "markdown",
   "id": "c41d861b",
   "metadata": {},
   "source": [
    "### Сравнение уровня оттока между клиентами банка разного возраста"
   ]
  },
  {
   "cell_type": "markdown",
   "id": "67aad267",
   "metadata": {},
   "source": [
    "В ходе исследовательского анализа данных не увидели большой разницы в оттоке у клиентов 30-39 лет и клиентов 50-59 лет, при этом традиционно считается, что более возрастные клиенты сложнее меняют свои привычки и, в целом, более осознанны в своем выборе. Сравнение оттоков в этих группах может быть дополнительным знанием для маркетологов при разработке целевых акций по удержанию клиентов."
   ]
  },
  {
   "cell_type": "markdown",
   "id": "a2cd1fb1",
   "metadata": {},
   "source": [
    "Посмотрим на уровень оттока по группам:"
   ]
  },
  {
   "cell_type": "code",
   "execution_count": 46,
   "id": "2df132d1",
   "metadata": {},
   "outputs": [
    {
     "data": {
      "text/html": [
       "<style  type=\"text/css\" >\n",
       "</style><table id=\"T_f0f9f_\" ><thead>    <tr>        <th class=\"blank level0\" ></th>        <th class=\"col_heading level0 col0\" colspan=\"2\">churn</th>    </tr>    <tr>        <th class=\"blank level1\" ></th>        <th class=\"col_heading level1 col0\" >count</th>        <th class=\"col_heading level1 col1\" >mean</th>    </tr>    <tr>        <th class=\"index_name level0\" >age_category</th>        <th class=\"blank\" ></th>        <th class=\"blank\" ></th>    </tr></thead><tbody>\n",
       "                <tr>\n",
       "                        <th id=\"T_f0f9f_level0_row0\" class=\"row_heading level0 row0\" >30-39 лет</th>\n",
       "                        <td id=\"T_f0f9f_row0_col0\" class=\"data row0 col0\" >3700</td>\n",
       "                        <td id=\"T_f0f9f_row0_col1\" class=\"data row0 col1\" >17.3%</td>\n",
       "            </tr>\n",
       "            <tr>\n",
       "                        <th id=\"T_f0f9f_level0_row1\" class=\"row_heading level0 row1\" >50-59 лет</th>\n",
       "                        <td id=\"T_f0f9f_row1_col0\" class=\"data row1 col0\" >1605</td>\n",
       "                        <td id=\"T_f0f9f_row1_col1\" class=\"data row1 col1\" >17.1%</td>\n",
       "            </tr>\n",
       "    </tbody></table>"
      ],
      "text/plain": [
       "<pandas.io.formats.style.Styler at 0x2c1c2ac9e50>"
      ]
     },
     "execution_count": 46,
     "metadata": {},
     "output_type": "execute_result"
    }
   ],
   "source": [
    "# строим сводную таблицу для оценки размера выборок,\n",
    "# и уровня оттока по двум группам клиентов\n",
    "df.query(\"age_category == '30-39 лет' or age_category == '50-59 лет'\") \\\n",
    "  .groupby('age_category') \\\n",
    "  .agg({'churn': ['count', 'mean']}) \\\n",
    "  .style.format({('churn', 'mean'):'{:.1%}'})"
   ]
  },
  {
   "cell_type": "markdown",
   "id": "bd9f29ca",
   "metadata": {},
   "source": [
    "Выглядит так, что пропорции по оттоку равны. Проверку этой гипотезы проведем с помощью метода проверки пропорций на основе нормального (z) теста. Тест будет односторонним."
   ]
  },
  {
   "cell_type": "markdown",
   "id": "93d543cf",
   "metadata": {},
   "source": [
    "Сформулируем гипотезы для проверки принимая во внимание то, что нулевая гипотеза должна содержать условие равенства:\n",
    "\n",
    "**H0:** Среди клиентов, намеревающихся уйти, доли клиентов 30-39 и 50-59 лет одинаковы.\n",
    "\n",
    "**H1:** Среди клиентов, намеревающихся уйти, доля клиентов 30-39 лет больше, чем клиентов 50-59 лет."
   ]
  },
  {
   "cell_type": "code",
   "execution_count": 47,
   "id": "ea58fea6",
   "metadata": {},
   "outputs": [
    {
     "name": "stdout",
     "output_type": "stream",
     "text": [
      "p-значение:  0.430\n",
      "Не получилось отвергнуть нулевую гипотезу: нет оснований считать доли разными\n"
     ]
    }
   ],
   "source": [
    "# проверка гипотезы о равенстве долей\n",
    "# односторонним тестом на основе нормального z-теста\n",
    "\n",
    "# сохраняем число успехов для первой и второй групп\n",
    "successes = [\n",
    "    df.query(\"age_category == '30-39 лет' and churn == 1\")['user_id'].count(),\n",
    "    df.query(\"age_category == '50-59 лет' and churn == 1\")['user_id'].count()\n",
    "]\n",
    "\n",
    "# сохраняем общее кол-во наблюдений для первой и второй групп\n",
    "trials = [\n",
    "    df.query(\"age_category == '30-39 лет'\")['user_id'].count(),\n",
    "    df.query(\"age_category == '50-59 лет'\")['user_id'].count()\n",
    "]\n",
    "\n",
    "# задаем уровень статистической значимости\n",
    "alpha = .05\n",
    "\n",
    "# запускаем тест и сохраняем результаты\n",
    "stat, p_value = proportions_ztest(successes, trials, alternative='larger')\n",
    "\n",
    "print('p-значение: ', '{:0.3f}'.format(p_value))\n",
    "\n",
    "if p_value < alpha:\n",
    "    print('Отвергаем нулевую гипотезу: доля в первой группе выше, чем во второй')\n",
    "else:\n",
    "    print('Не получилось отвергнуть нулевую гипотезу: нет оснований считать доли разными')"
   ]
  },
  {
   "cell_type": "markdown",
   "id": "7c787735",
   "metadata": {},
   "source": [
    "**Вывод**\n",
    "\n",
    "На имеющихся данных на уровне значимости 5% нет оснований отвергнуть нулевую гипотезу в пользу альтернативной. Это означает, что склонность к оттоку у клиентов 30-39 и 50-59 лет одинакова."
   ]
  },
  {
   "cell_type": "markdown",
   "id": "3f8b84b1",
   "metadata": {},
   "source": [
    "## Общие выводы и рекомендации"
   ]
  },
  {
   "cell_type": "markdown",
   "id": "1e11f3d4",
   "metadata": {},
   "source": [
    "**Общие выводы**:\n",
    "\n",
    "1. Изучены данные по 10 тысячам клиентов регионального банка, выполнена их предобработка. В целом, данные качественные и полные, а набор показателей достаточен для формирования общей картины\n",
    "\n",
    "2. Проанализированы статистические показатели клиентской базы (данные не содержат аномальных значений):\n",
    "    * основной бизнес сосредоточен в Ярославле (60% клиентов), поменьше клиентов в Рыбинске (27%) и Ростове (14%)\n",
    "    * мужчин и женщин примерно поровну, средний возраст клиента 40 лет\n",
    "    * в основном, клиенты пользуются только 1 продуктом, и 84% из них имеют кредитную карту\n",
    "    * активна в последнее время половина клиентской базы\n",
    "    * по показателям заработной платы и баланса собственных средств тоже нет неожиданностей: присутствуют очень обеспеченные клиенты\n",
    "    * 14% клиентов заявили о намерении прекратить обсуживание - это целевой показатель нашего исследования.\n",
    "    \n",
    "3. Сформированы портреты типичных представителей уходящих и лояльных клиентов: уходящие клиенты моложе, более состоятельны, имеют больше шансов получить кредит, при этом реже являются владельцами кредитных карт банка, в среднем имеют больше продуктов, остаток их собственных средств почти в 5 раз выше, чем у лояльных клиентов, и они намного активнее взаимодействуют с банком.\n",
    "\n",
    "4. Определены признаки, наиболее сильно влияющие на отток: наличие кредитной карты, баллы кредитного скоринга, остаток собственных средств, возраст клиента. В зоне риска по оттоку находятся клиенты, обладающие одним или несколькими из следующих признаков:\n",
    "    * использование только одного банковского продукта\n",
    "    * отсутствие кредитной карты\n",
    "    * балл кредитного скоринга больше 640\n",
    "    * остаток собственных средств от 350 тыс.руб.\n",
    "    * возрастные диапазоны до 30 лет, 30-39 лет и 50-59 лет.\n",
    "    \n",
    "5. Проведена сегментация пользователей по потреблению и описаны портреты типичных представителей 6 основных сегментов:\n",
    "* **Премиальные клиенты - высокоотточный сегмент** - клиенты с высокими показателям финансовой состоятельности, находящиеся на комплексном обслуживании в банке. Их доля 3% от общей численности клиентов. Имеют 3-4 продукта и максимальный уровень неудовлетворенности: о намерении уйти заявили все клиенты.\n",
    "* **Состоятельные владельцы кредитной карты - высокооточный сегмент** - 14% клиентской базы, имеют кредитную карту с большим остатком собственных средств, с вреднем 782 тыс.руб. Отток в сегменте 24%.\n",
    "* **Вкладчики - высокоотточный сегмент** - 10% общей базы, клиенты с 1 вкладом на среднюю сумму 969 тыс.руб., в отток уходят 67% из них.\n",
    "* **Обеспеченные владельцы кредитных карт - сегмент в зоне риска** - около 10% клиентской базы. Имеют кредитнкую карту с достойным остаком собственных средств, в среднем 193 тыс.руб. Отток в сегменте 13%.\n",
    "* **Вкладчики с кредитной картой - лояльный сегмент** - низкодоходные клиенты с 2 продуктами, нацеленные на сбережение и экономные траты. Оттока в сегменте нет.\n",
    "* **Классические владельцы кредитных карт - лояльный сегмент** - клиенты с хорошими доходами, не настроенные размещать свободные средства в нашем банке. Оттока в сегменте нет.\n",
    "\n",
    "6. Проверены две статистические гипотезы:\n",
    "* установлена статистическая значимость различия средних доходов по клиентам, пользующимся 2 продуктами и клиентам с 1 продуктом\n",
    "* установлено отсутствие статитической значимости между долями клиентов, уходящих в отток в общей численности клиентов по двум возрастным категориям 30-39 и 50-59 лет.\n",
    "\n"
   ]
  },
  {
   "cell_type": "markdown",
   "id": "504cdde8",
   "metadata": {},
   "source": [
    "**Общие рекомендации по удержанию клиентов:**\n",
    "\n",
    "В ходе исследования становится понятным, что 14%-ный отток в банке обусловлен проблемами в продуктах. В первую очередь, маркетологам и продакт-менеджерам необходимо уделить **внимание линейке вкладов**. Возможно, она была изменена, и условия оказались непривлекательными для клиентов. Необходимо провести анализ процентных ставок в сравнении с основными конкурентами и срочно модифицировать линейку вкладов с учетом нескольких условий:\n",
    "* конкурентоспособные процентные ставки в комбинации с разными по условиям досрочного погашения видами вкладов: жесткая ставка \"досрочки\" - повышенный процент, гибкая ставка \"досрочки\" - процент ниже. Это позволить покрыть потребности как клиентов, нацеленных на преумножение, так и тех клиентов, кто сомневается в отсутствии риска по размещению крупных сумм на длительные сроки.\n",
    "* повышенные ставки при крупных суммах вкладов - дополнительная ценность для обеспеченных клиентов.\n",
    "\n",
    "Также необходимо модифицировать **условия использования кредитных карт**:\n",
    "* исследовать лимиты/комиссии по наличным операциям и предусмотреть если не общее изменение условий, то какие-то отдельные льготы: например, возможность 1 раз в месяц увеличить лимит снятия собственных средств или снятие собственных средств до определенного лимита в месяц без комиссии (если есть комиссия)\n",
    "* доработать имеющуюся/разработать гибкую схему кэшбека по безналичным операциям с возможностью выбора 2-3 категорий с повышенным кэшбеком для учета различающихся потребностей клиентов разного возраста: например, для клиентов до 30 лет - развлечения/путешествия/кафе и рестораны/фитнес, для клиентов 30-39 лет - образование/детские товары и т.д."
   ]
  },
  {
   "cell_type": "markdown",
   "id": "b4858cb2",
   "metadata": {},
   "source": [
    "**Мероприятия по сдерживанию текущего оттока**\n",
    "\n",
    "* **Премиальные клиенты** - взять сегмент на индивидуальную проработку. Выяснить основные причины ухода, предложить приемлемые и для клиента, и для банка условия обслуживания вкладов вплоть до **индивидуальных ставок**. Такие клиенты ценны для банка, в первую очередь, своими накоплениями, поэтому можно пойти не только на изменение условий вкладов, но и на снижение комиссий по другим продуктам.\n",
    "* **Вкладчики** - заинтересовать клиентов перспективой скорого изменения условия вкладов (поможет задержать тех, кто в целом к банку лоялен, но текущие условия совершенно неприемлемы), провести опрос предпочтений по видам вкладов (покажет ценность мнения клиента, даст варианты модификации линейки). Также предложить **бесплатное открытие кредитной карты с льготным периодом на сумму вклада**, объяснив все прелести такого подхода к сбережениям/тратам (для банка это дополнительная прочность связи с клиентом)\n",
    "* **Состоятельные владельцы кредитной карты** - также заинтересовать изменением условий как по вкладам, так и по условиям использования кредитных карт, провести опрос предпочтений, подчеркнуть, что в новой линейке вкладов будут повышенные ставки для крупных сумм вкладов. Также предложить клиентам **автоматическое повышение лимита по кредитной карте до размера будущего вклада**.\n",
    "* **Обеспеченные владельцы кредитных карт** - хотя это и не самый отточный сегмент, но превентивные мероприятия надо проводить уже сейчас. Основной упор здесь будем делать на **анонс скорых изменений** в линейке вкладов и условиях обслуживания кредитных карт."
   ]
  }
 ],
 "metadata": {
  "kernelspec": {
   "display_name": "Python 3 (ipykernel)",
   "language": "python",
   "name": "python3"
  },
  "language_info": {
   "codemirror_mode": {
    "name": "ipython",
    "version": 3
   },
   "file_extension": ".py",
   "mimetype": "text/x-python",
   "name": "python",
   "nbconvert_exporter": "python",
   "pygments_lexer": "ipython3",
   "version": "3.9.12"
  },
  "toc": {
   "base_numbering": 1,
   "nav_menu": {},
   "number_sections": true,
   "sideBar": true,
   "skip_h1_title": true,
   "title_cell": "Содержание",
   "title_sidebar": "Оглавление",
   "toc_cell": true,
   "toc_position": {},
   "toc_section_display": true,
   "toc_window_display": true
  }
 },
 "nbformat": 4,
 "nbformat_minor": 5
}
