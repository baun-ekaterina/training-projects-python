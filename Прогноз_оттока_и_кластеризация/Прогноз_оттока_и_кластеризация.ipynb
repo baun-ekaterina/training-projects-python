{
 "cells": [
  {
   "cell_type": "markdown",
   "metadata": {},
   "source": [
    "# Прогноз оттока и кластеризация клиентов фитнес-центра"
   ]
  },
  {
   "cell_type": "markdown",
   "metadata": {
    "toc": true
   },
   "source": [
    "<h1>Оглавление<span class=\"tocSkip\"></span></h1>\n",
    "<div class=\"toc\"><ul class=\"toc-item\"><li><span><a href=\"#Обзор-данных\" data-toc-modified-id=\"Обзор-данных-1\"><span class=\"toc-item-num\">1&nbsp;&nbsp;</span>Обзор данных</a></span></li><li><span><a href=\"#Исследовательский-анализ-данных-(EDA)\" data-toc-modified-id=\"Исследовательский-анализ-данных-(EDA)-2\"><span class=\"toc-item-num\">2&nbsp;&nbsp;</span>Исследовательский анализ данных (EDA)</a></span><ul class=\"toc-item\"><li><span><a href=\"#Анализ-основных-статистических-показателей\" data-toc-modified-id=\"Анализ-основных-статистических-показателей-2.1\"><span class=\"toc-item-num\">2.1&nbsp;&nbsp;</span>Анализ основных статистических показателей</a></span></li><li><span><a href=\"#Анализ-средних-значений-признаков-по-группам-клиентов\" data-toc-modified-id=\"Анализ-средних-значений-признаков-по-группам-клиентов-2.2\"><span class=\"toc-item-num\">2.2&nbsp;&nbsp;</span>Анализ средних значений признаков по группам клиентов</a></span></li><li><span><a href=\"#Визуализация-распределения-признаков-по-группам-клиентов\" data-toc-modified-id=\"Визуализация-распределения-признаков-по-группам-клиентов-2.3\"><span class=\"toc-item-num\">2.3&nbsp;&nbsp;</span>Визуализация распределения признаков по группам клиентов</a></span></li><li><span><a href=\"#Матрица-корреляций\" data-toc-modified-id=\"Матрица-корреляций-2.4\"><span class=\"toc-item-num\">2.4&nbsp;&nbsp;</span>Матрица корреляций</a></span></li><li><span><a href=\"#Промежуточный-вывод\" data-toc-modified-id=\"Промежуточный-вывод-2.5\"><span class=\"toc-item-num\">2.5&nbsp;&nbsp;</span>Промежуточный вывод</a></span></li></ul></li><li><span><a href=\"#Модель-прогнозирования-оттока-клиентов\" data-toc-modified-id=\"Модель-прогнозирования-оттока-клиентов-3\"><span class=\"toc-item-num\">3&nbsp;&nbsp;</span>Модель прогнозирования оттока клиентов</a></span><ul class=\"toc-item\"><li><span><a href=\"#Сравнение-моделей\" data-toc-modified-id=\"Сравнение-моделей-3.1\"><span class=\"toc-item-num\">3.1&nbsp;&nbsp;</span>Сравнение моделей</a></span></li><li><span><a href=\"#Выбор-финальной-модели,-интерпретация-результатов\" data-toc-modified-id=\"Выбор-финальной-модели,-интерпретация-результатов-3.2\"><span class=\"toc-item-num\">3.2&nbsp;&nbsp;</span>Выбор финальной модели, интерпретация результатов</a></span></li><li><span><a href=\"#Промежуточный-вывод\" data-toc-modified-id=\"Промежуточный-вывод-3.3\"><span class=\"toc-item-num\">3.3&nbsp;&nbsp;</span>Промежуточный вывод</a></span></li></ul></li><li><span><a href=\"#Кластеризация-клиентов\" data-toc-modified-id=\"Кластеризация-клиентов-4\"><span class=\"toc-item-num\">4&nbsp;&nbsp;</span>Кластеризация клиентов</a></span><ul class=\"toc-item\"><li><span><a href=\"#Обучение-и-запуск-модели-K-means\" data-toc-modified-id=\"Обучение-и-запуск-модели-K-means-4.1\"><span class=\"toc-item-num\">4.1&nbsp;&nbsp;</span>Обучение и запуск модели K-means</a></span></li><li><span><a href=\"#Интерпретация-результатов\" data-toc-modified-id=\"Интерпретация-результатов-4.2\"><span class=\"toc-item-num\">4.2&nbsp;&nbsp;</span>Интерпретация результатов</a></span></li><li><span><a href=\"#Промежуточные-выводы\" data-toc-modified-id=\"Промежуточные-выводы-4.3\"><span class=\"toc-item-num\">4.3&nbsp;&nbsp;</span>Промежуточные выводы</a></span></li></ul></li><li><span><a href=\"#Выводы-и-рекомендации\" data-toc-modified-id=\"Выводы-и-рекомендации-5\"><span class=\"toc-item-num\">5&nbsp;&nbsp;</span>Выводы и рекомендации</a></span></li></ul></div>"
   ]
  },
  {
   "cell_type": "markdown",
   "metadata": {},
   "source": [
    "Загрузим все необходимые для работы библиотеки и методы:"
   ]
  },
  {
   "cell_type": "code",
   "execution_count": 1,
   "metadata": {},
   "outputs": [],
   "source": [
    "# импорт библиотек и методов\n",
    "import pandas as pd\n",
    "import matplotlib.pyplot as plt\n",
    "import seaborn as sns\n",
    "import os\n",
    "\n",
    "from sklearn.model_selection import train_test_split\n",
    "from sklearn.preprocessing import StandardScaler\n",
    "\n",
    "from sklearn.linear_model import LogisticRegression\n",
    "from sklearn.ensemble import RandomForestClassifier\n",
    "from sklearn.metrics import accuracy_score, precision_score, recall_score\n",
    "\n",
    "from scipy.cluster.hierarchy import dendrogram, linkage\n",
    "from sklearn.cluster import KMeans\n",
    "\n",
    "import warnings\n",
    "warnings.filterwarnings('ignore')"
   ]
  },
  {
   "cell_type": "markdown",
   "metadata": {},
   "source": [
    "<a id='intro1'></a>\n",
    "## Обзор данных"
   ]
  },
  {
   "cell_type": "markdown",
   "metadata": {},
   "source": [
    "Загрузим датасет и посмотрим на фрагмент данных из него:"
   ]
  },
  {
   "cell_type": "code",
   "execution_count": 2,
   "metadata": {},
   "outputs": [
    {
     "data": {
      "text/html": [
       "<div>\n",
       "<style scoped>\n",
       "    .dataframe tbody tr th:only-of-type {\n",
       "        vertical-align: middle;\n",
       "    }\n",
       "\n",
       "    .dataframe tbody tr th {\n",
       "        vertical-align: top;\n",
       "    }\n",
       "\n",
       "    .dataframe thead th {\n",
       "        text-align: right;\n",
       "    }\n",
       "</style>\n",
       "<table border=\"1\" class=\"dataframe\">\n",
       "  <thead>\n",
       "    <tr style=\"text-align: right;\">\n",
       "      <th></th>\n",
       "      <th>gender</th>\n",
       "      <th>near_location</th>\n",
       "      <th>partner</th>\n",
       "      <th>promo_friends</th>\n",
       "      <th>phone</th>\n",
       "      <th>contract_period</th>\n",
       "      <th>group_visits</th>\n",
       "      <th>age</th>\n",
       "      <th>avg_additional_charges_total</th>\n",
       "      <th>month_to_end_contract</th>\n",
       "      <th>lifetime</th>\n",
       "      <th>avg_class_frequency_total</th>\n",
       "      <th>avg_class_frequency_current_month</th>\n",
       "      <th>churn</th>\n",
       "    </tr>\n",
       "  </thead>\n",
       "  <tbody>\n",
       "    <tr>\n",
       "      <th>0</th>\n",
       "      <td>1</td>\n",
       "      <td>1</td>\n",
       "      <td>1</td>\n",
       "      <td>1</td>\n",
       "      <td>0</td>\n",
       "      <td>6</td>\n",
       "      <td>1</td>\n",
       "      <td>29</td>\n",
       "      <td>14.227470</td>\n",
       "      <td>5.0</td>\n",
       "      <td>3</td>\n",
       "      <td>0.020398</td>\n",
       "      <td>0.000000</td>\n",
       "      <td>0</td>\n",
       "    </tr>\n",
       "    <tr>\n",
       "      <th>1</th>\n",
       "      <td>0</td>\n",
       "      <td>1</td>\n",
       "      <td>0</td>\n",
       "      <td>0</td>\n",
       "      <td>1</td>\n",
       "      <td>12</td>\n",
       "      <td>1</td>\n",
       "      <td>31</td>\n",
       "      <td>113.202938</td>\n",
       "      <td>12.0</td>\n",
       "      <td>7</td>\n",
       "      <td>1.922936</td>\n",
       "      <td>1.910244</td>\n",
       "      <td>0</td>\n",
       "    </tr>\n",
       "    <tr>\n",
       "      <th>2</th>\n",
       "      <td>0</td>\n",
       "      <td>1</td>\n",
       "      <td>1</td>\n",
       "      <td>0</td>\n",
       "      <td>1</td>\n",
       "      <td>1</td>\n",
       "      <td>0</td>\n",
       "      <td>28</td>\n",
       "      <td>129.448479</td>\n",
       "      <td>1.0</td>\n",
       "      <td>2</td>\n",
       "      <td>1.859098</td>\n",
       "      <td>1.736502</td>\n",
       "      <td>0</td>\n",
       "    </tr>\n",
       "    <tr>\n",
       "      <th>3</th>\n",
       "      <td>0</td>\n",
       "      <td>1</td>\n",
       "      <td>1</td>\n",
       "      <td>1</td>\n",
       "      <td>1</td>\n",
       "      <td>12</td>\n",
       "      <td>1</td>\n",
       "      <td>33</td>\n",
       "      <td>62.669863</td>\n",
       "      <td>12.0</td>\n",
       "      <td>2</td>\n",
       "      <td>3.205633</td>\n",
       "      <td>3.357215</td>\n",
       "      <td>0</td>\n",
       "    </tr>\n",
       "    <tr>\n",
       "      <th>4</th>\n",
       "      <td>1</td>\n",
       "      <td>1</td>\n",
       "      <td>1</td>\n",
       "      <td>1</td>\n",
       "      <td>1</td>\n",
       "      <td>1</td>\n",
       "      <td>0</td>\n",
       "      <td>26</td>\n",
       "      <td>198.362265</td>\n",
       "      <td>1.0</td>\n",
       "      <td>3</td>\n",
       "      <td>1.113884</td>\n",
       "      <td>1.120078</td>\n",
       "      <td>0</td>\n",
       "    </tr>\n",
       "  </tbody>\n",
       "</table>\n",
       "</div>"
      ],
      "text/plain": [
       "   gender  near_location  partner  promo_friends  phone  contract_period  \\\n",
       "0       1              1        1              1      0                6   \n",
       "1       0              1        0              0      1               12   \n",
       "2       0              1        1              0      1                1   \n",
       "3       0              1        1              1      1               12   \n",
       "4       1              1        1              1      1                1   \n",
       "\n",
       "   group_visits  age  avg_additional_charges_total  month_to_end_contract  \\\n",
       "0             1   29                     14.227470                    5.0   \n",
       "1             1   31                    113.202938                   12.0   \n",
       "2             0   28                    129.448479                    1.0   \n",
       "3             1   33                     62.669863                   12.0   \n",
       "4             0   26                    198.362265                    1.0   \n",
       "\n",
       "   lifetime  avg_class_frequency_total  avg_class_frequency_current_month  \\\n",
       "0         3                   0.020398                           0.000000   \n",
       "1         7                   1.922936                           1.910244   \n",
       "2         2                   1.859098                           1.736502   \n",
       "3         2                   3.205633                           3.357215   \n",
       "4         3                   1.113884                           1.120078   \n",
       "\n",
       "   churn  \n",
       "0      0  \n",
       "1      0  \n",
       "2      0  \n",
       "3      0  \n",
       "4      0  "
      ]
     },
     "execution_count": 2,
     "metadata": {},
     "output_type": "execute_result"
    }
   ],
   "source": [
    "# загрузка датасета (полный путь не приводится, т.к. датасет не размещен в открытом доступе)\n",
    "df = pd.read_csv(path)\n",
    "\n",
    "# приведение наименований колонок к \"змеиному\" регистру\n",
    "df.columns = df.columns.str.lower()\n",
    "\n",
    "# вывод фрагмента таблицы\n",
    "df.head()"
   ]
  },
  {
   "cell_type": "markdown",
   "metadata": {},
   "source": [
    "Набор данных включает следующие поля:\n",
    "* Данные клиента за предыдущий до проверки факта оттока месяц:\n",
    "    * `gender` — пол;\n",
    "    * `near_location` — проживание или работа в районе, где находится фитнес-центр;\n",
    "    * `partner` — сотрудник компании-партнёра клуба (сотрудничество с компаниями, чьи сотрудники могут получать скидки на абонемент — в таком случае фитнес-центр хранит информацию о работодателе клиента);\n",
    "    * `promo_friends` — факт первоначальной записи в рамках акции «приведи друга» (использовал промо-код от знакомого при оплате первого абонемента);\n",
    "    * `phone` — наличие контактного телефона;\n",
    "    * `age` — возраст;\n",
    "    * `lifetime` — время с момента первого обращения в фитнес-центр (в месяцах).\n",
    "* Информация на основе журнала посещений, покупок и информация о текущем статусе абонемента клиента:\n",
    "    * `contract_period` — длительность текущего действующего абонемента (месяц, 6 месяцев, год);\n",
    "    * `month_to_end_contract` — срок до окончания текущего действующего абонемента (в месяцах);\n",
    "    * `group_visits` — факт посещения групповых занятий;\n",
    "    * `avg_class_frequency_total` — средняя частота посещений в неделю за все время с начала действия абонемента;\n",
    "    * `avg_class_frequency_current_month` — средняя частота посещений в неделю за предыдущий месяц;\n",
    "    * `avg_additional_charges_total` — суммарная выручка от других услуг фитнес-центра: кафе, спорттовары, косметический и массажный салон.\n",
    "* `churn` — факт оттока в текущем месяце."
   ]
  },
  {
   "cell_type": "markdown",
   "metadata": {},
   "source": [
    "Посмотрим на размер таблицы:"
   ]
  },
  {
   "cell_type": "code",
   "execution_count": 3,
   "metadata": {},
   "outputs": [
    {
     "data": {
      "text/plain": [
       "(4000, 14)"
      ]
     },
     "execution_count": 3,
     "metadata": {},
     "output_type": "execute_result"
    }
   ],
   "source": [
    "df.shape"
   ]
  },
  {
   "cell_type": "markdown",
   "metadata": {},
   "source": [
    "Таблица состоит из 4000 строк и 14 столбцов. Предоставленных данных достаточно для выполнения задач исследования."
   ]
  },
  {
   "cell_type": "markdown",
   "metadata": {},
   "source": [
    "<a id='intro2'></a>\n",
    "## Исследовательский анализ данных (EDA)"
   ]
  },
  {
   "cell_type": "markdown",
   "metadata": {},
   "source": [
    "Выведем общую информацию о таблице:"
   ]
  },
  {
   "cell_type": "code",
   "execution_count": 4,
   "metadata": {},
   "outputs": [
    {
     "name": "stdout",
     "output_type": "stream",
     "text": [
      "<class 'pandas.core.frame.DataFrame'>\n",
      "RangeIndex: 4000 entries, 0 to 3999\n",
      "Data columns (total 14 columns):\n",
      " #   Column                             Non-Null Count  Dtype  \n",
      "---  ------                             --------------  -----  \n",
      " 0   gender                             4000 non-null   int64  \n",
      " 1   near_location                      4000 non-null   int64  \n",
      " 2   partner                            4000 non-null   int64  \n",
      " 3   promo_friends                      4000 non-null   int64  \n",
      " 4   phone                              4000 non-null   int64  \n",
      " 5   contract_period                    4000 non-null   int64  \n",
      " 6   group_visits                       4000 non-null   int64  \n",
      " 7   age                                4000 non-null   int64  \n",
      " 8   avg_additional_charges_total       4000 non-null   float64\n",
      " 9   month_to_end_contract              4000 non-null   float64\n",
      " 10  lifetime                           4000 non-null   int64  \n",
      " 11  avg_class_frequency_total          4000 non-null   float64\n",
      " 12  avg_class_frequency_current_month  4000 non-null   float64\n",
      " 13  churn                              4000 non-null   int64  \n",
      "dtypes: float64(4), int64(10)\n",
      "memory usage: 437.6 KB\n"
     ]
    }
   ],
   "source": [
    "# вывод общей информации о таблице\n",
    "df.info()"
   ]
  },
  {
   "cell_type": "markdown",
   "metadata": {},
   "source": [
    "Все данные представлены в числовых форматах: целые или вещественные числа. Для выполнения задач исследования изменение типов данных не требуется.\n",
    "\n",
    "Таблица не содержит пропущенных значений."
   ]
  },
  {
   "cell_type": "markdown",
   "metadata": {},
   "source": [
    "Посмотрим, нет ли в таблице неявных дубликатов в категориальных переменных:"
   ]
  },
  {
   "cell_type": "code",
   "execution_count": 5,
   "metadata": {},
   "outputs": [
    {
     "name": "stdout",
     "output_type": "stream",
     "text": [
      "gender :  [1 0]\n",
      "near_location :  [1 0]\n",
      "partner :  [1 0]\n",
      "promo_friends :  [1 0]\n",
      "phone :  [0 1]\n",
      "contract_period :  [ 6 12  1]\n",
      "group_visits :  [1 0]\n",
      "churn :  [0 1]\n"
     ]
    }
   ],
   "source": [
    "# список категориальных признаков (включая целевую переменную)\n",
    "cat_features = ['gender', 'near_location', 'partner', 'promo_friends',\n",
    "                'phone', 'contract_period', 'group_visits', 'churn']\n",
    "\n",
    "for element in cat_features:\n",
    "    print(element, ': ', df[element].unique())"
   ]
  },
  {
   "cell_type": "markdown",
   "metadata": {},
   "source": [
    "Неявных дубликатов не обнаружено. Посмотрим, есть ли полные дубликаты:"
   ]
  },
  {
   "cell_type": "code",
   "execution_count": 6,
   "metadata": {},
   "outputs": [
    {
     "data": {
      "text/plain": [
       "0"
      ]
     },
     "execution_count": 6,
     "metadata": {},
     "output_type": "execute_result"
    }
   ],
   "source": [
    "df.duplicated().sum()"
   ]
  },
  {
   "cell_type": "markdown",
   "metadata": {},
   "source": [
    "Полных дубликатов также не обнаружено, данные готовы к исследовательскому анализу."
   ]
  },
  {
   "cell_type": "markdown",
   "metadata": {},
   "source": [
    "<a id='intro2A'></a>\n",
    "### Анализ основных статистических показателей"
   ]
  },
  {
   "cell_type": "markdown",
   "metadata": {},
   "source": [
    "Изучим средние значения и стандартные отклонения показателей:"
   ]
  },
  {
   "cell_type": "code",
   "execution_count": 7,
   "metadata": {},
   "outputs": [
    {
     "data": {
      "text/html": [
       "<style type=\"text/css\">\n",
       "</style>\n",
       "<table id=\"T_48417_\">\n",
       "  <thead>\n",
       "    <tr>\n",
       "      <th class=\"blank level0\" >&nbsp;</th>\n",
       "      <th class=\"col_heading level0 col0\" >mean</th>\n",
       "      <th class=\"col_heading level0 col1\" >std</th>\n",
       "    </tr>\n",
       "  </thead>\n",
       "  <tbody>\n",
       "    <tr>\n",
       "      <th id=\"T_48417_level0_row0\" class=\"row_heading level0 row0\" >gender</th>\n",
       "      <td id=\"T_48417_row0_col0\" class=\"data row0 col0\" >0.51</td>\n",
       "      <td id=\"T_48417_row0_col1\" class=\"data row0 col1\" >0.50</td>\n",
       "    </tr>\n",
       "    <tr>\n",
       "      <th id=\"T_48417_level0_row1\" class=\"row_heading level0 row1\" >near_location</th>\n",
       "      <td id=\"T_48417_row1_col0\" class=\"data row1 col0\" >0.85</td>\n",
       "      <td id=\"T_48417_row1_col1\" class=\"data row1 col1\" >0.36</td>\n",
       "    </tr>\n",
       "    <tr>\n",
       "      <th id=\"T_48417_level0_row2\" class=\"row_heading level0 row2\" >partner</th>\n",
       "      <td id=\"T_48417_row2_col0\" class=\"data row2 col0\" >0.49</td>\n",
       "      <td id=\"T_48417_row2_col1\" class=\"data row2 col1\" >0.50</td>\n",
       "    </tr>\n",
       "    <tr>\n",
       "      <th id=\"T_48417_level0_row3\" class=\"row_heading level0 row3\" >promo_friends</th>\n",
       "      <td id=\"T_48417_row3_col0\" class=\"data row3 col0\" >0.31</td>\n",
       "      <td id=\"T_48417_row3_col1\" class=\"data row3 col1\" >0.46</td>\n",
       "    </tr>\n",
       "    <tr>\n",
       "      <th id=\"T_48417_level0_row4\" class=\"row_heading level0 row4\" >phone</th>\n",
       "      <td id=\"T_48417_row4_col0\" class=\"data row4 col0\" >0.90</td>\n",
       "      <td id=\"T_48417_row4_col1\" class=\"data row4 col1\" >0.30</td>\n",
       "    </tr>\n",
       "    <tr>\n",
       "      <th id=\"T_48417_level0_row5\" class=\"row_heading level0 row5\" >contract_period</th>\n",
       "      <td id=\"T_48417_row5_col0\" class=\"data row5 col0\" >4.68</td>\n",
       "      <td id=\"T_48417_row5_col1\" class=\"data row5 col1\" >4.55</td>\n",
       "    </tr>\n",
       "    <tr>\n",
       "      <th id=\"T_48417_level0_row6\" class=\"row_heading level0 row6\" >group_visits</th>\n",
       "      <td id=\"T_48417_row6_col0\" class=\"data row6 col0\" >0.41</td>\n",
       "      <td id=\"T_48417_row6_col1\" class=\"data row6 col1\" >0.49</td>\n",
       "    </tr>\n",
       "    <tr>\n",
       "      <th id=\"T_48417_level0_row7\" class=\"row_heading level0 row7\" >age</th>\n",
       "      <td id=\"T_48417_row7_col0\" class=\"data row7 col0\" >29.18</td>\n",
       "      <td id=\"T_48417_row7_col1\" class=\"data row7 col1\" >3.26</td>\n",
       "    </tr>\n",
       "    <tr>\n",
       "      <th id=\"T_48417_level0_row8\" class=\"row_heading level0 row8\" >avg_additional_charges_total</th>\n",
       "      <td id=\"T_48417_row8_col0\" class=\"data row8 col0\" >146.94</td>\n",
       "      <td id=\"T_48417_row8_col1\" class=\"data row8 col1\" >96.36</td>\n",
       "    </tr>\n",
       "    <tr>\n",
       "      <th id=\"T_48417_level0_row9\" class=\"row_heading level0 row9\" >month_to_end_contract</th>\n",
       "      <td id=\"T_48417_row9_col0\" class=\"data row9 col0\" >4.32</td>\n",
       "      <td id=\"T_48417_row9_col1\" class=\"data row9 col1\" >4.19</td>\n",
       "    </tr>\n",
       "    <tr>\n",
       "      <th id=\"T_48417_level0_row10\" class=\"row_heading level0 row10\" >lifetime</th>\n",
       "      <td id=\"T_48417_row10_col0\" class=\"data row10 col0\" >3.72</td>\n",
       "      <td id=\"T_48417_row10_col1\" class=\"data row10 col1\" >3.75</td>\n",
       "    </tr>\n",
       "    <tr>\n",
       "      <th id=\"T_48417_level0_row11\" class=\"row_heading level0 row11\" >avg_class_frequency_total</th>\n",
       "      <td id=\"T_48417_row11_col0\" class=\"data row11 col0\" >1.88</td>\n",
       "      <td id=\"T_48417_row11_col1\" class=\"data row11 col1\" >0.97</td>\n",
       "    </tr>\n",
       "    <tr>\n",
       "      <th id=\"T_48417_level0_row12\" class=\"row_heading level0 row12\" >avg_class_frequency_current_month</th>\n",
       "      <td id=\"T_48417_row12_col0\" class=\"data row12 col0\" >1.77</td>\n",
       "      <td id=\"T_48417_row12_col1\" class=\"data row12 col1\" >1.05</td>\n",
       "    </tr>\n",
       "    <tr>\n",
       "      <th id=\"T_48417_level0_row13\" class=\"row_heading level0 row13\" >churn</th>\n",
       "      <td id=\"T_48417_row13_col0\" class=\"data row13 col0\" >0.27</td>\n",
       "      <td id=\"T_48417_row13_col1\" class=\"data row13 col1\" >0.44</td>\n",
       "    </tr>\n",
       "  </tbody>\n",
       "</table>\n"
      ],
      "text/plain": [
       "<pandas.io.formats.style.Styler at 0x224bf2ccf70>"
      ]
     },
     "execution_count": 7,
     "metadata": {},
     "output_type": "execute_result"
    }
   ],
   "source": [
    "# вывод отдельных статистических показателей\n",
    "df.describe().loc[['mean', 'std']].T.style.format('{:.2f}')"
   ]
  },
  {
   "cell_type": "markdown",
   "metadata": {},
   "source": [
    "Общее наблюдение: у переменных довольно разные по величине стандартные отклонения. Это говорит о том, что их возможно нужно стандартизировать перед обучением. Хотя стандартизация не для всех моделей является обязательной, иногда проще стандартизировать всё, а потом уже подбирать модели."
   ]
  },
  {
   "cell_type": "markdown",
   "metadata": {},
   "source": [
    "Основные выводы по признакам (портрет среднестатистического клиента):\n",
    "* `gender` — распределение клиентов по полу в датасете примерно одинаковое;\n",
    "* `near_location` — около 85% клиентов выбрали фитнес-клуб по параметру близости к району проживания или работы;\n",
    "* `partner` — примерно половина клиентов являются сотрудниками компаний-партнёров клуба;\n",
    "* `promo_friends` — около 30% клиентов пришли в клуб по акции «приведи друга» (использовали промо-код от знакомого при оплате первого абонемента);\n",
    "* `phone` — примерно 90% клиентов оставили в клубе контактный телефон;\n",
    "* `contract_period` — средняя длительность текущего действующего абонемента составляет около 5 месяцев;\n",
    "* `group_visits` — около 40% клиентов посещают групповые занятия;\n",
    "* `age` — средний возраст клиентов 29 лет, стандартное отклонение от среднего значения небольшое: +/- 3 года;\n",
    "* `avg_additional_charges_total` — средняя суммарная выручка от дополнительных услуг фитнес-центра составляет 147 у.е. на 1 клиента, разброс значений от среднего значительный\n",
    "* `month_to_end_contract` — срок до окончания текущего абонемента составляет в среднем по клиентам около 4 месяцев, разброс значений большой;\n",
    "* `lifetime` — среднее время с момента первого обращения в фитнес-центр составляет 3.7 месяцев, разброс значений большой.\n",
    "* `avg_class_frequency_total` — средняя частота посещений в неделю за все время с начала действия абонемента составляет 1.9 раз, разброс значений значителей;\n",
    "* `avg_class_frequency_current_month` — средняя частота посещений в неделю за предыдущий месяц составляет 1.8 раз (близка к текущему показателю), разброс значений значителен;\n",
    "* `churn` — около 27% клиентов в текущем месяце отказались от посещения клуба."
   ]
  },
  {
   "cell_type": "markdown",
   "metadata": {},
   "source": [
    "<a id='intro2B'></a>\n",
    "### Анализ средних значений признаков по группам клиентов"
   ]
  },
  {
   "cell_type": "markdown",
   "metadata": {},
   "source": [
    "Теперь изучим средние значения признаков в разбивке по двум группам клиентов: тем, кто ушел в отток, и тем, кто остался:"
   ]
  },
  {
   "cell_type": "code",
   "execution_count": 8,
   "metadata": {},
   "outputs": [
    {
     "data": {
      "text/html": [
       "<style type=\"text/css\">\n",
       "</style>\n",
       "<table id=\"T_6c70c_\">\n",
       "  <thead>\n",
       "    <tr>\n",
       "      <th class=\"index_name level0\" >churn</th>\n",
       "      <th class=\"col_heading level0 col0\" >0</th>\n",
       "      <th class=\"col_heading level0 col1\" >1</th>\n",
       "      <th class=\"col_heading level0 col2\" >diff</th>\n",
       "    </tr>\n",
       "  </thead>\n",
       "  <tbody>\n",
       "    <tr>\n",
       "      <th id=\"T_6c70c_level0_row0\" class=\"row_heading level0 row0\" >gender</th>\n",
       "      <td id=\"T_6c70c_row0_col0\" class=\"data row0 col0\" >0.51</td>\n",
       "      <td id=\"T_6c70c_row0_col1\" class=\"data row0 col1\" >0.51</td>\n",
       "      <td id=\"T_6c70c_row0_col2\" class=\"data row0 col2\" >0.00</td>\n",
       "    </tr>\n",
       "    <tr>\n",
       "      <th id=\"T_6c70c_level0_row1\" class=\"row_heading level0 row1\" >near_location</th>\n",
       "      <td id=\"T_6c70c_row1_col0\" class=\"data row1 col0\" >0.87</td>\n",
       "      <td id=\"T_6c70c_row1_col1\" class=\"data row1 col1\" >0.77</td>\n",
       "      <td id=\"T_6c70c_row1_col2\" class=\"data row1 col2\" >-0.10</td>\n",
       "    </tr>\n",
       "    <tr>\n",
       "      <th id=\"T_6c70c_level0_row2\" class=\"row_heading level0 row2\" >partner</th>\n",
       "      <td id=\"T_6c70c_row2_col0\" class=\"data row2 col0\" >0.53</td>\n",
       "      <td id=\"T_6c70c_row2_col1\" class=\"data row2 col1\" >0.36</td>\n",
       "      <td id=\"T_6c70c_row2_col2\" class=\"data row2 col2\" >-0.18</td>\n",
       "    </tr>\n",
       "    <tr>\n",
       "      <th id=\"T_6c70c_level0_row3\" class=\"row_heading level0 row3\" >promo_friends</th>\n",
       "      <td id=\"T_6c70c_row3_col0\" class=\"data row3 col0\" >0.35</td>\n",
       "      <td id=\"T_6c70c_row3_col1\" class=\"data row3 col1\" >0.18</td>\n",
       "      <td id=\"T_6c70c_row3_col2\" class=\"data row3 col2\" >-0.17</td>\n",
       "    </tr>\n",
       "    <tr>\n",
       "      <th id=\"T_6c70c_level0_row4\" class=\"row_heading level0 row4\" >phone</th>\n",
       "      <td id=\"T_6c70c_row4_col0\" class=\"data row4 col0\" >0.90</td>\n",
       "      <td id=\"T_6c70c_row4_col1\" class=\"data row4 col1\" >0.90</td>\n",
       "      <td id=\"T_6c70c_row4_col2\" class=\"data row4 col2\" >-0.00</td>\n",
       "    </tr>\n",
       "    <tr>\n",
       "      <th id=\"T_6c70c_level0_row5\" class=\"row_heading level0 row5\" >contract_period</th>\n",
       "      <td id=\"T_6c70c_row5_col0\" class=\"data row5 col0\" >5.75</td>\n",
       "      <td id=\"T_6c70c_row5_col1\" class=\"data row5 col1\" >1.73</td>\n",
       "      <td id=\"T_6c70c_row5_col2\" class=\"data row5 col2\" >-4.02</td>\n",
       "    </tr>\n",
       "    <tr>\n",
       "      <th id=\"T_6c70c_level0_row6\" class=\"row_heading level0 row6\" >group_visits</th>\n",
       "      <td id=\"T_6c70c_row6_col0\" class=\"data row6 col0\" >0.46</td>\n",
       "      <td id=\"T_6c70c_row6_col1\" class=\"data row6 col1\" >0.27</td>\n",
       "      <td id=\"T_6c70c_row6_col2\" class=\"data row6 col2\" >-0.20</td>\n",
       "    </tr>\n",
       "    <tr>\n",
       "      <th id=\"T_6c70c_level0_row7\" class=\"row_heading level0 row7\" >age</th>\n",
       "      <td id=\"T_6c70c_row7_col0\" class=\"data row7 col0\" >29.98</td>\n",
       "      <td id=\"T_6c70c_row7_col1\" class=\"data row7 col1\" >26.99</td>\n",
       "      <td id=\"T_6c70c_row7_col2\" class=\"data row7 col2\" >-2.99</td>\n",
       "    </tr>\n",
       "    <tr>\n",
       "      <th id=\"T_6c70c_level0_row8\" class=\"row_heading level0 row8\" >avg_additional_charges_total</th>\n",
       "      <td id=\"T_6c70c_row8_col0\" class=\"data row8 col0\" >158.45</td>\n",
       "      <td id=\"T_6c70c_row8_col1\" class=\"data row8 col1\" >115.08</td>\n",
       "      <td id=\"T_6c70c_row8_col2\" class=\"data row8 col2\" >-43.36</td>\n",
       "    </tr>\n",
       "    <tr>\n",
       "      <th id=\"T_6c70c_level0_row9\" class=\"row_heading level0 row9\" >month_to_end_contract</th>\n",
       "      <td id=\"T_6c70c_row9_col0\" class=\"data row9 col0\" >5.28</td>\n",
       "      <td id=\"T_6c70c_row9_col1\" class=\"data row9 col1\" >1.66</td>\n",
       "      <td id=\"T_6c70c_row9_col2\" class=\"data row9 col2\" >-3.62</td>\n",
       "    </tr>\n",
       "    <tr>\n",
       "      <th id=\"T_6c70c_level0_row10\" class=\"row_heading level0 row10\" >lifetime</th>\n",
       "      <td id=\"T_6c70c_row10_col0\" class=\"data row10 col0\" >4.71</td>\n",
       "      <td id=\"T_6c70c_row10_col1\" class=\"data row10 col1\" >0.99</td>\n",
       "      <td id=\"T_6c70c_row10_col2\" class=\"data row10 col2\" >-3.72</td>\n",
       "    </tr>\n",
       "    <tr>\n",
       "      <th id=\"T_6c70c_level0_row11\" class=\"row_heading level0 row11\" >avg_class_frequency_total</th>\n",
       "      <td id=\"T_6c70c_row11_col0\" class=\"data row11 col0\" >2.02</td>\n",
       "      <td id=\"T_6c70c_row11_col1\" class=\"data row11 col1\" >1.47</td>\n",
       "      <td id=\"T_6c70c_row11_col2\" class=\"data row11 col2\" >-0.55</td>\n",
       "    </tr>\n",
       "    <tr>\n",
       "      <th id=\"T_6c70c_level0_row12\" class=\"row_heading level0 row12\" >avg_class_frequency_current_month</th>\n",
       "      <td id=\"T_6c70c_row12_col0\" class=\"data row12 col0\" >2.03</td>\n",
       "      <td id=\"T_6c70c_row12_col1\" class=\"data row12 col1\" >1.04</td>\n",
       "      <td id=\"T_6c70c_row12_col2\" class=\"data row12 col2\" >-0.98</td>\n",
       "    </tr>\n",
       "  </tbody>\n",
       "</table>\n"
      ],
      "text/plain": [
       "<pandas.io.formats.style.Styler at 0x224bf373460>"
      ]
     },
     "execution_count": 8,
     "metadata": {},
     "output_type": "execute_result"
    }
   ],
   "source": [
    "# группировка таблицы с расчетом средних значений по столбцам\n",
    "df_grouped = df.groupby('churn').mean().T\n",
    "df_grouped['diff'] = df_grouped[1] - df_grouped[0]\n",
    "df_grouped.style.format('{:.2f}')"
   ]
  },
  {
   "cell_type": "markdown",
   "metadata": {},
   "source": [
    "Основные выводы по признакам приведем по ушедшим клиентам в сравнении с оставшимися (описываем только различия):\n",
    "* `near_location` — среди ушедших клиентов доля живущих/работающих рядом с клубом на 10 п.п. меньше;\n",
    "* `partner` — среди ушедших клиентов доля сотрудников компаний-партнёров клуба на 18 п.п. меньше;\n",
    "* `promo_friends` — среди ушедших клиентов на 17 п.п. меньше людей, пришежших в клуб в рамках акции «приведи друга»;\n",
    "* `contract_period` — ушедшие клиенты в среднем заключали контракты с клубом на более короткий срок: средняя длительность текущего абонемента у них составила 1.73 месяца против 5.75 месяцев у оставшихся клиентов;\n",
    "* `group_visits` — среди ушедших клиентов доля посещавших групповые занятия на 20 п.п. меньше;\n",
    "* `age` — ушедшие клиенты, в среднем, на 3 года моложе оставшихся;\n",
    "* `avg_additional_charges_total` — средняя суммарная выручка от дополнительных услуг фитнес-центра по ушедшим клиентам на 43 у.е. ниже, чем по оставшимся;\n",
    "* `month_to_end_contract` — клиенты уходили с оставшимся средним сроком до окончания текущего абонемента около 1.7 месяцев;\n",
    "* `lifetime` — среднее время с момента первого обращения в фитнес-центр по ушедшим клиентам составляет всего 1 месяц против 5 месяцев по оставшимся. Это говорит о том, что, в среднем, уходят недавно привлеченные клиенты;\n",
    "* `avg_class_frequency_total` — ушедшие клиенты, в среднем, на 25 п.п. реже посещали занятия за все время с начала действия абонемента;\n",
    "* `avg_class_frequency_current_month` — ушедшие клиенты, в среднем, вполовину реже посещали занятия в течение последнего месяца перед уходом;"
   ]
  },
  {
   "cell_type": "markdown",
   "metadata": {},
   "source": [
    "<a id='intro2C'></a>\n",
    "### Визуализация распределения признаков по группам клиентов"
   ]
  },
  {
   "cell_type": "markdown",
   "metadata": {},
   "source": [
    "Визуализируем распределения признаков по группам клиентов (оставшиеся и ушедшие). Для наглядности выберем разные типы графиков для категориальных и числовых переменных:"
   ]
  },
  {
   "cell_type": "code",
   "execution_count": 9,
   "metadata": {},
   "outputs": [],
   "source": [
    "# список числовых признаков\n",
    "num_features = ['lifetime', 'avg_class_frequency_total', 'avg_class_frequency_current_month',\n",
    "                'month_to_end_contract', 'age', 'avg_additional_charges_total']\n",
    "\n",
    "# список категориальных признаков\n",
    "cat_features = ['gender', 'near_location', 'partner', 'promo_friends',\n",
    "                'phone', 'group_visits', 'contract_period']"
   ]
  },
  {
   "cell_type": "code",
   "execution_count": 10,
   "metadata": {},
   "outputs": [
    {
     "data": {
      "image/png": "[encoded data removed]",
      "text/plain": [
       "<Figure size 1080x720 with 6 Axes>"
      ]
     },
     "metadata": {
      "needs_background": "light"
     },
     "output_type": "display_data"
    }
   ],
   "source": [
    "# построение графиков для числовых признаков\n",
    "fig = plt.figure(figsize=(15, 10))\n",
    "\n",
    "for i in range(len(num_features)):\n",
    "    axi = fig.add_subplot(3,2,i+1)\n",
    "    sns.distplot(df.loc[df['churn'] == 0][num_features[i]],ax=axi)\n",
    "    sns.distplot(df.loc[df['churn'] == 1][num_features[i]], ax=axi)\n",
    "    axi.legend(['churn=0', 'churn=1'])\n",
    "    axi.set_title(num_features[i])\n",
    "    axi.set_xlabel('')\n",
    "\n",
    "fig.tight_layout()\n",
    "plt.show()"
   ]
  },
  {
   "cell_type": "code",
   "execution_count": 11,
   "metadata": {},
   "outputs": [
    {
     "data": {
      "image/png": "[encoded data removed]",
      "text/plain": [
       "<Figure size 1080x1080 with 7 Axes>"
      ]
     },
     "metadata": {
      "needs_background": "light"
     },
     "output_type": "display_data"
    }
   ],
   "source": [
    "# построение графиков для категориальных признаков\n",
    "fig = plt.figure(figsize=(15, 15))\n",
    "\n",
    "for i in range(len(cat_features)):\n",
    "    axi = fig.add_subplot(4,2,i+1)\n",
    "    sns.countplot(x=cat_features[i], hue='churn', data=df, palette='Blues', ax=axi)\n",
    "    axi.set_title(cat_features[i])\n",
    "    axi.set_xlabel('')\n",
    "\n",
    "fig.tight_layout()\n",
    "plt.show()"
   ]
  },
  {
   "cell_type": "markdown",
   "metadata": {},
   "source": [
    "Графики дополняют выводы, сформулированные выше по ушедшим клиентам в сравнении с оставшимися. Кроме того, по графикам видно, что в числовых переменных нет явных выбросов, а их распределения далеки от нормального распределения: в ходе разработки моделей потребуется стандартизация и нормализация."
   ]
  },
  {
   "cell_type": "markdown",
   "metadata": {},
   "source": [
    "<a id='intro2D'></a>\n",
    "### Матрица корреляций"
   ]
  },
  {
   "cell_type": "markdown",
   "metadata": {},
   "source": [
    "Построим корреляционную матрицу признаков набора данных и визуализируем ее с помощью тепловой карты:"
   ]
  },
  {
   "cell_type": "code",
   "execution_count": 12,
   "metadata": {},
   "outputs": [
    {
     "data": {
      "image/png": "[encoded data removed]",
      "text/plain": [
       "<Figure size 1080x360 with 2 Axes>"
      ]
     },
     "metadata": {
      "needs_background": "light"
     },
     "output_type": "display_data"
    }
   ],
   "source": [
    "# тепловая карту с подписями для матрицы корреляций\n",
    "fig = plt.figure(figsize=(15, 5))\n",
    "sns.heatmap(df.corr(), annot=True, cmap='Blues')\n",
    "plt.show()"
   ]
  },
  {
   "cell_type": "markdown",
   "metadata": {},
   "source": [
    "По матрице корреляций можно сделать следующие выводы:\n",
    "* в таблице нет признаков, которые значительно коррелируют с целевой переменной оттока;\n",
    "* есть две пары признаков, которые сильно коррелируют между собой: `contract_period` - `month_to_end_contract` и `avg_class_frequency_total` - `avg_class_current_month`, что логично по смыслу этих показателей (один вытекает из другого). Для линейных моделей взаимная корреляция признаков нежелательна, поэтому необходимо будет учесть обнаруженный факт при их построении."
   ]
  },
  {
   "cell_type": "markdown",
   "metadata": {},
   "source": [
    "<a id='intro2E'></a>\n",
    "### Промежуточный вывод"
   ]
  },
  {
   "cell_type": "markdown",
   "metadata": {},
   "source": [
    "В ходе исследовательского анализа данных сформулированы следующие выводы:\n",
    "* формат данные в исходной таблице подходит для осуществления дальнейщих задач по построению моделей (всем категориальным признакам присвоены числовые значения), пропуски данных и дубликаты отсутствуют;\n",
    "* явных выбросов в числовых данных нет, их распределения далеки от нормального распределения: в ходе разработки моделей потребуется стандартизация и нормализация;\n",
    "* почти все признаки, описывающие ушедших клиентов, в среднем, хуже аналогичных признаков у оставшихся клиентов;\n",
    "* в таблице нет признаков, которые сильно коррелируют с целевой переменной оттока клиентов, т.е. правильный ответ на вопрос \"клиент уйдет или останется\" только на основании анализа признаков без построения модели сформулировать проблематично;\n",
    "* определены скоррелированные признаки `contract_period` - `month_to_end_contract` и `avg_class_frequency_total` - `avg_class_current_month`, факт наличия которых нужно иметь в виду при выборе моделей."
   ]
  },
  {
   "cell_type": "markdown",
   "metadata": {},
   "source": [
    "<a id='intro3'></a>\n",
    "## Модель прогнозирования оттока клиентов"
   ]
  },
  {
   "cell_type": "markdown",
   "metadata": {},
   "source": [
    "<a id='intro3A'></a>\n",
    "### Сравнение моделей"
   ]
  },
  {
   "cell_type": "markdown",
   "metadata": {},
   "source": [
    "Построим модель бинарной классификации клиентов, где целевым признаком будет факт оттока клиента в следующем месяце."
   ]
  },
  {
   "cell_type": "markdown",
   "metadata": {},
   "source": [
    "Для начала посмотрим на имеющиеся данные в столбце `churn` (целевая переменная) и сделаем вывод о балансе классов:"
   ]
  },
  {
   "cell_type": "code",
   "execution_count": 13,
   "metadata": {},
   "outputs": [
    {
     "name": "stdout",
     "output_type": "stream",
     "text": [
      "Соотношение классов в %:\n",
      "0    73.0\n",
      "1    27.0\n",
      "Name: churn, dtype: float64\n",
      "\n"
     ]
    }
   ],
   "source": [
    "# посмотрим, как соотносятся классы набора данных\n",
    "print('Соотношение классов в %:')\n",
    "print(round(df['churn'].value_counts()/4000*100))\n",
    "print()"
   ]
  },
  {
   "cell_type": "markdown",
   "metadata": {},
   "source": [
    "Видим, что с точки зрения классов \"0 - клиент остался\" и \"1 - клиент ушел\" наши данные несбалансированы: в отток уходят 27% клиентов из всей выборки. Этот факт можно будет учесть при разбиении выборок на обучающую и валидационную и при отладке метрик финальной модели."
   ]
  },
  {
   "cell_type": "markdown",
   "metadata": {},
   "source": [
    "На основании исходных данных выделим признаки (матрица X) и целевую переменную (y), при этом удалим по одному из признаков из каждой пары, показавшей высокую корреляцию на предыдущем шаге. После этого разделим модель на обучающую и валидационную выборки в пропорциях 80 на 20 и проведем стандартизацию признаков. Стандартизация необходима как для построения линейных моделей, так и моделей, чувствительных к расстояниям между объектами, например, кластеризации (будем строить на следующем шаге)."
   ]
  },
  {
   "cell_type": "code",
   "execution_count": 14,
   "metadata": {},
   "outputs": [],
   "source": [
    "# разделим данные на признаки (матрица X) и целевую переменную (y)\n",
    "X = df.drop(columns=['churn', 'contract_period', 'avg_class_frequency_total'])\n",
    "y = df['churn']\n",
    "\n",
    "# разделим модель на обучающую и валидационную выборку с учетом пропорции классов в исходной выборке\n",
    "X_train, X_test, y_train, y_test = train_test_split(X, y, test_size=0.2, random_state=0, stratify = y)\n",
    "\n",
    "# создадим \"стандартизатор\" - объект класса StandardScaler и применим его к обучающей выборке\n",
    "scaler = StandardScaler()\n",
    "# обучим \"стандартизатор\" на обучающей выборке и одновременно трансформируем матрицу для обучающей выборки\n",
    "X_train_st = scaler.fit_transform(X_train) \n",
    "# применим стандартизацию к матрице признаков для тестовой выборки\n",
    "X_test_st = scaler.transform(X_test)"
   ]
  },
  {
   "cell_type": "markdown",
   "metadata": {},
   "source": [
    "Создадим функцию, с помощью которой сможем обучать модели и сравнивать их качество, функция последовательно будет выполнять следующие действия:\n",
    "* обучать модель на обучающей выборке;\n",
    "* делать прогноз на валидационных данных;\n",
    "* выводить метрики Accuracy, Precision, Recall для прогнозов, которые выдаст модель на валидационной выборке."
   ]
  },
  {
   "cell_type": "code",
   "execution_count": 15,
   "metadata": {},
   "outputs": [],
   "source": [
    "# функция, которая принимает на вход модель и данные и выводит метрики\n",
    "def make_prediction(model, X_train, y_train, X_test, y_test, model_label):\n",
    "    # задаем тип модели\n",
    "    model = model\n",
    "    # обучаем модель на train-выборке\n",
    "    model.fit(X_train, y_train)\n",
    "    # делаем прогнозы для test-выборки\n",
    "    y_pred = model.predict(X_test)\n",
    "    # выводим название модели и метрики\n",
    "    print(model_label)\n",
    "    print(\n",
    "        '  Accuracy: {:.2f} Precision: {:.2f} Recall: {:.2f}'.format(\n",
    "            accuracy_score(y_test, y_pred),\n",
    "            precision_score(y_test, y_pred),\n",
    "            recall_score(y_test, y_pred)\n",
    "        )\n",
    "    ) "
   ]
  },
  {
   "cell_type": "markdown",
   "metadata": {},
   "source": [
    "Для прогнозирования оттока клиентов выберем две модели - Логистическую регрессию и Случайный лес. С помощью созданной функции обучим модели и оценим их метрики на валидационной выборке:"
   ]
  },
  {
   "cell_type": "code",
   "execution_count": 16,
   "metadata": {},
   "outputs": [
    {
     "name": "stdout",
     "output_type": "stream",
     "text": [
      "\n",
      "Логистическая регрессия:\n",
      "  Accuracy: 0.92 Precision: 0.84 Recall: 0.84\n",
      "\n",
      "Случайный лес:\n",
      "  Accuracy: 0.91 Precision: 0.85 Recall: 0.80\n"
     ]
    }
   ],
   "source": [
    "make_prediction(\n",
    "    model=LogisticRegression(solver='liblinear', random_state=0),\n",
    "    X_train=X_train_st,\n",
    "    y_train=y_train,\n",
    "    X_test=X_test_st,\n",
    "    y_test=y_test,\n",
    "    model_label='\\nЛогистическая регрессия:'    \n",
    ")\n",
    "\n",
    "make_prediction(\n",
    "    model=RandomForestClassifier(n_estimators = 100, random_state=0),\n",
    "    X_train=X_train_st,\n",
    "    y_train=y_train,\n",
    "    X_test=X_test_st,\n",
    "    y_test=y_test,\n",
    "    model_label='\\nСлучайный лес:'    \n",
    ")"
   ]
  },
  {
   "cell_type": "markdown",
   "metadata": {},
   "source": [
    "Видим, что метрики обеих моделей очень близки друг к другу:\n",
    "- обе модели дают чуть больше 90% правильных ответов - отличный показатель;\n",
    "- обе модели делают прогнозы с достойной точностью, при этом модель Случайного леса обладает чуть более высокой точностью и дает 85% правильных ответов среди целевого класса;\n",
    "- по метрике полноты Логистическая регрессия показывает себя лучше Случайного леса и обнаруживает 84% реальных объектов целевого класса."
   ]
  },
  {
   "cell_type": "markdown",
   "metadata": {},
   "source": [
    "<a id='intro3B'></a>\n",
    "### Выбор финальной модели, интерпретация результатов"
   ]
  },
  {
   "cell_type": "markdown",
   "metadata": {},
   "source": [
    "В нашей задаче метрику Recall (полнота) логично считать целевой метрикой, поскольку чем больше реальных объектов из класса \"1 - клиент ушел\" модель может обнаружить, тем большую ценность для бизнеса она будет представлять. При этом чем ниже точность модели (метрика Precision), тем больше ложно позитивных ответов формирует модель внутри целевого \"1 - клиент ушел\". При прогнозировании на следующий месяц модель с низкой точностью по части клиентов предскажет, что они уйдут, а по факту они останутся, т.е. модель будет чаще срабатывать ложно. При этом гораздо лучше будет принять превентивные меры по предотвращению ухода таких клиентов (например, опрос с целью выяснить намерения) и понять, что тревога была ложная (низкая метрика точности), чем \"прозевать\" настоящий отток (низкая метрика полноты). \n",
    "\n",
    "Выберем в качестве финальной модели Логистическую регрессию и попробуем увеличить метрику Recall (полнота) через обучение модели с учетом баланса классов (гиперпараметр class_weight='balanced'):"
   ]
  },
  {
   "cell_type": "code",
   "execution_count": 17,
   "metadata": {},
   "outputs": [
    {
     "name": "stdout",
     "output_type": "stream",
     "text": [
      "\n",
      "Логистическая регрессия: метрики без учета баланса классов\n",
      "  Accuracy: 0.92 Precision: 0.84 Recall: 0.84\n",
      "\n",
      "Логистическая регрессия: метрики c учетом баланса классов\n",
      "  Accuracy: 0.90 Precision: 0.74 Recall: 0.94\n"
     ]
    }
   ],
   "source": [
    "make_prediction(\n",
    "    model=LogisticRegression(solver='liblinear', random_state=0),\n",
    "    X_train=X_train_st,\n",
    "    y_train=y_train,\n",
    "    X_test=X_test_st,\n",
    "    y_test=y_test,\n",
    "    model_label='\\nЛогистическая регрессия: метрики без учета баланса классов'    \n",
    ")\n",
    "\n",
    "make_prediction(\n",
    "    model=LogisticRegression(solver='liblinear', random_state=0, class_weight='balanced'),\n",
    "    X_train=X_train_st,\n",
    "    y_train=y_train,\n",
    "    X_test=X_test_st,\n",
    "    y_test=y_test,\n",
    "    model_label='\\nЛогистическая регрессия: метрики c учетом баланса классов'    \n",
    ")"
   ]
  },
  {
   "cell_type": "markdown",
   "metadata": {},
   "source": [
    "Видим, целевая метрика Recall улучшилась на 10 п.п.: теперь модель обнаруживает 94% реальных клиентов, которые по факту ушли в отток. Метрика Accuracy упала совсем незначительно, а вот метрика Precision снизилась на 10 п.п., что логично, поскольку точность и полнота модели работают на минимизацию противоположных рисков."
   ]
  },
  {
   "cell_type": "markdown",
   "metadata": {},
   "source": [
    "Попробуем проинтерпретировать финальную модель через анализ важности признаков (в случае с линейными моделями ее показывают модули коэффициентов регрессии):"
   ]
  },
  {
   "cell_type": "code",
   "execution_count": 18,
   "metadata": {},
   "outputs": [
    {
     "data": {
      "text/html": [
       "<div>\n",
       "<style scoped>\n",
       "    .dataframe tbody tr th:only-of-type {\n",
       "        vertical-align: middle;\n",
       "    }\n",
       "\n",
       "    .dataframe tbody tr th {\n",
       "        vertical-align: top;\n",
       "    }\n",
       "\n",
       "    .dataframe thead th {\n",
       "        text-align: right;\n",
       "    }\n",
       "</style>\n",
       "<table border=\"1\" class=\"dataframe\">\n",
       "  <thead>\n",
       "    <tr style=\"text-align: right;\">\n",
       "      <th></th>\n",
       "      <th>feature</th>\n",
       "      <th>weight</th>\n",
       "      <th>importance</th>\n",
       "    </tr>\n",
       "  </thead>\n",
       "  <tbody>\n",
       "    <tr>\n",
       "      <th>9</th>\n",
       "      <td>lifetime</td>\n",
       "      <td>-3.522635</td>\n",
       "      <td>3.522635</td>\n",
       "    </tr>\n",
       "    <tr>\n",
       "      <th>8</th>\n",
       "      <td>month_to_end_contract</td>\n",
       "      <td>-1.358286</td>\n",
       "      <td>1.358286</td>\n",
       "    </tr>\n",
       "    <tr>\n",
       "      <th>10</th>\n",
       "      <td>avg_class_frequency_current_month</td>\n",
       "      <td>-1.329797</td>\n",
       "      <td>1.329797</td>\n",
       "    </tr>\n",
       "    <tr>\n",
       "      <th>6</th>\n",
       "      <td>age</td>\n",
       "      <td>-1.160571</td>\n",
       "      <td>1.160571</td>\n",
       "    </tr>\n",
       "    <tr>\n",
       "      <th>7</th>\n",
       "      <td>avg_additional_charges_total</td>\n",
       "      <td>-0.563813</td>\n",
       "      <td>0.563813</td>\n",
       "    </tr>\n",
       "    <tr>\n",
       "      <th>5</th>\n",
       "      <td>group_visits</td>\n",
       "      <td>-0.378206</td>\n",
       "      <td>0.378206</td>\n",
       "    </tr>\n",
       "    <tr>\n",
       "      <th>3</th>\n",
       "      <td>promo_friends</td>\n",
       "      <td>-0.150352</td>\n",
       "      <td>0.150352</td>\n",
       "    </tr>\n",
       "    <tr>\n",
       "      <th>1</th>\n",
       "      <td>near_location</td>\n",
       "      <td>-0.077028</td>\n",
       "      <td>0.077028</td>\n",
       "    </tr>\n",
       "    <tr>\n",
       "      <th>2</th>\n",
       "      <td>partner</td>\n",
       "      <td>-0.076135</td>\n",
       "      <td>0.076135</td>\n",
       "    </tr>\n",
       "    <tr>\n",
       "      <th>4</th>\n",
       "      <td>phone</td>\n",
       "      <td>-0.075469</td>\n",
       "      <td>0.075469</td>\n",
       "    </tr>\n",
       "    <tr>\n",
       "      <th>0</th>\n",
       "      <td>gender</td>\n",
       "      <td>0.012895</td>\n",
       "      <td>0.012895</td>\n",
       "    </tr>\n",
       "  </tbody>\n",
       "</table>\n",
       "</div>"
      ],
      "text/plain": [
       "                              feature    weight  importance\n",
       "9                            lifetime -3.522635    3.522635\n",
       "8               month_to_end_contract -1.358286    1.358286\n",
       "10  avg_class_frequency_current_month -1.329797    1.329797\n",
       "6                                 age -1.160571    1.160571\n",
       "7        avg_additional_charges_total -0.563813    0.563813\n",
       "5                        group_visits -0.378206    0.378206\n",
       "3                       promo_friends -0.150352    0.150352\n",
       "1                       near_location -0.077028    0.077028\n",
       "2                             partner -0.076135    0.076135\n",
       "4                               phone -0.075469    0.075469\n",
       "0                              gender  0.012895    0.012895"
      ]
     },
     "execution_count": 18,
     "metadata": {},
     "output_type": "execute_result"
    }
   ],
   "source": [
    "# обучим финальную модель\n",
    "final_model = LogisticRegression(solver='liblinear', random_state=0, class_weight='balanced')\n",
    "final_model.fit(X_train_st, y_train)\n",
    "# сделаем прогноз\n",
    "y_pred = final_model.predict(X_test_st)\n",
    "\n",
    "# создадим датафрейм с именами признаков, их весами и важностью (модули весов)\n",
    "pd.DataFrame({'feature': X_test.columns,\n",
    "              'weight': final_model.coef_[0],\n",
    "              'importance': abs(final_model.coef_[0])}\n",
    "            ).sort_values(by='importance', ascending=False)"
   ]
  },
  {
   "cell_type": "markdown",
   "metadata": {},
   "source": [
    "Итак, при прогнозировании оттока клиентов финальная модель придает наибольшую важность следующим признакам (топ-5):\n",
    "* время с момента первого обращения в фитнес-центр: постоянные клиенты реже уходят;\n",
    "* срок до окончания текущего абонемента: снижение этого срока увеличивает вероятность ухода;\n",
    "* средняя частота посещений в неделю за предыдущий месяц: чем чаще клиент тренируется, тем менее вероятен его уход;\n",
    "* возраст клиента: чем моложе клиенты, тем чаще они уходят (на поиски лучшего варианта);\n",
    "* выручка от прочих услуг фитнес-центра: чем больше клиент готов тратить (более лоялен), тем меньше вероятность его ухода."
   ]
  },
  {
   "cell_type": "markdown",
   "metadata": {},
   "source": [
    "<a id='intro3C'></a>\n",
    "### Промежуточный вывод"
   ]
  },
  {
   "cell_type": "markdown",
   "metadata": {},
   "source": [
    "Для прогноза оттока клиентов выбрана модель Логистической регрессии с учетом баланса классов: на валидационных данных она верно обнаруживает 94% клиентов, которые по факту ушли в отток.  Анализ важности признаков в совокупности с результатами кластеризации клиентов позволит сформулировать рекомендации для стратегии взаимодействия с клиентами и их удержания."
   ]
  },
  {
   "cell_type": "markdown",
   "metadata": {},
   "source": [
    "<a id='intro4'></a>\n",
    "## Кластеризация клиентов"
   ]
  },
  {
   "cell_type": "markdown",
   "metadata": {},
   "source": [
    "<a id='intro4A'></a>\n",
    "### Обучение и запуск модели K-means"
   ]
  },
  {
   "cell_type": "markdown",
   "metadata": {},
   "source": [
    "Для решения задачи кластеризации клиентов фитнес-центра необходимо предположить, какое количество кластеров можно выделить. Делать это будем с помощью построения матрицы расстояний для признаков (предварительно стандартизированных) и отрисовки дендрограммы:"
   ]
  },
  {
   "cell_type": "code",
   "execution_count": 19,
   "metadata": {},
   "outputs": [
    {
     "data": {
      "image/png": "[encoded data removed]",
      "text/plain": [
       "<Figure size 1080x720 with 1 Axes>"
      ]
     },
     "metadata": {
      "needs_background": "light"
     },
     "output_type": "display_data"
    }
   ],
   "source": [
    "# построим матрицу признаков\n",
    "X = df.drop(columns=['churn'])\n",
    "\n",
    "# создадим \"стандартизатор\" - объект класса StandardScaler\n",
    "scaler = StandardScaler()\n",
    "# обучим \"стандартизатор\" и преобразуем набор данных\n",
    "X_st = scaler.fit_transform(X)\n",
    "\n",
    "# создадим таблицу \"связок\" между объектами\n",
    "linked = linkage(X_st, method = 'ward')\n",
    "\n",
    "# визуализируем таблицу связок с помощью дендрограммы\n",
    "plt.figure(figsize=(15, 10))  \n",
    "dendrogram(linked, orientation='top')\n",
    "plt.title('Иерархическая кластеризация клиентов')\n",
    "plt.show() "
   ]
  },
  {
   "cell_type": "markdown",
   "metadata": {},
   "source": [
    "Предложенное оптимальное число кластеров 4 — четыре разных цвета на графике. Мы же будем следовать поставленному ТЗ и сегментацию клиентов проведем с помощью модели кластеризации на основании алгоритма K-means с числом кластеров n=5:"
   ]
  },
  {
   "cell_type": "code",
   "execution_count": 20,
   "metadata": {},
   "outputs": [
    {
     "data": {
      "text/html": [
       "<style type=\"text/css\">\n",
       "</style>\n",
       "<table id=\"T_db1d4_\">\n",
       "  <thead>\n",
       "    <tr>\n",
       "      <th class=\"index_name level0\" >cluster</th>\n",
       "      <th class=\"col_heading level0 col0\" >0</th>\n",
       "      <th class=\"col_heading level0 col1\" >1</th>\n",
       "      <th class=\"col_heading level0 col2\" >2</th>\n",
       "      <th class=\"col_heading level0 col3\" >3</th>\n",
       "      <th class=\"col_heading level0 col4\" >4</th>\n",
       "    </tr>\n",
       "  </thead>\n",
       "  <tbody>\n",
       "    <tr>\n",
       "      <th id=\"T_db1d4_level0_row0\" class=\"row_heading level0 row0\" >gender</th>\n",
       "      <td id=\"T_db1d4_row0_col0\" class=\"data row0 col0\" >0.50</td>\n",
       "      <td id=\"T_db1d4_row0_col1\" class=\"data row0 col1\" >0.52</td>\n",
       "      <td id=\"T_db1d4_row0_col2\" class=\"data row0 col2\" >0.50</td>\n",
       "      <td id=\"T_db1d4_row0_col3\" class=\"data row0 col3\" >0.49</td>\n",
       "      <td id=\"T_db1d4_row0_col4\" class=\"data row0 col4\" >0.56</td>\n",
       "    </tr>\n",
       "    <tr>\n",
       "      <th id=\"T_db1d4_level0_row1\" class=\"row_heading level0 row1\" >near_location</th>\n",
       "      <td id=\"T_db1d4_row1_col0\" class=\"data row1 col0\" >0.96</td>\n",
       "      <td id=\"T_db1d4_row1_col1\" class=\"data row1 col1\" >0.86</td>\n",
       "      <td id=\"T_db1d4_row1_col2\" class=\"data row1 col2\" >0.00</td>\n",
       "      <td id=\"T_db1d4_row1_col3\" class=\"data row1 col3\" >1.00</td>\n",
       "      <td id=\"T_db1d4_row1_col4\" class=\"data row1 col4\" >0.98</td>\n",
       "    </tr>\n",
       "    <tr>\n",
       "      <th id=\"T_db1d4_level0_row2\" class=\"row_heading level0 row2\" >partner</th>\n",
       "      <td id=\"T_db1d4_row2_col0\" class=\"data row2 col0\" >0.78</td>\n",
       "      <td id=\"T_db1d4_row2_col1\" class=\"data row2 col1\" >0.47</td>\n",
       "      <td id=\"T_db1d4_row2_col2\" class=\"data row2 col2\" >0.46</td>\n",
       "      <td id=\"T_db1d4_row2_col3\" class=\"data row2 col3\" >0.35</td>\n",
       "      <td id=\"T_db1d4_row2_col4\" class=\"data row2 col4\" >0.36</td>\n",
       "    </tr>\n",
       "    <tr>\n",
       "      <th id=\"T_db1d4_level0_row3\" class=\"row_heading level0 row3\" >promo_friends</th>\n",
       "      <td id=\"T_db1d4_row3_col0\" class=\"data row3 col0\" >0.57</td>\n",
       "      <td id=\"T_db1d4_row3_col1\" class=\"data row3 col1\" >0.31</td>\n",
       "      <td id=\"T_db1d4_row3_col2\" class=\"data row3 col2\" >0.08</td>\n",
       "      <td id=\"T_db1d4_row3_col3\" class=\"data row3 col3\" >0.24</td>\n",
       "      <td id=\"T_db1d4_row3_col4\" class=\"data row3 col4\" >0.23</td>\n",
       "    </tr>\n",
       "    <tr>\n",
       "      <th id=\"T_db1d4_level0_row4\" class=\"row_heading level0 row4\" >phone</th>\n",
       "      <td id=\"T_db1d4_row4_col0\" class=\"data row4 col0\" >1.00</td>\n",
       "      <td id=\"T_db1d4_row4_col1\" class=\"data row4 col1\" >0.00</td>\n",
       "      <td id=\"T_db1d4_row4_col2\" class=\"data row4 col2\" >1.00</td>\n",
       "      <td id=\"T_db1d4_row4_col3\" class=\"data row4 col3\" >1.00</td>\n",
       "      <td id=\"T_db1d4_row4_col4\" class=\"data row4 col4\" >1.00</td>\n",
       "    </tr>\n",
       "    <tr>\n",
       "      <th id=\"T_db1d4_level0_row5\" class=\"row_heading level0 row5\" >contract_period</th>\n",
       "      <td id=\"T_db1d4_row5_col0\" class=\"data row5 col0\" >10.89</td>\n",
       "      <td id=\"T_db1d4_row5_col1\" class=\"data row5 col1\" >4.79</td>\n",
       "      <td id=\"T_db1d4_row5_col2\" class=\"data row5 col2\" >2.35</td>\n",
       "      <td id=\"T_db1d4_row5_col3\" class=\"data row5 col3\" >1.95</td>\n",
       "      <td id=\"T_db1d4_row5_col4\" class=\"data row5 col4\" >2.67</td>\n",
       "    </tr>\n",
       "    <tr>\n",
       "      <th id=\"T_db1d4_level0_row6\" class=\"row_heading level0 row6\" >group_visits</th>\n",
       "      <td id=\"T_db1d4_row6_col0\" class=\"data row6 col0\" >0.54</td>\n",
       "      <td id=\"T_db1d4_row6_col1\" class=\"data row6 col1\" >0.43</td>\n",
       "      <td id=\"T_db1d4_row6_col2\" class=\"data row6 col2\" >0.22</td>\n",
       "      <td id=\"T_db1d4_row6_col3\" class=\"data row6 col3\" >0.34</td>\n",
       "      <td id=\"T_db1d4_row6_col4\" class=\"data row6 col4\" >0.47</td>\n",
       "    </tr>\n",
       "    <tr>\n",
       "      <th id=\"T_db1d4_level0_row7\" class=\"row_heading level0 row7\" >age</th>\n",
       "      <td id=\"T_db1d4_row7_col0\" class=\"data row7 col0\" >29.98</td>\n",
       "      <td id=\"T_db1d4_row7_col1\" class=\"data row7 col1\" >29.30</td>\n",
       "      <td id=\"T_db1d4_row7_col2\" class=\"data row7 col2\" >28.48</td>\n",
       "      <td id=\"T_db1d4_row7_col3\" class=\"data row7 col3\" >28.17</td>\n",
       "      <td id=\"T_db1d4_row7_col4\" class=\"data row7 col4\" >30.13</td>\n",
       "    </tr>\n",
       "    <tr>\n",
       "      <th id=\"T_db1d4_level0_row8\" class=\"row_heading level0 row8\" >avg_additional_charges_total</th>\n",
       "      <td id=\"T_db1d4_row8_col0\" class=\"data row8 col0\" >160.76</td>\n",
       "      <td id=\"T_db1d4_row8_col1\" class=\"data row8 col1\" >143.96</td>\n",
       "      <td id=\"T_db1d4_row8_col2\" class=\"data row8 col2\" >135.46</td>\n",
       "      <td id=\"T_db1d4_row8_col3\" class=\"data row8 col3\" >131.62</td>\n",
       "      <td id=\"T_db1d4_row8_col4\" class=\"data row8 col4\" >161.66</td>\n",
       "    </tr>\n",
       "    <tr>\n",
       "      <th id=\"T_db1d4_level0_row9\" class=\"row_heading level0 row9\" >month_to_end_contract</th>\n",
       "      <td id=\"T_db1d4_row9_col0\" class=\"data row9 col0\" >9.95</td>\n",
       "      <td id=\"T_db1d4_row9_col1\" class=\"data row9 col1\" >4.48</td>\n",
       "      <td id=\"T_db1d4_row9_col2\" class=\"data row9 col2\" >2.20</td>\n",
       "      <td id=\"T_db1d4_row9_col3\" class=\"data row9 col3\" >1.86</td>\n",
       "      <td id=\"T_db1d4_row9_col4\" class=\"data row9 col4\" >2.46</td>\n",
       "    </tr>\n",
       "    <tr>\n",
       "      <th id=\"T_db1d4_level0_row10\" class=\"row_heading level0 row10\" >lifetime</th>\n",
       "      <td id=\"T_db1d4_row10_col0\" class=\"data row10 col0\" >4.74</td>\n",
       "      <td id=\"T_db1d4_row10_col1\" class=\"data row10 col1\" >3.92</td>\n",
       "      <td id=\"T_db1d4_row10_col2\" class=\"data row10 col2\" >2.81</td>\n",
       "      <td id=\"T_db1d4_row10_col3\" class=\"data row10 col3\" >2.44</td>\n",
       "      <td id=\"T_db1d4_row10_col4\" class=\"data row10 col4\" >4.90</td>\n",
       "    </tr>\n",
       "    <tr>\n",
       "      <th id=\"T_db1d4_level0_row11\" class=\"row_heading level0 row11\" >avg_class_frequency_total</th>\n",
       "      <td id=\"T_db1d4_row11_col0\" class=\"data row11 col0\" >1.98</td>\n",
       "      <td id=\"T_db1d4_row11_col1\" class=\"data row11 col1\" >1.85</td>\n",
       "      <td id=\"T_db1d4_row11_col2\" class=\"data row11 col2\" >1.66</td>\n",
       "      <td id=\"T_db1d4_row11_col3\" class=\"data row11 col3\" >1.25</td>\n",
       "      <td id=\"T_db1d4_row11_col4\" class=\"data row11 col4\" >2.85</td>\n",
       "    </tr>\n",
       "    <tr>\n",
       "      <th id=\"T_db1d4_level0_row12\" class=\"row_heading level0 row12\" >avg_class_frequency_current_month</th>\n",
       "      <td id=\"T_db1d4_row12_col0\" class=\"data row12 col0\" >1.97</td>\n",
       "      <td id=\"T_db1d4_row12_col1\" class=\"data row12 col1\" >1.72</td>\n",
       "      <td id=\"T_db1d4_row12_col2\" class=\"data row12 col2\" >1.48</td>\n",
       "      <td id=\"T_db1d4_row12_col3\" class=\"data row12 col3\" >1.01</td>\n",
       "      <td id=\"T_db1d4_row12_col4\" class=\"data row12 col4\" >2.85</td>\n",
       "    </tr>\n",
       "  </tbody>\n",
       "</table>\n"
      ],
      "text/plain": [
       "<pandas.io.formats.style.Styler at 0x224bfca2430>"
      ]
     },
     "execution_count": 20,
     "metadata": {},
     "output_type": "execute_result"
    }
   ],
   "source": [
    "# задаём модель k_means с числом кластеров 5\n",
    "km = KMeans(n_clusters=5, random_state=0)\n",
    "# прогнозируем кластеры для наблюдений (алгоритм присвоит им номера от 0 до 4)\n",
    "labels = km.fit_predict(X_st)\n",
    "\n",
    "# сохраняем метки кластера в поле нашего датасета\n",
    "df['cluster'] = labels\n",
    "\n",
    "# выведем статистику по средним значениям признаков по каждому кластеру\n",
    "df.drop(columns=['churn']).groupby('cluster').mean().T.style.format('{:.2f}')"
   ]
  },
  {
   "cell_type": "markdown",
   "metadata": {},
   "source": [
    "Анализ таблицы позволяет сделать вывод, что при делении клиентов на кластеры модель кластеризации также ориентируется на те признаки, которые обладали наибольшей важностью для модели оттока клиентов, построенной на предыдущем шаге."
   ]
  },
  {
   "cell_type": "markdown",
   "metadata": {},
   "source": [
    "<a id='intro4B'></a>\n",
    "### Интерпретация результатов"
   ]
  },
  {
   "cell_type": "markdown",
   "metadata": {},
   "source": [
    "Интерпретировать логику разбивки клиентов на кластеры будет проще по совокупному анализу средних показателей из этой таблицы и визуализированным распределениям признаков для каждого кластера. Для наглядности выберем разные типы графиков для категориальных и числовых переменных:"
   ]
  },
  {
   "cell_type": "code",
   "execution_count": 21,
   "metadata": {
    "scrolled": false
   },
   "outputs": [
    {
     "data": {
      "image/png": "[encoded data removed]",
      "text/plain": [
       "<Figure size 1080x720 with 6 Axes>"
      ]
     },
     "metadata": {
      "needs_background": "light"
     },
     "output_type": "display_data"
    }
   ],
   "source": [
    "# построение графиков для числовых признаков\n",
    "fig = plt.figure(figsize=(15, 10))\n",
    "\n",
    "for i in range(len(num_features)):\n",
    "    axi = fig.add_subplot(3,2,i+1)\n",
    "    sns.boxplot(x = num_features[i], y = 'cluster', data = df, orient='h', color='#3399CC', ax=axi)\n",
    "    axi.set_title(num_features[i])\n",
    "    axi.set_xlabel('')\n",
    "\n",
    "fig.tight_layout()\n",
    "plt.show()"
   ]
  },
  {
   "cell_type": "code",
   "execution_count": 22,
   "metadata": {},
   "outputs": [
    {
     "data": {
      "image/png": "[encoded data removed]",
      "text/plain": [
       "<Figure size 1080x1080 with 7 Axes>"
      ]
     },
     "metadata": {
      "needs_background": "light"
     },
     "output_type": "display_data"
    }
   ],
   "source": [
    "#построение графиков для категориальных признаков\n",
    "fig = plt.figure(figsize=(15, 15))\n",
    "\n",
    "for i in range(len(cat_features)):\n",
    "    axi = fig.add_subplot(4,2,i+1)\n",
    "    sns.countplot(y='cluster', hue=cat_features[i], data=df, orient='h', palette='Blues', ax=axi)\n",
    "    axi.set_title(cat_features[i])\n",
    "\n",
    "fig.tight_layout()\n",
    "plt.show()"
   ]
  },
  {
   "cell_type": "markdown",
   "metadata": {},
   "source": [
    "Попробуем интерпретировать логику сегментации клиентов, которую предложила модель, в первую очередь ориентируясь на анализ средних значений признаков, входящих в топ-5 по важности в модели оттока:\n",
    "\n",
    "* `кластеры 0 и 4` объединяют в себе постоянных лояльных клиентов, обладающих признаками:\n",
    "    * дольше других ходят в фитнес-клуб (специфика бизнеса такова, что термин \"постоянный клиент\" можно применить уже при среднем лайфтайме в 5 месяцев);\n",
    "    * общая частота посещений клуба совпадает с частотой за последний месяц, т.е. ходят стабильно;\n",
    "    * больше других тратят на доп.услуги клуба;\n",
    "    * медианный возраст в обоих кластерах - 30 лет - наибольший среди остальных;\n",
    "    * выбрали клуб по близости к дому/работе;\n",
    "    * различие в кластерах наблюдается по следующим признакам:\n",
    "        * в типе абонемента: клиенты кластера 0 заключают самые долгосрочные контракты с клубом (перевес в пользу годовых абонементов), а клиенты кластера 4 предпочитают ежемесячные и полугодовые контракты;\n",
    "        * клиенты кластера 4 показывают наибольшую частоту посещения клуба как в целом, так и за последний месяц;\n",
    "        * бОльшая часть клиентов кластера 0 являются работниками компаний-партнеров или пришли по акции \"приведи друга\"\n",
    "    \n",
    "* `кластер 1` объединил в себе клиентов, которые в сравнении с кластерами 0 и 4:\n",
    "    * позднее стали ходить в клуб;\n",
    "    * посещают занятия реже и менее стабильно;\n",
    "    * приобретают разные типы абонементов с преобладанием ежемесячных;\n",
    "    * чуть меньше пользуются доп.услугами клуба;\n",
    "    * этот кластер объединил всех клиентов, предпочитающих не оставлять свои контакты\n",
    "\n",
    "* `кластеры 2 и 3` объединяют в себе клиентов, обладающих признаками:\n",
    "    * клиенты начали ходить в клуб недавно, при этом в кластере 3 самые \"свежие\" клиенты;\n",
    "    * предпочитают покупать ежемесячные абонементы;\n",
    "    * примерно одинаково тратят на доп.услуги клуба;\n",
    "    * различие в кластерах наблюдается в частоте посещений (кластер 3 обладает самой низкой частотой), в близости клуба (для всех клиентов кластера 2 клуб далеко от дома/работы, а в кластере 3 наоборот) и в возрасте клиентов (в кластере 3 самые молодые клиенты по медианному возрасту)"
   ]
  },
  {
   "cell_type": "markdown",
   "metadata": {},
   "source": [
    "Для каждого кластера проанализируем долю оттока:"
   ]
  },
  {
   "cell_type": "code",
   "execution_count": 23,
   "metadata": {},
   "outputs": [
    {
     "data": {
      "text/html": [
       "<style type=\"text/css\">\n",
       "</style>\n",
       "<table id=\"T_b2bde_\">\n",
       "  <thead>\n",
       "    <tr>\n",
       "      <th class=\"blank level0\" >&nbsp;</th>\n",
       "      <th class=\"col_heading level0 col0\" >cluster</th>\n",
       "      <th class=\"col_heading level0 col1\" >churn_ratio</th>\n",
       "    </tr>\n",
       "  </thead>\n",
       "  <tbody>\n",
       "    <tr>\n",
       "      <th id=\"T_b2bde_level0_row0\" class=\"row_heading level0 row0\" >3</th>\n",
       "      <td id=\"T_b2bde_row0_col0\" class=\"data row0 col0\" >3</td>\n",
       "      <td id=\"T_b2bde_row0_col1\" class=\"data row0 col1\" >51.4%</td>\n",
       "    </tr>\n",
       "    <tr>\n",
       "      <th id=\"T_b2bde_level0_row1\" class=\"row_heading level0 row1\" >2</th>\n",
       "      <td id=\"T_b2bde_row1_col0\" class=\"data row1 col0\" >2</td>\n",
       "      <td id=\"T_b2bde_row1_col1\" class=\"data row1 col1\" >44.4%</td>\n",
       "    </tr>\n",
       "    <tr>\n",
       "      <th id=\"T_b2bde_level0_row2\" class=\"row_heading level0 row2\" >1</th>\n",
       "      <td id=\"T_b2bde_row2_col0\" class=\"data row2 col0\" >1</td>\n",
       "      <td id=\"T_b2bde_row2_col1\" class=\"data row2 col1\" >26.8%</td>\n",
       "    </tr>\n",
       "    <tr>\n",
       "      <th id=\"T_b2bde_level0_row3\" class=\"row_heading level0 row3\" >4</th>\n",
       "      <td id=\"T_b2bde_row3_col0\" class=\"data row3 col0\" >4</td>\n",
       "      <td id=\"T_b2bde_row3_col1\" class=\"data row3 col1\" >6.8%</td>\n",
       "    </tr>\n",
       "    <tr>\n",
       "      <th id=\"T_b2bde_level0_row4\" class=\"row_heading level0 row4\" >0</th>\n",
       "      <td id=\"T_b2bde_row4_col0\" class=\"data row4 col0\" >0</td>\n",
       "      <td id=\"T_b2bde_row4_col1\" class=\"data row4 col1\" >2.8%</td>\n",
       "    </tr>\n",
       "  </tbody>\n",
       "</table>\n"
      ],
      "text/plain": [
       "<pandas.io.formats.style.Styler at 0x224c5b1f610>"
      ]
     },
     "execution_count": 23,
     "metadata": {},
     "output_type": "execute_result"
    }
   ],
   "source": [
    "# выведем долю оттока по каждому кластеру\n",
    "df.groupby('cluster') \\\n",
    "  .agg({'churn': 'mean'}) \\\n",
    "  .reset_index() \\\n",
    "  .sort_values(by='churn', ascending=False) \\\n",
    "  .rename(columns={'churn': 'churn_ratio'}) \\\n",
    "  .style.format({'churn_ratio': '{:.1%}'})"
   ]
  },
  {
   "cell_type": "markdown",
   "metadata": {},
   "source": [
    "<a id='intro4C'></a>\n",
    "### Промежуточные выводы"
   ]
  },
  {
   "cell_type": "markdown",
   "metadata": {},
   "source": [
    "В результате проведенной кластеризации клиентов сформированы 5 сегментов клиентов, которые помимо различий в основных признаках демонстрируют разную склонность к оттоку:\n",
    "* наиболее склонны к оттоку клиенты-новички из кластера 3: это самые молодые клиенты, около 1-2 месяцев назад пришедшие в клуб рядом с домом/работой, купившие ежемесячный абонемент и не отличающиеся высокой частотой тренировок. Частота тренировок за последний месяц у этих клиентов снизилась на 20% по сравнению с общей частотой с начала действия абонемента, и почти половины таких клиентов по факту ушла в отток;\n",
    "* около 44% клиентов, ушедших в отток, входят в кластер 2: это клиенты, около 2-3 месяцев назад пришедшие в клуб, располагающийся далеко от дома/работы, и купившие ежемесячный абонемент. Частота тренировок за последний месяц у этих клиентов снизилась на 10% по сравнению с общей частотой с начала действия абонемента, и почти половины таких клиентов по факту ушла в отток;\n",
    "* на третьем месте по склонности к оттоку располается кластер 1: это клиенты, которые пришли около 3-4 месяцев назад в клуб, располагающийся далеко от дома/работы, и купившие ежемесячный абонемент. Частота тренировок за последний месяц у этих клиентов снизилась на 8% по сравнению с общей частотой с начала действия абонемента, при этом общая частота тренировок у них была хорошая. Из этого кластера по факту ушли в отток около 27% клиентов;\n",
    "* наиболее стабильны в плане оттока клиенты из кластеров 4 и 0, уходят около 7% и около 3% клиентов соответственно. Это самые лояльные к клубу клиенты, которые дольше всех и чаще всех ходят на тренировки, активнее всех пользуются доп.услугами центра. Самый стабильный сегмент - кластер 0 - это клиенты-работники компаний партнеров или пришедшие по акции \"приведи\" друга, и купившие годовой абонемент (вероятно, со скидкой)."
   ]
  },
  {
   "cell_type": "markdown",
   "metadata": {},
   "source": [
    "<a id='intro5'></a>\n",
    "## Выводы и рекомендации"
   ]
  },
  {
   "cell_type": "markdown",
   "metadata": {},
   "source": [
    "В ходе исследования выполнены следующие задачи и сформулированы выводы:\n",
    "* Изучены предоставленные данные по 4 тысячам клиентов фитнес-центра, 27% из них по факту ушли в отток.\n",
    "* Построена модель прогнозирования оттока клиентов, основанная на модели логистической регрессии с учетом фактического баланса классов. На валидационных данных модель обнаружила 93% клиентов, которые по факту ушли в отток, при этом такая полнота обеспечена за счет относительно невысокой точности: на 30% клиентов из валидационной выборки модель показала ложное срабатывание, т.е. предсказала отток, тогда как по факту клиент не ушел. При этом для бизнеса гораздо лучше будет принять превентивные меры по предотвращению ухода таких клиентов и понять, что тревога была ложная, чем \"прозевать\" настоящий отток. \n",
    "* С помощью модели K-means проведена кластеризация клиентов: получены 5 кластеров, различающихся как по средним значениям признаков, так и по склонности к оттоку.\n",
    "\n",
    "По результатам исследования можно сформулировать следующие рекомендации для стратегии взаимодействия с клиентами и из удержания:\n",
    "* Создать систему предиктивной аналитики, которая должна обязательно включать анализ основных признаков, которые являются наиболее важными в модели прогнозирования оттока (т.е. оказывают наибольшее влияние на целевую переменную оттока):\n",
    "    * время с момента первого обращения в фитнес-центр;\n",
    "    * средняя частота посещений клуба с начала действия абонемента и за текущий месяц;\n",
    "    * срок до окончания текущего абонемента;\n",
    "    * возраст клиента;\n",
    "    * выручка от прочих услуг фитнес-центра.\n",
    "* Ежемесячно применять разработанную модель прогнозирования оттока клиентов и отрабатывать со всеми клиентами, по которым модель показала отток. Это могут быть любые способы точечного взаимодействия с каждым клиентом, направленные на выяснение намерений клиентов относительно дальнейшего посещения фитнес-клуба.\n",
    "* Разработать и проводить мероприятия по удержанию клиентов, опирающиеся на портрет клиента каждого кластера:\n",
    "    * клиенты кластера 3 самые молодые, живут/работают рядом с клубом, но при этом половина из них уходит. Они редко посещали тренировки (1-2 раза в неделю), возможно, им не подходило время занятий, и помог бы более гибкий график. Если причина финансовая - то помогут скидки при приобретении абонемента (особенно, долгосрочного) и/или бонусы на использование дополнительных программ клуба;\n",
    "    * клиентам кластеров 2 и 1, которые работают/живут далеко от клуба, можно \"растить\" через запуск мотивирующих программ, создающих доп.ценность от посещения клуба, а также через активную продажу доп.услуг (например, массаж);\n",
    "    * разработать систему получения обратной связи по причинам ухода клиента из клуба. Это дополнит портрет среднего клиента внутри каждого кластера, позволит сформировать и начать контролировать новые признаки, влияющие на отток."
   ]
  }
 ],
 "metadata": {
  "ExecuteTimeLog": [
   {
    "duration": 437,
    "start_time": "2022-07-02T17:42:49.522Z"
   },
   {
    "duration": 63,
    "start_time": "2022-07-02T17:43:43.892Z"
   },
   {
    "duration": 25,
    "start_time": "2022-07-02T17:43:46.040Z"
   },
   {
    "duration": 22,
    "start_time": "2022-07-02T17:46:37.901Z"
   },
   {
    "duration": 22,
    "start_time": "2022-07-02T17:46:38.447Z"
   },
   {
    "duration": 79,
    "start_time": "2022-07-02T17:47:20.523Z"
   },
   {
    "duration": 4,
    "start_time": "2022-07-02T17:47:24.845Z"
   },
   {
    "duration": 66,
    "start_time": "2022-07-02T17:48:40.814Z"
   },
   {
    "duration": 59,
    "start_time": "2022-07-02T17:49:05.990Z"
   },
   {
    "duration": 15,
    "start_time": "2022-07-02T17:49:12.976Z"
   },
   {
    "duration": 6,
    "start_time": "2022-07-02T17:50:28.169Z"
   },
   {
    "duration": 5,
    "start_time": "2022-07-02T17:50:41.204Z"
   },
   {
    "duration": 5,
    "start_time": "2022-07-02T17:52:59.952Z"
   },
   {
    "duration": 12,
    "start_time": "2022-07-02T17:53:04.884Z"
   },
   {
    "duration": 24,
    "start_time": "2022-07-02T17:53:46.318Z"
   },
   {
    "duration": 9,
    "start_time": "2022-07-02T17:53:57.477Z"
   },
   {
    "duration": 8,
    "start_time": "2022-07-02T17:54:02.304Z"
   },
   {
    "duration": 67,
    "start_time": "2022-07-02T17:55:02.482Z"
   },
   {
    "duration": 1075,
    "start_time": "2022-07-02T18:01:41.116Z"
   },
   {
    "duration": 50,
    "start_time": "2022-07-02T18:01:52.299Z"
   },
   {
    "duration": 58,
    "start_time": "2022-07-02T18:01:59.986Z"
   },
   {
    "duration": 87,
    "start_time": "2022-07-02T18:02:50.267Z"
   },
   {
    "duration": 17,
    "start_time": "2022-07-02T18:03:29.148Z"
   },
   {
    "duration": 14,
    "start_time": "2022-07-02T18:03:40.735Z"
   },
   {
    "duration": 10,
    "start_time": "2022-07-02T18:04:15.744Z"
   },
   {
    "duration": 51,
    "start_time": "2022-07-02T18:04:21.941Z"
   },
   {
    "duration": 516,
    "start_time": "2022-07-02T18:04:54.559Z"
   },
   {
    "duration": 45,
    "start_time": "2022-07-02T18:05:01.353Z"
   },
   {
    "duration": 813,
    "start_time": "2022-07-02T18:05:11.650Z"
   },
   {
    "duration": 61,
    "start_time": "2022-07-02T18:05:15.902Z"
   },
   {
    "duration": 32,
    "start_time": "2022-07-02T18:05:50.672Z"
   },
   {
    "duration": 44,
    "start_time": "2022-07-02T18:05:53.347Z"
   },
   {
    "duration": 39,
    "start_time": "2022-07-02T18:06:00.916Z"
   },
   {
    "duration": 86,
    "start_time": "2022-07-02T18:06:09.191Z"
   },
   {
    "duration": 7,
    "start_time": "2022-07-02T18:06:39.377Z"
   },
   {
    "duration": 12,
    "start_time": "2022-07-02T18:06:43.998Z"
   },
   {
    "duration": 13,
    "start_time": "2022-07-02T18:06:50.042Z"
   },
   {
    "duration": 6,
    "start_time": "2022-07-02T18:06:56.673Z"
   },
   {
    "duration": 21,
    "start_time": "2022-07-02T18:07:12.020Z"
   },
   {
    "duration": 20,
    "start_time": "2022-07-02T18:07:18.161Z"
   },
   {
    "duration": 42,
    "start_time": "2022-07-02T18:07:33.766Z"
   },
   {
    "duration": 47,
    "start_time": "2022-07-02T18:07:41.406Z"
   },
   {
    "duration": 46,
    "start_time": "2022-07-02T18:07:49.695Z"
   },
   {
    "duration": 39,
    "start_time": "2022-07-02T18:08:05.627Z"
   },
   {
    "duration": 504,
    "start_time": "2022-07-02T18:08:44.084Z"
   },
   {
    "duration": 47,
    "start_time": "2022-07-02T18:08:52.332Z"
   },
   {
    "duration": 36,
    "start_time": "2022-07-02T18:09:09.869Z"
   },
   {
    "duration": 11,
    "start_time": "2022-07-02T18:09:22.845Z"
   },
   {
    "duration": 7,
    "start_time": "2022-07-02T18:10:55.115Z"
   },
   {
    "duration": 5,
    "start_time": "2022-07-02T18:11:07.455Z"
   },
   {
    "duration": 8,
    "start_time": "2022-07-02T18:11:34.985Z"
   },
   {
    "duration": 4,
    "start_time": "2022-07-02T18:11:37.474Z"
   },
   {
    "duration": 4,
    "start_time": "2022-07-02T18:13:14.812Z"
   },
   {
    "duration": 4,
    "start_time": "2022-07-02T18:13:18.770Z"
   },
   {
    "duration": 15,
    "start_time": "2022-07-02T18:13:19.106Z"
   },
   {
    "duration": 18,
    "start_time": "2022-07-02T18:13:29.122Z"
   },
   {
    "duration": 41,
    "start_time": "2022-07-02T18:13:33.810Z"
   },
   {
    "duration": 13,
    "start_time": "2022-07-02T18:13:41.155Z"
   },
   {
    "duration": 13,
    "start_time": "2022-07-02T18:13:45.987Z"
   },
   {
    "duration": 426,
    "start_time": "2022-07-03T05:08:00.492Z"
   },
   {
    "duration": 52,
    "start_time": "2022-07-03T05:08:00.920Z"
   },
   {
    "duration": 36,
    "start_time": "2022-07-03T05:08:00.974Z"
   },
   {
    "duration": 4,
    "start_time": "2022-07-03T05:08:01.012Z"
   },
   {
    "duration": 40,
    "start_time": "2022-07-03T05:08:01.020Z"
   },
   {
    "duration": 12,
    "start_time": "2022-07-03T05:08:01.062Z"
   },
   {
    "duration": 504,
    "start_time": "2022-07-03T05:08:01.077Z"
   },
   {
    "duration": 12,
    "start_time": "2022-07-03T05:08:01.583Z"
   },
   {
    "duration": 13,
    "start_time": "2022-07-03T05:08:12.297Z"
   },
   {
    "duration": 15,
    "start_time": "2022-07-03T05:09:42.631Z"
   },
   {
    "duration": 8,
    "start_time": "2022-07-03T05:09:48.507Z"
   },
   {
    "duration": 5,
    "start_time": "2022-07-03T05:10:00.706Z"
   },
   {
    "duration": 51,
    "start_time": "2022-07-03T05:10:13.832Z"
   },
   {
    "duration": 5,
    "start_time": "2022-07-03T05:10:17.307Z"
   },
   {
    "duration": 7,
    "start_time": "2022-07-03T05:11:03.757Z"
   },
   {
    "duration": 580,
    "start_time": "2022-07-03T05:13:29.302Z"
   },
   {
    "duration": 242,
    "start_time": "2022-07-03T05:14:28.855Z"
   },
   {
    "duration": 185,
    "start_time": "2022-07-03T05:15:22.394Z"
   },
   {
    "duration": 197,
    "start_time": "2022-07-03T05:16:22.211Z"
   },
   {
    "duration": 202,
    "start_time": "2022-07-03T05:17:00.443Z"
   },
   {
    "duration": 207,
    "start_time": "2022-07-03T05:17:49.646Z"
   },
   {
    "duration": 370,
    "start_time": "2022-07-03T05:20:02.570Z"
   },
   {
    "duration": 287,
    "start_time": "2022-07-03T05:20:21.416Z"
   },
   {
    "duration": 4,
    "start_time": "2022-07-03T05:20:53.280Z"
   },
   {
    "duration": 186,
    "start_time": "2022-07-03T05:20:58.139Z"
   },
   {
    "duration": 235,
    "start_time": "2022-07-03T05:21:08.013Z"
   },
   {
    "duration": 193,
    "start_time": "2022-07-03T06:57:27.426Z"
   },
   {
    "duration": 213,
    "start_time": "2022-07-03T06:58:07.815Z"
   },
   {
    "duration": 240,
    "start_time": "2022-07-03T06:58:20.329Z"
   },
   {
    "duration": 197,
    "start_time": "2022-07-03T06:58:29.193Z"
   },
   {
    "duration": 147,
    "start_time": "2022-07-03T06:58:37.078Z"
   },
   {
    "duration": 272,
    "start_time": "2022-07-03T06:58:44.807Z"
   },
   {
    "duration": 204,
    "start_time": "2022-07-03T06:58:52.514Z"
   },
   {
    "duration": 289,
    "start_time": "2022-07-03T06:59:04.376Z"
   },
   {
    "duration": 169,
    "start_time": "2022-07-03T06:59:27.982Z"
   },
   {
    "duration": 237,
    "start_time": "2022-07-03T06:59:38.617Z"
   },
   {
    "duration": 212,
    "start_time": "2022-07-03T07:00:00.538Z"
   },
   {
    "duration": 290,
    "start_time": "2022-07-03T07:00:36.434Z"
   },
   {
    "duration": 4,
    "start_time": "2022-07-03T07:11:23.849Z"
   },
   {
    "duration": 46,
    "start_time": "2022-07-03T07:11:24.118Z"
   },
   {
    "duration": 17,
    "start_time": "2022-07-03T07:11:24.589Z"
   },
   {
    "duration": 8,
    "start_time": "2022-07-03T07:11:25.526Z"
   },
   {
    "duration": 24,
    "start_time": "2022-07-03T07:11:26.022Z"
   },
   {
    "duration": 22,
    "start_time": "2022-07-03T07:11:27.621Z"
   },
   {
    "duration": 4,
    "start_time": "2022-07-03T07:11:35.284Z"
   },
   {
    "duration": 39,
    "start_time": "2022-07-03T07:11:35.526Z"
   },
   {
    "duration": 11,
    "start_time": "2022-07-03T07:11:35.814Z"
   },
   {
    "duration": 20,
    "start_time": "2022-07-03T07:11:36.310Z"
   },
   {
    "duration": 11,
    "start_time": "2022-07-03T07:11:36.891Z"
   },
   {
    "duration": 40,
    "start_time": "2022-07-03T07:11:38.973Z"
   },
   {
    "duration": 13,
    "start_time": "2022-07-03T07:11:39.193Z"
   },
   {
    "duration": 10,
    "start_time": "2022-07-03T07:11:43.869Z"
   },
   {
    "duration": 7,
    "start_time": "2022-07-03T07:11:53.454Z"
   },
   {
    "duration": 202,
    "start_time": "2022-07-03T07:11:59.214Z"
   },
   {
    "duration": 197,
    "start_time": "2022-07-03T07:12:27.135Z"
   },
   {
    "duration": 220,
    "start_time": "2022-07-03T07:12:28.787Z"
   },
   {
    "duration": 236,
    "start_time": "2022-07-03T07:13:15.624Z"
   },
   {
    "duration": 294,
    "start_time": "2022-07-03T07:13:21.377Z"
   },
   {
    "duration": 195,
    "start_time": "2022-07-03T07:14:03.969Z"
   },
   {
    "duration": 197,
    "start_time": "2022-07-03T07:14:25.890Z"
   },
   {
    "duration": 193,
    "start_time": "2022-07-03T07:15:09.773Z"
   },
   {
    "duration": 207,
    "start_time": "2022-07-03T07:15:15.409Z"
   },
   {
    "duration": 231,
    "start_time": "2022-07-03T07:21:49.507Z"
   },
   {
    "duration": 202,
    "start_time": "2022-07-03T07:22:36.243Z"
   },
   {
    "duration": 6,
    "start_time": "2022-07-03T07:33:13.303Z"
   },
   {
    "duration": 3,
    "start_time": "2022-07-03T07:36:51.803Z"
   },
   {
    "duration": 7,
    "start_time": "2022-07-03T07:44:37.348Z"
   },
   {
    "duration": 4,
    "start_time": "2022-07-03T07:44:44.985Z"
   },
   {
    "duration": 8,
    "start_time": "2022-07-03T07:44:45.358Z"
   },
   {
    "duration": 8,
    "start_time": "2022-07-03T07:45:09.516Z"
   },
   {
    "duration": 1239,
    "start_time": "2022-07-03T07:46:28.412Z"
   },
   {
    "duration": 3,
    "start_time": "2022-07-03T07:47:51.194Z"
   },
   {
    "duration": 8,
    "start_time": "2022-07-03T07:47:51.770Z"
   },
   {
    "duration": 1284,
    "start_time": "2022-07-03T07:47:56.474Z"
   },
   {
    "duration": 3,
    "start_time": "2022-07-03T07:49:29.514Z"
   },
   {
    "duration": 8,
    "start_time": "2022-07-03T07:49:29.998Z"
   },
   {
    "duration": 1229,
    "start_time": "2022-07-03T07:49:32.726Z"
   },
   {
    "duration": 45,
    "start_time": "2022-07-03T07:53:16.889Z"
   },
   {
    "duration": 15,
    "start_time": "2022-07-03T07:53:20.826Z"
   },
   {
    "duration": 235,
    "start_time": "2022-07-03T09:02:34.692Z"
   },
   {
    "duration": 275,
    "start_time": "2022-07-03T09:02:48.864Z"
   },
   {
    "duration": 416,
    "start_time": "2022-07-03T09:02:59.589Z"
   },
   {
    "duration": 329,
    "start_time": "2022-07-03T09:03:07.140Z"
   },
   {
    "duration": 931,
    "start_time": "2022-07-03T09:07:19.877Z"
   },
   {
    "duration": 290,
    "start_time": "2022-07-03T09:07:35.358Z"
   },
   {
    "duration": 415,
    "start_time": "2022-07-03T09:07:45.477Z"
   },
   {
    "duration": 313,
    "start_time": "2022-07-03T09:07:51.689Z"
   },
   {
    "duration": 15,
    "start_time": "2022-07-03T09:09:00.500Z"
   },
   {
    "duration": 15,
    "start_time": "2022-07-03T09:09:19.747Z"
   },
   {
    "duration": 14,
    "start_time": "2022-07-03T09:10:51.372Z"
   },
   {
    "duration": 15,
    "start_time": "2022-07-03T09:11:13.989Z"
   },
   {
    "duration": 347,
    "start_time": "2022-07-03T09:11:50.669Z"
   },
   {
    "duration": 348,
    "start_time": "2022-07-03T09:11:58.028Z"
   },
   {
    "duration": 976,
    "start_time": "2022-07-03T09:12:42.927Z"
   },
   {
    "duration": 4,
    "start_time": "2022-07-03T09:16:22.081Z"
   },
   {
    "duration": 4,
    "start_time": "2022-07-03T09:16:36.483Z"
   },
   {
    "duration": 4,
    "start_time": "2022-07-03T09:16:51.964Z"
   },
   {
    "duration": 4,
    "start_time": "2022-07-03T09:17:04.537Z"
   },
   {
    "duration": 1604,
    "start_time": "2022-07-03T09:18:37.381Z"
   },
   {
    "duration": 349,
    "start_time": "2022-07-03T09:19:49.832Z"
   },
   {
    "duration": 714,
    "start_time": "2022-07-03T09:20:03.711Z"
   },
   {
    "duration": 350,
    "start_time": "2022-07-03T09:21:09.571Z"
   },
   {
    "duration": 332,
    "start_time": "2022-07-03T09:21:29.571Z"
   },
   {
    "duration": 526,
    "start_time": "2022-07-03T09:21:51.097Z"
   },
   {
    "duration": 421,
    "start_time": "2022-07-03T09:22:02.518Z"
   },
   {
    "duration": 439,
    "start_time": "2022-07-03T09:22:24.861Z"
   },
   {
    "duration": 456,
    "start_time": "2022-07-03T09:22:46.659Z"
   },
   {
    "duration": 507,
    "start_time": "2022-07-03T09:23:02.666Z"
   },
   {
    "duration": 513,
    "start_time": "2022-07-03T09:23:16.262Z"
   },
   {
    "duration": 539,
    "start_time": "2022-07-03T09:23:58.667Z"
   },
   {
    "duration": 420,
    "start_time": "2022-07-03T09:24:39.024Z"
   },
   {
    "duration": 135,
    "start_time": "2022-07-03T09:26:13.220Z"
   },
   {
    "duration": 123,
    "start_time": "2022-07-03T09:26:23.971Z"
   },
   {
    "duration": 208,
    "start_time": "2022-07-03T09:26:44.868Z"
   },
   {
    "duration": 294,
    "start_time": "2022-07-03T09:26:57.252Z"
   },
   {
    "duration": 194,
    "start_time": "2022-07-03T09:28:11.924Z"
   },
   {
    "duration": 343,
    "start_time": "2022-07-03T09:28:40.719Z"
   },
   {
    "duration": 446,
    "start_time": "2022-07-03T09:29:32.975Z"
   },
   {
    "duration": 337,
    "start_time": "2022-07-03T09:29:38.468Z"
   },
   {
    "duration": 324,
    "start_time": "2022-07-03T09:29:42.371Z"
   },
   {
    "duration": 362,
    "start_time": "2022-07-03T10:07:17.338Z"
   },
   {
    "duration": 3,
    "start_time": "2022-07-03T10:08:20.199Z"
   },
   {
    "duration": 3,
    "start_time": "2022-07-03T10:08:23.598Z"
   },
   {
    "duration": 3,
    "start_time": "2022-07-03T10:08:47.179Z"
   },
   {
    "duration": 4,
    "start_time": "2022-07-03T10:08:54.390Z"
   },
   {
    "duration": 10,
    "start_time": "2022-07-03T10:08:56.639Z"
   },
   {
    "duration": 4,
    "start_time": "2022-07-03T10:09:00.652Z"
   },
   {
    "duration": 341,
    "start_time": "2022-07-03T10:10:58.982Z"
   },
   {
    "duration": 511,
    "start_time": "2022-07-03T10:11:06.490Z"
   },
   {
    "duration": 974,
    "start_time": "2022-07-03T10:13:31.194Z"
   },
   {
    "duration": 1147,
    "start_time": "2022-07-03T10:14:00.206Z"
   },
   {
    "duration": 975,
    "start_time": "2022-07-03T10:16:17.325Z"
   },
   {
    "duration": 309,
    "start_time": "2022-07-03T10:27:23.428Z"
   },
   {
    "duration": 890,
    "start_time": "2022-07-03T10:29:03.857Z"
   },
   {
    "duration": 495,
    "start_time": "2022-07-03T10:31:00.369Z"
   },
   {
    "duration": 4,
    "start_time": "2022-07-03T10:31:06.121Z"
   },
   {
    "duration": 4,
    "start_time": "2022-07-03T10:33:22.539Z"
   },
   {
    "duration": 3,
    "start_time": "2022-07-03T10:34:28.677Z"
   },
   {
    "duration": 4,
    "start_time": "2022-07-03T10:34:34.573Z"
   },
   {
    "duration": 4,
    "start_time": "2022-07-03T10:34:54.169Z"
   },
   {
    "duration": 11,
    "start_time": "2022-07-03T10:36:09.510Z"
   },
   {
    "duration": 3,
    "start_time": "2022-07-03T10:39:24.489Z"
   },
   {
    "duration": 9,
    "start_time": "2022-07-03T10:41:27.265Z"
   },
   {
    "duration": 9,
    "start_time": "2022-07-03T10:41:30.561Z"
   },
   {
    "duration": 3,
    "start_time": "2022-07-03T10:41:38.422Z"
   },
   {
    "duration": 3,
    "start_time": "2022-07-03T10:41:45.169Z"
   },
   {
    "duration": 51,
    "start_time": "2022-07-03T10:41:47.060Z"
   },
   {
    "duration": 2,
    "start_time": "2022-07-03T10:41:50.399Z"
   },
   {
    "duration": 5,
    "start_time": "2022-07-03T10:43:02.630Z"
   },
   {
    "duration": 10,
    "start_time": "2022-07-03T10:43:12.230Z"
   },
   {
    "duration": 4,
    "start_time": "2022-07-03T10:43:36.232Z"
   },
   {
    "duration": 131,
    "start_time": "2022-07-03T10:46:15.408Z"
   },
   {
    "duration": 122,
    "start_time": "2022-07-03T10:46:29.077Z"
   },
   {
    "duration": 112,
    "start_time": "2022-07-03T10:47:11.525Z"
   },
   {
    "duration": 1658,
    "start_time": "2022-07-03T10:48:13.765Z"
   },
   {
    "duration": 1614,
    "start_time": "2022-07-03T10:48:46.423Z"
   },
   {
    "duration": 1747,
    "start_time": "2022-07-03T10:49:03.576Z"
   },
   {
    "duration": 2342,
    "start_time": "2022-07-03T10:49:21.934Z"
   },
   {
    "duration": 2183,
    "start_time": "2022-07-03T10:49:32.076Z"
   },
   {
    "duration": 332,
    "start_time": "2022-07-03T10:51:04.692Z"
   },
   {
    "duration": 2307,
    "start_time": "2022-07-03T10:52:25.148Z"
   },
   {
    "duration": 2259,
    "start_time": "2022-07-03T10:52:56.765Z"
   },
   {
    "duration": 21,
    "start_time": "2022-07-03T10:56:33.741Z"
   },
   {
    "duration": 1341,
    "start_time": "2022-07-03T10:57:39.819Z"
   },
   {
    "duration": 1430,
    "start_time": "2022-07-03T10:58:11.705Z"
   },
   {
    "duration": 1587,
    "start_time": "2022-07-03T10:58:25.470Z"
   },
   {
    "duration": 1355,
    "start_time": "2022-07-03T10:58:37.637Z"
   },
   {
    "duration": 3,
    "start_time": "2022-07-03T11:04:59.503Z"
   },
   {
    "duration": 28,
    "start_time": "2022-07-03T11:05:36.559Z"
   },
   {
    "duration": 29,
    "start_time": "2022-07-03T11:06:19.975Z"
   },
   {
    "duration": 4,
    "start_time": "2022-07-03T12:52:47.275Z"
   },
   {
    "duration": 4,
    "start_time": "2022-07-03T12:52:53.960Z"
   },
   {
    "duration": 4,
    "start_time": "2022-07-03T12:53:00.898Z"
   },
   {
    "duration": 4,
    "start_time": "2022-07-03T12:54:43.628Z"
   },
   {
    "duration": 2045,
    "start_time": "2022-07-03T12:56:05.531Z"
   },
   {
    "duration": 1999,
    "start_time": "2022-07-03T12:56:33.391Z"
   },
   {
    "duration": 2373,
    "start_time": "2022-07-03T12:57:12.808Z"
   },
   {
    "duration": 2095,
    "start_time": "2022-07-03T12:57:33.632Z"
   },
   {
    "duration": 3603,
    "start_time": "2022-07-03T12:59:10.981Z"
   },
   {
    "duration": 1438,
    "start_time": "2022-07-03T13:01:00.190Z"
   },
   {
    "duration": 3644,
    "start_time": "2022-07-03T13:02:07.399Z"
   },
   {
    "duration": 1378,
    "start_time": "2022-07-03T13:54:36.084Z"
   },
   {
    "duration": 162,
    "start_time": "2022-07-03T13:54:46.353Z"
   },
   {
    "duration": 4,
    "start_time": "2022-07-03T13:55:07.501Z"
   },
   {
    "duration": 62,
    "start_time": "2022-07-03T13:55:09.564Z"
   },
   {
    "duration": 17,
    "start_time": "2022-07-03T14:00:44.265Z"
   },
   {
    "duration": 10,
    "start_time": "2022-07-03T14:04:17.592Z"
   },
   {
    "duration": 127,
    "start_time": "2022-07-03T14:04:50.702Z"
   },
   {
    "duration": 13,
    "start_time": "2022-07-03T14:05:03.304Z"
   },
   {
    "duration": 5,
    "start_time": "2022-07-03T14:05:05.500Z"
   },
   {
    "duration": 1408,
    "start_time": "2022-07-03T14:08:46.225Z"
   },
   {
    "duration": 21,
    "start_time": "2022-07-03T14:09:21.645Z"
   },
   {
    "duration": 25,
    "start_time": "2022-07-03T14:10:17.682Z"
   },
   {
    "duration": 3,
    "start_time": "2022-07-03T14:11:34.093Z"
   },
   {
    "duration": 99,
    "start_time": "2022-07-03T14:15:39.101Z"
   },
   {
    "duration": 10,
    "start_time": "2022-07-03T14:27:40.315Z"
   },
   {
    "duration": 9,
    "start_time": "2022-07-03T14:27:44.242Z"
   },
   {
    "duration": 7,
    "start_time": "2022-07-03T14:28:00.121Z"
   },
   {
    "duration": 76,
    "start_time": "2022-07-03T14:28:24.114Z"
   },
   {
    "duration": 95,
    "start_time": "2022-07-03T14:28:56.171Z"
   },
   {
    "duration": 44,
    "start_time": "2022-07-03T14:46:25.916Z"
   },
   {
    "duration": 16,
    "start_time": "2022-07-03T14:47:44.123Z"
   },
   {
    "duration": 18,
    "start_time": "2022-07-03T14:47:55.091Z"
   },
   {
    "duration": 12,
    "start_time": "2022-07-03T14:48:45.218Z"
   },
   {
    "duration": 42,
    "start_time": "2022-07-03T14:54:19.944Z"
   },
   {
    "duration": 1225,
    "start_time": "2022-07-03T14:54:32.806Z"
   },
   {
    "duration": 52,
    "start_time": "2022-07-03T14:54:41.666Z"
   },
   {
    "duration": 18,
    "start_time": "2022-07-03T14:54:55.507Z"
   },
   {
    "duration": 5,
    "start_time": "2022-07-03T15:23:50.621Z"
   },
   {
    "duration": 5,
    "start_time": "2022-07-03T15:23:56.733Z"
   },
   {
    "duration": 7117,
    "start_time": "2022-07-03T15:25:24.237Z"
   },
   {
    "duration": 7,
    "start_time": "2022-07-03T15:26:46.526Z"
   },
   {
    "duration": 16,
    "start_time": "2022-07-03T15:27:43.275Z"
   },
   {
    "duration": 5718,
    "start_time": "2022-07-03T15:28:21.919Z"
   },
   {
    "duration": 5792,
    "start_time": "2022-07-03T15:28:49.825Z"
   },
   {
    "duration": 6178,
    "start_time": "2022-07-03T15:30:47.019Z"
   },
   {
    "duration": 2963,
    "start_time": "2022-07-03T15:48:50.011Z"
   },
   {
    "duration": 3485,
    "start_time": "2022-07-03T15:49:45.880Z"
   },
   {
    "duration": 3454,
    "start_time": "2022-07-03T15:51:24.082Z"
   },
   {
    "duration": 178,
    "start_time": "2022-07-03T15:52:14.896Z"
   },
   {
    "duration": 3740,
    "start_time": "2022-07-03T15:52:26.374Z"
   },
   {
    "duration": 3905,
    "start_time": "2022-07-03T15:53:24.273Z"
   },
   {
    "duration": 5642,
    "start_time": "2022-07-03T15:55:52.024Z"
   },
   {
    "duration": 3970,
    "start_time": "2022-07-03T15:56:06.437Z"
   },
   {
    "duration": 1528,
    "start_time": "2022-07-03T16:03:51.806Z"
   },
   {
    "duration": 480,
    "start_time": "2022-07-03T16:06:46.288Z"
   },
   {
    "duration": 1681,
    "start_time": "2022-07-03T16:06:57.250Z"
   },
   {
    "duration": 503,
    "start_time": "2022-07-03T16:07:19.680Z"
   },
   {
    "duration": 692,
    "start_time": "2022-07-03T16:07:42.814Z"
   },
   {
    "duration": 509,
    "start_time": "2022-07-03T16:08:24.580Z"
   },
   {
    "duration": 1791,
    "start_time": "2022-07-03T16:08:44.788Z"
   },
   {
    "duration": 1777,
    "start_time": "2022-07-03T16:09:21.244Z"
   },
   {
    "duration": 1520,
    "start_time": "2022-07-03T16:10:20.299Z"
   },
   {
    "duration": 1760,
    "start_time": "2022-07-03T16:10:29.829Z"
   },
   {
    "duration": 1505,
    "start_time": "2022-07-03T16:10:51.381Z"
   },
   {
    "duration": 2519,
    "start_time": "2022-07-03T17:19:36.794Z"
   },
   {
    "duration": 4,
    "start_time": "2022-07-03T17:22:39.418Z"
   },
   {
    "duration": 10,
    "start_time": "2022-07-03T17:22:57.851Z"
   },
   {
    "duration": 5,
    "start_time": "2022-07-03T17:23:28.303Z"
   },
   {
    "duration": 6,
    "start_time": "2022-07-03T17:23:41.694Z"
   },
   {
    "duration": 9,
    "start_time": "2022-07-03T17:24:02.297Z"
   },
   {
    "duration": 5,
    "start_time": "2022-07-03T17:24:14.805Z"
   },
   {
    "duration": 9,
    "start_time": "2022-07-03T17:24:40.449Z"
   },
   {
    "duration": 6,
    "start_time": "2022-07-03T17:25:13.329Z"
   },
   {
    "duration": 6,
    "start_time": "2022-07-03T17:25:18.899Z"
   },
   {
    "duration": 11,
    "start_time": "2022-07-03T17:39:45.495Z"
   },
   {
    "duration": 104,
    "start_time": "2022-07-03T17:39:51.506Z"
   },
   {
    "duration": 103,
    "start_time": "2022-07-03T17:40:34.842Z"
   },
   {
    "duration": 126,
    "start_time": "2022-07-03T17:41:02.310Z"
   },
   {
    "duration": 17,
    "start_time": "2022-07-03T17:44:30.951Z"
   },
   {
    "duration": 7,
    "start_time": "2022-07-03T17:44:43.752Z"
   },
   {
    "duration": 6,
    "start_time": "2022-07-03T17:45:57.133Z"
   },
   {
    "duration": 7,
    "start_time": "2022-07-03T17:45:57.719Z"
   },
   {
    "duration": 7,
    "start_time": "2022-07-03T17:47:09.603Z"
   },
   {
    "duration": 18,
    "start_time": "2022-07-03T17:47:56.573Z"
   },
   {
    "duration": 12,
    "start_time": "2022-07-03T17:48:15.485Z"
   },
   {
    "duration": 3,
    "start_time": "2022-07-03T18:23:58.477Z"
   },
   {
    "duration": 69,
    "start_time": "2022-07-03T18:24:54.276Z"
   },
   {
    "duration": 383,
    "start_time": "2022-07-03T18:25:44.906Z"
   },
   {
    "duration": 13,
    "start_time": "2022-07-03T18:28:23.351Z"
   },
   {
    "duration": 6,
    "start_time": "2022-07-03T18:31:59.684Z"
   },
   {
    "duration": 17,
    "start_time": "2022-07-03T18:32:02.321Z"
   },
   {
    "duration": 11,
    "start_time": "2022-07-03T18:32:14.578Z"
   },
   {
    "duration": 15,
    "start_time": "2022-07-03T18:35:54.177Z"
   },
   {
    "duration": 5,
    "start_time": "2022-07-03T18:36:02.304Z"
   },
   {
    "duration": 6,
    "start_time": "2022-07-03T18:36:11.277Z"
   },
   {
    "duration": 14,
    "start_time": "2022-07-03T18:39:17.884Z"
   },
   {
    "duration": 38,
    "start_time": "2022-07-03T18:53:02.290Z"
   },
   {
    "duration": 7,
    "start_time": "2022-07-03T19:05:43.398Z"
   },
   {
    "duration": 808,
    "start_time": "2022-07-03T19:08:55.842Z"
   },
   {
    "duration": 685,
    "start_time": "2022-07-03T19:14:35.700Z"
   },
   {
    "duration": 727,
    "start_time": "2022-07-03T19:15:04.118Z"
   },
   {
    "duration": 749,
    "start_time": "2022-07-03T19:16:21.476Z"
   },
   {
    "duration": 1221,
    "start_time": "2022-07-03T19:18:18.106Z"
   },
   {
    "duration": 897,
    "start_time": "2022-07-03T19:18:34.434Z"
   },
   {
    "duration": 5,
    "start_time": "2022-07-03T19:20:34.941Z"
   },
   {
    "duration": 6,
    "start_time": "2022-07-03T19:20:46.303Z"
   },
   {
    "duration": 6,
    "start_time": "2022-07-03T19:20:56.808Z"
   },
   {
    "duration": 5,
    "start_time": "2022-07-03T19:21:02.207Z"
   },
   {
    "duration": 9,
    "start_time": "2022-07-03T19:21:07.314Z"
   },
   {
    "duration": 8,
    "start_time": "2022-07-03T19:21:15.407Z"
   },
   {
    "duration": 30,
    "start_time": "2022-07-03T19:28:25.136Z"
   },
   {
    "duration": 44,
    "start_time": "2022-07-03T19:28:42.740Z"
   },
   {
    "duration": 37,
    "start_time": "2022-07-03T19:28:58.751Z"
   },
   {
    "duration": 40,
    "start_time": "2022-07-03T19:29:03.082Z"
   },
   {
    "duration": 33,
    "start_time": "2022-07-03T19:29:45.410Z"
   },
   {
    "duration": 39,
    "start_time": "2022-07-03T19:30:01.299Z"
   },
   {
    "duration": 1846,
    "start_time": "2022-07-03T19:30:30.345Z"
   },
   {
    "duration": 67,
    "start_time": "2022-07-03T19:30:32.193Z"
   },
   {
    "duration": 5,
    "start_time": "2022-07-03T19:30:32.262Z"
   },
   {
    "duration": 69,
    "start_time": "2022-07-03T19:30:32.268Z"
   },
   {
    "duration": 9,
    "start_time": "2022-07-03T19:30:32.340Z"
   },
   {
    "duration": 77,
    "start_time": "2022-07-03T19:30:32.351Z"
   },
   {
    "duration": 113,
    "start_time": "2022-07-03T19:30:32.430Z"
   },
   {
    "duration": 33,
    "start_time": "2022-07-03T19:30:32.545Z"
   },
   {
    "duration": 5187,
    "start_time": "2022-07-03T19:30:32.588Z"
   },
   {
    "duration": 2084,
    "start_time": "2022-07-03T19:30:37.776Z"
   },
   {
    "duration": 45,
    "start_time": "2022-07-03T19:30:39.862Z"
   },
   {
    "duration": 32,
    "start_time": "2022-07-03T19:31:14.704Z"
   },
   {
    "duration": 38,
    "start_time": "2022-07-03T19:31:43.011Z"
   },
   {
    "duration": 44,
    "start_time": "2022-07-03T19:31:52.540Z"
   },
   {
    "duration": 51,
    "start_time": "2022-07-03T19:34:49.242Z"
   },
   {
    "duration": 40,
    "start_time": "2022-07-03T19:36:40.193Z"
   },
   {
    "duration": 34,
    "start_time": "2022-07-03T19:36:45.946Z"
   },
   {
    "duration": 24,
    "start_time": "2022-07-03T19:37:31.002Z"
   },
   {
    "duration": 35,
    "start_time": "2022-07-03T19:40:42.791Z"
   },
   {
    "duration": 235,
    "start_time": "2022-07-03T19:41:14.479Z"
   },
   {
    "duration": 53,
    "start_time": "2022-07-03T19:41:44.215Z"
   },
   {
    "duration": 34,
    "start_time": "2022-07-03T19:46:48.291Z"
   },
   {
    "duration": 49,
    "start_time": "2022-07-03T19:47:50.474Z"
   },
   {
    "duration": 57,
    "start_time": "2022-07-03T19:48:13.034Z"
   },
   {
    "duration": 37,
    "start_time": "2022-07-03T19:48:50.681Z"
   },
   {
    "duration": 43,
    "start_time": "2022-07-03T19:49:19.439Z"
   },
   {
    "duration": 16,
    "start_time": "2022-07-03T19:49:32.168Z"
   },
   {
    "duration": 49,
    "start_time": "2022-07-03T19:50:20.680Z"
   },
   {
    "duration": 84,
    "start_time": "2022-07-03T19:50:27.646Z"
   },
   {
    "duration": 11,
    "start_time": "2022-07-03T19:50:37.448Z"
   },
   {
    "duration": 14,
    "start_time": "2022-07-03T19:51:15.870Z"
   },
   {
    "duration": 19,
    "start_time": "2022-07-03T19:52:21.046Z"
   },
   {
    "duration": 19,
    "start_time": "2022-07-03T19:52:29.244Z"
   },
   {
    "duration": 15,
    "start_time": "2022-07-03T19:53:02.141Z"
   },
   {
    "duration": 14,
    "start_time": "2022-07-03T19:53:32.189Z"
   },
   {
    "duration": 81,
    "start_time": "2022-07-03T19:53:44.638Z"
   },
   {
    "duration": 44,
    "start_time": "2022-07-03T19:53:54.004Z"
   },
   {
    "duration": 80,
    "start_time": "2022-07-03T19:54:07.733Z"
   },
   {
    "duration": 84,
    "start_time": "2022-07-03T19:54:23.727Z"
   },
   {
    "duration": 36,
    "start_time": "2022-07-03T19:55:36.670Z"
   },
   {
    "duration": 39,
    "start_time": "2022-07-03T19:56:06.394Z"
   },
   {
    "duration": 51,
    "start_time": "2022-07-03T19:56:21.796Z"
   },
   {
    "duration": 46,
    "start_time": "2022-07-03T19:56:34.673Z"
   },
   {
    "duration": 45,
    "start_time": "2022-07-03T19:56:48.582Z"
   },
   {
    "duration": 47,
    "start_time": "2022-07-03T19:56:58.235Z"
   },
   {
    "duration": 33,
    "start_time": "2022-07-03T19:57:49.907Z"
   },
   {
    "duration": 39,
    "start_time": "2022-07-03T19:58:19.490Z"
   },
   {
    "duration": 7,
    "start_time": "2022-07-03T20:03:48.409Z"
   },
   {
    "duration": 63,
    "start_time": "2022-07-03T20:05:25.334Z"
   },
   {
    "duration": 53,
    "start_time": "2022-07-03T20:11:21.707Z"
   },
   {
    "duration": 47,
    "start_time": "2022-07-03T20:11:42.430Z"
   },
   {
    "duration": 58,
    "start_time": "2022-07-03T20:11:51.667Z"
   },
   {
    "duration": 63,
    "start_time": "2022-07-03T20:11:59.175Z"
   },
   {
    "duration": 62,
    "start_time": "2022-07-03T20:12:25.682Z"
   },
   {
    "duration": 72,
    "start_time": "2022-07-03T20:13:16.048Z"
   },
   {
    "duration": 5,
    "start_time": "2022-07-03T20:13:24.315Z"
   },
   {
    "duration": 50,
    "start_time": "2022-07-03T20:13:28.235Z"
   },
   {
    "duration": 47,
    "start_time": "2022-07-03T20:13:42.085Z"
   },
   {
    "duration": 53,
    "start_time": "2022-07-03T20:13:50.979Z"
   },
   {
    "duration": 79,
    "start_time": "2022-07-03T20:14:01.948Z"
   },
   {
    "duration": 65,
    "start_time": "2022-07-03T20:14:15.734Z"
   },
   {
    "duration": 43,
    "start_time": "2022-07-03T20:14:23.792Z"
   },
   {
    "duration": 3,
    "start_time": "2022-07-03T20:19:51.921Z"
   },
   {
    "duration": 759,
    "start_time": "2022-07-03T20:20:30.532Z"
   },
   {
    "duration": 768,
    "start_time": "2022-07-03T20:20:49.189Z"
   },
   {
    "duration": 1016,
    "start_time": "2022-07-03T20:20:56.646Z"
   },
   {
    "duration": 63,
    "start_time": "2022-07-03T20:25:55.662Z"
   },
   {
    "duration": 721,
    "start_time": "2022-07-03T20:25:57.765Z"
   },
   {
    "duration": 21,
    "start_time": "2022-07-03T20:26:48.293Z"
   },
   {
    "duration": 5,
    "start_time": "2022-07-03T20:27:31.523Z"
   },
   {
    "duration": 413,
    "start_time": "2022-07-03T20:27:36.078Z"
   },
   {
    "duration": 489,
    "start_time": "2022-07-03T20:27:43.610Z"
   },
   {
    "duration": 438,
    "start_time": "2022-07-03T20:27:48.657Z"
   },
   {
    "duration": 427,
    "start_time": "2022-07-03T20:28:51.017Z"
   },
   {
    "duration": 4,
    "start_time": "2022-07-03T20:30:34.722Z"
   },
   {
    "duration": 498,
    "start_time": "2022-07-03T20:32:04.503Z"
   },
   {
    "duration": 56,
    "start_time": "2022-07-03T20:35:20.924Z"
   },
   {
    "duration": 509,
    "start_time": "2022-07-03T20:36:24.670Z"
   },
   {
    "duration": 59,
    "start_time": "2022-07-03T20:36:43.426Z"
   },
   {
    "duration": 688,
    "start_time": "2022-07-03T20:40:43.766Z"
   },
   {
    "duration": 68,
    "start_time": "2022-07-03T20:41:28.528Z"
   },
   {
    "duration": 490,
    "start_time": "2022-07-03T20:41:41.623Z"
   },
   {
    "duration": 485,
    "start_time": "2022-07-03T20:42:57.222Z"
   },
   {
    "duration": 61,
    "start_time": "2022-07-03T20:43:06.070Z"
   },
   {
    "duration": 1366,
    "start_time": "2022-07-04T09:58:15.105Z"
   },
   {
    "duration": 134,
    "start_time": "2022-07-04T09:58:16.473Z"
   },
   {
    "duration": 3,
    "start_time": "2022-07-04T09:58:16.608Z"
   },
   {
    "duration": 18,
    "start_time": "2022-07-04T09:58:16.613Z"
   },
   {
    "duration": 10,
    "start_time": "2022-07-04T09:58:16.633Z"
   },
   {
    "duration": 13,
    "start_time": "2022-07-04T09:58:16.644Z"
   },
   {
    "duration": 62,
    "start_time": "2022-07-04T09:58:16.658Z"
   },
   {
    "duration": 10,
    "start_time": "2022-07-04T09:58:16.722Z"
   },
   {
    "duration": 3172,
    "start_time": "2022-07-04T09:58:16.733Z"
   },
   {
    "duration": 1266,
    "start_time": "2022-07-04T09:58:19.906Z"
   },
   {
    "duration": 33,
    "start_time": "2022-07-04T09:58:21.173Z"
   },
   {
    "duration": 310,
    "start_time": "2022-07-04T09:58:21.208Z"
   },
   {
    "duration": 3,
    "start_time": "2022-07-04T10:02:52.318Z"
   },
   {
    "duration": 23,
    "start_time": "2022-07-04T10:03:41.913Z"
   },
   {
    "duration": 3,
    "start_time": "2022-07-04T10:04:01.460Z"
   },
   {
    "duration": 11,
    "start_time": "2022-07-04T10:04:02.002Z"
   },
   {
    "duration": 13,
    "start_time": "2022-07-04T10:04:12.168Z"
   },
   {
    "duration": 5,
    "start_time": "2022-07-04T10:04:19.950Z"
   },
   {
    "duration": 32,
    "start_time": "2022-07-04T10:04:34.956Z"
   },
   {
    "duration": 14,
    "start_time": "2022-07-04T10:04:49.447Z"
   },
   {
    "duration": 6,
    "start_time": "2022-07-04T10:57:01.000Z"
   },
   {
    "duration": 4,
    "start_time": "2022-07-04T10:57:17.405Z"
   },
   {
    "duration": 5,
    "start_time": "2022-07-04T10:58:27.746Z"
   },
   {
    "duration": 96,
    "start_time": "2022-07-04T11:07:44.465Z"
   },
   {
    "duration": 3,
    "start_time": "2022-07-04T11:07:50.753Z"
   },
   {
    "duration": 4,
    "start_time": "2022-07-04T11:07:52.434Z"
   },
   {
    "duration": 19,
    "start_time": "2022-07-04T11:07:53.626Z"
   },
   {
    "duration": 323,
    "start_time": "2022-07-04T11:09:27.864Z"
   },
   {
    "duration": 334,
    "start_time": "2022-07-04T11:09:53.204Z"
   },
   {
    "duration": 324,
    "start_time": "2022-07-04T11:31:09.644Z"
   },
   {
    "duration": 5,
    "start_time": "2022-07-04T11:31:24.037Z"
   },
   {
    "duration": 344,
    "start_time": "2022-07-04T11:31:24.631Z"
   },
   {
    "duration": 4,
    "start_time": "2022-07-04T11:31:35.692Z"
   },
   {
    "duration": 369,
    "start_time": "2022-07-04T11:31:36.196Z"
   },
   {
    "duration": 29,
    "start_time": "2022-07-04T11:32:08.443Z"
   },
   {
    "duration": 359,
    "start_time": "2022-07-04T11:52:14.865Z"
   },
   {
    "duration": 344,
    "start_time": "2022-07-04T11:53:38.807Z"
   },
   {
    "duration": 657,
    "start_time": "2022-07-04T12:00:19.406Z"
   },
   {
    "duration": 657,
    "start_time": "2022-07-04T12:01:08.264Z"
   },
   {
    "duration": 677,
    "start_time": "2022-07-04T12:08:40.358Z"
   },
   {
    "duration": 694,
    "start_time": "2022-07-04T12:09:20.635Z"
   },
   {
    "duration": 1715,
    "start_time": "2022-07-04T18:27:37.088Z"
   },
   {
    "duration": 81,
    "start_time": "2022-07-04T18:27:38.805Z"
   },
   {
    "duration": 4,
    "start_time": "2022-07-04T18:27:38.888Z"
   },
   {
    "duration": 28,
    "start_time": "2022-07-04T18:27:38.893Z"
   },
   {
    "duration": 32,
    "start_time": "2022-07-04T18:27:38.933Z"
   },
   {
    "duration": 12,
    "start_time": "2022-07-04T18:27:38.967Z"
   },
   {
    "duration": 108,
    "start_time": "2022-07-04T18:27:38.981Z"
   },
   {
    "duration": 16,
    "start_time": "2022-07-04T18:27:39.091Z"
   },
   {
    "duration": 4639,
    "start_time": "2022-07-04T18:27:39.109Z"
   },
   {
    "duration": 1938,
    "start_time": "2022-07-04T18:27:43.753Z"
   },
   {
    "duration": 9,
    "start_time": "2022-07-04T18:27:45.693Z"
   },
   {
    "duration": 13,
    "start_time": "2022-07-04T18:27:45.703Z"
   },
   {
    "duration": 34,
    "start_time": "2022-07-04T18:27:45.725Z"
   },
   {
    "duration": 149,
    "start_time": "2022-07-04T18:27:45.762Z"
   },
   {
    "duration": 0,
    "start_time": "2022-07-04T18:27:45.913Z"
   },
   {
    "duration": 0,
    "start_time": "2022-07-04T18:27:45.914Z"
   },
   {
    "duration": 9,
    "start_time": "2022-07-04T18:31:15.366Z"
   },
   {
    "duration": 13,
    "start_time": "2022-07-04T18:31:30.097Z"
   },
   {
    "duration": 9,
    "start_time": "2022-07-04T18:31:37.904Z"
   },
   {
    "duration": 4,
    "start_time": "2022-07-04T18:32:35.600Z"
   },
   {
    "duration": 27,
    "start_time": "2022-07-04T18:32:36.848Z"
   },
   {
    "duration": 9,
    "start_time": "2022-07-04T18:32:50.847Z"
   },
   {
    "duration": 4,
    "start_time": "2022-07-04T18:33:13.648Z"
   },
   {
    "duration": 15,
    "start_time": "2022-07-04T18:33:14.299Z"
   },
   {
    "duration": 9,
    "start_time": "2022-07-04T18:33:17.398Z"
   },
   {
    "duration": 7,
    "start_time": "2022-07-04T18:34:59.129Z"
   },
   {
    "duration": 21,
    "start_time": "2022-07-04T18:35:14.549Z"
   },
   {
    "duration": 6,
    "start_time": "2022-07-04T18:35:24.205Z"
   },
   {
    "duration": 12,
    "start_time": "2022-07-04T18:35:33.852Z"
   },
   {
    "duration": 25,
    "start_time": "2022-07-04T18:35:58.244Z"
   },
   {
    "duration": 18,
    "start_time": "2022-07-04T18:42:55.994Z"
   },
   {
    "duration": 20,
    "start_time": "2022-07-04T18:43:14.759Z"
   },
   {
    "duration": 32,
    "start_time": "2022-07-04T18:44:37.326Z"
   },
   {
    "duration": 11,
    "start_time": "2022-07-04T18:44:53.602Z"
   },
   {
    "duration": 13,
    "start_time": "2022-07-04T18:51:39.601Z"
   },
   {
    "duration": 4,
    "start_time": "2022-07-04T19:08:23.724Z"
   },
   {
    "duration": 16,
    "start_time": "2022-07-04T19:09:24.505Z"
   },
   {
    "duration": 22,
    "start_time": "2022-07-04T19:10:59.330Z"
   },
   {
    "duration": 27,
    "start_time": "2022-07-04T19:11:06.274Z"
   },
   {
    "duration": 25,
    "start_time": "2022-07-04T19:24:38.786Z"
   },
   {
    "duration": 14,
    "start_time": "2022-07-04T19:26:17.991Z"
   },
   {
    "duration": 112,
    "start_time": "2022-07-04T19:26:25.419Z"
   },
   {
    "duration": 13,
    "start_time": "2022-07-04T19:32:20.635Z"
   },
   {
    "duration": 49,
    "start_time": "2022-07-04T19:32:21.222Z"
   },
   {
    "duration": 381,
    "start_time": "2022-07-04T19:32:26.643Z"
   },
   {
    "duration": 28,
    "start_time": "2022-07-04T19:33:37.751Z"
   },
   {
    "duration": 4,
    "start_time": "2022-07-04T19:33:40.261Z"
   },
   {
    "duration": 12,
    "start_time": "2022-07-04T19:33:40.892Z"
   },
   {
    "duration": 8,
    "start_time": "2022-07-04T19:33:41.349Z"
   },
   {
    "duration": 8,
    "start_time": "2022-07-04T19:33:41.686Z"
   },
   {
    "duration": 38,
    "start_time": "2022-07-04T19:33:43.525Z"
   },
   {
    "duration": 12,
    "start_time": "2022-07-04T19:33:45.495Z"
   },
   {
    "duration": 3672,
    "start_time": "2022-07-04T19:33:48.407Z"
   },
   {
    "duration": 1390,
    "start_time": "2022-07-04T19:33:56.394Z"
   },
   {
    "duration": 6,
    "start_time": "2022-07-04T19:33:59.759Z"
   },
   {
    "duration": 4,
    "start_time": "2022-07-04T19:34:04.087Z"
   },
   {
    "duration": 16,
    "start_time": "2022-07-04T19:34:07.303Z"
   },
   {
    "duration": 397,
    "start_time": "2022-07-04T19:34:13.326Z"
   },
   {
    "duration": 514,
    "start_time": "2022-07-04T19:40:06.726Z"
   },
   {
    "duration": 185,
    "start_time": "2022-07-04T19:40:36.946Z"
   },
   {
    "duration": 628,
    "start_time": "2022-07-04T19:42:56.498Z"
   },
   {
    "duration": 1094,
    "start_time": "2022-07-04T19:45:53.726Z"
   },
   {
    "duration": 1499,
    "start_time": "2022-07-04T19:48:17.226Z"
   },
   {
    "duration": 1048,
    "start_time": "2022-07-04T19:49:12.921Z"
   },
   {
    "duration": 1076,
    "start_time": "2022-07-04T19:50:49.492Z"
   },
   {
    "duration": 1376,
    "start_time": "2022-07-04T19:51:00.252Z"
   },
   {
    "duration": 4346,
    "start_time": "2022-07-04T19:51:10.924Z"
   },
   {
    "duration": 947,
    "start_time": "2022-07-04T19:51:25.922Z"
   },
   {
    "duration": 1276,
    "start_time": "2022-07-04T19:51:33.007Z"
   },
   {
    "duration": 1051,
    "start_time": "2022-07-04T19:53:57.807Z"
   },
   {
    "duration": 1180,
    "start_time": "2022-07-04T19:54:04.129Z"
   },
   {
    "duration": 1029,
    "start_time": "2022-07-04T19:54:12.761Z"
   },
   {
    "duration": 1072,
    "start_time": "2022-07-04T19:54:21.236Z"
   },
   {
    "duration": 1169,
    "start_time": "2022-07-04T19:54:28.998Z"
   },
   {
    "duration": 1072,
    "start_time": "2022-07-04T19:54:35.106Z"
   },
   {
    "duration": 1029,
    "start_time": "2022-07-04T19:54:40.556Z"
   },
   {
    "duration": 1151,
    "start_time": "2022-07-04T19:54:47.033Z"
   },
   {
    "duration": 763,
    "start_time": "2022-07-04T19:55:26.701Z"
   },
   {
    "duration": 1624,
    "start_time": "2022-07-04T19:55:45.243Z"
   },
   {
    "duration": 842,
    "start_time": "2022-07-04T19:56:02.726Z"
   },
   {
    "duration": 1635,
    "start_time": "2022-07-04T19:56:06.866Z"
   },
   {
    "duration": 1513,
    "start_time": "2022-07-04T19:56:24.626Z"
   },
   {
    "duration": 1401,
    "start_time": "2022-07-04T19:56:33.196Z"
   },
   {
    "duration": 1090,
    "start_time": "2022-07-04T19:57:01.756Z"
   },
   {
    "duration": 1190,
    "start_time": "2022-07-04T19:57:09.291Z"
   },
   {
    "duration": 1133,
    "start_time": "2022-07-04T19:57:19.979Z"
   },
   {
    "duration": 1192,
    "start_time": "2022-07-04T19:57:23.685Z"
   },
   {
    "duration": 1253,
    "start_time": "2022-07-04T19:57:27.413Z"
   },
   {
    "duration": 1359,
    "start_time": "2022-07-04T19:57:31.142Z"
   },
   {
    "duration": 1276,
    "start_time": "2022-07-04T19:57:36.012Z"
   },
   {
    "duration": 1294,
    "start_time": "2022-07-04T19:57:40.463Z"
   },
   {
    "duration": 1443,
    "start_time": "2022-07-04T19:57:44.999Z"
   },
   {
    "duration": 1405,
    "start_time": "2022-07-04T19:57:57.389Z"
   },
   {
    "duration": 1521,
    "start_time": "2022-07-04T19:58:09.240Z"
   },
   {
    "duration": 1574,
    "start_time": "2022-07-04T19:58:14.158Z"
   },
   {
    "duration": 1670,
    "start_time": "2022-07-04T19:58:18.917Z"
   },
   {
    "duration": 1391,
    "start_time": "2022-07-04T19:58:26.840Z"
   },
   {
    "duration": 1372,
    "start_time": "2022-07-04T19:58:30.913Z"
   },
   {
    "duration": 1448,
    "start_time": "2022-07-04T19:58:47.322Z"
   },
   {
    "duration": 1438,
    "start_time": "2022-07-04T19:58:55.897Z"
   },
   {
    "duration": 7687,
    "start_time": "2022-07-04T19:59:01.960Z"
   },
   {
    "duration": 1378,
    "start_time": "2022-07-04T19:59:20.233Z"
   },
   {
    "duration": 1714,
    "start_time": "2022-07-04T20:01:57.299Z"
   },
   {
    "duration": 1850,
    "start_time": "2022-07-04T20:02:06.443Z"
   },
   {
    "duration": 1717,
    "start_time": "2022-07-04T20:02:13.043Z"
   },
   {
    "duration": 1736,
    "start_time": "2022-07-04T20:02:19.189Z"
   },
   {
    "duration": 621,
    "start_time": "2022-07-04T20:02:54.205Z"
   },
   {
    "duration": 1064,
    "start_time": "2022-07-04T20:03:35.736Z"
   },
   {
    "duration": 14,
    "start_time": "2022-07-04T20:07:01.794Z"
   },
   {
    "duration": 715,
    "start_time": "2022-07-04T20:07:21.677Z"
   },
   {
    "duration": 4,
    "start_time": "2022-07-04T20:08:54.124Z"
   },
   {
    "duration": 16,
    "start_time": "2022-07-04T20:08:54.405Z"
   },
   {
    "duration": 1098,
    "start_time": "2022-07-04T20:09:17.946Z"
   },
   {
    "duration": 13,
    "start_time": "2022-07-04T20:09:34.094Z"
   },
   {
    "duration": 699,
    "start_time": "2022-07-04T20:09:34.932Z"
   },
   {
    "duration": 15,
    "start_time": "2022-07-04T20:11:40.039Z"
   },
   {
    "duration": 1069,
    "start_time": "2022-07-04T20:11:47.391Z"
   },
   {
    "duration": 11,
    "start_time": "2022-07-04T20:15:56.397Z"
   },
   {
    "duration": 824,
    "start_time": "2022-07-04T20:16:04.981Z"
   },
   {
    "duration": 13,
    "start_time": "2022-07-04T20:18:21.896Z"
   },
   {
    "duration": 1261,
    "start_time": "2022-07-04T20:18:32.610Z"
   },
   {
    "duration": 1087,
    "start_time": "2022-07-04T20:23:11.688Z"
   },
   {
    "duration": 5,
    "start_time": "2022-07-04T20:23:19.618Z"
   },
   {
    "duration": 13,
    "start_time": "2022-07-04T20:23:19.900Z"
   },
   {
    "duration": 1104,
    "start_time": "2022-07-04T20:23:20.959Z"
   },
   {
    "duration": 13,
    "start_time": "2022-07-04T20:25:38.309Z"
   },
   {
    "duration": 685,
    "start_time": "2022-07-04T20:25:38.907Z"
   },
   {
    "duration": 13,
    "start_time": "2022-07-04T20:25:58.694Z"
   },
   {
    "duration": 1088,
    "start_time": "2022-07-04T20:25:59.180Z"
   },
   {
    "duration": 14,
    "start_time": "2022-07-04T20:26:05.479Z"
   },
   {
    "duration": 821,
    "start_time": "2022-07-04T20:26:05.830Z"
   },
   {
    "duration": 1531,
    "start_time": "2022-07-05T11:23:27.589Z"
   },
   {
    "duration": 168,
    "start_time": "2022-07-05T11:23:29.122Z"
   },
   {
    "duration": 4,
    "start_time": "2022-07-05T11:23:29.291Z"
   },
   {
    "duration": 14,
    "start_time": "2022-07-05T11:23:29.296Z"
   },
   {
    "duration": 7,
    "start_time": "2022-07-05T11:23:29.311Z"
   },
   {
    "duration": 5,
    "start_time": "2022-07-05T11:23:29.320Z"
   },
   {
    "duration": 74,
    "start_time": "2022-07-05T11:23:29.327Z"
   },
   {
    "duration": 11,
    "start_time": "2022-07-05T11:23:29.402Z"
   },
   {
    "duration": 3696,
    "start_time": "2022-07-05T11:23:29.414Z"
   },
   {
    "duration": 1515,
    "start_time": "2022-07-05T11:23:33.112Z"
   },
   {
    "duration": 6,
    "start_time": "2022-07-05T11:23:34.629Z"
   },
   {
    "duration": 32,
    "start_time": "2022-07-05T11:23:34.636Z"
   },
   {
    "duration": 19,
    "start_time": "2022-07-05T11:23:34.670Z"
   },
   {
    "duration": 1081,
    "start_time": "2022-07-05T11:23:34.693Z"
   },
   {
    "duration": 13,
    "start_time": "2022-07-05T11:23:35.776Z"
   },
   {
    "duration": 773,
    "start_time": "2022-07-05T11:23:35.790Z"
   },
   {
    "duration": 11,
    "start_time": "2022-07-05T11:23:36.565Z"
   },
   {
    "duration": 1001,
    "start_time": "2022-07-05T11:23:36.578Z"
   },
   {
    "duration": 11,
    "start_time": "2022-07-05T11:23:37.580Z"
   },
   {
    "duration": 772,
    "start_time": "2022-07-05T11:23:37.593Z"
   },
   {
    "duration": 30,
    "start_time": "2022-07-05T11:23:38.366Z"
   },
   {
    "duration": 362,
    "start_time": "2022-07-05T11:23:38.397Z"
   },
   {
    "duration": 4,
    "start_time": "2022-07-05T11:33:27.686Z"
   },
   {
    "duration": 7,
    "start_time": "2022-07-05T11:57:13.179Z"
   },
   {
    "duration": 4,
    "start_time": "2022-07-05T11:57:24.100Z"
   },
   {
    "duration": 39,
    "start_time": "2022-07-05T11:57:40.029Z"
   },
   {
    "duration": 6,
    "start_time": "2022-07-05T11:57:52.178Z"
   },
   {
    "duration": 13,
    "start_time": "2022-07-05T11:57:52.737Z"
   },
   {
    "duration": 1213,
    "start_time": "2022-07-05T11:57:53.483Z"
   },
   {
    "duration": 5,
    "start_time": "2022-07-05T11:58:38.538Z"
   },
   {
    "duration": 29,
    "start_time": "2022-07-05T11:58:39.526Z"
   },
   {
    "duration": 5,
    "start_time": "2022-07-05T11:59:01.704Z"
   },
   {
    "duration": 76,
    "start_time": "2022-07-05T11:59:04.142Z"
   },
   {
    "duration": 8,
    "start_time": "2022-07-05T11:59:17.046Z"
   },
   {
    "duration": 5,
    "start_time": "2022-07-05T11:59:19.239Z"
   },
   {
    "duration": 42,
    "start_time": "2022-07-05T11:59:21.017Z"
   },
   {
    "duration": 1623,
    "start_time": "2022-07-05T12:00:54.028Z"
   },
   {
    "duration": 63,
    "start_time": "2022-07-05T12:00:57.077Z"
   },
   {
    "duration": 4,
    "start_time": "2022-07-05T12:00:58.321Z"
   },
   {
    "duration": 15,
    "start_time": "2022-07-05T12:00:59.712Z"
   },
   {
    "duration": 13,
    "start_time": "2022-07-05T12:01:02.688Z"
   },
   {
    "duration": 10,
    "start_time": "2022-07-05T12:01:03.592Z"
   },
   {
    "duration": 99,
    "start_time": "2022-07-05T12:01:06.587Z"
   },
   {
    "duration": 13,
    "start_time": "2022-07-05T12:01:09.536Z"
   },
   {
    "duration": 4374,
    "start_time": "2022-07-05T12:01:12.025Z"
   },
   {
    "duration": 1716,
    "start_time": "2022-07-05T12:01:19.704Z"
   },
   {
    "duration": 13,
    "start_time": "2022-07-05T12:01:26.046Z"
   },
   {
    "duration": 8,
    "start_time": "2022-07-05T12:01:28.482Z"
   },
   {
    "duration": 227,
    "start_time": "2022-07-05T12:01:33.345Z"
   },
   {
    "duration": 4,
    "start_time": "2022-07-05T12:01:58.119Z"
   },
   {
    "duration": 13,
    "start_time": "2022-07-05T12:01:59.905Z"
   },
   {
    "duration": 1097,
    "start_time": "2022-07-05T12:02:07.384Z"
   },
   {
    "duration": 27,
    "start_time": "2022-07-05T12:03:47.324Z"
   },
   {
    "duration": 5,
    "start_time": "2022-07-05T12:07:40.000Z"
   },
   {
    "duration": 27,
    "start_time": "2022-07-05T12:07:40.409Z"
   },
   {
    "duration": 27,
    "start_time": "2022-07-05T12:07:46.616Z"
   },
   {
    "duration": 26,
    "start_time": "2022-07-05T12:07:50.121Z"
   },
   {
    "duration": 5,
    "start_time": "2022-07-05T12:10:45.379Z"
   },
   {
    "duration": 45,
    "start_time": "2022-07-05T12:10:45.843Z"
   },
   {
    "duration": 13,
    "start_time": "2022-07-05T12:10:59.319Z"
   },
   {
    "duration": 1152,
    "start_time": "2022-07-05T12:11:00.390Z"
   },
   {
    "duration": 579,
    "start_time": "2022-07-05T12:13:05.189Z"
   },
   {
    "duration": 10,
    "start_time": "2022-07-05T12:14:36.177Z"
   },
   {
    "duration": 14,
    "start_time": "2022-07-05T12:14:37.190Z"
   },
   {
    "duration": 1160,
    "start_time": "2022-07-05T12:14:38.178Z"
   },
   {
    "duration": 535,
    "start_time": "2022-07-05T12:15:26.506Z"
   },
   {
    "duration": 7,
    "start_time": "2022-07-05T12:25:47.799Z"
   },
   {
    "duration": 601,
    "start_time": "2022-07-05T12:25:50.990Z"
   },
   {
    "duration": 653,
    "start_time": "2022-07-05T12:26:53.937Z"
   },
   {
    "duration": 1227,
    "start_time": "2022-07-05T12:28:43.676Z"
   },
   {
    "duration": 571,
    "start_time": "2022-07-05T12:29:02.007Z"
   },
   {
    "duration": 106,
    "start_time": "2022-07-05T12:38:16.142Z"
   },
   {
    "duration": 7,
    "start_time": "2022-07-05T12:39:50.197Z"
   },
   {
    "duration": 6,
    "start_time": "2022-07-05T12:40:06.737Z"
   },
   {
    "duration": 301,
    "start_time": "2022-07-05T12:40:07.380Z"
   },
   {
    "duration": 12,
    "start_time": "2022-07-05T12:40:55.356Z"
   },
   {
    "duration": 622,
    "start_time": "2022-07-05T12:40:56.214Z"
   },
   {
    "duration": 704,
    "start_time": "2022-07-05T12:41:50.678Z"
   },
   {
    "duration": 743,
    "start_time": "2022-07-05T12:42:08.346Z"
   },
   {
    "duration": 787,
    "start_time": "2022-07-05T12:43:00.324Z"
   },
   {
    "duration": 615,
    "start_time": "2022-07-05T13:18:10.694Z"
   },
   {
    "duration": 144,
    "start_time": "2022-07-05T13:18:25.413Z"
   },
   {
    "duration": 1672,
    "start_time": "2022-07-05T18:12:06.524Z"
   },
   {
    "duration": 162,
    "start_time": "2022-07-05T18:12:08.199Z"
   },
   {
    "duration": 4,
    "start_time": "2022-07-05T18:12:09.576Z"
   },
   {
    "duration": 13,
    "start_time": "2022-07-05T18:12:10.365Z"
   },
   {
    "duration": 8,
    "start_time": "2022-07-05T18:12:10.962Z"
   },
   {
    "duration": 9,
    "start_time": "2022-07-05T18:12:11.351Z"
   },
   {
    "duration": 86,
    "start_time": "2022-07-05T18:12:13.640Z"
   },
   {
    "duration": 14,
    "start_time": "2022-07-05T18:12:17.400Z"
   },
   {
    "duration": 4227,
    "start_time": "2022-07-05T18:12:20.995Z"
   },
   {
    "duration": 1678,
    "start_time": "2022-07-05T18:12:26.840Z"
   },
   {
    "duration": 7,
    "start_time": "2022-07-05T18:13:31.601Z"
   },
   {
    "duration": 14,
    "start_time": "2022-07-05T18:18:37.039Z"
   },
   {
    "duration": 5,
    "start_time": "2022-07-05T18:25:18.753Z"
   },
   {
    "duration": 513,
    "start_time": "2022-07-05T18:32:23.155Z"
   },
   {
    "duration": 571,
    "start_time": "2022-07-05T18:35:06.438Z"
   },
   {
    "duration": 95,
    "start_time": "2022-07-05T18:36:19.809Z"
   },
   {
    "duration": 1512,
    "start_time": "2022-07-05T19:12:58.492Z"
   },
   {
    "duration": 49,
    "start_time": "2022-07-05T19:13:00.006Z"
   },
   {
    "duration": 4,
    "start_time": "2022-07-05T19:13:00.057Z"
   },
   {
    "duration": 22,
    "start_time": "2022-07-05T19:13:00.063Z"
   },
   {
    "duration": 9,
    "start_time": "2022-07-05T19:13:00.087Z"
   },
   {
    "duration": 16,
    "start_time": "2022-07-05T19:13:00.097Z"
   },
   {
    "duration": 77,
    "start_time": "2022-07-05T19:13:00.115Z"
   },
   {
    "duration": 14,
    "start_time": "2022-07-05T19:13:00.197Z"
   },
   {
    "duration": 3933,
    "start_time": "2022-07-05T19:13:00.213Z"
   },
   {
    "duration": 1647,
    "start_time": "2022-07-05T19:13:04.148Z"
   },
   {
    "duration": 6,
    "start_time": "2022-07-05T19:13:05.798Z"
   },
   {
    "duration": 40,
    "start_time": "2022-07-05T19:13:05.806Z"
   },
   {
    "duration": 20,
    "start_time": "2022-07-05T19:13:05.849Z"
   },
   {
    "duration": 573,
    "start_time": "2022-07-05T19:13:05.871Z"
   },
   {
    "duration": 157,
    "start_time": "2022-07-05T19:13:06.446Z"
   },
   {
    "duration": 13,
    "start_time": "2022-07-05T19:18:24.620Z"
   },
   {
    "duration": 5,
    "start_time": "2022-07-05T19:18:32.731Z"
   },
   {
    "duration": 252,
    "start_time": "2022-07-05T19:19:07.047Z"
   },
   {
    "duration": 16,
    "start_time": "2022-07-05T19:19:14.974Z"
   },
   {
    "duration": 5,
    "start_time": "2022-07-05T19:19:23.145Z"
   },
   {
    "duration": 15,
    "start_time": "2022-07-05T19:19:51.637Z"
   },
   {
    "duration": 3,
    "start_time": "2022-07-05T19:19:57.238Z"
   },
   {
    "duration": 73,
    "start_time": "2022-07-05T19:20:58.034Z"
   },
   {
    "duration": 73,
    "start_time": "2022-07-05T19:28:02.094Z"
   },
   {
    "duration": 87,
    "start_time": "2022-07-05T19:28:09.219Z"
   },
   {
    "duration": 76,
    "start_time": "2022-07-05T19:28:45.071Z"
   },
   {
    "duration": 78,
    "start_time": "2022-07-05T19:29:01.762Z"
   },
   {
    "duration": 98,
    "start_time": "2022-07-05T19:29:50.205Z"
   },
   {
    "duration": 53,
    "start_time": "2022-07-05T19:30:12.246Z"
   },
   {
    "duration": 34,
    "start_time": "2022-07-05T19:30:56.565Z"
   },
   {
    "duration": 5,
    "start_time": "2022-07-05T19:32:30.431Z"
   },
   {
    "duration": 14,
    "start_time": "2022-07-05T19:33:41.425Z"
   },
   {
    "duration": 16,
    "start_time": "2022-07-05T19:36:36.251Z"
   },
   {
    "duration": 4,
    "start_time": "2022-07-05T19:36:53.958Z"
   },
   {
    "duration": 4,
    "start_time": "2022-07-05T19:37:07.189Z"
   },
   {
    "duration": 5,
    "start_time": "2022-07-05T19:37:16.623Z"
   },
   {
    "duration": 10,
    "start_time": "2022-07-05T19:37:29.790Z"
   },
   {
    "duration": 12,
    "start_time": "2022-07-05T19:37:47.993Z"
   },
   {
    "duration": 5,
    "start_time": "2022-07-05T19:38:04.002Z"
   },
   {
    "duration": 4,
    "start_time": "2022-07-05T19:38:33.111Z"
   },
   {
    "duration": 4,
    "start_time": "2022-07-05T19:38:37.320Z"
   },
   {
    "duration": 15,
    "start_time": "2022-07-05T19:45:59.914Z"
   },
   {
    "duration": 15,
    "start_time": "2022-07-05T19:46:22.794Z"
   },
   {
    "duration": 8,
    "start_time": "2022-07-05T19:46:44.827Z"
   },
   {
    "duration": 16,
    "start_time": "2022-07-05T19:46:57.380Z"
   },
   {
    "duration": 9,
    "start_time": "2022-07-05T19:47:42.908Z"
   },
   {
    "duration": 5,
    "start_time": "2022-07-05T19:47:53.109Z"
   },
   {
    "duration": 14,
    "start_time": "2022-07-05T19:48:03.558Z"
   },
   {
    "duration": 20,
    "start_time": "2022-07-05T19:48:11.505Z"
   },
   {
    "duration": 15,
    "start_time": "2022-07-05T19:48:35.701Z"
   },
   {
    "duration": 10,
    "start_time": "2022-07-05T19:48:57.310Z"
   },
   {
    "duration": 14,
    "start_time": "2022-07-05T19:49:01.838Z"
   },
   {
    "duration": 15,
    "start_time": "2022-07-05T19:49:14.343Z"
   },
   {
    "duration": 11,
    "start_time": "2022-07-05T19:49:18.950Z"
   },
   {
    "duration": 9,
    "start_time": "2022-07-05T19:49:24.606Z"
   },
   {
    "duration": 14,
    "start_time": "2022-07-05T19:50:16.288Z"
   },
   {
    "duration": 10,
    "start_time": "2022-07-05T19:50:34.136Z"
   },
   {
    "duration": 4,
    "start_time": "2022-07-05T19:50:42.534Z"
   },
   {
    "duration": 4,
    "start_time": "2022-07-05T19:50:51.972Z"
   },
   {
    "duration": 5,
    "start_time": "2022-07-05T19:51:08.331Z"
   },
   {
    "duration": 9,
    "start_time": "2022-07-05T19:51:26.139Z"
   },
   {
    "duration": 11,
    "start_time": "2022-07-05T19:51:44.765Z"
   },
   {
    "duration": 9,
    "start_time": "2022-07-05T19:51:52.970Z"
   },
   {
    "duration": 9,
    "start_time": "2022-07-05T19:52:03.171Z"
   },
   {
    "duration": 10,
    "start_time": "2022-07-05T19:52:14.690Z"
   },
   {
    "duration": 10,
    "start_time": "2022-07-05T19:52:17.274Z"
   },
   {
    "duration": 11,
    "start_time": "2022-07-05T19:52:19.997Z"
   },
   {
    "duration": 6,
    "start_time": "2022-07-05T19:52:22.986Z"
   },
   {
    "duration": 5,
    "start_time": "2022-07-05T19:52:32.090Z"
   },
   {
    "duration": 4,
    "start_time": "2022-07-05T19:52:35.249Z"
   },
   {
    "duration": 4,
    "start_time": "2022-07-05T19:52:41.571Z"
   },
   {
    "duration": 4,
    "start_time": "2022-07-05T19:52:45.283Z"
   },
   {
    "duration": 4,
    "start_time": "2022-07-05T19:52:51.363Z"
   },
   {
    "duration": 5,
    "start_time": "2022-07-05T19:56:46.459Z"
   },
   {
    "duration": 5,
    "start_time": "2022-07-05T19:56:53.074Z"
   },
   {
    "duration": 5,
    "start_time": "2022-07-05T19:57:15.713Z"
   },
   {
    "duration": 9,
    "start_time": "2022-07-05T19:57:29.079Z"
   },
   {
    "duration": 5,
    "start_time": "2022-07-05T19:57:35.818Z"
   },
   {
    "duration": 4,
    "start_time": "2022-07-05T19:58:03.106Z"
   },
   {
    "duration": 23,
    "start_time": "2022-07-05T19:58:31.499Z"
   },
   {
    "duration": 122,
    "start_time": "2022-07-05T19:59:37.085Z"
   },
   {
    "duration": 24,
    "start_time": "2022-07-05T19:59:46.577Z"
   },
   {
    "duration": 39,
    "start_time": "2022-07-05T20:02:32.959Z"
   },
   {
    "duration": 15,
    "start_time": "2022-07-05T20:14:35.769Z"
   },
   {
    "duration": 53,
    "start_time": "2022-07-05T20:15:12.244Z"
   },
   {
    "duration": 231,
    "start_time": "2022-07-05T20:17:47.669Z"
   },
   {
    "duration": 51,
    "start_time": "2022-07-05T20:24:30.279Z"
   },
   {
    "duration": 15,
    "start_time": "2022-07-05T20:31:13.824Z"
   },
   {
    "duration": 4,
    "start_time": "2022-07-05T20:31:16.171Z"
   },
   {
    "duration": 384,
    "start_time": "2022-07-05T20:31:35.529Z"
   },
   {
    "duration": 16,
    "start_time": "2022-07-05T20:33:21.657Z"
   },
   {
    "duration": 4,
    "start_time": "2022-07-05T20:33:23.826Z"
   },
   {
    "duration": 376,
    "start_time": "2022-07-05T20:33:25.762Z"
   },
   {
    "duration": 15,
    "start_time": "2022-07-05T20:34:01.637Z"
   },
   {
    "duration": 4,
    "start_time": "2022-07-05T20:34:03.650Z"
   },
   {
    "duration": 393,
    "start_time": "2022-07-05T20:34:04.355Z"
   },
   {
    "duration": 23,
    "start_time": "2022-07-05T20:34:31.746Z"
   },
   {
    "duration": 18,
    "start_time": "2022-07-05T20:36:04.110Z"
   },
   {
    "duration": 4,
    "start_time": "2022-07-05T20:36:05.005Z"
   },
   {
    "duration": 366,
    "start_time": "2022-07-05T20:36:08.288Z"
   },
   {
    "duration": 25,
    "start_time": "2022-07-05T20:36:15.918Z"
   },
   {
    "duration": 13,
    "start_time": "2022-07-05T20:37:06.348Z"
   },
   {
    "duration": 4,
    "start_time": "2022-07-05T20:37:08.318Z"
   },
   {
    "duration": 356,
    "start_time": "2022-07-05T20:37:10.708Z"
   },
   {
    "duration": 15,
    "start_time": "2022-07-05T20:39:24.958Z"
   },
   {
    "duration": 4,
    "start_time": "2022-07-05T20:39:35.825Z"
   },
   {
    "duration": 350,
    "start_time": "2022-07-05T20:40:12.178Z"
   },
   {
    "duration": 24,
    "start_time": "2022-07-05T20:40:17.440Z"
   },
   {
    "duration": 19,
    "start_time": "2022-07-05T20:40:30.283Z"
   },
   {
    "duration": 24,
    "start_time": "2022-07-05T20:52:05.323Z"
   },
   {
    "duration": 1448,
    "start_time": "2022-07-05T20:52:17.650Z"
   },
   {
    "duration": 48,
    "start_time": "2022-07-05T20:52:19.100Z"
   },
   {
    "duration": 4,
    "start_time": "2022-07-05T20:52:19.149Z"
   },
   {
    "duration": 15,
    "start_time": "2022-07-05T20:52:19.155Z"
   },
   {
    "duration": 7,
    "start_time": "2022-07-05T20:52:19.172Z"
   },
   {
    "duration": 9,
    "start_time": "2022-07-05T20:52:19.181Z"
   },
   {
    "duration": 82,
    "start_time": "2022-07-05T20:52:19.191Z"
   },
   {
    "duration": 31,
    "start_time": "2022-07-05T20:52:19.275Z"
   },
   {
    "duration": 4067,
    "start_time": "2022-07-05T20:52:19.307Z"
   },
   {
    "duration": 1657,
    "start_time": "2022-07-05T20:52:23.377Z"
   },
   {
    "duration": 6,
    "start_time": "2022-07-05T20:52:25.036Z"
   },
   {
    "duration": 23,
    "start_time": "2022-07-05T20:52:25.043Z"
   },
   {
    "duration": 6,
    "start_time": "2022-07-05T20:52:25.068Z"
   },
   {
    "duration": 387,
    "start_time": "2022-07-05T20:52:25.077Z"
   },
   {
    "duration": 34,
    "start_time": "2022-07-05T20:52:25.466Z"
   },
   {
    "duration": 19,
    "start_time": "2022-07-05T20:52:25.503Z"
   },
   {
    "duration": 3,
    "start_time": "2022-07-05T21:13:09.044Z"
   },
   {
    "duration": 3,
    "start_time": "2022-07-05T21:15:13.009Z"
   },
   {
    "duration": 1830,
    "start_time": "2022-07-06T07:19:58.169Z"
   },
   {
    "duration": 80,
    "start_time": "2022-07-06T07:20:00.002Z"
   },
   {
    "duration": 5,
    "start_time": "2022-07-06T07:20:00.083Z"
   },
   {
    "duration": 34,
    "start_time": "2022-07-06T07:20:00.089Z"
   },
   {
    "duration": 30,
    "start_time": "2022-07-06T07:20:00.128Z"
   },
   {
    "duration": 26,
    "start_time": "2022-07-06T07:20:00.160Z"
   },
   {
    "duration": 94,
    "start_time": "2022-07-06T07:20:00.188Z"
   },
   {
    "duration": 13,
    "start_time": "2022-07-06T07:20:00.284Z"
   },
   {
    "duration": 4321,
    "start_time": "2022-07-06T07:20:00.300Z"
   },
   {
    "duration": 1813,
    "start_time": "2022-07-06T07:20:04.623Z"
   },
   {
    "duration": 27,
    "start_time": "2022-07-06T07:20:06.439Z"
   },
   {
    "duration": 23,
    "start_time": "2022-07-06T07:20:06.468Z"
   },
   {
    "duration": 14,
    "start_time": "2022-07-06T07:20:06.493Z"
   },
   {
    "duration": 430,
    "start_time": "2022-07-06T07:20:06.510Z"
   },
   {
    "duration": 32,
    "start_time": "2022-07-06T07:20:06.942Z"
   },
   {
    "duration": 21,
    "start_time": "2022-07-06T07:20:06.976Z"
   },
   {
    "duration": 20,
    "start_time": "2022-07-06T07:20:21.901Z"
   },
   {
    "duration": 415,
    "start_time": "2022-07-06T07:24:42.997Z"
   },
   {
    "duration": 876,
    "start_time": "2022-07-06T07:26:23.688Z"
   },
   {
    "duration": 169,
    "start_time": "2022-07-06T07:35:55.733Z"
   },
   {
    "duration": 11,
    "start_time": "2022-07-06T07:36:58.248Z"
   },
   {
    "duration": 155,
    "start_time": "2022-07-06T07:37:06.171Z"
   },
   {
    "duration": 720,
    "start_time": "2022-07-06T07:37:20.122Z"
   },
   {
    "duration": 822,
    "start_time": "2022-07-06T07:38:44.898Z"
   },
   {
    "duration": 408,
    "start_time": "2022-07-06T07:46:17.803Z"
   },
   {
    "duration": 718,
    "start_time": "2022-07-06T07:47:34.605Z"
   },
   {
    "duration": 714,
    "start_time": "2022-07-06T07:49:53.924Z"
   },
   {
    "duration": 373,
    "start_time": "2022-07-06T07:51:37.547Z"
   },
   {
    "duration": 437,
    "start_time": "2022-07-06T07:52:14.116Z"
   },
   {
    "duration": 375,
    "start_time": "2022-07-06T07:52:23.736Z"
   },
   {
    "duration": 331,
    "start_time": "2022-07-06T07:56:33.513Z"
   },
   {
    "duration": 323,
    "start_time": "2022-07-06T07:56:41.641Z"
   },
   {
    "duration": 351,
    "start_time": "2022-07-06T07:57:12.418Z"
   },
   {
    "duration": 442,
    "start_time": "2022-07-06T08:31:46.561Z"
   },
   {
    "duration": 5,
    "start_time": "2022-07-06T08:48:44.794Z"
   },
   {
    "duration": 36,
    "start_time": "2022-07-06T08:49:48.791Z"
   },
   {
    "duration": 191,
    "start_time": "2022-07-06T08:51:09.889Z"
   },
   {
    "duration": 183,
    "start_time": "2022-07-06T08:51:21.015Z"
   },
   {
    "duration": 7,
    "start_time": "2022-07-06T08:51:26.489Z"
   },
   {
    "duration": 4,
    "start_time": "2022-07-06T08:51:36.433Z"
   },
   {
    "duration": 5,
    "start_time": "2022-07-06T08:51:40.351Z"
   },
   {
    "duration": 49,
    "start_time": "2022-07-06T08:57:47.921Z"
   },
   {
    "duration": 4,
    "start_time": "2022-07-06T08:57:52.498Z"
   },
   {
    "duration": 49,
    "start_time": "2022-07-06T08:58:25.879Z"
   },
   {
    "duration": 5,
    "start_time": "2022-07-06T08:58:28.173Z"
   },
   {
    "duration": 3,
    "start_time": "2022-07-06T08:58:33.842Z"
   },
   {
    "duration": 28,
    "start_time": "2022-07-06T08:58:35.933Z"
   },
   {
    "duration": 5,
    "start_time": "2022-07-06T08:58:42.039Z"
   },
   {
    "duration": 50,
    "start_time": "2022-07-06T08:58:42.820Z"
   },
   {
    "duration": 5,
    "start_time": "2022-07-06T08:58:43.692Z"
   },
   {
    "duration": 20,
    "start_time": "2022-07-06T08:59:29.766Z"
   },
   {
    "duration": 12,
    "start_time": "2022-07-06T09:00:28.635Z"
   },
   {
    "duration": 9,
    "start_time": "2022-07-06T09:00:32.080Z"
   },
   {
    "duration": 8,
    "start_time": "2022-07-06T09:00:34.346Z"
   },
   {
    "duration": 8,
    "start_time": "2022-07-06T09:00:36.072Z"
   },
   {
    "duration": 9,
    "start_time": "2022-07-06T09:00:42.584Z"
   },
   {
    "duration": 61,
    "start_time": "2022-07-06T09:00:56.520Z"
   },
   {
    "duration": 56,
    "start_time": "2022-07-06T09:01:01.306Z"
   },
   {
    "duration": 5,
    "start_time": "2022-07-06T09:01:02.015Z"
   },
   {
    "duration": 17,
    "start_time": "2022-07-06T09:01:04.152Z"
   },
   {
    "duration": 47,
    "start_time": "2022-07-06T09:01:46.145Z"
   },
   {
    "duration": 4,
    "start_time": "2022-07-06T09:01:46.489Z"
   },
   {
    "duration": 4,
    "start_time": "2022-07-06T09:02:18.882Z"
   },
   {
    "duration": 51,
    "start_time": "2022-07-06T09:03:20.704Z"
   },
   {
    "duration": 4,
    "start_time": "2022-07-06T09:03:21.268Z"
   },
   {
    "duration": 30,
    "start_time": "2022-07-06T09:03:23.708Z"
   },
   {
    "duration": 60,
    "start_time": "2022-07-06T09:03:43.409Z"
   },
   {
    "duration": 30,
    "start_time": "2022-07-06T09:03:46.181Z"
   },
   {
    "duration": 56,
    "start_time": "2022-07-06T09:03:47.440Z"
   },
   {
    "duration": 352,
    "start_time": "2022-07-06T09:03:55.065Z"
   },
   {
    "duration": 1777,
    "start_time": "2022-07-06T09:06:09.900Z"
   },
   {
    "duration": 18,
    "start_time": "2022-07-06T09:12:58.273Z"
   },
   {
    "duration": 5,
    "start_time": "2022-07-06T09:14:50.704Z"
   },
   {
    "duration": 51,
    "start_time": "2022-07-06T09:15:16.171Z"
   },
   {
    "duration": 29,
    "start_time": "2022-07-06T09:15:18.883Z"
   },
   {
    "duration": 49,
    "start_time": "2022-07-06T09:15:20.624Z"
   },
   {
    "duration": 5,
    "start_time": "2022-07-06T09:15:21.676Z"
   },
   {
    "duration": 390,
    "start_time": "2022-07-06T09:15:29.995Z"
   },
   {
    "duration": 53,
    "start_time": "2022-07-06T09:16:07.244Z"
   },
   {
    "duration": 52,
    "start_time": "2022-07-06T09:16:11.902Z"
   },
   {
    "duration": 6,
    "start_time": "2022-07-06T09:16:12.686Z"
   },
   {
    "duration": 495,
    "start_time": "2022-07-06T09:16:17.084Z"
   },
   {
    "duration": 28,
    "start_time": "2022-07-06T09:17:33.875Z"
   },
   {
    "duration": 1427,
    "start_time": "2022-07-06T09:18:41.169Z"
   },
   {
    "duration": 37,
    "start_time": "2022-07-06T09:18:42.598Z"
   },
   {
    "duration": 4,
    "start_time": "2022-07-06T09:18:42.637Z"
   },
   {
    "duration": 21,
    "start_time": "2022-07-06T09:18:42.643Z"
   },
   {
    "duration": 10,
    "start_time": "2022-07-06T09:18:42.666Z"
   },
   {
    "duration": 14,
    "start_time": "2022-07-06T09:18:42.679Z"
   },
   {
    "duration": 104,
    "start_time": "2022-07-06T09:18:42.695Z"
   },
   {
    "duration": 29,
    "start_time": "2022-07-06T09:18:42.801Z"
   },
   {
    "duration": 3845,
    "start_time": "2022-07-06T09:18:42.832Z"
   },
   {
    "duration": 1714,
    "start_time": "2022-07-06T09:18:46.679Z"
   },
   {
    "duration": 7,
    "start_time": "2022-07-06T09:18:48.395Z"
   },
   {
    "duration": 31,
    "start_time": "2022-07-06T09:18:48.403Z"
   },
   {
    "duration": 5,
    "start_time": "2022-07-06T09:18:48.436Z"
   },
   {
    "duration": 357,
    "start_time": "2022-07-06T09:18:48.444Z"
   },
   {
    "duration": 32,
    "start_time": "2022-07-06T09:18:48.803Z"
   },
   {
    "duration": 22,
    "start_time": "2022-07-06T09:18:48.837Z"
   },
   {
    "duration": 9,
    "start_time": "2022-07-06T09:42:49.982Z"
   },
   {
    "duration": 16,
    "start_time": "2022-07-06T09:42:51.574Z"
   },
   {
    "duration": 4,
    "start_time": "2022-07-06T09:42:57.273Z"
   },
   {
    "duration": 5,
    "start_time": "2022-07-06T09:43:02.637Z"
   },
   {
    "duration": 10,
    "start_time": "2022-07-06T09:45:06.577Z"
   },
   {
    "duration": 5,
    "start_time": "2022-07-06T09:46:11.587Z"
   },
   {
    "duration": 566,
    "start_time": "2022-07-06T09:48:02.150Z"
   },
   {
    "duration": 7,
    "start_time": "2022-07-06T09:48:07.239Z"
   },
   {
    "duration": 4,
    "start_time": "2022-07-06T09:48:21.670Z"
   },
   {
    "duration": 4,
    "start_time": "2022-07-06T09:48:31.722Z"
   },
   {
    "duration": 108885,
    "start_time": "2022-07-06T09:52:40.680Z"
   },
   {
    "duration": 108438,
    "start_time": "2022-07-06T10:00:28.890Z"
   },
   {
    "duration": 109465,
    "start_time": "2022-07-06T10:03:47.612Z"
   },
   {
    "duration": 26,
    "start_time": "2022-07-06T10:06:31.151Z"
   },
   {
    "duration": 1374,
    "start_time": "2022-07-06T10:15:23.256Z"
   },
   {
    "duration": 5,
    "start_time": "2022-07-06T10:15:30.209Z"
   },
   {
    "duration": 1639,
    "start_time": "2022-07-06T10:16:06.286Z"
   },
   {
    "duration": 1052,
    "start_time": "2022-07-06T10:16:25.574Z"
   },
   {
    "duration": 1019,
    "start_time": "2022-07-06T10:18:41.273Z"
   },
   {
    "duration": 1098,
    "start_time": "2022-07-06T10:19:04.202Z"
   },
   {
    "duration": 33252,
    "start_time": "2022-07-06T10:20:06.906Z"
   },
   {
    "duration": 1382,
    "start_time": "2022-07-06T10:51:05.345Z"
   },
   {
    "duration": 1313,
    "start_time": "2022-07-06T10:58:04.116Z"
   },
   {
    "duration": 1324,
    "start_time": "2022-07-06T11:27:17.202Z"
   },
   {
    "duration": 1497,
    "start_time": "2022-07-06T11:27:34.541Z"
   },
   {
    "duration": 4,
    "start_time": "2022-07-06T13:23:33.088Z"
   },
   {
    "duration": 3,
    "start_time": "2022-07-06T13:26:05.553Z"
   },
   {
    "duration": 3,
    "start_time": "2022-07-06T13:26:29.393Z"
   },
   {
    "duration": 899,
    "start_time": "2022-07-06T13:30:52.045Z"
   },
   {
    "duration": 1417,
    "start_time": "2022-07-06T13:35:06.729Z"
   },
   {
    "duration": 35,
    "start_time": "2022-07-06T13:35:08.148Z"
   },
   {
    "duration": 4,
    "start_time": "2022-07-06T13:35:08.185Z"
   },
   {
    "duration": 21,
    "start_time": "2022-07-06T13:35:08.190Z"
   },
   {
    "duration": 17,
    "start_time": "2022-07-06T13:35:08.213Z"
   },
   {
    "duration": 13,
    "start_time": "2022-07-06T13:35:08.232Z"
   },
   {
    "duration": 69,
    "start_time": "2022-07-06T13:35:08.246Z"
   },
   {
    "duration": 21,
    "start_time": "2022-07-06T13:35:08.317Z"
   },
   {
    "duration": 3813,
    "start_time": "2022-07-06T13:35:08.340Z"
   },
   {
    "duration": 1560,
    "start_time": "2022-07-06T13:35:12.155Z"
   },
   {
    "duration": 15,
    "start_time": "2022-07-06T13:35:13.727Z"
   },
   {
    "duration": 23,
    "start_time": "2022-07-06T13:35:13.744Z"
   },
   {
    "duration": 6,
    "start_time": "2022-07-06T13:35:13.769Z"
   },
   {
    "duration": 347,
    "start_time": "2022-07-06T13:35:13.777Z"
   },
   {
    "duration": 28,
    "start_time": "2022-07-06T13:35:14.125Z"
   },
   {
    "duration": 19,
    "start_time": "2022-07-06T13:35:14.154Z"
   },
   {
    "duration": 109931,
    "start_time": "2022-07-06T13:35:14.175Z"
   },
   {
    "duration": 1126,
    "start_time": "2022-07-06T13:37:04.108Z"
   },
   {
    "duration": 6,
    "start_time": "2022-07-06T13:37:05.239Z"
   },
   {
    "duration": 4044,
    "start_time": "2022-07-06T13:37:05.247Z"
   },
   {
    "duration": 34758,
    "start_time": "2022-07-06T13:37:09.292Z"
   },
   {
    "duration": 3,
    "start_time": "2022-07-06T13:38:14.084Z"
   },
   {
    "duration": 702,
    "start_time": "2022-07-06T13:40:37.891Z"
   },
   {
    "duration": 895,
    "start_time": "2022-07-06T13:41:14.543Z"
   },
   {
    "duration": 59,
    "start_time": "2022-07-06T13:44:48.710Z"
   },
   {
    "duration": 1624,
    "start_time": "2022-07-06T13:44:55.448Z"
   },
   {
    "duration": 961,
    "start_time": "2022-07-06T13:45:16.177Z"
   },
   {
    "duration": 1037,
    "start_time": "2022-07-06T13:45:24.766Z"
   },
   {
    "duration": 958,
    "start_time": "2022-07-06T13:46:29.533Z"
   },
   {
    "duration": 226,
    "start_time": "2022-07-06T13:46:41.754Z"
   },
   {
    "duration": 1229,
    "start_time": "2022-07-06T13:46:56.585Z"
   },
   {
    "duration": 1006,
    "start_time": "2022-07-06T13:47:48.309Z"
   },
   {
    "duration": 119,
    "start_time": "2022-07-06T13:51:35.391Z"
   },
   {
    "duration": 754,
    "start_time": "2022-07-06T13:51:44.906Z"
   },
   {
    "duration": 1090,
    "start_time": "2022-07-06T13:52:05.290Z"
   },
   {
    "duration": 962,
    "start_time": "2022-07-06T13:52:12.426Z"
   },
   {
    "duration": 1151,
    "start_time": "2022-07-06T13:52:17.720Z"
   },
   {
    "duration": 103,
    "start_time": "2022-07-06T13:52:47.960Z"
   },
   {
    "duration": 1014,
    "start_time": "2022-07-06T13:53:08.956Z"
   },
   {
    "duration": 1248,
    "start_time": "2022-07-06T13:54:51.994Z"
   },
   {
    "duration": 1087,
    "start_time": "2022-07-06T13:55:32.696Z"
   },
   {
    "duration": 147,
    "start_time": "2022-07-06T14:00:31.565Z"
   },
   {
    "duration": 1086,
    "start_time": "2022-07-06T14:02:22.598Z"
   },
   {
    "duration": 1258,
    "start_time": "2022-07-06T14:02:35.869Z"
   },
   {
    "duration": 1108,
    "start_time": "2022-07-06T14:02:51.909Z"
   },
   {
    "duration": 1091,
    "start_time": "2022-07-06T14:04:00.072Z"
   },
   {
    "duration": 1212,
    "start_time": "2022-07-06T14:04:39.637Z"
   },
   {
    "duration": 1124,
    "start_time": "2022-07-06T14:06:01.163Z"
   },
   {
    "duration": 1329,
    "start_time": "2022-07-06T14:07:03.632Z"
   },
   {
    "duration": 932,
    "start_time": "2022-07-06T14:07:19.165Z"
   },
   {
    "duration": 1134,
    "start_time": "2022-07-06T14:09:24.204Z"
   },
   {
    "duration": 1354,
    "start_time": "2022-07-06T14:09:57.397Z"
   },
   {
    "duration": 1158,
    "start_time": "2022-07-06T14:11:24.337Z"
   },
   {
    "duration": 1141,
    "start_time": "2022-07-06T14:12:05.376Z"
   },
   {
    "duration": 1272,
    "start_time": "2022-07-06T14:13:39.537Z"
   },
   {
    "duration": 1112,
    "start_time": "2022-07-06T14:13:56.139Z"
   },
   {
    "duration": 1105,
    "start_time": "2022-07-06T14:14:12.838Z"
   },
   {
    "duration": 1018,
    "start_time": "2022-07-06T14:16:22.292Z"
   },
   {
    "duration": 1166,
    "start_time": "2022-07-06T14:16:37.153Z"
   },
   {
    "duration": 1280,
    "start_time": "2022-07-06T14:58:21.645Z"
   },
   {
    "duration": 15,
    "start_time": "2022-07-06T14:59:27.483Z"
   },
   {
    "duration": 14,
    "start_time": "2022-07-06T14:59:41.337Z"
   },
   {
    "duration": 13,
    "start_time": "2022-07-06T14:59:58.486Z"
   },
   {
    "duration": 16,
    "start_time": "2022-07-06T15:00:07.473Z"
   },
   {
    "duration": 12,
    "start_time": "2022-07-06T15:00:18.714Z"
   },
   {
    "duration": 6,
    "start_time": "2022-07-06T15:00:23.529Z"
   },
   {
    "duration": 9,
    "start_time": "2022-07-06T15:01:39.365Z"
   },
   {
    "duration": 10,
    "start_time": "2022-07-06T15:02:21.890Z"
   },
   {
    "duration": 12,
    "start_time": "2022-07-06T15:02:52.077Z"
   },
   {
    "duration": 49,
    "start_time": "2022-07-06T15:04:07.276Z"
   },
   {
    "duration": 11,
    "start_time": "2022-07-06T15:04:23.800Z"
   },
   {
    "duration": 11,
    "start_time": "2022-07-06T15:04:28.848Z"
   },
   {
    "duration": 10,
    "start_time": "2022-07-06T15:04:38.252Z"
   },
   {
    "duration": 11,
    "start_time": "2022-07-06T15:05:49.486Z"
   },
   {
    "duration": 2,
    "start_time": "2022-07-06T15:16:51.337Z"
   },
   {
    "duration": 3,
    "start_time": "2022-07-06T16:07:34.794Z"
   },
   {
    "duration": 1441,
    "start_time": "2022-07-06T17:23:11.239Z"
   },
   {
    "duration": 35,
    "start_time": "2022-07-06T17:23:12.683Z"
   },
   {
    "duration": 4,
    "start_time": "2022-07-06T17:23:12.720Z"
   },
   {
    "duration": 15,
    "start_time": "2022-07-06T17:23:12.726Z"
   },
   {
    "duration": 6,
    "start_time": "2022-07-06T17:23:12.744Z"
   },
   {
    "duration": 10,
    "start_time": "2022-07-06T17:23:12.752Z"
   },
   {
    "duration": 81,
    "start_time": "2022-07-06T17:23:12.764Z"
   },
   {
    "duration": 13,
    "start_time": "2022-07-06T17:23:12.847Z"
   },
   {
    "duration": 3467,
    "start_time": "2022-07-06T17:23:12.862Z"
   },
   {
    "duration": 1461,
    "start_time": "2022-07-06T17:23:16.330Z"
   },
   {
    "duration": 7,
    "start_time": "2022-07-06T17:23:17.792Z"
   },
   {
    "duration": 24,
    "start_time": "2022-07-06T17:23:17.800Z"
   },
   {
    "duration": 3,
    "start_time": "2022-07-06T17:23:17.825Z"
   },
   {
    "duration": 320,
    "start_time": "2022-07-06T17:23:17.831Z"
   },
   {
    "duration": 20,
    "start_time": "2022-07-06T17:23:18.153Z"
   },
   {
    "duration": 16,
    "start_time": "2022-07-06T17:23:18.175Z"
   },
   {
    "duration": 105356,
    "start_time": "2022-07-06T17:23:18.192Z"
   },
   {
    "duration": 1475,
    "start_time": "2022-07-06T17:25:03.550Z"
   },
   {
    "duration": 2,
    "start_time": "2022-07-06T17:25:05.027Z"
   },
   {
    "duration": 943,
    "start_time": "2022-07-06T17:25:05.031Z"
   },
   {
    "duration": 1451,
    "start_time": "2022-07-06T17:25:05.976Z"
   },
   {
    "duration": 15,
    "start_time": "2022-07-06T17:25:07.429Z"
   },
   {
    "duration": 3838,
    "start_time": "2022-07-07T15:52:25.857Z"
   },
   {
    "duration": 95,
    "start_time": "2022-07-07T15:52:29.698Z"
   },
   {
    "duration": 6,
    "start_time": "2022-07-07T15:52:29.795Z"
   },
   {
    "duration": 31,
    "start_time": "2022-07-07T15:52:29.803Z"
   },
   {
    "duration": 39,
    "start_time": "2022-07-07T15:52:29.837Z"
   },
   {
    "duration": 21,
    "start_time": "2022-07-07T15:52:29.878Z"
   },
   {
    "duration": 114,
    "start_time": "2022-07-07T15:52:29.901Z"
   },
   {
    "duration": 24,
    "start_time": "2022-07-07T15:52:30.018Z"
   },
   {
    "duration": 4829,
    "start_time": "2022-07-07T15:52:30.045Z"
   },
   {
    "duration": 2140,
    "start_time": "2022-07-07T15:52:34.877Z"
   },
   {
    "duration": 11,
    "start_time": "2022-07-07T15:52:37.019Z"
   },
   {
    "duration": 32,
    "start_time": "2022-07-07T15:52:37.033Z"
   },
   {
    "duration": 5,
    "start_time": "2022-07-07T15:52:37.068Z"
   },
   {
    "duration": 546,
    "start_time": "2022-07-07T15:52:37.077Z"
   },
   {
    "duration": 30,
    "start_time": "2022-07-07T15:52:37.626Z"
   },
   {
    "duration": 27,
    "start_time": "2022-07-07T15:52:37.659Z"
   },
   {
    "duration": 139673,
    "start_time": "2022-07-07T15:52:37.688Z"
   },
   {
    "duration": 1584,
    "start_time": "2022-07-07T15:54:57.363Z"
   },
   {
    "duration": 4,
    "start_time": "2022-07-07T15:54:58.950Z"
   },
   {
    "duration": 1310,
    "start_time": "2022-07-07T15:54:58.957Z"
   },
   {
    "duration": 1900,
    "start_time": "2022-07-07T15:55:00.269Z"
   },
   {
    "duration": 13,
    "start_time": "2022-07-07T15:55:02.171Z"
   },
   {
    "duration": 1526,
    "start_time": "2022-07-08T20:29:10.864Z"
   },
   {
    "duration": 71,
    "start_time": "2022-07-08T20:29:15.057Z"
   },
   {
    "duration": 101129,
    "start_time": "2022-07-08T20:29:24.930Z"
   },
   {
    "duration": 15,
    "start_time": "2022-07-08T20:31:15.084Z"
   },
   {
    "duration": 1133,
    "start_time": "2022-07-08T20:31:22.854Z"
   },
   {
    "duration": 26,
    "start_time": "2022-07-08T20:31:26.861Z"
   },
   {
    "duration": 8,
    "start_time": "2022-07-08T20:31:39.564Z"
   },
   {
    "duration": 9,
    "start_time": "2022-07-08T20:31:44.028Z"
   }
  ],
  "kernelspec": {
   "display_name": "Python 3 (ipykernel)",
   "language": "python",
   "name": "python3"
  },
  "language_info": {
   "codemirror_mode": {
    "name": "ipython",
    "version": 3
   },
   "file_extension": ".py",
   "mimetype": "text/x-python",
   "name": "python",
   "nbconvert_exporter": "python",
   "pygments_lexer": "ipython3",
   "version": "3.9.7"
  },
  "toc": {
   "base_numbering": 1,
   "nav_menu": {},
   "number_sections": true,
   "sideBar": true,
   "skip_h1_title": true,
   "title_cell": "Оглавление",
   "title_sidebar": "Contents",
   "toc_cell": true,
   "toc_position": {},
   "toc_section_display": true,
   "toc_window_display": false
  }
 },
 "nbformat": 4,
 "nbformat_minor": 2
}
