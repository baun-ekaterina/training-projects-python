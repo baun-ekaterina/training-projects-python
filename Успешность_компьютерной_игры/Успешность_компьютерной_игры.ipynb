{
 "cells": [
  {
   "cell_type": "markdown",
   "id": "c592f157",
   "metadata": {},
   "source": [
    "# Исследование закономерностей, определяющих успешность компьютерной игры"
   ]
  },
  {
   "cell_type": "markdown",
   "id": "46e436e2",
   "metadata": {
    "toc": true
   },
   "source": [
    "<h1>Содержание<span class=\"tocSkip\"></span></h1>\n",
    "<div class=\"toc\"><ul class=\"toc-item\"><li><span><a href=\"#Обзор-данных\" data-toc-modified-id=\"Обзор-данных-1\"><span class=\"toc-item-num\">1&nbsp;&nbsp;</span>Обзор данных</a></span><ul class=\"toc-item\"><li><span><a href=\"#Вывод-по-блоку-&quot;Обзор-данных&quot;\" data-toc-modified-id=\"Вывод-по-блоку-&quot;Обзор-данных&quot;-1.1\"><span class=\"toc-item-num\">1.1&nbsp;&nbsp;</span>Вывод по блоку \"Обзор данных\"</a></span></li></ul></li><li><span><a href=\"#Предобработка-данных\" data-toc-modified-id=\"Предобработка-данных-2\"><span class=\"toc-item-num\">2&nbsp;&nbsp;</span>Предобработка данных</a></span><ul class=\"toc-item\"><li><span><a href=\"#Проверка-названий-столбцов\" data-toc-modified-id=\"Проверка-названий-столбцов-2.1\"><span class=\"toc-item-num\">2.1&nbsp;&nbsp;</span>Проверка названий столбцов</a></span></li><li><span><a href=\"#Обработка-пропусков\" data-toc-modified-id=\"Обработка-пропусков-2.2\"><span class=\"toc-item-num\">2.2&nbsp;&nbsp;</span>Обработка пропусков</a></span></li><li><span><a href=\"#Изменение-типов-данных\" data-toc-modified-id=\"Изменение-типов-данных-2.3\"><span class=\"toc-item-num\">2.3&nbsp;&nbsp;</span>Изменение типов данных</a></span></li><li><span><a href=\"#Проверка-данных-на-дубликаты\" data-toc-modified-id=\"Проверка-данных-на-дубликаты-2.4\"><span class=\"toc-item-num\">2.4&nbsp;&nbsp;</span>Проверка данных на дубликаты</a></span></li><li><span><a href=\"#Расчет-столбца-с-дополнительной-информацией-по-суммарным-продажам\" data-toc-modified-id=\"Расчет-столбца-с-дополнительной-информацией-по-суммарным-продажам-2.5\"><span class=\"toc-item-num\">2.5&nbsp;&nbsp;</span>Расчет столбца с дополнительной информацией по суммарным продажам</a></span></li><li><span><a href=\"#Вывод-по-блоку-&quot;Предобработка-данных&quot;\" data-toc-modified-id=\"Вывод-по-блоку-&quot;Предобработка-данных&quot;-2.6\"><span class=\"toc-item-num\">2.6&nbsp;&nbsp;</span>Вывод по блоку \"Предобработка данных\"</a></span></li></ul></li><li><span><a href=\"#Исследовательский-анализ-данных\" data-toc-modified-id=\"Исследовательский-анализ-данных-3\"><span class=\"toc-item-num\">3&nbsp;&nbsp;</span>Исследовательский анализ данных</a></span><ul class=\"toc-item\"><li><span><a href=\"#Проверка-данных-на-наличие-ошибок-и-аномалий\" data-toc-modified-id=\"Проверка-данных-на-наличие-ошибок-и-аномалий-3.1\"><span class=\"toc-item-num\">3.1&nbsp;&nbsp;</span>Проверка данных на наличие ошибок и аномалий</a></span></li><li><span><a href=\"#Выпуск-игр-по-периодам\" data-toc-modified-id=\"Выпуск-игр-по-периодам-3.2\"><span class=\"toc-item-num\">3.2&nbsp;&nbsp;</span>Выпуск игр по периодам</a></span></li><li><span><a href=\"#Динамика-продаж-по-платформам.-Срок-жизни-платформ.\" data-toc-modified-id=\"Динамика-продаж-по-платформам.-Срок-жизни-платформ.-3.3\"><span class=\"toc-item-num\">3.3&nbsp;&nbsp;</span>Динамика продаж по платформам. Срок жизни платформ.</a></span></li><li><span><a href=\"#Выбор-актуального-периода-и-потенциально-прибыльных-платформ-для-прогноза-на-2017г.\" data-toc-modified-id=\"Выбор-актуального-периода-и-потенциально-прибыльных-платформ-для-прогноза-на-2017г.-3.4\"><span class=\"toc-item-num\">3.4&nbsp;&nbsp;</span>Выбор актуального периода и потенциально прибыльных платформ для прогноза на 2017г.</a></span></li><li><span><a href=\"#Анализ-потенциально-прибыльных-платформ-по-данным-актуального-периода\" data-toc-modified-id=\"Анализ-потенциально-прибыльных-платформ-по-данным-актуального-периода-3.5\"><span class=\"toc-item-num\">3.5&nbsp;&nbsp;</span>Анализ потенциально прибыльных платформ по данным актуального периода</a></span><ul class=\"toc-item\"><li><span><a href=\"#Статистические-показатели-продаж\" data-toc-modified-id=\"Статистические-показатели-продаж-3.5.1\"><span class=\"toc-item-num\">3.5.1&nbsp;&nbsp;</span>Статистические показатели продаж</a></span></li><li><span><a href=\"#Влияние-оценок-пользователей-и-критиков-на-продажи\" data-toc-modified-id=\"Влияние-оценок-пользователей-и-критиков-на-продажи-3.5.2\"><span class=\"toc-item-num\">3.5.2&nbsp;&nbsp;</span>Влияние оценок пользователей и критиков на продажи</a></span></li><li><span><a href=\"#Анализ-продаж-игр-по-жанрам\" data-toc-modified-id=\"Анализ-продаж-игр-по-жанрам-3.5.3\"><span class=\"toc-item-num\">3.5.3&nbsp;&nbsp;</span>Анализ продаж игр по жанрам</a></span></li></ul></li><li><span><a href=\"#Вывод-по-блоку-&quot;Исследовательский-анализ-данных&quot;\" data-toc-modified-id=\"Вывод-по-блоку-&quot;Исследовательский-анализ-данных&quot;-3.6\"><span class=\"toc-item-num\">3.6&nbsp;&nbsp;</span>Вывод по блоку \"Исследовательский анализ данных\"</a></span></li></ul></li><li><span><a href=\"#Портрет-пользователей-каждого-региона\" data-toc-modified-id=\"Портрет-пользователей-каждого-региона-4\"><span class=\"toc-item-num\">4&nbsp;&nbsp;</span>Портрет пользователей каждого региона</a></span><ul class=\"toc-item\"><li><span><a href=\"#Вывод-по-блоку-&quot;Портрет-пользователей-каждого-региона&quot;\" data-toc-modified-id=\"Вывод-по-блоку-&quot;Портрет-пользователей-каждого-региона&quot;-4.1\"><span class=\"toc-item-num\">4.1&nbsp;&nbsp;</span>Вывод по блоку \"Портрет пользователей каждого региона\"</a></span></li></ul></li><li><span><a href=\"#Проверка-гипотез\" data-toc-modified-id=\"Проверка-гипотез-5\"><span class=\"toc-item-num\">5&nbsp;&nbsp;</span>Проверка гипотез</a></span><ul class=\"toc-item\"><li><span><a href=\"#Сравнение-средних-пользовательских-рейтингов-платформ-Xbox-One-и-PC\" data-toc-modified-id=\"Сравнение-средних-пользовательских-рейтингов-платформ-Xbox-One-и-PC-5.1\"><span class=\"toc-item-num\">5.1&nbsp;&nbsp;</span>Сравнение средних пользовательских рейтингов платформ Xbox One и PC</a></span></li><li><span><a href=\"#Сравнение-средних-пользовательских-рейтингов-жанров-Action-и-Sports\" data-toc-modified-id=\"Сравнение-средних-пользовательских-рейтингов-жанров-Action-и-Sports-5.2\"><span class=\"toc-item-num\">5.2&nbsp;&nbsp;</span>Сравнение средних пользовательских рейтингов жанров Action и Sports</a></span></li><li><span><a href=\"#Вывод-по-блоку-&quot;Проверка-гипотез&quot;\" data-toc-modified-id=\"Вывод-по-блоку-&quot;Проверка-гипотез&quot;-5.3\"><span class=\"toc-item-num\">5.3&nbsp;&nbsp;</span>Вывод по блоку \"Проверка гипотез\"</a></span></li></ul></li><li><span><a href=\"#Общий-вывод\" data-toc-modified-id=\"Общий-вывод-6\"><span class=\"toc-item-num\">6&nbsp;&nbsp;</span>Общий вывод</a></span></li></ul></div>"
   ]
  },
  {
   "cell_type": "markdown",
   "id": "69cb7d53",
   "metadata": {},
   "source": [
    "## Обзор данных"
   ]
  },
  {
   "cell_type": "code",
   "execution_count": 1,
   "id": "4722c3a5",
   "metadata": {},
   "outputs": [],
   "source": [
    "# импорт библиотек\n",
    "import pandas as pd\n",
    "import numpy as np\n",
    "import matplotlib.pyplot as plt\n",
    "import seaborn as sns\n",
    "from scipy import stats as st\n",
    "\n",
    "# убрать предупреждения Pandas\n",
    "import warnings\n",
    "warnings.filterwarnings('ignore')\n",
    "\n",
    "# выводить на экран все столбцы таблиц\n",
    "pd.set_option('display.max_columns', None)"
   ]
  },
  {
   "cell_type": "markdown",
   "id": "a994cc7d",
   "metadata": {},
   "source": [
    "Загрузим датасет и посмотрим на фрагмент данных из него:"
   ]
  },
  {
   "cell_type": "code",
   "execution_count": 2,
   "id": "d36647ce",
   "metadata": {},
   "outputs": [],
   "source": [
    "# загрузка датасета (полный путь не приводится, т.к. датасет не размещен в открытом доступе)\n",
    "df = pd.read_csv(path)"
   ]
  },
  {
   "cell_type": "code",
   "execution_count": 3,
   "id": "3488ff27",
   "metadata": {},
   "outputs": [
    {
     "data": {
      "text/html": [
       "<div>\n",
       "<style scoped>\n",
       "    .dataframe tbody tr th:only-of-type {\n",
       "        vertical-align: middle;\n",
       "    }\n",
       "\n",
       "    .dataframe tbody tr th {\n",
       "        vertical-align: top;\n",
       "    }\n",
       "\n",
       "    .dataframe thead th {\n",
       "        text-align: right;\n",
       "    }\n",
       "</style>\n",
       "<table border=\"1\" class=\"dataframe\">\n",
       "  <thead>\n",
       "    <tr style=\"text-align: right;\">\n",
       "      <th></th>\n",
       "      <th>Name</th>\n",
       "      <th>Platform</th>\n",
       "      <th>Year_of_Release</th>\n",
       "      <th>Genre</th>\n",
       "      <th>NA_sales</th>\n",
       "      <th>EU_sales</th>\n",
       "      <th>JP_sales</th>\n",
       "      <th>Other_sales</th>\n",
       "      <th>Critic_Score</th>\n",
       "      <th>User_Score</th>\n",
       "      <th>Rating</th>\n",
       "    </tr>\n",
       "  </thead>\n",
       "  <tbody>\n",
       "    <tr>\n",
       "      <th>0</th>\n",
       "      <td>Wii Sports</td>\n",
       "      <td>Wii</td>\n",
       "      <td>2006.0</td>\n",
       "      <td>Sports</td>\n",
       "      <td>41.36</td>\n",
       "      <td>28.96</td>\n",
       "      <td>3.77</td>\n",
       "      <td>8.45</td>\n",
       "      <td>76.0</td>\n",
       "      <td>8</td>\n",
       "      <td>E</td>\n",
       "    </tr>\n",
       "    <tr>\n",
       "      <th>1</th>\n",
       "      <td>Super Mario Bros.</td>\n",
       "      <td>NES</td>\n",
       "      <td>1985.0</td>\n",
       "      <td>Platform</td>\n",
       "      <td>29.08</td>\n",
       "      <td>3.58</td>\n",
       "      <td>6.81</td>\n",
       "      <td>0.77</td>\n",
       "      <td>NaN</td>\n",
       "      <td>NaN</td>\n",
       "      <td>NaN</td>\n",
       "    </tr>\n",
       "    <tr>\n",
       "      <th>2</th>\n",
       "      <td>Mario Kart Wii</td>\n",
       "      <td>Wii</td>\n",
       "      <td>2008.0</td>\n",
       "      <td>Racing</td>\n",
       "      <td>15.68</td>\n",
       "      <td>12.76</td>\n",
       "      <td>3.79</td>\n",
       "      <td>3.29</td>\n",
       "      <td>82.0</td>\n",
       "      <td>8.3</td>\n",
       "      <td>E</td>\n",
       "    </tr>\n",
       "    <tr>\n",
       "      <th>3</th>\n",
       "      <td>Wii Sports Resort</td>\n",
       "      <td>Wii</td>\n",
       "      <td>2009.0</td>\n",
       "      <td>Sports</td>\n",
       "      <td>15.61</td>\n",
       "      <td>10.93</td>\n",
       "      <td>3.28</td>\n",
       "      <td>2.95</td>\n",
       "      <td>80.0</td>\n",
       "      <td>8</td>\n",
       "      <td>E</td>\n",
       "    </tr>\n",
       "    <tr>\n",
       "      <th>4</th>\n",
       "      <td>Pokemon Red/Pokemon Blue</td>\n",
       "      <td>GB</td>\n",
       "      <td>1996.0</td>\n",
       "      <td>Role-Playing</td>\n",
       "      <td>11.27</td>\n",
       "      <td>8.89</td>\n",
       "      <td>10.22</td>\n",
       "      <td>1.00</td>\n",
       "      <td>NaN</td>\n",
       "      <td>NaN</td>\n",
       "      <td>NaN</td>\n",
       "    </tr>\n",
       "    <tr>\n",
       "      <th>5</th>\n",
       "      <td>Tetris</td>\n",
       "      <td>GB</td>\n",
       "      <td>1989.0</td>\n",
       "      <td>Puzzle</td>\n",
       "      <td>23.20</td>\n",
       "      <td>2.26</td>\n",
       "      <td>4.22</td>\n",
       "      <td>0.58</td>\n",
       "      <td>NaN</td>\n",
       "      <td>NaN</td>\n",
       "      <td>NaN</td>\n",
       "    </tr>\n",
       "    <tr>\n",
       "      <th>6</th>\n",
       "      <td>New Super Mario Bros.</td>\n",
       "      <td>DS</td>\n",
       "      <td>2006.0</td>\n",
       "      <td>Platform</td>\n",
       "      <td>11.28</td>\n",
       "      <td>9.14</td>\n",
       "      <td>6.50</td>\n",
       "      <td>2.88</td>\n",
       "      <td>89.0</td>\n",
       "      <td>8.5</td>\n",
       "      <td>E</td>\n",
       "    </tr>\n",
       "    <tr>\n",
       "      <th>7</th>\n",
       "      <td>Wii Play</td>\n",
       "      <td>Wii</td>\n",
       "      <td>2006.0</td>\n",
       "      <td>Misc</td>\n",
       "      <td>13.96</td>\n",
       "      <td>9.18</td>\n",
       "      <td>2.93</td>\n",
       "      <td>2.84</td>\n",
       "      <td>58.0</td>\n",
       "      <td>6.6</td>\n",
       "      <td>E</td>\n",
       "    </tr>\n",
       "    <tr>\n",
       "      <th>8</th>\n",
       "      <td>New Super Mario Bros. Wii</td>\n",
       "      <td>Wii</td>\n",
       "      <td>2009.0</td>\n",
       "      <td>Platform</td>\n",
       "      <td>14.44</td>\n",
       "      <td>6.94</td>\n",
       "      <td>4.70</td>\n",
       "      <td>2.24</td>\n",
       "      <td>87.0</td>\n",
       "      <td>8.4</td>\n",
       "      <td>E</td>\n",
       "    </tr>\n",
       "    <tr>\n",
       "      <th>9</th>\n",
       "      <td>Duck Hunt</td>\n",
       "      <td>NES</td>\n",
       "      <td>1984.0</td>\n",
       "      <td>Shooter</td>\n",
       "      <td>26.93</td>\n",
       "      <td>0.63</td>\n",
       "      <td>0.28</td>\n",
       "      <td>0.47</td>\n",
       "      <td>NaN</td>\n",
       "      <td>NaN</td>\n",
       "      <td>NaN</td>\n",
       "    </tr>\n",
       "  </tbody>\n",
       "</table>\n",
       "</div>"
      ],
      "text/plain": [
       "                        Name Platform  Year_of_Release         Genre  \\\n",
       "0                 Wii Sports      Wii           2006.0        Sports   \n",
       "1          Super Mario Bros.      NES           1985.0      Platform   \n",
       "2             Mario Kart Wii      Wii           2008.0        Racing   \n",
       "3          Wii Sports Resort      Wii           2009.0        Sports   \n",
       "4   Pokemon Red/Pokemon Blue       GB           1996.0  Role-Playing   \n",
       "5                     Tetris       GB           1989.0        Puzzle   \n",
       "6      New Super Mario Bros.       DS           2006.0      Platform   \n",
       "7                   Wii Play      Wii           2006.0          Misc   \n",
       "8  New Super Mario Bros. Wii      Wii           2009.0      Platform   \n",
       "9                  Duck Hunt      NES           1984.0       Shooter   \n",
       "\n",
       "   NA_sales  EU_sales  JP_sales  Other_sales  Critic_Score User_Score Rating  \n",
       "0     41.36     28.96      3.77         8.45          76.0          8      E  \n",
       "1     29.08      3.58      6.81         0.77           NaN        NaN    NaN  \n",
       "2     15.68     12.76      3.79         3.29          82.0        8.3      E  \n",
       "3     15.61     10.93      3.28         2.95          80.0          8      E  \n",
       "4     11.27      8.89     10.22         1.00           NaN        NaN    NaN  \n",
       "5     23.20      2.26      4.22         0.58           NaN        NaN    NaN  \n",
       "6     11.28      9.14      6.50         2.88          89.0        8.5      E  \n",
       "7     13.96      9.18      2.93         2.84          58.0        6.6      E  \n",
       "8     14.44      6.94      4.70         2.24          87.0        8.4      E  \n",
       "9     26.93      0.63      0.28         0.47           NaN        NaN    NaN  "
      ]
     },
     "execution_count": 3,
     "metadata": {},
     "output_type": "execute_result"
    }
   ],
   "source": [
    "# получение первых 10 строк таблицы\n",
    "df.head(10)"
   ]
  },
  {
   "cell_type": "markdown",
   "id": "04ffdb34",
   "metadata": {},
   "source": [
    "Выведем общую информацию о таблице:"
   ]
  },
  {
   "cell_type": "code",
   "execution_count": 4,
   "id": "aafa6b21",
   "metadata": {},
   "outputs": [
    {
     "name": "stdout",
     "output_type": "stream",
     "text": [
      "<class 'pandas.core.frame.DataFrame'>\n",
      "RangeIndex: 16715 entries, 0 to 16714\n",
      "Data columns (total 11 columns):\n",
      " #   Column           Non-Null Count  Dtype  \n",
      "---  ------           --------------  -----  \n",
      " 0   Name             16713 non-null  object \n",
      " 1   Platform         16715 non-null  object \n",
      " 2   Year_of_Release  16446 non-null  float64\n",
      " 3   Genre            16713 non-null  object \n",
      " 4   NA_sales         16715 non-null  float64\n",
      " 5   EU_sales         16715 non-null  float64\n",
      " 6   JP_sales         16715 non-null  float64\n",
      " 7   Other_sales      16715 non-null  float64\n",
      " 8   Critic_Score     8137 non-null   float64\n",
      " 9   User_Score       10014 non-null  object \n",
      " 10  Rating           9949 non-null   object \n",
      "dtypes: float64(6), object(5)\n",
      "memory usage: 1.4+ MB\n"
     ]
    }
   ],
   "source": [
    "# общая информация о таблице\n",
    "df.info()"
   ]
  },
  {
   "cell_type": "markdown",
   "id": "b34a9e13",
   "metadata": {},
   "source": [
    "Таблица состоит их 16715 строк и 11 столбцов; в шести столбцах данные имеют вещественный тип, в остальных пяти - тип object (текст или смешанный тип). В данных есть пропуски, которые надо будет исследовать и обработать отдельно.\n",
    "\n",
    "Согласно документации к данным, столбцы таблицы содержат следующую информацию:\n",
    "* `Name` — название игры\n",
    "* `Platform` — платформа\n",
    "* `Year_of_Release` — год выпуска\n",
    "* `Genre` — жанр игры\n",
    "* `NA_sales` — продажи в Северной Америке (миллионы проданных копий)\n",
    "* `EU_sales` — продажи в Европе (миллионы проданных копий)\n",
    "* `JP_sales` — продажи в Японии (миллионы проданных копий)\n",
    "* `Other_sales` — продажи в других странах (миллионы проданных копий)\n",
    "* `Critic_Score` — оценка критиков (максимум 100)\n",
    "* `User_Score` — оценка пользователей (максимум 10)\n",
    "* `Rating` — рейтинг от организации ESRB (англ. Entertainment Software Rating Board). Эта ассоциация определяет рейтинг компьютерных игр и присваивает им подходящую возрастную категорию.\n",
    "\n",
    "Данные за 2016 год могут быть неполными."
   ]
  },
  {
   "cell_type": "markdown",
   "id": "d4ed641e",
   "metadata": {},
   "source": [
    "### Вывод по блоку \"Обзор данных\""
   ]
  },
  {
   "cell_type": "markdown",
   "id": "e86b2ce8",
   "metadata": {},
   "source": [
    "По каждой компьютерной игре имеем следующие данные:\n",
    " * наименование, жанр, платформа и год выпуска;\n",
    " * объемы продаж копий игры по четырем различным регионам: Северная Америка, Европа, Япония и другие;\n",
    " * оценки игры критиками и пользователями, а также рейтинг от организации ESBR.\n",
    " \n",
    "Предварительно, этих данных достаточно для исследования закономерностей, определяющих успешность компьютерной игры."
   ]
  },
  {
   "cell_type": "markdown",
   "id": "9e1b1c21",
   "metadata": {},
   "source": [
    "## Предобработка данных"
   ]
  },
  {
   "cell_type": "markdown",
   "id": "679c2177",
   "metadata": {},
   "source": [
    "### Проверка названий столбцов"
   ]
  },
  {
   "cell_type": "code",
   "execution_count": 5,
   "id": "f99f59e1",
   "metadata": {},
   "outputs": [
    {
     "data": {
      "text/plain": [
       "Index(['Name', 'Platform', 'Year_of_Release', 'Genre', 'NA_sales', 'EU_sales',\n",
       "       'JP_sales', 'Other_sales', 'Critic_Score', 'User_Score', 'Rating'],\n",
       "      dtype='object')"
      ]
     },
     "execution_count": 5,
     "metadata": {},
     "output_type": "execute_result"
    }
   ],
   "source": [
    "#список наименований столбцов\n",
    "df.columns"
   ]
  },
  {
   "cell_type": "markdown",
   "id": "ed2d328b",
   "metadata": {},
   "source": [
    "В названиях столбцов таблицы отсутствуют лишние пробелы, однако необходим перевод заголовков в нижний регистр:"
   ]
  },
  {
   "cell_type": "code",
   "execution_count": 6,
   "id": "1caec8f4",
   "metadata": {},
   "outputs": [
    {
     "data": {
      "text/plain": [
       "Index(['name', 'platform', 'year_of_release', 'genre', 'na_sales', 'eu_sales',\n",
       "       'jp_sales', 'other_sales', 'critic_score', 'user_score', 'rating'],\n",
       "      dtype='object')"
      ]
     },
     "execution_count": 6,
     "metadata": {},
     "output_type": "execute_result"
    }
   ],
   "source": [
    "#перевод названий столбцов в нижний регистр\n",
    "df.columns = df.columns.str.lower()\n",
    "\n",
    "df.columns"
   ]
  },
  {
   "cell_type": "markdown",
   "id": "46623bd8",
   "metadata": {},
   "source": [
    "### Обработка пропусков"
   ]
  },
  {
   "cell_type": "markdown",
   "id": "f1ac3208",
   "metadata": {},
   "source": [
    "Посмотрим долю и количество пропущенных значений в каждом из столбцов таблицы:"
   ]
  },
  {
   "cell_type": "code",
   "execution_count": 7,
   "id": "abf54f50",
   "metadata": {},
   "outputs": [
    {
     "data": {
      "text/plain": [
       "name                0.01\n",
       "platform            0.00\n",
       "year_of_release     1.61\n",
       "genre               0.01\n",
       "na_sales            0.00\n",
       "eu_sales            0.00\n",
       "jp_sales            0.00\n",
       "other_sales         0.00\n",
       "critic_score       51.32\n",
       "user_score         40.09\n",
       "rating             40.48\n",
       "dtype: float64"
      ]
     },
     "execution_count": 7,
     "metadata": {},
     "output_type": "execute_result"
    }
   ],
   "source": [
    "#расчет доли пропусков в столбцах таблицы (% от общей длины таблицы)\n",
    "(df.isna().sum() / len(df) * 100).round(2)"
   ]
  },
  {
   "cell_type": "code",
   "execution_count": 8,
   "id": "de68e04f",
   "metadata": {},
   "outputs": [
    {
     "data": {
      "text/plain": [
       "name                  2\n",
       "platform              0\n",
       "year_of_release     269\n",
       "genre                 2\n",
       "na_sales              0\n",
       "eu_sales              0\n",
       "jp_sales              0\n",
       "other_sales           0\n",
       "critic_score       8578\n",
       "user_score         6701\n",
       "rating             6766\n",
       "dtype: int64"
      ]
     },
     "execution_count": 8,
     "metadata": {},
     "output_type": "execute_result"
    }
   ],
   "source": [
    "#расчет кол-ва пропусков в столбцах таблицы\n",
    "df.isna().sum()"
   ]
  },
  {
   "cell_type": "markdown",
   "id": "aa18666f",
   "metadata": {},
   "source": [
    "**Пропуски в столбце `name` c наименованием игры**"
   ]
  },
  {
   "cell_type": "markdown",
   "id": "d434e0c6",
   "metadata": {},
   "source": [
    "Посмотрим на пропуски в столбце с наименованием игры:"
   ]
  },
  {
   "cell_type": "code",
   "execution_count": 9,
   "id": "d9b9d24a",
   "metadata": {},
   "outputs": [
    {
     "data": {
      "text/html": [
       "<div>\n",
       "<style scoped>\n",
       "    .dataframe tbody tr th:only-of-type {\n",
       "        vertical-align: middle;\n",
       "    }\n",
       "\n",
       "    .dataframe tbody tr th {\n",
       "        vertical-align: top;\n",
       "    }\n",
       "\n",
       "    .dataframe thead th {\n",
       "        text-align: right;\n",
       "    }\n",
       "</style>\n",
       "<table border=\"1\" class=\"dataframe\">\n",
       "  <thead>\n",
       "    <tr style=\"text-align: right;\">\n",
       "      <th></th>\n",
       "      <th>name</th>\n",
       "      <th>platform</th>\n",
       "      <th>year_of_release</th>\n",
       "      <th>genre</th>\n",
       "      <th>na_sales</th>\n",
       "      <th>eu_sales</th>\n",
       "      <th>jp_sales</th>\n",
       "      <th>other_sales</th>\n",
       "      <th>critic_score</th>\n",
       "      <th>user_score</th>\n",
       "      <th>rating</th>\n",
       "    </tr>\n",
       "  </thead>\n",
       "  <tbody>\n",
       "    <tr>\n",
       "      <th>659</th>\n",
       "      <td>NaN</td>\n",
       "      <td>GEN</td>\n",
       "      <td>1993.0</td>\n",
       "      <td>NaN</td>\n",
       "      <td>1.78</td>\n",
       "      <td>0.53</td>\n",
       "      <td>0.00</td>\n",
       "      <td>0.08</td>\n",
       "      <td>NaN</td>\n",
       "      <td>NaN</td>\n",
       "      <td>NaN</td>\n",
       "    </tr>\n",
       "    <tr>\n",
       "      <th>14244</th>\n",
       "      <td>NaN</td>\n",
       "      <td>GEN</td>\n",
       "      <td>1993.0</td>\n",
       "      <td>NaN</td>\n",
       "      <td>0.00</td>\n",
       "      <td>0.00</td>\n",
       "      <td>0.03</td>\n",
       "      <td>0.00</td>\n",
       "      <td>NaN</td>\n",
       "      <td>NaN</td>\n",
       "      <td>NaN</td>\n",
       "    </tr>\n",
       "  </tbody>\n",
       "</table>\n",
       "</div>"
      ],
      "text/plain": [
       "      name platform  year_of_release genre  na_sales  eu_sales  jp_sales  \\\n",
       "659    NaN      GEN           1993.0   NaN      1.78      0.53      0.00   \n",
       "14244  NaN      GEN           1993.0   NaN      0.00      0.00      0.03   \n",
       "\n",
       "       other_sales  critic_score user_score rating  \n",
       "659           0.08           NaN        NaN    NaN  \n",
       "14244         0.00           NaN        NaN    NaN  "
      ]
     },
     "execution_count": 9,
     "metadata": {},
     "output_type": "execute_result"
    }
   ],
   "source": [
    "#фильтрация таблицы\n",
    "df.loc[df['name'].isna()]"
   ]
  },
  {
   "cell_type": "markdown",
   "id": "521340ac",
   "metadata": {},
   "source": [
    "В этих строках отсутствует как наименование, так и жанр игры, по которому в дальнейшем необходимо будет делать анализ. Вероятнее всего, эти пропуски возникли по техническим причинам. Поскольку строк все две, а игры выходили очень давно, то их смело откидываем:"
   ]
  },
  {
   "cell_type": "code",
   "execution_count": 10,
   "id": "c7b8899a",
   "metadata": {},
   "outputs": [],
   "source": [
    "#удаление строк с пропусками в заданных столбцах\n",
    "df = df.dropna(subset=['name'])"
   ]
  },
  {
   "cell_type": "markdown",
   "id": "350eedd4",
   "metadata": {},
   "source": [
    "**Пропуски в столбце `year_of_release` c годом выхода игры**"
   ]
  },
  {
   "cell_type": "markdown",
   "id": "2dd59df1",
   "metadata": {},
   "source": [
    "Далее разберемся с пропусками в столбце с годом выхода игры, который является одним из основных параметров, использующихся в течение всего исследования."
   ]
  },
  {
   "cell_type": "code",
   "execution_count": 11,
   "id": "9bca0cd5",
   "metadata": {},
   "outputs": [
    {
     "data": {
      "text/html": [
       "<div>\n",
       "<style scoped>\n",
       "    .dataframe tbody tr th:only-of-type {\n",
       "        vertical-align: middle;\n",
       "    }\n",
       "\n",
       "    .dataframe tbody tr th {\n",
       "        vertical-align: top;\n",
       "    }\n",
       "\n",
       "    .dataframe thead th {\n",
       "        text-align: right;\n",
       "    }\n",
       "</style>\n",
       "<table border=\"1\" class=\"dataframe\">\n",
       "  <thead>\n",
       "    <tr style=\"text-align: right;\">\n",
       "      <th></th>\n",
       "      <th>name</th>\n",
       "      <th>platform</th>\n",
       "      <th>year_of_release</th>\n",
       "      <th>genre</th>\n",
       "      <th>na_sales</th>\n",
       "      <th>eu_sales</th>\n",
       "      <th>jp_sales</th>\n",
       "      <th>other_sales</th>\n",
       "      <th>critic_score</th>\n",
       "      <th>user_score</th>\n",
       "      <th>rating</th>\n",
       "    </tr>\n",
       "  </thead>\n",
       "  <tbody>\n",
       "    <tr>\n",
       "      <th>183</th>\n",
       "      <td>Madden NFL 2004</td>\n",
       "      <td>PS2</td>\n",
       "      <td>NaN</td>\n",
       "      <td>Sports</td>\n",
       "      <td>4.26</td>\n",
       "      <td>0.26</td>\n",
       "      <td>0.01</td>\n",
       "      <td>0.71</td>\n",
       "      <td>94.0</td>\n",
       "      <td>8.5</td>\n",
       "      <td>E</td>\n",
       "    </tr>\n",
       "    <tr>\n",
       "      <th>377</th>\n",
       "      <td>FIFA Soccer 2004</td>\n",
       "      <td>PS2</td>\n",
       "      <td>NaN</td>\n",
       "      <td>Sports</td>\n",
       "      <td>0.59</td>\n",
       "      <td>2.36</td>\n",
       "      <td>0.04</td>\n",
       "      <td>0.51</td>\n",
       "      <td>84.0</td>\n",
       "      <td>6.4</td>\n",
       "      <td>E</td>\n",
       "    </tr>\n",
       "    <tr>\n",
       "      <th>456</th>\n",
       "      <td>LEGO Batman: The Videogame</td>\n",
       "      <td>Wii</td>\n",
       "      <td>NaN</td>\n",
       "      <td>Action</td>\n",
       "      <td>1.80</td>\n",
       "      <td>0.97</td>\n",
       "      <td>0.00</td>\n",
       "      <td>0.29</td>\n",
       "      <td>74.0</td>\n",
       "      <td>7.9</td>\n",
       "      <td>E10+</td>\n",
       "    </tr>\n",
       "    <tr>\n",
       "      <th>475</th>\n",
       "      <td>wwe Smackdown vs. Raw 2006</td>\n",
       "      <td>PS2</td>\n",
       "      <td>NaN</td>\n",
       "      <td>Fighting</td>\n",
       "      <td>1.57</td>\n",
       "      <td>1.02</td>\n",
       "      <td>0.00</td>\n",
       "      <td>0.41</td>\n",
       "      <td>NaN</td>\n",
       "      <td>NaN</td>\n",
       "      <td>NaN</td>\n",
       "    </tr>\n",
       "    <tr>\n",
       "      <th>609</th>\n",
       "      <td>Space Invaders</td>\n",
       "      <td>2600</td>\n",
       "      <td>NaN</td>\n",
       "      <td>Shooter</td>\n",
       "      <td>2.36</td>\n",
       "      <td>0.14</td>\n",
       "      <td>0.00</td>\n",
       "      <td>0.03</td>\n",
       "      <td>NaN</td>\n",
       "      <td>NaN</td>\n",
       "      <td>NaN</td>\n",
       "    </tr>\n",
       "  </tbody>\n",
       "</table>\n",
       "</div>"
      ],
      "text/plain": [
       "                           name platform  year_of_release     genre  na_sales  \\\n",
       "183             Madden NFL 2004      PS2              NaN    Sports      4.26   \n",
       "377            FIFA Soccer 2004      PS2              NaN    Sports      0.59   \n",
       "456  LEGO Batman: The Videogame      Wii              NaN    Action      1.80   \n",
       "475  wwe Smackdown vs. Raw 2006      PS2              NaN  Fighting      1.57   \n",
       "609              Space Invaders     2600              NaN   Shooter      2.36   \n",
       "\n",
       "     eu_sales  jp_sales  other_sales  critic_score user_score rating  \n",
       "183      0.26      0.01         0.71          94.0        8.5      E  \n",
       "377      2.36      0.04         0.51          84.0        6.4      E  \n",
       "456      0.97      0.00         0.29          74.0        7.9   E10+  \n",
       "475      1.02      0.00         0.41           NaN        NaN    NaN  \n",
       "609      0.14      0.00         0.03           NaN        NaN    NaN  "
      ]
     },
     "execution_count": 11,
     "metadata": {},
     "output_type": "execute_result"
    }
   ],
   "source": [
    "#фильтрация таблицы и вывод фрагмента\n",
    "df.loc[df['year_of_release'].isna()][:5]"
   ]
  },
  {
   "cell_type": "markdown",
   "id": "632bdc88",
   "metadata": {},
   "source": [
    "Вероятнее всего, что пропуски в столбце с годом выхода игры появились по техническим причинам, их очень мало, 1.6%, поэтому можно было бы их просто отбросить, но при этом потеряем все данные этих строк. Попытаемся найти логичный способ замены пропусков."
   ]
  },
  {
   "cell_type": "markdown",
   "id": "0ca9274a",
   "metadata": {},
   "source": [
    "На примере двух игр поищем, есть ли в таблице игры с таким же наименованием, но выходившие на других платформах, и есть ли у них даты выхода:"
   ]
  },
  {
   "cell_type": "code",
   "execution_count": 12,
   "id": "b28a16dd",
   "metadata": {},
   "outputs": [
    {
     "data": {
      "text/html": [
       "<div>\n",
       "<style scoped>\n",
       "    .dataframe tbody tr th:only-of-type {\n",
       "        vertical-align: middle;\n",
       "    }\n",
       "\n",
       "    .dataframe tbody tr th {\n",
       "        vertical-align: top;\n",
       "    }\n",
       "\n",
       "    .dataframe thead th {\n",
       "        text-align: right;\n",
       "    }\n",
       "</style>\n",
       "<table border=\"1\" class=\"dataframe\">\n",
       "  <thead>\n",
       "    <tr style=\"text-align: right;\">\n",
       "      <th></th>\n",
       "      <th>name</th>\n",
       "      <th>platform</th>\n",
       "      <th>year_of_release</th>\n",
       "      <th>genre</th>\n",
       "      <th>na_sales</th>\n",
       "      <th>eu_sales</th>\n",
       "      <th>jp_sales</th>\n",
       "      <th>other_sales</th>\n",
       "      <th>critic_score</th>\n",
       "      <th>user_score</th>\n",
       "      <th>rating</th>\n",
       "    </tr>\n",
       "  </thead>\n",
       "  <tbody>\n",
       "    <tr>\n",
       "      <th>183</th>\n",
       "      <td>Madden NFL 2004</td>\n",
       "      <td>PS2</td>\n",
       "      <td>NaN</td>\n",
       "      <td>Sports</td>\n",
       "      <td>4.26</td>\n",
       "      <td>0.26</td>\n",
       "      <td>0.01</td>\n",
       "      <td>0.71</td>\n",
       "      <td>94.0</td>\n",
       "      <td>8.5</td>\n",
       "      <td>E</td>\n",
       "    </tr>\n",
       "    <tr>\n",
       "      <th>1881</th>\n",
       "      <td>Madden NFL 2004</td>\n",
       "      <td>XB</td>\n",
       "      <td>2003.0</td>\n",
       "      <td>Sports</td>\n",
       "      <td>1.02</td>\n",
       "      <td>0.02</td>\n",
       "      <td>0.00</td>\n",
       "      <td>0.05</td>\n",
       "      <td>92.0</td>\n",
       "      <td>8.3</td>\n",
       "      <td>E</td>\n",
       "    </tr>\n",
       "    <tr>\n",
       "      <th>3889</th>\n",
       "      <td>Madden NFL 2004</td>\n",
       "      <td>GC</td>\n",
       "      <td>2003.0</td>\n",
       "      <td>Sports</td>\n",
       "      <td>0.40</td>\n",
       "      <td>0.10</td>\n",
       "      <td>0.00</td>\n",
       "      <td>0.01</td>\n",
       "      <td>94.0</td>\n",
       "      <td>7.7</td>\n",
       "      <td>E</td>\n",
       "    </tr>\n",
       "    <tr>\n",
       "      <th>5708</th>\n",
       "      <td>Madden NFL 2004</td>\n",
       "      <td>GBA</td>\n",
       "      <td>2003.0</td>\n",
       "      <td>Sports</td>\n",
       "      <td>0.22</td>\n",
       "      <td>0.08</td>\n",
       "      <td>0.00</td>\n",
       "      <td>0.01</td>\n",
       "      <td>70.0</td>\n",
       "      <td>6.6</td>\n",
       "      <td>E</td>\n",
       "    </tr>\n",
       "  </tbody>\n",
       "</table>\n",
       "</div>"
      ],
      "text/plain": [
       "                 name platform  year_of_release   genre  na_sales  eu_sales  \\\n",
       "183   Madden NFL 2004      PS2              NaN  Sports      4.26      0.26   \n",
       "1881  Madden NFL 2004       XB           2003.0  Sports      1.02      0.02   \n",
       "3889  Madden NFL 2004       GC           2003.0  Sports      0.40      0.10   \n",
       "5708  Madden NFL 2004      GBA           2003.0  Sports      0.22      0.08   \n",
       "\n",
       "      jp_sales  other_sales  critic_score user_score rating  \n",
       "183       0.01         0.71          94.0        8.5      E  \n",
       "1881      0.00         0.05          92.0        8.3      E  \n",
       "3889      0.00         0.01          94.0        7.7      E  \n",
       "5708      0.00         0.01          70.0        6.6      E  "
      ]
     },
     "execution_count": 12,
     "metadata": {},
     "output_type": "execute_result"
    }
   ],
   "source": [
    "#фильтрация таблицы\n",
    "df.loc[df['name'] == 'Madden NFL 2004']"
   ]
  },
  {
   "cell_type": "markdown",
   "id": "a058c116",
   "metadata": {},
   "source": [
    "Видим, что игра 'Madden NFL 2004' выходила в 2003 году на трех платформах, а по четвертой платформе год выхода пропущен. Можно предположить, что на платформе PS2 эта игра вышла не в 2003 году, а раньше или позднее, но примем этот риск. Также необходимо быть уверенными, что платформа PS2, по которой есть пропуск, появилась не позднее 2003 года, иначе заполнение пропуска этим годом будет ошибочным."
   ]
  },
  {
   "cell_type": "code",
   "execution_count": 13,
   "id": "7dc2a4c3",
   "metadata": {},
   "outputs": [
    {
     "data": {
      "text/html": [
       "<div>\n",
       "<style scoped>\n",
       "    .dataframe tbody tr th:only-of-type {\n",
       "        vertical-align: middle;\n",
       "    }\n",
       "\n",
       "    .dataframe tbody tr th {\n",
       "        vertical-align: top;\n",
       "    }\n",
       "\n",
       "    .dataframe thead th {\n",
       "        text-align: right;\n",
       "    }\n",
       "</style>\n",
       "<table border=\"1\" class=\"dataframe\">\n",
       "  <thead>\n",
       "    <tr style=\"text-align: right;\">\n",
       "      <th></th>\n",
       "      <th>name</th>\n",
       "      <th>platform</th>\n",
       "      <th>year_of_release</th>\n",
       "      <th>genre</th>\n",
       "      <th>na_sales</th>\n",
       "      <th>eu_sales</th>\n",
       "      <th>jp_sales</th>\n",
       "      <th>other_sales</th>\n",
       "      <th>critic_score</th>\n",
       "      <th>user_score</th>\n",
       "      <th>rating</th>\n",
       "    </tr>\n",
       "  </thead>\n",
       "  <tbody>\n",
       "    <tr>\n",
       "      <th>609</th>\n",
       "      <td>Space Invaders</td>\n",
       "      <td>2600</td>\n",
       "      <td>NaN</td>\n",
       "      <td>Shooter</td>\n",
       "      <td>2.36</td>\n",
       "      <td>0.14</td>\n",
       "      <td>0.00</td>\n",
       "      <td>0.03</td>\n",
       "      <td>NaN</td>\n",
       "      <td>NaN</td>\n",
       "      <td>NaN</td>\n",
       "    </tr>\n",
       "    <tr>\n",
       "      <th>4264</th>\n",
       "      <td>Space Invaders</td>\n",
       "      <td>SNES</td>\n",
       "      <td>1994.0</td>\n",
       "      <td>Shooter</td>\n",
       "      <td>0.00</td>\n",
       "      <td>0.00</td>\n",
       "      <td>0.46</td>\n",
       "      <td>0.00</td>\n",
       "      <td>NaN</td>\n",
       "      <td>NaN</td>\n",
       "      <td>NaN</td>\n",
       "    </tr>\n",
       "    <tr>\n",
       "      <th>8580</th>\n",
       "      <td>Space Invaders</td>\n",
       "      <td>N64</td>\n",
       "      <td>1999.0</td>\n",
       "      <td>Shooter</td>\n",
       "      <td>0.13</td>\n",
       "      <td>0.03</td>\n",
       "      <td>0.00</td>\n",
       "      <td>0.00</td>\n",
       "      <td>NaN</td>\n",
       "      <td>NaN</td>\n",
       "      <td>NaN</td>\n",
       "    </tr>\n",
       "    <tr>\n",
       "      <th>10383</th>\n",
       "      <td>Space Invaders</td>\n",
       "      <td>GBA</td>\n",
       "      <td>2002.0</td>\n",
       "      <td>Shooter</td>\n",
       "      <td>0.08</td>\n",
       "      <td>0.03</td>\n",
       "      <td>0.00</td>\n",
       "      <td>0.00</td>\n",
       "      <td>NaN</td>\n",
       "      <td>NaN</td>\n",
       "      <td>NaN</td>\n",
       "    </tr>\n",
       "  </tbody>\n",
       "</table>\n",
       "</div>"
      ],
      "text/plain": [
       "                 name platform  year_of_release    genre  na_sales  eu_sales  \\\n",
       "609    Space Invaders     2600              NaN  Shooter      2.36      0.14   \n",
       "4264   Space Invaders     SNES           1994.0  Shooter      0.00      0.00   \n",
       "8580   Space Invaders      N64           1999.0  Shooter      0.13      0.03   \n",
       "10383  Space Invaders      GBA           2002.0  Shooter      0.08      0.03   \n",
       "\n",
       "       jp_sales  other_sales  critic_score user_score rating  \n",
       "609        0.00         0.03           NaN        NaN    NaN  \n",
       "4264       0.46         0.00           NaN        NaN    NaN  \n",
       "8580       0.00         0.00           NaN        NaN    NaN  \n",
       "10383      0.00         0.00           NaN        NaN    NaN  "
      ]
     },
     "execution_count": 13,
     "metadata": {},
     "output_type": "execute_result"
    }
   ],
   "source": [
    "#фильтрация таблицы\n",
    "df.loc[df['name'] == 'Space Invaders']"
   ]
  },
  {
   "cell_type": "markdown",
   "id": "5ff90e78",
   "metadata": {},
   "source": [
    "Видим, что игра 'Space Invaders' выходила на трех платформах в разные годы, а по четвертой платформе год выхода пропущен. В этом случае для пропуска нет логичной замены."
   ]
  },
  {
   "cell_type": "markdown",
   "id": "86e83d44",
   "metadata": {},
   "source": [
    "Таким образом, при заполнении пропусков будем руководствоваться следующим алгоритмом:\n",
    "* составим список названий игр, по которым есть пропуски в столбце с годом выхода;\n",
    "* рассчитаем количество уникальных дат выхода (годы) по этим играм;\n",
    "* составим итоговый список названий игр, у которых есть только один уникальный год выхода;\n",
    "* внедрим в основную таблицу столбец с минимальным годом выхода, который найдется для каждой игры по ее наименованию (можно брать и максимальный, т.к. применяться будет только для игр, вышедших единожды);\n",
    "* внедрим в таблицу столбец с минимальным годом появления платформы, на которой вышла игра;\n",
    "* напишем функцию, которая будет для игр из итогового списка подставлять вместо пропуска найденный единственный год выхода игры в том случае, если выполнено условие по году появления платформы (минимальный год платформы не позднее найденного года единственного года выхода игры).\n",
    "\n",
    "Такой алгоритм должен оставить пропуски в следующих случаях:\n",
    "* если игра с одинаковым наименованием выходила в разные годы;\n",
    "* если игра с одинаковым наименованием выходила на разных платформах только в один год, по при этом платформа с пропуском появилась позднее, чем этот один год выхода игры;\n",
    "* если игра выходила только на одной платформе, и нет данных для восстановления пропусков."
   ]
  },
  {
   "cell_type": "markdown",
   "id": "bc35aca7",
   "metadata": {},
   "source": [
    "Составим итоговых список игр, для которых будем заполнять пропуски:"
   ]
  },
  {
   "cell_type": "code",
   "execution_count": 14,
   "id": "76d31075",
   "metadata": {},
   "outputs": [],
   "source": [
    "#список игр, по которым есть пропуски в годе выхода\n",
    "na_year_list = df.loc[df['year_of_release'].isna()]['name'].unique()\n",
    "\n",
    "#таблица с именами игр из na_year_list и расчетом уникальных значений по всем годам выхода\n",
    "na_year_table = df.loc[df['name'].isin(na_year_list)] \\\n",
    "                    .pivot_table(index='name', values='year_of_release', aggfunc='nunique') \\\n",
    "                    .reset_index()\n",
    "\n",
    "#список игр, которые выходили только единожды (один год выхода)\n",
    "one_unique_year_list = na_year_table[na_year_table['year_of_release'] == 1]['name'].unique()"
   ]
  },
  {
   "cell_type": "markdown",
   "id": "0bf231c5",
   "metadata": {},
   "source": [
    "Внедрим в основную таблицу дополнительные столбцы, с помощью данных из которых будем заполнять пропуски:"
   ]
  },
  {
   "cell_type": "code",
   "execution_count": 15,
   "id": "5b1df8dc",
   "metadata": {},
   "outputs": [],
   "source": [
    "#таблица с минимальным годом выхода игры по ее наименованию\n",
    "min_year_games_table = df.groupby('name')[['name','year_of_release']].transform('min')\n",
    "\n",
    "#таблица с минимальным годом появления платформы\n",
    "min_year_platform_table = df.groupby('platform')[['platform','year_of_release']].transform('min')\n",
    "\n",
    "#внедрение в основную таблицу нового столбца с минимальным годом выхода игры по ее наименованию\n",
    "df.insert(3, 'min_year_games', min_year_games_table['year_of_release'])\n",
    "\n",
    "#внедрение в основную таблицу нового столбца с минимальным годом появления платформы\n",
    "df.insert(4, 'min_year_platform', min_year_platform_table['year_of_release'])"
   ]
  },
  {
   "cell_type": "markdown",
   "id": "9ae58ad6",
   "metadata": {},
   "source": [
    "Напишем функцию для замены пропусков для игр из итогового списка при выполнении условия по году появления платформы и применим ее к датафрейму:"
   ]
  },
  {
   "cell_type": "code",
   "execution_count": 16,
   "id": "e854b826",
   "metadata": {},
   "outputs": [],
   "source": [
    "#создание функции для замены пропусков\n",
    "def find_year(row): #на вход подается строка датафрейма\n",
    "        #если обнаружен пропуск в годе, и игра принадлежит списку игр, которые выходили только единожды,\n",
    "        #и платформа игры появилась не позднее минимального года выхода игры\n",
    "    if pd.isna(row['year_of_release']) and row['name'] in one_unique_year_list and \\\n",
    "        row['min_year_platform'] <= row['min_year_games']: \n",
    "        \n",
    "        row['year_of_release'] = row['min_year_games'] #заменяем пропуск на минимальный год выхода игры\n",
    "        return row['year_of_release']\n",
    "    \n",
    "    return row['year_of_release'] #если условие не выполнено, то возвращаем текущее значение столбца\n",
    "\n",
    "#замена пропусков\n",
    "df['year_of_release'] = df.apply(find_year, axis=1)"
   ]
  },
  {
   "cell_type": "markdown",
   "id": "e16e80ca",
   "metadata": {},
   "source": [
    "Проверим правильность отработки кода: найдем игры, которые выходили, например, 3 разных года (из списка игр, по которым есть пропуски в годе выхода):"
   ]
  },
  {
   "cell_type": "code",
   "execution_count": 17,
   "id": "06355209",
   "metadata": {},
   "outputs": [
    {
     "data": {
      "text/html": [
       "<div>\n",
       "<style scoped>\n",
       "    .dataframe tbody tr th:only-of-type {\n",
       "        vertical-align: middle;\n",
       "    }\n",
       "\n",
       "    .dataframe tbody tr th {\n",
       "        vertical-align: top;\n",
       "    }\n",
       "\n",
       "    .dataframe thead th {\n",
       "        text-align: right;\n",
       "    }\n",
       "</style>\n",
       "<table border=\"1\" class=\"dataframe\">\n",
       "  <thead>\n",
       "    <tr style=\"text-align: right;\">\n",
       "      <th></th>\n",
       "      <th>name</th>\n",
       "      <th>year_of_release</th>\n",
       "    </tr>\n",
       "  </thead>\n",
       "  <tbody>\n",
       "    <tr>\n",
       "      <th>169</th>\n",
       "      <td>Space Invaders</td>\n",
       "      <td>3</td>\n",
       "    </tr>\n",
       "    <tr>\n",
       "      <th>220</th>\n",
       "      <td>Wheel of Fortune</td>\n",
       "      <td>3</td>\n",
       "    </tr>\n",
       "  </tbody>\n",
       "</table>\n",
       "</div>"
      ],
      "text/plain": [
       "                 name  year_of_release\n",
       "169    Space Invaders                3\n",
       "220  Wheel of Fortune                3"
      ]
     },
     "execution_count": 17,
     "metadata": {},
     "output_type": "execute_result"
    }
   ],
   "source": [
    "na_year_table.loc[na_year_table['year_of_release'] == 3]"
   ]
  },
  {
   "cell_type": "markdown",
   "id": "b5260f0c",
   "metadata": {},
   "source": [
    "Возьмем первое наименование игры и выведем фрагмент основной таблицы:"
   ]
  },
  {
   "cell_type": "code",
   "execution_count": 18,
   "id": "22ed136e",
   "metadata": {},
   "outputs": [
    {
     "data": {
      "text/html": [
       "<div>\n",
       "<style scoped>\n",
       "    .dataframe tbody tr th:only-of-type {\n",
       "        vertical-align: middle;\n",
       "    }\n",
       "\n",
       "    .dataframe tbody tr th {\n",
       "        vertical-align: top;\n",
       "    }\n",
       "\n",
       "    .dataframe thead th {\n",
       "        text-align: right;\n",
       "    }\n",
       "</style>\n",
       "<table border=\"1\" class=\"dataframe\">\n",
       "  <thead>\n",
       "    <tr style=\"text-align: right;\">\n",
       "      <th></th>\n",
       "      <th>name</th>\n",
       "      <th>platform</th>\n",
       "      <th>year_of_release</th>\n",
       "      <th>min_year_games</th>\n",
       "      <th>min_year_platform</th>\n",
       "      <th>genre</th>\n",
       "      <th>na_sales</th>\n",
       "      <th>eu_sales</th>\n",
       "      <th>jp_sales</th>\n",
       "      <th>other_sales</th>\n",
       "      <th>critic_score</th>\n",
       "      <th>user_score</th>\n",
       "      <th>rating</th>\n",
       "    </tr>\n",
       "  </thead>\n",
       "  <tbody>\n",
       "    <tr>\n",
       "      <th>609</th>\n",
       "      <td>Space Invaders</td>\n",
       "      <td>2600</td>\n",
       "      <td>NaN</td>\n",
       "      <td>1994.0</td>\n",
       "      <td>1980.0</td>\n",
       "      <td>Shooter</td>\n",
       "      <td>2.36</td>\n",
       "      <td>0.14</td>\n",
       "      <td>0.00</td>\n",
       "      <td>0.03</td>\n",
       "      <td>NaN</td>\n",
       "      <td>NaN</td>\n",
       "      <td>NaN</td>\n",
       "    </tr>\n",
       "    <tr>\n",
       "      <th>4264</th>\n",
       "      <td>Space Invaders</td>\n",
       "      <td>SNES</td>\n",
       "      <td>1994.0</td>\n",
       "      <td>1994.0</td>\n",
       "      <td>1990.0</td>\n",
       "      <td>Shooter</td>\n",
       "      <td>0.00</td>\n",
       "      <td>0.00</td>\n",
       "      <td>0.46</td>\n",
       "      <td>0.00</td>\n",
       "      <td>NaN</td>\n",
       "      <td>NaN</td>\n",
       "      <td>NaN</td>\n",
       "    </tr>\n",
       "    <tr>\n",
       "      <th>8580</th>\n",
       "      <td>Space Invaders</td>\n",
       "      <td>N64</td>\n",
       "      <td>1999.0</td>\n",
       "      <td>1994.0</td>\n",
       "      <td>1996.0</td>\n",
       "      <td>Shooter</td>\n",
       "      <td>0.13</td>\n",
       "      <td>0.03</td>\n",
       "      <td>0.00</td>\n",
       "      <td>0.00</td>\n",
       "      <td>NaN</td>\n",
       "      <td>NaN</td>\n",
       "      <td>NaN</td>\n",
       "    </tr>\n",
       "    <tr>\n",
       "      <th>10383</th>\n",
       "      <td>Space Invaders</td>\n",
       "      <td>GBA</td>\n",
       "      <td>2002.0</td>\n",
       "      <td>1994.0</td>\n",
       "      <td>2000.0</td>\n",
       "      <td>Shooter</td>\n",
       "      <td>0.08</td>\n",
       "      <td>0.03</td>\n",
       "      <td>0.00</td>\n",
       "      <td>0.00</td>\n",
       "      <td>NaN</td>\n",
       "      <td>NaN</td>\n",
       "      <td>NaN</td>\n",
       "    </tr>\n",
       "  </tbody>\n",
       "</table>\n",
       "</div>"
      ],
      "text/plain": [
       "                 name platform  year_of_release  min_year_games  \\\n",
       "609    Space Invaders     2600              NaN          1994.0   \n",
       "4264   Space Invaders     SNES           1994.0          1994.0   \n",
       "8580   Space Invaders      N64           1999.0          1994.0   \n",
       "10383  Space Invaders      GBA           2002.0          1994.0   \n",
       "\n",
       "       min_year_platform    genre  na_sales  eu_sales  jp_sales  other_sales  \\\n",
       "609               1980.0  Shooter      2.36      0.14      0.00         0.03   \n",
       "4264              1990.0  Shooter      0.00      0.00      0.46         0.00   \n",
       "8580              1996.0  Shooter      0.13      0.03      0.00         0.00   \n",
       "10383             2000.0  Shooter      0.08      0.03      0.00         0.00   \n",
       "\n",
       "       critic_score user_score rating  \n",
       "609             NaN        NaN    NaN  \n",
       "4264            NaN        NaN    NaN  \n",
       "8580            NaN        NaN    NaN  \n",
       "10383           NaN        NaN    NaN  "
      ]
     },
     "execution_count": 18,
     "metadata": {},
     "output_type": "execute_result"
    }
   ],
   "source": [
    "df.loc[df['name'] == 'Space Invaders']"
   ]
  },
  {
   "cell_type": "markdown",
   "id": "ca126191",
   "metadata": {},
   "source": [
    "Код отработал верно: минимальный год выхода игры рассчитался корректно, но пропуск не был заполнен, поскольку игра выходила несколько лет, и нет точного понимания, когда она вышла именно на платформе 2600, по которой есть пропуск.\n",
    "\n",
    "Посмотрим на текущее кол-во пропусков:"
   ]
  },
  {
   "cell_type": "code",
   "execution_count": 19,
   "id": "e242ea6f",
   "metadata": {},
   "outputs": [
    {
     "data": {
      "text/plain": [
       "160"
      ]
     },
     "execution_count": 19,
     "metadata": {},
     "output_type": "execute_result"
    }
   ],
   "source": [
    "#расчет кол-ва пропусков в столбце таблицы\n",
    "df.isna().sum()['year_of_release']"
   ]
  },
  {
   "cell_type": "markdown",
   "id": "469fcf26",
   "metadata": {},
   "source": [
    "Таким образом, удалось восстановить пропуски в 269-160=109 строках, остальные пропуски (160 штук или 1%) придется отбросить:"
   ]
  },
  {
   "cell_type": "code",
   "execution_count": 20,
   "id": "181d4417",
   "metadata": {},
   "outputs": [],
   "source": [
    "#удаление строк с пропусками в заданных столбцах\n",
    "df = df.dropna(subset=['year_of_release'])"
   ]
  },
  {
   "cell_type": "markdown",
   "id": "dea18eed",
   "metadata": {},
   "source": [
    "Также удалим дополнительные столбцы, которые внедряли для заполнения пропусков:"
   ]
  },
  {
   "cell_type": "code",
   "execution_count": 21,
   "id": "9e85fce2",
   "metadata": {},
   "outputs": [],
   "source": [
    "#удаление столбцов таблицы\n",
    "df = df.drop(columns=['min_year_games', 'min_year_platform'])"
   ]
  },
  {
   "cell_type": "markdown",
   "id": "682f9799",
   "metadata": {},
   "source": [
    "**Пропуски в столбцах `critic_score`, `user_score` и `rating` c оценками критиков, пользователей и рейтингом игры от организации ESBR**"
   ]
  },
  {
   "cell_type": "code",
   "execution_count": 22,
   "id": "b42e20c8",
   "metadata": {},
   "outputs": [
    {
     "data": {
      "text/plain": [
       "critic_score    8486\n",
       "user_score      6628\n",
       "rating          6693\n",
       "dtype: int64"
      ]
     },
     "execution_count": 22,
     "metadata": {},
     "output_type": "execute_result"
    }
   ],
   "source": [
    "#расчет кол-ва пропусков в столбцах таблицы\n",
    "df.isna().sum()[['critic_score', 'user_score', 'rating']]"
   ]
  },
  {
   "cell_type": "markdown",
   "id": "5b8c9371",
   "metadata": {},
   "source": [
    "Посмотрим одновременное появление пропусков в этих трех столбцах таблицы:"
   ]
  },
  {
   "cell_type": "code",
   "execution_count": 23,
   "id": "ca95dc7b",
   "metadata": {},
   "outputs": [
    {
     "data": {
      "text/plain": [
       "6550"
      ]
     },
     "execution_count": 23,
     "metadata": {},
     "output_type": "execute_result"
    }
   ],
   "source": [
    "df.loc[df['critic_score'].isna() & df['user_score'].isna() & df['rating'].isna()]['name'].count()"
   ]
  },
  {
   "cell_type": "markdown",
   "id": "f1bdc697",
   "metadata": {},
   "source": [
    "Видим, что по большей части рассматриваемых строк пропуски появляются одновременно во всех трех столбцах."
   ]
  },
  {
   "cell_type": "markdown",
   "id": "9236e9b6",
   "metadata": {},
   "source": [
    "Можно предположить, что пропуски зависят от года выпуска игры, платформы, жанра, т.е. игры до какого-то года/на какой-то платформе/какого-то жанра в принципе не имеют оценок и рейтингов. Проверим это на примере пропусков в рейтинге, т.к. пропуски в остальных колонках по большей части совпадут (делаю \"широкие\" таблицы, не вмещающиеся в экран, чтобы не засорять тетрадку длинными проверочными колонками):"
   ]
  },
  {
   "cell_type": "code",
   "execution_count": 24,
   "id": "7df6a8ff",
   "metadata": {},
   "outputs": [
    {
     "data": {
      "text/html": [
       "<div>\n",
       "<style scoped>\n",
       "    .dataframe tbody tr th:only-of-type {\n",
       "        vertical-align: middle;\n",
       "    }\n",
       "\n",
       "    .dataframe tbody tr th {\n",
       "        vertical-align: top;\n",
       "    }\n",
       "\n",
       "    .dataframe thead th {\n",
       "        text-align: right;\n",
       "    }\n",
       "</style>\n",
       "<table border=\"1\" class=\"dataframe\">\n",
       "  <thead>\n",
       "    <tr style=\"text-align: right;\">\n",
       "      <th>year_of_release</th>\n",
       "      <th>1980.0</th>\n",
       "      <th>1981.0</th>\n",
       "      <th>1982.0</th>\n",
       "      <th>1983.0</th>\n",
       "      <th>1984.0</th>\n",
       "      <th>1985.0</th>\n",
       "      <th>1986.0</th>\n",
       "      <th>1987.0</th>\n",
       "      <th>1988.0</th>\n",
       "      <th>1989.0</th>\n",
       "      <th>1990.0</th>\n",
       "      <th>1991.0</th>\n",
       "      <th>1992.0</th>\n",
       "      <th>1993.0</th>\n",
       "      <th>1994.0</th>\n",
       "      <th>1995.0</th>\n",
       "      <th>1996.0</th>\n",
       "      <th>1997.0</th>\n",
       "      <th>1998.0</th>\n",
       "      <th>1999.0</th>\n",
       "      <th>2000.0</th>\n",
       "      <th>2001.0</th>\n",
       "      <th>2002.0</th>\n",
       "      <th>2003.0</th>\n",
       "      <th>2004.0</th>\n",
       "      <th>2005.0</th>\n",
       "      <th>2006.0</th>\n",
       "      <th>2007.0</th>\n",
       "      <th>2008.0</th>\n",
       "      <th>2009.0</th>\n",
       "      <th>2010.0</th>\n",
       "      <th>2011.0</th>\n",
       "      <th>2012.0</th>\n",
       "      <th>2013.0</th>\n",
       "      <th>2014.0</th>\n",
       "      <th>2015.0</th>\n",
       "      <th>2016.0</th>\n",
       "    </tr>\n",
       "  </thead>\n",
       "  <tbody>\n",
       "    <tr>\n",
       "      <th>name</th>\n",
       "      <td>9</td>\n",
       "      <td>46</td>\n",
       "      <td>36</td>\n",
       "      <td>17</td>\n",
       "      <td>14</td>\n",
       "      <td>13</td>\n",
       "      <td>21</td>\n",
       "      <td>16</td>\n",
       "      <td>14</td>\n",
       "      <td>17</td>\n",
       "      <td>16</td>\n",
       "      <td>41</td>\n",
       "      <td>41</td>\n",
       "      <td>60</td>\n",
       "      <td>120</td>\n",
       "      <td>219</td>\n",
       "      <td>256</td>\n",
       "      <td>270</td>\n",
       "      <td>347</td>\n",
       "      <td>297</td>\n",
       "      <td>202</td>\n",
       "      <td>143</td>\n",
       "      <td>174</td>\n",
       "      <td>162</td>\n",
       "      <td>165</td>\n",
       "      <td>233</td>\n",
       "      <td>329</td>\n",
       "      <td>376</td>\n",
       "      <td>448</td>\n",
       "      <td>416</td>\n",
       "      <td>458</td>\n",
       "      <td>441</td>\n",
       "      <td>298</td>\n",
       "      <td>229</td>\n",
       "      <td>236</td>\n",
       "      <td>291</td>\n",
       "      <td>222</td>\n",
       "    </tr>\n",
       "  </tbody>\n",
       "</table>\n",
       "</div>"
      ],
      "text/plain": [
       "year_of_release  1980.0  1981.0  1982.0  1983.0  1984.0  1985.0  1986.0  \\\n",
       "name                  9      46      36      17      14      13      21   \n",
       "\n",
       "year_of_release  1987.0  1988.0  1989.0  1990.0  1991.0  1992.0  1993.0  \\\n",
       "name                 16      14      17      16      41      41      60   \n",
       "\n",
       "year_of_release  1994.0  1995.0  1996.0  1997.0  1998.0  1999.0  2000.0  \\\n",
       "name                120     219     256     270     347     297     202   \n",
       "\n",
       "year_of_release  2001.0  2002.0  2003.0  2004.0  2005.0  2006.0  2007.0  \\\n",
       "name                143     174     162     165     233     329     376   \n",
       "\n",
       "year_of_release  2008.0  2009.0  2010.0  2011.0  2012.0  2013.0  2014.0  \\\n",
       "name                448     416     458     441     298     229     236   \n",
       "\n",
       "year_of_release  2015.0  2016.0  \n",
       "name                291     222  "
      ]
     },
     "execution_count": 24,
     "metadata": {},
     "output_type": "execute_result"
    }
   ],
   "source": [
    "#выводим кол-во пропусков в рейтинге по годам выхода игр\n",
    "df.loc[df['rating'].isna()].pivot_table(columns='year_of_release', values='name', aggfunc='count')"
   ]
  },
  {
   "cell_type": "code",
   "execution_count": 25,
   "id": "377f70a1",
   "metadata": {},
   "outputs": [
    {
     "data": {
      "text/html": [
       "<div>\n",
       "<style scoped>\n",
       "    .dataframe tbody tr th:only-of-type {\n",
       "        vertical-align: middle;\n",
       "    }\n",
       "\n",
       "    .dataframe tbody tr th {\n",
       "        vertical-align: top;\n",
       "    }\n",
       "\n",
       "    .dataframe thead th {\n",
       "        text-align: right;\n",
       "    }\n",
       "</style>\n",
       "<table border=\"1\" class=\"dataframe\">\n",
       "  <thead>\n",
       "    <tr style=\"text-align: right;\">\n",
       "      <th>platform</th>\n",
       "      <th>2600</th>\n",
       "      <th>3DO</th>\n",
       "      <th>3DS</th>\n",
       "      <th>DC</th>\n",
       "      <th>DS</th>\n",
       "      <th>GB</th>\n",
       "      <th>GBA</th>\n",
       "      <th>GC</th>\n",
       "      <th>GEN</th>\n",
       "      <th>GG</th>\n",
       "      <th>N64</th>\n",
       "      <th>NES</th>\n",
       "      <th>NG</th>\n",
       "      <th>PC</th>\n",
       "      <th>PCFX</th>\n",
       "      <th>PS</th>\n",
       "      <th>PS2</th>\n",
       "      <th>PS3</th>\n",
       "      <th>PS4</th>\n",
       "      <th>PSP</th>\n",
       "      <th>PSV</th>\n",
       "      <th>SAT</th>\n",
       "      <th>SCD</th>\n",
       "      <th>SNES</th>\n",
       "      <th>TG16</th>\n",
       "      <th>WS</th>\n",
       "      <th>Wii</th>\n",
       "      <th>WiiU</th>\n",
       "      <th>X360</th>\n",
       "      <th>XB</th>\n",
       "      <th>XOne</th>\n",
       "    </tr>\n",
       "  </thead>\n",
       "  <tbody>\n",
       "    <tr>\n",
       "      <th>name</th>\n",
       "      <td>116</td>\n",
       "      <td>3</td>\n",
       "      <td>289</td>\n",
       "      <td>38</td>\n",
       "      <td>868</td>\n",
       "      <td>97</td>\n",
       "      <td>297</td>\n",
       "      <td>85</td>\n",
       "      <td>27</td>\n",
       "      <td>1</td>\n",
       "      <td>318</td>\n",
       "      <td>98</td>\n",
       "      <td>12</td>\n",
       "      <td>200</td>\n",
       "      <td>1</td>\n",
       "      <td>986</td>\n",
       "      <td>672</td>\n",
       "      <td>374</td>\n",
       "      <td>137</td>\n",
       "      <td>658</td>\n",
       "      <td>279</td>\n",
       "      <td>173</td>\n",
       "      <td>6</td>\n",
       "      <td>239</td>\n",
       "      <td>2</td>\n",
       "      <td>6</td>\n",
       "      <td>312</td>\n",
       "      <td>42</td>\n",
       "      <td>207</td>\n",
       "      <td>89</td>\n",
       "      <td>61</td>\n",
       "    </tr>\n",
       "  </tbody>\n",
       "</table>\n",
       "</div>"
      ],
      "text/plain": [
       "platform  2600  3DO  3DS  DC   DS  GB  GBA  GC  GEN  GG  N64  NES  NG   PC  \\\n",
       "name       116    3  289  38  868  97  297  85   27   1  318   98  12  200   \n",
       "\n",
       "platform  PCFX   PS  PS2  PS3  PS4  PSP  PSV  SAT  SCD  SNES  TG16  WS  Wii  \\\n",
       "name         1  986  672  374  137  658  279  173    6   239     2   6  312   \n",
       "\n",
       "platform  WiiU  X360  XB  XOne  \n",
       "name        42   207  89    61  "
      ]
     },
     "execution_count": 25,
     "metadata": {},
     "output_type": "execute_result"
    }
   ],
   "source": [
    "#выводим кол-во пропусков в рейтинге по платформам\n",
    "df.loc[df['rating'].isna()].pivot_table(columns='platform', values='name', aggfunc='count')"
   ]
  },
  {
   "cell_type": "code",
   "execution_count": 26,
   "id": "da646ca0",
   "metadata": {},
   "outputs": [
    {
     "data": {
      "text/html": [
       "<div>\n",
       "<style scoped>\n",
       "    .dataframe tbody tr th:only-of-type {\n",
       "        vertical-align: middle;\n",
       "    }\n",
       "\n",
       "    .dataframe tbody tr th {\n",
       "        vertical-align: top;\n",
       "    }\n",
       "\n",
       "    .dataframe thead th {\n",
       "        text-align: right;\n",
       "    }\n",
       "</style>\n",
       "<table border=\"1\" class=\"dataframe\">\n",
       "  <thead>\n",
       "    <tr style=\"text-align: right;\">\n",
       "      <th>genre</th>\n",
       "      <th>Action</th>\n",
       "      <th>Adventure</th>\n",
       "      <th>Fighting</th>\n",
       "      <th>Misc</th>\n",
       "      <th>Platform</th>\n",
       "      <th>Puzzle</th>\n",
       "      <th>Racing</th>\n",
       "      <th>Role-Playing</th>\n",
       "      <th>Shooter</th>\n",
       "      <th>Simulation</th>\n",
       "      <th>Sports</th>\n",
       "      <th>Strategy</th>\n",
       "    </tr>\n",
       "  </thead>\n",
       "  <tbody>\n",
       "    <tr>\n",
       "      <th>name</th>\n",
       "      <td>1166</td>\n",
       "      <td>853</td>\n",
       "      <td>405</td>\n",
       "      <td>864</td>\n",
       "      <td>317</td>\n",
       "      <td>233</td>\n",
       "      <td>370</td>\n",
       "      <td>713</td>\n",
       "      <td>301</td>\n",
       "      <td>299</td>\n",
       "      <td>830</td>\n",
       "      <td>342</td>\n",
       "    </tr>\n",
       "  </tbody>\n",
       "</table>\n",
       "</div>"
      ],
      "text/plain": [
       "genre  Action  Adventure  Fighting  Misc  Platform  Puzzle  Racing  \\\n",
       "name     1166        853       405   864       317     233     370   \n",
       "\n",
       "genre  Role-Playing  Shooter  Simulation  Sports  Strategy  \n",
       "name            713      301         299     830       342  "
      ]
     },
     "execution_count": 26,
     "metadata": {},
     "output_type": "execute_result"
    }
   ],
   "source": [
    "#выводим кол-во пропусков в рейтинге по жанрам\n",
    "df.loc[df['rating'].isna()].pivot_table(columns='genre', values='name', aggfunc='count')"
   ]
  },
  {
   "cell_type": "markdown",
   "id": "6ce0fee4",
   "metadata": {},
   "source": [
    "Таким образом, видим, что появление пропусков не зависит от года выпуска игры, платформы, жанра. Скорее всего, пропуски появились по причине реального отсутствия данных, но нельзя исключать и технические причины. \n",
    "\n",
    "Логичную замену пропускам в числовых столбцах `critic_score` и `user_score` предложить невозможно, т.к. любое \"шаблонное\" значение может повлиять на дальнейший расчет статистических показателей, но и устранять строки с пропусками не будем, т.к. их очень много."
   ]
  },
  {
   "cell_type": "markdown",
   "id": "f71a583e",
   "metadata": {},
   "source": [
    "На этапе ознакомления с данными видели, что столбец `user_score` имеет тип 'object', хотя по идее должен быть числовым.Это происходит из-за того, что в нем присутствует аббревиатура 'tbd', означающая 'to be determinated', 'to be done', т.е. рейтинг по этим играм будет определен позднее (пока недостаточно данных):"
   ]
  },
  {
   "cell_type": "code",
   "execution_count": 27,
   "id": "3052a26a",
   "metadata": {},
   "outputs": [
    {
     "data": {
      "text/plain": [
       "2391"
      ]
     },
     "execution_count": 27,
     "metadata": {},
     "output_type": "execute_result"
    }
   ],
   "source": [
    "#подсчет кол-во строк, удовлетворяющих условию\n",
    "df.loc[df['user_score'] == 'tbd']['name'].count()"
   ]
  },
  {
   "cell_type": "markdown",
   "id": "e59cf3f9",
   "metadata": {},
   "source": [
    "Значение 'tbd' присутствует в 2391 строке, не несет для нас никакой информации, поэтому заменим его на NaN:"
   ]
  },
  {
   "cell_type": "code",
   "execution_count": 28,
   "id": "967d7c03",
   "metadata": {},
   "outputs": [],
   "source": [
    "df['user_score'] = df['user_score'].replace('tbd', np.nan)"
   ]
  },
  {
   "cell_type": "markdown",
   "id": "7ca33439",
   "metadata": {},
   "source": [
    "Пропуски в столбце `rating`, содержащем категориальные переменные, логично будет заменить на \"шаблонное\" значение, например 'None'. Это в дальнейшем позволит увидеть группу игр, не имеющих рейтинга:"
   ]
  },
  {
   "cell_type": "code",
   "execution_count": 29,
   "id": "9817ac8a",
   "metadata": {},
   "outputs": [],
   "source": [
    "df['rating'] = df['rating'].fillna('None')"
   ]
  },
  {
   "cell_type": "markdown",
   "id": "d995caa5",
   "metadata": {},
   "source": [
    "### Изменение типов данных"
   ]
  },
  {
   "cell_type": "code",
   "execution_count": 30,
   "id": "94b527f5",
   "metadata": {},
   "outputs": [
    {
     "name": "stdout",
     "output_type": "stream",
     "text": [
      "<class 'pandas.core.frame.DataFrame'>\n",
      "Int64Index: 16553 entries, 0 to 16714\n",
      "Data columns (total 11 columns):\n",
      " #   Column           Non-Null Count  Dtype  \n",
      "---  ------           --------------  -----  \n",
      " 0   name             16553 non-null  object \n",
      " 1   platform         16553 non-null  object \n",
      " 2   year_of_release  16553 non-null  float64\n",
      " 3   genre            16553 non-null  object \n",
      " 4   na_sales         16553 non-null  float64\n",
      " 5   eu_sales         16553 non-null  float64\n",
      " 6   jp_sales         16553 non-null  float64\n",
      " 7   other_sales      16553 non-null  float64\n",
      " 8   critic_score     8067 non-null   float64\n",
      " 9   user_score       7534 non-null   object \n",
      " 10  rating           16553 non-null  object \n",
      "dtypes: float64(6), object(5)\n",
      "memory usage: 1.5+ MB\n"
     ]
    }
   ],
   "source": [
    "df.info()"
   ]
  },
  {
   "cell_type": "markdown",
   "id": "aa63ff1a",
   "metadata": {},
   "source": [
    "Изменим тип данных в столбце `year_of_release` на целочисленный, т.к. год выхода логичнее представить целым числом. Делать замену на тип 'datetime' пока не вижу смысла, т.к. операций с датами не предполагается, и точной даты выхода игры (кроме года) у нас нет.\n",
    "\n",
    "Тип данных в столбце `user_score` - 'object', поскольку ранее в столбце среди числовых значений присутствовали текстовые значения, которые были заменены на пропуски. В этом столбце изменим тип данных на вещественное число."
   ]
  },
  {
   "cell_type": "code",
   "execution_count": 31,
   "id": "59a720d2",
   "metadata": {},
   "outputs": [],
   "source": [
    "#замена типа данных в столбцах\n",
    "df['year_of_release'] = df['year_of_release'].astype('int')\n",
    "df['user_score'] = df['user_score'].astype('float')"
   ]
  },
  {
   "cell_type": "markdown",
   "id": "6689ae31",
   "metadata": {},
   "source": [
    "### Проверка данных на дубликаты"
   ]
  },
  {
   "cell_type": "markdown",
   "id": "53fdd681",
   "metadata": {},
   "source": [
    "Проверим столбцы с категориальными данными `platform`, `genre` и `rating` на наличие неявных дубликатов."
   ]
  },
  {
   "cell_type": "code",
   "execution_count": 32,
   "id": "a0520996",
   "metadata": {},
   "outputs": [
    {
     "name": "stdout",
     "output_type": "stream",
     "text": [
      "Значения в столбце platform:\n",
      "['2600' '3DO' '3DS' 'DC' 'DS' 'GB' 'GBA' 'GC' 'GEN' 'GG' 'N64' 'NES' 'NG'\n",
      " 'PC' 'PCFX' 'PS' 'PS2' 'PS3' 'PS4' 'PSP' 'PSV' 'SAT' 'SCD' 'SNES' 'TG16'\n",
      " 'WS' 'Wii' 'WiiU' 'X360' 'XB' 'XOne']\n",
      "\n",
      "Значения в столбце genre:\n",
      "['Action' 'Adventure' 'Fighting' 'Misc' 'Platform' 'Puzzle' 'Racing'\n",
      " 'Role-Playing' 'Shooter' 'Simulation' 'Sports' 'Strategy']\n",
      "\n",
      "Значения в столбце rating:\n",
      "['AO' 'E' 'E10+' 'EC' 'K-A' 'M' 'None' 'RP' 'T']\n",
      "\n"
     ]
    }
   ],
   "source": [
    "#вывод уникальных значений в столбцах путем перебора их наименований\n",
    "for name in ['platform', 'genre', 'rating']:\n",
    "    print(f'Значения в столбце {name}:')\n",
    "    print(np.sort(df[name].unique()))\n",
    "    print('')"
   ]
  },
  {
   "cell_type": "markdown",
   "id": "a991274e",
   "metadata": {},
   "source": [
    "Неявных дубликатов в столбцах с наименованиями платформ и жанров не выявлено."
   ]
  },
  {
   "cell_type": "markdown",
   "id": "74f39092",
   "metadata": {},
   "source": [
    "Более пристально изучим рейтинги игр: выведем фрагмент таблицы с определенными рейтингами:"
   ]
  },
  {
   "cell_type": "code",
   "execution_count": 33,
   "id": "b2ace646",
   "metadata": {},
   "outputs": [
    {
     "data": {
      "text/html": [
       "<div>\n",
       "<style scoped>\n",
       "    .dataframe tbody tr th:only-of-type {\n",
       "        vertical-align: middle;\n",
       "    }\n",
       "\n",
       "    .dataframe tbody tr th {\n",
       "        vertical-align: top;\n",
       "    }\n",
       "\n",
       "    .dataframe thead th {\n",
       "        text-align: right;\n",
       "    }\n",
       "</style>\n",
       "<table border=\"1\" class=\"dataframe\">\n",
       "  <thead>\n",
       "    <tr style=\"text-align: right;\">\n",
       "      <th></th>\n",
       "      <th>name</th>\n",
       "      <th>platform</th>\n",
       "      <th>year_of_release</th>\n",
       "      <th>genre</th>\n",
       "      <th>na_sales</th>\n",
       "      <th>eu_sales</th>\n",
       "      <th>jp_sales</th>\n",
       "      <th>other_sales</th>\n",
       "      <th>critic_score</th>\n",
       "      <th>user_score</th>\n",
       "      <th>rating</th>\n",
       "    </tr>\n",
       "  </thead>\n",
       "  <tbody>\n",
       "    <tr>\n",
       "      <th>656</th>\n",
       "      <td>Theme Hospital</td>\n",
       "      <td>PC</td>\n",
       "      <td>1997</td>\n",
       "      <td>Strategy</td>\n",
       "      <td>2.30</td>\n",
       "      <td>0.10</td>\n",
       "      <td>0.00</td>\n",
       "      <td>0.00</td>\n",
       "      <td>NaN</td>\n",
       "      <td>9.0</td>\n",
       "      <td>K-A</td>\n",
       "    </tr>\n",
       "    <tr>\n",
       "      <th>903</th>\n",
       "      <td>PaRappa The Rapper</td>\n",
       "      <td>PS</td>\n",
       "      <td>1996</td>\n",
       "      <td>Misc</td>\n",
       "      <td>0.26</td>\n",
       "      <td>0.16</td>\n",
       "      <td>1.46</td>\n",
       "      <td>0.03</td>\n",
       "      <td>92.0</td>\n",
       "      <td>7.4</td>\n",
       "      <td>K-A</td>\n",
       "    </tr>\n",
       "    <tr>\n",
       "      <th>16681</th>\n",
       "      <td>Worms 2</td>\n",
       "      <td>PC</td>\n",
       "      <td>1997</td>\n",
       "      <td>Strategy</td>\n",
       "      <td>0.00</td>\n",
       "      <td>0.01</td>\n",
       "      <td>0.00</td>\n",
       "      <td>0.00</td>\n",
       "      <td>NaN</td>\n",
       "      <td>8.1</td>\n",
       "      <td>K-A</td>\n",
       "    </tr>\n",
       "    <tr>\n",
       "      <th>14270</th>\n",
       "      <td>Supreme Ruler: Cold War</td>\n",
       "      <td>PC</td>\n",
       "      <td>2011</td>\n",
       "      <td>Strategy</td>\n",
       "      <td>0.00</td>\n",
       "      <td>0.03</td>\n",
       "      <td>0.00</td>\n",
       "      <td>0.01</td>\n",
       "      <td>63.0</td>\n",
       "      <td>6.8</td>\n",
       "      <td>RP</td>\n",
       "    </tr>\n",
       "    <tr>\n",
       "      <th>16180</th>\n",
       "      <td>WRC: FIA World Rally Championship</td>\n",
       "      <td>PC</td>\n",
       "      <td>2005</td>\n",
       "      <td>Racing</td>\n",
       "      <td>0.00</td>\n",
       "      <td>0.01</td>\n",
       "      <td>0.00</td>\n",
       "      <td>0.00</td>\n",
       "      <td>65.0</td>\n",
       "      <td>NaN</td>\n",
       "      <td>RP</td>\n",
       "    </tr>\n",
       "  </tbody>\n",
       "</table>\n",
       "</div>"
      ],
      "text/plain": [
       "                                    name platform  year_of_release     genre  \\\n",
       "656                       Theme Hospital       PC             1997  Strategy   \n",
       "903                   PaRappa The Rapper       PS             1996      Misc   \n",
       "16681                            Worms 2       PC             1997  Strategy   \n",
       "14270            Supreme Ruler: Cold War       PC             2011  Strategy   \n",
       "16180  WRC: FIA World Rally Championship       PC             2005    Racing   \n",
       "\n",
       "       na_sales  eu_sales  jp_sales  other_sales  critic_score  user_score  \\\n",
       "656        2.30      0.10      0.00         0.00           NaN         9.0   \n",
       "903        0.26      0.16      1.46         0.03          92.0         7.4   \n",
       "16681      0.00      0.01      0.00         0.00           NaN         8.1   \n",
       "14270      0.00      0.03      0.00         0.01          63.0         6.8   \n",
       "16180      0.00      0.01      0.00         0.00          65.0         NaN   \n",
       "\n",
       "      rating  \n",
       "656      K-A  \n",
       "903      K-A  \n",
       "16681    K-A  \n",
       "14270     RP  \n",
       "16180     RP  "
      ]
     },
     "execution_count": 33,
     "metadata": {},
     "output_type": "execute_result"
    }
   ],
   "source": [
    "#фильтрация с помощью логической индексации\n",
    "df.loc[(df['rating'] == 'K-A') | (df['rating'] == 'RP')].sort_values(by='rating')"
   ]
  },
  {
   "cell_type": "markdown",
   "id": "d236a066",
   "metadata": {},
   "source": [
    "Три игры в таблице, выпущенные в 1996-1997 гг., имеют рейтинг 'K-A' - 'kids to adult'. Из открытых источников известно, что этот рейтинг давно не применяется, и в существующей системе ему на смену пришел рейтинг 'E' - 'everyone'. Таким образом, можно сделать замену значений этих трех строк с целью уменьшения количества категорий.\n",
    "\n",
    "Также из открытых источников известно, что аббревиатура 'RP' - 'rating pending' означает, что рейтинг ожидается, еще не присвоен. Также известно, что это рейтинг используется только на рекламных презентациях и в демо-версиях игр до официальной даты выпуска. У нас нет данных, могут ли в нашем датасете присутствовать демо-версии игр, но в любом случае этот рейтинг, также как и аббревиатура 'tbd' в оценках пользователей, не несет для нас никакой информации, поэтому в двух строках таблицы заменим его на \"шаблонное\" значение 'None':"
   ]
  },
  {
   "cell_type": "code",
   "execution_count": 34,
   "id": "031fcf0d",
   "metadata": {},
   "outputs": [],
   "source": [
    "#замена отдельных значений столбца\n",
    "df['rating'] = df['rating'].replace('K-A', 'E')\n",
    "df['rating'] = df['rating'].replace('RP', 'None')"
   ]
  },
  {
   "cell_type": "markdown",
   "id": "d94c507d",
   "metadata": {},
   "source": [
    "Проведем проверку таблицы на полные дубликаты:"
   ]
  },
  {
   "cell_type": "code",
   "execution_count": 35,
   "id": "ec347593",
   "metadata": {},
   "outputs": [
    {
     "data": {
      "text/plain": [
       "0"
      ]
     },
     "execution_count": 35,
     "metadata": {},
     "output_type": "execute_result"
    }
   ],
   "source": [
    "# подсчет количества дубликатов\n",
    "df.duplicated().sum()"
   ]
  },
  {
   "cell_type": "markdown",
   "id": "17135fcb",
   "metadata": {},
   "source": [
    "Полных дубликатов строк в таблице не обнаружено."
   ]
  },
  {
   "cell_type": "markdown",
   "id": "cd8492e2",
   "metadata": {},
   "source": [
    "### Расчет столбца с дополнительной информацией по суммарным продажам"
   ]
  },
  {
   "cell_type": "markdown",
   "id": "7b20d808",
   "metadata": {},
   "source": [
    "Рассчитаем суммарные продажи по всем регионам и запишем итог в отдельный столбец таблицы:"
   ]
  },
  {
   "cell_type": "code",
   "execution_count": 36,
   "id": "57775760",
   "metadata": {},
   "outputs": [],
   "source": [
    "#вставка нового столбца с расчетом значений на базе имеющихся столбцов\n",
    "df.insert(8, 'total_sales', df[['na_sales', 'eu_sales', 'jp_sales', 'other_sales']].sum(axis=1))"
   ]
  },
  {
   "cell_type": "code",
   "execution_count": 37,
   "id": "51ff8b8c",
   "metadata": {},
   "outputs": [
    {
     "data": {
      "text/plain": [
       "True"
      ]
     },
     "execution_count": 37,
     "metadata": {},
     "output_type": "execute_result"
    }
   ],
   "source": [
    "#контроль значений в новом столбце\n",
    "df['total_sales'].sum() == df[['na_sales', 'eu_sales', 'jp_sales', 'other_sales']].sum().sum()"
   ]
  },
  {
   "cell_type": "markdown",
   "id": "f44f82d8",
   "metadata": {},
   "source": [
    "### Вывод по блоку \"Предобработка данных\""
   ]
  },
  {
   "cell_type": "markdown",
   "id": "a7463826",
   "metadata": {},
   "source": [
    "Данные в таблице подготовлены к исследовательскому анализу:\n",
    "* названия столбцов приведены к нижнему регистру;\n",
    "* исследованы пропуски в данных: \n",
    "    * отброшены 2 строки с пропущенными значениями в столбцах с наименованием игры и ее жанром;\n",
    "    * частично заполнены пропуски с годом выхода игры, остальные строки (1%) с пропуском в этом столбцы отброшены;\n",
    "    * пропуски в столбцах с оценками критиков/пользователей и рейтингом игр объясняются отсутствием информации в первоисточниках; пропуски в данных по оценкам не требуют замены, пропуски в рейтингах заменены на шаблонное значение 'None';\n",
    "* данные в отдельных столбцах преобразованы к нужным типам;\n",
    "* данные проверены на наличие неявных и полных дубликатов, в столбце с рейтингом игр произведена замена отдельных неактуальных значений;\n",
    "* в таблицу внедрен новый столбец с расчетом суммарных продаж по всем регионам."
   ]
  },
  {
   "cell_type": "markdown",
   "id": "e0a0a608",
   "metadata": {},
   "source": [
    "## Исследовательский анализ данных"
   ]
  },
  {
   "cell_type": "markdown",
   "id": "ce3c8096",
   "metadata": {},
   "source": [
    "### Проверка данных на наличие ошибок и аномалий"
   ]
  },
  {
   "cell_type": "markdown",
   "id": "61e16f8e",
   "metadata": {},
   "source": [
    "<a id='intro1'></a>\n",
    "В нашем датасете присутствуют объемы продаж игр по регионам, которые мы объединили в столбец с суммарными продажами. На основе этого столбца можно посмотреть, как распределены продажи и насколько большой размах этих данных в датасете. Для столбца с суммарными продажами выведем описательную статистику и построим гистрограмму распределения и \"ящик с усами\": явные выбросы станут понятны, и если не найдем им объяснения, то углубимся в построение графиков для каждого из регионов по отдельности."
   ]
  },
  {
   "cell_type": "code",
   "execution_count": 38,
   "id": "608f9853",
   "metadata": {},
   "outputs": [
    {
     "data": {
      "text/plain": [
       "count    16553.00\n",
       "mean         0.54\n",
       "std          1.55\n",
       "min          0.00\n",
       "25%          0.06\n",
       "50%          0.17\n",
       "75%          0.47\n",
       "max         82.54\n",
       "Name: total_sales, dtype: object"
      ]
     },
     "execution_count": 38,
     "metadata": {},
     "output_type": "execute_result"
    }
   ],
   "source": [
    "#вывод описательной статистики\n",
    "df['total_sales'].describe().apply('{:.2f}'.format)"
   ]
  },
  {
   "cell_type": "code",
   "execution_count": 39,
   "id": "21ae1c58",
   "metadata": {},
   "outputs": [
    {
     "data": {
      "image/png": "[encoded data removed]",
      "text/plain": [
       "<Figure size 576x360 with 2 Axes>"
      ]
     },
     "metadata": {
      "needs_background": "light"
     },
     "output_type": "display_data"
    }
   ],
   "source": [
    "#построение графиков\n",
    "fig = plt.figure(figsize=(8, 5))\n",
    "    \n",
    "ax1 = fig.add_subplot(2,1,1)\n",
    "ax2 = fig.add_subplot(2,1,2)\n",
    "    \n",
    "ax1.set_title(f'Гистограмма распределения для общих продаж игр')\n",
    "ax2.set_title(f'Диаграмма размаха для общих продаж игр')\n",
    "    \n",
    "ax1.set_xlabel('Продано млн.копий игр')\n",
    "ax2.set_xlabel('Продано млн.копий игр')\n",
    "    \n",
    "ax1.set_ylabel('Кол-во значений')\n",
    "    \n",
    "ax1.hist(df['total_sales'], bins=100, range=(0.001, 2)) #принудительно зададим мин. и макс. для наглядности\n",
    "ax2.boxplot(df['total_sales'], vert=False) #здесь не будем ставить ограничений\n",
    "    \n",
    "fig.tight_layout()\n",
    "plt.show()"
   ]
  },
  {
   "cell_type": "markdown",
   "id": "c0fded27",
   "metadata": {},
   "source": [
    "Медианное значение общего объема продаж составляет 0.17 млн.копий игр, при этом среднее значение в 0.54 млн.копий сильно искажено влиянием очень больших значений: распределение имеет большое стандартное отклонение в 1.55 млн.копий (в три раза выше среднего), смещено вправо с очень длинным правым хвостом, боксплот визуально не читаем, превращается в линию из-за выборосов.\n",
    "Таким образом, в датасете присутствуют как игры с нулевыми продажами, так и игры с очень высокими продажами. Посмотрим на них детально:"
   ]
  },
  {
   "cell_type": "code",
   "execution_count": 40,
   "id": "9c21ec4a",
   "metadata": {},
   "outputs": [
    {
     "data": {
      "text/html": [
       "<div>\n",
       "<style scoped>\n",
       "    .dataframe tbody tr th:only-of-type {\n",
       "        vertical-align: middle;\n",
       "    }\n",
       "\n",
       "    .dataframe tbody tr th {\n",
       "        vertical-align: top;\n",
       "    }\n",
       "\n",
       "    .dataframe thead th {\n",
       "        text-align: right;\n",
       "    }\n",
       "</style>\n",
       "<table border=\"1\" class=\"dataframe\">\n",
       "  <thead>\n",
       "    <tr style=\"text-align: right;\">\n",
       "      <th></th>\n",
       "      <th>name</th>\n",
       "      <th>platform</th>\n",
       "      <th>year_of_release</th>\n",
       "      <th>genre</th>\n",
       "      <th>na_sales</th>\n",
       "      <th>eu_sales</th>\n",
       "      <th>jp_sales</th>\n",
       "      <th>other_sales</th>\n",
       "      <th>total_sales</th>\n",
       "      <th>critic_score</th>\n",
       "      <th>user_score</th>\n",
       "      <th>rating</th>\n",
       "    </tr>\n",
       "  </thead>\n",
       "  <tbody>\n",
       "    <tr>\n",
       "      <th>16676</th>\n",
       "      <td>G1 Jockey 4 2008</td>\n",
       "      <td>PS3</td>\n",
       "      <td>2008</td>\n",
       "      <td>Sports</td>\n",
       "      <td>0.0</td>\n",
       "      <td>0.0</td>\n",
       "      <td>0.0</td>\n",
       "      <td>0.0</td>\n",
       "      <td>0.0</td>\n",
       "      <td>NaN</td>\n",
       "      <td>NaN</td>\n",
       "      <td>None</td>\n",
       "    </tr>\n",
       "    <tr>\n",
       "      <th>16709</th>\n",
       "      <td>SCORE International Baja 1000: The Official Game</td>\n",
       "      <td>PS2</td>\n",
       "      <td>2008</td>\n",
       "      <td>Racing</td>\n",
       "      <td>0.0</td>\n",
       "      <td>0.0</td>\n",
       "      <td>0.0</td>\n",
       "      <td>0.0</td>\n",
       "      <td>0.0</td>\n",
       "      <td>NaN</td>\n",
       "      <td>NaN</td>\n",
       "      <td>None</td>\n",
       "    </tr>\n",
       "  </tbody>\n",
       "</table>\n",
       "</div>"
      ],
      "text/plain": [
       "                                                   name platform  \\\n",
       "16676                                  G1 Jockey 4 2008      PS3   \n",
       "16709  SCORE International Baja 1000: The Official Game      PS2   \n",
       "\n",
       "       year_of_release   genre  na_sales  eu_sales  jp_sales  other_sales  \\\n",
       "16676             2008  Sports       0.0       0.0       0.0          0.0   \n",
       "16709             2008  Racing       0.0       0.0       0.0          0.0   \n",
       "\n",
       "       total_sales  critic_score  user_score rating  \n",
       "16676          0.0           NaN         NaN   None  \n",
       "16709          0.0           NaN         NaN   None  "
      ]
     },
     "execution_count": 40,
     "metadata": {},
     "output_type": "execute_result"
    }
   ],
   "source": [
    "df.query('total_sales == 0')"
   ]
  },
  {
   "cell_type": "markdown",
   "id": "d91dfa12",
   "metadata": {},
   "source": [
    "Игр с нулевыми продажами всего две, и по информации из открытых источников можно узнать, что это действительно были \"провальные\" игры. Игру \"G1 Jockey 4 2008\" назвали \"притянутой за уши\" копией аналогичной игры для PS2, в которой разработчики ничего не поменяли, кроме высокого разрешения в меню. Про игру \"SCORE International Baja 1000: The Official Game\" такого красочного отзыва я не нашла, но в целом есть информация, что для PS2 эта игра не удалась. Скорее всего, продажи каждой из этих игр были ненулевыми, а в нули они превратились только вследствие отражения данных в нашей таблице в миллионах копий. Ошибкой или аномалией считать эти значения не будем."
   ]
  },
  {
   "cell_type": "code",
   "execution_count": 41,
   "id": "c677888c",
   "metadata": {},
   "outputs": [
    {
     "data": {
      "text/html": [
       "<div>\n",
       "<style scoped>\n",
       "    .dataframe tbody tr th:only-of-type {\n",
       "        vertical-align: middle;\n",
       "    }\n",
       "\n",
       "    .dataframe tbody tr th {\n",
       "        vertical-align: top;\n",
       "    }\n",
       "\n",
       "    .dataframe thead th {\n",
       "        text-align: right;\n",
       "    }\n",
       "</style>\n",
       "<table border=\"1\" class=\"dataframe\">\n",
       "  <thead>\n",
       "    <tr style=\"text-align: right;\">\n",
       "      <th></th>\n",
       "      <th>name</th>\n",
       "      <th>platform</th>\n",
       "      <th>year_of_release</th>\n",
       "      <th>genre</th>\n",
       "      <th>na_sales</th>\n",
       "      <th>eu_sales</th>\n",
       "      <th>jp_sales</th>\n",
       "      <th>other_sales</th>\n",
       "      <th>total_sales</th>\n",
       "      <th>critic_score</th>\n",
       "      <th>user_score</th>\n",
       "      <th>rating</th>\n",
       "    </tr>\n",
       "  </thead>\n",
       "  <tbody>\n",
       "    <tr>\n",
       "      <th>0</th>\n",
       "      <td>Wii Sports</td>\n",
       "      <td>Wii</td>\n",
       "      <td>2006</td>\n",
       "      <td>Sports</td>\n",
       "      <td>41.36</td>\n",
       "      <td>28.96</td>\n",
       "      <td>3.77</td>\n",
       "      <td>8.45</td>\n",
       "      <td>82.54</td>\n",
       "      <td>76.0</td>\n",
       "      <td>8.0</td>\n",
       "      <td>E</td>\n",
       "    </tr>\n",
       "    <tr>\n",
       "      <th>1</th>\n",
       "      <td>Super Mario Bros.</td>\n",
       "      <td>NES</td>\n",
       "      <td>1985</td>\n",
       "      <td>Platform</td>\n",
       "      <td>29.08</td>\n",
       "      <td>3.58</td>\n",
       "      <td>6.81</td>\n",
       "      <td>0.77</td>\n",
       "      <td>40.24</td>\n",
       "      <td>NaN</td>\n",
       "      <td>NaN</td>\n",
       "      <td>None</td>\n",
       "    </tr>\n",
       "    <tr>\n",
       "      <th>2</th>\n",
       "      <td>Mario Kart Wii</td>\n",
       "      <td>Wii</td>\n",
       "      <td>2008</td>\n",
       "      <td>Racing</td>\n",
       "      <td>15.68</td>\n",
       "      <td>12.76</td>\n",
       "      <td>3.79</td>\n",
       "      <td>3.29</td>\n",
       "      <td>35.52</td>\n",
       "      <td>82.0</td>\n",
       "      <td>8.3</td>\n",
       "      <td>E</td>\n",
       "    </tr>\n",
       "    <tr>\n",
       "      <th>3</th>\n",
       "      <td>Wii Sports Resort</td>\n",
       "      <td>Wii</td>\n",
       "      <td>2009</td>\n",
       "      <td>Sports</td>\n",
       "      <td>15.61</td>\n",
       "      <td>10.93</td>\n",
       "      <td>3.28</td>\n",
       "      <td>2.95</td>\n",
       "      <td>32.77</td>\n",
       "      <td>80.0</td>\n",
       "      <td>8.0</td>\n",
       "      <td>E</td>\n",
       "    </tr>\n",
       "    <tr>\n",
       "      <th>4</th>\n",
       "      <td>Pokemon Red/Pokemon Blue</td>\n",
       "      <td>GB</td>\n",
       "      <td>1996</td>\n",
       "      <td>Role-Playing</td>\n",
       "      <td>11.27</td>\n",
       "      <td>8.89</td>\n",
       "      <td>10.22</td>\n",
       "      <td>1.00</td>\n",
       "      <td>31.38</td>\n",
       "      <td>NaN</td>\n",
       "      <td>NaN</td>\n",
       "      <td>None</td>\n",
       "    </tr>\n",
       "    <tr>\n",
       "      <th>5</th>\n",
       "      <td>Tetris</td>\n",
       "      <td>GB</td>\n",
       "      <td>1989</td>\n",
       "      <td>Puzzle</td>\n",
       "      <td>23.20</td>\n",
       "      <td>2.26</td>\n",
       "      <td>4.22</td>\n",
       "      <td>0.58</td>\n",
       "      <td>30.26</td>\n",
       "      <td>NaN</td>\n",
       "      <td>NaN</td>\n",
       "      <td>None</td>\n",
       "    </tr>\n",
       "    <tr>\n",
       "      <th>6</th>\n",
       "      <td>New Super Mario Bros.</td>\n",
       "      <td>DS</td>\n",
       "      <td>2006</td>\n",
       "      <td>Platform</td>\n",
       "      <td>11.28</td>\n",
       "      <td>9.14</td>\n",
       "      <td>6.50</td>\n",
       "      <td>2.88</td>\n",
       "      <td>29.80</td>\n",
       "      <td>89.0</td>\n",
       "      <td>8.5</td>\n",
       "      <td>E</td>\n",
       "    </tr>\n",
       "    <tr>\n",
       "      <th>7</th>\n",
       "      <td>Wii Play</td>\n",
       "      <td>Wii</td>\n",
       "      <td>2006</td>\n",
       "      <td>Misc</td>\n",
       "      <td>13.96</td>\n",
       "      <td>9.18</td>\n",
       "      <td>2.93</td>\n",
       "      <td>2.84</td>\n",
       "      <td>28.91</td>\n",
       "      <td>58.0</td>\n",
       "      <td>6.6</td>\n",
       "      <td>E</td>\n",
       "    </tr>\n",
       "    <tr>\n",
       "      <th>8</th>\n",
       "      <td>New Super Mario Bros. Wii</td>\n",
       "      <td>Wii</td>\n",
       "      <td>2009</td>\n",
       "      <td>Platform</td>\n",
       "      <td>14.44</td>\n",
       "      <td>6.94</td>\n",
       "      <td>4.70</td>\n",
       "      <td>2.24</td>\n",
       "      <td>28.32</td>\n",
       "      <td>87.0</td>\n",
       "      <td>8.4</td>\n",
       "      <td>E</td>\n",
       "    </tr>\n",
       "    <tr>\n",
       "      <th>9</th>\n",
       "      <td>Duck Hunt</td>\n",
       "      <td>NES</td>\n",
       "      <td>1984</td>\n",
       "      <td>Shooter</td>\n",
       "      <td>26.93</td>\n",
       "      <td>0.63</td>\n",
       "      <td>0.28</td>\n",
       "      <td>0.47</td>\n",
       "      <td>28.31</td>\n",
       "      <td>NaN</td>\n",
       "      <td>NaN</td>\n",
       "      <td>None</td>\n",
       "    </tr>\n",
       "  </tbody>\n",
       "</table>\n",
       "</div>"
      ],
      "text/plain": [
       "                        name platform  year_of_release         genre  \\\n",
       "0                 Wii Sports      Wii             2006        Sports   \n",
       "1          Super Mario Bros.      NES             1985      Platform   \n",
       "2             Mario Kart Wii      Wii             2008        Racing   \n",
       "3          Wii Sports Resort      Wii             2009        Sports   \n",
       "4   Pokemon Red/Pokemon Blue       GB             1996  Role-Playing   \n",
       "5                     Tetris       GB             1989        Puzzle   \n",
       "6      New Super Mario Bros.       DS             2006      Platform   \n",
       "7                   Wii Play      Wii             2006          Misc   \n",
       "8  New Super Mario Bros. Wii      Wii             2009      Platform   \n",
       "9                  Duck Hunt      NES             1984       Shooter   \n",
       "\n",
       "   na_sales  eu_sales  jp_sales  other_sales  total_sales  critic_score  \\\n",
       "0     41.36     28.96      3.77         8.45        82.54          76.0   \n",
       "1     29.08      3.58      6.81         0.77        40.24           NaN   \n",
       "2     15.68     12.76      3.79         3.29        35.52          82.0   \n",
       "3     15.61     10.93      3.28         2.95        32.77          80.0   \n",
       "4     11.27      8.89     10.22         1.00        31.38           NaN   \n",
       "5     23.20      2.26      4.22         0.58        30.26           NaN   \n",
       "6     11.28      9.14      6.50         2.88        29.80          89.0   \n",
       "7     13.96      9.18      2.93         2.84        28.91          58.0   \n",
       "8     14.44      6.94      4.70         2.24        28.32          87.0   \n",
       "9     26.93      0.63      0.28         0.47        28.31           NaN   \n",
       "\n",
       "   user_score rating  \n",
       "0         8.0      E  \n",
       "1         NaN   None  \n",
       "2         8.3      E  \n",
       "3         8.0      E  \n",
       "4         NaN   None  \n",
       "5         NaN   None  \n",
       "6         8.5      E  \n",
       "7         6.6      E  \n",
       "8         8.4      E  \n",
       "9         NaN   None  "
      ]
     },
     "execution_count": 41,
     "metadata": {},
     "output_type": "execute_result"
    }
   ],
   "source": [
    "df.sort_values('total_sales', ascending=False)[:10]"
   ]
  },
  {
   "cell_type": "markdown",
   "id": "89d11c06",
   "metadata": {},
   "source": [
    "Топ-10 самых популярных игр возглавляет игра \"Wii Sports\", которая по данным открытых источников действительно разошлась по миру тиражом около 83 млн.копий. Она была выпущена компанией Nintendo для собственной игровой приставки Wii и была вложена прямо в коробку с Wii во всех странах, за исключением Японии, что можно увидеть и в нашем датасете по объемам продаж в разбивке по регионам. Также в списке находятся всем знакомые \"Super Mario Bros.\" и его вариации, \"Pokemon\", \"Tetris\" и прочие игры, что говорит о том, что значения объемов продаж не являются ошибками, но для всего набора данных это очевидные выбросы, знание о которых может пригодиться для потенциальной проверки гипотез о сравнении различных средних по каким-либо группам или равенстве среднего какому-либо значению (если таковые будут в нашем исследовании)."
   ]
  },
  {
   "cell_type": "markdown",
   "id": "0a62c52e",
   "metadata": {},
   "source": [
    "Дополнительно проверим данные в столбцах с оценками критиков и пользователей на соответствие допустимым значениям. По условиям ТЗ максимальная оценка критиков не должна быть более 100 баллов, а оценка пользователей - не более 10 баллов. Проверим это:"
   ]
  },
  {
   "cell_type": "code",
   "execution_count": 42,
   "id": "8a3be0c1",
   "metadata": {},
   "outputs": [
    {
     "name": "stdout",
     "output_type": "stream",
     "text": [
      "Максимальная оценка критиков 98.0\n",
      "Максимальная оценка пользователей 9.7\n"
     ]
    }
   ],
   "source": [
    "print(f\"Максимальная оценка критиков {df['critic_score'].max()}\")\n",
    "print(f\"Максимальная оценка пользователей {df['user_score'].max()}\")"
   ]
  },
  {
   "cell_type": "markdown",
   "id": "8b2862fc",
   "metadata": {},
   "source": [
    "Все оценки находятся в пределах допустимых значений."
   ]
  },
  {
   "cell_type": "markdown",
   "id": "73041e2e",
   "metadata": {},
   "source": [
    "Поскольку ошибок в данных не выявлено, то можно переходить к основной части исследовательского анализа данных."
   ]
  },
  {
   "cell_type": "markdown",
   "id": "dd8f9cb4",
   "metadata": {},
   "source": [
    "### Выпуск игр по периодам"
   ]
  },
  {
   "cell_type": "markdown",
   "id": "90e5c207",
   "metadata": {},
   "source": [
    "Посмотрим, какое количество игр выпускалось на рынок в разные годы:"
   ]
  },
  {
   "cell_type": "code",
   "execution_count": 43,
   "id": "a0c09a7a",
   "metadata": {},
   "outputs": [
    {
     "data": {
      "image/png": "[encoded data removed]",
      "text/plain": [
       "<Figure size 1080x216 with 1 Axes>"
      ]
     },
     "metadata": {
      "needs_background": "light"
     },
     "output_type": "display_data"
    }
   ],
   "source": [
    "#построение графика\n",
    "\n",
    "#группировка по годам с расчетом кол-ва игр\n",
    "df.groupby('year_of_release')['name'].count().reset_index() \\\n",
    "    .plot(x='year_of_release', y='name',\n",
    "          title='Динамика количества выпущенных игр', xlabel='Год выпуска', ylabel='Выпущено игр',\n",
    "          #xticks=range(1980, 2017),\n",
    "          figsize=(15,3), rot=45, legend=False, grid=True\n",
    "         )\n",
    "\n",
    "plt.show()"
   ]
  },
  {
   "cell_type": "markdown",
   "id": "51c94004",
   "metadata": {},
   "source": [
    "<a id='intro2'></a>\n",
    "Данные за все периоды важны, поскольку позволяют увидеть развитие индустрии консольных игр с 1980 года. Здесь можно видеть период постепенного становления рынка до середины 90-х годов, фазу активного развития индустрии с середины 90-х годов, обусловленную развитием технологий, появлением и распространением интернета, благодаря чему стали доступны совместные игры, приведшие в будущем к появлению киберспорта. Стабильный рост тормозится всемирным кризисом 1998 года, когда резко повысившийся курс доллара сделал практически нерентабельной продажу лицензионных западных разработок, и заставил производителей разрабатывать более бюджетные решения. В 1998 году выходит в свет игра Half-Life с полноценной сюжетной линией и яркими персонажами: с этого времени игры по содержанию начали приближаться к кинофильмам, Half-Life создала прецедент, после которого крупные игры стали создаваться с сюжетом. После этого с начала 2000-х годов начинается фаза стремительного роста гейм-индустрии, связанная с технологическим развитием игровых платформ и выводом на рынок топовых игр: пик количества выпущенных игр наблюдается в 2002 году. Фаза роста тормозится всемирным кризисом 2008 года. Кроме того, в июле 2008 года компания Apple запустила виртуальный магазин App Store, что стало началом кардинальных изменений мирового рынка. С этого времени начинается бурное развитие мобильных технологий и резкое вытеснение консольных игр мобильными и он-лайн играми, а также играми в социальных сетях. В 2010 году традиционные платформы начинают вытесняться платформами Apple (iPhone, iPad и iPod Touch) с игрой Angry Birds на вершине пьедестала игр дла портативных платформ. В итоге рынок консольных игр начинает падать и примерно с 2012 года выходит на плато: все-таки мобильные телефоны являются более универсальными, умеют все и даже больше, чем портативные консоли, при этом стоимость мобильных игр ниже, есть даже условно бесплатные. Однако, будущее у консолей все же есть: с каким бы качеством ни были адаптированы игры под сенсорный экран, ничего лучше осязаемых кнопок для управления еще не придумано, и это неоспоримое преимущество для настоящих геймеров."
   ]
  },
  {
   "cell_type": "markdown",
   "id": "b7927e37",
   "metadata": {},
   "source": [
    "### Динамика продаж по платформам. Срок жизни платформ."
   ]
  },
  {
   "cell_type": "markdown",
   "id": "ebae30ec",
   "metadata": {},
   "source": [
    "Для будущих расчетов и выводов построим сводную таблицу, в которой по каждой платформе выведем суммарные продажи, минимальный и максимальный годы выхода игр на этой платформе (чтобы понимать, \"жива\" ли еще она) и количество уникальных лет, в которые выходили игры на этой платформе (срок ее \"жизни\"). Это будет общая информация по платформам, к котрой можно будет обращаться при возникновении различных вопросов по ходу исследования:"
   ]
  },
  {
   "cell_type": "code",
   "execution_count": 44,
   "id": "88e6e84c",
   "metadata": {},
   "outputs": [
    {
     "name": "stdout",
     "output_type": "stream",
     "text": [
      "Общая информация по платформам\n"
     ]
    },
    {
     "data": {
      "text/html": [
       "<div>\n",
       "<style scoped>\n",
       "    .dataframe tbody tr th:only-of-type {\n",
       "        vertical-align: middle;\n",
       "    }\n",
       "\n",
       "    .dataframe tbody tr th {\n",
       "        vertical-align: top;\n",
       "    }\n",
       "\n",
       "    .dataframe thead th {\n",
       "        text-align: right;\n",
       "    }\n",
       "</style>\n",
       "<table border=\"1\" class=\"dataframe\">\n",
       "  <thead>\n",
       "    <tr style=\"text-align: right;\">\n",
       "      <th></th>\n",
       "      <th>platform</th>\n",
       "      <th>total_sales_sum</th>\n",
       "      <th>year_of_release_max</th>\n",
       "      <th>year_of_release_min</th>\n",
       "      <th>year_of_release_nunique</th>\n",
       "    </tr>\n",
       "  </thead>\n",
       "  <tbody>\n",
       "    <tr>\n",
       "      <th>0</th>\n",
       "      <td>PS2</td>\n",
       "      <td>1245.96</td>\n",
       "      <td>2011</td>\n",
       "      <td>2000</td>\n",
       "      <td>12</td>\n",
       "    </tr>\n",
       "    <tr>\n",
       "      <th>1</th>\n",
       "      <td>X360</td>\n",
       "      <td>966.61</td>\n",
       "      <td>2016</td>\n",
       "      <td>2005</td>\n",
       "      <td>12</td>\n",
       "    </tr>\n",
       "    <tr>\n",
       "      <th>2</th>\n",
       "      <td>PS3</td>\n",
       "      <td>934.52</td>\n",
       "      <td>2016</td>\n",
       "      <td>2006</td>\n",
       "      <td>11</td>\n",
       "    </tr>\n",
       "    <tr>\n",
       "      <th>3</th>\n",
       "      <td>Wii</td>\n",
       "      <td>903.31</td>\n",
       "      <td>2016</td>\n",
       "      <td>2006</td>\n",
       "      <td>11</td>\n",
       "    </tr>\n",
       "    <tr>\n",
       "      <th>4</th>\n",
       "      <td>DS</td>\n",
       "      <td>804.28</td>\n",
       "      <td>2013</td>\n",
       "      <td>1985</td>\n",
       "      <td>11</td>\n",
       "    </tr>\n",
       "    <tr>\n",
       "      <th>5</th>\n",
       "      <td>PS</td>\n",
       "      <td>727.58</td>\n",
       "      <td>2003</td>\n",
       "      <td>1994</td>\n",
       "      <td>10</td>\n",
       "    </tr>\n",
       "    <tr>\n",
       "      <th>6</th>\n",
       "      <td>PS4</td>\n",
       "      <td>314.14</td>\n",
       "      <td>2016</td>\n",
       "      <td>2013</td>\n",
       "      <td>4</td>\n",
       "    </tr>\n",
       "    <tr>\n",
       "      <th>7</th>\n",
       "      <td>GBA</td>\n",
       "      <td>313.73</td>\n",
       "      <td>2007</td>\n",
       "      <td>2000</td>\n",
       "      <td>8</td>\n",
       "    </tr>\n",
       "    <tr>\n",
       "      <th>8</th>\n",
       "      <td>PSP</td>\n",
       "      <td>292.77</td>\n",
       "      <td>2015</td>\n",
       "      <td>2004</td>\n",
       "      <td>12</td>\n",
       "    </tr>\n",
       "    <tr>\n",
       "      <th>9</th>\n",
       "      <td>PC</td>\n",
       "      <td>258.51</td>\n",
       "      <td>2016</td>\n",
       "      <td>1985</td>\n",
       "      <td>26</td>\n",
       "    </tr>\n",
       "    <tr>\n",
       "      <th>10</th>\n",
       "      <td>3DS</td>\n",
       "      <td>258.21</td>\n",
       "      <td>2016</td>\n",
       "      <td>2011</td>\n",
       "      <td>6</td>\n",
       "    </tr>\n",
       "    <tr>\n",
       "      <th>11</th>\n",
       "      <td>XB</td>\n",
       "      <td>254.49</td>\n",
       "      <td>2008</td>\n",
       "      <td>2000</td>\n",
       "      <td>9</td>\n",
       "    </tr>\n",
       "    <tr>\n",
       "      <th>12</th>\n",
       "      <td>GB</td>\n",
       "      <td>254.43</td>\n",
       "      <td>2001</td>\n",
       "      <td>1988</td>\n",
       "      <td>13</td>\n",
       "    </tr>\n",
       "    <tr>\n",
       "      <th>13</th>\n",
       "      <td>NES</td>\n",
       "      <td>251.05</td>\n",
       "      <td>1994</td>\n",
       "      <td>1983</td>\n",
       "      <td>12</td>\n",
       "    </tr>\n",
       "    <tr>\n",
       "      <th>14</th>\n",
       "      <td>N64</td>\n",
       "      <td>218.48</td>\n",
       "      <td>2004</td>\n",
       "      <td>1996</td>\n",
       "      <td>8</td>\n",
       "    </tr>\n",
       "    <tr>\n",
       "      <th>15</th>\n",
       "      <td>SNES</td>\n",
       "      <td>200.04</td>\n",
       "      <td>1999</td>\n",
       "      <td>1990</td>\n",
       "      <td>10</td>\n",
       "    </tr>\n",
       "    <tr>\n",
       "      <th>16</th>\n",
       "      <td>GC</td>\n",
       "      <td>198.59</td>\n",
       "      <td>2007</td>\n",
       "      <td>2001</td>\n",
       "      <td>7</td>\n",
       "    </tr>\n",
       "    <tr>\n",
       "      <th>17</th>\n",
       "      <td>XOne</td>\n",
       "      <td>159.32</td>\n",
       "      <td>2016</td>\n",
       "      <td>2013</td>\n",
       "      <td>4</td>\n",
       "    </tr>\n",
       "    <tr>\n",
       "      <th>18</th>\n",
       "      <td>2600</td>\n",
       "      <td>86.48</td>\n",
       "      <td>1989</td>\n",
       "      <td>1980</td>\n",
       "      <td>10</td>\n",
       "    </tr>\n",
       "    <tr>\n",
       "      <th>19</th>\n",
       "      <td>WiiU</td>\n",
       "      <td>82.19</td>\n",
       "      <td>2016</td>\n",
       "      <td>2012</td>\n",
       "      <td>5</td>\n",
       "    </tr>\n",
       "    <tr>\n",
       "      <th>20</th>\n",
       "      <td>PSV</td>\n",
       "      <td>53.81</td>\n",
       "      <td>2016</td>\n",
       "      <td>2011</td>\n",
       "      <td>6</td>\n",
       "    </tr>\n",
       "    <tr>\n",
       "      <th>21</th>\n",
       "      <td>SAT</td>\n",
       "      <td>33.59</td>\n",
       "      <td>1999</td>\n",
       "      <td>1994</td>\n",
       "      <td>6</td>\n",
       "    </tr>\n",
       "    <tr>\n",
       "      <th>22</th>\n",
       "      <td>GEN</td>\n",
       "      <td>28.35</td>\n",
       "      <td>1994</td>\n",
       "      <td>1990</td>\n",
       "      <td>5</td>\n",
       "    </tr>\n",
       "    <tr>\n",
       "      <th>23</th>\n",
       "      <td>DC</td>\n",
       "      <td>15.95</td>\n",
       "      <td>2008</td>\n",
       "      <td>1998</td>\n",
       "      <td>7</td>\n",
       "    </tr>\n",
       "    <tr>\n",
       "      <th>24</th>\n",
       "      <td>SCD</td>\n",
       "      <td>1.86</td>\n",
       "      <td>1994</td>\n",
       "      <td>1993</td>\n",
       "      <td>2</td>\n",
       "    </tr>\n",
       "    <tr>\n",
       "      <th>25</th>\n",
       "      <td>NG</td>\n",
       "      <td>1.44</td>\n",
       "      <td>1996</td>\n",
       "      <td>1993</td>\n",
       "      <td>4</td>\n",
       "    </tr>\n",
       "    <tr>\n",
       "      <th>26</th>\n",
       "      <td>WS</td>\n",
       "      <td>1.42</td>\n",
       "      <td>2001</td>\n",
       "      <td>1999</td>\n",
       "      <td>3</td>\n",
       "    </tr>\n",
       "    <tr>\n",
       "      <th>27</th>\n",
       "      <td>TG16</td>\n",
       "      <td>0.16</td>\n",
       "      <td>1995</td>\n",
       "      <td>1995</td>\n",
       "      <td>1</td>\n",
       "    </tr>\n",
       "    <tr>\n",
       "      <th>28</th>\n",
       "      <td>3DO</td>\n",
       "      <td>0.10</td>\n",
       "      <td>1995</td>\n",
       "      <td>1994</td>\n",
       "      <td>2</td>\n",
       "    </tr>\n",
       "    <tr>\n",
       "      <th>29</th>\n",
       "      <td>GG</td>\n",
       "      <td>0.04</td>\n",
       "      <td>1992</td>\n",
       "      <td>1992</td>\n",
       "      <td>1</td>\n",
       "    </tr>\n",
       "    <tr>\n",
       "      <th>30</th>\n",
       "      <td>PCFX</td>\n",
       "      <td>0.03</td>\n",
       "      <td>1996</td>\n",
       "      <td>1996</td>\n",
       "      <td>1</td>\n",
       "    </tr>\n",
       "  </tbody>\n",
       "</table>\n",
       "</div>"
      ],
      "text/plain": [
       "   platform  total_sales_sum  year_of_release_max  year_of_release_min  \\\n",
       "0       PS2          1245.96                 2011                 2000   \n",
       "1      X360           966.61                 2016                 2005   \n",
       "2       PS3           934.52                 2016                 2006   \n",
       "3       Wii           903.31                 2016                 2006   \n",
       "4        DS           804.28                 2013                 1985   \n",
       "5        PS           727.58                 2003                 1994   \n",
       "6       PS4           314.14                 2016                 2013   \n",
       "7       GBA           313.73                 2007                 2000   \n",
       "8       PSP           292.77                 2015                 2004   \n",
       "9        PC           258.51                 2016                 1985   \n",
       "10      3DS           258.21                 2016                 2011   \n",
       "11       XB           254.49                 2008                 2000   \n",
       "12       GB           254.43                 2001                 1988   \n",
       "13      NES           251.05                 1994                 1983   \n",
       "14      N64           218.48                 2004                 1996   \n",
       "15     SNES           200.04                 1999                 1990   \n",
       "16       GC           198.59                 2007                 2001   \n",
       "17     XOne           159.32                 2016                 2013   \n",
       "18     2600            86.48                 1989                 1980   \n",
       "19     WiiU            82.19                 2016                 2012   \n",
       "20      PSV            53.81                 2016                 2011   \n",
       "21      SAT            33.59                 1999                 1994   \n",
       "22      GEN            28.35                 1994                 1990   \n",
       "23       DC            15.95                 2008                 1998   \n",
       "24      SCD             1.86                 1994                 1993   \n",
       "25       NG             1.44                 1996                 1993   \n",
       "26       WS             1.42                 2001                 1999   \n",
       "27     TG16             0.16                 1995                 1995   \n",
       "28      3DO             0.10                 1995                 1994   \n",
       "29       GG             0.04                 1992                 1992   \n",
       "30     PCFX             0.03                 1996                 1996   \n",
       "\n",
       "    year_of_release_nunique  \n",
       "0                        12  \n",
       "1                        12  \n",
       "2                        11  \n",
       "3                        11  \n",
       "4                        11  \n",
       "5                        10  \n",
       "6                         4  \n",
       "7                         8  \n",
       "8                        12  \n",
       "9                        26  \n",
       "10                        6  \n",
       "11                        9  \n",
       "12                       13  \n",
       "13                       12  \n",
       "14                        8  \n",
       "15                       10  \n",
       "16                        7  \n",
       "17                        4  \n",
       "18                       10  \n",
       "19                        5  \n",
       "20                        6  \n",
       "21                        6  \n",
       "22                        5  \n",
       "23                        7  \n",
       "24                        2  \n",
       "25                        4  \n",
       "26                        3  \n",
       "27                        1  \n",
       "28                        2  \n",
       "29                        1  \n",
       "30                        1  "
      ]
     },
     "execution_count": 44,
     "metadata": {},
     "output_type": "execute_result"
    }
   ],
   "source": [
    "#формирование доп. таблицы с группировкой продаж по платформам\n",
    "#и расчетом для каждой платформы общих продаж, мин. и макс. годов игровых релизов и кол-ва уникальных лет\n",
    "df_gr_platform = df.pivot_table(index='platform', values=['total_sales', 'year_of_release'], \\\n",
    "                                aggfunc={'total_sales': 'sum', 'year_of_release': ['nunique', 'min', 'max']})\n",
    "\n",
    "df_gr_platform.columns = ['_'.join(col) for col in df_gr_platform.columns] # уход от мультииндексов в именах колонок\n",
    "\n",
    "df_gr_platform = df_gr_platform.sort_values(by='total_sales_sum', ascending=False).reset_index()\n",
    "\n",
    "print('Общая информация по платформам')\n",
    "df_gr_platform"
   ]
  },
  {
   "cell_type": "markdown",
   "id": "4e08de68",
   "metadata": {},
   "source": [
    "Дополнительно для отслеживания динамики продаж построим еще одну таблицу, в которой сделаем группировку по каждой платформе и году:"
   ]
  },
  {
   "cell_type": "code",
   "execution_count": 45,
   "id": "0ef811ad",
   "metadata": {},
   "outputs": [
    {
     "name": "stdout",
     "output_type": "stream",
     "text": [
      "Динамика продаж по платформам\n"
     ]
    },
    {
     "data": {
      "text/html": [
       "<div>\n",
       "<style scoped>\n",
       "    .dataframe tbody tr th:only-of-type {\n",
       "        vertical-align: middle;\n",
       "    }\n",
       "\n",
       "    .dataframe tbody tr th {\n",
       "        vertical-align: top;\n",
       "    }\n",
       "\n",
       "    .dataframe thead th {\n",
       "        text-align: right;\n",
       "    }\n",
       "</style>\n",
       "<table border=\"1\" class=\"dataframe\">\n",
       "  <thead>\n",
       "    <tr style=\"text-align: right;\">\n",
       "      <th></th>\n",
       "      <th>platform</th>\n",
       "      <th>year_of_release</th>\n",
       "      <th>total_sales</th>\n",
       "    </tr>\n",
       "  </thead>\n",
       "  <tbody>\n",
       "    <tr>\n",
       "      <th>0</th>\n",
       "      <td>2600</td>\n",
       "      <td>1980</td>\n",
       "      <td>11.38</td>\n",
       "    </tr>\n",
       "    <tr>\n",
       "      <th>1</th>\n",
       "      <td>2600</td>\n",
       "      <td>1981</td>\n",
       "      <td>35.68</td>\n",
       "    </tr>\n",
       "    <tr>\n",
       "      <th>2</th>\n",
       "      <td>2600</td>\n",
       "      <td>1982</td>\n",
       "      <td>28.88</td>\n",
       "    </tr>\n",
       "    <tr>\n",
       "      <th>3</th>\n",
       "      <td>2600</td>\n",
       "      <td>1983</td>\n",
       "      <td>5.84</td>\n",
       "    </tr>\n",
       "    <tr>\n",
       "      <th>4</th>\n",
       "      <td>2600</td>\n",
       "      <td>1984</td>\n",
       "      <td>0.27</td>\n",
       "    </tr>\n",
       "    <tr>\n",
       "      <th>...</th>\n",
       "      <td>...</td>\n",
       "      <td>...</td>\n",
       "      <td>...</td>\n",
       "    </tr>\n",
       "    <tr>\n",
       "      <th>234</th>\n",
       "      <td>XB</td>\n",
       "      <td>2008</td>\n",
       "      <td>0.18</td>\n",
       "    </tr>\n",
       "    <tr>\n",
       "      <th>235</th>\n",
       "      <td>XOne</td>\n",
       "      <td>2013</td>\n",
       "      <td>18.96</td>\n",
       "    </tr>\n",
       "    <tr>\n",
       "      <th>236</th>\n",
       "      <td>XOne</td>\n",
       "      <td>2014</td>\n",
       "      <td>54.07</td>\n",
       "    </tr>\n",
       "    <tr>\n",
       "      <th>237</th>\n",
       "      <td>XOne</td>\n",
       "      <td>2015</td>\n",
       "      <td>60.14</td>\n",
       "    </tr>\n",
       "    <tr>\n",
       "      <th>238</th>\n",
       "      <td>XOne</td>\n",
       "      <td>2016</td>\n",
       "      <td>26.15</td>\n",
       "    </tr>\n",
       "  </tbody>\n",
       "</table>\n",
       "<p>239 rows × 3 columns</p>\n",
       "</div>"
      ],
      "text/plain": [
       "    platform  year_of_release  total_sales\n",
       "0       2600             1980        11.38\n",
       "1       2600             1981        35.68\n",
       "2       2600             1982        28.88\n",
       "3       2600             1983         5.84\n",
       "4       2600             1984         0.27\n",
       "..       ...              ...          ...\n",
       "234       XB             2008         0.18\n",
       "235     XOne             2013        18.96\n",
       "236     XOne             2014        54.07\n",
       "237     XOne             2015        60.14\n",
       "238     XOne             2016        26.15\n",
       "\n",
       "[239 rows x 3 columns]"
      ]
     },
     "execution_count": 45,
     "metadata": {},
     "output_type": "execute_result"
    }
   ],
   "source": [
    "#формирование доп.таблицы с расчетом суммарных продаж в группировке \"платформа-год\"\n",
    "df_gr_platform_year = df.groupby(['platform', 'year_of_release'])['total_sales'].sum().reset_index()\n",
    "\n",
    "print('Динамика продаж по платформам')\n",
    "df_gr_platform_year"
   ]
  },
  {
   "cell_type": "markdown",
   "id": "074c215f",
   "metadata": {},
   "source": [
    "Для визуализации общих продаж за весь доступный период в разбивке по платформам построим график:"
   ]
  },
  {
   "cell_type": "code",
   "execution_count": 46,
   "id": "37aeb3fd",
   "metadata": {},
   "outputs": [
    {
     "data": {
      "image/png": "[encoded data removed]",
      "text/plain": [
       "<Figure size 1080x216 with 1 Axes>"
      ]
     },
     "metadata": {
      "needs_background": "light"
     },
     "output_type": "display_data"
    }
   ],
   "source": [
    "df_gr_platform.plot(x='platform', y='total_sales_sum', kind='bar',\n",
    "                    title='Совокупные продажи игр по платформам за период 1980-2016 гг.',\n",
    "                    xlabel='Платформа', ylabel='Продано млн.копий игр',\n",
    "                    figsize=(15,3), legend=False, grid=True\n",
    "                    )\n",
    "plt.show()"
   ]
  },
  {
   "cell_type": "markdown",
   "id": "cebc0973",
   "metadata": {},
   "source": [
    "Четко видим лидеров продаж среди платформ:\n",
    "* три модели PlayStation (PS, PS2, PS3) от Sony, среди которых лидером является PS2;\n",
    "* XBox 360 от Microsoft;\n",
    "* Wii и DS от Nintendo\n",
    "\n",
    "Построим для лидеров распределение продаж по годам:"
   ]
  },
  {
   "cell_type": "code",
   "execution_count": 47,
   "id": "d85be63c",
   "metadata": {},
   "outputs": [
    {
     "data": {
      "image/png": "[encoded data removed]",
      "text/plain": [
       "<Figure size 1080x432 with 6 Axes>"
      ]
     },
     "metadata": {
      "needs_background": "light"
     },
     "output_type": "display_data"
    }
   ],
   "source": [
    "#создание списка топ-платформ\n",
    "top_platform = list(df_gr_platform.head(6)['platform'])\n",
    "\n",
    "#строим графики\n",
    "fig = plt.figure(figsize=(15,6))\n",
    "\n",
    "for i in range(6):\n",
    "    axi = fig.add_subplot(2,3,i+1)\n",
    "    \n",
    "    #берем только платформы из топ-списка\n",
    "    df_gr_platform_year.loc[df_gr_platform_year['platform'] == top_platform[i]] \\\n",
    "                        .plot(x='year_of_release', y='total_sales', kind='bar',\n",
    "                              title=f'Динамика продаж игр для {top_platform[i]}',\n",
    "                              xlabel='Годы', ylabel='Продано млн.копий игр',\n",
    "                              legend=False, \n",
    "                              ax=axi)\n",
    "    \n",
    "fig.tight_layout()\n",
    "plt.show()"
   ]
  },
  {
   "cell_type": "markdown",
   "id": "c4f0216e",
   "metadata": {},
   "source": [
    "Если ориентироваться на платформы одного производителя, например, PlayStation, то видно, что между выходом версий платформ проходит примерно 6 лет: PS - 1994г., PS2 - 2000г., PS3 - 2006г. Полный срок жизни самих платформ (от старта продаж игр для них до их полной остановки) составляет около 10 лет. При этом если отсечь продажи ниже 50 млн.копий игр в год (рассвет и закат), то можно сказать, что период активной жизни платформы составляет 6-8 лет.\n",
    "\n",
    "Также хочется посмотреть средний срок жизни платформ по всему датасету с некоторыми условиями:\n",
    "* игры на этой платформе уже перестали выходить в 2016 году (платформа точно закончила существование);\n",
    "* отсекаем самые первые платформы, поскольку они не были такими технологически совершенными, как их последователи. Возьмем, например, только платформы с 2000 года."
   ]
  },
  {
   "cell_type": "code",
   "execution_count": 48,
   "id": "191aadd2",
   "metadata": {},
   "outputs": [
    {
     "data": {
      "text/plain": [
       "9.6"
      ]
     },
     "execution_count": 48,
     "metadata": {},
     "output_type": "execute_result"
    }
   ],
   "source": [
    "df_gr_platform.query('year_of_release_min >= 2000 and year_of_release_max < 2016')['year_of_release_nunique'].mean()"
   ]
  },
  {
   "cell_type": "markdown",
   "id": "2939f1b4",
   "metadata": {},
   "source": [
    "Таким образом, получили дополнительное подтверждение предположению, что средний срок жизни платформы около 10 лет."
   ]
  },
  {
   "cell_type": "markdown",
   "id": "faf0809c",
   "metadata": {},
   "source": [
    "### Выбор актуального периода и потенциально прибыльных платформ для прогноза на 2017г. "
   ]
  },
  {
   "cell_type": "markdown",
   "id": "c74be858",
   "metadata": {},
   "source": [
    "Основываясь на личном опыте прогнозирования различных показателей (банковская сфера, розничные продукты и услуги) могу сказать, что чаще всего брала данные за 2-3 предыдущих года. Более \"ранние\" данные всегда казались уже устаревшими, т.к. отрасль динамично развивалась, и их я могла взять лишь для исследования влияния сезонности, но не для основного расчета.\n",
    "\n",
    "С учетом знаний о том, что в датасете данные за 2016 год могут быть неполными, возьмем в качестве актуального периода данные с 2014 года:"
   ]
  },
  {
   "cell_type": "code",
   "execution_count": 49,
   "id": "b63e0140",
   "metadata": {},
   "outputs": [
    {
     "data": {
      "text/html": [
       "<div>\n",
       "<style scoped>\n",
       "    .dataframe tbody tr th:only-of-type {\n",
       "        vertical-align: middle;\n",
       "    }\n",
       "\n",
       "    .dataframe tbody tr th {\n",
       "        vertical-align: top;\n",
       "    }\n",
       "\n",
       "    .dataframe thead th {\n",
       "        text-align: right;\n",
       "    }\n",
       "</style>\n",
       "<table border=\"1\" class=\"dataframe\">\n",
       "  <thead>\n",
       "    <tr style=\"text-align: right;\">\n",
       "      <th></th>\n",
       "      <th>name</th>\n",
       "      <th>platform</th>\n",
       "      <th>year_of_release</th>\n",
       "      <th>genre</th>\n",
       "      <th>na_sales</th>\n",
       "      <th>eu_sales</th>\n",
       "      <th>jp_sales</th>\n",
       "      <th>other_sales</th>\n",
       "      <th>total_sales</th>\n",
       "      <th>critic_score</th>\n",
       "      <th>user_score</th>\n",
       "      <th>rating</th>\n",
       "    </tr>\n",
       "  </thead>\n",
       "  <tbody>\n",
       "    <tr>\n",
       "      <th>31</th>\n",
       "      <td>Call of Duty: Black Ops 3</td>\n",
       "      <td>PS4</td>\n",
       "      <td>2015</td>\n",
       "      <td>Shooter</td>\n",
       "      <td>6.03</td>\n",
       "      <td>5.86</td>\n",
       "      <td>0.36</td>\n",
       "      <td>2.38</td>\n",
       "      <td>14.63</td>\n",
       "      <td>NaN</td>\n",
       "      <td>NaN</td>\n",
       "      <td>None</td>\n",
       "    </tr>\n",
       "    <tr>\n",
       "      <th>42</th>\n",
       "      <td>Grand Theft Auto V</td>\n",
       "      <td>PS4</td>\n",
       "      <td>2014</td>\n",
       "      <td>Action</td>\n",
       "      <td>3.96</td>\n",
       "      <td>6.31</td>\n",
       "      <td>0.38</td>\n",
       "      <td>1.97</td>\n",
       "      <td>12.62</td>\n",
       "      <td>97.0</td>\n",
       "      <td>8.3</td>\n",
       "      <td>M</td>\n",
       "    </tr>\n",
       "    <tr>\n",
       "      <th>47</th>\n",
       "      <td>Pokemon Omega Ruby/Pokemon Alpha Sapphire</td>\n",
       "      <td>3DS</td>\n",
       "      <td>2014</td>\n",
       "      <td>Role-Playing</td>\n",
       "      <td>4.35</td>\n",
       "      <td>3.49</td>\n",
       "      <td>3.10</td>\n",
       "      <td>0.74</td>\n",
       "      <td>11.68</td>\n",
       "      <td>NaN</td>\n",
       "      <td>NaN</td>\n",
       "      <td>None</td>\n",
       "    </tr>\n",
       "    <tr>\n",
       "      <th>77</th>\n",
       "      <td>FIFA 16</td>\n",
       "      <td>PS4</td>\n",
       "      <td>2015</td>\n",
       "      <td>Sports</td>\n",
       "      <td>1.12</td>\n",
       "      <td>6.12</td>\n",
       "      <td>0.06</td>\n",
       "      <td>1.28</td>\n",
       "      <td>8.58</td>\n",
       "      <td>82.0</td>\n",
       "      <td>4.3</td>\n",
       "      <td>E</td>\n",
       "    </tr>\n",
       "    <tr>\n",
       "      <th>87</th>\n",
       "      <td>Star Wars Battlefront (2015)</td>\n",
       "      <td>PS4</td>\n",
       "      <td>2015</td>\n",
       "      <td>Shooter</td>\n",
       "      <td>2.99</td>\n",
       "      <td>3.49</td>\n",
       "      <td>0.22</td>\n",
       "      <td>1.28</td>\n",
       "      <td>7.98</td>\n",
       "      <td>NaN</td>\n",
       "      <td>NaN</td>\n",
       "      <td>None</td>\n",
       "    </tr>\n",
       "  </tbody>\n",
       "</table>\n",
       "</div>"
      ],
      "text/plain": [
       "                                         name platform  year_of_release  \\\n",
       "31                  Call of Duty: Black Ops 3      PS4             2015   \n",
       "42                         Grand Theft Auto V      PS4             2014   \n",
       "47  Pokemon Omega Ruby/Pokemon Alpha Sapphire      3DS             2014   \n",
       "77                                    FIFA 16      PS4             2015   \n",
       "87               Star Wars Battlefront (2015)      PS4             2015   \n",
       "\n",
       "           genre  na_sales  eu_sales  jp_sales  other_sales  total_sales  \\\n",
       "31       Shooter      6.03      5.86      0.36         2.38        14.63   \n",
       "42        Action      3.96      6.31      0.38         1.97        12.62   \n",
       "47  Role-Playing      4.35      3.49      3.10         0.74        11.68   \n",
       "77        Sports      1.12      6.12      0.06         1.28         8.58   \n",
       "87       Shooter      2.99      3.49      0.22         1.28         7.98   \n",
       "\n",
       "    critic_score  user_score rating  \n",
       "31           NaN         NaN   None  \n",
       "42          97.0         8.3      M  \n",
       "47           NaN         NaN   None  \n",
       "77          82.0         4.3      E  \n",
       "87           NaN         NaN   None  "
      ]
     },
     "execution_count": 49,
     "metadata": {},
     "output_type": "execute_result"
    }
   ],
   "source": [
    "#создание таблицы на основе фильтрации существующей\n",
    "df_actual = df.loc[df['year_of_release'] >= 2014].copy()\n",
    "df_actual.head()"
   ]
  },
  {
   "cell_type": "markdown",
   "id": "eca7ae2d",
   "metadata": {},
   "source": [
    "Посмотрим, для какого количества платформ выпускали и продавали игры в актуальный период:"
   ]
  },
  {
   "cell_type": "code",
   "execution_count": 50,
   "id": "c1f0944c",
   "metadata": {},
   "outputs": [
    {
     "data": {
      "text/plain": [
       "10"
      ]
     },
     "execution_count": 50,
     "metadata": {},
     "output_type": "execute_result"
    }
   ],
   "source": [
    "len(df_actual['platform'].unique())"
   ]
  },
  {
   "cell_type": "markdown",
   "id": "f3c93b76",
   "metadata": {},
   "source": [
    "Таким образом, за период с 2014 по 2016 год продавались игры для 10 разных платформ. Посмотрим на лидеров продаж:"
   ]
  },
  {
   "cell_type": "code",
   "execution_count": 51,
   "id": "9fd36b1b",
   "metadata": {},
   "outputs": [
    {
     "data": {
      "image/png": "[encoded data removed]",
      "text/plain": [
       "<Figure size 1080x216 with 1 Axes>"
      ]
     },
     "metadata": {
      "needs_background": "light"
     },
     "output_type": "display_data"
    }
   ],
   "source": [
    "#группировка данных по платформам и построение графика\n",
    "df_actual.groupby('platform')['total_sales'].sum() \\\n",
    "            .reset_index() \\\n",
    "            .sort_values(by='total_sales', ascending=False) \\\n",
    "            .plot(x='platform', y='total_sales', kind='bar',\n",
    "                  title='Совокупные продажи игр по платформам в 2014-2016 гг. ',\n",
    "                  xlabel='Платформа', ylabel='Продано млн.копий игр',\n",
    "                  figsize=(15,3), legend=False, grid=True)\n",
    "plt.show()"
   ]
  },
  {
   "cell_type": "markdown",
   "id": "6c71644e",
   "metadata": {},
   "source": [
    "Лидером продаж в период с 2014 по 2016 годы является платформа PS4 с совокупными продажами за период около 290 млн.копий игр, за ней следуют XOne и 3DS с продажами около 140 и 85 млн.копий соответственно. Остальные патформы показывают менее яркие результаты."
   ]
  },
  {
   "cell_type": "markdown",
   "id": "f237d395",
   "metadata": {},
   "source": [
    "Для выбора потенциально прибыльных в 2017 году платформ необходимо учитывать, что часть из этих 10 платформ уже устаревает. Если для каждой платформы построить динамику продаж с 2006 года (полный срок жизни платформы) и подсветить 2014 год как точку старта актуального периода, то можно будет понять как общий тренд продаж по платформе, так и стадию ее \"жизни\":"
   ]
  },
  {
   "cell_type": "code",
   "execution_count": 52,
   "id": "dfcf8359",
   "metadata": {},
   "outputs": [
    {
     "data": {
      "image/png": "[encoded data removed]",
      "text/plain": [
       "<Figure size 1080x360 with 10 Axes>"
      ]
     },
     "metadata": {
      "needs_background": "light"
     },
     "output_type": "display_data"
    }
   ],
   "source": [
    "#список актуальных платформ для выбранного периода\n",
    "actual_platform = list(df_actual['platform'].unique())\n",
    "\n",
    "#строим графики\n",
    "fig = plt.figure(figsize=(15,5))\n",
    "\n",
    "for i in range(10):\n",
    "    axi = fig.add_subplot(3,4,i+1)\n",
    "    \n",
    "    #берем только актуальные платформы и данные по ним берем с 2000 года и далее\n",
    "    df_gr_platform_year.loc[(df_gr_platform_year['platform'] == actual_platform[i]) & \n",
    "                            (df_gr_platform_year['year_of_release'] >= 2000)] \\\n",
    "                        .plot(x='year_of_release', y='total_sales', kind='line',\n",
    "                              title=f'Продажи игр для {actual_platform[i]}',\n",
    "                              xlabel='', legend=False, \n",
    "                              ax=axi)\n",
    "    axi.axes.axvline(2014, color='red') #маркер-линия 2014 год\n",
    "\n",
    "fig.tight_layout()\n",
    "plt.show()"
   ]
  },
  {
   "cell_type": "markdown",
   "id": "b8deadbd",
   "metadata": {},
   "source": [
    "При анализе графиков важно помнить, что по условиям ТЗ данные за 2016 год могут быть неполными, таким образом, визуальное падение продаж в 2016 году может не являться истинным."
   ]
  },
  {
   "cell_type": "markdown",
   "id": "9f03d50f",
   "metadata": {},
   "source": [
    "Из анализа графиков делаем следующие выводы:\n",
    "* платформа PSP к 2016 году уже перестала поддерживаться игровыми релизами - отсекаем ее из списка потенциально прибыльных;\n",
    "* платформы платформы Wii, PS3 и X360 уже \"прожили\" 10-летний срок, в 2016 году минимально поддерживались выходом новых игр - отсекаем их из списка потенциально прибыльных;\n",
    "* на явном подъеме находятся две платформы PS4 и XOne: игры для них начали выпускать с 2013 года, т.е. они только-только подходят к самому расцвету - это однозначно перспективные платформы;\n",
    "* еще три платформы 3DS, WiiU, PSV под влиянием более \"свежих\" конкурентов не показывают роста или находятся на плато, при этом тоже находятся на середине жизненного цикла - их тоже отнесем к перспективным платформам для 2017 года;\n",
    "* игры для PC стоят особняком: для них не вполне применимо понятие \"жизненного цикла\", продажи всегда на условном плато, платформа поддерживается игровыми релизами и может быть включена в список перспективных.\n",
    "\n",
    "Таким образом, список потенциально прибыльных в 2017 году платформ будет состоять из 6 элементов 'PS4', 'XOne', '3DS', 'WiiU',  'PSV', 'PC'. Создадим дополнительный датафрейм с данными по этим платформам за актуальный период:"
   ]
  },
  {
   "cell_type": "code",
   "execution_count": 53,
   "id": "0eff6c2d",
   "metadata": {},
   "outputs": [
    {
     "data": {
      "text/html": [
       "<div>\n",
       "<style scoped>\n",
       "    .dataframe tbody tr th:only-of-type {\n",
       "        vertical-align: middle;\n",
       "    }\n",
       "\n",
       "    .dataframe tbody tr th {\n",
       "        vertical-align: top;\n",
       "    }\n",
       "\n",
       "    .dataframe thead th {\n",
       "        text-align: right;\n",
       "    }\n",
       "</style>\n",
       "<table border=\"1\" class=\"dataframe\">\n",
       "  <thead>\n",
       "    <tr style=\"text-align: right;\">\n",
       "      <th></th>\n",
       "      <th>name</th>\n",
       "      <th>platform</th>\n",
       "      <th>year_of_release</th>\n",
       "      <th>genre</th>\n",
       "      <th>na_sales</th>\n",
       "      <th>eu_sales</th>\n",
       "      <th>jp_sales</th>\n",
       "      <th>other_sales</th>\n",
       "      <th>total_sales</th>\n",
       "      <th>critic_score</th>\n",
       "      <th>user_score</th>\n",
       "      <th>rating</th>\n",
       "    </tr>\n",
       "  </thead>\n",
       "  <tbody>\n",
       "    <tr>\n",
       "      <th>14731</th>\n",
       "      <td>Harukanaru Toki no Naka de 6</td>\n",
       "      <td>PSV</td>\n",
       "      <td>2015</td>\n",
       "      <td>Action</td>\n",
       "      <td>0.00</td>\n",
       "      <td>0.00</td>\n",
       "      <td>0.03</td>\n",
       "      <td>0.00</td>\n",
       "      <td>0.03</td>\n",
       "      <td>NaN</td>\n",
       "      <td>NaN</td>\n",
       "      <td>None</td>\n",
       "    </tr>\n",
       "    <tr>\n",
       "      <th>7534</th>\n",
       "      <td>Valkyria Chronicles</td>\n",
       "      <td>PS4</td>\n",
       "      <td>2016</td>\n",
       "      <td>Role-Playing</td>\n",
       "      <td>0.07</td>\n",
       "      <td>0.05</td>\n",
       "      <td>0.05</td>\n",
       "      <td>0.03</td>\n",
       "      <td>0.20</td>\n",
       "      <td>NaN</td>\n",
       "      <td>NaN</td>\n",
       "      <td>None</td>\n",
       "    </tr>\n",
       "    <tr>\n",
       "      <th>16219</th>\n",
       "      <td>Fuuraiki 3</td>\n",
       "      <td>PSV</td>\n",
       "      <td>2015</td>\n",
       "      <td>Action</td>\n",
       "      <td>0.00</td>\n",
       "      <td>0.00</td>\n",
       "      <td>0.01</td>\n",
       "      <td>0.00</td>\n",
       "      <td>0.01</td>\n",
       "      <td>NaN</td>\n",
       "      <td>NaN</td>\n",
       "      <td>None</td>\n",
       "    </tr>\n",
       "    <tr>\n",
       "      <th>245</th>\n",
       "      <td>Call of Duty: Infinite Warfare</td>\n",
       "      <td>PS4</td>\n",
       "      <td>2016</td>\n",
       "      <td>Shooter</td>\n",
       "      <td>1.61</td>\n",
       "      <td>2.00</td>\n",
       "      <td>0.15</td>\n",
       "      <td>0.71</td>\n",
       "      <td>4.47</td>\n",
       "      <td>77.0</td>\n",
       "      <td>3.4</td>\n",
       "      <td>M</td>\n",
       "    </tr>\n",
       "    <tr>\n",
       "      <th>11245</th>\n",
       "      <td>Lara Croft and the Temple of Osiris</td>\n",
       "      <td>PS4</td>\n",
       "      <td>2014</td>\n",
       "      <td>Action</td>\n",
       "      <td>0.00</td>\n",
       "      <td>0.07</td>\n",
       "      <td>0.00</td>\n",
       "      <td>0.01</td>\n",
       "      <td>0.08</td>\n",
       "      <td>74.0</td>\n",
       "      <td>6.7</td>\n",
       "      <td>T</td>\n",
       "    </tr>\n",
       "  </tbody>\n",
       "</table>\n",
       "</div>"
      ],
      "text/plain": [
       "                                      name platform  year_of_release  \\\n",
       "14731         Harukanaru Toki no Naka de 6      PSV             2015   \n",
       "7534                   Valkyria Chronicles      PS4             2016   \n",
       "16219                           Fuuraiki 3      PSV             2015   \n",
       "245         Call of Duty: Infinite Warfare      PS4             2016   \n",
       "11245  Lara Croft and the Temple of Osiris      PS4             2014   \n",
       "\n",
       "              genre  na_sales  eu_sales  jp_sales  other_sales  total_sales  \\\n",
       "14731        Action      0.00      0.00      0.03         0.00         0.03   \n",
       "7534   Role-Playing      0.07      0.05      0.05         0.03         0.20   \n",
       "16219        Action      0.00      0.00      0.01         0.00         0.01   \n",
       "245         Shooter      1.61      2.00      0.15         0.71         4.47   \n",
       "11245        Action      0.00      0.07      0.00         0.01         0.08   \n",
       "\n",
       "       critic_score  user_score rating  \n",
       "14731           NaN         NaN   None  \n",
       "7534            NaN         NaN   None  \n",
       "16219           NaN         NaN   None  \n",
       "245            77.0         3.4      M  \n",
       "11245          74.0         6.7      T  "
      ]
     },
     "execution_count": 53,
     "metadata": {},
     "output_type": "execute_result"
    }
   ],
   "source": [
    "#датафрейм с данными по показателям актуального периода для перспективных платформ\n",
    "df_actual_profitable_platform = df_actual.query(\"platform in ['PS4', '3DS', 'XOne', 'PC', 'WiiU', 'PSV']\")\n",
    "\n",
    "df_actual_profitable_platform.sample(5)"
   ]
  },
  {
   "cell_type": "markdown",
   "id": "01f9d84b",
   "metadata": {},
   "source": [
    "### Анализ потенциально прибыльных платформ по данным актуального периода"
   ]
  },
  {
   "cell_type": "markdown",
   "id": "e64614c3",
   "metadata": {},
   "source": [
    "#### Статистические показатели продаж"
   ]
  },
  {
   "cell_type": "markdown",
   "id": "4c63cf0a",
   "metadata": {},
   "source": [
    "Построим \"ящики с усами\" для каждой из шести прибыльных платформ:"
   ]
  },
  {
   "cell_type": "code",
   "execution_count": 54,
   "id": "f5986be0",
   "metadata": {},
   "outputs": [
    {
     "data": {
      "image/png": "[encoded data removed]",
      "text/plain": [
       "<Figure size 1080x576 with 1 Axes>"
      ]
     },
     "metadata": {
      "needs_background": "light"
     },
     "output_type": "display_data"
    }
   ],
   "source": [
    "#построение графика\n",
    "fig = plt.figure(figsize=(15,8))\n",
    "\n",
    "sns.boxplot(x='platform', y='total_sales', data=df_actual_profitable_platform, palette='Blues')\n",
    "\n",
    "plt.title('Диаграммы размаха продаж за 2014-2016 гг. для потенциально прибыльных платформ')\n",
    "plt.xlabel('Платформы')\n",
    "plt.ylabel('Продано млн.копий игр')\n",
    "plt.ylim(0, 1.6)\n",
    "\n",
    "plt.show()"
   ]
  },
  {
   "cell_type": "markdown",
   "id": "663bcb41",
   "metadata": {},
   "source": [
    "Как мы уже видели [ранее](#intro1), распределение общего объема продаж имеет очень длинный правый хвост: есть отдельные популярные игры с очень высокими продажами. Для каждой из платформ будет наблюдаться подобная картина, и чтобы боксплоты не превращались в линии, при выводе графика сразу ограничиваем ось значений, чтобы сделать удобным визуальное восприятие графиков. Максимальные же значения объемов продаж за актуальный период по каждой платформе, а также название игры, которая показала максимальные продажи, выведем в отдельной таблице:"
   ]
  },
  {
   "cell_type": "code",
   "execution_count": 55,
   "id": "f7523e6f",
   "metadata": {},
   "outputs": [
    {
     "name": "stdout",
     "output_type": "stream",
     "text": [
      "Игры-лидеры продаж для перспективных платформ за период 2014-2016гг.\n"
     ]
    },
    {
     "data": {
      "text/html": [
       "<div>\n",
       "<style scoped>\n",
       "    .dataframe tbody tr th:only-of-type {\n",
       "        vertical-align: middle;\n",
       "    }\n",
       "\n",
       "    .dataframe tbody tr th {\n",
       "        vertical-align: top;\n",
       "    }\n",
       "\n",
       "    .dataframe thead th {\n",
       "        text-align: right;\n",
       "    }\n",
       "</style>\n",
       "<table border=\"1\" class=\"dataframe\">\n",
       "  <thead>\n",
       "    <tr style=\"text-align: right;\">\n",
       "      <th></th>\n",
       "      <th>platform</th>\n",
       "      <th>total_sales_max</th>\n",
       "      <th>name</th>\n",
       "    </tr>\n",
       "  </thead>\n",
       "  <tbody>\n",
       "    <tr>\n",
       "      <th>0</th>\n",
       "      <td>PS4</td>\n",
       "      <td>14.63</td>\n",
       "      <td>Call of Duty: Black Ops 3</td>\n",
       "    </tr>\n",
       "    <tr>\n",
       "      <th>1</th>\n",
       "      <td>3DS</td>\n",
       "      <td>11.68</td>\n",
       "      <td>Pokemon Omega Ruby/Pokemon Alpha Sapphire</td>\n",
       "    </tr>\n",
       "    <tr>\n",
       "      <th>2</th>\n",
       "      <td>XOne</td>\n",
       "      <td>7.39</td>\n",
       "      <td>Call of Duty: Black Ops 3</td>\n",
       "    </tr>\n",
       "    <tr>\n",
       "      <th>3</th>\n",
       "      <td>WiiU</td>\n",
       "      <td>7.09</td>\n",
       "      <td>Mario Kart 8</td>\n",
       "    </tr>\n",
       "    <tr>\n",
       "      <th>4</th>\n",
       "      <td>PC</td>\n",
       "      <td>3.05</td>\n",
       "      <td>The Sims 4</td>\n",
       "    </tr>\n",
       "    <tr>\n",
       "      <th>5</th>\n",
       "      <td>PSV</td>\n",
       "      <td>1.96</td>\n",
       "      <td>Minecraft</td>\n",
       "    </tr>\n",
       "  </tbody>\n",
       "</table>\n",
       "</div>"
      ],
      "text/plain": [
       "  platform  total_sales_max                                       name\n",
       "0      PS4            14.63                  Call of Duty: Black Ops 3\n",
       "1      3DS            11.68  Pokemon Omega Ruby/Pokemon Alpha Sapphire\n",
       "2     XOne             7.39                  Call of Duty: Black Ops 3\n",
       "3     WiiU             7.09                               Mario Kart 8\n",
       "4       PC             3.05                                 The Sims 4\n",
       "5      PSV             1.96                                  Minecraft"
      ]
     },
     "execution_count": 55,
     "metadata": {},
     "output_type": "execute_result"
    }
   ],
   "source": [
    "print('Игры-лидеры продаж для перспективных платформ за период 2014-2016гг.')\n",
    "#формирование доп.таблицы для анализа\n",
    "#сначала сортируем по убыванию по продаж внутри платформы\n",
    "(df_actual_profitable_platform.sort_values(by=['platform', 'total_sales'], ascending=False)\n",
    "                                 #затем группируем по платформе с отбором первого значения\n",
    "                                .groupby('platform')[['total_sales', 'name']].first() \n",
    "                                .sort_values(by='total_sales', ascending=False)\n",
    "                                .rename(columns={'total_sales': 'total_sales_max'})\n",
    "                                .reset_index()\n",
    ")"
   ]
  },
  {
   "cell_type": "markdown",
   "id": "5156ba6b",
   "metadata": {},
   "source": [
    "Итак, распределение продаж игр за 2014-2016 гг. по каждой платформе смещено вправо: у каждой платформы есть отдельные игры с высокими объемами продаж. При этом можно зафиксировать такие наблюдения:\n",
    "* распределение продаж по платформам PS4, XOne и WiiU очень похожи: у них примерно одинаковое медианное значение продаж 0.2 млн.копий, 75% игр для этих платформ продаются тиражами до 0.6-0.7 млн.копий. При этом платформа PS4 отличается \"большими\" объемам продаж: максимальное значение продаж по PS4 15 млн.копий, тогда как у XOne 7 млн.копий, при этом речь идет об одной и той же игре \"Call of Duty: Black Ops 3\". Игра-лидер для WiiU - \"Mario Kart 8\" с продажами 7 млн.копий;\n",
    "* похожи распределения продаж по платформам 3DS и PC: медианное значение продаж около 0.1 млн.копий, 75% игр продаются тиражами около 0.2 млн.копий. При этом стоит отметить, что платформа 3DS имеет игру-лидера \"Pokemon Omega Ruby/Pokemon Alpha Sapphire\" с продажами 12 млн.копий, тогда как лидер PC - игра \"The Sims 4\" - имеет продажи почти в 4 раза меньше, 3 млн.копий;\n",
    "* самыми скромными статистическими показателями обладает платформа PSV: медианное значение продаж - около 0.05 млн.копий, максимальное - 1.96 млн.копий игры \"Minecraft\"."
   ]
  },
  {
   "cell_type": "markdown",
   "id": "0a1c3d6f",
   "metadata": {},
   "source": [
    "#### Влияние оценок пользователей и критиков на продажи"
   ]
  },
  {
   "cell_type": "markdown",
   "id": "e951ec9d",
   "metadata": {},
   "source": [
    "Степень влияния на продажи оценок пользователей и критиков исследуем на примере платформы-лидера в актуальном периоде - PS4. Построим диаграммы рассеяния, показывающие различные комбинации в паре \"Оценка - Объем продаж\":"
   ]
  },
  {
   "cell_type": "code",
   "execution_count": 56,
   "id": "fa483079",
   "metadata": {},
   "outputs": [
    {
     "data": {
      "image/png": "[encoded data removed]",
      "text/plain": [
       "<Figure size 1080x288 with 2 Axes>"
      ]
     },
     "metadata": {
      "needs_background": "light"
     },
     "output_type": "display_data"
    }
   ],
   "source": [
    "#построение графика\n",
    "fig = plt.figure(figsize=(15,4))\n",
    "\n",
    "ax1 = fig.add_subplot(1,2,1)\n",
    "ax2 = fig.add_subplot(1,2,2)\n",
    "    \n",
    "ax1.set_title(f'Диграмма рассеяния для пары \\n \"Оценка критиков - Объем продаж игры\" \\n по играм для PS4')\n",
    "ax2.set_title(f'Диграмма рассеяния для пары \\n \"Оценка пользователей - Объем продаж игры\" \\n по играм для PS4')\n",
    "    \n",
    "ax1.set_xlabel('Оценка критиков')\n",
    "ax2.set_xlabel('Оценка пользователей')\n",
    "    \n",
    "ax1.set_ylabel('Продано млн.копий игр')\n",
    "ax2.set_ylabel('Продано млн.копий игр')\n",
    "    \n",
    "ax1.scatter(x=df_actual_profitable_platform.query('platform == \"PS4\"')['critic_score'],\n",
    "            y=df_actual_profitable_platform.query('platform == \"PS4\"')['total_sales'],\n",
    "            alpha=0.5)\n",
    "ax2.scatter(x=df_actual_profitable_platform.query('platform == \"PS4\"')['user_score'],\n",
    "            y=df_actual_profitable_platform.query('platform == \"PS4\"')['total_sales'],\n",
    "            alpha=0.5)\n",
    "    \n",
    "fig.tight_layout()\n",
    "plt.show()"
   ]
  },
  {
   "cell_type": "markdown",
   "id": "970f0f34",
   "metadata": {},
   "source": [
    "Также выведем коэффициенты корреляции Пирсона для оценок и объема продаж:"
   ]
  },
  {
   "cell_type": "code",
   "execution_count": 57,
   "id": "3ab1d717",
   "metadata": {},
   "outputs": [
    {
     "name": "stdout",
     "output_type": "stream",
     "text": [
      "Корреляция оценок критиков и пользователей с объемами продаж игр для PS4\n"
     ]
    },
    {
     "data": {
      "text/html": [
       "<div>\n",
       "<style scoped>\n",
       "    .dataframe tbody tr th:only-of-type {\n",
       "        vertical-align: middle;\n",
       "    }\n",
       "\n",
       "    .dataframe tbody tr th {\n",
       "        vertical-align: top;\n",
       "    }\n",
       "\n",
       "    .dataframe thead th {\n",
       "        text-align: right;\n",
       "    }\n",
       "</style>\n",
       "<table border=\"1\" class=\"dataframe\">\n",
       "  <thead>\n",
       "    <tr style=\"text-align: right;\">\n",
       "      <th></th>\n",
       "      <th>critic_score</th>\n",
       "      <th>user_score</th>\n",
       "      <th>total_sales</th>\n",
       "    </tr>\n",
       "  </thead>\n",
       "  <tbody>\n",
       "    <tr>\n",
       "      <th>critic_score</th>\n",
       "      <td>1.0</td>\n",
       "      <td>0.5</td>\n",
       "      <td>0.4</td>\n",
       "    </tr>\n",
       "    <tr>\n",
       "      <th>user_score</th>\n",
       "      <td>0.5</td>\n",
       "      <td>1.0</td>\n",
       "      <td>-0.0</td>\n",
       "    </tr>\n",
       "  </tbody>\n",
       "</table>\n",
       "</div>"
      ],
      "text/plain": [
       "              critic_score  user_score  total_sales\n",
       "critic_score           1.0         0.5          0.4\n",
       "user_score             0.5         1.0         -0.0"
      ]
     },
     "execution_count": 57,
     "metadata": {},
     "output_type": "execute_result"
    }
   ],
   "source": [
    "#вывод матрицы корреляции\n",
    "print('Корреляция оценок критиков и пользователей с объемами продаж игр для PS4')\n",
    "df_actual_profitable_platform.query('platform == \"PS4\"')[['critic_score', 'user_score', 'total_sales']].corr().round(1)[:2]"
   ]
  },
  {
   "cell_type": "markdown",
   "id": "196bd198",
   "metadata": {},
   "source": [
    "Диаграмма рассеяния и коэффициент корреляции в 0.4 для пары \"Оценка критиков - Объем продаж\" показывают слабую прямую взаимосвязь этих показателей: скорее всего, мнение критиков влияет на продажи в долгосрочном периоде. При этом для пары \"Оценка пользователей - Объем продаж\" такая взаимосвязь вообще отсутствует. Можно предположить, что объемы продаж намного больше зависят от успешности маркетинговой кампании издателя игры и от ожидания выхода игры фанатами, а не от субъективных мнений отдельных критиков/пользователей. Как минимум российские пользователи очень хорошо умеют писать отрицательные отзывы в большом количестве, если товар не оправдал их ожиданий, при этом положительные отзывы большинству людей писать лень. Кроме того, необходимо вспомнить, что в нашем датасете около половины игр совсем не имеют оценок, но при этом имеют продажи.\n",
    "\n",
    "*P.S. Приведу здесь мнение одного специалиста, который так описывает взаимосвязь рассматриваемых показателей: \"Мы на самом деле заметили, что продажи совершенно не коррелируются с оценками пользователей. Это очень пугает разработчиков, когда оценка плохая, а продажи идут. Сидишь и вытираешь слёзы деньгами\" (Алекс Ничипорчик, CEO tinyBuild).*"
   ]
  },
  {
   "cell_type": "markdown",
   "id": "9cd3e37e",
   "metadata": {},
   "source": [
    "Также можно отметить, что наибольшая корреляция наблюдается между оценками критиков и оценками пользователей, что вполне объяснимо тем, что и те, и другие - люди, погруженные в игру."
   ]
  },
  {
   "cell_type": "markdown",
   "id": "ed330f79",
   "metadata": {},
   "source": [
    "Для игр на других платформах, вероятнее всего, взаимосвязь между оценками и объемами продаж будет выражаться примерно такими же коэффициентами корреляции, как и для платформы PS4. Проверим это:"
   ]
  },
  {
   "cell_type": "code",
   "execution_count": 58,
   "id": "74ecbe82",
   "metadata": {},
   "outputs": [
    {
     "name": "stdout",
     "output_type": "stream",
     "text": [
      "Корреляция оценок критиков и пользователей с объемами продаж игр для 3DS\n"
     ]
    },
    {
     "data": {
      "text/html": [
       "<div>\n",
       "<style scoped>\n",
       "    .dataframe tbody tr th:only-of-type {\n",
       "        vertical-align: middle;\n",
       "    }\n",
       "\n",
       "    .dataframe tbody tr th {\n",
       "        vertical-align: top;\n",
       "    }\n",
       "\n",
       "    .dataframe thead th {\n",
       "        text-align: right;\n",
       "    }\n",
       "</style>\n",
       "<table border=\"1\" class=\"dataframe\">\n",
       "  <thead>\n",
       "    <tr style=\"text-align: right;\">\n",
       "      <th></th>\n",
       "      <th>critic_score</th>\n",
       "      <th>user_score</th>\n",
       "      <th>total_sales</th>\n",
       "    </tr>\n",
       "  </thead>\n",
       "  <tbody>\n",
       "    <tr>\n",
       "      <th>critic_score</th>\n",
       "      <td>1.0</td>\n",
       "      <td>0.9</td>\n",
       "      <td>0.3</td>\n",
       "    </tr>\n",
       "    <tr>\n",
       "      <th>user_score</th>\n",
       "      <td>0.9</td>\n",
       "      <td>1.0</td>\n",
       "      <td>0.2</td>\n",
       "    </tr>\n",
       "  </tbody>\n",
       "</table>\n",
       "</div>"
      ],
      "text/plain": [
       "              critic_score  user_score  total_sales\n",
       "critic_score           1.0         0.9          0.3\n",
       "user_score             0.9         1.0          0.2"
      ]
     },
     "metadata": {},
     "output_type": "display_data"
    },
    {
     "name": "stdout",
     "output_type": "stream",
     "text": [
      "\n",
      "Корреляция оценок критиков и пользователей с объемами продаж игр для XOne\n"
     ]
    },
    {
     "data": {
      "text/html": [
       "<div>\n",
       "<style scoped>\n",
       "    .dataframe tbody tr th:only-of-type {\n",
       "        vertical-align: middle;\n",
       "    }\n",
       "\n",
       "    .dataframe tbody tr th {\n",
       "        vertical-align: top;\n",
       "    }\n",
       "\n",
       "    .dataframe thead th {\n",
       "        text-align: right;\n",
       "    }\n",
       "</style>\n",
       "<table border=\"1\" class=\"dataframe\">\n",
       "  <thead>\n",
       "    <tr style=\"text-align: right;\">\n",
       "      <th></th>\n",
       "      <th>critic_score</th>\n",
       "      <th>user_score</th>\n",
       "      <th>total_sales</th>\n",
       "    </tr>\n",
       "  </thead>\n",
       "  <tbody>\n",
       "    <tr>\n",
       "      <th>critic_score</th>\n",
       "      <td>1.0</td>\n",
       "      <td>0.4</td>\n",
       "      <td>0.4</td>\n",
       "    </tr>\n",
       "    <tr>\n",
       "      <th>user_score</th>\n",
       "      <td>0.4</td>\n",
       "      <td>1.0</td>\n",
       "      <td>-0.1</td>\n",
       "    </tr>\n",
       "  </tbody>\n",
       "</table>\n",
       "</div>"
      ],
      "text/plain": [
       "              critic_score  user_score  total_sales\n",
       "critic_score           1.0         0.4          0.4\n",
       "user_score             0.4         1.0         -0.1"
      ]
     },
     "metadata": {},
     "output_type": "display_data"
    },
    {
     "name": "stdout",
     "output_type": "stream",
     "text": [
      "\n",
      "Корреляция оценок критиков и пользователей с объемами продаж игр для WiiU\n"
     ]
    },
    {
     "data": {
      "text/html": [
       "<div>\n",
       "<style scoped>\n",
       "    .dataframe tbody tr th:only-of-type {\n",
       "        vertical-align: middle;\n",
       "    }\n",
       "\n",
       "    .dataframe tbody tr th {\n",
       "        vertical-align: top;\n",
       "    }\n",
       "\n",
       "    .dataframe thead th {\n",
       "        text-align: right;\n",
       "    }\n",
       "</style>\n",
       "<table border=\"1\" class=\"dataframe\">\n",
       "  <thead>\n",
       "    <tr style=\"text-align: right;\">\n",
       "      <th></th>\n",
       "      <th>critic_score</th>\n",
       "      <th>user_score</th>\n",
       "      <th>total_sales</th>\n",
       "    </tr>\n",
       "  </thead>\n",
       "  <tbody>\n",
       "    <tr>\n",
       "      <th>critic_score</th>\n",
       "      <td>1.0</td>\n",
       "      <td>0.8</td>\n",
       "      <td>0.4</td>\n",
       "    </tr>\n",
       "    <tr>\n",
       "      <th>user_score</th>\n",
       "      <td>0.8</td>\n",
       "      <td>1.0</td>\n",
       "      <td>0.4</td>\n",
       "    </tr>\n",
       "  </tbody>\n",
       "</table>\n",
       "</div>"
      ],
      "text/plain": [
       "              critic_score  user_score  total_sales\n",
       "critic_score           1.0         0.8          0.4\n",
       "user_score             0.8         1.0          0.4"
      ]
     },
     "metadata": {},
     "output_type": "display_data"
    },
    {
     "name": "stdout",
     "output_type": "stream",
     "text": [
      "\n",
      "Корреляция оценок критиков и пользователей с объемами продаж игр для PC\n"
     ]
    },
    {
     "data": {
      "text/html": [
       "<div>\n",
       "<style scoped>\n",
       "    .dataframe tbody tr th:only-of-type {\n",
       "        vertical-align: middle;\n",
       "    }\n",
       "\n",
       "    .dataframe tbody tr th {\n",
       "        vertical-align: top;\n",
       "    }\n",
       "\n",
       "    .dataframe thead th {\n",
       "        text-align: right;\n",
       "    }\n",
       "</style>\n",
       "<table border=\"1\" class=\"dataframe\">\n",
       "  <thead>\n",
       "    <tr style=\"text-align: right;\">\n",
       "      <th></th>\n",
       "      <th>critic_score</th>\n",
       "      <th>user_score</th>\n",
       "      <th>total_sales</th>\n",
       "    </tr>\n",
       "  </thead>\n",
       "  <tbody>\n",
       "    <tr>\n",
       "      <th>critic_score</th>\n",
       "      <td>1.0</td>\n",
       "      <td>0.5</td>\n",
       "      <td>0.2</td>\n",
       "    </tr>\n",
       "    <tr>\n",
       "      <th>user_score</th>\n",
       "      <td>0.5</td>\n",
       "      <td>1.0</td>\n",
       "      <td>-0.1</td>\n",
       "    </tr>\n",
       "  </tbody>\n",
       "</table>\n",
       "</div>"
      ],
      "text/plain": [
       "              critic_score  user_score  total_sales\n",
       "critic_score           1.0         0.5          0.2\n",
       "user_score             0.5         1.0         -0.1"
      ]
     },
     "metadata": {},
     "output_type": "display_data"
    },
    {
     "name": "stdout",
     "output_type": "stream",
     "text": [
      "\n",
      "Корреляция оценок критиков и пользователей с объемами продаж игр для PSV\n"
     ]
    },
    {
     "data": {
      "text/html": [
       "<div>\n",
       "<style scoped>\n",
       "    .dataframe tbody tr th:only-of-type {\n",
       "        vertical-align: middle;\n",
       "    }\n",
       "\n",
       "    .dataframe tbody tr th {\n",
       "        vertical-align: top;\n",
       "    }\n",
       "\n",
       "    .dataframe thead th {\n",
       "        text-align: right;\n",
       "    }\n",
       "</style>\n",
       "<table border=\"1\" class=\"dataframe\">\n",
       "  <thead>\n",
       "    <tr style=\"text-align: right;\">\n",
       "      <th></th>\n",
       "      <th>critic_score</th>\n",
       "      <th>user_score</th>\n",
       "      <th>total_sales</th>\n",
       "    </tr>\n",
       "  </thead>\n",
       "  <tbody>\n",
       "    <tr>\n",
       "      <th>critic_score</th>\n",
       "      <td>1.0</td>\n",
       "      <td>0.5</td>\n",
       "      <td>0.0</td>\n",
       "    </tr>\n",
       "    <tr>\n",
       "      <th>user_score</th>\n",
       "      <td>0.5</td>\n",
       "      <td>1.0</td>\n",
       "      <td>-0.2</td>\n",
       "    </tr>\n",
       "  </tbody>\n",
       "</table>\n",
       "</div>"
      ],
      "text/plain": [
       "              critic_score  user_score  total_sales\n",
       "critic_score           1.0         0.5          0.0\n",
       "user_score             0.5         1.0         -0.2"
      ]
     },
     "metadata": {},
     "output_type": "display_data"
    },
    {
     "name": "stdout",
     "output_type": "stream",
     "text": [
      "\n"
     ]
    }
   ],
   "source": [
    "#расчет коэф-тов корреляции по другим платформам с помощью цикла\n",
    "for name in df_actual_profitable_platform['platform'].unique():\n",
    "    if name != 'PS4':\n",
    "        print(f'Корреляция оценок критиков и пользователей с объемами продаж игр для {name}')\n",
    "        display(df_actual_profitable_platform.query('platform == @name')[['critic_score', 'user_score', 'total_sales']]\n",
    "                .corr().round(1)[:2])\n",
    "        print('')"
   ]
  },
  {
   "cell_type": "markdown",
   "id": "005e29a5",
   "metadata": {},
   "source": [
    "Таким образом, в среднем наблюдаем слабую прямую взаимосвязь между объемами продаж и оценками критиков, тогда как подобная взаимосвязь с оценками пользователей близка к нулю (только по WiiU есть слабое влияние оценок пользователей, коэффициент корреляции 0.4)."
   ]
  },
  {
   "cell_type": "markdown",
   "id": "c9647c84",
   "metadata": {},
   "source": [
    "#### Анализ продаж игр по жанрам"
   ]
  },
  {
   "cell_type": "markdown",
   "id": "bc288cfb",
   "metadata": {},
   "source": [
    "Посмотрим, как распределяются по жанрам количество выпускаемых игр и медианные объемы их продаж. Количество выпускаемых игр будем брать общее за период, а объемы продаж будем брать именно медианные, а не общие, исходя из следующих предположений:\n",
    "* высокие общие продажи могут скрывать множество продаж недорогих игр этого жанра;\n",
    "* в выборке присутствуют топовые игры, разошедшиеся огромными тиражами, что поднимет общие продажи, но одна удачная игра еще не означает успех жанра в целом (и, кстати, нарушит среднее по выборке, поэтому берем медиану)."
   ]
  },
  {
   "cell_type": "code",
   "execution_count": 59,
   "id": "f04b1d75",
   "metadata": {},
   "outputs": [
    {
     "name": "stdout",
     "output_type": "stream",
     "text": [
      "Распределение количества выпущенных игр и медианных продаж по жанрам (по перспективным платформам за 2014-2016гг.)\n"
     ]
    },
    {
     "data": {
      "text/html": [
       "<div>\n",
       "<style scoped>\n",
       "    .dataframe tbody tr th:only-of-type {\n",
       "        vertical-align: middle;\n",
       "    }\n",
       "\n",
       "    .dataframe tbody tr th {\n",
       "        vertical-align: top;\n",
       "    }\n",
       "\n",
       "    .dataframe thead th {\n",
       "        text-align: right;\n",
       "    }\n",
       "</style>\n",
       "<table border=\"1\" class=\"dataframe\">\n",
       "  <thead>\n",
       "    <tr style=\"text-align: right;\">\n",
       "      <th></th>\n",
       "      <th>genre</th>\n",
       "      <th>games_num</th>\n",
       "      <th>median_sales</th>\n",
       "    </tr>\n",
       "  </thead>\n",
       "  <tbody>\n",
       "    <tr>\n",
       "      <th>0</th>\n",
       "      <td>Shooter</td>\n",
       "      <td>99</td>\n",
       "      <td>0.550</td>\n",
       "    </tr>\n",
       "    <tr>\n",
       "      <th>1</th>\n",
       "      <td>Sports</td>\n",
       "      <td>104</td>\n",
       "      <td>0.200</td>\n",
       "    </tr>\n",
       "    <tr>\n",
       "      <th>2</th>\n",
       "      <td>Platform</td>\n",
       "      <td>33</td>\n",
       "      <td>0.150</td>\n",
       "    </tr>\n",
       "    <tr>\n",
       "      <th>3</th>\n",
       "      <td>Fighting</td>\n",
       "      <td>38</td>\n",
       "      <td>0.125</td>\n",
       "    </tr>\n",
       "    <tr>\n",
       "      <th>4</th>\n",
       "      <td>Role-Playing</td>\n",
       "      <td>187</td>\n",
       "      <td>0.110</td>\n",
       "    </tr>\n",
       "    <tr>\n",
       "      <th>5</th>\n",
       "      <td>Simulation</td>\n",
       "      <td>40</td>\n",
       "      <td>0.100</td>\n",
       "    </tr>\n",
       "    <tr>\n",
       "      <th>6</th>\n",
       "      <td>Misc</td>\n",
       "      <td>89</td>\n",
       "      <td>0.090</td>\n",
       "    </tr>\n",
       "    <tr>\n",
       "      <th>7</th>\n",
       "      <td>Racing</td>\n",
       "      <td>53</td>\n",
       "      <td>0.090</td>\n",
       "    </tr>\n",
       "    <tr>\n",
       "      <th>8</th>\n",
       "      <td>Action</td>\n",
       "      <td>495</td>\n",
       "      <td>0.080</td>\n",
       "    </tr>\n",
       "    <tr>\n",
       "      <th>9</th>\n",
       "      <td>Strategy</td>\n",
       "      <td>36</td>\n",
       "      <td>0.055</td>\n",
       "    </tr>\n",
       "    <tr>\n",
       "      <th>10</th>\n",
       "      <td>Puzzle</td>\n",
       "      <td>13</td>\n",
       "      <td>0.050</td>\n",
       "    </tr>\n",
       "    <tr>\n",
       "      <th>11</th>\n",
       "      <td>Adventure</td>\n",
       "      <td>148</td>\n",
       "      <td>0.030</td>\n",
       "    </tr>\n",
       "  </tbody>\n",
       "</table>\n",
       "</div>"
      ],
      "text/plain": [
       "           genre  games_num  median_sales\n",
       "0        Shooter         99         0.550\n",
       "1         Sports        104         0.200\n",
       "2       Platform         33         0.150\n",
       "3       Fighting         38         0.125\n",
       "4   Role-Playing        187         0.110\n",
       "5     Simulation         40         0.100\n",
       "6           Misc         89         0.090\n",
       "7         Racing         53         0.090\n",
       "8         Action        495         0.080\n",
       "9       Strategy         36         0.055\n",
       "10        Puzzle         13         0.050\n",
       "11     Adventure        148         0.030"
      ]
     },
     "execution_count": 59,
     "metadata": {},
     "output_type": "execute_result"
    }
   ],
   "source": [
    "#сводная таблица с расчетом кол-ва игр и медианных продаж по жанрам\n",
    "df_genre = df_actual_profitable_platform.groupby('genre') \\\n",
    "                                        .agg({'name': 'count', 'total_sales': 'median'}) \\\n",
    "                                        .rename(columns={'name': 'games_num', 'total_sales': 'median_sales'}) \\\n",
    "                                        .sort_values(by='median_sales', ascending=False) \\\n",
    "                                        .reset_index()\n",
    "\n",
    "print('Распределение количества выпущенных игр и медианных продаж по жанрам (по перспективным платформам за 2014-2016гг.)')\n",
    "df_genre"
   ]
  },
  {
   "cell_type": "markdown",
   "id": "733c5b36",
   "metadata": {},
   "source": [
    "Визуализируем распределение выпущенных игр по жанрам:"
   ]
  },
  {
   "cell_type": "code",
   "execution_count": 60,
   "id": "e2a33c20",
   "metadata": {},
   "outputs": [
    {
     "data": {
      "image/png": "[encoded data removed]",
      "text/plain": [
       "<Figure size 720x648 with 2 Axes>"
      ]
     },
     "metadata": {
      "needs_background": "light"
     },
     "output_type": "display_data"
    }
   ],
   "source": [
    "#строим графики\n",
    "fig = plt.figure(figsize=(10,9))\n",
    "\n",
    "ax1 = fig.add_subplot(2,1,1)\n",
    "ax2 = fig.add_subplot(2,1,2)\n",
    "    \n",
    "ax1.set_title('Медианные продажи игр для перспективных платформ по жанрам в 2014-2016 гг.')\n",
    "ax2.set_title('Количество выпущенных игр для перспективных платформ по жанрам в 2014-2016 гг.')\n",
    "    \n",
    "ax1.set_ylabel('Медианные продажи за год (млн.копий)')\n",
    "ax2.set_ylabel('Выпущено игр (шт.)')\n",
    "    \n",
    "df_genre.sort_values(by='median_sales', ascending=False) \\\n",
    "        .plot(x='genre', y='median_sales', kind='bar', xlabel='', legend=False, grid=True, ax=ax1)\n",
    "\n",
    "df_genre.sort_values(by='games_num', ascending=False) \\\n",
    "        .plot(x='genre', y='games_num', kind='bar', xlabel='', legend=False, grid=True, ax=ax2)\n",
    "    \n",
    "fig.tight_layout()\n",
    "plt.show()"
   ]
  },
  {
   "cell_type": "markdown",
   "id": "76035464",
   "metadata": {},
   "source": [
    "Сравнение по медианным продажам и будет по сути отражать прибыльность разных жанров, поскольку покажет \"средние\" продажи \"средней\" игры для этого жанра, отсекая топовые и мелкие игры.\n",
    "\n",
    "*Опишем тройку лидеров:*\n",
    "\n",
    "Самым прибыльным жанром, имеющим наибольшие медианные продажи, являются \"шутеры\": медиана 550 тыс. копий в год. При этом по общему количеству выпущенных игр за аналогичный период этот жанр находится на пятом месте, т.е. игр делают немного, но они хорошо покупаются. \n",
    "\n",
    "На втором месте по медианному объему продаж располагаются спортивные игры, 200 тыс.копий в год, хотя по количеству выпускаемых игр этот жанр находится на четвертом месте.\n",
    "\n",
    "Замыкают тройку прибыльных жанров платформенные аркады с медианным объемом продаж 150 тыс.копий в год, при этом количество выпускаемых игр этого жанра очень невелико.\n",
    "\n",
    "По всем прибыльным жанрам можно предположить, что игры качественные, рассчитаны на \"долгую\" игру, и жанр не нуждается в большом разнообразии игр для поддержания продаж.\n",
    "\n",
    "*Опишем тройку аутсайдеров:*\n",
    "\n",
    "Наименее прибыльными являются стратегии, паззлы и приключенческие игры с медианными объемами продаж 30-55 тыс.копий в год. Видимо, эти жанры интересны только настоящим ценителям. Можно обратить отдельное внимание на приключенческие игры: по количеству выпущенных игр этот жанр располагается на третьем месте, т.е. как бы ни старались создатели разнообразить жанр, для массовых пользователей он мало интересен."
   ]
  },
  {
   "cell_type": "markdown",
   "id": "7d2d67f4",
   "metadata": {},
   "source": [
    "### Вывод по блоку \"Исследовательский анализ данных\""
   ]
  },
  {
   "cell_type": "markdown",
   "id": "eb8e07fb",
   "metadata": {},
   "source": [
    "В ходе исследовательского анализа данных выполнены следующие задачи:\n",
    "* данные по объемам продаж игр проверены на наличие ошибок и аномалий: в датасете присутствуют две игры с нулевыми продажами, что, скорее всего, связано с выбранной единицей измерения продаж в млн.копий игр и очень маленьким объемом продаж этих игр. Также в датасете присутствуют супер-популярные игры, разошедшиеся по миру десятками миллионов копий: для всего набора данных это очевидные выбросы, которые, однако, не являются ошибками;\n",
    "* данные с оценками критиков и пользователей проверены на соответствие допустимым значениям;\n",
    "* изучена динамика количества выпущенных игр за период с 1980 по 2016 год: развитие индустрии консольных игр до середины 1990-х годов происходило достаточно медленно, далее заметен рост, который становится наиболее стремительным с начала 2000-х годов, когда появились более технологичные платформы и топовые игры. После 2008 года наблюдается заметное снижение количества выпускаемых игр для консолей, поскольку на рынок выходят мобильные и он-лайн игры. Примерно с 2012 года выпуск консольных игр выходит на плато, т.е. будущее у консольных игр все-равно есть;\n",
    "* за весь доступный период изучена динамика продаж по платформам, наибольшими тиражами разошлись игры для 6 платформ: трех моделей PlayStation (PS, PS2, PS3) от Sony, XBox 360 от Microsoft и двух платформ Wii и DS от Nintendo;\n",
    "* полный срок жизни платформ-лидеров продаж составляет примерно 10 лет, при этом активная фаза жизненного цикла с ежегодными продажи более 50 млн.копий игр - это 6-8 лет;\n",
    "* выбран актуальный период для дальнейшего исследования: при построении прогноза на 2017 год можно использовать данные с 2014 года;\n",
    "* отобраны 6 потенциально прибыльных в 2017 году платформ, которые находятся на момент прогноза на стадии роста, в начале стадии снижения или на плато: это платформы PS4 и PSV от Sony, 3DS и WiiU от Nintendo, XOne от Microsoft, и PC (игры для ПК);\n",
    "* изучены статистические показатели каждой из шести прибыльных платформ: распределение продаж игр за 2014-2016 гг. по каждой платформе смещено вправо, присутствуют игры с высокими объемами продаж. У трех из шести платформ (PS4, XOne и WiiU) близкие медианные значения объемов продаж в 0.2 млн.копий игр, еще у двух платформ (3DS и PC) этот показатель около 0.1 млн.копий игр, самое скромное значение у платформы PSV - 0.05 млн.копий игр;\n",
    "* по играм для перспективных платформ изучена взамосвязь между объемам продаж и оценками критиков и пользователей: наблюдаем слабую прямую взаимосвязь между объемами продаж и оценками критиков, тогда как подобная взаимосвязь продаж с оценками пользователей близка к нулю. Можно предположить, что объемы продаж намного больше зависят от успешности маркетинговой кампании издателя игры и от ожидания выхода игры фанатами, а не от субъективных мнений отдельных критиков/пользователей;\n",
    "* исследовано распределение игр для перспективных платформ по жанрам: наиболее прибыльными являются \"шутеры\", спортивные игры и платформенные аркады."
   ]
  },
  {
   "cell_type": "markdown",
   "id": "789287d1",
   "metadata": {},
   "source": [
    "## Портрет пользователей каждого региона"
   ]
  },
  {
   "cell_type": "markdown",
   "id": "f4504583",
   "metadata": {},
   "source": [
    "Составим портреты пользователей для каждого из регионов: Северная Америка, Европа и Япония. Для этого определим самые популярные в регионе платформы (топ-5), самые популярные в регионе жанры (топ-5), а также дадим оценку влияния рейтинга ESBR на продажи в каждом регионе."
   ]
  },
  {
   "cell_type": "markdown",
   "id": "fb00c54d",
   "metadata": {},
   "source": [
    "Сначала создадим сводные таблицы с расчетом долей продаж игр по перспективным платформам в актуальном периоде для каждого региона в группировке по платформам, жанрам и рейтингам:"
   ]
  },
  {
   "cell_type": "code",
   "execution_count": 61,
   "id": "d57c4fe6",
   "metadata": {},
   "outputs": [
    {
     "name": "stdout",
     "output_type": "stream",
     "text": [
      "Доли продаж внутри региона игр для различных платформ (по перспективным платформам за 2014-2016гг.), в %\n"
     ]
    },
    {
     "data": {
      "text/html": [
       "<div>\n",
       "<style scoped>\n",
       "    .dataframe tbody tr th:only-of-type {\n",
       "        vertical-align: middle;\n",
       "    }\n",
       "\n",
       "    .dataframe tbody tr th {\n",
       "        vertical-align: top;\n",
       "    }\n",
       "\n",
       "    .dataframe thead th {\n",
       "        text-align: right;\n",
       "    }\n",
       "</style>\n",
       "<table border=\"1\" class=\"dataframe\">\n",
       "  <thead>\n",
       "    <tr style=\"text-align: right;\">\n",
       "      <th></th>\n",
       "      <th>eu_sales</th>\n",
       "      <th>jp_sales</th>\n",
       "      <th>na_sales</th>\n",
       "    </tr>\n",
       "    <tr>\n",
       "      <th>platform</th>\n",
       "      <th></th>\n",
       "      <th></th>\n",
       "      <th></th>\n",
       "    </tr>\n",
       "  </thead>\n",
       "  <tbody>\n",
       "    <tr>\n",
       "      <th>3DS</th>\n",
       "      <td>7.1</td>\n",
       "      <td>54.3</td>\n",
       "      <td>9.8</td>\n",
       "    </tr>\n",
       "    <tr>\n",
       "      <th>PC</th>\n",
       "      <td>7.9</td>\n",
       "      <td>0.0</td>\n",
       "      <td>3.1</td>\n",
       "    </tr>\n",
       "    <tr>\n",
       "      <th>PS4</th>\n",
       "      <td>57.3</td>\n",
       "      <td>18.4</td>\n",
       "      <td>42.6</td>\n",
       "    </tr>\n",
       "    <tr>\n",
       "      <th>PSV</th>\n",
       "      <td>1.6</td>\n",
       "      <td>17.9</td>\n",
       "      <td>1.1</td>\n",
       "    </tr>\n",
       "    <tr>\n",
       "      <th>WiiU</th>\n",
       "      <td>5.8</td>\n",
       "      <td>9.0</td>\n",
       "      <td>8.4</td>\n",
       "    </tr>\n",
       "    <tr>\n",
       "      <th>XOne</th>\n",
       "      <td>20.4</td>\n",
       "      <td>0.4</td>\n",
       "      <td>35.1</td>\n",
       "    </tr>\n",
       "  </tbody>\n",
       "</table>\n",
       "</div>"
      ],
      "text/plain": [
       "          eu_sales  jp_sales  na_sales\n",
       "platform                              \n",
       "3DS            7.1      54.3       9.8\n",
       "PC             7.9       0.0       3.1\n",
       "PS4           57.3      18.4      42.6\n",
       "PSV            1.6      17.9       1.1\n",
       "WiiU           5.8       9.0       8.4\n",
       "XOne          20.4       0.4      35.1"
      ]
     },
     "metadata": {},
     "output_type": "display_data"
    },
    {
     "name": "stdout",
     "output_type": "stream",
     "text": [
      "\n",
      "Доли продаж внутри региона игр различных жанров (по перспективным платформам за 2014-2016гг.), в %\n"
     ]
    },
    {
     "data": {
      "text/html": [
       "<div>\n",
       "<style scoped>\n",
       "    .dataframe tbody tr th:only-of-type {\n",
       "        vertical-align: middle;\n",
       "    }\n",
       "\n",
       "    .dataframe tbody tr th {\n",
       "        vertical-align: top;\n",
       "    }\n",
       "\n",
       "    .dataframe thead th {\n",
       "        text-align: right;\n",
       "    }\n",
       "</style>\n",
       "<table border=\"1\" class=\"dataframe\">\n",
       "  <thead>\n",
       "    <tr style=\"text-align: right;\">\n",
       "      <th></th>\n",
       "      <th>eu_sales</th>\n",
       "      <th>jp_sales</th>\n",
       "      <th>na_sales</th>\n",
       "    </tr>\n",
       "    <tr>\n",
       "      <th>genre</th>\n",
       "      <th></th>\n",
       "      <th></th>\n",
       "      <th></th>\n",
       "    </tr>\n",
       "  </thead>\n",
       "  <tbody>\n",
       "    <tr>\n",
       "      <th>Action</th>\n",
       "      <td>28.0</td>\n",
       "      <td>30.3</td>\n",
       "      <td>26.0</td>\n",
       "    </tr>\n",
       "    <tr>\n",
       "      <th>Adventure</th>\n",
       "      <td>2.2</td>\n",
       "      <td>3.9</td>\n",
       "      <td>1.7</td>\n",
       "    </tr>\n",
       "    <tr>\n",
       "      <th>Fighting</th>\n",
       "      <td>2.7</td>\n",
       "      <td>6.2</td>\n",
       "      <td>4.8</td>\n",
       "    </tr>\n",
       "    <tr>\n",
       "      <th>Misc</th>\n",
       "      <td>3.7</td>\n",
       "      <td>6.3</td>\n",
       "      <td>4.4</td>\n",
       "    </tr>\n",
       "    <tr>\n",
       "      <th>Platform</th>\n",
       "      <td>2.8</td>\n",
       "      <td>3.3</td>\n",
       "      <td>2.8</td>\n",
       "    </tr>\n",
       "    <tr>\n",
       "      <th>Puzzle</th>\n",
       "      <td>0.2</td>\n",
       "      <td>1.1</td>\n",
       "      <td>0.3</td>\n",
       "    </tr>\n",
       "    <tr>\n",
       "      <th>Racing</th>\n",
       "      <td>5.7</td>\n",
       "      <td>2.0</td>\n",
       "      <td>3.3</td>\n",
       "    </tr>\n",
       "    <tr>\n",
       "      <th>Role-Playing</th>\n",
       "      <td>11.4</td>\n",
       "      <td>35.2</td>\n",
       "      <td>12.8</td>\n",
       "    </tr>\n",
       "    <tr>\n",
       "      <th>Shooter</th>\n",
       "      <td>24.8</td>\n",
       "      <td>5.2</td>\n",
       "      <td>28.6</td>\n",
       "    </tr>\n",
       "    <tr>\n",
       "      <th>Simulation</th>\n",
       "      <td>3.1</td>\n",
       "      <td>2.8</td>\n",
       "      <td>1.0</td>\n",
       "    </tr>\n",
       "    <tr>\n",
       "      <th>Sports</th>\n",
       "      <td>14.7</td>\n",
       "      <td>2.5</td>\n",
       "      <td>13.8</td>\n",
       "    </tr>\n",
       "    <tr>\n",
       "      <th>Strategy</th>\n",
       "      <td>0.8</td>\n",
       "      <td>1.1</td>\n",
       "      <td>0.4</td>\n",
       "    </tr>\n",
       "  </tbody>\n",
       "</table>\n",
       "</div>"
      ],
      "text/plain": [
       "              eu_sales  jp_sales  na_sales\n",
       "genre                                     \n",
       "Action            28.0      30.3      26.0\n",
       "Adventure          2.2       3.9       1.7\n",
       "Fighting           2.7       6.2       4.8\n",
       "Misc               3.7       6.3       4.4\n",
       "Platform           2.8       3.3       2.8\n",
       "Puzzle             0.2       1.1       0.3\n",
       "Racing             5.7       2.0       3.3\n",
       "Role-Playing      11.4      35.2      12.8\n",
       "Shooter           24.8       5.2      28.6\n",
       "Simulation         3.1       2.8       1.0\n",
       "Sports            14.7       2.5      13.8\n",
       "Strategy           0.8       1.1       0.4"
      ]
     },
     "metadata": {},
     "output_type": "display_data"
    },
    {
     "name": "stdout",
     "output_type": "stream",
     "text": [
      "\n",
      "Доли продаж внутри региона игр с различным рейтингом (по перспективным платформам за 2014-2016гг.), в %\n"
     ]
    },
    {
     "data": {
      "text/html": [
       "<div>\n",
       "<style scoped>\n",
       "    .dataframe tbody tr th:only-of-type {\n",
       "        vertical-align: middle;\n",
       "    }\n",
       "\n",
       "    .dataframe tbody tr th {\n",
       "        vertical-align: top;\n",
       "    }\n",
       "\n",
       "    .dataframe thead th {\n",
       "        text-align: right;\n",
       "    }\n",
       "</style>\n",
       "<table border=\"1\" class=\"dataframe\">\n",
       "  <thead>\n",
       "    <tr style=\"text-align: right;\">\n",
       "      <th></th>\n",
       "      <th>eu_sales</th>\n",
       "      <th>jp_sales</th>\n",
       "      <th>na_sales</th>\n",
       "    </tr>\n",
       "    <tr>\n",
       "      <th>rating</th>\n",
       "      <th></th>\n",
       "      <th></th>\n",
       "      <th></th>\n",
       "    </tr>\n",
       "  </thead>\n",
       "  <tbody>\n",
       "    <tr>\n",
       "      <th>E</th>\n",
       "      <td>20.2</td>\n",
       "      <td>10.2</td>\n",
       "      <td>16.3</td>\n",
       "    </tr>\n",
       "    <tr>\n",
       "      <th>E10+</th>\n",
       "      <td>7.9</td>\n",
       "      <td>5.3</td>\n",
       "      <td>10.2</td>\n",
       "    </tr>\n",
       "    <tr>\n",
       "      <th>M</th>\n",
       "      <td>36.3</td>\n",
       "      <td>7.9</td>\n",
       "      <td>35.5</td>\n",
       "    </tr>\n",
       "    <tr>\n",
       "      <th>None</th>\n",
       "      <td>22.4</td>\n",
       "      <td>61.9</td>\n",
       "      <td>24.1</td>\n",
       "    </tr>\n",
       "    <tr>\n",
       "      <th>T</th>\n",
       "      <td>13.3</td>\n",
       "      <td>14.7</td>\n",
       "      <td>14.0</td>\n",
       "    </tr>\n",
       "  </tbody>\n",
       "</table>\n",
       "</div>"
      ],
      "text/plain": [
       "        eu_sales  jp_sales  na_sales\n",
       "rating                              \n",
       "E           20.2      10.2      16.3\n",
       "E10+         7.9       5.3      10.2\n",
       "M           36.3       7.9      35.5\n",
       "None        22.4      61.9      24.1\n",
       "T           13.3      14.7      14.0"
      ]
     },
     "metadata": {},
     "output_type": "display_data"
    },
    {
     "name": "stdout",
     "output_type": "stream",
     "text": [
      "\n"
     ]
    }
   ],
   "source": [
    "index_list = ['platform', 'genre', 'rating']\n",
    "part_title_list = ['для различных платформ', 'различных жанров', 'с различным рейтингом']\n",
    "\n",
    "for i in range(3):\n",
    "    data = df_actual_profitable_platform.pivot_table(index=index_list[i],\n",
    "                                                     values=['na_sales', 'eu_sales', 'jp_sales'],\n",
    "                                                     aggfunc='sum')\n",
    "    for column in data.columns:\n",
    "        data[column] = (data[column] / data[column].sum() * 100).round(1)\n",
    "    print(f'Доли продаж внутри региона игр {part_title_list[i]} (по перспективным платформам за 2014-2016гг.), в %')\n",
    "    display(data)\n",
    "    print('')"
   ]
  },
  {
   "cell_type": "markdown",
   "id": "bd9a648c",
   "metadata": {},
   "source": [
    "Для описания предпочтений клиентов в каждом регионе можно сортировкой/глазами использовать данные этих таблиц, но для меня более предпочтительным способом в этом случае будет графическая визуализация. Табличные значения пригодятся для описательной части в случае затруднения при сравнении визуально близких значений.\n",
    "\n",
    "Для начала создадим функцию, которая будет выполнять группировку датафрейма по заданным индексам, считать сумму заданных значений, переводить значения в доли и оставлять только топ-5 из них:"
   ]
  },
  {
   "cell_type": "code",
   "execution_count": 62,
   "id": "63ed67aa",
   "metadata": {},
   "outputs": [],
   "source": [
    "def build_pivot(index, values):\n",
    "    data = df_actual_profitable_platform.pivot_table(index=index, values=values, aggfunc='sum')\\\n",
    "                                        .sort_values(by=values, ascending=False)\\\n",
    "                                        .apply(lambda x: x/x.sum()*100)\\\n",
    "                                        .head(5)\\\n",
    "                                        .reset_index()\n",
    "    return data"
   ]
  },
  {
   "cell_type": "markdown",
   "id": "dede6226",
   "metadata": {},
   "source": [
    "Далее построим графики, которые будут отражать доли проданных игр, входящих в топ-5 в каждом регионе, в разбивке по платформам, жанрам и рейтингам: "
   ]
  },
  {
   "cell_type": "code",
   "execution_count": 63,
   "id": "7f6b5cdc",
   "metadata": {},
   "outputs": [
    {
     "data": {
      "image/png": "[encoded data removed]",
      "text/plain": [
       "<Figure size 1080x720 with 9 Axes>"
      ]
     },
     "metadata": {
      "needs_background": "light"
     },
     "output_type": "display_data"
    }
   ],
   "source": [
    "index_list = ['platform', 'genre', 'rating']*3\n",
    "index_name_list = ['Платформы', 'Жанры', 'Рейтинг ESRB']*3\n",
    "region_list = ['na_sales']*3 + ['eu_sales']*3 + ['jp_sales']*3\n",
    "region_name_list = ['Северная Америка']*3 + ['Европа']*3 + ['Япония']*3\n",
    "color_list = ['lightblue']*3 + ['blue']*3 + ['darkblue']*3\n",
    "\n",
    "\n",
    "#построение графика\n",
    "fig = plt.figure(figsize=(15,10))\n",
    "\n",
    "for i in range(9):\n",
    "    axi = fig.add_subplot(3,3,i+1)\n",
    "    datai = build_pivot(index_list[i], region_list[i])\n",
    "    axi.bar(x=index_list[i], height=region_list[i], data=datai, color=color_list[i])\n",
    "    axi.set_title(f'{region_name_list[i]}: {index_name_list[i]}')\n",
    "    axi.set_xlabel(index_name_list[i])\n",
    "    axi.set_ylabel('Доля в объеме продаж, %')\n",
    "\n",
    "fig.tight_layout()\n",
    "plt.show()"
   ]
  },
  {
   "cell_type": "markdown",
   "id": "d5c45a50",
   "metadata": {},
   "source": [
    "**Топ-5 платформ**\n",
    "\n",
    "*Северная Америка*\n",
    "\n",
    "За рассматриваемый период с 2012 года из всех перспективных платформ пользователи из Северной Америки предпочитают PS4 с долей продаж игр для нее 43% в общих продажах по региону. На втором месте с долей 35% игры для XOne (национальный интерес для американцев). На значительном отрыве от лидеров находятся игры для платформ 3DS и WiiU c долями 10% и 8% соответственно. Наименьшей популярностью пользуются игры для PC - 3% продаж игр, a платформа PSV в список топ-5 для Северной Америки не попадает.\n",
    "\n",
    "*Европа*\n",
    "\n",
    "Для пользователей из Европы платформа PS4 - явный лидер в рейтинге с региональной долей продаж игр в 57%, т.е. европейцы еще больше любят эту платформу, чем американцы. На втором месте XOne c долей продаж игр в 20%. Следующие три платформы - PC, 3DS b WiiU - пользуются  в Европе примерно одинаковой популярностью и обеспечивают 6-8% продаж игр. В топ-список для Европы, как и для Америки, не попадает платформа PSV.\n",
    "\n",
    "*Япония*\n",
    "\n",
    "Фаворит японцев - платформа 3DS с показателем 54% регионального объема продаж, а аутсайдер - XOne c долей продаж всего в 0.4%, которому патриотичные японцы почти не оставили шансов на борьбу. \"Нелюбимая\" и вычеркнутая из региональных топ-5 американцами и европейцами PSV здесь вместе с PS4 делит второе/третье место с долей продаж в 18%. На четвертом месте WiiU с долей 9% региональных продаж игр. Можно отметить, что в игры для PC японцы вообще не играют, доля 0%.\n",
    "\n",
    "P.S. Популярность той или иной платформы может объясняться не только предпочтениями пользователей, но и ценой самой консоли: на \"своих\" рынках \"свои\" консоли, вероятно, будут стоить дешевле."
   ]
  },
  {
   "cell_type": "markdown",
   "id": "83037bfa",
   "metadata": {},
   "source": [
    "**Топ-5 жанров**\n",
    "\n",
    "*Северная Америка*\n",
    "\n",
    "Пользователи из Северной Америки предпочитают игры жанров \"шутер\" и \"экшен\", доля их продаж игр 29% и 26% соответственно от общих продаж по региону. Близкие объемы продаж 14% и 13% показывают спортивные и ролевые игры. Замыкают топ-5 игры-единоборства с долей 5% региональных продаж. На игры всех остальных жанров, не вошедших в американский топ-5 остается около 13% объема продаж.\n",
    "\n",
    "*Европа*\n",
    "\n",
    "Европейский топ-5 список жанров почти повторяет американский: лидерами также являются игры \"экшены\" и \"шутеры\" с близкими к американским значениями 28% и 25% объема региональных продаж соответственно. За ними, как и в американском списке, следуют спортивные и ролевые игры с долями продаж 15% и 11% соответственно. Замыкают европейский топ-5 гонки - 6% продаж. На игры всех остальных жанров, не вошедших в европейский топ-5 остается около 15% объема продаж.\n",
    "\n",
    "*Япония*\n",
    "\n",
    "Японцы и в выборе игровых жанров стоят особняком: их фаворитом являются ролевые игры с 35%-ной долей в региональных продажах. На 30%, почти как в Америке и Европе, продажи обеспечиваются \"экшенами\" - это второе место пьедестала. Остальные жанры, вошедшие в японский топ-5, явно проигрывают лидерам и обеспечивают примерно одинаковые доли продаж по 6%: это единоборства, \"шутеры\" и игры, не отнесенные к конкретному жанру. На игры всех остальных жанров, не вошедших в японский топ-5 остается около 17% объема продаж. Примечательный факт: популярные в Америке и Европе \"стрелялки\" в японском топ-листе лишь на пятом месте."
   ]
  },
  {
   "cell_type": "markdown",
   "id": "2dd435d5",
   "metadata": {},
   "source": [
    "**Рейтинги ESRB**\n",
    "\n",
    "Для начала дадим расшифровку основных применяемых рейтингов:\n",
    "* E - игры для всех от 6 лет и старше\n",
    "* E10 - игры для всех от 10 лет и старше\n",
    "* T- игры для подростков от 13 лет и старше\n",
    "* M - игры для взрослых от 18 лет и старше\n",
    "* None - шаблонное значение, которым мы заполнили пропуски - рейтинг не присвоен\n",
    "\n",
    "*Северная Америка*\n",
    "\n",
    "36% покупаемых американцами игр являются играми для взрослых 18+. 24% продаж приходятся на игры без рейтинга, за ними по убыванию продаж игры для детей 6+, для подростков 13+ и детей 10+ с долями продаж 16%, 14% и 10% соответственно.\n",
    "\n",
    "*Европа*\n",
    "\n",
    "В Европе картина почти такая же, как и в Америке: игры 18+ обеспечивают 36% продаж, на игры без рейтинга приходится 22% продаж, все остальные рейтинги располагаются в таком же порядке.\n",
    "\n",
    "*Япония*\n",
    "\n",
    "62% продаж игр в Японии обеспечено играми без рейтинга. Причина здесь такова: ESRB - это организация, работающая на определение рейтингов для компьютерных видеоигр и другого развлекательного программного обеспечения в США и Канаде. Жанровые предпочтения японцев, как мы уже видели, сильно отличаются от предпочтений американцев, поэтому, вероятнее всего, любимые японцами ролевые игры попросту не проходят процедуру присвоения рейтинга в ESRB\n",
    "\n",
    "Таким образом, видим, что данный рейтинг никак не влияет на объемы продаж ни в Америке и Европе, где игры без рейтинга находятся на втором месте в топ-листах, ни тем более в Японии."
   ]
  },
  {
   "cell_type": "markdown",
   "id": "0b47d006",
   "metadata": {},
   "source": [
    "### Вывод по блоку \"Портрет пользователей каждого региона\""
   ]
  },
  {
   "cell_type": "markdown",
   "id": "bcca8ce5",
   "metadata": {},
   "source": [
    "После анализа предпочтений пользователей в трех регионах - Северной Америке, Европе и Японии - можно сделать следующие выводы:\n",
    "* Лидером продаж для американцев и европейцев являются игры для PS4 от Sony, при этом американцы также подерживают \"свою\" платформу XOne от Microsost, но при этом более яркое проявление национального интереса наблюдается у японцев - больше половины регионального объема продаж занимают в Японии игры для 3DS от Nintendo. Популярность игр для той или иной платформы на региональных рынках, вероятнее всего, связана с ценой самих консолей: на \"своих\" рынках \"свои\" консоли будут стоить дешевле.\n",
    "* Жанровые предпочтения американцев и европейцев также близки: наибольший интерес для пользователей представляют игры \"экшены\" и \"шутеры\", тогда как японцы в \"шутеры\" играют мало, и японский топ-лист возглавляют ролевые игры.\n",
    "* Получение игрой рейтинга американской компании ESRB не является обязательным условием для выхода игры на рынок, и этот рейтинг никак не влияет на объемы продаж."
   ]
  },
  {
   "cell_type": "markdown",
   "id": "3b688dbb",
   "metadata": {},
   "source": [
    "## Проверка гипотез"
   ]
  },
  {
   "cell_type": "markdown",
   "id": "4aad76eb",
   "metadata": {},
   "source": [
    "### Сравнение средних пользовательских рейтингов платформ Xbox One и PC"
   ]
  },
  {
   "cell_type": "markdown",
   "id": "6473be65",
   "metadata": {},
   "source": [
    "Возьмем две сравниваемые платформы из нашего рабочего датафрейма с играми для перспективных платформ в актуальном периоде с 2014 года и посмотрим, на каком объеме данных нам придется проверять гипотезу:"
   ]
  },
  {
   "cell_type": "code",
   "execution_count": 64,
   "id": "52c23744",
   "metadata": {},
   "outputs": [
    {
     "name": "stdout",
     "output_type": "stream",
     "text": [
      "Общее кол-во игр для PC и Xbox One: 379, в том числе:\n",
      "- игры, имеющие оценку пользователей: 287\n",
      "- игры, не оцененные пользователями: 92\n"
     ]
    }
   ],
   "source": [
    "a = df_actual_profitable_platform.query(\"platform in ['XOne','PC']\")['name'].count()\n",
    "b = df_actual_profitable_platform.query(\"platform in ['XOne','PC']\")['user_score'].isna().sum()\n",
    "\n",
    "print(f\"Общее кол-во игр для PC и Xbox One: {a}, в том числе:\")\n",
    "print(f\"- игры, имеющие оценку пользователей: {a - b}\")\n",
    "print(f\"- игры, не оцененные пользователями: {b}\")"
   ]
  },
  {
   "cell_type": "markdown",
   "id": "a5dd7b5d",
   "metadata": {},
   "source": [
    "Посмотрим на статистические показатели выборок в разбивке по платформам (при их расчете строки с пропусками будут автоматически отброшены):"
   ]
  },
  {
   "cell_type": "code",
   "execution_count": 65,
   "id": "068c53bb",
   "metadata": {},
   "outputs": [
    {
     "name": "stdout",
     "output_type": "stream",
     "text": [
      "Статистические показатели пользовательских оценок игр для PC и Xbox One\n"
     ]
    },
    {
     "data": {
      "text/html": [
       "<div>\n",
       "<style scoped>\n",
       "    .dataframe tbody tr th:only-of-type {\n",
       "        vertical-align: middle;\n",
       "    }\n",
       "\n",
       "    .dataframe tbody tr th {\n",
       "        vertical-align: top;\n",
       "    }\n",
       "\n",
       "    .dataframe thead tr th {\n",
       "        text-align: left;\n",
       "    }\n",
       "\n",
       "    .dataframe thead tr:last-of-type th {\n",
       "        text-align: right;\n",
       "    }\n",
       "</style>\n",
       "<table border=\"1\" class=\"dataframe\">\n",
       "  <thead>\n",
       "    <tr>\n",
       "      <th></th>\n",
       "      <th>count</th>\n",
       "      <th>mean</th>\n",
       "      <th>median</th>\n",
       "      <th>var</th>\n",
       "      <th>std</th>\n",
       "    </tr>\n",
       "    <tr>\n",
       "      <th></th>\n",
       "      <th>user_score</th>\n",
       "      <th>user_score</th>\n",
       "      <th>user_score</th>\n",
       "      <th>user_score</th>\n",
       "      <th>user_score</th>\n",
       "    </tr>\n",
       "    <tr>\n",
       "      <th>platform</th>\n",
       "      <th></th>\n",
       "      <th></th>\n",
       "      <th></th>\n",
       "      <th></th>\n",
       "      <th></th>\n",
       "    </tr>\n",
       "  </thead>\n",
       "  <tbody>\n",
       "    <tr>\n",
       "      <th>PC</th>\n",
       "      <td>122</td>\n",
       "      <td>6.3</td>\n",
       "      <td>6.8</td>\n",
       "      <td>2.9</td>\n",
       "      <td>1.7</td>\n",
       "    </tr>\n",
       "    <tr>\n",
       "      <th>XOne</th>\n",
       "      <td>165</td>\n",
       "      <td>6.6</td>\n",
       "      <td>6.8</td>\n",
       "      <td>1.9</td>\n",
       "      <td>1.4</td>\n",
       "    </tr>\n",
       "  </tbody>\n",
       "</table>\n",
       "</div>"
      ],
      "text/plain": [
       "              count       mean     median        var        std\n",
       "         user_score user_score user_score user_score user_score\n",
       "platform                                                       \n",
       "PC              122        6.3        6.8        2.9        1.7\n",
       "XOne            165        6.6        6.8        1.9        1.4"
      ]
     },
     "execution_count": 65,
     "metadata": {},
     "output_type": "execute_result"
    }
   ],
   "source": [
    "#вывод таблицы с группировкой по заданным платформам и расчетом различных показателей\n",
    "print('Статистические показатели пользовательских оценок игр для PC и Xbox One')\n",
    "df_actual_profitable_platform.query(\"platform in ['XOne', 'PC']\")\\\n",
    "                             .pivot_table(index='platform', values='user_score',\n",
    "                                          aggfunc=['count', 'mean', 'median', np.var, np.std])\\\n",
    "                             .round(1)"
   ]
  },
  {
   "cell_type": "markdown",
   "id": "9fcac5b5",
   "metadata": {},
   "source": [
    "Из таблицы видим, что размеры выборок сопоставимы, выборочные средние и медианы одинаковы, но при этом для PC разброс данных вокруг среднего значения несколько шире: выборочные дисперсии и стандартные отклонения различаются, хотя и не очень значительно."
   ]
  },
  {
   "cell_type": "markdown",
   "id": "b4a3f342",
   "metadata": {},
   "source": [
    "Для удобства дальнейшей работы обе выборки запишем в отдельные переменные, сразу отсекая пропуски:"
   ]
  },
  {
   "cell_type": "code",
   "execution_count": 66,
   "id": "a756565e",
   "metadata": {},
   "outputs": [],
   "source": [
    "xone_user_score = (df_actual_profitable_platform\n",
    "                    .loc[(df_actual_profitable_platform['platform'] == 'XOne') &\n",
    "                    ~(df_actual_profitable_platform['user_score'].isna())]['user_score'])\n",
    "\n",
    "pc_user_score = (df_actual_profitable_platform\n",
    "                    .loc[(df_actual_profitable_platform['platform'] == 'PC') &\n",
    "                    ~(df_actual_profitable_platform['user_score'].isna())]['user_score'])"
   ]
  },
  {
   "cell_type": "markdown",
   "id": "9ab0f35b",
   "metadata": {},
   "source": [
    "Выведем распределения обеих выборок и сравним их с нормальным:"
   ]
  },
  {
   "cell_type": "code",
   "execution_count": 67,
   "id": "e1ae04bf",
   "metadata": {},
   "outputs": [
    {
     "data": {
      "image/png": "[encoded data removed]",
      "text/plain": [
       "<Figure size 720x288 with 1 Axes>"
      ]
     },
     "metadata": {
      "needs_background": "light"
     },
     "output_type": "display_data"
    }
   ],
   "source": [
    "#вывод графиков распределений с плотностью распределений\n",
    "plt.figure(figsize=(10,4))\n",
    "\n",
    "sns.distplot(xone_user_score)\n",
    "sns.distplot(pc_user_score)\n",
    "\n",
    "plt.title('Плотность распределения оценок пользователей игр для XBox One и PC')\n",
    "plt.xlabel('Оценки пользователей')\n",
    "plt.ylabel('Плотность')\n",
    "plt.legend(['XOne', 'PC'])\n",
    "\n",
    "plt.show()"
   ]
  },
  {
   "cell_type": "markdown",
   "id": "c9627c06",
   "metadata": {},
   "source": [
    "Видим, что оба распределения скошены влево и отличаются от нормального распределения. Для проверки гипотезы о равенстве среднего двух генеральных совокупностей можно применить как критерий Манна-Уитни, который хорошо работает на выборках небольших объемов и устойчив к выбросам, так T-тест Стьюдента, поскольку выбросов в выборках не наблюдается, и количество значений достаточно для корректной работы теста."
   ]
  },
  {
   "cell_type": "markdown",
   "id": "9eca4dbc",
   "metadata": {},
   "source": [
    "Сформулируем гипотезы для проверки принимая во внимание то, что нулевая гипотеза должна содержать условие равенства:\n",
    "\n",
    "**H0:** Средние пользовательские рейтинги платформ Xbox One и PC одинаковы.\n",
    "\n",
    "**H1:** Средние пользовательские рейтинги платформ Xbox One и PC отличаются."
   ]
  },
  {
   "cell_type": "markdown",
   "id": "11840206",
   "metadata": {},
   "source": [
    "Осуществим проверку гипотезы с помощью двустороннего t-теста Стьюдента для двух независимых выборок, с передачей в качестве атрибута условия о неравенстве дисперсий выборок (кроме предположений о неравенстве дисперсий, размеры выборок тоже разные):"
   ]
  },
  {
   "cell_type": "code",
   "execution_count": 68,
   "id": "dd20bd8e",
   "metadata": {},
   "outputs": [
    {
     "name": "stdout",
     "output_type": "stream",
     "text": [
      "p-значение: 0.11601398086668835\n",
      "Не получилось отвергнуть нулевую гипотезу\n"
     ]
    }
   ],
   "source": [
    "alpha=.05 # уровень статистической значимости\n",
    "\n",
    "# двусторонний ttest для независимых выборок\n",
    "results = st.ttest_ind(xone_user_score, pc_user_score, equal_var=False)\n",
    "\n",
    "print('p-значение:', results.pvalue)\n",
    "\n",
    "if results.pvalue < alpha:\n",
    "    print('Отвергаем нулевую гипотезу')\n",
    "else:\n",
    "    print('Не получилось отвергнуть нулевую гипотезу')"
   ]
  },
  {
   "cell_type": "markdown",
   "id": "731a4821",
   "metadata": {},
   "source": [
    "**Вывод**\n",
    "\n",
    "На имеющихся данных на уровне значимости 5% нет оснований отвергнуть нулевую гипотезу в пользу альтернативной. Это означает, что в среднем пользователи дают одинаковые оценки играм для Xbox One и PC."
   ]
  },
  {
   "cell_type": "markdown",
   "id": "575dbd18",
   "metadata": {},
   "source": [
    "<div class=\"alert alert-success\">\n",
    "\n",
    "**Артём:** 👍 Верно.\n",
    "\n",
    "</div>"
   ]
  },
  {
   "cell_type": "markdown",
   "id": "b5d3c333",
   "metadata": {},
   "source": [
    "### Сравнение средних пользовательских рейтингов жанров Action и Sports"
   ]
  },
  {
   "cell_type": "markdown",
   "id": "df5d709c",
   "metadata": {},
   "source": [
    "Возьмем два сравниваемых жанра из нашего рабочего датафрейма с играми для перспективных платформ в актуальном периоде с 2014 года и посмотрим, на каком объеме данных нам придется проверять гипотезу:"
   ]
  },
  {
   "cell_type": "code",
   "execution_count": 69,
   "id": "37a570f6",
   "metadata": {},
   "outputs": [
    {
     "name": "stdout",
     "output_type": "stream",
     "text": [
      "Общее кол-во игр жанров Action и Sports: 599, в том числе:\n",
      "- игры, имеющие оценку пользователей: 331\n",
      "- игры, не оцененные пользователями: 268\n"
     ]
    }
   ],
   "source": [
    "a = df_actual_profitable_platform.query(\"genre in ['Action','Sports']\")['name'].count()\n",
    "b = df_actual_profitable_platform.query(\"genre in ['Action','Sports']\")['user_score'].isna().sum()\n",
    "\n",
    "print(f\"Общее кол-во игр жанров Action и Sports: {a}, в том числе:\")\n",
    "print(f\"- игры, имеющие оценку пользователей: {a - b}\")\n",
    "print(f\"- игры, не оцененные пользователями: {b}\")"
   ]
  },
  {
   "cell_type": "markdown",
   "id": "2953da21",
   "metadata": {},
   "source": [
    "Посмотрим на статистические показатели выборок в разбивке по жанрам (при их расчете строки с пропусками будут автоматически отброшены):"
   ]
  },
  {
   "cell_type": "code",
   "execution_count": 70,
   "id": "9bb5c55a",
   "metadata": {},
   "outputs": [
    {
     "name": "stdout",
     "output_type": "stream",
     "text": [
      "Статистические показатели пользовательских оценок игр жанров Action и Sports\n"
     ]
    },
    {
     "data": {
      "text/html": [
       "<div>\n",
       "<style scoped>\n",
       "    .dataframe tbody tr th:only-of-type {\n",
       "        vertical-align: middle;\n",
       "    }\n",
       "\n",
       "    .dataframe tbody tr th {\n",
       "        vertical-align: top;\n",
       "    }\n",
       "\n",
       "    .dataframe thead tr th {\n",
       "        text-align: left;\n",
       "    }\n",
       "\n",
       "    .dataframe thead tr:last-of-type th {\n",
       "        text-align: right;\n",
       "    }\n",
       "</style>\n",
       "<table border=\"1\" class=\"dataframe\">\n",
       "  <thead>\n",
       "    <tr>\n",
       "      <th></th>\n",
       "      <th>count</th>\n",
       "      <th>mean</th>\n",
       "      <th>median</th>\n",
       "      <th>var</th>\n",
       "      <th>std</th>\n",
       "    </tr>\n",
       "    <tr>\n",
       "      <th></th>\n",
       "      <th>user_score</th>\n",
       "      <th>user_score</th>\n",
       "      <th>user_score</th>\n",
       "      <th>user_score</th>\n",
       "      <th>user_score</th>\n",
       "    </tr>\n",
       "    <tr>\n",
       "      <th>genre</th>\n",
       "      <th></th>\n",
       "      <th></th>\n",
       "      <th></th>\n",
       "      <th></th>\n",
       "      <th></th>\n",
       "    </tr>\n",
       "  </thead>\n",
       "  <tbody>\n",
       "    <tr>\n",
       "      <th>Action</th>\n",
       "      <td>245</td>\n",
       "      <td>6.8</td>\n",
       "      <td>7.1</td>\n",
       "      <td>1.8</td>\n",
       "      <td>1.4</td>\n",
       "    </tr>\n",
       "    <tr>\n",
       "      <th>Sports</th>\n",
       "      <td>86</td>\n",
       "      <td>5.6</td>\n",
       "      <td>5.9</td>\n",
       "      <td>2.6</td>\n",
       "      <td>1.6</td>\n",
       "    </tr>\n",
       "  </tbody>\n",
       "</table>\n",
       "</div>"
      ],
      "text/plain": [
       "            count       mean     median        var        std\n",
       "       user_score user_score user_score user_score user_score\n",
       "genre                                                        \n",
       "Action        245        6.8        7.1        1.8        1.4\n",
       "Sports         86        5.6        5.9        2.6        1.6"
      ]
     },
     "execution_count": 70,
     "metadata": {},
     "output_type": "execute_result"
    }
   ],
   "source": [
    "#вывод таблицы с группировкой по заданным платформам и расчетом различных показателей\n",
    "print('Статистические показатели пользовательских оценок игр жанров Action и Sports')\n",
    "df_actual_profitable_platform.query(\"genre in ['Action','Sports']\")\\\n",
    "                             .pivot_table(index='genre', values='user_score',\n",
    "                                          aggfunc=['count', 'mean', 'median', np.var, np.std])\\\n",
    "                             .round(1)"
   ]
  },
  {
   "cell_type": "markdown",
   "id": "21c6689b",
   "metadata": {},
   "source": [
    "Из таблицы видим следующее:\n",
    "* размеры выборок неодинаковы: игр жанра Action в 3 раза больше, чем игр жанра Sports;\n",
    "* выборочные средние, медианы, дисперсии и стандартные отклонения отличаются друг от друга: средние и медианные значения для игр жанра Action в этих выборках выше, но у игр жанра Sports разброс данных вокруг среднего значения несколько шире."
   ]
  },
  {
   "cell_type": "markdown",
   "id": "b91a8c59",
   "metadata": {},
   "source": [
    "Для удобства дальнейшей работы обе выборки запишем в отдельные переменные, сразу отсекая пропуски:"
   ]
  },
  {
   "cell_type": "code",
   "execution_count": 71,
   "id": "cdc6b516",
   "metadata": {},
   "outputs": [],
   "source": [
    "action_user_score = (df_actual_profitable_platform\n",
    "                        .loc[(df_actual_profitable_platform['genre'] == 'Action') &\n",
    "                         ~(df_actual_profitable_platform['user_score'].isna())]['user_score'])\n",
    "\n",
    "sports_user_score = (df_actual_profitable_platform\n",
    "                        .loc[(df_actual_profitable_platform['genre'] == 'Sports') &\n",
    "                        ~(df_actual_profitable_platform['user_score'].isna())]['user_score'])"
   ]
  },
  {
   "cell_type": "markdown",
   "id": "297ceb50",
   "metadata": {},
   "source": [
    "Выведем распределения обеих выборок и сравним их с нормальным:"
   ]
  },
  {
   "cell_type": "code",
   "execution_count": 72,
   "id": "efbadaa6",
   "metadata": {},
   "outputs": [
    {
     "data": {
      "image/png": "[encoded data removed]",
      "text/plain": [
       "<Figure size 720x288 with 1 Axes>"
      ]
     },
     "metadata": {
      "needs_background": "light"
     },
     "output_type": "display_data"
    }
   ],
   "source": [
    "#вывод графиков распределений с плотностью распределений\n",
    "plt.figure(figsize=(10,4))\n",
    "\n",
    "sns.distplot(action_user_score)\n",
    "sns.distplot(sports_user_score)\n",
    "\n",
    "plt.title('Плотность распределения оценок пользователей игр жанров Action и Sports')\n",
    "plt.xlabel('Оценки пользователей')\n",
    "plt.ylabel('Плотность')\n",
    "plt.legend(['Action', 'Sports'])\n",
    "\n",
    "plt.show()"
   ]
  },
  {
   "cell_type": "markdown",
   "id": "4624cd91",
   "metadata": {},
   "source": [
    "Видим, что оба распределения скошены влево и отличаются от нормального распределения. Для проверки гипотезы о равенстве среднего двух генеральных совокупностей можно применить как критерий Манна-Уитни, который хорошо работает на выборках небольших объемов и устойчив к выбросам, так T-тест Стьюдента, поскольку выбросов в выборках не наблюдается, и количество значений достаточно для корректной работы теста."
   ]
  },
  {
   "cell_type": "markdown",
   "id": "194024a1",
   "metadata": {},
   "source": [
    "Сформулируем гипотезы для проверки принимая во внимание то, что нулевая гипотеза должна содержать условие равенства:\n",
    "\n",
    "**H0:** Средние пользовательские рейтинги игр жанров Action и Sports одинаковы.\n",
    "\n",
    "**H1:** Средние пользовательские рейтинги игр жанров Action и Sports отличаются."
   ]
  },
  {
   "cell_type": "markdown",
   "id": "8f633c14",
   "metadata": {},
   "source": [
    "Осуществим проверку гипотезы с помощью двустороннего теста Манна-Уитни для двух независимых выборок:"
   ]
  },
  {
   "cell_type": "code",
   "execution_count": 73,
   "id": "bc14e495",
   "metadata": {},
   "outputs": [
    {
     "name": "stdout",
     "output_type": "stream",
     "text": [
      "p-значение: 8.482418970156555e-11\n",
      "Отвергаем нулевую гипотезу\n"
     ]
    }
   ],
   "source": [
    "alpha=.05 # уровень статистической значимости\n",
    "\n",
    "# двусторонний тест Манна-Уитни для независимых выборок\n",
    "results = st.mannwhitneyu(action_user_score, sports_user_score, alternative='two-sided')\n",
    "\n",
    "print('p-значение:', results.pvalue)\n",
    "\n",
    "if results.pvalue < alpha:\n",
    "    print('Отвергаем нулевую гипотезу')\n",
    "else:\n",
    "    print('Не получилось отвергнуть нулевую гипотезу')"
   ]
  },
  {
   "cell_type": "markdown",
   "id": "4ae3479f",
   "metadata": {},
   "source": [
    "**Вывод**\n",
    "\n",
    "На имеющихся данных на уровне значимости 5% есть основания отвергнуть нулевую гипотезу в пользу альтернативной. Это означает, что в среднем пользователи дают разные оценки играм жанров Action и Sports."
   ]
  },
  {
   "cell_type": "markdown",
   "id": "8cc56afc",
   "metadata": {},
   "source": [
    "### Вывод по блоку \"Проверка гипотез\""
   ]
  },
  {
   "cell_type": "markdown",
   "id": "e9557d57",
   "metadata": {},
   "source": [
    "Сформулированы и проверены две гипотезы о сравнении средних пользовательских рейтингов, сделаны следующие выводы:\n",
    "\n",
    "* средние пользовательские рейтинги платформ Xbox One и PC одинаковы;\n",
    "* средние пользовательские рейтинги игр жанров Action и Sports разные."
   ]
  },
  {
   "cell_type": "markdown",
   "id": "5d0079da",
   "metadata": {},
   "source": [
    "## Общий вывод"
   ]
  },
  {
   "cell_type": "markdown",
   "id": "caca07cd",
   "metadata": {},
   "source": [
    "Для выявления закономерностей, определяющих успешность игры, и определения принципов работы с историческими данными для решения задачи по планированию рекламных компаний интернет-магазина, продающего компьютерные игры, выполнены следующие задачи:"
   ]
  },
  {
   "cell_type": "markdown",
   "id": "c806f44e",
   "metadata": {},
   "source": [
    "По каждой компьютерной игре ознакомились с данными открытых источников:\n",
    "* наименование, жанр, платформа и год выпуcка;\n",
    "* объемы продаж копий игры по четырем различным регионам: Северная Америка, Европа, Япония и другие;\n",
    "* оценки игры критиками и пользователями, а также рейтинг от организации ESBR."
   ]
  },
  {
   "cell_type": "markdown",
   "id": "ef110c34",
   "metadata": {},
   "source": [
    "Выполнена предобработка данных:\n",
    "* изменены названия столбцов, данные преобразованы к нужным типам;\n",
    "* исследованы пропуски в данных, для отдельных пропусков предложены логичные замены;\n",
    "* данные проверены на наличие неявных и полных дубликатов;\n",
    "* внедрен новый столбец с расчетом суммарных продаж по всем регионам."
   ]
  },
  {
   "cell_type": "markdown",
   "id": "a198def0",
   "metadata": {},
   "source": [
    "Проведен исследовательский анализ данных:\n",
    "* ошибок и аномалий в числовых данных не выявлено. В датасете присутствуют как игры с очень маленькими продажами, так и супер-популярные игры, разошедшиеся по миру десятками миллионов копий;\n",
    "* изучена и описана динамика количества выпущенных игр за период с 1980 по 2016 год (подробно можно прочитать [здесь](#intro2));\n",
    "* за весь доступный период изучена динамика продаж по платформам, наибольшими тиражами разошлись игры для 6 платформ: трех моделей PlayStation (PS, PS2, PS3) от Sony, XBox 360 от Microsoft и двух платформ Wii и DS от Nintendo;\n",
    "* определен срок жизни платформы - он составляет примерно 10 лет, пик продаж приходится на пятый-шестой годы;\n",
    "* с учетом знаний о сроке жизни и \"расцвета\" платформ опереден актуальный период для дальнейшего исследования: при построении прогноза на 2017 год можно использовать данные с 2011 года;\n",
    "* отобраны 6 потенциально прибыльных в 2017 году платформ, которые находятся на момент прогноза на стадии роста, в начале стадии снижения или на плато: это платформы PS4 и PSV от Sony, 3DS и WiiU от Nintendo, XBox One от Microsoft, и PC (игры для ПК);\n",
    "* изучены статистические показатели объемов продаж игр для каждой из шести прибыльных платформ: наибольшим медианным значением обладают три из шести платформ - PS4, XOne и WiiU;\n",
    "* по играм для перспективных платформ изучена взамосвязь между объемам продаж и оценками критиков и пользователей: наблюдаем слабую прямую взаимосвязь между объемами продаж и оценками критиков, тогда как подобная взаимосвязь продаж с оценками пользователей близка к нулю;\n",
    "* исследовано распределение игр для перспективных платформ по жанрам: наиболее прибыльными являются \"шутеры\", спортивные игры и платформенные аркады."
   ]
  },
  {
   "cell_type": "markdown",
   "id": "f551c382",
   "metadata": {},
   "source": [
    "Составлен портрет пользователей каждого региона:\n",
    "* лидером продаж для американцев и европейцев являются игры для PS4 от Sony, при этом американцы также подерживают \"свою\" платформу XBox One от Microsost. Более яркое проявление национального интереса наблюдается у японцев - больше половины регионального объема продаж занимают в Японии игры для 3DS от Nintendo.\n",
    "* жанровые предпочтения американцев и европейцев также близки: наибольший интерес для пользователей представляют игры \"экшены\" и \"шутеры\", тогда как японцы в \"шутеры\" почти не играют, и японский топ-лист возглавляют ролевые игры.\n",
    "* получение игрой рейтинга американской компании ESRB не является обязательным условием для выхода игры на рынок, и этот рейтинг никак не влияет на объемы продаж."
   ]
  },
  {
   "cell_type": "markdown",
   "id": "fe72ceed",
   "metadata": {},
   "source": [
    "Проверены гипотезы и сделаны следующие выводы:\n",
    "* средние пользовательские рейтинги платформ Xbox One и PC одинаковы;\n",
    "* средние пользовательские рейтинги игр жанров Action и Sports разные."
   ]
  },
  {
   "cell_type": "markdown",
   "id": "b9b4e5d5",
   "metadata": {},
   "source": [
    "Описанные тезисы помогут компании увидеть закономерности, определяющие успех игры, и сформировать принципы построены прогнозов на будущий год для планирования бюджета рекламных мероприятий."
   ]
  },
  {
   "cell_type": "code",
   "execution_count": 74,
   "id": "42815ba4",
   "metadata": {},
   "outputs": [
    {
     "name": "stdout",
     "output_type": "stream",
     "text": [
      "Контрольная точка: 31.05.2022 21:31\n"
     ]
    }
   ],
   "source": [
    "import datetime as dt\n",
    "checkpoint = dt.datetime.now().strftime(\"%d.%m.%Y %H:%M\")\n",
    "print(f'Контрольная точка: {checkpoint}')"
   ]
  }
 ],
 "metadata": {
  "ExecuteTimeLog": [
   {
    "duration": 1135,
    "start_time": "2022-04-14T16:34:28.345Z"
   },
   {
    "duration": 32,
    "start_time": "2022-04-14T16:34:29.482Z"
   },
   {
    "duration": 17,
    "start_time": "2022-04-14T16:34:29.516Z"
   },
   {
    "duration": 15,
    "start_time": "2022-04-14T16:34:29.534Z"
   },
   {
    "duration": 3,
    "start_time": "2022-04-14T16:34:29.551Z"
   },
   {
    "duration": 8,
    "start_time": "2022-04-14T16:34:29.556Z"
   },
   {
    "duration": 14,
    "start_time": "2022-04-14T16:34:29.566Z"
   },
   {
    "duration": 7,
    "start_time": "2022-04-14T16:34:29.581Z"
   },
   {
    "duration": 37,
    "start_time": "2022-04-14T16:34:29.589Z"
   },
   {
    "duration": 7,
    "start_time": "2022-04-14T16:34:29.628Z"
   },
   {
    "duration": 13,
    "start_time": "2022-04-14T16:34:29.636Z"
   },
   {
    "duration": 12,
    "start_time": "2022-04-14T16:34:29.650Z"
   },
   {
    "duration": 12,
    "start_time": "2022-04-14T16:34:29.664Z"
   },
   {
    "duration": 14,
    "start_time": "2022-04-14T16:34:29.678Z"
   },
   {
    "duration": 752,
    "start_time": "2022-04-14T16:34:29.693Z"
   },
   {
    "duration": 159,
    "start_time": "2022-04-14T16:34:30.447Z"
   },
   {
    "duration": 7,
    "start_time": "2022-04-14T16:34:30.608Z"
   },
   {
    "duration": 24,
    "start_time": "2022-04-14T16:34:30.617Z"
   },
   {
    "duration": 26,
    "start_time": "2022-04-14T16:34:30.643Z"
   },
   {
    "duration": 13,
    "start_time": "2022-04-14T16:34:30.671Z"
   },
   {
    "duration": 12,
    "start_time": "2022-04-14T16:34:30.686Z"
   },
   {
    "duration": 20,
    "start_time": "2022-04-14T16:34:30.700Z"
   },
   {
    "duration": 35,
    "start_time": "2022-04-14T16:34:30.722Z"
   },
   {
    "duration": 46,
    "start_time": "2022-04-14T16:34:30.758Z"
   },
   {
    "duration": 19,
    "start_time": "2022-04-14T16:34:30.806Z"
   },
   {
    "duration": 25,
    "start_time": "2022-04-14T16:34:30.827Z"
   },
   {
    "duration": 6,
    "start_time": "2022-04-14T16:34:30.854Z"
   },
   {
    "duration": 22,
    "start_time": "2022-04-14T16:34:30.864Z"
   },
   {
    "duration": 19,
    "start_time": "2022-04-14T16:34:30.888Z"
   },
   {
    "duration": 23,
    "start_time": "2022-04-14T16:34:30.909Z"
   },
   {
    "duration": 18,
    "start_time": "2022-04-14T16:34:30.934Z"
   },
   {
    "duration": 16,
    "start_time": "2022-04-14T16:34:30.954Z"
   },
   {
    "duration": 16,
    "start_time": "2022-04-14T16:34:30.971Z"
   },
   {
    "duration": 5,
    "start_time": "2022-04-14T16:34:30.989Z"
   },
   {
    "duration": 33,
    "start_time": "2022-04-14T16:34:30.995Z"
   },
   {
    "duration": 4,
    "start_time": "2022-04-14T16:34:31.030Z"
   },
   {
    "duration": 10,
    "start_time": "2022-04-14T16:34:31.035Z"
   },
   {
    "duration": 7,
    "start_time": "2022-04-14T16:34:31.046Z"
   },
   {
    "duration": 421,
    "start_time": "2022-04-14T16:34:31.055Z"
   },
   {
    "duration": 15,
    "start_time": "2022-04-14T16:34:31.478Z"
   },
   {
    "duration": 31,
    "start_time": "2022-04-14T16:34:31.495Z"
   },
   {
    "duration": 5,
    "start_time": "2022-04-14T16:34:31.528Z"
   },
   {
    "duration": 258,
    "start_time": "2022-04-14T16:34:31.535Z"
   },
   {
    "duration": 43,
    "start_time": "2022-04-14T16:34:31.796Z"
   },
   {
    "duration": 15,
    "start_time": "2022-04-14T16:34:31.841Z"
   },
   {
    "duration": 267,
    "start_time": "2022-04-14T16:34:31.858Z"
   },
   {
    "duration": 1031,
    "start_time": "2022-04-14T16:34:32.127Z"
   },
   {
    "duration": 7,
    "start_time": "2022-04-14T16:34:33.160Z"
   },
   {
    "duration": 15,
    "start_time": "2022-04-14T16:34:33.169Z"
   },
   {
    "duration": 5,
    "start_time": "2022-04-14T16:34:33.185Z"
   },
   {
    "duration": 166,
    "start_time": "2022-04-14T16:34:33.192Z"
   },
   {
    "duration": 1832,
    "start_time": "2022-04-14T16:34:33.360Z"
   },
   {
    "duration": 322,
    "start_time": "2022-04-14T16:34:35.194Z"
   },
   {
    "duration": 19,
    "start_time": "2022-04-14T16:34:35.518Z"
   },
   {
    "duration": 181,
    "start_time": "2022-04-14T16:34:35.539Z"
   },
   {
    "duration": 14,
    "start_time": "2022-04-14T16:34:35.723Z"
   },
   {
    "duration": 482,
    "start_time": "2022-04-14T16:34:35.738Z"
   },
   {
    "duration": 12,
    "start_time": "2022-04-14T16:34:36.224Z"
   },
   {
    "duration": 51,
    "start_time": "2022-04-14T16:34:36.238Z"
   },
   {
    "duration": 43,
    "start_time": "2022-04-14T16:34:36.291Z"
   },
   {
    "duration": 174,
    "start_time": "2022-04-14T16:34:36.336Z"
   },
   {
    "duration": 168,
    "start_time": "2022-04-14T16:34:36.511Z"
   },
   {
    "duration": 56,
    "start_time": "2022-04-14T16:34:36.681Z"
   },
   {
    "duration": 3,
    "start_time": "2022-04-14T16:34:36.739Z"
   },
   {
    "duration": 1086,
    "start_time": "2022-04-14T16:34:36.743Z"
   },
   {
    "duration": 9,
    "start_time": "2022-04-14T16:34:37.830Z"
   },
   {
    "duration": 42,
    "start_time": "2022-04-14T16:34:37.841Z"
   },
   {
    "duration": 5,
    "start_time": "2022-04-14T16:34:37.884Z"
   },
   {
    "duration": 204,
    "start_time": "2022-04-14T16:34:37.891Z"
   },
   {
    "duration": 4,
    "start_time": "2022-04-14T16:34:38.096Z"
   },
   {
    "duration": 23,
    "start_time": "2022-04-14T16:34:38.102Z"
   },
   {
    "duration": 35,
    "start_time": "2022-04-14T16:34:38.126Z"
   },
   {
    "duration": 5,
    "start_time": "2022-04-14T16:34:38.163Z"
   },
   {
    "duration": 205,
    "start_time": "2022-04-14T16:34:38.170Z"
   },
   {
    "duration": 6,
    "start_time": "2022-04-14T16:34:38.377Z"
   },
   {
    "duration": 1107,
    "start_time": "2022-04-14T17:11:56.293Z"
   },
   {
    "duration": 32,
    "start_time": "2022-04-14T17:11:57.401Z"
   },
   {
    "duration": 16,
    "start_time": "2022-04-14T17:11:57.435Z"
   },
   {
    "duration": 12,
    "start_time": "2022-04-14T17:11:57.452Z"
   },
   {
    "duration": 3,
    "start_time": "2022-04-14T17:11:57.465Z"
   },
   {
    "duration": 6,
    "start_time": "2022-04-14T17:11:57.469Z"
   },
   {
    "duration": 11,
    "start_time": "2022-04-14T17:11:57.476Z"
   },
   {
    "duration": 10,
    "start_time": "2022-04-14T17:11:57.489Z"
   },
   {
    "duration": 12,
    "start_time": "2022-04-14T17:11:57.524Z"
   },
   {
    "duration": 6,
    "start_time": "2022-04-14T17:11:57.539Z"
   },
   {
    "duration": 14,
    "start_time": "2022-04-14T17:11:57.546Z"
   },
   {
    "duration": 14,
    "start_time": "2022-04-14T17:11:57.561Z"
   },
   {
    "duration": 14,
    "start_time": "2022-04-14T17:11:57.576Z"
   },
   {
    "duration": 39,
    "start_time": "2022-04-14T17:11:57.591Z"
   },
   {
    "duration": 755,
    "start_time": "2022-04-14T17:11:57.632Z"
   },
   {
    "duration": 155,
    "start_time": "2022-04-14T17:11:58.389Z"
   },
   {
    "duration": 7,
    "start_time": "2022-04-14T17:11:58.546Z"
   },
   {
    "duration": 25,
    "start_time": "2022-04-14T17:11:58.554Z"
   },
   {
    "duration": 12,
    "start_time": "2022-04-14T17:11:58.580Z"
   },
   {
    "duration": 6,
    "start_time": "2022-04-14T17:11:58.593Z"
   },
   {
    "duration": 5,
    "start_time": "2022-04-14T17:11:58.601Z"
   },
   {
    "duration": 19,
    "start_time": "2022-04-14T17:11:58.608Z"
   },
   {
    "duration": 7,
    "start_time": "2022-04-14T17:11:58.629Z"
   },
   {
    "duration": 21,
    "start_time": "2022-04-14T17:11:58.638Z"
   },
   {
    "duration": 18,
    "start_time": "2022-04-14T17:11:58.660Z"
   },
   {
    "duration": 45,
    "start_time": "2022-04-14T17:11:58.679Z"
   },
   {
    "duration": 6,
    "start_time": "2022-04-14T17:11:58.726Z"
   },
   {
    "duration": 4,
    "start_time": "2022-04-14T17:11:58.736Z"
   },
   {
    "duration": 5,
    "start_time": "2022-04-14T17:11:58.741Z"
   },
   {
    "duration": 14,
    "start_time": "2022-04-14T17:11:58.748Z"
   },
   {
    "duration": 5,
    "start_time": "2022-04-14T17:11:58.763Z"
   },
   {
    "duration": 7,
    "start_time": "2022-04-14T17:11:58.769Z"
   },
   {
    "duration": 47,
    "start_time": "2022-04-14T17:11:58.777Z"
   },
   {
    "duration": 6,
    "start_time": "2022-04-14T17:11:58.825Z"
   },
   {
    "duration": 15,
    "start_time": "2022-04-14T17:11:58.832Z"
   },
   {
    "duration": 4,
    "start_time": "2022-04-14T17:11:58.849Z"
   },
   {
    "duration": 9,
    "start_time": "2022-04-14T17:11:58.855Z"
   },
   {
    "duration": 8,
    "start_time": "2022-04-14T17:11:58.866Z"
   },
   {
    "duration": 486,
    "start_time": "2022-04-14T17:11:58.875Z"
   },
   {
    "duration": 14,
    "start_time": "2022-04-14T17:11:59.362Z"
   },
   {
    "duration": 16,
    "start_time": "2022-04-14T17:11:59.378Z"
   },
   {
    "duration": 4,
    "start_time": "2022-04-14T17:11:59.396Z"
   },
   {
    "duration": 280,
    "start_time": "2022-04-14T17:11:59.401Z"
   },
   {
    "duration": 30,
    "start_time": "2022-04-14T17:11:59.683Z"
   },
   {
    "duration": 22,
    "start_time": "2022-04-14T17:11:59.714Z"
   },
   {
    "duration": 255,
    "start_time": "2022-04-14T17:11:59.737Z"
   },
   {
    "duration": 1047,
    "start_time": "2022-04-14T17:11:59.994Z"
   },
   {
    "duration": 7,
    "start_time": "2022-04-14T17:12:01.043Z"
   },
   {
    "duration": 28,
    "start_time": "2022-04-14T17:12:01.052Z"
   },
   {
    "duration": 7,
    "start_time": "2022-04-14T17:12:01.082Z"
   },
   {
    "duration": 162,
    "start_time": "2022-04-14T17:12:01.091Z"
   },
   {
    "duration": 1645,
    "start_time": "2022-04-14T17:12:01.255Z"
   },
   {
    "duration": 332,
    "start_time": "2022-04-14T17:12:02.902Z"
   },
   {
    "duration": 17,
    "start_time": "2022-04-14T17:12:03.236Z"
   },
   {
    "duration": 195,
    "start_time": "2022-04-14T17:12:03.255Z"
   },
   {
    "duration": 15,
    "start_time": "2022-04-14T17:12:03.452Z"
   },
   {
    "duration": 517,
    "start_time": "2022-04-14T17:12:03.469Z"
   },
   {
    "duration": 15,
    "start_time": "2022-04-14T17:12:03.988Z"
   },
   {
    "duration": 62,
    "start_time": "2022-04-14T17:12:04.005Z"
   },
   {
    "duration": 13,
    "start_time": "2022-04-14T17:12:04.068Z"
   },
   {
    "duration": 197,
    "start_time": "2022-04-14T17:12:04.083Z"
   },
   {
    "duration": 159,
    "start_time": "2022-04-14T17:12:04.282Z"
   },
   {
    "duration": 42,
    "start_time": "2022-04-14T17:12:04.442Z"
   },
   {
    "duration": 4,
    "start_time": "2022-04-14T17:12:04.485Z"
   },
   {
    "duration": 1144,
    "start_time": "2022-04-14T17:12:04.490Z"
   },
   {
    "duration": 10,
    "start_time": "2022-04-14T17:12:05.636Z"
   },
   {
    "duration": 46,
    "start_time": "2022-04-14T17:12:05.647Z"
   },
   {
    "duration": 6,
    "start_time": "2022-04-14T17:12:05.694Z"
   },
   {
    "duration": 208,
    "start_time": "2022-04-14T17:12:05.701Z"
   },
   {
    "duration": 4,
    "start_time": "2022-04-14T17:12:05.910Z"
   },
   {
    "duration": 8,
    "start_time": "2022-04-14T17:12:05.924Z"
   },
   {
    "duration": 33,
    "start_time": "2022-04-14T17:12:05.934Z"
   },
   {
    "duration": 5,
    "start_time": "2022-04-14T17:12:05.968Z"
   },
   {
    "duration": 212,
    "start_time": "2022-04-14T17:12:05.975Z"
   },
   {
    "duration": 5,
    "start_time": "2022-04-14T17:12:06.189Z"
   },
   {
    "duration": 6,
    "start_time": "2022-04-14T17:12:06.195Z"
   },
   {
    "duration": 45,
    "start_time": "2022-04-14T18:42:47.080Z"
   },
   {
    "duration": 1336,
    "start_time": "2022-04-14T18:42:58.444Z"
   },
   {
    "duration": 45,
    "start_time": "2022-04-14T18:42:59.783Z"
   },
   {
    "duration": 21,
    "start_time": "2022-04-14T18:42:59.830Z"
   },
   {
    "duration": 16,
    "start_time": "2022-04-14T18:42:59.853Z"
   },
   {
    "duration": 5,
    "start_time": "2022-04-14T18:42:59.871Z"
   },
   {
    "duration": 5,
    "start_time": "2022-04-14T18:42:59.878Z"
   },
   {
    "duration": 13,
    "start_time": "2022-04-14T18:42:59.885Z"
   },
   {
    "duration": 9,
    "start_time": "2022-04-14T18:42:59.900Z"
   },
   {
    "duration": 49,
    "start_time": "2022-04-14T18:42:59.911Z"
   },
   {
    "duration": 7,
    "start_time": "2022-04-14T18:42:59.962Z"
   },
   {
    "duration": 13,
    "start_time": "2022-04-14T18:42:59.970Z"
   },
   {
    "duration": 20,
    "start_time": "2022-04-14T18:42:59.985Z"
   },
   {
    "duration": 42,
    "start_time": "2022-04-14T18:43:00.007Z"
   },
   {
    "duration": 15,
    "start_time": "2022-04-14T18:43:00.052Z"
   },
   {
    "duration": 791,
    "start_time": "2022-04-14T18:43:00.069Z"
   },
   {
    "duration": 260,
    "start_time": "2022-04-14T18:43:00.862Z"
   },
   {
    "duration": 8,
    "start_time": "2022-04-14T18:43:01.124Z"
   },
   {
    "duration": 30,
    "start_time": "2022-04-14T18:43:01.134Z"
   },
   {
    "duration": 10,
    "start_time": "2022-04-14T18:43:01.166Z"
   },
   {
    "duration": 7,
    "start_time": "2022-04-14T18:43:01.178Z"
   },
   {
    "duration": 5,
    "start_time": "2022-04-14T18:43:01.187Z"
   },
   {
    "duration": 13,
    "start_time": "2022-04-14T18:43:01.193Z"
   },
   {
    "duration": 8,
    "start_time": "2022-04-14T18:43:01.208Z"
   },
   {
    "duration": 48,
    "start_time": "2022-04-14T18:43:01.218Z"
   },
   {
    "duration": 20,
    "start_time": "2022-04-14T18:43:01.268Z"
   },
   {
    "duration": 17,
    "start_time": "2022-04-14T18:43:01.289Z"
   },
   {
    "duration": 8,
    "start_time": "2022-04-14T18:43:01.308Z"
   },
   {
    "duration": 5,
    "start_time": "2022-04-14T18:43:01.348Z"
   },
   {
    "duration": 8,
    "start_time": "2022-04-14T18:43:01.355Z"
   },
   {
    "duration": 15,
    "start_time": "2022-04-14T18:43:01.365Z"
   },
   {
    "duration": 6,
    "start_time": "2022-04-14T18:43:01.382Z"
   },
   {
    "duration": 8,
    "start_time": "2022-04-14T18:43:01.390Z"
   },
   {
    "duration": 50,
    "start_time": "2022-04-14T18:43:01.400Z"
   },
   {
    "duration": 6,
    "start_time": "2022-04-14T18:43:01.452Z"
   },
   {
    "duration": 17,
    "start_time": "2022-04-14T18:43:01.460Z"
   },
   {
    "duration": 6,
    "start_time": "2022-04-14T18:43:01.479Z"
   },
   {
    "duration": 8,
    "start_time": "2022-04-14T18:43:01.486Z"
   },
   {
    "duration": 11,
    "start_time": "2022-04-14T18:43:01.496Z"
   },
   {
    "duration": 536,
    "start_time": "2022-04-14T18:43:01.509Z"
   },
   {
    "duration": 15,
    "start_time": "2022-04-14T18:43:02.046Z"
   },
   {
    "duration": 20,
    "start_time": "2022-04-14T18:43:02.065Z"
   },
   {
    "duration": 4,
    "start_time": "2022-04-14T18:43:02.087Z"
   },
   {
    "duration": 281,
    "start_time": "2022-04-14T18:43:02.093Z"
   },
   {
    "duration": 31,
    "start_time": "2022-04-14T18:43:02.376Z"
   },
   {
    "duration": 16,
    "start_time": "2022-04-14T18:43:02.408Z"
   },
   {
    "duration": 260,
    "start_time": "2022-04-14T18:43:02.448Z"
   },
   {
    "duration": 1060,
    "start_time": "2022-04-14T18:43:02.710Z"
   },
   {
    "duration": 7,
    "start_time": "2022-04-14T18:43:03.771Z"
   },
   {
    "duration": 20,
    "start_time": "2022-04-14T18:43:03.780Z"
   },
   {
    "duration": 5,
    "start_time": "2022-04-14T18:43:03.801Z"
   },
   {
    "duration": 167,
    "start_time": "2022-04-14T18:43:03.807Z"
   },
   {
    "duration": 1592,
    "start_time": "2022-04-14T18:43:03.976Z"
   },
   {
    "duration": 337,
    "start_time": "2022-04-14T18:43:05.570Z"
   },
   {
    "duration": 15,
    "start_time": "2022-04-14T18:43:05.909Z"
   },
   {
    "duration": 202,
    "start_time": "2022-04-14T18:43:05.926Z"
   },
   {
    "duration": 24,
    "start_time": "2022-04-14T18:43:06.129Z"
   },
   {
    "duration": 499,
    "start_time": "2022-04-14T18:43:06.155Z"
   },
   {
    "duration": 12,
    "start_time": "2022-04-14T18:43:06.656Z"
   },
   {
    "duration": 48,
    "start_time": "2022-04-14T18:43:06.670Z"
   },
   {
    "duration": 37,
    "start_time": "2022-04-14T18:43:06.720Z"
   },
   {
    "duration": 176,
    "start_time": "2022-04-14T18:43:06.759Z"
   },
   {
    "duration": 188,
    "start_time": "2022-04-14T18:43:06.937Z"
   },
   {
    "duration": 58,
    "start_time": "2022-04-14T18:43:07.128Z"
   },
   {
    "duration": 3,
    "start_time": "2022-04-14T18:43:07.188Z"
   },
   {
    "duration": 1250,
    "start_time": "2022-04-14T18:43:07.192Z"
   },
   {
    "duration": 11,
    "start_time": "2022-04-14T18:43:08.446Z"
   },
   {
    "duration": 39,
    "start_time": "2022-04-14T18:43:08.459Z"
   },
   {
    "duration": 6,
    "start_time": "2022-04-14T18:43:08.499Z"
   },
   {
    "duration": 251,
    "start_time": "2022-04-14T18:43:08.507Z"
   },
   {
    "duration": 5,
    "start_time": "2022-04-14T18:43:08.760Z"
   },
   {
    "duration": 17,
    "start_time": "2022-04-14T18:43:08.766Z"
   },
   {
    "duration": 48,
    "start_time": "2022-04-14T18:43:08.785Z"
   },
   {
    "duration": 6,
    "start_time": "2022-04-14T18:43:08.847Z"
   },
   {
    "duration": 292,
    "start_time": "2022-04-14T18:43:08.855Z"
   },
   {
    "duration": 7,
    "start_time": "2022-04-14T18:43:09.149Z"
   },
   {
    "duration": 7,
    "start_time": "2022-04-14T18:43:09.158Z"
   },
   {
    "duration": 6,
    "start_time": "2022-04-14T18:47:37.324Z"
   },
   {
    "duration": 21,
    "start_time": "2022-04-14T18:47:49.401Z"
   },
   {
    "duration": 19,
    "start_time": "2022-04-14T18:48:48.214Z"
   },
   {
    "duration": 15,
    "start_time": "2022-04-14T18:49:03.782Z"
   },
   {
    "duration": 4,
    "start_time": "2022-04-14T18:50:15.078Z"
   },
   {
    "duration": 149,
    "start_time": "2022-04-14T18:50:37.664Z"
   },
   {
    "duration": 158,
    "start_time": "2022-04-14T18:51:21.360Z"
   },
   {
    "duration": 1630,
    "start_time": "2022-04-14T18:53:50.202Z"
   },
   {
    "duration": 1736,
    "start_time": "2022-04-14T18:53:57.814Z"
   },
   {
    "duration": 317,
    "start_time": "2022-04-14T18:56:08.878Z"
   },
   {
    "duration": 205,
    "start_time": "2022-04-14T18:59:18.761Z"
   },
   {
    "duration": 15,
    "start_time": "2022-04-14T19:00:03.598Z"
   },
   {
    "duration": 16,
    "start_time": "2022-04-14T19:00:28.028Z"
   },
   {
    "duration": 1166,
    "start_time": "2022-04-14T19:00:47.054Z"
   },
   {
    "duration": 34,
    "start_time": "2022-04-14T19:00:48.222Z"
   },
   {
    "duration": 17,
    "start_time": "2022-04-14T19:00:48.258Z"
   },
   {
    "duration": 14,
    "start_time": "2022-04-14T19:00:48.276Z"
   },
   {
    "duration": 5,
    "start_time": "2022-04-14T19:00:48.291Z"
   },
   {
    "duration": 7,
    "start_time": "2022-04-14T19:00:48.297Z"
   },
   {
    "duration": 11,
    "start_time": "2022-04-14T19:00:48.305Z"
   },
   {
    "duration": 33,
    "start_time": "2022-04-14T19:00:48.318Z"
   },
   {
    "duration": 12,
    "start_time": "2022-04-14T19:00:48.353Z"
   },
   {
    "duration": 26,
    "start_time": "2022-04-14T19:00:48.366Z"
   },
   {
    "duration": 13,
    "start_time": "2022-04-14T19:00:48.394Z"
   },
   {
    "duration": 16,
    "start_time": "2022-04-14T19:00:48.409Z"
   },
   {
    "duration": 33,
    "start_time": "2022-04-14T19:00:48.426Z"
   },
   {
    "duration": 13,
    "start_time": "2022-04-14T19:00:48.463Z"
   },
   {
    "duration": 815,
    "start_time": "2022-04-14T19:00:48.478Z"
   },
   {
    "duration": 173,
    "start_time": "2022-04-14T19:00:49.295Z"
   },
   {
    "duration": 7,
    "start_time": "2022-04-14T19:00:49.470Z"
   },
   {
    "duration": 16,
    "start_time": "2022-04-14T19:00:49.478Z"
   },
   {
    "duration": 9,
    "start_time": "2022-04-14T19:00:49.495Z"
   },
   {
    "duration": 5,
    "start_time": "2022-04-14T19:00:49.506Z"
   },
   {
    "duration": 6,
    "start_time": "2022-04-14T19:00:49.512Z"
   },
   {
    "duration": 34,
    "start_time": "2022-04-14T19:00:49.520Z"
   },
   {
    "duration": 12,
    "start_time": "2022-04-14T19:00:49.556Z"
   },
   {
    "duration": 24,
    "start_time": "2022-04-14T19:00:49.569Z"
   },
   {
    "duration": 18,
    "start_time": "2022-04-14T19:00:49.594Z"
   },
   {
    "duration": 43,
    "start_time": "2022-04-14T19:00:49.613Z"
   },
   {
    "duration": 9,
    "start_time": "2022-04-14T19:00:49.658Z"
   },
   {
    "duration": 4,
    "start_time": "2022-04-14T19:00:49.668Z"
   },
   {
    "duration": 5,
    "start_time": "2022-04-14T19:00:49.674Z"
   },
   {
    "duration": 14,
    "start_time": "2022-04-14T19:00:49.681Z"
   },
   {
    "duration": 5,
    "start_time": "2022-04-14T19:00:49.697Z"
   },
   {
    "duration": 9,
    "start_time": "2022-04-14T19:00:49.703Z"
   },
   {
    "duration": 56,
    "start_time": "2022-04-14T19:00:49.714Z"
   },
   {
    "duration": 5,
    "start_time": "2022-04-14T19:00:49.772Z"
   },
   {
    "duration": 16,
    "start_time": "2022-04-14T19:00:49.778Z"
   },
   {
    "duration": 5,
    "start_time": "2022-04-14T19:00:49.795Z"
   },
   {
    "duration": 8,
    "start_time": "2022-04-14T19:00:49.802Z"
   },
   {
    "duration": 43,
    "start_time": "2022-04-14T19:00:49.811Z"
   },
   {
    "duration": 465,
    "start_time": "2022-04-14T19:00:49.856Z"
   },
   {
    "duration": 26,
    "start_time": "2022-04-14T19:00:50.323Z"
   },
   {
    "duration": 20,
    "start_time": "2022-04-14T19:00:50.355Z"
   },
   {
    "duration": 4,
    "start_time": "2022-04-14T19:00:50.376Z"
   },
   {
    "duration": 288,
    "start_time": "2022-04-14T19:00:50.382Z"
   },
   {
    "duration": 31,
    "start_time": "2022-04-14T19:00:50.673Z"
   },
   {
    "duration": 14,
    "start_time": "2022-04-14T19:00:50.706Z"
   },
   {
    "duration": 292,
    "start_time": "2022-04-14T19:00:50.722Z"
   },
   {
    "duration": 1070,
    "start_time": "2022-04-14T19:00:51.015Z"
   },
   {
    "duration": 6,
    "start_time": "2022-04-14T19:00:52.087Z"
   },
   {
    "duration": 19,
    "start_time": "2022-04-14T19:00:52.095Z"
   },
   {
    "duration": 4,
    "start_time": "2022-04-14T19:00:52.115Z"
   },
   {
    "duration": 176,
    "start_time": "2022-04-14T19:00:52.120Z"
   },
   {
    "duration": 1583,
    "start_time": "2022-04-14T19:00:52.297Z"
   },
   {
    "duration": 16,
    "start_time": "2022-04-14T19:00:53.882Z"
   },
   {
    "duration": 201,
    "start_time": "2022-04-14T19:00:53.899Z"
   },
   {
    "duration": 14,
    "start_time": "2022-04-14T19:00:54.102Z"
   },
   {
    "duration": 392,
    "start_time": "2022-04-14T19:00:54.117Z"
   },
   {
    "duration": 13,
    "start_time": "2022-04-14T19:00:54.511Z"
   },
   {
    "duration": 71,
    "start_time": "2022-04-14T19:00:54.526Z"
   },
   {
    "duration": 12,
    "start_time": "2022-04-14T19:00:54.599Z"
   },
   {
    "duration": 196,
    "start_time": "2022-04-14T19:00:54.612Z"
   },
   {
    "duration": 183,
    "start_time": "2022-04-14T19:00:54.809Z"
   },
   {
    "duration": 167,
    "start_time": "2022-04-14T19:00:54.993Z"
   },
   {
    "duration": 4,
    "start_time": "2022-04-14T19:00:55.162Z"
   },
   {
    "duration": 1266,
    "start_time": "2022-04-14T19:00:55.167Z"
   },
   {
    "duration": 16,
    "start_time": "2022-04-14T19:00:56.434Z"
   },
   {
    "duration": 41,
    "start_time": "2022-04-14T19:00:56.452Z"
   },
   {
    "duration": 6,
    "start_time": "2022-04-14T19:00:56.494Z"
   },
   {
    "duration": 209,
    "start_time": "2022-04-14T19:00:56.501Z"
   },
   {
    "duration": 4,
    "start_time": "2022-04-14T19:00:56.712Z"
   },
   {
    "duration": 9,
    "start_time": "2022-04-14T19:00:56.718Z"
   },
   {
    "duration": 39,
    "start_time": "2022-04-14T19:00:56.747Z"
   },
   {
    "duration": 6,
    "start_time": "2022-04-14T19:00:56.788Z"
   },
   {
    "duration": 205,
    "start_time": "2022-04-14T19:00:56.795Z"
   },
   {
    "duration": 6,
    "start_time": "2022-04-14T19:00:57.001Z"
   },
   {
    "duration": 4,
    "start_time": "2022-04-14T19:00:57.009Z"
   },
   {
    "duration": 14,
    "start_time": "2022-04-14T19:04:51.802Z"
   },
   {
    "duration": 445,
    "start_time": "2022-04-14T19:05:15.286Z"
   },
   {
    "duration": 42,
    "start_time": "2022-04-14T19:07:48.927Z"
   },
   {
    "duration": 8,
    "start_time": "2022-04-14T19:11:34.987Z"
   },
   {
    "duration": 7,
    "start_time": "2022-04-14T19:12:04.677Z"
   },
   {
    "duration": 184,
    "start_time": "2022-04-14T19:12:08.374Z"
   },
   {
    "duration": 5,
    "start_time": "2022-04-14T19:12:23.603Z"
   },
   {
    "duration": 10,
    "start_time": "2022-04-14T19:13:11.941Z"
   },
   {
    "duration": 36,
    "start_time": "2022-04-14T19:13:18.941Z"
   },
   {
    "duration": 6,
    "start_time": "2022-04-14T19:16:24.874Z"
   },
   {
    "duration": 186,
    "start_time": "2022-04-14T19:16:28.515Z"
   },
   {
    "duration": 6,
    "start_time": "2022-04-14T19:16:32.283Z"
   },
   {
    "duration": 1139,
    "start_time": "2022-04-14T19:26:31.343Z"
   },
   {
    "duration": 36,
    "start_time": "2022-04-14T19:26:32.484Z"
   },
   {
    "duration": 17,
    "start_time": "2022-04-14T19:26:32.521Z"
   },
   {
    "duration": 13,
    "start_time": "2022-04-14T19:26:32.548Z"
   },
   {
    "duration": 8,
    "start_time": "2022-04-14T19:26:32.563Z"
   },
   {
    "duration": 16,
    "start_time": "2022-04-14T19:26:32.573Z"
   },
   {
    "duration": 14,
    "start_time": "2022-04-14T19:26:32.590Z"
   },
   {
    "duration": 8,
    "start_time": "2022-04-14T19:26:32.605Z"
   },
   {
    "duration": 15,
    "start_time": "2022-04-14T19:26:32.615Z"
   },
   {
    "duration": 7,
    "start_time": "2022-04-14T19:26:32.647Z"
   },
   {
    "duration": 14,
    "start_time": "2022-04-14T19:26:32.655Z"
   },
   {
    "duration": 13,
    "start_time": "2022-04-14T19:26:32.670Z"
   },
   {
    "duration": 14,
    "start_time": "2022-04-14T19:26:32.685Z"
   },
   {
    "duration": 14,
    "start_time": "2022-04-14T19:26:32.700Z"
   },
   {
    "duration": 745,
    "start_time": "2022-04-14T19:26:32.715Z"
   },
   {
    "duration": 154,
    "start_time": "2022-04-14T19:26:33.462Z"
   },
   {
    "duration": 7,
    "start_time": "2022-04-14T19:26:33.617Z"
   },
   {
    "duration": 25,
    "start_time": "2022-04-14T19:26:33.625Z"
   },
   {
    "duration": 9,
    "start_time": "2022-04-14T19:26:33.652Z"
   },
   {
    "duration": 6,
    "start_time": "2022-04-14T19:26:33.663Z"
   },
   {
    "duration": 5,
    "start_time": "2022-04-14T19:26:33.671Z"
   },
   {
    "duration": 16,
    "start_time": "2022-04-14T19:26:33.677Z"
   },
   {
    "duration": 9,
    "start_time": "2022-04-14T19:26:33.695Z"
   },
   {
    "duration": 53,
    "start_time": "2022-04-14T19:26:33.706Z"
   },
   {
    "duration": 17,
    "start_time": "2022-04-14T19:26:33.761Z"
   },
   {
    "duration": 14,
    "start_time": "2022-04-14T19:26:33.779Z"
   },
   {
    "duration": 6,
    "start_time": "2022-04-14T19:26:33.794Z"
   },
   {
    "duration": 4,
    "start_time": "2022-04-14T19:26:33.803Z"
   },
   {
    "duration": 6,
    "start_time": "2022-04-14T19:26:33.809Z"
   },
   {
    "duration": 38,
    "start_time": "2022-04-14T19:26:33.816Z"
   },
   {
    "duration": 5,
    "start_time": "2022-04-14T19:26:33.856Z"
   },
   {
    "duration": 8,
    "start_time": "2022-04-14T19:26:33.863Z"
   },
   {
    "duration": 14,
    "start_time": "2022-04-14T19:26:33.873Z"
   },
   {
    "duration": 4,
    "start_time": "2022-04-14T19:26:33.889Z"
   },
   {
    "duration": 16,
    "start_time": "2022-04-14T19:26:33.895Z"
   },
   {
    "duration": 38,
    "start_time": "2022-04-14T19:26:33.912Z"
   },
   {
    "duration": 9,
    "start_time": "2022-04-14T19:26:33.951Z"
   },
   {
    "duration": 8,
    "start_time": "2022-04-14T19:26:33.961Z"
   },
   {
    "duration": 428,
    "start_time": "2022-04-14T19:26:33.970Z"
   },
   {
    "duration": 14,
    "start_time": "2022-04-14T19:26:34.400Z"
   },
   {
    "duration": 18,
    "start_time": "2022-04-14T19:26:34.416Z"
   },
   {
    "duration": 5,
    "start_time": "2022-04-14T19:26:34.447Z"
   },
   {
    "duration": 270,
    "start_time": "2022-04-14T19:26:34.453Z"
   },
   {
    "duration": 37,
    "start_time": "2022-04-14T19:26:34.725Z"
   },
   {
    "duration": 14,
    "start_time": "2022-04-14T19:26:34.764Z"
   },
   {
    "duration": 253,
    "start_time": "2022-04-14T19:26:34.779Z"
   },
   {
    "duration": 1035,
    "start_time": "2022-04-14T19:26:35.034Z"
   },
   {
    "duration": 7,
    "start_time": "2022-04-14T19:26:36.070Z"
   },
   {
    "duration": 16,
    "start_time": "2022-04-14T19:26:36.079Z"
   },
   {
    "duration": 5,
    "start_time": "2022-04-14T19:26:36.096Z"
   },
   {
    "duration": 174,
    "start_time": "2022-04-14T19:26:36.103Z"
   },
   {
    "duration": 1333,
    "start_time": "2022-04-14T19:26:36.279Z"
   },
   {
    "duration": 17,
    "start_time": "2022-04-14T19:26:37.614Z"
   },
   {
    "duration": 187,
    "start_time": "2022-04-14T19:26:37.633Z"
   },
   {
    "duration": 25,
    "start_time": "2022-04-14T19:26:37.822Z"
   },
   {
    "duration": 364,
    "start_time": "2022-04-14T19:26:37.849Z"
   },
   {
    "duration": 13,
    "start_time": "2022-04-14T19:26:38.215Z"
   },
   {
    "duration": 56,
    "start_time": "2022-04-14T19:26:38.230Z"
   },
   {
    "duration": 12,
    "start_time": "2022-04-14T19:26:38.288Z"
   },
   {
    "duration": 453,
    "start_time": "2022-04-14T19:26:38.301Z"
   },
   {
    "duration": 156,
    "start_time": "2022-04-14T19:26:38.755Z"
   },
   {
    "duration": 3,
    "start_time": "2022-04-14T19:26:38.912Z"
   },
   {
    "duration": 1113,
    "start_time": "2022-04-14T19:26:38.917Z"
   },
   {
    "duration": 18,
    "start_time": "2022-04-14T19:26:40.032Z"
   },
   {
    "duration": 38,
    "start_time": "2022-04-14T19:26:40.052Z"
   },
   {
    "duration": 6,
    "start_time": "2022-04-14T19:26:40.092Z"
   },
   {
    "duration": 212,
    "start_time": "2022-04-14T19:26:40.099Z"
   },
   {
    "duration": 4,
    "start_time": "2022-04-14T19:26:40.313Z"
   },
   {
    "duration": 10,
    "start_time": "2022-04-14T19:26:40.319Z"
   },
   {
    "duration": 54,
    "start_time": "2022-04-14T19:26:40.331Z"
   },
   {
    "duration": 6,
    "start_time": "2022-04-14T19:26:40.386Z"
   },
   {
    "duration": 198,
    "start_time": "2022-04-14T19:26:40.394Z"
   },
   {
    "duration": 7,
    "start_time": "2022-04-14T19:26:40.593Z"
   },
   {
    "duration": 7,
    "start_time": "2022-04-14T19:26:40.602Z"
   },
   {
    "duration": 1788,
    "start_time": "2022-04-15T17:01:13.931Z"
   },
   {
    "duration": 66,
    "start_time": "2022-04-15T17:01:15.722Z"
   },
   {
    "duration": 28,
    "start_time": "2022-04-15T17:01:15.790Z"
   },
   {
    "duration": 21,
    "start_time": "2022-04-15T17:01:15.821Z"
   },
   {
    "duration": 5,
    "start_time": "2022-04-15T17:01:15.845Z"
   },
   {
    "duration": 13,
    "start_time": "2022-04-15T17:01:15.852Z"
   },
   {
    "duration": 43,
    "start_time": "2022-04-15T17:01:15.867Z"
   },
   {
    "duration": 14,
    "start_time": "2022-04-15T17:01:15.913Z"
   },
   {
    "duration": 21,
    "start_time": "2022-04-15T17:01:15.929Z"
   },
   {
    "duration": 12,
    "start_time": "2022-04-15T17:01:15.992Z"
   },
   {
    "duration": 23,
    "start_time": "2022-04-15T17:01:16.006Z"
   },
   {
    "duration": 60,
    "start_time": "2022-04-15T17:01:16.032Z"
   },
   {
    "duration": 22,
    "start_time": "2022-04-15T17:01:16.095Z"
   },
   {
    "duration": 23,
    "start_time": "2022-04-15T17:01:16.119Z"
   },
   {
    "duration": 1572,
    "start_time": "2022-04-15T17:01:16.144Z"
   },
   {
    "duration": 280,
    "start_time": "2022-04-15T17:01:17.719Z"
   },
   {
    "duration": 11,
    "start_time": "2022-04-15T17:01:18.002Z"
   },
   {
    "duration": 30,
    "start_time": "2022-04-15T17:01:18.016Z"
   },
   {
    "duration": 15,
    "start_time": "2022-04-15T17:01:18.049Z"
   },
   {
    "duration": 34,
    "start_time": "2022-04-15T17:01:18.067Z"
   },
   {
    "duration": 11,
    "start_time": "2022-04-15T17:01:18.104Z"
   },
   {
    "duration": 27,
    "start_time": "2022-04-15T17:01:18.117Z"
   },
   {
    "duration": 14,
    "start_time": "2022-04-15T17:01:18.146Z"
   },
   {
    "duration": 55,
    "start_time": "2022-04-15T17:01:18.162Z"
   },
   {
    "duration": 29,
    "start_time": "2022-04-15T17:01:18.219Z"
   },
   {
    "duration": 44,
    "start_time": "2022-04-15T17:01:18.250Z"
   },
   {
    "duration": 9,
    "start_time": "2022-04-15T17:01:18.296Z"
   },
   {
    "duration": 14,
    "start_time": "2022-04-15T17:01:18.311Z"
   },
   {
    "duration": 14,
    "start_time": "2022-04-15T17:01:18.327Z"
   },
   {
    "duration": 24,
    "start_time": "2022-04-15T17:01:18.343Z"
   },
   {
    "duration": 27,
    "start_time": "2022-04-15T17:01:18.370Z"
   },
   {
    "duration": 19,
    "start_time": "2022-04-15T17:01:18.400Z"
   },
   {
    "duration": 29,
    "start_time": "2022-04-15T17:01:18.421Z"
   },
   {
    "duration": 7,
    "start_time": "2022-04-15T17:01:18.452Z"
   },
   {
    "duration": 49,
    "start_time": "2022-04-15T17:01:18.462Z"
   },
   {
    "duration": 8,
    "start_time": "2022-04-15T17:01:18.514Z"
   },
   {
    "duration": 16,
    "start_time": "2022-04-15T17:01:18.524Z"
   },
   {
    "duration": 13,
    "start_time": "2022-04-15T17:01:18.542Z"
   },
   {
    "duration": 787,
    "start_time": "2022-04-15T17:01:18.557Z"
   },
   {
    "duration": 23,
    "start_time": "2022-04-15T17:01:19.346Z"
   },
   {
    "duration": 50,
    "start_time": "2022-04-15T17:01:19.371Z"
   },
   {
    "duration": 6,
    "start_time": "2022-04-15T17:01:19.423Z"
   },
   {
    "duration": 457,
    "start_time": "2022-04-15T17:01:19.431Z"
   },
   {
    "duration": 47,
    "start_time": "2022-04-15T17:01:19.893Z"
   },
   {
    "duration": 22,
    "start_time": "2022-04-15T17:01:19.942Z"
   },
   {
    "duration": 466,
    "start_time": "2022-04-15T17:01:19.966Z"
   },
   {
    "duration": 1740,
    "start_time": "2022-04-15T17:01:20.434Z"
   },
   {
    "duration": 21,
    "start_time": "2022-04-15T17:01:22.177Z"
   },
   {
    "duration": 25,
    "start_time": "2022-04-15T17:01:22.201Z"
   },
   {
    "duration": 8,
    "start_time": "2022-04-15T17:01:22.228Z"
   },
   {
    "duration": 308,
    "start_time": "2022-04-15T17:01:22.239Z"
   },
   {
    "duration": 3063,
    "start_time": "2022-04-15T17:01:22.550Z"
   },
   {
    "duration": 27,
    "start_time": "2022-04-15T17:01:25.616Z"
   },
   {
    "duration": 369,
    "start_time": "2022-04-15T17:01:25.645Z"
   },
   {
    "duration": 26,
    "start_time": "2022-04-15T17:01:26.017Z"
   },
   {
    "duration": 748,
    "start_time": "2022-04-15T17:01:26.045Z"
   },
   {
    "duration": 26,
    "start_time": "2022-04-15T17:01:26.796Z"
   },
   {
    "duration": 130,
    "start_time": "2022-04-15T17:01:26.824Z"
   },
   {
    "duration": 54,
    "start_time": "2022-04-15T17:01:26.956Z"
   },
   {
    "duration": 795,
    "start_time": "2022-04-15T17:01:27.013Z"
   },
   {
    "duration": 203,
    "start_time": "2022-04-15T17:01:27.810Z"
   },
   {
    "duration": 5,
    "start_time": "2022-04-15T17:01:28.015Z"
   },
   {
    "duration": 1898,
    "start_time": "2022-04-15T17:01:28.022Z"
   },
   {
    "duration": 12,
    "start_time": "2022-04-15T17:01:29.922Z"
   },
   {
    "duration": 81,
    "start_time": "2022-04-15T17:01:29.937Z"
   },
   {
    "duration": 10,
    "start_time": "2022-04-15T17:01:30.021Z"
   },
   {
    "duration": 349,
    "start_time": "2022-04-15T17:01:30.034Z"
   },
   {
    "duration": 8,
    "start_time": "2022-04-15T17:01:30.394Z"
   },
   {
    "duration": 43,
    "start_time": "2022-04-15T17:01:30.404Z"
   },
   {
    "duration": 71,
    "start_time": "2022-04-15T17:01:30.449Z"
   },
   {
    "duration": 9,
    "start_time": "2022-04-15T17:01:30.522Z"
   },
   {
    "duration": 348,
    "start_time": "2022-04-15T17:01:30.533Z"
   },
   {
    "duration": 13,
    "start_time": "2022-04-15T17:01:30.884Z"
   },
   {
    "duration": 23,
    "start_time": "2022-04-15T17:01:30.900Z"
   },
   {
    "duration": 2506,
    "start_time": "2022-04-15T17:07:23.605Z"
   },
   {
    "duration": 3112,
    "start_time": "2022-04-15T17:07:49.242Z"
   },
   {
    "duration": 3086,
    "start_time": "2022-04-15T17:08:24.350Z"
   },
   {
    "duration": 214,
    "start_time": "2022-04-15T17:16:26.970Z"
   },
   {
    "duration": 1723,
    "start_time": "2022-04-15T17:50:43.924Z"
   },
   {
    "duration": 77,
    "start_time": "2022-04-15T17:50:45.652Z"
   },
   {
    "duration": 28,
    "start_time": "2022-04-15T17:50:45.731Z"
   },
   {
    "duration": 38,
    "start_time": "2022-04-15T17:50:45.762Z"
   },
   {
    "duration": 19,
    "start_time": "2022-04-15T17:50:45.804Z"
   },
   {
    "duration": 8,
    "start_time": "2022-04-15T17:50:45.825Z"
   },
   {
    "duration": 22,
    "start_time": "2022-04-15T17:50:45.835Z"
   },
   {
    "duration": 51,
    "start_time": "2022-04-15T17:50:45.860Z"
   },
   {
    "duration": 22,
    "start_time": "2022-04-15T17:50:45.914Z"
   },
   {
    "duration": 11,
    "start_time": "2022-04-15T17:50:45.941Z"
   },
   {
    "duration": 64,
    "start_time": "2022-04-15T17:50:45.955Z"
   },
   {
    "duration": 24,
    "start_time": "2022-04-15T17:50:46.021Z"
   },
   {
    "duration": 47,
    "start_time": "2022-04-15T17:50:46.047Z"
   },
   {
    "duration": 26,
    "start_time": "2022-04-15T17:50:46.104Z"
   },
   {
    "duration": 1790,
    "start_time": "2022-04-15T17:50:46.132Z"
   },
   {
    "duration": 307,
    "start_time": "2022-04-15T17:50:47.925Z"
   },
   {
    "duration": 11,
    "start_time": "2022-04-15T17:50:48.234Z"
   },
   {
    "duration": 27,
    "start_time": "2022-04-15T17:50:48.247Z"
   },
   {
    "duration": 12,
    "start_time": "2022-04-15T17:50:48.293Z"
   },
   {
    "duration": 10,
    "start_time": "2022-04-15T17:50:48.307Z"
   },
   {
    "duration": 10,
    "start_time": "2022-04-15T17:50:48.318Z"
   },
   {
    "duration": 17,
    "start_time": "2022-04-15T17:50:48.331Z"
   },
   {
    "duration": 49,
    "start_time": "2022-04-15T17:50:48.351Z"
   },
   {
    "duration": 39,
    "start_time": "2022-04-15T17:50:48.403Z"
   },
   {
    "duration": 70,
    "start_time": "2022-04-15T17:50:48.445Z"
   },
   {
    "duration": 26,
    "start_time": "2022-04-15T17:50:48.518Z"
   },
   {
    "duration": 9,
    "start_time": "2022-04-15T17:50:48.546Z"
   },
   {
    "duration": 36,
    "start_time": "2022-04-15T17:50:48.561Z"
   },
   {
    "duration": 9,
    "start_time": "2022-04-15T17:50:48.599Z"
   },
   {
    "duration": 24,
    "start_time": "2022-04-15T17:50:48.610Z"
   },
   {
    "duration": 9,
    "start_time": "2022-04-15T17:50:48.636Z"
   },
   {
    "duration": 47,
    "start_time": "2022-04-15T17:50:48.647Z"
   },
   {
    "duration": 26,
    "start_time": "2022-04-15T17:50:48.697Z"
   },
   {
    "duration": 8,
    "start_time": "2022-04-15T17:50:48.725Z"
   },
   {
    "duration": 59,
    "start_time": "2022-04-15T17:50:48.735Z"
   },
   {
    "duration": 9,
    "start_time": "2022-04-15T17:50:48.797Z"
   },
   {
    "duration": 15,
    "start_time": "2022-04-15T17:50:48.809Z"
   },
   {
    "duration": 14,
    "start_time": "2022-04-15T17:50:48.827Z"
   },
   {
    "duration": 795,
    "start_time": "2022-04-15T17:50:48.843Z"
   },
   {
    "duration": 23,
    "start_time": "2022-04-15T17:50:49.640Z"
   },
   {
    "duration": 50,
    "start_time": "2022-04-15T17:50:49.665Z"
   },
   {
    "duration": 6,
    "start_time": "2022-04-15T17:50:49.718Z"
   },
   {
    "duration": 483,
    "start_time": "2022-04-15T17:50:49.727Z"
   },
   {
    "duration": 47,
    "start_time": "2022-04-15T17:50:50.213Z"
   },
   {
    "duration": 43,
    "start_time": "2022-04-15T17:50:50.262Z"
   },
   {
    "duration": 468,
    "start_time": "2022-04-15T17:50:50.307Z"
   },
   {
    "duration": 1920,
    "start_time": "2022-04-15T17:50:50.777Z"
   },
   {
    "duration": 16,
    "start_time": "2022-04-15T17:50:52.700Z"
   },
   {
    "duration": 23,
    "start_time": "2022-04-15T17:50:52.719Z"
   },
   {
    "duration": 8,
    "start_time": "2022-04-15T17:50:52.744Z"
   },
   {
    "duration": 360,
    "start_time": "2022-04-15T17:50:52.754Z"
   },
   {
    "duration": 2653,
    "start_time": "2022-04-15T17:50:53.117Z"
   },
   {
    "duration": 27,
    "start_time": "2022-04-15T17:50:55.772Z"
   },
   {
    "duration": 383,
    "start_time": "2022-04-15T17:50:55.801Z"
   },
   {
    "duration": 23,
    "start_time": "2022-04-15T17:50:56.193Z"
   },
   {
    "duration": 649,
    "start_time": "2022-04-15T17:50:56.218Z"
   },
   {
    "duration": 35,
    "start_time": "2022-04-15T17:50:56.869Z"
   },
   {
    "duration": 121,
    "start_time": "2022-04-15T17:50:56.907Z"
   },
   {
    "duration": 73,
    "start_time": "2022-04-15T17:50:57.030Z"
   },
   {
    "duration": 781,
    "start_time": "2022-04-15T17:50:57.106Z"
   },
   {
    "duration": 211,
    "start_time": "2022-04-15T17:50:57.894Z"
   },
   {
    "duration": 5,
    "start_time": "2022-04-15T17:50:58.108Z"
   },
   {
    "duration": 2036,
    "start_time": "2022-04-15T17:50:58.115Z"
   },
   {
    "duration": 13,
    "start_time": "2022-04-15T17:51:00.153Z"
   },
   {
    "duration": 80,
    "start_time": "2022-04-15T17:51:00.168Z"
   },
   {
    "duration": 9,
    "start_time": "2022-04-15T17:51:00.251Z"
   },
   {
    "duration": 356,
    "start_time": "2022-04-15T17:51:00.262Z"
   },
   {
    "duration": 7,
    "start_time": "2022-04-15T17:51:00.620Z"
   },
   {
    "duration": 27,
    "start_time": "2022-04-15T17:51:00.629Z"
   },
   {
    "duration": 88,
    "start_time": "2022-04-15T17:51:00.658Z"
   },
   {
    "duration": 9,
    "start_time": "2022-04-15T17:51:00.748Z"
   },
   {
    "duration": 382,
    "start_time": "2022-04-15T17:51:00.760Z"
   },
   {
    "duration": 9,
    "start_time": "2022-04-15T17:51:01.145Z"
   },
   {
    "duration": 16,
    "start_time": "2022-04-15T17:51:01.157Z"
   }
  ],
  "kernelspec": {
   "display_name": "Python 3 (ipykernel)",
   "language": "python",
   "name": "python3"
  },
  "language_info": {
   "codemirror_mode": {
    "name": "ipython",
    "version": 3
   },
   "file_extension": ".py",
   "mimetype": "text/x-python",
   "name": "python",
   "nbconvert_exporter": "python",
   "pygments_lexer": "ipython3",
   "version": "3.9.7"
  },
  "toc": {
   "base_numbering": 1,
   "nav_menu": {},
   "number_sections": true,
   "sideBar": true,
   "skip_h1_title": true,
   "title_cell": "Содержание",
   "title_sidebar": "Contents",
   "toc_cell": true,
   "toc_position": {
    "height": "calc(100% - 180px)",
    "left": "10px",
    "top": "150px",
    "width": "426.656px"
   },
   "toc_section_display": true,
   "toc_window_display": false
  }
 },
 "nbformat": 4,
 "nbformat_minor": 5
}
