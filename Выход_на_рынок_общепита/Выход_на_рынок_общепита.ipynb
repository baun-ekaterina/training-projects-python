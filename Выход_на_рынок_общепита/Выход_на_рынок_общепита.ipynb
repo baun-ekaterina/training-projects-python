{
 "cells": [
  {
   "cell_type": "markdown",
   "metadata": {},
   "source": [
    "# Исследование рынка заведений общественного питания Москвы"
   ]
  },
  {
   "cell_type": "markdown",
   "metadata": {
    "toc": true
   },
   "source": [
    "<h1>Содержание<span class=\"tocSkip\"></span></h1>\n",
    "<div class=\"toc\"><ul class=\"toc-item\"><li><span><a href=\"#Загрузка-данных,-предобработка\" data-toc-modified-id=\"Загрузка-данных,-предобработка-1\"><span class=\"toc-item-num\">1&nbsp;&nbsp;</span>Загрузка данных, предобработка</a></span><ul class=\"toc-item\"><li><span><a href=\"#Загрузка-и-обзор-датасета\" data-toc-modified-id=\"Загрузка-и-обзор-датасета-1.1\"><span class=\"toc-item-num\">1.1&nbsp;&nbsp;</span>Загрузка и обзор датасета</a></span></li><li><span><a href=\"#Предобработка-данных\" data-toc-modified-id=\"Предобработка-данных-1.2\"><span class=\"toc-item-num\">1.2&nbsp;&nbsp;</span>Предобработка данных</a></span></li><li><span><a href=\"#Проверка-числовых-значений-на-аномалии\" data-toc-modified-id=\"Проверка-числовых-значений-на-аномалии-1.3\"><span class=\"toc-item-num\">1.3&nbsp;&nbsp;</span>Проверка числовых значений на аномалии</a></span></li><li><span><a href=\"#Промежуточный-вывод-по-шагу\" data-toc-modified-id=\"Промежуточный-вывод-по-шагу-1.4\"><span class=\"toc-item-num\">1.4&nbsp;&nbsp;</span>Промежуточный вывод по шагу</a></span></li></ul></li><li><span><a href=\"#Исследовательский-анализ-данных\" data-toc-modified-id=\"Исследовательский-анализ-данных-2\"><span class=\"toc-item-num\">2&nbsp;&nbsp;</span>Исследовательский анализ данных</a></span><ul class=\"toc-item\"><li><span><a href=\"#Виды-заведений-общественного-питания\" data-toc-modified-id=\"Виды-заведений-общественного-питания-2.1\"><span class=\"toc-item-num\">2.1&nbsp;&nbsp;</span>Виды заведений общественного питания</a></span></li><li><span><a href=\"#Сетевые-и-несетевые-заведения\" data-toc-modified-id=\"Сетевые-и-несетевые-заведения-2.2\"><span class=\"toc-item-num\">2.2&nbsp;&nbsp;</span>Сетевые и несетевые заведения</a></span></li><li><span><a href=\"#Виды-сетевых-заведений\" data-toc-modified-id=\"Виды-сетевых-заведений-2.3\"><span class=\"toc-item-num\">2.3&nbsp;&nbsp;</span>Виды сетевых заведений</a></span></li><li><span><a href=\"#Характеристики-сетевых-заведений\" data-toc-modified-id=\"Характеристики-сетевых-заведений-2.4\"><span class=\"toc-item-num\">2.4&nbsp;&nbsp;</span>Характеристики сетевых заведений</a></span></li><li><span><a href=\"#Средняя-вместимость-по-видам-заведений\" data-toc-modified-id=\"Средняя-вместимость-по-видам-заведений-2.5\"><span class=\"toc-item-num\">2.5&nbsp;&nbsp;</span>Средняя вместимость по видам заведений</a></span></li><li><span><a href=\"#Топ-10-улиц-Москвы-по-количеству-заведений-общественного-питания\" data-toc-modified-id=\"Топ-10-улиц-Москвы-по-количеству-заведений-общественного-питания-2.6\"><span class=\"toc-item-num\">2.6&nbsp;&nbsp;</span>Топ-10 улиц Москвы по количеству заведений общественного питания</a></span></li><li><span><a href=\"#Улицы-с-одним-объектом-общественного-питания\" data-toc-modified-id=\"Улицы-с-одним-объектом-общественного-питания-2.7\"><span class=\"toc-item-num\">2.7&nbsp;&nbsp;</span>Улицы с одним объектом общественного питания</a></span></li><li><span><a href=\"#Промежуточный-вывод-по-шагу\" data-toc-modified-id=\"Промежуточный-вывод-по-шагу-2.8\"><span class=\"toc-item-num\">2.8&nbsp;&nbsp;</span>Промежуточный вывод по шагу</a></span></li></ul></li><li><span><a href=\"#Общий-вывод\" data-toc-modified-id=\"Общий-вывод-3\"><span class=\"toc-item-num\">3&nbsp;&nbsp;</span>Общий вывод</a></span></li></ul></div>"
   ]
  },
  {
   "cell_type": "code",
   "execution_count": 1,
   "metadata": {},
   "outputs": [],
   "source": [
    "# импорт библиотек\n",
    "import pandas as pd\n",
    "import numpy as np\n",
    "import matplotlib.pyplot as plt\n",
    "import seaborn as sns\n",
    "\n",
    "\n",
    "# убрать предупреждения Pandas\n",
    "import warnings\n",
    "warnings.filterwarnings('ignore')\n",
    "\n",
    "# сброс ограничений на число столбцов выводимой таблицы\n",
    "pd.set_option('display.max_columns', None)\n",
    "\n",
    "# сброс ограничений на количество символов в записи\n",
    "pd.set_option('display.max_colwidth', None)\n",
    "\n",
    "# установка параметров отображения для графиков\n",
    "custom_params = {'axes.spines.right': False, 'axes.spines.top': False}\n",
    "sns.set_theme(style='whitegrid', rc=custom_params)"
   ]
  },
  {
   "cell_type": "markdown",
   "metadata": {},
   "source": [
    "## Загрузка данных, предобработка"
   ]
  },
  {
   "cell_type": "markdown",
   "metadata": {},
   "source": [
    "### Загрузка и обзор датасета"
   ]
  },
  {
   "cell_type": "markdown",
   "metadata": {},
   "source": [
    "Загрузим и изучим данные о заведениях общественного питания в Москве:"
   ]
  },
  {
   "cell_type": "code",
   "execution_count": 2,
   "metadata": {},
   "outputs": [
    {
     "name": "stdout",
     "output_type": "stream",
     "text": [
      "Фрагмент таблицы\n"
     ]
    },
    {
     "data": {
      "text/html": [
       "<div>\n",
       "<style scoped>\n",
       "    .dataframe tbody tr th:only-of-type {\n",
       "        vertical-align: middle;\n",
       "    }\n",
       "\n",
       "    .dataframe tbody tr th {\n",
       "        vertical-align: top;\n",
       "    }\n",
       "\n",
       "    .dataframe thead th {\n",
       "        text-align: right;\n",
       "    }\n",
       "</style>\n",
       "<table border=\"1\" class=\"dataframe\">\n",
       "  <thead>\n",
       "    <tr style=\"text-align: right;\">\n",
       "      <th></th>\n",
       "      <th>id</th>\n",
       "      <th>object_name</th>\n",
       "      <th>chain</th>\n",
       "      <th>object_type</th>\n",
       "      <th>address</th>\n",
       "      <th>number</th>\n",
       "    </tr>\n",
       "  </thead>\n",
       "  <tbody>\n",
       "    <tr>\n",
       "      <th>0</th>\n",
       "      <td>151635</td>\n",
       "      <td>СМЕТАНА</td>\n",
       "      <td>нет</td>\n",
       "      <td>кафе</td>\n",
       "      <td>город Москва, улица Егора Абакумова, дом 9</td>\n",
       "      <td>48</td>\n",
       "    </tr>\n",
       "    <tr>\n",
       "      <th>1</th>\n",
       "      <td>77874</td>\n",
       "      <td>Родник</td>\n",
       "      <td>нет</td>\n",
       "      <td>кафе</td>\n",
       "      <td>город Москва, улица Талалихина, дом 2/1, корпус 1</td>\n",
       "      <td>35</td>\n",
       "    </tr>\n",
       "    <tr>\n",
       "      <th>2</th>\n",
       "      <td>24309</td>\n",
       "      <td>Кафе «Академия»</td>\n",
       "      <td>нет</td>\n",
       "      <td>кафе</td>\n",
       "      <td>город Москва, Абельмановская улица, дом 6</td>\n",
       "      <td>95</td>\n",
       "    </tr>\n",
       "    <tr>\n",
       "      <th>3</th>\n",
       "      <td>21894</td>\n",
       "      <td>ПИЦЦЕТОРИЯ</td>\n",
       "      <td>да</td>\n",
       "      <td>кафе</td>\n",
       "      <td>город Москва, Абрамцевская улица, дом 1</td>\n",
       "      <td>40</td>\n",
       "    </tr>\n",
       "    <tr>\n",
       "      <th>4</th>\n",
       "      <td>119365</td>\n",
       "      <td>Кафе «Вишневая метель»</td>\n",
       "      <td>нет</td>\n",
       "      <td>кафе</td>\n",
       "      <td>город Москва, Абрамцевская улица, дом 9, корпус 1</td>\n",
       "      <td>50</td>\n",
       "    </tr>\n",
       "  </tbody>\n",
       "</table>\n",
       "</div>"
      ],
      "text/plain": [
       "       id             object_name chain object_type  \\\n",
       "0  151635                 СМЕТАНА   нет        кафе   \n",
       "1   77874                  Родник   нет        кафе   \n",
       "2   24309         Кафе «Академия»   нет        кафе   \n",
       "3   21894              ПИЦЦЕТОРИЯ    да        кафе   \n",
       "4  119365  Кафе «Вишневая метель»   нет        кафе   \n",
       "\n",
       "                                             address  number  \n",
       "0         город Москва, улица Егора Абакумова, дом 9      48  \n",
       "1  город Москва, улица Талалихина, дом 2/1, корпус 1      35  \n",
       "2          город Москва, Абельмановская улица, дом 6      95  \n",
       "3            город Москва, Абрамцевская улица, дом 1      40  \n",
       "4  город Москва, Абрамцевская улица, дом 9, корпус 1      50  "
      ]
     },
     "metadata": {},
     "output_type": "display_data"
    },
    {
     "name": "stdout",
     "output_type": "stream",
     "text": [
      "****************************************************************************************************\n",
      "Общая информация о таблице\n",
      "<class 'pandas.core.frame.DataFrame'>\n",
      "RangeIndex: 15366 entries, 0 to 15365\n",
      "Data columns (total 6 columns):\n",
      " #   Column       Non-Null Count  Dtype \n",
      "---  ------       --------------  ----- \n",
      " 0   id           15366 non-null  int64 \n",
      " 1   object_name  15366 non-null  object\n",
      " 2   chain        15366 non-null  object\n",
      " 3   object_type  15366 non-null  object\n",
      " 4   address      15366 non-null  object\n",
      " 5   number       15366 non-null  int64 \n",
      "dtypes: int64(2), object(4)\n",
      "memory usage: 720.4+ KB\n",
      "None\n",
      "****************************************************************************************************\n"
     ]
    }
   ],
   "source": [
    "# загрузка датасета (полный путь не приводится, т.к. датасет не размещен в открытом доступе)\n",
    "df = pd.read_csv(path)\n",
    "    \n",
    "print('Фрагмент таблицы')\n",
    "display(df.head()) # вывод фрагмента таблицы\n",
    "print('*'*100)\n",
    "print('Общая информация о таблице')\n",
    "print(df.info())\n",
    "print('*'*100)"
   ]
  },
  {
   "cell_type": "markdown",
   "metadata": {},
   "source": [
    "Таблица `rest_data` включает в себя 15366 строк с данными по заведениям общественного питания Москвы и содержит шесть столбцов со следующей информацией:\n",
    "* `id` — идентификатор объекта;\n",
    "* `object_name` — название объекта общественного питания;\n",
    "* `chain` — сетевой ресторан;\n",
    "* `object_type` — тип объекта общественного питания;\n",
    "* `address` — адрес;\n",
    "* `number` — количество посадочных мест."
   ]
  },
  {
   "cell_type": "markdown",
   "metadata": {},
   "source": [
    "Для удобства дальнейшей визуализации поменяем название столбца `number` на более логичное `seating_num`:"
   ]
  },
  {
   "cell_type": "code",
   "execution_count": 3,
   "metadata": {},
   "outputs": [],
   "source": [
    "# переименование столбца\n",
    "df = df.rename(columns={'number':'seating_num'})"
   ]
  },
  {
   "cell_type": "markdown",
   "metadata": {},
   "source": [
    "Заголовки таблицы представлены в удобном для работы формате, изменение типов данных в столбцах не требуется, пропущенные значения отсутствуют."
   ]
  },
  {
   "cell_type": "markdown",
   "metadata": {},
   "source": [
    "**Вывод**\n",
    "\n",
    "Данные загружены и изучены. Для подготовки ответов на все вопросы исследования необходимо будет обогатить таблицу данными по названию улицы и района расположения заведений."
   ]
  },
  {
   "cell_type": "markdown",
   "metadata": {},
   "source": [
    "### Предобработка данных"
   ]
  },
  {
   "cell_type": "markdown",
   "metadata": {},
   "source": [
    "Поскольку используемый датасет взят из открытых источников, важно проверить корректность содержащихся в нем данных."
   ]
  },
  {
   "cell_type": "markdown",
   "metadata": {},
   "source": [
    "Отдельные текстовые поля проверим на наличие неявных дубликатов:"
   ]
  },
  {
   "cell_type": "code",
   "execution_count": 4,
   "metadata": {},
   "outputs": [
    {
     "name": "stdout",
     "output_type": "stream",
     "text": [
      "Значения столбца `chain`: ['нет' 'да']\n",
      "\n",
      "Значения столбца `object_type`: ['кафе' 'столовая' 'закусочная' 'предприятие быстрого обслуживания'\n",
      " 'ресторан' 'кафетерий' 'буфет' 'бар' 'магазин (отдел кулинарии)']\n"
     ]
    }
   ],
   "source": [
    "print(f\"Значения столбца `chain`: {df['chain'].unique()}\")\n",
    "print('')\n",
    "print(f\"Значения столбца `object_type`: {df['object_type'].unique()}\")"
   ]
  },
  {
   "cell_type": "markdown",
   "metadata": {},
   "source": [
    "Неявных дубликатов в столбцах с категориальными переменными, отражающими маркер принадлежности к сети заведений и вид заведения не обнаружено."
   ]
  },
  {
   "cell_type": "markdown",
   "metadata": {},
   "source": [
    "Для удобства дальнейшей визуализации будет удобным сделать следующие изменения в датафрейме:\n",
    "* заменить значения столбца `chain` на четкие маркеры объекта: 'сетевой' / 'несетевой';\n",
    "* \"укоротить\" некоторые длинные обозначения видов заведений:"
   ]
  },
  {
   "cell_type": "code",
   "execution_count": 5,
   "metadata": {},
   "outputs": [],
   "source": [
    "# переименование значений столбцов\n",
    "df['chain'] = df['chain'].map({'нет':'несетевой', 'да': 'сетевой'})\n",
    "\n",
    "df['object_type'] = df['object_type'].str.replace('предприятие быстрого обслуживания', 'фастфуд')\n",
    "df['object_type'] = df['object_type'].str.replace('магазин \\(отдел кулинарии\\)', 'кулинария')"
   ]
  },
  {
   "cell_type": "markdown",
   "metadata": {},
   "source": [
    "Проверим исходный датасет на наличие полных дубликатов, при этом понимаем, что в случае изменения отдельных ячеек в строках при дальнейшей обработке нужно будет снова проверить полные дубликаты:"
   ]
  },
  {
   "cell_type": "code",
   "execution_count": 6,
   "metadata": {
    "scrolled": false
   },
   "outputs": [
    {
     "name": "stdout",
     "output_type": "stream",
     "text": [
      "Количество полных дубликатов строк до обработки: 0\n"
     ]
    }
   ],
   "source": [
    "print(f\"Количество полных дубликатов строк до обработки: {df.duplicated().sum()}\")"
   ]
  },
  {
   "cell_type": "markdown",
   "metadata": {},
   "source": [
    "Далее будем исследовать данные в столбце `object_name` с наименованием заведения: часто дубликаты возникают из-за использования разных регистров. Выведем количество уникальных наименований заведений в оригинальном виде и после перевода в верхний регистр:"
   ]
  },
  {
   "cell_type": "code",
   "execution_count": 7,
   "metadata": {},
   "outputs": [
    {
     "name": "stdout",
     "output_type": "stream",
     "text": [
      "Уникальные названия (оригинал): 10393 шт.\n",
      "Уникальные названия (верхний регистр): 9924 шт.\n",
      "Разница с оригиналом: 469 шт.\n"
     ]
    }
   ],
   "source": [
    "a = df['object_name'].nunique()\n",
    "b = df['object_name'].str.upper().nunique()\n",
    "\n",
    "print(f\"Уникальные названия (оригинал): {a} шт.\")\n",
    "print(f\"Уникальные названия (верхний регистр): {b} шт.\")\n",
    "print(f\"Разница с оригиналом: {a - b} шт.\")"
   ]
  },
  {
   "cell_type": "markdown",
   "metadata": {},
   "source": [
    "В качестве примера посмотрим на заведения сети Додо Пицца:"
   ]
  },
  {
   "cell_type": "code",
   "execution_count": 8,
   "metadata": {},
   "outputs": [
    {
     "data": {
      "text/plain": [
       "array(['Додо Пицца', 'Додо пицца', 'ДоДо Пицца', 'ДОДО ПИЦЦА',\n",
       "       'ДОДО Пицца', 'ДоДо пицца', 'ДОДО пицца'], dtype=object)"
      ]
     },
     "execution_count": 8,
     "metadata": {},
     "output_type": "execute_result"
    }
   ],
   "source": [
    "df.loc[df['object_name'].str.upper() == 'ДОДО ПИЦЦА']['object_name'].unique()"
   ]
  },
  {
   "cell_type": "markdown",
   "metadata": {},
   "source": [
    "Как видим, название \"Додо Пицца\" присутствует в исходном датасете в семи разных вариантах написания.\n",
    "\n",
    "Для будущего анализа переведем все названия заведений в верхний регистр и сохраним в новый рабочий столбец: это позволит качественнее провести проверку на дубликаты."
   ]
  },
  {
   "cell_type": "code",
   "execution_count": 9,
   "metadata": {},
   "outputs": [],
   "source": [
    "# создание нового столбца датафрейма\n",
    "df['object_name_1'] = df['object_name'].str.upper()"
   ]
  },
  {
   "cell_type": "markdown",
   "metadata": {},
   "source": [
    "Выполним замену отдельных символов в названии заведений, использование которых в наименовании также может влиять на образование неявных дубликатов (сохраняем в новом рабочем столбце):"
   ]
  },
  {
   "cell_type": "code",
   "execution_count": 10,
   "metadata": {},
   "outputs": [],
   "source": [
    "old = ['Ё', ' ', '-', '«', '»', '№', '(', ')']\n",
    "new = ['Е', '', '', '', '', '', '', '']\n",
    "\n",
    "for i in range(len(old)):\n",
    "    df['object_name_1'] = df['object_name_1'].str.replace(old[i], new[i])"
   ]
  },
  {
   "cell_type": "code",
   "execution_count": 11,
   "metadata": {},
   "outputs": [
    {
     "name": "stdout",
     "output_type": "stream",
     "text": [
      "Уникальные названия (оригинал): 10393 шт.\n",
      "Уникальные названия (верхний регистр+замена): 9650 шт.\n",
      "Разница с оригиналом: 743 шт.\n"
     ]
    }
   ],
   "source": [
    "c = df['object_name_1'].nunique()\n",
    "\n",
    "print(f\"Уникальные названия (оригинал): {a} шт.\")\n",
    "print(f\"Уникальные названия (верхний регистр+замена): {c} шт.\")\n",
    "print(f\"Разница с оригиналом: {a - c} шт.\")"
   ]
  },
  {
   "cell_type": "markdown",
   "metadata": {},
   "source": [
    "В итоге перевод в верхний регистр и замена отдельных символов сократила количество уникальных наименований на 743 штуки."
   ]
  },
  {
   "cell_type": "markdown",
   "metadata": {},
   "source": [
    "Далее разберемся со столбцом `chain`, маркирующим принадлежность заведения к сети. Посмотрим, если ли заведения с одинаковым именем (по рабочему варианту), у которых проставлен разный признак сетевой принадлежности:"
   ]
  },
  {
   "cell_type": "code",
   "execution_count": 12,
   "metadata": {},
   "outputs": [
    {
     "data": {
      "text/html": [
       "<div>\n",
       "<style scoped>\n",
       "    .dataframe tbody tr th:only-of-type {\n",
       "        vertical-align: middle;\n",
       "    }\n",
       "\n",
       "    .dataframe tbody tr th {\n",
       "        vertical-align: top;\n",
       "    }\n",
       "\n",
       "    .dataframe thead th {\n",
       "        text-align: right;\n",
       "    }\n",
       "</style>\n",
       "<table border=\"1\" class=\"dataframe\">\n",
       "  <thead>\n",
       "    <tr style=\"text-align: right;\">\n",
       "      <th></th>\n",
       "      <th>chain</th>\n",
       "    </tr>\n",
       "    <tr>\n",
       "      <th>object_name_1</th>\n",
       "      <th></th>\n",
       "    </tr>\n",
       "  </thead>\n",
       "  <tbody>\n",
       "    <tr>\n",
       "      <th>ТОДАСЕ</th>\n",
       "      <td>2</td>\n",
       "    </tr>\n",
       "    <tr>\n",
       "      <th>ХИНКАЛЬНАЯ1</th>\n",
       "      <td>2</td>\n",
       "    </tr>\n",
       "    <tr>\n",
       "      <th>ЧЕШСКАЯПИВНАЯКОЗЛОВИЦА</th>\n",
       "      <td>2</td>\n",
       "    </tr>\n",
       "    <tr>\n",
       "      <th>ШОКОЛАДНИЦА</th>\n",
       "      <td>2</td>\n",
       "    </tr>\n",
       "    <tr>\n",
       "      <th>ЯПОША</th>\n",
       "      <td>2</td>\n",
       "    </tr>\n",
       "  </tbody>\n",
       "</table>\n",
       "</div>"
      ],
      "text/plain": [
       "                        chain\n",
       "object_name_1                \n",
       "ТОДАСЕ                      2\n",
       "ХИНКАЛЬНАЯ1                 2\n",
       "ЧЕШСКАЯПИВНАЯКОЗЛОВИЦА      2\n",
       "ШОКОЛАДНИЦА                 2\n",
       "ЯПОША                       2"
      ]
     },
     "execution_count": 12,
     "metadata": {},
     "output_type": "execute_result"
    }
   ],
   "source": [
    "# временный датафрейм с названиями заведений, у которых одновременно есть признаки \"сетевой\" и \"несетевой\"\n",
    "df_temp_1 = (\n",
    "    df.groupby('object_name_1') # группируем по названию заведения\n",
    "      .agg({'chain': 'nunique'}) # считаем уникальные значения маркеров `chain`\n",
    ").query('chain == 2') # оставляем только те строки, где для одного названия есть оба маркера `chain`\n",
    "\n",
    "df_temp_1.tail(5)"
   ]
  },
  {
   "cell_type": "markdown",
   "metadata": {},
   "source": [
    "Часть этих заведений точно сетевые судя по названиям. По всем этим заведениям можно применить логику: если уникальных значений сегмента заведений два, то и самих объектов как минимум два, и это уже сеть. Изменим значение столбца `chain` для этих заведений, при этом допускаем, что есть незначительный риск фактического наличия на рынке заведений с полностью совпадающими наименованиями, и наша логика их будет считать как одно название: "
   ]
  },
  {
   "cell_type": "code",
   "execution_count": 13,
   "metadata": {},
   "outputs": [],
   "source": [
    "# функция для замены маркера заведения\n",
    "def chain_new_1 (row):\n",
    "    if row['object_name_1'] in df_temp_1.index:\n",
    "        chain_new = 'сетевой'\n",
    "    else:\n",
    "        chain_new = row['chain']\n",
    "    return chain_new\n",
    "\n",
    "# изменение столбца датафрейма\n",
    "df['chain'] = df.apply(chain_new_1, axis=1)"
   ]
  },
  {
   "cell_type": "markdown",
   "metadata": {},
   "source": [
    "Теперь проверим, есть ли среди одинаковых наименований сетевых заведений те, которые представлены всего одной точкой:"
   ]
  },
  {
   "cell_type": "code",
   "execution_count": 14,
   "metadata": {},
   "outputs": [
    {
     "data": {
      "text/html": [
       "<div>\n",
       "<style scoped>\n",
       "    .dataframe tbody tr th:only-of-type {\n",
       "        vertical-align: middle;\n",
       "    }\n",
       "\n",
       "    .dataframe tbody tr th {\n",
       "        vertical-align: top;\n",
       "    }\n",
       "\n",
       "    .dataframe thead th {\n",
       "        text-align: right;\n",
       "    }\n",
       "</style>\n",
       "<table border=\"1\" class=\"dataframe\">\n",
       "  <thead>\n",
       "    <tr style=\"text-align: right;\">\n",
       "      <th></th>\n",
       "      <th>id</th>\n",
       "    </tr>\n",
       "    <tr>\n",
       "      <th>object_name_1</th>\n",
       "      <th></th>\n",
       "    </tr>\n",
       "  </thead>\n",
       "  <tbody>\n",
       "    <tr>\n",
       "      <th>BEVERLYHILLSDINER</th>\n",
       "      <td>1</td>\n",
       "    </tr>\n",
       "    <tr>\n",
       "      <th>BIERLOGA</th>\n",
       "      <td>1</td>\n",
       "    </tr>\n",
       "    <tr>\n",
       "      <th>BLACK&amp;WHITE</th>\n",
       "      <td>1</td>\n",
       "    </tr>\n",
       "    <tr>\n",
       "      <th>BOOBO</th>\n",
       "      <td>1</td>\n",
       "    </tr>\n",
       "    <tr>\n",
       "      <th>BUBBLEOLOGY</th>\n",
       "      <td>1</td>\n",
       "    </tr>\n",
       "  </tbody>\n",
       "</table>\n",
       "</div>"
      ],
      "text/plain": [
       "                   id\n",
       "object_name_1        \n",
       "BEVERLYHILLSDINER   1\n",
       "BIERLOGA            1\n",
       "BLACK&WHITE         1\n",
       "BOOBO               1\n",
       "BUBBLEOLOGY         1"
      ]
     },
     "execution_count": 14,
     "metadata": {},
     "output_type": "execute_result"
    }
   ],
   "source": [
    "# временный датафрейм с названиями сетевых заведений, представленных всего одной точкой\n",
    "df_temp_2 = (\n",
    "    df.query('chain == \"сетевой\"') # отбираем сетевые заведения\n",
    "      .groupby('object_name_1') # группируем по названию заведения\n",
    "      .agg({'id': 'count'}) # считаем количество объектов\n",
    ").query('id == 1') # оставляем только те, где всего одна точка\n",
    "\n",
    "df_temp_2.head()"
   ]
  },
  {
   "cell_type": "markdown",
   "metadata": {},
   "source": [
    "По этим заведениям применим логику: если точка всего одна в Москве, то с большой вероятностью заведение не входит в сеть. Изменим значение столбца chain для этих заведений:"
   ]
  },
  {
   "cell_type": "code",
   "execution_count": 15,
   "metadata": {},
   "outputs": [],
   "source": [
    "# функция для замены маркера заведения\n",
    "def chain_new_2 (row):\n",
    "    if row['object_name_1'] in df_temp_2.index:\n",
    "        chain_new = 'несетевой'\n",
    "    else:\n",
    "        chain_new = row['chain']\n",
    "    return chain_new\n",
    "\n",
    "# изменение столбца датафрейма\n",
    "df['chain'] = df.apply(chain_new_2, axis=1)"
   ]
  },
  {
   "cell_type": "markdown",
   "metadata": {},
   "source": [
    "В заключении проверки поищем дубликаты, отбросив `id` и `object_name` исходя из предположения того, что ошибочно одному и тому же заведению может быть присвоены разные id, и написание названия тоже может быть с нюансами, о которых уже знаем из анализа выше:"
   ]
  },
  {
   "cell_type": "code",
   "execution_count": 16,
   "metadata": {},
   "outputs": [
    {
     "data": {
      "text/plain": [
       "82"
      ]
     },
     "execution_count": 16,
     "metadata": {},
     "output_type": "execute_result"
    }
   ],
   "source": [
    "df.set_index('id', 'object_name').duplicated().sum()"
   ]
  },
  {
   "cell_type": "markdown",
   "metadata": {},
   "source": [
    "Таким образом, в датасете имеется 82 заведения, у которых совпадают тип, адрес, количество посадочных мест. Удалим эти строки:"
   ]
  },
  {
   "cell_type": "code",
   "execution_count": 17,
   "metadata": {},
   "outputs": [],
   "source": [
    "# перезапись датафрейма с удалением дубликатов\n",
    "df = df.set_index('id', 'object_name').drop_duplicates().reset_index()"
   ]
  },
  {
   "cell_type": "markdown",
   "metadata": {},
   "source": [
    "### Проверка числовых значений на аномалии"
   ]
  },
  {
   "cell_type": "markdown",
   "metadata": {},
   "source": [
    "Проанализируем значения единственного числового столбца в датафтейме с количеством посадочных мест:"
   ]
  },
  {
   "cell_type": "code",
   "execution_count": 18,
   "metadata": {},
   "outputs": [
    {
     "data": {
      "text/plain": [
       "count    15284\n",
       "mean        60\n",
       "std         75\n",
       "min          0\n",
       "25%         14\n",
       "50%         40\n",
       "75%         80\n",
       "max       1700\n",
       "Name: seating_num, dtype: object"
      ]
     },
     "execution_count": 18,
     "metadata": {},
     "output_type": "execute_result"
    }
   ],
   "source": [
    "# вывод статистик для столбца\n",
    "df['seating_num'].describe().apply('{:.0f}'.format)"
   ]
  },
  {
   "cell_type": "code",
   "execution_count": 19,
   "metadata": {},
   "outputs": [
    {
     "data": {
      "image/png": "[encoded data removed]",
      "text/plain": [
       "<Figure size 576x360 with 2 Axes>"
      ]
     },
     "metadata": {},
     "output_type": "display_data"
    }
   ],
   "source": [
    "fig = plt.figure(figsize=(8, 5))\n",
    "\n",
    "ax1 = fig.add_subplot(2,1,1) # положение графика внутри области для рисования\n",
    "ax2 = fig.add_subplot(2,1,2)\n",
    "\n",
    "sns.histplot(x='seating_num', data=df, bins=50, color='#63a6a0', ax=ax1) # построение гистограммы\n",
    "sns.boxplot(x='seating_num', data=df, color='#63a6a0', ax=ax2) # построение диаграммы размаха\n",
    "\n",
    "ax1.set_title('Гистограмма распределения для количества посадочных мест', color='#0d585f')\n",
    "ax2.set_title('Диаграмма размаха для количества посадочных мест', color='#0d585f')\n",
    "\n",
    "ax1.set_xlabel('количество мест', color='#808080', size=10)\n",
    "ax1.set_ylabel('кол-во заведений', color='#808080', size=10)\n",
    "ax2.set_xlabel('количество мест', color='#808080', size=10)\n",
    "\n",
    "ax1.set_xlim(0, 300)\n",
    "\n",
    "fig.tight_layout() # устранение наложения графиков\n",
    "\n",
    "plt.show()"
   ]
  },
  {
   "cell_type": "markdown",
   "metadata": {},
   "source": [
    "По результатам изучения данных в столбце видим, что медианное значение количества посадочных мест - 40 шт. Cреднее значение 60 мест не показательно, т.к. на него влияют слишком большие значения. Распределение имеет очень длинный правый \"хвост\": 75% значений выборки находятся до показателя в 80 посадочных мест, максимальное значение - 1700 мест. Также есть заведения, в которых посадочные места отсутствуют."
   ]
  },
  {
   "cell_type": "markdown",
   "metadata": {},
   "source": [
    "Посмотрим на список заведений с самым большим количеством мест:"
   ]
  },
  {
   "cell_type": "code",
   "execution_count": 20,
   "metadata": {},
   "outputs": [
    {
     "data": {
      "text/html": [
       "<div>\n",
       "<style scoped>\n",
       "    .dataframe tbody tr th:only-of-type {\n",
       "        vertical-align: middle;\n",
       "    }\n",
       "\n",
       "    .dataframe tbody tr th {\n",
       "        vertical-align: top;\n",
       "    }\n",
       "\n",
       "    .dataframe thead th {\n",
       "        text-align: right;\n",
       "    }\n",
       "</style>\n",
       "<table border=\"1\" class=\"dataframe\">\n",
       "  <thead>\n",
       "    <tr style=\"text-align: right;\">\n",
       "      <th></th>\n",
       "      <th>id</th>\n",
       "      <th>object_name</th>\n",
       "      <th>chain</th>\n",
       "      <th>object_type</th>\n",
       "      <th>address</th>\n",
       "      <th>seating_num</th>\n",
       "      <th>object_name_1</th>\n",
       "    </tr>\n",
       "  </thead>\n",
       "  <tbody>\n",
       "    <tr>\n",
       "      <th>8122</th>\n",
       "      <td>80291</td>\n",
       "      <td>Банкетный зал Шелк</td>\n",
       "      <td>несетевой</td>\n",
       "      <td>ресторан</td>\n",
       "      <td>город Москва, Большой Саввинский переулок, дом 12, строение 10Г</td>\n",
       "      <td>1500</td>\n",
       "      <td>БАНКЕТНЫЙЗАЛШЕЛК</td>\n",
       "    </tr>\n",
       "    <tr>\n",
       "      <th>8319</th>\n",
       "      <td>27750</td>\n",
       "      <td>СТОЛОВАЯ-БУФЕТ</td>\n",
       "      <td>несетевой</td>\n",
       "      <td>столовая</td>\n",
       "      <td>город Москва, улица Волхонка, дом 15</td>\n",
       "      <td>1400</td>\n",
       "      <td>СТОЛОВАЯБУФЕТ</td>\n",
       "    </tr>\n",
       "    <tr>\n",
       "      <th>9036</th>\n",
       "      <td>19719</td>\n",
       "      <td>КОМБИНАТ ПИТАНИЯ «УПРАВЛЕНИЕ АКАДЕМСЕРВИС»</td>\n",
       "      <td>несетевой</td>\n",
       "      <td>столовая</td>\n",
       "      <td>город Москва, проспект Вернадского, дом 84, строение 1</td>\n",
       "      <td>1288</td>\n",
       "      <td>КОМБИНАТПИТАНИЯУПРАВЛЕНИЕАКАДЕМСЕРВИС</td>\n",
       "    </tr>\n",
       "    <tr>\n",
       "      <th>12675</th>\n",
       "      <td>199696</td>\n",
       "      <td>Arena by Soho Family</td>\n",
       "      <td>несетевой</td>\n",
       "      <td>бар</td>\n",
       "      <td>город Москва, Кутузовский проспект, дом 36, строение 11</td>\n",
       "      <td>1700</td>\n",
       "      <td>ARENABYSOHOFAMILY</td>\n",
       "    </tr>\n",
       "  </tbody>\n",
       "</table>\n",
       "</div>"
      ],
      "text/plain": [
       "           id                                 object_name      chain  \\\n",
       "8122    80291                          Банкетный зал Шелк  несетевой   \n",
       "8319    27750                              СТОЛОВАЯ-БУФЕТ  несетевой   \n",
       "9036    19719  КОМБИНАТ ПИТАНИЯ «УПРАВЛЕНИЕ АКАДЕМСЕРВИС»  несетевой   \n",
       "12675  199696                        Arena by Soho Family  несетевой   \n",
       "\n",
       "      object_type  \\\n",
       "8122     ресторан   \n",
       "8319     столовая   \n",
       "9036     столовая   \n",
       "12675         бар   \n",
       "\n",
       "                                                               address  \\\n",
       "8122   город Москва, Большой Саввинский переулок, дом 12, строение 10Г   \n",
       "8319                              город Москва, улица Волхонка, дом 15   \n",
       "9036            город Москва, проспект Вернадского, дом 84, строение 1   \n",
       "12675          город Москва, Кутузовский проспект, дом 36, строение 11   \n",
       "\n",
       "       seating_num                          object_name_1  \n",
       "8122          1500                       БАНКЕТНЫЙЗАЛШЕЛК  \n",
       "8319          1400                          СТОЛОВАЯБУФЕТ  \n",
       "9036          1288  КОМБИНАТПИТАНИЯУПРАВЛЕНИЕАКАДЕМСЕРВИС  \n",
       "12675         1700                      ARENABYSOHOFAMILY  "
      ]
     },
     "execution_count": 20,
     "metadata": {},
     "output_type": "execute_result"
    }
   ],
   "source": [
    "df.loc[df['seating_num'] > 1250]"
   ]
  },
  {
   "cell_type": "markdown",
   "metadata": {},
   "source": [
    "Такие вместительные заведения действительно существуют: большие банкетные залы, концертные холлы, университетские столовые и т.д. Количество посадочных мест в этом случае является корректным."
   ]
  },
  {
   "cell_type": "markdown",
   "metadata": {},
   "source": [
    "Теперь выведем количество строк с нулями в количестве посадочных мест:"
   ]
  },
  {
   "cell_type": "code",
   "execution_count": 21,
   "metadata": {},
   "outputs": [
    {
     "name": "stdout",
     "output_type": "stream",
     "text": [
      "Всего заведений для анализа: 15284 шт.\n",
      "Заведений с нулевым кол-вом мест: 1589 шт.\n",
      "Доля нулевых: 10 %\n"
     ]
    }
   ],
   "source": [
    "print(f\"Всего заведений для анализа: {len(df)} шт.\")\n",
    "print(f\"Заведений с нулевым кол-вом мест: {len(df.loc[df['seating_num'] == 0])} шт.\")\n",
    "print(f\"Доля нулевых: {round(len(df.loc[df['seating_num'] == 0]) / len(df) * 100)} %\")"
   ]
  },
  {
   "cell_type": "markdown",
   "metadata": {},
   "source": [
    "Доля заведений с нулевым количеством посадочных мест значительная, проверим их более детально: посмотрим разбивку по видам"
   ]
  },
  {
   "cell_type": "code",
   "execution_count": 22,
   "metadata": {},
   "outputs": [
    {
     "data": {
      "text/html": [
       "<div>\n",
       "<style scoped>\n",
       "    .dataframe tbody tr th:only-of-type {\n",
       "        vertical-align: middle;\n",
       "    }\n",
       "\n",
       "    .dataframe tbody tr th {\n",
       "        vertical-align: top;\n",
       "    }\n",
       "\n",
       "    .dataframe thead th {\n",
       "        text-align: right;\n",
       "    }\n",
       "</style>\n",
       "<table border=\"1\" class=\"dataframe\">\n",
       "  <thead>\n",
       "    <tr style=\"text-align: right;\">\n",
       "      <th></th>\n",
       "      <th>count</th>\n",
       "    </tr>\n",
       "    <tr>\n",
       "      <th>object_type</th>\n",
       "      <th></th>\n",
       "    </tr>\n",
       "  </thead>\n",
       "  <tbody>\n",
       "    <tr>\n",
       "      <th>фастфуд</th>\n",
       "      <td>690</td>\n",
       "    </tr>\n",
       "    <tr>\n",
       "      <th>кафе</th>\n",
       "      <td>306</td>\n",
       "    </tr>\n",
       "    <tr>\n",
       "      <th>закусочная</th>\n",
       "      <td>182</td>\n",
       "    </tr>\n",
       "    <tr>\n",
       "      <th>кулинария</th>\n",
       "      <td>145</td>\n",
       "    </tr>\n",
       "    <tr>\n",
       "      <th>кафетерий</th>\n",
       "      <td>111</td>\n",
       "    </tr>\n",
       "    <tr>\n",
       "      <th>буфет</th>\n",
       "      <td>64</td>\n",
       "    </tr>\n",
       "    <tr>\n",
       "      <th>ресторан</th>\n",
       "      <td>44</td>\n",
       "    </tr>\n",
       "    <tr>\n",
       "      <th>бар</th>\n",
       "      <td>28</td>\n",
       "    </tr>\n",
       "    <tr>\n",
       "      <th>столовая</th>\n",
       "      <td>19</td>\n",
       "    </tr>\n",
       "  </tbody>\n",
       "</table>\n",
       "</div>"
      ],
      "text/plain": [
       "             count\n",
       "object_type       \n",
       "фастфуд        690\n",
       "кафе           306\n",
       "закусочная     182\n",
       "кулинария      145\n",
       "кафетерий      111\n",
       "буфет           64\n",
       "ресторан        44\n",
       "бар             28\n",
       "столовая        19"
      ]
     },
     "execution_count": 22,
     "metadata": {},
     "output_type": "execute_result"
    }
   ],
   "source": [
    "df.loc[df['seating_num'] == 0].groupby('object_type') \\\n",
    "                              .agg({'id':'count'}) \\\n",
    "                              .sort_values(by='id', ascending=False) \\\n",
    "                              .rename(columns={'id': 'count'})"
   ]
  },
  {
   "cell_type": "markdown",
   "metadata": {},
   "source": [
    "Объекты с нулевым количеством посадочных мест представлены абсолютно разными видами, лидером из которых являются фастфуды. Не исключены и ошибки в исходных данных, но скорее всего, большинство таких заведений работают на вынос. Делаем вывод, что и эти данные корректны."
   ]
  },
  {
   "cell_type": "markdown",
   "metadata": {},
   "source": [
    "### Промежуточный вывод по шагу\n",
    "\n",
    "Данные загружены, проведена предобработка, проверка на корректность текстовых и числовых значений, дубликаты удалены, таблица готова к исследовательскому анализу."
   ]
  },
  {
   "cell_type": "markdown",
   "metadata": {},
   "source": [
    "## Исследовательский анализ данных"
   ]
  },
  {
   "cell_type": "markdown",
   "metadata": {},
   "source": [
    "### Виды заведений общественного питания"
   ]
  },
  {
   "cell_type": "markdown",
   "metadata": {},
   "source": [
    "Построим сводную таблицу, по которой будем исследовать соотношение видов объектов общественного питания по количеству:"
   ]
  },
  {
   "cell_type": "code",
   "execution_count": 23,
   "metadata": {},
   "outputs": [
    {
     "data": {
      "text/html": [
       "<style type=\"text/css\">\n",
       "</style>\n",
       "<table id=\"T_397f3_\">\n",
       "  <thead>\n",
       "    <tr>\n",
       "      <th class=\"blank level0\" >&nbsp;</th>\n",
       "      <th class=\"col_heading level0 col0\" >object_type</th>\n",
       "      <th class=\"col_heading level0 col1\" >count</th>\n",
       "      <th class=\"col_heading level0 col2\" >share</th>\n",
       "    </tr>\n",
       "  </thead>\n",
       "  <tbody>\n",
       "    <tr>\n",
       "      <th id=\"T_397f3_level0_row0\" class=\"row_heading level0 row0\" >0</th>\n",
       "      <td id=\"T_397f3_row0_col0\" class=\"data row0 col0\" >кафе</td>\n",
       "      <td id=\"T_397f3_row0_col1\" class=\"data row0 col1\" >6071</td>\n",
       "      <td id=\"T_397f3_row0_col2\" class=\"data row0 col2\" >39.7%</td>\n",
       "    </tr>\n",
       "    <tr>\n",
       "      <th id=\"T_397f3_level0_row1\" class=\"row_heading level0 row1\" >1</th>\n",
       "      <td id=\"T_397f3_row1_col0\" class=\"data row1 col0\" >столовая</td>\n",
       "      <td id=\"T_397f3_row1_col1\" class=\"data row1 col1\" >2584</td>\n",
       "      <td id=\"T_397f3_row1_col2\" class=\"data row1 col2\" >16.9%</td>\n",
       "    </tr>\n",
       "    <tr>\n",
       "      <th id=\"T_397f3_level0_row2\" class=\"row_heading level0 row2\" >2</th>\n",
       "      <td id=\"T_397f3_row2_col0\" class=\"data row2 col0\" >ресторан</td>\n",
       "      <td id=\"T_397f3_row2_col1\" class=\"data row2 col1\" >2282</td>\n",
       "      <td id=\"T_397f3_row2_col2\" class=\"data row2 col2\" >14.9%</td>\n",
       "    </tr>\n",
       "    <tr>\n",
       "      <th id=\"T_397f3_level0_row3\" class=\"row_heading level0 row3\" >3</th>\n",
       "      <td id=\"T_397f3_row3_col0\" class=\"data row3 col0\" >фастфуд</td>\n",
       "      <td id=\"T_397f3_row3_col1\" class=\"data row3 col1\" >1898</td>\n",
       "      <td id=\"T_397f3_row3_col2\" class=\"data row3 col2\" >12.4%</td>\n",
       "    </tr>\n",
       "    <tr>\n",
       "      <th id=\"T_397f3_level0_row4\" class=\"row_heading level0 row4\" >4</th>\n",
       "      <td id=\"T_397f3_row4_col0\" class=\"data row4 col0\" >бар</td>\n",
       "      <td id=\"T_397f3_row4_col1\" class=\"data row4 col1\" >855</td>\n",
       "      <td id=\"T_397f3_row4_col2\" class=\"data row4 col2\" >5.6%</td>\n",
       "    </tr>\n",
       "    <tr>\n",
       "      <th id=\"T_397f3_level0_row5\" class=\"row_heading level0 row5\" >5</th>\n",
       "      <td id=\"T_397f3_row5_col0\" class=\"data row5 col0\" >буфет</td>\n",
       "      <td id=\"T_397f3_row5_col1\" class=\"data row5 col1\" >577</td>\n",
       "      <td id=\"T_397f3_row5_col2\" class=\"data row5 col2\" >3.8%</td>\n",
       "    </tr>\n",
       "    <tr>\n",
       "      <th id=\"T_397f3_level0_row6\" class=\"row_heading level0 row6\" >6</th>\n",
       "      <td id=\"T_397f3_row6_col0\" class=\"data row6 col0\" >кафетерий</td>\n",
       "      <td id=\"T_397f3_row6_col1\" class=\"data row6 col1\" >395</td>\n",
       "      <td id=\"T_397f3_row6_col2\" class=\"data row6 col2\" >2.6%</td>\n",
       "    </tr>\n",
       "    <tr>\n",
       "      <th id=\"T_397f3_level0_row7\" class=\"row_heading level0 row7\" >7</th>\n",
       "      <td id=\"T_397f3_row7_col0\" class=\"data row7 col0\" >закусочная</td>\n",
       "      <td id=\"T_397f3_row7_col1\" class=\"data row7 col1\" >349</td>\n",
       "      <td id=\"T_397f3_row7_col2\" class=\"data row7 col2\" >2.3%</td>\n",
       "    </tr>\n",
       "    <tr>\n",
       "      <th id=\"T_397f3_level0_row8\" class=\"row_heading level0 row8\" >8</th>\n",
       "      <td id=\"T_397f3_row8_col0\" class=\"data row8 col0\" >кулинария</td>\n",
       "      <td id=\"T_397f3_row8_col1\" class=\"data row8 col1\" >273</td>\n",
       "      <td id=\"T_397f3_row8_col2\" class=\"data row8 col2\" >1.8%</td>\n",
       "    </tr>\n",
       "  </tbody>\n",
       "</table>\n"
      ],
      "text/plain": [
       "<pandas.io.formats.style.Styler at 0x1faa9a412b0>"
      ]
     },
     "execution_count": 23,
     "metadata": {},
     "output_type": "execute_result"
    }
   ],
   "source": [
    "# создание сводной таблицы\n",
    "type_pivot = (\n",
    "    df.groupby('object_type')\n",
    "      .agg({'id': 'count'})\n",
    "      .sort_values(by='id', ascending=False)\n",
    "      .reset_index()\n",
    "      .rename(columns={'id': 'count'})\n",
    ")\n",
    "\n",
    "# ввод столбца с долей значения в общем объеме\n",
    "type_pivot['share'] = type_pivot['count'] / type_pivot['count'].sum()\n",
    "\n",
    "type_pivot.style.format({'share': '{:.1%}'})"
   ]
  },
  {
   "cell_type": "markdown",
   "metadata": {},
   "source": [
    "Визуализируем полученные данные:"
   ]
  },
  {
   "cell_type": "code",
   "execution_count": 24,
   "metadata": {},
   "outputs": [
    {
     "data": {
      "image/png": "[encoded data removed]",
      "text/plain": [
       "<Figure size 720x360 with 1 Axes>"
      ]
     },
     "metadata": {},
     "output_type": "display_data"
    }
   ],
   "source": [
    "plt.figure(figsize=(10,5))\n",
    "\n",
    "sns.barplot(\n",
    "    y='object_type',\n",
    "    x='share',\n",
    "    data=type_pivot,\n",
    "    orient='h',\n",
    "    color='#63a6a0'\n",
    ")\n",
    "\n",
    "plt.xlabel('доля среди всех заведений', color='#808080', size=10)\n",
    "plt.ylabel('')\n",
    "plt.xticks([])\n",
    "plt.title('Заведения общепита в Москве по видам', color='#0d585f')\n",
    "\n",
    "for x,y in zip(type_pivot['share'], range(len(type_pivot))):\n",
    "    label = '{:.1%}'.format(x)\n",
    "    plt.annotate(label, # текст метки\n",
    "                 (x,y), # координаты метки\n",
    "                 textcoords=\"offset points\", # позиция текста метки\n",
    "                 xytext=(10,0), # расстояние между текстом и точкой координат метки\n",
    "                 va='center') # выравнивание метки\n",
    "\n",
    "plt.show()"
   ]
  },
  {
   "cell_type": "markdown",
   "metadata": {},
   "source": [
    "**Вывод**\n",
    "\n",
    "Наиболее распространенным видом объектов общественного питания в Москве являются кафе: их около 40% от общего числа объектов. Также в топе по количеству заведений находятся столовые, рестораны и фастфуды: от 12% до 17% от общего количества. Остальные виды заведений распространены намного меньше."
   ]
  },
  {
   "cell_type": "markdown",
   "metadata": {},
   "source": [
    "### Сетевые и несетевые заведения"
   ]
  },
  {
   "cell_type": "markdown",
   "metadata": {},
   "source": [
    "Построим сводную таблицу, по которой будем исследовать соотношение сетевых и несетевых заведений по количеству:"
   ]
  },
  {
   "cell_type": "code",
   "execution_count": 25,
   "metadata": {},
   "outputs": [
    {
     "data": {
      "text/html": [
       "<style type=\"text/css\">\n",
       "</style>\n",
       "<table id=\"T_0efcb_\">\n",
       "  <thead>\n",
       "    <tr>\n",
       "      <th class=\"blank level0\" >&nbsp;</th>\n",
       "      <th class=\"col_heading level0 col0\" >chain</th>\n",
       "      <th class=\"col_heading level0 col1\" >count</th>\n",
       "      <th class=\"col_heading level0 col2\" >share</th>\n",
       "    </tr>\n",
       "  </thead>\n",
       "  <tbody>\n",
       "    <tr>\n",
       "      <th id=\"T_0efcb_level0_row0\" class=\"row_heading level0 row0\" >0</th>\n",
       "      <td id=\"T_0efcb_row0_col0\" class=\"data row0 col0\" >несетевой</td>\n",
       "      <td id=\"T_0efcb_row0_col1\" class=\"data row0 col1\" >12427</td>\n",
       "      <td id=\"T_0efcb_row0_col2\" class=\"data row0 col2\" >81%</td>\n",
       "    </tr>\n",
       "    <tr>\n",
       "      <th id=\"T_0efcb_level0_row1\" class=\"row_heading level0 row1\" >1</th>\n",
       "      <td id=\"T_0efcb_row1_col0\" class=\"data row1 col0\" >сетевой</td>\n",
       "      <td id=\"T_0efcb_row1_col1\" class=\"data row1 col1\" >2857</td>\n",
       "      <td id=\"T_0efcb_row1_col2\" class=\"data row1 col2\" >19%</td>\n",
       "    </tr>\n",
       "  </tbody>\n",
       "</table>\n"
      ],
      "text/plain": [
       "<pandas.io.formats.style.Styler at 0x1faaa3358e0>"
      ]
     },
     "execution_count": 25,
     "metadata": {},
     "output_type": "execute_result"
    }
   ],
   "source": [
    "# создание сводной таблицы\n",
    "chain_pivot = (\n",
    "    df.groupby('chain')\n",
    "      .agg({'id': 'count'})\n",
    "      .sort_values(by='id', ascending=False)\n",
    "      .reset_index()\n",
    "      .rename(columns={'id': 'count'})\n",
    ")\n",
    "\n",
    "# ввод столбца с долей значения в общем объеме\n",
    "chain_pivot['share'] = chain_pivot['count'] / chain_pivot['count'].sum()\n",
    "\n",
    "chain_pivot.style.format({'share': '{:.0%}'})"
   ]
  },
  {
   "cell_type": "markdown",
   "metadata": {},
   "source": [
    "Визуализируем полученные данные:"
   ]
  },
  {
   "cell_type": "code",
   "execution_count": 26,
   "metadata": {},
   "outputs": [
    {
     "data": {
      "image/png": "[encoded data removed]",
      "text/plain": [
       "<Figure size 1080x360 with 1 Axes>"
      ]
     },
     "metadata": {},
     "output_type": "display_data"
    }
   ],
   "source": [
    "plt.figure(figsize=(15,5))\n",
    "\n",
    "plt.pie(\n",
    "    x=chain_pivot['count'],\n",
    "    labels = ['несетевые', 'сетевые'],\n",
    "    colors=('#63a6a0', '#b4d9cc'),\n",
    "    autopct='%1.0f%%',\n",
    "    explode=(0, 0.05)\n",
    ")\n",
    "plt.title('Заведения общепита в Москве по типам', color='#0d585f')\n",
    "\n",
    "plt.show()"
   ]
  },
  {
   "cell_type": "markdown",
   "metadata": {},
   "source": [
    "**Вывод**\n",
    "\n",
    "Несетевых объектов в четыре раза больше, чем сетевых."
   ]
  },
  {
   "cell_type": "markdown",
   "metadata": {},
   "source": [
    "### Виды сетевых заведений"
   ]
  },
  {
   "cell_type": "markdown",
   "metadata": {},
   "source": [
    "Построим сводную таблицу для сетевых заведений, отражающую виды объектов общественного питания:"
   ]
  },
  {
   "cell_type": "code",
   "execution_count": 27,
   "metadata": {},
   "outputs": [
    {
     "data": {
      "text/html": [
       "<style type=\"text/css\">\n",
       "</style>\n",
       "<table id=\"T_97a31_\">\n",
       "  <thead>\n",
       "    <tr>\n",
       "      <th class=\"blank level0\" >&nbsp;</th>\n",
       "      <th class=\"col_heading level0 col0\" >object_type</th>\n",
       "      <th class=\"col_heading level0 col1\" >total</th>\n",
       "      <th class=\"col_heading level0 col2\" >chain</th>\n",
       "      <th class=\"col_heading level0 col3\" >chain_%</th>\n",
       "    </tr>\n",
       "  </thead>\n",
       "  <tbody>\n",
       "    <tr>\n",
       "      <th id=\"T_97a31_level0_row0\" class=\"row_heading level0 row0\" >0</th>\n",
       "      <td id=\"T_97a31_row0_col0\" class=\"data row0 col0\" >фастфуд</td>\n",
       "      <td id=\"T_97a31_row0_col1\" class=\"data row0 col1\" >1898</td>\n",
       "      <td id=\"T_97a31_row0_col2\" class=\"data row0 col2\" >772</td>\n",
       "      <td id=\"T_97a31_row0_col3\" class=\"data row0 col3\" >40.7%</td>\n",
       "    </tr>\n",
       "    <tr>\n",
       "      <th id=\"T_97a31_level0_row1\" class=\"row_heading level0 row1\" >1</th>\n",
       "      <td id=\"T_97a31_row1_col0\" class=\"data row1 col0\" >кулинария</td>\n",
       "      <td id=\"T_97a31_row1_col1\" class=\"data row1 col1\" >273</td>\n",
       "      <td id=\"T_97a31_row1_col2\" class=\"data row1 col2\" >74</td>\n",
       "      <td id=\"T_97a31_row1_col3\" class=\"data row1 col3\" >27.1%</td>\n",
       "    </tr>\n",
       "    <tr>\n",
       "      <th id=\"T_97a31_level0_row2\" class=\"row_heading level0 row2\" >2</th>\n",
       "      <td id=\"T_97a31_row2_col0\" class=\"data row2 col0\" >кафе</td>\n",
       "      <td id=\"T_97a31_row2_col1\" class=\"data row2 col1\" >6071</td>\n",
       "      <td id=\"T_97a31_row2_col2\" class=\"data row2 col2\" >1371</td>\n",
       "      <td id=\"T_97a31_row2_col3\" class=\"data row2 col3\" >22.6%</td>\n",
       "    </tr>\n",
       "    <tr>\n",
       "      <th id=\"T_97a31_level0_row3\" class=\"row_heading level0 row3\" >3</th>\n",
       "      <td id=\"T_97a31_row3_col0\" class=\"data row3 col0\" >ресторан</td>\n",
       "      <td id=\"T_97a31_row3_col1\" class=\"data row3 col1\" >2282</td>\n",
       "      <td id=\"T_97a31_row3_col2\" class=\"data row3 col2\" >490</td>\n",
       "      <td id=\"T_97a31_row3_col3\" class=\"data row3 col3\" >21.5%</td>\n",
       "    </tr>\n",
       "    <tr>\n",
       "      <th id=\"T_97a31_level0_row4\" class=\"row_heading level0 row4\" >4</th>\n",
       "      <td id=\"T_97a31_row4_col0\" class=\"data row4 col0\" >кафетерий</td>\n",
       "      <td id=\"T_97a31_row4_col1\" class=\"data row4 col1\" >395</td>\n",
       "      <td id=\"T_97a31_row4_col2\" class=\"data row4 col2\" >57</td>\n",
       "      <td id=\"T_97a31_row4_col3\" class=\"data row4 col3\" >14.4%</td>\n",
       "    </tr>\n",
       "    <tr>\n",
       "      <th id=\"T_97a31_level0_row5\" class=\"row_heading level0 row5\" >5</th>\n",
       "      <td id=\"T_97a31_row5_col0\" class=\"data row5 col0\" >закусочная</td>\n",
       "      <td id=\"T_97a31_row5_col1\" class=\"data row5 col1\" >349</td>\n",
       "      <td id=\"T_97a31_row5_col2\" class=\"data row5 col2\" >48</td>\n",
       "      <td id=\"T_97a31_row5_col3\" class=\"data row5 col3\" >13.8%</td>\n",
       "    </tr>\n",
       "    <tr>\n",
       "      <th id=\"T_97a31_level0_row6\" class=\"row_heading level0 row6\" >6</th>\n",
       "      <td id=\"T_97a31_row6_col0\" class=\"data row6 col0\" >бар</td>\n",
       "      <td id=\"T_97a31_row6_col1\" class=\"data row6 col1\" >855</td>\n",
       "      <td id=\"T_97a31_row6_col2\" class=\"data row6 col2\" >29</td>\n",
       "      <td id=\"T_97a31_row6_col3\" class=\"data row6 col3\" >3.4%</td>\n",
       "    </tr>\n",
       "    <tr>\n",
       "      <th id=\"T_97a31_level0_row7\" class=\"row_heading level0 row7\" >7</th>\n",
       "      <td id=\"T_97a31_row7_col0\" class=\"data row7 col0\" >буфет</td>\n",
       "      <td id=\"T_97a31_row7_col1\" class=\"data row7 col1\" >577</td>\n",
       "      <td id=\"T_97a31_row7_col2\" class=\"data row7 col2\" >12</td>\n",
       "      <td id=\"T_97a31_row7_col3\" class=\"data row7 col3\" >2.1%</td>\n",
       "    </tr>\n",
       "    <tr>\n",
       "      <th id=\"T_97a31_level0_row8\" class=\"row_heading level0 row8\" >8</th>\n",
       "      <td id=\"T_97a31_row8_col0\" class=\"data row8 col0\" >столовая</td>\n",
       "      <td id=\"T_97a31_row8_col1\" class=\"data row8 col1\" >2584</td>\n",
       "      <td id=\"T_97a31_row8_col2\" class=\"data row8 col2\" >4</td>\n",
       "      <td id=\"T_97a31_row8_col3\" class=\"data row8 col3\" >0.2%</td>\n",
       "    </tr>\n",
       "  </tbody>\n",
       "</table>\n"
      ],
      "text/plain": [
       "<pandas.io.formats.style.Styler at 0x1faaa1c0250>"
      ]
     },
     "execution_count": 27,
     "metadata": {},
     "output_type": "execute_result"
    }
   ],
   "source": [
    "# создание сводной таблицы\n",
    "ch_t_pivot = (\n",
    "    df.pivot_table(\n",
    "          index = 'object_type',\n",
    "          columns = 'chain',\n",
    "          values = 'id',\n",
    "          aggfunc = 'count'\n",
    "    )\n",
    "    .reset_index()\n",
    ")\n",
    "\n",
    "# добавление столбцов\n",
    "ch_t_pivot.insert(1, 'total', ch_t_pivot['несетевой'] + ch_t_pivot['сетевой'])\n",
    "ch_t_pivot.insert(4, 'chain_%', ch_t_pivot['сетевой'] / ch_t_pivot['total'])\n",
    "\n",
    "# удаление столбца\n",
    "ch_t_pivot = ch_t_pivot.drop(columns='несетевой')\n",
    "\n",
    "# переименование столбцов\n",
    "ch_t_pivot.columns = ['object_type', 'total', 'chain', 'chain_%']\n",
    "\n",
    "#сортировка\n",
    "ch_t_pivot = ch_t_pivot.sort_values(by='chain_%', ascending = False).reset_index(drop=True)\n",
    "\n",
    "ch_t_pivot.style.format({'chain_%': '{:.1%}'})"
   ]
  },
  {
   "cell_type": "markdown",
   "metadata": {},
   "source": [
    "Перед созданием графика три последних вида с наименьшими долями сетевых заведений объединим в группу \"прочие\":"
   ]
  },
  {
   "cell_type": "code",
   "execution_count": 28,
   "metadata": {},
   "outputs": [
    {
     "data": {
      "text/html": [
       "<style type=\"text/css\">\n",
       "</style>\n",
       "<table id=\"T_8cba1_\">\n",
       "  <thead>\n",
       "    <tr>\n",
       "      <th class=\"blank level0\" >&nbsp;</th>\n",
       "      <th class=\"col_heading level0 col0\" >object_type</th>\n",
       "      <th class=\"col_heading level0 col1\" >total</th>\n",
       "      <th class=\"col_heading level0 col2\" >chain</th>\n",
       "      <th class=\"col_heading level0 col3\" >chain_%</th>\n",
       "    </tr>\n",
       "  </thead>\n",
       "  <tbody>\n",
       "    <tr>\n",
       "      <th id=\"T_8cba1_level0_row0\" class=\"row_heading level0 row0\" >0</th>\n",
       "      <td id=\"T_8cba1_row0_col0\" class=\"data row0 col0\" >фастфуд</td>\n",
       "      <td id=\"T_8cba1_row0_col1\" class=\"data row0 col1\" >1898</td>\n",
       "      <td id=\"T_8cba1_row0_col2\" class=\"data row0 col2\" >772</td>\n",
       "      <td id=\"T_8cba1_row0_col3\" class=\"data row0 col3\" >40.7%</td>\n",
       "    </tr>\n",
       "    <tr>\n",
       "      <th id=\"T_8cba1_level0_row1\" class=\"row_heading level0 row1\" >1</th>\n",
       "      <td id=\"T_8cba1_row1_col0\" class=\"data row1 col0\" >кулинария</td>\n",
       "      <td id=\"T_8cba1_row1_col1\" class=\"data row1 col1\" >273</td>\n",
       "      <td id=\"T_8cba1_row1_col2\" class=\"data row1 col2\" >74</td>\n",
       "      <td id=\"T_8cba1_row1_col3\" class=\"data row1 col3\" >27.1%</td>\n",
       "    </tr>\n",
       "    <tr>\n",
       "      <th id=\"T_8cba1_level0_row2\" class=\"row_heading level0 row2\" >2</th>\n",
       "      <td id=\"T_8cba1_row2_col0\" class=\"data row2 col0\" >кафе</td>\n",
       "      <td id=\"T_8cba1_row2_col1\" class=\"data row2 col1\" >6071</td>\n",
       "      <td id=\"T_8cba1_row2_col2\" class=\"data row2 col2\" >1371</td>\n",
       "      <td id=\"T_8cba1_row2_col3\" class=\"data row2 col3\" >22.6%</td>\n",
       "    </tr>\n",
       "    <tr>\n",
       "      <th id=\"T_8cba1_level0_row3\" class=\"row_heading level0 row3\" >3</th>\n",
       "      <td id=\"T_8cba1_row3_col0\" class=\"data row3 col0\" >ресторан</td>\n",
       "      <td id=\"T_8cba1_row3_col1\" class=\"data row3 col1\" >2282</td>\n",
       "      <td id=\"T_8cba1_row3_col2\" class=\"data row3 col2\" >490</td>\n",
       "      <td id=\"T_8cba1_row3_col3\" class=\"data row3 col3\" >21.5%</td>\n",
       "    </tr>\n",
       "    <tr>\n",
       "      <th id=\"T_8cba1_level0_row4\" class=\"row_heading level0 row4\" >4</th>\n",
       "      <td id=\"T_8cba1_row4_col0\" class=\"data row4 col0\" >кафетерий</td>\n",
       "      <td id=\"T_8cba1_row4_col1\" class=\"data row4 col1\" >395</td>\n",
       "      <td id=\"T_8cba1_row4_col2\" class=\"data row4 col2\" >57</td>\n",
       "      <td id=\"T_8cba1_row4_col3\" class=\"data row4 col3\" >14.4%</td>\n",
       "    </tr>\n",
       "    <tr>\n",
       "      <th id=\"T_8cba1_level0_row5\" class=\"row_heading level0 row5\" >5</th>\n",
       "      <td id=\"T_8cba1_row5_col0\" class=\"data row5 col0\" >закусочная</td>\n",
       "      <td id=\"T_8cba1_row5_col1\" class=\"data row5 col1\" >349</td>\n",
       "      <td id=\"T_8cba1_row5_col2\" class=\"data row5 col2\" >48</td>\n",
       "      <td id=\"T_8cba1_row5_col3\" class=\"data row5 col3\" >13.8%</td>\n",
       "    </tr>\n",
       "    <tr>\n",
       "      <th id=\"T_8cba1_level0_row6\" class=\"row_heading level0 row6\" >6</th>\n",
       "      <td id=\"T_8cba1_row6_col0\" class=\"data row6 col0\" >прочие</td>\n",
       "      <td id=\"T_8cba1_row6_col1\" class=\"data row6 col1\" >4016</td>\n",
       "      <td id=\"T_8cba1_row6_col2\" class=\"data row6 col2\" >45</td>\n",
       "      <td id=\"T_8cba1_row6_col3\" class=\"data row6 col3\" >1.1%</td>\n",
       "    </tr>\n",
       "  </tbody>\n",
       "</table>\n"
      ],
      "text/plain": [
       "<pandas.io.formats.style.Styler at 0x1faaa3f8af0>"
      ]
     },
     "execution_count": 28,
     "metadata": {},
     "output_type": "execute_result"
    }
   ],
   "source": [
    "ch_t_pivot = ch_t_pivot[0:6].append(\n",
    "    {\n",
    "        'object_type':'прочие',\n",
    "        'total': ch_t_pivot[6:9]['total'].sum(),\n",
    "        'chain': ch_t_pivot[6:9]['chain'].sum(),\n",
    "        'chain_%': ch_t_pivot[6:9]['chain'].sum() / ch_t_pivot[6:9]['total'].sum()\n",
    "    },\n",
    "    ignore_index=True)\n",
    "\n",
    "ch_t_pivot.style.format({'chain_%': '{:.1%}'})"
   ]
  },
  {
   "cell_type": "markdown",
   "metadata": {},
   "source": [
    "Визуализируем полученные данные:"
   ]
  },
  {
   "cell_type": "code",
   "execution_count": 29,
   "metadata": {},
   "outputs": [
    {
     "data": {
      "image/png": "[encoded data removed]",
      "text/plain": [
       "<Figure size 720x360 with 1 Axes>"
      ]
     },
     "metadata": {},
     "output_type": "display_data"
    }
   ],
   "source": [
    "plt.figure(figsize=(10,5))\n",
    "\n",
    "sns.barplot(y='object_type', x=[1]*7, data=ch_t_pivot, orient='h', color='#d1eeea')\n",
    "sns.barplot(y='object_type', x='chain_%', data=ch_t_pivot, orient='h', color='#63a6a0')\n",
    "\n",
    "plt.xlabel('доля внутри вида', color='#808080', size=10)\n",
    "plt.ylabel('')\n",
    "plt.xticks([])\n",
    "plt.title('Доля сетевых заведений общепита в Москве по видам объектов', color='#0d585f')\n",
    "\n",
    "for x,y in zip(ch_t_pivot['chain_%'][0:6], range(len(type_pivot)-3)):\n",
    "    label = '{:.1%}'.format(x)\n",
    "    plt.annotate(label, # текст метки\n",
    "                 (x,y), # координаты метки\n",
    "                 textcoords=\"offset points\", # позиция текста метки\n",
    "                 xytext=(-40,0), # расстояние между текстом и точкой координат метки\n",
    "                 va='center') # выравнивание метки\n",
    "\n",
    "plt.annotate('100%', (0.98,7), annotation_clip=False, color='#808080')\n",
    "\n",
    "plt.show()"
   ]
  },
  {
   "cell_type": "markdown",
   "metadata": {},
   "source": [
    "**Вывод**:\n",
    "\n",
    "Сетевое распространение характерно преимущественно для объектов фастфуда."
   ]
  },
  {
   "cell_type": "markdown",
   "metadata": {},
   "source": [
    "### Характеристики сетевых заведений"
   ]
  },
  {
   "cell_type": "markdown",
   "metadata": {},
   "source": [
    "Сгруппируем данные по \"сетевикам\" по наименованиям заведений, для каждого заведения посчитаем количество пунктов питания и медианное значение количества посадочных мест:"
   ]
  },
  {
   "cell_type": "code",
   "execution_count": 30,
   "metadata": {},
   "outputs": [
    {
     "data": {
      "text/html": [
       "<div>\n",
       "<style scoped>\n",
       "    .dataframe tbody tr th:only-of-type {\n",
       "        vertical-align: middle;\n",
       "    }\n",
       "\n",
       "    .dataframe tbody tr th {\n",
       "        vertical-align: top;\n",
       "    }\n",
       "\n",
       "    .dataframe thead th {\n",
       "        text-align: right;\n",
       "    }\n",
       "</style>\n",
       "<table border=\"1\" class=\"dataframe\">\n",
       "  <thead>\n",
       "    <tr style=\"text-align: right;\">\n",
       "      <th></th>\n",
       "      <th>object_name_1</th>\n",
       "      <th>objects_num</th>\n",
       "      <th>seating_num_median</th>\n",
       "    </tr>\n",
       "  </thead>\n",
       "  <tbody>\n",
       "    <tr>\n",
       "      <th>0</th>\n",
       "      <td>BOCCONCINO</td>\n",
       "      <td>3</td>\n",
       "      <td>68.0</td>\n",
       "    </tr>\n",
       "    <tr>\n",
       "      <th>1</th>\n",
       "      <td>BURGERCLUB</td>\n",
       "      <td>3</td>\n",
       "      <td>20.0</td>\n",
       "    </tr>\n",
       "    <tr>\n",
       "      <th>2</th>\n",
       "      <td>COFFEESHOPCOMPANY</td>\n",
       "      <td>4</td>\n",
       "      <td>50.0</td>\n",
       "    </tr>\n",
       "    <tr>\n",
       "      <th>3</th>\n",
       "      <td>COFIX</td>\n",
       "      <td>25</td>\n",
       "      <td>10.0</td>\n",
       "    </tr>\n",
       "    <tr>\n",
       "      <th>4</th>\n",
       "      <td>CORREAS</td>\n",
       "      <td>3</td>\n",
       "      <td>32.0</td>\n",
       "    </tr>\n",
       "  </tbody>\n",
       "</table>\n",
       "</div>"
      ],
      "text/plain": [
       "       object_name_1  objects_num  seating_num_median\n",
       "0         BOCCONCINO            3                68.0\n",
       "1         BURGERCLUB            3                20.0\n",
       "2  COFFEESHOPCOMPANY            4                50.0\n",
       "3              COFIX           25                10.0\n",
       "4            CORREAS            3                32.0"
      ]
     },
     "execution_count": 30,
     "metadata": {},
     "output_type": "execute_result"
    }
   ],
   "source": [
    "df_chain = (\n",
    "    df.loc[(df['chain'] == 'сетевой')]\n",
    "      .pivot_table(\n",
    "          index='object_name_1',\n",
    "          values=['id', 'seating_num'],\n",
    "          aggfunc={'id': 'count', 'seating_num': 'median'}\n",
    "        )\n",
    "      .reset_index()\n",
    ")\n",
    "\n",
    "df_chain.columns = ['object_name_1', 'objects_num', 'seating_num_median']\n",
    "\n",
    "df_chain.head()"
   ]
  },
  {
   "cell_type": "markdown",
   "metadata": {},
   "source": [
    "Далее для каждой сети определим сегмент в зависимости от количества заведений и медианного количества посадочных мест, чтобы в итоге получить четыре сегмента для характеристик сетевых объектов. Для определения границ сегментов возьмем медианные значения величин:"
   ]
  },
  {
   "cell_type": "code",
   "execution_count": 31,
   "metadata": {
    "scrolled": true
   },
   "outputs": [
    {
     "data": {
      "text/html": [
       "<style type=\"text/css\">\n",
       "</style>\n",
       "<table id=\"T_bd274_\">\n",
       "  <thead>\n",
       "    <tr>\n",
       "      <th class=\"blank level0\" >&nbsp;</th>\n",
       "      <th class=\"col_heading level0 col0\" >objects_num</th>\n",
       "      <th class=\"col_heading level0 col1\" >seating_num_median</th>\n",
       "    </tr>\n",
       "  </thead>\n",
       "  <tbody>\n",
       "    <tr>\n",
       "      <th id=\"T_bd274_level0_row0\" class=\"row_heading level0 row0\" >25%</th>\n",
       "      <td id=\"T_bd274_row0_col0\" class=\"data row0 col0\" >2</td>\n",
       "      <td id=\"T_bd274_row0_col1\" class=\"data row0 col1\" >20</td>\n",
       "    </tr>\n",
       "    <tr>\n",
       "      <th id=\"T_bd274_level0_row1\" class=\"row_heading level0 row1\" >50%</th>\n",
       "      <td id=\"T_bd274_row1_col0\" class=\"data row1 col0\" >4</td>\n",
       "      <td id=\"T_bd274_row1_col1\" class=\"data row1 col1\" >42</td>\n",
       "    </tr>\n",
       "    <tr>\n",
       "      <th id=\"T_bd274_level0_row2\" class=\"row_heading level0 row2\" >75%</th>\n",
       "      <td id=\"T_bd274_row2_col0\" class=\"data row2 col0\" >8</td>\n",
       "      <td id=\"T_bd274_row2_col1\" class=\"data row2 col1\" >82</td>\n",
       "    </tr>\n",
       "  </tbody>\n",
       "</table>\n"
      ],
      "text/plain": [
       "<pandas.io.formats.style.Styler at 0x1faaa4305e0>"
      ]
     },
     "execution_count": 31,
     "metadata": {},
     "output_type": "execute_result"
    }
   ],
   "source": [
    "df_chain.describe()[4:7].style.format('{:.0f}')"
   ]
  },
  {
   "cell_type": "code",
   "execution_count": 32,
   "metadata": {},
   "outputs": [
    {
     "data": {
      "text/html": [
       "<div>\n",
       "<style scoped>\n",
       "    .dataframe tbody tr th:only-of-type {\n",
       "        vertical-align: middle;\n",
       "    }\n",
       "\n",
       "    .dataframe tbody tr th {\n",
       "        vertical-align: top;\n",
       "    }\n",
       "\n",
       "    .dataframe thead th {\n",
       "        text-align: right;\n",
       "    }\n",
       "</style>\n",
       "<table border=\"1\" class=\"dataframe\">\n",
       "  <thead>\n",
       "    <tr style=\"text-align: right;\">\n",
       "      <th></th>\n",
       "      <th>object_name_1</th>\n",
       "      <th>objects_num</th>\n",
       "      <th>seating_num_median</th>\n",
       "      <th>segment</th>\n",
       "    </tr>\n",
       "  </thead>\n",
       "  <tbody>\n",
       "    <tr>\n",
       "      <th>0</th>\n",
       "      <td>BOCCONCINO</td>\n",
       "      <td>3</td>\n",
       "      <td>68.0</td>\n",
       "      <td>мало заведений, много мест</td>\n",
       "    </tr>\n",
       "    <tr>\n",
       "      <th>1</th>\n",
       "      <td>BURGERCLUB</td>\n",
       "      <td>3</td>\n",
       "      <td>20.0</td>\n",
       "      <td>мало заведений, мало мест</td>\n",
       "    </tr>\n",
       "    <tr>\n",
       "      <th>2</th>\n",
       "      <td>COFFEESHOPCOMPANY</td>\n",
       "      <td>4</td>\n",
       "      <td>50.0</td>\n",
       "      <td>много заведений, много мест</td>\n",
       "    </tr>\n",
       "    <tr>\n",
       "      <th>3</th>\n",
       "      <td>COFIX</td>\n",
       "      <td>25</td>\n",
       "      <td>10.0</td>\n",
       "      <td>много заведений, мало мест</td>\n",
       "    </tr>\n",
       "    <tr>\n",
       "      <th>4</th>\n",
       "      <td>CORREAS</td>\n",
       "      <td>3</td>\n",
       "      <td>32.0</td>\n",
       "      <td>мало заведений, мало мест</td>\n",
       "    </tr>\n",
       "  </tbody>\n",
       "</table>\n",
       "</div>"
      ],
      "text/plain": [
       "       object_name_1  objects_num  seating_num_median  \\\n",
       "0         BOCCONCINO            3                68.0   \n",
       "1         BURGERCLUB            3                20.0   \n",
       "2  COFFEESHOPCOMPANY            4                50.0   \n",
       "3              COFIX           25                10.0   \n",
       "4            CORREAS            3                32.0   \n",
       "\n",
       "                       segment  \n",
       "0   мало заведений, много мест  \n",
       "1    мало заведений, мало мест  \n",
       "2  много заведений, много мест  \n",
       "3   много заведений, мало мест  \n",
       "4    мало заведений, мало мест  "
      ]
     },
     "execution_count": 32,
     "metadata": {},
     "output_type": "execute_result"
    }
   ],
   "source": [
    "# функция для определения сегмента\n",
    "def segment(row):\n",
    "    if (row['objects_num'] < df_chain['objects_num'].median()\n",
    "        and row['seating_num_median'] < df_chain['seating_num_median'].median()\n",
    "    ):\n",
    "        segment = 'мало заведений, мало мест'\n",
    "    elif (row['objects_num'] < df_chain['objects_num'].median()\n",
    "          and row['seating_num_median'] >= df_chain['seating_num_median'].median()\n",
    "    ):\n",
    "        segment = 'мало заведений, много мест'\n",
    "    elif (row['objects_num'] >= df_chain['objects_num'].median()\n",
    "          and row['seating_num_median'] < df_chain['seating_num_median'].median()\n",
    "    ):\n",
    "        segment = 'много заведений, мало мест'\n",
    "    else:\n",
    "        segment = 'много заведений, много мест'\n",
    "    \n",
    "    return segment\n",
    "\n",
    "# добавление сегментов в датафрейм\n",
    "df_chain['segment'] = df_chain.apply(segment, axis=1)\n",
    "\n",
    "df_chain.head()"
   ]
  },
  {
   "cell_type": "markdown",
   "metadata": {},
   "source": [
    "Покажем распределение сетевых заведений по четырем сегментам сначала в табличном виде:"
   ]
  },
  {
   "cell_type": "code",
   "execution_count": 33,
   "metadata": {},
   "outputs": [
    {
     "data": {
      "text/html": [
       "<style type=\"text/css\">\n",
       "</style>\n",
       "<table id=\"T_bdc5a_\">\n",
       "  <thead>\n",
       "    <tr>\n",
       "      <th class=\"blank level0\" >&nbsp;</th>\n",
       "      <th class=\"col_heading level0 col0\" >objects_num</th>\n",
       "      <th class=\"col_heading level0 col1\" >share</th>\n",
       "    </tr>\n",
       "    <tr>\n",
       "      <th class=\"index_name level0\" >segment</th>\n",
       "      <th class=\"blank col0\" >&nbsp;</th>\n",
       "      <th class=\"blank col1\" >&nbsp;</th>\n",
       "    </tr>\n",
       "  </thead>\n",
       "  <tbody>\n",
       "    <tr>\n",
       "      <th id=\"T_bdc5a_level0_row0\" class=\"row_heading level0 row0\" >много заведений, мало мест</th>\n",
       "      <td id=\"T_bdc5a_row0_col0\" class=\"data row0 col0\" >73</td>\n",
       "      <td id=\"T_bdc5a_row0_col1\" class=\"data row0 col1\" >27%</td>\n",
       "    </tr>\n",
       "    <tr>\n",
       "      <th id=\"T_bdc5a_level0_row1\" class=\"row_heading level0 row1\" >много заведений, много мест</th>\n",
       "      <td id=\"T_bdc5a_row1_col0\" class=\"data row1 col0\" >70</td>\n",
       "      <td id=\"T_bdc5a_row1_col1\" class=\"data row1 col1\" >25%</td>\n",
       "    </tr>\n",
       "    <tr>\n",
       "      <th id=\"T_bdc5a_level0_row2\" class=\"row_heading level0 row2\" >мало заведений, много мест</th>\n",
       "      <td id=\"T_bdc5a_row2_col0\" class=\"data row2 col0\" >69</td>\n",
       "      <td id=\"T_bdc5a_row2_col1\" class=\"data row2 col1\" >25%</td>\n",
       "    </tr>\n",
       "    <tr>\n",
       "      <th id=\"T_bdc5a_level0_row3\" class=\"row_heading level0 row3\" >мало заведений, мало мест</th>\n",
       "      <td id=\"T_bdc5a_row3_col0\" class=\"data row3 col0\" >63</td>\n",
       "      <td id=\"T_bdc5a_row3_col1\" class=\"data row3 col1\" >23%</td>\n",
       "    </tr>\n",
       "  </tbody>\n",
       "</table>\n"
      ],
      "text/plain": [
       "<pandas.io.formats.style.Styler at 0x1faaa4d04f0>"
      ]
     },
     "execution_count": 33,
     "metadata": {},
     "output_type": "execute_result"
    }
   ],
   "source": [
    "df_chain_gr = (df_chain\n",
    "                   .groupby('segment')\n",
    "                   .agg({'object_name_1': 'count'})\n",
    "                   .rename(columns={'object_name_1': 'objects_num'})\n",
    "                   .sort_values(by='objects_num', ascending=False)\n",
    ")\n",
    "\n",
    "df_chain_gr['share'] = df_chain_gr['objects_num'] / df_chain_gr['objects_num'].sum()\n",
    "\n",
    "df_chain_gr.style.format({'share': '{:.0%}'})"
   ]
  },
  {
   "cell_type": "markdown",
   "metadata": {},
   "source": [
    "Отразим распределение сетевых заведений по сегментам в виде диаграммы рассеяния:"
   ]
  },
  {
   "cell_type": "code",
   "execution_count": 34,
   "metadata": {},
   "outputs": [
    {
     "data": {
      "image/png": "[encoded data removed]",
      "text/plain": [
       "<Figure size 720x360 with 1 Axes>"
      ]
     },
     "metadata": {},
     "output_type": "display_data"
    }
   ],
   "source": [
    "plt.figure(figsize=(10,5))\n",
    "\n",
    "sns.scatterplot(x='seating_num_median',\n",
    "                y='objects_num',\n",
    "                data=df_chain,\n",
    "                hue='segment',\n",
    "                palette='viridis'\n",
    ")\n",
    "plt.axvline(x=df_chain['seating_num_median'].median(), color='#808080', linestyle='--')\n",
    "plt.axhline(y=df_chain['objects_num'].median(), color='#808080', linestyle='--')\n",
    "\n",
    "plt.grid()\n",
    "\n",
    "plt.xlabel('количество мест', size=10)\n",
    "plt.ylabel('количество заведений', size=10)\n",
    "plt.xlim(0, 120)\n",
    "plt.ylim(0, 30)\n",
    "plt.title('Распределение сетевых заведений общепита в Москве по сегментам', color='#0d585f')\n",
    "plt.legend(loc='upper right')\n",
    "\n",
    "plt.show()"
   ]
  },
  {
   "cell_type": "markdown",
   "metadata": {},
   "source": [
    "**Вывод:**\n",
    "\n",
    "Сетевых заведений с большим количеством точек питания и небольшой вместимостью 27% из общего числа - это максимальный показатель. Однако, явно лидирующего сегмента нет: сети примерно поровну разделились между всеми четырьмя сегментами. "
   ]
  },
  {
   "cell_type": "markdown",
   "metadata": {},
   "source": [
    "### Средняя вместимость по видам заведений"
   ]
  },
  {
   "cell_type": "markdown",
   "metadata": {},
   "source": [
    "Построим сводную таблицу, по которой будем исследовать вместимость по видам объектов общественного питания. Исключим из рассмотрения заведения, работающие на вынос, а в качестве показателя вместимости выберем медианное количество посадочных мест."
   ]
  },
  {
   "cell_type": "code",
   "execution_count": 35,
   "metadata": {},
   "outputs": [
    {
     "data": {
      "text/html": [
       "<style type=\"text/css\">\n",
       "</style>\n",
       "<table id=\"T_a8975_\">\n",
       "  <thead>\n",
       "    <tr>\n",
       "      <th class=\"blank level0\" >&nbsp;</th>\n",
       "      <th class=\"col_heading level0 col0\" >object_type</th>\n",
       "      <th class=\"col_heading level0 col1\" >seating_num_med</th>\n",
       "    </tr>\n",
       "  </thead>\n",
       "  <tbody>\n",
       "    <tr>\n",
       "      <th id=\"T_a8975_level0_row0\" class=\"row_heading level0 row0\" >0</th>\n",
       "      <td id=\"T_a8975_row0_col0\" class=\"data row0 col0\" >столовая</td>\n",
       "      <td id=\"T_a8975_row0_col1\" class=\"data row0 col1\" >105</td>\n",
       "    </tr>\n",
       "    <tr>\n",
       "      <th id=\"T_a8975_level0_row1\" class=\"row_heading level0 row1\" >1</th>\n",
       "      <td id=\"T_a8975_row1_col0\" class=\"data row1 col0\" >ресторан</td>\n",
       "      <td id=\"T_a8975_row1_col1\" class=\"data row1 col1\" >80</td>\n",
       "    </tr>\n",
       "    <tr>\n",
       "      <th id=\"T_a8975_level0_row2\" class=\"row_heading level0 row2\" >2</th>\n",
       "      <td id=\"T_a8975_row2_col0\" class=\"data row2 col0\" >буфет</td>\n",
       "      <td id=\"T_a8975_row2_col1\" class=\"data row2 col1\" >40</td>\n",
       "    </tr>\n",
       "    <tr>\n",
       "      <th id=\"T_a8975_level0_row3\" class=\"row_heading level0 row3\" >3</th>\n",
       "      <td id=\"T_a8975_row3_col0\" class=\"data row3 col0\" >бар</td>\n",
       "      <td id=\"T_a8975_row3_col1\" class=\"data row3 col1\" >35</td>\n",
       "    </tr>\n",
       "    <tr>\n",
       "      <th id=\"T_a8975_level0_row4\" class=\"row_heading level0 row4\" >4</th>\n",
       "      <td id=\"T_a8975_row4_col0\" class=\"data row4 col0\" >кафе</td>\n",
       "      <td id=\"T_a8975_row4_col1\" class=\"data row4 col1\" >35</td>\n",
       "    </tr>\n",
       "    <tr>\n",
       "      <th id=\"T_a8975_level0_row5\" class=\"row_heading level0 row5\" >5</th>\n",
       "      <td id=\"T_a8975_row5_col0\" class=\"data row5 col0\" >фастфуд</td>\n",
       "      <td id=\"T_a8975_row5_col1\" class=\"data row5 col1\" >20</td>\n",
       "    </tr>\n",
       "    <tr>\n",
       "      <th id=\"T_a8975_level0_row6\" class=\"row_heading level0 row6\" >6</th>\n",
       "      <td id=\"T_a8975_row6_col0\" class=\"data row6 col0\" >закусочная</td>\n",
       "      <td id=\"T_a8975_row6_col1\" class=\"data row6 col1\" >10</td>\n",
       "    </tr>\n",
       "    <tr>\n",
       "      <th id=\"T_a8975_level0_row7\" class=\"row_heading level0 row7\" >7</th>\n",
       "      <td id=\"T_a8975_row7_col0\" class=\"data row7 col0\" >кафетерий</td>\n",
       "      <td id=\"T_a8975_row7_col1\" class=\"data row7 col1\" >9</td>\n",
       "    </tr>\n",
       "    <tr>\n",
       "      <th id=\"T_a8975_level0_row8\" class=\"row_heading level0 row8\" >8</th>\n",
       "      <td id=\"T_a8975_row8_col0\" class=\"data row8 col0\" >кулинария</td>\n",
       "      <td id=\"T_a8975_row8_col1\" class=\"data row8 col1\" >8</td>\n",
       "    </tr>\n",
       "  </tbody>\n",
       "</table>\n"
      ],
      "text/plain": [
       "<pandas.io.formats.style.Styler at 0x1faaa5294c0>"
      ]
     },
     "execution_count": 35,
     "metadata": {},
     "output_type": "execute_result"
    }
   ],
   "source": [
    "# создание сводной таблицы\n",
    "seating_pivot = (\n",
    "    df.query('seating_num > 0')\n",
    "      .groupby('object_type')\n",
    "      .agg({'seating_num': 'median'})\n",
    "      .sort_values(by='seating_num', ascending=False)\n",
    "      .reset_index()\n",
    "      .rename(columns={'seating_num': 'seating_num_med'})\n",
    ")\n",
    "\n",
    "seating_pivot.style.format({'seating_num_med': '{:.0f}'})"
   ]
  },
  {
   "cell_type": "markdown",
   "metadata": {},
   "source": [
    "Визуализируем полученные результаты:"
   ]
  },
  {
   "cell_type": "code",
   "execution_count": 36,
   "metadata": {},
   "outputs": [
    {
     "data": {
      "image/png": "[encoded data removed]",
      "text/plain": [
       "<Figure size 720x360 with 1 Axes>"
      ]
     },
     "metadata": {},
     "output_type": "display_data"
    }
   ],
   "source": [
    "plt.figure(figsize=(10,5))\n",
    "\n",
    "sns.barplot(y='object_type', x='seating_num_med', data=seating_pivot, orient='h', color='#63a6a0')\n",
    "\n",
    "plt.xlabel('посадочные места (медиана)', color='#808080', size=10)\n",
    "plt.ylabel('')\n",
    "plt.xticks([])\n",
    "plt.title('Средняя вместимость заведений общепита Москвы \\n(исключая работающие на вынос)', color='#0d585f')\n",
    "\n",
    "for x,y in zip(seating_pivot['seating_num_med'], range(len(seating_pivot))):\n",
    "    label = '{:.0f}'.format(x)\n",
    "    plt.annotate(label, # текст метки\n",
    "                 (x,y), # координаты метки\n",
    "                 textcoords=\"offset points\", # позиция текста метки\n",
    "                 xytext=(10,0), # расстояние между текстом и точкой координат метки\n",
    "                 va='center') # выравнивание метки\n",
    "\n",
    "plt.show()"
   ]
  },
  {
   "cell_type": "markdown",
   "metadata": {},
   "source": [
    "**Вывод:**\n",
    "\n",
    "В среднем, самыми вместительными из всех видов заведений являются столовые: посадочных мест в них 105 единиц (медианное количество). Самый распространенный вид заведений - кафе - обладает медианной вместимостью 35 посадочных мест."
   ]
  },
  {
   "cell_type": "markdown",
   "metadata": {},
   "source": [
    "### Топ-10 улиц Москвы по количеству заведений общественного питания"
   ]
  },
  {
   "cell_type": "markdown",
   "metadata": {},
   "source": [
    "Для ответа на этот вопрос необходимо выделить данные о названии улицы из столбца `address`:"
   ]
  },
  {
   "cell_type": "code",
   "execution_count": 37,
   "metadata": {},
   "outputs": [
    {
     "data": {
      "text/html": [
       "<div>\n",
       "<style scoped>\n",
       "    .dataframe tbody tr th:only-of-type {\n",
       "        vertical-align: middle;\n",
       "    }\n",
       "\n",
       "    .dataframe tbody tr th {\n",
       "        vertical-align: top;\n",
       "    }\n",
       "\n",
       "    .dataframe thead th {\n",
       "        text-align: right;\n",
       "    }\n",
       "</style>\n",
       "<table border=\"1\" class=\"dataframe\">\n",
       "  <thead>\n",
       "    <tr style=\"text-align: right;\">\n",
       "      <th></th>\n",
       "      <th>id</th>\n",
       "      <th>object_name</th>\n",
       "      <th>chain</th>\n",
       "      <th>object_type</th>\n",
       "      <th>address</th>\n",
       "      <th>seating_num</th>\n",
       "      <th>object_name_1</th>\n",
       "      <th>street_name</th>\n",
       "    </tr>\n",
       "  </thead>\n",
       "  <tbody>\n",
       "    <tr>\n",
       "      <th>0</th>\n",
       "      <td>151635</td>\n",
       "      <td>СМЕТАНА</td>\n",
       "      <td>несетевой</td>\n",
       "      <td>кафе</td>\n",
       "      <td>город Москва, улица Егора Абакумова, дом 9</td>\n",
       "      <td>48</td>\n",
       "      <td>СМЕТАНА</td>\n",
       "      <td>улица Егора Абакумова</td>\n",
       "    </tr>\n",
       "    <tr>\n",
       "      <th>1</th>\n",
       "      <td>77874</td>\n",
       "      <td>Родник</td>\n",
       "      <td>несетевой</td>\n",
       "      <td>кафе</td>\n",
       "      <td>город Москва, улица Талалихина, дом 2/1, корпус 1</td>\n",
       "      <td>35</td>\n",
       "      <td>РОДНИК</td>\n",
       "      <td>улица Талалихина</td>\n",
       "    </tr>\n",
       "    <tr>\n",
       "      <th>2</th>\n",
       "      <td>24309</td>\n",
       "      <td>Кафе «Академия»</td>\n",
       "      <td>несетевой</td>\n",
       "      <td>кафе</td>\n",
       "      <td>город Москва, Абельмановская улица, дом 6</td>\n",
       "      <td>95</td>\n",
       "      <td>КАФЕАКАДЕМИЯ</td>\n",
       "      <td>Абельмановская улица</td>\n",
       "    </tr>\n",
       "    <tr>\n",
       "      <th>3</th>\n",
       "      <td>21894</td>\n",
       "      <td>ПИЦЦЕТОРИЯ</td>\n",
       "      <td>сетевой</td>\n",
       "      <td>кафе</td>\n",
       "      <td>город Москва, Абрамцевская улица, дом 1</td>\n",
       "      <td>40</td>\n",
       "      <td>ПИЦЦЕТОРИЯ</td>\n",
       "      <td>Абрамцевская улица</td>\n",
       "    </tr>\n",
       "    <tr>\n",
       "      <th>4</th>\n",
       "      <td>119365</td>\n",
       "      <td>Кафе «Вишневая метель»</td>\n",
       "      <td>несетевой</td>\n",
       "      <td>кафе</td>\n",
       "      <td>город Москва, Абрамцевская улица, дом 9, корпус 1</td>\n",
       "      <td>50</td>\n",
       "      <td>КАФЕВИШНЕВАЯМЕТЕЛЬ</td>\n",
       "      <td>Абрамцевская улица</td>\n",
       "    </tr>\n",
       "  </tbody>\n",
       "</table>\n",
       "</div>"
      ],
      "text/plain": [
       "       id             object_name      chain object_type  \\\n",
       "0  151635                 СМЕТАНА  несетевой        кафе   \n",
       "1   77874                  Родник  несетевой        кафе   \n",
       "2   24309         Кафе «Академия»  несетевой        кафе   \n",
       "3   21894              ПИЦЦЕТОРИЯ    сетевой        кафе   \n",
       "4  119365  Кафе «Вишневая метель»  несетевой        кафе   \n",
       "\n",
       "                                             address  seating_num  \\\n",
       "0         город Москва, улица Егора Абакумова, дом 9           48   \n",
       "1  город Москва, улица Талалихина, дом 2/1, корпус 1           35   \n",
       "2          город Москва, Абельмановская улица, дом 6           95   \n",
       "3            город Москва, Абрамцевская улица, дом 1           40   \n",
       "4  город Москва, Абрамцевская улица, дом 9, корпус 1           50   \n",
       "\n",
       "        object_name_1            street_name  \n",
       "0             СМЕТАНА  улица Егора Абакумова  \n",
       "1              РОДНИК       улица Талалихина  \n",
       "2        КАФЕАКАДЕМИЯ   Абельмановская улица  \n",
       "3          ПИЦЦЕТОРИЯ     Абрамцевская улица  \n",
       "4  КАФЕВИШНЕВАЯМЕТЕЛЬ     Абрамцевская улица  "
      ]
     },
     "execution_count": 37,
     "metadata": {},
     "output_type": "execute_result"
    }
   ],
   "source": [
    "# список слов для поиска в адресе\n",
    "words = ['улица','переулок','шоссе','проспект','площадь','проезд',\n",
    "         'аллея','бульвар','набережная','тупик','линия']\n",
    "\n",
    "# функция для выделения улицы/переулка/проспекта и т.д. из адреса\n",
    "def find_street(address):\n",
    "    for i in range(len(address.split(', '))):\n",
    "        for j in words:\n",
    "            if address.split(', ')[i].find(j) >= 0:\n",
    "                return address.split(', ')[i]\n",
    "\n",
    "# создаем новый столбец с названием улицы\n",
    "df['street_name'] = df['address'].apply(find_street)\n",
    "\n",
    "df.head()"
   ]
  },
  {
   "cell_type": "markdown",
   "metadata": {},
   "source": [
    "Предложенный способ выделения улицы из адреса даст пустые значения в тех случаях, когда улица не указана вообще. Пример таких адресов из нашего датасета: 'город Москва, город Зеленоград, корпус 436', 'город Москва, микрорайон Северное Чертаново, дом 1А'. Посмотрим, сколько будет пустых значений:"
   ]
  },
  {
   "cell_type": "code",
   "execution_count": 38,
   "metadata": {},
   "outputs": [
    {
     "name": "stdout",
     "output_type": "stream",
     "text": [
      "Не определено улиц для 2.6% строк таблицы\n"
     ]
    }
   ],
   "source": [
    "a = len(df.loc[df['street_name'].isna()]) / len(df) * 100\n",
    "\n",
    "print(f\"Не определено улиц для {round(a, 1)}% строк таблицы\")"
   ]
  },
  {
   "cell_type": "markdown",
   "metadata": {},
   "source": [
    "Видим, что механизм выделения улиц сработал достаточно хорошо."
   ]
  },
  {
   "cell_type": "markdown",
   "metadata": {},
   "source": [
    "Выведем топ-10 улиц Москвы по количеству объектов общественного питания:"
   ]
  },
  {
   "cell_type": "code",
   "execution_count": 39,
   "metadata": {},
   "outputs": [
    {
     "data": {
      "text/html": [
       "<div>\n",
       "<style scoped>\n",
       "    .dataframe tbody tr th:only-of-type {\n",
       "        vertical-align: middle;\n",
       "    }\n",
       "\n",
       "    .dataframe tbody tr th {\n",
       "        vertical-align: top;\n",
       "    }\n",
       "\n",
       "    .dataframe thead th {\n",
       "        text-align: right;\n",
       "    }\n",
       "</style>\n",
       "<table border=\"1\" class=\"dataframe\">\n",
       "  <thead>\n",
       "    <tr style=\"text-align: right;\">\n",
       "      <th></th>\n",
       "      <th>street_name</th>\n",
       "      <th>objects_num</th>\n",
       "    </tr>\n",
       "  </thead>\n",
       "  <tbody>\n",
       "    <tr>\n",
       "      <th>0</th>\n",
       "      <td>проспект Мира</td>\n",
       "      <td>204</td>\n",
       "    </tr>\n",
       "    <tr>\n",
       "      <th>1</th>\n",
       "      <td>Профсоюзная улица</td>\n",
       "      <td>182</td>\n",
       "    </tr>\n",
       "    <tr>\n",
       "      <th>2</th>\n",
       "      <td>Ленинградский проспект</td>\n",
       "      <td>172</td>\n",
       "    </tr>\n",
       "    <tr>\n",
       "      <th>3</th>\n",
       "      <td>Пресненская набережная</td>\n",
       "      <td>167</td>\n",
       "    </tr>\n",
       "    <tr>\n",
       "      <th>4</th>\n",
       "      <td>Варшавское шоссе</td>\n",
       "      <td>165</td>\n",
       "    </tr>\n",
       "    <tr>\n",
       "      <th>5</th>\n",
       "      <td>Ленинский проспект</td>\n",
       "      <td>148</td>\n",
       "    </tr>\n",
       "    <tr>\n",
       "      <th>6</th>\n",
       "      <td>проспект Вернадского</td>\n",
       "      <td>128</td>\n",
       "    </tr>\n",
       "    <tr>\n",
       "      <th>7</th>\n",
       "      <td>Кутузовский проспект</td>\n",
       "      <td>114</td>\n",
       "    </tr>\n",
       "    <tr>\n",
       "      <th>8</th>\n",
       "      <td>Каширское шоссе</td>\n",
       "      <td>111</td>\n",
       "    </tr>\n",
       "    <tr>\n",
       "      <th>9</th>\n",
       "      <td>Кировоградская улица</td>\n",
       "      <td>108</td>\n",
       "    </tr>\n",
       "  </tbody>\n",
       "</table>\n",
       "</div>"
      ],
      "text/plain": [
       "              street_name  objects_num\n",
       "0           проспект Мира          204\n",
       "1       Профсоюзная улица          182\n",
       "2  Ленинградский проспект          172\n",
       "3  Пресненская набережная          167\n",
       "4        Варшавское шоссе          165\n",
       "5      Ленинский проспект          148\n",
       "6    проспект Вернадского          128\n",
       "7    Кутузовский проспект          114\n",
       "8         Каширское шоссе          111\n",
       "9    Кировоградская улица          108"
      ]
     },
     "execution_count": 39,
     "metadata": {},
     "output_type": "execute_result"
    }
   ],
   "source": [
    "# создание сводной таблицы\n",
    "max_objects_streets = (\n",
    "    df.groupby('street_name')\n",
    "      .agg({'id': 'count'})\n",
    "      .sort_values(by='id', ascending=False)\n",
    "      .reset_index()\n",
    "      .rename(columns={'id': 'objects_num'})\n",
    ").head(10)\n",
    "\n",
    "max_objects_streets"
   ]
  },
  {
   "cell_type": "markdown",
   "metadata": {},
   "source": [
    "Визуализируем полученные результаты:"
   ]
  },
  {
   "cell_type": "code",
   "execution_count": 40,
   "metadata": {},
   "outputs": [
    {
     "data": {
      "image/png": "[encoded data removed]",
      "text/plain": [
       "<Figure size 720x360 with 1 Axes>"
      ]
     },
     "metadata": {},
     "output_type": "display_data"
    }
   ],
   "source": [
    "plt.figure(figsize=(10,5))\n",
    "\n",
    "sns.barplot(y='street_name', x='objects_num', data=max_objects_streets, orient='h', color='#63a6a0')\n",
    "\n",
    "plt.xlabel('количество заведений', color='#808080', size=10)\n",
    "plt.ylabel('')\n",
    "plt.xticks([])\n",
    "plt.title('Топ-10 улиц Москвы по количеству объектов общественного питания', color='#0d585f')\n",
    "\n",
    "for x,y in zip(max_objects_streets['objects_num'], range(len(max_objects_streets))):\n",
    "    label = '{:.0f}'.format(x)\n",
    "    plt.annotate(label, # текст метки\n",
    "                 (x,y), # координаты метки\n",
    "                 textcoords=\"offset points\", # позиция текста метки\n",
    "                 xytext=(10,0), # расстояние между текстом и точкой координат метки\n",
    "                 va='center') # выравнивание метки\n",
    "\n",
    "plt.show()"
   ]
  },
  {
   "cell_type": "markdown",
   "metadata": {},
   "source": [
    "Все эти улицы - огромные транспортные артерии, соединяющие разные части города. Здесь расположены деловые центры,  культурные объекты, ТРЦ, выставки, музеи и т.д. По ним ежедневно перемещаются огромные потоки как жителей, так и туристов города, поэтому здесь сосредоточено большое число объектов общественного питания."
   ]
  },
  {
   "cell_type": "markdown",
   "metadata": {},
   "source": [
    "Для определения районов расположения улиц из топ-10 воспользуемся внешней информацией. Воспользуемся Порталом открытых данных Правительства Москвы и загрузим полную версию датасета [\"Общественное питание в Москве\"](https://data.mos.ru/opendata/7710881420-obshchestvennoe-pitanie-v-moskve).\n",
    "\n",
    "*P.S. Чтобы не утяжелять тетрадку, удалила перед загрузкой лишние столбцы.*"
   ]
  },
  {
   "cell_type": "code",
   "execution_count": 41,
   "metadata": {},
   "outputs": [
    {
     "data": {
      "text/html": [
       "<div>\n",
       "<style scoped>\n",
       "    .dataframe tbody tr th:only-of-type {\n",
       "        vertical-align: middle;\n",
       "    }\n",
       "\n",
       "    .dataframe tbody tr th {\n",
       "        vertical-align: top;\n",
       "    }\n",
       "\n",
       "    .dataframe thead th {\n",
       "        text-align: right;\n",
       "    }\n",
       "</style>\n",
       "<table border=\"1\" class=\"dataframe\">\n",
       "  <thead>\n",
       "    <tr style=\"text-align: right;\">\n",
       "      <th></th>\n",
       "      <th>ID</th>\n",
       "      <th>Name</th>\n",
       "      <th>District</th>\n",
       "      <th>Address</th>\n",
       "    </tr>\n",
       "  </thead>\n",
       "  <tbody>\n",
       "    <tr>\n",
       "      <th>0</th>\n",
       "      <td>151635</td>\n",
       "      <td>СМЕТАНА</td>\n",
       "      <td>Ярославский район</td>\n",
       "      <td>город Москва, улица Егора Абакумова, дом 9</td>\n",
       "    </tr>\n",
       "    <tr>\n",
       "      <th>1</th>\n",
       "      <td>77874</td>\n",
       "      <td>Родник</td>\n",
       "      <td>Таганский район</td>\n",
       "      <td>город Москва, улица Талалихина, дом 2/1, корпус 1</td>\n",
       "    </tr>\n",
       "    <tr>\n",
       "      <th>2</th>\n",
       "      <td>24309</td>\n",
       "      <td>Кафе «Академия»</td>\n",
       "      <td>Таганский район</td>\n",
       "      <td>Российская Федерация, город Москва, внутригородская территория муниципальный округ Таганский, Абельмановская улица, дом 6</td>\n",
       "    </tr>\n",
       "    <tr>\n",
       "      <th>3</th>\n",
       "      <td>27429</td>\n",
       "      <td>ГБОУ «Школа № 1430 имени Героя Социалистического Труда Г.В. Кисунько» Школа № 1051</td>\n",
       "      <td>район Лианозово</td>\n",
       "      <td>город Москва, Угличская улица, дом 17</td>\n",
       "    </tr>\n",
       "    <tr>\n",
       "      <th>4</th>\n",
       "      <td>148815</td>\n",
       "      <td>Брусника</td>\n",
       "      <td>район Арбат</td>\n",
       "      <td>город Москва, переулок Сивцев Вражек, дом 6/2</td>\n",
       "    </tr>\n",
       "  </tbody>\n",
       "</table>\n",
       "</div>"
      ],
      "text/plain": [
       "       ID  \\\n",
       "0  151635   \n",
       "1   77874   \n",
       "2   24309   \n",
       "3   27429   \n",
       "4  148815   \n",
       "\n",
       "                                                                                 Name  \\\n",
       "0                                                                             СМЕТАНА   \n",
       "1                                                                              Родник   \n",
       "2                                                                     Кафе «Академия»   \n",
       "3  ГБОУ «Школа № 1430 имени Героя Социалистического Труда Г.В. Кисунько» Школа № 1051   \n",
       "4                                                                            Брусника   \n",
       "\n",
       "            District  \\\n",
       "0  Ярославский район   \n",
       "1    Таганский район   \n",
       "2    Таганский район   \n",
       "3    район Лианозово   \n",
       "4        район Арбат   \n",
       "\n",
       "                                                                                                                     Address  \n",
       "0                                                                                 город Москва, улица Егора Абакумова, дом 9  \n",
       "1                                                                          город Москва, улица Талалихина, дом 2/1, корпус 1  \n",
       "2  Российская Федерация, город Москва, внутригородская территория муниципальный округ Таганский, Абельмановская улица, дом 6  \n",
       "3                                                                                      город Москва, Угличская улица, дом 17  \n",
       "4                                                                              город Москва, переулок Сивцев Вражек, дом 6/2  "
      ]
     },
     "execution_count": 41,
     "metadata": {},
     "output_type": "execute_result"
    }
   ],
   "source": [
    "# загрузка стороннего датасета\n",
    "\n",
    "from io import BytesIO\n",
    "import requests\n",
    "spreadsheet_id = '1nbruX8r0BvK0bMCM_AGo3YCfv9gAv_PRlldhxIlRQoc'\n",
    "file_name = 'https://docs.google.com/spreadsheets/d/{}/export?format=xlsx'.format(spreadsheet_id)\n",
    "r = requests.get(file_name)\n",
    "df_full = pd.read_excel(BytesIO(r.content))\n",
    "df_full.head()"
   ]
  },
  {
   "cell_type": "markdown",
   "metadata": {},
   "source": [
    "Из этого датафрейма сформируем таблицу соответствия между адресами и районами города Моквы:"
   ]
  },
  {
   "cell_type": "code",
   "execution_count": 42,
   "metadata": {},
   "outputs": [
    {
     "data": {
      "text/html": [
       "<div>\n",
       "<style scoped>\n",
       "    .dataframe tbody tr th:only-of-type {\n",
       "        vertical-align: middle;\n",
       "    }\n",
       "\n",
       "    .dataframe tbody tr th {\n",
       "        vertical-align: top;\n",
       "    }\n",
       "\n",
       "    .dataframe thead th {\n",
       "        text-align: right;\n",
       "    }\n",
       "</style>\n",
       "<table border=\"1\" class=\"dataframe\">\n",
       "  <thead>\n",
       "    <tr style=\"text-align: right;\">\n",
       "      <th></th>\n",
       "      <th>Address</th>\n",
       "      <th>District</th>\n",
       "    </tr>\n",
       "  </thead>\n",
       "  <tbody>\n",
       "    <tr>\n",
       "      <th>0</th>\n",
       "      <td>2-я Тверская-Ямская улица, дом 40/3, строение 1</td>\n",
       "      <td>Тверской район</td>\n",
       "    </tr>\n",
       "    <tr>\n",
       "      <th>1</th>\n",
       "      <td>5-й Котельнический переулок, дом 11</td>\n",
       "      <td>Таганский район</td>\n",
       "    </tr>\n",
       "    <tr>\n",
       "      <th>2</th>\n",
       "      <td>Алтуфьевское шоссе, дом 52А</td>\n",
       "      <td>Алтуфьевский район</td>\n",
       "    </tr>\n",
       "    <tr>\n",
       "      <th>3</th>\n",
       "      <td>Большая Серпуховская улица, дом 48, строение 2</td>\n",
       "      <td>район Замоскворечье</td>\n",
       "    </tr>\n",
       "    <tr>\n",
       "      <th>4</th>\n",
       "      <td>Вознесенский переулок, дом 7, строение 1</td>\n",
       "      <td>Пресненский район</td>\n",
       "    </tr>\n",
       "  </tbody>\n",
       "</table>\n",
       "</div>"
      ],
      "text/plain": [
       "                                           Address             District\n",
       "0  2-я Тверская-Ямская улица, дом 40/3, строение 1       Тверской район\n",
       "1              5-й Котельнический переулок, дом 11      Таганский район\n",
       "2                      Алтуфьевское шоссе, дом 52А   Алтуфьевский район\n",
       "3   Большая Серпуховская улица, дом 48, строение 2  район Замоскворечье\n",
       "4         Вознесенский переулок, дом 7, строение 1    Пресненский район"
      ]
     },
     "execution_count": 42,
     "metadata": {},
     "output_type": "execute_result"
    }
   ],
   "source": [
    "# создание справочника\n",
    "directory = (\n",
    "    df_full.groupby('Address')\n",
    "           .agg({'District': 'first'})\n",
    "           .reset_index()\n",
    ")\n",
    "directory.head()"
   ]
  },
  {
   "cell_type": "markdown",
   "metadata": {},
   "source": [
    "Добавим в основную таблицу район, пользуясь справочником:"
   ]
  },
  {
   "cell_type": "code",
   "execution_count": 43,
   "metadata": {},
   "outputs": [
    {
     "name": "stdout",
     "output_type": "stream",
     "text": [
      "<class 'pandas.core.frame.DataFrame'>\n",
      "Int64Index: 15284 entries, 0 to 15283\n",
      "Data columns (total 9 columns):\n",
      " #   Column         Non-Null Count  Dtype \n",
      "---  ------         --------------  ----- \n",
      " 0   id             15284 non-null  int64 \n",
      " 1   object_name    15284 non-null  object\n",
      " 2   chain          15284 non-null  object\n",
      " 3   object_type    15284 non-null  object\n",
      " 4   address        15284 non-null  object\n",
      " 5   seating_num    15284 non-null  int64 \n",
      " 6   object_name_1  15284 non-null  object\n",
      " 7   street_name    14885 non-null  object\n",
      " 8   district       12048 non-null  object\n",
      "dtypes: int64(2), object(7)\n",
      "memory usage: 1.2+ MB\n"
     ]
    }
   ],
   "source": [
    "# соединение таблицы со справочником\n",
    "df = df.merge(directory, left_on='address', right_on='Address', how='left')\n",
    "\n",
    "# удаление лишнего столбца\n",
    "df = df.drop(columns=['Address'])\n",
    "\n",
    "# перевод наименований столбцов в нижний регистр\n",
    "df.columns = df.columns.str.lower()\n",
    "\n",
    "df.info()"
   ]
  },
  {
   "cell_type": "markdown",
   "metadata": {},
   "source": [
    "Видим, что районы подтянулись не ко всем адресам, но будем считать, что в целом для ответов на вопросы исследования этого будет достаточно."
   ]
  },
  {
   "cell_type": "markdown",
   "metadata": {},
   "source": [
    "Доработаем сводную таблицу по топ-10 улиц: введем в нее названия районов:"
   ]
  },
  {
   "cell_type": "code",
   "execution_count": 44,
   "metadata": {},
   "outputs": [
    {
     "data": {
      "text/html": [
       "<div>\n",
       "<style scoped>\n",
       "    .dataframe tbody tr th:only-of-type {\n",
       "        vertical-align: middle;\n",
       "    }\n",
       "\n",
       "    .dataframe tbody tr th {\n",
       "        vertical-align: top;\n",
       "    }\n",
       "\n",
       "    .dataframe thead th {\n",
       "        text-align: right;\n",
       "    }\n",
       "</style>\n",
       "<table border=\"1\" class=\"dataframe\">\n",
       "  <thead>\n",
       "    <tr style=\"text-align: right;\">\n",
       "      <th></th>\n",
       "      <th>street_name</th>\n",
       "      <th>objects_num</th>\n",
       "      <th>district</th>\n",
       "    </tr>\n",
       "  </thead>\n",
       "  <tbody>\n",
       "    <tr>\n",
       "      <th>0</th>\n",
       "      <td>проспект Мира</td>\n",
       "      <td>204</td>\n",
       "      <td>[Мещанский район, Останкинский район, Алексеевский район, район Ростокино, район Свиблово]</td>\n",
       "    </tr>\n",
       "    <tr>\n",
       "      <th>1</th>\n",
       "      <td>Профсоюзная улица</td>\n",
       "      <td>182</td>\n",
       "      <td>[Академический район, район Черёмушки, район Тёплый Стан, район Коньково, Обручевский район, район Ясенево]</td>\n",
       "    </tr>\n",
       "    <tr>\n",
       "      <th>2</th>\n",
       "      <td>Ленинградский проспект</td>\n",
       "      <td>172</td>\n",
       "      <td>[район Беговой, район Аэропорт, район Сокол, Хорошёвский район]</td>\n",
       "    </tr>\n",
       "    <tr>\n",
       "      <th>3</th>\n",
       "      <td>Пресненская набережная</td>\n",
       "      <td>167</td>\n",
       "      <td>[Пресненский район]</td>\n",
       "    </tr>\n",
       "    <tr>\n",
       "      <th>4</th>\n",
       "      <td>Варшавское шоссе</td>\n",
       "      <td>165</td>\n",
       "      <td>[Донской район, Нагорный район, район Чертаново Южное, район Чертаново Центральное, район Чертаново Северное, район Нагатино-Садовники, район Южное Бутово, поселение Воскресенское, поселение Щербинка]</td>\n",
       "    </tr>\n",
       "    <tr>\n",
       "      <th>5</th>\n",
       "      <td>Ленинский проспект</td>\n",
       "      <td>148</td>\n",
       "      <td>[район Якиманка, Донской район, Гагаринский район, Ломоносовский район, Обручевский район, район Тропарёво-Никулино, район Тёплый Стан, район Проспект Вернадского]</td>\n",
       "    </tr>\n",
       "    <tr>\n",
       "      <th>6</th>\n",
       "      <td>проспект Вернадского</td>\n",
       "      <td>128</td>\n",
       "      <td>[Ломоносовский район, район Тропарёво-Никулино, район Проспект Вернадского, поселение Вороновское, район Раменки]</td>\n",
       "    </tr>\n",
       "    <tr>\n",
       "      <th>7</th>\n",
       "      <td>Кутузовский проспект</td>\n",
       "      <td>114</td>\n",
       "      <td>[район Дорогомилово, район Фили-Давыдково, поселение Краснопахорское]</td>\n",
       "    </tr>\n",
       "    <tr>\n",
       "      <th>8</th>\n",
       "      <td>Каширское шоссе</td>\n",
       "      <td>111</td>\n",
       "      <td>[район Москворечье-Сабурово, район Орехово-Борисово Северное, район Нагатино-Садовники, район Орехово-Борисово Южное]</td>\n",
       "    </tr>\n",
       "    <tr>\n",
       "      <th>9</th>\n",
       "      <td>Кировоградская улица</td>\n",
       "      <td>108</td>\n",
       "      <td>[район Чертаново Центральное, район Чертаново Южное, район Чертаново Северное]</td>\n",
       "    </tr>\n",
       "  </tbody>\n",
       "</table>\n",
       "</div>"
      ],
      "text/plain": [
       "              street_name  objects_num  \\\n",
       "0           проспект Мира          204   \n",
       "1       Профсоюзная улица          182   \n",
       "2  Ленинградский проспект          172   \n",
       "3  Пресненская набережная          167   \n",
       "4        Варшавское шоссе          165   \n",
       "5      Ленинский проспект          148   \n",
       "6    проспект Вернадского          128   \n",
       "7    Кутузовский проспект          114   \n",
       "8         Каширское шоссе          111   \n",
       "9    Кировоградская улица          108   \n",
       "\n",
       "                                                                                                                                                                                                   district  \n",
       "0                                                                                                                [Мещанский район, Останкинский район, Алексеевский район, район Ростокино, район Свиблово]  \n",
       "1                                                                                               [Академический район, район Черёмушки, район Тёплый Стан, район Коньково, Обручевский район, район Ясенево]  \n",
       "2                                                                                                                                           [район Беговой, район Аэропорт, район Сокол, Хорошёвский район]  \n",
       "3                                                                                                                                                                                       [Пресненский район]  \n",
       "4  [Донской район, Нагорный район, район Чертаново Южное, район Чертаново Центральное, район Чертаново Северное, район Нагатино-Садовники, район Южное Бутово, поселение Воскресенское, поселение Щербинка]  \n",
       "5                                       [район Якиманка, Донской район, Гагаринский район, Ломоносовский район, Обручевский район, район Тропарёво-Никулино, район Тёплый Стан, район Проспект Вернадского]  \n",
       "6                                                                                         [Ломоносовский район, район Тропарёво-Никулино, район Проспект Вернадского, поселение Вороновское, район Раменки]  \n",
       "7                                                                                                                                     [район Дорогомилово, район Фили-Давыдково, поселение Краснопахорское]  \n",
       "8                                                                                     [район Москворечье-Сабурово, район Орехово-Борисово Северное, район Нагатино-Садовники, район Орехово-Борисово Южное]  \n",
       "9                                                                                                                            [район Чертаново Центральное, район Чертаново Южное, район Чертаново Северное]  "
      ]
     },
     "execution_count": 44,
     "metadata": {},
     "output_type": "execute_result"
    }
   ],
   "source": [
    "# ввод столбца с маркером True/False для улиц из списка топ-10\n",
    "df['is_top_streets'] = df['street_name'].isin(max_objects_streets['street_name'])\n",
    "\n",
    "# таблица соответствия улиц из топ-10 и списка районов\n",
    "top_streets_districts = (\n",
    "    df.loc[(df['is_top_streets'] == True) & ~(df['district'].isna())]\n",
    "      .groupby('street_name')\n",
    "      .agg({'district': 'unique'})\n",
    "      .reset_index()\n",
    ")\n",
    "\n",
    "# добавление списка районов в итоговую таблицу\n",
    "max_objects_streets = (\n",
    "    max_objects_streets.merge(top_streets_districts, on='street_name')\n",
    ")\n",
    "\n",
    "max_objects_streets"
   ]
  },
  {
   "cell_type": "markdown",
   "metadata": {},
   "source": [
    "Если в виде таблиц данные использовать в дальнейшем будет не очень удобно, то можно предусмотреть вывод названий улиц из топ-10 и районов, к которым они относятся, в виде списков:"
   ]
  },
  {
   "cell_type": "code",
   "execution_count": 45,
   "metadata": {},
   "outputs": [
    {
     "name": "stdout",
     "output_type": "stream",
     "text": [
      "Топ-10 улиц Москвы по количеству заведений общественного питания:\n",
      "['проспект Мира', 'Профсоюзная улица', 'Ленинградский проспект', 'Пресненская набережная', 'Варшавское шоссе', 'Ленинский проспект', 'проспект Вернадского', 'Кутузовский проспект', 'Каширское шоссе', 'Кировоградская улица']\n",
      "\n",
      "Улицы из топ-10 по количеству заведений относятся к следующим районам:\n",
      "['Донской район', 'Нагорный район', 'район Чертаново Южное', 'Ломоносовский район', 'район Тропарёво-Никулино', 'район Москворечье-Сабурово', 'район Чертаново Центральное', 'район Дорогомилово', 'район Беговой', 'район Аэропорт', 'район Якиманка', 'Гагаринский район', 'Обручевский район', 'Мещанский район', 'Останкинский район', 'Алексеевский район', 'Академический район', 'район Черёмушки', 'район Тёплый Стан', 'район Сокол', 'район Коньково', 'район Чертаново Северное', 'район Проспект Вернадского', 'Хорошёвский район', 'район Орехово-Борисово Северное', 'район Нагатино-Садовники', 'район Ростокино', 'район Фили-Давыдково', 'поселение Вороновское', 'район Свиблово', 'район Ясенево', 'район Южное Бутово', 'район Раменки', 'район Орехово-Борисово Южное', 'Пресненский район', 'поселение Воскресенское', 'поселение Щербинка', 'поселение Краснопахорское']\n",
      "\n",
      "Всего районов в списке: 38\n"
     ]
    }
   ],
   "source": [
    "# вывод списка топ-10 улиц по количеству заведений\n",
    "print('Топ-10 улиц Москвы по количеству заведений общественного питания:')\n",
    "print(list(max_objects_streets['street_name']))\n",
    "print('')\n",
    "\n",
    "# вывод списка районов для улиц из топ-10\n",
    "a = df.loc[(df['is_top_streets'] == True) & ~(df['district'].isna())]['district'].unique()\n",
    "print('Улицы из топ-10 по количеству заведений относятся к следующим районам:')\n",
    "print(list(a))\n",
    "print('')\n",
    "\n",
    "# подсчет количества районов для улиц из топ-10\n",
    "print(f'Всего районов в списке: {len(a)}')"
   ]
  },
  {
   "cell_type": "markdown",
   "metadata": {},
   "source": [
    "**Вывод:**\n",
    "\n",
    "Определены топ-10 улиц Москвы по количеству расположенных на них объектов общественного питания: тройку улиц-лидеров занимают проспект Мира, Профсоюзная улица и Ленинградский проспект. Также определены 38 районов города, в которых находятся заведения из списка топ-10 улиц (всего в Москве 125 районов и 21 поселение)."
   ]
  },
  {
   "cell_type": "markdown",
   "metadata": {},
   "source": [
    "### Улицы с одним объектом общественного питания"
   ]
  },
  {
   "cell_type": "markdown",
   "metadata": {},
   "source": [
    "Теперь найдем количество улиц, на которых, напротив, расположено всего одно заведение общественного питания:"
   ]
  },
  {
   "cell_type": "code",
   "execution_count": 46,
   "metadata": {},
   "outputs": [
    {
     "name": "stdout",
     "output_type": "stream",
     "text": [
      "По одному объекту питания расположено на 549 улицах.\n"
     ]
    }
   ],
   "source": [
    "# создание сводной таблицы\n",
    "one_object_streets = (\n",
    "    df.groupby('street_name')\n",
    "      .agg({'id': 'count'})\n",
    "      .reset_index()\n",
    "      .rename(columns={'id': 'objects_num'})\n",
    ").query('objects_num == 1')\n",
    "\n",
    "print(f'По одному объекту питания расположено на {len(one_object_streets)} улицах.')"
   ]
  },
  {
   "cell_type": "markdown",
   "metadata": {},
   "source": [
    "Выведем список районов для улиц с одним объектом общепита:"
   ]
  },
  {
   "cell_type": "code",
   "execution_count": 47,
   "metadata": {},
   "outputs": [
    {
     "name": "stdout",
     "output_type": "stream",
     "text": [
      "Улицы с одним заведением общественного питания относятся к следующим районам:\n",
      "['район Арбат', 'район Аэропорт', 'район Хорошёво-Мнёвники', 'район Беговой', 'район Хамовники', 'район Марьина Роща', 'Можайский район', 'район Богородское', 'район Преображенское', 'район Дорогомилово', 'район Сокольники', 'район Соколиная Гора', 'район Кунцево', 'район Лефортово', 'Донской район', 'район Котловка', 'Мещанский район', 'район Замоскворечье', 'район Фили-Давыдково', 'Басманный район', 'Нижегородский район', 'район Раменки', 'район Свиблово', 'Таганский район', 'район Ростокино', 'Красносельский район', 'район Южное Бутово', 'район Якиманка', 'Тверской район', 'Рязанский район', 'район Покровское-Стрешнево', 'поселение Десеновское', 'поселение Кленовское', 'Головинский район', 'Лосиноостровский район', 'Останкинский район', 'Пресненский район', 'район Косино-Ухтомский', 'Бутырский район', 'район Метрогородок', 'район Щукино', 'район Чертаново Южное', 'район Ясенево', 'район Зюзино', 'Алтуфьевский район', 'Тимирязевский район', 'Дмитровский район', 'Бескудниковский район', 'район Сокол', 'район Левобережный', 'район Солнцево', 'Нагорный район', 'район Южное Тушино', 'район Северное Измайлово', 'район Восточное Измайлово', 'район Савёлки', 'район Очаково-Матвеевское', 'район Новогиреево', 'Южнопортовый район', 'Бабушкинский район', 'Ярославский район', 'Алексеевский район', 'район Марьино', 'район Северное Бутово', 'район Северное Медведково', 'район Восточный', 'район Гольяново', 'район Кузьминки', 'район Выхино-Жулебино', 'район Капотня', 'район Черёмушки', 'район Коньково', 'Обручевский район', 'район Внуково', 'район Митино', 'район Куркино', 'район Строгино', 'район Крюково', 'район Старое Крюково', 'Даниловский район', 'район Бирюлёво Восточное', 'район Москворечье-Сабурово', 'район Ново-Переделкино', 'поселение Троицк', 'район Северный', 'поселение Внуковское', 'район Западное Дегунино', 'Хорошёвский район', 'район Марфино', 'поселение Краснопахорское', 'поселение Сосенское', 'район Измайлово', 'Савёловский район', 'Войковский район', 'район Филёвский Парк', 'район Некрасовка', 'район Печатники', 'поселение Щаповское']\n",
      "\n",
      "Всего районов в списке: 98\n"
     ]
    }
   ],
   "source": [
    "# ввод столбца с маркером True/False для улиц из списка улиц с одним объектом\n",
    "df['is_one_object_streets'] = df['street_name'].isin(one_object_streets['street_name'])\n",
    "\n",
    "b = df.loc[(df['is_one_object_streets'] == True) & ~(df['district'].isna())]['district'].unique()\n",
    "\n",
    "#вывод списка районов для улиц c одним объектом питания\n",
    "print('Улицы с одним заведением общественного питания относятся к следующим районам:')\n",
    "print(list(b))\n",
    "print('')\n",
    "\n",
    "# подсчет количества районов для улиц c одним объектом питания\n",
    "print(f'Всего районов в списке: {len(b)}')"
   ]
  },
  {
   "cell_type": "markdown",
   "metadata": {},
   "source": [
    "Покажем, в каких топ-10 районах находится наибольшее количество улиц с одним заведением общественного питания:"
   ]
  },
  {
   "cell_type": "code",
   "execution_count": 48,
   "metadata": {},
   "outputs": [
    {
     "data": {
      "text/html": [
       "<div>\n",
       "<style scoped>\n",
       "    .dataframe tbody tr th:only-of-type {\n",
       "        vertical-align: middle;\n",
       "    }\n",
       "\n",
       "    .dataframe tbody tr th {\n",
       "        vertical-align: top;\n",
       "    }\n",
       "\n",
       "    .dataframe thead th {\n",
       "        text-align: right;\n",
       "    }\n",
       "</style>\n",
       "<table border=\"1\" class=\"dataframe\">\n",
       "  <thead>\n",
       "    <tr style=\"text-align: right;\">\n",
       "      <th></th>\n",
       "      <th>district</th>\n",
       "      <th>one_object_streets_num</th>\n",
       "    </tr>\n",
       "  </thead>\n",
       "  <tbody>\n",
       "    <tr>\n",
       "      <th>0</th>\n",
       "      <td>Таганский район</td>\n",
       "      <td>19</td>\n",
       "    </tr>\n",
       "    <tr>\n",
       "      <th>1</th>\n",
       "      <td>Басманный район</td>\n",
       "      <td>17</td>\n",
       "    </tr>\n",
       "    <tr>\n",
       "      <th>2</th>\n",
       "      <td>Пресненский район</td>\n",
       "      <td>16</td>\n",
       "    </tr>\n",
       "    <tr>\n",
       "      <th>3</th>\n",
       "      <td>Тверской район</td>\n",
       "      <td>15</td>\n",
       "    </tr>\n",
       "    <tr>\n",
       "      <th>4</th>\n",
       "      <td>район Хамовники</td>\n",
       "      <td>15</td>\n",
       "    </tr>\n",
       "    <tr>\n",
       "      <th>5</th>\n",
       "      <td>район Южное Бутово</td>\n",
       "      <td>9</td>\n",
       "    </tr>\n",
       "    <tr>\n",
       "      <th>6</th>\n",
       "      <td>Мещанский район</td>\n",
       "      <td>8</td>\n",
       "    </tr>\n",
       "    <tr>\n",
       "      <th>7</th>\n",
       "      <td>район Арбат</td>\n",
       "      <td>8</td>\n",
       "    </tr>\n",
       "    <tr>\n",
       "      <th>8</th>\n",
       "      <td>Красносельский район</td>\n",
       "      <td>8</td>\n",
       "    </tr>\n",
       "    <tr>\n",
       "      <th>9</th>\n",
       "      <td>Можайский район</td>\n",
       "      <td>8</td>\n",
       "    </tr>\n",
       "  </tbody>\n",
       "</table>\n",
       "</div>"
      ],
      "text/plain": [
       "               district  one_object_streets_num\n",
       "0       Таганский район                      19\n",
       "1       Басманный район                      17\n",
       "2     Пресненский район                      16\n",
       "3        Тверской район                      15\n",
       "4       район Хамовники                      15\n",
       "5    район Южное Бутово                       9\n",
       "6       Мещанский район                       8\n",
       "7           район Арбат                       8\n",
       "8  Красносельский район                       8\n",
       "9       Можайский район                       8"
      ]
     },
     "execution_count": 48,
     "metadata": {},
     "output_type": "execute_result"
    }
   ],
   "source": [
    "# создание сводной таблицы\n",
    "one_object_streets_districts = (\n",
    "    df.loc[(df['is_one_object_streets'] == True) & ~(df['district'].isna())]\n",
    "      .groupby('district')\n",
    "      .agg({'id': 'count'})\n",
    "      .rename(columns={'id': 'one_object_streets_num'})\n",
    "      .sort_values(by='one_object_streets_num', ascending=False)\n",
    "      .reset_index()\n",
    ").head(10)\n",
    "\n",
    "one_object_streets_districts"
   ]
  },
  {
   "cell_type": "markdown",
   "metadata": {},
   "source": [
    "<a id='intro2'></a>\n",
    "Визуализируем полученные данные:"
   ]
  },
  {
   "cell_type": "code",
   "execution_count": 49,
   "metadata": {},
   "outputs": [
    {
     "data": {
      "image/png": "[encoded data removed]",
      "text/plain": [
       "<Figure size 720x360 with 1 Axes>"
      ]
     },
     "metadata": {},
     "output_type": "display_data"
    }
   ],
   "source": [
    "plt.figure(figsize=(10,5))\n",
    "\n",
    "sns.barplot(y='district',\n",
    "            x='one_object_streets_num',\n",
    "            data=one_object_streets_districts,\n",
    "            orient='h', color='#63a6a0')\n",
    "\n",
    "plt.xlabel('количество улиц с одним заведением общепита', color='#808080', size=10)\n",
    "plt.ylabel('')\n",
    "plt.xticks([])\n",
    "plt.title('Топ-10 районов Москвы по количеству улиц с одним заведением общепита', color='#0d585f')\n",
    "\n",
    "for x,y in zip(one_object_streets_districts['one_object_streets_num'],\n",
    "               range(len(one_object_streets_districts))):\n",
    "    label = '{:.0f}'.format(x)\n",
    "    plt.annotate(label, # текст метки\n",
    "                 (x,y), # координаты метки\n",
    "                 textcoords=\"offset points\", # позиция текста метки\n",
    "                 xytext=(10,0), # расстояние между текстом и точкой координат метки\n",
    "                 va='center') # выравнивание метки\n",
    "\n",
    "plt.show()"
   ]
  },
  {
   "cell_type": "markdown",
   "metadata": {},
   "source": [
    "В этот список попадают небольшие улицы (переулки, проезды, тупики и т.д.), которые не расположены в местах с большой проходимостью. Это могут быть, например, улицы, на которых находятся учебные заведения: один объект - столовая учебного заведения."
   ]
  },
  {
   "cell_type": "markdown",
   "metadata": {},
   "source": [
    "**Вывод:**\n",
    "\n",
    "Определены 549 улиц, на которых расположено всего по одному объекту общественного питания, а также 98 районов Москвы, в которых находятся эти улицы (всего в Москве 125 районов и 21 поселение). Сформирован список топ-10 районов, в которых расположено максимальное число улиц с одним заведением."
   ]
  },
  {
   "cell_type": "markdown",
   "metadata": {},
   "source": [
    "### Промежуточный вывод по шагу"
   ]
  },
  {
   "cell_type": "markdown",
   "metadata": {},
   "source": [
    "Ответы на основные вопросы исследования подготовлены, можно переходить к формулированию общих выводов и подготовке рекомендаций для инвесторов."
   ]
  },
  {
   "cell_type": "markdown",
   "metadata": {},
   "source": [
    "## Общий вывод"
   ]
  },
  {
   "cell_type": "markdown",
   "metadata": {},
   "source": [
    "Анализ рынка заведений общественного питания Москвы позволяет сделать следующие выводы:\n",
    "* самым распространенным видом заведений являются \"кафе\": их 40% от общего числа заведений;\n",
    "* несетевых объектов общепита в Москве в 4 раза больше, чем сетевых;\n",
    "* сетевое распространение наиболее характерно для заведений вида \"фастфуд\": 41% заведений этого вида являются сетевыми;\n",
    "* для сетевых заведений, в среднем, более характерно наличие большого количества объектов общепита с небольшой вместимостью:  от 4 заведений с числом мест до 40. При этом на рынке Москвы примерно в одинаковых долях присутствуют сети из разных вариантов \"много/мало заведений и много/мало мест\";\n",
    "* без учета заведений, работающих на вынос, самый распространенный вид заведений - кафе - характеризуется медианной вместимостью 35 посадочных мест. Самыми вместительными из всех видов заведений являются столовые: посадочных мест в них 105 единиц;\n",
    "* найдены топ-10 улиц с наибольшим количеством заведений общепита. Они расположены в 38 районах Москвы внутри МКАД, список улиц и районов доступен [здесь](#intro1);\n",
    "* на 549 улицах Москвы, находящихся в 98 районах, расположено всего по одному объекту общественного питания. Сформирован список топ-10 районов, в которых находится максимальное число улиц с одним заведением, он доступен [здесь](#intro2).\n",
    "\n",
    "С учетом этих выводов можно дать следующие рекомендации:\n",
    "* формат нового заведения - \"небольшое кафе\" - вписывается в самую популярную нишу заведений общепита Москвы;\n",
    "* с ориентацией на рынок можно рекомендовать количество посадочных мест в новом кафе 30-40 единиц;\n",
    "* для размещения нового кафе рекомендуется осуществлять поиск свободного помещения в тех районах топовых улиц, в которых располагаются крупные торгово-развлекательные центры, музеи, выставки и другие объекты, привлекающие как туристов, так и жителей города. Такая рекомендация сформирована исходя из предположения о том, что размещая оригинальное кафе в близости к деловым центрам обычно рассчитывают на формирование постоянной клиентской базы, но формат заведения может оказаться привлекателен лишь в краткосрочной перспективе, и необходимо будет работать над дополнительными конкурентными преимуществами. Поэтому логичнее выбрать место, где не просто всегда много людей, а много людей, которые приходят отдыхать и развлекаться; \n",
    "* если формат нового заведения окажется востребованным в долгосрочной перспективе, то можно рассмотреть вопрос о создании сети: анализ показывает, что практически одинаково распространены как сети из 2-3 заведений, так и более крупные, при этом число посадочных мест также может быть совершенно разным. Если станет понятно, что у клиентов быстро теряется интерес к предлагаемому формату обслуживания, то можно будет отказаться от развития сети, при этом выбранное изначально выгодное местоположение не оставит заведение без клиентопотока."
   ]
  }
 ],
 "metadata": {
  "ExecuteTimeLog": [
   {
    "duration": 1233,
    "start_time": "2022-05-17T15:38:37.124Z"
   },
   {
    "duration": 86,
    "start_time": "2022-05-17T15:39:40.518Z"
   },
   {
    "duration": 51,
    "start_time": "2022-05-17T15:40:10.421Z"
   },
   {
    "duration": 11,
    "start_time": "2022-05-17T15:40:52.594Z"
   },
   {
    "duration": 14,
    "start_time": "2022-05-17T15:41:27.489Z"
   },
   {
    "duration": 5,
    "start_time": "2022-05-17T15:42:13.365Z"
   },
   {
    "duration": 9,
    "start_time": "2022-05-17T15:42:21.363Z"
   },
   {
    "duration": 6,
    "start_time": "2022-05-17T15:42:32.806Z"
   },
   {
    "duration": 5,
    "start_time": "2022-05-17T15:42:38.287Z"
   },
   {
    "duration": 10,
    "start_time": "2022-05-17T15:42:44.265Z"
   },
   {
    "duration": 6,
    "start_time": "2022-05-17T15:43:00.783Z"
   },
   {
    "duration": 4,
    "start_time": "2022-05-17T15:43:40.066Z"
   },
   {
    "duration": 7,
    "start_time": "2022-05-17T15:44:00.580Z"
   },
   {
    "duration": 23,
    "start_time": "2022-05-17T15:46:18.214Z"
   },
   {
    "duration": 20,
    "start_time": "2022-05-17T15:46:31.672Z"
   },
   {
    "duration": 131,
    "start_time": "2022-05-17T15:49:02.289Z"
   },
   {
    "duration": 14,
    "start_time": "2022-05-17T15:49:16.682Z"
   },
   {
    "duration": 8,
    "start_time": "2022-05-17T15:51:17.433Z"
   },
   {
    "duration": 8,
    "start_time": "2022-05-17T15:51:20.765Z"
   },
   {
    "duration": 5,
    "start_time": "2022-05-17T15:51:27.032Z"
   },
   {
    "duration": 8,
    "start_time": "2022-05-17T15:51:50.817Z"
   },
   {
    "duration": 9,
    "start_time": "2022-05-17T15:51:58.725Z"
   },
   {
    "duration": 8,
    "start_time": "2022-05-17T15:52:12.393Z"
   },
   {
    "duration": 5,
    "start_time": "2022-05-17T15:52:20.622Z"
   },
   {
    "duration": 5,
    "start_time": "2022-05-17T15:53:45.959Z"
   },
   {
    "duration": 9,
    "start_time": "2022-05-17T15:53:53.097Z"
   },
   {
    "duration": 5,
    "start_time": "2022-05-17T15:54:21.208Z"
   },
   {
    "duration": 4,
    "start_time": "2022-05-17T15:54:31.286Z"
   },
   {
    "duration": 4,
    "start_time": "2022-05-17T15:54:38.633Z"
   },
   {
    "duration": 15,
    "start_time": "2022-05-17T15:55:37.947Z"
   },
   {
    "duration": 1323,
    "start_time": "2022-05-18T07:34:58.496Z"
   },
   {
    "duration": 104,
    "start_time": "2022-05-18T07:35:01.227Z"
   },
   {
    "duration": 12,
    "start_time": "2022-05-18T07:35:02.651Z"
   },
   {
    "duration": 14,
    "start_time": "2022-05-18T07:35:04.377Z"
   },
   {
    "duration": 4,
    "start_time": "2022-05-18T07:35:06.321Z"
   },
   {
    "duration": 4,
    "start_time": "2022-05-18T07:35:06.913Z"
   },
   {
    "duration": 19,
    "start_time": "2022-05-18T07:35:09.914Z"
   },
   {
    "duration": 3,
    "start_time": "2022-05-18T08:13:41.792Z"
   },
   {
    "duration": 77,
    "start_time": "2022-05-18T08:17:00.194Z"
   },
   {
    "duration": 74,
    "start_time": "2022-05-18T08:17:06.841Z"
   },
   {
    "duration": 80,
    "start_time": "2022-05-18T08:17:10.398Z"
   },
   {
    "duration": 77,
    "start_time": "2022-05-18T08:17:13.441Z"
   },
   {
    "duration": 84,
    "start_time": "2022-05-18T08:17:20.643Z"
   },
   {
    "duration": 76,
    "start_time": "2022-05-18T08:17:35.923Z"
   },
   {
    "duration": 6,
    "start_time": "2022-05-18T09:07:33.907Z"
   },
   {
    "duration": 32,
    "start_time": "2022-05-18T09:08:06.432Z"
   },
   {
    "duration": 6,
    "start_time": "2022-05-18T09:08:22.088Z"
   },
   {
    "duration": 37,
    "start_time": "2022-05-18T09:09:38.262Z"
   },
   {
    "duration": 29,
    "start_time": "2022-05-18T09:09:50.542Z"
   },
   {
    "duration": 27,
    "start_time": "2022-05-18T09:09:54.371Z"
   },
   {
    "duration": 6,
    "start_time": "2022-05-18T09:09:57.706Z"
   },
   {
    "duration": 6,
    "start_time": "2022-05-18T09:10:36.248Z"
   },
   {
    "duration": 6,
    "start_time": "2022-05-18T09:10:45.101Z"
   },
   {
    "duration": 5,
    "start_time": "2022-05-18T09:11:17.363Z"
   },
   {
    "duration": 5,
    "start_time": "2022-05-18T09:11:28.700Z"
   },
   {
    "duration": 107,
    "start_time": "2022-05-18T09:11:39.372Z"
   },
   {
    "duration": 6,
    "start_time": "2022-05-18T09:12:39.598Z"
   },
   {
    "duration": 18,
    "start_time": "2022-05-18T09:13:57.879Z"
   },
   {
    "duration": 27,
    "start_time": "2022-05-18T09:14:17.895Z"
   },
   {
    "duration": 7,
    "start_time": "2022-05-18T09:19:20.447Z"
   },
   {
    "duration": 9,
    "start_time": "2022-05-18T09:19:35.048Z"
   },
   {
    "duration": 8,
    "start_time": "2022-05-18T09:19:45.695Z"
   },
   {
    "duration": 12,
    "start_time": "2022-05-18T09:24:05.848Z"
   },
   {
    "duration": 7,
    "start_time": "2022-05-18T09:24:17.484Z"
   },
   {
    "duration": 6,
    "start_time": "2022-05-18T09:24:58.830Z"
   },
   {
    "duration": 10,
    "start_time": "2022-05-18T09:25:04.845Z"
   },
   {
    "duration": 12,
    "start_time": "2022-05-18T09:26:01.521Z"
   },
   {
    "duration": 463,
    "start_time": "2022-05-18T09:27:23.298Z"
   },
   {
    "duration": 5,
    "start_time": "2022-05-18T09:28:08.689Z"
   },
   {
    "duration": 50,
    "start_time": "2022-05-18T09:28:20.304Z"
   },
   {
    "duration": 12,
    "start_time": "2022-05-18T09:28:27.513Z"
   },
   {
    "duration": 16,
    "start_time": "2022-05-18T09:29:28.666Z"
   },
   {
    "duration": 52,
    "start_time": "2022-05-18T09:31:16.761Z"
   },
   {
    "duration": 16,
    "start_time": "2022-05-18T09:31:20.316Z"
   },
   {
    "duration": 15,
    "start_time": "2022-05-18T09:34:06.823Z"
   },
   {
    "duration": 453,
    "start_time": "2022-05-18T09:34:26.279Z"
   },
   {
    "duration": 198,
    "start_time": "2022-05-18T09:35:16.163Z"
   },
   {
    "duration": 199,
    "start_time": "2022-05-18T09:36:01.401Z"
   },
   {
    "duration": 182,
    "start_time": "2022-05-18T09:37:15.953Z"
   },
   {
    "duration": 209,
    "start_time": "2022-05-18T09:44:56.697Z"
   },
   {
    "duration": 140,
    "start_time": "2022-05-18T09:45:13.441Z"
   },
   {
    "duration": 243,
    "start_time": "2022-05-18T09:45:23.749Z"
   },
   {
    "duration": 192,
    "start_time": "2022-05-18T09:45:45.281Z"
   },
   {
    "duration": 118,
    "start_time": "2022-05-18T09:45:51.358Z"
   },
   {
    "duration": 188,
    "start_time": "2022-05-18T09:46:14.792Z"
   },
   {
    "duration": 141,
    "start_time": "2022-05-18T09:46:53.063Z"
   },
   {
    "duration": 318,
    "start_time": "2022-05-18T09:48:33.700Z"
   },
   {
    "duration": 240,
    "start_time": "2022-05-18T09:48:59.841Z"
   },
   {
    "duration": 222,
    "start_time": "2022-05-18T09:49:12.202Z"
   },
   {
    "duration": 203,
    "start_time": "2022-05-18T09:50:02.101Z"
   },
   {
    "duration": 281,
    "start_time": "2022-05-18T09:50:08.859Z"
   },
   {
    "duration": 219,
    "start_time": "2022-05-18T09:50:41.091Z"
   },
   {
    "duration": 236,
    "start_time": "2022-05-18T09:51:03.535Z"
   },
   {
    "duration": 222,
    "start_time": "2022-05-18T09:52:25.037Z"
   },
   {
    "duration": 142,
    "start_time": "2022-05-18T09:52:53.830Z"
   },
   {
    "duration": 203,
    "start_time": "2022-05-18T09:54:45.826Z"
   },
   {
    "duration": 111,
    "start_time": "2022-05-18T09:56:53.377Z"
   },
   {
    "duration": 371,
    "start_time": "2022-05-18T09:57:07.003Z"
   },
   {
    "duration": 243,
    "start_time": "2022-05-18T09:57:18.459Z"
   },
   {
    "duration": 124,
    "start_time": "2022-05-18T09:57:46.205Z"
   },
   {
    "duration": 215,
    "start_time": "2022-05-18T09:57:52.412Z"
   },
   {
    "duration": 217,
    "start_time": "2022-05-18T09:58:00.383Z"
   },
   {
    "duration": 248,
    "start_time": "2022-05-18T09:58:29.542Z"
   },
   {
    "duration": 248,
    "start_time": "2022-05-18T10:04:03.141Z"
   },
   {
    "duration": 245,
    "start_time": "2022-05-18T10:06:25.808Z"
   },
   {
    "duration": 144,
    "start_time": "2022-05-18T10:10:20.949Z"
   },
   {
    "duration": 14,
    "start_time": "2022-05-18T10:10:53.889Z"
   },
   {
    "duration": 236,
    "start_time": "2022-05-18T10:25:50.016Z"
   },
   {
    "duration": 228,
    "start_time": "2022-05-18T10:26:30.129Z"
   },
   {
    "duration": 1917,
    "start_time": "2022-05-18T10:38:15.228Z"
   },
   {
    "duration": 9,
    "start_time": "2022-05-18T10:38:24.028Z"
   },
   {
    "duration": 10,
    "start_time": "2022-05-18T10:38:32.404Z"
   },
   {
    "duration": 12,
    "start_time": "2022-05-18T10:38:47.210Z"
   },
   {
    "duration": 12,
    "start_time": "2022-05-18T10:40:35.051Z"
   },
   {
    "duration": 9,
    "start_time": "2022-05-18T10:40:53.238Z"
   },
   {
    "duration": 13,
    "start_time": "2022-05-18T10:40:57.394Z"
   },
   {
    "duration": 470,
    "start_time": "2022-05-18T10:43:41.220Z"
   },
   {
    "duration": 343,
    "start_time": "2022-05-18T10:46:15.889Z"
   },
   {
    "duration": 193,
    "start_time": "2022-05-18T10:46:29.913Z"
   },
   {
    "duration": 220,
    "start_time": "2022-05-18T10:46:45.737Z"
   },
   {
    "duration": 193,
    "start_time": "2022-05-18T10:47:23.970Z"
   },
   {
    "duration": 192,
    "start_time": "2022-05-18T10:47:51.232Z"
   },
   {
    "duration": 188,
    "start_time": "2022-05-18T10:57:32.117Z"
   },
   {
    "duration": 39,
    "start_time": "2022-05-18T10:58:04.353Z"
   },
   {
    "duration": 193,
    "start_time": "2022-05-18T10:58:14.066Z"
   },
   {
    "duration": 199,
    "start_time": "2022-05-18T11:03:49.321Z"
   },
   {
    "duration": 330,
    "start_time": "2022-05-18T11:04:24.058Z"
   },
   {
    "duration": 195,
    "start_time": "2022-05-18T11:04:39.973Z"
   },
   {
    "duration": 212,
    "start_time": "2022-05-18T11:04:45.634Z"
   },
   {
    "duration": 207,
    "start_time": "2022-05-18T11:05:07.500Z"
   },
   {
    "duration": 178,
    "start_time": "2022-05-18T11:05:24.618Z"
   },
   {
    "duration": 195,
    "start_time": "2022-05-18T11:06:12.188Z"
   },
   {
    "duration": 212,
    "start_time": "2022-05-18T11:07:56.029Z"
   },
   {
    "duration": 214,
    "start_time": "2022-05-18T11:10:48.313Z"
   },
   {
    "duration": 227,
    "start_time": "2022-05-18T11:11:03.623Z"
   },
   {
    "duration": 219,
    "start_time": "2022-05-18T11:11:23.784Z"
   },
   {
    "duration": 253,
    "start_time": "2022-05-18T11:25:29.058Z"
   },
   {
    "duration": 333,
    "start_time": "2022-05-18T11:26:34.755Z"
   },
   {
    "duration": 4,
    "start_time": "2022-05-18T11:27:38.677Z"
   },
   {
    "duration": 2,
    "start_time": "2022-05-18T11:28:53.879Z"
   },
   {
    "duration": 198,
    "start_time": "2022-05-18T11:28:54.822Z"
   },
   {
    "duration": 3,
    "start_time": "2022-05-18T11:29:13.484Z"
   },
   {
    "duration": 206,
    "start_time": "2022-05-18T11:29:15.535Z"
   },
   {
    "duration": 4,
    "start_time": "2022-05-18T11:29:25.007Z"
   },
   {
    "duration": 218,
    "start_time": "2022-05-18T11:29:25.515Z"
   },
   {
    "duration": 5,
    "start_time": "2022-05-18T11:29:31.876Z"
   },
   {
    "duration": 222,
    "start_time": "2022-05-18T11:29:32.311Z"
   },
   {
    "duration": 4,
    "start_time": "2022-05-18T11:29:39.148Z"
   },
   {
    "duration": 230,
    "start_time": "2022-05-18T11:29:39.451Z"
   },
   {
    "duration": 3,
    "start_time": "2022-05-18T11:29:50.493Z"
   },
   {
    "duration": 271,
    "start_time": "2022-05-18T11:29:50.498Z"
   },
   {
    "duration": 3,
    "start_time": "2022-05-18T11:30:04.088Z"
   },
   {
    "duration": 240,
    "start_time": "2022-05-18T11:30:04.649Z"
   },
   {
    "duration": 229,
    "start_time": "2022-05-18T11:30:26.098Z"
   },
   {
    "duration": 215,
    "start_time": "2022-05-18T11:30:33.193Z"
   },
   {
    "duration": 254,
    "start_time": "2022-05-18T11:31:00.050Z"
   },
   {
    "duration": 356,
    "start_time": "2022-05-18T11:31:08.684Z"
   },
   {
    "duration": 229,
    "start_time": "2022-05-18T11:31:32.391Z"
   },
   {
    "duration": 243,
    "start_time": "2022-05-18T11:31:43.034Z"
   },
   {
    "duration": 232,
    "start_time": "2022-05-18T11:31:52.159Z"
   },
   {
    "duration": 254,
    "start_time": "2022-05-18T11:32:01.720Z"
   },
   {
    "duration": 229,
    "start_time": "2022-05-18T11:32:12.059Z"
   },
   {
    "duration": 219,
    "start_time": "2022-05-18T11:32:33.684Z"
   },
   {
    "duration": 249,
    "start_time": "2022-05-18T11:32:45.280Z"
   },
   {
    "duration": 242,
    "start_time": "2022-05-18T11:33:02.155Z"
   },
   {
    "duration": 224,
    "start_time": "2022-05-18T11:33:15.551Z"
   },
   {
    "duration": 216,
    "start_time": "2022-05-18T11:33:25.298Z"
   },
   {
    "duration": 371,
    "start_time": "2022-05-18T11:33:34.493Z"
   },
   {
    "duration": 229,
    "start_time": "2022-05-18T11:33:45.634Z"
   },
   {
    "duration": 240,
    "start_time": "2022-05-18T11:34:16.040Z"
   },
   {
    "duration": 238,
    "start_time": "2022-05-18T11:34:28.593Z"
   },
   {
    "duration": 225,
    "start_time": "2022-05-18T11:34:41.792Z"
   },
   {
    "duration": 220,
    "start_time": "2022-05-18T11:35:13.099Z"
   },
   {
    "duration": 228,
    "start_time": "2022-05-18T11:35:44.151Z"
   },
   {
    "duration": 216,
    "start_time": "2022-05-18T11:35:58.078Z"
   },
   {
    "duration": 240,
    "start_time": "2022-05-18T11:36:04.954Z"
   },
   {
    "duration": 1263,
    "start_time": "2022-05-18T11:36:24.655Z"
   },
   {
    "duration": 138,
    "start_time": "2022-05-18T11:36:25.920Z"
   },
   {
    "duration": 28,
    "start_time": "2022-05-18T11:36:26.060Z"
   },
   {
    "duration": 54,
    "start_time": "2022-05-18T11:36:26.090Z"
   },
   {
    "duration": 302,
    "start_time": "2022-05-18T11:36:26.146Z"
   },
   {
    "duration": 4,
    "start_time": "2022-05-18T11:36:26.450Z"
   },
   {
    "duration": 223,
    "start_time": "2022-05-18T11:37:59.843Z"
   },
   {
    "duration": 212,
    "start_time": "2022-05-18T11:38:16.582Z"
   },
   {
    "duration": 134,
    "start_time": "2022-05-18T11:39:41.414Z"
   },
   {
    "duration": 250,
    "start_time": "2022-05-18T11:40:24.499Z"
   },
   {
    "duration": 19,
    "start_time": "2022-05-18T11:42:24.927Z"
   },
   {
    "duration": 288,
    "start_time": "2022-05-18T11:45:39.254Z"
   },
   {
    "duration": 16,
    "start_time": "2022-05-18T11:47:34.898Z"
   },
   {
    "duration": 21,
    "start_time": "2022-05-18T11:47:54.809Z"
   },
   {
    "duration": 55,
    "start_time": "2022-05-18T11:48:06.158Z"
   },
   {
    "duration": 14,
    "start_time": "2022-05-18T11:48:21.344Z"
   },
   {
    "duration": 172,
    "start_time": "2022-05-18T11:56:47.709Z"
   },
   {
    "duration": 75,
    "start_time": "2022-05-18T11:57:32.289Z"
   },
   {
    "duration": 92,
    "start_time": "2022-05-18T11:57:50.308Z"
   },
   {
    "duration": 83,
    "start_time": "2022-05-18T11:57:59.919Z"
   },
   {
    "duration": 128,
    "start_time": "2022-05-18T11:59:37.985Z"
   },
   {
    "duration": 47,
    "start_time": "2022-05-18T12:01:11.252Z"
   },
   {
    "duration": 69,
    "start_time": "2022-05-18T12:01:18.896Z"
   },
   {
    "duration": 80,
    "start_time": "2022-05-18T12:02:06.259Z"
   },
   {
    "duration": 14,
    "start_time": "2022-05-18T12:02:17.738Z"
   },
   {
    "duration": 84,
    "start_time": "2022-05-18T12:03:13.531Z"
   },
   {
    "duration": 79,
    "start_time": "2022-05-18T12:06:36.872Z"
   },
   {
    "duration": 77,
    "start_time": "2022-05-18T12:07:25.155Z"
   },
   {
    "duration": 6,
    "start_time": "2022-05-18T12:08:49.866Z"
   },
   {
    "duration": 180,
    "start_time": "2022-05-18T12:08:53.626Z"
   },
   {
    "duration": 89,
    "start_time": "2022-05-18T12:09:16.429Z"
   },
   {
    "duration": 91,
    "start_time": "2022-05-18T12:09:47.560Z"
   },
   {
    "duration": 105,
    "start_time": "2022-05-18T12:10:48.795Z"
   },
   {
    "duration": 97,
    "start_time": "2022-05-18T12:11:23.037Z"
   },
   {
    "duration": 115,
    "start_time": "2022-05-18T12:21:41.857Z"
   },
   {
    "duration": 133,
    "start_time": "2022-05-18T12:22:20.873Z"
   },
   {
    "duration": 41,
    "start_time": "2022-05-18T12:23:18.607Z"
   },
   {
    "duration": 108,
    "start_time": "2022-05-18T12:23:30.004Z"
   },
   {
    "duration": 113,
    "start_time": "2022-05-18T12:23:59.939Z"
   },
   {
    "duration": 132,
    "start_time": "2022-05-18T12:25:36.556Z"
   },
   {
    "duration": 92,
    "start_time": "2022-05-18T13:24:03.534Z"
   },
   {
    "duration": 19,
    "start_time": "2022-05-18T13:24:09.910Z"
   },
   {
    "duration": 5,
    "start_time": "2022-05-18T13:26:43.892Z"
   },
   {
    "duration": 25,
    "start_time": "2022-05-18T13:26:45.961Z"
   },
   {
    "duration": 15,
    "start_time": "2022-05-18T13:26:55.330Z"
   },
   {
    "duration": 27,
    "start_time": "2022-05-18T13:27:00.490Z"
   },
   {
    "duration": 20,
    "start_time": "2022-05-18T13:27:28.008Z"
   },
   {
    "duration": 47,
    "start_time": "2022-05-18T13:27:36.404Z"
   },
   {
    "duration": 17,
    "start_time": "2022-05-18T13:27:45.715Z"
   },
   {
    "duration": 20,
    "start_time": "2022-05-18T13:28:07.627Z"
   },
   {
    "duration": 18,
    "start_time": "2022-05-18T13:28:15.123Z"
   },
   {
    "duration": 16,
    "start_time": "2022-05-18T13:28:41.923Z"
   },
   {
    "duration": 49,
    "start_time": "2022-05-18T13:28:56.755Z"
   },
   {
    "duration": 52,
    "start_time": "2022-05-18T13:29:28.589Z"
   },
   {
    "duration": 36,
    "start_time": "2022-05-18T13:30:00.588Z"
   },
   {
    "duration": 26,
    "start_time": "2022-05-18T13:30:03.406Z"
   },
   {
    "duration": 16,
    "start_time": "2022-05-18T13:30:06.637Z"
   },
   {
    "duration": 19,
    "start_time": "2022-05-18T13:30:24.722Z"
   },
   {
    "duration": 17,
    "start_time": "2022-05-18T13:30:40.542Z"
   },
   {
    "duration": 19,
    "start_time": "2022-05-18T13:33:11.225Z"
   },
   {
    "duration": 26,
    "start_time": "2022-05-18T13:33:31.300Z"
   },
   {
    "duration": 21,
    "start_time": "2022-05-18T13:33:41.311Z"
   },
   {
    "duration": 14,
    "start_time": "2022-05-18T13:33:56.514Z"
   },
   {
    "duration": 6,
    "start_time": "2022-05-18T13:34:01.945Z"
   },
   {
    "duration": 23,
    "start_time": "2022-05-18T13:34:02.705Z"
   },
   {
    "duration": 36,
    "start_time": "2022-05-18T13:34:10.985Z"
   },
   {
    "duration": 13,
    "start_time": "2022-05-18T13:34:21.746Z"
   },
   {
    "duration": 7,
    "start_time": "2022-05-18T13:34:41.035Z"
   },
   {
    "duration": 22,
    "start_time": "2022-05-18T13:35:12.703Z"
   },
   {
    "duration": 9,
    "start_time": "2022-05-18T13:35:42.836Z"
   },
   {
    "duration": 14,
    "start_time": "2022-05-18T13:36:25.899Z"
   },
   {
    "duration": 1184,
    "start_time": "2022-05-18T13:36:33.428Z"
   },
   {
    "duration": 18,
    "start_time": "2022-05-18T13:36:39.966Z"
   },
   {
    "duration": 10,
    "start_time": "2022-05-18T13:36:47.839Z"
   },
   {
    "duration": 12,
    "start_time": "2022-05-18T13:37:08.407Z"
   },
   {
    "duration": 19,
    "start_time": "2022-05-18T13:37:41.993Z"
   },
   {
    "duration": 903,
    "start_time": "2022-05-18T13:38:48.224Z"
   },
   {
    "duration": 25,
    "start_time": "2022-05-18T13:38:54.462Z"
   },
   {
    "duration": 12,
    "start_time": "2022-05-18T13:39:02.313Z"
   },
   {
    "duration": 16,
    "start_time": "2022-05-18T13:55:42.413Z"
   },
   {
    "duration": 19,
    "start_time": "2022-05-18T13:55:56.594Z"
   },
   {
    "duration": 44,
    "start_time": "2022-05-18T14:02:07.361Z"
   },
   {
    "duration": 13,
    "start_time": "2022-05-18T14:05:20.429Z"
   },
   {
    "duration": 13,
    "start_time": "2022-05-18T14:06:08.543Z"
   },
   {
    "duration": 31,
    "start_time": "2022-05-18T14:06:17.711Z"
   },
   {
    "duration": 33,
    "start_time": "2022-05-18T14:06:22.945Z"
   },
   {
    "duration": 41,
    "start_time": "2022-05-18T14:07:30.130Z"
   },
   {
    "duration": 30,
    "start_time": "2022-05-18T14:07:32.189Z"
   },
   {
    "duration": 50,
    "start_time": "2022-05-18T14:07:59.377Z"
   },
   {
    "duration": 42,
    "start_time": "2022-05-18T14:08:00.701Z"
   },
   {
    "duration": 32,
    "start_time": "2022-05-18T14:16:52.492Z"
   },
   {
    "duration": 22,
    "start_time": "2022-05-18T14:26:29.734Z"
   },
   {
    "duration": 179,
    "start_time": "2022-05-18T14:26:59.765Z"
   },
   {
    "duration": 24,
    "start_time": "2022-05-18T14:27:11.520Z"
   },
   {
    "duration": 4,
    "start_time": "2022-05-18T14:27:24.254Z"
   },
   {
    "duration": 80,
    "start_time": "2022-05-18T14:27:29.490Z"
   },
   {
    "duration": 51,
    "start_time": "2022-05-18T14:27:50.132Z"
   },
   {
    "duration": 68,
    "start_time": "2022-05-18T14:28:33.499Z"
   },
   {
    "duration": 8,
    "start_time": "2022-05-18T14:29:38.093Z"
   },
   {
    "duration": 31,
    "start_time": "2022-05-18T14:29:41.915Z"
   },
   {
    "duration": 13,
    "start_time": "2022-05-18T14:32:01.440Z"
   },
   {
    "duration": 20,
    "start_time": "2022-05-18T14:32:06.831Z"
   },
   {
    "duration": 50,
    "start_time": "2022-05-18T14:33:09.883Z"
   },
   {
    "duration": 66,
    "start_time": "2022-05-18T14:33:30.551Z"
   },
   {
    "duration": 36,
    "start_time": "2022-05-18T14:35:09.356Z"
   },
   {
    "duration": 68,
    "start_time": "2022-05-18T14:36:33.849Z"
   },
   {
    "duration": 51,
    "start_time": "2022-05-18T14:36:43.351Z"
   },
   {
    "duration": 42,
    "start_time": "2022-05-18T14:37:20.685Z"
   },
   {
    "duration": 257,
    "start_time": "2022-05-18T14:37:50.229Z"
   },
   {
    "duration": 23,
    "start_time": "2022-05-18T14:37:54.031Z"
   },
   {
    "duration": 54,
    "start_time": "2022-05-18T14:37:58.734Z"
   },
   {
    "duration": 54,
    "start_time": "2022-05-18T14:38:02.011Z"
   },
   {
    "duration": 58,
    "start_time": "2022-05-18T14:38:57.446Z"
   },
   {
    "duration": 31,
    "start_time": "2022-05-18T14:39:22.744Z"
   },
   {
    "duration": 45,
    "start_time": "2022-05-18T14:39:40.815Z"
   },
   {
    "duration": 11,
    "start_time": "2022-05-18T15:11:21.896Z"
   },
   {
    "duration": 4,
    "start_time": "2022-05-18T15:11:26.243Z"
   },
   {
    "duration": 17,
    "start_time": "2022-05-18T15:11:46.291Z"
   },
   {
    "duration": 14,
    "start_time": "2022-05-18T15:11:53.491Z"
   },
   {
    "duration": 6,
    "start_time": "2022-05-18T15:12:03.935Z"
   },
   {
    "duration": 20,
    "start_time": "2022-05-18T15:13:23.884Z"
   },
   {
    "duration": 7,
    "start_time": "2022-05-18T15:14:49.695Z"
   },
   {
    "duration": 27,
    "start_time": "2022-05-18T15:14:56.962Z"
   },
   {
    "duration": 14,
    "start_time": "2022-05-18T15:16:11.516Z"
   },
   {
    "duration": 18,
    "start_time": "2022-05-18T15:17:19.509Z"
   },
   {
    "duration": 16,
    "start_time": "2022-05-18T15:17:37.391Z"
   },
   {
    "duration": 10,
    "start_time": "2022-05-18T15:17:48.751Z"
   },
   {
    "duration": 21,
    "start_time": "2022-05-18T15:20:48.388Z"
   },
   {
    "duration": 17,
    "start_time": "2022-05-18T15:25:15.283Z"
   },
   {
    "duration": 11,
    "start_time": "2022-05-18T15:30:10.877Z"
   },
   {
    "duration": 136,
    "start_time": "2022-05-18T15:39:28.363Z"
   },
   {
    "duration": 6,
    "start_time": "2022-05-18T15:39:33.981Z"
   },
   {
    "duration": 216,
    "start_time": "2022-05-18T15:40:29.158Z"
   },
   {
    "duration": 24,
    "start_time": "2022-05-18T15:40:35.084Z"
   },
   {
    "duration": 18,
    "start_time": "2022-05-18T15:41:19.310Z"
   },
   {
    "duration": 24,
    "start_time": "2022-05-18T15:46:53.126Z"
   },
   {
    "duration": 32,
    "start_time": "2022-05-18T15:47:25.942Z"
   },
   {
    "duration": 22,
    "start_time": "2022-05-18T16:15:36.203Z"
   },
   {
    "duration": 31,
    "start_time": "2022-05-18T16:20:05.243Z"
   },
   {
    "duration": 19,
    "start_time": "2022-05-18T16:24:47.805Z"
   },
   {
    "duration": 7,
    "start_time": "2022-05-18T16:24:54.931Z"
   },
   {
    "duration": 28,
    "start_time": "2022-05-18T16:29:03.546Z"
   },
   {
    "duration": 1396,
    "start_time": "2022-05-18T18:44:56.263Z"
   },
   {
    "duration": 283,
    "start_time": "2022-05-18T18:45:02.972Z"
   },
   {
    "duration": 5,
    "start_time": "2022-05-18T18:45:07.842Z"
   },
   {
    "duration": 22,
    "start_time": "2022-05-18T18:45:11.178Z"
   },
   {
    "duration": 17,
    "start_time": "2022-05-18T18:45:12.598Z"
   },
   {
    "duration": 10,
    "start_time": "2022-05-18T18:52:15.837Z"
   },
   {
    "duration": 69,
    "start_time": "2022-05-18T18:53:15.604Z"
   },
   {
    "duration": 7,
    "start_time": "2022-05-18T18:53:30.574Z"
   },
   {
    "duration": 3,
    "start_time": "2022-05-18T18:55:03.419Z"
   },
   {
    "duration": 22,
    "start_time": "2022-05-18T18:55:10.280Z"
   },
   {
    "duration": 23,
    "start_time": "2022-05-18T19:01:08.637Z"
   },
   {
    "duration": 17,
    "start_time": "2022-05-18T19:01:21.162Z"
   },
   {
    "duration": 11,
    "start_time": "2022-05-18T19:02:26.469Z"
   },
   {
    "duration": 140,
    "start_time": "2022-05-18T19:03:53.348Z"
   },
   {
    "duration": 603,
    "start_time": "2022-05-18T19:04:15.445Z"
   },
   {
    "duration": 5,
    "start_time": "2022-05-18T19:06:14.872Z"
   },
   {
    "duration": 152,
    "start_time": "2022-05-18T19:09:27.993Z"
   },
   {
    "duration": 11,
    "start_time": "2022-05-18T19:09:38.925Z"
   },
   {
    "duration": 17,
    "start_time": "2022-05-18T19:09:43.180Z"
   },
   {
    "duration": 21,
    "start_time": "2022-05-18T19:10:03.117Z"
   },
   {
    "duration": 5,
    "start_time": "2022-05-18T19:11:29.501Z"
   },
   {
    "duration": 4,
    "start_time": "2022-05-18T19:11:47.823Z"
   },
   {
    "duration": 16,
    "start_time": "2022-05-18T19:13:01.801Z"
   },
   {
    "duration": 10,
    "start_time": "2022-05-18T19:13:29.151Z"
   },
   {
    "duration": 19,
    "start_time": "2022-05-18T19:13:33.123Z"
   },
   {
    "duration": 17,
    "start_time": "2022-05-18T19:14:18.022Z"
   },
   {
    "duration": 31,
    "start_time": "2022-05-18T19:15:09.397Z"
   },
   {
    "duration": 18,
    "start_time": "2022-05-18T19:15:35.756Z"
   },
   {
    "duration": 25,
    "start_time": "2022-05-18T19:16:19.974Z"
   },
   {
    "duration": 5,
    "start_time": "2022-05-18T19:17:00.020Z"
   },
   {
    "duration": 8,
    "start_time": "2022-05-18T19:17:07.606Z"
   },
   {
    "duration": 8,
    "start_time": "2022-05-18T19:17:14.799Z"
   },
   {
    "duration": 11,
    "start_time": "2022-05-18T19:17:22.206Z"
   },
   {
    "duration": 19,
    "start_time": "2022-05-18T19:17:54.896Z"
   },
   {
    "duration": 17,
    "start_time": "2022-05-18T19:18:12.600Z"
   },
   {
    "duration": 25,
    "start_time": "2022-05-18T19:18:28.178Z"
   },
   {
    "duration": 14,
    "start_time": "2022-05-18T19:18:48.633Z"
   },
   {
    "duration": 15,
    "start_time": "2022-05-18T19:19:02.320Z"
   },
   {
    "duration": 21,
    "start_time": "2022-05-18T19:19:12.492Z"
   },
   {
    "duration": 18,
    "start_time": "2022-05-18T19:19:17.461Z"
   },
   {
    "duration": 14,
    "start_time": "2022-05-18T19:19:37.513Z"
   },
   {
    "duration": 18,
    "start_time": "2022-05-18T19:20:08.979Z"
   },
   {
    "duration": 12,
    "start_time": "2022-05-18T19:27:05.022Z"
   },
   {
    "duration": 11,
    "start_time": "2022-05-18T19:30:58.337Z"
   },
   {
    "duration": 15,
    "start_time": "2022-05-18T19:34:46.884Z"
   },
   {
    "duration": 11,
    "start_time": "2022-05-18T19:34:57.606Z"
   },
   {
    "duration": 11,
    "start_time": "2022-05-18T19:35:08.942Z"
   },
   {
    "duration": 12,
    "start_time": "2022-05-18T19:35:45.196Z"
   },
   {
    "duration": 6,
    "start_time": "2022-05-18T19:36:01.296Z"
   },
   {
    "duration": 11,
    "start_time": "2022-05-18T19:36:04.362Z"
   },
   {
    "duration": 75,
    "start_time": "2022-05-18T19:36:27.384Z"
   },
   {
    "duration": 14,
    "start_time": "2022-05-18T19:36:31.719Z"
   },
   {
    "duration": 8,
    "start_time": "2022-05-18T19:36:49.330Z"
   },
   {
    "duration": 12,
    "start_time": "2022-05-18T19:36:51.266Z"
   },
   {
    "duration": 16,
    "start_time": "2022-05-18T19:37:17.225Z"
   },
   {
    "duration": 11,
    "start_time": "2022-05-18T19:37:17.937Z"
   },
   {
    "duration": 23,
    "start_time": "2022-05-18T19:37:31.713Z"
   },
   {
    "duration": 11,
    "start_time": "2022-05-18T19:37:50.746Z"
   },
   {
    "duration": 11,
    "start_time": "2022-05-18T19:38:35.650Z"
   },
   {
    "duration": 36,
    "start_time": "2022-05-18T19:39:01.083Z"
   },
   {
    "duration": 10,
    "start_time": "2022-05-18T19:39:02.156Z"
   },
   {
    "duration": 44,
    "start_time": "2022-05-18T19:39:22.699Z"
   },
   {
    "duration": 11,
    "start_time": "2022-05-18T19:39:23.841Z"
   },
   {
    "duration": 9,
    "start_time": "2022-05-18T19:40:03.982Z"
   },
   {
    "duration": 14,
    "start_time": "2022-05-18T19:40:24.876Z"
   },
   {
    "duration": 40,
    "start_time": "2022-05-18T19:41:33.819Z"
   },
   {
    "duration": 18,
    "start_time": "2022-05-18T19:42:13.137Z"
   },
   {
    "duration": 7,
    "start_time": "2022-05-18T19:53:01.389Z"
   },
   {
    "duration": 17,
    "start_time": "2022-05-18T19:53:07.877Z"
   },
   {
    "duration": 31,
    "start_time": "2022-05-18T19:54:52.550Z"
   },
   {
    "duration": 14,
    "start_time": "2022-05-18T19:55:20.713Z"
   },
   {
    "duration": 41,
    "start_time": "2022-05-18T19:55:44.801Z"
   },
   {
    "duration": 17,
    "start_time": "2022-05-18T19:57:36.995Z"
   },
   {
    "duration": 22,
    "start_time": "2022-05-18T19:58:15.860Z"
   },
   {
    "duration": 8,
    "start_time": "2022-05-18T19:58:29.028Z"
   },
   {
    "duration": 82,
    "start_time": "2022-05-18T20:04:53.594Z"
   },
   {
    "duration": 5,
    "start_time": "2022-05-18T20:04:56.604Z"
   },
   {
    "duration": 17,
    "start_time": "2022-05-18T20:04:59.679Z"
   },
   {
    "duration": 20,
    "start_time": "2022-05-18T20:05:02.436Z"
   },
   {
    "duration": 15,
    "start_time": "2022-05-18T20:05:07.764Z"
   },
   {
    "duration": 10,
    "start_time": "2022-05-18T20:05:45.988Z"
   },
   {
    "duration": 15,
    "start_time": "2022-05-18T20:06:11.310Z"
   },
   {
    "duration": 27,
    "start_time": "2022-05-18T20:07:05.655Z"
   },
   {
    "duration": 11,
    "start_time": "2022-05-18T20:07:40.216Z"
   },
   {
    "duration": 13,
    "start_time": "2022-05-18T20:07:48.724Z"
   },
   {
    "duration": 16,
    "start_time": "2022-05-18T20:07:50.049Z"
   },
   {
    "duration": 19,
    "start_time": "2022-05-18T20:09:12.614Z"
   },
   {
    "duration": 52,
    "start_time": "2022-05-18T20:09:34.181Z"
   },
   {
    "duration": 36,
    "start_time": "2022-05-18T20:09:37.516Z"
   },
   {
    "duration": 18,
    "start_time": "2022-05-18T20:10:14.653Z"
   },
   {
    "duration": 21,
    "start_time": "2022-05-18T20:10:42.715Z"
   },
   {
    "duration": 28,
    "start_time": "2022-05-18T20:11:03.724Z"
   },
   {
    "duration": 20,
    "start_time": "2022-05-18T20:14:38.121Z"
   },
   {
    "duration": 19,
    "start_time": "2022-05-18T20:16:06.084Z"
   },
   {
    "duration": 24,
    "start_time": "2022-05-18T20:16:36.427Z"
   },
   {
    "duration": 49,
    "start_time": "2022-05-18T20:17:16.830Z"
   },
   {
    "duration": 45,
    "start_time": "2022-05-18T20:19:40.284Z"
   },
   {
    "duration": 9,
    "start_time": "2022-05-18T20:21:28.018Z"
   },
   {
    "duration": 20,
    "start_time": "2022-05-18T20:21:42.983Z"
   },
   {
    "duration": 15,
    "start_time": "2022-05-18T20:21:55.759Z"
   },
   {
    "duration": 16,
    "start_time": "2022-05-18T20:22:33.604Z"
   },
   {
    "duration": 13,
    "start_time": "2022-05-18T20:23:01.598Z"
   },
   {
    "duration": 54,
    "start_time": "2022-05-18T20:23:35.911Z"
   },
   {
    "duration": 29,
    "start_time": "2022-05-18T20:23:39.461Z"
   },
   {
    "duration": 15,
    "start_time": "2022-05-18T20:23:46.681Z"
   },
   {
    "duration": 25,
    "start_time": "2022-05-18T20:23:59.290Z"
   },
   {
    "duration": 17,
    "start_time": "2022-05-18T20:24:06.650Z"
   },
   {
    "duration": 26,
    "start_time": "2022-05-18T20:24:11.889Z"
   },
   {
    "duration": 9,
    "start_time": "2022-05-18T20:24:23.904Z"
   },
   {
    "duration": 10,
    "start_time": "2022-05-18T20:24:56.755Z"
   },
   {
    "duration": 12,
    "start_time": "2022-05-18T20:25:30.219Z"
   },
   {
    "duration": 8,
    "start_time": "2022-05-18T20:26:03.593Z"
   },
   {
    "duration": 13,
    "start_time": "2022-05-18T20:26:31.596Z"
   },
   {
    "duration": 9,
    "start_time": "2022-05-18T20:27:53.771Z"
   },
   {
    "duration": 30,
    "start_time": "2022-05-18T20:28:18.058Z"
   },
   {
    "duration": 22,
    "start_time": "2022-05-18T20:28:38.662Z"
   },
   {
    "duration": 28,
    "start_time": "2022-05-18T20:28:43.654Z"
   },
   {
    "duration": 16,
    "start_time": "2022-05-18T20:29:11.206Z"
   },
   {
    "duration": 14,
    "start_time": "2022-05-18T20:29:21.265Z"
   },
   {
    "duration": 79,
    "start_time": "2022-05-18T20:30:05.927Z"
   },
   {
    "duration": 20,
    "start_time": "2022-05-18T20:30:07.146Z"
   },
   {
    "duration": 51,
    "start_time": "2022-05-18T20:30:48.022Z"
   },
   {
    "duration": 17,
    "start_time": "2022-05-18T20:32:01.122Z"
   },
   {
    "duration": 17,
    "start_time": "2022-05-18T20:32:10.889Z"
   },
   {
    "duration": 18,
    "start_time": "2022-05-18T20:32:25.159Z"
   },
   {
    "duration": 18,
    "start_time": "2022-05-18T20:32:43.063Z"
   },
   {
    "duration": 8,
    "start_time": "2022-05-18T20:34:46.318Z"
   },
   {
    "duration": 10,
    "start_time": "2022-05-18T20:34:55.650Z"
   },
   {
    "duration": 15,
    "start_time": "2022-05-18T20:36:34.169Z"
   },
   {
    "duration": 12,
    "start_time": "2022-05-18T20:39:31.181Z"
   },
   {
    "duration": 34,
    "start_time": "2022-05-18T20:43:27.001Z"
   },
   {
    "duration": 158,
    "start_time": "2022-05-18T20:44:28.193Z"
   },
   {
    "duration": 146,
    "start_time": "2022-05-18T20:46:03.912Z"
   },
   {
    "duration": 18,
    "start_time": "2022-05-18T20:46:22.417Z"
   },
   {
    "duration": 37,
    "start_time": "2022-05-18T20:48:05.838Z"
   },
   {
    "duration": 1191,
    "start_time": "2022-05-18T20:48:56.149Z"
   },
   {
    "duration": 86,
    "start_time": "2022-05-18T20:48:57.342Z"
   },
   {
    "duration": 5,
    "start_time": "2022-05-18T20:48:57.430Z"
   },
   {
    "duration": 20,
    "start_time": "2022-05-18T20:48:57.437Z"
   },
   {
    "duration": 19,
    "start_time": "2022-05-18T20:48:57.475Z"
   },
   {
    "duration": 15,
    "start_time": "2022-05-18T20:48:57.496Z"
   },
   {
    "duration": 11,
    "start_time": "2022-05-18T20:48:57.512Z"
   },
   {
    "duration": 76,
    "start_time": "2022-05-18T20:48:57.525Z"
   },
   {
    "duration": 9,
    "start_time": "2022-05-18T20:48:57.603Z"
   },
   {
    "duration": 25,
    "start_time": "2022-05-18T20:48:57.615Z"
   },
   {
    "duration": 204,
    "start_time": "2022-05-18T20:48:57.642Z"
   },
   {
    "duration": 32,
    "start_time": "2022-05-18T20:48:57.847Z"
   },
   {
    "duration": 49,
    "start_time": "2022-05-18T20:48:57.881Z"
   },
   {
    "duration": 80,
    "start_time": "2022-05-18T20:48:57.932Z"
   },
   {
    "duration": 272,
    "start_time": "2022-05-18T20:48:58.014Z"
   },
   {
    "duration": 13,
    "start_time": "2022-05-18T20:48:58.288Z"
   },
   {
    "duration": 106,
    "start_time": "2022-05-18T20:48:58.302Z"
   },
   {
    "duration": 5,
    "start_time": "2022-05-18T20:48:58.410Z"
   },
   {
    "duration": 24,
    "start_time": "2022-05-18T20:48:58.416Z"
   },
   {
    "duration": 10,
    "start_time": "2022-05-18T20:48:58.442Z"
   },
   {
    "duration": 37,
    "start_time": "2022-05-18T20:48:58.454Z"
   },
   {
    "duration": 13,
    "start_time": "2022-05-18T20:48:58.492Z"
   },
   {
    "duration": 34,
    "start_time": "2022-05-18T20:50:00.769Z"
   },
   {
    "duration": 1098,
    "start_time": "2022-05-18T20:50:14.016Z"
   },
   {
    "duration": 114,
    "start_time": "2022-05-18T20:50:15.116Z"
   },
   {
    "duration": 7,
    "start_time": "2022-05-18T20:50:15.232Z"
   },
   {
    "duration": 25,
    "start_time": "2022-05-18T20:50:15.241Z"
   },
   {
    "duration": 30,
    "start_time": "2022-05-18T20:50:15.276Z"
   },
   {
    "duration": 16,
    "start_time": "2022-05-18T20:50:15.308Z"
   },
   {
    "duration": 14,
    "start_time": "2022-05-18T20:50:15.326Z"
   },
   {
    "duration": 76,
    "start_time": "2022-05-18T20:50:15.342Z"
   },
   {
    "duration": 9,
    "start_time": "2022-05-18T20:50:15.420Z"
   },
   {
    "duration": 56,
    "start_time": "2022-05-18T20:50:15.430Z"
   },
   {
    "duration": 155,
    "start_time": "2022-05-18T20:50:15.488Z"
   },
   {
    "duration": 19,
    "start_time": "2022-05-18T20:50:15.645Z"
   },
   {
    "duration": 43,
    "start_time": "2022-05-18T20:50:15.665Z"
   },
   {
    "duration": 65,
    "start_time": "2022-05-18T20:50:15.711Z"
   },
   {
    "duration": 276,
    "start_time": "2022-05-18T20:50:15.778Z"
   },
   {
    "duration": 19,
    "start_time": "2022-05-18T20:50:16.056Z"
   },
   {
    "duration": 102,
    "start_time": "2022-05-18T20:50:16.076Z"
   },
   {
    "duration": 5,
    "start_time": "2022-05-18T20:50:16.180Z"
   },
   {
    "duration": 18,
    "start_time": "2022-05-18T20:50:16.186Z"
   },
   {
    "duration": 10,
    "start_time": "2022-05-18T20:50:16.205Z"
   },
   {
    "duration": 34,
    "start_time": "2022-05-18T20:50:16.217Z"
   },
   {
    "duration": 30,
    "start_time": "2022-05-18T20:50:16.253Z"
   },
   {
    "duration": 1380,
    "start_time": "2022-05-20T04:33:00.942Z"
   },
   {
    "duration": 116,
    "start_time": "2022-05-20T04:33:04.918Z"
   },
   {
    "duration": 6,
    "start_time": "2022-05-20T04:33:10.518Z"
   },
   {
    "duration": 39,
    "start_time": "2022-05-20T04:34:14.792Z"
   },
   {
    "duration": 50,
    "start_time": "2022-05-20T04:34:21.924Z"
   },
   {
    "duration": 15,
    "start_time": "2022-05-20T04:34:34.313Z"
   },
   {
    "duration": 20,
    "start_time": "2022-05-20T04:37:12.313Z"
   },
   {
    "duration": 16,
    "start_time": "2022-05-20T04:37:27.461Z"
   },
   {
    "duration": 529,
    "start_time": "2022-05-20T04:40:31.195Z"
   },
   {
    "duration": 13,
    "start_time": "2022-05-20T04:40:40.129Z"
   },
   {
    "duration": 10,
    "start_time": "2022-05-20T04:40:42.456Z"
   },
   {
    "duration": 54,
    "start_time": "2022-05-20T04:40:43.876Z"
   },
   {
    "duration": 14,
    "start_time": "2022-05-20T04:40:44.913Z"
   },
   {
    "duration": 12,
    "start_time": "2022-05-20T04:41:01.412Z"
   },
   {
    "duration": 50,
    "start_time": "2022-05-20T04:41:02.401Z"
   },
   {
    "duration": 15,
    "start_time": "2022-05-20T04:41:02.968Z"
   },
   {
    "duration": 19,
    "start_time": "2022-05-20T04:41:43.173Z"
   },
   {
    "duration": 4,
    "start_time": "2022-05-20T04:42:01.949Z"
   },
   {
    "duration": 77,
    "start_time": "2022-05-20T04:42:12.039Z"
   },
   {
    "duration": 6,
    "start_time": "2022-05-20T04:42:15.388Z"
   },
   {
    "duration": 16,
    "start_time": "2022-05-20T04:42:17.322Z"
   },
   {
    "duration": 22,
    "start_time": "2022-05-20T04:42:18.435Z"
   },
   {
    "duration": 13,
    "start_time": "2022-05-20T04:42:19.987Z"
   },
   {
    "duration": 11,
    "start_time": "2022-05-20T04:42:21.802Z"
   },
   {
    "duration": 11,
    "start_time": "2022-05-20T04:42:23.806Z"
   },
   {
    "duration": 9,
    "start_time": "2022-05-20T04:42:39.180Z"
   },
   {
    "duration": 70,
    "start_time": "2022-05-20T04:42:45.980Z"
   },
   {
    "duration": 6,
    "start_time": "2022-05-20T04:42:47.659Z"
   },
   {
    "duration": 17,
    "start_time": "2022-05-20T04:42:48.763Z"
   },
   {
    "duration": 19,
    "start_time": "2022-05-20T04:42:50.373Z"
   },
   {
    "duration": 12,
    "start_time": "2022-05-20T04:42:52.979Z"
   },
   {
    "duration": 10,
    "start_time": "2022-05-20T04:42:53.627Z"
   },
   {
    "duration": 10,
    "start_time": "2022-05-20T04:42:54.659Z"
   },
   {
    "duration": 65,
    "start_time": "2022-05-20T04:43:04.428Z"
   },
   {
    "duration": 10,
    "start_time": "2022-05-20T04:43:05.387Z"
   },
   {
    "duration": 395,
    "start_time": "2022-05-20T04:48:06.463Z"
   },
   {
    "duration": 15,
    "start_time": "2022-05-20T04:49:33.007Z"
   },
   {
    "duration": 27,
    "start_time": "2022-05-20T04:50:06.432Z"
   },
   {
    "duration": 145,
    "start_time": "2022-05-20T04:52:46.258Z"
   },
   {
    "duration": 17,
    "start_time": "2022-05-20T04:53:17.123Z"
   },
   {
    "duration": 20,
    "start_time": "2022-05-20T04:55:16.464Z"
   },
   {
    "duration": 19,
    "start_time": "2022-05-20T04:57:07.434Z"
   },
   {
    "duration": 12,
    "start_time": "2022-05-20T04:58:26.961Z"
   },
   {
    "duration": 60,
    "start_time": "2022-05-20T04:58:35.788Z"
   },
   {
    "duration": 10,
    "start_time": "2022-05-20T04:58:42.526Z"
   },
   {
    "duration": 25,
    "start_time": "2022-05-20T04:58:58.536Z"
   },
   {
    "duration": 154,
    "start_time": "2022-05-20T04:59:12.506Z"
   },
   {
    "duration": 19,
    "start_time": "2022-05-20T04:59:16.698Z"
   },
   {
    "duration": 43,
    "start_time": "2022-05-20T05:00:11.109Z"
   },
   {
    "duration": 1140,
    "start_time": "2022-05-20T05:00:19.960Z"
   },
   {
    "duration": 79,
    "start_time": "2022-05-20T05:00:21.101Z"
   },
   {
    "duration": 8,
    "start_time": "2022-05-20T05:00:21.181Z"
   },
   {
    "duration": 63,
    "start_time": "2022-05-20T05:00:21.191Z"
   },
   {
    "duration": 23,
    "start_time": "2022-05-20T05:00:21.256Z"
   },
   {
    "duration": 23,
    "start_time": "2022-05-20T05:00:21.281Z"
   },
   {
    "duration": 17,
    "start_time": "2022-05-20T05:00:21.305Z"
   },
   {
    "duration": 66,
    "start_time": "2022-05-20T05:00:21.323Z"
   },
   {
    "duration": 10,
    "start_time": "2022-05-20T05:00:21.390Z"
   },
   {
    "duration": 61,
    "start_time": "2022-05-20T05:00:21.402Z"
   },
   {
    "duration": 159,
    "start_time": "2022-05-20T05:00:21.465Z"
   },
   {
    "duration": 32,
    "start_time": "2022-05-20T05:00:21.631Z"
   },
   {
    "duration": 34,
    "start_time": "2022-05-20T05:00:21.665Z"
   },
   {
    "duration": 83,
    "start_time": "2022-05-20T05:00:21.701Z"
   },
   {
    "duration": 340,
    "start_time": "2022-05-20T05:00:21.786Z"
   },
   {
    "duration": 23,
    "start_time": "2022-05-20T05:00:22.130Z"
   },
   {
    "duration": 129,
    "start_time": "2022-05-20T05:00:22.154Z"
   },
   {
    "duration": 5,
    "start_time": "2022-05-20T05:00:22.285Z"
   },
   {
    "duration": 21,
    "start_time": "2022-05-20T05:00:22.292Z"
   },
   {
    "duration": 24,
    "start_time": "2022-05-20T05:00:22.314Z"
   },
   {
    "duration": 20,
    "start_time": "2022-05-20T05:00:22.341Z"
   },
   {
    "duration": 15,
    "start_time": "2022-05-20T05:00:22.362Z"
   },
   {
    "duration": 4,
    "start_time": "2022-05-20T05:01:04.659Z"
   },
   {
    "duration": 4,
    "start_time": "2022-05-20T05:01:14.299Z"
   },
   {
    "duration": 7,
    "start_time": "2022-05-20T05:01:44.333Z"
   },
   {
    "duration": 87,
    "start_time": "2022-05-20T05:01:46.840Z"
   },
   {
    "duration": 6,
    "start_time": "2022-05-20T05:01:48.012Z"
   },
   {
    "duration": 19,
    "start_time": "2022-05-20T05:01:48.700Z"
   },
   {
    "duration": 31,
    "start_time": "2022-05-20T05:01:49.229Z"
   },
   {
    "duration": 15,
    "start_time": "2022-05-20T05:01:51.165Z"
   },
   {
    "duration": 14,
    "start_time": "2022-05-20T05:01:51.963Z"
   },
   {
    "duration": 69,
    "start_time": "2022-05-20T05:01:55.814Z"
   },
   {
    "duration": 11,
    "start_time": "2022-05-20T05:01:57.836Z"
   },
   {
    "duration": 29,
    "start_time": "2022-05-20T05:02:00.845Z"
   },
   {
    "duration": 147,
    "start_time": "2022-05-20T05:02:11.645Z"
   },
   {
    "duration": 5,
    "start_time": "2022-05-20T05:02:20.141Z"
   },
   {
    "duration": 22,
    "start_time": "2022-05-20T05:02:26.082Z"
   },
   {
    "duration": 37,
    "start_time": "2022-05-20T05:02:34.265Z"
   },
   {
    "duration": 4,
    "start_time": "2022-05-20T05:02:35.638Z"
   },
   {
    "duration": 49,
    "start_time": "2022-05-20T05:03:11.823Z"
   },
   {
    "duration": 81,
    "start_time": "2022-05-20T05:03:42.711Z"
   },
   {
    "duration": 6,
    "start_time": "2022-05-20T05:03:44.198Z"
   },
   {
    "duration": 18,
    "start_time": "2022-05-20T05:03:46.383Z"
   },
   {
    "duration": 25,
    "start_time": "2022-05-20T05:03:47.042Z"
   },
   {
    "duration": 15,
    "start_time": "2022-05-20T05:03:49.162Z"
   },
   {
    "duration": 13,
    "start_time": "2022-05-20T05:03:51.007Z"
   },
   {
    "duration": 63,
    "start_time": "2022-05-20T05:03:51.590Z"
   },
   {
    "duration": 9,
    "start_time": "2022-05-20T05:03:51.883Z"
   },
   {
    "duration": 26,
    "start_time": "2022-05-20T05:03:53.886Z"
   },
   {
    "duration": 149,
    "start_time": "2022-05-20T05:03:55.850Z"
   },
   {
    "duration": 21,
    "start_time": "2022-05-20T05:03:57.648Z"
   },
   {
    "duration": 39,
    "start_time": "2022-05-20T05:03:58.718Z"
   },
   {
    "duration": 4,
    "start_time": "2022-05-20T05:04:36.915Z"
   },
   {
    "duration": 23,
    "start_time": "2022-05-20T05:04:43.281Z"
   },
   {
    "duration": 16,
    "start_time": "2022-05-20T05:40:01.343Z"
   },
   {
    "duration": 181,
    "start_time": "2022-05-20T05:40:08.569Z"
   },
   {
    "duration": 190,
    "start_time": "2022-05-20T05:41:00.822Z"
   },
   {
    "duration": 13,
    "start_time": "2022-05-20T05:42:12.722Z"
   },
   {
    "duration": 227,
    "start_time": "2022-05-20T05:46:35.149Z"
   },
   {
    "duration": 195,
    "start_time": "2022-05-20T05:46:42.870Z"
   },
   {
    "duration": 195,
    "start_time": "2022-05-20T05:49:40.659Z"
   },
   {
    "duration": 3,
    "start_time": "2022-05-20T05:49:48.658Z"
   },
   {
    "duration": 190,
    "start_time": "2022-05-20T05:49:54.602Z"
   },
   {
    "duration": 217,
    "start_time": "2022-05-20T05:50:21.323Z"
   },
   {
    "duration": 213,
    "start_time": "2022-05-20T05:50:39.180Z"
   },
   {
    "duration": 4,
    "start_time": "2022-05-20T05:50:52.259Z"
   },
   {
    "duration": 227,
    "start_time": "2022-05-20T05:50:57.557Z"
   },
   {
    "duration": 13,
    "start_time": "2022-05-20T05:51:39.894Z"
   },
   {
    "duration": 195,
    "start_time": "2022-05-20T05:51:51.645Z"
   },
   {
    "duration": 5,
    "start_time": "2022-05-20T05:52:17.782Z"
   },
   {
    "duration": 222,
    "start_time": "2022-05-20T05:52:22.998Z"
   },
   {
    "duration": 83,
    "start_time": "2022-05-20T05:52:27.366Z"
   },
   {
    "duration": 199,
    "start_time": "2022-05-20T05:54:39.498Z"
   },
   {
    "duration": 5,
    "start_time": "2022-05-20T05:54:44.985Z"
   },
   {
    "duration": 221,
    "start_time": "2022-05-20T05:54:51.250Z"
   },
   {
    "duration": 13,
    "start_time": "2022-05-20T05:56:03.236Z"
   },
   {
    "duration": 333,
    "start_time": "2022-05-20T05:56:09.456Z"
   },
   {
    "duration": 323,
    "start_time": "2022-05-20T05:56:21.548Z"
   },
   {
    "duration": 328,
    "start_time": "2022-05-20T05:56:25.116Z"
   },
   {
    "duration": 4,
    "start_time": "2022-05-20T05:56:34.638Z"
   },
   {
    "duration": 310,
    "start_time": "2022-05-20T05:56:38.916Z"
   },
   {
    "duration": 320,
    "start_time": "2022-05-20T06:00:53.343Z"
   },
   {
    "duration": 348,
    "start_time": "2022-05-20T06:01:44.460Z"
   },
   {
    "duration": 457,
    "start_time": "2022-05-20T06:02:09.205Z"
   },
   {
    "duration": 318,
    "start_time": "2022-05-20T06:02:33.693Z"
   },
   {
    "duration": 117,
    "start_time": "2022-05-20T06:03:14.846Z"
   },
   {
    "duration": 23,
    "start_time": "2022-05-20T06:19:18.958Z"
   },
   {
    "duration": 11,
    "start_time": "2022-05-20T06:20:57.633Z"
   },
   {
    "duration": 28,
    "start_time": "2022-05-20T06:21:01.367Z"
   },
   {
    "duration": 142,
    "start_time": "2022-05-20T06:21:03.695Z"
   },
   {
    "duration": 21,
    "start_time": "2022-05-20T06:21:04.262Z"
   },
   {
    "duration": 1162,
    "start_time": "2022-05-20T06:21:14.025Z"
   },
   {
    "duration": 75,
    "start_time": "2022-05-20T06:21:15.189Z"
   },
   {
    "duration": 5,
    "start_time": "2022-05-20T06:21:15.266Z"
   },
   {
    "duration": 24,
    "start_time": "2022-05-20T06:21:15.272Z"
   },
   {
    "duration": 42,
    "start_time": "2022-05-20T06:21:15.298Z"
   },
   {
    "duration": 13,
    "start_time": "2022-05-20T06:21:15.342Z"
   },
   {
    "duration": 12,
    "start_time": "2022-05-20T06:21:15.357Z"
   },
   {
    "duration": 76,
    "start_time": "2022-05-20T06:21:15.371Z"
   },
   {
    "duration": 7,
    "start_time": "2022-05-20T06:21:15.449Z"
   },
   {
    "duration": 9,
    "start_time": "2022-05-20T06:21:15.458Z"
   },
   {
    "duration": 32,
    "start_time": "2022-05-20T06:21:15.469Z"
   },
   {
    "duration": 161,
    "start_time": "2022-05-20T06:21:15.503Z"
   },
   {
    "duration": 18,
    "start_time": "2022-05-20T06:21:15.666Z"
   },
   {
    "duration": 19,
    "start_time": "2022-05-20T06:21:15.686Z"
   },
   {
    "duration": 40,
    "start_time": "2022-05-20T06:21:15.706Z"
   },
   {
    "duration": 48,
    "start_time": "2022-05-20T06:21:15.748Z"
   },
   {
    "duration": 317,
    "start_time": "2022-05-20T06:21:15.798Z"
   },
   {
    "duration": 17,
    "start_time": "2022-05-20T06:21:16.117Z"
   },
   {
    "duration": 90,
    "start_time": "2022-05-20T06:21:16.136Z"
   },
   {
    "duration": 93,
    "start_time": "2022-05-20T06:22:42.613Z"
   },
   {
    "duration": 187,
    "start_time": "2022-05-20T06:28:51.005Z"
   },
   {
    "duration": 13,
    "start_time": "2022-05-20T06:35:31.055Z"
   },
   {
    "duration": 1107,
    "start_time": "2022-05-20T06:37:04.776Z"
   },
   {
    "duration": 83,
    "start_time": "2022-05-20T06:37:05.885Z"
   },
   {
    "duration": 6,
    "start_time": "2022-05-20T06:37:05.969Z"
   },
   {
    "duration": 25,
    "start_time": "2022-05-20T06:37:05.976Z"
   },
   {
    "duration": 37,
    "start_time": "2022-05-20T06:37:06.003Z"
   },
   {
    "duration": 14,
    "start_time": "2022-05-20T06:37:06.042Z"
   },
   {
    "duration": 23,
    "start_time": "2022-05-20T06:37:06.058Z"
   },
   {
    "duration": 64,
    "start_time": "2022-05-20T06:37:06.082Z"
   },
   {
    "duration": 9,
    "start_time": "2022-05-20T06:37:06.147Z"
   },
   {
    "duration": 23,
    "start_time": "2022-05-20T06:37:06.158Z"
   },
   {
    "duration": 37,
    "start_time": "2022-05-20T06:37:06.183Z"
   },
   {
    "duration": 143,
    "start_time": "2022-05-20T06:37:06.222Z"
   },
   {
    "duration": 23,
    "start_time": "2022-05-20T06:37:06.367Z"
   },
   {
    "duration": 34,
    "start_time": "2022-05-20T06:37:06.392Z"
   },
   {
    "duration": 21,
    "start_time": "2022-05-20T06:37:06.428Z"
   },
   {
    "duration": 49,
    "start_time": "2022-05-20T06:37:06.451Z"
   },
   {
    "duration": 307,
    "start_time": "2022-05-20T06:37:06.501Z"
   },
   {
    "duration": 20,
    "start_time": "2022-05-20T06:37:06.810Z"
   },
   {
    "duration": 100,
    "start_time": "2022-05-20T06:37:06.832Z"
   },
   {
    "duration": 3,
    "start_time": "2022-05-20T06:46:18.760Z"
   },
   {
    "duration": 16,
    "start_time": "2022-05-20T06:47:45.846Z"
   },
   {
    "duration": 11,
    "start_time": "2022-05-20T06:50:16.143Z"
   },
   {
    "duration": 113,
    "start_time": "2022-05-20T06:51:05.100Z"
   },
   {
    "duration": 14,
    "start_time": "2022-05-20T06:51:10.687Z"
   },
   {
    "duration": 16,
    "start_time": "2022-05-20T06:51:25.973Z"
   },
   {
    "duration": 12,
    "start_time": "2022-05-20T06:51:49.269Z"
   },
   {
    "duration": 10,
    "start_time": "2022-05-20T06:52:02.005Z"
   },
   {
    "duration": 580,
    "start_time": "2022-05-20T06:58:16.686Z"
   },
   {
    "duration": 153,
    "start_time": "2022-05-20T06:59:36.834Z"
   },
   {
    "duration": 175,
    "start_time": "2022-05-20T07:00:12.640Z"
   },
   {
    "duration": 157,
    "start_time": "2022-05-20T07:00:49.185Z"
   },
   {
    "duration": 160,
    "start_time": "2022-05-20T07:02:55.341Z"
   },
   {
    "duration": 18,
    "start_time": "2022-05-20T07:03:56.644Z"
   },
   {
    "duration": 11,
    "start_time": "2022-05-20T07:04:59.774Z"
   },
   {
    "duration": 16,
    "start_time": "2022-05-20T07:05:24.255Z"
   },
   {
    "duration": 16,
    "start_time": "2022-05-20T07:05:31.599Z"
   },
   {
    "duration": 16,
    "start_time": "2022-05-20T07:05:48.769Z"
   },
   {
    "duration": 17,
    "start_time": "2022-05-20T07:05:54.975Z"
   },
   {
    "duration": 15,
    "start_time": "2022-05-20T07:05:58.668Z"
   },
   {
    "duration": 14,
    "start_time": "2022-05-20T07:06:02.367Z"
   },
   {
    "duration": 11,
    "start_time": "2022-05-20T07:06:07.656Z"
   },
   {
    "duration": 9,
    "start_time": "2022-05-20T07:06:27.480Z"
   },
   {
    "duration": 9,
    "start_time": "2022-05-20T07:06:36.520Z"
   },
   {
    "duration": 16,
    "start_time": "2022-05-20T07:06:44.466Z"
   },
   {
    "duration": 10,
    "start_time": "2022-05-20T07:06:50.810Z"
   },
   {
    "duration": 13,
    "start_time": "2022-05-20T07:14:51.378Z"
   },
   {
    "duration": 105,
    "start_time": "2022-05-20T07:21:03.604Z"
   },
   {
    "duration": 14,
    "start_time": "2022-05-20T07:21:21.592Z"
   },
   {
    "duration": 272,
    "start_time": "2022-05-20T07:23:34.563Z"
   },
   {
    "duration": 161,
    "start_time": "2022-05-20T07:23:43.850Z"
   },
   {
    "duration": 5,
    "start_time": "2022-05-20T07:25:05.957Z"
   },
   {
    "duration": 157,
    "start_time": "2022-05-20T07:25:13.089Z"
   },
   {
    "duration": 816,
    "start_time": "2022-05-20T07:31:32.427Z"
   },
   {
    "duration": 930,
    "start_time": "2022-05-20T07:33:53.006Z"
   },
   {
    "duration": 819,
    "start_time": "2022-05-20T07:34:20.982Z"
   },
   {
    "duration": 973,
    "start_time": "2022-05-20T07:34:48.171Z"
   },
   {
    "duration": 527,
    "start_time": "2022-05-20T07:35:40.938Z"
   },
   {
    "duration": 570,
    "start_time": "2022-05-20T07:36:12.689Z"
   },
   {
    "duration": 1797,
    "start_time": "2022-05-20T07:36:48.796Z"
   },
   {
    "duration": 508,
    "start_time": "2022-05-20T07:36:55.386Z"
   },
   {
    "duration": 511,
    "start_time": "2022-05-20T07:37:12.341Z"
   },
   {
    "duration": 658,
    "start_time": "2022-05-20T07:37:36.475Z"
   },
   {
    "duration": 569,
    "start_time": "2022-05-20T07:38:01.623Z"
   },
   {
    "duration": 9,
    "start_time": "2022-05-20T07:45:43.326Z"
   },
   {
    "duration": 6,
    "start_time": "2022-05-20T07:45:54.016Z"
   },
   {
    "duration": 79,
    "start_time": "2022-05-20T07:48:29.996Z"
   },
   {
    "duration": 5,
    "start_time": "2022-05-20T07:48:45.803Z"
   },
   {
    "duration": 6,
    "start_time": "2022-05-20T07:49:25.163Z"
   },
   {
    "duration": 5,
    "start_time": "2022-05-20T07:49:31.531Z"
   },
   {
    "duration": 7,
    "start_time": "2022-05-20T08:00:58.886Z"
   },
   {
    "duration": 4,
    "start_time": "2022-05-20T08:10:13.153Z"
   },
   {
    "duration": 7,
    "start_time": "2022-05-20T08:10:59.935Z"
   },
   {
    "duration": 6,
    "start_time": "2022-05-20T08:11:13.279Z"
   },
   {
    "duration": 21,
    "start_time": "2022-05-20T08:14:00.558Z"
   },
   {
    "duration": 4,
    "start_time": "2022-05-20T08:32:16.645Z"
   },
   {
    "duration": 17,
    "start_time": "2022-05-20T08:32:20.747Z"
   },
   {
    "duration": 9,
    "start_time": "2022-05-20T08:34:04.240Z"
   },
   {
    "duration": 216,
    "start_time": "2022-05-20T08:53:23.690Z"
   },
   {
    "duration": 109,
    "start_time": "2022-05-20T08:53:37.459Z"
   },
   {
    "duration": 229,
    "start_time": "2022-05-20T08:54:17.699Z"
   },
   {
    "duration": 226,
    "start_time": "2022-05-20T08:54:24.689Z"
   },
   {
    "duration": 258,
    "start_time": "2022-05-20T08:56:18.003Z"
   },
   {
    "duration": 245,
    "start_time": "2022-05-20T08:56:24.939Z"
   },
   {
    "duration": 248,
    "start_time": "2022-05-20T08:56:42.014Z"
   },
   {
    "duration": 225,
    "start_time": "2022-05-20T08:56:49.676Z"
   },
   {
    "duration": 354,
    "start_time": "2022-05-20T08:56:53.678Z"
   },
   {
    "duration": 244,
    "start_time": "2022-05-20T08:57:02.831Z"
   },
   {
    "duration": 227,
    "start_time": "2022-05-20T08:57:08.507Z"
   },
   {
    "duration": 6,
    "start_time": "2022-05-20T08:57:36.943Z"
   },
   {
    "duration": 208,
    "start_time": "2022-05-20T08:57:40.807Z"
   },
   {
    "duration": 225,
    "start_time": "2022-05-20T08:57:56.872Z"
   },
   {
    "duration": 268,
    "start_time": "2022-05-20T08:58:04.357Z"
   },
   {
    "duration": 243,
    "start_time": "2022-05-20T08:58:11.296Z"
   },
   {
    "duration": 221,
    "start_time": "2022-05-20T08:58:21.071Z"
   },
   {
    "duration": 229,
    "start_time": "2022-05-20T08:58:32.488Z"
   },
   {
    "duration": 244,
    "start_time": "2022-05-20T08:59:43.356Z"
   },
   {
    "duration": 247,
    "start_time": "2022-05-20T08:59:49.510Z"
   },
   {
    "duration": 372,
    "start_time": "2022-05-20T08:59:53.607Z"
   },
   {
    "duration": 279,
    "start_time": "2022-05-20T08:59:57.055Z"
   },
   {
    "duration": 290,
    "start_time": "2022-05-20T09:00:01.887Z"
   },
   {
    "duration": 269,
    "start_time": "2022-05-20T09:00:36.016Z"
   },
   {
    "duration": 1096,
    "start_time": "2022-05-20T09:02:27.293Z"
   },
   {
    "duration": 255,
    "start_time": "2022-05-20T09:02:32.105Z"
   },
   {
    "duration": 235,
    "start_time": "2022-05-20T09:03:41.455Z"
   },
   {
    "duration": 220,
    "start_time": "2022-05-20T09:05:16.782Z"
   },
   {
    "duration": 241,
    "start_time": "2022-05-20T09:05:44.785Z"
   },
   {
    "duration": 246,
    "start_time": "2022-05-20T09:08:26.910Z"
   },
   {
    "duration": 215,
    "start_time": "2022-05-20T09:08:49.260Z"
   },
   {
    "duration": 5,
    "start_time": "2022-05-20T09:09:12.619Z"
   },
   {
    "duration": 363,
    "start_time": "2022-05-20T09:09:52.527Z"
   },
   {
    "duration": 170,
    "start_time": "2022-05-20T09:10:12.888Z"
   },
   {
    "duration": 161,
    "start_time": "2022-05-20T09:14:46.588Z"
   },
   {
    "duration": 169,
    "start_time": "2022-05-20T09:16:13.276Z"
   },
   {
    "duration": 160,
    "start_time": "2022-05-20T09:16:45.792Z"
   },
   {
    "duration": 160,
    "start_time": "2022-05-20T09:17:11.681Z"
   },
   {
    "duration": 162,
    "start_time": "2022-05-20T09:17:32.646Z"
   },
   {
    "duration": 81,
    "start_time": "2022-05-20T09:18:51.744Z"
   },
   {
    "duration": 89,
    "start_time": "2022-05-20T09:20:40.179Z"
   },
   {
    "duration": 81,
    "start_time": "2022-05-20T09:22:40.725Z"
   },
   {
    "duration": 85,
    "start_time": "2022-05-20T09:23:06.621Z"
   },
   {
    "duration": 89,
    "start_time": "2022-05-20T09:23:19.489Z"
   },
   {
    "duration": 86,
    "start_time": "2022-05-20T09:23:32.397Z"
   },
   {
    "duration": 189,
    "start_time": "2022-05-20T09:23:56.008Z"
   },
   {
    "duration": 331,
    "start_time": "2022-05-20T09:24:11.319Z"
   },
   {
    "duration": 3,
    "start_time": "2022-05-20T09:33:09.613Z"
   },
   {
    "duration": 14,
    "start_time": "2022-05-20T09:33:28.326Z"
   },
   {
    "duration": 4,
    "start_time": "2022-05-20T09:33:51.531Z"
   },
   {
    "duration": 14,
    "start_time": "2022-05-20T09:33:54.546Z"
   },
   {
    "duration": 9,
    "start_time": "2022-05-20T09:34:15.277Z"
   },
   {
    "duration": 13,
    "start_time": "2022-05-20T09:34:23.852Z"
   },
   {
    "duration": 13,
    "start_time": "2022-05-20T09:35:50.592Z"
   },
   {
    "duration": 33,
    "start_time": "2022-05-20T09:39:34.677Z"
   },
   {
    "duration": 14,
    "start_time": "2022-05-20T09:42:18.337Z"
   },
   {
    "duration": 5,
    "start_time": "2022-05-20T09:43:53.379Z"
   },
   {
    "duration": 19,
    "start_time": "2022-05-20T09:44:01.253Z"
   },
   {
    "duration": 1276,
    "start_time": "2022-05-20T09:44:23.996Z"
   },
   {
    "duration": 79,
    "start_time": "2022-05-20T09:44:25.277Z"
   },
   {
    "duration": 6,
    "start_time": "2022-05-20T09:44:25.358Z"
   },
   {
    "duration": 22,
    "start_time": "2022-05-20T09:44:25.365Z"
   },
   {
    "duration": 44,
    "start_time": "2022-05-20T09:44:25.390Z"
   },
   {
    "duration": 17,
    "start_time": "2022-05-20T09:44:25.436Z"
   },
   {
    "duration": 23,
    "start_time": "2022-05-20T09:44:25.455Z"
   },
   {
    "duration": 98,
    "start_time": "2022-05-20T09:44:25.480Z"
   },
   {
    "duration": 9,
    "start_time": "2022-05-20T09:44:25.579Z"
   },
   {
    "duration": 12,
    "start_time": "2022-05-20T09:44:25.590Z"
   },
   {
    "duration": 47,
    "start_time": "2022-05-20T09:44:25.604Z"
   },
   {
    "duration": 170,
    "start_time": "2022-05-20T09:44:25.653Z"
   },
   {
    "duration": 25,
    "start_time": "2022-05-20T09:44:25.826Z"
   },
   {
    "duration": 23,
    "start_time": "2022-05-20T09:44:25.854Z"
   },
   {
    "duration": 27,
    "start_time": "2022-05-20T09:44:25.878Z"
   },
   {
    "duration": 27,
    "start_time": "2022-05-20T09:44:25.907Z"
   },
   {
    "duration": 741,
    "start_time": "2022-05-20T09:44:25.935Z"
   },
   {
    "duration": 15,
    "start_time": "2022-05-20T09:44:26.678Z"
   },
   {
    "duration": 14,
    "start_time": "2022-05-20T09:44:26.695Z"
   },
   {
    "duration": 10,
    "start_time": "2022-05-20T09:44:26.726Z"
   },
   {
    "duration": 66,
    "start_time": "2022-05-20T09:44:26.738Z"
   },
   {
    "duration": 192,
    "start_time": "2022-05-20T09:44:26.806Z"
   },
   {
    "duration": 31,
    "start_time": "2022-05-20T09:44:27.000Z"
   },
   {
    "duration": 102,
    "start_time": "2022-05-20T09:44:27.034Z"
   },
   {
    "duration": 14,
    "start_time": "2022-05-20T09:47:04.663Z"
   },
   {
    "duration": 23,
    "start_time": "2022-05-20T09:47:12.995Z"
   },
   {
    "duration": 18,
    "start_time": "2022-05-20T09:47:38.036Z"
   },
   {
    "duration": 20,
    "start_time": "2022-05-20T09:47:57.540Z"
   },
   {
    "duration": 15,
    "start_time": "2022-05-20T09:48:37.316Z"
   },
   {
    "duration": 43,
    "start_time": "2022-05-20T10:11:58.045Z"
   },
   {
    "duration": 17,
    "start_time": "2022-05-20T10:12:07.170Z"
   },
   {
    "duration": 20,
    "start_time": "2022-05-20T10:12:14.594Z"
   },
   {
    "duration": 19,
    "start_time": "2022-05-20T10:12:30.275Z"
   },
   {
    "duration": 29,
    "start_time": "2022-05-20T10:14:00.852Z"
   },
   {
    "duration": 30,
    "start_time": "2022-05-20T10:14:15.671Z"
   },
   {
    "duration": 29,
    "start_time": "2022-05-20T10:14:33.645Z"
   },
   {
    "duration": 260,
    "start_time": "2022-05-20T10:15:47.917Z"
   },
   {
    "duration": 20,
    "start_time": "2022-05-20T10:16:02.005Z"
   },
   {
    "duration": 560,
    "start_time": "2022-05-20T10:17:36.835Z"
   },
   {
    "duration": 16,
    "start_time": "2022-05-20T10:17:54.880Z"
   },
   {
    "duration": 22,
    "start_time": "2022-05-20T10:18:10.902Z"
   },
   {
    "duration": 20,
    "start_time": "2022-05-20T10:18:29.840Z"
   },
   {
    "duration": 24,
    "start_time": "2022-05-20T10:18:40.289Z"
   },
   {
    "duration": 190,
    "start_time": "2022-05-20T10:18:55.242Z"
   },
   {
    "duration": 16,
    "start_time": "2022-05-20T10:19:54.370Z"
   },
   {
    "duration": 88,
    "start_time": "2022-05-20T10:20:24.243Z"
   },
   {
    "duration": 20,
    "start_time": "2022-05-20T10:22:39.239Z"
   },
   {
    "duration": 25,
    "start_time": "2022-05-20T10:22:52.045Z"
   },
   {
    "duration": 25,
    "start_time": "2022-05-20T10:24:26.905Z"
   },
   {
    "duration": 25,
    "start_time": "2022-05-20T10:25:50.334Z"
   },
   {
    "duration": 21,
    "start_time": "2022-05-20T10:26:04.331Z"
   },
   {
    "duration": 34,
    "start_time": "2022-05-20T10:26:37.707Z"
   },
   {
    "duration": 20,
    "start_time": "2022-05-20T10:27:05.287Z"
   },
   {
    "duration": 579,
    "start_time": "2022-05-20T10:28:10.096Z"
   },
   {
    "duration": 21,
    "start_time": "2022-05-20T10:28:20.824Z"
   },
   {
    "duration": 910,
    "start_time": "2022-05-20T10:30:05.328Z"
   },
   {
    "duration": 24,
    "start_time": "2022-05-20T10:30:25.848Z"
   },
   {
    "duration": 15,
    "start_time": "2022-05-20T10:30:47.737Z"
   },
   {
    "duration": 30,
    "start_time": "2022-05-20T10:31:00.339Z"
   },
   {
    "duration": 15,
    "start_time": "2022-05-20T10:31:23.594Z"
   },
   {
    "duration": 20,
    "start_time": "2022-05-20T10:31:34.714Z"
   },
   {
    "duration": 22,
    "start_time": "2022-05-20T10:31:38.933Z"
   },
   {
    "duration": 22,
    "start_time": "2022-05-20T10:31:45.745Z"
   },
   {
    "duration": 23,
    "start_time": "2022-05-20T10:33:15.296Z"
   },
   {
    "duration": 24,
    "start_time": "2022-05-20T10:33:27.820Z"
   },
   {
    "duration": 27,
    "start_time": "2022-05-20T10:33:34.725Z"
   },
   {
    "duration": 23,
    "start_time": "2022-05-20T10:38:39.003Z"
   },
   {
    "duration": 26,
    "start_time": "2022-05-20T10:40:20.392Z"
   },
   {
    "duration": 23,
    "start_time": "2022-05-20T10:41:19.758Z"
   },
   {
    "duration": 36,
    "start_time": "2022-05-20T10:42:50.814Z"
   },
   {
    "duration": 24,
    "start_time": "2022-05-20T10:43:08.082Z"
   },
   {
    "duration": 33,
    "start_time": "2022-05-20T10:43:57.874Z"
   },
   {
    "duration": 880,
    "start_time": "2022-05-20T11:00:32.551Z"
   },
   {
    "duration": 196,
    "start_time": "2022-05-20T11:00:44.080Z"
   },
   {
    "duration": 177,
    "start_time": "2022-05-20T11:00:51.265Z"
   },
   {
    "duration": 171,
    "start_time": "2022-05-20T11:01:49.054Z"
   },
   {
    "duration": 271,
    "start_time": "2022-05-20T11:02:49.258Z"
   },
   {
    "duration": 191,
    "start_time": "2022-05-20T11:03:08.382Z"
   },
   {
    "duration": 16,
    "start_time": "2022-05-20T11:04:06.397Z"
   },
   {
    "duration": 178,
    "start_time": "2022-05-20T11:05:04.707Z"
   },
   {
    "duration": 117,
    "start_time": "2022-05-20T11:06:06.643Z"
   },
   {
    "duration": 91,
    "start_time": "2022-05-20T11:07:06.225Z"
   },
   {
    "duration": 17,
    "start_time": "2022-05-20T11:07:17.576Z"
   },
   {
    "duration": 4,
    "start_time": "2022-05-20T11:10:42.789Z"
   },
   {
    "duration": 217,
    "start_time": "2022-05-20T11:10:59.148Z"
   },
   {
    "duration": 240,
    "start_time": "2022-05-20T11:11:50.421Z"
   },
   {
    "duration": 223,
    "start_time": "2022-05-20T11:13:11.993Z"
   },
   {
    "duration": 233,
    "start_time": "2022-05-20T11:14:57.122Z"
   },
   {
    "duration": 195,
    "start_time": "2022-05-20T11:15:07.587Z"
   },
   {
    "duration": 212,
    "start_time": "2022-05-20T11:15:21.526Z"
   },
   {
    "duration": 372,
    "start_time": "2022-05-20T11:15:59.308Z"
   },
   {
    "duration": 210,
    "start_time": "2022-05-20T11:16:07.788Z"
   },
   {
    "duration": 231,
    "start_time": "2022-05-20T11:16:14.620Z"
   },
   {
    "duration": 308,
    "start_time": "2022-05-20T11:16:23.437Z"
   },
   {
    "duration": 223,
    "start_time": "2022-05-20T11:16:33.656Z"
   },
   {
    "duration": 247,
    "start_time": "2022-05-20T11:18:59.117Z"
   },
   {
    "duration": 313,
    "start_time": "2022-05-20T11:19:13.304Z"
   },
   {
    "duration": 277,
    "start_time": "2022-05-20T11:19:22.249Z"
   },
   {
    "duration": 212,
    "start_time": "2022-05-20T11:19:30.850Z"
   },
   {
    "duration": 216,
    "start_time": "2022-05-20T11:19:40.378Z"
   },
   {
    "duration": 218,
    "start_time": "2022-05-20T11:19:44.235Z"
   },
   {
    "duration": 316,
    "start_time": "2022-05-20T11:19:48.068Z"
   },
   {
    "duration": 200,
    "start_time": "2022-05-20T11:19:53.698Z"
   },
   {
    "duration": 214,
    "start_time": "2022-05-20T11:20:02.066Z"
   },
   {
    "duration": 203,
    "start_time": "2022-05-20T11:20:15.429Z"
   },
   {
    "duration": 221,
    "start_time": "2022-05-20T11:20:20.615Z"
   },
   {
    "duration": 230,
    "start_time": "2022-05-20T11:20:26.923Z"
   },
   {
    "duration": 200,
    "start_time": "2022-05-20T11:20:38.396Z"
   },
   {
    "duration": 200,
    "start_time": "2022-05-20T11:20:53.471Z"
   },
   {
    "duration": 223,
    "start_time": "2022-05-20T11:21:52.315Z"
   },
   {
    "duration": 228,
    "start_time": "2022-05-20T11:22:03.918Z"
   },
   {
    "duration": 230,
    "start_time": "2022-05-20T11:22:44.657Z"
   },
   {
    "duration": 335,
    "start_time": "2022-05-20T11:22:55.509Z"
   },
   {
    "duration": 219,
    "start_time": "2022-05-20T11:23:13.401Z"
   },
   {
    "duration": 172,
    "start_time": "2022-05-20T11:25:11.736Z"
   },
   {
    "duration": 166,
    "start_time": "2022-05-20T11:25:16.356Z"
   },
   {
    "duration": 172,
    "start_time": "2022-05-20T11:25:22.488Z"
   },
   {
    "duration": 182,
    "start_time": "2022-05-20T11:25:26.367Z"
   },
   {
    "duration": 174,
    "start_time": "2022-05-20T11:25:32.614Z"
   },
   {
    "duration": 171,
    "start_time": "2022-05-20T11:25:40.145Z"
   },
   {
    "duration": 176,
    "start_time": "2022-05-20T11:25:48.823Z"
   },
   {
    "duration": 215,
    "start_time": "2022-05-20T11:25:59.902Z"
   },
   {
    "duration": 167,
    "start_time": "2022-05-20T11:26:17.666Z"
   },
   {
    "duration": 295,
    "start_time": "2022-05-20T11:26:27.668Z"
   },
   {
    "duration": 181,
    "start_time": "2022-05-20T11:26:32.054Z"
   },
   {
    "duration": 176,
    "start_time": "2022-05-20T11:26:39.916Z"
   },
   {
    "duration": 220,
    "start_time": "2022-05-20T11:26:58.943Z"
   },
   {
    "duration": 214,
    "start_time": "2022-05-20T11:27:04.459Z"
   },
   {
    "duration": 547,
    "start_time": "2022-05-20T11:33:15.427Z"
   },
   {
    "duration": 10,
    "start_time": "2022-05-20T11:54:05.543Z"
   },
   {
    "duration": 41,
    "start_time": "2022-05-20T11:54:45.096Z"
   },
   {
    "duration": 5,
    "start_time": "2022-05-20T11:54:49.873Z"
   },
   {
    "duration": 77,
    "start_time": "2022-05-20T11:54:52.577Z"
   },
   {
    "duration": 8,
    "start_time": "2022-05-20T11:54:54.479Z"
   },
   {
    "duration": 21,
    "start_time": "2022-05-20T11:54:55.877Z"
   },
   {
    "duration": 22,
    "start_time": "2022-05-20T11:54:56.840Z"
   },
   {
    "duration": 15,
    "start_time": "2022-05-20T11:54:58.312Z"
   },
   {
    "duration": 17,
    "start_time": "2022-05-20T11:54:59.594Z"
   },
   {
    "duration": 60,
    "start_time": "2022-05-20T11:55:01.608Z"
   },
   {
    "duration": 10,
    "start_time": "2022-05-20T11:55:03.266Z"
   },
   {
    "duration": 10,
    "start_time": "2022-05-20T11:55:03.824Z"
   },
   {
    "duration": 28,
    "start_time": "2022-05-20T11:55:04.664Z"
   },
   {
    "duration": 149,
    "start_time": "2022-05-20T11:55:06.735Z"
   },
   {
    "duration": 28,
    "start_time": "2022-05-20T11:55:07.609Z"
   },
   {
    "duration": 58,
    "start_time": "2022-05-20T11:55:18.880Z"
   },
   {
    "duration": 33,
    "start_time": "2022-05-20T11:55:55.930Z"
   },
   {
    "duration": 1221,
    "start_time": "2022-05-20T11:56:19.093Z"
   },
   {
    "duration": 85,
    "start_time": "2022-05-20T11:56:22.543Z"
   },
   {
    "duration": 6,
    "start_time": "2022-05-20T11:56:27.092Z"
   },
   {
    "duration": 19,
    "start_time": "2022-05-20T11:56:31.355Z"
   },
   {
    "duration": 24,
    "start_time": "2022-05-20T11:56:32.892Z"
   },
   {
    "duration": 18,
    "start_time": "2022-05-20T11:56:34.954Z"
   },
   {
    "duration": 12,
    "start_time": "2022-05-20T11:56:37.589Z"
   },
   {
    "duration": 53,
    "start_time": "2022-05-20T11:56:39.258Z"
   },
   {
    "duration": 9,
    "start_time": "2022-05-20T11:56:41.147Z"
   },
   {
    "duration": 10,
    "start_time": "2022-05-20T11:56:43.485Z"
   },
   {
    "duration": 29,
    "start_time": "2022-05-20T11:56:46.650Z"
   },
   {
    "duration": 155,
    "start_time": "2022-05-20T11:56:51.930Z"
   },
   {
    "duration": 6,
    "start_time": "2022-05-20T11:57:04.557Z"
   },
   {
    "duration": 40,
    "start_time": "2022-05-20T11:57:12.964Z"
   },
   {
    "duration": 32,
    "start_time": "2022-05-20T11:57:16.332Z"
   },
   {
    "duration": 34,
    "start_time": "2022-05-20T11:57:18.022Z"
   },
   {
    "duration": 14,
    "start_time": "2022-05-20T11:57:19.844Z"
   },
   {
    "duration": 652,
    "start_time": "2022-05-20T11:57:21.950Z"
   },
   {
    "duration": 14,
    "start_time": "2022-05-20T11:57:26.356Z"
   },
   {
    "duration": 8,
    "start_time": "2022-05-20T11:57:28.492Z"
   },
   {
    "duration": 8,
    "start_time": "2022-05-20T11:57:31.091Z"
   },
   {
    "duration": 50,
    "start_time": "2022-05-20T11:57:40.285Z"
   },
   {
    "duration": 195,
    "start_time": "2022-05-20T11:57:43.653Z"
   },
   {
    "duration": 20,
    "start_time": "2022-05-20T11:57:50.188Z"
   },
   {
    "duration": 101,
    "start_time": "2022-05-20T11:57:52.748Z"
   },
   {
    "duration": 32,
    "start_time": "2022-05-20T11:58:14.405Z"
   },
   {
    "duration": 223,
    "start_time": "2022-05-20T11:58:21.257Z"
   },
   {
    "duration": 26,
    "start_time": "2022-05-20T11:58:28.439Z"
   },
   {
    "duration": 43,
    "start_time": "2022-05-20T12:00:50.016Z"
   },
   {
    "duration": 35,
    "start_time": "2022-05-20T12:01:05.664Z"
   },
   {
    "duration": 24,
    "start_time": "2022-05-20T12:01:50.779Z"
   },
   {
    "duration": 22,
    "start_time": "2022-05-20T12:02:56.931Z"
   },
   {
    "duration": 24,
    "start_time": "2022-05-20T12:03:07.100Z"
   },
   {
    "duration": 38,
    "start_time": "2022-05-20T12:04:24.156Z"
   },
   {
    "duration": 26,
    "start_time": "2022-05-20T12:04:28.598Z"
   },
   {
    "duration": 30,
    "start_time": "2022-05-20T12:05:01.397Z"
   },
   {
    "duration": 33,
    "start_time": "2022-05-20T12:05:07.253Z"
   },
   {
    "duration": 10,
    "start_time": "2022-05-20T12:08:19.534Z"
   },
   {
    "duration": 7,
    "start_time": "2022-05-20T12:08:43.353Z"
   },
   {
    "duration": 6,
    "start_time": "2022-05-20T12:08:46.120Z"
   },
   {
    "duration": 5,
    "start_time": "2022-05-20T12:09:00.962Z"
   },
   {
    "duration": 22,
    "start_time": "2022-05-20T12:09:17.813Z"
   },
   {
    "duration": 8,
    "start_time": "2022-05-20T12:12:35.510Z"
   },
   {
    "duration": 10,
    "start_time": "2022-05-20T12:12:59.502Z"
   },
   {
    "duration": 6,
    "start_time": "2022-05-20T12:17:48.531Z"
   },
   {
    "duration": 4,
    "start_time": "2022-05-20T12:18:58.813Z"
   },
   {
    "duration": 6,
    "start_time": "2022-05-20T12:19:47.053Z"
   },
   {
    "duration": 23,
    "start_time": "2022-05-20T12:23:47.032Z"
   },
   {
    "duration": 8,
    "start_time": "2022-05-20T12:25:22.498Z"
   },
   {
    "duration": 5,
    "start_time": "2022-05-20T12:25:57.792Z"
   },
   {
    "duration": 76,
    "start_time": "2022-05-20T12:27:47.505Z"
   },
   {
    "duration": 14,
    "start_time": "2022-05-20T12:28:28.794Z"
   },
   {
    "duration": 7,
    "start_time": "2022-05-20T12:29:21.147Z"
   },
   {
    "duration": 12,
    "start_time": "2022-05-20T12:31:06.568Z"
   },
   {
    "duration": 11,
    "start_time": "2022-05-20T12:31:33.166Z"
   },
   {
    "duration": 12,
    "start_time": "2022-05-20T12:32:32.462Z"
   },
   {
    "duration": 26,
    "start_time": "2022-05-20T12:32:49.759Z"
   },
   {
    "duration": 28,
    "start_time": "2022-05-20T12:32:58.127Z"
   },
   {
    "duration": 13,
    "start_time": "2022-05-20T12:33:25.356Z"
   },
   {
    "duration": 176,
    "start_time": "2022-05-20T13:50:08.838Z"
   },
   {
    "duration": 167,
    "start_time": "2022-05-20T13:50:25.143Z"
   },
   {
    "duration": 181,
    "start_time": "2022-05-20T13:50:33.321Z"
   },
   {
    "duration": 176,
    "start_time": "2022-05-20T13:50:37.585Z"
   },
   {
    "duration": 49,
    "start_time": "2022-05-20T13:51:09.794Z"
   },
   {
    "duration": 164,
    "start_time": "2022-05-20T13:51:28.844Z"
   },
   {
    "duration": 121,
    "start_time": "2022-05-20T13:52:43.388Z"
   },
   {
    "duration": 210,
    "start_time": "2022-05-20T13:53:23.413Z"
   },
   {
    "duration": 222,
    "start_time": "2022-05-20T13:54:56.824Z"
   },
   {
    "duration": 181,
    "start_time": "2022-05-20T13:55:27.345Z"
   },
   {
    "duration": 195,
    "start_time": "2022-05-20T13:56:02.660Z"
   },
   {
    "duration": 193,
    "start_time": "2022-05-20T13:56:09.848Z"
   },
   {
    "duration": 285,
    "start_time": "2022-05-20T13:56:37.754Z"
   },
   {
    "duration": 200,
    "start_time": "2022-05-20T13:56:58.583Z"
   },
   {
    "duration": 201,
    "start_time": "2022-05-20T13:57:05.019Z"
   },
   {
    "duration": 306,
    "start_time": "2022-05-20T13:57:54.692Z"
   },
   {
    "duration": 313,
    "start_time": "2022-05-20T13:58:04.462Z"
   },
   {
    "duration": 218,
    "start_time": "2022-05-20T13:59:45.110Z"
   },
   {
    "duration": 210,
    "start_time": "2022-05-20T13:59:52.870Z"
   },
   {
    "duration": 338,
    "start_time": "2022-05-20T14:00:02.588Z"
   },
   {
    "duration": 332,
    "start_time": "2022-05-20T14:00:30.602Z"
   },
   {
    "duration": 346,
    "start_time": "2022-05-20T14:01:06.189Z"
   },
   {
    "duration": 16,
    "start_time": "2022-05-20T14:02:52.724Z"
   },
   {
    "duration": 26,
    "start_time": "2022-05-20T14:06:22.828Z"
   },
   {
    "duration": 6,
    "start_time": "2022-05-20T14:06:25.553Z"
   },
   {
    "duration": 181,
    "start_time": "2022-05-20T14:06:27.800Z"
   },
   {
    "duration": 319,
    "start_time": "2022-05-20T14:06:30.922Z"
   },
   {
    "duration": 17,
    "start_time": "2022-05-20T14:06:33.689Z"
   },
   {
    "duration": 19,
    "start_time": "2022-05-20T14:06:42.268Z"
   },
   {
    "duration": 15,
    "start_time": "2022-05-20T14:14:37.758Z"
   },
   {
    "duration": 20,
    "start_time": "2022-05-20T14:14:43.289Z"
   },
   {
    "duration": 3,
    "start_time": "2022-05-20T14:17:05.319Z"
   },
   {
    "duration": 724,
    "start_time": "2022-05-20T14:17:38.330Z"
   },
   {
    "duration": 15,
    "start_time": "2022-05-20T14:19:16.012Z"
   },
   {
    "duration": 14,
    "start_time": "2022-05-20T14:19:30.203Z"
   },
   {
    "duration": 24,
    "start_time": "2022-05-20T14:21:32.173Z"
   },
   {
    "duration": 6,
    "start_time": "2022-05-20T14:21:36.340Z"
   },
   {
    "duration": 174,
    "start_time": "2022-05-20T14:21:42.446Z"
   },
   {
    "duration": 308,
    "start_time": "2022-05-20T14:21:52.964Z"
   },
   {
    "duration": 339,
    "start_time": "2022-05-20T14:22:37.493Z"
   },
   {
    "duration": 17,
    "start_time": "2022-05-20T14:23:49.815Z"
   },
   {
    "duration": 17,
    "start_time": "2022-05-20T14:24:52.669Z"
   },
   {
    "duration": 12,
    "start_time": "2022-05-20T14:24:59.328Z"
   },
   {
    "duration": 237,
    "start_time": "2022-05-20T14:28:16.292Z"
   },
   {
    "duration": 108,
    "start_time": "2022-05-20T14:28:23.393Z"
   },
   {
    "duration": 233,
    "start_time": "2022-05-20T14:30:14.415Z"
   },
   {
    "duration": 11,
    "start_time": "2022-05-20T14:30:17.351Z"
   },
   {
    "duration": 172,
    "start_time": "2022-05-20T14:30:29.663Z"
   },
   {
    "duration": 12,
    "start_time": "2022-05-20T14:30:31.681Z"
   },
   {
    "duration": 167,
    "start_time": "2022-05-20T14:32:24.717Z"
   },
   {
    "duration": 286,
    "start_time": "2022-05-20T14:32:51.620Z"
   },
   {
    "duration": 12,
    "start_time": "2022-05-20T14:33:11.090Z"
   },
   {
    "duration": 166,
    "start_time": "2022-05-20T14:33:35.265Z"
   },
   {
    "duration": 12,
    "start_time": "2022-05-20T14:33:37.331Z"
   },
   {
    "duration": 12,
    "start_time": "2022-05-20T14:33:51.108Z"
   },
   {
    "duration": 1295,
    "start_time": "2022-05-20T14:34:21.999Z"
   },
   {
    "duration": 89,
    "start_time": "2022-05-20T14:34:23.296Z"
   },
   {
    "duration": 6,
    "start_time": "2022-05-20T14:34:23.387Z"
   },
   {
    "duration": 37,
    "start_time": "2022-05-20T14:34:23.395Z"
   },
   {
    "duration": 32,
    "start_time": "2022-05-20T14:34:23.434Z"
   },
   {
    "duration": 15,
    "start_time": "2022-05-20T14:34:23.468Z"
   },
   {
    "duration": 18,
    "start_time": "2022-05-20T14:34:23.484Z"
   },
   {
    "duration": 72,
    "start_time": "2022-05-20T14:34:23.527Z"
   },
   {
    "duration": 10,
    "start_time": "2022-05-20T14:34:23.601Z"
   },
   {
    "duration": 11,
    "start_time": "2022-05-20T14:34:23.626Z"
   },
   {
    "duration": 40,
    "start_time": "2022-05-20T14:34:23.638Z"
   },
   {
    "duration": 175,
    "start_time": "2022-05-20T14:34:23.679Z"
   },
   {
    "duration": 24,
    "start_time": "2022-05-20T14:34:23.856Z"
   },
   {
    "duration": 34,
    "start_time": "2022-05-20T14:34:23.883Z"
   },
   {
    "duration": 21,
    "start_time": "2022-05-20T14:34:23.925Z"
   },
   {
    "duration": 11,
    "start_time": "2022-05-20T14:34:23.948Z"
   },
   {
    "duration": 779,
    "start_time": "2022-05-20T14:34:23.961Z"
   },
   {
    "duration": 14,
    "start_time": "2022-05-20T14:34:24.742Z"
   },
   {
    "duration": 20,
    "start_time": "2022-05-20T14:34:24.758Z"
   },
   {
    "duration": 11,
    "start_time": "2022-05-20T14:34:24.781Z"
   },
   {
    "duration": 90,
    "start_time": "2022-05-20T14:34:24.794Z"
   },
   {
    "duration": 223,
    "start_time": "2022-05-20T14:34:24.886Z"
   },
   {
    "duration": 17,
    "start_time": "2022-05-20T14:34:25.110Z"
   },
   {
    "duration": 103,
    "start_time": "2022-05-20T14:34:25.129Z"
   },
   {
    "duration": 26,
    "start_time": "2022-05-20T14:34:25.234Z"
   },
   {
    "duration": 217,
    "start_time": "2022-05-20T14:34:25.262Z"
   },
   {
    "duration": 25,
    "start_time": "2022-05-20T14:34:25.480Z"
   },
   {
    "duration": 20,
    "start_time": "2022-05-20T14:34:25.507Z"
   },
   {
    "duration": 180,
    "start_time": "2022-05-20T14:34:25.529Z"
   },
   {
    "duration": 23,
    "start_time": "2022-05-20T14:34:25.711Z"
   },
   {
    "duration": 1435,
    "start_time": "2022-05-20T18:12:20.024Z"
   },
   {
    "duration": 178,
    "start_time": "2022-05-20T18:12:24.628Z"
   },
   {
    "duration": 6,
    "start_time": "2022-05-20T18:12:40.805Z"
   },
   {
    "duration": 21,
    "start_time": "2022-05-20T18:12:45.381Z"
   },
   {
    "duration": 26,
    "start_time": "2022-05-20T18:13:06.614Z"
   },
   {
    "duration": 15,
    "start_time": "2022-05-20T18:13:13.246Z"
   },
   {
    "duration": 21,
    "start_time": "2022-05-20T18:13:26.595Z"
   },
   {
    "duration": 59,
    "start_time": "2022-05-20T18:13:33.102Z"
   },
   {
    "duration": 9,
    "start_time": "2022-05-20T18:13:35.619Z"
   },
   {
    "duration": 11,
    "start_time": "2022-05-20T18:13:44.743Z"
   },
   {
    "duration": 171,
    "start_time": "2022-05-20T18:14:27.175Z"
   },
   {
    "duration": 17,
    "start_time": "2022-05-20T18:19:19.410Z"
   },
   {
    "duration": 29,
    "start_time": "2022-05-20T18:20:14.623Z"
   },
   {
    "duration": 24,
    "start_time": "2022-05-20T18:20:57.976Z"
   },
   {
    "duration": 33,
    "start_time": "2022-05-20T18:21:20.450Z"
   },
   {
    "duration": 44,
    "start_time": "2022-05-20T18:21:29.656Z"
   },
   {
    "duration": 16,
    "start_time": "2022-05-20T18:23:54.517Z"
   },
   {
    "duration": 133,
    "start_time": "2022-05-20T18:26:11.798Z"
   },
   {
    "duration": 176,
    "start_time": "2022-05-20T18:26:28.533Z"
   },
   {
    "duration": 18,
    "start_time": "2022-05-20T18:26:34.190Z"
   },
   {
    "duration": 45,
    "start_time": "2022-05-20T18:27:40.959Z"
   },
   {
    "duration": 24,
    "start_time": "2022-05-20T18:27:44.891Z"
   },
   {
    "duration": 5,
    "start_time": "2022-05-20T18:27:50.026Z"
   },
   {
    "duration": 103,
    "start_time": "2022-05-20T18:27:50.749Z"
   },
   {
    "duration": 12,
    "start_time": "2022-05-20T18:27:51.784Z"
   },
   {
    "duration": 21,
    "start_time": "2022-05-20T18:27:52.252Z"
   },
   {
    "duration": 26,
    "start_time": "2022-05-20T18:27:52.590Z"
   },
   {
    "duration": 13,
    "start_time": "2022-05-20T18:27:54.624Z"
   },
   {
    "duration": 17,
    "start_time": "2022-05-20T18:27:54.984Z"
   },
   {
    "duration": 77,
    "start_time": "2022-05-20T18:27:55.332Z"
   },
   {
    "duration": 10,
    "start_time": "2022-05-20T18:27:56.003Z"
   },
   {
    "duration": 10,
    "start_time": "2022-05-20T18:27:57.933Z"
   },
   {
    "duration": 43,
    "start_time": "2022-05-20T18:27:58.493Z"
   },
   {
    "duration": 175,
    "start_time": "2022-05-20T18:28:33.474Z"
   },
   {
    "duration": 17,
    "start_time": "2022-05-20T18:28:59.490Z"
   },
   {
    "duration": 14,
    "start_time": "2022-05-20T18:29:13.390Z"
   },
   {
    "duration": 15,
    "start_time": "2022-05-20T18:29:30.509Z"
   },
   {
    "duration": 16,
    "start_time": "2022-05-20T18:29:34.621Z"
   },
   {
    "duration": 20,
    "start_time": "2022-05-20T18:29:44.328Z"
   },
   {
    "duration": 188,
    "start_time": "2022-05-20T18:31:22.963Z"
   },
   {
    "duration": 30,
    "start_time": "2022-05-20T18:32:26.045Z"
   },
   {
    "duration": 39,
    "start_time": "2022-05-20T18:32:27.156Z"
   },
   {
    "duration": 22,
    "start_time": "2022-05-20T18:32:28.437Z"
   },
   {
    "duration": 9,
    "start_time": "2022-05-20T18:33:18.454Z"
   },
   {
    "duration": 959,
    "start_time": "2022-05-20T18:33:34.542Z"
   },
   {
    "duration": 699,
    "start_time": "2022-05-20T18:33:46.018Z"
   },
   {
    "duration": 664,
    "start_time": "2022-05-20T18:33:52.262Z"
   },
   {
    "duration": 11,
    "start_time": "2022-05-20T18:34:33.215Z"
   },
   {
    "duration": 19,
    "start_time": "2022-05-20T18:34:42.424Z"
   },
   {
    "duration": 9,
    "start_time": "2022-05-20T18:35:27.798Z"
   },
   {
    "duration": 9,
    "start_time": "2022-05-20T18:35:35.048Z"
   },
   {
    "duration": 632,
    "start_time": "2022-05-20T18:37:21.084Z"
   },
   {
    "duration": 633,
    "start_time": "2022-05-20T18:37:45.237Z"
   },
   {
    "duration": 660,
    "start_time": "2022-05-20T18:38:44.488Z"
   },
   {
    "duration": 732,
    "start_time": "2022-05-20T18:42:27.320Z"
   },
   {
    "duration": 679,
    "start_time": "2022-05-20T18:42:34.619Z"
   },
   {
    "duration": 665,
    "start_time": "2022-05-20T18:42:39.229Z"
   },
   {
    "duration": 614,
    "start_time": "2022-05-20T18:42:43.693Z"
   },
   {
    "duration": 622,
    "start_time": "2022-05-20T18:42:48.230Z"
   },
   {
    "duration": 761,
    "start_time": "2022-05-20T18:43:01.291Z"
   },
   {
    "duration": 672,
    "start_time": "2022-05-20T18:43:26.805Z"
   },
   {
    "duration": 596,
    "start_time": "2022-05-20T18:43:32.093Z"
   },
   {
    "duration": 609,
    "start_time": "2022-05-20T18:43:42.117Z"
   },
   {
    "duration": 476,
    "start_time": "2022-05-20T18:44:53.963Z"
   },
   {
    "duration": 630,
    "start_time": "2022-05-20T18:45:19.328Z"
   },
   {
    "duration": 675,
    "start_time": "2022-05-20T18:45:52.128Z"
   },
   {
    "duration": 13,
    "start_time": "2022-05-20T18:48:22.300Z"
   },
   {
    "duration": 38,
    "start_time": "2022-05-20T18:48:33.139Z"
   },
   {
    "duration": 11,
    "start_time": "2022-05-20T18:48:44.915Z"
   },
   {
    "duration": 365,
    "start_time": "2022-05-20T18:50:02.327Z"
   },
   {
    "duration": 45,
    "start_time": "2022-05-20T18:50:51.076Z"
   },
   {
    "duration": 14,
    "start_time": "2022-05-20T18:51:07.809Z"
   },
   {
    "duration": 14,
    "start_time": "2022-05-20T18:51:15.295Z"
   },
   {
    "duration": 176,
    "start_time": "2022-05-20T18:51:43.887Z"
   },
   {
    "duration": 12,
    "start_time": "2022-05-20T18:52:41.537Z"
   },
   {
    "duration": 92,
    "start_time": "2022-05-20T18:53:20.157Z"
   },
   {
    "duration": 26,
    "start_time": "2022-05-20T18:55:52.405Z"
   },
   {
    "duration": 207,
    "start_time": "2022-05-20T18:56:34.976Z"
   },
   {
    "duration": 195,
    "start_time": "2022-05-20T18:57:44.887Z"
   },
   {
    "duration": 226,
    "start_time": "2022-05-20T18:58:01.464Z"
   },
   {
    "duration": 172,
    "start_time": "2022-05-20T18:58:44.681Z"
   },
   {
    "duration": 211,
    "start_time": "2022-05-20T18:59:10.077Z"
   },
   {
    "duration": 24,
    "start_time": "2022-05-20T18:59:36.275Z"
   },
   {
    "duration": 30,
    "start_time": "2022-05-20T19:01:32.148Z"
   },
   {
    "duration": 8,
    "start_time": "2022-05-20T19:01:50.733Z"
   },
   {
    "duration": 1256,
    "start_time": "2022-05-20T19:02:44.352Z"
   },
   {
    "duration": 89,
    "start_time": "2022-05-20T19:02:47.822Z"
   },
   {
    "duration": 7,
    "start_time": "2022-05-20T19:02:50.875Z"
   },
   {
    "duration": 19,
    "start_time": "2022-05-20T19:02:53.377Z"
   },
   {
    "duration": 31,
    "start_time": "2022-05-20T19:02:55.061Z"
   },
   {
    "duration": 15,
    "start_time": "2022-05-20T19:02:57.277Z"
   },
   {
    "duration": 12,
    "start_time": "2022-05-20T19:02:57.677Z"
   },
   {
    "duration": 69,
    "start_time": "2022-05-20T19:03:00.049Z"
   },
   {
    "duration": 10,
    "start_time": "2022-05-20T19:03:00.575Z"
   },
   {
    "duration": 10,
    "start_time": "2022-05-20T19:03:05.376Z"
   },
   {
    "duration": 30,
    "start_time": "2022-05-20T19:03:18.671Z"
   },
   {
    "duration": 167,
    "start_time": "2022-05-20T19:03:21.214Z"
   },
   {
    "duration": 15,
    "start_time": "2022-05-20T19:03:24.697Z"
   },
   {
    "duration": 167,
    "start_time": "2022-05-20T19:03:54.714Z"
   },
   {
    "duration": 15,
    "start_time": "2022-05-20T19:04:00.335Z"
   },
   {
    "duration": 126,
    "start_time": "2022-05-20T19:04:17.503Z"
   },
   {
    "duration": 46,
    "start_time": "2022-05-20T19:04:42.331Z"
   },
   {
    "duration": 17,
    "start_time": "2022-05-20T19:04:53.900Z"
   },
   {
    "duration": 14,
    "start_time": "2022-05-20T19:05:35.448Z"
   },
   {
    "duration": 19,
    "start_time": "2022-05-20T19:05:58.882Z"
   },
   {
    "duration": 23,
    "start_time": "2022-05-20T19:06:20.692Z"
   },
   {
    "duration": 21,
    "start_time": "2022-05-20T19:06:22.504Z"
   },
   {
    "duration": 25,
    "start_time": "2022-05-20T19:06:23.354Z"
   },
   {
    "duration": 10,
    "start_time": "2022-05-20T19:06:26.218Z"
   },
   {
    "duration": 632,
    "start_time": "2022-05-20T19:06:29.449Z"
   },
   {
    "duration": 13,
    "start_time": "2022-05-20T19:06:31.809Z"
   },
   {
    "duration": 7,
    "start_time": "2022-05-20T19:06:35.146Z"
   },
   {
    "duration": 12,
    "start_time": "2022-05-20T19:06:37.491Z"
   },
   {
    "duration": 56,
    "start_time": "2022-05-20T19:06:42.526Z"
   },
   {
    "duration": 178,
    "start_time": "2022-05-20T19:06:44.922Z"
   },
   {
    "duration": 13,
    "start_time": "2022-05-20T19:06:48.631Z"
   },
   {
    "duration": 84,
    "start_time": "2022-05-20T19:06:50.936Z"
   },
   {
    "duration": 24,
    "start_time": "2022-05-20T19:07:20.907Z"
   },
   {
    "duration": 194,
    "start_time": "2022-05-20T19:07:24.886Z"
   },
   {
    "duration": 30,
    "start_time": "2022-05-20T19:07:58.852Z"
   },
   {
    "duration": 11,
    "start_time": "2022-05-20T19:08:05.918Z"
   },
   {
    "duration": 22,
    "start_time": "2022-05-20T19:10:49.768Z"
   },
   {
    "duration": 8,
    "start_time": "2022-05-20T19:10:50.920Z"
   },
   {
    "duration": 24,
    "start_time": "2022-05-20T19:12:04.202Z"
   },
   {
    "duration": 9,
    "start_time": "2022-05-20T19:12:05.809Z"
   },
   {
    "duration": 11,
    "start_time": "2022-05-20T19:12:41.002Z"
   },
   {
    "duration": 25,
    "start_time": "2022-05-20T19:13:56.069Z"
   },
   {
    "duration": 5,
    "start_time": "2022-05-20T19:17:26.811Z"
   },
   {
    "duration": 100,
    "start_time": "2022-05-20T19:17:28.121Z"
   },
   {
    "duration": 15,
    "start_time": "2022-05-20T19:17:31.464Z"
   },
   {
    "duration": 23,
    "start_time": "2022-05-20T19:17:34.056Z"
   },
   {
    "duration": 22,
    "start_time": "2022-05-20T19:17:34.408Z"
   },
   {
    "duration": 15,
    "start_time": "2022-05-20T19:17:34.803Z"
   },
   {
    "duration": 16,
    "start_time": "2022-05-20T19:17:35.152Z"
   },
   {
    "duration": 57,
    "start_time": "2022-05-20T19:17:39.182Z"
   },
   {
    "duration": 19,
    "start_time": "2022-05-20T19:17:39.455Z"
   },
   {
    "duration": 11,
    "start_time": "2022-05-20T19:17:40.781Z"
   },
   {
    "duration": 28,
    "start_time": "2022-05-20T19:18:17.070Z"
   },
   {
    "duration": 167,
    "start_time": "2022-05-20T19:19:53.548Z"
   },
   {
    "duration": 22,
    "start_time": "2022-05-20T19:20:31.892Z"
   },
   {
    "duration": 13,
    "start_time": "2022-05-20T19:20:47.163Z"
   },
   {
    "duration": 16,
    "start_time": "2022-05-20T19:21:37.781Z"
   },
   {
    "duration": 147,
    "start_time": "2022-05-20T19:21:40.168Z"
   },
   {
    "duration": 24,
    "start_time": "2022-05-20T19:21:40.752Z"
   },
   {
    "duration": 21,
    "start_time": "2022-05-20T19:21:41.201Z"
   },
   {
    "duration": 22,
    "start_time": "2022-05-20T19:21:41.549Z"
   },
   {
    "duration": 9,
    "start_time": "2022-05-20T19:21:42.030Z"
   },
   {
    "duration": 540,
    "start_time": "2022-05-20T19:21:42.341Z"
   },
   {
    "duration": 11,
    "start_time": "2022-05-20T19:21:42.883Z"
   },
   {
    "duration": 7,
    "start_time": "2022-05-20T19:21:43.152Z"
   },
   {
    "duration": 12,
    "start_time": "2022-05-20T19:21:43.517Z"
   },
   {
    "duration": 14,
    "start_time": "2022-05-20T19:21:46.849Z"
   },
   {
    "duration": 182,
    "start_time": "2022-05-20T19:21:47.654Z"
   },
   {
    "duration": 16,
    "start_time": "2022-05-20T19:21:49.357Z"
   },
   {
    "duration": 95,
    "start_time": "2022-05-20T19:21:49.841Z"
   },
   {
    "duration": 25,
    "start_time": "2022-05-20T19:21:57.174Z"
   },
   {
    "duration": 208,
    "start_time": "2022-05-20T19:21:59.306Z"
   },
   {
    "duration": 25,
    "start_time": "2022-05-20T19:22:17.874Z"
   },
   {
    "duration": 25,
    "start_time": "2022-05-20T19:22:38.066Z"
   },
   {
    "duration": 8,
    "start_time": "2022-05-20T19:22:48.612Z"
   },
   {
    "duration": 523,
    "start_time": "2022-05-20T19:23:11.815Z"
   },
   {
    "duration": 5,
    "start_time": "2022-05-20T19:23:46.444Z"
   },
   {
    "duration": 21,
    "start_time": "2022-05-20T19:24:19.315Z"
   },
   {
    "duration": 5,
    "start_time": "2022-05-20T19:24:21.554Z"
   },
   {
    "duration": 23,
    "start_time": "2022-05-20T19:24:41.691Z"
   },
   {
    "duration": 5,
    "start_time": "2022-05-20T19:24:43.989Z"
   },
   {
    "duration": 102,
    "start_time": "2022-05-20T19:26:03.885Z"
   },
   {
    "duration": 12,
    "start_time": "2022-05-20T19:27:01.440Z"
   },
   {
    "duration": 14,
    "start_time": "2022-05-20T19:28:54.824Z"
   },
   {
    "duration": 101,
    "start_time": "2022-05-20T19:31:17.506Z"
   },
   {
    "duration": 11,
    "start_time": "2022-05-20T19:31:20.145Z"
   },
   {
    "duration": 149,
    "start_time": "2022-05-20T19:40:01.300Z"
   },
   {
    "duration": 271,
    "start_time": "2022-05-20T19:40:07.188Z"
   },
   {
    "duration": 208,
    "start_time": "2022-05-20T19:40:20.474Z"
   },
   {
    "duration": 271,
    "start_time": "2022-05-20T19:40:38.853Z"
   },
   {
    "duration": 195,
    "start_time": "2022-05-20T19:40:44.136Z"
   },
   {
    "duration": 206,
    "start_time": "2022-05-20T19:41:25.359Z"
   },
   {
    "duration": 176,
    "start_time": "2022-05-20T19:41:59.350Z"
   },
   {
    "duration": 201,
    "start_time": "2022-05-20T19:42:31.444Z"
   },
   {
    "duration": 216,
    "start_time": "2022-05-20T19:43:21.768Z"
   },
   {
    "duration": 208,
    "start_time": "2022-05-20T19:43:35.121Z"
   },
   {
    "duration": 206,
    "start_time": "2022-05-20T19:44:23.764Z"
   },
   {
    "duration": 229,
    "start_time": "2022-05-20T19:45:04.898Z"
   },
   {
    "duration": 220,
    "start_time": "2022-05-20T19:45:11.414Z"
   },
   {
    "duration": 224,
    "start_time": "2022-05-20T19:45:24.739Z"
   },
   {
    "duration": 191,
    "start_time": "2022-05-20T19:45:50.931Z"
   },
   {
    "duration": 293,
    "start_time": "2022-05-20T19:45:56.603Z"
   },
   {
    "duration": 331,
    "start_time": "2022-05-20T19:47:21.320Z"
   },
   {
    "duration": 332,
    "start_time": "2022-05-20T19:48:26.122Z"
   },
   {
    "duration": 295,
    "start_time": "2022-05-20T19:48:35.889Z"
   },
   {
    "duration": 374,
    "start_time": "2022-05-20T19:48:38.898Z"
   },
   {
    "duration": 291,
    "start_time": "2022-05-20T19:49:42.387Z"
   },
   {
    "duration": 307,
    "start_time": "2022-05-20T19:49:50.697Z"
   },
   {
    "duration": 326,
    "start_time": "2022-05-20T19:50:03.684Z"
   },
   {
    "duration": 303,
    "start_time": "2022-05-20T19:50:14.066Z"
   },
   {
    "duration": 346,
    "start_time": "2022-05-20T19:50:30.914Z"
   },
   {
    "duration": 325,
    "start_time": "2022-05-20T19:51:44.356Z"
   },
   {
    "duration": 345,
    "start_time": "2022-05-20T19:52:03.836Z"
   },
   {
    "duration": 61,
    "start_time": "2022-05-20T19:53:10.669Z"
   },
   {
    "duration": 11,
    "start_time": "2022-05-20T19:53:13.025Z"
   },
   {
    "duration": 357,
    "start_time": "2022-05-20T19:53:14.510Z"
   },
   {
    "duration": 21,
    "start_time": "2022-05-20T19:54:57.450Z"
   },
   {
    "duration": 14,
    "start_time": "2022-05-20T19:55:26.807Z"
   },
   {
    "duration": 13,
    "start_time": "2022-05-20T19:56:28.306Z"
   },
   {
    "duration": 12,
    "start_time": "2022-05-20T19:56:31.936Z"
   },
   {
    "duration": 13,
    "start_time": "2022-05-20T19:56:42.756Z"
   },
   {
    "duration": 7,
    "start_time": "2022-05-20T19:56:45.610Z"
   },
   {
    "duration": 435,
    "start_time": "2022-05-20T19:57:46.347Z"
   },
   {
    "duration": 13,
    "start_time": "2022-05-20T19:57:53.396Z"
   },
   {
    "duration": 353,
    "start_time": "2022-05-20T19:57:57.332Z"
   },
   {
    "duration": 1260,
    "start_time": "2022-05-20T19:58:09.342Z"
   },
   {
    "duration": 90,
    "start_time": "2022-05-20T19:58:10.604Z"
   },
   {
    "duration": 6,
    "start_time": "2022-05-20T19:58:10.696Z"
   },
   {
    "duration": 26,
    "start_time": "2022-05-20T19:58:10.703Z"
   },
   {
    "duration": 47,
    "start_time": "2022-05-20T19:58:10.731Z"
   },
   {
    "duration": 21,
    "start_time": "2022-05-20T19:58:10.780Z"
   },
   {
    "duration": 18,
    "start_time": "2022-05-20T19:58:10.803Z"
   },
   {
    "duration": 103,
    "start_time": "2022-05-20T19:58:10.823Z"
   },
   {
    "duration": 9,
    "start_time": "2022-05-20T19:58:10.927Z"
   },
   {
    "duration": 27,
    "start_time": "2022-05-20T19:58:10.938Z"
   },
   {
    "duration": 29,
    "start_time": "2022-05-20T19:58:10.967Z"
   },
   {
    "duration": 209,
    "start_time": "2022-05-20T19:58:10.998Z"
   },
   {
    "duration": 16,
    "start_time": "2022-05-20T19:58:11.209Z"
   },
   {
    "duration": 180,
    "start_time": "2022-05-20T19:58:11.228Z"
   },
   {
    "duration": 24,
    "start_time": "2022-05-20T19:58:11.410Z"
   },
   {
    "duration": 37,
    "start_time": "2022-05-20T19:58:11.436Z"
   },
   {
    "duration": 22,
    "start_time": "2022-05-20T19:58:11.475Z"
   },
   {
    "duration": 9,
    "start_time": "2022-05-20T19:58:11.499Z"
   },
   {
    "duration": 688,
    "start_time": "2022-05-20T19:58:11.510Z"
   },
   {
    "duration": 13,
    "start_time": "2022-05-20T19:58:12.199Z"
   },
   {
    "duration": 12,
    "start_time": "2022-05-20T19:58:12.214Z"
   },
   {
    "duration": 13,
    "start_time": "2022-05-20T19:58:12.228Z"
   },
   {
    "duration": 70,
    "start_time": "2022-05-20T19:58:12.264Z"
   },
   {
    "duration": 211,
    "start_time": "2022-05-20T19:58:12.335Z"
   },
   {
    "duration": 19,
    "start_time": "2022-05-20T19:58:12.548Z"
   },
   {
    "duration": 106,
    "start_time": "2022-05-20T19:58:12.569Z"
   },
   {
    "duration": 26,
    "start_time": "2022-05-20T19:58:12.677Z"
   },
   {
    "duration": 232,
    "start_time": "2022-05-20T19:58:12.704Z"
   },
   {
    "duration": 30,
    "start_time": "2022-05-20T19:58:12.938Z"
   },
   {
    "duration": 14,
    "start_time": "2022-05-20T19:58:12.969Z"
   },
   {
    "duration": 6,
    "start_time": "2022-05-20T19:58:12.985Z"
   },
   {
    "duration": 10,
    "start_time": "2022-05-20T19:58:12.992Z"
   },
   {
    "duration": 421,
    "start_time": "2022-05-20T19:58:13.004Z"
   },
   {
    "duration": 14,
    "start_time": "2022-05-20T19:58:13.427Z"
   },
   {
    "duration": 371,
    "start_time": "2022-05-20T19:58:13.443Z"
   },
   {
    "duration": 401,
    "start_time": "2022-05-20T20:00:44.076Z"
   },
   {
    "duration": 11,
    "start_time": "2022-05-20T20:00:46.624Z"
   },
   {
    "duration": 6,
    "start_time": "2022-05-20T20:03:46.691Z"
   },
   {
    "duration": 36,
    "start_time": "2022-05-20T20:04:09.750Z"
   },
   {
    "duration": 11,
    "start_time": "2022-05-20T20:04:11.540Z"
   },
   {
    "duration": 18,
    "start_time": "2022-05-20T20:04:31.839Z"
   },
   {
    "duration": 12,
    "start_time": "2022-05-20T20:04:33.990Z"
   },
   {
    "duration": 18,
    "start_time": "2022-05-20T20:04:41.234Z"
   },
   {
    "duration": 15,
    "start_time": "2022-05-20T20:04:43.812Z"
   },
   {
    "duration": 17,
    "start_time": "2022-05-20T20:04:53.237Z"
   },
   {
    "duration": 11,
    "start_time": "2022-05-20T20:04:54.480Z"
   },
   {
    "duration": 17,
    "start_time": "2022-05-20T20:05:32.007Z"
   },
   {
    "duration": 12,
    "start_time": "2022-05-20T20:05:33.301Z"
   },
   {
    "duration": 17,
    "start_time": "2022-05-20T20:06:05.412Z"
   },
   {
    "duration": 14,
    "start_time": "2022-05-20T20:06:08.923Z"
   },
   {
    "duration": 17,
    "start_time": "2022-05-20T20:06:35.135Z"
   },
   {
    "duration": 12,
    "start_time": "2022-05-20T20:06:35.988Z"
   },
   {
    "duration": 323,
    "start_time": "2022-05-20T20:07:08.008Z"
   },
   {
    "duration": 18,
    "start_time": "2022-05-20T20:08:07.999Z"
   },
   {
    "duration": 14,
    "start_time": "2022-05-20T20:08:10.574Z"
   },
   {
    "duration": 22,
    "start_time": "2022-05-20T20:08:18.935Z"
   },
   {
    "duration": 12,
    "start_time": "2022-05-20T20:08:20.218Z"
   },
   {
    "duration": 18,
    "start_time": "2022-05-20T20:08:41.931Z"
   },
   {
    "duration": 13,
    "start_time": "2022-05-20T20:08:42.850Z"
   },
   {
    "duration": 18,
    "start_time": "2022-05-20T20:09:07.744Z"
   },
   {
    "duration": 12,
    "start_time": "2022-05-20T20:09:08.531Z"
   },
   {
    "duration": 31,
    "start_time": "2022-05-20T20:10:34.659Z"
   },
   {
    "duration": 23,
    "start_time": "2022-05-20T20:10:37.290Z"
   },
   {
    "duration": 18,
    "start_time": "2022-05-20T20:11:02.731Z"
   },
   {
    "duration": 11,
    "start_time": "2022-05-20T20:11:04.736Z"
   },
   {
    "duration": 129,
    "start_time": "2022-05-20T20:11:54.384Z"
   },
   {
    "duration": 12,
    "start_time": "2022-05-20T20:11:58.630Z"
   },
   {
    "duration": 385,
    "start_time": "2022-05-20T20:12:04.519Z"
   },
   {
    "duration": 129,
    "start_time": "2022-05-20T20:13:56.552Z"
   },
   {
    "duration": 728,
    "start_time": "2022-05-20T20:14:08.353Z"
   },
   {
    "duration": 15,
    "start_time": "2022-05-20T20:14:17.102Z"
   },
   {
    "duration": 14,
    "start_time": "2022-05-20T20:14:29.751Z"
   },
   {
    "duration": 13,
    "start_time": "2022-05-20T20:14:42.671Z"
   },
   {
    "duration": 19,
    "start_time": "2022-05-20T20:15:13.556Z"
   },
   {
    "duration": 17,
    "start_time": "2022-05-20T20:15:26.730Z"
   },
   {
    "duration": 622,
    "start_time": "2022-05-20T20:16:01.408Z"
   },
   {
    "duration": 628,
    "start_time": "2022-05-20T20:16:08.362Z"
   },
   {
    "duration": 17,
    "start_time": "2022-05-20T20:16:14.625Z"
   },
   {
    "duration": 14,
    "start_time": "2022-05-20T20:16:28.489Z"
   },
   {
    "duration": 14,
    "start_time": "2022-05-20T20:16:34.408Z"
   },
   {
    "duration": 13,
    "start_time": "2022-05-20T20:16:38.073Z"
   },
   {
    "duration": 19,
    "start_time": "2022-05-20T20:17:05.657Z"
   },
   {
    "duration": 109,
    "start_time": "2022-05-20T20:17:08.285Z"
   },
   {
    "duration": 13,
    "start_time": "2022-05-20T20:17:10.258Z"
   },
   {
    "duration": 302,
    "start_time": "2022-05-20T20:17:12.098Z"
   },
   {
    "duration": 309,
    "start_time": "2022-05-20T20:17:21.690Z"
   },
   {
    "duration": 315,
    "start_time": "2022-05-20T20:17:35.869Z"
   },
   {
    "duration": 426,
    "start_time": "2022-05-20T20:18:15.246Z"
   },
   {
    "duration": 377,
    "start_time": "2022-05-20T20:19:00.223Z"
   },
   {
    "duration": 357,
    "start_time": "2022-05-20T20:19:11.132Z"
   },
   {
    "duration": 180,
    "start_time": "2022-05-20T20:23:25.898Z"
   },
   {
    "duration": 172,
    "start_time": "2022-05-20T20:23:32.276Z"
   },
   {
    "duration": 328,
    "start_time": "2022-05-20T20:24:20.291Z"
   },
   {
    "duration": 301,
    "start_time": "2022-05-20T20:25:11.176Z"
   },
   {
    "duration": 408,
    "start_time": "2022-05-20T20:25:18.804Z"
   },
   {
    "duration": 321,
    "start_time": "2022-05-20T20:25:26.956Z"
   },
   {
    "duration": 295,
    "start_time": "2022-05-20T20:26:13.097Z"
   },
   {
    "duration": 20,
    "start_time": "2022-05-20T20:26:50.235Z"
   },
   {
    "duration": 15,
    "start_time": "2022-05-20T20:26:51.309Z"
   },
   {
    "duration": 99,
    "start_time": "2022-05-20T20:26:51.533Z"
   },
   {
    "duration": 12,
    "start_time": "2022-05-20T20:26:51.937Z"
   },
   {
    "duration": 23,
    "start_time": "2022-05-20T20:27:18.442Z"
   },
   {
    "duration": 13,
    "start_time": "2022-05-20T20:27:23.729Z"
   },
   {
    "duration": 99,
    "start_time": "2022-05-20T20:27:32.087Z"
   },
   {
    "duration": 15,
    "start_time": "2022-05-20T20:27:34.154Z"
   },
   {
    "duration": 359,
    "start_time": "2022-05-20T20:27:41.024Z"
   },
   {
    "duration": 342,
    "start_time": "2022-05-20T20:27:46.342Z"
   },
   {
    "duration": 317,
    "start_time": "2022-05-20T20:27:54.599Z"
   },
   {
    "duration": 241,
    "start_time": "2022-05-20T20:40:43.419Z"
   },
   {
    "duration": 231,
    "start_time": "2022-05-20T20:41:02.420Z"
   },
   {
    "duration": 9,
    "start_time": "2022-05-20T20:41:56.924Z"
   },
   {
    "duration": 19,
    "start_time": "2022-05-20T20:42:24.419Z"
   },
   {
    "duration": 14,
    "start_time": "2022-05-20T20:42:40.501Z"
   },
   {
    "duration": 13,
    "start_time": "2022-05-20T20:42:48.535Z"
   },
   {
    "duration": 10,
    "start_time": "2022-05-20T20:42:52.070Z"
   },
   {
    "duration": 5,
    "start_time": "2022-05-20T20:44:51.076Z"
   },
   {
    "duration": 11,
    "start_time": "2022-05-20T20:44:58.969Z"
   },
   {
    "duration": 10,
    "start_time": "2022-05-20T20:45:57.924Z"
   },
   {
    "duration": 10,
    "start_time": "2022-05-20T20:46:21.141Z"
   },
   {
    "duration": 11,
    "start_time": "2022-05-20T20:46:53.276Z"
   },
   {
    "duration": 12,
    "start_time": "2022-05-20T20:47:41.490Z"
   },
   {
    "duration": 11,
    "start_time": "2022-05-20T20:47:59.614Z"
   },
   {
    "duration": 11,
    "start_time": "2022-05-20T20:48:04.246Z"
   },
   {
    "duration": 36,
    "start_time": "2022-05-20T20:48:47.299Z"
   },
   {
    "duration": 12,
    "start_time": "2022-05-20T20:48:58.411Z"
   },
   {
    "duration": 12,
    "start_time": "2022-05-20T20:49:03.000Z"
   },
   {
    "duration": 344,
    "start_time": "2022-05-20T20:50:01.572Z"
   },
   {
    "duration": 448,
    "start_time": "2022-05-20T20:51:44.908Z"
   },
   {
    "duration": 298,
    "start_time": "2022-05-20T20:51:56.387Z"
   },
   {
    "duration": 344,
    "start_time": "2022-05-20T20:52:20.678Z"
   },
   {
    "duration": 327,
    "start_time": "2022-05-20T20:52:23.744Z"
   },
   {
    "duration": 311,
    "start_time": "2022-05-20T20:53:01.981Z"
   },
   {
    "duration": 299,
    "start_time": "2022-05-20T20:54:25.201Z"
   },
   {
    "duration": 170,
    "start_time": "2022-05-20T20:58:20.518Z"
   },
   {
    "duration": 174,
    "start_time": "2022-05-20T20:58:46.968Z"
   },
   {
    "duration": 173,
    "start_time": "2022-05-20T20:59:39.918Z"
   },
   {
    "duration": 290,
    "start_time": "2022-05-20T20:59:49.538Z"
   },
   {
    "duration": 351,
    "start_time": "2022-05-20T21:08:14.867Z"
   },
   {
    "duration": 183,
    "start_time": "2022-05-20T21:10:56.066Z"
   },
   {
    "duration": 331,
    "start_time": "2022-05-20T21:11:36.858Z"
   },
   {
    "duration": 305,
    "start_time": "2022-05-20T21:15:05.387Z"
   },
   {
    "duration": 1193,
    "start_time": "2022-05-20T21:19:37.117Z"
   },
   {
    "duration": 88,
    "start_time": "2022-05-20T21:19:38.313Z"
   },
   {
    "duration": 7,
    "start_time": "2022-05-20T21:19:38.404Z"
   },
   {
    "duration": 28,
    "start_time": "2022-05-20T21:19:38.414Z"
   },
   {
    "duration": 39,
    "start_time": "2022-05-20T21:19:38.445Z"
   },
   {
    "duration": 13,
    "start_time": "2022-05-20T21:19:38.486Z"
   },
   {
    "duration": 15,
    "start_time": "2022-05-20T21:19:38.501Z"
   },
   {
    "duration": 93,
    "start_time": "2022-05-20T21:19:38.518Z"
   },
   {
    "duration": 8,
    "start_time": "2022-05-20T21:19:38.613Z"
   },
   {
    "duration": 21,
    "start_time": "2022-05-20T21:19:38.623Z"
   },
   {
    "duration": 44,
    "start_time": "2022-05-20T21:19:38.646Z"
   },
   {
    "duration": 171,
    "start_time": "2022-05-20T21:19:38.691Z"
   },
   {
    "duration": 19,
    "start_time": "2022-05-20T21:19:38.867Z"
   },
   {
    "duration": 220,
    "start_time": "2022-05-20T21:19:38.890Z"
   },
   {
    "duration": 36,
    "start_time": "2022-05-20T21:19:39.112Z"
   },
   {
    "duration": 36,
    "start_time": "2022-05-20T21:19:39.150Z"
   },
   {
    "duration": 20,
    "start_time": "2022-05-20T21:19:39.188Z"
   },
   {
    "duration": 10,
    "start_time": "2022-05-20T21:19:39.210Z"
   },
   {
    "duration": 685,
    "start_time": "2022-05-20T21:19:39.221Z"
   },
   {
    "duration": 11,
    "start_time": "2022-05-20T21:19:39.908Z"
   },
   {
    "duration": 9,
    "start_time": "2022-05-20T21:19:39.922Z"
   },
   {
    "duration": 32,
    "start_time": "2022-05-20T21:19:39.933Z"
   },
   {
    "duration": 57,
    "start_time": "2022-05-20T21:19:39.967Z"
   },
   {
    "duration": 196,
    "start_time": "2022-05-20T21:19:40.026Z"
   },
   {
    "duration": 12,
    "start_time": "2022-05-20T21:19:40.224Z"
   },
   {
    "duration": 102,
    "start_time": "2022-05-20T21:19:40.237Z"
   },
   {
    "duration": 35,
    "start_time": "2022-05-20T21:19:40.340Z"
   },
   {
    "duration": 218,
    "start_time": "2022-05-20T21:19:40.377Z"
   },
   {
    "duration": 22,
    "start_time": "2022-05-20T21:19:40.597Z"
   },
   {
    "duration": 13,
    "start_time": "2022-05-20T21:19:40.621Z"
   },
   {
    "duration": 168,
    "start_time": "2022-05-20T21:19:40.635Z"
   },
   {
    "duration": 10,
    "start_time": "2022-05-20T21:19:40.805Z"
   },
   {
    "duration": 331,
    "start_time": "2022-05-20T21:19:40.817Z"
   },
   {
    "duration": 423,
    "start_time": "2022-05-20T21:22:16.038Z"
   },
   {
    "duration": 434,
    "start_time": "2022-05-20T21:22:44.202Z"
   },
   {
    "duration": 1340,
    "start_time": "2022-05-21T05:54:05.203Z"
   },
   {
    "duration": 125,
    "start_time": "2022-05-21T05:54:06.545Z"
   },
   {
    "duration": 5,
    "start_time": "2022-05-21T05:54:06.671Z"
   },
   {
    "duration": 22,
    "start_time": "2022-05-21T05:54:06.678Z"
   },
   {
    "duration": 21,
    "start_time": "2022-05-21T05:54:06.702Z"
   },
   {
    "duration": 13,
    "start_time": "2022-05-21T05:54:06.724Z"
   },
   {
    "duration": 20,
    "start_time": "2022-05-21T05:54:06.765Z"
   },
   {
    "duration": 64,
    "start_time": "2022-05-21T05:54:06.787Z"
   },
   {
    "duration": 11,
    "start_time": "2022-05-21T05:54:06.865Z"
   },
   {
    "duration": 11,
    "start_time": "2022-05-21T05:54:06.878Z"
   },
   {
    "duration": 30,
    "start_time": "2022-05-21T05:54:06.891Z"
   },
   {
    "duration": 187,
    "start_time": "2022-05-21T05:54:06.923Z"
   },
   {
    "duration": 15,
    "start_time": "2022-05-21T05:54:07.111Z"
   },
   {
    "duration": 169,
    "start_time": "2022-05-21T05:54:07.129Z"
   },
   {
    "duration": 25,
    "start_time": "2022-05-21T05:54:07.299Z"
   },
   {
    "duration": 24,
    "start_time": "2022-05-21T05:54:07.326Z"
   },
   {
    "duration": 24,
    "start_time": "2022-05-21T05:54:07.365Z"
   },
   {
    "duration": 11,
    "start_time": "2022-05-21T05:54:07.391Z"
   },
   {
    "duration": 690,
    "start_time": "2022-05-21T05:54:07.404Z"
   },
   {
    "duration": 11,
    "start_time": "2022-05-21T05:54:08.097Z"
   },
   {
    "duration": 17,
    "start_time": "2022-05-21T05:54:08.111Z"
   },
   {
    "duration": 13,
    "start_time": "2022-05-21T05:54:08.130Z"
   },
   {
    "duration": 59,
    "start_time": "2022-05-21T05:54:08.144Z"
   },
   {
    "duration": 206,
    "start_time": "2022-05-21T05:54:08.205Z"
   },
   {
    "duration": 13,
    "start_time": "2022-05-21T05:54:08.412Z"
   },
   {
    "duration": 100,
    "start_time": "2022-05-21T05:54:08.426Z"
   },
   {
    "duration": 23,
    "start_time": "2022-05-21T05:54:08.527Z"
   },
   {
    "duration": 229,
    "start_time": "2022-05-21T05:54:08.552Z"
   },
   {
    "duration": 22,
    "start_time": "2022-05-21T05:54:08.783Z"
   },
   {
    "duration": 13,
    "start_time": "2022-05-21T05:54:08.806Z"
   },
   {
    "duration": 244,
    "start_time": "2022-05-21T05:54:08.820Z"
   },
   {
    "duration": 16,
    "start_time": "2022-05-21T05:54:09.066Z"
   },
   {
    "duration": 503,
    "start_time": "2022-05-21T05:54:09.084Z"
   },
   {
    "duration": 14,
    "start_time": "2022-05-21T05:55:38.186Z"
   },
   {
    "duration": 12,
    "start_time": "2022-05-21T05:56:38.247Z"
   },
   {
    "duration": 15,
    "start_time": "2022-05-21T06:01:10.394Z"
   },
   {
    "duration": 136,
    "start_time": "2022-05-21T06:01:37.914Z"
   },
   {
    "duration": 16,
    "start_time": "2022-05-21T06:01:46.276Z"
   },
   {
    "duration": 22,
    "start_time": "2022-05-21T06:01:58.257Z"
   },
   {
    "duration": 19,
    "start_time": "2022-05-21T06:02:19.714Z"
   },
   {
    "duration": 12,
    "start_time": "2022-05-21T06:02:30.415Z"
   },
   {
    "duration": 12,
    "start_time": "2022-05-21T06:02:37.851Z"
   },
   {
    "duration": 17,
    "start_time": "2022-05-21T06:03:15.980Z"
   },
   {
    "duration": 12,
    "start_time": "2022-05-21T06:03:44.050Z"
   },
   {
    "duration": 22,
    "start_time": "2022-05-21T06:04:14.087Z"
   },
   {
    "duration": 587,
    "start_time": "2022-05-21T06:05:35.303Z"
   },
   {
    "duration": 173,
    "start_time": "2022-05-21T06:05:53.949Z"
   },
   {
    "duration": 171,
    "start_time": "2022-05-21T06:06:03.865Z"
   },
   {
    "duration": 160,
    "start_time": "2022-05-21T06:06:34.189Z"
   },
   {
    "duration": 222,
    "start_time": "2022-05-21T06:06:59.811Z"
   },
   {
    "duration": 5,
    "start_time": "2022-05-21T06:17:55.493Z"
   },
   {
    "duration": 6,
    "start_time": "2022-05-21T06:18:44.858Z"
   },
   {
    "duration": 6,
    "start_time": "2022-05-21T06:19:00.476Z"
   },
   {
    "duration": 6,
    "start_time": "2022-05-21T06:19:34.853Z"
   },
   {
    "duration": 7,
    "start_time": "2022-05-21T06:20:00.301Z"
   },
   {
    "duration": 5,
    "start_time": "2022-05-21T06:20:07.759Z"
   },
   {
    "duration": 14,
    "start_time": "2022-05-21T06:25:41.798Z"
   },
   {
    "duration": 51,
    "start_time": "2022-05-21T06:25:53.496Z"
   },
   {
    "duration": 43,
    "start_time": "2022-05-21T06:28:56.907Z"
   },
   {
    "duration": 5,
    "start_time": "2022-05-21T06:29:18.116Z"
   },
   {
    "duration": 5,
    "start_time": "2022-05-21T06:29:31.490Z"
   },
   {
    "duration": 5,
    "start_time": "2022-05-21T06:30:16.161Z"
   },
   {
    "duration": 4,
    "start_time": "2022-05-21T06:30:54.790Z"
   },
   {
    "duration": 5,
    "start_time": "2022-05-21T06:32:03.283Z"
   },
   {
    "duration": 9,
    "start_time": "2022-05-21T06:33:23.468Z"
   },
   {
    "duration": 3,
    "start_time": "2022-05-21T06:33:32.088Z"
   },
   {
    "duration": 4,
    "start_time": "2022-05-21T06:33:35.561Z"
   },
   {
    "duration": 4,
    "start_time": "2022-05-21T06:33:57.606Z"
   },
   {
    "duration": 5,
    "start_time": "2022-05-21T06:34:54.583Z"
   },
   {
    "duration": 10,
    "start_time": "2022-05-21T06:59:25.655Z"
   },
   {
    "duration": 23,
    "start_time": "2022-05-21T07:00:05.706Z"
   },
   {
    "duration": 33,
    "start_time": "2022-05-21T07:00:20.696Z"
   },
   {
    "duration": 1195,
    "start_time": "2022-05-21T07:01:25.424Z"
   },
   {
    "duration": 134,
    "start_time": "2022-05-21T07:01:26.622Z"
   },
   {
    "duration": 6,
    "start_time": "2022-05-21T07:01:26.757Z"
   },
   {
    "duration": 21,
    "start_time": "2022-05-21T07:01:26.765Z"
   },
   {
    "duration": 21,
    "start_time": "2022-05-21T07:01:26.788Z"
   },
   {
    "duration": 16,
    "start_time": "2022-05-21T07:01:26.810Z"
   },
   {
    "duration": 39,
    "start_time": "2022-05-21T07:01:26.828Z"
   },
   {
    "duration": 59,
    "start_time": "2022-05-21T07:01:26.869Z"
   },
   {
    "duration": 10,
    "start_time": "2022-05-21T07:01:26.930Z"
   },
   {
    "duration": 29,
    "start_time": "2022-05-21T07:01:26.942Z"
   },
   {
    "duration": 28,
    "start_time": "2022-05-21T07:01:26.973Z"
   },
   {
    "duration": 213,
    "start_time": "2022-05-21T07:01:27.002Z"
   },
   {
    "duration": 18,
    "start_time": "2022-05-21T07:01:27.217Z"
   },
   {
    "duration": 177,
    "start_time": "2022-05-21T07:01:27.239Z"
   },
   {
    "duration": 50,
    "start_time": "2022-05-21T07:01:27.418Z"
   },
   {
    "duration": 33,
    "start_time": "2022-05-21T07:01:27.471Z"
   },
   {
    "duration": 21,
    "start_time": "2022-05-21T07:01:27.506Z"
   },
   {
    "duration": 37,
    "start_time": "2022-05-21T07:01:27.530Z"
   },
   {
    "duration": 643,
    "start_time": "2022-05-21T07:01:27.569Z"
   },
   {
    "duration": 12,
    "start_time": "2022-05-21T07:01:28.214Z"
   },
   {
    "duration": 9,
    "start_time": "2022-05-21T07:01:28.229Z"
   },
   {
    "duration": 36,
    "start_time": "2022-05-21T07:01:28.240Z"
   },
   {
    "duration": 62,
    "start_time": "2022-05-21T07:01:28.278Z"
   },
   {
    "duration": 260,
    "start_time": "2022-05-21T07:01:28.343Z"
   },
   {
    "duration": 19,
    "start_time": "2022-05-21T07:01:28.606Z"
   },
   {
    "duration": 118,
    "start_time": "2022-05-21T07:01:28.627Z"
   },
   {
    "duration": 41,
    "start_time": "2022-05-21T07:01:28.748Z"
   },
   {
    "duration": 292,
    "start_time": "2022-05-21T07:01:28.791Z"
   },
   {
    "duration": 31,
    "start_time": "2022-05-21T07:01:29.085Z"
   },
   {
    "duration": 22,
    "start_time": "2022-05-21T07:01:29.119Z"
   },
   {
    "duration": 269,
    "start_time": "2022-05-21T07:01:29.144Z"
   },
   {
    "duration": 12,
    "start_time": "2022-05-21T07:01:29.415Z"
   },
   {
    "duration": 468,
    "start_time": "2022-05-21T07:01:29.429Z"
   },
   {
    "duration": 15,
    "start_time": "2022-05-21T07:01:29.899Z"
   },
   {
    "duration": 234,
    "start_time": "2022-05-21T07:01:29.916Z"
   },
   {
    "duration": 14,
    "start_time": "2022-05-21T07:01:30.152Z"
   },
   {
    "duration": 164,
    "start_time": "2022-05-21T07:01:30.168Z"
   },
   {
    "duration": 0,
    "start_time": "2022-05-21T07:01:30.334Z"
   },
   {
    "duration": 57,
    "start_time": "2022-05-21T07:01:50.257Z"
   },
   {
    "duration": 39,
    "start_time": "2022-05-21T07:02:21.360Z"
   },
   {
    "duration": 37,
    "start_time": "2022-05-21T07:02:38.416Z"
   },
   {
    "duration": 27,
    "start_time": "2022-05-21T07:06:53.388Z"
   },
   {
    "duration": 23,
    "start_time": "2022-05-21T07:07:00.501Z"
   },
   {
    "duration": 15,
    "start_time": "2022-05-21T07:08:08.414Z"
   },
   {
    "duration": 21,
    "start_time": "2022-05-21T07:08:27.767Z"
   },
   {
    "duration": 9,
    "start_time": "2022-05-21T07:08:50.799Z"
   },
   {
    "duration": 10,
    "start_time": "2022-05-21T07:09:38.864Z"
   },
   {
    "duration": 7,
    "start_time": "2022-05-21T07:10:14.288Z"
   },
   {
    "duration": 6,
    "start_time": "2022-05-21T07:10:38.305Z"
   },
   {
    "duration": 49,
    "start_time": "2022-05-21T07:10:51.407Z"
   },
   {
    "duration": 11,
    "start_time": "2022-05-21T07:10:52.011Z"
   },
   {
    "duration": 11,
    "start_time": "2022-05-21T07:10:54.115Z"
   },
   {
    "duration": 7,
    "start_time": "2022-05-21T07:10:55.721Z"
   },
   {
    "duration": 10,
    "start_time": "2022-05-21T07:12:05.897Z"
   },
   {
    "duration": 6,
    "start_time": "2022-05-21T07:13:01.282Z"
   },
   {
    "duration": 1504,
    "start_time": "2022-05-21T07:13:12.294Z"
   },
   {
    "duration": 127,
    "start_time": "2022-05-21T07:13:13.801Z"
   },
   {
    "duration": 9,
    "start_time": "2022-05-21T07:13:13.930Z"
   },
   {
    "duration": 48,
    "start_time": "2022-05-21T07:13:13.941Z"
   },
   {
    "duration": 38,
    "start_time": "2022-05-21T07:13:13.994Z"
   },
   {
    "duration": 38,
    "start_time": "2022-05-21T07:13:14.034Z"
   },
   {
    "duration": 25,
    "start_time": "2022-05-21T07:13:14.074Z"
   },
   {
    "duration": 124,
    "start_time": "2022-05-21T07:13:14.102Z"
   },
   {
    "duration": 23,
    "start_time": "2022-05-21T07:13:14.228Z"
   },
   {
    "duration": 20,
    "start_time": "2022-05-21T07:13:14.266Z"
   },
   {
    "duration": 67,
    "start_time": "2022-05-21T07:13:14.294Z"
   },
   {
    "duration": 259,
    "start_time": "2022-05-21T07:13:14.364Z"
   },
   {
    "duration": 22,
    "start_time": "2022-05-21T07:13:14.626Z"
   },
   {
    "duration": 306,
    "start_time": "2022-05-21T07:13:14.655Z"
   },
   {
    "duration": 44,
    "start_time": "2022-05-21T07:13:14.965Z"
   },
   {
    "duration": 34,
    "start_time": "2022-05-21T07:13:15.012Z"
   },
   {
    "duration": 39,
    "start_time": "2022-05-21T07:13:15.066Z"
   },
   {
    "duration": 14,
    "start_time": "2022-05-21T07:13:15.107Z"
   },
   {
    "duration": 757,
    "start_time": "2022-05-21T07:13:15.124Z"
   },
   {
    "duration": 16,
    "start_time": "2022-05-21T07:13:15.887Z"
   },
   {
    "duration": 16,
    "start_time": "2022-05-21T07:13:15.905Z"
   },
   {
    "duration": 19,
    "start_time": "2022-05-21T07:13:15.923Z"
   },
   {
    "duration": 82,
    "start_time": "2022-05-21T07:13:15.944Z"
   },
   {
    "duration": 226,
    "start_time": "2022-05-21T07:13:16.029Z"
   },
   {
    "duration": 17,
    "start_time": "2022-05-21T07:13:16.258Z"
   },
   {
    "duration": 114,
    "start_time": "2022-05-21T07:13:16.277Z"
   },
   {
    "duration": 38,
    "start_time": "2022-05-21T07:13:16.393Z"
   },
   {
    "duration": 310,
    "start_time": "2022-05-21T07:13:16.433Z"
   },
   {
    "duration": 37,
    "start_time": "2022-05-21T07:13:16.745Z"
   },
   {
    "duration": 16,
    "start_time": "2022-05-21T07:13:16.784Z"
   },
   {
    "duration": 236,
    "start_time": "2022-05-21T07:13:16.802Z"
   },
   {
    "duration": 20,
    "start_time": "2022-05-21T07:13:17.040Z"
   },
   {
    "duration": 615,
    "start_time": "2022-05-21T07:13:17.066Z"
   },
   {
    "duration": 19,
    "start_time": "2022-05-21T07:13:17.683Z"
   },
   {
    "duration": 244,
    "start_time": "2022-05-21T07:13:17.704Z"
   },
   {
    "duration": 6,
    "start_time": "2022-05-21T07:13:17.950Z"
   },
   {
    "duration": 30,
    "start_time": "2022-05-21T07:13:17.964Z"
   },
   {
    "duration": 12,
    "start_time": "2022-05-21T07:13:17.997Z"
   },
   {
    "duration": 13,
    "start_time": "2022-05-21T07:13:18.011Z"
   },
   {
    "duration": 40,
    "start_time": "2022-05-21T07:13:18.026Z"
   },
   {
    "duration": 7,
    "start_time": "2022-05-21T07:13:18.072Z"
   },
   {
    "duration": 45,
    "start_time": "2022-05-21T07:13:52.618Z"
   },
   {
    "duration": 65,
    "start_time": "2022-05-21T07:14:10.699Z"
   },
   {
    "duration": 8,
    "start_time": "2022-05-21T07:14:15.751Z"
   },
   {
    "duration": 16,
    "start_time": "2022-05-21T07:14:17.989Z"
   },
   {
    "duration": 12,
    "start_time": "2022-05-21T07:14:27.864Z"
   },
   {
    "duration": 12,
    "start_time": "2022-05-21T07:14:34.958Z"
   },
   {
    "duration": 14,
    "start_time": "2022-05-21T07:14:38.694Z"
   },
   {
    "duration": 11,
    "start_time": "2022-05-21T07:14:51.558Z"
   },
   {
    "duration": 58,
    "start_time": "2022-05-21T07:15:40.704Z"
   },
   {
    "duration": 27,
    "start_time": "2022-05-21T07:20:09.216Z"
   },
   {
    "duration": 24,
    "start_time": "2022-05-21T07:21:43.590Z"
   },
   {
    "duration": 17,
    "start_time": "2022-05-21T07:21:55.645Z"
   },
   {
    "duration": 25,
    "start_time": "2022-05-21T07:22:14.554Z"
   },
   {
    "duration": 1462,
    "start_time": "2022-05-21T08:09:13.158Z"
   },
   {
    "duration": 114,
    "start_time": "2022-05-21T08:09:14.622Z"
   },
   {
    "duration": 8,
    "start_time": "2022-05-21T08:09:14.739Z"
   },
   {
    "duration": 30,
    "start_time": "2022-05-21T08:09:14.766Z"
   },
   {
    "duration": 38,
    "start_time": "2022-05-21T08:09:14.800Z"
   },
   {
    "duration": 25,
    "start_time": "2022-05-21T08:09:14.864Z"
   },
   {
    "duration": 26,
    "start_time": "2022-05-21T08:09:14.891Z"
   },
   {
    "duration": 137,
    "start_time": "2022-05-21T08:09:14.919Z"
   },
   {
    "duration": 17,
    "start_time": "2022-05-21T08:09:15.060Z"
   },
   {
    "duration": 54,
    "start_time": "2022-05-21T08:09:15.079Z"
   },
   {
    "duration": 284,
    "start_time": "2022-05-21T08:09:15.136Z"
   },
   {
    "duration": 21,
    "start_time": "2022-05-21T08:09:15.423Z"
   },
   {
    "duration": 259,
    "start_time": "2022-05-21T08:09:15.447Z"
   },
   {
    "duration": 54,
    "start_time": "2022-05-21T08:09:15.711Z"
   },
   {
    "duration": 37,
    "start_time": "2022-05-21T08:09:15.767Z"
   },
   {
    "duration": 35,
    "start_time": "2022-05-21T08:09:15.807Z"
   },
   {
    "duration": 13,
    "start_time": "2022-05-21T08:09:15.864Z"
   },
   {
    "duration": 942,
    "start_time": "2022-05-21T08:09:15.880Z"
   },
   {
    "duration": 25,
    "start_time": "2022-05-21T08:09:16.825Z"
   },
   {
    "duration": 19,
    "start_time": "2022-05-21T08:09:16.853Z"
   },
   {
    "duration": 21,
    "start_time": "2022-05-21T08:09:16.875Z"
   },
   {
    "duration": 96,
    "start_time": "2022-05-21T08:09:16.900Z"
   },
   {
    "duration": 288,
    "start_time": "2022-05-21T08:09:16.999Z"
   },
   {
    "duration": 18,
    "start_time": "2022-05-21T08:09:17.292Z"
   },
   {
    "duration": 155,
    "start_time": "2022-05-21T08:09:17.315Z"
   },
   {
    "duration": 48,
    "start_time": "2022-05-21T08:09:17.473Z"
   },
   {
    "duration": 232,
    "start_time": "2022-05-21T08:09:17.523Z"
   },
   {
    "duration": 28,
    "start_time": "2022-05-21T08:09:17.757Z"
   },
   {
    "duration": 15,
    "start_time": "2022-05-21T08:09:17.788Z"
   },
   {
    "duration": 252,
    "start_time": "2022-05-21T08:09:17.805Z"
   },
   {
    "duration": 17,
    "start_time": "2022-05-21T08:09:18.065Z"
   },
   {
    "duration": 621,
    "start_time": "2022-05-21T08:09:18.085Z"
   },
   {
    "duration": 19,
    "start_time": "2022-05-21T08:09:18.709Z"
   },
   {
    "duration": 291,
    "start_time": "2022-05-21T08:09:18.730Z"
   },
   {
    "duration": 69,
    "start_time": "2022-05-21T08:09:19.023Z"
   },
   {
    "duration": 27,
    "start_time": "2022-05-21T08:09:19.094Z"
   },
   {
    "duration": 174,
    "start_time": "2022-05-21T08:11:51.582Z"
   },
   {
    "duration": 207,
    "start_time": "2022-05-21T08:13:33.680Z"
   },
   {
    "duration": 4,
    "start_time": "2022-05-22T12:40:50.022Z"
   },
   {
    "duration": 68,
    "start_time": "2022-05-22T12:40:52.195Z"
   },
   {
    "duration": 1053,
    "start_time": "2022-05-22T12:41:04.308Z"
   },
   {
    "duration": 71,
    "start_time": "2022-05-22T12:41:07.427Z"
   },
   {
    "duration": 5,
    "start_time": "2022-05-22T12:41:11.229Z"
   },
   {
    "duration": 17,
    "start_time": "2022-05-22T12:41:13.080Z"
   },
   {
    "duration": 18,
    "start_time": "2022-05-22T12:41:15.270Z"
   },
   {
    "duration": 12,
    "start_time": "2022-05-22T12:41:16.999Z"
   },
   {
    "duration": 11,
    "start_time": "2022-05-22T12:41:19.296Z"
   },
   {
    "duration": 47,
    "start_time": "2022-05-22T12:41:21.966Z"
   },
   {
    "duration": 9,
    "start_time": "2022-05-22T12:41:24.106Z"
   },
   {
    "duration": 23,
    "start_time": "2022-05-22T12:41:26.587Z"
   },
   {
    "duration": 133,
    "start_time": "2022-05-22T12:41:32.670Z"
   },
   {
    "duration": 13,
    "start_time": "2022-05-22T12:41:36.007Z"
   },
   {
    "duration": 132,
    "start_time": "2022-05-22T12:41:38.267Z"
   },
   {
    "duration": 21,
    "start_time": "2022-05-22T12:41:45.171Z"
   },
   {
    "duration": 19,
    "start_time": "2022-05-22T12:41:58.631Z"
   },
   {
    "duration": 20,
    "start_time": "2022-05-22T12:42:31.274Z"
   },
   {
    "duration": 32,
    "start_time": "2022-05-22T12:42:55.558Z"
   },
   {
    "duration": 42,
    "start_time": "2022-05-22T12:42:59.333Z"
   },
   {
    "duration": 48,
    "start_time": "2022-05-22T12:43:23.283Z"
   },
   {
    "duration": 27,
    "start_time": "2022-05-22T12:43:34.807Z"
   },
   {
    "duration": 15,
    "start_time": "2022-05-22T12:44:20.279Z"
   },
   {
    "duration": 31,
    "start_time": "2022-05-22T12:44:40.084Z"
   },
   {
    "duration": 12,
    "start_time": "2022-05-22T12:47:23.569Z"
   },
   {
    "duration": 34,
    "start_time": "2022-05-22T12:54:01.870Z"
   },
   {
    "duration": 99,
    "start_time": "2022-05-22T12:54:15.772Z"
   },
   {
    "duration": 5,
    "start_time": "2022-05-22T12:54:21.135Z"
   },
   {
    "duration": 20,
    "start_time": "2022-05-22T12:54:42.265Z"
   },
   {
    "duration": 19,
    "start_time": "2022-05-22T12:55:03.271Z"
   },
   {
    "duration": 4,
    "start_time": "2022-05-22T12:55:13.561Z"
   },
   {
    "duration": 67,
    "start_time": "2022-05-22T12:55:16.448Z"
   },
   {
    "duration": 5,
    "start_time": "2022-05-22T12:55:19.979Z"
   },
   {
    "duration": 15,
    "start_time": "2022-05-22T12:55:21.863Z"
   },
   {
    "duration": 17,
    "start_time": "2022-05-22T12:55:23.737Z"
   },
   {
    "duration": 13,
    "start_time": "2022-05-22T12:55:25.492Z"
   },
   {
    "duration": 12,
    "start_time": "2022-05-22T12:55:26.969Z"
   },
   {
    "duration": 52,
    "start_time": "2022-05-22T12:55:31.460Z"
   },
   {
    "duration": 8,
    "start_time": "2022-05-22T12:55:31.862Z"
   },
   {
    "duration": 32,
    "start_time": "2022-05-22T12:55:38.894Z"
   },
   {
    "duration": 139,
    "start_time": "2022-05-22T12:55:42.705Z"
   },
   {
    "duration": 14,
    "start_time": "2022-05-22T12:55:44.730Z"
   },
   {
    "duration": 137,
    "start_time": "2022-05-22T12:55:49.160Z"
   },
   {
    "duration": 20,
    "start_time": "2022-05-22T12:55:51.100Z"
   },
   {
    "duration": 27,
    "start_time": "2022-05-22T12:56:00.363Z"
   },
   {
    "duration": 19,
    "start_time": "2022-05-22T12:56:33.787Z"
   },
   {
    "duration": 27,
    "start_time": "2022-05-22T12:56:52.132Z"
   },
   {
    "duration": 18,
    "start_time": "2022-05-22T12:56:59.664Z"
   },
   {
    "duration": 21,
    "start_time": "2022-05-22T12:57:14.212Z"
   },
   {
    "duration": 20,
    "start_time": "2022-05-22T12:57:29.477Z"
   },
   {
    "duration": 1074,
    "start_time": "2022-05-22T12:58:29.658Z"
   },
   {
    "duration": 71,
    "start_time": "2022-05-22T12:58:32.759Z"
   },
   {
    "duration": 5,
    "start_time": "2022-05-22T12:58:36.164Z"
   },
   {
    "duration": 17,
    "start_time": "2022-05-22T12:58:38.368Z"
   },
   {
    "duration": 18,
    "start_time": "2022-05-22T12:58:40.571Z"
   },
   {
    "duration": 12,
    "start_time": "2022-05-22T12:58:42.659Z"
   },
   {
    "duration": 10,
    "start_time": "2022-05-22T12:58:45.024Z"
   },
   {
    "duration": 48,
    "start_time": "2022-05-22T12:58:47.161Z"
   },
   {
    "duration": 9,
    "start_time": "2022-05-22T12:58:51.061Z"
   },
   {
    "duration": 26,
    "start_time": "2022-05-22T12:58:55.563Z"
   },
   {
    "duration": 127,
    "start_time": "2022-05-22T12:58:58.120Z"
   },
   {
    "duration": 15,
    "start_time": "2022-05-22T12:59:04.103Z"
   },
   {
    "duration": 126,
    "start_time": "2022-05-22T12:59:06.690Z"
   },
   {
    "duration": 21,
    "start_time": "2022-05-22T13:00:14.702Z"
   },
   {
    "duration": 18,
    "start_time": "2022-05-22T13:00:31.158Z"
   },
   {
    "duration": 19,
    "start_time": "2022-05-22T13:00:50.790Z"
   },
   {
    "duration": 98,
    "start_time": "2022-05-22T13:01:03.891Z"
   },
   {
    "duration": 18,
    "start_time": "2022-05-22T13:01:08.292Z"
   },
   {
    "duration": 34,
    "start_time": "2022-05-22T13:01:33.174Z"
   },
   {
    "duration": 32,
    "start_time": "2022-05-22T13:05:04.631Z"
   },
   {
    "duration": 5,
    "start_time": "2022-05-22T13:05:53.132Z"
   },
   {
    "duration": 72,
    "start_time": "2022-05-22T13:05:54.795Z"
   },
   {
    "duration": 6,
    "start_time": "2022-05-22T13:05:56.428Z"
   },
   {
    "duration": 17,
    "start_time": "2022-05-22T13:05:58.804Z"
   },
   {
    "duration": 18,
    "start_time": "2022-05-22T13:05:59.318Z"
   },
   {
    "duration": 12,
    "start_time": "2022-05-22T13:06:01.118Z"
   },
   {
    "duration": 12,
    "start_time": "2022-05-22T13:06:01.467Z"
   },
   {
    "duration": 59,
    "start_time": "2022-05-22T13:06:01.792Z"
   },
   {
    "duration": 8,
    "start_time": "2022-05-22T13:06:01.933Z"
   },
   {
    "duration": 22,
    "start_time": "2022-05-22T13:06:03.567Z"
   },
   {
    "duration": 127,
    "start_time": "2022-05-22T13:06:05.100Z"
   },
   {
    "duration": 15,
    "start_time": "2022-05-22T13:06:05.676Z"
   },
   {
    "duration": 123,
    "start_time": "2022-05-22T13:06:07.158Z"
   },
   {
    "duration": 20,
    "start_time": "2022-05-22T13:06:08.556Z"
   },
   {
    "duration": 18,
    "start_time": "2022-05-22T13:06:09.253Z"
   },
   {
    "duration": 30,
    "start_time": "2022-05-22T13:06:13.611Z"
   },
   {
    "duration": 28,
    "start_time": "2022-05-22T13:09:29.572Z"
   },
   {
    "duration": 5,
    "start_time": "2022-05-22T13:09:35.612Z"
   },
   {
    "duration": 68,
    "start_time": "2022-05-22T13:09:36.528Z"
   },
   {
    "duration": 6,
    "start_time": "2022-05-22T13:09:37.395Z"
   },
   {
    "duration": 16,
    "start_time": "2022-05-22T13:09:37.816Z"
   },
   {
    "duration": 20,
    "start_time": "2022-05-22T13:09:38.116Z"
   },
   {
    "duration": 15,
    "start_time": "2022-05-22T13:09:38.383Z"
   },
   {
    "duration": 14,
    "start_time": "2022-05-22T13:09:38.985Z"
   },
   {
    "duration": 50,
    "start_time": "2022-05-22T13:09:39.504Z"
   },
   {
    "duration": 10,
    "start_time": "2022-05-22T13:09:39.889Z"
   },
   {
    "duration": 27,
    "start_time": "2022-05-22T13:09:40.960Z"
   },
   {
    "duration": 127,
    "start_time": "2022-05-22T13:09:41.800Z"
   },
   {
    "duration": 17,
    "start_time": "2022-05-22T13:09:42.696Z"
   },
   {
    "duration": 129,
    "start_time": "2022-05-22T13:09:43.862Z"
   },
   {
    "duration": 22,
    "start_time": "2022-05-22T13:09:44.496Z"
   },
   {
    "duration": 19,
    "start_time": "2022-05-22T13:09:45.556Z"
   },
   {
    "duration": 30,
    "start_time": "2022-05-22T13:09:47.485Z"
   },
   {
    "duration": 28,
    "start_time": "2022-05-22T13:38:56.827Z"
   },
   {
    "duration": 4,
    "start_time": "2022-05-22T13:39:02.450Z"
   },
   {
    "duration": 69,
    "start_time": "2022-05-22T13:39:04.518Z"
   },
   {
    "duration": 6,
    "start_time": "2022-05-22T13:39:07.016Z"
   },
   {
    "duration": 16,
    "start_time": "2022-05-22T13:39:09.510Z"
   },
   {
    "duration": 18,
    "start_time": "2022-05-22T13:39:10.328Z"
   },
   {
    "duration": 13,
    "start_time": "2022-05-22T13:39:13.595Z"
   },
   {
    "duration": 12,
    "start_time": "2022-05-22T13:39:14.357Z"
   },
   {
    "duration": 60,
    "start_time": "2022-05-22T13:39:16.005Z"
   },
   {
    "duration": 10,
    "start_time": "2022-05-22T13:39:16.359Z"
   },
   {
    "duration": 21,
    "start_time": "2022-05-22T13:39:18.774Z"
   },
   {
    "duration": 136,
    "start_time": "2022-05-22T13:39:20.658Z"
   },
   {
    "duration": 17,
    "start_time": "2022-05-22T13:39:23.030Z"
   },
   {
    "duration": 130,
    "start_time": "2022-05-22T13:39:24.652Z"
   },
   {
    "duration": 21,
    "start_time": "2022-05-22T13:39:26.240Z"
   },
   {
    "duration": 20,
    "start_time": "2022-05-22T13:39:28.157Z"
   },
   {
    "duration": 32,
    "start_time": "2022-05-22T13:39:30.382Z"
   },
   {
    "duration": 23,
    "start_time": "2022-05-22T13:42:53.549Z"
   },
   {
    "duration": 25,
    "start_time": "2022-05-22T13:43:09.900Z"
   },
   {
    "duration": 12,
    "start_time": "2022-05-22T13:43:19.857Z"
   },
   {
    "duration": 1033,
    "start_time": "2022-05-22T13:43:31.089Z"
   },
   {
    "duration": 72,
    "start_time": "2022-05-22T13:43:32.124Z"
   },
   {
    "duration": 5,
    "start_time": "2022-05-22T13:43:32.198Z"
   },
   {
    "duration": 20,
    "start_time": "2022-05-22T13:43:32.204Z"
   },
   {
    "duration": 18,
    "start_time": "2022-05-22T13:43:32.226Z"
   },
   {
    "duration": 12,
    "start_time": "2022-05-22T13:43:32.245Z"
   },
   {
    "duration": 14,
    "start_time": "2022-05-22T13:43:32.258Z"
   },
   {
    "duration": 64,
    "start_time": "2022-05-22T13:43:32.274Z"
   },
   {
    "duration": 7,
    "start_time": "2022-05-22T13:43:32.340Z"
   },
   {
    "duration": 29,
    "start_time": "2022-05-22T13:43:32.348Z"
   },
   {
    "duration": 144,
    "start_time": "2022-05-22T13:43:32.393Z"
   },
   {
    "duration": 14,
    "start_time": "2022-05-22T13:43:32.539Z"
   },
   {
    "duration": 146,
    "start_time": "2022-05-22T13:43:32.555Z"
   },
   {
    "duration": 19,
    "start_time": "2022-05-22T13:43:32.705Z"
   },
   {
    "duration": 20,
    "start_time": "2022-05-22T13:43:32.726Z"
   },
   {
    "duration": 16,
    "start_time": "2022-05-22T13:43:32.748Z"
   },
   {
    "duration": 28,
    "start_time": "2022-05-22T13:43:32.766Z"
   },
   {
    "duration": 561,
    "start_time": "2022-05-22T13:43:32.796Z"
   },
   {
    "duration": 11,
    "start_time": "2022-05-22T13:43:33.360Z"
   },
   {
    "duration": 6,
    "start_time": "2022-05-22T13:43:33.374Z"
   },
   {
    "duration": 9,
    "start_time": "2022-05-22T13:43:33.394Z"
   },
   {
    "duration": 44,
    "start_time": "2022-05-22T13:43:33.404Z"
   },
   {
    "duration": 176,
    "start_time": "2022-05-22T13:43:33.450Z"
   },
   {
    "duration": 11,
    "start_time": "2022-05-22T13:43:33.628Z"
   },
   {
    "duration": 83,
    "start_time": "2022-05-22T13:43:33.640Z"
   },
   {
    "duration": 21,
    "start_time": "2022-05-22T13:43:33.724Z"
   },
   {
    "duration": 193,
    "start_time": "2022-05-22T13:43:33.746Z"
   },
   {
    "duration": 22,
    "start_time": "2022-05-22T13:43:33.941Z"
   },
   {
    "duration": 12,
    "start_time": "2022-05-22T13:43:33.965Z"
   },
   {
    "duration": 137,
    "start_time": "2022-05-22T13:43:33.994Z"
   },
   {
    "duration": 9,
    "start_time": "2022-05-22T13:43:34.132Z"
   },
   {
    "duration": 397,
    "start_time": "2022-05-22T13:43:34.142Z"
   },
   {
    "duration": 11,
    "start_time": "2022-05-22T13:43:34.540Z"
   },
   {
    "duration": 159,
    "start_time": "2022-05-22T13:43:34.553Z"
   },
   {
    "duration": 32,
    "start_time": "2022-05-22T13:43:34.714Z"
   },
   {
    "duration": 20,
    "start_time": "2022-05-22T13:43:34.748Z"
   },
   {
    "duration": 201,
    "start_time": "2022-05-22T13:43:34.770Z"
   },
   {
    "duration": 22,
    "start_time": "2022-05-22T13:47:40.137Z"
   },
   {
    "duration": 14,
    "start_time": "2022-05-22T13:50:21.485Z"
   },
   {
    "duration": 144,
    "start_time": "2022-05-22T14:47:29.327Z"
   },
   {
    "duration": 157,
    "start_time": "2022-05-22T14:47:42.711Z"
   },
   {
    "duration": 117,
    "start_time": "2022-05-22T14:48:33.112Z"
   },
   {
    "duration": 4,
    "start_time": "2022-05-22T14:48:52.851Z"
   },
   {
    "duration": 13,
    "start_time": "2022-05-22T14:49:19.020Z"
   },
   {
    "duration": 9,
    "start_time": "2022-05-22T14:49:27.480Z"
   },
   {
    "duration": 9,
    "start_time": "2022-05-22T14:49:57.305Z"
   },
   {
    "duration": 38,
    "start_time": "2022-05-22T14:50:17.569Z"
   },
   {
    "duration": 121,
    "start_time": "2022-05-22T14:50:22.635Z"
   },
   {
    "duration": 13,
    "start_time": "2022-05-22T14:50:40.906Z"
   },
   {
    "duration": 8,
    "start_time": "2022-05-22T14:50:57.157Z"
   },
   {
    "duration": 9,
    "start_time": "2022-05-22T14:52:31.630Z"
   },
   {
    "duration": 10,
    "start_time": "2022-05-22T14:52:44.222Z"
   },
   {
    "duration": 235,
    "start_time": "2022-05-22T14:53:04.976Z"
   },
   {
    "duration": 148,
    "start_time": "2022-05-22T14:53:11.613Z"
   },
   {
    "duration": 168,
    "start_time": "2022-05-22T14:53:55.729Z"
   },
   {
    "duration": 14,
    "start_time": "2022-05-22T14:57:11.794Z"
   },
   {
    "duration": 8,
    "start_time": "2022-05-22T14:57:34.413Z"
   },
   {
    "duration": 12,
    "start_time": "2022-05-22T14:57:40.530Z"
   },
   {
    "duration": 184,
    "start_time": "2022-05-22T14:57:57.911Z"
   },
   {
    "duration": 6,
    "start_time": "2022-05-22T14:59:48.247Z"
   },
   {
    "duration": 3,
    "start_time": "2022-05-22T15:05:24.341Z"
   },
   {
    "duration": 5,
    "start_time": "2022-05-22T15:05:33.709Z"
   },
   {
    "duration": 9,
    "start_time": "2022-05-22T15:09:19.358Z"
   },
   {
    "duration": 141,
    "start_time": "2022-05-22T15:10:23.463Z"
   },
   {
    "duration": 151,
    "start_time": "2022-05-22T15:11:28.065Z"
   },
   {
    "duration": 144,
    "start_time": "2022-05-22T15:17:03.589Z"
   },
   {
    "duration": 10,
    "start_time": "2022-05-22T15:17:56.669Z"
   },
   {
    "duration": 11,
    "start_time": "2022-05-22T15:18:23.407Z"
   },
   {
    "duration": 9,
    "start_time": "2022-05-22T15:18:31.422Z"
   },
   {
    "duration": 10,
    "start_time": "2022-05-22T15:18:50.470Z"
   },
   {
    "duration": 141,
    "start_time": "2022-05-22T15:19:14.067Z"
   },
   {
    "duration": 149,
    "start_time": "2022-05-22T15:19:36.760Z"
   },
   {
    "duration": 54,
    "start_time": "2022-05-22T15:24:59.300Z"
   },
   {
    "duration": 1130,
    "start_time": "2022-05-22T15:25:05.795Z"
   },
   {
    "duration": 73,
    "start_time": "2022-05-22T15:25:06.927Z"
   },
   {
    "duration": 5,
    "start_time": "2022-05-22T15:25:07.002Z"
   },
   {
    "duration": 20,
    "start_time": "2022-05-22T15:25:07.008Z"
   },
   {
    "duration": 18,
    "start_time": "2022-05-22T15:25:07.029Z"
   },
   {
    "duration": 11,
    "start_time": "2022-05-22T15:25:07.049Z"
   },
   {
    "duration": 38,
    "start_time": "2022-05-22T15:25:07.062Z"
   },
   {
    "duration": 49,
    "start_time": "2022-05-22T15:25:07.101Z"
   },
   {
    "duration": 10,
    "start_time": "2022-05-22T15:25:07.152Z"
   },
   {
    "duration": 43,
    "start_time": "2022-05-22T15:25:07.165Z"
   },
   {
    "duration": 137,
    "start_time": "2022-05-22T15:25:07.209Z"
   },
   {
    "duration": 13,
    "start_time": "2022-05-22T15:25:07.347Z"
   },
   {
    "duration": 139,
    "start_time": "2022-05-22T15:25:07.361Z"
   },
   {
    "duration": 19,
    "start_time": "2022-05-22T15:25:07.502Z"
   },
   {
    "duration": 25,
    "start_time": "2022-05-22T15:25:07.523Z"
   },
   {
    "duration": 17,
    "start_time": "2022-05-22T15:25:07.549Z"
   },
   {
    "duration": 7,
    "start_time": "2022-05-22T15:25:07.567Z"
   },
   {
    "duration": 587,
    "start_time": "2022-05-22T15:25:07.576Z"
   },
   {
    "duration": 11,
    "start_time": "2022-05-22T15:25:08.164Z"
   },
   {
    "duration": 20,
    "start_time": "2022-05-22T15:25:08.176Z"
   },
   {
    "duration": 9,
    "start_time": "2022-05-22T15:25:08.198Z"
   },
   {
    "duration": 45,
    "start_time": "2022-05-22T15:25:08.208Z"
   },
   {
    "duration": 163,
    "start_time": "2022-05-22T15:25:08.254Z"
   },
   {
    "duration": 10,
    "start_time": "2022-05-22T15:25:08.418Z"
   },
   {
    "duration": 83,
    "start_time": "2022-05-22T15:25:08.430Z"
   },
   {
    "duration": 20,
    "start_time": "2022-05-22T15:25:08.514Z"
   },
   {
    "duration": 174,
    "start_time": "2022-05-22T15:25:08.536Z"
   },
   {
    "duration": 19,
    "start_time": "2022-05-22T15:25:08.713Z"
   },
   {
    "duration": 10,
    "start_time": "2022-05-22T15:25:08.734Z"
   },
   {
    "duration": 169,
    "start_time": "2022-05-22T15:25:08.746Z"
   },
   {
    "duration": 12,
    "start_time": "2022-05-22T15:25:08.917Z"
   },
   {
    "duration": 424,
    "start_time": "2022-05-22T15:25:08.930Z"
   },
   {
    "duration": 12,
    "start_time": "2022-05-22T15:25:09.356Z"
   },
   {
    "duration": 155,
    "start_time": "2022-05-22T15:25:09.369Z"
   },
   {
    "duration": 32,
    "start_time": "2022-05-22T15:25:09.525Z"
   },
   {
    "duration": 20,
    "start_time": "2022-05-22T15:25:09.558Z"
   },
   {
    "duration": 186,
    "start_time": "2022-05-22T15:25:09.579Z"
   },
   {
    "duration": 73,
    "start_time": "2022-05-22T15:26:14.631Z"
   },
   {
    "duration": 149,
    "start_time": "2022-05-22T15:31:10.705Z"
   },
   {
    "duration": 154,
    "start_time": "2022-05-22T15:31:28.385Z"
   },
   {
    "duration": 237,
    "start_time": "2022-05-22T15:31:33.482Z"
   },
   {
    "duration": 162,
    "start_time": "2022-05-22T15:31:42.380Z"
   },
   {
    "duration": 227,
    "start_time": "2022-05-22T15:31:59.834Z"
   },
   {
    "duration": 26,
    "start_time": "2022-05-22T15:32:43.744Z"
   },
   {
    "duration": 252,
    "start_time": "2022-05-22T15:33:17.160Z"
   },
   {
    "duration": 159,
    "start_time": "2022-05-22T15:33:43.785Z"
   },
   {
    "duration": 247,
    "start_time": "2022-05-22T15:33:51.489Z"
   },
   {
    "duration": 217,
    "start_time": "2022-05-22T15:34:19.783Z"
   },
   {
    "duration": 216,
    "start_time": "2022-05-22T15:34:58.083Z"
   },
   {
    "duration": 223,
    "start_time": "2022-05-22T15:35:07.075Z"
   },
   {
    "duration": 197,
    "start_time": "2022-05-22T15:36:13.304Z"
   },
   {
    "duration": 218,
    "start_time": "2022-05-22T15:36:29.973Z"
   },
   {
    "duration": 253,
    "start_time": "2022-05-22T15:36:55.266Z"
   },
   {
    "duration": 182,
    "start_time": "2022-05-22T15:41:55.609Z"
   },
   {
    "duration": 243,
    "start_time": "2022-05-22T15:42:25.837Z"
   },
   {
    "duration": 179,
    "start_time": "2022-05-22T15:42:53.864Z"
   },
   {
    "duration": 142,
    "start_time": "2022-05-22T15:43:16.774Z"
   },
   {
    "duration": 192,
    "start_time": "2022-05-22T15:43:35.906Z"
   },
   {
    "duration": 6,
    "start_time": "2022-05-22T15:43:54.182Z"
   },
   {
    "duration": 5,
    "start_time": "2022-05-22T15:44:04.824Z"
   },
   {
    "duration": 6,
    "start_time": "2022-05-22T15:44:10.290Z"
   },
   {
    "duration": 168,
    "start_time": "2022-05-22T15:44:24.081Z"
   },
   {
    "duration": 172,
    "start_time": "2022-05-22T15:46:57.407Z"
   },
   {
    "duration": 188,
    "start_time": "2022-05-22T15:47:04.080Z"
   },
   {
    "duration": 178,
    "start_time": "2022-05-22T15:47:19.475Z"
   },
   {
    "duration": 185,
    "start_time": "2022-05-22T15:47:23.997Z"
   },
   {
    "duration": 279,
    "start_time": "2022-05-22T15:47:27.747Z"
   },
   {
    "duration": 168,
    "start_time": "2022-05-22T15:47:31.713Z"
   },
   {
    "duration": 161,
    "start_time": "2022-05-22T15:47:35.132Z"
   },
   {
    "duration": 177,
    "start_time": "2022-05-22T15:47:40.036Z"
   },
   {
    "duration": 176,
    "start_time": "2022-05-22T15:48:04.733Z"
   },
   {
    "duration": 176,
    "start_time": "2022-05-22T15:48:22.348Z"
   },
   {
    "duration": 84,
    "start_time": "2022-05-22T16:14:32.448Z"
   },
   {
    "duration": 35,
    "start_time": "2022-05-22T16:15:26.974Z"
   },
   {
    "duration": 25,
    "start_time": "2022-05-22T16:15:34.814Z"
   },
   {
    "duration": 23,
    "start_time": "2022-05-22T16:15:49.367Z"
   },
   {
    "duration": 12,
    "start_time": "2022-05-22T16:16:14.172Z"
   },
   {
    "duration": 24,
    "start_time": "2022-05-22T16:16:28.295Z"
   },
   {
    "duration": 145,
    "start_time": "2022-05-22T16:16:34.104Z"
   },
   {
    "duration": 70,
    "start_time": "2022-05-22T16:16:46.991Z"
   },
   {
    "duration": 261,
    "start_time": "2022-05-22T16:17:58.271Z"
   },
   {
    "duration": 165,
    "start_time": "2022-05-22T16:18:11.572Z"
   },
   {
    "duration": 37,
    "start_time": "2022-05-22T16:18:28.077Z"
   },
   {
    "duration": 179,
    "start_time": "2022-05-22T16:18:30.677Z"
   },
   {
    "duration": 158,
    "start_time": "2022-05-22T16:18:35.412Z"
   },
   {
    "duration": 158,
    "start_time": "2022-05-22T16:18:41.659Z"
   },
   {
    "duration": 165,
    "start_time": "2022-05-22T16:18:44.718Z"
   },
   {
    "duration": 166,
    "start_time": "2022-05-22T16:18:52.925Z"
   },
   {
    "duration": 41,
    "start_time": "2022-05-22T17:05:19.559Z"
   },
   {
    "duration": 176,
    "start_time": "2022-05-22T17:05:54.041Z"
   },
   {
    "duration": 196,
    "start_time": "2022-05-22T17:06:07.911Z"
   },
   {
    "duration": 222,
    "start_time": "2022-05-22T17:06:12.745Z"
   },
   {
    "duration": 164,
    "start_time": "2022-05-22T17:06:19.108Z"
   },
   {
    "duration": 280,
    "start_time": "2022-05-22T17:06:23.745Z"
   },
   {
    "duration": 173,
    "start_time": "2022-05-22T17:07:03.281Z"
   },
   {
    "duration": 174,
    "start_time": "2022-05-22T17:07:18.200Z"
   },
   {
    "duration": 190,
    "start_time": "2022-05-22T17:07:30.569Z"
   },
   {
    "duration": 163,
    "start_time": "2022-05-22T17:07:42.697Z"
   },
   {
    "duration": 233,
    "start_time": "2022-05-22T17:07:48.814Z"
   },
   {
    "duration": 180,
    "start_time": "2022-05-22T17:07:54.030Z"
   },
   {
    "duration": 167,
    "start_time": "2022-05-22T17:08:04.353Z"
   },
   {
    "duration": 162,
    "start_time": "2022-05-22T17:08:08.416Z"
   },
   {
    "duration": 172,
    "start_time": "2022-05-22T17:08:27.252Z"
   },
   {
    "duration": 17,
    "start_time": "2022-05-22T17:12:18.414Z"
   },
   {
    "duration": 5,
    "start_time": "2022-05-22T17:13:15.870Z"
   },
   {
    "duration": 8,
    "start_time": "2022-05-22T17:13:20.548Z"
   },
   {
    "duration": 22,
    "start_time": "2022-05-22T17:14:35.841Z"
   },
   {
    "duration": 26,
    "start_time": "2022-05-22T17:15:09.011Z"
   },
   {
    "duration": 22,
    "start_time": "2022-05-22T17:15:16.426Z"
   },
   {
    "duration": 8,
    "start_time": "2022-05-22T17:15:56.442Z"
   },
   {
    "duration": 7,
    "start_time": "2022-05-22T17:16:00.393Z"
   },
   {
    "duration": 8,
    "start_time": "2022-05-22T17:16:26.254Z"
   },
   {
    "duration": 15,
    "start_time": "2022-05-22T17:18:01.142Z"
   },
   {
    "duration": 8,
    "start_time": "2022-05-22T17:18:10.315Z"
   },
   {
    "duration": 16,
    "start_time": "2022-05-22T17:18:33.941Z"
   },
   {
    "duration": 9,
    "start_time": "2022-05-22T17:18:41.304Z"
   },
   {
    "duration": 14,
    "start_time": "2022-05-22T17:19:23.626Z"
   },
   {
    "duration": 13,
    "start_time": "2022-05-22T17:20:50.463Z"
   },
   {
    "duration": 16,
    "start_time": "2022-05-22T17:21:18.956Z"
   },
   {
    "duration": 12,
    "start_time": "2022-05-22T17:23:51.844Z"
   },
   {
    "duration": 13,
    "start_time": "2022-05-22T17:24:17.544Z"
   },
   {
    "duration": 14,
    "start_time": "2022-05-22T17:29:06.844Z"
   },
   {
    "duration": 9,
    "start_time": "2022-05-22T17:29:44.057Z"
   },
   {
    "duration": 5,
    "start_time": "2022-05-22T17:29:49.656Z"
   },
   {
    "duration": 13,
    "start_time": "2022-05-22T17:30:09.807Z"
   },
   {
    "duration": 5,
    "start_time": "2022-05-22T17:30:21.628Z"
   },
   {
    "duration": 13,
    "start_time": "2022-05-22T17:30:32.458Z"
   },
   {
    "duration": 10,
    "start_time": "2022-05-22T17:30:35.866Z"
   },
   {
    "duration": 5,
    "start_time": "2022-05-22T17:33:17.916Z"
   },
   {
    "duration": 19,
    "start_time": "2022-05-22T17:33:49.459Z"
   },
   {
    "duration": 6,
    "start_time": "2022-05-22T17:34:05.689Z"
   },
   {
    "duration": 14,
    "start_time": "2022-05-22T17:35:57.635Z"
   },
   {
    "duration": 14,
    "start_time": "2022-05-22T17:36:04.639Z"
   },
   {
    "duration": 1077,
    "start_time": "2022-05-22T17:36:29.775Z"
   },
   {
    "duration": 72,
    "start_time": "2022-05-22T17:36:30.854Z"
   },
   {
    "duration": 5,
    "start_time": "2022-05-22T17:36:30.928Z"
   },
   {
    "duration": 27,
    "start_time": "2022-05-22T17:36:30.935Z"
   },
   {
    "duration": 30,
    "start_time": "2022-05-22T17:36:30.964Z"
   },
   {
    "duration": 24,
    "start_time": "2022-05-22T17:36:30.996Z"
   },
   {
    "duration": 13,
    "start_time": "2022-05-22T17:36:31.022Z"
   },
   {
    "duration": 46,
    "start_time": "2022-05-22T17:36:31.036Z"
   },
   {
    "duration": 10,
    "start_time": "2022-05-22T17:36:31.084Z"
   },
   {
    "duration": 30,
    "start_time": "2022-05-22T17:36:31.096Z"
   },
   {
    "duration": 134,
    "start_time": "2022-05-22T17:36:31.127Z"
   },
   {
    "duration": 13,
    "start_time": "2022-05-22T17:36:31.263Z"
   },
   {
    "duration": 137,
    "start_time": "2022-05-22T17:36:31.278Z"
   },
   {
    "duration": 21,
    "start_time": "2022-05-22T17:36:31.416Z"
   },
   {
    "duration": 18,
    "start_time": "2022-05-22T17:36:31.438Z"
   },
   {
    "duration": 16,
    "start_time": "2022-05-22T17:36:31.458Z"
   },
   {
    "duration": 8,
    "start_time": "2022-05-22T17:36:31.493Z"
   },
   {
    "duration": 538,
    "start_time": "2022-05-22T17:36:31.502Z"
   },
   {
    "duration": 11,
    "start_time": "2022-05-22T17:36:32.042Z"
   },
   {
    "duration": 11,
    "start_time": "2022-05-22T17:36:32.055Z"
   },
   {
    "duration": 11,
    "start_time": "2022-05-22T17:36:32.068Z"
   },
   {
    "duration": 58,
    "start_time": "2022-05-22T17:36:32.080Z"
   },
   {
    "duration": 161,
    "start_time": "2022-05-22T17:36:32.139Z"
   },
   {
    "duration": 11,
    "start_time": "2022-05-22T17:36:32.302Z"
   },
   {
    "duration": 89,
    "start_time": "2022-05-22T17:36:32.314Z"
   },
   {
    "duration": 23,
    "start_time": "2022-05-22T17:36:32.404Z"
   },
   {
    "duration": 10,
    "start_time": "2022-05-22T17:36:32.429Z"
   },
   {
    "duration": 7,
    "start_time": "2022-05-22T17:36:32.442Z"
   },
   {
    "duration": 14,
    "start_time": "2022-05-22T17:36:32.451Z"
   },
   {
    "duration": 34,
    "start_time": "2022-05-22T17:36:32.467Z"
   },
   {
    "duration": 178,
    "start_time": "2022-05-22T17:36:32.503Z"
   },
   {
    "duration": 21,
    "start_time": "2022-05-22T17:36:32.684Z"
   },
   {
    "duration": 10,
    "start_time": "2022-05-22T17:36:32.706Z"
   },
   {
    "duration": 141,
    "start_time": "2022-05-22T17:36:32.717Z"
   },
   {
    "duration": 9,
    "start_time": "2022-05-22T17:36:32.860Z"
   },
   {
    "duration": 406,
    "start_time": "2022-05-22T17:36:32.870Z"
   },
   {
    "duration": 18,
    "start_time": "2022-05-22T17:36:33.277Z"
   },
   {
    "duration": 149,
    "start_time": "2022-05-22T17:36:33.296Z"
   },
   {
    "duration": 34,
    "start_time": "2022-05-22T17:36:33.446Z"
   },
   {
    "duration": 22,
    "start_time": "2022-05-22T17:36:33.495Z"
   },
   {
    "duration": 184,
    "start_time": "2022-05-22T17:36:33.518Z"
   },
   {
    "duration": 102,
    "start_time": "2022-05-22T17:38:12.866Z"
   },
   {
    "duration": 12,
    "start_time": "2022-05-22T17:38:33.042Z"
   },
   {
    "duration": 5,
    "start_time": "2022-05-22T17:39:19.932Z"
   },
   {
    "duration": 13,
    "start_time": "2022-05-22T17:40:50.025Z"
   },
   {
    "duration": 7,
    "start_time": "2022-05-22T17:41:19.919Z"
   },
   {
    "duration": 23,
    "start_time": "2022-05-22T17:41:29.919Z"
   },
   {
    "duration": 184,
    "start_time": "2022-05-22T17:41:38.819Z"
   },
   {
    "duration": 8,
    "start_time": "2022-05-22T17:42:56.953Z"
   },
   {
    "duration": 15,
    "start_time": "2022-05-22T17:43:03.194Z"
   },
   {
    "duration": 13,
    "start_time": "2022-05-22T17:43:14.106Z"
   },
   {
    "duration": 141,
    "start_time": "2022-05-22T17:43:33.659Z"
   },
   {
    "duration": 826,
    "start_time": "2022-05-22T18:09:03.379Z"
   },
   {
    "duration": 153,
    "start_time": "2022-05-22T18:09:08.698Z"
   },
   {
    "duration": 5,
    "start_time": "2022-05-22T18:13:41.307Z"
   },
   {
    "duration": 664,
    "start_time": "2022-05-22T18:14:06.360Z"
   },
   {
    "duration": 18,
    "start_time": "2022-05-22T18:14:11.688Z"
   },
   {
    "duration": 1134,
    "start_time": "2022-05-22T18:14:31.909Z"
   },
   {
    "duration": 80,
    "start_time": "2022-05-22T18:14:33.045Z"
   },
   {
    "duration": 6,
    "start_time": "2022-05-22T18:14:33.126Z"
   },
   {
    "duration": 31,
    "start_time": "2022-05-22T18:14:33.134Z"
   },
   {
    "duration": 17,
    "start_time": "2022-05-22T18:14:33.167Z"
   },
   {
    "duration": 26,
    "start_time": "2022-05-22T18:14:33.194Z"
   },
   {
    "duration": 25,
    "start_time": "2022-05-22T18:14:33.221Z"
   },
   {
    "duration": 74,
    "start_time": "2022-05-22T18:14:33.247Z"
   },
   {
    "duration": 8,
    "start_time": "2022-05-22T18:14:33.323Z"
   },
   {
    "duration": 45,
    "start_time": "2022-05-22T18:14:33.333Z"
   },
   {
    "duration": 148,
    "start_time": "2022-05-22T18:14:33.380Z"
   },
   {
    "duration": 16,
    "start_time": "2022-05-22T18:14:33.529Z"
   },
   {
    "duration": 161,
    "start_time": "2022-05-22T18:14:33.546Z"
   },
   {
    "duration": 21,
    "start_time": "2022-05-22T18:14:33.709Z"
   },
   {
    "duration": 25,
    "start_time": "2022-05-22T18:14:33.732Z"
   },
   {
    "duration": 16,
    "start_time": "2022-05-22T18:14:33.759Z"
   },
   {
    "duration": 26,
    "start_time": "2022-05-22T18:14:33.777Z"
   },
   {
    "duration": 582,
    "start_time": "2022-05-22T18:14:33.805Z"
   },
   {
    "duration": 22,
    "start_time": "2022-05-22T18:14:34.389Z"
   },
   {
    "duration": 9,
    "start_time": "2022-05-22T18:14:34.413Z"
   },
   {
    "duration": 26,
    "start_time": "2022-05-22T18:14:34.424Z"
   },
   {
    "duration": 57,
    "start_time": "2022-05-22T18:14:34.451Z"
   },
   {
    "duration": 159,
    "start_time": "2022-05-22T18:14:34.510Z"
   },
   {
    "duration": 13,
    "start_time": "2022-05-22T18:14:34.671Z"
   },
   {
    "duration": 79,
    "start_time": "2022-05-22T18:14:34.694Z"
   },
   {
    "duration": 38,
    "start_time": "2022-05-22T18:14:34.775Z"
   },
   {
    "duration": 14,
    "start_time": "2022-05-22T18:14:34.815Z"
   },
   {
    "duration": 171,
    "start_time": "2022-05-22T18:14:34.832Z"
   },
   {
    "duration": 19,
    "start_time": "2022-05-22T18:14:35.007Z"
   },
   {
    "duration": 24,
    "start_time": "2022-05-22T18:14:35.028Z"
   },
   {
    "duration": 656,
    "start_time": "2022-05-22T18:14:35.053Z"
   },
   {
    "duration": 10,
    "start_time": "2022-05-22T18:14:35.711Z"
   },
   {
    "duration": 332,
    "start_time": "2022-05-22T18:14:35.723Z"
   },
   {
    "duration": 12,
    "start_time": "2022-05-22T18:14:36.057Z"
   },
   {
    "duration": 169,
    "start_time": "2022-05-22T18:14:36.071Z"
   },
   {
    "duration": 32,
    "start_time": "2022-05-22T18:14:36.242Z"
   },
   {
    "duration": 36,
    "start_time": "2022-05-22T18:14:36.275Z"
   },
   {
    "duration": 210,
    "start_time": "2022-05-22T18:14:36.313Z"
   },
   {
    "duration": 583,
    "start_time": "2022-05-22T18:15:47.713Z"
   },
   {
    "duration": 13,
    "start_time": "2022-05-22T18:15:49.732Z"
   },
   {
    "duration": 1139,
    "start_time": "2022-05-22T18:16:37.750Z"
   },
   {
    "duration": 94,
    "start_time": "2022-05-22T18:16:38.893Z"
   },
   {
    "duration": 10,
    "start_time": "2022-05-22T18:16:38.989Z"
   },
   {
    "duration": 43,
    "start_time": "2022-05-22T18:16:39.002Z"
   },
   {
    "duration": 21,
    "start_time": "2022-05-22T18:16:39.048Z"
   },
   {
    "duration": 15,
    "start_time": "2022-05-22T18:16:39.071Z"
   },
   {
    "duration": 48,
    "start_time": "2022-05-22T18:16:39.088Z"
   },
   {
    "duration": 61,
    "start_time": "2022-05-22T18:16:39.138Z"
   },
   {
    "duration": 9,
    "start_time": "2022-05-22T18:16:39.201Z"
   },
   {
    "duration": 37,
    "start_time": "2022-05-22T18:16:39.213Z"
   },
   {
    "duration": 154,
    "start_time": "2022-05-22T18:16:39.252Z"
   },
   {
    "duration": 18,
    "start_time": "2022-05-22T18:16:39.408Z"
   },
   {
    "duration": 175,
    "start_time": "2022-05-22T18:16:39.428Z"
   },
   {
    "duration": 29,
    "start_time": "2022-05-22T18:16:39.608Z"
   },
   {
    "duration": 18,
    "start_time": "2022-05-22T18:16:39.639Z"
   },
   {
    "duration": 38,
    "start_time": "2022-05-22T18:16:39.659Z"
   },
   {
    "duration": 9,
    "start_time": "2022-05-22T18:16:39.700Z"
   },
   {
    "duration": 591,
    "start_time": "2022-05-22T18:16:39.711Z"
   },
   {
    "duration": 11,
    "start_time": "2022-05-22T18:16:40.304Z"
   },
   {
    "duration": 8,
    "start_time": "2022-05-22T18:16:40.317Z"
   },
   {
    "duration": 10,
    "start_time": "2022-05-22T18:16:40.327Z"
   },
   {
    "duration": 70,
    "start_time": "2022-05-22T18:16:40.340Z"
   },
   {
    "duration": 188,
    "start_time": "2022-05-22T18:16:40.411Z"
   },
   {
    "duration": 12,
    "start_time": "2022-05-22T18:16:40.601Z"
   },
   {
    "duration": 105,
    "start_time": "2022-05-22T18:16:40.615Z"
   },
   {
    "duration": 25,
    "start_time": "2022-05-22T18:16:40.722Z"
   },
   {
    "duration": 13,
    "start_time": "2022-05-22T18:16:40.749Z"
   },
   {
    "duration": 185,
    "start_time": "2022-05-22T18:16:40.764Z"
   },
   {
    "duration": 20,
    "start_time": "2022-05-22T18:16:40.951Z"
   },
   {
    "duration": 28,
    "start_time": "2022-05-22T18:16:40.972Z"
   },
   {
    "duration": 151,
    "start_time": "2022-05-22T18:16:41.001Z"
   },
   {
    "duration": 9,
    "start_time": "2022-05-22T18:16:41.154Z"
   },
   {
    "duration": 397,
    "start_time": "2022-05-22T18:16:41.164Z"
   },
   {
    "duration": 11,
    "start_time": "2022-05-22T18:16:41.563Z"
   },
   {
    "duration": 165,
    "start_time": "2022-05-22T18:16:41.593Z"
   },
   {
    "duration": 41,
    "start_time": "2022-05-22T18:16:41.759Z"
   },
   {
    "duration": 17,
    "start_time": "2022-05-22T18:16:41.801Z"
   },
   {
    "duration": 206,
    "start_time": "2022-05-22T18:16:41.821Z"
   },
   {
    "duration": 845,
    "start_time": "2022-05-22T18:32:27.540Z"
   },
   {
    "duration": 1275,
    "start_time": "2022-05-22T18:33:28.899Z"
   },
   {
    "duration": 682,
    "start_time": "2022-05-22T18:35:47.456Z"
   },
   {
    "duration": 662,
    "start_time": "2022-05-22T18:38:25.245Z"
   },
   {
    "duration": 588,
    "start_time": "2022-05-22T18:38:33.166Z"
   },
   {
    "duration": 636,
    "start_time": "2022-05-22T18:39:56.181Z"
   },
   {
    "duration": 620,
    "start_time": "2022-05-22T18:40:13.503Z"
   },
   {
    "duration": 745,
    "start_time": "2022-05-22T18:40:34.372Z"
   },
   {
    "duration": 595,
    "start_time": "2022-05-22T18:40:48.755Z"
   },
   {
    "duration": 1058,
    "start_time": "2022-05-22T18:40:56.383Z"
   },
   {
    "duration": 666,
    "start_time": "2022-05-22T18:47:32.359Z"
   },
   {
    "duration": 689,
    "start_time": "2022-05-22T18:47:42.336Z"
   },
   {
    "duration": 8378,
    "start_time": "2022-05-22T18:49:38.826Z"
   },
   {
    "duration": 7763,
    "start_time": "2022-05-22T18:50:34.919Z"
   },
   {
    "duration": 14,
    "start_time": "2022-05-22T18:51:04.175Z"
   },
   {
    "duration": 32,
    "start_time": "2022-05-22T18:54:42.361Z"
   },
   {
    "duration": 34,
    "start_time": "2022-05-22T18:55:21.457Z"
   },
   {
    "duration": 23,
    "start_time": "2022-05-22T18:55:30.018Z"
   },
   {
    "duration": 14,
    "start_time": "2022-05-22T18:55:33.978Z"
   },
   {
    "duration": 46,
    "start_time": "2022-05-22T18:55:36.866Z"
   },
   {
    "duration": 36,
    "start_time": "2022-05-22T18:55:45.476Z"
   },
   {
    "duration": 1102,
    "start_time": "2022-05-22T18:55:56.105Z"
   },
   {
    "duration": 72,
    "start_time": "2022-05-22T18:55:57.209Z"
   },
   {
    "duration": 5,
    "start_time": "2022-05-22T18:55:57.283Z"
   },
   {
    "duration": 25,
    "start_time": "2022-05-22T18:55:57.289Z"
   },
   {
    "duration": 20,
    "start_time": "2022-05-22T18:55:57.316Z"
   },
   {
    "duration": 17,
    "start_time": "2022-05-22T18:55:57.338Z"
   },
   {
    "duration": 14,
    "start_time": "2022-05-22T18:55:57.357Z"
   },
   {
    "duration": 47,
    "start_time": "2022-05-22T18:55:57.394Z"
   },
   {
    "duration": 7,
    "start_time": "2022-05-22T18:55:57.443Z"
   },
   {
    "duration": 25,
    "start_time": "2022-05-22T18:55:57.451Z"
   },
   {
    "duration": 138,
    "start_time": "2022-05-22T18:55:57.494Z"
   },
   {
    "duration": 14,
    "start_time": "2022-05-22T18:55:57.633Z"
   },
   {
    "duration": 137,
    "start_time": "2022-05-22T18:55:57.648Z"
   },
   {
    "duration": 24,
    "start_time": "2022-05-22T18:55:57.788Z"
   },
   {
    "duration": 18,
    "start_time": "2022-05-22T18:55:57.813Z"
   },
   {
    "duration": 19,
    "start_time": "2022-05-22T18:55:57.833Z"
   },
   {
    "duration": 9,
    "start_time": "2022-05-22T18:55:57.853Z"
   },
   {
    "duration": 600,
    "start_time": "2022-05-22T18:55:57.863Z"
   },
   {
    "duration": 11,
    "start_time": "2022-05-22T18:55:58.464Z"
   },
   {
    "duration": 18,
    "start_time": "2022-05-22T18:55:58.477Z"
   },
   {
    "duration": 9,
    "start_time": "2022-05-22T18:55:58.496Z"
   },
   {
    "duration": 40,
    "start_time": "2022-05-22T18:55:58.507Z"
   },
   {
    "duration": 170,
    "start_time": "2022-05-22T18:55:58.549Z"
   },
   {
    "duration": 28,
    "start_time": "2022-05-22T18:55:58.720Z"
   },
   {
    "duration": 97,
    "start_time": "2022-05-22T18:55:58.750Z"
   },
   {
    "duration": 32,
    "start_time": "2022-05-22T18:55:58.850Z"
   },
   {
    "duration": 17,
    "start_time": "2022-05-22T18:55:58.895Z"
   },
   {
    "duration": 204,
    "start_time": "2022-05-22T18:55:58.914Z"
   },
   {
    "duration": 19,
    "start_time": "2022-05-22T18:55:59.120Z"
   },
   {
    "duration": 14,
    "start_time": "2022-05-22T18:55:59.141Z"
   },
   {
    "duration": 150,
    "start_time": "2022-05-22T18:55:59.157Z"
   },
   {
    "duration": 10,
    "start_time": "2022-05-22T18:55:59.309Z"
   },
   {
    "duration": 473,
    "start_time": "2022-05-22T18:55:59.321Z"
   },
   {
    "duration": 16,
    "start_time": "2022-05-22T18:55:59.797Z"
   },
   {
    "duration": 168,
    "start_time": "2022-05-22T18:55:59.815Z"
   },
   {
    "duration": 37,
    "start_time": "2022-05-22T18:55:59.985Z"
   },
   {
    "duration": 26,
    "start_time": "2022-05-22T18:56:00.023Z"
   },
   {
    "duration": 202,
    "start_time": "2022-05-22T18:56:00.051Z"
   },
   {
    "duration": 5437,
    "start_time": "2022-05-22T18:56:00.255Z"
   },
   {
    "duration": 26,
    "start_time": "2022-05-22T18:56:05.694Z"
   },
   {
    "duration": 9,
    "start_time": "2022-05-22T18:56:52.654Z"
   },
   {
    "duration": 7,
    "start_time": "2022-05-22T19:01:28.269Z"
   },
   {
    "duration": 75,
    "start_time": "2022-05-22T19:02:03.150Z"
   },
   {
    "duration": 52,
    "start_time": "2022-05-22T19:04:16.365Z"
   },
   {
    "duration": 5087,
    "start_time": "2022-05-22T19:04:29.170Z"
   },
   {
    "duration": 50,
    "start_time": "2022-05-22T19:04:36.229Z"
   },
   {
    "duration": 67,
    "start_time": "2022-05-22T19:04:41.452Z"
   },
   {
    "duration": 1060,
    "start_time": "2022-05-22T19:05:01.267Z"
   },
   {
    "duration": 77,
    "start_time": "2022-05-22T19:05:02.329Z"
   },
   {
    "duration": 5,
    "start_time": "2022-05-22T19:05:02.408Z"
   },
   {
    "duration": 35,
    "start_time": "2022-05-22T19:05:02.415Z"
   },
   {
    "duration": 43,
    "start_time": "2022-05-22T19:05:02.452Z"
   },
   {
    "duration": 34,
    "start_time": "2022-05-22T19:05:02.496Z"
   },
   {
    "duration": 17,
    "start_time": "2022-05-22T19:05:02.531Z"
   },
   {
    "duration": 49,
    "start_time": "2022-05-22T19:05:02.549Z"
   },
   {
    "duration": 8,
    "start_time": "2022-05-22T19:05:02.600Z"
   },
   {
    "duration": 46,
    "start_time": "2022-05-22T19:05:02.610Z"
   },
   {
    "duration": 155,
    "start_time": "2022-05-22T19:05:02.658Z"
   },
   {
    "duration": 15,
    "start_time": "2022-05-22T19:05:02.815Z"
   },
   {
    "duration": 163,
    "start_time": "2022-05-22T19:05:02.831Z"
   },
   {
    "duration": 20,
    "start_time": "2022-05-22T19:05:02.996Z"
   },
   {
    "duration": 34,
    "start_time": "2022-05-22T19:05:03.018Z"
   },
   {
    "duration": 16,
    "start_time": "2022-05-22T19:05:03.053Z"
   },
   {
    "duration": 8,
    "start_time": "2022-05-22T19:05:03.071Z"
   },
   {
    "duration": 569,
    "start_time": "2022-05-22T19:05:03.081Z"
   },
   {
    "duration": 10,
    "start_time": "2022-05-22T19:05:03.651Z"
   },
   {
    "duration": 16,
    "start_time": "2022-05-22T19:05:03.662Z"
   },
   {
    "duration": 27,
    "start_time": "2022-05-22T19:05:03.679Z"
   },
   {
    "duration": 49,
    "start_time": "2022-05-22T19:05:03.707Z"
   },
   {
    "duration": 151,
    "start_time": "2022-05-22T19:05:03.757Z"
   },
   {
    "duration": 11,
    "start_time": "2022-05-22T19:05:03.909Z"
   },
   {
    "duration": 87,
    "start_time": "2022-05-22T19:05:03.922Z"
   },
   {
    "duration": 22,
    "start_time": "2022-05-22T19:05:04.011Z"
   },
   {
    "duration": 15,
    "start_time": "2022-05-22T19:05:04.034Z"
   },
   {
    "duration": 165,
    "start_time": "2022-05-22T19:05:04.053Z"
   },
   {
    "duration": 19,
    "start_time": "2022-05-22T19:05:04.219Z"
   },
   {
    "duration": 11,
    "start_time": "2022-05-22T19:05:04.239Z"
   },
   {
    "duration": 133,
    "start_time": "2022-05-22T19:05:04.251Z"
   },
   {
    "duration": 17,
    "start_time": "2022-05-22T19:05:04.386Z"
   },
   {
    "duration": 374,
    "start_time": "2022-05-22T19:05:04.405Z"
   },
   {
    "duration": 18,
    "start_time": "2022-05-22T19:05:04.780Z"
   },
   {
    "duration": 148,
    "start_time": "2022-05-22T19:05:04.800Z"
   },
   {
    "duration": 32,
    "start_time": "2022-05-22T19:05:04.949Z"
   },
   {
    "duration": 15,
    "start_time": "2022-05-22T19:05:04.994Z"
   },
   {
    "duration": 175,
    "start_time": "2022-05-22T19:05:05.010Z"
   },
   {
    "duration": 5246,
    "start_time": "2022-05-22T19:05:05.187Z"
   },
   {
    "duration": 21,
    "start_time": "2022-05-22T19:05:10.434Z"
   },
   {
    "duration": 115,
    "start_time": "2022-05-22T19:14:06.387Z"
   },
   {
    "duration": 25,
    "start_time": "2022-05-22T19:14:09.000Z"
   },
   {
    "duration": 16,
    "start_time": "2022-05-22T19:14:11.194Z"
   },
   {
    "duration": 15,
    "start_time": "2022-05-22T19:17:07.581Z"
   },
   {
    "duration": 345,
    "start_time": "2022-05-22T19:17:55.824Z"
   },
   {
    "duration": 48,
    "start_time": "2022-05-22T19:18:09.053Z"
   },
   {
    "duration": 1024,
    "start_time": "2022-05-22T19:18:26.830Z"
   },
   {
    "duration": 73,
    "start_time": "2022-05-22T19:18:27.856Z"
   },
   {
    "duration": 5,
    "start_time": "2022-05-22T19:18:27.930Z"
   },
   {
    "duration": 17,
    "start_time": "2022-05-22T19:18:27.937Z"
   },
   {
    "duration": 17,
    "start_time": "2022-05-22T19:18:27.955Z"
   },
   {
    "duration": 30,
    "start_time": "2022-05-22T19:18:27.973Z"
   },
   {
    "duration": 11,
    "start_time": "2022-05-22T19:18:28.005Z"
   },
   {
    "duration": 55,
    "start_time": "2022-05-22T19:18:28.018Z"
   },
   {
    "duration": 24,
    "start_time": "2022-05-22T19:18:28.075Z"
   },
   {
    "duration": 24,
    "start_time": "2022-05-22T19:18:28.102Z"
   },
   {
    "duration": 145,
    "start_time": "2022-05-22T19:18:28.127Z"
   },
   {
    "duration": 14,
    "start_time": "2022-05-22T19:18:28.273Z"
   },
   {
    "duration": 136,
    "start_time": "2022-05-22T19:18:28.288Z"
   },
   {
    "duration": 21,
    "start_time": "2022-05-22T19:18:28.426Z"
   },
   {
    "duration": 17,
    "start_time": "2022-05-22T19:18:28.449Z"
   },
   {
    "duration": 35,
    "start_time": "2022-05-22T19:18:28.468Z"
   },
   {
    "duration": 8,
    "start_time": "2022-05-22T19:18:28.504Z"
   },
   {
    "duration": 605,
    "start_time": "2022-05-22T19:18:28.514Z"
   },
   {
    "duration": 11,
    "start_time": "2022-05-22T19:18:29.120Z"
   },
   {
    "duration": 9,
    "start_time": "2022-05-22T19:18:29.132Z"
   },
   {
    "duration": 11,
    "start_time": "2022-05-22T19:18:29.143Z"
   },
   {
    "duration": 59,
    "start_time": "2022-05-22T19:18:29.156Z"
   },
   {
    "duration": 158,
    "start_time": "2022-05-22T19:18:29.216Z"
   },
   {
    "duration": 21,
    "start_time": "2022-05-22T19:18:29.376Z"
   },
   {
    "duration": 71,
    "start_time": "2022-05-22T19:18:29.398Z"
   },
   {
    "duration": 35,
    "start_time": "2022-05-22T19:18:29.471Z"
   },
   {
    "duration": 11,
    "start_time": "2022-05-22T19:18:29.508Z"
   },
   {
    "duration": 164,
    "start_time": "2022-05-22T19:18:29.523Z"
   },
   {
    "duration": 22,
    "start_time": "2022-05-22T19:18:29.688Z"
   },
   {
    "duration": 11,
    "start_time": "2022-05-22T19:18:29.711Z"
   },
   {
    "duration": 152,
    "start_time": "2022-05-22T19:18:29.724Z"
   },
   {
    "duration": 16,
    "start_time": "2022-05-22T19:18:29.878Z"
   },
   {
    "duration": 383,
    "start_time": "2022-05-22T19:18:29.895Z"
   },
   {
    "duration": 19,
    "start_time": "2022-05-22T19:18:30.280Z"
   },
   {
    "duration": 155,
    "start_time": "2022-05-22T19:18:30.300Z"
   },
   {
    "duration": 39,
    "start_time": "2022-05-22T19:18:30.456Z"
   },
   {
    "duration": 24,
    "start_time": "2022-05-22T19:18:30.496Z"
   },
   {
    "duration": 206,
    "start_time": "2022-05-22T19:18:30.522Z"
   },
   {
    "duration": 5512,
    "start_time": "2022-05-22T19:18:30.730Z"
   },
   {
    "duration": 22,
    "start_time": "2022-05-22T19:18:36.244Z"
   },
   {
    "duration": 29,
    "start_time": "2022-05-22T19:18:36.268Z"
   },
   {
    "duration": 38,
    "start_time": "2022-05-22T19:18:36.298Z"
   },
   {
    "duration": 34,
    "start_time": "2022-05-22T19:19:11.014Z"
   },
   {
    "duration": 5,
    "start_time": "2022-05-22T19:19:44.704Z"
   },
   {
    "duration": 73,
    "start_time": "2022-05-22T19:19:46.511Z"
   },
   {
    "duration": 6,
    "start_time": "2022-05-22T19:19:47.487Z"
   },
   {
    "duration": 17,
    "start_time": "2022-05-22T19:19:48.001Z"
   },
   {
    "duration": 20,
    "start_time": "2022-05-22T19:19:48.326Z"
   },
   {
    "duration": 12,
    "start_time": "2022-05-22T19:19:48.654Z"
   },
   {
    "duration": 15,
    "start_time": "2022-05-22T19:19:48.965Z"
   },
   {
    "duration": 49,
    "start_time": "2022-05-22T19:19:49.272Z"
   },
   {
    "duration": 9,
    "start_time": "2022-05-22T19:19:49.432Z"
   },
   {
    "duration": 30,
    "start_time": "2022-05-22T19:19:49.896Z"
   },
   {
    "duration": 125,
    "start_time": "2022-05-22T19:19:50.215Z"
   },
   {
    "duration": 14,
    "start_time": "2022-05-22T19:19:50.552Z"
   },
   {
    "duration": 128,
    "start_time": "2022-05-22T19:19:50.875Z"
   },
   {
    "duration": 21,
    "start_time": "2022-05-22T19:19:51.210Z"
   },
   {
    "duration": 18,
    "start_time": "2022-05-22T19:19:51.530Z"
   },
   {
    "duration": 19,
    "start_time": "2022-05-22T19:19:51.862Z"
   },
   {
    "duration": 9,
    "start_time": "2022-05-22T19:19:52.361Z"
   },
   {
    "duration": 481,
    "start_time": "2022-05-22T19:19:52.695Z"
   },
   {
    "duration": 17,
    "start_time": "2022-05-22T19:19:53.178Z"
   },
   {
    "duration": 6,
    "start_time": "2022-05-22T19:19:53.507Z"
   },
   {
    "duration": 11,
    "start_time": "2022-05-22T19:19:53.831Z"
   },
   {
    "duration": 14,
    "start_time": "2022-05-22T19:19:54.767Z"
   },
   {
    "duration": 180,
    "start_time": "2022-05-22T19:19:55.091Z"
   },
   {
    "duration": 13,
    "start_time": "2022-05-22T19:19:55.724Z"
   },
   {
    "duration": 80,
    "start_time": "2022-05-22T19:19:56.032Z"
   },
   {
    "duration": 22,
    "start_time": "2022-05-22T19:19:57.216Z"
   },
   {
    "duration": 12,
    "start_time": "2022-05-22T19:19:57.920Z"
   },
   {
    "duration": 144,
    "start_time": "2022-05-22T19:19:59.327Z"
   },
   {
    "duration": 28,
    "start_time": "2022-05-22T19:20:01.648Z"
   },
   {
    "duration": 12,
    "start_time": "2022-05-22T19:20:02.626Z"
   },
   {
    "duration": 133,
    "start_time": "2022-05-22T19:20:03.096Z"
   },
   {
    "duration": 10,
    "start_time": "2022-05-22T19:20:04.400Z"
   },
   {
    "duration": 378,
    "start_time": "2022-05-22T19:20:06.019Z"
   },
   {
    "duration": 13,
    "start_time": "2022-05-22T19:20:09.779Z"
   },
   {
    "duration": 132,
    "start_time": "2022-05-22T19:20:11.108Z"
   },
   {
    "duration": 33,
    "start_time": "2022-05-22T19:20:15.655Z"
   },
   {
    "duration": 17,
    "start_time": "2022-05-22T19:20:23.376Z"
   },
   {
    "duration": 173,
    "start_time": "2022-05-22T19:20:27.121Z"
   },
   {
    "duration": 4913,
    "start_time": "2022-05-22T19:20:30.834Z"
   },
   {
    "duration": 16,
    "start_time": "2022-05-22T19:20:43.829Z"
   },
   {
    "duration": 15,
    "start_time": "2022-05-22T19:20:55.393Z"
   },
   {
    "duration": 23,
    "start_time": "2022-05-22T19:21:09.290Z"
   },
   {
    "duration": 17,
    "start_time": "2022-05-22T19:21:10.993Z"
   },
   {
    "duration": 16,
    "start_time": "2022-05-22T19:21:28.622Z"
   },
   {
    "duration": 40,
    "start_time": "2022-05-22T19:22:17.039Z"
   },
   {
    "duration": 48,
    "start_time": "2022-05-22T19:22:48.109Z"
   },
   {
    "duration": 40,
    "start_time": "2022-05-22T19:23:14.367Z"
   },
   {
    "duration": 35,
    "start_time": "2022-05-22T19:23:26.608Z"
   },
   {
    "duration": 28,
    "start_time": "2022-05-22T19:24:27.806Z"
   },
   {
    "duration": 11,
    "start_time": "2022-05-22T19:24:32.624Z"
   },
   {
    "duration": 74,
    "start_time": "2022-05-22T19:29:48.616Z"
   },
   {
    "duration": 517,
    "start_time": "2022-05-22T19:29:57.270Z"
   },
   {
    "duration": 513,
    "start_time": "2022-05-22T19:30:04.822Z"
   },
   {
    "duration": 4,
    "start_time": "2022-05-22T19:33:41.892Z"
   },
   {
    "duration": 15,
    "start_time": "2022-05-22T19:33:48.972Z"
   },
   {
    "duration": 12,
    "start_time": "2022-05-22T19:34:34.254Z"
   },
   {
    "duration": 41,
    "start_time": "2022-05-22T19:34:40.165Z"
   },
   {
    "duration": 5,
    "start_time": "2022-05-22T19:35:10.729Z"
   },
   {
    "duration": 513,
    "start_time": "2022-05-22T19:35:29.776Z"
   },
   {
    "duration": 44,
    "start_time": "2022-05-22T19:38:04.124Z"
   },
   {
    "duration": 28,
    "start_time": "2022-05-22T19:39:17.466Z"
   },
   {
    "duration": 32,
    "start_time": "2022-05-22T19:52:36.895Z"
   },
   {
    "duration": 24,
    "start_time": "2022-05-22T19:52:55.792Z"
   },
   {
    "duration": 146,
    "start_time": "2022-05-22T19:54:42.478Z"
   },
   {
    "duration": 36,
    "start_time": "2022-05-22T19:54:58.303Z"
   },
   {
    "duration": 1103,
    "start_time": "2022-05-22T19:55:22.943Z"
   },
   {
    "duration": 91,
    "start_time": "2022-05-22T19:55:24.048Z"
   },
   {
    "duration": 5,
    "start_time": "2022-05-22T19:55:24.141Z"
   },
   {
    "duration": 17,
    "start_time": "2022-05-22T19:55:24.148Z"
   },
   {
    "duration": 48,
    "start_time": "2022-05-22T19:55:24.167Z"
   },
   {
    "duration": 12,
    "start_time": "2022-05-22T19:55:24.218Z"
   },
   {
    "duration": 14,
    "start_time": "2022-05-22T19:55:24.232Z"
   },
   {
    "duration": 71,
    "start_time": "2022-05-22T19:55:24.247Z"
   },
   {
    "duration": 8,
    "start_time": "2022-05-22T19:55:24.320Z"
   },
   {
    "duration": 23,
    "start_time": "2022-05-22T19:55:24.331Z"
   },
   {
    "duration": 171,
    "start_time": "2022-05-22T19:55:24.355Z"
   },
   {
    "duration": 14,
    "start_time": "2022-05-22T19:55:24.529Z"
   },
   {
    "duration": 145,
    "start_time": "2022-05-22T19:55:24.545Z"
   },
   {
    "duration": 35,
    "start_time": "2022-05-22T19:55:24.692Z"
   },
   {
    "duration": 18,
    "start_time": "2022-05-22T19:55:24.728Z"
   },
   {
    "duration": 19,
    "start_time": "2022-05-22T19:55:24.748Z"
   },
   {
    "duration": 9,
    "start_time": "2022-05-22T19:55:24.768Z"
   },
   {
    "duration": 591,
    "start_time": "2022-05-22T19:55:24.778Z"
   },
   {
    "duration": 11,
    "start_time": "2022-05-22T19:55:25.371Z"
   },
   {
    "duration": 8,
    "start_time": "2022-05-22T19:55:25.403Z"
   },
   {
    "duration": 12,
    "start_time": "2022-05-22T19:55:25.413Z"
   },
   {
    "duration": 47,
    "start_time": "2022-05-22T19:55:25.427Z"
   },
   {
    "duration": 197,
    "start_time": "2022-05-22T19:55:25.476Z"
   },
   {
    "duration": 21,
    "start_time": "2022-05-22T19:55:25.675Z"
   },
   {
    "duration": 91,
    "start_time": "2022-05-22T19:55:25.697Z"
   },
   {
    "duration": 30,
    "start_time": "2022-05-22T19:55:25.795Z"
   },
   {
    "duration": 12,
    "start_time": "2022-05-22T19:55:25.827Z"
   },
   {
    "duration": 197,
    "start_time": "2022-05-22T19:55:25.842Z"
   },
   {
    "duration": 22,
    "start_time": "2022-05-22T19:55:26.041Z"
   },
   {
    "duration": 35,
    "start_time": "2022-05-22T19:55:26.065Z"
   },
   {
    "duration": 145,
    "start_time": "2022-05-22T19:55:26.101Z"
   },
   {
    "duration": 10,
    "start_time": "2022-05-22T19:55:26.248Z"
   },
   {
    "duration": 416,
    "start_time": "2022-05-22T19:55:26.259Z"
   },
   {
    "duration": 26,
    "start_time": "2022-05-22T19:55:26.676Z"
   },
   {
    "duration": 149,
    "start_time": "2022-05-22T19:55:26.704Z"
   },
   {
    "duration": 47,
    "start_time": "2022-05-22T19:55:26.854Z"
   },
   {
    "duration": 17,
    "start_time": "2022-05-22T19:55:26.903Z"
   },
   {
    "duration": 195,
    "start_time": "2022-05-22T19:55:26.921Z"
   },
   {
    "duration": 6172,
    "start_time": "2022-05-22T19:55:27.118Z"
   },
   {
    "duration": 47,
    "start_time": "2022-05-22T19:55:33.293Z"
   },
   {
    "duration": 30,
    "start_time": "2022-05-22T19:55:33.342Z"
   },
   {
    "duration": 28,
    "start_time": "2022-05-22T19:55:33.374Z"
   },
   {
    "duration": 14,
    "start_time": "2022-05-22T19:56:01.092Z"
   },
   {
    "duration": 3,
    "start_time": "2022-05-22T19:56:07.223Z"
   },
   {
    "duration": 148,
    "start_time": "2022-05-22T19:56:23.834Z"
   },
   {
    "duration": 32,
    "start_time": "2022-05-22T19:57:12.520Z"
   },
   {
    "duration": 34,
    "start_time": "2022-05-22T19:59:06.309Z"
   },
   {
    "duration": 1081,
    "start_time": "2022-05-22T19:59:16.484Z"
   },
   {
    "duration": 80,
    "start_time": "2022-05-22T19:59:17.567Z"
   },
   {
    "duration": 5,
    "start_time": "2022-05-22T19:59:17.648Z"
   },
   {
    "duration": 20,
    "start_time": "2022-05-22T19:59:17.654Z"
   },
   {
    "duration": 34,
    "start_time": "2022-05-22T19:59:17.675Z"
   },
   {
    "duration": 11,
    "start_time": "2022-05-22T19:59:17.710Z"
   },
   {
    "duration": 12,
    "start_time": "2022-05-22T19:59:17.722Z"
   },
   {
    "duration": 64,
    "start_time": "2022-05-22T19:59:17.735Z"
   },
   {
    "duration": 12,
    "start_time": "2022-05-22T19:59:17.800Z"
   },
   {
    "duration": 21,
    "start_time": "2022-05-22T19:59:17.814Z"
   },
   {
    "duration": 141,
    "start_time": "2022-05-22T19:59:17.837Z"
   },
   {
    "duration": 21,
    "start_time": "2022-05-22T19:59:17.980Z"
   },
   {
    "duration": 130,
    "start_time": "2022-05-22T19:59:18.009Z"
   },
   {
    "duration": 20,
    "start_time": "2022-05-22T19:59:18.141Z"
   },
   {
    "duration": 17,
    "start_time": "2022-05-22T19:59:18.163Z"
   },
   {
    "duration": 23,
    "start_time": "2022-05-22T19:59:18.196Z"
   },
   {
    "duration": 7,
    "start_time": "2022-05-22T19:59:18.221Z"
   },
   {
    "duration": 535,
    "start_time": "2022-05-22T19:59:18.229Z"
   },
   {
    "duration": 10,
    "start_time": "2022-05-22T19:59:18.766Z"
   },
   {
    "duration": 22,
    "start_time": "2022-05-22T19:59:18.777Z"
   },
   {
    "duration": 11,
    "start_time": "2022-05-22T19:59:18.806Z"
   },
   {
    "duration": 50,
    "start_time": "2022-05-22T19:59:18.819Z"
   },
   {
    "duration": 198,
    "start_time": "2022-05-22T19:59:18.870Z"
   },
   {
    "duration": 27,
    "start_time": "2022-05-22T19:59:19.071Z"
   },
   {
    "duration": 77,
    "start_time": "2022-05-22T19:59:19.100Z"
   },
   {
    "duration": 31,
    "start_time": "2022-05-22T19:59:19.178Z"
   },
   {
    "duration": 11,
    "start_time": "2022-05-22T19:59:19.210Z"
   },
   {
    "duration": 162,
    "start_time": "2022-05-22T19:59:19.225Z"
   },
   {
    "duration": 28,
    "start_time": "2022-05-22T19:59:19.388Z"
   },
   {
    "duration": 10,
    "start_time": "2022-05-22T19:59:19.417Z"
   },
   {
    "duration": 137,
    "start_time": "2022-05-22T19:59:19.428Z"
   },
   {
    "duration": 10,
    "start_time": "2022-05-22T19:59:19.566Z"
   },
   {
    "duration": 373,
    "start_time": "2022-05-22T19:59:19.578Z"
   },
   {
    "duration": 11,
    "start_time": "2022-05-22T19:59:19.952Z"
   },
   {
    "duration": 162,
    "start_time": "2022-05-22T19:59:19.965Z"
   },
   {
    "duration": 34,
    "start_time": "2022-05-22T19:59:20.129Z"
   },
   {
    "duration": 39,
    "start_time": "2022-05-22T19:59:20.165Z"
   },
   {
    "duration": 178,
    "start_time": "2022-05-22T19:59:20.206Z"
   },
   {
    "duration": 5716,
    "start_time": "2022-05-22T19:59:20.385Z"
   },
   {
    "duration": 30,
    "start_time": "2022-05-22T19:59:26.108Z"
   },
   {
    "duration": 32,
    "start_time": "2022-05-22T19:59:26.140Z"
   },
   {
    "duration": 34,
    "start_time": "2022-05-22T20:00:24.158Z"
   },
   {
    "duration": 1026,
    "start_time": "2022-05-22T20:00:45.038Z"
   },
   {
    "duration": 81,
    "start_time": "2022-05-22T20:00:46.066Z"
   },
   {
    "duration": 5,
    "start_time": "2022-05-22T20:00:46.149Z"
   },
   {
    "duration": 19,
    "start_time": "2022-05-22T20:00:46.155Z"
   },
   {
    "duration": 40,
    "start_time": "2022-05-22T20:00:46.176Z"
   },
   {
    "duration": 17,
    "start_time": "2022-05-22T20:00:46.218Z"
   },
   {
    "duration": 15,
    "start_time": "2022-05-22T20:00:46.237Z"
   },
   {
    "duration": 72,
    "start_time": "2022-05-22T20:00:46.254Z"
   },
   {
    "duration": 7,
    "start_time": "2022-05-22T20:00:46.327Z"
   },
   {
    "duration": 23,
    "start_time": "2022-05-22T20:00:46.336Z"
   },
   {
    "duration": 161,
    "start_time": "2022-05-22T20:00:46.360Z"
   },
   {
    "duration": 13,
    "start_time": "2022-05-22T20:00:46.523Z"
   },
   {
    "duration": 143,
    "start_time": "2022-05-22T20:00:46.538Z"
   },
   {
    "duration": 32,
    "start_time": "2022-05-22T20:00:46.683Z"
   },
   {
    "duration": 22,
    "start_time": "2022-05-22T20:00:46.716Z"
   },
   {
    "duration": 17,
    "start_time": "2022-05-22T20:00:46.740Z"
   },
   {
    "duration": 9,
    "start_time": "2022-05-22T20:00:46.758Z"
   },
   {
    "duration": 605,
    "start_time": "2022-05-22T20:00:46.769Z"
   },
   {
    "duration": 22,
    "start_time": "2022-05-22T20:00:47.376Z"
   },
   {
    "duration": 12,
    "start_time": "2022-05-22T20:00:47.400Z"
   },
   {
    "duration": 14,
    "start_time": "2022-05-22T20:00:47.413Z"
   },
   {
    "duration": 43,
    "start_time": "2022-05-22T20:00:47.429Z"
   },
   {
    "duration": 165,
    "start_time": "2022-05-22T20:00:47.473Z"
   },
   {
    "duration": 13,
    "start_time": "2022-05-22T20:00:47.640Z"
   },
   {
    "duration": 91,
    "start_time": "2022-05-22T20:00:47.654Z"
   },
   {
    "duration": 22,
    "start_time": "2022-05-22T20:00:47.747Z"
   },
   {
    "duration": 33,
    "start_time": "2022-05-22T20:00:47.771Z"
   },
   {
    "duration": 155,
    "start_time": "2022-05-22T20:00:47.808Z"
   },
   {
    "duration": 32,
    "start_time": "2022-05-22T20:00:47.964Z"
   },
   {
    "duration": 12,
    "start_time": "2022-05-22T20:00:47.997Z"
   },
   {
    "duration": 135,
    "start_time": "2022-05-22T20:00:48.011Z"
   },
   {
    "duration": 11,
    "start_time": "2022-05-22T20:00:48.149Z"
   },
   {
    "duration": 402,
    "start_time": "2022-05-22T20:00:48.161Z"
   },
   {
    "duration": 12,
    "start_time": "2022-05-22T20:00:48.564Z"
   },
   {
    "duration": 165,
    "start_time": "2022-05-22T20:00:48.578Z"
   },
   {
    "duration": 31,
    "start_time": "2022-05-22T20:00:48.744Z"
   },
   {
    "duration": 33,
    "start_time": "2022-05-22T20:00:48.776Z"
   },
   {
    "duration": 234,
    "start_time": "2022-05-22T20:00:48.812Z"
   },
   {
    "duration": 8623,
    "start_time": "2022-05-22T20:00:49.048Z"
   },
   {
    "duration": 42,
    "start_time": "2022-05-22T20:00:57.673Z"
   },
   {
    "duration": 31,
    "start_time": "2022-05-22T20:00:57.716Z"
   },
   {
    "duration": 24,
    "start_time": "2022-05-22T20:03:15.778Z"
   },
   {
    "duration": 129,
    "start_time": "2022-05-22T20:03:19.618Z"
   },
   {
    "duration": 2,
    "start_time": "2022-05-22T20:05:23.765Z"
   },
   {
    "duration": 4,
    "start_time": "2022-05-22T20:05:29.821Z"
   },
   {
    "duration": 8,
    "start_time": "2022-05-22T20:07:11.156Z"
   },
   {
    "duration": 5,
    "start_time": "2022-05-22T20:07:24.319Z"
   },
   {
    "duration": 116,
    "start_time": "2022-05-22T20:07:36.072Z"
   },
   {
    "duration": 4,
    "start_time": "2022-05-22T20:08:12.681Z"
   },
   {
    "duration": 14,
    "start_time": "2022-05-22T20:10:05.476Z"
   },
   {
    "duration": 8,
    "start_time": "2022-05-22T20:14:34.139Z"
   },
   {
    "duration": 21,
    "start_time": "2022-05-22T20:14:37.808Z"
   },
   {
    "duration": 23,
    "start_time": "2022-05-22T20:17:29.344Z"
   },
   {
    "duration": 13,
    "start_time": "2022-05-22T20:17:51.326Z"
   },
   {
    "duration": 12,
    "start_time": "2022-05-22T20:18:03.355Z"
   },
   {
    "duration": 31,
    "start_time": "2022-05-22T20:19:14.402Z"
   },
   {
    "duration": 15,
    "start_time": "2022-05-22T20:19:21.636Z"
   },
   {
    "duration": 22,
    "start_time": "2022-05-22T20:19:35.225Z"
   },
   {
    "duration": 13,
    "start_time": "2022-05-22T20:19:40.813Z"
   },
   {
    "duration": 9,
    "start_time": "2022-05-22T20:19:49.244Z"
   },
   {
    "duration": 22,
    "start_time": "2022-05-22T20:19:55.108Z"
   },
   {
    "duration": 23,
    "start_time": "2022-05-22T20:20:38.586Z"
   },
   {
    "duration": 23,
    "start_time": "2022-05-22T20:20:48.810Z"
   },
   {
    "duration": 18,
    "start_time": "2022-05-22T20:20:57.371Z"
   },
   {
    "duration": 17,
    "start_time": "2022-05-22T20:21:44.602Z"
   },
   {
    "duration": 15,
    "start_time": "2022-05-22T20:21:55.929Z"
   },
   {
    "duration": 18,
    "start_time": "2022-05-22T20:22:40.960Z"
   },
   {
    "duration": 8,
    "start_time": "2022-05-22T20:23:10.830Z"
   },
   {
    "duration": 16,
    "start_time": "2022-05-22T20:23:29.776Z"
   },
   {
    "duration": 381,
    "start_time": "2022-05-22T20:23:43.694Z"
   },
   {
    "duration": 15,
    "start_time": "2022-05-22T20:23:47.520Z"
   },
   {
    "duration": 10,
    "start_time": "2022-05-22T20:23:51.115Z"
   },
   {
    "duration": 217,
    "start_time": "2022-05-22T20:24:00.907Z"
   },
   {
    "duration": 186,
    "start_time": "2022-05-22T20:24:18.545Z"
   },
   {
    "duration": 10,
    "start_time": "2022-05-22T20:24:31.130Z"
   },
   {
    "duration": 5,
    "start_time": "2022-05-22T20:24:38.212Z"
   },
   {
    "duration": 9,
    "start_time": "2022-05-22T20:25:08.698Z"
   },
   {
    "duration": 8,
    "start_time": "2022-05-22T20:25:18.379Z"
   },
   {
    "duration": 25,
    "start_time": "2022-05-22T20:25:45.490Z"
   },
   {
    "duration": 21,
    "start_time": "2022-05-22T20:26:02.922Z"
   },
   {
    "duration": 21,
    "start_time": "2022-05-22T20:26:06.046Z"
   },
   {
    "duration": 13,
    "start_time": "2022-05-22T20:26:09.912Z"
   },
   {
    "duration": 13,
    "start_time": "2022-05-22T20:26:22.171Z"
   },
   {
    "duration": 15,
    "start_time": "2022-05-22T20:26:47.076Z"
   },
   {
    "duration": 28,
    "start_time": "2022-05-22T20:27:23.932Z"
   },
   {
    "duration": 6,
    "start_time": "2022-05-22T20:27:47.629Z"
   },
   {
    "duration": 29,
    "start_time": "2022-05-22T20:28:01.548Z"
   },
   {
    "duration": 28,
    "start_time": "2022-05-22T20:28:08.565Z"
   },
   {
    "duration": 32,
    "start_time": "2022-05-22T20:28:23.558Z"
   },
   {
    "duration": 18,
    "start_time": "2022-05-22T20:30:17.296Z"
   },
   {
    "duration": 18,
    "start_time": "2022-05-22T20:30:27.204Z"
   },
   {
    "duration": 12,
    "start_time": "2022-05-22T20:30:30.456Z"
   },
   {
    "duration": 12,
    "start_time": "2022-05-22T20:30:46.761Z"
   },
   {
    "duration": 25,
    "start_time": "2022-05-22T20:30:59.688Z"
   },
   {
    "duration": 19,
    "start_time": "2022-05-22T20:31:05.105Z"
   },
   {
    "duration": 14,
    "start_time": "2022-05-22T20:31:11.217Z"
   },
   {
    "duration": 21,
    "start_time": "2022-05-22T20:31:34.385Z"
   },
   {
    "duration": 12,
    "start_time": "2022-05-22T20:31:38.470Z"
   },
   {
    "duration": 10,
    "start_time": "2022-05-22T20:33:32.365Z"
   },
   {
    "duration": 16,
    "start_time": "2022-05-22T20:33:38.949Z"
   },
   {
    "duration": 13,
    "start_time": "2022-05-22T20:34:04.798Z"
   },
   {
    "duration": 12,
    "start_time": "2022-05-22T20:35:55.251Z"
   },
   {
    "duration": 17,
    "start_time": "2022-05-22T20:36:09.260Z"
   },
   {
    "duration": 19,
    "start_time": "2022-05-22T20:36:12.324Z"
   },
   {
    "duration": 12,
    "start_time": "2022-05-22T20:36:22.875Z"
   },
   {
    "duration": 42,
    "start_time": "2022-05-22T20:37:23.956Z"
   },
   {
    "duration": 23,
    "start_time": "2022-05-22T20:37:34.226Z"
   },
   {
    "duration": 12,
    "start_time": "2022-05-22T20:37:38.758Z"
   },
   {
    "duration": 12,
    "start_time": "2022-05-22T20:37:50.004Z"
   },
   {
    "duration": 13,
    "start_time": "2022-05-22T20:38:02.294Z"
   },
   {
    "duration": 13,
    "start_time": "2022-05-22T20:38:13.586Z"
   },
   {
    "duration": 12,
    "start_time": "2022-05-22T20:38:30.102Z"
   },
   {
    "duration": 16,
    "start_time": "2022-05-22T20:38:55.712Z"
   },
   {
    "duration": 15,
    "start_time": "2022-05-22T20:39:45.153Z"
   },
   {
    "duration": 26,
    "start_time": "2022-05-22T20:41:23.320Z"
   },
   {
    "duration": 6,
    "start_time": "2022-05-22T20:41:26.529Z"
   },
   {
    "duration": 17,
    "start_time": "2022-05-22T20:41:59.221Z"
   },
   {
    "duration": 18,
    "start_time": "2022-05-22T20:42:18.467Z"
   },
   {
    "duration": 17,
    "start_time": "2022-05-22T20:42:24.345Z"
   },
   {
    "duration": 14,
    "start_time": "2022-05-22T20:42:53.351Z"
   },
   {
    "duration": 14,
    "start_time": "2022-05-22T20:43:05.082Z"
   },
   {
    "duration": 20,
    "start_time": "2022-05-22T20:43:33.307Z"
   },
   {
    "duration": 18,
    "start_time": "2022-05-22T20:43:38.009Z"
   },
   {
    "duration": 15,
    "start_time": "2022-05-22T20:43:46.325Z"
   },
   {
    "duration": 25,
    "start_time": "2022-05-22T20:44:10.621Z"
   },
   {
    "duration": 17,
    "start_time": "2022-05-22T20:44:17.587Z"
   },
   {
    "duration": 7,
    "start_time": "2022-05-22T20:48:17.692Z"
   },
   {
    "duration": 125,
    "start_time": "2022-05-22T20:49:09.290Z"
   },
   {
    "duration": 121,
    "start_time": "2022-05-22T20:50:07.375Z"
   },
   {
    "duration": 5,
    "start_time": "2022-05-22T20:52:43.056Z"
   },
   {
    "duration": 11,
    "start_time": "2022-05-22T20:58:35.826Z"
   },
   {
    "duration": 3,
    "start_time": "2022-05-22T20:58:44.066Z"
   },
   {
    "duration": 10,
    "start_time": "2022-05-22T20:58:44.839Z"
   },
   {
    "duration": 11,
    "start_time": "2022-05-22T20:59:25.552Z"
   },
   {
    "duration": 10,
    "start_time": "2022-05-22T20:59:53.897Z"
   },
   {
    "duration": 5,
    "start_time": "2022-05-22T21:00:33.236Z"
   },
   {
    "duration": 13,
    "start_time": "2022-05-22T21:01:40.707Z"
   },
   {
    "duration": 10,
    "start_time": "2022-05-22T21:02:23.356Z"
   },
   {
    "duration": 10,
    "start_time": "2022-05-22T21:02:29.519Z"
   },
   {
    "duration": 1191,
    "start_time": "2022-05-23T07:55:55.726Z"
   },
   {
    "duration": 107,
    "start_time": "2022-05-23T07:55:56.919Z"
   },
   {
    "duration": 4,
    "start_time": "2022-05-23T07:55:57.028Z"
   },
   {
    "duration": 20,
    "start_time": "2022-05-23T07:55:57.034Z"
   },
   {
    "duration": 19,
    "start_time": "2022-05-23T07:55:57.057Z"
   },
   {
    "duration": 22,
    "start_time": "2022-05-23T07:55:57.077Z"
   },
   {
    "duration": 12,
    "start_time": "2022-05-23T07:55:57.101Z"
   },
   {
    "duration": 48,
    "start_time": "2022-05-23T07:55:57.114Z"
   },
   {
    "duration": 7,
    "start_time": "2022-05-23T07:55:57.163Z"
   },
   {
    "duration": 39,
    "start_time": "2022-05-23T07:55:57.172Z"
   },
   {
    "duration": 135,
    "start_time": "2022-05-23T07:55:57.213Z"
   },
   {
    "duration": 12,
    "start_time": "2022-05-23T07:55:57.350Z"
   },
   {
    "duration": 140,
    "start_time": "2022-05-23T07:55:57.364Z"
   },
   {
    "duration": 21,
    "start_time": "2022-05-23T07:55:57.507Z"
   },
   {
    "duration": 20,
    "start_time": "2022-05-23T07:55:57.529Z"
   },
   {
    "duration": 16,
    "start_time": "2022-05-23T07:55:57.551Z"
   },
   {
    "duration": 7,
    "start_time": "2022-05-23T07:55:57.569Z"
   },
   {
    "duration": 584,
    "start_time": "2022-05-23T07:55:57.577Z"
   },
   {
    "duration": 10,
    "start_time": "2022-05-23T07:55:58.163Z"
   },
   {
    "duration": 20,
    "start_time": "2022-05-23T07:55:58.175Z"
   },
   {
    "duration": 9,
    "start_time": "2022-05-23T07:55:58.197Z"
   },
   {
    "duration": 41,
    "start_time": "2022-05-23T07:55:58.208Z"
   },
   {
    "duration": 170,
    "start_time": "2022-05-23T07:55:58.250Z"
   },
   {
    "duration": 10,
    "start_time": "2022-05-23T07:55:58.422Z"
   },
   {
    "duration": 86,
    "start_time": "2022-05-23T07:55:58.433Z"
   },
   {
    "duration": 21,
    "start_time": "2022-05-23T07:55:58.521Z"
   },
   {
    "duration": 10,
    "start_time": "2022-05-23T07:55:58.543Z"
   },
   {
    "duration": 163,
    "start_time": "2022-05-23T07:55:58.554Z"
   },
   {
    "duration": 19,
    "start_time": "2022-05-23T07:55:58.718Z"
   },
   {
    "duration": 10,
    "start_time": "2022-05-23T07:55:58.739Z"
   },
   {
    "duration": 165,
    "start_time": "2022-05-23T07:55:58.750Z"
   },
   {
    "duration": 13,
    "start_time": "2022-05-23T07:55:58.916Z"
   },
   {
    "duration": 402,
    "start_time": "2022-05-23T07:55:58.930Z"
   },
   {
    "duration": 12,
    "start_time": "2022-05-23T07:55:59.334Z"
   },
   {
    "duration": 150,
    "start_time": "2022-05-23T07:55:59.347Z"
   },
   {
    "duration": 32,
    "start_time": "2022-05-23T07:55:59.499Z"
   },
   {
    "duration": 16,
    "start_time": "2022-05-23T07:55:59.533Z"
   },
   {
    "duration": 195,
    "start_time": "2022-05-23T07:55:59.550Z"
   },
   {
    "duration": 5557,
    "start_time": "2022-05-23T07:55:59.747Z"
   },
   {
    "duration": 33,
    "start_time": "2022-05-23T07:56:05.305Z"
   },
   {
    "duration": 434,
    "start_time": "2022-05-23T07:56:05.341Z"
   },
   {
    "duration": 18,
    "start_time": "2022-05-23T07:56:05.777Z"
   },
   {
    "duration": 24,
    "start_time": "2022-05-23T07:56:05.796Z"
   },
   {
    "duration": 9,
    "start_time": "2022-05-23T07:56:30.798Z"
   },
   {
    "duration": 16,
    "start_time": "2022-05-23T07:56:41.672Z"
   },
   {
    "duration": 5,
    "start_time": "2022-05-23T07:58:24.984Z"
   },
   {
    "duration": 19,
    "start_time": "2022-05-23T07:58:29.070Z"
   },
   {
    "duration": 13,
    "start_time": "2022-05-23T07:59:58.615Z"
   },
   {
    "duration": 20,
    "start_time": "2022-05-23T08:01:09.746Z"
   },
   {
    "duration": 19,
    "start_time": "2022-05-23T08:02:06.448Z"
   },
   {
    "duration": 13,
    "start_time": "2022-05-23T08:03:23.444Z"
   },
   {
    "duration": 13,
    "start_time": "2022-05-23T08:03:57.595Z"
   },
   {
    "duration": 13,
    "start_time": "2022-05-23T08:04:06.382Z"
   },
   {
    "duration": 22,
    "start_time": "2022-05-23T08:04:59.570Z"
   },
   {
    "duration": 17,
    "start_time": "2022-05-23T08:05:36.472Z"
   },
   {
    "duration": 132,
    "start_time": "2022-05-23T08:08:18.196Z"
   },
   {
    "duration": 14,
    "start_time": "2022-05-23T08:08:24.380Z"
   },
   {
    "duration": 21,
    "start_time": "2022-05-23T08:08:31.652Z"
   },
   {
    "duration": 19,
    "start_time": "2022-05-23T08:09:00.916Z"
   },
   {
    "duration": 18,
    "start_time": "2022-05-23T08:09:15.877Z"
   },
   {
    "duration": 19,
    "start_time": "2022-05-23T08:10:21.281Z"
   },
   {
    "duration": 23,
    "start_time": "2022-05-23T08:10:34.050Z"
   },
   {
    "duration": 5,
    "start_time": "2022-05-23T08:12:14.800Z"
   },
   {
    "duration": 20,
    "start_time": "2022-05-23T08:12:26.233Z"
   },
   {
    "duration": 4,
    "start_time": "2022-05-23T08:15:04.156Z"
   },
   {
    "duration": 1318,
    "start_time": "2022-05-23T18:05:43.215Z"
   },
   {
    "duration": 152,
    "start_time": "2022-05-23T18:05:44.535Z"
   },
   {
    "duration": 5,
    "start_time": "2022-05-23T18:05:44.689Z"
   },
   {
    "duration": 24,
    "start_time": "2022-05-23T18:05:44.695Z"
   },
   {
    "duration": 20,
    "start_time": "2022-05-23T18:05:44.721Z"
   },
   {
    "duration": 36,
    "start_time": "2022-05-23T18:05:44.742Z"
   },
   {
    "duration": 14,
    "start_time": "2022-05-23T18:05:44.779Z"
   },
   {
    "duration": 56,
    "start_time": "2022-05-23T18:05:44.794Z"
   },
   {
    "duration": 23,
    "start_time": "2022-05-23T18:05:44.852Z"
   },
   {
    "duration": 27,
    "start_time": "2022-05-23T18:05:44.877Z"
   },
   {
    "duration": 167,
    "start_time": "2022-05-23T18:05:44.906Z"
   },
   {
    "duration": 14,
    "start_time": "2022-05-23T18:05:45.076Z"
   },
   {
    "duration": 146,
    "start_time": "2022-05-23T18:05:45.092Z"
   },
   {
    "duration": 21,
    "start_time": "2022-05-23T18:05:45.240Z"
   },
   {
    "duration": 24,
    "start_time": "2022-05-23T18:05:45.262Z"
   },
   {
    "duration": 17,
    "start_time": "2022-05-23T18:05:45.287Z"
   },
   {
    "duration": 10,
    "start_time": "2022-05-23T18:05:45.305Z"
   },
   {
    "duration": 640,
    "start_time": "2022-05-23T18:05:45.317Z"
   },
   {
    "duration": 16,
    "start_time": "2022-05-23T18:05:45.958Z"
   },
   {
    "duration": 12,
    "start_time": "2022-05-23T18:05:45.976Z"
   },
   {
    "duration": 10,
    "start_time": "2022-05-23T18:05:45.989Z"
   },
   {
    "duration": 42,
    "start_time": "2022-05-23T18:05:46.001Z"
   },
   {
    "duration": 170,
    "start_time": "2022-05-23T18:05:46.044Z"
   },
   {
    "duration": 11,
    "start_time": "2022-05-23T18:05:46.216Z"
   },
   {
    "duration": 87,
    "start_time": "2022-05-23T18:05:46.228Z"
   },
   {
    "duration": 20,
    "start_time": "2022-05-23T18:05:46.317Z"
   },
   {
    "duration": 18,
    "start_time": "2022-05-23T18:05:46.339Z"
   },
   {
    "duration": 160,
    "start_time": "2022-05-23T18:05:46.358Z"
   },
   {
    "duration": 19,
    "start_time": "2022-05-23T18:05:46.519Z"
   },
   {
    "duration": 11,
    "start_time": "2022-05-23T18:05:46.540Z"
   },
   {
    "duration": 150,
    "start_time": "2022-05-23T18:05:46.552Z"
   },
   {
    "duration": 10,
    "start_time": "2022-05-23T18:05:46.704Z"
   },
   {
    "duration": 426,
    "start_time": "2022-05-23T18:05:46.716Z"
   },
   {
    "duration": 13,
    "start_time": "2022-05-23T18:05:47.144Z"
   },
   {
    "duration": 166,
    "start_time": "2022-05-23T18:05:47.158Z"
   },
   {
    "duration": 33,
    "start_time": "2022-05-23T18:05:47.325Z"
   },
   {
    "duration": 28,
    "start_time": "2022-05-23T18:05:47.359Z"
   },
   {
    "duration": 194,
    "start_time": "2022-05-23T18:05:47.388Z"
   },
   {
    "duration": 6196,
    "start_time": "2022-05-23T18:05:47.584Z"
   },
   {
    "duration": 29,
    "start_time": "2022-05-23T18:05:53.781Z"
   },
   {
    "duration": 34,
    "start_time": "2022-05-23T18:05:53.813Z"
   },
   {
    "duration": 32,
    "start_time": "2022-05-23T18:05:53.848Z"
   },
   {
    "duration": 144,
    "start_time": "2022-05-23T18:05:53.881Z"
   },
   {
    "duration": 0,
    "start_time": "2022-05-23T18:05:54.026Z"
   },
   {
    "duration": 0,
    "start_time": "2022-05-23T18:05:54.027Z"
   },
   {
    "duration": 0,
    "start_time": "2022-05-23T18:05:54.028Z"
   },
   {
    "duration": 0,
    "start_time": "2022-05-23T18:05:54.029Z"
   },
   {
    "duration": 3442,
    "start_time": "2022-05-23T18:07:02.159Z"
   },
   {
    "duration": 30,
    "start_time": "2022-05-23T18:08:12.997Z"
   },
   {
    "duration": 37,
    "start_time": "2022-05-23T18:08:25.749Z"
   },
   {
    "duration": 1077,
    "start_time": "2022-05-23T18:08:41.450Z"
   },
   {
    "duration": 92,
    "start_time": "2022-05-23T18:08:42.530Z"
   },
   {
    "duration": 4,
    "start_time": "2022-05-23T18:08:42.624Z"
   },
   {
    "duration": 20,
    "start_time": "2022-05-23T18:08:42.630Z"
   },
   {
    "duration": 40,
    "start_time": "2022-05-23T18:08:42.652Z"
   },
   {
    "duration": 13,
    "start_time": "2022-05-23T18:08:42.694Z"
   },
   {
    "duration": 13,
    "start_time": "2022-05-23T18:08:42.709Z"
   },
   {
    "duration": 87,
    "start_time": "2022-05-23T18:08:42.723Z"
   },
   {
    "duration": 10,
    "start_time": "2022-05-23T18:08:42.812Z"
   },
   {
    "duration": 31,
    "start_time": "2022-05-23T18:08:42.826Z"
   },
   {
    "duration": 145,
    "start_time": "2022-05-23T18:08:42.875Z"
   },
   {
    "duration": 14,
    "start_time": "2022-05-23T18:08:43.022Z"
   },
   {
    "duration": 145,
    "start_time": "2022-05-23T18:08:43.038Z"
   },
   {
    "duration": 23,
    "start_time": "2022-05-23T18:08:43.185Z"
   },
   {
    "duration": 17,
    "start_time": "2022-05-23T18:08:43.210Z"
   },
   {
    "duration": 19,
    "start_time": "2022-05-23T18:08:43.229Z"
   },
   {
    "duration": 27,
    "start_time": "2022-05-23T18:08:43.250Z"
   },
   {
    "duration": 591,
    "start_time": "2022-05-23T18:08:43.278Z"
   },
   {
    "duration": 12,
    "start_time": "2022-05-23T18:08:43.870Z"
   },
   {
    "duration": 7,
    "start_time": "2022-05-23T18:08:43.884Z"
   },
   {
    "duration": 9,
    "start_time": "2022-05-23T18:08:43.894Z"
   },
   {
    "duration": 71,
    "start_time": "2022-05-23T18:08:43.905Z"
   },
   {
    "duration": 179,
    "start_time": "2022-05-23T18:08:43.977Z"
   },
   {
    "duration": 23,
    "start_time": "2022-05-23T18:08:44.158Z"
   },
   {
    "duration": 94,
    "start_time": "2022-05-23T18:08:44.183Z"
   },
   {
    "duration": 24,
    "start_time": "2022-05-23T18:08:44.280Z"
   },
   {
    "duration": 12,
    "start_time": "2022-05-23T18:08:44.306Z"
   },
   {
    "duration": 196,
    "start_time": "2022-05-23T18:08:44.321Z"
   },
   {
    "duration": 21,
    "start_time": "2022-05-23T18:08:44.518Z"
   },
   {
    "duration": 34,
    "start_time": "2022-05-23T18:08:44.541Z"
   },
   {
    "duration": 143,
    "start_time": "2022-05-23T18:08:44.576Z"
   },
   {
    "duration": 10,
    "start_time": "2022-05-23T18:08:44.720Z"
   },
   {
    "duration": 414,
    "start_time": "2022-05-23T18:08:44.732Z"
   },
   {
    "duration": 10,
    "start_time": "2022-05-23T18:08:45.148Z"
   },
   {
    "duration": 152,
    "start_time": "2022-05-23T18:08:45.159Z"
   },
   {
    "duration": 39,
    "start_time": "2022-05-23T18:08:45.312Z"
   },
   {
    "duration": 25,
    "start_time": "2022-05-23T18:08:45.352Z"
   },
   {
    "duration": 186,
    "start_time": "2022-05-23T18:08:45.379Z"
   },
   {
    "duration": 3735,
    "start_time": "2022-05-23T18:08:45.566Z"
   },
   {
    "duration": 28,
    "start_time": "2022-05-23T18:08:49.302Z"
   },
   {
    "duration": 45,
    "start_time": "2022-05-23T18:08:49.331Z"
   },
   {
    "duration": 13,
    "start_time": "2022-05-23T18:09:04.827Z"
   },
   {
    "duration": 634,
    "start_time": "2022-05-23T18:10:00.696Z"
   },
   {
    "duration": 17,
    "start_time": "2022-05-23T18:10:26.121Z"
   },
   {
    "duration": 458,
    "start_time": "2022-05-23T18:10:59.670Z"
   },
   {
    "duration": 7,
    "start_time": "2022-05-23T18:11:03.658Z"
   },
   {
    "duration": 7,
    "start_time": "2022-05-23T18:11:50.114Z"
   },
   {
    "duration": 11,
    "start_time": "2022-05-23T18:11:53.803Z"
   },
   {
    "duration": 8,
    "start_time": "2022-05-23T18:33:48.863Z"
   },
   {
    "duration": 17,
    "start_time": "2022-05-23T18:34:23.523Z"
   },
   {
    "duration": 35,
    "start_time": "2022-05-23T18:36:58.699Z"
   },
   {
    "duration": 15,
    "start_time": "2022-05-23T18:37:48.973Z"
   },
   {
    "duration": 175,
    "start_time": "2022-05-23T18:38:08.890Z"
   },
   {
    "duration": 652,
    "start_time": "2022-05-23T18:38:36.217Z"
   },
   {
    "duration": 18,
    "start_time": "2022-05-23T18:38:50.129Z"
   },
   {
    "duration": 24,
    "start_time": "2022-05-23T18:59:12.566Z"
   },
   {
    "duration": 6,
    "start_time": "2022-05-23T18:59:23.830Z"
   },
   {
    "duration": 46,
    "start_time": "2022-05-23T19:02:58.577Z"
   },
   {
    "duration": 15,
    "start_time": "2022-05-23T19:03:08.095Z"
   },
   {
    "duration": 4,
    "start_time": "2022-05-23T19:03:34.020Z"
   },
   {
    "duration": 18,
    "start_time": "2022-05-23T19:04:45.856Z"
   },
   {
    "duration": 6,
    "start_time": "2022-05-23T19:06:07.317Z"
   },
   {
    "duration": 14,
    "start_time": "2022-05-23T19:06:14.489Z"
   },
   {
    "duration": 1135,
    "start_time": "2022-05-23T19:06:43.221Z"
   },
   {
    "duration": 89,
    "start_time": "2022-05-23T19:06:44.358Z"
   },
   {
    "duration": 4,
    "start_time": "2022-05-23T19:06:44.449Z"
   },
   {
    "duration": 27,
    "start_time": "2022-05-23T19:06:44.455Z"
   },
   {
    "duration": 21,
    "start_time": "2022-05-23T19:06:44.484Z"
   },
   {
    "duration": 12,
    "start_time": "2022-05-23T19:06:44.506Z"
   },
   {
    "duration": 12,
    "start_time": "2022-05-23T19:06:44.519Z"
   },
   {
    "duration": 74,
    "start_time": "2022-05-23T19:06:44.533Z"
   },
   {
    "duration": 8,
    "start_time": "2022-05-23T19:06:44.609Z"
   },
   {
    "duration": 22,
    "start_time": "2022-05-23T19:06:44.619Z"
   },
   {
    "duration": 173,
    "start_time": "2022-05-23T19:06:44.643Z"
   },
   {
    "duration": 13,
    "start_time": "2022-05-23T19:06:44.818Z"
   },
   {
    "duration": 158,
    "start_time": "2022-05-23T19:06:44.832Z"
   },
   {
    "duration": 21,
    "start_time": "2022-05-23T19:06:44.992Z"
   },
   {
    "duration": 26,
    "start_time": "2022-05-23T19:06:45.015Z"
   },
   {
    "duration": 17,
    "start_time": "2022-05-23T19:06:45.043Z"
   },
   {
    "duration": 11,
    "start_time": "2022-05-23T19:06:45.074Z"
   },
   {
    "duration": 618,
    "start_time": "2022-05-23T19:06:45.087Z"
   },
   {
    "duration": 10,
    "start_time": "2022-05-23T19:06:45.707Z"
   },
   {
    "duration": 8,
    "start_time": "2022-05-23T19:06:45.718Z"
   },
   {
    "duration": 9,
    "start_time": "2022-05-23T19:06:45.727Z"
   },
   {
    "duration": 69,
    "start_time": "2022-05-23T19:06:45.737Z"
   },
   {
    "duration": 182,
    "start_time": "2022-05-23T19:06:45.807Z"
   },
   {
    "duration": 11,
    "start_time": "2022-05-23T19:06:45.991Z"
   },
   {
    "duration": 96,
    "start_time": "2022-05-23T19:06:46.004Z"
   },
   {
    "duration": 23,
    "start_time": "2022-05-23T19:06:46.102Z"
   },
   {
    "duration": 12,
    "start_time": "2022-05-23T19:06:46.127Z"
   },
   {
    "duration": 214,
    "start_time": "2022-05-23T19:06:46.143Z"
   },
   {
    "duration": 32,
    "start_time": "2022-05-23T19:06:46.359Z"
   },
   {
    "duration": 13,
    "start_time": "2022-05-23T19:06:46.393Z"
   },
   {
    "duration": 156,
    "start_time": "2022-05-23T19:06:46.407Z"
   },
   {
    "duration": 23,
    "start_time": "2022-05-23T19:06:46.565Z"
   },
   {
    "duration": 377,
    "start_time": "2022-05-23T19:06:46.590Z"
   },
   {
    "duration": 17,
    "start_time": "2022-05-23T19:06:46.974Z"
   },
   {
    "duration": 159,
    "start_time": "2022-05-23T19:06:46.992Z"
   },
   {
    "duration": 46,
    "start_time": "2022-05-23T19:06:47.153Z"
   },
   {
    "duration": 20,
    "start_time": "2022-05-23T19:06:47.200Z"
   },
   {
    "duration": 217,
    "start_time": "2022-05-23T19:06:47.221Z"
   },
   {
    "duration": 4551,
    "start_time": "2022-05-23T19:06:47.439Z"
   },
   {
    "duration": 28,
    "start_time": "2022-05-23T19:06:51.992Z"
   },
   {
    "duration": 31,
    "start_time": "2022-05-23T19:06:52.022Z"
   },
   {
    "duration": 144,
    "start_time": "2022-05-23T19:06:52.054Z"
   },
   {
    "duration": 0,
    "start_time": "2022-05-23T19:06:52.200Z"
   },
   {
    "duration": 0,
    "start_time": "2022-05-23T19:06:52.201Z"
   },
   {
    "duration": 5,
    "start_time": "2022-05-23T19:07:17.861Z"
   },
   {
    "duration": 16,
    "start_time": "2022-05-23T19:07:31.958Z"
   },
   {
    "duration": 9,
    "start_time": "2022-05-23T19:07:56.926Z"
   },
   {
    "duration": 13,
    "start_time": "2022-05-23T19:07:59.364Z"
   },
   {
    "duration": 6,
    "start_time": "2022-05-23T19:11:03.464Z"
   },
   {
    "duration": 32,
    "start_time": "2022-05-23T19:11:05.605Z"
   },
   {
    "duration": 151,
    "start_time": "2022-05-23T19:11:14.561Z"
   },
   {
    "duration": 6,
    "start_time": "2022-05-23T19:11:19.618Z"
   },
   {
    "duration": 8,
    "start_time": "2022-05-23T19:16:53.550Z"
   },
   {
    "duration": 5,
    "start_time": "2022-05-23T19:18:06.994Z"
   },
   {
    "duration": 5,
    "start_time": "2022-05-23T19:18:19.424Z"
   },
   {
    "duration": 3,
    "start_time": "2022-05-23T19:18:26.909Z"
   },
   {
    "duration": 5,
    "start_time": "2022-05-23T19:19:02.610Z"
   },
   {
    "duration": 48,
    "start_time": "2022-05-23T19:19:35.219Z"
   },
   {
    "duration": 5,
    "start_time": "2022-05-23T19:19:39.894Z"
   },
   {
    "duration": 16,
    "start_time": "2022-05-23T19:19:51.303Z"
   },
   {
    "duration": 9,
    "start_time": "2022-05-23T19:19:52.749Z"
   },
   {
    "duration": 228,
    "start_time": "2022-05-23T19:20:02.068Z"
   },
   {
    "duration": 45,
    "start_time": "2022-05-23T19:20:10.118Z"
   },
   {
    "duration": 6,
    "start_time": "2022-05-23T19:20:26.797Z"
   },
   {
    "duration": 315,
    "start_time": "2022-05-23T19:20:29.127Z"
   },
   {
    "duration": 1381,
    "start_time": "2022-05-23T19:20:44.246Z"
   },
   {
    "duration": 94,
    "start_time": "2022-05-23T19:20:45.629Z"
   },
   {
    "duration": 4,
    "start_time": "2022-05-23T19:20:45.725Z"
   },
   {
    "duration": 19,
    "start_time": "2022-05-23T19:20:45.731Z"
   },
   {
    "duration": 43,
    "start_time": "2022-05-23T19:20:45.752Z"
   },
   {
    "duration": 13,
    "start_time": "2022-05-23T19:20:45.797Z"
   },
   {
    "duration": 14,
    "start_time": "2022-05-23T19:20:45.811Z"
   },
   {
    "duration": 72,
    "start_time": "2022-05-23T19:20:45.827Z"
   },
   {
    "duration": 7,
    "start_time": "2022-05-23T19:20:45.901Z"
   },
   {
    "duration": 22,
    "start_time": "2022-05-23T19:20:45.910Z"
   },
   {
    "duration": 174,
    "start_time": "2022-05-23T19:20:45.934Z"
   },
   {
    "duration": 13,
    "start_time": "2022-05-23T19:20:46.109Z"
   },
   {
    "duration": 165,
    "start_time": "2022-05-23T19:20:46.123Z"
   },
   {
    "duration": 22,
    "start_time": "2022-05-23T19:20:46.292Z"
   },
   {
    "duration": 18,
    "start_time": "2022-05-23T19:20:46.316Z"
   },
   {
    "duration": 18,
    "start_time": "2022-05-23T19:20:46.335Z"
   },
   {
    "duration": 26,
    "start_time": "2022-05-23T19:20:46.354Z"
   },
   {
    "duration": 629,
    "start_time": "2022-05-23T19:20:46.382Z"
   },
   {
    "duration": 11,
    "start_time": "2022-05-23T19:20:47.012Z"
   },
   {
    "duration": 23,
    "start_time": "2022-05-23T19:20:47.024Z"
   },
   {
    "duration": 11,
    "start_time": "2022-05-23T19:20:47.049Z"
   },
   {
    "duration": 58,
    "start_time": "2022-05-23T19:20:47.062Z"
   },
   {
    "duration": 170,
    "start_time": "2022-05-23T19:20:47.122Z"
   },
   {
    "duration": 12,
    "start_time": "2022-05-23T19:20:47.293Z"
   },
   {
    "duration": 97,
    "start_time": "2022-05-23T19:20:47.306Z"
   },
   {
    "duration": 22,
    "start_time": "2022-05-23T19:20:47.405Z"
   },
   {
    "duration": 11,
    "start_time": "2022-05-23T19:20:47.429Z"
   },
   {
    "duration": 185,
    "start_time": "2022-05-23T19:20:47.442Z"
   },
   {
    "duration": 20,
    "start_time": "2022-05-23T19:20:47.629Z"
   },
   {
    "duration": 33,
    "start_time": "2022-05-23T19:20:47.651Z"
   },
   {
    "duration": 151,
    "start_time": "2022-05-23T19:20:47.686Z"
   },
   {
    "duration": 10,
    "start_time": "2022-05-23T19:20:47.838Z"
   },
   {
    "duration": 444,
    "start_time": "2022-05-23T19:20:47.850Z"
   },
   {
    "duration": 11,
    "start_time": "2022-05-23T19:20:48.296Z"
   },
   {
    "duration": 169,
    "start_time": "2022-05-23T19:20:48.308Z"
   },
   {
    "duration": 38,
    "start_time": "2022-05-23T19:20:48.480Z"
   },
   {
    "duration": 15,
    "start_time": "2022-05-23T19:20:48.519Z"
   },
   {
    "duration": 203,
    "start_time": "2022-05-23T19:20:48.535Z"
   },
   {
    "duration": 4891,
    "start_time": "2022-05-23T19:20:48.740Z"
   },
   {
    "duration": 28,
    "start_time": "2022-05-23T19:20:53.632Z"
   },
   {
    "duration": 39,
    "start_time": "2022-05-23T19:20:53.674Z"
   },
   {
    "duration": 5,
    "start_time": "2022-05-23T19:20:53.715Z"
   },
   {
    "duration": 12,
    "start_time": "2022-05-23T19:20:53.721Z"
   },
   {
    "duration": 13,
    "start_time": "2022-05-23T19:20:53.734Z"
   },
   {
    "duration": 27,
    "start_time": "2022-05-23T19:20:53.748Z"
   },
   {
    "duration": 26,
    "start_time": "2022-05-23T19:41:59.509Z"
   },
   {
    "duration": 26,
    "start_time": "2022-05-23T19:42:06.569Z"
   },
   {
    "duration": 56,
    "start_time": "2022-05-23T19:43:02.727Z"
   },
   {
    "duration": 16,
    "start_time": "2022-05-23T19:43:17.663Z"
   },
   {
    "duration": 1159,
    "start_time": "2022-05-23T20:11:53.738Z"
   },
   {
    "duration": 135,
    "start_time": "2022-05-23T20:11:54.899Z"
   },
   {
    "duration": 5,
    "start_time": "2022-05-23T20:11:55.036Z"
   },
   {
    "duration": 27,
    "start_time": "2022-05-23T20:11:55.043Z"
   },
   {
    "duration": 19,
    "start_time": "2022-05-23T20:11:55.073Z"
   },
   {
    "duration": 12,
    "start_time": "2022-05-23T20:11:55.093Z"
   },
   {
    "duration": 15,
    "start_time": "2022-05-23T20:11:55.106Z"
   },
   {
    "duration": 63,
    "start_time": "2022-05-23T20:11:55.124Z"
   },
   {
    "duration": 9,
    "start_time": "2022-05-23T20:11:55.188Z"
   },
   {
    "duration": 31,
    "start_time": "2022-05-23T20:11:55.198Z"
   },
   {
    "duration": 159,
    "start_time": "2022-05-23T20:11:55.231Z"
   },
   {
    "duration": 16,
    "start_time": "2022-05-23T20:11:55.391Z"
   },
   {
    "duration": 148,
    "start_time": "2022-05-23T20:11:55.408Z"
   },
   {
    "duration": 29,
    "start_time": "2022-05-23T20:11:55.560Z"
   },
   {
    "duration": 20,
    "start_time": "2022-05-23T20:11:55.590Z"
   },
   {
    "duration": 18,
    "start_time": "2022-05-23T20:11:55.612Z"
   },
   {
    "duration": 9,
    "start_time": "2022-05-23T20:11:55.632Z"
   },
   {
    "duration": 610,
    "start_time": "2022-05-23T20:11:55.643Z"
   },
   {
    "duration": 11,
    "start_time": "2022-05-23T20:11:56.254Z"
   },
   {
    "duration": 7,
    "start_time": "2022-05-23T20:11:56.274Z"
   },
   {
    "duration": 12,
    "start_time": "2022-05-23T20:11:56.283Z"
   },
   {
    "duration": 50,
    "start_time": "2022-05-23T20:11:56.296Z"
   },
   {
    "duration": 194,
    "start_time": "2022-05-23T20:11:56.348Z"
   },
   {
    "duration": 15,
    "start_time": "2022-05-23T20:11:56.544Z"
   },
   {
    "duration": 90,
    "start_time": "2022-05-23T20:11:56.561Z"
   },
   {
    "duration": 32,
    "start_time": "2022-05-23T20:11:56.653Z"
   },
   {
    "duration": 13,
    "start_time": "2022-05-23T20:11:56.687Z"
   },
   {
    "duration": 189,
    "start_time": "2022-05-23T20:11:56.701Z"
   },
   {
    "duration": 22,
    "start_time": "2022-05-23T20:11:56.891Z"
   },
   {
    "duration": 16,
    "start_time": "2022-05-23T20:11:56.915Z"
   },
   {
    "duration": 178,
    "start_time": "2022-05-23T20:11:56.933Z"
   },
   {
    "duration": 10,
    "start_time": "2022-05-23T20:11:57.112Z"
   },
   {
    "duration": 416,
    "start_time": "2022-05-23T20:11:57.123Z"
   },
   {
    "duration": 13,
    "start_time": "2022-05-23T20:11:57.541Z"
   },
   {
    "duration": 177,
    "start_time": "2022-05-23T20:11:57.555Z"
   },
   {
    "duration": 51,
    "start_time": "2022-05-23T20:11:57.734Z"
   },
   {
    "duration": 16,
    "start_time": "2022-05-23T20:11:57.786Z"
   },
   {
    "duration": 207,
    "start_time": "2022-05-23T20:11:57.804Z"
   },
   {
    "duration": 5317,
    "start_time": "2022-05-23T20:11:58.013Z"
   },
   {
    "duration": 31,
    "start_time": "2022-05-23T20:12:03.332Z"
   },
   {
    "duration": 34,
    "start_time": "2022-05-23T20:12:03.377Z"
   },
   {
    "duration": 5,
    "start_time": "2022-05-23T20:12:03.412Z"
   },
   {
    "duration": 15,
    "start_time": "2022-05-23T20:12:03.418Z"
   },
   {
    "duration": 17,
    "start_time": "2022-05-23T20:12:03.434Z"
   },
   {
    "duration": 26,
    "start_time": "2022-05-23T20:12:03.453Z"
   },
   {
    "duration": 12,
    "start_time": "2022-05-23T20:12:03.480Z"
   },
   {
    "duration": 9,
    "start_time": "2022-05-23T20:12:34.346Z"
   },
   {
    "duration": 17,
    "start_time": "2022-05-23T20:12:43.386Z"
   },
   {
    "duration": 17,
    "start_time": "2022-05-23T20:16:45.432Z"
   },
   {
    "duration": 18,
    "start_time": "2022-05-23T20:18:32.756Z"
   },
   {
    "duration": 15,
    "start_time": "2022-05-23T20:19:13.943Z"
   },
   {
    "duration": 15,
    "start_time": "2022-05-23T20:19:17.072Z"
   },
   {
    "duration": 21,
    "start_time": "2022-05-23T20:19:44.144Z"
   },
   {
    "duration": 25,
    "start_time": "2022-05-23T20:19:51.755Z"
   },
   {
    "duration": 13,
    "start_time": "2022-05-23T20:22:55.867Z"
   },
   {
    "duration": 22,
    "start_time": "2022-05-23T20:23:03.396Z"
   },
   {
    "duration": 6,
    "start_time": "2022-05-23T20:24:32.822Z"
   },
   {
    "duration": 18,
    "start_time": "2022-05-23T20:24:39.189Z"
   },
   {
    "duration": 19,
    "start_time": "2022-05-23T20:25:22.342Z"
   },
   {
    "duration": 50,
    "start_time": "2022-05-23T20:27:15.393Z"
   },
   {
    "duration": 7,
    "start_time": "2022-05-23T20:28:39.979Z"
   },
   {
    "duration": 3,
    "start_time": "2022-05-23T20:33:38.548Z"
   },
   {
    "duration": 114,
    "start_time": "2022-05-23T20:42:08.840Z"
   },
   {
    "duration": 35,
    "start_time": "2022-05-23T20:42:45.769Z"
   },
   {
    "duration": 19,
    "start_time": "2022-05-23T20:42:51.844Z"
   },
   {
    "duration": 518,
    "start_time": "2022-05-23T20:43:22.893Z"
   },
   {
    "duration": 10,
    "start_time": "2022-05-23T20:43:37.297Z"
   },
   {
    "duration": 12,
    "start_time": "2022-05-23T20:43:45.759Z"
   },
   {
    "duration": 457,
    "start_time": "2022-05-23T20:44:25.611Z"
   },
   {
    "duration": 80,
    "start_time": "2022-05-23T20:44:30.012Z"
   },
   {
    "duration": 503,
    "start_time": "2022-05-23T20:44:41.020Z"
   },
   {
    "duration": 11,
    "start_time": "2022-05-23T20:44:50.891Z"
   },
   {
    "duration": 13,
    "start_time": "2022-05-23T20:45:42.885Z"
   },
   {
    "duration": 13,
    "start_time": "2022-05-23T20:50:13.987Z"
   },
   {
    "duration": 4,
    "start_time": "2022-05-23T20:54:00.368Z"
   },
   {
    "duration": 4,
    "start_time": "2022-05-23T20:54:43.296Z"
   },
   {
    "duration": 4,
    "start_time": "2022-05-23T20:54:50.080Z"
   },
   {
    "duration": 9,
    "start_time": "2022-05-23T20:55:06.864Z"
   },
   {
    "duration": 4,
    "start_time": "2022-05-23T20:55:10.944Z"
   },
   {
    "duration": 3,
    "start_time": "2022-05-23T20:57:38.364Z"
   },
   {
    "duration": 5,
    "start_time": "2022-05-23T20:57:45.187Z"
   },
   {
    "duration": 3,
    "start_time": "2022-05-23T20:58:05.111Z"
   },
   {
    "duration": 6,
    "start_time": "2022-05-23T20:58:12.412Z"
   },
   {
    "duration": 5,
    "start_time": "2022-05-23T20:58:22.692Z"
   },
   {
    "duration": 3,
    "start_time": "2022-05-23T20:59:14.654Z"
   },
   {
    "duration": 5,
    "start_time": "2022-05-23T20:59:35.999Z"
   },
   {
    "duration": 3,
    "start_time": "2022-05-23T20:59:48.242Z"
   },
   {
    "duration": 5,
    "start_time": "2022-05-23T21:00:05.855Z"
   },
   {
    "duration": 10,
    "start_time": "2022-05-23T21:00:47.714Z"
   },
   {
    "duration": 5,
    "start_time": "2022-05-23T21:00:55.769Z"
   },
   {
    "duration": 11,
    "start_time": "2022-05-23T21:01:52.614Z"
   },
   {
    "duration": 4,
    "start_time": "2022-05-23T21:02:35.670Z"
   },
   {
    "duration": 6,
    "start_time": "2022-05-23T21:02:49.945Z"
   },
   {
    "duration": 6,
    "start_time": "2022-05-23T21:03:43.126Z"
   },
   {
    "duration": 15,
    "start_time": "2022-05-23T21:04:01.270Z"
   },
   {
    "duration": 4,
    "start_time": "2022-05-23T21:04:08.050Z"
   },
   {
    "duration": 5,
    "start_time": "2022-05-23T21:04:20.564Z"
   },
   {
    "duration": 4,
    "start_time": "2022-05-23T21:04:23.232Z"
   },
   {
    "duration": 14,
    "start_time": "2022-05-23T21:04:23.870Z"
   },
   {
    "duration": 4,
    "start_time": "2022-05-23T21:04:37.663Z"
   },
   {
    "duration": 5,
    "start_time": "2022-05-23T21:05:00.616Z"
   },
   {
    "duration": 5,
    "start_time": "2022-05-23T21:05:12.853Z"
   },
   {
    "duration": 4,
    "start_time": "2022-05-23T21:05:30.457Z"
   },
   {
    "duration": 4,
    "start_time": "2022-05-23T21:05:44.201Z"
   },
   {
    "duration": 4,
    "start_time": "2022-05-23T21:05:58.721Z"
   },
   {
    "duration": 4,
    "start_time": "2022-05-23T21:06:37.552Z"
   },
   {
    "duration": 5,
    "start_time": "2022-05-23T21:06:51.184Z"
   },
   {
    "duration": 4,
    "start_time": "2022-05-23T21:07:05.818Z"
   },
   {
    "duration": 5,
    "start_time": "2022-05-23T21:07:13.907Z"
   },
   {
    "duration": 4,
    "start_time": "2022-05-23T21:07:43.389Z"
   },
   {
    "duration": 4,
    "start_time": "2022-05-23T21:07:46.268Z"
   },
   {
    "duration": 1337,
    "start_time": "2022-05-24T04:51:53.101Z"
   },
   {
    "duration": 154,
    "start_time": "2022-05-24T04:51:54.441Z"
   },
   {
    "duration": 5,
    "start_time": "2022-05-24T04:51:54.599Z"
   },
   {
    "duration": 21,
    "start_time": "2022-05-24T04:51:54.606Z"
   },
   {
    "duration": 19,
    "start_time": "2022-05-24T04:51:54.629Z"
   },
   {
    "duration": 12,
    "start_time": "2022-05-24T04:51:54.650Z"
   },
   {
    "duration": 22,
    "start_time": "2022-05-24T04:51:54.684Z"
   },
   {
    "duration": 53,
    "start_time": "2022-05-24T04:51:54.708Z"
   },
   {
    "duration": 7,
    "start_time": "2022-05-24T04:51:54.763Z"
   },
   {
    "duration": 45,
    "start_time": "2022-05-24T04:51:54.771Z"
   },
   {
    "duration": 140,
    "start_time": "2022-05-24T04:51:54.817Z"
   },
   {
    "duration": 13,
    "start_time": "2022-05-24T04:51:54.959Z"
   },
   {
    "duration": 160,
    "start_time": "2022-05-24T04:51:54.973Z"
   },
   {
    "duration": 21,
    "start_time": "2022-05-24T04:51:55.136Z"
   },
   {
    "duration": 48,
    "start_time": "2022-05-24T04:51:55.159Z"
   },
   {
    "duration": 20,
    "start_time": "2022-05-24T04:51:55.209Z"
   },
   {
    "duration": 16,
    "start_time": "2022-05-24T04:51:55.231Z"
   },
   {
    "duration": 633,
    "start_time": "2022-05-24T04:51:55.249Z"
   },
   {
    "duration": 11,
    "start_time": "2022-05-24T04:51:55.895Z"
   },
   {
    "duration": 21,
    "start_time": "2022-05-24T04:51:55.908Z"
   },
   {
    "duration": 18,
    "start_time": "2022-05-24T04:51:55.930Z"
   },
   {
    "duration": 52,
    "start_time": "2022-05-24T04:51:55.950Z"
   },
   {
    "duration": 176,
    "start_time": "2022-05-24T04:51:56.003Z"
   },
   {
    "duration": 20,
    "start_time": "2022-05-24T04:51:56.183Z"
   },
   {
    "duration": 92,
    "start_time": "2022-05-24T04:51:56.204Z"
   },
   {
    "duration": 24,
    "start_time": "2022-05-24T04:51:56.297Z"
   },
   {
    "duration": 12,
    "start_time": "2022-05-24T04:51:56.323Z"
   },
   {
    "duration": 195,
    "start_time": "2022-05-24T04:51:56.336Z"
   },
   {
    "duration": 25,
    "start_time": "2022-05-24T04:51:56.532Z"
   },
   {
    "duration": 39,
    "start_time": "2022-05-24T04:51:56.559Z"
   },
   {
    "duration": 172,
    "start_time": "2022-05-24T04:51:56.599Z"
   },
   {
    "duration": 20,
    "start_time": "2022-05-24T04:51:56.773Z"
   },
   {
    "duration": 404,
    "start_time": "2022-05-24T04:51:56.798Z"
   },
   {
    "duration": 13,
    "start_time": "2022-05-24T04:51:57.205Z"
   },
   {
    "duration": 183,
    "start_time": "2022-05-24T04:51:57.221Z"
   },
   {
    "duration": 33,
    "start_time": "2022-05-24T04:51:57.407Z"
   },
   {
    "duration": 50,
    "start_time": "2022-05-24T04:51:57.442Z"
   },
   {
    "duration": 196,
    "start_time": "2022-05-24T04:51:57.495Z"
   },
   {
    "duration": 5223,
    "start_time": "2022-05-24T04:51:57.699Z"
   },
   {
    "duration": 34,
    "start_time": "2022-05-24T04:52:02.923Z"
   },
   {
    "duration": 63,
    "start_time": "2022-05-24T04:52:02.962Z"
   },
   {
    "duration": 5,
    "start_time": "2022-05-24T04:52:03.026Z"
   },
   {
    "duration": 27,
    "start_time": "2022-05-24T04:52:03.033Z"
   },
   {
    "duration": 17,
    "start_time": "2022-05-24T04:52:03.062Z"
   },
   {
    "duration": 18,
    "start_time": "2022-05-24T04:52:03.081Z"
   },
   {
    "duration": 17,
    "start_time": "2022-05-24T04:52:03.103Z"
   },
   {
    "duration": 4,
    "start_time": "2022-05-24T04:52:03.122Z"
   },
   {
    "duration": 10,
    "start_time": "2022-05-24T04:52:03.127Z"
   },
   {
    "duration": 4,
    "start_time": "2022-05-24T04:52:03.138Z"
   },
   {
    "duration": 66,
    "start_time": "2022-05-24T04:52:03.143Z"
   },
   {
    "duration": 133,
    "start_time": "2022-05-24T04:52:03.212Z"
   },
   {
    "duration": 0,
    "start_time": "2022-05-24T04:52:03.346Z"
   },
   {
    "duration": 0,
    "start_time": "2022-05-24T04:52:03.347Z"
   },
   {
    "duration": 0,
    "start_time": "2022-05-24T04:52:03.348Z"
   },
   {
    "duration": 0,
    "start_time": "2022-05-24T04:52:03.349Z"
   },
   {
    "duration": 14,
    "start_time": "2022-05-24T04:52:56.500Z"
   },
   {
    "duration": 8,
    "start_time": "2022-05-24T04:53:05.631Z"
   },
   {
    "duration": 5,
    "start_time": "2022-05-24T04:53:36.709Z"
   },
   {
    "duration": 4,
    "start_time": "2022-05-24T04:53:38.160Z"
   },
   {
    "duration": 4,
    "start_time": "2022-05-24T04:54:12.248Z"
   },
   {
    "duration": 5,
    "start_time": "2022-05-24T04:54:27.540Z"
   },
   {
    "duration": 6,
    "start_time": "2022-05-24T04:54:32.900Z"
   },
   {
    "duration": 5,
    "start_time": "2022-05-24T04:54:35.468Z"
   },
   {
    "duration": 12,
    "start_time": "2022-05-24T04:56:35.221Z"
   },
   {
    "duration": 4,
    "start_time": "2022-05-24T04:57:05.627Z"
   },
   {
    "duration": 4,
    "start_time": "2022-05-24T04:57:56.275Z"
   },
   {
    "duration": 5,
    "start_time": "2022-05-24T04:58:29.269Z"
   },
   {
    "duration": 7,
    "start_time": "2022-05-24T04:58:46.001Z"
   },
   {
    "duration": 5,
    "start_time": "2022-05-24T04:59:03.005Z"
   },
   {
    "duration": 6,
    "start_time": "2022-05-24T04:59:20.238Z"
   },
   {
    "duration": 10,
    "start_time": "2022-05-24T05:00:01.182Z"
   },
   {
    "duration": 6,
    "start_time": "2022-05-24T05:00:10.013Z"
   },
   {
    "duration": 7,
    "start_time": "2022-05-24T05:00:25.955Z"
   },
   {
    "duration": 8,
    "start_time": "2022-05-24T05:00:39.887Z"
   },
   {
    "duration": 6,
    "start_time": "2022-05-24T05:01:07.566Z"
   },
   {
    "duration": 6,
    "start_time": "2022-05-24T05:01:11.942Z"
   },
   {
    "duration": 5,
    "start_time": "2022-05-24T05:03:06.563Z"
   },
   {
    "duration": 4,
    "start_time": "2022-05-24T05:03:19.171Z"
   },
   {
    "duration": 6,
    "start_time": "2022-05-24T05:04:29.140Z"
   },
   {
    "duration": 6,
    "start_time": "2022-05-24T05:05:01.149Z"
   },
   {
    "duration": 8,
    "start_time": "2022-05-24T05:05:08.678Z"
   },
   {
    "duration": 19,
    "start_time": "2022-05-24T05:05:18.526Z"
   },
   {
    "duration": 35,
    "start_time": "2022-05-24T05:09:39.915Z"
   },
   {
    "duration": 29,
    "start_time": "2022-05-24T05:09:47.503Z"
   },
   {
    "duration": 29,
    "start_time": "2022-05-24T05:09:58.550Z"
   },
   {
    "duration": 5,
    "start_time": "2022-05-24T05:10:01.256Z"
   },
   {
    "duration": 139,
    "start_time": "2022-05-24T05:10:57.671Z"
   },
   {
    "duration": 135,
    "start_time": "2022-05-24T05:11:06.591Z"
   },
   {
    "duration": 176,
    "start_time": "2022-05-24T05:11:09.680Z"
   },
   {
    "duration": 140,
    "start_time": "2022-05-24T05:11:19.453Z"
   },
   {
    "duration": 14,
    "start_time": "2022-05-24T05:11:37.048Z"
   },
   {
    "duration": 26,
    "start_time": "2022-05-24T05:12:17.155Z"
   },
   {
    "duration": 153,
    "start_time": "2022-05-24T05:15:05.707Z"
   },
   {
    "duration": 1120,
    "start_time": "2022-05-24T05:19:22.714Z"
   },
   {
    "duration": 89,
    "start_time": "2022-05-24T05:19:23.837Z"
   },
   {
    "duration": 5,
    "start_time": "2022-05-24T05:19:23.927Z"
   },
   {
    "duration": 39,
    "start_time": "2022-05-24T05:19:23.934Z"
   },
   {
    "duration": 20,
    "start_time": "2022-05-24T05:19:23.974Z"
   },
   {
    "duration": 13,
    "start_time": "2022-05-24T05:19:23.995Z"
   },
   {
    "duration": 29,
    "start_time": "2022-05-24T05:19:24.009Z"
   },
   {
    "duration": 50,
    "start_time": "2022-05-24T05:19:24.040Z"
   },
   {
    "duration": 9,
    "start_time": "2022-05-24T05:19:24.091Z"
   },
   {
    "duration": 40,
    "start_time": "2022-05-24T05:19:24.102Z"
   },
   {
    "duration": 148,
    "start_time": "2022-05-24T05:19:24.143Z"
   },
   {
    "duration": 14,
    "start_time": "2022-05-24T05:19:24.292Z"
   },
   {
    "duration": 148,
    "start_time": "2022-05-24T05:19:24.308Z"
   },
   {
    "duration": 29,
    "start_time": "2022-05-24T05:19:24.458Z"
   },
   {
    "duration": 20,
    "start_time": "2022-05-24T05:19:24.489Z"
   },
   {
    "duration": 21,
    "start_time": "2022-05-24T05:19:24.511Z"
   },
   {
    "duration": 10,
    "start_time": "2022-05-24T05:19:24.535Z"
   },
   {
    "duration": 627,
    "start_time": "2022-05-24T05:19:24.548Z"
   },
   {
    "duration": 11,
    "start_time": "2022-05-24T05:19:25.183Z"
   },
   {
    "duration": 27,
    "start_time": "2022-05-24T05:19:25.195Z"
   },
   {
    "duration": 14,
    "start_time": "2022-05-24T05:19:25.223Z"
   },
   {
    "duration": 45,
    "start_time": "2022-05-24T05:19:25.239Z"
   },
   {
    "duration": 171,
    "start_time": "2022-05-24T05:19:25.285Z"
   },
   {
    "duration": 12,
    "start_time": "2022-05-24T05:19:25.458Z"
   },
   {
    "duration": 86,
    "start_time": "2022-05-24T05:19:25.471Z"
   },
   {
    "duration": 40,
    "start_time": "2022-05-24T05:19:25.558Z"
   },
   {
    "duration": 13,
    "start_time": "2022-05-24T05:19:25.599Z"
   },
   {
    "duration": 183,
    "start_time": "2022-05-24T05:19:25.615Z"
   },
   {
    "duration": 21,
    "start_time": "2022-05-24T05:19:25.800Z"
   },
   {
    "duration": 13,
    "start_time": "2022-05-24T05:19:25.822Z"
   },
   {
    "duration": 154,
    "start_time": "2022-05-24T05:19:25.837Z"
   },
   {
    "duration": 10,
    "start_time": "2022-05-24T05:19:25.993Z"
   },
   {
    "duration": 425,
    "start_time": "2022-05-24T05:19:26.005Z"
   },
   {
    "duration": 10,
    "start_time": "2022-05-24T05:19:26.432Z"
   },
   {
    "duration": 169,
    "start_time": "2022-05-24T05:19:26.444Z"
   },
   {
    "duration": 131,
    "start_time": "2022-05-24T05:19:26.614Z"
   },
   {
    "duration": 17,
    "start_time": "2022-05-24T05:19:26.747Z"
   },
   {
    "duration": 209,
    "start_time": "2022-05-24T05:19:26.766Z"
   },
   {
    "duration": 4371,
    "start_time": "2022-05-24T05:19:26.977Z"
   },
   {
    "duration": 38,
    "start_time": "2022-05-24T05:19:31.350Z"
   },
   {
    "duration": 35,
    "start_time": "2022-05-24T05:19:31.390Z"
   },
   {
    "duration": 13,
    "start_time": "2022-05-24T05:19:31.427Z"
   },
   {
    "duration": 34,
    "start_time": "2022-05-24T05:19:31.441Z"
   },
   {
    "duration": 35,
    "start_time": "2022-05-24T05:19:31.478Z"
   },
   {
    "duration": 12,
    "start_time": "2022-05-24T05:19:31.514Z"
   },
   {
    "duration": 21,
    "start_time": "2022-05-24T05:19:31.528Z"
   },
   {
    "duration": 19,
    "start_time": "2022-05-24T05:19:31.551Z"
   },
   {
    "duration": 23,
    "start_time": "2022-05-24T05:19:31.571Z"
   },
   {
    "duration": 5,
    "start_time": "2022-05-24T05:23:11.814Z"
   },
   {
    "duration": 5,
    "start_time": "2022-05-24T05:27:05.555Z"
   },
   {
    "duration": 27,
    "start_time": "2022-05-24T05:28:25.301Z"
   },
   {
    "duration": 21,
    "start_time": "2022-05-24T05:29:05.518Z"
   },
   {
    "duration": 25,
    "start_time": "2022-05-24T05:29:30.281Z"
   },
   {
    "duration": 149,
    "start_time": "2022-05-24T05:29:43.694Z"
   },
   {
    "duration": 14,
    "start_time": "2022-05-24T05:29:58.791Z"
   },
   {
    "duration": 139,
    "start_time": "2022-05-24T05:30:06.279Z"
   },
   {
    "duration": 1139,
    "start_time": "2022-05-24T05:30:23.083Z"
   },
   {
    "duration": 86,
    "start_time": "2022-05-24T05:30:29.120Z"
   },
   {
    "duration": 102,
    "start_time": "2022-05-24T05:30:35.231Z"
   },
   {
    "duration": 4,
    "start_time": "2022-05-24T05:30:52.921Z"
   },
   {
    "duration": 7,
    "start_time": "2022-05-24T05:30:59.232Z"
   },
   {
    "duration": 11,
    "start_time": "2022-05-24T05:31:14.505Z"
   },
   {
    "duration": 88,
    "start_time": "2022-05-24T05:32:38.907Z"
   },
   {
    "duration": 5,
    "start_time": "2022-05-24T05:32:55.403Z"
   },
   {
    "duration": 6,
    "start_time": "2022-05-24T05:33:02.204Z"
   },
   {
    "duration": 24,
    "start_time": "2022-05-24T05:33:07.178Z"
   },
   {
    "duration": 18,
    "start_time": "2022-05-24T05:33:13.086Z"
   },
   {
    "duration": 21,
    "start_time": "2022-05-24T05:33:22.011Z"
   },
   {
    "duration": 15,
    "start_time": "2022-05-24T05:33:27.310Z"
   },
   {
    "duration": 10,
    "start_time": "2022-05-24T05:34:10.455Z"
   },
   {
    "duration": 54,
    "start_time": "2022-05-24T05:34:23.757Z"
   },
   {
    "duration": 10,
    "start_time": "2022-05-24T05:34:24.429Z"
   },
   {
    "duration": 299,
    "start_time": "2022-05-24T05:34:29.825Z"
   },
   {
    "duration": 143,
    "start_time": "2022-05-24T05:34:43.798Z"
   },
   {
    "duration": 15,
    "start_time": "2022-05-24T05:34:48.637Z"
   },
   {
    "duration": 150,
    "start_time": "2022-05-24T05:34:51.589Z"
   },
   {
    "duration": 20,
    "start_time": "2022-05-24T05:34:54.056Z"
   },
   {
    "duration": 27,
    "start_time": "2022-05-24T05:34:59.706Z"
   },
   {
    "duration": 9,
    "start_time": "2022-05-24T05:35:02.614Z"
   },
   {
    "duration": 1128,
    "start_time": "2022-05-24T05:42:39.741Z"
   },
   {
    "duration": 87,
    "start_time": "2022-05-24T05:42:40.871Z"
   },
   {
    "duration": 4,
    "start_time": "2022-05-24T05:42:40.959Z"
   },
   {
    "duration": 11,
    "start_time": "2022-05-24T05:42:40.964Z"
   },
   {
    "duration": 30,
    "start_time": "2022-05-24T05:42:40.977Z"
   },
   {
    "duration": 25,
    "start_time": "2022-05-24T05:42:41.009Z"
   },
   {
    "duration": 21,
    "start_time": "2022-05-24T05:42:41.035Z"
   },
   {
    "duration": 119,
    "start_time": "2022-05-24T05:42:41.058Z"
   },
   {
    "duration": 0,
    "start_time": "2022-05-24T05:42:41.183Z"
   },
   {
    "duration": 0,
    "start_time": "2022-05-24T05:42:41.184Z"
   },
   {
    "duration": 0,
    "start_time": "2022-05-24T05:42:41.186Z"
   },
   {
    "duration": 0,
    "start_time": "2022-05-24T05:42:41.187Z"
   },
   {
    "duration": 1,
    "start_time": "2022-05-24T05:42:41.187Z"
   },
   {
    "duration": 0,
    "start_time": "2022-05-24T05:42:41.188Z"
   },
   {
    "duration": 0,
    "start_time": "2022-05-24T05:42:41.189Z"
   },
   {
    "duration": 0,
    "start_time": "2022-05-24T05:42:41.190Z"
   },
   {
    "duration": 0,
    "start_time": "2022-05-24T05:42:41.191Z"
   },
   {
    "duration": 0,
    "start_time": "2022-05-24T05:42:41.193Z"
   },
   {
    "duration": 0,
    "start_time": "2022-05-24T05:42:41.193Z"
   },
   {
    "duration": 0,
    "start_time": "2022-05-24T05:42:41.195Z"
   },
   {
    "duration": 0,
    "start_time": "2022-05-24T05:42:41.195Z"
   },
   {
    "duration": 0,
    "start_time": "2022-05-24T05:42:41.197Z"
   },
   {
    "duration": 0,
    "start_time": "2022-05-24T05:42:41.198Z"
   },
   {
    "duration": 0,
    "start_time": "2022-05-24T05:42:41.199Z"
   },
   {
    "duration": 0,
    "start_time": "2022-05-24T05:42:41.199Z"
   },
   {
    "duration": 0,
    "start_time": "2022-05-24T05:42:41.200Z"
   },
   {
    "duration": 0,
    "start_time": "2022-05-24T05:42:41.201Z"
   },
   {
    "duration": 0,
    "start_time": "2022-05-24T05:42:41.202Z"
   },
   {
    "duration": 0,
    "start_time": "2022-05-24T05:42:41.203Z"
   },
   {
    "duration": 0,
    "start_time": "2022-05-24T05:42:41.204Z"
   },
   {
    "duration": 0,
    "start_time": "2022-05-24T05:42:41.205Z"
   },
   {
    "duration": 0,
    "start_time": "2022-05-24T05:42:41.206Z"
   },
   {
    "duration": 0,
    "start_time": "2022-05-24T05:42:41.207Z"
   },
   {
    "duration": 0,
    "start_time": "2022-05-24T05:42:41.208Z"
   },
   {
    "duration": 0,
    "start_time": "2022-05-24T05:42:41.209Z"
   },
   {
    "duration": 0,
    "start_time": "2022-05-24T05:42:41.210Z"
   },
   {
    "duration": 0,
    "start_time": "2022-05-24T05:42:41.211Z"
   },
   {
    "duration": 0,
    "start_time": "2022-05-24T05:42:41.212Z"
   },
   {
    "duration": 0,
    "start_time": "2022-05-24T05:42:41.213Z"
   },
   {
    "duration": 0,
    "start_time": "2022-05-24T05:42:41.214Z"
   },
   {
    "duration": 0,
    "start_time": "2022-05-24T05:42:41.214Z"
   },
   {
    "duration": 0,
    "start_time": "2022-05-24T05:42:41.216Z"
   },
   {
    "duration": 0,
    "start_time": "2022-05-24T05:42:41.217Z"
   },
   {
    "duration": 0,
    "start_time": "2022-05-24T05:42:41.217Z"
   },
   {
    "duration": 1,
    "start_time": "2022-05-24T05:42:41.218Z"
   },
   {
    "duration": 0,
    "start_time": "2022-05-24T05:42:41.220Z"
   },
   {
    "duration": 0,
    "start_time": "2022-05-24T05:42:41.220Z"
   },
   {
    "duration": 0,
    "start_time": "2022-05-24T05:42:41.221Z"
   },
   {
    "duration": 0,
    "start_time": "2022-05-24T05:42:41.222Z"
   },
   {
    "duration": 14,
    "start_time": "2022-05-24T05:43:00.179Z"
   },
   {
    "duration": 1126,
    "start_time": "2022-05-24T05:43:23.205Z"
   },
   {
    "duration": 87,
    "start_time": "2022-05-24T05:43:24.333Z"
   },
   {
    "duration": 3,
    "start_time": "2022-05-24T05:43:24.422Z"
   },
   {
    "duration": 8,
    "start_time": "2022-05-24T05:43:24.427Z"
   },
   {
    "duration": 27,
    "start_time": "2022-05-24T05:43:24.437Z"
   },
   {
    "duration": 35,
    "start_time": "2022-05-24T05:43:24.465Z"
   },
   {
    "duration": 21,
    "start_time": "2022-05-24T05:43:24.501Z"
   },
   {
    "duration": 13,
    "start_time": "2022-05-24T05:43:24.524Z"
   },
   {
    "duration": 16,
    "start_time": "2022-05-24T05:43:24.539Z"
   },
   {
    "duration": 71,
    "start_time": "2022-05-24T05:43:24.557Z"
   },
   {
    "duration": 8,
    "start_time": "2022-05-24T05:43:24.630Z"
   },
   {
    "duration": 28,
    "start_time": "2022-05-24T05:43:24.640Z"
   },
   {
    "duration": 146,
    "start_time": "2022-05-24T05:43:24.684Z"
   },
   {
    "duration": 15,
    "start_time": "2022-05-24T05:43:24.833Z"
   },
   {
    "duration": 147,
    "start_time": "2022-05-24T05:43:24.850Z"
   },
   {
    "duration": 20,
    "start_time": "2022-05-24T05:43:24.999Z"
   },
   {
    "duration": 21,
    "start_time": "2022-05-24T05:43:25.021Z"
   },
   {
    "duration": 9,
    "start_time": "2022-05-24T05:43:25.044Z"
   },
   {
    "duration": 613,
    "start_time": "2022-05-24T05:43:25.054Z"
   },
   {
    "duration": 16,
    "start_time": "2022-05-24T05:43:25.668Z"
   },
   {
    "duration": 12,
    "start_time": "2022-05-24T05:43:25.686Z"
   },
   {
    "duration": 11,
    "start_time": "2022-05-24T05:43:25.700Z"
   },
   {
    "duration": 46,
    "start_time": "2022-05-24T05:43:25.712Z"
   },
   {
    "duration": 191,
    "start_time": "2022-05-24T05:43:25.760Z"
   },
   {
    "duration": 12,
    "start_time": "2022-05-24T05:43:25.953Z"
   },
   {
    "duration": 103,
    "start_time": "2022-05-24T05:43:25.966Z"
   },
   {
    "duration": 27,
    "start_time": "2022-05-24T05:43:26.070Z"
   },
   {
    "duration": 11,
    "start_time": "2022-05-24T05:43:26.099Z"
   },
   {
    "duration": 190,
    "start_time": "2022-05-24T05:43:26.111Z"
   },
   {
    "duration": 21,
    "start_time": "2022-05-24T05:43:26.303Z"
   },
   {
    "duration": 12,
    "start_time": "2022-05-24T05:43:26.326Z"
   },
   {
    "duration": 162,
    "start_time": "2022-05-24T05:43:26.340Z"
   },
   {
    "duration": 10,
    "start_time": "2022-05-24T05:43:26.504Z"
   },
   {
    "duration": 442,
    "start_time": "2022-05-24T05:43:26.516Z"
   },
   {
    "duration": 25,
    "start_time": "2022-05-24T05:43:26.959Z"
   },
   {
    "duration": 170,
    "start_time": "2022-05-24T05:43:26.985Z"
   },
   {
    "duration": 119,
    "start_time": "2022-05-24T05:43:27.157Z"
   },
   {
    "duration": 18,
    "start_time": "2022-05-24T05:43:27.278Z"
   },
   {
    "duration": 208,
    "start_time": "2022-05-24T05:43:27.298Z"
   },
   {
    "duration": 4271,
    "start_time": "2022-05-24T05:43:27.508Z"
   },
   {
    "duration": 35,
    "start_time": "2022-05-24T05:43:31.785Z"
   },
   {
    "duration": 43,
    "start_time": "2022-05-24T05:43:31.821Z"
   },
   {
    "duration": 23,
    "start_time": "2022-05-24T05:43:31.865Z"
   },
   {
    "duration": 27,
    "start_time": "2022-05-24T05:43:31.890Z"
   },
   {
    "duration": 16,
    "start_time": "2022-05-24T05:43:31.919Z"
   },
   {
    "duration": 18,
    "start_time": "2022-05-24T05:43:31.937Z"
   },
   {
    "duration": 26,
    "start_time": "2022-05-24T05:43:31.958Z"
   },
   {
    "duration": 6,
    "start_time": "2022-05-24T05:43:31.986Z"
   },
   {
    "duration": 22,
    "start_time": "2022-05-24T05:43:31.993Z"
   },
   {
    "duration": 167,
    "start_time": "2022-05-24T05:45:57.443Z"
   },
   {
    "duration": 268,
    "start_time": "2022-05-24T05:46:07.063Z"
   },
   {
    "duration": 169,
    "start_time": "2022-05-24T05:46:12.175Z"
   },
   {
    "duration": 190,
    "start_time": "2022-05-24T05:46:36.036Z"
   },
   {
    "duration": 251,
    "start_time": "2022-05-24T05:46:58.787Z"
   },
   {
    "duration": 352,
    "start_time": "2022-05-24T05:47:17.793Z"
   },
   {
    "duration": 9,
    "start_time": "2022-05-24T06:09:39.403Z"
   },
   {
    "duration": 6,
    "start_time": "2022-05-24T06:10:43.089Z"
   },
   {
    "duration": 108,
    "start_time": "2022-05-24T06:21:32.204Z"
   },
   {
    "duration": 1635,
    "start_time": "2022-05-24T06:21:54.923Z"
   },
   {
    "duration": 2088,
    "start_time": "2022-05-24T12:10:36.288Z"
   },
   {
    "duration": 154,
    "start_time": "2022-05-24T12:10:38.377Z"
   },
   {
    "duration": 4,
    "start_time": "2022-05-24T12:10:38.532Z"
   },
   {
    "duration": 6,
    "start_time": "2022-05-24T12:10:38.928Z"
   },
   {
    "duration": 45,
    "start_time": "2022-05-24T12:10:39.406Z"
   },
   {
    "duration": 24,
    "start_time": "2022-05-24T12:10:39.758Z"
   },
   {
    "duration": 20,
    "start_time": "2022-05-24T12:10:40.107Z"
   },
   {
    "duration": 15,
    "start_time": "2022-05-24T12:10:40.437Z"
   },
   {
    "duration": 17,
    "start_time": "2022-05-24T12:10:40.850Z"
   },
   {
    "duration": 57,
    "start_time": "2022-05-24T12:10:41.193Z"
   },
   {
    "duration": 10,
    "start_time": "2022-05-24T12:10:41.357Z"
   },
   {
    "duration": 30,
    "start_time": "2022-05-24T12:10:44.214Z"
   },
   {
    "duration": 160,
    "start_time": "2022-05-24T12:10:45.726Z"
   },
   {
    "duration": 23,
    "start_time": "2022-05-24T12:10:46.895Z"
   },
   {
    "duration": 174,
    "start_time": "2022-05-24T12:10:47.960Z"
   },
   {
    "duration": 36,
    "start_time": "2022-05-24T12:10:48.556Z"
   },
   {
    "duration": 34,
    "start_time": "2022-05-24T12:10:49.455Z"
   },
   {
    "duration": 13,
    "start_time": "2022-05-24T12:10:50.402Z"
   },
   {
    "duration": 681,
    "start_time": "2022-05-24T12:10:51.078Z"
   },
   {
    "duration": 14,
    "start_time": "2022-05-24T12:10:55.398Z"
   },
   {
    "duration": 8,
    "start_time": "2022-05-24T12:11:00.156Z"
   },
   {
    "duration": 23,
    "start_time": "2022-05-24T12:11:00.791Z"
   },
   {
    "duration": 58,
    "start_time": "2022-05-24T12:11:04.810Z"
   },
   {
    "duration": 219,
    "start_time": "2022-05-24T12:11:07.815Z"
   },
   {
    "duration": 13,
    "start_time": "2022-05-24T12:11:13.179Z"
   },
   {
    "duration": 86,
    "start_time": "2022-05-24T12:11:15.598Z"
   },
   {
    "duration": 30,
    "start_time": "2022-05-24T12:11:18.683Z"
   },
   {
    "duration": 14,
    "start_time": "2022-05-24T12:11:50.803Z"
   },
   {
    "duration": 202,
    "start_time": "2022-05-24T12:12:10.783Z"
   },
   {
    "duration": 203,
    "start_time": "2022-05-24T12:12:18.585Z"
   },
   {
    "duration": 12,
    "start_time": "2022-05-24T12:12:22.280Z"
   },
   {
    "duration": 38,
    "start_time": "2022-05-24T12:12:35.909Z"
   },
   {
    "duration": 18,
    "start_time": "2022-05-24T12:12:38.182Z"
   },
   {
    "duration": 169,
    "start_time": "2022-05-24T12:12:43.086Z"
   },
   {
    "duration": 15,
    "start_time": "2022-05-24T12:12:43.454Z"
   },
   {
    "duration": 5,
    "start_time": "2022-05-24T12:21:50.752Z"
   },
   {
    "duration": 5702,
    "start_time": "2022-05-24T12:22:13.054Z"
   },
   {
    "duration": 759,
    "start_time": "2022-05-24T12:22:23.331Z"
   },
   {
    "duration": 1726,
    "start_time": "2022-05-24T12:22:26.594Z"
   },
   {
    "duration": 6,
    "start_time": "2022-05-24T12:22:29.835Z"
   },
   {
    "duration": 1299,
    "start_time": "2022-05-24T12:51:16.506Z"
   },
   {
    "duration": 6,
    "start_time": "2022-05-24T12:51:17.909Z"
   },
   {
    "duration": 60,
    "start_time": "2022-05-24T13:17:30.006Z"
   },
   {
    "duration": 1319,
    "start_time": "2022-05-24T13:17:50.928Z"
   },
   {
    "duration": 146,
    "start_time": "2022-05-24T13:17:52.249Z"
   },
   {
    "duration": 4,
    "start_time": "2022-05-24T13:17:52.397Z"
   },
   {
    "duration": 9,
    "start_time": "2022-05-24T13:17:52.404Z"
   },
   {
    "duration": 32,
    "start_time": "2022-05-24T13:17:52.416Z"
   },
   {
    "duration": 20,
    "start_time": "2022-05-24T13:17:52.450Z"
   },
   {
    "duration": 21,
    "start_time": "2022-05-24T13:17:52.471Z"
   },
   {
    "duration": 14,
    "start_time": "2022-05-24T13:17:52.494Z"
   },
   {
    "duration": 44,
    "start_time": "2022-05-24T13:17:52.510Z"
   },
   {
    "duration": 58,
    "start_time": "2022-05-24T13:17:52.556Z"
   },
   {
    "duration": 28,
    "start_time": "2022-05-24T13:17:52.616Z"
   },
   {
    "duration": 30,
    "start_time": "2022-05-24T13:17:52.645Z"
   },
   {
    "duration": 179,
    "start_time": "2022-05-24T13:17:52.676Z"
   },
   {
    "duration": 16,
    "start_time": "2022-05-24T13:17:52.858Z"
   },
   {
    "duration": 168,
    "start_time": "2022-05-24T13:17:52.876Z"
   },
   {
    "duration": 21,
    "start_time": "2022-05-24T13:17:53.046Z"
   },
   {
    "duration": 21,
    "start_time": "2022-05-24T13:17:53.069Z"
   },
   {
    "duration": 11,
    "start_time": "2022-05-24T13:17:53.091Z"
   },
   {
    "duration": 661,
    "start_time": "2022-05-24T13:17:53.103Z"
   },
   {
    "duration": 12,
    "start_time": "2022-05-24T13:17:53.766Z"
   },
   {
    "duration": 14,
    "start_time": "2022-05-24T13:17:53.780Z"
   },
   {
    "duration": 14,
    "start_time": "2022-05-24T13:17:53.796Z"
   },
   {
    "duration": 70,
    "start_time": "2022-05-24T13:17:53.811Z"
   },
   {
    "duration": 199,
    "start_time": "2022-05-24T13:17:53.883Z"
   },
   {
    "duration": 12,
    "start_time": "2022-05-24T13:17:54.084Z"
   },
   {
    "duration": 111,
    "start_time": "2022-05-24T13:17:54.098Z"
   },
   {
    "duration": 41,
    "start_time": "2022-05-24T13:17:54.211Z"
   },
   {
    "duration": 14,
    "start_time": "2022-05-24T13:17:54.254Z"
   },
   {
    "duration": 209,
    "start_time": "2022-05-24T13:17:54.270Z"
   },
   {
    "duration": 23,
    "start_time": "2022-05-24T13:17:54.481Z"
   },
   {
    "duration": 13,
    "start_time": "2022-05-24T13:17:54.506Z"
   },
   {
    "duration": 157,
    "start_time": "2022-05-24T13:17:54.541Z"
   },
   {
    "duration": 12,
    "start_time": "2022-05-24T13:17:54.699Z"
   },
   {
    "duration": 440,
    "start_time": "2022-05-24T13:17:54.712Z"
   },
   {
    "duration": 14,
    "start_time": "2022-05-24T13:17:55.154Z"
   },
   {
    "duration": 193,
    "start_time": "2022-05-24T13:17:55.170Z"
   },
   {
    "duration": 138,
    "start_time": "2022-05-24T13:17:55.365Z"
   },
   {
    "duration": 21,
    "start_time": "2022-05-24T13:17:55.505Z"
   },
   {
    "duration": 17,
    "start_time": "2022-05-24T13:17:55.540Z"
   },
   {
    "duration": 298,
    "start_time": "2022-05-24T13:17:55.559Z"
   },
   {
    "duration": 4993,
    "start_time": "2022-05-24T13:17:55.861Z"
   },
   {
    "duration": 39,
    "start_time": "2022-05-24T13:18:00.856Z"
   },
   {
    "duration": 60,
    "start_time": "2022-05-24T13:18:00.897Z"
   },
   {
    "duration": 5,
    "start_time": "2022-05-24T13:18:00.959Z"
   },
   {
    "duration": 28,
    "start_time": "2022-05-24T13:18:00.966Z"
   },
   {
    "duration": 20,
    "start_time": "2022-05-24T13:18:00.996Z"
   },
   {
    "duration": 12,
    "start_time": "2022-05-24T13:18:01.018Z"
   },
   {
    "duration": 15,
    "start_time": "2022-05-24T13:18:01.042Z"
   },
   {
    "duration": 10,
    "start_time": "2022-05-24T13:18:01.059Z"
   },
   {
    "duration": 18,
    "start_time": "2022-05-24T13:18:01.070Z"
   },
   {
    "duration": 25,
    "start_time": "2022-05-24T13:38:12.597Z"
   },
   {
    "duration": 13,
    "start_time": "2022-05-24T13:38:19.876Z"
   },
   {
    "duration": 6,
    "start_time": "2022-05-24T13:38:34.704Z"
   },
   {
    "duration": 6,
    "start_time": "2022-05-24T13:38:40.373Z"
   },
   {
    "duration": 135,
    "start_time": "2022-05-24T13:39:29.942Z"
   },
   {
    "duration": 6,
    "start_time": "2022-05-24T13:39:56.517Z"
   },
   {
    "duration": 6,
    "start_time": "2022-05-24T13:44:07.795Z"
   },
   {
    "duration": 6,
    "start_time": "2022-05-24T13:44:13.198Z"
   },
   {
    "duration": 10,
    "start_time": "2022-05-24T13:50:00.418Z"
   },
   {
    "duration": 4,
    "start_time": "2022-05-24T13:52:57.099Z"
   },
   {
    "duration": 13,
    "start_time": "2022-05-24T13:53:10.373Z"
   },
   {
    "duration": 21,
    "start_time": "2022-05-24T13:53:36.956Z"
   },
   {
    "duration": 9,
    "start_time": "2022-05-24T13:53:44.976Z"
   },
   {
    "duration": 38,
    "start_time": "2022-05-24T13:53:58.924Z"
   },
   {
    "duration": 34,
    "start_time": "2022-05-24T13:54:05.838Z"
   },
   {
    "duration": 18,
    "start_time": "2022-05-24T13:54:55.289Z"
   },
   {
    "duration": 9,
    "start_time": "2022-05-24T13:55:06.061Z"
   },
   {
    "duration": 34,
    "start_time": "2022-05-24T13:55:29.721Z"
   },
   {
    "duration": 41,
    "start_time": "2022-05-24T13:55:59.897Z"
   },
   {
    "duration": 3270,
    "start_time": "2022-05-24T13:58:45.198Z"
   },
   {
    "duration": 459,
    "start_time": "2022-05-24T13:59:31.198Z"
   },
   {
    "duration": 18,
    "start_time": "2022-05-24T14:00:27.645Z"
   },
   {
    "duration": 12,
    "start_time": "2022-05-24T14:01:09.535Z"
   },
   {
    "duration": 13,
    "start_time": "2022-05-24T14:02:08.113Z"
   },
   {
    "duration": 14,
    "start_time": "2022-05-24T14:02:36.766Z"
   },
   {
    "duration": 22,
    "start_time": "2022-05-24T14:03:23.712Z"
   },
   {
    "duration": 15,
    "start_time": "2022-05-24T14:03:31.169Z"
   },
   {
    "duration": 8,
    "start_time": "2022-05-24T14:06:05.006Z"
   },
   {
    "duration": 33,
    "start_time": "2022-05-24T14:08:00.439Z"
   },
   {
    "duration": 53,
    "start_time": "2022-05-24T14:08:19.872Z"
   },
   {
    "duration": 54,
    "start_time": "2022-05-24T14:08:43.268Z"
   },
   {
    "duration": 27,
    "start_time": "2022-05-24T14:08:59.100Z"
   },
   {
    "duration": 8,
    "start_time": "2022-05-24T14:09:57.714Z"
   },
   {
    "duration": 7,
    "start_time": "2022-05-24T14:10:05.253Z"
   },
   {
    "duration": 35,
    "start_time": "2022-05-24T14:10:29.237Z"
   },
   {
    "duration": 39,
    "start_time": "2022-05-24T14:11:52.477Z"
   },
   {
    "duration": 8,
    "start_time": "2022-05-24T14:11:55.997Z"
   },
   {
    "duration": 9,
    "start_time": "2022-05-24T14:12:07.694Z"
   },
   {
    "duration": 9,
    "start_time": "2022-05-24T14:12:13.260Z"
   },
   {
    "duration": 7,
    "start_time": "2022-05-24T14:15:21.695Z"
   },
   {
    "duration": 7,
    "start_time": "2022-05-24T14:16:21.067Z"
   },
   {
    "duration": 4,
    "start_time": "2022-05-24T14:19:39.992Z"
   },
   {
    "duration": 5,
    "start_time": "2022-05-24T14:19:47.248Z"
   },
   {
    "duration": 2,
    "start_time": "2022-05-24T14:35:23.475Z"
   },
   {
    "duration": 5,
    "start_time": "2022-05-24T14:36:32.130Z"
   },
   {
    "duration": 4,
    "start_time": "2022-05-24T14:36:50.730Z"
   },
   {
    "duration": 3,
    "start_time": "2022-05-24T14:37:14.339Z"
   },
   {
    "duration": 12,
    "start_time": "2022-05-24T14:37:33.123Z"
   },
   {
    "duration": 2,
    "start_time": "2022-05-24T14:37:41.774Z"
   },
   {
    "duration": 4,
    "start_time": "2022-05-24T14:37:58.319Z"
   },
   {
    "duration": 41,
    "start_time": "2022-05-24T14:39:25.972Z"
   },
   {
    "duration": 5,
    "start_time": "2022-05-24T14:39:32.753Z"
   },
   {
    "duration": 4,
    "start_time": "2022-05-24T14:39:37.758Z"
   },
   {
    "duration": 4,
    "start_time": "2022-05-24T14:39:50.715Z"
   },
   {
    "duration": 4,
    "start_time": "2022-05-24T14:40:29.704Z"
   },
   {
    "duration": 186,
    "start_time": "2022-05-24T14:52:11.367Z"
   },
   {
    "duration": 193,
    "start_time": "2022-05-24T14:53:16.439Z"
   },
   {
    "duration": 155,
    "start_time": "2022-05-24T14:53:52.309Z"
   },
   {
    "duration": 168,
    "start_time": "2022-05-24T14:54:08.773Z"
   },
   {
    "duration": 77,
    "start_time": "2022-05-24T14:54:28.359Z"
   },
   {
    "duration": 258,
    "start_time": "2022-05-24T14:55:07.905Z"
   },
   {
    "duration": 421,
    "start_time": "2022-05-24T14:55:56.908Z"
   },
   {
    "duration": 412,
    "start_time": "2022-05-24T14:56:11.873Z"
   },
   {
    "duration": 423,
    "start_time": "2022-05-24T14:57:02.305Z"
   },
   {
    "duration": 418,
    "start_time": "2022-05-24T14:58:04.025Z"
   },
   {
    "duration": 397,
    "start_time": "2022-05-24T14:58:10.609Z"
   },
   {
    "duration": 417,
    "start_time": "2022-05-24T14:58:46.838Z"
   },
   {
    "duration": 453,
    "start_time": "2022-05-24T14:58:56.870Z"
   },
   {
    "duration": 2,
    "start_time": "2022-05-24T15:02:35.832Z"
   },
   {
    "duration": 16,
    "start_time": "2022-05-24T15:54:48.929Z"
   },
   {
    "duration": 4,
    "start_time": "2022-05-24T15:56:37.788Z"
   },
   {
    "duration": 12,
    "start_time": "2022-05-24T17:10:32.711Z"
   },
   {
    "duration": 11,
    "start_time": "2022-05-24T17:11:22.960Z"
   },
   {
    "duration": 167,
    "start_time": "2022-05-24T17:12:07.761Z"
   },
   {
    "duration": 160,
    "start_time": "2022-05-24T17:12:56.618Z"
   },
   {
    "duration": 141,
    "start_time": "2022-05-24T17:13:17.314Z"
   },
   {
    "duration": 186,
    "start_time": "2022-05-24T17:13:28.828Z"
   },
   {
    "duration": 284,
    "start_time": "2022-05-24T17:13:57.707Z"
   },
   {
    "duration": 176,
    "start_time": "2022-05-24T17:14:42.932Z"
   },
   {
    "duration": 6,
    "start_time": "2022-05-24T17:15:59.796Z"
   },
   {
    "duration": 5,
    "start_time": "2022-05-24T17:16:41.594Z"
   },
   {
    "duration": 4,
    "start_time": "2022-05-24T17:17:33.953Z"
   },
   {
    "duration": 4,
    "start_time": "2022-05-24T17:20:33.288Z"
   },
   {
    "duration": 3,
    "start_time": "2022-05-24T17:20:48.676Z"
   },
   {
    "duration": 93,
    "start_time": "2022-05-24T17:23:51.537Z"
   },
   {
    "duration": 11,
    "start_time": "2022-05-24T17:23:53.040Z"
   },
   {
    "duration": 187,
    "start_time": "2022-05-24T17:24:32.708Z"
   },
   {
    "duration": 167,
    "start_time": "2022-05-24T17:24:50.041Z"
   },
   {
    "duration": 177,
    "start_time": "2022-05-24T17:25:52.998Z"
   },
   {
    "duration": 159,
    "start_time": "2022-05-24T17:26:10.731Z"
   },
   {
    "duration": 221,
    "start_time": "2022-05-24T17:26:18.622Z"
   },
   {
    "duration": 253,
    "start_time": "2022-05-24T17:26:27.206Z"
   },
   {
    "duration": 238,
    "start_time": "2022-05-24T17:26:39.247Z"
   },
   {
    "duration": 278,
    "start_time": "2022-05-24T17:26:57.532Z"
   },
   {
    "duration": 160,
    "start_time": "2022-05-24T17:27:04.372Z"
   },
   {
    "duration": 198,
    "start_time": "2022-05-24T17:27:16.951Z"
   },
   {
    "duration": 199,
    "start_time": "2022-05-24T17:27:23.856Z"
   },
   {
    "duration": 257,
    "start_time": "2022-05-24T17:27:41.907Z"
   },
   {
    "duration": 231,
    "start_time": "2022-05-24T17:27:56.357Z"
   },
   {
    "duration": 235,
    "start_time": "2022-05-24T17:28:11.106Z"
   },
   {
    "duration": 184,
    "start_time": "2022-05-24T17:28:25.706Z"
   },
   {
    "duration": 485,
    "start_time": "2022-05-24T17:28:30.440Z"
   },
   {
    "duration": 356,
    "start_time": "2022-05-24T17:28:55.527Z"
   },
   {
    "duration": 152,
    "start_time": "2022-05-24T17:29:10.855Z"
   },
   {
    "duration": 264,
    "start_time": "2022-05-24T17:29:17.831Z"
   },
   {
    "duration": 15,
    "start_time": "2022-05-24T17:30:38.449Z"
   },
   {
    "duration": 11,
    "start_time": "2022-05-24T17:30:42.051Z"
   },
   {
    "duration": 133,
    "start_time": "2022-05-24T17:31:00.348Z"
   },
   {
    "duration": 11,
    "start_time": "2022-05-24T17:31:03.064Z"
   },
   {
    "duration": 148,
    "start_time": "2022-05-24T17:32:59.128Z"
   },
   {
    "duration": 375,
    "start_time": "2022-05-24T17:34:33.949Z"
   },
   {
    "duration": 293,
    "start_time": "2022-05-24T17:36:39.802Z"
   },
   {
    "duration": 152,
    "start_time": "2022-05-24T17:36:47.614Z"
   },
   {
    "duration": 383,
    "start_time": "2022-05-24T17:36:55.462Z"
   },
   {
    "duration": 369,
    "start_time": "2022-05-24T17:37:18.746Z"
   },
   {
    "duration": 377,
    "start_time": "2022-05-24T17:37:34.946Z"
   },
   {
    "duration": 432,
    "start_time": "2022-05-24T17:38:06.515Z"
   },
   {
    "duration": 401,
    "start_time": "2022-05-24T17:38:56.206Z"
   },
   {
    "duration": 361,
    "start_time": "2022-05-24T17:41:20.455Z"
   },
   {
    "duration": 404,
    "start_time": "2022-05-24T17:41:30.778Z"
   },
   {
    "duration": 448,
    "start_time": "2022-05-24T17:41:53.110Z"
   },
   {
    "duration": 408,
    "start_time": "2022-05-24T17:42:21.906Z"
   },
   {
    "duration": 376,
    "start_time": "2022-05-24T17:42:27.465Z"
   },
   {
    "duration": 392,
    "start_time": "2022-05-24T17:44:43.327Z"
   },
   {
    "duration": 401,
    "start_time": "2022-05-24T17:45:04.407Z"
   },
   {
    "duration": 511,
    "start_time": "2022-05-24T17:45:12.946Z"
   },
   {
    "duration": 405,
    "start_time": "2022-05-24T17:45:19.395Z"
   },
   {
    "duration": 370,
    "start_time": "2022-05-24T17:46:05.551Z"
   },
   {
    "duration": 19,
    "start_time": "2022-05-24T17:47:50.266Z"
   },
   {
    "duration": 168,
    "start_time": "2022-05-24T17:50:30.234Z"
   },
   {
    "duration": 163,
    "start_time": "2022-05-24T17:51:13.507Z"
   },
   {
    "duration": 159,
    "start_time": "2022-05-24T17:51:26.295Z"
   },
   {
    "duration": 163,
    "start_time": "2022-05-24T17:53:28.992Z"
   },
   {
    "duration": 25,
    "start_time": "2022-05-24T17:57:13.930Z"
   },
   {
    "duration": 9,
    "start_time": "2022-05-24T17:58:39.056Z"
   },
   {
    "duration": 1174,
    "start_time": "2022-05-24T18:48:59.108Z"
   },
   {
    "duration": 92,
    "start_time": "2022-05-24T18:49:00.284Z"
   },
   {
    "duration": 5,
    "start_time": "2022-05-24T18:49:00.378Z"
   },
   {
    "duration": 8,
    "start_time": "2022-05-24T18:49:00.385Z"
   },
   {
    "duration": 35,
    "start_time": "2022-05-24T18:49:00.395Z"
   },
   {
    "duration": 19,
    "start_time": "2022-05-24T18:49:00.442Z"
   },
   {
    "duration": 22,
    "start_time": "2022-05-24T18:49:00.463Z"
   },
   {
    "duration": 15,
    "start_time": "2022-05-24T18:49:00.487Z"
   },
   {
    "duration": 37,
    "start_time": "2022-05-24T18:49:00.504Z"
   },
   {
    "duration": 57,
    "start_time": "2022-05-24T18:49:00.545Z"
   },
   {
    "duration": 10,
    "start_time": "2022-05-24T18:49:00.604Z"
   },
   {
    "duration": 48,
    "start_time": "2022-05-24T18:49:00.616Z"
   },
   {
    "duration": 148,
    "start_time": "2022-05-24T18:49:00.666Z"
   },
   {
    "duration": 15,
    "start_time": "2022-05-24T18:49:00.816Z"
   },
   {
    "duration": 149,
    "start_time": "2022-05-24T18:49:00.842Z"
   },
   {
    "duration": 19,
    "start_time": "2022-05-24T18:49:00.993Z"
   },
   {
    "duration": 35,
    "start_time": "2022-05-24T18:49:01.013Z"
   },
   {
    "duration": 8,
    "start_time": "2022-05-24T18:49:01.049Z"
   },
   {
    "duration": 571,
    "start_time": "2022-05-24T18:49:01.058Z"
   },
   {
    "duration": 17,
    "start_time": "2022-05-24T18:49:01.630Z"
   },
   {
    "duration": 14,
    "start_time": "2022-05-24T18:49:01.649Z"
   },
   {
    "duration": 22,
    "start_time": "2022-05-24T18:49:01.664Z"
   },
   {
    "duration": 60,
    "start_time": "2022-05-24T18:49:01.688Z"
   },
   {
    "duration": 199,
    "start_time": "2022-05-24T18:49:01.750Z"
   },
   {
    "duration": 13,
    "start_time": "2022-05-24T18:49:01.951Z"
   },
   {
    "duration": 102,
    "start_time": "2022-05-24T18:49:01.966Z"
   },
   {
    "duration": 23,
    "start_time": "2022-05-24T18:49:02.069Z"
   },
   {
    "duration": 13,
    "start_time": "2022-05-24T18:49:02.095Z"
   },
   {
    "duration": 201,
    "start_time": "2022-05-24T18:49:02.110Z"
   },
   {
    "duration": 38,
    "start_time": "2022-05-24T18:49:02.314Z"
   },
   {
    "duration": 12,
    "start_time": "2022-05-24T18:49:02.354Z"
   },
   {
    "duration": 156,
    "start_time": "2022-05-24T18:49:02.368Z"
   },
   {
    "duration": 16,
    "start_time": "2022-05-24T18:49:02.526Z"
   },
   {
    "duration": 389,
    "start_time": "2022-05-24T18:49:02.543Z"
   },
   {
    "duration": 21,
    "start_time": "2022-05-24T18:49:02.934Z"
   },
   {
    "duration": 184,
    "start_time": "2022-05-24T18:49:02.957Z"
   },
   {
    "duration": 128,
    "start_time": "2022-05-24T18:49:03.143Z"
   },
   {
    "duration": 9,
    "start_time": "2022-05-24T18:49:03.273Z"
   },
   {
    "duration": 15,
    "start_time": "2022-05-24T18:49:03.284Z"
   },
   {
    "duration": 213,
    "start_time": "2022-05-24T18:49:03.300Z"
   },
   {
    "duration": 4281,
    "start_time": "2022-05-24T18:49:03.514Z"
   },
   {
    "duration": 30,
    "start_time": "2022-05-24T18:49:07.797Z"
   },
   {
    "duration": 43,
    "start_time": "2022-05-24T18:49:07.829Z"
   },
   {
    "duration": 25,
    "start_time": "2022-05-24T18:49:07.875Z"
   },
   {
    "duration": 9,
    "start_time": "2022-05-24T18:49:07.902Z"
   },
   {
    "duration": 39,
    "start_time": "2022-05-24T18:49:07.913Z"
   },
   {
    "duration": 11,
    "start_time": "2022-05-24T18:49:07.954Z"
   },
   {
    "duration": 14,
    "start_time": "2022-05-24T18:49:07.967Z"
   },
   {
    "duration": 207,
    "start_time": "2022-05-24T18:49:07.983Z"
   },
   {
    "duration": 4,
    "start_time": "2022-05-24T18:49:08.192Z"
   },
   {
    "duration": 1374,
    "start_time": "2022-05-25T05:43:46.315Z"
   },
   {
    "duration": 383,
    "start_time": "2022-05-25T05:43:47.691Z"
   },
   {
    "duration": 5,
    "start_time": "2022-05-25T05:43:48.076Z"
   },
   {
    "duration": 10,
    "start_time": "2022-05-25T05:43:48.083Z"
   },
   {
    "duration": 23,
    "start_time": "2022-05-25T05:43:48.096Z"
   },
   {
    "duration": 25,
    "start_time": "2022-05-25T05:43:48.122Z"
   },
   {
    "duration": 32,
    "start_time": "2022-05-25T05:43:48.150Z"
   },
   {
    "duration": 16,
    "start_time": "2022-05-25T05:43:48.184Z"
   },
   {
    "duration": 36,
    "start_time": "2022-05-25T05:43:48.202Z"
   },
   {
    "duration": 79,
    "start_time": "2022-05-25T05:43:48.242Z"
   },
   {
    "duration": 19,
    "start_time": "2022-05-25T05:43:48.322Z"
   },
   {
    "duration": 45,
    "start_time": "2022-05-25T05:43:48.342Z"
   },
   {
    "duration": 158,
    "start_time": "2022-05-25T05:43:48.389Z"
   },
   {
    "duration": 16,
    "start_time": "2022-05-25T05:43:48.551Z"
   },
   {
    "duration": 154,
    "start_time": "2022-05-25T05:43:48.569Z"
   },
   {
    "duration": 29,
    "start_time": "2022-05-25T05:43:48.729Z"
   },
   {
    "duration": 34,
    "start_time": "2022-05-25T05:43:48.760Z"
   },
   {
    "duration": 10,
    "start_time": "2022-05-25T05:43:48.796Z"
   },
   {
    "duration": 676,
    "start_time": "2022-05-25T05:43:48.808Z"
   },
   {
    "duration": 11,
    "start_time": "2022-05-25T05:43:49.486Z"
   },
   {
    "duration": 28,
    "start_time": "2022-05-25T05:43:49.500Z"
   },
   {
    "duration": 26,
    "start_time": "2022-05-25T05:43:49.531Z"
   },
   {
    "duration": 49,
    "start_time": "2022-05-25T05:43:49.559Z"
   },
   {
    "duration": 226,
    "start_time": "2022-05-25T05:43:49.612Z"
   },
   {
    "duration": 16,
    "start_time": "2022-05-25T05:43:49.840Z"
   },
   {
    "duration": 145,
    "start_time": "2022-05-25T05:43:49.858Z"
   },
   {
    "duration": 52,
    "start_time": "2022-05-25T05:43:50.008Z"
   },
   {
    "duration": 26,
    "start_time": "2022-05-25T05:43:50.072Z"
   },
   {
    "duration": 214,
    "start_time": "2022-05-25T05:43:50.101Z"
   },
   {
    "duration": 28,
    "start_time": "2022-05-25T05:43:50.324Z"
   },
   {
    "duration": 22,
    "start_time": "2022-05-25T05:43:50.354Z"
   },
   {
    "duration": 284,
    "start_time": "2022-05-25T05:43:50.378Z"
   },
   {
    "duration": 15,
    "start_time": "2022-05-25T05:43:50.665Z"
   },
   {
    "duration": 485,
    "start_time": "2022-05-25T05:43:50.683Z"
   },
   {
    "duration": 24,
    "start_time": "2022-05-25T05:43:51.170Z"
   },
   {
    "duration": 201,
    "start_time": "2022-05-25T05:43:51.196Z"
   },
   {
    "duration": 184,
    "start_time": "2022-05-25T05:43:51.400Z"
   },
   {
    "duration": 9,
    "start_time": "2022-05-25T05:43:51.587Z"
   },
   {
    "duration": 43,
    "start_time": "2022-05-25T05:43:51.598Z"
   },
   {
    "duration": 253,
    "start_time": "2022-05-25T05:43:51.644Z"
   },
   {
    "duration": 5426,
    "start_time": "2022-05-25T05:43:51.902Z"
   },
   {
    "duration": 47,
    "start_time": "2022-05-25T05:43:57.332Z"
   },
   {
    "duration": 59,
    "start_time": "2022-05-25T05:43:57.381Z"
   },
   {
    "duration": 40,
    "start_time": "2022-05-25T05:43:57.442Z"
   },
   {
    "duration": 9,
    "start_time": "2022-05-25T05:43:57.484Z"
   },
   {
    "duration": 34,
    "start_time": "2022-05-25T05:43:57.494Z"
   },
   {
    "duration": 13,
    "start_time": "2022-05-25T05:43:57.530Z"
   },
   {
    "duration": 21,
    "start_time": "2022-05-25T05:43:57.544Z"
   },
   {
    "duration": 217,
    "start_time": "2022-05-25T05:43:57.567Z"
   },
   {
    "duration": 5,
    "start_time": "2022-05-25T05:43:57.785Z"
   },
   {
    "duration": 21,
    "start_time": "2022-05-25T06:18:01.193Z"
   },
   {
    "duration": 4,
    "start_time": "2022-05-25T06:18:06.897Z"
   },
   {
    "duration": 84,
    "start_time": "2022-05-25T06:18:09.065Z"
   },
   {
    "duration": 6,
    "start_time": "2022-05-25T06:18:11.146Z"
   },
   {
    "duration": 6,
    "start_time": "2022-05-25T06:18:13.512Z"
   },
   {
    "duration": 22,
    "start_time": "2022-05-25T06:18:17.660Z"
   },
   {
    "duration": 18,
    "start_time": "2022-05-25T06:18:20.013Z"
   },
   {
    "duration": 22,
    "start_time": "2022-05-25T06:18:21.634Z"
   },
   {
    "duration": 13,
    "start_time": "2022-05-25T06:18:22.500Z"
   },
   {
    "duration": 17,
    "start_time": "2022-05-25T06:18:24.412Z"
   },
   {
    "duration": 49,
    "start_time": "2022-05-25T06:18:24.812Z"
   },
   {
    "duration": 8,
    "start_time": "2022-05-25T06:18:25.153Z"
   },
   {
    "duration": 23,
    "start_time": "2022-05-25T06:18:27.803Z"
   },
   {
    "duration": 207,
    "start_time": "2022-05-25T06:18:28.869Z"
   },
   {
    "duration": 22,
    "start_time": "2022-05-25T06:18:32.642Z"
   },
   {
    "duration": 150,
    "start_time": "2022-05-25T06:18:38.940Z"
   },
   {
    "duration": 27,
    "start_time": "2022-05-25T06:18:41.532Z"
   },
   {
    "duration": 24,
    "start_time": "2022-05-25T06:18:42.505Z"
   },
   {
    "duration": 9,
    "start_time": "2022-05-25T06:18:45.311Z"
   },
   {
    "duration": 468,
    "start_time": "2022-05-25T06:18:48.149Z"
   },
   {
    "duration": 12,
    "start_time": "2022-05-25T06:18:51.220Z"
   },
   {
    "duration": 9,
    "start_time": "2022-05-25T06:18:54.865Z"
   },
   {
    "duration": 13,
    "start_time": "2022-05-25T06:18:55.856Z"
   },
   {
    "duration": 15,
    "start_time": "2022-05-25T06:19:02.326Z"
   },
   {
    "duration": 164,
    "start_time": "2022-05-25T06:19:12.253Z"
   },
   {
    "duration": 12,
    "start_time": "2022-05-25T06:20:44.339Z"
   },
   {
    "duration": 195,
    "start_time": "2022-05-25T06:20:46.028Z"
   },
   {
    "duration": 27,
    "start_time": "2022-05-25T06:20:49.260Z"
   },
   {
    "duration": 13,
    "start_time": "2022-05-25T06:20:51.220Z"
   },
   {
    "duration": 180,
    "start_time": "2022-05-25T06:20:53.843Z"
   },
   {
    "duration": 22,
    "start_time": "2022-05-25T06:21:56.526Z"
   },
   {
    "duration": 13,
    "start_time": "2022-05-25T06:21:57.998Z"
   },
   {
    "duration": 147,
    "start_time": "2022-05-25T06:21:59.677Z"
   },
   {
    "duration": 12,
    "start_time": "2022-05-25T06:22:01.353Z"
   },
   {
    "duration": 406,
    "start_time": "2022-05-25T06:22:04.701Z"
   },
   {
    "duration": 407,
    "start_time": "2022-05-25T06:22:28.590Z"
   },
   {
    "duration": 408,
    "start_time": "2022-05-25T06:22:34.621Z"
   },
   {
    "duration": 530,
    "start_time": "2022-05-25T06:22:48.944Z"
   },
   {
    "duration": 425,
    "start_time": "2022-05-25T06:22:53.583Z"
   },
   {
    "duration": 485,
    "start_time": "2022-05-25T06:22:58.651Z"
   },
   {
    "duration": 397,
    "start_time": "2022-05-25T06:23:10.951Z"
   },
   {
    "duration": 391,
    "start_time": "2022-05-25T06:23:56.016Z"
   },
   {
    "duration": 16,
    "start_time": "2022-05-25T06:24:26.460Z"
   },
   {
    "duration": 165,
    "start_time": "2022-05-25T06:24:30.072Z"
   },
   {
    "duration": 109,
    "start_time": "2022-05-25T06:25:32.210Z"
   },
   {
    "duration": 9,
    "start_time": "2022-05-25T06:25:33.570Z"
   },
   {
    "duration": 16,
    "start_time": "2022-05-25T06:25:34.213Z"
   },
   {
    "duration": 191,
    "start_time": "2022-05-25T06:25:34.586Z"
   },
   {
    "duration": 4651,
    "start_time": "2022-05-25T06:25:38.610Z"
   },
   {
    "duration": 36,
    "start_time": "2022-05-25T06:25:43.263Z"
   },
   {
    "duration": 48,
    "start_time": "2022-05-25T06:25:43.300Z"
   },
   {
    "duration": 21,
    "start_time": "2022-05-25T06:25:43.350Z"
   },
   {
    "duration": 9,
    "start_time": "2022-05-25T06:25:44.586Z"
   },
   {
    "duration": 13,
    "start_time": "2022-05-25T06:25:45.385Z"
   },
   {
    "duration": 11,
    "start_time": "2022-05-25T06:25:45.733Z"
   },
   {
    "duration": 19,
    "start_time": "2022-05-25T06:25:46.066Z"
   },
   {
    "duration": 185,
    "start_time": "2022-05-25T06:25:46.387Z"
   },
   {
    "duration": 5,
    "start_time": "2022-05-25T06:25:50.910Z"
   },
   {
    "duration": 1196,
    "start_time": "2022-05-25T06:26:43.072Z"
   },
   {
    "duration": 92,
    "start_time": "2022-05-25T06:26:44.270Z"
   },
   {
    "duration": 5,
    "start_time": "2022-05-25T06:26:44.363Z"
   },
   {
    "duration": 15,
    "start_time": "2022-05-25T06:26:44.369Z"
   },
   {
    "duration": 21,
    "start_time": "2022-05-25T06:26:44.387Z"
   },
   {
    "duration": 29,
    "start_time": "2022-05-25T06:26:44.410Z"
   },
   {
    "duration": 20,
    "start_time": "2022-05-25T06:26:44.441Z"
   },
   {
    "duration": 28,
    "start_time": "2022-05-25T06:26:44.463Z"
   },
   {
    "duration": 35,
    "start_time": "2022-05-25T06:26:44.493Z"
   },
   {
    "duration": 52,
    "start_time": "2022-05-25T06:26:44.530Z"
   },
   {
    "duration": 8,
    "start_time": "2022-05-25T06:26:44.584Z"
   },
   {
    "duration": 43,
    "start_time": "2022-05-25T06:26:44.593Z"
   },
   {
    "duration": 154,
    "start_time": "2022-05-25T06:26:44.638Z"
   },
   {
    "duration": 26,
    "start_time": "2022-05-25T06:26:44.797Z"
   },
   {
    "duration": 150,
    "start_time": "2022-05-25T06:26:44.825Z"
   },
   {
    "duration": 22,
    "start_time": "2022-05-25T06:26:44.977Z"
   },
   {
    "duration": 36,
    "start_time": "2022-05-25T06:26:45.001Z"
   },
   {
    "duration": 9,
    "start_time": "2022-05-25T06:26:45.039Z"
   },
   {
    "duration": 567,
    "start_time": "2022-05-25T06:26:45.050Z"
   },
   {
    "duration": 11,
    "start_time": "2022-05-25T06:26:45.623Z"
   },
   {
    "duration": 7,
    "start_time": "2022-05-25T06:26:45.635Z"
   },
   {
    "duration": 11,
    "start_time": "2022-05-25T06:26:45.643Z"
   },
   {
    "duration": 69,
    "start_time": "2022-05-25T06:26:45.655Z"
   },
   {
    "duration": 171,
    "start_time": "2022-05-25T06:26:45.727Z"
   },
   {
    "duration": 13,
    "start_time": "2022-05-25T06:26:45.900Z"
   },
   {
    "duration": 84,
    "start_time": "2022-05-25T06:26:45.923Z"
   },
   {
    "duration": 34,
    "start_time": "2022-05-25T06:26:46.009Z"
   },
   {
    "duration": 13,
    "start_time": "2022-05-25T06:26:46.045Z"
   },
   {
    "duration": 190,
    "start_time": "2022-05-25T06:26:46.060Z"
   },
   {
    "duration": 23,
    "start_time": "2022-05-25T06:26:46.252Z"
   },
   {
    "duration": 14,
    "start_time": "2022-05-25T06:26:46.277Z"
   },
   {
    "duration": 169,
    "start_time": "2022-05-25T06:26:46.293Z"
   },
   {
    "duration": 10,
    "start_time": "2022-05-25T06:26:46.464Z"
   },
   {
    "duration": 449,
    "start_time": "2022-05-25T06:26:46.476Z"
   },
   {
    "duration": 23,
    "start_time": "2022-05-25T06:26:46.926Z"
   },
   {
    "duration": 175,
    "start_time": "2022-05-25T06:26:46.950Z"
   },
   {
    "duration": 112,
    "start_time": "2022-05-25T06:26:47.127Z"
   },
   {
    "duration": 8,
    "start_time": "2022-05-25T06:26:47.240Z"
   },
   {
    "duration": 16,
    "start_time": "2022-05-25T06:26:47.250Z"
   },
   {
    "duration": 215,
    "start_time": "2022-05-25T06:26:47.268Z"
   },
   {
    "duration": 4061,
    "start_time": "2022-05-25T06:26:47.488Z"
   },
   {
    "duration": 31,
    "start_time": "2022-05-25T06:26:51.551Z"
   },
   {
    "duration": 49,
    "start_time": "2022-05-25T06:26:51.584Z"
   },
   {
    "duration": 24,
    "start_time": "2022-05-25T06:26:51.635Z"
   },
   {
    "duration": 8,
    "start_time": "2022-05-25T06:26:51.660Z"
   },
   {
    "duration": 11,
    "start_time": "2022-05-25T06:26:51.670Z"
   },
   {
    "duration": 10,
    "start_time": "2022-05-25T06:26:51.683Z"
   },
   {
    "duration": 15,
    "start_time": "2022-05-25T06:26:51.724Z"
   },
   {
    "duration": 187,
    "start_time": "2022-05-25T06:26:51.740Z"
   },
   {
    "duration": 5,
    "start_time": "2022-05-25T06:26:51.929Z"
   },
   {
    "duration": 5,
    "start_time": "2022-05-25T07:40:38.783Z"
   },
   {
    "duration": 5,
    "start_time": "2022-05-25T07:41:04.984Z"
   },
   {
    "duration": 1206,
    "start_time": "2022-05-25T08:23:52.277Z"
   },
   {
    "duration": 95,
    "start_time": "2022-05-25T08:23:53.485Z"
   },
   {
    "duration": 3,
    "start_time": "2022-05-25T08:23:53.582Z"
   },
   {
    "duration": 12,
    "start_time": "2022-05-25T08:23:53.587Z"
   },
   {
    "duration": 38,
    "start_time": "2022-05-25T08:23:53.601Z"
   },
   {
    "duration": 17,
    "start_time": "2022-05-25T08:23:53.640Z"
   },
   {
    "duration": 19,
    "start_time": "2022-05-25T08:23:53.658Z"
   },
   {
    "duration": 12,
    "start_time": "2022-05-25T08:23:53.678Z"
   },
   {
    "duration": 11,
    "start_time": "2022-05-25T08:23:53.692Z"
   },
   {
    "duration": 58,
    "start_time": "2022-05-25T08:23:53.723Z"
   },
   {
    "duration": 8,
    "start_time": "2022-05-25T08:23:53.783Z"
   },
   {
    "duration": 32,
    "start_time": "2022-05-25T08:23:53.792Z"
   },
   {
    "duration": 158,
    "start_time": "2022-05-25T08:23:53.826Z"
   },
   {
    "duration": 17,
    "start_time": "2022-05-25T08:23:53.986Z"
   },
   {
    "duration": 165,
    "start_time": "2022-05-25T08:23:54.004Z"
   },
   {
    "duration": 20,
    "start_time": "2022-05-25T08:23:54.171Z"
   },
   {
    "duration": 44,
    "start_time": "2022-05-25T08:23:54.193Z"
   },
   {
    "duration": 9,
    "start_time": "2022-05-25T08:23:54.239Z"
   },
   {
    "duration": 596,
    "start_time": "2022-05-25T08:23:54.250Z"
   },
   {
    "duration": 10,
    "start_time": "2022-05-25T08:23:54.848Z"
   },
   {
    "duration": 12,
    "start_time": "2022-05-25T08:23:54.859Z"
   },
   {
    "duration": 9,
    "start_time": "2022-05-25T08:23:54.873Z"
   },
   {
    "duration": 68,
    "start_time": "2022-05-25T08:23:54.883Z"
   },
   {
    "duration": 164,
    "start_time": "2022-05-25T08:23:54.952Z"
   },
   {
    "duration": 20,
    "start_time": "2022-05-25T08:23:55.118Z"
   },
   {
    "duration": 89,
    "start_time": "2022-05-25T08:23:55.140Z"
   },
   {
    "duration": 25,
    "start_time": "2022-05-25T08:23:55.231Z"
   },
   {
    "duration": 11,
    "start_time": "2022-05-25T08:23:55.257Z"
   },
   {
    "duration": 195,
    "start_time": "2022-05-25T08:23:55.269Z"
   },
   {
    "duration": 20,
    "start_time": "2022-05-25T08:23:55.465Z"
   },
   {
    "duration": 10,
    "start_time": "2022-05-25T08:23:55.487Z"
   },
   {
    "duration": 174,
    "start_time": "2022-05-25T08:23:55.499Z"
   },
   {
    "duration": 10,
    "start_time": "2022-05-25T08:23:55.675Z"
   },
   {
    "duration": 422,
    "start_time": "2022-05-25T08:23:55.687Z"
   },
   {
    "duration": 28,
    "start_time": "2022-05-25T08:23:56.111Z"
   },
   {
    "duration": 175,
    "start_time": "2022-05-25T08:23:56.140Z"
   },
   {
    "duration": 140,
    "start_time": "2022-05-25T08:23:56.316Z"
   },
   {
    "duration": 7,
    "start_time": "2022-05-25T08:23:56.458Z"
   },
   {
    "duration": 16,
    "start_time": "2022-05-25T08:23:56.467Z"
   },
   {
    "duration": 236,
    "start_time": "2022-05-25T08:23:56.485Z"
   },
   {
    "duration": 4864,
    "start_time": "2022-05-25T08:23:56.727Z"
   },
   {
    "duration": 42,
    "start_time": "2022-05-25T08:24:01.593Z"
   },
   {
    "duration": 41,
    "start_time": "2022-05-25T08:24:01.637Z"
   },
   {
    "duration": 26,
    "start_time": "2022-05-25T08:24:01.679Z"
   },
   {
    "duration": 18,
    "start_time": "2022-05-25T08:24:01.724Z"
   },
   {
    "duration": 24,
    "start_time": "2022-05-25T08:24:01.744Z"
   },
   {
    "duration": 17,
    "start_time": "2022-05-25T08:24:01.769Z"
   },
   {
    "duration": 52,
    "start_time": "2022-05-25T08:24:01.788Z"
   },
   {
    "duration": 268,
    "start_time": "2022-05-25T08:24:01.842Z"
   },
   {
    "duration": 6,
    "start_time": "2022-05-25T08:24:02.111Z"
   },
   {
    "duration": 13,
    "start_time": "2022-05-25T11:45:30.137Z"
   },
   {
    "duration": 1289,
    "start_time": "2022-05-25T11:52:08.615Z"
   },
   {
    "duration": 343,
    "start_time": "2022-05-25T11:52:09.906Z"
   },
   {
    "duration": 4,
    "start_time": "2022-05-25T11:52:10.251Z"
   },
   {
    "duration": 11,
    "start_time": "2022-05-25T11:52:10.257Z"
   },
   {
    "duration": 23,
    "start_time": "2022-05-25T11:52:10.270Z"
   },
   {
    "duration": 53,
    "start_time": "2022-05-25T11:52:10.295Z"
   },
   {
    "duration": 21,
    "start_time": "2022-05-25T11:52:10.350Z"
   },
   {
    "duration": 15,
    "start_time": "2022-05-25T11:52:10.373Z"
   },
   {
    "duration": 43,
    "start_time": "2022-05-25T11:52:10.391Z"
   },
   {
    "duration": 74,
    "start_time": "2022-05-25T11:52:10.437Z"
   },
   {
    "duration": 143,
    "start_time": "2022-05-25T11:52:58.578Z"
   },
   {
    "duration": 12,
    "start_time": "2022-05-25T11:53:47.355Z"
   },
   {
    "duration": 30,
    "start_time": "2022-05-25T11:56:18.781Z"
   },
   {
    "duration": 39,
    "start_time": "2022-05-25T11:56:39.343Z"
   },
   {
    "duration": 5,
    "start_time": "2022-05-25T11:56:47.885Z"
   },
   {
    "duration": 53,
    "start_time": "2022-05-25T11:58:12.441Z"
   },
   {
    "duration": 5,
    "start_time": "2022-05-25T11:59:58.168Z"
   },
   {
    "duration": 42,
    "start_time": "2022-05-25T12:09:15.763Z"
   },
   {
    "duration": 65,
    "start_time": "2022-05-25T12:09:38.320Z"
   },
   {
    "duration": 68,
    "start_time": "2022-05-25T12:11:42.881Z"
   },
   {
    "duration": 63,
    "start_time": "2022-05-25T12:12:46.807Z"
   },
   {
    "duration": 41,
    "start_time": "2022-05-25T12:13:00.553Z"
   },
   {
    "duration": 60,
    "start_time": "2022-05-25T12:14:03.194Z"
   },
   {
    "duration": 63,
    "start_time": "2022-05-25T12:14:18.089Z"
   },
   {
    "duration": 77,
    "start_time": "2022-05-25T12:14:26.493Z"
   },
   {
    "duration": 78,
    "start_time": "2022-05-25T12:14:33.689Z"
   },
   {
    "duration": 43,
    "start_time": "2022-05-25T12:16:48.256Z"
   },
   {
    "duration": 6,
    "start_time": "2022-05-25T12:28:27.138Z"
   },
   {
    "duration": 114,
    "start_time": "2022-05-25T12:28:27.217Z"
   },
   {
    "duration": 5,
    "start_time": "2022-05-25T12:28:27.333Z"
   },
   {
    "duration": 25,
    "start_time": "2022-05-25T12:28:27.340Z"
   },
   {
    "duration": 21,
    "start_time": "2022-05-25T12:28:27.367Z"
   },
   {
    "duration": 17,
    "start_time": "2022-05-25T12:28:27.390Z"
   },
   {
    "duration": 40,
    "start_time": "2022-05-25T12:28:27.409Z"
   },
   {
    "duration": 16,
    "start_time": "2022-05-25T12:28:27.451Z"
   },
   {
    "duration": 11,
    "start_time": "2022-05-25T12:28:27.469Z"
   },
   {
    "duration": 105,
    "start_time": "2022-05-25T12:28:27.482Z"
   },
   {
    "duration": 50,
    "start_time": "2022-05-25T12:28:27.589Z"
   },
   {
    "duration": 32,
    "start_time": "2022-05-25T12:28:27.642Z"
   },
   {
    "duration": 441,
    "start_time": "2022-05-25T12:28:27.676Z"
   },
   {
    "duration": 11,
    "start_time": "2022-05-25T12:28:30.282Z"
   },
   {
    "duration": 6,
    "start_time": "2022-05-25T12:30:26.249Z"
   },
   {
    "duration": 10,
    "start_time": "2022-05-25T12:30:45.887Z"
   },
   {
    "duration": 6,
    "start_time": "2022-05-25T12:30:54.695Z"
   },
   {
    "duration": 9,
    "start_time": "2022-05-25T12:31:06.795Z"
   },
   {
    "duration": 17,
    "start_time": "2022-05-25T12:31:13.500Z"
   },
   {
    "duration": 23,
    "start_time": "2022-05-25T12:32:12.641Z"
   },
   {
    "duration": 17,
    "start_time": "2022-05-25T12:33:44.794Z"
   },
   {
    "duration": 23,
    "start_time": "2022-05-25T12:47:35.892Z"
   },
   {
    "duration": 5,
    "start_time": "2022-05-25T12:47:41.580Z"
   },
   {
    "duration": 98,
    "start_time": "2022-05-25T12:47:41.660Z"
   },
   {
    "duration": 5,
    "start_time": "2022-05-25T12:47:41.760Z"
   },
   {
    "duration": 12,
    "start_time": "2022-05-25T12:47:41.766Z"
   },
   {
    "duration": 21,
    "start_time": "2022-05-25T12:47:41.779Z"
   },
   {
    "duration": 52,
    "start_time": "2022-05-25T12:47:41.802Z"
   },
   {
    "duration": 22,
    "start_time": "2022-05-25T12:47:41.856Z"
   },
   {
    "duration": 14,
    "start_time": "2022-05-25T12:47:41.880Z"
   },
   {
    "duration": 51,
    "start_time": "2022-05-25T12:47:41.895Z"
   },
   {
    "duration": 70,
    "start_time": "2022-05-25T12:47:41.949Z"
   },
   {
    "duration": 61,
    "start_time": "2022-05-25T12:47:42.020Z"
   },
   {
    "duration": 11,
    "start_time": "2022-05-25T12:47:42.084Z"
   },
   {
    "duration": 49,
    "start_time": "2022-05-25T12:47:42.096Z"
   },
   {
    "duration": 159,
    "start_time": "2022-05-25T12:47:42.148Z"
   },
   {
    "duration": 17,
    "start_time": "2022-05-25T12:47:42.309Z"
   },
   {
    "duration": 41,
    "start_time": "2022-05-25T12:47:42.328Z"
   },
   {
    "duration": 153,
    "start_time": "2022-05-25T12:47:42.373Z"
   },
   {
    "duration": 50,
    "start_time": "2022-05-25T12:47:42.528Z"
   },
   {
    "duration": 27,
    "start_time": "2022-05-25T12:47:42.581Z"
   },
   {
    "duration": 23,
    "start_time": "2022-05-25T12:47:42.610Z"
   },
   {
    "duration": 1178,
    "start_time": "2022-05-25T12:47:42.635Z"
   },
   {
    "duration": 14,
    "start_time": "2022-05-25T12:47:43.815Z"
   },
   {
    "duration": 38,
    "start_time": "2022-05-25T12:47:43.830Z"
   },
   {
    "duration": 11,
    "start_time": "2022-05-25T12:47:43.869Z"
   },
   {
    "duration": 58,
    "start_time": "2022-05-25T12:47:43.881Z"
   },
   {
    "duration": 190,
    "start_time": "2022-05-25T12:47:43.941Z"
   },
   {
    "duration": 183,
    "start_time": "2022-05-25T12:49:26.856Z"
   },
   {
    "duration": 17,
    "start_time": "2022-05-25T13:00:36.702Z"
   },
   {
    "duration": 6,
    "start_time": "2022-05-25T13:00:41.926Z"
   },
   {
    "duration": 124,
    "start_time": "2022-05-25T13:00:41.943Z"
   },
   {
    "duration": 5,
    "start_time": "2022-05-25T13:00:42.069Z"
   },
   {
    "duration": 18,
    "start_time": "2022-05-25T13:00:42.075Z"
   },
   {
    "duration": 44,
    "start_time": "2022-05-25T13:00:42.095Z"
   },
   {
    "duration": 24,
    "start_time": "2022-05-25T13:00:42.141Z"
   },
   {
    "duration": 25,
    "start_time": "2022-05-25T13:00:42.167Z"
   },
   {
    "duration": 44,
    "start_time": "2022-05-25T13:00:42.195Z"
   },
   {
    "duration": 31,
    "start_time": "2022-05-25T13:00:42.241Z"
   },
   {
    "duration": 88,
    "start_time": "2022-05-25T13:00:42.274Z"
   },
   {
    "duration": 60,
    "start_time": "2022-05-25T13:00:42.365Z"
   },
   {
    "duration": 20,
    "start_time": "2022-05-25T13:00:42.427Z"
   },
   {
    "duration": 28,
    "start_time": "2022-05-25T13:00:42.449Z"
   },
   {
    "duration": 257,
    "start_time": "2022-05-25T13:00:42.479Z"
   },
   {
    "duration": 16,
    "start_time": "2022-05-25T13:00:42.739Z"
   },
   {
    "duration": 22,
    "start_time": "2022-05-25T13:00:42.757Z"
   },
   {
    "duration": 208,
    "start_time": "2022-05-25T13:00:42.781Z"
   },
   {
    "duration": 31,
    "start_time": "2022-05-25T13:00:42.997Z"
   },
   {
    "duration": 34,
    "start_time": "2022-05-25T13:00:43.030Z"
   },
   {
    "duration": 14,
    "start_time": "2022-05-25T13:00:43.067Z"
   },
   {
    "duration": 597,
    "start_time": "2022-05-25T13:00:43.083Z"
   },
   {
    "duration": 12,
    "start_time": "2022-05-25T13:00:43.681Z"
   },
   {
    "duration": 28,
    "start_time": "2022-05-25T13:00:43.695Z"
   },
   {
    "duration": 17,
    "start_time": "2022-05-25T13:00:43.729Z"
   },
   {
    "duration": 12,
    "start_time": "2022-05-25T13:00:43.748Z"
   },
   {
    "duration": 203,
    "start_time": "2022-05-25T13:00:43.762Z"
   },
   {
    "duration": 14,
    "start_time": "2022-05-25T13:00:43.967Z"
   },
   {
    "duration": 119,
    "start_time": "2022-05-25T13:00:43.983Z"
   },
   {
    "duration": 41,
    "start_time": "2022-05-25T13:00:44.107Z"
   },
   {
    "duration": 13,
    "start_time": "2022-05-25T13:00:44.150Z"
   },
   {
    "duration": 216,
    "start_time": "2022-05-25T13:00:44.165Z"
   },
   {
    "duration": 23,
    "start_time": "2022-05-25T13:00:44.383Z"
   },
   {
    "duration": 32,
    "start_time": "2022-05-25T13:00:44.408Z"
   },
   {
    "duration": 4,
    "start_time": "2022-05-25T13:00:47.773Z"
   },
   {
    "duration": 17,
    "start_time": "2022-05-25T13:03:40.424Z"
   },
   {
    "duration": 17,
    "start_time": "2022-05-25T13:04:22.173Z"
   },
   {
    "duration": 22,
    "start_time": "2022-05-25T13:07:00.245Z"
   },
   {
    "duration": 954,
    "start_time": "2022-05-25T13:29:42.553Z"
   },
   {
    "duration": 8,
    "start_time": "2022-05-25T13:29:48.018Z"
   },
   {
    "duration": 153,
    "start_time": "2022-05-25T13:29:48.029Z"
   },
   {
    "duration": 5,
    "start_time": "2022-05-25T13:29:48.184Z"
   },
   {
    "duration": 9,
    "start_time": "2022-05-25T13:29:48.192Z"
   },
   {
    "duration": 45,
    "start_time": "2022-05-25T13:29:48.205Z"
   },
   {
    "duration": 30,
    "start_time": "2022-05-25T13:29:48.255Z"
   },
   {
    "duration": 22,
    "start_time": "2022-05-25T13:29:48.287Z"
   },
   {
    "duration": 25,
    "start_time": "2022-05-25T13:29:48.325Z"
   },
   {
    "duration": 28,
    "start_time": "2022-05-25T13:29:48.352Z"
   },
   {
    "duration": 93,
    "start_time": "2022-05-25T13:29:48.383Z"
   },
   {
    "duration": 68,
    "start_time": "2022-05-25T13:29:48.478Z"
   },
   {
    "duration": 29,
    "start_time": "2022-05-25T13:29:48.551Z"
   },
   {
    "duration": 25,
    "start_time": "2022-05-25T13:29:48.582Z"
   },
   {
    "duration": 184,
    "start_time": "2022-05-25T13:29:48.608Z"
   },
   {
    "duration": 11,
    "start_time": "2022-05-25T13:29:48.793Z"
   },
   {
    "duration": 45,
    "start_time": "2022-05-25T13:29:48.806Z"
   },
   {
    "duration": 238,
    "start_time": "2022-05-25T13:29:48.853Z"
   },
   {
    "duration": 35,
    "start_time": "2022-05-25T13:29:49.093Z"
   },
   {
    "duration": 39,
    "start_time": "2022-05-25T13:29:49.132Z"
   },
   {
    "duration": 11,
    "start_time": "2022-05-25T13:29:49.174Z"
   },
   {
    "duration": 716,
    "start_time": "2022-05-25T13:29:49.188Z"
   },
   {
    "duration": 22,
    "start_time": "2022-05-25T13:29:49.906Z"
   },
   {
    "duration": 28,
    "start_time": "2022-05-25T13:29:49.931Z"
   },
   {
    "duration": 41,
    "start_time": "2022-05-25T13:29:49.961Z"
   },
   {
    "duration": 31,
    "start_time": "2022-05-25T13:29:50.004Z"
   },
   {
    "duration": 381,
    "start_time": "2022-05-25T13:29:50.038Z"
   },
   {
    "duration": 29,
    "start_time": "2022-05-25T13:29:50.422Z"
   },
   {
    "duration": 129,
    "start_time": "2022-05-25T13:29:50.454Z"
   },
   {
    "duration": 55,
    "start_time": "2022-05-25T13:29:50.590Z"
   },
   {
    "duration": 19,
    "start_time": "2022-05-25T13:29:50.651Z"
   },
   {
    "duration": 228,
    "start_time": "2022-05-25T13:29:50.672Z"
   },
   {
    "duration": 30,
    "start_time": "2022-05-25T13:29:50.902Z"
   },
   {
    "duration": 22,
    "start_time": "2022-05-25T13:29:50.936Z"
   },
   {
    "duration": 278,
    "start_time": "2022-05-25T13:29:50.961Z"
   },
   {
    "duration": 20,
    "start_time": "2022-05-25T13:29:51.248Z"
   },
   {
    "duration": 18,
    "start_time": "2022-05-25T13:29:51.270Z"
   },
   {
    "duration": 474,
    "start_time": "2022-05-25T13:29:51.290Z"
   },
   {
    "duration": 24,
    "start_time": "2022-05-25T13:29:51.766Z"
   },
   {
    "duration": 262,
    "start_time": "2022-05-25T13:29:51.792Z"
   },
   {
    "duration": 151,
    "start_time": "2022-05-25T13:29:52.057Z"
   },
   {
    "duration": 9,
    "start_time": "2022-05-25T13:29:52.209Z"
   },
   {
    "duration": 46,
    "start_time": "2022-05-25T13:29:52.228Z"
   },
   {
    "duration": 276,
    "start_time": "2022-05-25T13:29:52.277Z"
   },
   {
    "duration": 6831,
    "start_time": "2022-05-25T13:29:52.561Z"
   },
   {
    "duration": 42,
    "start_time": "2022-05-25T13:29:59.393Z"
   },
   {
    "duration": 52,
    "start_time": "2022-05-25T13:29:59.437Z"
   },
   {
    "duration": 49,
    "start_time": "2022-05-25T13:29:59.491Z"
   },
   {
    "duration": 21,
    "start_time": "2022-05-25T13:29:59.542Z"
   },
   {
    "duration": 23,
    "start_time": "2022-05-25T13:29:59.565Z"
   },
   {
    "duration": 14,
    "start_time": "2022-05-25T13:29:59.591Z"
   },
   {
    "duration": 22,
    "start_time": "2022-05-25T13:29:59.623Z"
   },
   {
    "duration": 27,
    "start_time": "2022-05-25T13:29:59.650Z"
   },
   {
    "duration": 59,
    "start_time": "2022-05-25T17:02:50.308Z"
   },
   {
    "duration": 1296,
    "start_time": "2022-05-25T17:03:00.002Z"
   },
   {
    "duration": 175,
    "start_time": "2022-05-25T17:03:01.301Z"
   },
   {
    "duration": 4,
    "start_time": "2022-05-25T17:03:01.478Z"
   },
   {
    "duration": 28,
    "start_time": "2022-05-25T17:03:01.486Z"
   },
   {
    "duration": 24,
    "start_time": "2022-05-25T17:03:01.515Z"
   },
   {
    "duration": 35,
    "start_time": "2022-05-25T17:03:01.542Z"
   },
   {
    "duration": 28,
    "start_time": "2022-05-25T17:03:01.588Z"
   },
   {
    "duration": 18,
    "start_time": "2022-05-25T17:03:01.618Z"
   },
   {
    "duration": 21,
    "start_time": "2022-05-25T17:03:01.637Z"
   },
   {
    "duration": 99,
    "start_time": "2022-05-25T17:03:01.667Z"
   },
   {
    "duration": 77,
    "start_time": "2022-05-25T17:03:01.771Z"
   },
   {
    "duration": 22,
    "start_time": "2022-05-25T17:03:01.850Z"
   },
   {
    "duration": 115,
    "start_time": "2022-05-25T17:03:01.881Z"
   },
   {
    "duration": 168,
    "start_time": "2022-05-25T17:03:02.000Z"
   },
   {
    "duration": 24,
    "start_time": "2022-05-25T17:03:02.170Z"
   },
   {
    "duration": 51,
    "start_time": "2022-05-25T17:03:02.196Z"
   },
   {
    "duration": 232,
    "start_time": "2022-05-25T17:03:02.249Z"
   },
   {
    "duration": 30,
    "start_time": "2022-05-25T17:03:02.483Z"
   },
   {
    "duration": 27,
    "start_time": "2022-05-25T17:03:02.515Z"
   },
   {
    "duration": 9,
    "start_time": "2022-05-25T17:03:02.544Z"
   },
   {
    "duration": 633,
    "start_time": "2022-05-25T17:03:02.555Z"
   },
   {
    "duration": 12,
    "start_time": "2022-05-25T17:03:03.190Z"
   },
   {
    "duration": 14,
    "start_time": "2022-05-25T17:03:03.207Z"
   },
   {
    "duration": 18,
    "start_time": "2022-05-25T17:03:03.223Z"
   },
   {
    "duration": 92,
    "start_time": "2022-05-25T17:03:03.243Z"
   },
   {
    "duration": 186,
    "start_time": "2022-05-25T17:03:03.336Z"
   },
   {
    "duration": 15,
    "start_time": "2022-05-25T17:03:03.523Z"
   },
   {
    "duration": 107,
    "start_time": "2022-05-25T17:03:03.543Z"
   },
   {
    "duration": 41,
    "start_time": "2022-05-25T17:03:03.651Z"
   },
   {
    "duration": 29,
    "start_time": "2022-05-25T17:03:03.693Z"
   },
   {
    "duration": 186,
    "start_time": "2022-05-25T17:03:03.724Z"
   },
   {
    "duration": 25,
    "start_time": "2022-05-25T17:03:03.912Z"
   },
   {
    "duration": 24,
    "start_time": "2022-05-25T17:03:03.939Z"
   },
   {
    "duration": 152,
    "start_time": "2022-05-25T17:03:03.964Z"
   },
   {
    "duration": 12,
    "start_time": "2022-05-25T17:03:04.117Z"
   },
   {
    "duration": 31,
    "start_time": "2022-05-25T17:03:04.130Z"
   },
   {
    "duration": 480,
    "start_time": "2022-05-25T17:03:04.164Z"
   },
   {
    "duration": 43,
    "start_time": "2022-05-25T17:03:04.646Z"
   },
   {
    "duration": 214,
    "start_time": "2022-05-25T17:03:04.697Z"
   },
   {
    "duration": 150,
    "start_time": "2022-05-25T17:03:04.912Z"
   },
   {
    "duration": 12,
    "start_time": "2022-05-25T17:03:05.064Z"
   },
   {
    "duration": 54,
    "start_time": "2022-05-25T17:03:05.078Z"
   },
   {
    "duration": 261,
    "start_time": "2022-05-25T17:03:05.133Z"
   },
   {
    "duration": 5654,
    "start_time": "2022-05-25T17:03:05.396Z"
   },
   {
    "duration": 47,
    "start_time": "2022-05-25T17:03:11.052Z"
   },
   {
    "duration": 33,
    "start_time": "2022-05-25T17:03:11.101Z"
   },
   {
    "duration": 60,
    "start_time": "2022-05-25T17:03:11.136Z"
   },
   {
    "duration": 12,
    "start_time": "2022-05-25T17:03:11.198Z"
   },
   {
    "duration": 12,
    "start_time": "2022-05-25T17:03:11.212Z"
   },
   {
    "duration": 11,
    "start_time": "2022-05-25T17:03:11.226Z"
   },
   {
    "duration": 28,
    "start_time": "2022-05-25T17:03:11.239Z"
   },
   {
    "duration": 169,
    "start_time": "2022-05-25T17:03:11.269Z"
   },
   {
    "duration": 4,
    "start_time": "2022-05-25T17:03:11.440Z"
   },
   {
    "duration": 5,
    "start_time": "2022-05-25T17:03:46.501Z"
   },
   {
    "duration": 25,
    "start_time": "2022-05-25T17:08:11.886Z"
   },
   {
    "duration": 72,
    "start_time": "2022-05-25T17:08:38.654Z"
   },
   {
    "duration": 28,
    "start_time": "2022-05-25T17:08:41.698Z"
   },
   {
    "duration": 182,
    "start_time": "2022-05-25T17:09:54.527Z"
   },
   {
    "duration": 9,
    "start_time": "2022-05-25T17:09:58.719Z"
   },
   {
    "duration": 7,
    "start_time": "2022-05-25T17:10:02.329Z"
   },
   {
    "duration": 10,
    "start_time": "2022-05-25T17:10:07.607Z"
   },
   {
    "duration": 10,
    "start_time": "2022-05-25T17:17:34.380Z"
   },
   {
    "duration": 14,
    "start_time": "2022-05-25T17:17:43.886Z"
   },
   {
    "duration": 6,
    "start_time": "2022-05-25T17:20:02.504Z"
   },
   {
    "duration": 18,
    "start_time": "2022-05-25T17:32:57.571Z"
   },
   {
    "duration": 30,
    "start_time": "2022-05-25T17:33:01.785Z"
   },
   {
    "duration": 9,
    "start_time": "2022-05-25T18:14:12.405Z"
   },
   {
    "duration": 7,
    "start_time": "2022-05-25T18:14:32.442Z"
   },
   {
    "duration": 1222,
    "start_time": "2022-05-26T18:05:02.996Z"
   },
   {
    "duration": 91,
    "start_time": "2022-05-26T18:05:04.220Z"
   },
   {
    "duration": 3,
    "start_time": "2022-05-26T18:05:04.313Z"
   },
   {
    "duration": 17,
    "start_time": "2022-05-26T18:05:04.318Z"
   },
   {
    "duration": 34,
    "start_time": "2022-05-26T18:05:04.337Z"
   },
   {
    "duration": 22,
    "start_time": "2022-05-26T18:05:04.373Z"
   },
   {
    "duration": 36,
    "start_time": "2022-05-26T18:05:04.397Z"
   },
   {
    "duration": 26,
    "start_time": "2022-05-26T18:05:04.435Z"
   },
   {
    "duration": 19,
    "start_time": "2022-05-26T18:05:04.463Z"
   },
   {
    "duration": 61,
    "start_time": "2022-05-26T18:05:04.485Z"
   },
   {
    "duration": 43,
    "start_time": "2022-05-26T18:05:04.548Z"
   },
   {
    "duration": 9,
    "start_time": "2022-05-26T18:05:04.593Z"
   },
   {
    "duration": 54,
    "start_time": "2022-05-26T18:05:04.604Z"
   },
   {
    "duration": 150,
    "start_time": "2022-05-26T18:05:04.659Z"
   },
   {
    "duration": 10,
    "start_time": "2022-05-26T18:05:04.811Z"
   },
   {
    "duration": 27,
    "start_time": "2022-05-26T18:05:04.825Z"
   },
   {
    "duration": 141,
    "start_time": "2022-05-26T18:05:04.854Z"
   },
   {
    "duration": 19,
    "start_time": "2022-05-26T18:05:04.997Z"
   },
   {
    "duration": 27,
    "start_time": "2022-05-26T18:05:05.026Z"
   },
   {
    "duration": 11,
    "start_time": "2022-05-26T18:05:05.055Z"
   },
   {
    "duration": 603,
    "start_time": "2022-05-26T18:05:05.067Z"
   },
   {
    "duration": 14,
    "start_time": "2022-05-26T18:05:05.672Z"
   },
   {
    "duration": 9,
    "start_time": "2022-05-26T18:05:05.688Z"
   },
   {
    "duration": 33,
    "start_time": "2022-05-26T18:05:05.698Z"
   },
   {
    "duration": 57,
    "start_time": "2022-05-26T18:05:05.732Z"
   },
   {
    "duration": 178,
    "start_time": "2022-05-26T18:05:05.791Z"
   },
   {
    "duration": 11,
    "start_time": "2022-05-26T18:05:05.971Z"
   },
   {
    "duration": 100,
    "start_time": "2022-05-26T18:05:05.985Z"
   },
   {
    "duration": 23,
    "start_time": "2022-05-26T18:05:06.087Z"
   },
   {
    "duration": 32,
    "start_time": "2022-05-26T18:05:06.111Z"
   },
   {
    "duration": 190,
    "start_time": "2022-05-26T18:05:06.145Z"
   },
   {
    "duration": 24,
    "start_time": "2022-05-26T18:05:06.338Z"
   },
   {
    "duration": 12,
    "start_time": "2022-05-26T18:05:06.364Z"
   },
   {
    "duration": 170,
    "start_time": "2022-05-26T18:05:06.377Z"
   },
   {
    "duration": 12,
    "start_time": "2022-05-26T18:05:06.549Z"
   },
   {
    "duration": 19,
    "start_time": "2022-05-26T18:05:06.563Z"
   },
   {
    "duration": 423,
    "start_time": "2022-05-26T18:05:06.584Z"
   },
   {
    "duration": 3,
    "start_time": "2022-05-26T18:05:07.009Z"
   },
   {
    "duration": 405,
    "start_time": "2022-05-26T18:05:07.013Z"
   },
   {
    "duration": 432,
    "start_time": "2022-05-26T18:05:32.798Z"
   },
   {
    "duration": 48,
    "start_time": "2022-05-26T18:17:05.223Z"
   }
  ],
  "kernelspec": {
   "display_name": "Python 3 (ipykernel)",
   "language": "python",
   "name": "python3"
  },
  "language_info": {
   "codemirror_mode": {
    "name": "ipython",
    "version": 3
   },
   "file_extension": ".py",
   "mimetype": "text/x-python",
   "name": "python",
   "nbconvert_exporter": "python",
   "pygments_lexer": "ipython3",
   "version": "3.9.7"
  },
  "toc": {
   "base_numbering": 1,
   "nav_menu": {},
   "number_sections": true,
   "sideBar": true,
   "skip_h1_title": true,
   "title_cell": "Содержание",
   "title_sidebar": "Contents",
   "toc_cell": true,
   "toc_position": {
    "height": "671.818px",
    "left": "26px",
    "top": "137.051px",
    "width": "331.438px"
   },
   "toc_section_display": true,
   "toc_window_display": false
  }
 },
 "nbformat": 4,
 "nbformat_minor": 2
}
